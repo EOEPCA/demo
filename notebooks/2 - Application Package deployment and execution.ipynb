{
 "cells": [
  {
   "cell_type": "markdown",
   "metadata": {},
   "source": [
    "## ADES demonstration - OGC API Processes \n",
    "Deploy a CWL application package as a WPS processing service and submit an execution request"
   ]
  },
  {
   "cell_type": "code",
   "execution_count": null,
   "metadata": {},
   "outputs": [],
   "source": [
    "import requests\n",
    "import os\n",
    "import getpass\n",
    "import json\n",
    "import yaml\n",
    "from time import sleep"
   ]
  },
  {
   "cell_type": "markdown",
   "metadata": {},
   "source": [
    "### Discover application published in the Resource Catalogue"
   ]
  },
  {
   "cell_type": "code",
   "execution_count": null,
   "metadata": {},
   "outputs": [],
   "source": [
    "# Resource Catalogue endpoint\n",
    "# ---------------------------\n",
    "rm_endpoint = 'https://catalog.terradue.com/eoepca-services/search'\n",
    "# ---------------------------\n",
    "\n",
    "# Query the resource manager catalog to discover the application package\n",
    "# ----------------------------------------------------------------------\n",
    "application_package_id = \"e563cc5596b02a189277de6228a9e2af\"  # the one we just published ourselves\n",
    "payload = {'uid': application_package_id,'format': 'json'}\n",
    "r = requests.get(rm_endpoint, params=payload)\n",
    "print(r.status_code, r.reason)\n",
    "\n",
    "# Receive OpenSearch query response as json\n",
    "response = r.json()\n",
    "\n",
    "# The Application Package is extracted from the response 'offering'\n",
    "application_package = yaml.safe_load(response['features'][0]['properties']['offering']['content']['#text'])"
   ]
  },
  {
   "cell_type": "markdown",
   "metadata": {},
   "source": [
    "### Deploy the process - (POST /processes)"
   ]
  },
  {
   "cell_type": "code",
   "execution_count": null,
   "metadata": {},
   "outputs": [],
   "source": [
    "# ADES endpoint\n",
    "# -------------\n",
    "endpoint = 'http://proc-ades.test.192.168.49.2.nip.io'\n",
    "# -------------\n",
    "\n",
    "# Prepare the request\n",
    "token = \"eyJhbGciOiJIUzI1NiIsImtpZCI6IlJTQTEifQ.eyJhY3RpdmUiOnRydWUsImV4cCI6MTU5MzUxNTU2NSwiaWF0IjoxNTkzNTExOTY1LCJuYmYiOm51bGwsInBlcm1pc3Npb25zIjpbeyJyZXNvdXJjZV9pZCI6ImI3Y2FkZTVjLTM3MmYtNGM4Ny1iZTgyLWE3OTU2NDk4ZTcyOSIsInJlc291cmNlX3Njb3BlcyI6WyJBdXRoZW50aWNhdGVkIiwib3BlbmlkIl0sImV4cCI6MTU5MzUxNTU2NCwicGFyYW1zIjpudWxsfV0sImNsaWVudF9pZCI6IjYxY2UyOGQ1LWFhMTYtNGRkYy04NDJmLWZjYzE1OGQzMTVmYSIsInN1YiI6bnVsbCwiYXVkIjoiNjFjZTI4ZDUtYWExNi00ZGRjLTg0MmYtZmNjMTU4ZDMxNWZhIiwiaXNzIjpudWxsLCJqdGkiOm51bGwsInBjdF9jbGFpbXMiOnsiYXVkIjpbIjYxY2UyOGQ1LWFhMTYtNGRkYy04NDJmLWZjYzE1OGQzMTVmYSJdLCJzdWIiOlsiZWIzMTQyMWUtMGEyZS00OTBmLWJiYWYtMDk3MWE0ZTliNzhhIl0sInVzZXJfbmFtZSI6WyJyaWNvbndheSJdLCJpc3MiOlsiaHR0cHM6Ly9lb2VwY2EtZGV2LmRlaW1vcy1zcGFjZS5jb20iXSwiZXhwIjpbIjE1OTM1MTU1NjQiXSwiaWF0IjpbIjE1OTM1MTE5NjQiXSwib3hPcGVuSURDb25uZWN0VmVyc2lvbiI6WyJvcGVuaWRjb25uZWN0LTEuMCJdfX0.d5qeaqLfl0oh9KigVrM_lT1hZMaOzQBFB7jjaKI3PjE\"\n",
    "deploy_headers = {'Authorization': f'Bearer {token}', 'Content-Type': 'application/json', 'Accept': 'application/json', 'Prefer': 'respond-async'}\n",
    "# Request body defined by 'OGC API Processes'\n",
    "deploy_payload = {'inputs': [{'id': 'applicationPackage',\n",
    "                              'input': {'format': {'mimeType': 'application/xml'},\n",
    "                                        'value': {'href': f'https://catalog.terradue.com/eoepca-services/search?uid={application_package_id}'}}}],\n",
    "                  'outputs': [{'format': {'mimeType': 'string',\n",
    "                                          'schema': 'string',\n",
    "                                          'encoding': 'string'},\n",
    "                               'id': 'deployResult',\n",
    "                               'transmissionMode': 'value'}],\n",
    "                  'mode': 'auto',\n",
    "                  'response': 'raw'}\n",
    "\n",
    "# OGC API Processes - deploy the application to the ADES\n",
    "r = requests.post(f'{endpoint}/wps3/processes', json=deploy_payload, headers=deploy_headers)\n",
    "print(r.status_code, r.reason)"
   ]
  },
  {
   "cell_type": "markdown",
   "metadata": {},
   "source": [
    "### Check our application is deployed - (GET /processes)"
   ]
  },
  {
   "cell_type": "code",
   "execution_count": null,
   "metadata": {},
   "outputs": [],
   "source": [
    "headers = {'Authorization': f'Bearer {token}','Content-Type': 'application/json', 'Accept': 'application/json'}\n",
    "# OGC API Processes - list\n",
    "# ------------------------\n",
    "r = requests.get(f'{endpoint}/wps3/processes', headers=headers)\n",
    "# ------------------------\n",
    "print(r.status_code, r.reason)\n",
    "\n",
    "# Interpret json response body\n",
    "response = r.json()\n",
    "for process in response['processes']:\n",
    "    print('Process id: {}\\n{} - {}\\n'.format(process['id'], process['title'], process['abstract']))"
   ]
  },
  {
   "cell_type": "markdown",
   "metadata": {},
   "source": [
    "### Check application details - (GET /processes/{id})\n",
    "Need to understand application inputs in order to prepare our execute request"
   ]
  },
  {
   "cell_type": "code",
   "execution_count": null,
   "metadata": {},
   "outputs": [],
   "source": [
    "process_id = 'vegetation_index_'\n",
    "# OGC API Processes - details\n",
    "# ---------------------------\n",
    "r = requests.get(f'{endpoint}/wps3/processes/{process_id}', headers=headers)\n",
    "# ---------------------------\n",
    "print(r.status_code, r.reason)\n",
    "\n",
    "# Interpret json response body\n",
    "response = r.json()\n",
    "inputs = response['process']['inputs']\n",
    "print(json.dumps(inputs, indent=2))"
   ]
  },
  {
   "cell_type": "markdown",
   "metadata": {},
   "source": [
    "### Execute - (POST /processes/{id}/jobs)"
   ]
  },
  {
   "cell_type": "code",
   "execution_count": null,
   "metadata": {},
   "outputs": [],
   "source": [
    "# Prepare the request\n",
    "process_id = 'vegetation_index_'\n",
    "execution_headers = {'Authorization': f'Bearer {token}', 'Content-Type': 'application/json', 'Accept': 'application/json', 'Prefer': 'respond-async'}\n",
    "# Request body defined by 'OGC API Processes'\n",
    "# - input data by reference to catalogue record\n",
    "# - area-of-interest defined by WKT POLYGON (Kangaroo Island)\n",
    "execute_request = {'inputs': [{'id': 'input_reference',\n",
    "                               'input': {'dataType': {'name': 'string'},\n",
    "                                         'value': 'https://catalog.terradue.com/sentinel2/search?uid=S2A_MSIL2A_20191216T004701_N0213_R102_T53HPA_20191216T024808'}},\n",
    "                              {'id': 'aoi',\n",
    "                               'input': {'dataType': {'name': 'string'},\n",
    "                                         'value': 'POLYGON((136.112726861895 -36.227897298303,137.333826362695 -36.2103069464338,137.305145407058 -35.2211228310596,136.099040812374 -35.2380875358202,136.112726861895 -36.227897298303))'}}],\n",
    "                   'outputs': [{'format': {'mimeType': 'string',\n",
    "                                           'schema': 'string',\n",
    "                                           'encoding': 'string'},\n",
    "                                'id': 'wf_output',\n",
    "                                'transmissionMode': 'value'}],\n",
    "                   'mode': 'async',\n",
    "                   'response': 'raw'}\n",
    "\n",
    "# OGC API Processes - submit execution request to the ADES\n",
    "r = requests.post(f'{endpoint}/wps3/processes/{process_id}/jobs', json=execute_request, headers=execution_headers)\n",
    "print(r.status_code, r.reason)\n",
    "job_location = r.headers['Location']\n",
    "print(f\"Job status monitor = {job_location}\")"
   ]
  },
  {
   "cell_type": "markdown",
   "metadata": {},
   "source": [
    "### Monitor job status - (GET /processes/{id}/jobs/{job_id})"
   ]
  },
  {
   "cell_type": "markdown",
   "metadata": {},
   "source": [
    "#### Quick check..."
   ]
  },
  {
   "cell_type": "code",
   "execution_count": null,
   "metadata": {},
   "outputs": [],
   "source": [
    "r = requests.get(f'{endpoint}{job_location}', headers=headers)\n",
    "print(r.status_code, r.reason)\n",
    "response = r.json()\n",
    "print(json.dumps(response, indent=2))"
   ]
  },
  {
   "cell_type": "markdown",
   "metadata": {},
   "source": [
    "#### Poll status and wait for completion"
   ]
  },
  {
   "cell_type": "code",
   "execution_count": null,
   "metadata": {},
   "outputs": [],
   "source": [
    "while response['status'] == 'running':\n",
    "    r = requests.get(f'{endpoint}{job_location}', headers=headers)\n",
    "    response = r.json()\n",
    "    if response['status'] == 'failed': \n",
    "        print(response)\n",
    "        break\n",
    "    if response['status'] == 'successful':  \n",
    "        print(response['links'][0]['href'])\n",
    "        break\n",
    "    else:\n",
    "        print('Polling - {}'.format(response['status']))\n",
    "        sleep(30)"
   ]
  },
  {
   "cell_type": "markdown",
   "metadata": {},
   "source": [
    "### Processing Results - (GET /processes/{id}/jobs/{job_id}/result)"
   ]
  },
  {
   "cell_type": "code",
   "execution_count": null,
   "metadata": {},
   "outputs": [],
   "source": [
    "# Request the results\n",
    "# -------------------\n",
    "r = requests.get(f'{endpoint}/{job_location}/result', headers=headers)\n",
    "# -------------------\n",
    "print(r.status_code, r.reason)\n",
    "\n",
    "# Interpret the response\n",
    "response = r.json()\n",
    "results = json.loads(response['outputs'][0]['value']['inlineValue'])\n",
    "print(json.dumps(results, indent=2))\n",
    "stac_catalog_endpoint = results['stac:catalog']['href']\n",
    "print(f\"STAC catalogue results index = {stac_catalog_endpoint}\")"
   ]
  }
 ],
 "metadata": {
  "kernelspec": {
   "display_name": "EOPECA-demo",
   "language": "python",
   "name": "eopeca-demo"
  },
  "language_info": {
   "codemirror_mode": {
    "name": "ipython",
    "version": 3
   },
   "file_extension": ".py",
   "mimetype": "text/x-python",
   "name": "python",
   "nbconvert_exporter": "python",
   "pygments_lexer": "ipython3",
   "version": "3.9.0"
  }
 },
 "nbformat": 4,
 "nbformat_minor": 4
}
