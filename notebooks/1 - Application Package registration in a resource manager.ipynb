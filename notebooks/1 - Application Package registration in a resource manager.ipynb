{
 "cells": [
  {
   "cell_type": "markdown",
   "metadata": {},
   "source": [
    "## Application Package publication on Resource Manager\n",
    "\n",
    "Register a CWL application package in a resource manager catalog"
   ]
  },
  {
   "cell_type": "code",
   "execution_count": null,
   "metadata": {},
   "outputs": [],
   "source": [
    "import sys\n",
    "import yaml\n",
    "import os\n",
    "from utils.helpers import Atom\n",
    "from lxml import etree\n",
    "import datetime\n",
    "import hashlib\n",
    "import getpass\n",
    "import requests\n",
    "from requests.auth import HTTPBasicAuth\n",
    "%load_ext autoreload\n",
    "%autoreload 2"
   ]
  },
  {
   "cell_type": "markdown",
   "metadata": {},
   "source": [
    "### Common Workflow Language (CWL) application package\n",
    "Loaded from file"
   ]
  },
  {
   "cell_type": "code",
   "execution_count": null,
   "metadata": {},
   "outputs": [],
   "source": [
    "# CWL file defining the application\n",
    "# ---------------------------------\n",
    "application_package = '../data/s-expression-cwl.cwl'\n",
    "# ---------------------------------\n",
    "with open(application_package, 'r') as stream:\n",
    "    try:\n",
    "        cwl = yaml.safe_load(stream)\n",
    "        stream.seek(0)\n",
    "        cwl_content = ''.join(stream.readlines())\n",
    "    except yaml.YAMLError as exc:\n",
    "        raise"
   ]
  },
  {
   "cell_type": "markdown",
   "metadata": {},
   "source": [
    "Wrap the CWL definition in ATOM feed"
   ]
  },
  {
   "cell_type": "code",
   "execution_count": null,
   "metadata": {},
   "outputs": [],
   "source": [
    "# unique id for application resource record\n",
    "m = hashlib.md5()\n",
    "m.update(cwl_content.encode('utf-8'))\n",
    "identifier = m.hexdigest()\n",
    "# Create atom representation\n",
    "for elem in cwl['$graph']:\n",
    "    if elem['class'] == 'Workflow':\n",
    "        workflow = elem\n",
    "template = '''<?xml version=\"1.0\"?>\n",
    "<feed xmlns=\"http://www.w3.org/2005/Atom\">\n",
    "  <entry>\n",
    "    <title type=\"text\"></title>\n",
    "    <summary type=\"html\"></summary>\n",
    "    <date xmlns=\"http://purl.org/dc/elements/1.1/\"></date>\n",
    "    <identifier xmlns=\"http://purl.org/dc/elements/1.1/\"></identifier>\n",
    "  </entry>\n",
    "</feed>'''\n",
    "atom_template = Atom(etree.fromstring(template))\n",
    "atom_template.set_identifier(identifier)\n",
    "atom_template.set_title_text(workflow['label'])\n",
    "atom_template.set_summary_text(workflow['doc'])\n",
    "atom_template.set_dcdate(datetime.datetime.now().strftime('%Y-%m-%dT%H:%M:%SZ'))\n",
    "offering = atom_template.create_offering(code='http://www.opengis.net/eoc/applicationContext/cwl',\n",
    "                                         content=cwl_content)\n",
    "atom_template.add_offering(offering)"
   ]
  },
  {
   "cell_type": "markdown",
   "metadata": {},
   "source": [
    "### Publish the application as a record in the Resource Catalogue"
   ]
  },
  {
   "cell_type": "code",
   "execution_count": null,
   "metadata": {},
   "outputs": [],
   "source": [
    "# Resource Catalogue endpoint\n",
    "# ---------------------------\n",
    "rm_endpoint = 'https://catalog.terradue.com/eoepca-services'\n",
    "# ---------------------------\n",
    "# Credentials etc.\n",
    "username = 'rconway'\n",
    "api_key = \"AKCp8hyEYSMqk4swUndyCDVZW7g3XFYfvE2xVFQEdYagJLqVJY1qKbXcmStLoUFEyEhL5tKcY\"\n",
    "headers = {'Content-Type': 'application/atom+xml','Accept': 'application/json'}\n",
    "auth = HTTPBasicAuth(username, api_key)\n",
    "\n",
    "# Publish (POST) to the Resource Catalogue\n",
    "# ----------------------------------------\n",
    "r = requests.post(rm_endpoint, data=atom_template.to_string().decode('utf-8'), headers=headers, auth=auth)\n",
    "# ----------------------------------------\n",
    "print(r.status_code, r.reason)"
   ]
  },
  {
   "cell_type": "markdown",
   "metadata": {},
   "source": [
    "Save it for future reference:"
   ]
  },
  {
   "cell_type": "code",
   "execution_count": null,
   "metadata": {},
   "outputs": [],
   "source": [
    "with open('s-expression.xml', 'w') as f:\n",
    "    f.write(b'<?xml version=\"1.0\" encoding=\"UTF-8\"?>\\n'.decode('utf-8'))\n",
    "    f.write(etree.tostring(atom_template.root, \n",
    "                           pretty_print=True).decode('utf-8'))"
   ]
  }
 ],
 "metadata": {
  "kernelspec": {
   "display_name": "Python 3",
   "language": "python",
   "name": "python3"
  },
  "language_info": {
   "codemirror_mode": {
    "name": "ipython",
    "version": 3
   },
   "file_extension": ".py",
   "mimetype": "text/x-python",
   "name": "python",
   "nbconvert_exporter": "python",
   "pygments_lexer": "ipython3",
   "version": "3.8.8"
  }
 },
 "nbformat": 4,
 "nbformat_minor": 4
}
