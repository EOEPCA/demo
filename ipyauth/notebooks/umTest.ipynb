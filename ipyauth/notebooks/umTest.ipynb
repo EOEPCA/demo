{
 "cells": [
  {
   "cell_type": "code",
   "execution_count": 1,
   "metadata": {},
   "outputs": [],
   "source": [
    "from ipyauth import Auth, ParamsEoepca\n",
    "p = ParamsEoepca(\n",
    "    redirect_uri=\"test.185.52.193.87.nip.io/callback.html\",\n",
    "    display=\"popup\",\n",
    "    response_type=\"id_token token\",\n",
    "    scope=\"openid profile\",\n",
    "    client_id=\"c00c65cd-18c5-4514-9c6c-aac49f217c4e\",\n",
    "    nonce=\"asohuasgasdgas79astgasgas\",\n",
    "    response_mode=\"query\"\n",
    "    )\n",
    "a = Auth(params=p)\n",
    "a"
   ]
  },
  {
   "cell_type": "code",
   "execution_count": 0,
   "metadata": {},
   "outputs": [],
   "source": [
    "a.access_token"
   ]
  }
 ],
 "metadata": {
  "kernelspec": {
   "display_name": "Python 2",
   "language": "python",
   "name": "python2"
  },
  "language_info": {
   "codemirror_mode": {
    "name": "ipython",
    "version": 2
   },
   "file_extension": ".py",
   "mimetype": "text/x-python",
   "name": "python",
   "nbconvert_exporter": "python",
   "pygments_lexer": "ipython2",
   "version": "2.7.5"
  }
 },
 "nbformat": 4,
 "nbformat_minor": 2
}