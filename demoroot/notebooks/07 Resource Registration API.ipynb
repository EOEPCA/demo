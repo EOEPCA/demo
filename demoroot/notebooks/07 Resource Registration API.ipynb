{
 "cells": [
  {
   "cell_type": "markdown",
   "id": "1bf2ae20-65b1-4fb2-9538-98c3068757b6",
   "metadata": {},
   "source": [
    "## Registration API demo (v2.x)"
   ]
  },
  {
   "cell_type": "code",
   "execution_count": null,
   "id": "78055bf8-20a7-4041-92eb-39afb71bf041",
   "metadata": {},
   "outputs": [],
   "source": [
    "import requests\n",
    "import time\n",
    "import json"
   ]
  },
  {
   "cell_type": "code",
   "execution_count": null,
   "id": "8ad9c204-3f51-426a-acbc-2413fd41351b",
   "metadata": {},
   "outputs": [],
   "source": [
    "base_domain = \"develop.eoepca.org\"\n",
    "registration_endpoint = f'https://registration-api.{base_domain}'"
   ]
  },
  {
   "cell_type": "markdown",
   "id": "ceb940d3-fde1-4fee-ab29-ece4a714ef4f",
   "metadata": {
    "jp-MarkdownHeadingCollapsed": true
   },
   "source": [
    "### Interacting with the Resource Catalogue"
   ]
  },
  {
   "cell_type": "markdown",
   "id": "289a8d69-8d9a-407e-8f4c-bd684327a4a1",
   "metadata": {},
   "source": [
    "We will now register a STAC Item in the Registration API using OGC API - Processes"
   ]
  },
  {
   "cell_type": "code",
   "execution_count": null,
   "id": "122a2c5f-dd40-4c85-a6ce-574a6a2cc929",
   "metadata": {},
   "outputs": [],
   "source": [
    "json_dict={\n",
    "    \"inputs\": {\n",
    "        \"source\": {\n",
    "          \"href\": \"https://raw.githubusercontent.com/stac-utils/stac-examples/refs/heads/main/sentinel2/sentinel2-sample.json\",\n",
    "          \"rel\": \"item\"\n",
    "        },\n",
    "        \"target\": {\n",
    "          \"href\": \"https://resource-catalogue.develop.eoepca.org\",\n",
    "          \"rel\": \"http://www.opengis.net/spec/ogcapi-records-1/1.0\"\n",
    "        }\n",
    "    }\n",
    "}"
   ]
  },
  {
   "cell_type": "code",
   "execution_count": null,
   "id": "237ad86a-ac26-4d7d-9258-71dce7aad1a1",
   "metadata": {},
   "outputs": [],
   "source": [
    "response = requests.post(\n",
    "    f\"{registration_endpoint}/processes/register/execution\",\n",
    "    json=json_dict\n",
    ")\n",
    "response.raise_for_status()\n",
    "response"
   ]
  },
  {
   "cell_type": "markdown",
   "id": "a8e6bd44-82cb-42aa-9256-7cc168a84fb7",
   "metadata": {},
   "source": [
    "Check if the STAC Item is actually registered:"
   ]
  },
  {
   "cell_type": "code",
   "execution_count": null,
   "id": "52bcd95a-eda0-42de-b3aa-7d6339de29a7",
   "metadata": {},
   "outputs": [],
   "source": [
    "time.sleep(1)\n",
    "response = requests.get(f\"https://resource-catalogue.{base_domain}/stac/collections/metadata:main/items/S2A_OPER_MSI_L2A_TL_SGS__20180524T190423_A015250_T26SKD_N02.08\", headers=dict(f=\"json\"))\n",
    "response.raise_for_status()\n",
    "response.json()"
   ]
  },
  {
   "cell_type": "markdown",
   "id": "1df72ee4-40f8-416c-9596-a08312918733",
   "metadata": {},
   "source": [
    "We will now unregister the STAC Item"
   ]
  },
  {
   "cell_type": "code",
   "execution_count": null,
   "id": "155c2b89-75a9-4bbc-a3df-fa572c968d0c",
   "metadata": {},
   "outputs": [],
   "source": [
    "json_dict={\n",
    "    \"inputs\": {\n",
    "        \"id\": \"S2A_OPER_MSI_L2A_TL_SGS__20180524T190423_A015250_T26SKD_N02.08\",\n",
    "        \"collection\": \"metadata:main\",\n",
    "        \"rel\": \"item\",\n",
    "        \"target\": {\n",
    "            \"href\": \"https://resource-catalogue.develop.eoepca.org\",\n",
    "            \"rel\": \"http://www.opengis.net/spec/ogcapi-records-1/1.0\"\n",
    "        }\n",
    "    }\n",
    "}"
   ]
  },
  {
   "cell_type": "code",
   "execution_count": null,
   "id": "6db98dd0-605e-40a8-93e4-19fa1ad7bd33",
   "metadata": {},
   "outputs": [],
   "source": [
    "response = requests.post(\n",
    "    f\"{registration_endpoint}/processes/deregister/execution\",\n",
    "    json=json_dict\n",
    ")\n",
    "response.raise_for_status()\n",
    "response"
   ]
  },
  {
   "cell_type": "markdown",
   "id": "2b957803-8990-4a2d-994d-5b622f9091b8",
   "metadata": {},
   "source": [
    "Check if the STAC Item is actually unregistered:"
   ]
  },
  {
   "cell_type": "code",
   "execution_count": null,
   "id": "f6d0bf2c-2fc0-4c2e-b4e7-9d762acb7ede",
   "metadata": {},
   "outputs": [],
   "source": [
    "time.sleep(1)\n",
    "response = requests.get(f\"https://resource-catalogue.{base_domain}/stac/collections/metadata:main/items/S2A_OPER_MSI_L2A_TL_SGS__20180524T190423_A015250_T26SKD_N02.08\", headers=dict(f=\"json\"))\n",
    "#response.raise_for_status()\n",
    "response.json()"
   ]
  },
  {
   "cell_type": "markdown",
   "id": "7f3249d8-c2b4-42a9-830c-748847a87bff",
   "metadata": {},
   "source": [
    "We will now register a Record representing a workflow/process through Registration API"
   ]
  },
  {
   "cell_type": "code",
   "execution_count": null,
   "id": "a5bab510-95a2-4818-b006-a717ad1c3d15",
   "metadata": {
    "jupyter": {
     "source_hidden": true
    }
   },
   "outputs": [],
   "source": [
    "json_dict={\n",
    "  \"inputs\": {\n",
    "    \"source\": {\n",
    "        \"content\": {\n",
    "          \"id\": \"worldcereal_inference\",\n",
    "          \"type\": \"Feature\",\n",
    "          \"conformsTo\": [\n",
    "            \"http://www.opengis.net/spec/ogcapi-records-1/1.0/req/record-core\"\n",
    "          ],\n",
    "          \"geometry\": None,\n",
    "          \"properties\": {\n",
    "            \"created\": \"2024-05-17T00:00:00Z\",\n",
    "            \"updated\": \"2024-05-17T00:00:00Z\",\n",
    "            \"type\": \"process\",\n",
    "            \"title\": \"ESA worldcereal global maize detector\",\n",
    "            \"description\": \"A maize detection algorithm.\",\n",
    "            \"cost_estimate\": 0.1,\n",
    "            \"cost_unit\": \"platform credits per km²\",\n",
    "            \"keywords\": [\n",
    "              \"agriculture\",\n",
    "              \"crops\",\n",
    "              \"apex_algorithm\"\n",
    "            ],\n",
    "            \"language\": {\n",
    "              \"code\": \"en-US\",\n",
    "              \"name\": \"English (United States)\"\n",
    "            },\n",
    "            \"languages\": [\n",
    "              {\n",
    "                \"code\": \"en-US\",\n",
    "                \"name\": \"English (United States)\"\n",
    "              }\n",
    "            ],\n",
    "            \"contacts\": [\n",
    "              {\n",
    "                \"name\": \"Kristof Van Tricht\",\n",
    "                \"position\": \"Researcher\",\n",
    "                \"organization\": \"VITO\",\n",
    "                \"links\": [\n",
    "                  {\n",
    "                    \"href\": \"https://www.vito.be/\",\n",
    "                    \"rel\": \"about\",\n",
    "                    \"type\": \"text/html\"\n",
    "                  },\n",
    "                  {\n",
    "                    \"href\": \"https://github.com/kvantricht\",\n",
    "                    \"rel\": \"about\",\n",
    "                    \"type\": \"text/html\"\n",
    "                  }\n",
    "                ],\n",
    "                \"contactInstructions\": \"Contact via VITO\",\n",
    "                \"roles\": [\n",
    "                  \"principal investigator\"\n",
    "                ]\n",
    "              },\n",
    "              {\n",
    "                \"name\": \"VITO\",\n",
    "                \"links\": [\n",
    "                  {\n",
    "                    \"href\": \"https://www.vito.be/\",\n",
    "                    \"rel\": \"about\",\n",
    "                    \"type\": \"text/html\"\n",
    "                  }\n",
    "                ],\n",
    "                \"contactInstructions\": \"SEE WEBSITE\",\n",
    "                \"roles\": [\n",
    "                  \"processor\"\n",
    "                ]\n",
    "              }\n",
    "            ],\n",
    "            \"themes\": [\n",
    "              {\n",
    "                \"concepts\": [\n",
    "                  {\n",
    "                    \"id\": \"AGRICULTURE\"\n",
    "                  },\n",
    "                  {\n",
    "                    \"id\": \"FIELD CROP PRODUCTS\"\n",
    "                  }\n",
    "                ],\n",
    "                \"scheme\": \"https://gcmd.earthdata.nasa.gov/kms/concepts/concept_scheme/sciencekeywords\"\n",
    "              }\n",
    "            ],\n",
    "            \"formats\": [\n",
    "              {\n",
    "                \"name\": \"GeoTiff\"\n",
    "              }\n",
    "            ],\n",
    "            \"license\": \"other\"\n",
    "          },\n",
    "          \"linkTemplates\": [],\n",
    "          \"links\": [\n",
    "            {\n",
    "              \"rel\": \"openeo-process\",\n",
    "              \"type\": \"application/json\",\n",
    "              \"title\": \"openEO Process Definition\",\n",
    "              \"href\": \"https://github.com/ESA-APEX/apex_algorithms/blob/main/openeo_udp/worldcereal_inference.json\"\n",
    "            },\n",
    "            {\n",
    "              \"rel\": \"git\",\n",
    "              \"type\": \"application/json\",\n",
    "              \"title\": \"Git source repository\",\n",
    "              \"href\": \"https://github.com/WorldCereal/worldcereal-classification.git\"\n",
    "            },\n",
    "            {\n",
    "              \"rel\": \"service\",\n",
    "              \"type\": \"application/json\",\n",
    "              \"title\": \"CDSE openEO federation\",\n",
    "              \"href\": \"https://openeofed.dataspace.copernicus.eu/\"\n",
    "            },\n",
    "            {\n",
    "              \"rel\": \"license\",\n",
    "              \"href\": \"https://apex.esa.int/license\"\n",
    "            }\n",
    "          ]\n",
    "        },\n",
    "        \"rel\": \"item\"\n",
    "    },\n",
    "    \"target\": {\n",
    "        \"href\": \"https://resource-catalogue.develop.eoepca.org/\",\n",
    "        \"rel\": \"http://www.opengis.net/spec/ogcapi-records-1/1.0\"\n",
    "    }\n",
    "  }\n",
    "}"
   ]
  },
  {
   "cell_type": "code",
   "execution_count": null,
   "id": "b94f3441-5ecb-41a3-969d-53aeb09657a4",
   "metadata": {},
   "outputs": [],
   "source": [
    "response = requests.post(\n",
    "    f\"{registration_endpoint}/processes/register/execution\",\n",
    "    json=json_dict\n",
    ")\n",
    "response.raise_for_status()\n",
    "response"
   ]
  },
  {
   "cell_type": "markdown",
   "id": "e7b44752-02f1-4fc4-a24c-237ef6548a29",
   "metadata": {},
   "source": [
    "Search for the workflow record with \"type=\" query"
   ]
  },
  {
   "cell_type": "code",
   "execution_count": null,
   "id": "2fe82fb2-380c-4f3e-89be-fafa28609df1",
   "metadata": {},
   "outputs": [],
   "source": [
    "response = requests.get(f\"https://resource-catalogue.{base_domain}/collections/metadata:main/items?type=process\", headers=dict(f=\"json\"))\n",
    "response.raise_for_status()\n",
    "response.json()"
   ]
  },
  {
   "cell_type": "markdown",
   "id": "dc316f0e-2ee7-43b3-b2e3-c98e652b07bc",
   "metadata": {},
   "source": [
    "Check if the Record is actually registered:"
   ]
  },
  {
   "cell_type": "code",
   "execution_count": null,
   "id": "1811f43c-8075-450c-ad5a-aa89ec97f683",
   "metadata": {},
   "outputs": [],
   "source": [
    "time.sleep(1)\n",
    "response = requests.get(f\"https://resource-catalogue.{base_domain}/stac/collections/metadata:main/items/worldcereal_inference\", headers=dict(f=\"json\"))\n",
    "response.raise_for_status()\n",
    "response.json()"
   ]
  },
  {
   "cell_type": "markdown",
   "id": "f8180a63-507e-4675-b364-4cf1fe6d8db1",
   "metadata": {},
   "source": [
    "We will now unregister the Record"
   ]
  },
  {
   "cell_type": "code",
   "execution_count": null,
   "id": "86dddffb-0596-41cb-9715-7fa3a0df1a02",
   "metadata": {},
   "outputs": [],
   "source": [
    "json_dict={\n",
    "    \"inputs\": {\n",
    "        \"id\": \"worldcereal_inference\",\n",
    "        \"rel\": \"item\",\n",
    "        \"target\": {\n",
    "            \"href\": \"https://resource-catalogue.develop.eoepca.org\",\n",
    "            \"rel\": \"http://www.opengis.net/spec/ogcapi-records-1/1.0\"\n",
    "        }\n",
    "    }\n",
    "}"
   ]
  },
  {
   "cell_type": "code",
   "execution_count": null,
   "id": "9de13ee2-1a38-40cb-b5c6-fb0bd98cd6bf",
   "metadata": {},
   "outputs": [],
   "source": [
    "response = requests.post(\n",
    "    f\"{registration_endpoint}/processes/deregister/execution\",\n",
    "    json=json_dict\n",
    ")\n",
    "response.raise_for_status()\n",
    "response"
   ]
  },
  {
   "cell_type": "markdown",
   "id": "05346257-c4f1-4070-9ec0-fd9c65102d8f",
   "metadata": {},
   "source": [
    "Check if the Record is actually unregistered:"
   ]
  },
  {
   "cell_type": "code",
   "execution_count": null,
   "id": "a92c01d3-ee81-40a2-ba20-df69c9231d9d",
   "metadata": {},
   "outputs": [],
   "source": [
    "time.sleep(1)\n",
    "response = requests.get(f\"https://resource-catalogue.{base_domain}/stac/collections/metadata:main/items/worldcereal_inference\", headers=dict(f=\"json\"))\n",
    "#response.raise_for_status()\n",
    "response.json()"
   ]
  },
  {
   "cell_type": "markdown",
   "id": "d0cd7c90-9ff0-4425-85e3-d96b0ab1b648",
   "metadata": {
    "jp-MarkdownHeadingCollapsed": true
   },
   "source": [
    "### Interacting with the Data Catalogue"
   ]
  },
  {
   "cell_type": "markdown",
   "id": "ed71459e-3df4-4ae8-9341-3805201a4ca7",
   "metadata": {},
   "source": [
    "Register a STAC collection to the Data Catalogue"
   ]
  },
  {
   "cell_type": "code",
   "execution_count": null,
   "id": "b7f8ccf9-6bd8-4ecf-bc52-49418bb66d76",
   "metadata": {},
   "outputs": [],
   "source": [
    "json_dict={\n",
    "  \"inputs\": {\n",
    "    \"source\": {\n",
    "      \"href\": \"https://raw.githubusercontent.com/radiantearth/stac-spec/refs/heads/master/examples/collection.json\",\n",
    "      \"rel\": \"collection\"\n",
    "    },\n",
    "    \"target\": {\n",
    "      \"href\": \"https://eoapi.develop.eoepca.org/stac\",\n",
    "      \"rel\": \"https://api.stacspec.org/v1.0.0/core\"\n",
    "    }\n",
    "  }\n",
    "}"
   ]
  },
  {
   "cell_type": "code",
   "execution_count": null,
   "id": "0c68671e-c1a0-4118-b81a-d698216fbc80",
   "metadata": {},
   "outputs": [],
   "source": [
    "response = requests.post(\n",
    "    f\"{registration_endpoint}/processes/register/execution\",\n",
    "    json=json_dict\n",
    ")\n",
    "response.raise_for_status()\n",
    "response"
   ]
  },
  {
   "cell_type": "markdown",
   "id": "8e4dcfb6-9096-4654-a179-2f83e6c9e0dd",
   "metadata": {},
   "source": [
    "Register a STAC item to the above collection"
   ]
  },
  {
   "cell_type": "code",
   "execution_count": null,
   "id": "f3ea50ed-1532-4281-b892-79b321065bf2",
   "metadata": {},
   "outputs": [],
   "source": [
    "json_dict={\n",
    "  \"inputs\": {\n",
    "    \"source\": {\n",
    "      \"href\": \"https://raw.githubusercontent.com/radiantearth/stac-spec/refs/heads/master/examples/simple-item.json\",\n",
    "      \"rel\": \"item\"\n",
    "    },\n",
    "    \"target\": {\n",
    "      \"href\": \"https://eoapi.develop.eoepca.org/stac\",\n",
    "      \"rel\": \"https://api.stacspec.org/v1.0.0/core\",\n",
    "      \"collection\": \"simple-collection\"\n",
    "    }\n",
    "  }\n",
    "}"
   ]
  },
  {
   "cell_type": "code",
   "execution_count": null,
   "id": "29494e92-07ff-4498-b96b-3a0296574a6f",
   "metadata": {},
   "outputs": [],
   "source": [
    "response = requests.post(\n",
    "    f\"{registration_endpoint}/processes/register/execution\",\n",
    "    json=json_dict\n",
    ")\n",
    "response.raise_for_status()\n",
    "response"
   ]
  },
  {
   "cell_type": "markdown",
   "id": "1a53c242-1337-4e59-be52-6da1b85c2e2d",
   "metadata": {},
   "source": [
    "Deregister the STAC item"
   ]
  },
  {
   "cell_type": "code",
   "execution_count": null,
   "id": "741f2ef0-d20c-4c8e-9065-ae7204235332",
   "metadata": {},
   "outputs": [],
   "source": [
    "json_dict={\n",
    "  \"inputs\": {\n",
    "    \"id\": \"20201211_223832_CS2\",\n",
    "    \"rel\": \"item\",\n",
    "    \"collection\": \"simple-collection\",\n",
    "    \"target\": {\n",
    "      \"href\": \"https://eoapi.develop.eoepca.org/stac\",\n",
    "      \"rel\": \"https://api.stacspec.org/v1.0.0/core\"\n",
    "    }\n",
    "  }\n",
    "}"
   ]
  },
  {
   "cell_type": "code",
   "execution_count": null,
   "id": "24ef8d6f-a96a-4c5b-82a8-db97511636ba",
   "metadata": {},
   "outputs": [],
   "source": [
    "response = requests.post(\n",
    "    f\"{registration_endpoint}/processes/deregister/execution\",\n",
    "    json=json_dict\n",
    ")\n",
    "response.raise_for_status()\n",
    "response"
   ]
  },
  {
   "cell_type": "markdown",
   "id": "b5b3ff80-e0cd-4c41-9d93-6ff04b69e3e1",
   "metadata": {},
   "source": [
    "Deregister the STAC collection"
   ]
  },
  {
   "cell_type": "code",
   "execution_count": null,
   "id": "31c049d5-e826-453a-afa0-2772f81ac8c8",
   "metadata": {},
   "outputs": [],
   "source": [
    "json_dict={\n",
    "  \"inputs\": {\n",
    "    \"id\": \"simple-collection\",\n",
    "    \"rel\": \"collection\",\n",
    "    \"target\": {\n",
    "      \"href\": \"https://eoapi.develop.eoepca.org/stac\",\n",
    "      \"rel\": \"https://api.stacspec.org/v1.0.0/core\"\n",
    "    }\n",
    "  }\n",
    "}"
   ]
  },
  {
   "cell_type": "code",
   "execution_count": null,
   "id": "4445997c-49e7-4820-be1c-e212076d6cd7",
   "metadata": {},
   "outputs": [],
   "source": [
    "response = requests.post(\n",
    "    f\"{registration_endpoint}/processes/deregister/execution\",\n",
    "    json=json_dict\n",
    ")\n",
    "response.raise_for_status()\n",
    "response"
   ]
  },
  {
   "cell_type": "markdown",
   "id": "68292349-1dab-4beb-a6ad-02234bdb99ab",
   "metadata": {
    "jp-MarkdownHeadingCollapsed": true
   },
   "source": [
    "## Registration API demo (v1.x)"
   ]
  },
  {
   "cell_type": "markdown",
   "id": "62113a92-c640-47e8-b1bd-259b796d2fcc",
   "metadata": {},
   "source": [
    "This is an example on how to use the EOEPCA Registration API to register metadata records in the Resource Catalogue."
   ]
  },
  {
   "cell_type": "code",
   "execution_count": null,
   "id": "2023cadc-3388-41c9-9056-0b5b2e155939",
   "metadata": {},
   "outputs": [],
   "source": [
    "import requests\n",
    "import datetime\n",
    "import time\n",
    "import json"
   ]
  },
  {
   "cell_type": "code",
   "execution_count": null,
   "id": "8cfd74e3-9f76-4c66-9822-1318fb140c2e",
   "metadata": {},
   "outputs": [],
   "source": [
    "base_domain = \"develop.eoepca.org\"\n",
    "registration_endpoint = f'https://registration-api-v1x.{base_domain}'"
   ]
  },
  {
   "cell_type": "markdown",
   "id": "d451b4a7-932e-494d-9636-2541932c9d18",
   "metadata": {},
   "source": [
    "We will now register an ADES instance in the Registration API"
   ]
  },
  {
   "cell_type": "code",
   "execution_count": null,
   "id": "ae9f0432-f043-44f8-8ed8-452b86f7ec9a",
   "metadata": {},
   "outputs": [],
   "source": [
    "response = requests.post(\n",
    "    f\"{registration_endpoint}/register\",\n",
    "    json={\n",
    "        \"type\": \"ades\",\n",
    "        \"url\": \"https://demo.pygeoapi.io/stable/processes\",\n",
    "    }\n",
    ")\n",
    "response.raise_for_status()\n",
    "response"
   ]
  },
  {
   "cell_type": "markdown",
   "id": "28347b0e-290e-4354-9472-4b8a1c9a892e",
   "metadata": {},
   "source": [
    "Check if the ADES is actually registered:"
   ]
  },
  {
   "cell_type": "code",
   "execution_count": null,
   "id": "370f2163-d1e8-439b-8281-45f8efebbc40",
   "metadata": {},
   "outputs": [],
   "source": [
    "time.sleep(3)\n",
    "response = requests.get(f\"https://resource-catalogue.{base_domain}/collections/metadata:main/items?type=service\", headers=dict(f=\"json\", **headers))\n",
    "response.raise_for_status()\n",
    "response.json()"
   ]
  },
  {
   "cell_type": "markdown",
   "id": "f5da3743-e856-4180-a70b-0486cf1663f3",
   "metadata": {},
   "source": [
    "We will now register a STAC Item from the Registration API JSON endpoint."
   ]
  },
  {
   "cell_type": "code",
   "execution_count": null,
   "id": "7666f665-b9f0-433b-903a-ce22317871b5",
   "metadata": {},
   "outputs": [],
   "source": [
    "url='https://raw.githubusercontent.com/radiantearth/stac-spec/master/examples/core-item.json'\n",
    "stac_item=requests.get(url).text\n",
    "#print(stac_item)"
   ]
  },
  {
   "cell_type": "code",
   "execution_count": null,
   "id": "30f47307-cb51-407f-a228-a803deccb753",
   "metadata": {},
   "outputs": [],
   "source": [
    "response = requests.post(\n",
    "    f\"{registration_endpoint}/register-json\",\n",
    "    json=json.loads(stac_item)\n",
    ")\n",
    "response.raise_for_status()\n",
    "response"
   ]
  },
  {
   "cell_type": "markdown",
   "id": "b09c53c4-ed6d-4c08-b956-9f2de515b484",
   "metadata": {},
   "source": [
    "Check if the STAC Item is actually registered:"
   ]
  },
  {
   "cell_type": "code",
   "execution_count": null,
   "id": "73f252f9-27d3-4c80-92df-eb4f33378991",
   "metadata": {},
   "outputs": [],
   "source": [
    "time.sleep(3)\n",
    "response = requests.get(f\"https://resource-catalogue.{base_domain}/collections/metadata:main/items/20201211_223832_CS2\", headers=dict(f=\"json\", **headers))\n",
    "response.raise_for_status()\n",
    "response.json()"
   ]
  }
 ],
 "metadata": {
  "kernelspec": {
   "display_name": "Python 3 (ipykernel)",
   "language": "python",
   "name": "python3"
  },
  "language_info": {
   "codemirror_mode": {
    "name": "ipython",
    "version": 3
   },
   "file_extension": ".py",
   "mimetype": "text/x-python",
   "name": "python",
   "nbconvert_exporter": "python",
   "pygments_lexer": "ipython3",
   "version": "3.12.8"
  }
 },
 "nbformat": 4,
 "nbformat_minor": 5
}
