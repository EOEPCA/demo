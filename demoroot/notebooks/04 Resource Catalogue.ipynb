{
 "cells": [
  {
   "cell_type": "markdown",
   "id": "26651852-cac0-4bba-b252-d21ce96d100a",
   "metadata": {},
   "source": [
    "## Resource Catalogue demo"
   ]
  },
  {
   "cell_type": "markdown",
   "id": "8219b827-fe6d-4a8d-9af2-6f8719dd65ea",
   "metadata": {},
   "source": [
    "[OWSLib](https://geopython.github.io/OWSLib) is a Python package for client programming with Open Geospatial Consortium (OGC) web service (hence OWS) interface standards, and their related content models. In this demo we’ll work with the CSW, WMS and WCS interfaces."
   ]
  },
  {
   "cell_type": "code",
   "execution_count": null,
   "id": "658ce66c-15e4-41cd-b61a-4e9ba53dcd55",
   "metadata": {},
   "outputs": [],
   "source": [
    "from owslib.csw import CatalogueServiceWeb\n",
    "from owslib.ogcapi.records import Records\n",
    "from owslib.fes import And, Or, PropertyIsEqualTo, PropertyIsGreaterThanOrEqualTo, PropertyIsLessThanOrEqualTo, PropertyIsLike, BBox, SortBy, SortProperty\n",
    "from geolinks import sniff_link\n",
    "import folium\n",
    "import json"
   ]
  },
  {
   "cell_type": "code",
   "execution_count": null,
   "id": "a226f882-ef75-477b-a927-61a24b9202e6",
   "metadata": {},
   "outputs": [],
   "source": [
    "base_domain = \"185.52.193.87.nip.io\"\n",
    "#base_domain = \"demo.eoepca.org\"\n",
    "#workspace_prefix = \"demo-user\"\n",
    "workspace_prefix = \"user\""
   ]
  },
  {
   "cell_type": "markdown",
   "id": "a86c43c6-0b46-4c55-8baa-f1d0da46c2c6",
   "metadata": {},
   "source": [
    "### System Catalogue Discovery"
   ]
  },
  {
   "cell_type": "markdown",
   "id": "c69f0c24-bf3f-4800-8346-f83d0df884d3",
   "metadata": {},
   "source": [
    "In this part of the demo, the user will use the system level resource catalogue endpoint to discover data collections and datasets.\n",
    "The `owslib.csw` class of OWSLib is instantiated and service metadata are shown."
   ]
  },
  {
   "cell_type": "code",
   "execution_count": null,
   "id": "d07c6f82-0385-4980-899e-c86d9eddc8f8",
   "metadata": {},
   "outputs": [],
   "source": [
    "system_catalogue_endpoint = f'https://resource-catalogue.{base_domain}/csw'"
   ]
  },
  {
   "cell_type": "code",
   "execution_count": null,
   "id": "7b05431e-e58e-48c8-a3f0-b9c88851ee90",
   "metadata": {},
   "outputs": [],
   "source": [
    "csw = CatalogueServiceWeb(system_catalogue_endpoint, timeout=30)"
   ]
  },
  {
   "cell_type": "markdown",
   "id": "d26a7509-45a1-47d4-b548-3bde10dc779a",
   "metadata": {},
   "source": [
    "Service metadata shown here includes identification type (from ISO-19115), CSW version and supported operations"
   ]
  },
  {
   "cell_type": "code",
   "execution_count": null,
   "id": "54251eb6-6568-4947-a254-f06c79e3454f",
   "metadata": {},
   "outputs": [],
   "source": [
    "csw.identification.type"
   ]
  },
  {
   "cell_type": "code",
   "execution_count": null,
   "id": "81104595-78d4-4ff2-ba8a-5cb6a704de6d",
   "metadata": {},
   "outputs": [],
   "source": [
    "csw.version"
   ]
  },
  {
   "cell_type": "code",
   "execution_count": null,
   "id": "646dd77a-6f82-4a1f-9463-94bddb897175",
   "metadata": {},
   "outputs": [],
   "source": [
    "[op.name for op in csw.operations]"
   ]
  },
  {
   "cell_type": "markdown",
   "id": "4f397c4f-f61d-4c41-a746-46039bd215fa",
   "metadata": {},
   "source": [
    "As well as catalogue queryables:"
   ]
  },
  {
   "cell_type": "code",
   "execution_count": null,
   "id": "b639cb02-bac8-4f55-9512-f013ccaebd22",
   "metadata": {},
   "outputs": [],
   "source": [
    "csw.get_operation_by_name('GetRecords').constraints"
   ]
  },
  {
   "cell_type": "markdown",
   "id": "ff59b751-330f-47bf-8b86-c9ce5eae6801",
   "metadata": {},
   "source": [
    "The user can make a GetRecords request to get all records of the catalogue, with a page limit of 10."
   ]
  },
  {
   "cell_type": "code",
   "execution_count": null,
   "id": "30704881-178d-45de-aeb7-7482c4542770",
   "metadata": {},
   "outputs": [],
   "source": [
    "csw.getrecords2(maxrecords=10)\n",
    "csw.results"
   ]
  },
  {
   "cell_type": "code",
   "execution_count": null,
   "id": "a7b03fde-a5e3-4c8c-8493-4e182a055211",
   "metadata": {},
   "outputs": [],
   "source": [
    "for rec in csw.records:\n",
    "    print(f'identifier: {csw.records[rec].identifier}\\ntype: {csw.records[rec].type}\\ntitle: {csw.records[rec].title}\\n')"
   ]
  },
  {
   "cell_type": "markdown",
   "id": "aff279fc-a59f-465f-a2a0-afbc07ba916c",
   "metadata": {},
   "source": [
    "If the user wishes to discover data with usage of filters, an OGC Filter can be used. Here we demonstrate how to create spatial (`bbox`), temporal (`time`), and attribute (`apiso:CloudCover`) filters combined with logical operators like and/or"
   ]
  },
  {
   "cell_type": "code",
   "execution_count": null,
   "id": "7c3489b5-f437-448b-975f-afd5d2057364",
   "metadata": {},
   "outputs": [],
   "source": [
    "#bbox_query = BBox([37.8, 23.4, 38.8, 24.5])\n",
    "bbox_query = BBox([37, 13.9, 37.9, 15.1])"
   ]
  },
  {
   "cell_type": "code",
   "execution_count": null,
   "id": "fec38a23-68fd-4c1f-9213-404859b048ae",
   "metadata": {},
   "outputs": [],
   "source": [
    "begin = PropertyIsGreaterThanOrEqualTo(propertyname='apiso:TempExtent_begin', literal='2021-04-02 00:00')"
   ]
  },
  {
   "cell_type": "code",
   "execution_count": null,
   "id": "d29f2a96-b2ed-446a-a4d3-9832f9af5e87",
   "metadata": {},
   "outputs": [],
   "source": [
    "end = PropertyIsLessThanOrEqualTo(propertyname='apiso:TempExtent_end', literal='2021-04-03 00:00')"
   ]
  },
  {
   "cell_type": "code",
   "execution_count": null,
   "id": "5a03b5d3-cad9-4da2-93ce-85c7ba8a6003",
   "metadata": {},
   "outputs": [],
   "source": [
    "cloud = PropertyIsLessThanOrEqualTo(propertyname='apiso:CloudCover', literal='20')"
   ]
  },
  {
   "cell_type": "code",
   "execution_count": null,
   "id": "24c735c8-4e87-4d11-af65-12890b4a0c46",
   "metadata": {},
   "outputs": [],
   "source": [
    "filter_list = [\n",
    "    And(\n",
    "        [\n",
    "            bbox_query,  # bounding box\n",
    "            begin, end,  # start and end date\n",
    "            cloud        # cloud\n",
    "        ]\n",
    "    )\n",
    "]"
   ]
  },
  {
   "cell_type": "markdown",
   "id": "225432bc-0fd8-4f70-9e07-3344628827c1",
   "metadata": {},
   "source": [
    "The filter is then applied to the GetRecords request and results are shown:"
   ]
  },
  {
   "cell_type": "code",
   "execution_count": null,
   "id": "7c4c4ce0-7c42-4c0b-afac-7725ddbfa724",
   "metadata": {},
   "outputs": [],
   "source": [
    "csw.getrecords2(constraints=filter_list, outputschema='http://www.isotc211.org/2005/gmd')\n",
    "csw.results"
   ]
  },
  {
   "cell_type": "code",
   "execution_count": null,
   "id": "0418bd08-debe-405d-8527-7a9ea59ed677",
   "metadata": {},
   "outputs": [],
   "source": [
    "selected_record = list(csw.records)[0]"
   ]
  },
  {
   "cell_type": "code",
   "execution_count": null,
   "id": "2230f3a0-3b9a-4b44-92ed-af31d8fc93d4",
   "metadata": {},
   "outputs": [],
   "source": [
    "for rec in csw.records:\n",
    "    print(f'identifier: {csw.records[rec].identifier}\\ntype: {csw.records[rec].identification.identtype}\\ntitle: {csw.records[rec].identification.title}\\n')"
   ]
  },
  {
   "cell_type": "markdown",
   "id": "fb5a8f1e-6bfd-40c0-ae8f-615435db4a8b",
   "metadata": {},
   "source": [
    "Another option is to perform a collection level search, using the `apiso:parentIdentifier` queryable. Here only the Sentinel2 L1C datasets will be discovered."
   ]
  },
  {
   "cell_type": "code",
   "execution_count": null,
   "id": "a0554447-6129-48c9-a8d7-47790545968b",
   "metadata": {},
   "outputs": [],
   "source": [
    "collection_query = PropertyIsEqualTo('apiso:ParentIdentifier', 'S2MSI1C')"
   ]
  },
  {
   "cell_type": "code",
   "execution_count": null,
   "id": "0da28f27-2a24-43d5-b843-f636ae802c5b",
   "metadata": {},
   "outputs": [],
   "source": [
    "csw.getrecords2(constraints=[collection_query], outputschema='http://www.isotc211.org/2005/gmd')\n",
    "csw.results"
   ]
  },
  {
   "cell_type": "markdown",
   "id": "ed060cbe-43fe-4cce-9fa4-ce6980110f18",
   "metadata": {},
   "source": [
    "Or we can just search using the bbox filter"
   ]
  },
  {
   "cell_type": "code",
   "execution_count": null,
   "id": "977c8fdb-bb1c-4507-b6fd-6df271416d1c",
   "metadata": {},
   "outputs": [],
   "source": [
    "csw.getrecords2(constraints=[bbox_query], outputschema='http://www.isotc211.org/2005/gmd')\n",
    "csw.results"
   ]
  },
  {
   "cell_type": "code",
   "execution_count": null,
   "id": "ed6f2986-46b4-46f2-ae86-55b8aa407298",
   "metadata": {},
   "outputs": [],
   "source": [
    "for rec in csw.records:\n",
    "    print(f'identifier: {csw.records[rec].identifier}\\ntype: {csw.records[rec].identification.identtype}\\ntitle: {csw.records[rec].identification.title}\\n')"
   ]
  },
  {
   "cell_type": "markdown",
   "id": "45f979dd-55ac-4e3d-b38f-998ca1c1dab8",
   "metadata": {},
   "source": [
    "Or we can perform a full text search (here the keyword Orthoimagery is used)"
   ]
  },
  {
   "cell_type": "code",
   "execution_count": null,
   "id": "0a4ae3e0-1b5d-4092-bc02-5928ee89ed63",
   "metadata": {},
   "outputs": [],
   "source": [
    "anytext_query = PropertyIsEqualTo('csw:AnyText', 'Orthoimagery')"
   ]
  },
  {
   "cell_type": "code",
   "execution_count": null,
   "id": "84e7a1b6-c88f-4846-a81e-bfa8840acad5",
   "metadata": {},
   "outputs": [],
   "source": [
    "csw.getrecords2(constraints=[anytext_query])\n",
    "csw.results"
   ]
  },
  {
   "cell_type": "markdown",
   "id": "3502e0f0-bec4-43d9-9125-675fcbd55557",
   "metadata": {},
   "source": [
    "We can also iterate through the catalogue search results by passing the `startposition` and `maxrecords` parameters to GetRecords request:"
   ]
  },
  {
   "cell_type": "code",
   "execution_count": null,
   "id": "d0078184-bde5-48b6-a4ab-471a030a19bc",
   "metadata": {},
   "outputs": [],
   "source": [
    "csw_records = {}\n",
    "sortby = SortBy([SortProperty('dc:title', 'ASC')])\n",
    "pagesize=10\n",
    "maxrecords=1000\n",
    "startposition = 0\n",
    "nextrecord = getattr(csw, 'results', 1)\n",
    "while nextrecord != 0:\n",
    "    csw.getrecords2(constraints=[anytext_query], startposition=startposition,\n",
    "                    maxrecords=pagesize, sortby=sortby)\n",
    "    csw_records.update(csw.records)\n",
    "    if csw.results['nextrecord'] == 0:\n",
    "        break\n",
    "    startposition += pagesize\n",
    "    if startposition >= maxrecords:\n",
    "        break\n",
    "csw.records.update(csw_records)\n",
    "records = '\\n'.join(csw.records.keys())\n",
    "print('Found {} records.\\n'.format(len(csw.records.keys())))\n",
    "for key, value in list(csw.records.items()):\n",
    "    print(f'identifier: {value.identifier}\\ntype: {value.type}\\ntitle: {value.title}\\n')"
   ]
  },
  {
   "cell_type": "markdown",
   "id": "4b6ad2dd-3350-4cb2-8b5f-73b36dd9d54f",
   "metadata": {},
   "source": [
    "The user then selects a record identifier and asks the catalogue to fetch the full record. Here we demonstrate how to obtain properties like title, bbox, full xml and links from the metadata record."
   ]
  },
  {
   "cell_type": "code",
   "execution_count": null,
   "id": "df46406c-62c7-45b9-b008-081a5267a713",
   "metadata": {},
   "outputs": [],
   "source": [
    "#csw.getrecordbyid(id=['S2B_MSIL2A_20200902T090559_N0214_R050_T34SGH_20200902T113910.SAFE'])\n",
    "csw.getrecordbyid(id=[selected_record])"
   ]
  },
  {
   "cell_type": "code",
   "execution_count": null,
   "id": "b216d1ef-9964-4f79-918d-409b344b752b",
   "metadata": {},
   "outputs": [],
   "source": [
    "#rec = csw.records['S2B_MSIL2A_20200902T090559_N0214_R050_T34SGH_20200902T113910.SAFE']\n",
    "rec = csw.records[selected_record]"
   ]
  },
  {
   "cell_type": "code",
   "execution_count": null,
   "id": "0262024b-157c-4ad3-8074-17abb0ec9b8b",
   "metadata": {},
   "outputs": [],
   "source": [
    "rec.title"
   ]
  },
  {
   "cell_type": "code",
   "execution_count": null,
   "id": "09c9ae64-c8eb-4f72-af93-2358e7c0c54a",
   "metadata": {},
   "outputs": [],
   "source": [
    "rec.xml"
   ]
  },
  {
   "cell_type": "code",
   "execution_count": null,
   "id": "10ce5d2f-c79a-45d6-8f6b-c029271781a5",
   "metadata": {},
   "outputs": [],
   "source": [
    "rec.references"
   ]
  },
  {
   "cell_type": "code",
   "execution_count": null,
   "id": "b8a12c3b-d36c-4240-a1bf-200d443e2230",
   "metadata": {},
   "outputs": [],
   "source": [
    "print(\"dataset bbox = (%s, %s, %s, %s)\" % (rec.bbox.miny, rec.bbox.minx, rec.bbox.maxy, rec.bbox.maxx))"
   ]
  },
  {
   "cell_type": "markdown",
   "id": "2d6698df-6e31-4f87-9c89-42ab664d70af",
   "metadata": {},
   "source": [
    "Using the [geolinks](https://github.com/geopython/geolinks) Python library we can filter the links that are of a specific type (here WMS and WCS links to be used for visualization)"
   ]
  },
  {
   "cell_type": "code",
   "execution_count": null,
   "id": "7ed31ca8-4434-45c1-bcf0-13d4e027c71d",
   "metadata": {},
   "outputs": [],
   "source": [
    "msg = 'geolink: {geolink}\\nscheme: {scheme}\\nURL: {url}\\n'.format\n",
    "for ref in rec.references:\n",
    "    print(msg(geolink=sniff_link(ref['url']), **ref))"
   ]
  },
  {
   "cell_type": "code",
   "execution_count": null,
   "id": "72a000c9-9c8b-45e7-9132-42926929eb88",
   "metadata": {},
   "outputs": [],
   "source": [
    "for ref in rec.references:\n",
    "    url = ref['url']\n",
    "    if 'WMS' in url:\n",
    "        print(msg(geolink=sniff_link(url), **ref))\n",
    "        break"
   ]
  },
  {
   "cell_type": "code",
   "execution_count": null,
   "id": "deb27914-c9af-4365-90d9-238e37531975",
   "metadata": {},
   "outputs": [],
   "source": [
    "for ref in rec.references:\n",
    "    url = ref['url']\n",
    "    if 'WCS' in url:\n",
    "        print(msg(geolink=sniff_link(url), **ref))\n",
    "        break"
   ]
  },
  {
   "cell_type": "markdown",
   "id": "09b1ff0a-db7a-422b-ba07-f4f4baf43084",
   "metadata": {},
   "source": [
    "Finally we demonstrate how to show the record footprint on a map, using the [Folium](https://github.com/python-visualization/folium) Python library:"
   ]
  },
  {
   "cell_type": "code",
   "execution_count": null,
   "id": "fda96d60-2356-4d45-bceb-583e93fad5b1",
   "metadata": {},
   "outputs": [],
   "source": [
    "m = folium.Map(location=[38, 20], zoom_start=6, tiles='OpenStreetMap')\n",
    "folium.Rectangle(bounds=[[float(rec.bbox.miny), float(rec.bbox.minx)], [float(rec.bbox.maxy), float(rec.bbox.maxx)]]).add_to(m)\n",
    "m"
   ]
  },
  {
   "cell_type": "markdown",
   "id": "f3828753-519d-4153-b8ed-61b95d569cc0",
   "metadata": {},
   "source": [
    "### Workspace catalogue"
   ]
  },
  {
   "cell_type": "markdown",
   "id": "ac29808f-02fe-4230-8a15-e87c3a38ab25",
   "metadata": {},
   "source": [
    "In this part of the demo, the user will use the workspace resource catalogue endpoint to discover processing outputs and applications.  The workspace catalogue is local to the user, which also has federated access to the system catalogue."
   ]
  },
  {
   "cell_type": "code",
   "execution_count": null,
   "id": "553feac4-ffae-42dc-8006-fa0ca61bcd09",
   "metadata": {
    "tags": []
   },
   "outputs": [],
   "source": [
    "#workspace_endpoint = 'https://resource-catalogue.user.185.52.193.87.nip.io'\n",
    "#workspace_endpoint = 'https://resource-catalogue.user.demo.eoepca.org'\n",
    "#workspace_endpoint = 'https://resource-catalogue.rm-user-eric.185.52.193.87.nip.io'\n",
    "workspace_endpoint = f'https://resource-catalogue.{workspace_prefix}.{base_domain}/csw'"
   ]
  },
  {
   "cell_type": "code",
   "execution_count": null,
   "id": "fcf6a672-d10e-43ee-a196-80db092ba341",
   "metadata": {},
   "outputs": [],
   "source": [
    "csw = CatalogueServiceWeb(workspace_endpoint,timeout=30)"
   ]
  },
  {
   "cell_type": "markdown",
   "id": "a4f99827-fa7b-41e8-b9a1-464f8027676f",
   "metadata": {},
   "source": [
    "With a GetRecords request the user can see the number of total records in the workspace catalogue"
   ]
  },
  {
   "cell_type": "code",
   "execution_count": null,
   "id": "908e7656-3368-4d45-ae4f-300cee38f745",
   "metadata": {},
   "outputs": [],
   "source": [
    "csw.getrecords2(maxrecords=10)\n",
    "csw.results"
   ]
  },
  {
   "cell_type": "code",
   "execution_count": null,
   "id": "d8d011ec-0f28-433f-a191-399f445e7a62",
   "metadata": {},
   "outputs": [],
   "source": [
    "for rec in csw.records:\n",
    "    print(f'identifier: {csw.records[rec].identifier}\\ntype: {csw.records[rec].type}\\ntitle: {csw.records[rec].title}\\n')"
   ]
  },
  {
   "cell_type": "markdown",
   "id": "608bd426-e7e1-48d4-a173-56608b31d32e",
   "metadata": {},
   "source": [
    "Then, using the identifiers, the user can parse the links to the output data as well as any applications that are available ([Common Workflow Language [CWL]](https://www.commonwl.org))"
   ]
  },
  {
   "cell_type": "code",
   "execution_count": null,
   "id": "495da60a-e729-4411-9d4b-dee658eb66a6",
   "metadata": {},
   "outputs": [],
   "source": [
    "csw.records['INDEX_S2A_MSIL2A_20191216T004701_N0213_R102_T53HPA_20191216T024808'].references"
   ]
  },
  {
   "cell_type": "code",
   "execution_count": null,
   "id": "bb6df62f-7c4c-4029-b5f8-552c656f8c74",
   "metadata": {},
   "outputs": [],
   "source": [
    "csw.records['s-expression'].references"
   ]
  },
  {
   "cell_type": "code",
   "execution_count": null,
   "id": "37806ccf-1450-47d3-ad97-94e5b17d8641",
   "metadata": {},
   "outputs": [],
   "source": [
    "csw.getrecords2(maxrecords=20, distributedsearch=True, hopcount=1)\n",
    "csw.results"
   ]
  },
  {
   "cell_type": "markdown",
   "id": "d25d53cf-efb4-4f8e-acf0-14ac63d0de00",
   "metadata": {},
   "source": [
    "### OpenSearch"
   ]
  },
  {
   "cell_type": "markdown",
   "id": "25a86e86-6307-4882-8959-9cd4d49ba1e6",
   "metadata": {},
   "source": [
    "In this part of the demo, the user will use the OpenSearch capability of the system resource catalogue to discover datasets."
   ]
  },
  {
   "cell_type": "code",
   "execution_count": null,
   "id": "8ebe61ec-5afd-44ca-9a6e-977157ef3a25",
   "metadata": {},
   "outputs": [],
   "source": [
    "endpoint = system_catalogue_endpoint + '?service=CSW&version=3.0.0&request=GetCapabilities&mode=opensearch'"
   ]
  },
  {
   "cell_type": "markdown",
   "id": "f576e20e-34f2-4add-adb2-872e7ef44049",
   "metadata": {},
   "source": [
    "Here, the [pyops](https://github.com/devsf/pyops) Python OpenSearch client is used."
   ]
  },
  {
   "cell_type": "code",
   "execution_count": null,
   "id": "8a45580f-0c76-4bc9-b1ed-58e92be28c58",
   "metadata": {},
   "outputs": [],
   "source": [
    "import pyops"
   ]
  },
  {
   "cell_type": "code",
   "execution_count": null,
   "id": "66a2f60a-01b4-47fe-a014-50700421cd04",
   "metadata": {},
   "outputs": [],
   "source": [
    "client = pyops.Client(description_xml_url=endpoint)"
   ]
  },
  {
   "cell_type": "markdown",
   "id": "86fff97a-1ec6-4586-ba01-950695f36ed0",
   "metadata": {},
   "source": [
    "and the number of results is shown (note that the page size is 10 by default)"
   ]
  },
  {
   "cell_type": "code",
   "execution_count": null,
   "id": "13b02fab-9bb1-4376-8a13-561a27506807",
   "metadata": {},
   "outputs": [],
   "source": [
    "results = client.search()\n",
    "len(results)"
   ]
  },
  {
   "cell_type": "markdown",
   "id": "67ee6403-0a64-40a8-8ebc-03e8b8218a33",
   "metadata": {},
   "source": [
    "The user can also include parameters in the search, like the parent identifier for collection level search"
   ]
  },
  {
   "cell_type": "code",
   "execution_count": null,
   "id": "d421e192-0c2b-44bb-8d39-c90200f01cd3",
   "metadata": {},
   "outputs": [],
   "source": [
    "results = client.search(params={\"{eo:parentIdentifier?}\": {\"value\": \"S2MSI2A\"}})\n",
    "len(results)"
   ]
  },
  {
   "cell_type": "markdown",
   "id": "a7cf104c-a893-4f9d-8312-1a0d13b1f717",
   "metadata": {},
   "source": [
    "The user can also use OpenSearch EO mathematical notation to filter based on other parameters"
   ]
  },
  {
   "cell_type": "code",
   "execution_count": null,
   "id": "f02659d6-2273-4baa-940c-dfe9ade298c1",
   "metadata": {},
   "outputs": [],
   "source": [
    "# OpenSearch EO mathematical notation\n",
    "# n1 equal to field = n1\n",
    "# {n1,n2,…} equals to field=n1 OR field=n2 OR …\n",
    "# [n1,n2] equal to n1 <= field <= n2\n",
    "# [n1,n2[ equals to n1 <= field < n2\n",
    "# ]n1,n2[ equals to n1 < field < n2\n",
    "# ]n1,n2] equal to n1 < field  <= n2\n",
    "# [n1 equals to n1<= field\n",
    "# ]n1 equals to n1 < field\n",
    "# n2] equals to field <= n2\n",
    "# n2[ equals to field < n2\n",
    "\n",
    "results = client.search(params={\"{eo:cloudCover?}\": {\"value\": \"]20\"}})  # eo:cloudCover > 20\n",
    "len(results)"
   ]
  },
  {
   "cell_type": "markdown",
   "id": "47249390-cace-4f01-9dee-c9b10e2ed0fd",
   "metadata": {},
   "source": [
    "Then the user can access a specific record through a list (with a JSON representation):"
   ]
  },
  {
   "cell_type": "code",
   "execution_count": null,
   "id": "c19ceaa4-e7cf-4b90-9139-cedf782445a8",
   "metadata": {},
   "outputs": [],
   "source": [
    "results[1]"
   ]
  },
  {
   "cell_type": "markdown",
   "id": "baccad08-f193-4379-90ba-0da0ce330f46",
   "metadata": {},
   "source": [
    "Another posibility is to use the HTTP GET requests directly with a generic client like requests."
   ]
  },
  {
   "cell_type": "code",
   "execution_count": null,
   "id": "ac5ea886-b414-4df2-a482-408854c938fc",
   "metadata": {},
   "outputs": [],
   "source": [
    "import requests\n",
    "from bs4 import BeautifulSoup"
   ]
  },
  {
   "cell_type": "code",
   "execution_count": null,
   "id": "0871144c-4011-4935-baf6-cfd3c2171f74",
   "metadata": {},
   "outputs": [],
   "source": [
    "S = requests.Session()"
   ]
  },
  {
   "cell_type": "markdown",
   "id": "7e061992-58e8-4d0e-8ac0-8bd55eed0cad",
   "metadata": {},
   "source": [
    "Here, the user asks for the OpenSearch entrypoint template"
   ]
  },
  {
   "cell_type": "code",
   "execution_count": null,
   "id": "23fc3f20-75fb-4acf-9ff3-b00df47ed234",
   "metadata": {},
   "outputs": [],
   "source": [
    "R = S.get(url=endpoint)\n",
    "bs = BeautifulSoup(R.text, 'xml')\n",
    "print(bs.prettify())"
   ]
  },
  {
   "cell_type": "markdown",
   "id": "86704c40-cd73-41d5-9a92-702b5f15faf0",
   "metadata": {},
   "source": [
    "The a GetRecords request (in the context of OpenSearch) is performed"
   ]
  },
  {
   "cell_type": "code",
   "execution_count": null,
   "id": "e17b7bc4-1220-43c1-a11a-62639ea32136",
   "metadata": {},
   "outputs": [],
   "source": [
    "url = system_catalogue_endpoint + '?mode=opensearch&service=CSW&version=3.0.0&request=GetRecords&elementsetname=full&resulttype=results&typenames=csw:Record'\n",
    "R = S.get(url=url)\n",
    "bs = BeautifulSoup(R.text, 'xml')\n",
    "print(bs.prettify())"
   ]
  },
  {
   "cell_type": "markdown",
   "id": "c30ffe74-666a-43db-b6f3-d4ba4cf1f70b",
   "metadata": {},
   "source": [
    "A collections search is also demonstrated, for Sentinel2 Level 2A results"
   ]
  },
  {
   "cell_type": "code",
   "execution_count": null,
   "id": "a678982d-bee9-4a0f-9468-ed95a3bd3169",
   "metadata": {},
   "outputs": [],
   "source": [
    "url = system_catalogue_endpoint + '?mode=opensearch&service=CSW&version=3.0.0&request=GetRecords&elementsetname=full&resulttype=results&typenames=csw:Record&eo:parentIdentifier=S2MSI2A'\n",
    "R = S.get(url=url)\n",
    "bs = BeautifulSoup(R.text, 'xml')\n",
    "print(bs.prettify())"
   ]
  },
  {
   "cell_type": "markdown",
   "id": "2f970e9c-f032-4949-930d-93e90cf873e2",
   "metadata": {},
   "source": [
    "A similar OpenSearch request is demonstrated for the workspace catalogue endpoint"
   ]
  },
  {
   "cell_type": "code",
   "execution_count": null,
   "id": "f7e61ee8-062f-486e-9363-7b3aa5465226",
   "metadata": {},
   "outputs": [],
   "source": [
    "url = system_catalogue_endpoint + '?mode=opensearch&service=CSW&version=3.0.0&request=GetRecords&elementsetname=full&resulttype=results&typenames=csw:Record'\n",
    "R = S.get(url=url)\n",
    "bs = BeautifulSoup(R.text, 'xml')\n",
    "print(bs.prettify())"
   ]
  },
  {
   "cell_type": "markdown",
   "id": "1d985ff8-57c1-4f0b-88bb-d57b6ebe5c31",
   "metadata": {},
   "source": [
    "The user can get one record using the identifier through the OpenSearch EO API:"
   ]
  },
  {
   "cell_type": "code",
   "execution_count": null,
   "id": "87b26ef7-3c6b-4bfe-a524-8516f04bc273",
   "metadata": {},
   "outputs": [],
   "source": [
    "url = system_catalogue_endpoint + '?mode=opensearch&service=CSW&version=3.0.0&request=GetRecords&elementsetname=full&resulttype=results&typenames=csw:Record&recordids=S2B_MSIL1C_20210402T095029_N0300_R079_T33SVB_20210402T121737.SAFE'\n",
    "R = S.get(url=url)\n",
    "bs = BeautifulSoup(R.text, 'xml')\n",
    "print(bs.prettify())"
   ]
  },
  {
   "cell_type": "markdown",
   "id": "d80bb3df-88f9-469b-8e39-5dd8e90892b2",
   "metadata": {},
   "source": [
    "Finally, both system and workspace endpoints can be queried using a Federated Search query, where the user sends a request to the workspace catalogue which in turn sends a distributed search request to the system catalogue and aggregates the results for the user."
   ]
  },
  {
   "cell_type": "code",
   "execution_count": null,
   "id": "f4b7bd1a-4f73-4ffe-bd18-ea11e2a2d18a",
   "metadata": {},
   "outputs": [],
   "source": [
    "url = system_catalogue_endpoint + '?mode=opensearch&service=CSW&version=3.0.0&request=GetRecords&typenames=csw:Record&elementsetname=full&resulttype=results&distributedSearch=TRUE&hopcount=1'\n",
    "R = S.get(url=url)\n",
    "bs = BeautifulSoup(R.text, 'xml')\n",
    "print(bs.prettify())"
   ]
  },
  {
   "cell_type": "markdown",
   "id": "18cebdc4-00de-445d-af13-f9001fe21839",
   "metadata": {},
   "source": [
    "Please note in the above result that the total of records is a combination of the system and workspace catalogues."
   ]
  },
  {
   "cell_type": "markdown",
   "id": "71406579-3e11-41a0-99d0-f92d137d75b6",
   "metadata": {},
   "source": [
    "### OGC API Records demo"
   ]
  },
  {
   "cell_type": "markdown",
   "id": "b782e936-a4f5-4c42-8f61-749f9f754765",
   "metadata": {},
   "source": [
    "In this part of the demo, the user will use the system level resource catalogue OGC API Records endpoint to discover data datasets.\n",
    "The `owslib.ogcapi.records` class of OWSLib is instantiated and service metadata are shown."
   ]
  },
  {
   "cell_type": "code",
   "execution_count": null,
   "id": "518428c6-5cb0-41de-8578-b92c40466315",
   "metadata": {},
   "outputs": [],
   "source": [
    "system_catalogue_endpoint = f'https://resource-catalogue.{base_domain}'"
   ]
  },
  {
   "cell_type": "code",
   "execution_count": null,
   "id": "108316b8-a2fa-4982-bcc3-219c4419c88f",
   "metadata": {},
   "outputs": [],
   "source": [
    "w = Records(system_catalogue_endpoint)"
   ]
  },
  {
   "cell_type": "code",
   "execution_count": null,
   "id": "ef7701a1-c8c7-4a6a-9e89-2f33ab458869",
   "metadata": {},
   "outputs": [],
   "source": [
    "w.url"
   ]
  },
  {
   "cell_type": "markdown",
   "id": "2a151297-f59c-4d94-8447-dfbc65bf9b28",
   "metadata": {},
   "source": [
    "Conformance classes supported by the OGC API Records server:"
   ]
  },
  {
   "cell_type": "code",
   "execution_count": null,
   "id": "8e477c07-965a-444e-8577-9b222c32b90c",
   "metadata": {},
   "outputs": [],
   "source": [
    "w.conformance()"
   ]
  },
  {
   "cell_type": "markdown",
   "id": "b92f279f-3c1f-407f-9860-22d833cf6cce",
   "metadata": {},
   "source": [
    "OpenAPI document of the OGC API Records server:"
   ]
  },
  {
   "cell_type": "code",
   "execution_count": null,
   "id": "59acaa0f-8070-4415-9676-b63c60e76731",
   "metadata": {},
   "outputs": [],
   "source": [
    "w.api()"
   ]
  },
  {
   "cell_type": "markdown",
   "id": "764ae3ea-8b07-4b4e-a4c2-8842f13a645f",
   "metadata": {},
   "source": [
    "Collections available on the catalogue:"
   ]
  },
  {
   "cell_type": "code",
   "execution_count": null,
   "id": "550a52de-2b02-4d47-b0de-0cf8f73c12b2",
   "metadata": {},
   "outputs": [],
   "source": [
    "w.collections()"
   ]
  },
  {
   "cell_type": "code",
   "execution_count": null,
   "id": "f48e1e0a-2322-4d3a-abb6-6911ed755213",
   "metadata": {},
   "outputs": [],
   "source": [
    "records = w.records()"
   ]
  },
  {
   "cell_type": "code",
   "execution_count": null,
   "id": "a854ad77-23f8-4e3a-9bf3-663e245a53c3",
   "metadata": {},
   "outputs": [],
   "source": [
    "len(records)"
   ]
  },
  {
   "cell_type": "markdown",
   "id": "2e15d32c-89aa-4453-8dcd-10faf09936eb",
   "metadata": {},
   "source": [
    "The user can then specify the collection to search within the catalogue:"
   ]
  },
  {
   "cell_type": "code",
   "execution_count": null,
   "id": "9fe1b3ef-3cf4-4e6a-9bb4-5c6c500098ed",
   "metadata": {},
   "outputs": [],
   "source": [
    "my_catalogue = w.collection('metadata:main')"
   ]
  },
  {
   "cell_type": "code",
   "execution_count": null,
   "id": "62b043a6-e2f5-4b4b-9bab-1512217760fc",
   "metadata": {},
   "outputs": [],
   "source": [
    "my_catalogue['id']"
   ]
  },
  {
   "cell_type": "markdown",
   "id": "36deb327-d2fb-490e-b585-634c514075a6",
   "metadata": {},
   "source": [
    "Collection level queryables:"
   ]
  },
  {
   "cell_type": "code",
   "execution_count": null,
   "id": "d367eff4-ad5b-4fc0-a2cd-db464277a320",
   "metadata": {},
   "outputs": [],
   "source": [
    "w.collection_queryables('metadata:main')"
   ]
  },
  {
   "cell_type": "markdown",
   "id": "bc6888f2-df55-4d20-b58a-5934ed7bb3e9",
   "metadata": {},
   "source": [
    "The user initialized a catalogue query for the specific collection:"
   ]
  },
  {
   "cell_type": "code",
   "execution_count": null,
   "id": "610888de-980a-40ba-8958-719ccf6cb835",
   "metadata": {},
   "outputs": [],
   "source": [
    "my_catalogue_query = w.collection_items('metadata:main')"
   ]
  },
  {
   "cell_type": "code",
   "execution_count": null,
   "id": "6e9c9421-458e-4b75-ae82-e55ef609d68b",
   "metadata": {},
   "outputs": [],
   "source": [
    "my_catalogue_query['numberMatched']"
   ]
  },
  {
   "cell_type": "code",
   "execution_count": null,
   "id": "9564c479-6760-4377-a85c-358d55401f71",
   "metadata": {},
   "outputs": [],
   "source": [
    "my_catalogue_query['features'][0]['properties'].keys()"
   ]
  },
  {
   "cell_type": "code",
   "execution_count": null,
   "id": "43df443c-072f-41ba-9f9f-9fbf40a95256",
   "metadata": {},
   "outputs": [],
   "source": [
    "my_catalogue_query['features'][0]['properties']['title']"
   ]
  },
  {
   "cell_type": "code",
   "execution_count": null,
   "id": "079e181c-6332-429b-99b7-11c302f09a3d",
   "metadata": {},
   "outputs": [],
   "source": [
    "my_catalogue_query2 = w.collection_items('metadata:main', q='Orthoimagery')"
   ]
  },
  {
   "cell_type": "code",
   "execution_count": null,
   "id": "fbc24506-4a77-4fb1-95fa-1a9b031d5b4a",
   "metadata": {},
   "outputs": [],
   "source": [
    "my_catalogue_query2['numberMatched']"
   ]
  },
  {
   "cell_type": "markdown",
   "id": "ee49eaaf-8e9a-4cb1-9622-d3c1c078d791",
   "metadata": {},
   "source": [
    "Full query result:"
   ]
  },
  {
   "cell_type": "code",
   "execution_count": null,
   "id": "4d5384be-3bfb-43da-a88e-f13f5ddeb264",
   "metadata": {},
   "outputs": [],
   "source": [
    "my_catalogue_query2"
   ]
  },
  {
   "cell_type": "markdown",
   "id": "39b444fc-db2b-47d1-b1ec-4d3afc037ee2",
   "metadata": {},
   "source": [
    "### STAC API demo"
   ]
  },
  {
   "cell_type": "code",
   "execution_count": null,
   "id": "2d2a3107-e895-4881-a6b6-8c50d086e1fe",
   "metadata": {},
   "outputs": [],
   "source": [
    "from pystac_client import Client\n",
    "from pystac_client import ConformanceClasses"
   ]
  },
  {
   "cell_type": "code",
   "execution_count": null,
   "id": "10dde737-eff2-4894-b784-47452031f4b5",
   "metadata": {},
   "outputs": [],
   "source": [
    "system_catalogue_endpoint = f'https://resource-catalogue.{base_domain}'"
   ]
  },
  {
   "cell_type": "code",
   "execution_count": null,
   "id": "bbad6f94-c992-4c5a-b4d9-bbe2b304b79f",
   "metadata": {},
   "outputs": [],
   "source": [
    "catalog = Client.open(system_catalogue_endpoint)"
   ]
  },
  {
   "cell_type": "code",
   "execution_count": null,
   "id": "5b2f23f2-99e7-4a39-bd99-7eb48c08c31c",
   "metadata": {},
   "outputs": [],
   "source": [
    "catalog.id"
   ]
  },
  {
   "cell_type": "code",
   "execution_count": null,
   "id": "496f811e-a3f4-4b26-8c72-8ae345f4999e",
   "metadata": {},
   "outputs": [],
   "source": [
    "catalog.title"
   ]
  },
  {
   "cell_type": "code",
   "execution_count": null,
   "id": "99eda27f-8f95-484b-adf5-64f6e40d5043",
   "metadata": {},
   "outputs": [],
   "source": [
    "catalog.description"
   ]
  },
  {
   "cell_type": "code",
   "execution_count": null,
   "id": "8f887e5a-796d-4593-bedb-d805febe318f",
   "metadata": {},
   "outputs": [],
   "source": [
    "dir(ConformanceClasses)"
   ]
  },
  {
   "cell_type": "code",
   "execution_count": null,
   "id": "151690bc-396a-4c0a-86df-3f1ae888b6d1",
   "metadata": {},
   "outputs": [],
   "source": [
    "catalog.assert_conforms_to(ConformanceClasses.ITEM_SEARCH)"
   ]
  },
  {
   "cell_type": "code",
   "execution_count": null,
   "id": "e46ac39f-8aa6-4392-a97c-02ce7e0fd767",
   "metadata": {},
   "outputs": [],
   "source": [
    "catalog.assert_conforms_to(ConformanceClasses.CORE)"
   ]
  },
  {
   "cell_type": "code",
   "execution_count": null,
   "id": "7f234536-7328-4373-ae8a-8302cb86b2e4",
   "metadata": {},
   "outputs": [],
   "source": [
    "mysearch = catalog.search(collections=['metadata:main'], max_items=10)\n",
    "#mysearch = catalog.search(collections=['metadata:main'], bbox=[-72.5,40.5,-72,41], max_items=10)\n",
    "#mysearch = catalog.search(collections=['metadata:main'], bbox=[37, 13.9, 37.9, 15.1], max_items=10)\n",
    "print(f\"{mysearch.matched()} items found\")"
   ]
  },
  {
   "cell_type": "code",
   "execution_count": null,
   "id": "3e3d5306-fabc-4f15-ab69-cbcbafc43871",
   "metadata": {},
   "outputs": [],
   "source": [
    "items = mysearch.get_items()\n",
    "for item in items:\n",
    "    print(item.id)\n",
    "    #print(item.to_dict())\n",
    "    #print(json.dumps(item.to_dict(), indent=2))"
   ]
  },
  {
   "cell_type": "markdown",
   "id": "8024d488-6a53-4821-b491-7c33f2a1612c",
   "metadata": {},
   "source": [
    "### QGIS catalogue demo"
   ]
  },
  {
   "cell_type": "markdown",
   "id": "6f02be03-c660-40ce-b68b-c183ccfeb4cc",
   "metadata": {},
   "source": [
    "In this part of the demo, the user will use the system level resource catalogue endpoint to discover and visualize datasets through QGIS desktop application."
   ]
  },
  {
   "cell_type": "markdown",
   "id": "39965188-80f0-4c7e-a060-2ccfcfe2c5b4",
   "metadata": {},
   "source": [
    "![QGIS main window with OSM loaded](img/Screenshot_QGIS_01.png)"
   ]
  },
  {
   "cell_type": "markdown",
   "id": "bdb08312-ad0e-406e-965b-bbd6be2013ac",
   "metadata": {},
   "source": [
    "The user starts up QGIS and loads some data, in this case the OSM base map. The MetaSearch tool is available on the toolbar"
   ]
  },
  {
   "cell_type": "markdown",
   "id": "8494e84b-6c47-4cf8-90a5-c20524bf8359",
   "metadata": {},
   "source": [
    "![MetaSearch main window](img/Screenshot_QGIS_02.png)"
   ]
  },
  {
   "cell_type": "markdown",
   "id": "e1dc363d-e757-47ea-b5fb-5f3a2b7edcf5",
   "metadata": {},
   "source": [
    "The user can add a new catalogue endpoint by pressing the New button, then needs to add the Resource Catalogue endpoint in the URL text box"
   ]
  },
  {
   "cell_type": "markdown",
   "id": "d3d15195-392d-4d4a-867e-53e50ddd8407",
   "metadata": {},
   "source": [
    "![EOEPCA Resource Catalogue in QGIS](img/Screenshot_QGIS_03.png)"
   ]
  },
  {
   "cell_type": "markdown",
   "id": "20b77ef1-0e9f-4f4b-a1a9-274fb3f239e5",
   "metadata": {},
   "source": [
    "The service metadata for the Resource Catalogue are available from the Service Info button"
   ]
  },
  {
   "cell_type": "markdown",
   "id": "566204d6-b0a2-4340-ac5b-3a5f097369ca",
   "metadata": {},
   "source": [
    "![Service Info](img/Screenshot_QGIS_04.png)"
   ]
  },
  {
   "cell_type": "markdown",
   "id": "bcc321c3-fdea-4e71-a638-8719222f980d",
   "metadata": {},
   "source": [
    "The Service Capabilities are also available from the 'GetCapabilities Response' button"
   ]
  },
  {
   "cell_type": "markdown",
   "id": "7da0c977-cce3-49db-ac7d-af0dd00b2410",
   "metadata": {},
   "source": [
    "![Service Capabilities](img/Screenshot_QGIS_05.png)"
   ]
  },
  {
   "cell_type": "markdown",
   "id": "ea1dbb07-0d14-4cde-87f8-05c40c47eb2e",
   "metadata": {},
   "source": [
    "The user moves to the 'Search' tab of MetaSearch main window to perform a catalogue search (in this case by adding a bounding box)"
   ]
  },
  {
   "cell_type": "markdown",
   "id": "f8b86d3d-8bd3-4037-9492-e3d839f8ff7e",
   "metadata": {},
   "source": [
    "![Search with bbox](img/Screenshot_QGIS_06.png)"
   ]
  },
  {
   "cell_type": "markdown",
   "id": "d2df457b-179d-46b8-8c74-5d6d26845a06",
   "metadata": {},
   "source": [
    "By pressing 'Search' the Resource Catalogue is performing a dataset search. Then by selecting a result, the dataset bbox is shown on the map."
   ]
  },
  {
   "cell_type": "markdown",
   "id": "f6b3b3f8-a264-45ad-a80a-0a0848b032e1",
   "metadata": {},
   "source": [
    "![Search for datasets](img/Screenshot_QGIS_07.png)"
   ]
  },
  {
   "cell_type": "markdown",
   "id": "0a6fcffd-a9f8-4fa9-a1bc-b119b9228e52",
   "metadata": {},
   "source": [
    "The user can choose to view the selected dataset by selecting the 'Add Data' button, where MetaSearch automatically discovers available WMS, WFS, WCS links and enables the capability to load the data directly to QGIS map. In this case, the WMS and WCS endpoints are available from the Data Access links included in the catalogue record."
   ]
  },
  {
   "cell_type": "markdown",
   "id": "16ed7ec1-d646-41bb-9e1e-ee1e5eb2b11e",
   "metadata": {},
   "source": [
    "![Adding Data](img/Screenshot_QGIS_08.png)"
   ]
  },
  {
   "cell_type": "markdown",
   "id": "68e373a8-5f07-4ee1-99e1-794fc7cdc475",
   "metadata": {},
   "source": [
    "By selecting 'Add WMS/WMTS' the default QGIS WMS dialog shows up. Here, the user can browse through the available layers offered by the Data Access component and select a layer to add to the map."
   ]
  },
  {
   "cell_type": "markdown",
   "id": "1f1d64a4-5e03-451c-a207-0ba89a300d4d",
   "metadata": {},
   "source": [
    "![QGIS WMS dialog](img/Screenshot_QGIS_09.png)"
   ]
  },
  {
   "cell_type": "markdown",
   "id": "e88edfa7-3c92-4a48-8c94-4320885718e2",
   "metadata": {},
   "source": [
    "After selecting a layer, QGIS will add the layer to the map and user can preview the selected dataset"
   ]
  },
  {
   "cell_type": "markdown",
   "id": "e8df67b9-6198-4154-adc7-0b9d1cde352b",
   "metadata": {},
   "source": [
    "![Data preview](img/Screenshot_QGIS_10.png)"
   ]
  },
  {
   "cell_type": "markdown",
   "id": "23a1718a-6206-4eb9-82ac-fa538de7f184",
   "metadata": {},
   "source": [
    "By double clicking the catalogue record, the user can also preview the record metadata"
   ]
  },
  {
   "cell_type": "markdown",
   "id": "3c0bfb63-fdaf-4dde-a632-bf6d8eb71cbd",
   "metadata": {},
   "source": [
    "![Metadata preview](img/Screenshot_QGIS_11.png)"
   ]
  },
  {
   "cell_type": "code",
   "execution_count": null,
   "id": "b273e78d-0980-40aa-9eab-9a5c4e0ce371",
   "metadata": {},
   "outputs": [],
   "source": []
  }
 ],
 "metadata": {
  "kernelspec": {
   "display_name": "Python 3",
   "language": "python",
   "name": "python3"
  },
  "language_info": {
   "codemirror_mode": {
    "name": "ipython",
    "version": 3
   },
   "file_extension": ".py",
   "mimetype": "text/x-python",
   "name": "python",
   "nbconvert_exporter": "python",
   "pygments_lexer": "ipython3",
   "version": "3.9.2"
  }
 },
 "nbformat": 4,
 "nbformat_minor": 5
}
