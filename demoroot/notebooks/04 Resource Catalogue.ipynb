{
 "cells": [
  {
   "cell_type": "markdown",
   "id": "26651852-cac0-4bba-b252-d21ce96d100a",
   "metadata": {},
   "source": [
    "## Resource Catalogue demo"
   ]
  },
  {
   "cell_type": "code",
   "execution_count": null,
   "id": "658ce66c-15e4-41cd-b61a-4e9ba53dcd55",
   "metadata": {},
   "outputs": [],
   "source": [
    "from owslib.csw import CatalogueServiceWeb\n",
    "from geolinks import sniff_link\n",
    "from owslib.fes import And, Or, PropertyIsEqualTo, PropertyIsGreaterThanOrEqualTo, PropertyIsLessThanOrEqualTo, PropertyIsLike, BBox, SortBy, SortProperty\n",
    "import folium"
   ]
  },
  {
   "cell_type": "markdown",
   "id": "a86c43c6-0b46-4c55-8baa-f1d0da46c2c6",
   "metadata": {},
   "source": [
    "### System Catalogue"
   ]
  },
  {
   "cell_type": "code",
   "execution_count": null,
   "id": "d07c6f82-0385-4980-899e-c86d9eddc8f8",
   "metadata": {},
   "outputs": [],
   "source": [
    "system_endpoint = 'https://resource-catalogue.185.52.193.87.nip.io/'"
   ]
  },
  {
   "cell_type": "code",
   "execution_count": null,
   "id": "7b05431e-e58e-48c8-a3f0-b9c88851ee90",
   "metadata": {},
   "outputs": [],
   "source": [
    "csw = CatalogueServiceWeb(system_endpoint,timeout=30)"
   ]
  },
  {
   "cell_type": "code",
   "execution_count": null,
   "id": "54251eb6-6568-4947-a254-f06c79e3454f",
   "metadata": {},
   "outputs": [],
   "source": [
    "csw.identification.type"
   ]
  },
  {
   "cell_type": "code",
   "execution_count": null,
   "id": "81104595-78d4-4ff2-ba8a-5cb6a704de6d",
   "metadata": {},
   "outputs": [],
   "source": [
    "csw.version"
   ]
  },
  {
   "cell_type": "code",
   "execution_count": null,
   "id": "646dd77a-6f82-4a1f-9463-94bddb897175",
   "metadata": {},
   "outputs": [],
   "source": [
    "[op.name for op in csw.operations]"
   ]
  },
  {
   "cell_type": "code",
   "execution_count": null,
   "id": "b72c7f69-6d87-4933-8032-f0065fb95f87",
   "metadata": {},
   "outputs": [],
   "source": [
    "csw.getdomain('GetRecords.resultType')\n",
    "csw.results"
   ]
  },
  {
   "cell_type": "code",
   "execution_count": null,
   "id": "b639cb02-bac8-4f55-9512-f013ccaebd22",
   "metadata": {},
   "outputs": [],
   "source": [
    "csw.get_operation_by_name('GetRecords').constraints"
   ]
  },
  {
   "cell_type": "code",
   "execution_count": null,
   "id": "30704881-178d-45de-aeb7-7482c4542770",
   "metadata": {},
   "outputs": [],
   "source": [
    "csw.getrecords2(maxrecords=20)\n",
    "csw.results"
   ]
  },
  {
   "cell_type": "code",
   "execution_count": null,
   "id": "a7b03fde-a5e3-4c8c-8493-4e182a055211",
   "metadata": {},
   "outputs": [],
   "source": [
    "for rec in csw.records:\n",
    "    print(f'identifier: {csw.records[rec].identifier}\\ntype: {csw.records[rec].type}\\ntitle: {csw.records[rec].title}\\n')"
   ]
  },
  {
   "cell_type": "code",
   "execution_count": null,
   "id": "7c3489b5-f437-448b-975f-afd5d2057364",
   "metadata": {},
   "outputs": [],
   "source": [
    "bbox_query = BBox([37.8, 23.4, 38.8, 24.5])"
   ]
  },
  {
   "cell_type": "code",
   "execution_count": null,
   "id": "fec38a23-68fd-4c1f-9213-404859b048ae",
   "metadata": {},
   "outputs": [],
   "source": [
    "begin = PropertyIsLessThanOrEqualTo(propertyname='apiso:TempExtent_begin', literal='2021-04-01 00:00')"
   ]
  },
  {
   "cell_type": "code",
   "execution_count": null,
   "id": "d29f2a96-b2ed-446a-a4d3-9832f9af5e87",
   "metadata": {},
   "outputs": [],
   "source": [
    "end = PropertyIsLessThanOrEqualTo(propertyname='apiso:TempExtent_end', literal='2021-04-21 23:59')"
   ]
  },
  {
   "cell_type": "code",
   "execution_count": null,
   "id": "5a03b5d3-cad9-4da2-93ce-85c7ba8a6003",
   "metadata": {},
   "outputs": [],
   "source": [
    "cloud = PropertyIsLessThanOrEqualTo(propertyname='apiso:CloudCover', literal='20')"
   ]
  },
  {
   "cell_type": "code",
   "execution_count": null,
   "id": "24c735c8-4e87-4d11-af65-12890b4a0c46",
   "metadata": {},
   "outputs": [],
   "source": [
    "filter_list = [\n",
    "    And(\n",
    "        [\n",
    "            bbox_query,  # bounding box\n",
    "            begin, end,  # start and end date\n",
    "            cloud        # cloud\n",
    "        ]\n",
    "    )\n",
    "]"
   ]
  },
  {
   "cell_type": "code",
   "execution_count": null,
   "id": "7c4c4ce0-7c42-4c0b-afac-7725ddbfa724",
   "metadata": {},
   "outputs": [],
   "source": [
    "csw.getrecords2(constraints=filter_list, outputschema='http://www.isotc211.org/2005/gmd')\n",
    "csw.results"
   ]
  },
  {
   "cell_type": "code",
   "execution_count": null,
   "id": "a0554447-6129-48c9-a8d7-47790545968b",
   "metadata": {},
   "outputs": [],
   "source": [
    "collection_query = PropertyIsEqualTo('apiso:ParentIdentifier', 'S2MSI1C')"
   ]
  },
  {
   "cell_type": "code",
   "execution_count": null,
   "id": "0da28f27-2a24-43d5-b843-f636ae802c5b",
   "metadata": {},
   "outputs": [],
   "source": [
    "csw.getrecords2(constraints=[collection_query], outputschema='http://www.isotc211.org/2005/gmd')\n",
    "csw.results"
   ]
  },
  {
   "cell_type": "code",
   "execution_count": null,
   "id": "977c8fdb-bb1c-4507-b6fd-6df271416d1c",
   "metadata": {},
   "outputs": [],
   "source": [
    "csw.getrecords2(constraints=[bbox_query], outputschema='http://www.isotc211.org/2005/gmd')\n",
    "csw.results"
   ]
  },
  {
   "cell_type": "code",
   "execution_count": null,
   "id": "ed6f2986-46b4-46f2-ae86-55b8aa407298",
   "metadata": {},
   "outputs": [],
   "source": [
    "for rec in csw.records:\n",
    "    print(f'identifier: {csw.records[rec].identifier}\\ntype: {csw.records[rec].identification.identtype}\\ntitle: {csw.records[rec].identification.title}\\n')"
   ]
  },
  {
   "cell_type": "code",
   "execution_count": null,
   "id": "0a4ae3e0-1b5d-4092-bc02-5928ee89ed63",
   "metadata": {},
   "outputs": [],
   "source": [
    "anytext_query = PropertyIsEqualTo('csw:AnyText', 'Orthoimagery')"
   ]
  },
  {
   "cell_type": "code",
   "execution_count": null,
   "id": "84e7a1b6-c88f-4846-a81e-bfa8840acad5",
   "metadata": {},
   "outputs": [],
   "source": [
    "csw.getrecords2(constraints=[anytext_query])\n",
    "csw.results"
   ]
  },
  {
   "cell_type": "code",
   "execution_count": null,
   "id": "d0078184-bde5-48b6-a4ab-471a030a19bc",
   "metadata": {},
   "outputs": [],
   "source": [
    "csw_records = {}\n",
    "sortby = SortBy([SortProperty('dc:title', 'ASC')])\n",
    "pagesize=10\n",
    "maxrecords=1000\n",
    "startposition = 0\n",
    "nextrecord = getattr(csw, 'results', 1)\n",
    "while nextrecord != 0:\n",
    "    csw.getrecords2(constraints=[anytext_query], startposition=startposition,\n",
    "                    maxrecords=pagesize, sortby=sortby)\n",
    "    csw_records.update(csw.records)\n",
    "    if csw.results['nextrecord'] == 0:\n",
    "        break\n",
    "    startposition += pagesize\n",
    "    if startposition >= maxrecords:\n",
    "        break\n",
    "csw.records.update(csw_records)\n",
    "records = '\\n'.join(csw.records.keys())\n",
    "print('Found {} records.\\n'.format(len(csw.records.keys())))\n",
    "for key, value in list(csw.records.items()):\n",
    "    print(f'identifier: {value.identifier}\\ntype: {value.type}\\ntitle: {value.title}\\n')"
   ]
  },
  {
   "cell_type": "code",
   "execution_count": null,
   "id": "df46406c-62c7-45b9-b008-081a5267a713",
   "metadata": {},
   "outputs": [],
   "source": [
    "csw.getrecordbyid(id=['S2B_MSIL2A_20200902T090559_N0214_R050_T34SGH_20200902T113910.SAFE'])"
   ]
  },
  {
   "cell_type": "code",
   "execution_count": null,
   "id": "b216d1ef-9964-4f79-918d-409b344b752b",
   "metadata": {},
   "outputs": [],
   "source": [
    "rec = csw.records['S2B_MSIL2A_20200902T090559_N0214_R050_T34SGH_20200902T113910.SAFE']"
   ]
  },
  {
   "cell_type": "code",
   "execution_count": null,
   "id": "0262024b-157c-4ad3-8074-17abb0ec9b8b",
   "metadata": {},
   "outputs": [],
   "source": [
    "rec.title"
   ]
  },
  {
   "cell_type": "code",
   "execution_count": null,
   "id": "09c9ae64-c8eb-4f72-af93-2358e7c0c54a",
   "metadata": {},
   "outputs": [],
   "source": [
    "rec.xml"
   ]
  },
  {
   "cell_type": "code",
   "execution_count": null,
   "id": "10ce5d2f-c79a-45d6-8f6b-c029271781a5",
   "metadata": {},
   "outputs": [],
   "source": [
    "rec.references"
   ]
  },
  {
   "cell_type": "code",
   "execution_count": null,
   "id": "7ed31ca8-4434-45c1-bcf0-13d4e027c71d",
   "metadata": {},
   "outputs": [],
   "source": [
    "msg = 'geolink: {geolink}\\nscheme: {scheme}\\nURL: {url}\\n'.format\n",
    "for ref in rec.references:\n",
    "    print(msg(geolink=sniff_link(ref['url']), **ref))"
   ]
  },
  {
   "cell_type": "code",
   "execution_count": null,
   "id": "72a000c9-9c8b-45e7-9132-42926929eb88",
   "metadata": {},
   "outputs": [],
   "source": [
    "for ref in rec.references:\n",
    "    url = ref['url']\n",
    "    if 'WMS' in url:\n",
    "        print(msg(geolink=sniff_link(url), **ref))\n",
    "        break"
   ]
  },
  {
   "cell_type": "code",
   "execution_count": null,
   "id": "deb27914-c9af-4365-90d9-238e37531975",
   "metadata": {},
   "outputs": [],
   "source": [
    "for ref in rec.references:\n",
    "    url = ref['url']\n",
    "    if 'WCS' in url:\n",
    "        print(msg(geolink=sniff_link(url), **ref))\n",
    "        break"
   ]
  },
  {
   "cell_type": "code",
   "execution_count": null,
   "id": "b8a12c3b-d36c-4240-a1bf-200d443e2230",
   "metadata": {},
   "outputs": [],
   "source": [
    "print(\"dataset bbox = (%s, %s, %s, %s)\" % (rec.bbox.miny, rec.bbox.minx, rec.bbox.maxy, rec.bbox.maxx))"
   ]
  },
  {
   "cell_type": "code",
   "execution_count": null,
   "id": "fda96d60-2356-4d45-bceb-583e93fad5b1",
   "metadata": {},
   "outputs": [],
   "source": [
    "m = folium.Map(location=[38, 24], zoom_start=6, tiles='OpenStreetMap')\n",
    "folium.Rectangle(bounds=[[float(rec.bbox.miny), float(rec.bbox.minx)], [float(rec.bbox.maxy), float(rec.bbox.maxx)]]).add_to(m)\n",
    "m"
   ]
  },
  {
   "cell_type": "markdown",
   "id": "f3828753-519d-4153-b8ed-61b95d569cc0",
   "metadata": {},
   "source": [
    "### Workspace catalogue"
   ]
  },
  {
   "cell_type": "code",
   "execution_count": null,
   "id": "553feac4-ffae-42dc-8006-fa0ca61bcd09",
   "metadata": {
    "tags": []
   },
   "outputs": [],
   "source": [
    "workspace_endpoint = 'https://resource-catalogue.user.185.52.193.87.nip.io'"
   ]
  },
  {
   "cell_type": "code",
   "execution_count": null,
   "id": "fcf6a672-d10e-43ee-a196-80db092ba341",
   "metadata": {},
   "outputs": [],
   "source": [
    "csw = CatalogueServiceWeb(workspace_endpoint,timeout=30)"
   ]
  },
  {
   "cell_type": "code",
   "execution_count": null,
   "id": "908e7656-3368-4d45-ae4f-300cee38f745",
   "metadata": {},
   "outputs": [],
   "source": [
    "csw.getrecords2(maxrecords=20)\n",
    "csw.results"
   ]
  },
  {
   "cell_type": "code",
   "execution_count": null,
   "id": "d8d011ec-0f28-433f-a191-399f445e7a62",
   "metadata": {},
   "outputs": [],
   "source": [
    "for rec in csw.records:\n",
    "    print(f'identifier: {csw.records[rec].identifier}\\ntype: {csw.records[rec].type}\\ntitle: {csw.records[rec].title}\\n')"
   ]
  },
  {
   "cell_type": "code",
   "execution_count": null,
   "id": "495da60a-e729-4411-9d4b-dee658eb66a6",
   "metadata": {},
   "outputs": [],
   "source": [
    "csw.records['INDEX_S2A_MSIL2A_20191216T004701_N0213_R102_T53HPA_20191216T024808'].references"
   ]
  },
  {
   "cell_type": "code",
   "execution_count": null,
   "id": "bb6df62f-7c4c-4029-b5f8-552c656f8c74",
   "metadata": {},
   "outputs": [],
   "source": [
    "csw.records['s-expression'].references"
   ]
  },
  {
   "cell_type": "code",
   "execution_count": null,
   "id": "37806ccf-1450-47d3-ad97-94e5b17d8641",
   "metadata": {},
   "outputs": [],
   "source": [
    "csw.getrecords2(maxrecords=20, distributedsearch=True, hopcount=1)\n",
    "csw.results"
   ]
  },
  {
   "cell_type": "markdown",
   "id": "d25d53cf-efb4-4f8e-acf0-14ac63d0de00",
   "metadata": {},
   "source": [
    "### OpenSearch"
   ]
  },
  {
   "cell_type": "code",
   "execution_count": null,
   "id": "8ebe61ec-5afd-44ca-9a6e-977157ef3a25",
   "metadata": {},
   "outputs": [],
   "source": [
    "endpoint='http://resource-catalogue.185.52.193.87.nip.io/?service=CSW&version=3.0.0&request=GetCapabilities&mode=opensearch'"
   ]
  },
  {
   "cell_type": "code",
   "execution_count": null,
   "id": "8a45580f-0c76-4bc9-b1ed-58e92be28c58",
   "metadata": {},
   "outputs": [],
   "source": [
    "import pyops"
   ]
  },
  {
   "cell_type": "code",
   "execution_count": null,
   "id": "66a2f60a-01b4-47fe-a014-50700421cd04",
   "metadata": {},
   "outputs": [],
   "source": [
    "client = pyops.Client(description_xml_url=endpoint)"
   ]
  },
  {
   "cell_type": "code",
   "execution_count": null,
   "id": "13b02fab-9bb1-4376-8a13-561a27506807",
   "metadata": {},
   "outputs": [],
   "source": [
    "results = client.search()\n",
    "len(results)"
   ]
  },
  {
   "cell_type": "code",
   "execution_count": null,
   "id": "d421e192-0c2b-44bb-8d39-c90200f01cd3",
   "metadata": {},
   "outputs": [],
   "source": [
    "results = client.search(params={\"{eo:parentIdentifier?}\": {\"value\": \"S2MSI2A\"}})\n",
    "len(results)"
   ]
  },
  {
   "cell_type": "code",
   "execution_count": null,
   "id": "f02659d6-2273-4baa-940c-dfe9ade298c1",
   "metadata": {},
   "outputs": [],
   "source": [
    "# OpenSearch EO mathematical notation\n",
    "# n1 equal to field = n1\n",
    "# {n1,n2,…} equals to field=n1 OR field=n2 OR …\n",
    "# [n1,n2] equal to n1 <= field <= n2\n",
    "# [n1,n2[ equals to n1 <= field < n2\n",
    "# ]n1,n2[ equals to n1 < field < n2\n",
    "# ]n1,n2] equal to n1 < field  <= n2\n",
    "# [n1 equals to n1<= field\n",
    "# ]n1 equals to n1 < field\n",
    "# n2] equals to field <= n2\n",
    "# n2[ equals to field < n2\n",
    "\n",
    "results = client.search(params={\"{eo:cloudCover?}\": {\"value\": \"80[\"}})  # eo:cloudCover < 80\n",
    "len(results)"
   ]
  },
  {
   "cell_type": "code",
   "execution_count": null,
   "id": "e87caed2-5177-4196-b3e2-35faaf44fba8",
   "metadata": {},
   "outputs": [],
   "source": [
    "results = client.search(params={\"{eo:cloudCover?}\": {\"value\": \"]20\"}})  # eo:cloudCover > 20\n",
    "len(results)"
   ]
  },
  {
   "cell_type": "code",
   "execution_count": null,
   "id": "c19ceaa4-e7cf-4b90-9139-cedf782445a8",
   "metadata": {},
   "outputs": [],
   "source": [
    "results[1]"
   ]
  },
  {
   "cell_type": "code",
   "execution_count": null,
   "id": "ac5ea886-b414-4df2-a482-408854c938fc",
   "metadata": {},
   "outputs": [],
   "source": [
    "import requests\n",
    "from bs4 import BeautifulSoup"
   ]
  },
  {
   "cell_type": "code",
   "execution_count": null,
   "id": "0871144c-4011-4935-baf6-cfd3c2171f74",
   "metadata": {},
   "outputs": [],
   "source": [
    "S = requests.Session()"
   ]
  },
  {
   "cell_type": "code",
   "execution_count": null,
   "id": "23fc3f20-75fb-4acf-9ff3-b00df47ed234",
   "metadata": {},
   "outputs": [],
   "source": [
    "R = S.get(url=endpoint)\n",
    "bs = BeautifulSoup(R.text, 'xml')\n",
    "print(bs.prettify())"
   ]
  },
  {
   "cell_type": "code",
   "execution_count": null,
   "id": "e17b7bc4-1220-43c1-a11a-62639ea32136",
   "metadata": {},
   "outputs": [],
   "source": [
    "url='https://resource-catalogue.185.52.193.87.nip.io/?mode=opensearch&service=CSW&version=3.0.0&request=GetRecords&elementsetname=full&resulttype=results&typenames=csw:Record'\n",
    "R = S.get(url=url)\n",
    "bs = BeautifulSoup(R.text, 'xml')\n",
    "print(bs.prettify())"
   ]
  },
  {
   "cell_type": "code",
   "execution_count": null,
   "id": "f7e61ee8-062f-486e-9363-7b3aa5465226",
   "metadata": {},
   "outputs": [],
   "source": [
    "url='https://resource-catalogue.user.185.52.193.87.nip.io/?mode=opensearch&service=CSW&version=3.0.0&request=GetRecords&elementsetname=full&resulttype=results&typenames=csw:Record'\n",
    "R = S.get(url=url)\n",
    "bs = BeautifulSoup(R.text, 'xml')\n",
    "print(bs.prettify())"
   ]
  },
  {
   "cell_type": "markdown",
   "id": "1fb640c7-4a64-40e7-9d05-7af7dfb84543",
   "metadata": {},
   "source": [
    "## Federated Search"
   ]
  },
  {
   "cell_type": "code",
   "execution_count": null,
   "id": "f4b7bd1a-4f73-4ffe-bd18-ea11e2a2d18a",
   "metadata": {},
   "outputs": [],
   "source": [
    "url='https://resource-catalogue.user.185.52.193.87.nip.io/?mode=opensearch&service=CSW&version=3.0.0&request=GetRecords&typenames=csw:Record&elementsetname=full&resulttype=results&distributedSearch=TRUE&hopcount=1'\n",
    "R = S.get(url=url)\n",
    "bs = BeautifulSoup(R.text, 'xml')\n",
    "print(bs.prettify())"
   ]
  },
  {
   "cell_type": "markdown",
   "id": "a86aaea4-8f47-4061-8817-68de1e126353",
   "metadata": {},
   "source": [
    "## Collections Search"
   ]
  },
  {
   "cell_type": "code",
   "execution_count": null,
   "id": "bdaf542d-a7f3-46ec-af30-edd908fe3822",
   "metadata": {},
   "outputs": [],
   "source": [
    "url='https://resource-catalogue.185.52.193.87.nip.io/?mode=opensearch&service=CSW&version=3.0.0&request=GetRecords&elementsetname=full&resulttype=results&typenames=csw:Record&eo:parentIdentifier=S2MSI2A'\n",
    "R = S.get(url=url)\n",
    "bs = BeautifulSoup(R.text, 'xml')\n",
    "print(bs.prettify())"
   ]
  }
 ],
 "metadata": {
  "kernelspec": {
   "display_name": "Python 3",
   "language": "python",
   "name": "python3"
  },
  "language_info": {
   "codemirror_mode": {
    "name": "ipython",
    "version": 3
   },
   "file_extension": ".py",
   "mimetype": "text/x-python",
   "name": "python",
   "nbconvert_exporter": "python",
   "pygments_lexer": "ipython3",
   "version": "3.8.8"
  }
 },
 "nbformat": 4,
 "nbformat_minor": 5
}
