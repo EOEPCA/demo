{
 "cells": [
  {
   "cell_type": "markdown",
   "id": "difficult-acrylic",
   "metadata": {},
   "source": [
    "# Demonstration\n",
    "End-to-end demonstration.<br>\n",
    "Ref. https://docs.google.com/document/d/1opi0xGTaMZC0TA2CF2VF1DrWHXeE6M-89ricwlsXtXg/edit?usp=sharing"
   ]
  },
  {
   "cell_type": "code",
   "execution_count": null,
   "id": "differential-greece",
   "metadata": {},
   "outputs": [],
   "source": [
    "import utils.DemoClient as client\n",
    "import jwt\n",
    "import json\n",
    "import boto3\n",
    "from awscli.customizations.s3.utils import split_s3_bucket_key\n",
    "\n",
    "from owslib.csw import CatalogueServiceWeb\n",
    "from owslib.fes import And, Or, PropertyIsEqualTo, PropertyIsGreaterThanOrEqualTo, PropertyIsLessThanOrEqualTo, PropertyIsLike, BBox, SortBy, SortProperty\n",
    "from owslib.wms import WebMapService\n",
    "from geolinks import sniff_link\n",
    "import folium\n",
    "import requests\n",
    "from bs4 import BeautifulSoup\n",
    "import pyops"
   ]
  },
  {
   "cell_type": "markdown",
   "id": "concerned-spring",
   "metadata": {
    "tags": []
   },
   "source": [
    "## Demo Client Setup\n",
    "We now instantiate a client to interact with the platform.<br>\n",
    "The client dynamically registers with the Authorization Server to take part in UMA (User Managed Access) flows through which authorization is obtained for scoped access resources on behalf of the user."
   ]
  },
  {
   "cell_type": "code",
   "execution_count": null,
   "id": "subtle-tissue",
   "metadata": {
    "tags": []
   },
   "outputs": [],
   "source": [
    "#-------------------------------------------------------------------------------\n",
    "# Initialise client\n",
    "#-------------------------------------------------------------------------------\n",
    "base_domain = \"185.52.193.87.nip.io\"\n",
    "demo = client.DemoClient(f\"https://test.{base_domain}\")\n",
    "demo.register_client()\n",
    "demo.save_state()"
   ]
  },
  {
   "cell_type": "markdown",
   "id": "unavailable-surveillance",
   "metadata": {},
   "source": [
    "### Authenticated User (Eric)\n",
    "We require an authenticated user to interact with some of the platform endpoints - in particular for eoepca v0.3 the ADES.<br>\n",
    "User authenticates and the client receives an ID Token (JWT) that represents the user.<br>\n",
    "For convenience within the Jupyter notebook we use a username/password authentication - but the primary mechanism is to rely upon external identity provision.<br>\n",
    "Currently, login with GitHub is supported."
   ]
  },
  {
   "cell_type": "code",
   "execution_count": null,
   "id": "committed-memorabilia",
   "metadata": {
    "tags": []
   },
   "outputs": [],
   "source": [
    "#-------------------------------------------------------------------------------\n",
    "# Authenticate as user 'eric' and get ID Token\n",
    "#-------------------------------------------------------------------------------\n",
    "USER_NAME=\"eric\"\n",
    "USER_PASSWORD=\"defaultPWD\"\n",
    "user_id_token = demo.get_id_token(USER_NAME, USER_PASSWORD)"
   ]
  },
  {
   "cell_type": "markdown",
   "id": "marine-manufacturer",
   "metadata": {},
   "source": [
    "## Application Discovery\n",
    "Alice uses the Processor Development Environment (PDE) to develop, test and package an application.\n",
    "Alice's published outputs are:\n",
    "* Docker image published to DockerHub\n",
    "* Application Package (CWL) published to Resource Catalogue (TBD) and/or GitHub - accessible by href"
   ]
  },
  {
   "cell_type": "code",
   "execution_count": null,
   "id": "neutral-phoenix",
   "metadata": {},
   "outputs": [],
   "source": [
    "app_id = \"nhi\"\n",
    "app_version = \"0_0_3\"\n",
    "application_name = f\"{app_id}-{app_version}\""
   ]
  },
  {
   "cell_type": "markdown",
   "id": "technological-bikini",
   "metadata": {},
   "source": [
    "The following demonstrates how to discover the Application Package from Alice's workspace through the Resource Catalogue API"
   ]
  },
  {
   "cell_type": "code",
   "execution_count": null,
   "id": "laden-cornwall",
   "metadata": {},
   "outputs": [],
   "source": [
    "# TODO - Alice's workspace not working\n",
    "#alice_workspace_endpoint = f'https://resource-catalogue.rm-user-alice.{base_domain}'\n",
    "alice_workspace_endpoint = f'https://resource-catalogue.user.{base_domain}'\n",
    "csw = CatalogueServiceWeb(alice_workspace_endpoint,timeout=30)\n",
    "csw.getrecords2(maxrecords=10)\n",
    "print(\"Alice's workspace records:\")\n",
    "for rec in csw.records:\n",
    "    print(f'identifier: {csw.records[rec].identifier}\\ntype: {csw.records[rec].type}\\ntitle: {csw.records[rec].title}\\n')\n",
    "print(\"URL for Application s-expression:\")\n",
    "csw.records[app_id].references"
   ]
  },
  {
   "cell_type": "code",
   "execution_count": null,
   "id": "wireless-negotiation",
   "metadata": {},
   "outputs": [],
   "source": [
    "# Extract the URL for the Application Package\n",
    "# TODO [Angelos] - need to extract http URL for AP\n",
    "application_package_url = \"TBD\"\n",
    "print(f\"Application Package URL = {application_package_url}\")"
   ]
  },
  {
   "cell_type": "markdown",
   "id": "quantitative-minute",
   "metadata": {
    "tags": []
   },
   "source": [
    "## Data Discovery\n",
    "\n",
    "Eric discovers data using platform services (Resource Catalogue / DAS) and QGIS\n",
    "* CSW and OpenSearch endpoints\n",
    "* Data visualisation"
   ]
  },
  {
   "cell_type": "markdown",
   "id": "expired-language",
   "metadata": {},
   "source": [
    "### Resource Catalogue CSW and OpenSearch"
   ]
  },
  {
   "cell_type": "markdown",
   "id": "challenging-process",
   "metadata": {},
   "source": [
    "In this part of the demo, Eric uses the system level resource catalogue endpoint to discover data collections and datasets.  The system level resource catalogue enables discovery of data available to all users.\n",
    "\n",
    "[OWSLib](https://geopython.github.io/OWSLib) is a Python package for client programming with Open Geospatial Consortium (OGC) web service (hence OWS) interface standards, and their related content models. In this demo we will work with the CSW, WMS and WCS interfaces.\n",
    "\n",
    "The `owslib.csw` class of OWSLib is instantiated and service metadata are shown."
   ]
  },
  {
   "cell_type": "code",
   "execution_count": null,
   "id": "herbal-scholar",
   "metadata": {},
   "outputs": [],
   "source": [
    "system_catalogue_endpoint = f'https://resource-catalogue.{base_domain}'\n",
    "csw = CatalogueServiceWeb(system_catalogue_endpoint, timeout=30)"
   ]
  },
  {
   "cell_type": "markdown",
   "id": "found-wright",
   "metadata": {},
   "source": [
    "Service metadata shown here include supported operations and queryables"
   ]
  },
  {
   "cell_type": "code",
   "execution_count": null,
   "id": "tropical-string",
   "metadata": {},
   "outputs": [],
   "source": [
    "[op.name for op in csw.operations]"
   ]
  },
  {
   "cell_type": "code",
   "execution_count": null,
   "id": "professional-newport",
   "metadata": {},
   "outputs": [],
   "source": [
    "csw.get_operation_by_name('GetRecords').constraints"
   ]
  },
  {
   "cell_type": "markdown",
   "id": "comic-register",
   "metadata": {},
   "source": [
    "Eric can make a GetRecords request to get all records of the catalogue, with a page size of 10."
   ]
  },
  {
   "cell_type": "code",
   "execution_count": null,
   "id": "orange-sport",
   "metadata": {},
   "outputs": [],
   "source": [
    "csw.getrecords2(maxrecords=10)\n",
    "csw.results"
   ]
  },
  {
   "cell_type": "markdown",
   "id": "available-virus",
   "metadata": {},
   "source": [
    "Eric wishes to discover data with specific search criteria. Here we demonstrate how to create spatial (`bbox`), temporal (`time`), and attribute (`apiso:CloudCover`) filters combined with logical operators like And/Or. An OGC Filter is created and sent to the Resource Catalogue:"
   ]
  },
  {
   "cell_type": "code",
   "execution_count": null,
   "id": "competitive-identity",
   "metadata": {},
   "outputs": [],
   "source": [
    "bbox_query = BBox([37, 13.9, 37.9, 15.1])\n",
    "begin = PropertyIsLessThanOrEqualTo(propertyname='apiso:TempExtent_begin', literal='2021-04-02 00:00')\n",
    "end = PropertyIsLessThanOrEqualTo(propertyname='apiso:TempExtent_end', literal='2021-04-02 23:59')\n",
    "cloud = PropertyIsLessThanOrEqualTo(propertyname='apiso:CloudCover', literal='20')\n",
    "filter_list = [\n",
    "    And(\n",
    "        [\n",
    "            bbox_query,  # bounding box\n",
    "            begin, end,  # start and end date\n",
    "            cloud        # cloud\n",
    "        ]\n",
    "    )\n",
    "]\n",
    "csw.getrecords2(constraints=filter_list, outputschema='http://www.isotc211.org/2005/gmd')\n",
    "csw.results"
   ]
  },
  {
   "cell_type": "code",
   "execution_count": null,
   "id": "minimal-impression",
   "metadata": {},
   "outputs": [],
   "source": [
    "for rec in csw.records:\n",
    "    print(f'identifier: {csw.records[rec].identifier}\\ntype: {csw.records[rec].identification.identtype}\\ntitle: {csw.records[rec].identification.title}\\n')"
   ]
  },
  {
   "cell_type": "markdown",
   "id": "large-conversion",
   "metadata": {},
   "source": [
    "Eric selects one record using the identifier and discovers the available links:"
   ]
  },
  {
   "cell_type": "code",
   "execution_count": null,
   "id": "spatial-accessory",
   "metadata": {},
   "outputs": [],
   "source": [
    "selected_record = list(csw.records)[0] # TODO [Angelos] - check which is the best scene\n",
    "csw.getrecordbyid(id=[selected_record])\n",
    "rec = csw.records[selected_record]\n",
    "rec.title"
   ]
  },
  {
   "cell_type": "code",
   "execution_count": null,
   "id": "generic-amazon",
   "metadata": {},
   "outputs": [],
   "source": [
    "rec.references"
   ]
  },
  {
   "cell_type": "markdown",
   "id": "equipped-gross",
   "metadata": {},
   "source": [
    "Eric can also see the record footprint on a map, using the [Folium](https://github.com/python-visualization/folium) Python library:"
   ]
  },
  {
   "cell_type": "code",
   "execution_count": null,
   "id": "domestic-portuguese",
   "metadata": {},
   "outputs": [],
   "source": [
    "m = folium.Map(location=[38, 20], zoom_start=6, tiles='OpenStreetMap')\n",
    "folium.Rectangle(bounds=[[float(rec.bbox.miny), float(rec.bbox.minx)], [float(rec.bbox.maxy), float(rec.bbox.maxx)]]).add_to(m)\n",
    "m"
   ]
  },
  {
   "cell_type": "markdown",
   "id": "becoming-reference",
   "metadata": {},
   "source": [
    "The same record can also be retrieved from the Resource Catalogue using the OpenSearch API and the dataset identifier:"
   ]
  },
  {
   "cell_type": "code",
   "execution_count": null,
   "id": "interstate-skill",
   "metadata": {},
   "outputs": [],
   "source": [
    "url=f'{system_catalogue_endpoint}/?mode=opensearch&service=CSW&version=3.0.0&request=GetRecords&elementsetname=full&resulttype=results&typenames=csw:Record&recordids={selected_record}'\n",
    "S = requests.Session()\n",
    "R = S.get(url=url)\n",
    "bs = BeautifulSoup(R.text, 'xml')\n",
    "print(bs.prettify())"
   ]
  },
  {
   "cell_type": "markdown",
   "id": "handy-partner",
   "metadata": {},
   "source": [
    "Eric can also use a generic OpenSearch client to query the Resource Catalogue, including parameters in the search, like the parent identifier for collection level search:"
   ]
  },
  {
   "cell_type": "code",
   "execution_count": null,
   "id": "approved-pasta",
   "metadata": {},
   "outputs": [],
   "source": [
    "opensearch_endpoint=f'{system_catalogue_endpoint}/?service=CSW&version=3.0.0&request=GetCapabilities&mode=opensearch'\n",
    "client = pyops.Client(description_xml_url=opensearch_endpoint)\n",
    "results = client.search(params={\"{eo:parentIdentifier?}\": {\"value\": \"S2MSI2A\"}})\n",
    "len(results)"
   ]
  },
  {
   "cell_type": "markdown",
   "id": "blank-conviction",
   "metadata": {},
   "source": [
    "### Data Access Services - WMS, WCS"
   ]
  },
  {
   "cell_type": "markdown",
   "id": "computational-montana",
   "metadata": {},
   "source": [
    "Eric has already discovered the dataset to use by using the OWSLib CSW client.\n",
    "\n",
    "Using the [geolinks](https://github.com/geopython/geolinks) Python library, Eric can filter the links that are of a specific type (here WMS and WCS links to be used for visualization):"
   ]
  },
  {
   "cell_type": "code",
   "execution_count": null,
   "id": "foster-findings",
   "metadata": {},
   "outputs": [],
   "source": [
    "csw = CatalogueServiceWeb(system_catalogue_endpoint, timeout=30)\n",
    "scene_id = selected_record\n",
    "csw.getrecordbyid(id=[scene_id])\n",
    "links = csw.records[scene_id].references\n",
    "for link in links:\n",
    "    scheme = link['scheme']\n",
    "    if 'WMS' in scheme:\n",
    "        wms_endpoint=link['url']\n",
    "        print(link['url'])"
   ]
  },
  {
   "cell_type": "markdown",
   "id": "blocked-night",
   "metadata": {},
   "source": [
    "After discovering the dataset, Eric can identify the WMS link and use the OWSLib WMS client to visualize the dataset"
   ]
  },
  {
   "cell_type": "code",
   "execution_count": null,
   "id": "gross-allocation",
   "metadata": {},
   "outputs": [],
   "source": [
    "wms = WebMapService(wms_endpoint, version='1.3.0')\n",
    "list(wms.contents)"
   ]
  },
  {
   "cell_type": "code",
   "execution_count": null,
   "id": "handy-recruitment",
   "metadata": {},
   "outputs": [],
   "source": [
    "wms[scene_id].title"
   ]
  },
  {
   "cell_type": "markdown",
   "id": "stuck-element",
   "metadata": {},
   "source": [
    "Eric can now visualize the WMS GetMap request from matplotlib:"
   ]
  },
  {
   "cell_type": "code",
   "execution_count": null,
   "id": "double-astronomy",
   "metadata": {},
   "outputs": [],
   "source": [
    "%matplotlib inline\n",
    "import os, sys\n",
    "import matplotlib.image as mpimg\n",
    "import matplotlib.pyplot as plt\n",
    "\n",
    "def get_map(wms, layer_name, bbox, filename):\n",
    "    wms.getOperationByName('GetMap').formatOptions\n",
    "    img = wms.getmap(layers=[layer_name],\n",
    "                     size=(600,300),\n",
    "                     srs='EPSG:4326',\n",
    "                     bbox=bbox,\n",
    "                     format='image/png',\n",
    "                     transparent=True)\n",
    "\n",
    "    with open(filename,'wb') as tmpfile:\n",
    "        tmpfile.write(img.read())"
   ]
  },
  {
   "cell_type": "code",
   "execution_count": null,
   "id": "private-channel",
   "metadata": {},
   "outputs": [],
   "source": [
    "get_map(wms,f'{selected_record}__TRUE_COLOR',(13.8,36.9,15.1,37.9), 'rgb.png')\n",
    "image1 = mpimg.imread('rgb.png')\n",
    "fig = plt.figure(figsize=(12,7))\n",
    "img1 = plt.imshow(image1, extent=[13.8,15.1,36.9,37.9], aspect='auto')\n",
    "plt.show()"
   ]
  },
  {
   "cell_type": "markdown",
   "id": "logical-constraint",
   "metadata": {},
   "source": [
    "## Processing - ADES\n",
    "The ADES provides WPS 1.0/2.0 and OGC API - Processes interfaces - with extensions for deploying and undeploying processes.\n",
    "\n",
    "The ADES provides user-specific endpoints, using a URL path prefix."
   ]
  },
  {
   "cell_type": "code",
   "execution_count": null,
   "id": "favorite-biotechnology",
   "metadata": {},
   "outputs": [],
   "source": [
    "# ADES URLs\n",
    "ades_base_url = f\"http://ades.test.{base_domain}\"\n",
    "ades_wps_url = f\"{ades_base_url}/{USER_NAME}/zoo\"\n",
    "print(\"ADES WPS endpoint:\", ades_wps_url)\n",
    "\n",
    "ades_proc_url = f\"{ades_base_url}/{USER_NAME}/wps3\"\n",
    "print(\"ADES API Processes endpoint:\", ades_proc_url)\n",
    "\n",
    "# Init\n",
    "ades_access_token = None"
   ]
  },
  {
   "cell_type": "markdown",
   "id": "conservative-colors",
   "metadata": {},
   "source": [
    "### ADES: List Processes\n",
    "**GET {service_url}/processes**<br>\n",
    "Provides a list of all processes "
   ]
  },
  {
   "cell_type": "code",
   "execution_count": null,
   "id": "satisfactory-advancement",
   "metadata": {
    "tags": []
   },
   "outputs": [],
   "source": [
    "# API Processes - List Processes\n",
    "response, ades_access_token, process_ids = demo.proc_list_processes(ades_proc_url, id_token=user_id_token, access_token=ades_access_token)\n",
    "print(\"Processes:\", process_ids)\n",
    "# demo.response_summary(response)"
   ]
  },
  {
   "cell_type": "markdown",
   "id": "entire-minimum",
   "metadata": {},
   "source": [
    "### ADES: Deploy Application\n",
    "**POST {service_url}/processes**<br>\n",
    "Deploy application to the ADES.<br>\n",
    "Request body is json in the same format as defined for an Execute request (ref. API Processes), in which the input is the Application Package describing the application.<br>\n",
    "The Application Package is a CWL Workflow that is typically provided as an href with content type **_application/atom+xml_** or **_application/cwl_**."
   ]
  },
  {
   "cell_type": "code",
   "execution_count": null,
   "id": "uniform-andrew",
   "metadata": {},
   "outputs": [],
   "source": [
    "# TODO - dynamic insertion of AP URL into deploy POST body\n",
    "# something like...\n",
    "# sed -e 's/APPLICATION_PACKAGE_URL/<ap-url>/' demoroot/data/app-deploy-body-template.json"
   ]
  },
  {
   "cell_type": "code",
   "execution_count": null,
   "id": "quality-filter",
   "metadata": {},
   "outputs": [],
   "source": [
    "# API Processes - Deploy Application\n",
    "response, ades_access_token = demo.proc_deploy_application(ades_proc_url, \"../data/app-deploy-body-cwl.json\", id_token=user_id_token, access_token=ades_access_token)"
   ]
  },
  {
   "cell_type": "markdown",
   "id": "rotary-validity",
   "metadata": {},
   "source": [
    "**_Dynamic Resource Protection_**<br>\n",
    "The application deployment creates new endpoints within the ADES that need to be protected - e.g. those for _Details_ **(processes/{application_name})** and _Execute_ **(processes/{application_name}/jobs)**.<br>\n",
    "During deployment, the ADES interfaces with its PEP (Policy Enforcement Point) to register these endpoints as protected under the ownership of the calling user."
   ]
  },
  {
   "cell_type": "code",
   "execution_count": null,
   "id": "assumed-cyprus",
   "metadata": {
    "tags": []
   },
   "outputs": [],
   "source": [
    "# Check deploy - list processes again\n",
    "response, ades_access_token, process_ids = demo.proc_list_processes(ades_proc_url, id_token=user_id_token, access_token=ades_access_token)\n",
    "print(\"Processes:\", process_ids)"
   ]
  },
  {
   "cell_type": "markdown",
   "id": "fancy-wound",
   "metadata": {},
   "source": [
    "### ADES: Get Application Details\n",
    "**GET {service_url}/processes/{application_name}**<br>\n",
    "Provides details of the deployed application<br>\n",
    "The response includes the API Processes json application description."
   ]
  },
  {
   "cell_type": "code",
   "execution_count": null,
   "id": "allied-murray",
   "metadata": {},
   "outputs": [],
   "source": [
    "# API Processes - Get Application Details\n",
    "response, ades_access_token = demo.proc_get_app_details(ades_proc_url, application_name, id_token=user_id_token, access_token=ades_access_token)\n",
    "demo.response_summary(response)"
   ]
  },
  {
   "cell_type": "markdown",
   "id": "informed-range",
   "metadata": {},
   "source": [
    "### ADES: Execute Application\n",
    "**POST {service_url}/processes/{application_name}/jobs**<br>\n",
    "Request body is json as defined by API Processes to define the inputs and outputs, consistent with the CWL Workflow application package.<br>\n",
    "The response returns **201 CREATED** to indicate that the job has been successfully initiated.<br>\n",
    "The response **Location header** provides the path (/processes/{application_name}/jobs/{job_id}) to follow the job status."
   ]
  },
  {
   "cell_type": "code",
   "execution_count": null,
   "id": "double-detector",
   "metadata": {},
   "outputs": [],
   "source": [
    "# TODO - dynamic insertion of discovered input URL into execute POST body"
   ]
  },
  {
   "cell_type": "code",
   "execution_count": null,
   "id": "committed-banana",
   "metadata": {},
   "outputs": [],
   "source": [
    "# API Processes - Execute Application\n",
    "response, ades_access_token, job_location_path = demo.proc_execute_application(ades_proc_url, application_name, \"../data/app-execute-body.json\", id_token=user_id_token, access_token=ades_access_token)"
   ]
  },
  {
   "cell_type": "code",
   "execution_count": null,
   "id": "14449f45-f64c-4ed2-8c90-e56b3e151f3e",
   "metadata": {},
   "outputs": [],
   "source": [
    "# Retrieve job id from the Location header of the response\n",
    "jobid = response.headers[\"Location\"].rsplit('/', 1)[-1]\n",
    "print(jobid)"
   ]
  },
  {
   "cell_type": "markdown",
   "id": "english-workshop",
   "metadata": {},
   "source": [
    "### ADES: Job Status\n",
    "**GET {service_url}/watchjob/processes/{application_name}/jobs/{job_id}**<br>\n",
    "Check the status of a previously submitted job - using the URL returned in the Location header of the execute request.<br>\n",
    "The response body json provides a status string (success/running/failed) and a % progress.<br>\n",
    "In the case of a failure then a descriptive message is provided."
   ]
  },
  {
   "cell_type": "code",
   "execution_count": null,
   "id": "arbitrary-genetics",
   "metadata": {},
   "outputs": [],
   "source": [
    "# API Processes - Job Status\n",
    "response, ades_access_token, status = demo.proc_get_job_status(ades_base_url, job_location_path, id_token=user_id_token, access_token=ades_access_token)\n",
    "demo.response_summary(response)"
   ]
  },
  {
   "cell_type": "markdown",
   "id": "equal-value",
   "metadata": {},
   "source": [
    "**Polling for Job Completion**<br>\n",
    "The job execution is asynchronous.<br>\n",
    "The Job Status endpoint is polled until the job completes."
   ]
  },
  {
   "cell_type": "code",
   "execution_count": null,
   "id": "afraid-browse",
   "metadata": {},
   "outputs": [],
   "source": [
    "# TODO - fix problem with occasional 504 responses from the ades\n",
    "#   - either fix in the ades\n",
    "#   - or handle in the demo client\n",
    "# API Processes - Job Status (keep polling for completion)\n",
    "response, ades_access_token, status = demo.proc_poll_job_completion(ades_base_url, job_location_path, interval=10, id_token=user_id_token, access_token=ades_access_token)"
   ]
  },
  {
   "cell_type": "code",
   "execution_count": null,
   "id": "respective-drink",
   "metadata": {},
   "outputs": [],
   "source": [
    "# Inspect response\n",
    "demo.response_summary(response)"
   ]
  },
  {
   "cell_type": "markdown",
   "id": "legitimate-calendar",
   "metadata": {},
   "source": [
    "### ADES Stage-out\n",
    "At the successful completion of processing, the ADES stages out the results to platform storage (under the direction of the user's Workspace component), and registers the data in the User Workspace for access and further exploitation.<br>\n",
    "![ADES processing results stage-out](https://raw.githubusercontent.com/EOEPCA/eoepca/develop/technical/workspace/seq-ades-processing-results-stage-out.png)"
   ]
  },
  {
   "cell_type": "markdown",
   "id": "rising-tradition",
   "metadata": {},
   "source": [
    "### ADES: Job Result\n",
    "**GET {service_url}/watchjob/processes/{application_name}/jobs/{job_id}/result**<br>\n",
    "Returns details of the outputs for a successful job execution.<br>\n",
    "The response body provides json data that includes the reference to the STAC file that indexes the processing outputs."
   ]
  },
  {
   "cell_type": "code",
   "execution_count": null,
   "id": "charged-compound",
   "metadata": {},
   "outputs": [],
   "source": [
    "# API Processes - Job Result\n",
    "response, ades_access_token, stacCatalogUri = demo.proc_get_job_result(ades_base_url, job_location_path, id_token=user_id_token, access_token=ades_access_token)\n",
    "demo.response_summary(response)\n",
    "print(\"stacCatalogUri:\", stacCatalogUri)"
   ]
  },
  {
   "cell_type": "markdown",
   "id": "5423ed03-6c81-459b-9e9f-6fbba6b10246",
   "metadata": {},
   "source": [
    "**Inspecting the processing results**"
   ]
  },
  {
   "cell_type": "markdown",
   "id": "76fd32a7-49cb-415a-898b-d3a0465ad0bd",
   "metadata": {},
   "source": [
    "Retrieve access information to the user workspace S3 bucket (bucket name, access key and secret access key)"
   ]
  },
  {
   "cell_type": "code",
   "execution_count": null,
   "id": "20a473f1-279f-40d6-b547-dc8806087d53",
   "metadata": {},
   "outputs": [],
   "source": [
    "# Init\n",
    "workspace_url = \"https://workspace-api.\" + base_domain\n",
    "workspace_access_token = None\n",
    "\n",
    "# Workspace - Get Details\n",
    "workspace_name = \"rm-user-\" + USER_NAME.lower()\n",
    "response, workspace_access_token = demo.workspace_get_details(workspace_url, workspace_name, id_token=user_id_token, access_token=workspace_access_token)\n",
    "workspace_details = response.json()\n",
    "\n",
    "# Bucket details\n",
    "bucket_name = workspace_details[\"storage\"][\"credentials\"][\"bucketname\"]\n",
    "s3_access = workspace_details[\"storage\"][\"credentials\"][\"access\"]\n",
    "s3_secret = workspace_details[\"storage\"][\"credentials\"][\"secret\"]"
   ]
  },
  {
   "cell_type": "markdown",
   "id": "a2cbc55c-50ec-4bed-b1e4-29044edb7ef8",
   "metadata": {},
   "source": [
    "Print the content of the result stac catalog file"
   ]
  },
  {
   "cell_type": "code",
   "execution_count": null,
   "id": "9baf5a4a-e722-4fcd-8d66-4f855fa42f6a",
   "metadata": {},
   "outputs": [],
   "source": [
    "# Quick hack S3 access\n",
    "import boto3\n",
    "\n",
    "# Init S3 session for Creodias\n",
    "S3_ENDPOINT = \"https://cf2.cloudferro.com:8080\"\n",
    "session = boto3.session.Session()\n",
    "s3resource = session.resource('s3', aws_access_key_id=s3_access, aws_secret_access_key=s3_secret, endpoint_url=S3_ENDPOINT)\n",
    "\n",
    "# Retrieve S3 key path of the catalog.json\n",
    "stacCatalogUriS3Key = \"/\".join(stacCatalogUri.rsplit('/', 2)[-2:])\n",
    "print(f\"Content of {stacCatalogUriS3Key} :\\n\")\n",
    "\n",
    "# Printing catalog.json\n",
    "obj = s3resource.Object(bucket_name, stacCatalogUriS3Key)\n",
    "catalogJson = json.loads(obj.get()['Body'].read().decode('utf-8'))\n",
    "print(json.dumps(catalogJson, indent=4, sort_keys=True))"
   ]
  },
  {
   "cell_type": "markdown",
   "id": "82d96c58-83c8-4989-be74-eb3da161d5ba",
   "metadata": {},
   "source": [
    "List all the files contained in the result folder"
   ]
  },
  {
   "cell_type": "code",
   "execution_count": null,
   "id": "593b7ae5-02a7-497e-b279-b9c940fdeabe",
   "metadata": {},
   "outputs": [],
   "source": [
    "# List result contents\n",
    "bucket = s3resource.Bucket(bucket_name)\n",
    "for obj in bucket.objects.filter(Prefix=f\"wf-{jobid}/\"):\n",
    "    print(obj.key)"
   ]
  },
  {
   "cell_type": "markdown",
   "id": "green-wrist",
   "metadata": {},
   "source": [
    "### ADES: List Jobs\n",
    "**GET {service_url}/processes/{application_name}/jobs**<br>\n",
    "Provides a list of all jobs for the named processes "
   ]
  },
  {
   "cell_type": "code",
   "execution_count": null,
   "id": "noble-homework",
   "metadata": {},
   "outputs": [],
   "source": [
    "# API Processes - List Jobs\n",
    "response, ades_access_token, job_ids = demo.proc_list_jobs(ades_proc_url, application_name, id_token=user_id_token, access_token=ades_access_token)\n",
    "print(\"Jobs:\", job_ids)"
   ]
  },
  {
   "cell_type": "markdown",
   "id": "sharing-fusion",
   "metadata": {},
   "source": [
    "### ADES: Undeploy Application\n",
    "**DELETE {service_url}/processes/{application_name}**<br>\n",
    "Undeploy application from the ADES"
   ]
  },
  {
   "cell_type": "code",
   "execution_count": null,
   "id": "bearing-processing",
   "metadata": {},
   "outputs": [],
   "source": [
    "# API Processes - Undeploy Application\n",
    "response, ades_access_token = demo.proc_undeploy_application(ades_proc_url, application_name, id_token=user_id_token, access_token=ades_access_token)"
   ]
  },
  {
   "cell_type": "code",
   "execution_count": null,
   "id": "technological-hours",
   "metadata": {
    "tags": []
   },
   "outputs": [],
   "source": [
    "# Check undeploy - list processes\n",
    "response, ades_access_token, process_ids = demo.proc_list_processes(ades_proc_url, id_token=user_id_token, access_token=ades_access_token)\n",
    "print(\"Processes:\", process_ids)"
   ]
  },
  {
   "cell_type": "markdown",
   "id": "through-france",
   "metadata": {},
   "source": [
    "## Workspace"
   ]
  },
  {
   "cell_type": "code",
   "execution_count": null,
   "id": "aquatic-group",
   "metadata": {},
   "outputs": [],
   "source": [
    "# Init\n",
    "workspace_url = \"https://workspace-api.\" + base_domain\n",
    "workspace_access_token = None\n",
    "print(\"workspace_url:\", workspace_url)"
   ]
  },
  {
   "cell_type": "markdown",
   "id": "permanent-enhancement",
   "metadata": {},
   "source": [
    "### Workspace: Get Details"
   ]
  },
  {
   "cell_type": "code",
   "execution_count": null,
   "id": "objective-technology",
   "metadata": {},
   "outputs": [],
   "source": [
    "# Workspace - Get Details\n",
    "workspace_name = \"rm-user-\" + USER_NAME.lower()\n",
    "response, workspace_access_token = demo.workspace_get_details(workspace_url, workspace_name, id_token=user_id_token, access_token=workspace_access_token)\n",
    "workspace_details = response.json()\n",
    "demo.response_summary(response)"
   ]
  },
  {
   "cell_type": "markdown",
   "id": "coastal-tackle",
   "metadata": {},
   "source": [
    "### Inspect S3 Bucket"
   ]
  },
  {
   "cell_type": "code",
   "execution_count": null,
   "id": "worst-duplicate",
   "metadata": {},
   "outputs": [],
   "source": [
    "# Bucket details\n",
    "bucket_name = workspace_details[\"storage\"][\"credentials\"][\"bucketname\"]\n",
    "s3_access = workspace_details[\"storage\"][\"credentials\"][\"access\"]\n",
    "s3_secret = workspace_details[\"storage\"][\"credentials\"][\"secret\"]\n",
    "# Init S3 session for Creodias\n",
    "S3_ENDPOINT = \"https://cf2.cloudferro.com:8080\"\n",
    "session = boto3.session.Session()\n",
    "s3resource = session.resource('s3', aws_access_key_id=s3_access, aws_secret_access_key=s3_secret, endpoint_url=S3_ENDPOINT)\n",
    "bucket = s3resource.Bucket(bucket_name)"
   ]
  },
  {
   "cell_type": "code",
   "execution_count": null,
   "id": "grand-governor",
   "metadata": {},
   "outputs": [],
   "source": [
    "#stacCatalogUri = 's3://1a85398587cc4b5795dab4ab565dad34:rm-user-eric/wf-d8be29d6-a986-11eb-beca-7258940a7c04/catalog.json'\n",
    "\n",
    "# Unpick s3 URL\n",
    "_, stacCatalogKeyName = split_s3_bucket_key(stacCatalogUri)\n",
    "print(\"stacCatalogKeyName:\", stacCatalogKeyName)\n",
    "\n",
    "# Read the STAC file\n",
    "stacFileObject = list(bucket.objects.filter(Prefix=stacCatalogKeyName))[0]\n",
    "stacFileJson = json.loads(stacFileObject.get()['Body'].read())\n",
    "print(json.dumps(stacFileJson, indent=2))"
   ]
  },
  {
   "cell_type": "markdown",
   "id": "addressed-lighter",
   "metadata": {},
   "source": [
    "## Results Consumption\n",
    "\n",
    "* Results discovery - User's resource catalogue\n",
    "* Results visualisation:\n",
    "  * Data access services\n",
    "  * QGIS"
   ]
  },
  {
   "cell_type": "markdown",
   "id": "indie-tuning",
   "metadata": {},
   "source": [
    "In this part of the demo, Eric will use the workspace resource catalogue endpoint to discover processing outputs and applications.  The workspace catalogue is local to the user, which also has federated access to the system catalogue."
   ]
  },
  {
   "cell_type": "code",
   "execution_count": null,
   "id": "stopped-attraction",
   "metadata": {},
   "outputs": [],
   "source": [
    "workspace_endpoint = f'https://resource-catalogue.rm-user-{USER_NAME}.{base_domain}'\n",
    "csw = CatalogueServiceWeb(workspace_endpoint, timeout=30)\n",
    "csw.getrecords2(maxrecords=10)\n",
    "csw.results"
   ]
  },
  {
   "cell_type": "code",
   "execution_count": null,
   "id": "optimum-german",
   "metadata": {},
   "outputs": [],
   "source": [
    "for rec in csw.records:\n",
    "    print(f'identifier: {csw.records[rec].identifier}\\ntype: {csw.records[rec].type}\\ntitle: {csw.records[rec].title}\\n')"
   ]
  },
  {
   "cell_type": "code",
   "execution_count": null,
   "id": "million-plumbing",
   "metadata": {},
   "outputs": [],
   "source": [
    "# TODO - need to select the correct scene-id output from the processing\n",
    "scene_id='S2B_MSIL1C_20210402T095029_N0300_R079_T33SVB_20210402T121737'\n",
    "csw.getrecordbyid(id=[scene_id])\n",
    "links = csw.records[scene_id].references\n",
    "csw.records[scene_id].references\n",
    "\n",
    "for link in links:\n",
    "    scheme = link['scheme']\n",
    "    if 'WMS' in scheme:\n",
    "        wms_endpoint=link['url']\n",
    "        print(link['url'])"
   ]
  },
  {
   "cell_type": "code",
   "execution_count": null,
   "id": "smart-flour",
   "metadata": {},
   "outputs": [],
   "source": [
    "wms = WebMapService(wms_endpoint, version='1.3.0')\n",
    "list(wms.contents)"
   ]
  },
  {
   "cell_type": "code",
   "execution_count": null,
   "id": "breathing-romantic",
   "metadata": {},
   "outputs": [],
   "source": [
    "wms[scene_id].boundingBoxWGS84"
   ]
  },
  {
   "cell_type": "code",
   "execution_count": null,
   "id": "blocked-republican",
   "metadata": {},
   "outputs": [],
   "source": [
    "getMap(wms,'INDEX_S2A_MSIL2A_20191216T004701_N0213_R102_T53HPA_20191216T024808',(13.8,36.9,15.1,37.9), 'rgb.png')\n",
    "image1 = mpimg.imread('rgb.png')\n",
    "fig = plt.figure(figsize=(12,7))\n",
    "img1 = plt.imshow(image1,extent=[13.8,15.1,36.9,37.9],aspect='auto')\n",
    "plt.show()"
   ]
  },
  {
   "cell_type": "markdown",
   "id": "virtual-flavor",
   "metadata": {},
   "source": [
    "## Policy Enforcement and Resource Sharing\n",
    "Owners of resources can choose to share these with other users by updating the access policies"
   ]
  },
  {
   "cell_type": "markdown",
   "id": "urban-responsibility",
   "metadata": {},
   "source": [
    "### Deploy Application\n",
    "The demo user redeploys de application"
   ]
  },
  {
   "cell_type": "code",
   "execution_count": null,
   "id": "grateful-globe",
   "metadata": {},
   "outputs": [],
   "source": [
    "# API Processes - Deploy Application\n",
    "response, ades_access_token = demo.proc_deploy_application(ades_proc_url, \"../data/app-deploy-body-atom.json\", id_token=user_id_token, access_token=ades_access_token)"
   ]
  },
  {
   "cell_type": "code",
   "execution_count": null,
   "id": "logical-issue",
   "metadata": {},
   "outputs": [],
   "source": [
    "# Check deploy - list processes again\n",
    "response, process_ids, ades_access_token = demo.proc_list_processes(ades_proc_url, id_token=user_id_token, access_token=ades_access_token)\n",
    "print(\"Processes:\", process_ids)"
   ]
  },
  {
   "cell_type": "markdown",
   "id": "olive-insulin",
   "metadata": {},
   "source": [
    "### UserB Authenticates in the Platform\n",
    "User authenticates and the client receives an ID Token (JWT) that represents the user."
   ]
  },
  {
   "cell_type": "code",
   "execution_count": null,
   "id": "angry-international",
   "metadata": {},
   "outputs": [],
   "source": [
    "#-------------------------------------------------------------------------------\n",
    "# Authenticate as UserB and get ID Token\n",
    "#-------------------------------------------------------------------------------\n",
    "USERB_NAME=\"demoB\"\n",
    "USERB_PASSWORD=\"defaultPWD\"\n",
    "userb_id_token = demo.get_id_token(USERB_NAME, USERB_PASSWORD)"
   ]
  },
  {
   "cell_type": "markdown",
   "id": "corrected-discount",
   "metadata": {},
   "source": [
    "### UserB Attempts to Execute Demo User Apps\n",
    "All resources are registered with ownership policies by default"
   ]
  },
  {
   "cell_type": "code",
   "execution_count": null,
   "id": "changing-sympathy",
   "metadata": {},
   "outputs": [],
   "source": [
    "#-------------------------------------------------------------------------------\n",
    "# Unauthorized Execution \n",
    "# Expected Value: 401\n",
    "#-------------------------------------------------------------------------------\n",
    "response, ades_access_token, job_location_path = demo.proc_execute_application(ades_proc_url, application_name, \"../data/app-execute-body.json\", id_token=None, access_token=None)"
   ]
  },
  {
   "cell_type": "markdown",
   "id": "promising-gender",
   "metadata": {},
   "source": [
    "### Owner Updates Access Policy\n",
    "Grants access to UserB to execute the deployed app"
   ]
  },
  {
   "cell_type": "code",
   "execution_count": null,
   "id": "personalized-narrow",
   "metadata": {},
   "outputs": [],
   "source": [
    "#-------------------------------------------------------------------------------\n",
    "# Get Ownership Id\n",
    "#-------------------------------------------------------------------------------\n",
    "owB = demo.get_ownership_id(userb_id_token)\n",
    "owA = demo.get_ownership_id(user_id_token)\n",
    "\n",
    "#-------------------------------------------------------------------------------\n",
    "# Finds the policy by retrieving a resource_id\n",
    "# Update policy with allowing access to UserB\n",
    "#-------------------------------------------------------------------------------\n",
    "ades_res=\"http://ades.resources.{base_domain}\"\n",
    "res_id = demo.get_resource_by_name(ades_res, \"s-expression-0_0_2\", user_id_token)\n",
    "data={'name':'Updated Execution','description':'modified','config':{'resource_id':'res_id','action':'view','rules':[{'OR':[{'EQUAL':{'id':'owA'}},{'EQUAL':{'id':'owB'}}]}]},'scopes':['protected_access']}\n",
    "pdp_url= \"http://test.{base_domain}/pdp\"\n",
    "resp, text= demo.update_policy(pdp_url, data, res_id, user_id_token)"
   ]
  },
  {
   "cell_type": "markdown",
   "id": "tribal-tribute",
   "metadata": {},
   "source": [
    "### UserB Executes Application Succesfully\n",
    "Shared resources can now be executed"
   ]
  },
  {
   "cell_type": "code",
   "execution_count": null,
   "id": "juvenile-luxembourg",
   "metadata": {},
   "outputs": [],
   "source": [
    "#-------------------------------------------------------------------------------\n",
    "# User B Execute Application Succesfully\n",
    "# Expected Value: 201\n",
    "#-------------------------------------------------------------------------------\n",
    "response, ades_access_token, job_location_path = demo.proc_execute_application(ades_proc_url, application_name, \"../data/app-execute-body.json\", id_token=userb_id_token, access_token=None)"
   ]
  }
 ],
 "metadata": {
  "kernelspec": {
   "display_name": "Python 3",
   "language": "python",
   "name": "python3"
  },
  "language_info": {
   "codemirror_mode": {
    "name": "ipython",
    "version": 3
   },
   "file_extension": ".py",
   "mimetype": "text/x-python",
   "name": "python",
   "nbconvert_exporter": "python",
   "pygments_lexer": "ipython3",
   "version": "3.8.8"
  }
 },
 "nbformat": 4,
 "nbformat_minor": 5
}
