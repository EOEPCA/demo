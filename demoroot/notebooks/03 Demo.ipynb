{
 "cells": [
  {
   "cell_type": "markdown",
   "id": "white-primary",
   "metadata": {},
   "source": [
    "# Demonstration\n",
    "End-to-end demonstration."
   ]
  },
  {
   "cell_type": "code",
   "execution_count": null,
   "id": "basic-clock",
   "metadata": {},
   "outputs": [],
   "source": [
    "import utils.DemoClient as client\n",
    "import os\n",
    "import jwt\n",
    "import json\n",
    "import boto3\n",
    "from awscli.customizations.s3.utils import split_s3_bucket_key\n",
    "\n",
    "from owslib.csw import CatalogueServiceWeb\n",
    "from owslib.fes import And, Or, PropertyIsEqualTo, PropertyIsGreaterThanOrEqualTo, PropertyIsLessThanOrEqualTo, PropertyIsLike, BBox, SortBy, SortProperty\n",
    "from owslib.wms import WebMapService\n",
    "from geolinks import sniff_link\n",
    "import folium\n",
    "import requests\n",
    "from bs4 import BeautifulSoup\n",
    "import pyops"
   ]
  },
  {
   "cell_type": "markdown",
   "id": "willing-statement",
   "metadata": {
    "tags": []
   },
   "source": [
    "## Demo Client Setup\n",
    "We now instantiate a client to interact with the platform.<br>\n",
    "The client dynamically registers with the Authorization Server to take part in UMA (User Managed Access) flows through which authorization is obtained for scoped access resources on behalf of the user."
   ]
  },
  {
   "cell_type": "code",
   "execution_count": null,
   "id": "fifth-mobile",
   "metadata": {
    "tags": []
   },
   "outputs": [],
   "source": [
    "#-------------------------------------------------------------------------------\n",
    "# Initialise client\n",
    "#-------------------------------------------------------------------------------\n",
    "#base_domain = \"185.52.193.87.nip.io\"\n",
    "#workspace_prefix = \"rm-user\"\n",
    "base_domain = \"demo.eoepca.org\"\n",
    "workspace_prefix = \"demo-user\"\n",
    "demo = client.DemoClient(f\"https://test.{base_domain}\")\n",
    "demo.register_client()\n",
    "demo.save_state()"
   ]
  },
  {
   "cell_type": "markdown",
   "id": "fatal-warrior",
   "metadata": {},
   "source": [
    "### Authenticated User (Eric)\n",
    "We require an authenticated user to interact with some of the platform endpoints - in particular for eoepca v0.3 the ADES.<br>\n",
    "User authenticates and the client receives an ID Token (JWT) that represents the user.<br>\n",
    "For convenience within the Jupyter notebook we use a username/password authentication - but the primary mechanism is to rely upon external identity provision.<br>\n",
    "Currently, login with GitHub is supported."
   ]
  },
  {
   "cell_type": "code",
   "execution_count": null,
   "id": "acknowledged-lobby",
   "metadata": {
    "tags": []
   },
   "outputs": [],
   "source": [
    "#-------------------------------------------------------------------------------\n",
    "# Authenticate as user 'eric' and get ID Token\n",
    "#-------------------------------------------------------------------------------\n",
    "USER_NAME=\"eric\"\n",
    "USER_PASSWORD=\"defaultPWD\"\n",
    "user_id_token = demo.get_id_token(USER_NAME, USER_PASSWORD)"
   ]
  },
  {
   "cell_type": "markdown",
   "id": "artistic-fleece",
   "metadata": {},
   "source": [
    "## Application Discovery\n",
    "Alice uses the Processor Development Environment (PDE) to develop, test and package an application.\n",
    "Alice's published outputs are:\n",
    "* Docker image published to DockerHub\n",
    "* Application Package (CWL) published to Resource Catalogue (TBD) and/or GitHub - accessible by href"
   ]
  },
  {
   "cell_type": "code",
   "execution_count": null,
   "id": "superior-depth",
   "metadata": {},
   "outputs": [],
   "source": [
    "app_id = \"nhi\"\n",
    "app_version = \"0_0_3\"\n",
    "application_name = f\"{app_id}-{app_version}\""
   ]
  },
  {
   "cell_type": "markdown",
   "id": "professional-ebony",
   "metadata": {},
   "source": [
    "The following demonstrates how to discover the Application Package from Alice's workspace through the Resource Catalogue API"
   ]
  },
  {
   "cell_type": "code",
   "execution_count": null,
   "id": "designing-craps",
   "metadata": {},
   "outputs": [],
   "source": [
    "alice_workspace_endpoint = f'https://resource-catalogue.{workspace_prefix}-alice.{base_domain}'\n",
    "csw = CatalogueServiceWeb(alice_workspace_endpoint,timeout=30)\n",
    "csw.getrecords2(maxrecords=10)\n",
    "print(\"Alice's workspace records:\\n\")\n",
    "for rec in csw.records:\n",
    "    print(f'identifier: {csw.records[rec].identifier}\\ntype: {csw.records[rec].type}\\ntitle: {csw.records[rec].title}\\n')\n",
    "print(f\"URL for Application {app_id}:\")\n",
    "csw.records[app_id].references"
   ]
  },
  {
   "cell_type": "code",
   "execution_count": null,
   "id": "extraordinary-shuttle",
   "metadata": {},
   "outputs": [],
   "source": [
    "# Extract the URL for the Application Package\n",
    "application_package_url = csw.records[app_id].references[1]['url']\n",
    "#application_package_url = \"https://app-packages.s3.fr-par.scw.cloud/nhi/app-nhi.dev.0.0.3.cwl\"\n",
    "print(f\"Application Package URL = {application_package_url}\")"
   ]
  },
  {
   "cell_type": "markdown",
   "id": "living-principle",
   "metadata": {
    "tags": []
   },
   "source": [
    "## Data Discovery\n",
    "\n",
    "Eric discovers data using platform services (Resource Catalogue / DAS) and QGIS\n",
    "* CSW and OpenSearch endpoints\n",
    "* Data visualisation"
   ]
  },
  {
   "cell_type": "markdown",
   "id": "collaborative-orange",
   "metadata": {},
   "source": [
    "### Resource Catalogue CSW and OpenSearch"
   ]
  },
  {
   "cell_type": "markdown",
   "id": "altered-scheme",
   "metadata": {},
   "source": [
    "In this part of the demo, Eric uses the system level resource catalogue endpoint to discover data collections and datasets.  The system level resource catalogue enables discovery of data available to all users.\n",
    "\n",
    "[OWSLib](https://geopython.github.io/OWSLib) is a Python package for client programming with Open Geospatial Consortium (OGC) web service (hence OWS) interface standards, and their related content models. In this demo we will work with the CSW, WMS and WCS interfaces.\n",
    "\n",
    "The `owslib.csw` class of OWSLib is instantiated and service metadata are shown."
   ]
  },
  {
   "cell_type": "code",
   "execution_count": null,
   "id": "mineral-commonwealth",
   "metadata": {},
   "outputs": [],
   "source": [
    "system_catalogue_endpoint = f'https://resource-catalogue.{base_domain}'\n",
    "csw = CatalogueServiceWeb(system_catalogue_endpoint, timeout=30)"
   ]
  },
  {
   "cell_type": "markdown",
   "id": "private-click",
   "metadata": {},
   "source": [
    "Service metadata shown here include supported operations and queryables"
   ]
  },
  {
   "cell_type": "code",
   "execution_count": null,
   "id": "spatial-instrument",
   "metadata": {},
   "outputs": [],
   "source": [
    "[op.name for op in csw.operations]"
   ]
  },
  {
   "cell_type": "code",
   "execution_count": null,
   "id": "boolean-bahrain",
   "metadata": {},
   "outputs": [],
   "source": [
    "csw.get_operation_by_name('GetRecords').constraints"
   ]
  },
  {
   "cell_type": "markdown",
   "id": "elementary-bleeding",
   "metadata": {},
   "source": [
    "Eric can make a GetRecords request to get all records of the catalogue, with a page size of 10."
   ]
  },
  {
   "cell_type": "code",
   "execution_count": null,
   "id": "developed-cargo",
   "metadata": {},
   "outputs": [],
   "source": [
    "csw.getrecords2(maxrecords=10)\n",
    "csw.results"
   ]
  },
  {
   "cell_type": "markdown",
   "id": "south-evaluation",
   "metadata": {},
   "source": [
    "Eric wishes to discover data with specific search criteria. Here we demonstrate how to create spatial (`bbox`), temporal (`time`), and attribute (`apiso:CloudCover`) filters combined with logical operators like And/Or. An OGC Filter is created and sent to the Resource Catalogue:"
   ]
  },
  {
   "cell_type": "code",
   "execution_count": null,
   "id": "decent-pulse",
   "metadata": {},
   "outputs": [],
   "source": [
    "bbox_query = BBox([37, 13.9, 37.9, 15.1])\n",
    "begin = PropertyIsGreaterThanOrEqualTo(propertyname='apiso:TempExtent_begin', literal='2021-04-02 00:00')\n",
    "end = PropertyIsLessThanOrEqualTo(propertyname='apiso:TempExtent_end', literal='2021-04-03 00:00')\n",
    "cloud = PropertyIsLessThanOrEqualTo(propertyname='apiso:CloudCover', literal='20')\n",
    "filter_list = [\n",
    "    And(\n",
    "        [\n",
    "            bbox_query,  # bounding box\n",
    "            begin, end,  # start and end date\n",
    "            cloud        # cloud\n",
    "        ]\n",
    "    )\n",
    "]\n",
    "csw.getrecords2(constraints=filter_list, outputschema='http://www.isotc211.org/2005/gmd')\n",
    "csw.results"
   ]
  },
  {
   "cell_type": "code",
   "execution_count": null,
   "id": "practical-footage",
   "metadata": {},
   "outputs": [],
   "source": [
    "for rec in csw.records:\n",
    "    print(f'identifier: {csw.records[rec].identifier}\\ntype: {csw.records[rec].identification.identtype}\\ntitle: {csw.records[rec].identification.title}\\ndate: {csw.records[rec].datetimestamp}\\n')"
   ]
  },
  {
   "cell_type": "markdown",
   "id": "discrete-listening",
   "metadata": {},
   "source": [
    "Eric selects one record using the identifier and discovers the available links:"
   ]
  },
  {
   "cell_type": "code",
   "execution_count": null,
   "id": "drawn-regular",
   "metadata": {},
   "outputs": [],
   "source": [
    "selected_record = list(csw.records)[0]\n",
    "csw.getrecordbyid(id=[selected_record])\n",
    "rec = csw.records[selected_record]\n",
    "rec.title"
   ]
  },
  {
   "cell_type": "code",
   "execution_count": null,
   "id": "faced-likelihood",
   "metadata": {},
   "outputs": [],
   "source": [
    "rec.references"
   ]
  },
  {
   "cell_type": "markdown",
   "id": "covered-amplifier",
   "metadata": {},
   "source": [
    "Eric can also see the record footprint on a map, using the [Folium](https://github.com/python-visualization/folium) Python library:"
   ]
  },
  {
   "cell_type": "code",
   "execution_count": null,
   "id": "vertical-group",
   "metadata": {},
   "outputs": [],
   "source": [
    "m = folium.Map(location=[38, 20], zoom_start=6, tiles='OpenStreetMap')\n",
    "folium.Rectangle(bounds=[[float(rec.bbox.miny), float(rec.bbox.minx)], [float(rec.bbox.maxy), float(rec.bbox.maxx)]]).add_to(m)\n",
    "m"
   ]
  },
  {
   "cell_type": "markdown",
   "id": "widespread-justice",
   "metadata": {},
   "source": [
    "The same record can also be retrieved from the Resource Catalogue using the OpenSearch API and the dataset identifier:<br>\n",
    "_Note that we retain this URL (atom_dataset_url) to reference our input data in the subsequent processing invocation_"
   ]
  },
  {
   "cell_type": "code",
   "execution_count": null,
   "id": "functional-fireplace",
   "metadata": {},
   "outputs": [],
   "source": [
    "atom_dataset_url=f'{system_catalogue_endpoint}/?mode=opensearch&service=CSW&version=3.0.0&request=GetRecords&elementsetname=full&resulttype=results&typenames=csw:Record&recordids={selected_record}'\n",
    "print(f\"Input data OpenSearch URL: {atom_dataset_url}\\n\")\n",
    "S = requests.Session()\n",
    "R = S.get(url=atom_dataset_url)\n",
    "bs = BeautifulSoup(R.text, 'xml')\n",
    "print(bs.prettify())"
   ]
  },
  {
   "cell_type": "markdown",
   "id": "chemical-wheel",
   "metadata": {},
   "source": [
    "### Data Access Services - WMS, WCS"
   ]
  },
  {
   "cell_type": "markdown",
   "id": "elegant-bachelor",
   "metadata": {},
   "source": [
    "Eric has already discovered the dataset to use by using the OWSLib CSW client.\n",
    "\n",
    "Using the [geolinks](https://github.com/geopython/geolinks) Python library, Eric can filter the links that are of a specific type (here WMS and WCS links to be used for visualization):"
   ]
  },
  {
   "cell_type": "code",
   "execution_count": null,
   "id": "union-greenhouse",
   "metadata": {},
   "outputs": [],
   "source": [
    "csw = CatalogueServiceWeb(system_catalogue_endpoint, timeout=30)\n",
    "scene_id = selected_record\n",
    "csw.getrecordbyid(id=[scene_id])\n",
    "links = csw.records[scene_id].references\n",
    "for link in links:\n",
    "    scheme = link['scheme']\n",
    "    if 'WMS' in scheme:\n",
    "        wms_endpoint=link['url']\n",
    "        print(link['url'])"
   ]
  },
  {
   "cell_type": "markdown",
   "id": "dress-fields",
   "metadata": {},
   "source": [
    "After discovering the dataset, Eric can identify the WMS link and use the OWSLib WMS client to visualize the dataset"
   ]
  },
  {
   "cell_type": "code",
   "execution_count": null,
   "id": "sweet-magazine",
   "metadata": {},
   "outputs": [],
   "source": [
    "wms = WebMapService(wms_endpoint, version='1.3.0')\n",
    "list(wms.contents)"
   ]
  },
  {
   "cell_type": "code",
   "execution_count": null,
   "id": "twelve-bottle",
   "metadata": {},
   "outputs": [],
   "source": [
    "wms[scene_id].title"
   ]
  },
  {
   "cell_type": "markdown",
   "id": "negative-awareness",
   "metadata": {},
   "source": [
    "Eric can now visualize the WMS GetMap request from matplotlib:"
   ]
  },
  {
   "cell_type": "code",
   "execution_count": null,
   "id": "cathedral-monster",
   "metadata": {},
   "outputs": [],
   "source": [
    "%matplotlib inline\n",
    "import os, sys\n",
    "import matplotlib.image as mpimg\n",
    "import matplotlib.pyplot as plt\n",
    "\n",
    "def get_map(wms, layer_name, bbox, filename):\n",
    "    wms.getOperationByName('GetMap').formatOptions\n",
    "    img = wms.getmap(layers=[layer_name],\n",
    "                     size=(600,300),\n",
    "                     srs='EPSG:4326',\n",
    "                     bbox=bbox,\n",
    "                     format='image/png',\n",
    "                     transparent=True)\n",
    "\n",
    "    with open(filename,'wb') as tmpfile:\n",
    "        tmpfile.write(img.read())"
   ]
  },
  {
   "cell_type": "code",
   "execution_count": null,
   "id": "varying-broadway",
   "metadata": {},
   "outputs": [],
   "source": [
    "get_map(wms,f'{selected_record}__TRUE_COLOR',(13.8,36.9,15.1,37.9), 'rgb.png')\n",
    "image1 = mpimg.imread('rgb.png')\n",
    "fig = plt.figure(figsize=(12,7))\n",
    "img1 = plt.imshow(image1, extent=[13.8,15.1,36.9,37.9], aspect='auto')\n",
    "plt.show()"
   ]
  },
  {
   "cell_type": "markdown",
   "id": "pacific-contrast",
   "metadata": {},
   "source": [
    "## Processing - ADES\n",
    "The ADES provides WPS 1.0/2.0 and OGC API - Processes interfaces - with extensions for deploying and undeploying processes.\n",
    "\n",
    "The ADES provides user-specific endpoints, using a URL path prefix."
   ]
  },
  {
   "cell_type": "code",
   "execution_count": null,
   "id": "subtle-choir",
   "metadata": {},
   "outputs": [],
   "source": [
    "# ADES URLs\n",
    "ades_base_url = f\"http://ades.test.{base_domain}\"\n",
    "ades_wps_url = f\"{ades_base_url}/{USER_NAME}/zoo\"\n",
    "print(\"ADES WPS endpoint:\", ades_wps_url)\n",
    "\n",
    "ades_proc_url = f\"{ades_base_url}/{USER_NAME}/wps3\"\n",
    "print(\"ADES API Processes endpoint:\", ades_proc_url)\n",
    "\n",
    "# Init\n",
    "ades_access_token = None"
   ]
  },
  {
   "cell_type": "markdown",
   "id": "minus-anderson",
   "metadata": {},
   "source": [
    "### ADES: List Processes\n",
    "**GET {service_url}/processes**<br>\n",
    "Provides a list of all processes "
   ]
  },
  {
   "cell_type": "code",
   "execution_count": null,
   "id": "institutional-dietary",
   "metadata": {
    "tags": []
   },
   "outputs": [],
   "source": [
    "# API Processes - List Processes\n",
    "response, ades_access_token, process_ids = demo.proc_list_processes(ades_proc_url, id_token=user_id_token, access_token=ades_access_token)\n",
    "print(\"Processes:\", process_ids)\n",
    "# demo.response_summary(response)"
   ]
  },
  {
   "cell_type": "markdown",
   "id": "informed-programming",
   "metadata": {},
   "source": [
    "### ADES: Deploy Application\n",
    "**POST {service_url}/processes**<br>\n",
    "Deploy application to the ADES.<br>\n",
    "Request body is json in the same format as defined for an Execute request (ref. API Processes), in which the input is the Application Package describing the application.<br>\n",
    "The Application Package is a CWL Workflow that is typically provided as an href with content type **_application/atom+xml_** or **_application/cwl_**.\n",
    "\n",
    "**_Application Deployment Payload_**<br>\n",
    "Use a helper script to create the POST body for the application deployment request, using the Application Package URL discovered earlier."
   ]
  },
  {
   "cell_type": "code",
   "execution_count": null,
   "id": "royal-computer",
   "metadata": {},
   "outputs": [],
   "source": [
    "os.system(f'../data/create-deploy-body-cwl.sh \"{application_package_url}\"')\n",
    "!cat ../data/app-deploy-body-cwl.json"
   ]
  },
  {
   "cell_type": "code",
   "execution_count": null,
   "id": "stupid-georgia",
   "metadata": {
    "tags": []
   },
   "outputs": [],
   "source": [
    "# API Processes - Deploy Application\n",
    "response, ades_access_token = demo.proc_deploy_application(ades_proc_url, \"../data/app-deploy-body-cwl.json\", id_token=user_id_token, access_token=ades_access_token)"
   ]
  },
  {
   "cell_type": "markdown",
   "id": "maritime-thriller",
   "metadata": {},
   "source": [
    "**_Dynamic Resource Protection_**<br>\n",
    "The application deployment creates new endpoints within the ADES that need to be protected - e.g. those for _Details_ **(processes/{application_name})** and _Execute_ **(processes/{application_name}/jobs)**.<br>\n",
    "During deployment, the ADES interfaces with its PEP (Policy Enforcement Point) to register these endpoints as protected under the ownership of the calling user."
   ]
  },
  {
   "cell_type": "code",
   "execution_count": null,
   "id": "appropriate-vacation",
   "metadata": {
    "tags": []
   },
   "outputs": [],
   "source": [
    "# Check deploy - list processes again\n",
    "response, ades_access_token, process_ids = demo.proc_list_processes(ades_proc_url, id_token=user_id_token, access_token=ades_access_token)\n",
    "print(\"Processes:\", process_ids)"
   ]
  },
  {
   "cell_type": "markdown",
   "id": "determined-afghanistan",
   "metadata": {},
   "source": [
    "### ADES: Get Application Details\n",
    "**GET {service_url}/processes/{application_name}**<br>\n",
    "Provides details of the deployed application<br>\n",
    "The response includes the API Processes json application description."
   ]
  },
  {
   "cell_type": "code",
   "execution_count": null,
   "id": "handed-pledge",
   "metadata": {},
   "outputs": [],
   "source": [
    "# API Processes - Get Application Details\n",
    "response, ades_access_token = demo.proc_get_app_details(ades_proc_url, application_name, id_token=user_id_token, access_token=ades_access_token)\n",
    "demo.response_summary(response)"
   ]
  },
  {
   "cell_type": "markdown",
   "id": "sought-entertainment",
   "metadata": {},
   "source": [
    "### ADES: Execute Application\n",
    "**POST {service_url}/processes/{application_name}/jobs**<br>\n",
    "Request body is json as defined by API Processes to define the inputs and outputs, consistent with the CWL Workflow application package.<br>\n",
    "The response returns **201 CREATED** to indicate that the job has been successfully initiated.<br>\n",
    "The response **Location header** provides the path (/processes/{application_name}/jobs/{job_id}) to follow the job status.\n",
    "\n",
    "**_Application Execution Payload_**<br>\n",
    "Use a helper script to create the POST body for the application execution request, using the Input Data URL discovered earlier."
   ]
  },
  {
   "cell_type": "code",
   "execution_count": null,
   "id": "popular-scout",
   "metadata": {},
   "outputs": [],
   "source": [
    "# atom_dataset_url = f\"https://resource-catalogue.{base_domain}/?mode=opensearch&service=CSW&version=3.0.0&request=GetRecords&elementsetname=full&resulttype=results&typenames=csw:Record&recordids=S2B_MSIL1C_20210402T095029_N0300_R079_T33SVB_20210402T121737.SAFE\"\n",
    "os.system(f'../data/create-execute-body.sh \"{atom_dataset_url}\"')\n",
    "!cat ../data/app-execute-body.json"
   ]
  },
  {
   "cell_type": "code",
   "execution_count": null,
   "id": "abstract-beauty",
   "metadata": {},
   "outputs": [],
   "source": [
    "# API Processes - Execute Application\n",
    "response, ades_access_token, job_location_path = demo.proc_execute_application(ades_proc_url, application_name, \"../data/app-execute-body.json\", id_token=user_id_token, access_token=ades_access_token)"
   ]
  },
  {
   "cell_type": "code",
   "execution_count": null,
   "id": "virtual-message",
   "metadata": {},
   "outputs": [],
   "source": [
    "# Retrieve job id from the Location header of the response\n",
    "jobid = response.headers[\"Location\"].rsplit('/', 1)[-1]\n",
    "print(f\"Job ID: {jobid}\")"
   ]
  },
  {
   "cell_type": "markdown",
   "id": "polish-occasions",
   "metadata": {},
   "source": [
    "### ADES: Job Status\n",
    "**GET {service_url}/watchjob/processes/{application_name}/jobs/{job_id}**<br>\n",
    "Check the status of a previously submitted job - using the URL returned in the Location header of the execute request.<br>\n",
    "The response body json provides a status string (success/running/failed) and a % progress.<br>\n",
    "In the case of a failure then a descriptive message is provided."
   ]
  },
  {
   "cell_type": "code",
   "execution_count": null,
   "id": "motivated-association",
   "metadata": {},
   "outputs": [],
   "source": [
    "# API Processes - Job Status\n",
    "response, ades_access_token, status = demo.proc_get_job_status(ades_base_url, job_location_path, id_token=user_id_token, access_token=ades_access_token)\n",
    "demo.response_summary(response)"
   ]
  },
  {
   "cell_type": "markdown",
   "id": "quiet-louis",
   "metadata": {},
   "source": [
    "**Polling for Job Completion**<br>\n",
    "The job execution is asynchronous.<br>\n",
    "The Job Status endpoint is polled until the job completes."
   ]
  },
  {
   "cell_type": "code",
   "execution_count": null,
   "id": "guided-murder",
   "metadata": {},
   "outputs": [],
   "source": [
    "# API Processes - Job Status (keep polling for completion)\n",
    "response, ades_access_token, status = demo.proc_poll_job_completion(ades_base_url, job_location_path, interval=10, id_token=user_id_token, access_token=ades_access_token)"
   ]
  },
  {
   "cell_type": "code",
   "execution_count": null,
   "id": "tribal-solid",
   "metadata": {},
   "outputs": [],
   "source": [
    "# Inspect response\n",
    "demo.response_summary(response)"
   ]
  },
  {
   "cell_type": "markdown",
   "id": "boxed-aerospace",
   "metadata": {},
   "source": [
    "### ADES Stage-out\n",
    "At the successful completion of processing, the ADES stages out the results to platform storage (under the direction of the user's Workspace component), and registers the data in the User Workspace for access and further exploitation.<br>\n",
    "![ADES processing results stage-out](https://github.com/EOEPCA/eoepca/raw/develop/technical/workspace/seq-ades-processing-results-stage-out.png)"
   ]
  },
  {
   "cell_type": "markdown",
   "id": "blind-score",
   "metadata": {},
   "source": [
    "### ADES: Job Result\n",
    "**GET {service_url}/watchjob/processes/{application_name}/jobs/{job_id}/result**<br>\n",
    "Returns details of the outputs for a successful job execution.<br>\n",
    "The response body provides json data that includes the reference to the STAC file that indexes the processing outputs."
   ]
  },
  {
   "cell_type": "code",
   "execution_count": null,
   "id": "finite-adelaide",
   "metadata": {},
   "outputs": [],
   "source": [
    "# API Processes - Job Result\n",
    "response, ades_access_token, stacCatalogUri = demo.proc_get_job_result(ades_base_url, job_location_path, id_token=user_id_token, access_token=ades_access_token)\n",
    "demo.response_summary(response)\n",
    "print(\"stacCatalogUri:\", stacCatalogUri)"
   ]
  },
  {
   "cell_type": "markdown",
   "id": "dietary-layer",
   "metadata": {},
   "source": [
    "**Inspecting the processing results**"
   ]
  },
  {
   "cell_type": "markdown",
   "id": "hungarian-advancement",
   "metadata": {},
   "source": [
    "Retrieve access information to the user workspace S3 bucket (bucket name, access key and secret access key)"
   ]
  },
  {
   "cell_type": "code",
   "execution_count": null,
   "id": "alternate-diabetes",
   "metadata": {},
   "outputs": [],
   "source": [
    "# Init\n",
    "workspace_url = \"https://workspace-api.\" + base_domain\n",
    "workspace_access_token = None\n",
    "\n",
    "# Workspace - Get Details\n",
    "workspace_name = f\"{workspace_prefix}-{USER_NAME.lower()}\"\n",
    "response, workspace_access_token = demo.workspace_get_details(workspace_url, workspace_name, id_token=user_id_token, access_token=workspace_access_token)\n",
    "workspace_details = response.json()\n",
    "demo.response_summary(response)\n",
    "\n",
    "# Bucket details\n",
    "bucket_name = workspace_details[\"storage\"][\"credentials\"][\"bucketname\"]\n",
    "s3_access = workspace_details[\"storage\"][\"credentials\"][\"access\"]\n",
    "s3_secret = workspace_details[\"storage\"][\"credentials\"][\"secret\"]"
   ]
  },
  {
   "cell_type": "markdown",
   "id": "perfect-wildlife",
   "metadata": {},
   "source": [
    "Print the content of the result stac catalog file"
   ]
  },
  {
   "cell_type": "code",
   "execution_count": null,
   "id": "controlled-conservation",
   "metadata": {},
   "outputs": [],
   "source": [
    "# Quick hack S3 access\n",
    "import boto3\n",
    "\n",
    "# Init S3 session for Creodias\n",
    "S3_ENDPOINT = \"https://cf2.cloudferro.com:8080\"\n",
    "session = boto3.session.Session()\n",
    "s3resource = session.resource('s3', aws_access_key_id=s3_access, aws_secret_access_key=s3_secret, endpoint_url=S3_ENDPOINT)\n",
    "\n",
    "# Retrieve S3 key path of the catalog.json\n",
    "stacCatalogUriS3Key = \"/\".join(stacCatalogUri.rsplit('/', 2)[-2:])\n",
    "print(f\"Content of {stacCatalogUriS3Key} :\\n\")\n",
    "\n",
    "# Printing catalog.json\n",
    "obj = s3resource.Object(bucket_name, stacCatalogUriS3Key)\n",
    "catalogJson = json.loads(obj.get()['Body'].read().decode('utf-8'))\n",
    "print(json.dumps(catalogJson, indent=4, sort_keys=True))"
   ]
  },
  {
   "cell_type": "markdown",
   "id": "fancy-resort",
   "metadata": {},
   "source": [
    "List all the files contained in the result folder"
   ]
  },
  {
   "cell_type": "code",
   "execution_count": null,
   "id": "technological-somerset",
   "metadata": {},
   "outputs": [],
   "source": [
    "# List result contents\n",
    "bucket = s3resource.Bucket(bucket_name)\n",
    "for obj in bucket.objects.filter(Prefix=f\"wf-{jobid}/\"):\n",
    "    print(obj.key)"
   ]
  },
  {
   "cell_type": "markdown",
   "id": "thrown-reference",
   "metadata": {},
   "source": [
    "### ADES: List Jobs\n",
    "**GET {service_url}/processes/{application_name}/jobs**<br>\n",
    "Provides a list of all jobs for the named processes "
   ]
  },
  {
   "cell_type": "code",
   "execution_count": null,
   "id": "matched-insulation",
   "metadata": {},
   "outputs": [],
   "source": [
    "# API Processes - List Jobs\n",
    "response, ades_access_token, job_ids = demo.proc_list_jobs(ades_proc_url, application_name, id_token=user_id_token, access_token=ades_access_token)\n",
    "print(\"Jobs:\", job_ids)"
   ]
  },
  {
   "cell_type": "markdown",
   "id": "excellent-sharp",
   "metadata": {},
   "source": [
    "### ADES: Undeploy Application\n",
    "**DELETE {service_url}/processes/{application_name}**<br>\n",
    "Undeploy application from the ADES"
   ]
  },
  {
   "cell_type": "code",
   "execution_count": null,
   "id": "periodic-harvest",
   "metadata": {},
   "outputs": [],
   "source": [
    "# API Processes - Undeploy Application\n",
    "response, ades_access_token = demo.proc_undeploy_application(ades_proc_url, application_name, id_token=user_id_token, access_token=ades_access_token)"
   ]
  },
  {
   "cell_type": "code",
   "execution_count": null,
   "id": "emotional-faith",
   "metadata": {
    "tags": []
   },
   "outputs": [],
   "source": [
    "# Check undeploy - list processes\n",
    "response, ades_access_token, process_ids = demo.proc_list_processes(ades_proc_url, id_token=user_id_token, access_token=ades_access_token)\n",
    "print(\"Processes:\", process_ids)"
   ]
  },
  {
   "cell_type": "markdown",
   "id": "catholic-domestic",
   "metadata": {},
   "source": [
    "## Results Consumption\n",
    "\n",
    "* Results discovery - User's resource catalogue\n",
    "* Results visualisation:\n",
    "  * Data access services\n",
    "  * QGIS"
   ]
  },
  {
   "cell_type": "markdown",
   "id": "widespread-officer",
   "metadata": {},
   "source": [
    "In this part of the demo, Eric will use the workspace resource catalogue endpoint to discover processing output.  The workspace catalogue is local to the user, which also has federated access to the system catalogue."
   ]
  },
  {
   "cell_type": "markdown",
   "id": "6320d23a-3a33-4dc8-91d3-01d2103d623a",
   "metadata": {},
   "source": [
    "Eric uses his workspace catalogue to list all records identifier, type and title"
   ]
  },
  {
   "cell_type": "code",
   "execution_count": null,
   "id": "brutal-consistency",
   "metadata": {},
   "outputs": [],
   "source": [
    "workspace_endpoint = f'https://resource-catalogue.{workspace_prefix}-{USER_NAME}.{base_domain}'\n",
    "csw = CatalogueServiceWeb(workspace_endpoint, timeout=30)\n",
    "csw.getrecords2(maxrecords=10)\n",
    "csw.results"
   ]
  },
  {
   "cell_type": "code",
   "execution_count": null,
   "id": "higher-information",
   "metadata": {},
   "outputs": [],
   "source": [
    "for rec in csw.records:\n",
    "    print(f'identifier: {csw.records[rec].identifier}\\ntype: {csw.records[rec].type}\\ntitle: {csw.records[rec].title}\\n')"
   ]
  },
  {
   "cell_type": "markdown",
   "id": "0ee982ec-05b0-45a6-8645-cbac0e9fa848",
   "metadata": {},
   "source": [
    "Eric discovers the identifier of the processing output (here the output identifier is the same as the input data). Then Eric discovers the WMS link of the processing result"
   ]
  },
  {
   "cell_type": "code",
   "execution_count": null,
   "id": "bronze-scholarship",
   "metadata": {},
   "outputs": [],
   "source": [
    "scene_id=csw.records[rec].identifier\n",
    "csw.getrecordbyid(id=[scene_id])\n",
    "links = csw.records[scene_id].references\n",
    "csw.records[scene_id].references\n",
    "\n",
    "for link in links:\n",
    "    scheme = link['scheme']\n",
    "    if 'WMS' in scheme:\n",
    "        wms_endpoint=link['url']\n",
    "        print(link['url'])"
   ]
  },
  {
   "cell_type": "markdown",
   "id": "bb6f94c2-985f-41a5-b483-6b3bc26ce7df",
   "metadata": {},
   "source": [
    "Eric then lists the WMS layer names that are available from the View Service as well as the bounding box of the layer"
   ]
  },
  {
   "cell_type": "code",
   "execution_count": null,
   "id": "monetary-chemistry",
   "metadata": {},
   "outputs": [],
   "source": [
    "wms = WebMapService(wms_endpoint, version='1.3.0')\n",
    "list(wms.contents)"
   ]
  },
  {
   "cell_type": "code",
   "execution_count": null,
   "id": "fallen-pound",
   "metadata": {},
   "outputs": [],
   "source": [
    "wms[scene_id].boundingBoxWGS84"
   ]
  },
  {
   "cell_type": "markdown",
   "id": "09765a02-0cd5-42b1-91f7-40b2f4271d3a",
   "metadata": {},
   "source": [
    "Finally, Eric can preview the processing result with a getmap request"
   ]
  },
  {
   "cell_type": "code",
   "execution_count": null,
   "id": "increasing-sierra",
   "metadata": {},
   "outputs": [],
   "source": [
    "get_map(wms,scene_id,(13.8,36.9,15.1,37.9), 'rgb.png')\n",
    "image1 = mpimg.imread('rgb.png')\n",
    "fig = plt.figure(figsize=(12,7))\n",
    "img1 = plt.imshow(image1,extent=[13.8,15.1,36.9,37.9],aspect='auto')\n",
    "plt.show()"
   ]
  },
  {
   "cell_type": "markdown",
   "id": "ec7730f0-6762-4b89-bffb-b9ef7154ed48",
   "metadata": {},
   "source": [
    "## Identity and Access Management"
   ]
  },
  {
   "cell_type": "markdown",
   "id": "8ffbfeda-c612-4c3a-8c35-378471db8693",
   "metadata": {},
   "source": [
    "Important endpoints:\n",
    "* **ADES Resources Endpoint**<br>\n",
    "  The ADES is protected by a PEP (Policy Enforcement Point).<br>\n",
    "  The PEP provides a specific endpoint through which the ADES dynamically manages its protected resources.\n",
    "* **Policy Decision Point (PDP)**<br>\n",
    "  The PDP maintains the platform authorization policies."
   ]
  },
  {
   "cell_type": "code",
   "execution_count": null,
   "id": "8e858027-de84-4230-9364-e1eee8fa3b9b",
   "metadata": {
    "tags": []
   },
   "outputs": [],
   "source": [
    "ades_resources_endpoint = f\"http://ades.resources.{base_domain}\"\n",
    "pdp_url = f\"http://test.{base_domain}/pdp\"\n",
    "print(f\"ADES PEP Resources: {ades_resources_endpoint}\\nPolicy Decision Point: {pdp_url}\")"
   ]
  },
  {
   "cell_type": "markdown",
   "id": "019be32b-3d66-4777-88f7-dc2c694976a8",
   "metadata": {},
   "source": [
    "### Eric deploy (again) the application\n",
    "_The application was undeployed in the earlier step_"
   ]
  },
  {
   "cell_type": "code",
   "execution_count": null,
   "id": "f1b1613f-3c19-4b74-800f-53e8a40425ee",
   "metadata": {
    "tags": []
   },
   "outputs": [],
   "source": [
    "response, ades_access_token = demo.proc_deploy_application(ades_proc_url, \"../data/app-deploy-body-cwl.json\", id_token=user_id_token, access_token=ades_access_token)\n",
    "demo.reset_resource_policy(ades_resources_endpoint, pdp_url, user_id_token, application_name) # due to previous runs of the demo"
   ]
  },
  {
   "cell_type": "markdown",
   "id": "cd6d7541-d891-45b4-b54e-8bb2e49b98dc",
   "metadata": {},
   "source": [
    "### Authentication - User Bob"
   ]
  },
  {
   "cell_type": "code",
   "execution_count": null,
   "id": "16f3f871-4f87-4759-b240-a7866743dcb4",
   "metadata": {
    "tags": []
   },
   "outputs": [],
   "source": [
    "#-------------------------------------------------------------------------------\n",
    "# Authenticate as user 'bob' and get ID Token\n",
    "#-------------------------------------------------------------------------------\n",
    "USER_BOB=\"bob\"\n",
    "USER_BOB_PASSWORD=\"defaultPWD\"\n",
    "bob_id_token = demo.get_id_token(USER_BOB, USER_BOB_PASSWORD)"
   ]
  },
  {
   "cell_type": "markdown",
   "id": "57a471b4-e9e2-420b-9ec4-1ad1daecb3ff",
   "metadata": {},
   "source": [
    "#### Inspect the ID Token\n",
    "The ID Token (JWT) identifies the user via user_name / sub (Subject) fields, and the client via the aud (Audience) field. The JWT is signed and can be verified, using the kid (Key ID) field, via the JWKS endpoint of the Authorization Server."
   ]
  },
  {
   "cell_type": "code",
   "execution_count": null,
   "id": "bcad182e-dc5a-4759-b426-617e6dfd8311",
   "metadata": {},
   "outputs": [],
   "source": [
    "# Inspect ID Token\n",
    "jwt_header = jwt.get_unverified_header(bob_id_token)\n",
    "jwt_payload = jwt.decode(bob_id_token, options={\"verify_signature\": False})\n",
    "print(\"JWT Header:\", json.dumps(jwt_header, indent = 2), \"\\n---\\nJWT Payload:\", json.dumps(jwt_payload, indent = 2))"
   ]
  },
  {
   "cell_type": "markdown",
   "id": "f2222392-743e-40a9-8f17-f9d7a635bb2d",
   "metadata": {},
   "source": [
    "### Authorization - UMA Flow\n",
    "![UMA Flow](https://github.com/EOEPCA/eoepca/raw/develop/technical/user-management/seq-uma-flow.png)<br>\n",
    "**Relying Party Token (RPT)** encapsulates the authorization decision. It authorizes the client with scoped access to the resource on behalf of the user."
   ]
  },
  {
   "cell_type": "markdown",
   "id": "a95c312d-1ada-4d68-8e30-3c31116639b8",
   "metadata": {},
   "source": [
    "For example, Bob lists Eric's processes..."
   ]
  },
  {
   "cell_type": "code",
   "execution_count": null,
   "id": "9e143c16-e02d-4128-9c27-f140ccf406e4",
   "metadata": {},
   "outputs": [],
   "source": [
    "demo.trace_flow = True\n",
    "ades_access_token = None\n",
    "response, ades_access_token, process_ids = demo.proc_list_processes(ades_proc_url, id_token=bob_id_token, access_token=ades_access_token)\n",
    "demo.trace_flow = False\n",
    "print(\"Processes:\", process_ids)"
   ]
  },
  {
   "cell_type": "markdown",
   "id": "37cf0abd-246e-4640-b713-81f557669f80",
   "metadata": {},
   "source": [
    "### Bob get details of Eric's deployed application [ACCESS DENIED]"
   ]
  },
  {
   "cell_type": "code",
   "execution_count": null,
   "id": "670ec4fd-96b8-4b86-b1d2-b58c44299aee",
   "metadata": {
    "tags": []
   },
   "outputs": [],
   "source": [
    "# API Processes - Get Application Details\n",
    "response, ades_access_token = demo.proc_get_app_details(ades_proc_url, application_name, id_token=bob_id_token, access_token=ades_access_token)"
   ]
  },
  {
   "cell_type": "markdown",
   "id": "3c38ff46-9587-4ab9-b093-295b117cfe07",
   "metadata": {},
   "source": [
    "### Eric updates policy to allow Bob to view the application details"
   ]
  },
  {
   "cell_type": "markdown",
   "id": "5883218b-f8d5-4eda-86a0-7491b5fcb781",
   "metadata": {},
   "source": [
    "#### Policy Update: Each user has a unique ID within the platform\n",
    "The user IDs are needed in the policy specification"
   ]
  },
  {
   "cell_type": "code",
   "execution_count": null,
   "id": "567c4c6c-7d36-4cd4-9aaf-28e6c1f6678e",
   "metadata": {},
   "outputs": [],
   "source": [
    "#-------------------------------------------------------------------------------\n",
    "# Get Subject IDs from user JWT ID tokens\n",
    "#-------------------------------------------------------------------------------\n",
    "eric_identifier = demo.get_ownership_id(user_id_token)\n",
    "bob_identifier = demo.get_ownership_id(bob_id_token)\n",
    "print(f\"Subject IDs: Eric => {eric_identifier}, Bob => {bob_identifier}\")"
   ]
  },
  {
   "cell_type": "markdown",
   "id": "7ca77f5b-7313-47eb-be29-087661f21200",
   "metadata": {},
   "source": [
    "#### Policy Update: Each resource is uniquely identified in the policy database\n",
    "The resource ID is needed in the policy specification"
   ]
  },
  {
   "cell_type": "code",
   "execution_count": null,
   "id": "aae82115-9939-4f7b-bd5d-e9d5a8626318",
   "metadata": {},
   "outputs": [],
   "source": [
    "# Each resource has a unique identifier\n",
    "application_resource_id = demo.get_resource_by_uri(ades_resources_endpoint, "/"+USER_NAME+"/wps3/processes/"+application_name, user_id_token)\n",
    "print(f\"ID for resource '{application_name}' of user {USER_NAME} => {application_resource_id}\")"
   ]
  },
  {
   "cell_type": "markdown",
   "id": "08c71178-adac-404a-9568-df47ff787446",
   "metadata": {},
   "source": [
    "#### Policy Update: Update the policy @ the PDP (Policy Decision Point)\n",
    "Add Bob to the list of users with privilege to access the application resource."
   ]
  },
  {
   "cell_type": "code",
   "execution_count": null,
   "id": "662c680b-5d3a-4ba2-85de-d8143422295f",
   "metadata": {},
   "outputs": [],
   "source": [
    "# Updated policy\n",
    "policy = {\n",
    "  \"name\": \"Updated App Details\",\n",
    "  \"description\": \"modified\",\n",
    "  \"config\": {\n",
    "    \"resource_id\": application_resource_id,\n",
    "    \"action\": \"view\",\n",
    "    \"rules\": [\n",
    "      {\n",
    "        \"OR\": [\n",
    "          {\n",
    "            \"EQUAL\": {\n",
    "              \"id\": eric_identifier\n",
    "            }\n",
    "          },\n",
    "          {\n",
    "            \"EQUAL\": {\n",
    "              \"id\": bob_identifier\n",
    "            }\n",
    "          }\n",
    "        ]\n",
    "      }\n",
    "    ]\n",
    "  },\n",
    "  \"scopes\": [\n",
    "    \"protected_access\"\n",
    "  ]\n",
    "}\n",
    "\n",
    "response, text = demo.update_policy(pdp_url, policy, application_resource_id, user_id_token)"
   ]
  },
  {
   "cell_type": "markdown",
   "id": "95776493-2e95-4da0-b5b0-35014af4b146",
   "metadata": {},
   "source": [
    "### REPEAT ATTEMPT: Bob get details of Eric's deployed application"
   ]
  },
  {
   "cell_type": "code",
   "execution_count": null,
   "id": "27af0cca-8c3b-4cb8-b21d-e2e3892c574e",
   "metadata": {
    "tags": []
   },
   "outputs": [],
   "source": [
    "# API Processes - Get Application Details\n",
    "response, ades_access_token = demo.proc_get_app_details(ades_proc_url, application_name, id_token=bob_id_token, access_token=ades_access_token)\n",
    "demo.response_summary(response)"
   ]
  }
 ],
 "metadata": {
  "kernelspec": {
   "display_name": "Python 3",
   "language": "python",
   "name": "python3"
  },
  "language_info": {
   "codemirror_mode": {
    "name": "ipython",
    "version": 3
   },
   "file_extension": ".py",
   "mimetype": "text/x-python",
   "name": "python",
   "nbconvert_exporter": "python",
   "pygments_lexer": "ipython3",
   "version": "3.9.2"
  }
 },
 "nbformat": 4,
 "nbformat_minor": 5
}
