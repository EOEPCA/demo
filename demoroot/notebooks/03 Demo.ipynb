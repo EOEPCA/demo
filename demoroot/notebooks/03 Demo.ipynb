{
 "cells": [
  {
   "cell_type": "markdown",
   "id": "recent-teens",
   "metadata": {},
   "source": [
    "# Demonstration\n",
    "End-to-end demonstration.<br>\n",
    "Ref. https://docs.google.com/document/d/1opi0xGTaMZC0TA2CF2VF1DrWHXeE6M-89ricwlsXtXg/edit?usp=sharing"
   ]
  },
  {
   "cell_type": "code",
   "execution_count": null,
   "id": "entitled-target",
   "metadata": {},
   "outputs": [],
   "source": [
    "import utils.DemoClient as client\n",
    "import jwt\n",
    "import json\n",
    "import boto3\n",
    "from awscli.customizations.s3.utils import split_s3_bucket_key\n",
    "\n",
    "from owslib.csw import CatalogueServiceWeb\n",
    "from owslib.fes import And, Or, PropertyIsEqualTo, PropertyIsGreaterThanOrEqualTo, PropertyIsLessThanOrEqualTo, PropertyIsLike, BBox, SortBy, SortProperty\n",
    "from owslib.wms import WebMapService\n",
    "from geolinks import sniff_link\n",
    "import folium\n",
    "import requests\n",
    "from bs4 import BeautifulSoup\n",
    "import pyops"
   ]
  },
  {
   "cell_type": "markdown",
   "id": "imperial-cinema",
   "metadata": {},
   "source": [
    "## Application Development\n",
    "Alice uses the Processor Development Environment (PDE) to develop, test and package an application.\n",
    "Alice's published outputs are:\n",
    "* Docker image published to DockerHub\n",
    "* Application Package (CWL) published to Resource Catalogue (TBD) and/or GitHub - accessible by href\n",
    "\n",
    "The following demonstrates how to discover the Application Package from Alice's workspace through the Resource Catalogue API"
   ]
  },
  {
   "cell_type": "code",
   "execution_count": null,
   "id": "410334c4-2d8b-4a37-ac1b-208c78c63df5",
   "metadata": {},
   "outputs": [],
   "source": [
    "alice_workspace_endpoint = 'https://resource-catalogue.user.185.52.193.87.nip.io'\n",
    "#workspace_endpoint = 'https://resource-catalogue.rm-user-alice.185.52.193.87.nip.io'\n",
    "csw = CatalogueServiceWeb(alice_workspace_endpoint,timeout=30)\n",
    "csw.getrecords2(maxrecords=10)\n",
    "print(\"Alice's workspace records:\")\n",
    "for rec in csw.records:\n",
    "    print(f'identifier: {csw.records[rec].identifier}\\ntype: {csw.records[rec].type}\\ntitle: {csw.records[rec].title}\\n')\n",
    "print(\"URL for Application s-expression:\")\n",
    "csw.records['s-expression'].references"
   ]
  },
  {
   "cell_type": "markdown",
   "id": "collect-hypothesis",
   "metadata": {},
   "source": [
    "## Demo Client Setup\n",
    "We instantiate a client to interact with the platform.<br>\n",
    "The client dynamically registers with the Authorisation Server to take part in UMA (User Managed Access) flows through which authorization is obtained for scoped access resources on behalf of the user."
   ]
  },
  {
   "cell_type": "code",
   "execution_count": null,
   "id": "chemical-wednesday",
   "metadata": {},
   "outputs": [],
   "source": [
    "#-------------------------------------------------------------------------------\n",
    "# Initialise client\n",
    "#-------------------------------------------------------------------------------\n",
    "base_domain = \"185.52.193.87.nip.io\"\n",
    "platform_domain = \"test.\" + base_domain\n",
    "base_url = \"https://\" + platform_domain\n",
    "demo = client.DemoClient(base_url)\n",
    "demo.register_client()\n",
    "demo.save_state()"
   ]
  },
  {
   "cell_type": "markdown",
   "id": "nominated-style",
   "metadata": {},
   "source": [
    "### Authenticated User\n",
    "We require an authenticated user to interact with some of the platform endpoints - in particular for eoepca v0.3 the ADES.<br>\n",
    "User authenticates and the client receives an ID Token (JWT) that represents the user.<br>\n",
    "For convenience within the Jupyter notebook we use a username/password authentication - but the primary mechanism is to rely upon external identity provision.<br>\n",
    "Currently login with GitHub is supported."
   ]
  },
  {
   "cell_type": "code",
   "execution_count": null,
   "id": "manufactured-carbon",
   "metadata": {
    "tags": []
   },
   "outputs": [],
   "source": [
    "#-------------------------------------------------------------------------------\n",
    "# Authenticate as user 'demoA' and get ID Token\n",
    "#-------------------------------------------------------------------------------\n",
    "USER_NAME=\"eric\"\n",
    "USER_PASSWORD=\"defaultPWD\"\n",
    "user_id_token = demo.get_id_token(USER_NAME, USER_PASSWORD)"
   ]
  },
  {
   "cell_type": "markdown",
   "id": "least-integration",
   "metadata": {},
   "source": [
    "## Data Discovery\n",
    "\n",
    "Eric discovers data using platform services (Resource Catalogue / DAS) and QGIS\n",
    "* CSW and OpenSearch endpoints\n",
    "* Data visualisation"
   ]
  },
  {
   "cell_type": "markdown",
   "id": "professional-photograph",
   "metadata": {},
   "source": [
    "### Resource Catalogue CSW and OpenSearch"
   ]
  },
  {
   "cell_type": "markdown",
   "id": "9b4b0ad8-7bc6-4950-ae10-cd10af55d45e",
   "metadata": {},
   "source": [
    "In this part of the demo, Eric uses the system level resource catalogue endpoint to discover data collections and datasets.\n",
    "\n",
    "[OWSLib](https://geopython.github.io/OWSLib) is a Python package for client programming with Open Geospatial Consortium (OGC) web service (hence OWS) interface standards, and their related content models. In this demo we’ll work with the CSW, WMS and WCS interfaces.\n",
    "\n",
    "The `owslib.csw` class of OWSLib is instantiated and service metadata are shown."
   ]
  },
  {
   "cell_type": "code",
   "execution_count": null,
   "id": "809938e9-6671-4329-8ee7-369dc74763d7",
   "metadata": {},
   "outputs": [],
   "source": [
    "system_endpoint = 'https://resource-catalogue.demo.eoepca.org/'\n",
    "csw = CatalogueServiceWeb(system_endpoint, timeout=30)"
   ]
  },
  {
   "cell_type": "markdown",
   "id": "c14b9881-8147-4855-8cc6-f13d5ca7cc91",
   "metadata": {},
   "source": [
    "Service metadata shown here include supported operations and queryables"
   ]
  },
  {
   "cell_type": "code",
   "execution_count": null,
   "id": "c26edaff-365d-4207-98e8-27316c54a2f2",
   "metadata": {},
   "outputs": [],
   "source": [
    "[op.name for op in csw.operations]"
   ]
  },
  {
   "cell_type": "code",
   "execution_count": null,
   "id": "8c550f80-7564-49d9-8e18-44ac88efc6c8",
   "metadata": {},
   "outputs": [],
   "source": [
    "csw.get_operation_by_name('GetRecords').constraints"
   ]
  },
  {
   "cell_type": "markdown",
   "id": "8091a9b6-bc74-4824-b032-0e50477532ee",
   "metadata": {},
   "source": [
    "Eric can make a GetRecords request to get all records of the catalogue, with a page limit of 10."
   ]
  },
  {
   "cell_type": "code",
   "execution_count": null,
   "id": "d0d5c0b2-c11b-4798-8b42-d5e206c8cd00",
   "metadata": {},
   "outputs": [],
   "source": [
    "csw.getrecords2(maxrecords=10)\n",
    "csw.results"
   ]
  },
  {
   "cell_type": "markdown",
   "id": "271a402f-9ef0-408b-8ea4-4fe9b3934184",
   "metadata": {},
   "source": [
    "Eric wishes to discover data with usage of filters, an OGC Filter can be used. Here we demonstrate how to create spatial (`bbox`), temporal (`time`), and attribute (`apiso:CloudCover`) filters combined with logical operators like and/or"
   ]
  },
  {
   "cell_type": "code",
   "execution_count": null,
   "id": "46cfb4e6-64d0-4dcf-b8ca-e57251dbf017",
   "metadata": {},
   "outputs": [],
   "source": [
    "bbox_query = BBox([37, 13.9, 37.9, 15.1])\n",
    "begin = PropertyIsLessThanOrEqualTo(propertyname='apiso:TempExtent_begin', literal='2021-04-02 00:00')\n",
    "end = PropertyIsLessThanOrEqualTo(propertyname='apiso:TempExtent_end', literal='2021-04-02 23:59')\n",
    "cloud = PropertyIsLessThanOrEqualTo(propertyname='apiso:CloudCover', literal='20')\n",
    "filter_list = [\n",
    "    And(\n",
    "        [\n",
    "            bbox_query,  # bounding box\n",
    "            begin, end,  # start and end date\n",
    "            cloud        # cloud\n",
    "        ]\n",
    "    )\n",
    "]\n",
    "csw.getrecords2(constraints=filter_list, outputschema='http://www.isotc211.org/2005/gmd')\n",
    "csw.results"
   ]
  },
  {
   "cell_type": "code",
   "execution_count": null,
   "id": "fee0258c-efdd-4875-9867-c7cccef088d5",
   "metadata": {},
   "outputs": [],
   "source": [
    "for rec in csw.records:\n",
    "    print(f'identifier: {csw.records[rec].identifier}\\ntype: {csw.records[rec].identification.identtype}\\ntitle: {csw.records[rec].identification.title}\\n')"
   ]
  },
  {
   "cell_type": "markdown",
   "id": "19822cd1-9772-4195-902a-9aea10e2131f",
   "metadata": {},
   "source": [
    "Eric selects one record with the identifier and discovers the available links"
   ]
  },
  {
   "cell_type": "code",
   "execution_count": null,
   "id": "f76d0c37-f277-44cb-8e0d-25d28c5c1845",
   "metadata": {},
   "outputs": [],
   "source": [
    "csw.getrecordbyid(id=['S2B_MSIL1C_20210402T095029_N0300_R079_T33SVB_20210402T121737.SAFE'])\n",
    "rec = csw.records['S2B_MSIL1C_20210402T095029_N0300_R079_T33SVB_20210402T121737.SAFE']\n",
    "rec.title"
   ]
  },
  {
   "cell_type": "code",
   "execution_count": null,
   "id": "913f70ab-631f-4c93-8956-797bc4066f61",
   "metadata": {},
   "outputs": [],
   "source": [
    "rec.references"
   ]
  },
  {
   "cell_type": "markdown",
   "id": "5b53fcf1-877f-48d0-b4d7-dd2ffdd023aa",
   "metadata": {},
   "source": [
    "Eric can also see the record footprint on a map, using the [Folium](https://github.com/python-visualization/folium) Python library:"
   ]
  },
  {
   "cell_type": "code",
   "execution_count": null,
   "id": "0b0bb9ad-e4d7-4f03-9d04-b03349246b7f",
   "metadata": {},
   "outputs": [],
   "source": [
    "m = folium.Map(location=[38, 20], zoom_start=6, tiles='OpenStreetMap')\n",
    "folium.Rectangle(bounds=[[float(rec.bbox.miny), float(rec.bbox.minx)], [float(rec.bbox.maxy), float(rec.bbox.maxx)]]).add_to(m)\n",
    "m"
   ]
  },
  {
   "cell_type": "markdown",
   "id": "ac003207-d89e-4169-a337-ae33fa90da9f",
   "metadata": {},
   "source": [
    "The same record can also be retrieved from the Resource Catalogue using the OpenSearch API and the dataset identifier:"
   ]
  },
  {
   "cell_type": "code",
   "execution_count": null,
   "id": "9c68f8b6-10b7-4141-bac4-8dbbfe96e552",
   "metadata": {},
   "outputs": [],
   "source": [
    "url='https://resource-catalogue.demo.eoepca.org/?mode=opensearch&service=CSW&version=3.0.0&request=GetRecords&elementsetname=full&resulttype=results&typenames=csw:Record&recordids=S2B_MSIL1C_20210402T095029_N0300_R079_T33SVB_20210402T121737.SAFE'\n",
    "S = requests.Session()\n",
    "R = S.get(url=url)\n",
    "bs = BeautifulSoup(R.text, 'xml')\n",
    "print(bs.prettify())"
   ]
  },
  {
   "cell_type": "markdown",
   "id": "9225e423-fdc1-4918-996e-454d817ac135",
   "metadata": {},
   "source": [
    "Eric can also use a generic OpenSearch client to query the Resource Catalogue.\n",
    "\n",
    "Eric can also include parameters in the search, like the parent identifier for collection level search"
   ]
  },
  {
   "cell_type": "code",
   "execution_count": null,
   "id": "a6b224c5-386b-4ef7-8ade-c7fbe9223659",
   "metadata": {},
   "outputs": [],
   "source": [
    "opensearch_endpoint='https://resource-catalogue.demo.eoepca.org/?service=CSW&version=3.0.0&request=GetCapabilities&mode=opensearch'\n",
    "client = pyops.Client(description_xml_url=opensearch_endpoint)\n",
    "results = client.search(params={\"{eo:parentIdentifier?}\": {\"value\": \"S2MSI2A\"}})\n",
    "len(results)"
   ]
  },
  {
   "cell_type": "markdown",
   "id": "instrumental-wrestling",
   "metadata": {},
   "source": [
    "### Data Access Services - WMS, WCS"
   ]
  },
  {
   "cell_type": "markdown",
   "id": "f07d2fae-ab84-4221-9fa3-89b38edcb9f6",
   "metadata": {},
   "source": [
    "Eric has already discovered the dataset to use by using the OWSLib CSW client.\n",
    "\n",
    "Using the [geolinks](https://github.com/geopython/geolinks) Python library, Eric can filter the links that are of a specific type (here WMS and WCS links to be used for visualization)"
   ]
  },
  {
   "cell_type": "code",
   "execution_count": null,
   "id": "a9194e20-d671-411f-99a8-3bb7e4c2259b",
   "metadata": {},
   "outputs": [],
   "source": [
    "system_endpoint = 'https://resource-catalogue.demo.eoepca.org/'\n",
    "csw = CatalogueServiceWeb(system_endpoint, timeout=30)\n",
    "scene_id='S2B_MSIL1C_20210402T095029_N0300_R079_T33SVB_20210402T121737.SAFE'\n",
    "csw.getrecordbyid(id=[scene_id])\n",
    "links = csw.records[scene_id].references\n",
    "for link in links:\n",
    "    scheme = link['scheme']\n",
    "    if 'WMS' in scheme:\n",
    "        wms_endpoint=link['url']\n",
    "        print(link['url'])"
   ]
  },
  {
   "cell_type": "markdown",
   "id": "584239d3-e4f0-4fe1-9794-6977f62ee55c",
   "metadata": {},
   "source": [
    "After discovering the dataset, Eric can identify the WMS link and use the OWSLib WMs client to visualize the dataset"
   ]
  },
  {
   "cell_type": "code",
   "execution_count": null,
   "id": "77890480-2227-4196-b437-e931760485c0",
   "metadata": {},
   "outputs": [],
   "source": [
    "wms = WebMapService(wms_endpoint, version='1.3.0')\n",
    "wms[scene_id].title\n"
   ]
  },
  {
   "cell_type": "code",
   "execution_count": null,
   "id": "3cd425cf-f4ee-4650-a930-6487fb1e2efc",
   "metadata": {},
   "outputs": [],
   "source": [
    "list(wms.contents)"
   ]
  },
  {
   "cell_type": "markdown",
   "id": "682252a2-4ca6-4ebd-90bc-80f9b8e863ae",
   "metadata": {},
   "source": [
    "Eric can visualize the WMS GetMap request from matplotlib"
   ]
  },
  {
   "cell_type": "code",
   "execution_count": null,
   "id": "007dbc5e-065c-4657-9fad-004b8a0ef9d4",
   "metadata": {},
   "outputs": [],
   "source": [
    "%matplotlib inline\n",
    "import os, sys\n",
    "import matplotlib.image as mpimg\n",
    "import matplotlib.pyplot as plt\n",
    "\n",
    "def getMap(wms,layerName,bbox,filename):\n",
    "    wms.getOperationByName('GetMap').formatOptions\n",
    "    img = wms.getmap(layers=[layerName],\n",
    "                 size=(600,300),\n",
    "                 srs='EPSG:4326',\n",
    "                 bbox=bbox,\n",
    "                 format='image/png',\n",
    "                 transparent=True)\n",
    "\n",
    "    tmpfile = open(filename,'wb')\n",
    "    tmpfile.write(img.read())\n",
    "    tmpfile.close()"
   ]
  },
  {
   "cell_type": "code",
   "execution_count": null,
   "id": "f8cf7ba7-a407-45bf-a952-ed7b9f23d861",
   "metadata": {},
   "outputs": [],
   "source": [
    "getMap(wms,'S2B_MSIL1C_20210402T095029_N0300_R079_T33SVB_20210402T121737.SAFE__TRUE_COLOR',(13.8,36.9,15.1,37.9), 'rgb.png')\n",
    "image1=mpimg.imread('rgb.png')\n",
    "fig = plt.figure(figsize=(12,7))\n",
    "img1=plt.imshow(image1,extent=[13.8,15.1,36.9,37.9],aspect='auto')\n",
    "plt.show()"
   ]
  },
  {
   "cell_type": "markdown",
   "id": "cardiovascular-density",
   "metadata": {},
   "source": [
    "## Processing - ADES\n",
    "The ADES provides WPS 1.0/2.0 and API Processes interfaces - with extensions for process deploy/undeploy.<br>\n",
    "The ADES provides user-specific endpoints, using a URL path prefix."
   ]
  },
  {
   "cell_type": "code",
   "execution_count": null,
   "id": "blind-feeding",
   "metadata": {},
   "outputs": [],
   "source": [
    "# ADES URLs\n",
    "ades_base_url = \"http://ades.\" + platform_domain\n",
    "ades_wps_url = ades_base_url + \"/\" + USER_NAME + \"/zoo\"; print(\"ADES WPS endpoint:\", ades_wps_url)\n",
    "ades_proc_url = ades_base_url + \"/\" + USER_NAME + \"/wps3\"; print(\"ADES API Processes endpoint:\", ades_proc_url)\n",
    "\n",
    "# Init\n",
    "ades_access_token = None\n",
    "app_name = \"s-expression-0_0_2\""
   ]
  },
  {
   "cell_type": "markdown",
   "id": "average-revision",
   "metadata": {},
   "source": [
    "### ADES: List Processes\n",
    "**GET {service_url}/processes**<br>\n",
    "Provides a list of all processes "
   ]
  },
  {
   "cell_type": "code",
   "execution_count": null,
   "id": "bibliographic-quilt",
   "metadata": {
    "tags": []
   },
   "outputs": [],
   "source": [
    "# API Processes - List Processes\n",
    "response, ades_access_token, process_ids = demo.proc_list_processes(ades_proc_url, id_token=user_id_token, access_token=ades_access_token)\n",
    "print(\"Processes:\", process_ids)\n",
    "# demo.response_summary(response)"
   ]
  },
  {
   "cell_type": "markdown",
   "id": "ready-edgar",
   "metadata": {},
   "source": [
    "### ADES: Deploy Application\n",
    "**POST {service_url}/processes**<br>\n",
    "Deploy application to the ADES.<br>\n",
    "Request body is json in the same format as defined for an Execute request (ref. API Processes), in which the input is the Application Package describing the application.<br>\n",
    "The Application Package is a CWL Workflow that is typically provided as an href with content type **_application/atom+xml_** or **_application/cwl_**."
   ]
  },
  {
   "cell_type": "code",
   "execution_count": null,
   "id": "grand-investor",
   "metadata": {},
   "outputs": [],
   "source": [
    "# API Processes - Deploy Application\n",
    "response, ades_access_token = demo.proc_deploy_application(ades_proc_url, \"../data/app-deploy-body-atom.json\", id_token=user_id_token, access_token=ades_access_token)"
   ]
  },
  {
   "cell_type": "markdown",
   "id": "thorough-convertible",
   "metadata": {},
   "source": [
    "**_Dynamic Resource Protection_**<br>\n",
    "The application deployment creates new endpoints within the ADES that need to be protected - e.g. those for _Details_ **(processes/{application_name})** and _Execute_ **(processes/{application_name}/jobs)**.<br>\n",
    "During deployment, the ADES interfaces with its PEP (Policy Enforcement Point) to register these endpoints as protected under the ownership of the calling user."
   ]
  },
  {
   "cell_type": "code",
   "execution_count": null,
   "id": "fancy-squad",
   "metadata": {
    "tags": []
   },
   "outputs": [],
   "source": [
    "# Check deploy - list processes again\n",
    "response, ades_access_token, process_ids = demo.proc_list_processes(ades_proc_url, id_token=user_id_token, access_token=ades_access_token)\n",
    "print(\"Processes:\", process_ids)"
   ]
  },
  {
   "cell_type": "markdown",
   "id": "packed-grounds",
   "metadata": {},
   "source": [
    "### ADES: Get Application Details\n",
    "**GET {service_url}/processes/{application_name}**<br>\n",
    "Provides details of the deployed application<br>\n",
    "The response includes the API Processes json application description."
   ]
  },
  {
   "cell_type": "code",
   "execution_count": null,
   "id": "classical-soldier",
   "metadata": {},
   "outputs": [],
   "source": [
    "# API Processes - Get Application Details\n",
    "response, ades_access_token = demo.proc_get_app_details(ades_proc_url, app_name, id_token=user_id_token, access_token=ades_access_token)\n",
    "demo.response_summary(response)"
   ]
  },
  {
   "cell_type": "markdown",
   "id": "separate-affair",
   "metadata": {},
   "source": [
    "### ADES: Execute Application\n",
    "**POST {service_url}/processes/{application_name}/jobs**<br>\n",
    "Request body is json as defined by API Processes to define the inputs and outputs, consistent with the CWL Workflow application package.<br>\n",
    "The response returns **201 CREATED** to indicate that the job has been successfully initiated.<br>\n",
    "The response **Location header** provides the path (/processes/{application_name}/jobs/{job_id}) to follow the job status."
   ]
  },
  {
   "cell_type": "code",
   "execution_count": null,
   "id": "fatty-marble",
   "metadata": {},
   "outputs": [],
   "source": [
    "# API Processes - Execute Application\n",
    "response, ades_access_token, job_location_path = demo.proc_execute_application(ades_proc_url, app_name, \"../data/app-execute-body.json\", id_token=user_id_token, access_token=ades_access_token)"
   ]
  },
  {
   "cell_type": "markdown",
   "id": "immune-report",
   "metadata": {},
   "source": [
    "### ADES: Job Status\n",
    "**GET {service_url}/watchjob/processes/{application_name}/jobs/{job_id}**<br>\n",
    "Check the status of a previously submitted job - using the URL returned in the Location header of the execute request.<br>\n",
    "The response body json provides a status string (success/running/failed) and a % progress.<br>\n",
    "In the case of a failure then a descriptive message is provided."
   ]
  },
  {
   "cell_type": "code",
   "execution_count": null,
   "id": "significant-cooper",
   "metadata": {},
   "outputs": [],
   "source": [
    "# API Processes - Job Status\n",
    "response, ades_access_token, status = demo.proc_get_job_status(ades_base_url, job_location_path, id_token=user_id_token, access_token=ades_access_token)\n",
    "demo.response_summary(response)"
   ]
  },
  {
   "cell_type": "markdown",
   "id": "proof-disney",
   "metadata": {},
   "source": [
    "**Polling for Job Completion**<br>\n",
    "The job execution is asynchronous.<br>\n",
    "The Job Status endpoint is polled until the job completes."
   ]
  },
  {
   "cell_type": "code",
   "execution_count": null,
   "id": "anonymous-toyota",
   "metadata": {},
   "outputs": [],
   "source": [
    "# API Processes - Job Status (keep polling for completion)\n",
    "response, ades_access_token, status = demo.proc_poll_job_completion(ades_base_url, job_location_path, interval=10, id_token=user_id_token, access_token=ades_access_token)"
   ]
  },
  {
   "cell_type": "code",
   "execution_count": null,
   "id": "emerging-thong",
   "metadata": {},
   "outputs": [],
   "source": [
    "# Inspect response\n",
    "demo.response_summary(response)"
   ]
  },
  {
   "cell_type": "markdown",
   "id": "editorial-eligibility",
   "metadata": {},
   "source": [
    "### ADES Stage-out\n",
    "At the successful completion of processing, the ADES stages out the results to platform storage (under the direction of the user's Workspace component), and registers the data in the User Workspace for access and further exploitation.<br>\n",
    "![ADES processing results stage-out](https://raw.githubusercontent.com/EOEPCA/eoepca/develop/technical/workspace/seq-ades-processing-results-stage-out.png)"
   ]
  },
  {
   "cell_type": "markdown",
   "id": "decent-elite",
   "metadata": {},
   "source": [
    "### ADES: Job Result\n",
    "**GET {service_url}/watchjob/processes/{application_name}/jobs/{job_id}/result**<br>\n",
    "Returns details of the outputs for a successful job execution.<br>\n",
    "The response body provides json data that includes the reference to the STAC file that indexes the processing outputs."
   ]
  },
  {
   "cell_type": "code",
   "execution_count": null,
   "id": "cordless-begin",
   "metadata": {},
   "outputs": [],
   "source": [
    "# API Processes - Job Result\n",
    "response, ades_access_token, stacCatalogUri = demo.proc_get_job_result(ades_base_url, job_location_path, id_token=user_id_token, access_token=ades_access_token)\n",
    "demo.response_summary(response)\n",
    "print(\"stacCatalogUri:\", stacCatalogUri)"
   ]
  },
  {
   "cell_type": "markdown",
   "id": "continent-necklace",
   "metadata": {},
   "source": [
    "### ADES: List Jobs\n",
    "**GET {service_url}/processes/{application_name}/jobs**<br>\n",
    "Provides a list of all jobs for the named processes "
   ]
  },
  {
   "cell_type": "code",
   "execution_count": null,
   "id": "young-petersburg",
   "metadata": {},
   "outputs": [],
   "source": [
    "# API Processes - List Jobs\n",
    "response, ades_access_token, job_ids = demo.proc_list_jobs(ades_proc_url, app_name, id_token=user_id_token, access_token=ades_access_token)\n",
    "print(\"Jobs:\", job_ids)"
   ]
  },
  {
   "cell_type": "markdown",
   "id": "marked-blind",
   "metadata": {},
   "source": [
    "### ADES: Undeploy Application\n",
    "**DELETE {service_url}/processes/{application_name}**<br>\n",
    "Undeploy application from the ADES"
   ]
  },
  {
   "cell_type": "code",
   "execution_count": null,
   "id": "alpine-pantyhose",
   "metadata": {},
   "outputs": [],
   "source": [
    "# API Processes - Undeploy Application\n",
    "response, ades_access_token = demo.proc_undeploy_application(ades_proc_url, app_name, id_token=user_id_token, access_token=ades_access_token)"
   ]
  },
  {
   "cell_type": "code",
   "execution_count": null,
   "id": "hybrid-radiation",
   "metadata": {
    "tags": []
   },
   "outputs": [],
   "source": [
    "# Check undeploy - list processes\n",
    "response, ades_access_token, process_ids = demo.proc_list_processes(ades_proc_url, id_token=user_id_token, access_token=ades_access_token)\n",
    "print(\"Processes:\", process_ids)"
   ]
  },
  {
   "cell_type": "markdown",
   "id": "conditional-might",
   "metadata": {},
   "source": [
    "## Policy Enforcement and Resource Sharing\n",
    "Owners of resources can choose to share these with other users by updating the access policies"
   ]
  },
  {
   "cell_type": "markdown",
   "id": "regulation-edition",
   "metadata": {},
   "source": [
    "### Deploy Application\n",
    "The demo user redeploys de application"
   ]
  },
  {
   "cell_type": "code",
   "execution_count": null,
   "id": "inner-calculation",
   "metadata": {},
   "outputs": [],
   "source": [
    "# API Processes - Deploy Application\n",
    "response, ades_access_token = demo.proc_deploy_application(ades_proc_url, \"../data/app-deploy-body-atom.json\", id_token=user_id_token, access_token=ades_access_token)"
   ]
  },
  {
   "cell_type": "code",
   "execution_count": null,
   "id": "crazy-grammar",
   "metadata": {},
   "outputs": [],
   "source": [
    "# Check deploy - list processes again\n",
    "response, process_ids, ades_access_token = demo.proc_list_processes(ades_proc_url, id_token=user_id_token, access_token=ades_access_token)\n",
    "print(\"Processes:\", process_ids)"
   ]
  },
  {
   "cell_type": "markdown",
   "id": "infinite-circle",
   "metadata": {},
   "source": [
    "### UserB Authenticates in the Platform\n",
    "User authenticates and the client receives an ID Token (JWT) that represents the user."
   ]
  },
  {
   "cell_type": "code",
   "execution_count": null,
   "id": "broke-hands",
   "metadata": {},
   "outputs": [],
   "source": [
    "#-------------------------------------------------------------------------------\n",
    "# Authenticate as UserB and get ID Token\n",
    "#-------------------------------------------------------------------------------\n",
    "USER_NAME=\"demoB\"\n",
    "USER_PASSWORD=\"defaultPWD\"\n",
    "userb_id_token = demo.get_id_token(USER_NAME, USER_PASSWORD)"
   ]
  },
  {
   "cell_type": "markdown",
   "id": "studied-costa",
   "metadata": {},
   "source": [
    "### UserB Attempts to Execute Demo User Apps\n",
    "All resources are registered with ownership policies by default"
   ]
  },
  {
   "cell_type": "code",
   "execution_count": null,
   "id": "stainless-adjustment",
   "metadata": {},
   "outputs": [],
   "source": [
    "#-------------------------------------------------------------------------------\n",
    "# Unauthorized Execution \n",
    "# Expected Value: 401\n",
    "#-------------------------------------------------------------------------------\n",
    "response, ades_access_token, job_location_path = demo.proc_execute_application(ades_proc_url, app_name, \"../data/app-execute-body.json\", id_token=None, access_token=None)"
   ]
  },
  {
   "cell_type": "markdown",
   "id": "driving-spanish",
   "metadata": {},
   "source": [
    "### Owner Updates Access Policy\n",
    "Grants access to UserB to execute the deployed app"
   ]
  },
  {
   "cell_type": "code",
   "execution_count": null,
   "id": "detected-singles",
   "metadata": {},
   "outputs": [],
   "source": [
    "#-------------------------------------------------------------------------------\n",
    "# Get Ownership Id\n",
    "#-------------------------------------------------------------------------------\n",
    "owB = demo.get_ownership_id(userb_id_token)\n",
    "owA = demo.get_ownership_id(user_id_token)\n",
    "\n",
    "#-------------------------------------------------------------------------------\n",
    "# Finds the policy by retrieving a resource_id\n",
    "# Update policy with allowing access to UserB\n",
    "#-------------------------------------------------------------------------------\n",
    "ades_res=\"http://ades.resources.185.52.193.87.nip.io\"\n",
    "res_id = demo.get_resource_by_name(ades_res, \"s-expression-0_0_2\", user_id_token)\n",
    "data={'name':'Updated Execution','description':'modified','config':{'resource_id':'res_id','action':'view','rules':[{'OR':[{'EQUAL':{'id':'owA'}},{'EQUAL':{'id':'owB'}}]}]},'scopes':['protected_access']}\n",
    "pdp_url= \"http://test.185.52.193.87.nip.io/pdp\"\n",
    "resp, text= demo.update_policy(pdp_url, data, res_id, user_id_token)"
   ]
  },
  {
   "cell_type": "markdown",
   "id": "stable-eight",
   "metadata": {},
   "source": [
    "### UserB Executes Application Succesfully\n",
    "Shared resources can now be executed"
   ]
  },
  {
   "cell_type": "code",
   "execution_count": null,
   "id": "minimal-creation",
   "metadata": {},
   "outputs": [],
   "source": [
    "#-------------------------------------------------------------------------------\n",
    "# User B Execute Application Succesfully\n",
    "# Expected Value: 201\n",
    "#-------------------------------------------------------------------------------\n",
    "response, ades_access_token, job_location_path = demo.proc_execute_application(ades_proc_url, app_name, \"../data/app-execute-body.json\", id_token=userb_id_token, access_token=None)"
   ]
  },
  {
   "cell_type": "markdown",
   "id": "waiting-basketball",
   "metadata": {},
   "source": [
    "## Workspace"
   ]
  },
  {
   "cell_type": "code",
   "execution_count": null,
   "id": "correct-houston",
   "metadata": {},
   "outputs": [],
   "source": [
    "# Init\n",
    "workspace_url = \"https://workspace-api.\" + base_domain\n",
    "workspace_access_token = None\n",
    "print(\"workspace_url:\", workspace_url)"
   ]
  },
  {
   "cell_type": "markdown",
   "id": "accredited-defense",
   "metadata": {},
   "source": [
    "### Workspace: Get Details"
   ]
  },
  {
   "cell_type": "code",
   "execution_count": null,
   "id": "raising-combine",
   "metadata": {},
   "outputs": [],
   "source": [
    "# Workspace - Get Details\n",
    "workspace_name = \"rm-user-\" + USER_NAME.lower()\n",
    "response, workspace_access_token = demo.workspace_get_details(workspace_url, workspace_name, id_token=user_id_token, access_token=workspace_access_token)\n",
    "workspace_details = response.json()\n",
    "demo.response_summary(response)"
   ]
  },
  {
   "cell_type": "markdown",
   "id": "hazardous-aside",
   "metadata": {},
   "source": [
    "### Inspect S3 Bucket"
   ]
  },
  {
   "cell_type": "code",
   "execution_count": null,
   "id": "saving-graduate",
   "metadata": {},
   "outputs": [],
   "source": [
    "# Bucket details\n",
    "bucket_name = workspace_details[\"storage\"][\"credentials\"][\"bucketname\"]\n",
    "s3_access = workspace_details[\"storage\"][\"credentials\"][\"access\"]\n",
    "s3_secret = workspace_details[\"storage\"][\"credentials\"][\"secret\"]\n",
    "# Init S3 session for Creodias\n",
    "S3_ENDPOINT = \"https://cf2.cloudferro.com:8080\"\n",
    "session = boto3.session.Session()\n",
    "s3resource = session.resource('s3', aws_access_key_id=s3_access, aws_secret_access_key=s3_secret, endpoint_url=S3_ENDPOINT)\n",
    "bucket = s3resource.Bucket(bucket_name)"
   ]
  },
  {
   "cell_type": "code",
   "execution_count": null,
   "id": "sudden-conducting",
   "metadata": {},
   "outputs": [],
   "source": [
    "stacCatalogUri = 's3://1a85398587cc4b5795dab4ab565dad34:rm-user-eric/wf-d8be29d6-a986-11eb-beca-7258940a7c04/catalog.json'\n",
    "\n",
    "# Unpick s3 URL\n",
    "_, stacCatalogKeyName = split_s3_bucket_key(stacCatalogUri)\n",
    "print(\"stacCatalogKeyName:\", stacCatalogKeyName)\n",
    "\n",
    "# Read the STAC file\n",
    "stacFileObject = list(bucket.objects.filter(Prefix=stacCatalogKeyName))[0]\n",
    "stacFileJson = json.loads(stacFileObject.get()['Body'].read())\n",
    "print(json.dumps(stacFileJson, indent=2))"
   ]
  },
  {
   "cell_type": "markdown",
   "id": "fatty-vatican",
   "metadata": {},
   "source": [
    "## Results Consumption\n",
    "\n",
    "* Results discovery - User's resource catalogue\n",
    "* Results visualisation:\n",
    "  * Data access services\n",
    "  * QGIS"
   ]
  },
  {
   "cell_type": "markdown",
   "id": "1b746cf3-977a-4138-85ef-d430e735e148",
   "metadata": {},
   "source": [
    "In this part of the demo, Eric will use the workspace resource catalogue endpoint to discover processing outputs and applications.  The workspace catalogue is local to the user, which also has federated access to the system catalogue."
   ]
  },
  {
   "cell_type": "code",
   "execution_count": null,
   "id": "641bb9f9-7b31-452a-92d0-6ea91fc1c781",
   "metadata": {},
   "outputs": [],
   "source": [
    "workspace_endpoint = 'https://resource-catalogue.rm-user-eric.185.52.193.87.nip.io'\n",
    "csw = CatalogueServiceWeb(workspace_endpoint,timeout=30)\n",
    "csw.getrecords2(maxrecords=10)\n",
    "csw.results"
   ]
  },
  {
   "cell_type": "code",
   "execution_count": null,
   "id": "18708401-c31e-4a61-80cf-2a153e07ae70",
   "metadata": {},
   "outputs": [],
   "source": [
    "for rec in csw.records:\n",
    "    print(f'identifier: {csw.records[rec].identifier}\\ntype: {csw.records[rec].type}\\ntitle: {csw.records[rec].title}\\n')"
   ]
  },
  {
   "cell_type": "code",
   "execution_count": null,
   "id": "d6640703-ed13-4176-ad6a-1a0b1b1e6a78",
   "metadata": {},
   "outputs": [],
   "source": [
    "scene_id='INDEX_S2A_MSIL2A_20191216T004701_N0213_R102_T53HPA_20191216T024808'\n",
    "csw.getrecordbyid(id=[scene_id])\n",
    "links = csw.records[scene_id].references\n",
    "csw.records['INDEX_S2A_MSIL2A_20191216T004701_N0213_R102_T53HPA_20191216T024808'].references\n",
    "for link in links:\n",
    "    scheme = link['scheme']\n",
    "    if 'WMS' in scheme:\n",
    "        wms_endpoint=link['url']\n",
    "        print(link['url'])"
   ]
  },
  {
   "cell_type": "code",
   "execution_count": null,
   "id": "57d1dec1-30ac-4735-98ef-b89bc1b7c942",
   "metadata": {},
   "outputs": [],
   "source": [
    "wms = WebMapService(wms_endpoint, version='1.3.0')\n",
    "list(wms.contents)"
   ]
  },
  {
   "cell_type": "code",
   "execution_count": null,
   "id": "96702a09-9f94-49a4-8e74-fe6520210f1e",
   "metadata": {},
   "outputs": [],
   "source": [
    "wms[scene_id].boundingBoxWGS84"
   ]
  },
  {
   "cell_type": "code",
   "execution_count": null,
   "id": "dbae9600-593e-4182-977e-878ed06e41e4",
   "metadata": {},
   "outputs": [],
   "source": [
    "getMap(wms,'INDEX_S2A_MSIL2A_20191216T004701_N0213_R102_T53HPA_20191216T024808',(13.8,36.9,15.1,37.9), 'rgb.png')\n",
    "image1=mpimg.imread('rgb.png')\n",
    "fig = plt.figure(figsize=(12,7))\n",
    "img1=plt.imshow(image1,extent=[13.8,15.1,36.9,37.9],aspect='auto')\n",
    "plt.show()"
   ]
  }
 ],
 "metadata": {
  "kernelspec": {
   "display_name": "Python 3",
   "language": "python",
   "name": "python3"
  },
  "language_info": {
   "codemirror_mode": {
    "name": "ipython",
    "version": 3
   },
   "file_extension": ".py",
   "mimetype": "text/x-python",
   "name": "python",
   "nbconvert_exporter": "python",
   "pygments_lexer": "ipython3",
   "version": "3.8.8"
  }
 },
 "nbformat": 4,
 "nbformat_minor": 5
}
