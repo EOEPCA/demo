{
 "cells": [
  {
   "cell_type": "markdown",
   "id": "front-japan",
   "metadata": {},
   "source": [
    "# Demonstration\n",
    "End-to-end demonstration."
   ]
  },
  {
   "cell_type": "markdown",
   "id": "bored-variety",
   "metadata": {},
   "source": [
    "## Application Development\n",
    "Alice uses the Processor Development Environment (PDE) to develop, test and package an application.\n",
    "Alice's published outputs are:\n",
    "* Docker image published to DockerHub\n",
    "* Application Package (CWL) published to Resource Catalogue (TBD) and/or GitHub - accessible by href"
   ]
  },
  {
   "cell_type": "markdown",
   "id": "starting-scenario",
   "metadata": {},
   "source": [
    "## Demo Client Setup\n",
    "We instantiate a client to interact with the platform.<br>\n",
    "The client dynamically registers with the Authorisation Server to take part in UMA (User Managed Access) flows through which authorization is obtained for scoped access resources on behalf of the user."
   ]
  },
  {
   "cell_type": "code",
   "execution_count": null,
   "id": "aquatic-possession",
   "metadata": {},
   "outputs": [],
   "source": [
    "import utils.DemoClient as client\n",
    "import jwt\n",
    "import json\n",
    "#-------------------------------------------------------------------------------\n",
    "# Initialise client\n",
    "#-------------------------------------------------------------------------------\n",
    "base_domain = \"185.52.193.87.nip.io\"\n",
    "platform_domain = \"test.\" + base_domain\n",
    "base_url = \"https://\" + platform_domain\n",
    "demo = client.DemoClient(base_url)\n",
    "demo.register_client()\n",
    "demo.save_state()"
   ]
  },
  {
   "cell_type": "markdown",
   "id": "native-pennsylvania",
   "metadata": {},
   "source": [
    "### Authenticated User\n",
    "We require an authenticated user to interact with some of the platform endpoints - in particular for eoepca v0.3 the ADES.<br>\n",
    "User authenticates and the client receives an ID Token (JWT) that represents the user.<br>\n",
    "For convenience within the Jupyter notebook we use a username/password authentication - but the primary mechanism is to rely upon external identity provision.<br>\n",
    "Currently login with GitHub is supported."
   ]
  },
  {
   "cell_type": "code",
   "execution_count": null,
   "id": "disciplinary-investing",
   "metadata": {
    "tags": []
   },
   "outputs": [],
   "source": [
    "#-------------------------------------------------------------------------------\n",
    "# Authenticate as user 'demoA' and get ID Token\n",
    "#-------------------------------------------------------------------------------\n",
    "USER_NAME=\"rconway\"\n",
    "USER_PASSWORD=\"defaultPWD\"\n",
    "user_id_token = demo.get_id_token(USER_NAME, USER_PASSWORD)"
   ]
  },
  {
   "cell_type": "markdown",
   "id": "adaptive-celebration",
   "metadata": {},
   "source": [
    "## Data Discovery\n",
    "Eric discovers data using platform services (Resource Catalogue / DAS) and QGIS\n",
    "* OpenSearch endpoint\n",
    "* Data visualisation"
   ]
  },
  {
   "cell_type": "markdown",
   "id": "contrary-recording",
   "metadata": {},
   "source": [
    "### Resource Catalogue - OpenSearch"
   ]
  },
  {
   "cell_type": "code",
   "execution_count": null,
   "id": "modern-ocean",
   "metadata": {},
   "outputs": [],
   "source": [
    "# TBD"
   ]
  },
  {
   "cell_type": "markdown",
   "id": "grave-aircraft",
   "metadata": {},
   "source": [
    "### Data Access Services - WMS, WCS (TBD)"
   ]
  },
  {
   "cell_type": "code",
   "execution_count": null,
   "id": "smoking-combination",
   "metadata": {},
   "outputs": [],
   "source": [
    "# TBD"
   ]
  },
  {
   "cell_type": "markdown",
   "id": "architectural-advocate",
   "metadata": {},
   "source": [
    "## Processing - ADES\n",
    "The ADES provides WPS 1.0/2.0 and API Processes interfaces - with extensions for process deploy/undeploy.<br>\n",
    "The ADES provides user-specific endpoints, using a URL path prefix."
   ]
  },
  {
   "cell_type": "code",
   "execution_count": null,
   "id": "administrative-soccer",
   "metadata": {},
   "outputs": [],
   "source": [
    "# ADES URLs\n",
    "ades_base_url = \"http://ades.\" + platform_domain\n",
    "ades_wps_url = ades_base_url + \"/\" + USER_NAME + \"/zoo\"; print(\"ADES WPS endpoint:\", ades_wps_url)\n",
    "ades_proc_url = ades_base_url + \"/\" + USER_NAME + \"/wps3\"; print(\"ADES API Processes endpoint:\", ades_proc_url)\n",
    "\n",
    "# Init\n",
    "ades_access_token = None\n",
    "app_name = \"s-expression-0_0_2\""
   ]
  },
  {
   "cell_type": "markdown",
   "id": "empty-nashville",
   "metadata": {},
   "source": [
    "### ADES: List Processes\n",
    "**GET {service_url}/processes**<br>\n",
    "Provides a list of all processes "
   ]
  },
  {
   "cell_type": "code",
   "execution_count": null,
   "id": "closed-champagne",
   "metadata": {
    "tags": []
   },
   "outputs": [],
   "source": [
    "# API Processes - List Processes\n",
    "response, ades_access_token, process_ids = demo.proc_list_processes(ades_proc_url, id_token=user_id_token, access_token=ades_access_token)\n",
    "print(\"Processes:\", process_ids)\n",
    "demo.response_summary(response)"
   ]
  },
  {
   "cell_type": "markdown",
   "id": "civil-graphic",
   "metadata": {},
   "source": [
    "### ADES: Deploy Application\n",
    "**POST {service_url}/processes**<br>\n",
    "Deploy application to the ADES.<br>\n",
    "Request body is json in the same format as defined for an Execute request (ref. API Processes), in which the input is the Application Package describing the application.<br>\n",
    "The Application Package is a CWL Workflow that is typically provided as an href with content type **_application/atom+xml_** or **_application/cwl_**."
   ]
  },
  {
   "cell_type": "code",
   "execution_count": null,
   "id": "raising-phoenix",
   "metadata": {},
   "outputs": [],
   "source": [
    "# API Processes - Deploy Application\n",
    "response, ades_access_token = demo.proc_deploy_application(ades_proc_url, \"../data/app-deploy-body-atom.json\", id_token=user_id_token, access_token=ades_access_token)"
   ]
  },
  {
   "cell_type": "markdown",
   "id": "continuing-constitution",
   "metadata": {},
   "source": [
    "**_Dynamic Resource Protection_**<br>\n",
    "The application deployment creates new endpoints within the ADES that need to be protected - e.g. those for _Details_ **(processes/{application_name})** and _Execute_ **(processes/{application_name}/jobs)**.<br>\n",
    "During deployment, the ADES interfaces with its PEP (Policy Enforcement Point) to register these endpoints as protected under the ownership of the calling user."
   ]
  },
  {
   "cell_type": "code",
   "execution_count": null,
   "id": "difficult-survey",
   "metadata": {
    "tags": []
   },
   "outputs": [],
   "source": [
    "# Check deploy - list processes again\n",
    "response, ades_access_token, process_ids = demo.proc_list_processes(ades_proc_url, id_token=user_id_token, access_token=ades_access_token)\n",
    "print(\"Processes:\", process_ids)"
   ]
  },
  {
   "cell_type": "markdown",
   "id": "decreased-blowing",
   "metadata": {},
   "source": [
    "### ADES: Get Application Details\n",
    "**GET {service_url}/processes/{application_name}**<br>\n",
    "Provides details of the deployed application<br>\n",
    "The response includes the API Processes json application description."
   ]
  },
  {
   "cell_type": "code",
   "execution_count": null,
   "id": "british-inspiration",
   "metadata": {},
   "outputs": [],
   "source": [
    "# API Processes - Get Application Details\n",
    "response, ades_access_token = demo.proc_get_app_details(ades_proc_url, app_name, id_token=user_id_token, access_token=ades_access_token)\n",
    "print(json.dumps(response.json(), indent = 2))"
   ]
  },
  {
   "cell_type": "markdown",
   "id": "rural-refund",
   "metadata": {},
   "source": [
    "### ADES: Execute Application\n",
    "**POST {service_url}/processes/{application_name}/jobs**<br>\n",
    "Request body is json as defined by API Processes to define the inputs and outputs, consistent with the CWL Workflow application package.<br>\n",
    "The response returns **201 CREATED** to indicate that the job has been successfully initiated.<br>\n",
    "The response **Location header** provides the path (/processes/{application_name}/jobs/{job_id}) to follow the job status."
   ]
  },
  {
   "cell_type": "code",
   "execution_count": null,
   "id": "obvious-child",
   "metadata": {},
   "outputs": [],
   "source": [
    "# API Processes - Execute Application\n",
    "response, ades_access_token, job_location_path = demo.proc_execute_application(ades_proc_url, app_name, \"../data/app-execute-body.json\", id_token=user_id_token, access_token=ades_access_token)"
   ]
  },
  {
   "cell_type": "markdown",
   "id": "rolled-circus",
   "metadata": {},
   "source": [
    "### ADES: Job Status\n",
    "**GET {service_url}/watchjob/processes/{application_name}/jobs/{job_id}**<br>\n",
    "Check the status of a previously submitted job - using the URL returned in the Location header of the execute request.<br>\n",
    "The response body json provides a status string (success/running/failed) and a % progress.<br>\n",
    "In the case of a failure then a descriptive message is provided."
   ]
  },
  {
   "cell_type": "code",
   "execution_count": null,
   "id": "checked-administration",
   "metadata": {},
   "outputs": [],
   "source": [
    "# API Processes - Job Status\n",
    "response, ades_access_token, status = demo.proc_get_job_status(ades_base_url, job_location_path, id_token=user_id_token, access_token=ades_access_token)\n",
    "demo.response_summary(response)"
   ]
  },
  {
   "cell_type": "markdown",
   "id": "bacterial-roberts",
   "metadata": {},
   "source": [
    "**Polling for Job Completion**<br>\n",
    "The job execution is asynchronous.<br>\n",
    "The Job Status endpoint is polled until the job completes."
   ]
  },
  {
   "cell_type": "code",
   "execution_count": null,
   "id": "nervous-relay",
   "metadata": {},
   "outputs": [],
   "source": [
    "# API Processes - Job Status (keep polling for completion)\n",
    "response, ades_access_token, status = demo.proc_poll_job_completion(ades_base_url, job_location_path, interval=10, id_token=user_id_token, access_token=ades_access_token)"
   ]
  },
  {
   "cell_type": "code",
   "execution_count": null,
   "id": "starting-guide",
   "metadata": {},
   "outputs": [],
   "source": [
    "demo.response_summary(response)"
   ]
  },
  {
   "cell_type": "markdown",
   "id": "frozen-implement",
   "metadata": {},
   "source": [
    "### ADES Stage-out\n",
    "At the successful completion of processing, the ADES stages out the results to platform storage (under the direction of the user's Workspace component), and registers the data in the User Workspace for access and further exploitation.<br>\n",
    "![ADES processing results stage-out](https://raw.githubusercontent.com/EOEPCA/eoepca/technotes/technical/workspace/seq-ades-processing-results-stage-out.png)"
   ]
  },
  {
   "cell_type": "markdown",
   "id": "pleasant-prediction",
   "metadata": {},
   "source": [
    "### ADES: Job Result\n",
    "**GET {service_url}/watchjob/processes/{application_name}/jobs/{job_id}/result**<br>\n",
    "Returns details of the outputs for a successful job execution.<br>\n",
    "The response body provides json data that includes the reference to the STAC file that indexes the processing outputs."
   ]
  },
  {
   "cell_type": "code",
   "execution_count": null,
   "id": "secret-ceremony",
   "metadata": {},
   "outputs": [],
   "source": [
    "# API Processes - Job Result\n",
    "response, ades_access_token, stacCatalogUri = demo.proc_get_job_result(ades_base_url, job_location_path, id_token=user_id_token, access_token=ades_access_token)\n",
    "demo.response_summary(response)"
   ]
  },
  {
   "cell_type": "markdown",
   "id": "twenty-custom",
   "metadata": {},
   "source": [
    "### ADES: List Jobs"
   ]
  },
  {
   "cell_type": "code",
   "execution_count": null,
   "id": "complex-happiness",
   "metadata": {},
   "outputs": [],
   "source": [
    "# API Processes - List Jobs\n",
    "response, ades_access_token, job_ids = demo.proc_list_jobs(ades_proc_url, app_name, id_token=user_id_token, access_token=ades_access_token)\n",
    "print(\"Jobs:\", job_ids)"
   ]
  },
  {
   "cell_type": "markdown",
   "id": "traditional-relative",
   "metadata": {},
   "source": [
    "### ADES: Undeploy Application"
   ]
  },
  {
   "cell_type": "code",
   "execution_count": null,
   "id": "binding-execution",
   "metadata": {},
   "outputs": [],
   "source": [
    "# API Processes - Undeploy Application\n",
    "response, ades_access_token = demo.proc_undeploy_application(ades_proc_url, app_name, id_token=user_id_token, access_token=ades_access_token)"
   ]
  },
  {
   "cell_type": "code",
   "execution_count": null,
   "id": "functional-object",
   "metadata": {
    "tags": []
   },
   "outputs": [],
   "source": [
    "# Check undeploy - list processes\n",
    "response, ades_access_token, process_ids = demo.proc_list_processes(ades_proc_url, id_token=user_id_token, access_token=ades_access_token)\n",
    "print(\"Processes:\", process_ids)"
   ]
  },
  {
   "cell_type": "markdown",
   "id": "cloudy-ordinary",
   "metadata": {},
   "source": [
    "## Workspace"
   ]
  },
  {
   "cell_type": "code",
   "execution_count": null,
   "id": "usual-architecture",
   "metadata": {},
   "outputs": [],
   "source": [
    "# Init\n",
    "workspace_url = \"https://workspace-api.\" + base_domain\n",
    "workspace_access_token = None"
   ]
  },
  {
   "cell_type": "markdown",
   "id": "allied-baltimore",
   "metadata": {},
   "source": [
    "### Workspace: Get Details"
   ]
  },
  {
   "cell_type": "code",
   "execution_count": null,
   "id": "tough-auditor",
   "metadata": {},
   "outputs": [],
   "source": [
    "# Workspace - Get Details\n",
    "workspace_name = \"rm-user-\" + USER_NAME.lower()\n",
    "response, workspace_access_token = demo.workspace_get_details(workspace_url, workspace_name, id_token=user_id_token, access_token=workspace_access_token)\n",
    "workspace_details = response.json()\n",
    "print(json.dumps(workspace_details, indent = 2))"
   ]
  },
  {
   "cell_type": "markdown",
   "id": "adopted-interaction",
   "metadata": {},
   "source": [
    "### Inspect S3 Bucket"
   ]
  },
  {
   "cell_type": "code",
   "execution_count": null,
   "id": "guilty-morning",
   "metadata": {},
   "outputs": [],
   "source": [
    "# Bucket details\n",
    "bucket_name = workspace_details[\"storage\"][\"credentials\"][\"bucketname\"]\n",
    "s3_access = workspace_details[\"storage\"][\"credentials\"][\"access\"]\n",
    "s3_secret = workspace_details[\"storage\"][\"credentials\"][\"secret\"]"
   ]
  },
  {
   "cell_type": "code",
   "execution_count": null,
   "id": "administrative-composition",
   "metadata": {},
   "outputs": [],
   "source": [
    "# Quick hack S3 access\n",
    "import boto3\n",
    "\n",
    "# Init S3 session for Creodias\n",
    "S3_ENDPOINT = \"https://cf2.cloudferro.com:8080\"\n",
    "session = boto3.session.Session()\n",
    "s3resource = session.resource('s3', aws_access_key_id=s3_access, aws_secret_access_key=s3_secret, endpoint_url=S3_ENDPOINT)\n",
    "\n",
    "# List bucket contents\n",
    "bucket = s3resource.Bucket(bucket_name)\n",
    "for obj in bucket.objects.all():\n",
    "    print(' ->', obj)"
   ]
  }
 ],
 "metadata": {
  "kernelspec": {
   "display_name": "Python 3",
   "language": "python",
   "name": "python3"
  },
  "language_info": {
   "codemirror_mode": {
    "name": "ipython",
    "version": 3
   },
   "file_extension": ".py",
   "mimetype": "text/x-python",
   "name": "python",
   "nbconvert_exporter": "python",
   "pygments_lexer": "ipython3",
   "version": "3.8.8"
  }
 },
 "nbformat": 4,
 "nbformat_minor": 5
}
