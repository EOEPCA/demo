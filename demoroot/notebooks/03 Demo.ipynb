{
 "cells": [
  {
   "cell_type": "markdown",
   "id": "recent-teens",
   "metadata": {},
   "source": [
    "# Demonstration\n",
    "End-to-end demonstration.<br>\n",
    "Ref. https://docs.google.com/document/d/1opi0xGTaMZC0TA2CF2VF1DrWHXeE6M-89ricwlsXtXg/edit?usp=sharing"
   ]
  },
  {
   "cell_type": "code",
   "execution_count": null,
   "id": "entitled-target",
   "metadata": {},
   "outputs": [],
   "source": [
    "import utils.DemoClient as client\n",
    "import jwt\n",
    "import json\n",
    "import boto3\n",
    "from awscli.customizations.s3.utils import split_s3_bucket_key"
   ]
  },
  {
   "cell_type": "markdown",
   "id": "imperial-cinema",
   "metadata": {},
   "source": [
    "## Application Development\n",
    "Alice uses the Processor Development Environment (PDE) to develop, test and package an application.\n",
    "Alice's published outputs are:\n",
    "* Docker image published to DockerHub\n",
    "* Application Package (CWL) published to Resource Catalogue (TBD) and/or GitHub - accessible by href"
   ]
  },
  {
   "cell_type": "markdown",
   "id": "collect-hypothesis",
   "metadata": {},
   "source": [
    "## Demo Client Setup\n",
    "We instantiate a client to interact with the platform.<br>\n",
    "The client dynamically registers with the Authorisation Server to take part in UMA (User Managed Access) flows through which authorization is obtained for scoped access resources on behalf of the user."
   ]
  },
  {
   "cell_type": "code",
   "execution_count": null,
   "id": "chemical-wednesday",
   "metadata": {},
   "outputs": [],
   "source": [
    "#-------------------------------------------------------------------------------\n",
    "# Initialise client\n",
    "#-------------------------------------------------------------------------------\n",
    "base_domain = \"185.52.193.87.nip.io\"\n",
    "platform_domain = \"test.\" + base_domain\n",
    "base_url = \"https://\" + platform_domain\n",
    "demo = client.DemoClient(base_url)\n",
    "demo.register_client()\n",
    "demo.save_state()"
   ]
  },
  {
   "cell_type": "markdown",
   "id": "nominated-style",
   "metadata": {},
   "source": [
    "### Authenticated User\n",
    "We require an authenticated user to interact with some of the platform endpoints - in particular for eoepca v0.3 the ADES.<br>\n",
    "User authenticates and the client receives an ID Token (JWT) that represents the user.<br>\n",
    "For convenience within the Jupyter notebook we use a username/password authentication - but the primary mechanism is to rely upon external identity provision.<br>\n",
    "Currently login with GitHub is supported."
   ]
  },
  {
   "cell_type": "code",
   "execution_count": null,
   "id": "manufactured-carbon",
   "metadata": {
    "tags": []
   },
   "outputs": [],
   "source": [
    "#-------------------------------------------------------------------------------\n",
    "# Authenticate as user 'demoA' and get ID Token\n",
    "#-------------------------------------------------------------------------------\n",
    "USER_NAME=\"eric\"\n",
    "USER_PASSWORD=\"defaultPWD\"\n",
    "user_id_token = demo.get_id_token(USER_NAME, USER_PASSWORD)"
   ]
  },
  {
   "cell_type": "markdown",
   "id": "least-integration",
   "metadata": {},
   "source": [
    "## Data Discovery\n",
    "**TBD - Needs EOX/EOfarm support to elaborate this**<br>\n",
    "Eric discovers data using platform services (Resource Catalogue / DAS) and QGIS\n",
    "* OpenSearch endpoint\n",
    "* Data visualisation"
   ]
  },
  {
   "cell_type": "markdown",
   "id": "professional-photograph",
   "metadata": {},
   "source": [
    "### Resource Catalogue - OpenSearch"
   ]
  },
  {
   "cell_type": "code",
   "execution_count": null,
   "id": "seven-organization",
   "metadata": {},
   "outputs": [],
   "source": [
    "# TBD"
   ]
  },
  {
   "cell_type": "markdown",
   "id": "instrumental-wrestling",
   "metadata": {},
   "source": [
    "### Data Access Services - WMS, WCS (TBD)"
   ]
  },
  {
   "cell_type": "code",
   "execution_count": null,
   "id": "acting-consistency",
   "metadata": {},
   "outputs": [],
   "source": [
    "# TBD"
   ]
  },
  {
   "cell_type": "markdown",
   "id": "cardiovascular-density",
   "metadata": {},
   "source": [
    "## Processing - ADES\n",
    "The ADES provides WPS 1.0/2.0 and API Processes interfaces - with extensions for process deploy/undeploy.<br>\n",
    "The ADES provides user-specific endpoints, using a URL path prefix."
   ]
  },
  {
   "cell_type": "code",
   "execution_count": null,
   "id": "blind-feeding",
   "metadata": {},
   "outputs": [],
   "source": [
    "# ADES URLs\n",
    "ades_base_url = \"http://ades.\" + platform_domain\n",
    "ades_wps_url = ades_base_url + \"/\" + USER_NAME + \"/zoo\"; print(\"ADES WPS endpoint:\", ades_wps_url)\n",
    "ades_proc_url = ades_base_url + \"/\" + USER_NAME + \"/wps3\"; print(\"ADES API Processes endpoint:\", ades_proc_url)\n",
    "\n",
    "# Init\n",
    "ades_access_token = None\n",
    "app_name = \"s-expression-0_0_2\""
   ]
  },
  {
   "cell_type": "markdown",
   "id": "average-revision",
   "metadata": {},
   "source": [
    "### ADES: List Processes\n",
    "**GET {service_url}/processes**<br>\n",
    "Provides a list of all processes "
   ]
  },
  {
   "cell_type": "code",
   "execution_count": null,
   "id": "bibliographic-quilt",
   "metadata": {
    "tags": []
   },
   "outputs": [],
   "source": [
    "# API Processes - List Processes\n",
    "response, ades_access_token, process_ids = demo.proc_list_processes(ades_proc_url, id_token=user_id_token, access_token=ades_access_token)\n",
    "print(\"Processes:\", process_ids)\n",
    "# demo.response_summary(response)"
   ]
  },
  {
   "cell_type": "markdown",
   "id": "ready-edgar",
   "metadata": {},
   "source": [
    "### ADES: Deploy Application\n",
    "**POST {service_url}/processes**<br>\n",
    "Deploy application to the ADES.<br>\n",
    "Request body is json in the same format as defined for an Execute request (ref. API Processes), in which the input is the Application Package describing the application.<br>\n",
    "The Application Package is a CWL Workflow that is typically provided as an href with content type **_application/atom+xml_** or **_application/cwl_**."
   ]
  },
  {
   "cell_type": "code",
   "execution_count": null,
   "id": "grand-investor",
   "metadata": {},
   "outputs": [],
   "source": [
    "# API Processes - Deploy Application\n",
    "response, ades_access_token = demo.proc_deploy_application(ades_proc_url, \"../data/app-deploy-body-atom.json\", id_token=user_id_token, access_token=ades_access_token)"
   ]
  },
  {
   "cell_type": "markdown",
   "id": "thorough-convertible",
   "metadata": {},
   "source": [
    "**_Dynamic Resource Protection_**<br>\n",
    "The application deployment creates new endpoints within the ADES that need to be protected - e.g. those for _Details_ **(processes/{application_name})** and _Execute_ **(processes/{application_name}/jobs)**.<br>\n",
    "During deployment, the ADES interfaces with its PEP (Policy Enforcement Point) to register these endpoints as protected under the ownership of the calling user."
   ]
  },
  {
   "cell_type": "code",
   "execution_count": null,
   "id": "fancy-squad",
   "metadata": {
    "tags": []
   },
   "outputs": [],
   "source": [
    "# Check deploy - list processes again\n",
    "response, ades_access_token, process_ids = demo.proc_list_processes(ades_proc_url, id_token=user_id_token, access_token=ades_access_token)\n",
    "print(\"Processes:\", process_ids)"
   ]
  },
  {
   "cell_type": "markdown",
   "id": "packed-grounds",
   "metadata": {},
   "source": [
    "### ADES: Get Application Details\n",
    "**GET {service_url}/processes/{application_name}**<br>\n",
    "Provides details of the deployed application<br>\n",
    "The response includes the API Processes json application description."
   ]
  },
  {
   "cell_type": "code",
   "execution_count": null,
   "id": "classical-soldier",
   "metadata": {},
   "outputs": [],
   "source": [
    "# API Processes - Get Application Details\n",
    "response, ades_access_token = demo.proc_get_app_details(ades_proc_url, app_name, id_token=user_id_token, access_token=ades_access_token)\n",
    "demo.response_summary(response)"
   ]
  },
  {
   "cell_type": "markdown",
   "id": "separate-affair",
   "metadata": {},
   "source": [
    "### ADES: Execute Application\n",
    "**POST {service_url}/processes/{application_name}/jobs**<br>\n",
    "Request body is json as defined by API Processes to define the inputs and outputs, consistent with the CWL Workflow application package.<br>\n",
    "The response returns **201 CREATED** to indicate that the job has been successfully initiated.<br>\n",
    "The response **Location header** provides the path (/processes/{application_name}/jobs/{job_id}) to follow the job status."
   ]
  },
  {
   "cell_type": "code",
   "execution_count": null,
   "id": "fatty-marble",
   "metadata": {},
   "outputs": [],
   "source": [
    "# API Processes - Execute Application\n",
    "response, ades_access_token, job_location_path = demo.proc_execute_application(ades_proc_url, app_name, \"../data/app-execute-body.json\", id_token=user_id_token, access_token=ades_access_token)"
   ]
  },
  {
   "cell_type": "markdown",
   "id": "immune-report",
   "metadata": {},
   "source": [
    "### ADES: Job Status\n",
    "**GET {service_url}/watchjob/processes/{application_name}/jobs/{job_id}**<br>\n",
    "Check the status of a previously submitted job - using the URL returned in the Location header of the execute request.<br>\n",
    "The response body json provides a status string (success/running/failed) and a % progress.<br>\n",
    "In the case of a failure then a descriptive message is provided."
   ]
  },
  {
   "cell_type": "code",
   "execution_count": null,
   "id": "significant-cooper",
   "metadata": {},
   "outputs": [],
   "source": [
    "# API Processes - Job Status\n",
    "response, ades_access_token, status = demo.proc_get_job_status(ades_base_url, job_location_path, id_token=user_id_token, access_token=ades_access_token)\n",
    "demo.response_summary(response)"
   ]
  },
  {
   "cell_type": "markdown",
   "id": "proof-disney",
   "metadata": {},
   "source": [
    "**Polling for Job Completion**<br>\n",
    "The job execution is asynchronous.<br>\n",
    "The Job Status endpoint is polled until the job completes."
   ]
  },
  {
   "cell_type": "code",
   "execution_count": null,
   "id": "anonymous-toyota",
   "metadata": {},
   "outputs": [],
   "source": [
    "# API Processes - Job Status (keep polling for completion)\n",
    "response, ades_access_token, status = demo.proc_poll_job_completion(ades_base_url, job_location_path, interval=10, id_token=user_id_token, access_token=ades_access_token)"
   ]
  },
  {
   "cell_type": "code",
   "execution_count": null,
   "id": "emerging-thong",
   "metadata": {},
   "outputs": [],
   "source": [
    "# Inspect response\n",
    "demo.response_summary(response)"
   ]
  },
  {
   "cell_type": "markdown",
   "id": "editorial-eligibility",
   "metadata": {},
   "source": [
    "### ADES Stage-out\n",
    "At the successful completion of processing, the ADES stages out the results to platform storage (under the direction of the user's Workspace component), and registers the data in the User Workspace for access and further exploitation.<br>\n",
    "![ADES processing results stage-out](https://raw.githubusercontent.com/EOEPCA/eoepca/develop/technical/workspace/seq-ades-processing-results-stage-out.png)"
   ]
  },
  {
   "cell_type": "markdown",
   "id": "decent-elite",
   "metadata": {},
   "source": [
    "### ADES: Job Result\n",
    "**GET {service_url}/watchjob/processes/{application_name}/jobs/{job_id}/result**<br>\n",
    "Returns details of the outputs for a successful job execution.<br>\n",
    "The response body provides json data that includes the reference to the STAC file that indexes the processing outputs."
   ]
  },
  {
   "cell_type": "code",
   "execution_count": null,
   "id": "cordless-begin",
   "metadata": {},
   "outputs": [],
   "source": [
    "# API Processes - Job Result\n",
    "response, ades_access_token, stacCatalogUri = demo.proc_get_job_result(ades_base_url, job_location_path, id_token=user_id_token, access_token=ades_access_token)\n",
    "demo.response_summary(response)\n",
    "print(\"stacCatalogUri:\", stacCatalogUri)"
   ]
  },
  {
   "cell_type": "markdown",
   "id": "continent-necklace",
   "metadata": {},
   "source": [
    "### ADES: List Jobs\n",
    "**GET {service_url}/processes/{application_name}/jobs**<br>\n",
    "Provides a list of all jobs for the named processes "
   ]
  },
  {
   "cell_type": "code",
   "execution_count": null,
   "id": "young-petersburg",
   "metadata": {},
   "outputs": [],
   "source": [
    "# API Processes - List Jobs\n",
    "response, ades_access_token, job_ids = demo.proc_list_jobs(ades_proc_url, app_name, id_token=user_id_token, access_token=ades_access_token)\n",
    "print(\"Jobs:\", job_ids)"
   ]
  },
  {
   "cell_type": "markdown",
   "id": "marked-blind",
   "metadata": {},
   "source": [
    "### ADES: Undeploy Application\n",
    "**DELETE {service_url}/processes/{application_name}**<br>\n",
    "Undeploy application from the ADES"
   ]
  },
  {
   "cell_type": "code",
   "execution_count": null,
   "id": "alpine-pantyhose",
   "metadata": {},
   "outputs": [],
   "source": [
    "# API Processes - Undeploy Application\n",
    "response, ades_access_token = demo.proc_undeploy_application(ades_proc_url, app_name, id_token=user_id_token, access_token=ades_access_token)"
   ]
  },
  {
   "cell_type": "code",
   "execution_count": null,
   "id": "hybrid-radiation",
   "metadata": {
    "tags": []
   },
   "outputs": [],
   "source": [
    "# Check undeploy - list processes\n",
    "response, ades_access_token, process_ids = demo.proc_list_processes(ades_proc_url, id_token=user_id_token, access_token=ades_access_token)\n",
    "print(\"Processes:\", process_ids)"
   ]
  },
  {
   "cell_type": "markdown",
   "id": "conditional-might",
   "metadata": {},
   "source": [
    "## Policy Enforcement and Resource Sharing\n",
    "Owners of resources can choose to share these with other users by updating the access policies"
   ]
  },
  {
   "cell_type": "markdown",
   "id": "regulation-edition",
   "metadata": {},
   "source": [
    "### Deploy Application\n",
    "The demo user redeploys de application"
   ]
  },
  {
   "cell_type": "code",
   "execution_count": null,
   "id": "inner-calculation",
   "metadata": {},
   "outputs": [],
   "source": [
    "# API Processes - Deploy Application\n",
    "response, ades_access_token = demo.proc_deploy_application(ades_proc_url, \"../data/app-deploy-body-atom.json\", id_token=user_id_token, access_token=ades_access_token)"
   ]
  },
  {
   "cell_type": "code",
   "execution_count": null,
   "id": "crazy-grammar",
   "metadata": {},
   "outputs": [],
   "source": [
    "# Check deploy - list processes again\n",
    "response, process_ids, ades_access_token = demo.proc_list_processes(ades_proc_url, id_token=user_id_token, access_token=ades_access_token)\n",
    "print(\"Processes:\", process_ids)"
   ]
  },
  {
   "cell_type": "markdown",
   "id": "infinite-circle",
   "metadata": {},
   "source": [
    "### UserB Authenticates in the Platform\n",
    "User authenticates and the client receives an ID Token (JWT) that represents the user."
   ]
  },
  {
   "cell_type": "code",
   "execution_count": null,
   "id": "broke-hands",
   "metadata": {},
   "outputs": [],
   "source": [
    "#-------------------------------------------------------------------------------\n",
    "# Authenticate as UserB and get ID Token\n",
    "#-------------------------------------------------------------------------------\n",
    "USER_NAME=\"demoB\"\n",
    "USER_PASSWORD=\"defaultPWD\"\n",
    "userb_id_token = demo.get_id_token(USER_NAME, USER_PASSWORD)"
   ]
  },
  {
   "cell_type": "markdown",
   "id": "studied-costa",
   "metadata": {},
   "source": [
    "### UserB Attempts to Execute Demo User Apps\n",
    "All resources are registered with ownership policies by default"
   ]
  },
  {
   "cell_type": "code",
   "execution_count": null,
   "id": "stainless-adjustment",
   "metadata": {},
   "outputs": [],
   "source": [
    "#-------------------------------------------------------------------------------\n",
    "# Unauthorized Execution \n",
    "# Expected Value: 401\n",
    "#-------------------------------------------------------------------------------\n",
    "response, ades_access_token, job_location_path = demo.proc_execute_application(ades_proc_url, app_name, \"../data/app-execute-body.json\", id_token=None, access_token=None)"
   ]
  },
  {
   "cell_type": "markdown",
   "id": "driving-spanish",
   "metadata": {},
   "source": [
    "### Owner Updates Access Policy\n",
    "Grants access to UserB to execute the deployed app"
   ]
  },
  {
   "cell_type": "code",
   "execution_count": null,
   "id": "detected-singles",
   "metadata": {},
   "outputs": [],
   "source": [
    "#-------------------------------------------------------------------------------\n",
    "# Get Ownership Id\n",
    "#-------------------------------------------------------------------------------\n",
    "owB = demo.get_ownership_id(userb_id_token)\n",
    "owA = demo.get_ownership_id(user_id_token)\n",
    "\n",
    "#-------------------------------------------------------------------------------\n",
    "# Finds the policy by retrieving a resource_id\n",
    "# Update policy with allowing access to UserB\n",
    "#-------------------------------------------------------------------------------\n",
    "ades_res=\"http://ades.resources.185.52.193.87.nip.io\"\n",
    "res_id = demo.get_resource_by_name(ades_res, \"s-expression-0_0_2\", user_id_token)\n",
    "data={'name':'Updated Execution','description':'modified','config':{'resource_id':'res_id','action':'view','rules':[{'OR':[{'EQUAL':{'id':'owA'}},{'EQUAL':{'id':'owB'}}]}]},'scopes':['protected_access']}\n",
    "pdp_url= \"http://test.185.52.193.87.nip.io/pdp\"\n",
    "resp, text= demo.update_policy(pdp_url, data, res_id, user_id_token)"
   ]
  },
  {
   "cell_type": "markdown",
   "id": "stable-eight",
   "metadata": {},
   "source": [
    "### UserB Executes Application Succesfully\n",
    "Shared resources can now be executed"
   ]
  },
  {
   "cell_type": "code",
   "execution_count": null,
   "id": "minimal-creation",
   "metadata": {},
   "outputs": [],
   "source": [
    "#-------------------------------------------------------------------------------\n",
    "# User B Execute Application Succesfully\n",
    "# Expected Value: 201\n",
    "#-------------------------------------------------------------------------------\n",
    "response, ades_access_token, job_location_path = demo.proc_execute_application(ades_proc_url, app_name, \"../data/app-execute-body.json\", id_token=userb_id_token, access_token=None)"
   ]
  },
  {
   "cell_type": "markdown",
   "id": "waiting-basketball",
   "metadata": {},
   "source": [
    "## Workspace"
   ]
  },
  {
   "cell_type": "code",
   "execution_count": null,
   "id": "correct-houston",
   "metadata": {},
   "outputs": [],
   "source": [
    "# Init\n",
    "workspace_url = \"https://workspace-api.\" + base_domain\n",
    "workspace_access_token = None\n",
    "print(\"workspace_url:\", workspace_url)"
   ]
  },
  {
   "cell_type": "markdown",
   "id": "accredited-defense",
   "metadata": {},
   "source": [
    "### Workspace: Get Details"
   ]
  },
  {
   "cell_type": "code",
   "execution_count": null,
   "id": "raising-combine",
   "metadata": {},
   "outputs": [],
   "source": [
    "# Workspace - Get Details\n",
    "workspace_name = \"rm-user-\" + USER_NAME.lower()\n",
    "response, workspace_access_token = demo.workspace_get_details(workspace_url, workspace_name, id_token=user_id_token, access_token=workspace_access_token)\n",
    "workspace_details = response.json()\n",
    "demo.response_summary(response)"
   ]
  },
  {
   "cell_type": "markdown",
   "id": "hazardous-aside",
   "metadata": {},
   "source": [
    "### Inspect S3 Bucket"
   ]
  },
  {
   "cell_type": "code",
   "execution_count": null,
   "id": "saving-graduate",
   "metadata": {},
   "outputs": [],
   "source": [
    "# Bucket details\n",
    "bucket_name = workspace_details[\"storage\"][\"credentials\"][\"bucketname\"]\n",
    "s3_access = workspace_details[\"storage\"][\"credentials\"][\"access\"]\n",
    "s3_secret = workspace_details[\"storage\"][\"credentials\"][\"secret\"]\n",
    "# Init S3 session for Creodias\n",
    "S3_ENDPOINT = \"https://cf2.cloudferro.com:8080\"\n",
    "session = boto3.session.Session()\n",
    "s3resource = session.resource('s3', aws_access_key_id=s3_access, aws_secret_access_key=s3_secret, endpoint_url=S3_ENDPOINT)\n",
    "bucket = s3resource.Bucket(bucket_name)"
   ]
  },
  {
   "cell_type": "code",
   "execution_count": null,
   "id": "sudden-conducting",
   "metadata": {},
   "outputs": [],
   "source": [
    "stacCatalogUri = 's3://1a85398587cc4b5795dab4ab565dad34:rm-user-eric/wf-d8be29d6-a986-11eb-beca-7258940a7c04/catalog.json'\n",
    "\n",
    "# Unpick s3 URL\n",
    "_, stacCatalogKeyName = split_s3_bucket_key(stacCatalogUri)\n",
    "print(\"stacCatalogKeyName:\", stacCatalogKeyName)\n",
    "\n",
    "# Read the STAC file\n",
    "stacFileObject = list(bucket.objects.filter(Prefix=stacCatalogKeyName))[0]\n",
    "stacFileJson = json.loads(stacFileObject.get()['Body'].read())\n",
    "print(json.dumps(stacFileJson, indent=2))"
   ]
  },
  {
   "cell_type": "markdown",
   "id": "fatty-vatican",
   "metadata": {},
   "source": [
    "## Results Consumption\n",
    "**TBD - Needs EOX/EOfarm support to elaborate this**<br>\n",
    "* Results discovery - User's resource catalogue (OpenSearch)\n",
    "* Results visualisation:\n",
    "  * Data access services\n",
    "  * QGIS"
   ]
  }
 ],
 "metadata": {
  "kernelspec": {
   "display_name": "Python 3",
   "language": "python",
   "name": "python3"
  },
  "language_info": {
   "codemirror_mode": {
    "name": "ipython",
    "version": 3
   },
   "file_extension": ".py",
   "mimetype": "text/x-python",
   "name": "python",
   "nbconvert_exporter": "python",
   "pygments_lexer": "ipython3",
   "version": "3.8.8"
  }
 },
 "nbformat": 4,
 "nbformat_minor": 5
}
