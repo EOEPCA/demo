{
 "cells": [
  {
   "cell_type": "markdown",
   "id": "pursuant-permission",
   "metadata": {},
   "source": [
    "# Demonstration\n",
    "End-to-end demonstration.<br>\n",
    "Ref. https://docs.google.com/document/d/1opi0xGTaMZC0TA2CF2VF1DrWHXeE6M-89ricwlsXtXg/edit?usp=sharing"
   ]
  },
  {
   "cell_type": "markdown",
   "id": "whole-italian",
   "metadata": {},
   "source": [
    "## Application Development\n",
    "Alice uses the Processor Development Environment (PDE) to develop, test and package an application.\n",
    "Alice's published outputs are:\n",
    "* Docker image published to DockerHub\n",
    "* Application Package (CWL) published to Resource Catalogue (TBD) and/or GitHub - accessible by href"
   ]
  },
  {
   "cell_type": "markdown",
   "id": "missing-hardwood",
   "metadata": {},
   "source": [
    "## Demo Client Setup\n",
    "We instantiate a client to interact with the platform.<br>\n",
    "The client dynamically registers with the Authorisation Server to take part in UMA (User Managed Access) flows through which authorization is obtained for scoped access resources on behalf of the user."
   ]
  },
  {
   "cell_type": "code",
   "execution_count": 1,
   "id": "israeli-static",
   "metadata": {},
   "outputs": [
    {
     "name": "stdout",
     "output_type": "stream",
     "text": [
      "client_id: 337abd81-01fe-4721-99c7-c4f89421a329\n",
      "Client state saved to file: state.json\n"
     ]
    }
   ],
   "source": [
    "import utils.DemoClient as client\n",
    "import jwt\n",
    "import json\n",
    "#-------------------------------------------------------------------------------\n",
    "# Initialise client\n",
    "#-------------------------------------------------------------------------------\n",
    "base_domain = \"185.52.193.87.nip.io\"\n",
    "platform_domain = \"test.\" + base_domain\n",
    "base_url = \"https://\" + platform_domain\n",
    "demo = client.DemoClient(base_url)\n",
    "demo.register_client()\n",
    "demo.save_state()"
   ]
  },
  {
   "cell_type": "markdown",
   "id": "understanding-gamma",
   "metadata": {},
   "source": [
    "### Authenticated User\n",
    "We require an authenticated user to interact with some of the platform endpoints - in particular for eoepca v0.3 the ADES.<br>\n",
    "User authenticates and the client receives an ID Token (JWT) that represents the user.<br>\n",
    "For convenience within the Jupyter notebook we use a username/password authentication - but the primary mechanism is to rely upon external identity provision.<br>\n",
    "Currently login with GitHub is supported."
   ]
  },
  {
   "cell_type": "code",
   "execution_count": 2,
   "id": "hungry-morris",
   "metadata": {
    "tags": []
   },
   "outputs": [
    {
     "name": "stdout",
     "output_type": "stream",
     "text": [
      "[Request] GET => https://test.185.52.193.87.nip.io/.well-known/uma2-configuration\n",
      "token_endpoint: https://test.185.52.193.87.nip.io/oxauth/restv1/token\n",
      "[Request] POST => https://test.185.52.193.87.nip.io/oxauth/restv1/token\n"
     ]
    }
   ],
   "source": [
    "#-------------------------------------------------------------------------------\n",
    "# Authenticate as user 'demoA' and get ID Token\n",
    "#-------------------------------------------------------------------------------\n",
    "USER_NAME=\"eric\"\n",
    "USER_PASSWORD=\"defaultPWD\"\n",
    "user_id_token = demo.get_id_token(USER_NAME, USER_PASSWORD)"
   ]
  },
  {
   "cell_type": "markdown",
   "id": "blond-boulder",
   "metadata": {},
   "source": [
    "## Data Discovery\n",
    "**TBD - Needs EOX/EOfarm support to elaborate this**<br>\n",
    "Eric discovers data using platform services (Resource Catalogue / DAS) and QGIS\n",
    "* OpenSearch endpoint\n",
    "* Data visualisation"
   ]
  },
  {
   "cell_type": "markdown",
   "id": "healthy-optimization",
   "metadata": {},
   "source": [
    "### Resource Catalogue - OpenSearch"
   ]
  },
  {
   "cell_type": "code",
   "execution_count": 3,
   "id": "ordered-heath",
   "metadata": {},
   "outputs": [],
   "source": [
    "# TBD"
   ]
  },
  {
   "cell_type": "markdown",
   "id": "adolescent-document",
   "metadata": {},
   "source": [
    "### Data Access Services - WMS, WCS (TBD)"
   ]
  },
  {
   "cell_type": "code",
   "execution_count": 4,
   "id": "considerable-timeline",
   "metadata": {},
   "outputs": [],
   "source": [
    "# TBD"
   ]
  },
  {
   "cell_type": "markdown",
   "id": "reduced-designation",
   "metadata": {},
   "source": [
    "## Processing - ADES\n",
    "The ADES provides WPS 1.0/2.0 and API Processes interfaces - with extensions for process deploy/undeploy.<br>\n",
    "The ADES provides user-specific endpoints, using a URL path prefix."
   ]
  },
  {
   "cell_type": "code",
   "execution_count": 5,
   "id": "widespread-investing",
   "metadata": {},
   "outputs": [
    {
     "name": "stdout",
     "output_type": "stream",
     "text": [
      "ADES WPS endpoint: http://ades.test.185.52.193.87.nip.io/eric/zoo\n",
      "ADES API Processes endpoint: http://ades.test.185.52.193.87.nip.io/eric/wps3\n"
     ]
    }
   ],
   "source": [
    "# ADES URLs\n",
    "ades_base_url = \"http://ades.\" + platform_domain\n",
    "ades_wps_url = ades_base_url + \"/\" + USER_NAME + \"/zoo\"; print(\"ADES WPS endpoint:\", ades_wps_url)\n",
    "ades_proc_url = ades_base_url + \"/\" + USER_NAME + \"/wps3\"; print(\"ADES API Processes endpoint:\", ades_proc_url)\n",
    "\n",
    "# Init\n",
    "ades_access_token = None\n",
    "app_name = \"nhi-0_0_3\""
   ]
  },
  {
   "cell_type": "markdown",
   "id": "british-minute",
   "metadata": {},
   "source": [
    "### ADES: List Processes\n",
    "**GET {service_url}/processes**<br>\n",
    "Provides a list of all processes "
   ]
  },
  {
   "cell_type": "code",
   "execution_count": 6,
   "id": "retired-corner",
   "metadata": {
    "tags": []
   },
   "outputs": [
    {
     "name": "stdout",
     "output_type": "stream",
     "text": [
      "[Request] GET => http://ades.test.185.52.193.87.nip.io/eric/wps3/processes\n",
      "[Request] POST => https://test.185.52.193.87.nip.io/oxauth/restv1/token\n",
      "[Request] GET => http://ades.test.185.52.193.87.nip.io/eric/wps3/processes\n",
      "[Process List] = 200 (OK)\n",
      "Processes: ['GetStatus', 'nhi-0_0_3', 'DeployProcess', 'UndeployProcess']\n"
     ]
    }
   ],
   "source": [
    "# API Processes - List Processes\n",
    "response, ades_access_token, process_ids = demo.proc_list_processes(ades_proc_url, id_token=user_id_token, access_token=ades_access_token)\n",
    "print(\"Processes:\", process_ids)\n",
    "# demo.response_summary(response)"
   ]
  },
  {
   "cell_type": "markdown",
   "id": "dedicated-tokyo",
   "metadata": {},
   "source": [
    "### ADES: Deploy Application\n",
    "**POST {service_url}/processes**<br>\n",
    "Deploy application to the ADES.<br>\n",
    "Request body is json in the same format as defined for an Execute request (ref. API Processes), in which the input is the Application Package describing the application.<br>\n",
    "The Application Package is a CWL Workflow that is typically provided as an href with content type **_application/atom+xml_** or **_application/cwl_**."
   ]
  },
  {
   "cell_type": "code",
   "execution_count": 7,
   "id": "chubby-queens",
   "metadata": {},
   "outputs": [
    {
     "name": "stdout",
     "output_type": "stream",
     "text": [
      "Application details read from file: ../data/app-deploy-body-cwl.json\n",
      "[Request] POST => http://ades.test.185.52.193.87.nip.io/eric/wps3/processes\n",
      "[Request] POST => https://test.185.52.193.87.nip.io/oxauth/restv1/token\n",
      "[Request] POST => http://ades.test.185.52.193.87.nip.io/eric/wps3/processes\n",
      "[Deploy Response] = 201 (CREATED)\n"
     ]
    }
   ],
   "source": [
    "# API Processes - Deploy Application\n",
    "response, ades_access_token = demo.proc_deploy_application(ades_proc_url, \"../data/app-deploy-body-cwl.json\", id_token=user_id_token, access_token=ades_access_token)"
   ]
  },
  {
   "cell_type": "markdown",
   "id": "early-abraham",
   "metadata": {},
   "source": [
    "**_Dynamic Resource Protection_**<br>\n",
    "The application deployment creates new endpoints within the ADES that need to be protected - e.g. those for _Details_ **(processes/{application_name})** and _Execute_ **(processes/{application_name}/jobs)**.<br>\n",
    "During deployment, the ADES interfaces with its PEP (Policy Enforcement Point) to register these endpoints as protected under the ownership of the calling user."
   ]
  },
  {
   "cell_type": "code",
   "execution_count": 8,
   "id": "received-attitude",
   "metadata": {
    "tags": []
   },
   "outputs": [
    {
     "name": "stdout",
     "output_type": "stream",
     "text": [
      "[Request] GET => http://ades.test.185.52.193.87.nip.io/eric/wps3/processes\n",
      "[Request] POST => https://test.185.52.193.87.nip.io/oxauth/restv1/token\n",
      "[Request] GET => http://ades.test.185.52.193.87.nip.io/eric/wps3/processes\n",
      "[Process List] = 200 (OK)\n",
      "Processes: ['GetStatus', 'nhi-0_0_3', 'DeployProcess', 'UndeployProcess']\n"
     ]
    }
   ],
   "source": [
    "# Check deploy - list processes again\n",
    "response, ades_access_token, process_ids = demo.proc_list_processes(ades_proc_url, id_token=user_id_token, access_token=ades_access_token)\n",
    "print(\"Processes:\", process_ids)"
   ]
  },
  {
   "cell_type": "markdown",
   "id": "bearing-hamilton",
   "metadata": {},
   "source": [
    "### ADES: Get Application Details\n",
    "**GET {service_url}/processes/{application_name}**<br>\n",
    "Provides details of the deployed application<br>\n",
    "The response includes the API Processes json application description."
   ]
  },
  {
   "cell_type": "code",
   "execution_count": 9,
   "id": "cubic-census",
   "metadata": {},
   "outputs": [
    {
     "name": "stdout",
     "output_type": "stream",
     "text": [
      "[Request] GET => http://ades.test.185.52.193.87.nip.io/eric/wps3/processes/nhi-0_0_3\n",
      "[Request] POST => https://test.185.52.193.87.nip.io/oxauth/restv1/token\n",
      "[Request] GET => http://ades.test.185.52.193.87.nip.io/eric/wps3/processes/nhi-0_0_3\n",
      "[App Details] = 200 (OK)\n",
      "STATUS = 200 OK\n",
      "HEADERS = {'Server': 'nginx/1.19.1', 'Date': 'Fri, 07 May 2021 12:46:17 GMT', 'Content-Type': 'application/json;charset=UTF-8', 'Transfer-Encoding': 'chunked', 'Vary': 'Accept-Encoding', 'X-Powered-By': 'ZOO@ZOO-Project', 'Content-Encoding': 'gzip'}\n",
      "BODY = {\n",
      "  \"process\": {\n",
      "    \"id\": \"nhi-0_0_3\",\n",
      "    \"title\": \"nhi\",\n",
      "    \"abstract\": \"Normalized Hotspot Indices\",\n",
      "    \"version\": \"0.0.3\",\n",
      "    \"jobControlOptions\": [\n",
      "      \"sync-execute\",\n",
      "      \"async-execute\",\n",
      "      \"dismiss\"\n",
      "    ],\n",
      "    \"outputTransmission\": [\n",
      "      \"value\",\n",
      "      \"reference\"\n",
      "    ],\n",
      "    \"links\": [\n",
      "      {\n",
      "        \"rel\": \"canonical\",\n",
      "        \"type\": \"application/json\",\n",
      "        \"title\": \"Execute End Point\",\n",
      "        \"href\": \"/watchjob/processes/nhi-0_0_3/jobs/\"\n",
      "      }\n",
      "    ],\n",
      "    \"inputs\": [\n",
      "      {\n",
      "        \"id\": \"input_reference\",\n",
      "        \"title\": \"Input product reference\",\n",
      "        \"abstract\": \"Input product reference\",\n",
      "        \"minOccurs\": \"1\",\n",
      "        \"maxOccurs\": \"999\",\n",
      "        \"input\": {\n",
      "          \"literalDataDomains\": [\n",
      "            {\n",
      "              \"dataType\": {\n",
      "                \"name\": \"string\"\n",
      "              },\n",
      "              \"valueDefinition\": {\n",
      "                \"anyValue\": true\n",
      "              }\n",
      "            }\n",
      "          ]\n",
      "        }\n",
      "      },\n",
      "      {\n",
      "        \"id\": \"threshold\",\n",
      "        \"title\": \"Threshold for hotspot detection\",\n",
      "        \"abstract\": \"Threshold for hotspot detection\",\n",
      "        \"minOccurs\": \"1\",\n",
      "        \"maxOccurs\": \"1\",\n",
      "        \"input\": {\n",
      "          \"literalDataDomains\": [\n",
      "            {\n",
      "              \"dataType\": {\n",
      "                \"name\": \"string\"\n",
      "              },\n",
      "              \"valueDefinition\": {\n",
      "                \"anyValue\": true\n",
      "              }\n",
      "            }\n",
      "          ]\n",
      "        }\n",
      "      },\n",
      "      {\n",
      "        \"id\": \"aoi\",\n",
      "        \"title\": \"Area of interest in Well-known Text (WKT)\",\n",
      "        \"abstract\": \"Area of interest in Well-known Text (WKT)\",\n",
      "        \"minOccurs\": \"0\",\n",
      "        \"maxOccurs\": \"1\",\n",
      "        \"input\": {\n",
      "          \"literalDataDomains\": [\n",
      "            {\n",
      "              \"dataType\": {\n",
      "                \"name\": \"string\"\n",
      "              },\n",
      "              \"valueDefinition\": {\n",
      "                \"anyValue\": true\n",
      "              }\n",
      "            }\n",
      "          ]\n",
      "        }\n",
      "      }\n",
      "    ],\n",
      "    \"outputs\": [\n",
      "      {\n",
      "        \"id\": \"wf_outputs\",\n",
      "        \"title\": \"wf_outputs\",\n",
      "        \"output\": {\n",
      "          \"formats\": [\n",
      "            {\n",
      "              \"default\": true,\n",
      "              \"mimeType\": \"application/json\"\n",
      "            }\n",
      "          ]\n",
      "        }\n",
      "      }\n",
      "    ]\n",
      "  }\n",
      "}\n"
     ]
    }
   ],
   "source": [
    "# API Processes - Get Application Details\n",
    "response, ades_access_token = demo.proc_get_app_details(ades_proc_url, app_name, id_token=user_id_token, access_token=ades_access_token)\n",
    "demo.response_summary(response)"
   ]
  },
  {
   "cell_type": "markdown",
   "id": "adequate-touch",
   "metadata": {},
   "source": [
    "### ADES: Execute Application\n",
    "**POST {service_url}/processes/{application_name}/jobs**<br>\n",
    "Request body is json as defined by API Processes to define the inputs and outputs, consistent with the CWL Workflow application package.<br>\n",
    "The response returns **201 CREATED** to indicate that the job has been successfully initiated.<br>\n",
    "The response **Location header** provides the path (/processes/{application_name}/jobs/{job_id}) to follow the job status."
   ]
  },
  {
   "cell_type": "code",
   "execution_count": 10,
   "id": "royal-smooth",
   "metadata": {},
   "outputs": [
    {
     "name": "stdout",
     "output_type": "stream",
     "text": [
      "Application execute details read from file: ../data/app-execute-body.json\n",
      "[Request] POST => http://ades.test.185.52.193.87.nip.io/eric/wps3/processes/nhi-0_0_3/jobs\n",
      "[Request] POST => https://test.185.52.193.87.nip.io/oxauth/restv1/token\n",
      "[Request] POST => http://ades.test.185.52.193.87.nip.io/eric/wps3/processes/nhi-0_0_3/jobs\n",
      "[Execute Response] = 201 (CREATED) => job=/eric/watchjob/processes/nhi-0_0_3/jobs/3c6bdffe-af32-11eb-b802-56ffdbaa8a56\n"
     ]
    }
   ],
   "source": [
    "# API Processes - Execute Application\n",
    "response, ades_access_token, job_location_path = demo.proc_execute_application(ades_proc_url, app_name, \"../data/app-execute-body.json\", id_token=user_id_token, access_token=ades_access_token)"
   ]
  },
  {
   "cell_type": "code",
   "execution_count": 11,
   "id": "9d817f9b-2c37-43a4-b8ad-8207b39f7c09",
   "metadata": {},
   "outputs": [
    {
     "name": "stdout",
     "output_type": "stream",
     "text": [
      "3c6bdffe-af32-11eb-b802-56ffdbaa8a56\n"
     ]
    }
   ],
   "source": [
    "jobid = response.headers[\"Location\"].rsplit('/', 1)[-1]\n",
    "print(jobid)"
   ]
  },
  {
   "cell_type": "markdown",
   "id": "chicken-obligation",
   "metadata": {},
   "source": [
    "### ADES: Job Status\n",
    "**GET {service_url}/watchjob/processes/{application_name}/jobs/{job_id}**<br>\n",
    "Check the status of a previously submitted job - using the URL returned in the Location header of the execute request.<br>\n",
    "The response body json provides a status string (success/running/failed) and a % progress.<br>\n",
    "In the case of a failure then a descriptive message is provided."
   ]
  },
  {
   "cell_type": "code",
   "execution_count": 12,
   "id": "played-alliance",
   "metadata": {},
   "outputs": [
    {
     "name": "stdout",
     "output_type": "stream",
     "text": [
      "[Request] GET => http://ades.test.185.52.193.87.nip.io/eric/watchjob/processes/nhi-0_0_3/jobs/3c6bdffe-af32-11eb-b802-56ffdbaa8a56\n",
      "[Request] POST => https://test.185.52.193.87.nip.io/oxauth/restv1/token\n",
      "[Request] GET => http://ades.test.185.52.193.87.nip.io/eric/watchjob/processes/nhi-0_0_3/jobs/3c6bdffe-af32-11eb-b802-56ffdbaa8a56\n",
      "[Job Status] = 200 (OK) => 07/05/2021 12:46:38 - running\n",
      "STATUS = 200 OK\n",
      "HEADERS = {'Server': 'nginx/1.19.1', 'Date': 'Fri, 07 May 2021 12:46:38 GMT', 'Content-Type': 'application/json;charset=UTF-8', 'Transfer-Encoding': 'chunked', 'Vary': 'Accept-Encoding', 'Content-Encoding': 'gzip'}\n",
      "BODY = {\n",
      "  \"jobID\": \"3c6bdffe-af32-11eb-b802-56ffdbaa8a56\",\n",
      "  \"status\": \"running\",\n",
      "  \"message\": \"running\",\n",
      "  \"progress\": \"0\",\n",
      "  \"links\": [\n",
      "    {\n",
      "      \"href\": \"http://ades.test.185.52.193.87.nip.io//eric/watchjob/processes/nhi-0_0_3/jobs/3c6bdffe-af32-11eb-b802-56ffdbaa8a56\",\n",
      "      \"rel\": \"self\",\n",
      "      \"type\": \"application/json\",\n",
      "      \"title\": \"get Status\"\n",
      "    }\n",
      "  ]\n",
      "}\n"
     ]
    }
   ],
   "source": [
    "# API Processes - Job Status\n",
    "response, ades_access_token, status = demo.proc_get_job_status(ades_base_url, job_location_path, id_token=user_id_token, access_token=ades_access_token)\n",
    "demo.response_summary(response)"
   ]
  },
  {
   "cell_type": "markdown",
   "id": "found-albuquerque",
   "metadata": {},
   "source": [
    "**Polling for Job Completion**<br>\n",
    "The job execution is asynchronous.<br>\n",
    "The Job Status endpoint is polled until the job completes."
   ]
  },
  {
   "cell_type": "code",
   "execution_count": 13,
   "id": "hindu-surfing",
   "metadata": {},
   "outputs": [
    {
     "name": "stdout",
     "output_type": "stream",
     "text": [
      "[Job Status] = 200 (OK) => 07/05/2021 12:46:57 - running\n",
      "[Job Status] = 200 (OK) => 07/05/2021 12:47:09 - running\n",
      "[Job Status] = 200 (OK) => 07/05/2021 12:47:22 - running\n",
      "[Job Status] = 200 (OK) => 07/05/2021 12:47:34 - running\n",
      "[Job Status] = 200 (OK) => 07/05/2021 12:47:47 - running\n",
      "[Job Status] = 200 (OK) => 07/05/2021 12:47:59 - running\n",
      "[Job Status] = 200 (OK) => 07/05/2021 12:48:11 - running\n",
      "[Job Status] = 200 (OK) => 07/05/2021 12:48:24 - running\n",
      "[Job Status] = 200 (OK) => 07/05/2021 12:48:36 - running\n",
      "[Job Status] = 200 (OK) => 07/05/2021 12:48:48 - running\n",
      "[Job Status] = 200 (OK) => 07/05/2021 12:49:00 - running\n",
      "[Job Status] = 200 (OK) => 07/05/2021 12:49:14 - running\n",
      "[Job Status] = 200 (OK) => 07/05/2021 12:49:26 - running\n",
      "[Job Status] = 200 (OK) => 07/05/2021 12:49:38 - running\n",
      "[Job Status] = 200 (OK) => 07/05/2021 12:49:50 - running\n",
      "[Job Status] = 200 (OK) => 07/05/2021 12:50:02 - running\n",
      "[Job Status] = 200 (OK) => 07/05/2021 12:50:15 - running\n",
      "[Job Status] = 200 (OK) => 07/05/2021 12:50:27 - running\n",
      "[Job Status] = 200 (OK) => 07/05/2021 12:50:40 - running\n",
      "[Job Status] = 200 (OK) => 07/05/2021 12:50:52 - running\n",
      "[Job Status] = 200 (OK) => 07/05/2021 12:51:06 - running\n",
      "[Job Status] = 200 (OK) => 07/05/2021 12:51:18 - running\n",
      "[Job Status] = 200 (OK) => 07/05/2021 12:51:30 - running\n",
      "[Job Status] = 200 (OK) => 07/05/2021 12:51:42 - running\n",
      "[Job Status] = 200 (OK) => 07/05/2021 12:51:55 - running\n",
      "[Job Status] = 200 (OK) => 07/05/2021 12:52:07 - running\n",
      "[Job Status] = 200 (OK) => 07/05/2021 12:52:20 - running\n",
      "[Job Status] = 200 (OK) => 07/05/2021 12:52:32 - running\n",
      "[Job Status] = 200 (OK) => 07/05/2021 12:52:45 - running\n",
      "[Job Status] = 200 (OK) => 07/05/2021 12:52:57 - running\n",
      "[Job Status] = 200 (OK) => 07/05/2021 12:53:09 - running\n",
      "[Job Status] = 200 (OK) => 07/05/2021 12:53:22 - running\n",
      "[Job Status] = 200 (OK) => 07/05/2021 12:53:34 - running\n",
      "[Job Status] = 200 (OK) => 07/05/2021 12:53:46 - running\n",
      "[Job Status] = 200 (OK) => 07/05/2021 12:53:58 - running\n",
      "[Job Status] = 200 (OK) => 07/05/2021 12:54:11 - running\n",
      "[Job Status] = 200 (OK) => 07/05/2021 12:54:23 - running\n",
      "[Job Status] = 200 (OK) => 07/05/2021 12:54:35 - running\n",
      "[Job Status] = 200 (OK) => 07/05/2021 12:54:48 - running\n",
      "[Job Status] = 200 (OK) => 07/05/2021 12:55:00 - running\n",
      "[Job Status] = 200 (OK) => 07/05/2021 12:55:13 - running\n",
      "[Job Status] = 200 (OK) => 07/05/2021 12:55:25 - running\n",
      "[Job Status] = 200 (OK) => 07/05/2021 12:55:39 - running\n",
      "[Job Status] = 200 (OK) => 07/05/2021 12:55:51 - running\n",
      "[Job Status] = 200 (OK) => 07/05/2021 12:56:04 - running\n",
      "[Job Status] = 200 (OK) => 07/05/2021 12:56:16 - running\n",
      "[Job Status] = 200 (OK) => 07/05/2021 12:56:28 - running\n",
      "[Job Status] = 200 (OK) => 07/05/2021 12:56:40 - running\n",
      "[Job Status] = 200 (OK) => 07/05/2021 12:56:53 - running\n",
      "[Job Status] = 200 (OK) => 07/05/2021 12:57:05 - running\n",
      "[Job Status] = 200 (OK) => 07/05/2021 12:57:17 - running\n",
      "[Job Status] = 200 (OK) => 07/05/2021 12:57:30 - running\n",
      "[Job Status] = 200 (OK) => 07/05/2021 12:57:42 - running\n",
      "[Job Status] = 200 (OK) => 07/05/2021 12:57:54 - running\n",
      "[Job Status] = 200 (OK) => 07/05/2021 12:58:07 - failed\n"
     ]
    }
   ],
   "source": [
    "# API Processes - Job Status (keep polling for completion)\n",
    "response, ades_access_token, status = demo.proc_poll_job_completion(ades_base_url, job_location_path, interval=10, id_token=user_id_token, access_token=ades_access_token)"
   ]
  },
  {
   "cell_type": "code",
   "execution_count": 14,
   "id": "polished-silence",
   "metadata": {},
   "outputs": [
    {
     "name": "stdout",
     "output_type": "stream",
     "text": [
      "STATUS = 200 OK\n",
      "HEADERS = {'Server': 'nginx/1.19.1', 'Date': 'Fri, 07 May 2021 12:58:06 GMT', 'Content-Type': 'application/json;charset=UTF-8', 'Transfer-Encoding': 'chunked', 'Vary': 'Accept-Encoding', 'Content-Encoding': 'gzip'}\n",
      "BODY = {\n",
      "  \"jobID\": \"3c6bdffe-af32-11eb-b802-56ffdbaa8a56\",\n",
      "  \"status\": \"failed\",\n",
      "  \"message\": \"eoepca: error registering results to resource manager workspace. Error return code: 400{\\\"message\\\":\\\"Failed to register product rm-user-eric/wf-3c6bdffe-af32-11eb-b802-56ffdbaa8a56/\\\"}\",\n",
      "  \"progress\": \"100\",\n",
      "  \"links\": [\n",
      "    {\n",
      "      \"href\": \"http://ades.test.185.52.193.87.nip.io//eric/watchjob/processes/nhi-0_0_3/jobs/3c6bdffe-af32-11eb-b802-56ffdbaa8a56\",\n",
      "      \"rel\": \"self\",\n",
      "      \"type\": \"application/json\",\n",
      "      \"title\": \"get Status\"\n",
      "    }\n",
      "  ]\n",
      "}\n"
     ]
    }
   ],
   "source": [
    "# Inspect response\n",
    "demo.response_summary(response)"
   ]
  },
  {
   "cell_type": "markdown",
   "id": "understood-cambridge",
   "metadata": {},
   "source": [
    "### ADES Stage-out\n",
    "At the successful completion of processing, the ADES stages out the results to platform storage (under the direction of the user's Workspace component), and registers the data in the User Workspace for access and further exploitation.<br>\n",
    "![ADES processing results stage-out](https://raw.githubusercontent.com/EOEPCA/eoepca/develop/technical/workspace/seq-ades-processing-results-stage-out.png)"
   ]
  },
  {
   "cell_type": "markdown",
   "id": "amber-simple",
   "metadata": {},
   "source": [
    "### ADES: Job Result\n",
    "**GET {service_url}/watchjob/processes/{application_name}/jobs/{job_id}/result**<br>\n",
    "Returns details of the outputs for a successful job execution.<br>\n",
    "The response body provides json data that includes the reference to the STAC file that indexes the processing outputs."
   ]
  },
  {
   "cell_type": "code",
   "execution_count": null,
   "id": "hydraulic-country",
   "metadata": {},
   "outputs": [],
   "source": [
    "# API Processes - Job Result\n",
    "response, ades_access_token, stacCatalogUri = demo.proc_get_job_result(ades_base_url, job_location_path, id_token=user_id_token, access_token=ades_access_token)\n",
    "demo.response_summary(response)"
   ]
  },
  {
   "cell_type": "markdown",
   "id": "85d86176-a142-4638-9928-bfe4d96c34d3",
   "metadata": {},
   "source": [
    "**Inspecting the processing results**"
   ]
  },
  {
   "cell_type": "markdown",
   "id": "a3f845bc-b6ec-4178-ae7a-24887b53c0f5",
   "metadata": {},
   "source": [
    "Retrieve access information to the user workspace S3 bucket (bucket name, access key and secret access key)"
   ]
  },
  {
   "cell_type": "code",
   "execution_count": null,
   "id": "b0cd3cbe-440d-470c-9f44-ef4c1c79ad1a",
   "metadata": {},
   "outputs": [],
   "source": [
    "# Init\n",
    "workspace_url = \"https://workspace-api.\" + base_domain\n",
    "workspace_access_token = None\n",
    "\n",
    "# Workspace - Get Details\n",
    "workspace_name = \"rm-user-\" + USER_NAME.lower()\n",
    "response, workspace_access_token = demo.workspace_get_details(workspace_url, workspace_name, id_token=user_id_token, access_token=workspace_access_token)\n",
    "workspace_details = response.json()\n",
    "\n",
    "# Bucket details\n",
    "bucket_name = workspace_details[\"storage\"][\"credentials\"][\"bucketname\"]\n",
    "s3_access = workspace_details[\"storage\"][\"credentials\"][\"access\"]\n",
    "s3_secret = workspace_details[\"storage\"][\"credentials\"][\"secret\"]"
   ]
  },
  {
   "cell_type": "markdown",
   "id": "d63d963b-5983-4e04-8943-67879fbc8b68",
   "metadata": {},
   "source": [
    "Print the content of the result stac catalog file"
   ]
  },
  {
   "cell_type": "code",
   "execution_count": null,
   "id": "209df83a-9427-4a04-9dcb-20398437fb65",
   "metadata": {},
   "outputs": [],
   "source": [
    "# Quick hack S3 access\n",
    "import boto3\n",
    "\n",
    "# Init S3 session for Creodias\n",
    "S3_ENDPOINT = \"https://cf2.cloudferro.com:8080\"\n",
    "session = boto3.session.Session()\n",
    "s3resource = session.resource('s3', aws_access_key_id=s3_access, aws_secret_access_key=s3_secret, endpoint_url=S3_ENDPOINT)\n",
    "\n",
    "# Retrieve S3 key path of the catalog.json\n",
    "stacCatalogUriS3Key = \"/\".join(stacCatalogUri.rsplit('/', 2)[-2:])\n",
    "print(f\"Content of {stacCatalogUriS3Key} :\\n\")\n",
    "\n",
    "# Printing catalog.json\n",
    "obj = s3resource.Object(bucket_name, stacCatalogUriS3Key)\n",
    "catalogJson = json.loads(obj.get()['Body'].read().decode('utf-8'))\n",
    "print(json.dumps(catalogJson, indent=4, sort_keys=True))"
   ]
  },
  {
   "cell_type": "markdown",
   "id": "331dacf7-234a-4010-b99a-cc22fbe0e2ac",
   "metadata": {},
   "source": [
    "List all the files contained in the result folder"
   ]
  },
  {
   "cell_type": "code",
   "execution_count": null,
   "id": "62103255-8e8a-44fc-bfb4-4ce6715d62f9",
   "metadata": {},
   "outputs": [],
   "source": [
    "# List result contents\n",
    "bucket = s3resource.Bucket(bucket_name)\n",
    "for obj in bucket.objects.filter(Prefix=f\"wf-{jobid}/\"):\n",
    "    print(obj.key)"
   ]
  },
  {
   "cell_type": "markdown",
   "id": "typical-pursuit",
   "metadata": {},
   "source": [
    "### ADES: List Jobs\n",
    "**GET {service_url}/processes/{application_name}/jobs**<br>\n",
    "Provides a list of all jobs for the named processes "
   ]
  },
  {
   "cell_type": "code",
   "execution_count": null,
   "id": "undefined-stylus",
   "metadata": {},
   "outputs": [],
   "source": [
    "# API Processes - List Jobs\n",
    "response, ades_access_token, job_ids = demo.proc_list_jobs(ades_proc_url, app_name, id_token=user_id_token, access_token=ades_access_token)\n",
    "print(\"Jobs:\", job_ids)"
   ]
  },
  {
   "cell_type": "markdown",
   "id": "packed-product",
   "metadata": {},
   "source": [
    "### ADES: Undeploy Application\n",
    "**DELETE {service_url}/processes/{application_name}**<br>\n",
    "Undeploy application from the ADES"
   ]
  },
  {
   "cell_type": "code",
   "execution_count": null,
   "id": "elect-tonight",
   "metadata": {},
   "outputs": [],
   "source": [
    "# API Processes - Undeploy Application\n",
    "response, ades_access_token = demo.proc_undeploy_application(ades_proc_url, app_name, id_token=user_id_token, access_token=ades_access_token)"
   ]
  },
  {
   "cell_type": "code",
   "execution_count": null,
   "id": "described-monaco",
   "metadata": {
    "tags": []
   },
   "outputs": [],
   "source": [
    "# Check undeploy - list processes\n",
    "response, ades_access_token, process_ids = demo.proc_list_processes(ades_proc_url, id_token=user_id_token, access_token=ades_access_token)\n",
    "print(\"Processes:\", process_ids)"
   ]
  },
  {
   "cell_type": "markdown",
   "id": "412ba249-8e7f-49f4-a089-41ea163784d0",
   "metadata": {},
   "source": [
    "## Policy Enforcement and Resource Sharing\n",
    "Owners of resources can choose to share these with other users by updating the access policies"
   ]
  },
  {
   "cell_type": "markdown",
   "id": "25388954-ae16-4f64-b98a-222acc8433e4",
   "metadata": {},
   "source": [
    "### Deploy Application\n",
    "The demo user redeploys de application"
   ]
  },
  {
   "cell_type": "code",
   "execution_count": null,
   "id": "220c052a-5f02-4c37-92e0-cbe9903d6e54",
   "metadata": {},
   "outputs": [],
   "source": [
    "# API Processes - Deploy Application\n",
    "response, ades_access_token = demo.proc_deploy_application(ades_proc_url, \"../data/app-deploy-body-atom.json\", id_token=user_id_token, access_token=ades_access_token)"
   ]
  },
  {
   "cell_type": "code",
   "execution_count": null,
   "id": "f493cda3-03c5-4342-9662-e58cf8682e20",
   "metadata": {},
   "outputs": [],
   "source": [
    "# Check deploy - list processes again\n",
    "response, process_ids, ades_access_token = demo.proc_list_processes(ades_proc_url, id_token=user_id_token, access_token=ades_access_token)\n",
    "print(\"Processes:\", process_ids)"
   ]
  },
  {
   "cell_type": "markdown",
   "id": "12ec647e-e7ae-412d-99b5-3a8252d5f184",
   "metadata": {},
   "source": [
    "### UserB Authenticates in the Platform\n",
    "User authenticates and the client receives an ID Token (JWT) that represents the user."
   ]
  },
  {
   "cell_type": "code",
   "execution_count": null,
   "id": "c4a160de-a2aa-4bcd-90e0-ef8c9ee58e9a",
   "metadata": {},
   "outputs": [],
   "source": [
    "#-------------------------------------------------------------------------------\n",
    "# Authenticate as UserB and get ID Token\n",
    "#-------------------------------------------------------------------------------\n",
    "USER_NAME=\"eric\"\n",
    "USER_PASSWORD=\"defaultPWD\"\n",
    "userb_id_token = demo.get_id_token(USER_NAME, USER_PASSWORD)"
   ]
  },
  {
   "cell_type": "markdown",
   "id": "561964f7-548b-415a-92fd-d405f9af4b70",
   "metadata": {},
   "source": [
    "### UserB Attempts to Execute Demo User Apps\n",
    "All resources are registered with ownership policies by default"
   ]
  },
  {
   "cell_type": "code",
   "execution_count": null,
   "id": "2ed21b21-bece-4ee3-90d3-78943904ad3e",
   "metadata": {},
   "outputs": [],
   "source": [
    "#-------------------------------------------------------------------------------\n",
    "# Unauthorized Execution \n",
    "# Expected Value: 401\n",
    "#-------------------------------------------------------------------------------\n",
    "response, ades_access_token, job_location_path = demo.proc_execute_application(ades_proc_url, app_name, \"../data/app-execute-body.json\", id_token=None, access_token=None)"
   ]
  },
  {
   "cell_type": "markdown",
   "id": "39955275-e95a-480a-b12f-0048b84ebed0",
   "metadata": {},
   "source": [
    "### Owner Updates Access Policy\n",
    "Grants access to UserB to execute the deployed app"
   ]
  },
  {
   "cell_type": "code",
   "execution_count": null,
   "id": "66f5a799-0fd5-4b8b-b6f4-9ca790328534",
   "metadata": {},
   "outputs": [],
   "source": [
    "#-------------------------------------------------------------------------------\n",
    "# Get Ownership Id\n",
    "#-------------------------------------------------------------------------------\n",
    "owB = demo.get_ownership_id(userb_id_token)\n",
    "owA = demo.get_ownership_id(user_id_token)\n",
    "\n",
    "#-------------------------------------------------------------------------------\n",
    "# Finds the policy by retrieving a resource_id\n",
    "# Update policy with allowing access to UserB\n",
    "#-------------------------------------------------------------------------------\n",
    "ades_res=\"http://ades.resources.185.52.193.87.nip.io\"\n",
    "res_id = demo.get_resource_by_name(ades_res, \"s-expression-0_0_2\", user_id_token)\n",
    "data={'name':'Updated Execution','description':'modified','config':{'resource_id':'res_id','action':'view','rules':[{'OR':[{'EQUAL':{'id':'owA'}},{'EQUAL':{'id':'owB'}}]}]},'scopes':['protected_access']}\n",
    "pdp_url= \"http://test.185.52.193.87.nip.io/pdp\"\n",
    "resp, text= demo.update_policy(pdp_url, data, res_id, user_id_token)"
   ]
  },
  {
   "cell_type": "markdown",
   "id": "fc9d1944-34a9-4ad0-9c5b-ab78f27395ea",
   "metadata": {},
   "source": [
    "### UserB Executes Application Succesfully\n",
    "Shared resources can now be executed"
   ]
  },
  {
   "cell_type": "code",
   "execution_count": null,
   "id": "f556b987-6165-4005-861b-e306bf060f6c",
   "metadata": {},
   "outputs": [],
   "source": [
    "#-------------------------------------------------------------------------------\n",
    "# User B Execute Application Succesfully\n",
    "# Expected Value: 201\n",
    "#-------------------------------------------------------------------------------\n",
    "response, ades_access_token, job_location_path = demo.proc_execute_application(ades_proc_url, app_name, \"../data/app-execute-body.json\", id_token=userb_id_token, access_token=None)"
   ]
  },
  {
   "cell_type": "markdown",
   "id": "5a56a0a2-58c8-4f21-a342-a67d25e55ce4",
   "metadata": {},
   "source": [
    "## Workspace"
   ]
  },
  {
   "cell_type": "code",
   "execution_count": null,
   "id": "modern-terrorist",
   "metadata": {},
   "outputs": [],
   "source": [
    "# Init\n",
    "workspace_url = \"https://workspace-api.\" + base_domain\n",
    "workspace_access_token = None"
   ]
  },
  {
   "cell_type": "markdown",
   "id": "similar-savannah",
   "metadata": {},
   "source": [
    "### Workspace: Get Details"
   ]
  },
  {
   "cell_type": "code",
   "execution_count": null,
   "id": "naval-street",
   "metadata": {},
   "outputs": [],
   "source": [
    "# Workspace - Get Details\n",
    "workspace_name = \"rm-user-\" + USER_NAME.lower()\n",
    "response, workspace_access_token = demo.workspace_get_details(workspace_url, workspace_name, id_token=user_id_token, access_token=workspace_access_token)\n",
    "workspace_details = response.json()\n",
    "demo.response_summary(response)"
   ]
  },
  {
   "cell_type": "markdown",
   "id": "recent-collins",
   "metadata": {},
   "source": [
    "### Inspect S3 Bucket"
   ]
  },
  {
   "cell_type": "code",
   "execution_count": null,
   "id": "abstract-choir",
   "metadata": {},
   "outputs": [],
   "source": [
    "# Bucket details\n",
    "bucket_name = workspace_details[\"storage\"][\"credentials\"][\"bucketname\"]\n",
    "s3_access = workspace_details[\"storage\"][\"credentials\"][\"access\"]\n",
    "s3_secret = workspace_details[\"storage\"][\"credentials\"][\"secret\"]"
   ]
  },
  {
   "cell_type": "code",
   "execution_count": null,
   "id": "united-soviet",
   "metadata": {},
   "outputs": [],
   "source": [
    "# Quick hack S3 access\n",
    "import boto3\n",
    "\n",
    "# Init S3 session for Creodias\n",
    "S3_ENDPOINT = \"https://cf2.cloudferro.com:8080\"\n",
    "session = boto3.session.Session()\n",
    "s3resource = session.resource('s3', aws_access_key_id=s3_access, aws_secret_access_key=s3_secret, endpoint_url=S3_ENDPOINT)\n",
    "\n",
    "# List bucket contents\n",
    "bucket = s3resource.Bucket(bucket_name)\n",
    "for obj in bucket.objects.all():\n",
    "    print(' ->', obj)"
   ]
  },
  {
   "cell_type": "markdown",
   "id": "bored-visitor",
   "metadata": {},
   "source": [
    "## Results Consumption\n",
    "**TBD - Needs EOX/EOfarm support to elaborate this**<br>\n",
    "* Results discovery - User's resource catalogue (OpenSearch)\n",
    "* Results visualisation:\n",
    "  * Data access services\n",
    "  * QGIS"
   ]
  }
 ],
 "metadata": {
  "kernelspec": {
   "display_name": "Python 3",
   "language": "python",
   "name": "python3"
  },
  "language_info": {
   "codemirror_mode": {
    "name": "ipython",
    "version": 3
   },
   "file_extension": ".py",
   "mimetype": "text/x-python",
   "name": "python",
   "nbconvert_exporter": "python",
   "pygments_lexer": "ipython3",
   "version": "3.8.8"
  }
 },
 "nbformat": 4,
 "nbformat_minor": 5
}
