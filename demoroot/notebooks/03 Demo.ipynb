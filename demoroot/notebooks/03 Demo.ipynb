{
 "cells": [
  {
   "cell_type": "markdown",
   "id": "pursuant-permission",
   "metadata": {},
   "source": [
    "# Demonstration\n",
    "End-to-end demonstration.<br>\n",
    "Ref. https://docs.google.com/document/d/1opi0xGTaMZC0TA2CF2VF1DrWHXeE6M-89ricwlsXtXg/edit?usp=sharing"
   ]
  },
  {
   "cell_type": "markdown",
   "id": "whole-italian",
   "metadata": {},
   "source": [
    "## Application Development\n",
    "Alice uses the Processor Development Environment (PDE) to develop, test and package an application.\n",
    "Alice's published outputs are:\n",
    "* Docker image published to DockerHub\n",
    "* Application Package (CWL) published to Resource Catalogue (TBD) and/or GitHub - accessible by href"
   ]
  },
  {
   "cell_type": "markdown",
   "id": "missing-hardwood",
   "metadata": {},
   "source": [
    "## Demo Client Setup\n",
    "We instantiate a client to interact with the platform.<br>\n",
    "The client dynamically registers with the Authorisation Server to take part in UMA (User Managed Access) flows through which authorization is obtained for scoped access resources on behalf of the user."
   ]
  },
  {
   "cell_type": "code",
   "execution_count": null,
   "id": "israeli-static",
   "metadata": {},
   "outputs": [],
   "source": [
    "import utils.DemoClient as client\n",
    "import jwt\n",
    "import json\n",
    "#-------------------------------------------------------------------------------\n",
    "# Initialise client\n",
    "#-------------------------------------------------------------------------------\n",
    "base_domain = \"185.52.193.87.nip.io\"\n",
    "platform_domain = \"test.\" + base_domain\n",
    "base_url = \"https://\" + platform_domain\n",
    "demo = client.DemoClient(base_url)\n",
    "demo.register_client()\n",
    "demo.save_state()"
   ]
  },
  {
   "cell_type": "markdown",
   "id": "understanding-gamma",
   "metadata": {},
   "source": [
    "### Authenticated User\n",
    "We require an authenticated user to interact with some of the platform endpoints - in particular for eoepca v0.3 the ADES.<br>\n",
    "User authenticates and the client receives an ID Token (JWT) that represents the user.<br>\n",
    "For convenience within the Jupyter notebook we use a username/password authentication - but the primary mechanism is to rely upon external identity provision.<br>\n",
    "Currently login with GitHub is supported."
   ]
  },
  {
   "cell_type": "code",
   "execution_count": null,
   "id": "hungry-morris",
   "metadata": {
    "tags": []
   },
   "outputs": [],
   "source": [
    "#-------------------------------------------------------------------------------\n",
    "# Authenticate as user 'demoA' and get ID Token\n",
    "#-------------------------------------------------------------------------------\n",
    "USER_NAME=\"demoA\"\n",
    "USER_PASSWORD=\"defaultPWD\"\n",
    "user_id_token = demo.get_id_token(USER_NAME, USER_PASSWORD)"
   ]
  },
  {
   "cell_type": "markdown",
   "id": "blond-boulder",
   "metadata": {},
   "source": [
    "## Data Discovery\n",
    "**TBD - Needs EOX/EOfarm support to elaborate this**<br>\n",
    "Eric discovers data using platform services (Resource Catalogue / DAS) and QGIS\n",
    "* OpenSearch endpoint\n",
    "* Data visualisation"
   ]
  },
  {
   "cell_type": "markdown",
   "id": "healthy-optimization",
   "metadata": {},
   "source": [
    "### Resource Catalogue - OpenSearch"
   ]
  },
  {
   "cell_type": "code",
   "execution_count": null,
   "id": "ordered-heath",
   "metadata": {},
   "outputs": [],
   "source": [
    "# TBD"
   ]
  },
  {
   "cell_type": "markdown",
   "id": "adolescent-document",
   "metadata": {},
   "source": [
    "### Data Access Services - WMS, WCS (TBD)"
   ]
  },
  {
   "cell_type": "code",
   "execution_count": null,
   "id": "considerable-timeline",
   "metadata": {},
   "outputs": [],
   "source": [
    "# TBD"
   ]
  },
  {
   "cell_type": "markdown",
   "id": "reduced-designation",
   "metadata": {},
   "source": [
    "## Processing - ADES\n",
    "The ADES provides WPS 1.0/2.0 and API Processes interfaces - with extensions for process deploy/undeploy.<br>\n",
    "The ADES provides user-specific endpoints, using a URL path prefix."
   ]
  },
  {
   "cell_type": "code",
   "execution_count": null,
   "id": "widespread-investing",
   "metadata": {},
   "outputs": [],
   "source": [
    "# ADES URLs\n",
    "ades_base_url = \"http://ades.\" + platform_domain\n",
    "ades_wps_url = ades_base_url + \"/\" + USER_NAME + \"/zoo\"; print(\"ADES WPS endpoint:\", ades_wps_url)\n",
    "ades_proc_url = ades_base_url + \"/\" + USER_NAME + \"/wps3\"; print(\"ADES API Processes endpoint:\", ades_proc_url)\n",
    "\n",
    "# Init\n",
    "ades_access_token = None\n",
    "app_name = \"s-expression-0_0_2\""
   ]
  },
  {
   "cell_type": "markdown",
   "id": "british-minute",
   "metadata": {},
   "source": [
    "### ADES: List Processes\n",
    "**GET {service_url}/processes**<br>\n",
    "Provides a list of all processes "
   ]
  },
  {
   "cell_type": "code",
   "execution_count": null,
   "id": "retired-corner",
   "metadata": {
    "tags": []
   },
   "outputs": [],
   "source": [
    "# API Processes - List Processes\n",
    "response, ades_access_token, process_ids = demo.proc_list_processes(ades_proc_url, id_token=user_id_token, access_token=ades_access_token)\n",
    "print(\"Processes:\", process_ids)\n",
    "# demo.response_summary(response)"
   ]
  },
  {
   "cell_type": "markdown",
   "id": "dedicated-tokyo",
   "metadata": {},
   "source": [
    "### ADES: Deploy Application\n",
    "**POST {service_url}/processes**<br>\n",
    "Deploy application to the ADES.<br>\n",
    "Request body is json in the same format as defined for an Execute request (ref. API Processes), in which the input is the Application Package describing the application.<br>\n",
    "The Application Package is a CWL Workflow that is typically provided as an href with content type **_application/atom+xml_** or **_application/cwl_**."
   ]
  },
  {
   "cell_type": "code",
   "execution_count": null,
   "id": "chubby-queens",
   "metadata": {},
   "outputs": [],
   "source": [
    "# API Processes - Deploy Application\n",
    "response, ades_access_token = demo.proc_deploy_application(ades_proc_url, \"../data/app-deploy-body-atom.json\", id_token=user_id_token, access_token=ades_access_token)"
   ]
  },
  {
   "cell_type": "markdown",
   "id": "early-abraham",
   "metadata": {},
   "source": [
    "**_Dynamic Resource Protection_**<br>\n",
    "The application deployment creates new endpoints within the ADES that need to be protected - e.g. those for _Details_ **(processes/{application_name})** and _Execute_ **(processes/{application_name}/jobs)**.<br>\n",
    "During deployment, the ADES interfaces with its PEP (Policy Enforcement Point) to register these endpoints as protected under the ownership of the calling user."
   ]
  },
  {
   "cell_type": "code",
   "execution_count": null,
   "id": "received-attitude",
   "metadata": {
    "tags": []
   },
   "outputs": [],
   "source": [
    "# Check deploy - list processes again\n",
    "response, ades_access_token, process_ids = demo.proc_list_processes(ades_proc_url, id_token=user_id_token, access_token=ades_access_token)\n",
    "print(\"Processes:\", process_ids)"
   ]
  },
  {
   "cell_type": "markdown",
   "id": "bearing-hamilton",
   "metadata": {},
   "source": [
    "### ADES: Get Application Details\n",
    "**GET {service_url}/processes/{application_name}**<br>\n",
    "Provides details of the deployed application<br>\n",
    "The response includes the API Processes json application description."
   ]
  },
  {
   "cell_type": "code",
   "execution_count": null,
   "id": "cubic-census",
   "metadata": {},
   "outputs": [],
   "source": [
    "# API Processes - Get Application Details\n",
    "response, ades_access_token = demo.proc_get_app_details(ades_proc_url, app_name, id_token=user_id_token, access_token=ades_access_token)\n",
    "demo.response_summary(response)"
   ]
  },
  {
   "cell_type": "markdown",
   "id": "adequate-touch",
   "metadata": {},
   "source": [
    "### ADES: Execute Application\n",
    "**POST {service_url}/processes/{application_name}/jobs**<br>\n",
    "Request body is json as defined by API Processes to define the inputs and outputs, consistent with the CWL Workflow application package.<br>\n",
    "The response returns **201 CREATED** to indicate that the job has been successfully initiated.<br>\n",
    "The response **Location header** provides the path (/processes/{application_name}/jobs/{job_id}) to follow the job status."
   ]
  },
  {
   "cell_type": "code",
   "execution_count": null,
   "id": "royal-smooth",
   "metadata": {},
   "outputs": [],
   "source": [
    "# API Processes - Execute Application\n",
    "response, ades_access_token, job_location_path = demo.proc_execute_application(ades_proc_url, app_name, \"../data/app-execute-body.json\", id_token=user_id_token, access_token=ades_access_token)"
   ]
  },
  {
   "cell_type": "markdown",
   "id": "chicken-obligation",
   "metadata": {},
   "source": [
    "### ADES: Job Status\n",
    "**GET {service_url}/watchjob/processes/{application_name}/jobs/{job_id}**<br>\n",
    "Check the status of a previously submitted job - using the URL returned in the Location header of the execute request.<br>\n",
    "The response body json provides a status string (success/running/failed) and a % progress.<br>\n",
    "In the case of a failure then a descriptive message is provided."
   ]
  },
  {
   "cell_type": "code",
   "execution_count": null,
   "id": "played-alliance",
   "metadata": {},
   "outputs": [],
   "source": [
    "# API Processes - Job Status\n",
    "response, ades_access_token, status = demo.proc_get_job_status(ades_base_url, job_location_path, id_token=user_id_token, access_token=ades_access_token)\n",
    "demo.response_summary(response)"
   ]
  },
  {
   "cell_type": "markdown",
   "id": "found-albuquerque",
   "metadata": {},
   "source": [
    "**Polling for Job Completion**<br>\n",
    "The job execution is asynchronous.<br>\n",
    "The Job Status endpoint is polled until the job completes."
   ]
  },
  {
   "cell_type": "code",
   "execution_count": null,
   "id": "hindu-surfing",
   "metadata": {},
   "outputs": [],
   "source": [
    "# API Processes - Job Status (keep polling for completion)\n",
    "response, ades_access_token, status = demo.proc_poll_job_completion(ades_base_url, job_location_path, interval=10, id_token=user_id_token, access_token=ades_access_token)"
   ]
  },
  {
   "cell_type": "code",
   "execution_count": null,
   "id": "polished-silence",
   "metadata": {},
   "outputs": [],
   "source": [
    "# Inspect response\n",
    "demo.response_summary(response)"
   ]
  },
  {
   "cell_type": "markdown",
   "id": "understood-cambridge",
   "metadata": {},
   "source": [
    "### ADES Stage-out\n",
    "At the successful completion of processing, the ADES stages out the results to platform storage (under the direction of the user's Workspace component), and registers the data in the User Workspace for access and further exploitation.<br>\n",
    "![ADES processing results stage-out](https://raw.githubusercontent.com/EOEPCA/eoepca/develop/technical/workspace/seq-ades-processing-results-stage-out.png)"
   ]
  },
  {
   "cell_type": "markdown",
   "id": "amber-simple",
   "metadata": {},
   "source": [
    "### ADES: Job Result\n",
    "**GET {service_url}/watchjob/processes/{application_name}/jobs/{job_id}/result**<br>\n",
    "Returns details of the outputs for a successful job execution.<br>\n",
    "The response body provides json data that includes the reference to the STAC file that indexes the processing outputs."
   ]
  },
  {
   "cell_type": "code",
   "execution_count": null,
   "id": "hydraulic-country",
   "metadata": {},
   "outputs": [],
   "source": [
    "# API Processes - Job Result\n",
    "response, ades_access_token, stacCatalogUri = demo.proc_get_job_result(ades_base_url, job_location_path, id_token=user_id_token, access_token=ades_access_token)\n",
    "demo.response_summary(response)"
   ]
  },
  {
   "cell_type": "markdown",
   "id": "typical-pursuit",
   "metadata": {},
   "source": [
    "### ADES: List Jobs\n",
    "**GET {service_url}/processes/{application_name}/jobs**<br>\n",
    "Provides a list of all jobs for the named processes "
   ]
  },
  {
   "cell_type": "code",
   "execution_count": null,
   "id": "undefined-stylus",
   "metadata": {},
   "outputs": [],
   "source": [
    "# API Processes - List Jobs\n",
    "response, ades_access_token, job_ids = demo.proc_list_jobs(ades_proc_url, app_name, id_token=user_id_token, access_token=ades_access_token)\n",
    "print(\"Jobs:\", job_ids)"
   ]
  },
  {
   "cell_type": "markdown",
   "id": "packed-product",
   "metadata": {},
   "source": [
    "### ADES: Undeploy Application\n",
    "**DELETE {service_url}/processes/{application_name}**<br>\n",
    "Undeploy application from the ADES"
   ]
  },
  {
   "cell_type": "code",
   "execution_count": null,
   "id": "elect-tonight",
   "metadata": {},
   "outputs": [],
   "source": [
    "# API Processes - Undeploy Application\n",
    "response, ades_access_token = demo.proc_undeploy_application(ades_proc_url, app_name, id_token=user_id_token, access_token=ades_access_token)"
   ]
  },
  {
   "cell_type": "code",
   "execution_count": null,
   "id": "described-monaco",
   "metadata": {
    "tags": []
   },
   "outputs": [],
   "source": [
    "# Check undeploy - list processes\n",
    "response, ades_access_token, process_ids = demo.proc_list_processes(ades_proc_url, id_token=user_id_token, access_token=ades_access_token)\n",
    "print(\"Processes:\", process_ids)"
   ]
  },
  {
   "cell_type": "markdown",
   "id": "412ba249-8e7f-49f4-a089-41ea163784d0",
   "metadata": {},
   "source": [
    "## Policy Enforcement and Resource Sharing\n",
    "Owners of resources can choose to share these with other users by updating the access policies"
   ]
  },
  {
   "cell_type": "markdown",
   "id": "25388954-ae16-4f64-b98a-222acc8433e4",
   "metadata": {},
   "source": [
    "### Deploy Application\n",
    "The demo user redeploys de application"
   ]
  },
  {
   "cell_type": "code",
   "execution_count": null,
   "id": "220c052a-5f02-4c37-92e0-cbe9903d6e54",
   "metadata": {},
   "outputs": [],
   "source": [
    "# API Processes - Deploy Application\n",
    "response, ades_access_token = demo.proc_deploy_application(ades_proc_url, \"../data/app-deploy-body-atom.json\", id_token=user_id_token, access_token=ades_access_token)"
   ]
  },
  {
   "cell_type": "code",
   "execution_count": null,
   "id": "f493cda3-03c5-4342-9662-e58cf8682e20",
   "metadata": {},
   "outputs": [],
   "source": [
    "# Check deploy - list processes again\n",
    "response, process_ids, ades_access_token = demo.proc_list_processes(ades_proc_url, id_token=user_id_token, access_token=ades_access_token)\n",
    "print(\"Processes:\", process_ids)"
   ]
  },
  {
   "cell_type": "markdown",
   "id": "12ec647e-e7ae-412d-99b5-3a8252d5f184",
   "metadata": {},
   "source": [
    "### UserB Authenticates in the Platform\n",
    "User authenticates and the client receives an ID Token (JWT) that represents the user."
   ]
  },
  {
   "cell_type": "code",
   "execution_count": null,
   "id": "c4a160de-a2aa-4bcd-90e0-ef8c9ee58e9a",
   "metadata": {},
   "outputs": [],
   "source": [
    "#-------------------------------------------------------------------------------\n",
    "# Authenticate as UserB and get ID Token\n",
    "#-------------------------------------------------------------------------------\n",
    "USER_NAME=\"demoB\"\n",
    "USER_PASSWORD=\"defaultPWD\"\n",
    "userb_id_token = demo.get_id_token(USER_NAME, USER_PASSWORD)"
   ]
  },
  {
   "cell_type": "markdown",
   "id": "561964f7-548b-415a-92fd-d405f9af4b70",
   "metadata": {},
   "source": [
    "### UserB Attempts to Execute Demo User Apps\n",
    "All resources are registered with ownership policies by default"
   ]
  },
  {
   "cell_type": "code",
   "execution_count": null,
   "id": "2ed21b21-bece-4ee3-90d3-78943904ad3e",
   "metadata": {},
   "outputs": [],
   "source": [
    "#-------------------------------------------------------------------------------\n",
    "# Unauthorized Execution \n",
    "# Expected Value: 401\n",
    "#-------------------------------------------------------------------------------\n",
    "response, ades_access_token, job_location_path = demo.proc_execute_application(ades_proc_url, app_name, \"../data/app-execute-body.json\", id_token=None, access_token=None)"
   ]
  },
  {
   "cell_type": "markdown",
   "id": "39955275-e95a-480a-b12f-0048b84ebed0",
   "metadata": {},
   "source": [
    "### Owner Updates Access Policy\n",
    "Grants access to UserB to execute the deployed app"
   ]
  },
  {
   "cell_type": "code",
   "execution_count": null,
   "id": "66f5a799-0fd5-4b8b-b6f4-9ca790328534",
   "metadata": {},
   "outputs": [],
   "source": [
    "#-------------------------------------------------------------------------------\n",
    "# Get Ownership Id\n",
    "#-------------------------------------------------------------------------------\n",
    "owB = demo.get_ownership_id(userb_id_token)\n",
    "owA = demo.get_ownership_id(user_id_token)\n",
    "\n",
    "#-------------------------------------------------------------------------------\n",
    "# Finds the policy by retrieving a resource_id\n",
    "# Update policy with allowing access to UserB\n",
    "#-------------------------------------------------------------------------------\n",
    "ades_res=\"http://ades.resources.185.52.193.87.nip.io\"\n",
    "res_id = demo.get_resource_by_name(ades_res, \"s-expression-0_0_2\", user_id_token)\n",
    "data={'name':'Updated Execution','description':'modified','config':{'resource_id':'res_id','action':'view','rules':[{'OR':[{'EQUAL':{'id':'owA'}},{'EQUAL':{'id':'owB'}}]}]},'scopes':['protected_access']}\n",
    "pdp_url= \"http://test.185.52.193.87.nip.io/pdp\"\n",
    "resp, text= demo.update_policy(pdp_url, data, res_id, user_id_token)"
   ]
  },
  {
   "cell_type": "markdown",
   "id": "fc9d1944-34a9-4ad0-9c5b-ab78f27395ea",
   "metadata": {},
   "source": [
    "### UserB Executes Application Succesfully\n",
    "Shared resources can now be executed"
   ]
  },
  {
   "cell_type": "code",
   "execution_count": null,
   "id": "f556b987-6165-4005-861b-e306bf060f6c",
   "metadata": {},
   "outputs": [],
   "source": [
    "#-------------------------------------------------------------------------------\n",
    "# User B Execute Application Succesfully\n",
    "# Expected Value: 201\n",
    "#-------------------------------------------------------------------------------\n",
    "response, ades_access_token, job_location_path = demo.proc_execute_application(ades_proc_url, app_name, \"../data/app-execute-body.json\", id_token=userb_id_token, access_token=None)"
   ]
  },
  {
   "cell_type": "markdown",
   "id": "5a56a0a2-58c8-4f21-a342-a67d25e55ce4",
   "metadata": {},
   "source": [
    "## Workspace"
   ]
  },
  {
   "cell_type": "code",
   "execution_count": null,
   "id": "modern-terrorist",
   "metadata": {},
   "outputs": [],
   "source": [
    "# Init\n",
    "workspace_url = \"https://workspace-api.\" + base_domain\n",
    "workspace_access_token = None"
   ]
  },
  {
   "cell_type": "markdown",
   "id": "similar-savannah",
   "metadata": {},
   "source": [
    "### Workspace: Get Details"
   ]
  },
  {
   "cell_type": "code",
   "execution_count": null,
   "id": "naval-street",
   "metadata": {},
   "outputs": [],
   "source": [
    "# Workspace - Get Details\n",
    "workspace_name = \"rm-user-\" + USER_NAME.lower()\n",
    "response, workspace_access_token = demo.workspace_get_details(workspace_url, workspace_name, id_token=user_id_token, access_token=workspace_access_token)\n",
    "workspace_details = response.json()\n",
    "demo.response_summary(response)"
   ]
  },
  {
   "cell_type": "markdown",
   "id": "recent-collins",
   "metadata": {},
   "source": [
    "### Inspect S3 Bucket"
   ]
  },
  {
   "cell_type": "code",
   "execution_count": null,
   "id": "abstract-choir",
   "metadata": {},
   "outputs": [],
   "source": [
    "# Bucket details\n",
    "bucket_name = workspace_details[\"storage\"][\"credentials\"][\"bucketname\"]\n",
    "s3_access = workspace_details[\"storage\"][\"credentials\"][\"access\"]\n",
    "s3_secret = workspace_details[\"storage\"][\"credentials\"][\"secret\"]"
   ]
  },
  {
   "cell_type": "code",
   "execution_count": null,
   "id": "united-soviet",
   "metadata": {},
   "outputs": [],
   "source": [
    "# Quick hack S3 access\n",
    "import boto3\n",
    "\n",
    "# Init S3 session for Creodias\n",
    "S3_ENDPOINT = \"https://cf2.cloudferro.com:8080\"\n",
    "session = boto3.session.Session()\n",
    "s3resource = session.resource('s3', aws_access_key_id=s3_access, aws_secret_access_key=s3_secret, endpoint_url=S3_ENDPOINT)\n",
    "\n",
    "# List bucket contents\n",
    "bucket = s3resource.Bucket(bucket_name)\n",
    "for obj in bucket.objects.all():\n",
    "    print(' ->', obj)"
   ]
  },
  {
   "cell_type": "markdown",
   "id": "bored-visitor",
   "metadata": {},
   "source": [
    "## Results Consumption\n",
    "**TBD - Needs EOX/EOfarm support to elaborate this**<br>\n",
    "* Results discovery - User's resource catalogue (OpenSearch)\n",
    "* Results visualisation:\n",
    "  * Data access services\n",
    "  * QGIS"
   ]
  }
 ],
 "metadata": {
  "kernelspec": {
   "display_name": "Python 3",
   "language": "python",
   "name": "python3"
  },
  "language_info": {
   "codemirror_mode": {
    "name": "ipython",
    "version": 3
   },
   "file_extension": ".py",
   "mimetype": "text/x-python",
   "name": "python",
   "nbconvert_exporter": "python",
   "pygments_lexer": "ipython3",
   "version": "3.8.8"
  }
 },
 "nbformat": 4,
 "nbformat_minor": 5
}
