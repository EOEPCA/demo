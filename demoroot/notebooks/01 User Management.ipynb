{
 "cells": [
  {
   "cell_type": "markdown",
   "id": "fourth-founder",
   "metadata": {},
   "source": [
    "## User Management\n",
    "Interaction with EOEPCA endpoint using python Demo Client."
   ]
  },
  {
   "cell_type": "code",
   "execution_count": null,
   "id": "swiss-sender",
   "metadata": {},
   "outputs": [],
   "source": [
    "import utils.DemoClient as client\n",
    "import jwt\n",
    "import json\n",
    "import requests"
   ]
  },
  {
   "cell_type": "markdown",
   "id": "modular-wages",
   "metadata": {},
   "source": [
    "## Client\n",
    "We instantiate a client to interact with the platform. The client dynamically registers with the Authorisation Server to take part in UMA (User Managed Access) flows through which authorization is obtained for scoped access resources on behalf of the user."
   ]
  },
  {
   "cell_type": "code",
   "execution_count": null,
   "id": "freelance-glance",
   "metadata": {},
   "outputs": [],
   "source": [
    "#-------------------------------------------------------------------------------\n",
    "# Initialise client\n",
    "#-------------------------------------------------------------------------------\n",
    "base_domain = \"demo.eoepca.org\"\n",
    "platform_domain = \"test.\" + base_domain\n",
    "base_url = \"https://\" + platform_domain\n",
    "\n",
    "authorize_url = 'https://'+platform_domain+'/oxauth/restv1/authorize'\n",
    "token_url = 'https://'+platform_domain+'/oxauth/restv1/token'\n",
    "demo = client.DemoClient(base_url)\n",
    "demo.register_um_client()\n",
    "demo.save_state()"
   ]
  },
  {
   "cell_type": "markdown",
   "id": "usual-brazil",
   "metadata": {},
   "source": [
    "## User Authentication\n",
    "User authenticates and the client receives an ID Token (JWT) that represents the user, and is used to identify the user in UMA authorization flows."
   ]
  },
  {
   "cell_type": "markdown",
   "id": "southeast-office",
   "metadata": {},
   "source": [
    "### Authenticate"
   ]
  },
  {
   "cell_type": "code",
   "execution_count": null,
   "id": "incorporate-minutes",
   "metadata": {
    "tags": []
   },
   "outputs": [],
   "source": [
    "#-------------------------------------------------------------------------------\n",
    "# Authenticate as UserA and get ID Token\n",
    "#-------------------------------------------------------------------------------\n",
    "USER_NAME=\"demoA\"\n",
    "USER_PASSWORD=\"defaultPWD\"\n",
    "user_id_token = demo.get_id_token(USER_NAME, USER_PASSWORD)\n",
    "print(\"user_id_token:\", user_id_token)"
   ]
  },
  {
   "cell_type": "markdown",
   "id": "similar-dealer",
   "metadata": {},
   "source": [
    "### Inspect the ID Token"
   ]
  },
  {
   "cell_type": "code",
   "execution_count": null,
   "id": "governmental-balloon",
   "metadata": {},
   "outputs": [],
   "source": [
    "# Inspect ID Token\n",
    "jwt_header = jwt.get_unverified_header(user_id_token)\n",
    "jwt_payload = jwt.decode(user_id_token, options={\"verify_signature\": False})\n",
    "print(\"JWT Header:\", json.dumps(jwt_header, indent = 2), \"\\n---\\nJWT Payload:\", json.dumps(jwt_payload, indent = 2))"
   ]
  },
  {
   "cell_type": "markdown",
   "metadata": {},
   "source": [
    "The ID Token (JWT) identifies the user via user_name / sub (Subject) fields, and the client via the aud (Audience) field. The JWT is signed and can be verified, using the kid (Key ID) field, via the JWKS endpoint of the Authorization Server."
   ]
  },
  {
   "cell_type": "markdown",
   "id": "proper-origin",
   "metadata": {},
   "source": [
    "## External ID Provider Login"
   ]
  },
  {
   "cell_type": "markdown",
   "id": "6d323c53",
   "metadata": {},
   "source": [
    "The current External IdPs are GitHub and COIH, this test will apply the authorization code flow of OAuth2, where a first request to the authorization endpoint of the Login Service will return a code once the external user is authenticated. Afterwards the redirection will prompt a GitHub logo Image but in the url we can extract the code,that will be used to retrieve an access token. Copy the URL and proceed to next step"
   ]
  },
  {
   "cell_type": "code",
   "execution_count": null,
   "id": "92ffe37d",
   "metadata": {},
   "outputs": [],
   "source": [
    "from rauth import OAuth2Service\n",
    "client_id, client_secret = demo.get_client_credentials()\n",
    "\n",
    "scope = ['openid', 'email', 'user_name', 'is_operator']\n",
    "redirect_uri =base_url+ \"/oxauth/auth/passport/img/github.png\"\n",
    "code = None\n",
    "\n",
    "service = OAuth2Service(name=\"foo\", client_id=client_id, client_secret=client_secret, access_token_url=token_url, authorize_url=authorize_url, base_url=base_url)\n",
    "params = {'scope': scope,\n",
    "          'response_type': 'code',\n",
    "          'redirect_uri': redirect_uri,\n",
    "          'acr_values': 'passport_social'}\n",
    "\n",
    "url = service.get_authorize_url(**params)\n",
    "print(\"Link to Social Passport Login: \")\n",
    "print(url)"
   ]
  },
  {
   "cell_type": "markdown",
   "id": "efa4c78c",
   "metadata": {},
   "source": [
    "Here you will have to copy/paste the redirection once logged in to retrieve code and continue with the flow. An access token should result as output"
   ]
  },
  {
   "cell_type": "code",
   "execution_count": null,
   "id": "6e21d6ab",
   "metadata": {},
   "outputs": [],
   "source": [
    "code_url = input('Please paste redirect URL: ').strip()\n",
    "code = code_url.split('code=')[1].split('&')[0]\n",
    "data = {\n",
    "  'client_id': client_id,\n",
    "  'client_secret': client_secret,\n",
    "  'code': code,\n",
    "  'grant_type': 'authorization_code',\n",
    "  'redirect_uri': redirect_uri\n",
    "}\n",
    "response = requests.post(token_url, data=data)\n",
    "print(response.text)"
   ]
  },
  {
   "cell_type": "markdown",
   "id": "a6ce5766",
   "metadata": {},
   "source": [
    "## Access Protected Endpoint\n",
    "We perform an example access to an ADES resource.\n",
    "The ADES is protected by a PEP (Policy Enforcement Point). When accessing the protected endpoint the client follows a UMA (User Managed Access) flow to obtain authorized access on behalf of the user. The UMA flow utilises the ID Token to obtain a 'ticket' which can then be exchanged by the client for an access token (RPT - Relying Party Token) that acts as a short-lived (e.g. 5 mins) credential for the specific access by a specific client, to a specific resource, on behalf of a specific user."
   ]
  },
  {
   "cell_type": "code",
   "execution_count": null,
   "id": "95a5d91d",
   "metadata": {},
   "outputs": [],
   "source": [
    "#--------------------------\n",
    "#GET TICKET\n",
    "#--------------------------\n",
    "ades_res_proc_url = \"http://ades-pep.\" + base_domain + \"/authorize\" ; print(\"ADES API Processes endpoint:\", ades_res_proc_url)\n",
    "headers = { 'content-type': \"application/json\", \"cache-control\": \"no-cache\", \"Authorization\": \"Bearer \"+user_id_token}\n",
    "\n",
    "tkt = requests.get(ades_res_proc_url, headers=headers, verify=False)\n",
    "ticket = tkt.headers[\"WWW-Authenticate\"].split(\"ticket=\")[1]\n",
    "print(\"401 Unauthorized, ticket returned: \"+ticket)"
   ]
  },
  {
   "cell_type": "markdown",
   "id": "0af72643",
   "metadata": {},
   "source": [
    "Request RPT token from UMA endpoints giving a ticket and the user id_token"
   ]
  },
  {
   "cell_type": "code",
   "execution_count": null,
   "id": "3426dbf1",
   "metadata": {},
   "outputs": [],
   "source": [
    "#--------------------------\n",
    "#GET RPT\n",
    "#--------------------------\n",
    "token_ep= base_url + \"/oxauth/restv1/token\"\n",
    "client_id, client_secret = demo.get_client_credentials()\n",
    "data = \"claim_token_format=http://openid.net/specs/openid-connect-core-1_0.html#IDToken&claim_token=\"+user_id_token+\"&ticket=\"+ticket+\"&grant_type=urn%3Aietf%3Aparams%3Aoauth%3Agrant-type%3Auma-ticket&client_id=\"+client_id+\"&client_secret=\"+client_secret+\"&scope=openid\"\n",
    "headers= { 'Content-Type': 'application/x-www-form-urlencoded', 'cache-control': 'no-cache' }\n",
    "rpts_response = requests.post(token_ep, data=data, headers=headers, verify = False)\n",
    "rpt = rpts_response.json()[\"access_token\"]\n",
    "print(\"The UMA returns: \" + str(rpts_response))\n",
    "print(\"The RPT Token: \"+ str(rpt))"
   ]
  },
  {
   "cell_type": "markdown",
   "id": "32856e57",
   "metadata": {},
   "source": [
    "The access_token is returned and the access to the resource is retried with aproved credentials"
   ]
  },
  {
   "cell_type": "code",
   "execution_count": null,
   "id": "ce25d9e9",
   "metadata": {},
   "outputs": [],
   "source": [
    "#--------------------------\n",
    "#ACCESS TO RESOURCE (NO TICKET RETURNED)\n",
    "#--------------------------\n",
    "headers = { 'content-type': \"application/json\", \"cache-control\": \"no-cache\", \"Authorization\": \"Bearer \"+rpt}\n",
    "tkt = requests.get(ades_res_proc_url, headers=headers, verify=False)\n",
    "print(\"Retrying access to resource with proper token: \"+ str(tkt))"
   ]
  }
 ],
 "metadata": {
  "kernelspec": {
   "display_name": "Python 3",
   "language": "python",
   "name": "python3"
  },
  "language_info": {
   "codemirror_mode": {
    "name": "ipython",
    "version": 3
   },
   "file_extension": ".py",
   "mimetype": "text/x-python",
   "name": "python",
   "nbconvert_exporter": "python",
   "pygments_lexer": "ipython3",
   "version": "3.8.8"
  }
 },
 "nbformat": 4,
 "nbformat_minor": 5
}
