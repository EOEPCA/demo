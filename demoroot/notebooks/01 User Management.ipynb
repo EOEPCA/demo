{
 "cells": [
  {
   "cell_type": "markdown",
   "id": "innocent-inquiry",
   "metadata": {},
   "source": [
    "## User Management\n",
    "Interaction with EOEPCA endpoint using python Demo Client."
   ]
  },
  {
   "cell_type": "code",
   "execution_count": null,
   "id": "concrete-labor",
   "metadata": {},
   "outputs": [],
   "source": [
    "import utils.DemoClient as client\n",
    "import jwt\n",
    "import json"
   ]
  },
  {
   "cell_type": "markdown",
   "id": "original-paragraph",
   "metadata": {},
   "source": [
    "## Client\n",
    "We instantiate a client to interact with the platform. The client dynamically registers with the Authorisation Server to take part in UMA (User Managed Access) flows through which authorization is obtained for scoped access resources on behalf of the user."
   ]
  },
  {
   "cell_type": "code",
   "execution_count": null,
   "id": "light-nicaragua",
   "metadata": {},
   "outputs": [],
   "source": [
    "#-------------------------------------------------------------------------------\n",
    "# Initialise client\n",
    "#-------------------------------------------------------------------------------\n",
    "base_domain = \"185.52.193.87.nip.io\"\n",
    "platform_domain = \"test.\" + base_domain\n",
    "base_url = \"https://\" + platform_domain\n",
    "demo = client.DemoClient(base_url)\n",
    "demo.register_client()\n",
    "demo.save_state()"
   ]
  },
  {
   "cell_type": "markdown",
   "id": "global-retrieval",
   "metadata": {},
   "source": [
    "## User Authentication\n",
    "User authenticates and the client receives an ID Token (JWT) that represents the user, and is used to identify the user in UMA authorization flows."
   ]
  },
  {
   "cell_type": "markdown",
   "id": "acoustic-standing",
   "metadata": {},
   "source": [
    "### Authenticate"
   ]
  },
  {
   "cell_type": "code",
   "execution_count": null,
   "id": "concrete-cartoon",
   "metadata": {
    "tags": []
   },
   "outputs": [],
   "source": [
    "#-------------------------------------------------------------------------------\n",
    "# Authenticate as UserA and get ID Token\n",
    "#-------------------------------------------------------------------------------\n",
    "USER_NAME=\"UserA\"\n",
    "USER_PASSWORD=\"defaultPWD\"\n",
    "user_id_token = demo.get_id_token(USER_NAME, USER_PASSWORD)\n",
    "print(\"user_id_token:\", user_id_token)"
   ]
  },
  {
   "cell_type": "markdown",
   "id": "suspended-proxy",
   "metadata": {},
   "source": [
    "### Inspect the ID Token"
   ]
  },
  {
   "cell_type": "code",
   "execution_count": null,
   "id": "numeric-title",
   "metadata": {},
   "outputs": [],
   "source": [
    "# Inspect ID Token\n",
    "jwt_header = jwt.get_unverified_header(user_id_token)\n",
    "jwt_payload = jwt.decode(user_id_token, options={\"verify_signature\": False})\n",
    "print(\"JWT Header:\", json.dumps(jwt_header, indent = 2), \"\\n---\\nJWT Payload:\", json.dumps(jwt_payload, indent = 2))"
   ]
  },
  {
   "cell_type": "markdown",
   "id": "grateful-quality",
   "metadata": {},
   "source": [
    "The ID Token (JWT) identifies the user via user_name / sub (Subject) fields, and the client via the aud (Audience) field. The JWT is signed and can be verified, using the kid (Key ID) field, via the JWKS endpoint of the Authorization Server."
   ]
  },
  {
   "cell_type": "markdown",
   "id": "weird-surprise",
   "metadata": {},
   "source": [
    "## Access Protected Endpoint\n",
    "We perform an example access to an ADES resource.\n",
    "The ADES is protected by a PEP (Policy Enforcement Point). When accessing the protected endpoint the client follows a UMA (User Managed Access) flow to obtain authorized access on behalf of the user. The UMA flow utilises the ID Token to obtain a 'ticket' which can then be exchanged by the client for an access token (RPT - Relying Party Token) that acts as a short-lived (e.g. 5 mins) credential for the specific access by a specific client, to a specific resource, on behalf of a specific user."
   ]
  },
  {
   "cell_type": "code",
   "execution_count": null,
   "id": "choice-secretary",
   "metadata": {},
   "outputs": [],
   "source": [
    "# Call ADES 'List Processes' endpoint\n",
    "ades_proc_url = \"http://ades.\" + platform_domain + \"/\" + USER_NAME + \"/wps3\"; print(\"ADES API Processes endpoint:\", ades_proc_url)\n",
    "\n",
    "trace = demo.trace_flow; demo.trace_flow = True\n",
    "response, process_ids, access_token = demo.proc_list_processes(ades_proc_url, id_token=user_id_token)\n",
    "demo.trace_flow = trace"
   ]
  },
  {
   "cell_type": "code",
   "execution_count": null,
   "id": "individual-feedback",
   "metadata": {},
   "outputs": [],
   "source": [
    "# List of processes returned...\n",
    "print(\"Processes:\", process_ids)"
   ]
  }
 ],
 "metadata": {
  "kernelspec": {
   "display_name": "Python 3",
   "language": "python",
   "name": "python3"
  },
  "language_info": {
   "codemirror_mode": {
    "name": "ipython",
    "version": 3
   },
   "file_extension": ".py",
   "mimetype": "text/x-python",
   "name": "python",
   "nbconvert_exporter": "python",
   "pygments_lexer": "ipython3",
   "version": "3.8.8"
  }
 },
 "nbformat": 4,
 "nbformat_minor": 5
}
