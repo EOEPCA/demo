{
 "cells": [
  {
   "cell_type": "markdown",
   "id": "fourth-founder",
   "metadata": {},
   "source": [
    "## User Management\n",
    "Interaction with EOEPCA endpoint using python Demo Client."
   ]
  },
  {
   "cell_type": "code",
   "execution_count": null,
   "id": "swiss-sender",
   "metadata": {},
   "outputs": [],
   "source": [
    "import utils.DemoClient as client\n",
    "import jwt\n",
    "import json\n",
    "import requests\n",
    "from rauth import OAuth2Service"
   ]
  },
  {
   "cell_type": "markdown",
   "id": "modular-wages",
   "metadata": {},
   "source": [
    "## Client\n",
    "We instantiate a client to interact with the platform. The client dynamically registers with the Authorisation Server to take part in UMA (User Managed Access) flows through which authorization is obtained for scoped access resources on behalf of the user."
   ]
  },
  {
   "cell_type": "code",
   "execution_count": null,
   "id": "freelance-glance",
   "metadata": {},
   "outputs": [],
   "source": [
    "#-------------------------------------------------------------------------------\n",
    "# Initialise client\n",
    "#-------------------------------------------------------------------------------\n",
    "base_domain= \"demo.eoepca.org\"\n",
    "platform_domain= \"auth.\" + base_domain\n",
    "base_url= \"https://\" + platform_domain\n",
    "dummy_serv= \"https://dummy-service.\" + base_domain\n",
    "dummy_pep_auth= \"http://dummy-service-pep.\" + base_domain + \"/authorize\"\n",
    "dummy_pep_api= \"http://dummy-service-pepapi.\" + base_domain\n",
    "pdp_url= \"http://\" + platform_domain + \"/pdp\"\n",
    "authorize_url= 'https://' + platform_domain + '/oxauth/restv1/authorize'\n",
    "token_url= 'https://' + platform_domain + '/oxauth/restv1/token'\n",
    "redirect_uri_for_github= f\"https://{platform_domain}/oxauth/auth/passport/img/github.png\"\n",
    "demo= client.DemoClient(base_url)\n",
    "demo.register_client([redirect_uri_for_github])\n",
    "demo.save_state()"
   ]
  },
  {
   "cell_type": "markdown",
   "id": "usual-brazil",
   "metadata": {},
   "source": [
    "## User Authentication\n",
    "User authenticates and the client receives an ID Token (JWT) that represents the user, and is used to identify the user in UMA authorization flows."
   ]
  },
  {
   "cell_type": "markdown",
   "id": "southeast-office",
   "metadata": {},
   "source": [
    "### Authenticate"
   ]
  },
  {
   "cell_type": "code",
   "execution_count": null,
   "id": "incorporate-minutes",
   "metadata": {
    "tags": []
   },
   "outputs": [],
   "source": [
    "#-------------------------------------------------------------------------------\n",
    "# Authenticate as Eric (isOperator: True) and get ID Token\n",
    "#-------------------------------------------------------------------------------\n",
    "USER_NAME= \"eric\"\n",
    "USER_PASSWORD= \"defaultPWD\"\n",
    "operator_id_token= demo.get_id_token(USER_NAME, USER_PASSWORD)\n",
    "print(\"operator_id_token:\", operator_id_token)\n",
    "\n",
    "client_id, client_secret= demo.get_client_credentials()"
   ]
  },
  {
   "cell_type": "markdown",
   "id": "similar-dealer",
   "metadata": {},
   "source": [
    "### Inspect the ID Token"
   ]
  },
  {
   "cell_type": "code",
   "execution_count": null,
   "id": "governmental-balloon",
   "metadata": {},
   "outputs": [],
   "source": [
    "# Inspect ID Token\n",
    "jwt_header= jwt.get_unverified_header(operator_id_token)\n",
    "jwt_payload= jwt.decode(operator_id_token, options={\"verify_signature\": False})\n",
    "print(\"JWT Header:\", json.dumps(jwt_header, indent = 2), \"\\n---\\nJWT Payload:\", json.dumps(jwt_payload, indent = 2))\n",
    "operator_UID= jwt_payload[\"sub\"]"
   ]
  },
  {
   "cell_type": "markdown",
   "id": "0ecd3577",
   "metadata": {},
   "source": [
    "The ID Token (JWT) identifies the user via user_name / sub (Subject) fields, and the client via the aud (Audience) field. The JWT is signed and can be verified, using the kid (Key ID) field, via the JWKS endpoint of the Authorization Server."
   ]
  },
  {
   "cell_type": "markdown",
   "id": "proper-origin",
   "metadata": {},
   "source": [
    "## External ID Provider Login"
   ]
  },
  {
   "cell_type": "markdown",
   "id": "6d323c53",
   "metadata": {},
   "source": [
    "The current External IdPs are GitHub and COIH, this test will apply the authorization code flow of OAuth2, where a first request to the authorization endpoint of the Login Service will return a code once the external user is authenticated. Afterwards the redirection will prompt a GitHub logo Image but in the url we can extract the code,that will be used to retrieve an access token. Copy the URL and proceed to next step"
   ]
  },
  {
   "cell_type": "code",
   "execution_count": null,
   "id": "92ffe37d",
   "metadata": {},
   "outputs": [],
   "source": [
    "#--------------------------\n",
    "#LINK TO SOCIAL PASSPORT\n",
    "#--------------------------\n",
    "\n",
    "scope= ['openid', 'email', 'user_name', 'is_operator']\n",
    "service= OAuth2Service(name=\"foo\", client_id=client_id, client_secret=client_secret, access_token_url=token_url, authorize_url=authorize_url, base_url=base_url)\n",
    "params= {'scope': scope,'response_type': 'code','redirect_uri': redirect_uri_for_github,'acr_values': 'passport_social'}\n",
    "\n",
    "url= service.get_authorize_url(**params)\n",
    "print(\"Link to Social Passport Login: (Login using GitHub option)\")\n",
    "print(url)"
   ]
  },
  {
   "cell_type": "markdown",
   "id": "efa4c78c",
   "metadata": {},
   "source": [
    "Here you will have to copy/paste the redirection once logged in to retrieve code and continue with the flow. An access token should result as output"
   ]
  },
  {
   "cell_type": "code",
   "execution_count": null,
   "id": "6e21d6ab",
   "metadata": {},
   "outputs": [],
   "source": [
    "#--------------------------\n",
    "#TOKEN RETRIEVAL\n",
    "#--------------------------\n",
    "code_url= input('Please paste redirect URL: ').strip()\n",
    "code= code_url.split('code=')[1].split('&')[0]\n",
    "data= {'client_id': client_id, 'client_secret': client_secret, 'code': code, 'grant_type': 'authorization_code', 'redirect_uri': redirect_uri_for_github}\n",
    "response= requests.post(token_url, data=data)\n",
    "print(response.text)"
   ]
  },
  {
   "cell_type": "markdown",
   "id": "a6ce5766",
   "metadata": {},
   "source": [
    "## Access Protected Endpoint\n",
    "We perform an example access to an ADES resource.\n",
    "The ADES is protected by a PEP (Policy Enforcement Point). When accessing the protected endpoint the client follows a UMA (User Managed Access) flow to obtain authorized access on behalf of the user. The UMA flow utilises the ID Token to obtain a 'ticket' which can then be exchanged by the client for an access token (RPT - Relying Party Token) that acts as a short-lived (e.g. 5 mins) credential for the specific access by a specific client, to a specific resource, on behalf of a specific user.\n",
    "The use case will perform an update to the policy associated to the resource in order to allow access to a non operator user, external to the resource."
   ]
  },
  {
   "cell_type": "markdown",
   "id": "1fc1e54c",
   "metadata": {},
   "source": [
    "### Resource Insertion\n",
    "The authenticated user must be an operator to realize this operation.\n",
    "A call to the PEP resource API is done in order to include a new resource for the demo into the database. This resource has protected scope so only the operator user is able to access it.\n",
    "If that resource already exists a 422 response will be returned."
   ]
  },
  {
   "cell_type": "code",
   "execution_count": null,
   "id": "7b822ca4",
   "metadata": {},
   "outputs": [],
   "source": [
    "#--------------------------\n",
    "#INSERT PROTECTED RESOURCE\n",
    "#--------------------------\n",
    "uri= \"/demo/testResource\"\n",
    "data= '{\"icon_uri\":\"'+uri+'\",\"name\":\"DemoResource\",\"scopes\":[\"protected_access\"]}'\n",
    "headers= {'Content-Type': 'application/json, Authorization: Bearer '+ operator_id_token}\n",
    "response= requests.post(dummy_pep_api+'/resources', headers=headers, data=data, verify=False)\n",
    "print(\"Resource Insertion with code: \" + str(response))\n",
    "\n",
    "#--------------------------\n",
    "#RESOURCE PUBLIC VISUALIZATION-->Query the resource endpoint to check if the resource is inserted\n",
    "#--------------------------\n",
    "operation_headers= { 'content-type': \"application/x-www-form-urlencoded\", \"cache-control\": \"no-cache\", \"Authorization\": \"Bearer \"+operator_id_token}\n",
    "res= requests.get(dummy_pep_api +\"/resources\"+\"?path=\"+uri, headers=headers, verify=False)\n",
    "k= res.json()\n",
    "print(\"Resource found in database: \" + str(k))"
   ]
  },
  {
   "cell_type": "markdown",
   "id": "1c3eb450",
   "metadata": {},
   "source": [
    "### Operator successful access to resource\n",
    "The operator will perform the UMA Flow to prove a successful access to the resource created."
   ]
  },
  {
   "cell_type": "code",
   "execution_count": null,
   "id": "95a5d91d",
   "metadata": {},
   "outputs": [],
   "source": [
    "#--------------------------\n",
    "#GET TICKET-->Naive request to resource with no authorization, ticket returned\n",
    "#--------------------------\n",
    "rpt= None\n",
    "print(\"ADES API Processes endpoint:\", dummy_pep_auth)\n",
    "ticket_headers_oper= { 'content-type': \"application/json\", \"cache-control\": \"no-cache\", \"Authorization\": \"Bearer \" + operator_id_token, \"X-Original-Uri\": uri }\n",
    "tkt= requests.get(dummy_pep_auth, headers=ticket_headers_oper, verify=False)\n",
    "ticket= tkt.headers[\"WWW-Authenticate\"].split(\"ticket=\")[1]\n",
    "print(\"401 Unauthorized, ticket returned: \" + ticket)\n",
    "\n",
    "#--------------------------\n",
    "#GET RPT-->Request RPT token from UMA endpoints giving a ticket and the user id_token\n",
    "#--------------------------\n",
    "data= \"claim_token_format=http://openid.net/specs/openid-connect-core-1_0.html#IDToken&claim_token=\"+operator_id_token+\"&ticket=\"+ticket+\"&grant_type=urn%3Aietf%3Aparams%3Aoauth%3Agrant-type%3Auma-ticket&client_id=\"+client_id+\"&client_secret=\"+client_secret+\"&scope=openid\"\n",
    "rpt_headers= { 'Content-Type': 'application/x-www-form-urlencoded', 'cache-control': 'no-cache' }\n",
    "rpts_response= requests.post(token_url, data=data, headers=rpt_headers, verify = False)\n",
    "rpt= rpts_response.json()[\"access_token\"]\n",
    "print(\"The UMA returns: \" + str(rpts_response) + \" with a RPT UMA Token: \" + str(rpt))\n",
    "\n",
    "#--------------------------\n",
    "#ACCESS TO RESOURCE-->The access_token is returned and the request to the resource is retried with approved credentials\n",
    "#--------------------------\n",
    "headers= { 'content-type': \"application/json\", \"cache-control\": \"no-cache\", \"Authorization\": \"Bearer \"+rpt, \"X-Original-Uri\": uri}\n",
    "resource_access= requests.get(dummy_pep_auth, headers=headers, verify=False)\n",
    "print(\"Retrying access to resource with proper token: \" + str(resource_access))"
   ]
  },
  {
   "cell_type": "markdown",
   "id": "59ccc8eb",
   "metadata": {},
   "source": [
    "### Non Operator denied access to resource\n",
    "The Alice user (not an operator) will perform the UMA Flow to prove an unsuccessful attempt to resource access.\n",
    "The Login Service will call the PDP to check if the policy associated to the resource allows access to Alice. Once the PDP checks the resource is not accessible by Alice, the RPT request will respond with a 403 Forbidden by Policy"
   ]
  },
  {
   "cell_type": "code",
   "execution_count": null,
   "id": "8b6f3200",
   "metadata": {},
   "outputs": [],
   "source": [
    "#--------------------------\n",
    "#USER AUTH\n",
    "#--------------------------\n",
    "USER_NAME= \"alice\"\n",
    "USER_PASSWORD= \"defaultPWD\"\n",
    "alice_id_token= demo.get_id_token(USER_NAME, USER_PASSWORD)\n",
    "alice_UID= jwt.decode(alice_id_token, options={\"verify_signature\": False})[\"sub\"]\n",
    "\n",
    "#--------------------------\n",
    "#GET TICKET--> 401\n",
    "#--------------------------\n",
    "ticket_headers_alice= { 'content-type': \"application/json\", \"cache-control\": \"no-cache\", \"Authorization\": \"Bearer \"+alice_id_token, \"X-Original-Uri\": uri}\n",
    "tkt= requests.get(dummy_pep_auth, headers=ticket_headers_alice, verify=False)\n",
    "ticket= tkt.headers[\"WWW-Authenticate\"].split(\"ticket=\")[1]\n",
    "print(\"401 Unauthorized, ticket returned: \" + str(ticket))\n",
    "#--------------------------\n",
    "#GET RPT--> 403\n",
    "#--------------------------\n",
    "data= \"claim_token_format=http://openid.net/specs/openid-connect-core-1_0.html#IDToken&claim_token=\"+alice_id_token+\"&ticket=\"+ticket+\"&grant_type=urn%3Aietf%3Aparams%3Aoauth%3Agrant-type%3Auma-ticket&client_id=\"+client_id+\"&client_secret=\"+client_secret+\"&scope=openid\"\n",
    "rpts_response= requests.post(token_url, data=data, headers=rpt_headers, verify = False)\n",
    "print(\"Expected to be forbidden for non operator user (403 code): \" + str(rpts_response))"
   ]
  },
  {
   "cell_type": "markdown",
   "id": "9709f99c",
   "metadata": {},
   "source": [
    "### Update Policy\n",
    "The operator user who is the resource owner will perform a call to the PDP to update the policy associated to that resource to include access to Alice"
   ]
  },
  {
   "cell_type": "code",
   "execution_count": null,
   "id": "fe392eb4",
   "metadata": {},
   "outputs": [],
   "source": [
    "#--------------------------\n",
    "#UPDATE POLICY--> 200\n",
    "#--------------------------\n",
    "data= {'name':'Updated Policy for Demo Resource','description':'Policy modified for demo purpose','config':{'resource_id':k[\"_id\"] ,'action':'get','rules':[{'OR':[{'EQUAL':{'id':operator_UID}},{'EQUAL':{'id':alice_UID}}]}]},'scopes':['protected_access']}\n",
    "resp, text= demo.update_policy(pdp_url, data, k[\"_id\"], operator_id_token)\n",
    "print(resp)"
   ]
  },
  {
   "cell_type": "markdown",
   "id": "488cc02c",
   "metadata": {},
   "source": [
    "### Non Operator successful access to resource\n",
    "With the new policy the user Alice will perform the same request to the resource but now with granted access."
   ]
  },
  {
   "cell_type": "code",
   "execution_count": null,
   "id": "309be048",
   "metadata": {},
   "outputs": [],
   "source": [
    "#--------------------------\n",
    "#GET TICKET--> 401\n",
    "#--------------------------\n",
    "tkt= requests.get(dummy_pep_auth, headers=ticket_headers_alice, verify=False)\n",
    "ticket= tkt.headers[\"WWW-Authenticate\"].split(\"ticket=\")[1]\n",
    "print(\"401 Unauthorized, ticket returned: \" + ticket)\n",
    "#--------------------------\n",
    "#GET RPT--> 200\n",
    "#--------------------------\n",
    "data= \"claim_token_format=http://openid.net/specs/openid-connect-core-1_0.html#IDToken&claim_token=\"+alice_id_token+\"&ticket=\"+ticket+\"&grant_type=urn%3Aietf%3Aparams%3Aoauth%3Agrant-type%3Auma-ticket&client_id=\"+client_id+\"&client_secret=\"+client_secret+\"&scope=openid\"\n",
    "rpts_response= requests.post(token_url, data=data, headers=rpt_headers, verify = False)\n",
    "rpt= rpts_response.json()[\"access_token\"]\n",
    "print(\"The UMA returns: \" + str(rpts_response) + \" with a RPT UMA Token\" + str(rpt))\n",
    "#--------------------------\n",
    "#ACCESS TO RESOURCE--> 200\n",
    "#--------------------------\n",
    "headers= { 'content-type': \"application/json\", \"cache-control\": \"no-cache\", \"Authorization\": \"Bearer \"+rpt, \"X-Original-Uri\": uri}\n",
    "tkt= requests.get(dummy_pep_auth, headers=headers, verify=False)\n",
    "print(\"Retrying access to resource with proper token: \" + str(tkt))"
   ]
  },
  {
   "attachments": {},
   "cell_type": "markdown",
   "id": "82e6349d",
   "metadata": {},
   "source": [
    "### Open Resource Insertion\n",
    "The operator will insert a new resource with `open` scope. This will allow to any non authenticated person to access the resource, which means that no authorization header needs to be added in the request. The registration of open resources will still be limited only to operators to avoid unwanted insertions.\n",
    "After the insertion the resources endpoint will be called to list all resources accesible by the operator, which will list the protected and the open resource used in the current Notebook"
   ]
  },
  {
   "cell_type": "code",
   "execution_count": null,
   "id": "d2da6b87",
   "metadata": {},
   "outputs": [],
   "source": [
    "#--------------------------\n",
    "#INSERT OPEN RESOURCE\n",
    "#--------------------------\n",
    "open_uri= uri + \"/openException\"\n",
    "data= '{\"icon_uri\":\"'+open_uri+'\",\"name\":\"OpenResource\",\"resource_scopes\":[\"open\"]}'\n",
    "headers= {'Content-Type': 'application/json, Authorization: Bearer '+ operator_id_token}\n",
    "response= requests.post(dummy_pep_api+'/resources', headers=headers, data=data, verify=False)\n",
    "print(\"Resource Insertion with code: \" + str(response))\n",
    "\n",
    "#--------------------------\n",
    "#RESOURCE OPEN VISUALIZATION-->Query the resource endpoint to check if the open resource is inserted as an operator\n",
    "#--------------------------\n",
    "operation_headers= { 'content-type': \"application/x-www-form-urlencoded\", \"cache-control\": \"no-cache\", \"Authorization\": \"Bearer \"+operator_id_token}\n",
    "res= requests.get(dummy_pep_api +\"/resources\", headers=headers, verify=False)\n",
    "k= res.json()\n",
    "print(\"All resources accesible by the user found in database: \")\n",
    "print(str(k))"
   ]
  },
  {
   "attachments": {},
   "cell_type": "markdown",
   "id": "ce90b508",
   "metadata": {},
   "source": [
    "### Non-Authenticated Access to resources\n",
    "In this case, a person outside the identity platform will try to access the two resources. The person will first list all open resources by interacting with the PEP resource API and then will check the protection in both cases by accessing the resources. First an attempt to the protected one, which will imply an Unauthorized response from the PEP. Finally a call to the open resource that will result in a direct redirection to the resource and a 200 status code. Note that the user wont use this time any Authorization header on the request to the services."
   ]
  },
  {
   "cell_type": "code",
   "execution_count": null,
   "outputs": [],
   "source": [
    "#--------------------------\n",
    "#RESOURCE OPEN VISUALIZATION-->Query the resource endpoint to check if the open resource is visible by non authenticated person (no token required)\n",
    "#--------------------------\n",
    "res= requests.get(dummy_pep_api +\"/resources\", verify=False)\n",
    "k= res.json()\n",
    "print(\"Open resource found in database: \")\n",
    "print(str(k))\n",
    "\n",
    "#--------------------------\n",
    "#PROTECTED ACCESS TO RESOURCE BY NON AUTHENTICATED PERSON-->Query the protected resource to check if the non authenticated person has access (401 expected)\n",
    "#--------------------------\n",
    "a= requests.get(dummy_serv + uri, verify=False)\n",
    "print(\"Unauthorize access to protected resource (no token passed), expected 401: \"+ str(a))\n",
    "\n",
    "#--------------------------\n",
    "#OPEN ACCESS TO RESOURCE BY NON AUTHENTICATED PERSON-->Query the protected resource to check if the non authenticated person has access (200 expected)\n",
    "#--------------------------\n",
    "a= requests.get(dummy_serv + open_uri, verify=False)\n",
    "print(\"Unauthorize access to open resource (no token passed), expected 200: \"+ str(a))"
   ],
   "metadata": {
    "collapsed": false
   }
  },
  {
   "cell_type": "markdown",
   "source": [
    "### Terms and conditions"
   ],
   "metadata": {
    "collapsed": false
   }
  },
  {
   "cell_type": "code",
   "execution_count": null,
   "outputs": [],
   "source": [
    "USER_NAME= \"eric\"\n",
    "USER_PASSWORD= \"defaultPWD\"\n",
    "operator_id_token= demo.get_id_token(USER_NAME, USER_PASSWORD)\n",
    "uri = \"/demo-terms-conditions\"\n",
    "print(\"dummy_pep_api \" + (dummy_pep_api+'/resources'))\n",
    "data = '{\"icon_uri\":\"'+uri+'\",\"name\":\"TermsConditionsResource\",\"scopes\":[\"protected_access\"],\"T&C\":{\"term_id\": \"This is a term id\",\"term_description\": \"This is a term description\"}}'\n",
    "headers = {'Content-Type': 'application/json, Authorization: Bearer '+ operator_id_token}\n",
    "response = requests.post(dummy_pep_api+'/resources', headers=headers, data=data, verify=False)\n",
    "print(\"Resource Insertion with code (200 is ok, 422 is resource already inserted): \" + str(response))"
   ],
   "metadata": {
    "collapsed": false
   }
  }
 ],
 "metadata": {
  "kernelspec": {
   "display_name": "Python 3",
   "language": "python",
   "name": "python3"
  },
  "language_info": {
   "codemirror_mode": {
    "name": "ipython",
    "version": 3
   },
   "file_extension": ".py",
   "mimetype": "text/x-python",
   "name": "python",
   "nbconvert_exporter": "python",
   "pygments_lexer": "ipython3",
   "version": "3.9.2"
  }
 },
 "nbformat": 4,
 "nbformat_minor": 5
}
