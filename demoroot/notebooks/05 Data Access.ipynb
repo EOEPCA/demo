{
 "cells": [
  {
   "cell_type": "markdown",
   "id": "788a6dc1-ec4c-48aa-a3b8-d0de349c418a",
   "metadata": {},
   "source": [
    "## Data Access demo"
   ]
  },
  {
   "cell_type": "markdown",
   "id": "88d55bcb-6eba-4ac3-af24-67c5d286921f",
   "metadata": {},
   "source": [
    "[OWSLib](https://geopython.github.io/OWSLib) is a Python package for client programming with Open Geospatial Consortium (OGC) web service (hence OWS) interface standards, and their related content models. In this demo we’ll work with the CSW, WMS and WCS interfaces."
   ]
  },
  {
   "cell_type": "code",
   "execution_count": null,
   "id": "bfc4d810-e4c0-42a4-9af7-d1290e510671",
   "metadata": {},
   "outputs": [],
   "source": [
    "from owslib.csw import CatalogueServiceWeb\n",
    "from owslib.wms import WebMapService\n",
    "from owslib.wcs import WebCoverageService\n",
    "import lxml.etree\n",
    "import requests"
   ]
  },
  {
   "cell_type": "markdown",
   "id": "a23a0f74-e8d4-4996-bf7c-dc4f373a0263",
   "metadata": {},
   "source": [
    "### Data Discovery"
   ]
  },
  {
   "cell_type": "markdown",
   "id": "a4e2ded5-4098-40b5-b1f9-43c5ee595a19",
   "metadata": {},
   "source": [
    "The user has already discovered the dataset to use by using the OWSLib CSW client"
   ]
  },
  {
   "cell_type": "code",
   "execution_count": null,
   "id": "1aecf9b0-f7ba-4f0e-ab8d-0641b9cb14bb",
   "metadata": {},
   "outputs": [],
   "source": [
    "system_endpoint = 'https://resource-catalogue.185.52.193.87.nip.io/'"
   ]
  },
  {
   "cell_type": "code",
   "execution_count": null,
   "id": "fbf34343-f261-4e0e-a9a2-77c33c3c209e",
   "metadata": {},
   "outputs": [],
   "source": [
    "csw = CatalogueServiceWeb(system_endpoint,timeout=30)"
   ]
  },
  {
   "cell_type": "code",
   "execution_count": null,
   "id": "e77e8868-8dad-4e89-845f-1aabecfb608a",
   "metadata": {},
   "outputs": [],
   "source": [
    "#scene_id='S2B_MSIL2A_20200902T090559_N0214_R050_T34SGH_20200902T113910.SAFE'\n",
    "scene_id='S2B_MSIL1C_20210402T095029_N0300_R079_T33SVB_20210402T121737.SAFE'"
   ]
  },
  {
   "cell_type": "code",
   "execution_count": null,
   "id": "1bdb298b-6c51-4b64-888c-1209eeb04bdc",
   "metadata": {},
   "outputs": [],
   "source": [
    "csw.getrecordbyid(id=[scene_id])"
   ]
  },
  {
   "cell_type": "code",
   "execution_count": null,
   "id": "50132833-1859-4275-b927-c3d8bc2e1652",
   "metadata": {},
   "outputs": [],
   "source": [
    "links = csw.records[scene_id].references"
   ]
  },
  {
   "cell_type": "code",
   "execution_count": null,
   "id": "1db7fe6a-ff76-4293-bd11-78b9e969e97a",
   "metadata": {},
   "outputs": [],
   "source": [
    "for link in links:\n",
    "    scheme = link['scheme']\n",
    "    if 'WMS' in scheme:\n",
    "        wms_endpoint=link['url']\n",
    "        print(link['url'])"
   ]
  },
  {
   "cell_type": "markdown",
   "id": "1c637632-a9df-4675-b848-3cf972d0db56",
   "metadata": {},
   "source": [
    "### Data Visualization"
   ]
  },
  {
   "cell_type": "markdown",
   "id": "014dbb9a-0456-4bb0-8d27-03d221f86fcc",
   "metadata": {},
   "source": [
    "After discovering the dataset, the user can identify the WMS link and use the OWSLib WMs client to visualize the dataset"
   ]
  },
  {
   "cell_type": "code",
   "execution_count": null,
   "id": "21f7e4ca-08b7-4322-b927-16a169a0c9e6",
   "metadata": {},
   "outputs": [],
   "source": [
    "wms = WebMapService(wms_endpoint, version='1.3.0')"
   ]
  },
  {
   "cell_type": "markdown",
   "id": "84b197f6-8bf5-4f6c-b515-5e9785fb5380",
   "metadata": {},
   "source": [
    "The list of layers available to the WMS service:"
   ]
  },
  {
   "cell_type": "code",
   "execution_count": null,
   "id": "2118d6f4-1691-4d52-8893-f15c1810c394",
   "metadata": {},
   "outputs": [],
   "source": [
    "list(wms.contents)"
   ]
  },
  {
   "cell_type": "markdown",
   "id": "66364a99-a19a-4226-b7c1-bf4864eed492",
   "metadata": {},
   "source": [
    "Along with some WMS layer metadata:"
   ]
  },
  {
   "cell_type": "code",
   "execution_count": null,
   "id": "bd3ebb32-91fb-4799-9d34-3988fc86960c",
   "metadata": {},
   "outputs": [],
   "source": [
    "wms[scene_id].title"
   ]
  },
  {
   "cell_type": "code",
   "execution_count": null,
   "id": "56ce9bc3-84d4-4f1c-9b4a-a4469bd92ca4",
   "metadata": {},
   "outputs": [],
   "source": [
    "wms[scene_id].boundingBoxWGS84"
   ]
  },
  {
   "cell_type": "code",
   "execution_count": null,
   "id": "fd2ad968-25d5-46f7-bc13-92a49a3eba55",
   "metadata": {},
   "outputs": [],
   "source": [
    "[op.name for op in wms.operations]"
   ]
  },
  {
   "cell_type": "code",
   "execution_count": null,
   "id": "f24b8ddd-bfb5-4bc3-814c-eb385e8f8de4",
   "metadata": {},
   "outputs": [],
   "source": [
    "wms[scene_id].styles"
   ]
  },
  {
   "cell_type": "code",
   "execution_count": null,
   "id": "2739a43b-9848-4f63-821a-982aac96871c",
   "metadata": {},
   "outputs": [],
   "source": [
    "wms.getOperationByName('GetMap').formatOptions"
   ]
  },
  {
   "cell_type": "markdown",
   "id": "c169650b-9a81-4922-999c-cf8ff158b40c",
   "metadata": {},
   "source": [
    "The user can visualize the WMS GetMap request from matplotlib"
   ]
  },
  {
   "cell_type": "code",
   "execution_count": null,
   "id": "96523864-81cb-4ce8-a4d2-d8b23b632b3e",
   "metadata": {},
   "outputs": [],
   "source": [
    "%matplotlib inline\n",
    "import os, sys\n",
    "import matplotlib.image as mpimg\n",
    "import matplotlib.pyplot as plt\n",
    "\n",
    "def getMap(wms,layerName,bbox,filename):\n",
    "    wms.getOperationByName('GetMap').formatOptions\n",
    "    img = wms.getmap(layers=[layerName],\n",
    "                 size=(600,300),\n",
    "                 srs='EPSG:4326',\n",
    "                 bbox=bbox,\n",
    "                 format='image/png',\n",
    "                 transparent=True)\n",
    "\n",
    "    tmpfile = open(filename,'wb')\n",
    "    tmpfile.write(img.read())\n",
    "    tmpfile.close()"
   ]
  },
  {
   "cell_type": "code",
   "execution_count": null,
   "id": "4dc25083-e659-4688-a635-3be51d25a742",
   "metadata": {},
   "outputs": [],
   "source": [
    "getMap(wms,'S2B_MSIL1C_20210402T095029_N0300_R079_T33SVB_20210402T121737.SAFE__TRUE_COLOR',(13.8,36.9,15.1,37.9), 'rgb.png')\n",
    "image1=mpimg.imread('rgb.png')\n",
    "fig = plt.figure(figsize=(12,7))\n",
    "img1=plt.imshow(image1,extent=[13.8,15.1,36.9,37.9],aspect='auto')\n",
    "plt.show()"
   ]
  },
  {
   "cell_type": "code",
   "execution_count": null,
   "id": "ed686f05-d0ce-47e9-8060-539b3396930a",
   "metadata": {},
   "outputs": [],
   "source": [
    "getMap(wms,'S2B_MSIL2A_20200902T090559_N0214_R050_T34SGH_20200902T113910.SAFE__TRUE_COLOR',(23.4,37.8,24.5,38.8), 'rgb.png')\n",
    "image1=mpimg.imread('rgb.png')\n",
    "fig = plt.figure(figsize=(12,7))\n",
    "img1=plt.imshow(image1,extent=[23.4,24.5,37.8,38.8],aspect='auto')\n",
    "plt.show()"
   ]
  },
  {
   "cell_type": "code",
   "execution_count": null,
   "id": "7b443a93-84ba-4a4b-83b7-91cdb9dfdec2",
   "metadata": {},
   "outputs": [],
   "source": [
    "wms2 = WebMapService('http://apps.ecmwf.int/wms/?token=public', version='1.3.0')\n",
    "getMap(wms2,'foreground',(-180,-90,180,90), 'foreground.png')\n",
    "getMap(wms2,'background',(-180,-90,180,90), 'background.png')\n",
    "getMap(wms2,'composition_bbaod550',(-180,-90,180,90), 'bbaod550.png')\n",
    "image1=mpimg.imread('background.png')\n",
    "image2=mpimg.imread('bbaod550.png')\n",
    "image3=mpimg.imread('foreground.png')\n",
    "fig = plt.figure(figsize=(12,7))\n",
    "\n",
    "img1=plt.imshow(image1,extent=[-180,180,-90,90],aspect='auto')\n",
    "img2=plt.imshow(image2,extent=[-180,180,-90,90],aspect='auto')\n",
    "img3=plt.imshow(image3,extent=[-180,180,-90,90],aspect='auto')\n",
    "plt.show()"
   ]
  },
  {
   "cell_type": "markdown",
   "id": "2f8e4921-c5a7-4744-a16e-1a3d5a19d017",
   "metadata": {},
   "source": [
    "Alternatively, the Folium library is available to create a Leaflet map with the WMS layer"
   ]
  },
  {
   "cell_type": "code",
   "execution_count": null,
   "id": "f21558f8-30cb-41be-b0e1-d814036823c4",
   "metadata": {},
   "outputs": [],
   "source": [
    "import os\n",
    "import folium\n",
    "\n",
    "print(folium.__version__)"
   ]
  },
  {
   "cell_type": "code",
   "execution_count": null,
   "id": "3813c642-6e04-497c-8bc1-68e10898139d",
   "metadata": {},
   "outputs": [],
   "source": [
    "m = folium.Map(location=[37, 14], zoom_start=6, tiles=None)\n",
    "\n",
    "\n",
    "# folium.raster_layers.TileLayer(\n",
    "#     tiles='http://{s}.google.com/vt/lyrs=s&x={x}&y={y}&z={z}',\n",
    "#     attr='google',\n",
    "#     name='google maps',\n",
    "#     max_zoom=20,\n",
    "#     subdomains=['mt0', 'mt1', 'mt2', 'mt3'],\n",
    "#     overlay=False,\n",
    "#     control=True,\n",
    "# ).add_to(m)\n",
    "\n",
    "folium.raster_layers.WmsTileLayer(\n",
    "    url=wms_endpoint,\n",
    "    layers='S2B_MSIL2A_20200902T090559_N0214_R050_T34SGH_20200902T113910.SAFE__TRUE_COLOR',\n",
    "    name='S2B_MSIL2A_20200902T090559_N0214_R050_T34SGH_20200902T113910.SAFE__TRUE_COLOR',\n",
    "    fmt='image/png',\n",
    "    overlay=False,\n",
    "    control=True,\n",
    ").add_to(m)\n",
    "\n",
    "folium.LayerControl().add_to(m)\n",
    "\n",
    "#m.save(os.path.join('results', 'WMS_and_WMTS.html'))\n",
    "\n",
    "m"
   ]
  },
  {
   "cell_type": "markdown",
   "id": "13b0a179-e2d3-4833-92bd-072d4d6ba756",
   "metadata": {},
   "source": [
    "### Data Download"
   ]
  },
  {
   "cell_type": "markdown",
   "id": "8b195907-a07e-4400-a78d-291acacbff23",
   "metadata": {},
   "source": [
    "After discovering and visualizing the dataset, the user can identify the WCS link from the catalogue record and use the OWSLib WCS client to download the dataset"
   ]
  },
  {
   "cell_type": "code",
   "execution_count": null,
   "id": "70f48f6f-0ba6-4c62-aeea-c38dc99268c9",
   "metadata": {},
   "outputs": [],
   "source": [
    "tree = None\n",
    "for link in links:\n",
    "    scheme = link['scheme']\n",
    "    if 'WCS' in scheme:\n",
    "        wcs_endpoint=link['url'].split('?')[0]\n",
    "        wcs_id=link['url'].split('eoid=')[1]\n",
    "        tree = lxml.etree.fromstring(requests.get(link['url']).content)\n",
    "        break\n",
    "\n",
    "\n",
    "coverage_ids = tree.xpath('wcs:CoverageDescriptions/wcs:CoverageDescription/@gml:id', namespaces=tree.nsmap)\n",
    "coverage_ids"
   ]
  },
  {
   "cell_type": "code",
   "execution_count": null,
   "id": "9ff7e085",
   "metadata": {},
   "outputs": [],
   "source": [
    "from osgeo import gdal\n",
    "gdal.UseExceptions()\n",
    "getcoverage_request = wcs_endpoint + '?service=WCS&version=2.0.1&request=GetCoverage&coverageid=' + coverage_ids[1] + '&scaleSize=x(100),y(100)'\n",
    "print(getcoverage_request)\n",
    "ds = gdal.Open('/vsicurl/' + getcoverage_request)\n",
    "data = ds.ReadAsArray()\n",
    "data"
   ]
  },
  {
   "cell_type": "code",
   "execution_count": null,
   "id": "e1e795d5-eecd-4617-a0b8-97e39a99405c",
   "metadata": {},
   "outputs": [],
   "source": [
    "wcs = WebCoverageService(wcs_endpoint, version='2.0.1')"
   ]
  },
  {
   "cell_type": "code",
   "execution_count": null,
   "id": "e5a54b99-e1b6-46c3-be55-02f28b7a30a6",
   "metadata": {},
   "outputs": [],
   "source": [
    "wcs.contents.keys()"
   ]
  },
  {
   "cell_type": "code",
   "execution_count": null,
   "id": "52b5ed61-5ac2-441b-8371-e299ff7e5a67",
   "metadata": {},
   "outputs": [],
   "source": []
  }
 ],
 "metadata": {
  "kernelspec": {
   "display_name": "Python 3",
   "language": "python",
   "name": "python3"
  },
  "language_info": {
   "codemirror_mode": {
    "name": "ipython",
    "version": 3
   },
   "file_extension": ".py",
   "mimetype": "text/x-python",
   "name": "python",
   "nbconvert_exporter": "python",
   "pygments_lexer": "ipython3",
   "version": "3.8.8"
  }
 },
 "nbformat": 4,
 "nbformat_minor": 5
}
