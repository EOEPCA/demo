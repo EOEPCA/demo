{
 "cells": [
  {
   "cell_type": "markdown",
   "id": "conceptual-judges",
   "metadata": {},
   "source": [
    "# Processing\n",
    "Demonstration of Processing endpoints."
   ]
  },
  {
   "cell_type": "code",
   "execution_count": 1,
   "id": "manufactured-repair",
   "metadata": {},
   "outputs": [],
   "source": [
    "import utils.DemoClient as client\n",
    "import jwt\n",
    "import json"
   ]
  },
  {
   "cell_type": "markdown",
   "id": "liable-reform",
   "metadata": {},
   "source": [
    "## Initialise"
   ]
  },
  {
   "cell_type": "markdown",
   "id": "experienced-yemen",
   "metadata": {},
   "source": [
    "### Client\n",
    "We instantiate a client to interact with the platform. The client dynamically registers with the Authorisation Server to take part in UMA (User Managed Access) flows through which authorization is obtained for scoped access resources on behalf of the user."
   ]
  },
  {
   "cell_type": "code",
   "execution_count": 2,
   "id": "fluid-plane",
   "metadata": {},
   "outputs": [
    {
     "name": "stdout",
     "output_type": "stream",
     "text": [
      "State loaded from file: {'client_id': 'f5bf594d-319b-4666-8aab-f0bec9ca5075', 'client_secret': '547cd87a-86d3-400b-ae97-e066a1b20ed6'}\n",
      "client_id: f5bf594d-319b-4666-8aab-f0bec9ca5075 [REUSED]\n",
      "Client state saved to file: state.json\n"
     ]
    }
   ],
   "source": [
    "#-------------------------------------------------------------------------------\n",
    "# Initialise client\n",
    "#-------------------------------------------------------------------------------\n",
    "base_domain = \"demo.eoepca.org\"\n",
    "platform_domain = \"test.\" + base_domain\n",
    "base_url = \"https://\" + platform_domain\n",
    "demo = client.DemoClient(base_url)\n",
    "demo.register_client()\n",
    "demo.save_state()"
   ]
  },
  {
   "cell_type": "markdown",
   "id": "written-somalia",
   "metadata": {},
   "source": [
    "### User\n",
    "User authenticates and the client receives an ID Token (JWT) that represents the user."
   ]
  },
  {
   "cell_type": "code",
   "execution_count": 3,
   "id": "formed-scope",
   "metadata": {
    "tags": []
   },
   "outputs": [
    {
     "name": "stdout",
     "output_type": "stream",
     "text": [
      "[Request] GET => https://test.demo.eoepca.org/.well-known/uma2-configuration\n",
      "<Response [200]>\n",
      "token_endpoint: https://test.demo.eoepca.org/oxauth/restv1/token\n",
      "[Request] POST => https://test.demo.eoepca.org/oxauth/restv1/token\n"
     ]
    }
   ],
   "source": [
    "#-------------------------------------------------------------------------------\n",
    "# Authenticate as UserA and get ID Token\n",
    "#-------------------------------------------------------------------------------\n",
    "USER_NAME=\"bob\"\n",
    "USER_PASSWORD=\"defaultPWD\"\n",
    "user_id_token = demo.get_id_token(USER_NAME, USER_PASSWORD)"
   ]
  },
  {
   "cell_type": "markdown",
   "id": "swiss-librarian",
   "metadata": {},
   "source": [
    "## ADES\n",
    "The ADES provides user-specific endpoints, using a URL path prefix."
   ]
  },
  {
   "cell_type": "code",
   "execution_count": 4,
   "id": "8079de67-0445-4317-84e8-dd2f0d45c29f",
   "metadata": {},
   "outputs": [
    {
     "name": "stdout",
     "output_type": "stream",
     "text": [
      "ADES WPS endpoint: http://ades.demo.eoepca.org/bob/zoo\n",
      "ADES API Processes endpoint: http://ades.demo.eoepca.org/bob/wps3\n"
     ]
    }
   ],
   "source": [
    "# ADES URLs\n",
    "ades_base_url = \"http://ades.demo.eoepca.org\"  #\"http://ades.\" + platform_domain\n",
    "ades_wps_url = ades_base_url + \"/\" + USER_NAME + \"/zoo\"; print(\"ADES WPS endpoint:\", ades_wps_url)\n",
    "ades_proc_url = ades_base_url + \"/\" + USER_NAME + \"/wps3\"; print(\"ADES API Processes endpoint:\", ades_proc_url)"
   ]
  },
  {
   "cell_type": "markdown",
   "id": "different-studio",
   "metadata": {},
   "source": [
    "### ADES API Processes"
   ]
  },
  {
   "cell_type": "code",
   "execution_count": 5,
   "id": "architectural-college",
   "metadata": {},
   "outputs": [],
   "source": [
    "ades_access_token = None\n",
    "app_name = \"snuggs-0_3_0\""
   ]
  },
  {
   "cell_type": "markdown",
   "id": "framed-russell",
   "metadata": {},
   "source": [
    "#### ADES: List Processes"
   ]
  },
  {
   "cell_type": "code",
   "execution_count": 6,
   "id": "progressive-experiment",
   "metadata": {},
   "outputs": [
    {
     "name": "stdout",
     "output_type": "stream",
     "text": [
      "[Request] GET => http://ades.demo.eoepca.org/bob/wps3/processes\n",
      "[Process List] = 200 (OK)\n",
      "Processes: ['nhi-0_0_3', 'DeployProcess', 'GetStatus', 'snuggs-0_3_0', 'UndeployProcess', 's-expression-0_0_2']\n"
     ]
    }
   ],
   "source": [
    "# API Processes - List Processes\n",
    "response, ades_access_token, process_ids = demo.proc_list_processes(ades_proc_url, id_token=user_id_token, access_token=ades_access_token)\n",
    "print(\"Processes:\", process_ids)"
   ]
  },
  {
   "cell_type": "markdown",
   "id": "aggregate-scratch",
   "metadata": {},
   "source": [
    "#### ADES: Deploy Application"
   ]
  },
  {
   "cell_type": "code",
   "execution_count": 7,
   "id": "legal-thunder",
   "metadata": {},
   "outputs": [
    {
     "name": "stdout",
     "output_type": "stream",
     "text": [
      "Application details read from file: ../data/snuggs-0.3.0/app-deploy-body-cwl.json\n",
      "[Request] POST => http://ades.demo.eoepca.org/bob/wps3/processes\n",
      "[Deploy Response] = 201 (Created)\n"
     ]
    }
   ],
   "source": [
    "# API Processes - Deploy Application\n",
    "response, ades_access_token = demo.proc_deploy_application(ades_proc_url, \"../data/snuggs-0.3.0/app-deploy-body-cwl.json\", id_token=user_id_token, access_token=ades_access_token)"
   ]
  },
  {
   "cell_type": "code",
   "execution_count": 8,
   "id": "suffering-message",
   "metadata": {
    "tags": []
   },
   "outputs": [
    {
     "name": "stdout",
     "output_type": "stream",
     "text": [
      "[Request] GET => http://ades.demo.eoepca.org/bob/wps3/processes\n",
      "[Process List] = 200 (OK)\n",
      "Processes: ['nhi-0_0_3', 'DeployProcess', 'GetStatus', 'snuggs-0_3_0', 'UndeployProcess', 's-expression-0_0_2']\n"
     ]
    }
   ],
   "source": [
    "# Check deploy - list processes again\n",
    "response, ades_access_token, process_ids = demo.proc_list_processes(ades_proc_url, id_token=user_id_token, access_token=ades_access_token)\n",
    "print(\"Processes:\", process_ids)"
   ]
  },
  {
   "cell_type": "markdown",
   "id": "intimate-douglas",
   "metadata": {},
   "source": [
    "#### ADES: Get Application Details"
   ]
  },
  {
   "cell_type": "code",
   "execution_count": 9,
   "id": "surgical-cleveland",
   "metadata": {},
   "outputs": [
    {
     "name": "stdout",
     "output_type": "stream",
     "text": [
      "[Request] GET => http://ades.demo.eoepca.org/bob/wps3/processes/snuggs-0_3_0\n",
      "[App Details] = 200 (OK)\n",
      "{\n",
      "  \"process\": {\n",
      "    \"id\": \"snuggs-0_3_0\",\n",
      "    \"title\": \"s expressions\",\n",
      "    \"abstract\": \"Applies s expressions to EO acquisitions\",\n",
      "    \"version\": \"0.3.0\",\n",
      "    \"jobControlOptions\": [\n",
      "      \"sync-execute\",\n",
      "      \"async-execute\",\n",
      "      \"dismiss\"\n",
      "    ],\n",
      "    \"outputTransmission\": [\n",
      "      \"value\",\n",
      "      \"reference\"\n",
      "    ],\n",
      "    \"links\": [\n",
      "      {\n",
      "        \"rel\": \"canonical\",\n",
      "        \"type\": \"application/json\",\n",
      "        \"title\": \"Execute End Point\",\n",
      "        \"href\": \"/watchjob/processes/snuggs-0_3_0/jobs/\"\n",
      "      }\n",
      "    ],\n",
      "    \"inputs\": [\n",
      "      {\n",
      "        \"id\": \"input_reference\",\n",
      "        \"title\": \"Input product reference\",\n",
      "        \"abstract\": \"Input product reference\",\n",
      "        \"minOccurs\": \"1\",\n",
      "        \"maxOccurs\": \"999\",\n",
      "        \"input\": {\n",
      "          \"literalDataDomains\": [\n",
      "            {\n",
      "              \"dataType\": {\n",
      "                \"name\": \"string\"\n",
      "              },\n",
      "              \"valueDefinition\": {\n",
      "                \"anyValue\": true\n",
      "              }\n",
      "            }\n",
      "          ]\n",
      "        }\n",
      "      },\n",
      "      {\n",
      "        \"id\": \"s_expression\",\n",
      "        \"title\": \"s expression\",\n",
      "        \"abstract\": \"s expression\",\n",
      "        \"minOccurs\": \"1\",\n",
      "        \"maxOccurs\": \"999\",\n",
      "        \"input\": {\n",
      "          \"literalDataDomains\": [\n",
      "            {\n",
      "              \"dataType\": {\n",
      "                \"name\": \"string\"\n",
      "              },\n",
      "              \"valueDefinition\": {\n",
      "                \"anyValue\": true\n",
      "              }\n",
      "            }\n",
      "          ]\n",
      "        }\n",
      "      }\n",
      "    ],\n",
      "    \"outputs\": [\n",
      "      {\n",
      "        \"id\": \"wf_outputs\",\n",
      "        \"title\": \"wf_outputs\",\n",
      "        \"output\": {\n",
      "          \"formats\": [\n",
      "            {\n",
      "              \"default\": true,\n",
      "              \"mimeType\": \"application/json\"\n",
      "            }\n",
      "          ]\n",
      "        }\n",
      "      }\n",
      "    ]\n",
      "  }\n",
      "}\n"
     ]
    }
   ],
   "source": [
    "# API Processes - Get Application Details\n",
    "response, ades_access_token = demo.proc_get_app_details(ades_proc_url, app_name, id_token=user_id_token, access_token=ades_access_token)\n",
    "print(json.dumps(response.json(), indent = 2))"
   ]
  },
  {
   "cell_type": "markdown",
   "id": "fourth-decline",
   "metadata": {},
   "source": [
    "#### ADES: Execute Application"
   ]
  },
  {
   "cell_type": "code",
   "execution_count": 16,
   "id": "existing-soccer",
   "metadata": {},
   "outputs": [
    {
     "name": "stdout",
     "output_type": "stream",
     "text": [
      "Application execute details read from file: ../data/snuggs-0.3.0/app-execute-body-single.json\n",
      "[Request] POST => http://ades.demo.eoepca.org/bob/wps3/processes/snuggs-0_3_0/jobs\n",
      "[Execute Response] = 201 (Created) => job=/bob/watchjob/processes/snuggs-0_3_0/jobs/40063e60-4272-11ec-8d1f-126554c2117f\n"
     ]
    }
   ],
   "source": [
    "# API Processes - Execute Application\n",
    "response, ades_access_token, job_location_path = demo.proc_execute_application(ades_proc_url, app_name, \"../data/snuggs-0.3.0/app-execute-body-single.json\", id_token=user_id_token, access_token=ades_access_token)"
   ]
  },
  {
   "cell_type": "markdown",
   "id": "frozen-while",
   "metadata": {},
   "source": [
    "#### ADES: Job Status"
   ]
  },
  {
   "cell_type": "code",
   "execution_count": 17,
   "id": "amateur-technique",
   "metadata": {},
   "outputs": [
    {
     "name": "stdout",
     "output_type": "stream",
     "text": [
      "[Request] GET => http://ades.demo.eoepca.org/bob/watchjob/processes/snuggs-0_3_0/jobs/40063e60-4272-11ec-8d1f-126554c2117f\n",
      "[Job Status] = 200 (OK) => 10/11/2021 22:05:01 - running\n",
      "{\n",
      "  \"jobID\": \"40063e60-4272-11ec-8d1f-126554c2117f\",\n",
      "  \"started\": \"2021-11-10T22:05:00.949881Z\",\n",
      "  \"status\": \"running\",\n",
      "  \"message\": \"running\",\n",
      "  \"progress\": \"0\",\n",
      "  \"links\": [\n",
      "    {\n",
      "      \"href\": \"http://ades.demo.eoepca.org/bob/watchjob/processes/snuggs-0_3_0/jobs/40063e60-4272-11ec-8d1f-126554c2117f\",\n",
      "      \"rel\": \"self\",\n",
      "      \"type\": \"application/json\",\n",
      "      \"title\": \"get Status\"\n",
      "    }\n",
      "  ]\n",
      "}\n"
     ]
    }
   ],
   "source": [
    "# API Processes - Job Status\n",
    "response, ades_access_token, status = demo.proc_get_job_status(ades_base_url, job_location_path, id_token=user_id_token, access_token=ades_access_token)\n",
    "print(json.dumps(response.json(), indent = 2))"
   ]
  },
  {
   "cell_type": "code",
   "execution_count": 18,
   "id": "infinite-eleven",
   "metadata": {},
   "outputs": [
    {
     "name": "stdout",
     "output_type": "stream",
     "text": [
      "[Job Status] = 200 (OK) => 10/11/2021 22:05:02 - running\n",
      "[Job Status] = 200 (OK) => 10/11/2021 22:05:13 - running\n",
      "[Job Status] = 200 (OK) => 10/11/2021 22:05:23 - running\n",
      "[Job Status] = 200 (OK) => 10/11/2021 22:05:34 - running\n",
      "[Job Status] = 200 (OK) => 10/11/2021 22:05:45 - running\n",
      "[Job Status] = 200 (OK) => 10/11/2021 22:05:56 - running\n",
      "[Job Status] = 200 (OK) => 10/11/2021 22:06:06 - running\n",
      "[Job Status] = 200 (OK) => 10/11/2021 22:06:17 - running\n",
      "[Job Status] = 200 (OK) => 10/11/2021 22:06:28 - running\n",
      "[Job Status] = 200 (OK) => 10/11/2021 22:06:39 - running\n",
      "[Job Status] = 200 (OK) => 10/11/2021 22:06:50 - running\n",
      "[Job Status] = 200 (OK) => 10/11/2021 22:07:01 - running\n",
      "[Job Status] = 200 (OK) => 10/11/2021 22:07:12 - running\n",
      "[Job Status] = 200 (OK) => 10/11/2021 22:07:23 - running\n",
      "[Job Status] = 200 (OK) => 10/11/2021 22:07:33 - running\n",
      "[Job Status] = 200 (OK) => 10/11/2021 22:07:44 - running\n",
      "[Job Status] = 200 (OK) => 10/11/2021 22:07:55 - running\n",
      "[Job Status] = 200 (OK) => 10/11/2021 22:08:06 - running\n",
      "[Job Status] = 200 (OK) => 10/11/2021 22:08:17 - running\n",
      "[Job Status] = 200 (OK) => 10/11/2021 22:08:28 - running\n",
      "[Job Status] = 200 (OK) => 10/11/2021 22:08:39 - running\n",
      "[Job Status] = 200 (OK) => 10/11/2021 22:08:49 - running\n",
      "[Job Status] = 200 (OK) => 10/11/2021 22:09:00 - running\n",
      "[Job Status] = 200 (OK) => 10/11/2021 22:09:11 - running\n",
      "[Job Status] = 200 (OK) => 10/11/2021 22:09:22 - running\n",
      "[Job Status] = 200 (OK) => 10/11/2021 22:09:33 - running\n",
      "[Job Status] = 200 (OK) => 10/11/2021 22:09:44 - running\n",
      "[Job Status] = 200 (OK) => 10/11/2021 22:09:55 - running\n",
      "[Job Status] = 200 (OK) => 10/11/2021 22:10:06 - running\n",
      "[Job Status] = 200 (OK) => 10/11/2021 22:10:17 - running\n",
      "[Job Status] = 200 (OK) => 10/11/2021 22:10:28 - running\n",
      "[Job Status] = 200 (OK) => 10/11/2021 22:10:38 - running\n",
      "[Job Status] = 200 (OK) => 10/11/2021 22:10:49 - running\n",
      "[Job Status] = 200 (OK) => 10/11/2021 22:11:00 - running\n",
      "[Job Status] = 200 (OK) => 10/11/2021 22:11:11 - running\n",
      "[Job Status] = 200 (OK) => 10/11/2021 22:11:22 - running\n",
      "[Job Status] = 200 (OK) => 10/11/2021 22:11:33 - running\n",
      "[Job Status] = 200 (OK) => 10/11/2021 22:11:43 - running\n",
      "[Job Status] = 200 (OK) => 10/11/2021 22:11:54 - running\n",
      "[Job Status] = 200 (OK) => 10/11/2021 22:12:05 - running\n",
      "[Job Status] = 200 (OK) => 10/11/2021 22:12:16 - running\n",
      "[Job Status] = 200 (OK) => 10/11/2021 22:12:26 - running\n",
      "[Job Status] = 200 (OK) => 10/11/2021 22:12:37 - running\n",
      "[Job Status] = 200 (OK) => 10/11/2021 22:12:48 - running\n",
      "[Job Status] = 200 (OK) => 10/11/2021 22:12:59 - running\n",
      "[Job Status] = 200 (OK) => 10/11/2021 22:13:10 - running\n",
      "[Job Status] = 200 (OK) => 10/11/2021 22:13:20 - running\n",
      "[Job Status] = 200 (OK) => 10/11/2021 22:13:31 - running\n",
      "[Job Status] = 200 (OK) => 10/11/2021 22:13:42 - running\n",
      "[Job Status] = 200 (OK) => 10/11/2021 22:13:53 - running\n",
      "[Job Status] = 200 (OK) => 10/11/2021 22:14:04 - running\n",
      "[Job Status] = 200 (OK) => 10/11/2021 22:14:15 - running\n",
      "[Job Status] = 200 (OK) => 10/11/2021 22:14:26 - running\n",
      "[Job Status] = 200 (OK) => 10/11/2021 22:14:37 - running\n",
      "[Job Status] = 200 (OK) => 10/11/2021 22:14:48 - running\n",
      "[Job Status] = 200 (OK) => 10/11/2021 22:14:59 - running\n",
      "[Job Status] = 200 (OK) => 10/11/2021 22:15:09 - running\n",
      "[Job Status] = 200 (OK) => 10/11/2021 22:15:20 - running\n",
      "[Job Status] = 200 (OK) => 10/11/2021 22:15:31 - running\n",
      "[Job Status] = 200 (OK) => 10/11/2021 22:15:42 - running\n",
      "[Job Status] = 200 (OK) => 10/11/2021 22:15:53 - running\n",
      "[Job Status] = 200 (OK) => 10/11/2021 22:16:04 - running\n",
      "[Job Status] = 200 (OK) => 10/11/2021 22:16:14 - running\n",
      "[Job Status] = 200 (OK) => 10/11/2021 22:16:25 - running\n",
      "[Job Status] = 200 (OK) => 10/11/2021 22:16:36 - running\n",
      "[Job Status] = 200 (OK) => 10/11/2021 22:16:47 - running\n",
      "[Job Status] = 200 (OK) => 10/11/2021 22:16:58 - running\n",
      "[Job Status] = 200 (OK) => 10/11/2021 22:17:09 - running\n",
      "[Job Status] = 200 (OK) => 10/11/2021 22:17:20 - running\n",
      "[Job Status] = 200 (OK) => 10/11/2021 22:17:30 - running\n",
      "[Job Status] = 200 (OK) => 10/11/2021 22:17:41 - running\n",
      "[Job Status] = 200 (OK) => 10/11/2021 22:17:52 - running\n",
      "[Job Status] = 200 (OK) => 10/11/2021 22:18:03 - running\n",
      "[Job Status] = 200 (OK) => 10/11/2021 22:18:14 - running\n",
      "[Job Status] = 200 (OK) => 10/11/2021 22:18:25 - running\n",
      "[Job Status] = 200 (OK) => 10/11/2021 22:18:35 - running\n",
      "[Job Status] = 200 (OK) => 10/11/2021 22:18:46 - running\n",
      "[Job Status] = 200 (OK) => 10/11/2021 22:18:57 - running\n",
      "[Job Status] = 200 (OK) => 10/11/2021 22:19:08 - running\n",
      "[Job Status] = 200 (OK) => 10/11/2021 22:19:19 - running\n",
      "[Job Status] = 200 (OK) => 10/11/2021 22:19:30 - running\n",
      "[Job Status] = 200 (OK) => 10/11/2021 22:19:41 - running\n",
      "[Job Status] = 200 (OK) => 10/11/2021 22:19:51 - running\n",
      "[Job Status] = 200 (OK) => 10/11/2021 22:20:02 - running\n",
      "[Job Status] = 200 (OK) => 10/11/2021 22:20:13 - running\n",
      "[Job Status] = 200 (OK) => 10/11/2021 22:20:24 - running\n",
      "[Job Status] = 200 (OK) => 10/11/2021 22:20:35 - running\n",
      "[Job Status] = 200 (OK) => 10/11/2021 22:20:46 - running\n",
      "[Job Status] = 200 (OK) => 10/11/2021 22:20:57 - running\n",
      "[Job Status] = 200 (OK) => 10/11/2021 22:21:07 - running\n",
      "[Job Status] = 200 (OK) => 10/11/2021 22:21:18 - running\n",
      "[Job Status] = 200 (OK) => 10/11/2021 22:21:29 - running\n",
      "[Job Status] = 200 (OK) => 10/11/2021 22:21:40 - running\n",
      "[Job Status] = 200 (OK) => 10/11/2021 22:21:51 - running\n",
      "[Job Status] = 200 (OK) => 10/11/2021 22:22:02 - running\n",
      "[Job Status] = 200 (OK) => 10/11/2021 22:22:12 - running\n",
      "[Job Status] = 200 (OK) => 10/11/2021 22:22:23 - running\n",
      "[Job Status] = 200 (OK) => 10/11/2021 22:22:34 - running\n",
      "[Job Status] = 200 (OK) => 10/11/2021 22:22:45 - running\n",
      "[Job Status] = 200 (OK) => 10/11/2021 22:22:56 - running\n",
      "[Job Status] = 200 (OK) => 10/11/2021 22:23:07 - running\n",
      "[Job Status] = 200 (OK) => 10/11/2021 22:23:18 - running\n",
      "[Job Status] = 200 (OK) => 10/11/2021 22:23:28 - running\n",
      "[Job Status] = 200 (OK) => 10/11/2021 22:23:39 - running\n",
      "[Job Status] = 200 (OK) => 10/11/2021 22:23:50 - running\n",
      "[Job Status] = 200 (OK) => 10/11/2021 22:24:01 - running\n",
      "[Job Status] = 200 (OK) => 10/11/2021 22:24:12 - running\n",
      "[Job Status] = 200 (OK) => 10/11/2021 22:24:22 - running\n",
      "[Job Status] = 200 (OK) => 10/11/2021 22:24:33 - running\n",
      "[Job Status] = 200 (OK) => 10/11/2021 22:24:45 - running\n",
      "[Job Status] = 200 (OK) => 10/11/2021 22:24:56 - running\n",
      "[Job Status] = 200 (OK) => 10/11/2021 22:25:07 - running\n",
      "[Job Status] = 200 (OK) => 10/11/2021 22:25:17 - running\n",
      "[Job Status] = 200 (OK) => 10/11/2021 22:25:28 - running\n",
      "[Job Status] = 200 (OK) => 10/11/2021 22:25:39 - running\n",
      "[Job Status] = 200 (OK) => 10/11/2021 22:25:50 - running\n",
      "[Job Status] = 200 (OK) => 10/11/2021 22:26:01 - running\n",
      "[Job Status] = 200 (OK) => 10/11/2021 22:26:12 - running\n",
      "[Job Status] = 200 (OK) => 10/11/2021 22:26:22 - running\n",
      "[Job Status] = 200 (OK) => 10/11/2021 22:26:33 - running\n",
      "[Job Status] = 200 (OK) => 10/11/2021 22:26:44 - running\n",
      "[Job Status] = 200 (OK) => 10/11/2021 22:26:55 - running\n",
      "[Job Status] = 200 (OK) => 10/11/2021 22:27:06 - running\n",
      "[Job Status] = 200 (OK) => 10/11/2021 22:27:17 - running\n",
      "[Job Status] = 200 (OK) => 10/11/2021 22:27:27 - running\n",
      "[Job Status] = 200 (OK) => 10/11/2021 22:27:38 - running\n",
      "[Job Status] = 200 (OK) => 10/11/2021 22:27:49 - running\n",
      "[Job Status] = 200 (OK) => 10/11/2021 22:28:00 - running\n",
      "[Job Status] = 200 (OK) => 10/11/2021 22:28:11 - running\n",
      "[Job Status] = 200 (OK) => 10/11/2021 22:28:22 - running\n",
      "[Job Status] = 200 (OK) => 10/11/2021 22:28:32 - running\n",
      "[Job Status] = 200 (OK) => 10/11/2021 22:28:43 - running\n",
      "[Job Status] = 200 (OK) => 10/11/2021 22:28:54 - running\n",
      "[Job Status] = 200 (OK) => 10/11/2021 22:29:05 - running\n",
      "[Job Status] = 200 (OK) => 10/11/2021 22:29:16 - running\n",
      "[Job Status] = 200 (OK) => 10/11/2021 22:29:27 - running\n",
      "[Job Status] = 200 (OK) => 10/11/2021 22:29:38 - running\n",
      "[Job Status] = 200 (OK) => 10/11/2021 22:29:48 - running\n",
      "[Job Status] = 200 (OK) => 10/11/2021 22:29:59 - running\n",
      "[Job Status] = 200 (OK) => 10/11/2021 22:30:10 - running\n",
      "[Job Status] = 200 (OK) => 10/11/2021 22:30:21 - running\n",
      "[Job Status] = 200 (OK) => 10/11/2021 22:30:32 - running\n",
      "[Job Status] = 200 (OK) => 10/11/2021 22:30:42 - running\n",
      "[Job Status] = 200 (OK) => 10/11/2021 22:30:54 - running\n",
      "[Job Status] = 200 (OK) => 10/11/2021 22:31:05 - running\n",
      "[Job Status] = 200 (OK) => 10/11/2021 22:31:15 - running\n",
      "[Job Status] = 200 (OK) => 10/11/2021 22:31:26 - running\n",
      "[Job Status] = 200 (OK) => 10/11/2021 22:31:37 - running\n",
      "[Job Status] = 200 (OK) => 10/11/2021 22:31:48 - running\n",
      "[Job Status] = 200 (OK) => 10/11/2021 22:31:58 - running\n",
      "[Job Status] = 200 (OK) => 10/11/2021 22:32:09 - running\n",
      "[Job Status] = 200 (OK) => 10/11/2021 22:32:20 - running\n",
      "[Job Status] = 200 (OK) => 10/11/2021 22:32:32 - running\n",
      "[Job Status] = 200 (OK) => 10/11/2021 22:32:43 - running\n",
      "[Job Status] = 200 (OK) => 10/11/2021 22:32:53 - running\n",
      "[Job Status] = 200 (OK) => 10/11/2021 22:33:04 - running\n",
      "[Job Status] = 200 (OK) => 10/11/2021 22:33:15 - running\n",
      "[Job Status] = 200 (OK) => 10/11/2021 22:33:26 - running\n",
      "[Job Status] = 200 (OK) => 10/11/2021 22:33:36 - running\n",
      "[Job Status] = 200 (OK) => 10/11/2021 22:33:47 - running\n",
      "[Job Status] = 200 (OK) => 10/11/2021 22:33:58 - running\n",
      "[Job Status] = 200 (OK) => 10/11/2021 22:34:09 - running\n",
      "[Job Status] = 200 (OK) => 10/11/2021 22:34:20 - running\n",
      "[Job Status] = 200 (OK) => 10/11/2021 22:34:31 - running\n",
      "[Job Status] = 200 (OK) => 10/11/2021 22:34:41 - running\n",
      "[Job Status] = 200 (OK) => 10/11/2021 22:34:52 - running\n",
      "[Job Status] = 200 (OK) => 10/11/2021 22:35:03 - running\n",
      "[Job Status] = 200 (OK) => 10/11/2021 22:35:14 - running\n",
      "[Job Status] = 200 (OK) => 10/11/2021 22:35:25 - running\n",
      "[Job Status] = 200 (OK) => 10/11/2021 22:35:36 - running\n",
      "[Job Status] = 200 (OK) => 10/11/2021 22:35:47 - running\n",
      "[Job Status] = 200 (OK) => 10/11/2021 22:35:58 - running\n",
      "[Job Status] = 200 (OK) => 10/11/2021 22:36:09 - running\n",
      "[Job Status] = 200 (OK) => 10/11/2021 22:36:19 - successful\n"
     ]
    }
   ],
   "source": [
    "# API Processes - Job Status (keep polling for completion)\n",
    "response, ades_access_token, status = demo.proc_poll_job_completion(ades_base_url, job_location_path, interval=10, id_token=user_id_token, access_token=ades_access_token)"
   ]
  },
  {
   "cell_type": "code",
   "execution_count": 19,
   "id": "steady-revolution",
   "metadata": {},
   "outputs": [
    {
     "name": "stdout",
     "output_type": "stream",
     "text": [
      "200 {'Server': 'nginx/1.19.1', 'Date': 'Wed, 10 Nov 2021 22:36:19 GMT', 'Content-Type': 'application/json;charset=UTF-8', 'Transfer-Encoding': 'chunked', 'Connection': 'keep-alive', 'Vary': 'Accept-Encoding', 'Strict-Transport-Security': 'max-age=15724800; includeSubDomains', 'Access-Control-Allow-Origin': '*', 'Access-Control-Allow-Credentials': 'true', 'Access-Control-Allow-Methods': 'GET, PUT, POST, DELETE, PATCH, OPTIONS', 'Access-Control-Allow-Headers': 'DNT,X-CustomHeader,Keep-Alive,User-Agent,X-Requested-With,If-Modified-Since,Cache-Control,Content-Type,Authorization', 'Set-Cookie': 'auth_rpt-ades=eyJraWQiOiJkYjVlMGM5Ni0yZGQwLTQyNjktYTA5OC02NWZkNzIyNjFjMGFfc2lnX3JzMjU2IiwidHlwIjoiSldUIiwiYWxnIjoiUlMyNTYifQ.eyJhdWQiOiI1MjhlNGI0OS0xZjZmLTRmZjctYmM2MS0zNmQwOGIwMGM2OWEiLCJwY3RfY2xhaW1zIjp7ImF1ZCI6ImY1YmY1OTRkLTMxOWItNDY2Ni04YWFiLWYwYmVjOWNhNTA3NSIsInN1YiI6ImYxMmMyNTkyLTAzMzItNDlmNC1hNGZiLTcwNjNiM2MyYTg4OSIsInVzZXJfbmFtZSI6ImJvYiIsImlzcyI6Imh0dHBzOi8vdGVzdC5kZW1vLmVvZXBjYS5vcmciLCJleHAiOjE2MzY0NjE0MDEsImlhdCI6MTYzNjQ1NzgwMSwib3hPcGVuSURDb25uZWN0VmVyc2lvbiI6Im9wZW5pZGNvbm5lY3QtMS4wIn0sInBlcm1pc3Npb25zIjpbeyJyZXNvdXJjZV9zY29wZXMiOlsicHJvdGVjdGVkX2dldCIsIm9wZW5pZCJdLCJyZXNvdXJjZV9pZCI6IjAxMDMwYjcxLTUzNGQtNDRkOC05MjE3LTA4ZjY3ZWM1ZWQ0ZiIsImV4cCI6MTYzNjU4NzM3OSwicGFyYW1zIjpudWxsfV0sImlzcyI6Imh0dHBzOi8vdGVzdC5kZW1vLmVvZXBjYS5vcmciLCJleHAiOjE2MzY1ODczNzksImlhdCI6MTYzNjU4Mzc3OSwiY2xpZW50X2lkIjoiNTI4ZTRiNDktMWY2Zi00ZmY3LWJjNjEtMzZkMDhiMDBjNjlhIn0.duEaF_ZyxWsIFyCdR7PiJ4xmG-F3miBJQoiMexNEKU3TYwLPqqiwtGkjR_753npLhlqaWZDAzQfPgHp7TbDiuqgjx994yruMNupormHj1JZ3jG1EkJG3-_Szol9iQqrHakQyFVyAeC1lSx1zxQV3urxRNGjCwbZboG_-GtDgAX-opyEqPwwClq09iw6d8GjUCcdxU9mvcts4lsPOnKP2PQ5ye6vHpsj7AeIpfDMc8rjPCYzJTGkWs_2ywBz6K4RtxA1dPZPsnMrUTVpxbKolfBbh3CEXdzvyYrwY2wEpn2rjuj8l7_u3K-z_Jc9X-j046-PM-LWZ5ckSCxbZOoxMjA;Path=/; Secure; HttpOnly; Max-Age=300', 'Content-Encoding': 'gzip'} { \"jobID\": \"40063e60-4272-11ec-8d1f-126554c2117f\", \"started\": \"2021-11-10T22:05:00.949881Z\", \"finished\": \"2021-11-10T22:36:09.639043Z\", \"status\": \"successful\", \"message\": \"Done\", \"progress\": \"100\", \"links\": [ { \"href\": \"http:\\/\\/ades.demo.eoepca.org\\/bob\\/watchjob\\/processes\\/snuggs-0_3_0\\/jobs\\/40063e60-4272-11ec-8d1f-126554c2117f\", \"rel\": \"self\", \"type\": \"application\\/json\", \"title\": \"get Status\" } ] }\n"
     ]
    }
   ],
   "source": [
    "print(response.status_code, response.headers, response.text)"
   ]
  },
  {
   "cell_type": "markdown",
   "id": "suitable-construction",
   "metadata": {},
   "source": [
    "#### ADES: Job Result"
   ]
  },
  {
   "cell_type": "code",
   "execution_count": 20,
   "id": "elegant-remains",
   "metadata": {},
   "outputs": [
    {
     "name": "stdout",
     "output_type": "stream",
     "text": [
      "[Request] GET => http://ades.demo.eoepca.org/bob/watchjob/processes/snuggs-0_3_0/jobs/40063e60-4272-11ec-8d1f-126554c2117f/result\n",
      "[Job Result] = 200 (OK) => s3://ada6b03cde1846678c9ac78dfb4067c6:demo-user-bob/wf-40063e60-4272-11ec-8d1f-126554c2117f/catalog.json\n",
      "{\n",
      "  \"outputs\": [\n",
      "    {\n",
      "      \"id\": \"wf_outputs\",\n",
      "      \"time\": \"2021-11-10T22:36:09.641570Z\",\n",
      "      \"value\": {\n",
      "        \"inlineValue\": \"{\\\"StacCatalogUri\\\": \\\"s3://ada6b03cde1846678c9ac78dfb4067c6:demo-user-bob/wf-40063e60-4272-11ec-8d1f-126554c2117f/catalog.json\\\"}\"\n",
      "      }\n",
      "    }\n",
      "  ]\n",
      "}\n"
     ]
    }
   ],
   "source": [
    "# API Processes - Job Result\n",
    "response, ades_access_token, stacCatalogUri = demo.proc_get_job_result(ades_base_url, job_location_path, id_token=user_id_token, access_token=ades_access_token)\n",
    "print(json.dumps(response.json(), indent = 2))"
   ]
  },
  {
   "cell_type": "markdown",
   "id": "super-nutrition",
   "metadata": {},
   "source": [
    "#### ADES: List Jobs"
   ]
  },
  {
   "cell_type": "code",
   "execution_count": null,
   "id": "temporal-drain",
   "metadata": {},
   "outputs": [],
   "source": [
    "# API Processes - List Jobs\n",
    "response, ades_access_token, job_ids = demo.proc_list_jobs(ades_proc_url, app_name, id_token=user_id_token, access_token=ades_access_token)\n",
    "print(\"Jobs:\", job_ids)"
   ]
  },
  {
   "cell_type": "markdown",
   "id": "ongoing-sleeve",
   "metadata": {},
   "source": [
    "#### ADES: Undeploy Application"
   ]
  },
  {
   "cell_type": "code",
   "execution_count": null,
   "id": "sharing-closing",
   "metadata": {},
   "outputs": [],
   "source": [
    "# API Processes - Undeploy Application\n",
    "response, ades_access_token = demo.proc_undeploy_application(ades_proc_url, app_name, id_token=user_id_token, access_token=ades_access_token)"
   ]
  },
  {
   "cell_type": "code",
   "execution_count": null,
   "id": "variable-handy",
   "metadata": {
    "tags": []
   },
   "outputs": [],
   "source": [
    "# Check undeploy - list processes\n",
    "response, ades_access_token, process_ids = demo.proc_list_processes(ades_proc_url, id_token=user_id_token, access_token=ades_access_token)\n",
    "print(\"Processes:\", process_ids)"
   ]
  },
  {
   "cell_type": "markdown",
   "id": "controlled-mambo",
   "metadata": {},
   "source": [
    "## Workspace"
   ]
  },
  {
   "cell_type": "code",
   "execution_count": null,
   "id": "green-record",
   "metadata": {},
   "outputs": [],
   "source": [
    "workspace_url = \"https://workspace-api.\" + base_domain\n",
    "workspace_access_token = None"
   ]
  },
  {
   "cell_type": "markdown",
   "id": "terminal-missile",
   "metadata": {},
   "source": [
    "### Workspace: Get Details"
   ]
  },
  {
   "cell_type": "code",
   "execution_count": null,
   "id": "organizational-terror",
   "metadata": {},
   "outputs": [],
   "source": [
    "# Workspace - Get Details\n",
    "workspace_name = \"rm-user-\" + USER_NAME.lower()\n",
    "response, workspace_access_token = demo.workspace_get_details(workspace_url, workspace_name, id_token=user_id_token, access_token=workspace_access_token)\n",
    "workspace_details = response.json()\n",
    "print(json.dumps(workspace_details, indent = 2))"
   ]
  },
  {
   "cell_type": "markdown",
   "id": "seeing-deployment",
   "metadata": {},
   "source": [
    "### Inspect S3 Bucket"
   ]
  },
  {
   "cell_type": "code",
   "execution_count": null,
   "id": "republican-graph",
   "metadata": {},
   "outputs": [],
   "source": [
    "# Bucket details\n",
    "bucket_name = workspace_details[\"storage\"][\"credentials\"][\"bucketname\"]\n",
    "s3_access = workspace_details[\"storage\"][\"credentials\"][\"access\"]\n",
    "s3_secret = workspace_details[\"storage\"][\"credentials\"][\"secret\"]"
   ]
  },
  {
   "cell_type": "code",
   "execution_count": null,
   "id": "ancient-patent",
   "metadata": {},
   "outputs": [],
   "source": [
    "# Quick hack S3 access\n",
    "import boto3\n",
    "\n",
    "# Init S3 session for Creodias\n",
    "S3_ENDPOINT = \"https://cf2.cloudferro.com:8080\"\n",
    "session = boto3.session.Session()\n",
    "s3resource = session.resource('s3', aws_access_key_id=s3_access, aws_secret_access_key=s3_secret, endpoint_url=S3_ENDPOINT)\n",
    "\n",
    "# List bucket contents\n",
    "bucket = s3resource.Bucket(bucket_name)\n",
    "for obj in bucket.objects.all():2021-4162681\n",
    "    print(' ->', obj)"
   ]
  }
 ],
 "metadata": {
  "kernelspec": {
   "display_name": "Python 3",
   "language": "python",
   "name": "python3"
  },
  "language_info": {
   "codemirror_mode": {
    "name": "ipython",
    "version": 3
   },
   "file_extension": ".py",
   "mimetype": "text/x-python",
   "name": "python",
   "nbconvert_exporter": "python",
   "pygments_lexer": "ipython3",
   "version": "3.9.2"
  }
 },
 "nbformat": 4,
 "nbformat_minor": 5
}
