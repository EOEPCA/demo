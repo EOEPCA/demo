{
 "cells": [
  {
   "cell_type": "markdown",
   "id": "conceptual-judges",
   "metadata": {},
   "source": [
    "# Processing\n",
    "Demonstration of Processing endpoints."
   ]
  },
  {
   "cell_type": "code",
   "execution_count": 1,
   "id": "manufactured-repair",
   "metadata": {},
   "outputs": [],
   "source": [
    "import utils.DemoClient as client\n",
    "import jwt\n",
    "import json"
   ]
  },
  {
   "cell_type": "markdown",
   "id": "liable-reform",
   "metadata": {},
   "source": [
    "## Initialise"
   ]
  },
  {
   "cell_type": "markdown",
   "id": "experienced-yemen",
   "metadata": {},
   "source": [
    "### Client\n",
    "We instantiate a client to interact with the platform. The client dynamically registers with the Authorisation Server to take part in UMA (User Managed Access) flows through which authorization is obtained for scoped access resources on behalf of the user."
   ]
  },
  {
   "cell_type": "code",
   "execution_count": 2,
   "id": "fluid-plane",
   "metadata": {},
   "outputs": [
    {
     "name": "stdout",
     "output_type": "stream",
     "text": [
      "State loaded from file: {'client_id': 'dd190636-5973-4b77-8b32-fbea279c8a68', 'client_secret': '3693aa9c-a487-44e4-8b4b-832b43327890'}\n",
      "client_id: dd190636-5973-4b77-8b32-fbea279c8a68 [REUSED]\n",
      "Client state saved to file: state.json\n"
     ]
    }
   ],
   "source": [
    "#-------------------------------------------------------------------------------\n",
    "# Initialise client\n",
    "#-------------------------------------------------------------------------------\n",
    "base_domain = \"demo.eoepca.org\"\n",
    "platform_domain = \"test.\" + base_domain\n",
    "base_url = \"https://\" + platform_domain\n",
    "demo = client.DemoClient(base_url)\n",
    "demo.register_client()\n",
    "demo.save_state()"
   ]
  },
  {
   "cell_type": "markdown",
   "id": "written-somalia",
   "metadata": {},
   "source": [
    "### User\n",
    "User authenticates and the client receives an ID Token (JWT) that represents the user."
   ]
  },
  {
   "cell_type": "code",
   "execution_count": 3,
   "id": "formed-scope",
   "metadata": {
    "tags": []
   },
   "outputs": [
    {
     "name": "stdout",
     "output_type": "stream",
     "text": [
      "[Request] GET => https://test.demo.eoepca.org/.well-known/uma2-configuration\n",
      "<Response [200]>\n",
      "token_endpoint: https://test.demo.eoepca.org/oxauth/restv1/token\n",
      "[Request] POST => https://test.demo.eoepca.org/oxauth/restv1/token\n"
     ]
    }
   ],
   "source": [
    "#-------------------------------------------------------------------------------\n",
    "# Authenticate as UserA and get ID Token\n",
    "#-------------------------------------------------------------------------------\n",
    "USER_NAME=\"bob\"\n",
    "USER_PASSWORD=\"defaultPWD\"\n",
    "user_id_token = demo.get_id_token(USER_NAME, USER_PASSWORD)"
   ]
  },
  {
   "cell_type": "markdown",
   "id": "swiss-librarian",
   "metadata": {},
   "source": [
    "## ADES\n",
    "The ADES provides user-specific endpoints, using a URL path prefix."
   ]
  },
  {
   "cell_type": "code",
   "execution_count": 4,
   "id": "distinguished-particle",
   "metadata": {},
   "outputs": [
    {
     "name": "stdout",
     "output_type": "stream",
     "text": [
      "ADES WPS endpoint: http://ades.test.demo.eoepca.org/bob/zoo\n",
      "ADES API Processes endpoint: http://ades.test.demo.eoepca.org/bob/wps3\n"
     ]
    }
   ],
   "source": [
    "# ADES URLs\n",
    "ades_base_url = \"http://ades.\" + platform_domain\n",
    "ades_wps_url = ades_base_url + \"/\" + USER_NAME + \"/zoo\"; print(\"ADES WPS endpoint:\", ades_wps_url)\n",
    "ades_proc_url = ades_base_url + \"/\" + USER_NAME + \"/wps3\"; print(\"ADES API Processes endpoint:\", ades_proc_url)"
   ]
  },
  {
   "cell_type": "markdown",
   "id": "different-studio",
   "metadata": {},
   "source": [
    "### ADES API Processes"
   ]
  },
  {
   "cell_type": "code",
   "execution_count": 5,
   "id": "architectural-college",
   "metadata": {},
   "outputs": [],
   "source": [
    "ades_access_token = None\n",
    "app_name = \"snuggs-0_3_0\""
   ]
  },
  {
   "cell_type": "markdown",
   "id": "framed-russell",
   "metadata": {},
   "source": [
    "#### ADES: List Processes"
   ]
  },
  {
   "cell_type": "code",
   "execution_count": 6,
   "id": "progressive-experiment",
   "metadata": {},
   "outputs": [
    {
     "name": "stdout",
     "output_type": "stream",
     "text": [
      "[Request] GET => http://ades.test.demo.eoepca.org/bob/wps3/processes\n",
      "[Request] POST => https://test.demo.eoepca.org/oxauth/restv1/token\n",
      "[Request] GET => http://ades.test.demo.eoepca.org/bob/wps3/processes\n",
      "[Process List] = 200 (OK)\n",
      "Processes: ['DeployProcess', 'GetStatus', 'snuggs-0_3_0', 'UndeployProcess']\n"
     ]
    }
   ],
   "source": [
    "# API Processes - List Processes\n",
    "response, ades_access_token, process_ids = demo.proc_list_processes(ades_proc_url, id_token=user_id_token, access_token=ades_access_token)\n",
    "print(\"Processes:\", process_ids)"
   ]
  },
  {
   "cell_type": "markdown",
   "id": "aggregate-scratch",
   "metadata": {},
   "source": [
    "#### ADES: Deploy Application"
   ]
  },
  {
   "cell_type": "code",
   "execution_count": 7,
   "id": "legal-thunder",
   "metadata": {},
   "outputs": [
    {
     "name": "stdout",
     "output_type": "stream",
     "text": [
      "Application details read from file: ../data/snuggs-0.3.0/app-deploy-body-cwl.json\n",
      "[Request] POST => http://ades.test.demo.eoepca.org/bob/wps3/processes\n",
      "[Request] POST => https://test.demo.eoepca.org/oxauth/restv1/token\n",
      "[Request] POST => http://ades.test.demo.eoepca.org/bob/wps3/processes\n",
      "[Deploy Response] = 201 (CREATED)\n"
     ]
    }
   ],
   "source": [
    "# API Processes - Deploy Application\n",
    "response, ades_access_token = demo.proc_deploy_application(ades_proc_url, \"../data/snuggs-0.3.0/app-deploy-body-cwl.json\", id_token=user_id_token, access_token=ades_access_token)"
   ]
  },
  {
   "cell_type": "code",
   "execution_count": 8,
   "id": "suffering-message",
   "metadata": {
    "tags": []
   },
   "outputs": [
    {
     "name": "stdout",
     "output_type": "stream",
     "text": [
      "[Request] GET => http://ades.test.demo.eoepca.org/bob/wps3/processes\n",
      "[Request] POST => https://test.demo.eoepca.org/oxauth/restv1/token\n",
      "[Request] GET => http://ades.test.demo.eoepca.org/bob/wps3/processes\n",
      "[Process List] = 200 (OK)\n",
      "Processes: ['DeployProcess', 'GetStatus', 'snuggs-0_3_0', 'UndeployProcess']\n"
     ]
    }
   ],
   "source": [
    "# Check deploy - list processes again\n",
    "response, ades_access_token, process_ids = demo.proc_list_processes(ades_proc_url, id_token=user_id_token, access_token=ades_access_token)\n",
    "print(\"Processes:\", process_ids)"
   ]
  },
  {
   "cell_type": "markdown",
   "id": "intimate-douglas",
   "metadata": {},
   "source": [
    "#### ADES: Get Application Details"
   ]
  },
  {
   "cell_type": "code",
   "execution_count": 9,
   "id": "surgical-cleveland",
   "metadata": {},
   "outputs": [
    {
     "name": "stdout",
     "output_type": "stream",
     "text": [
      "[Request] GET => http://ades.test.demo.eoepca.org/bob/wps3/processes/snuggs-0_3_0\n",
      "[Request] POST => https://test.demo.eoepca.org/oxauth/restv1/token\n",
      "[Request] GET => http://ades.test.demo.eoepca.org/bob/wps3/processes/snuggs-0_3_0\n",
      "[App Details] = 200 (OK)\n",
      "{\n",
      "  \"process\": {\n",
      "    \"id\": \"snuggs-0_3_0\",\n",
      "    \"title\": \"s expressions\",\n",
      "    \"abstract\": \"Applies s expressions to EO acquisitions\",\n",
      "    \"version\": \"0.3.0\",\n",
      "    \"jobControlOptions\": [\n",
      "      \"sync-execute\",\n",
      "      \"async-execute\",\n",
      "      \"dismiss\"\n",
      "    ],\n",
      "    \"outputTransmission\": [\n",
      "      \"value\",\n",
      "      \"reference\"\n",
      "    ],\n",
      "    \"links\": [\n",
      "      {\n",
      "        \"rel\": \"canonical\",\n",
      "        \"type\": \"application/json\",\n",
      "        \"title\": \"Execute End Point\",\n",
      "        \"href\": \"/watchjob/processes/snuggs-0_3_0/jobs/\"\n",
      "      }\n",
      "    ],\n",
      "    \"inputs\": [\n",
      "      {\n",
      "        \"id\": \"input_reference\",\n",
      "        \"title\": \"Input product reference\",\n",
      "        \"abstract\": \"Input product reference\",\n",
      "        \"minOccurs\": \"1\",\n",
      "        \"maxOccurs\": \"999\",\n",
      "        \"input\": {\n",
      "          \"literalDataDomains\": [\n",
      "            {\n",
      "              \"dataType\": {\n",
      "                \"name\": \"string\"\n",
      "              },\n",
      "              \"valueDefinition\": {\n",
      "                \"anyValue\": true\n",
      "              }\n",
      "            }\n",
      "          ]\n",
      "        }\n",
      "      },\n",
      "      {\n",
      "        \"id\": \"s_expression\",\n",
      "        \"title\": \"s expression\",\n",
      "        \"abstract\": \"s expression\",\n",
      "        \"minOccurs\": \"1\",\n",
      "        \"maxOccurs\": \"999\",\n",
      "        \"input\": {\n",
      "          \"literalDataDomains\": [\n",
      "            {\n",
      "              \"dataType\": {\n",
      "                \"name\": \"string\"\n",
      "              },\n",
      "              \"valueDefinition\": {\n",
      "                \"anyValue\": true\n",
      "              }\n",
      "            }\n",
      "          ]\n",
      "        }\n",
      "      }\n",
      "    ],\n",
      "    \"outputs\": [\n",
      "      {\n",
      "        \"id\": \"wf_outputs\",\n",
      "        \"title\": \"wf_outputs\",\n",
      "        \"output\": {\n",
      "          \"formats\": [\n",
      "            {\n",
      "              \"default\": true,\n",
      "              \"mimeType\": \"application/json\"\n",
      "            }\n",
      "          ]\n",
      "        }\n",
      "      }\n",
      "    ]\n",
      "  }\n",
      "}\n"
     ]
    }
   ],
   "source": [
    "# API Processes - Get Application Details\n",
    "response, ades_access_token = demo.proc_get_app_details(ades_proc_url, app_name, id_token=user_id_token, access_token=ades_access_token)\n",
    "print(json.dumps(response.json(), indent = 2))"
   ]
  },
  {
   "cell_type": "markdown",
   "id": "fourth-decline",
   "metadata": {},
   "source": [
    "#### ADES: Execute Application"
   ]
  },
  {
   "cell_type": "code",
   "execution_count": 10,
   "id": "existing-soccer",
   "metadata": {},
   "outputs": [
    {
     "name": "stdout",
     "output_type": "stream",
     "text": [
      "Application execute details read from file: ../data/snuggs-0.3.0/app-execute-body.json\n",
      "[Request] POST => http://ades.test.demo.eoepca.org/bob/wps3/processes/snuggs-0_3_0/jobs\n",
      "[Request] POST => https://test.demo.eoepca.org/oxauth/restv1/token\n",
      "[Request] POST => http://ades.test.demo.eoepca.org/bob/wps3/processes/snuggs-0_3_0/jobs\n",
      "[Execute Response] = 201 (CREATED) => job=/bob/watchjob/processes/snuggs-0_3_0/jobs/f801bf46-24e8-11ec-a49a-4aeb5f6e9bf7\n"
     ]
    }
   ],
   "source": [
    "# API Processes - Execute Application\n",
    "response, ades_access_token, job_location_path = demo.proc_execute_application(ades_proc_url, app_name, \"../data/snuggs-0.3.0/app-execute-body.json\", id_token=user_id_token, access_token=ades_access_token)"
   ]
  },
  {
   "cell_type": "markdown",
   "id": "frozen-while",
   "metadata": {},
   "source": [
    "#### ADES: Job Status"
   ]
  },
  {
   "cell_type": "code",
   "execution_count": 11,
   "id": "amateur-technique",
   "metadata": {},
   "outputs": [
    {
     "name": "stdout",
     "output_type": "stream",
     "text": [
      "[Request] GET => http://ades.test.demo.eoepca.org/bob/watchjob/processes/snuggs-0_3_0/jobs/f801bf46-24e8-11ec-a49a-4aeb5f6e9bf7\n",
      "[Request] POST => https://test.demo.eoepca.org/oxauth/restv1/token\n",
      "[Request] GET => http://ades.test.demo.eoepca.org/bob/watchjob/processes/snuggs-0_3_0/jobs/f801bf46-24e8-11ec-a49a-4aeb5f6e9bf7\n",
      "[Job Status] = 200 (OK) => 04/10/2021 07:59:19 - running\n",
      "{\n",
      "  \"jobID\": \"f801bf46-24e8-11ec-a49a-4aeb5f6e9bf7\",\n",
      "  \"started\": \"2021-10-04T07:59:15.351957Z\",\n",
      "  \"status\": \"running\",\n",
      "  \"message\": \"running\",\n",
      "  \"progress\": \"0\",\n",
      "  \"links\": [\n",
      "    {\n",
      "      \"href\": \"http://ades.test.demo.eoepca.org//bob/watchjob/processes/snuggs-0_3_0/jobs/f801bf46-24e8-11ec-a49a-4aeb5f6e9bf7\",\n",
      "      \"rel\": \"self\",\n",
      "      \"type\": \"application/json\",\n",
      "      \"title\": \"get Status\"\n",
      "    }\n",
      "  ]\n",
      "}\n"
     ]
    }
   ],
   "source": [
    "# API Processes - Job Status\n",
    "response, ades_access_token, status = demo.proc_get_job_status(ades_base_url, job_location_path, id_token=user_id_token, access_token=ades_access_token)\n",
    "print(json.dumps(response.json(), indent = 2))"
   ]
  },
  {
   "cell_type": "code",
   "execution_count": 12,
   "id": "infinite-eleven",
   "metadata": {},
   "outputs": [
    {
     "name": "stdout",
     "output_type": "stream",
     "text": [
      "[Job Status] = 200 (OK) => 04/10/2021 07:59:22 - running\n",
      "[Job Status] = 200 (OK) => 04/10/2021 07:59:34 - running\n",
      "[Job Status] = 200 (OK) => 04/10/2021 07:59:45 - running\n",
      "[Job Status] = 200 (OK) => 04/10/2021 07:59:56 - running\n",
      "[Job Status] = 200 (OK) => 04/10/2021 08:00:07 - running\n",
      "[Job Status] = 200 (OK) => 04/10/2021 08:00:19 - running\n",
      "[Job Status] = 200 (OK) => 04/10/2021 08:00:31 - running\n",
      "[Job Status] = 200 (OK) => 04/10/2021 08:00:42 - running\n",
      "[Job Status] = 200 (OK) => 04/10/2021 08:00:53 - running\n",
      "[Job Status] = 200 (OK) => 04/10/2021 08:01:04 - running\n",
      "[Job Status] = 200 (OK) => 04/10/2021 08:01:16 - running\n",
      "[Job Status] = 200 (OK) => 04/10/2021 08:01:27 - running\n",
      "[Job Status] = 200 (OK) => 04/10/2021 08:01:38 - running\n",
      "[Job Status] = 200 (OK) => 04/10/2021 08:01:50 - running\n",
      "[Job Status] = 200 (OK) => 04/10/2021 08:02:01 - running\n",
      "[Job Status] = 200 (OK) => 04/10/2021 08:02:12 - running\n",
      "[Job Status] = 200 (OK) => 04/10/2021 08:02:24 - running\n",
      "[Job Status] = 200 (OK) => 04/10/2021 08:02:35 - running\n",
      "[Job Status] = 200 (OK) => 04/10/2021 08:02:47 - running\n",
      "[Job Status] = 200 (OK) => 04/10/2021 08:02:58 - running\n",
      "[Job Status] = 200 (OK) => 04/10/2021 08:03:10 - running\n",
      "[Job Status] = 200 (OK) => 04/10/2021 08:03:21 - running\n",
      "[Job Status] = 200 (OK) => 04/10/2021 08:03:32 - running\n",
      "[Job Status] = 200 (OK) => 04/10/2021 08:03:43 - running\n",
      "[Job Status] = 200 (OK) => 04/10/2021 08:03:54 - running\n",
      "[Job Status] = 200 (OK) => 04/10/2021 08:04:06 - running\n",
      "[Job Status] = 200 (OK) => 04/10/2021 08:04:18 - running\n",
      "[Job Status] = 200 (OK) => 04/10/2021 08:04:29 - running\n",
      "[Job Status] = 200 (OK) => 04/10/2021 08:04:41 - running\n",
      "[Job Status] = 200 (OK) => 04/10/2021 08:04:52 - running\n",
      "[Job Status] = 200 (OK) => 04/10/2021 08:05:03 - running\n",
      "[Job Status] = 200 (OK) => 04/10/2021 08:05:14 - running\n",
      "[Job Status] = 200 (OK) => 04/10/2021 08:05:26 - running\n",
      "[Job Status] = 200 (OK) => 04/10/2021 08:05:37 - running\n",
      "[Job Status] = 200 (OK) => 04/10/2021 08:05:48 - running\n",
      "[Job Status] = 200 (OK) => 04/10/2021 08:05:59 - running\n",
      "[Job Status] = 200 (OK) => 04/10/2021 08:06:11 - running\n",
      "[Job Status] = 200 (OK) => 04/10/2021 08:06:23 - running\n",
      "[Job Status] = 200 (OK) => 04/10/2021 08:06:34 - running\n",
      "[Job Status] = 200 (OK) => 04/10/2021 08:06:45 - running\n",
      "[Job Status] = 200 (OK) => 04/10/2021 08:06:56 - running\n",
      "[Job Status] = 200 (OK) => 04/10/2021 08:07:08 - running\n",
      "[Job Status] = 200 (OK) => 04/10/2021 08:07:19 - running\n",
      "[Job Status] = 200 (OK) => 04/10/2021 08:07:30 - running\n",
      "[Job Status] = 200 (OK) => 04/10/2021 08:07:42 - running\n",
      "[Job Status] = 200 (OK) => 04/10/2021 08:07:53 - running\n",
      "[Job Status] = 200 (OK) => 04/10/2021 08:08:04 - running\n",
      "[Job Status] = 200 (OK) => 04/10/2021 08:08:16 - running\n",
      "[Job Status] = 200 (OK) => 04/10/2021 08:08:27 - running\n",
      "[Job Status] = 200 (OK) => 04/10/2021 08:08:38 - running\n",
      "[Job Status] = 200 (OK) => 04/10/2021 08:08:49 - running\n",
      "[Job Status] = 200 (OK) => 04/10/2021 08:09:01 - running\n",
      "[Job Status] = 200 (OK) => 04/10/2021 08:09:12 - running\n",
      "[Job Status] = 200 (OK) => 04/10/2021 08:09:24 - running\n",
      "[Job Status] = 200 (OK) => 04/10/2021 08:09:35 - running\n",
      "[Job Status] = 200 (OK) => 04/10/2021 08:09:47 - running\n",
      "[Job Status] = 200 (OK) => 04/10/2021 08:09:58 - running\n",
      "[Job Status] = 200 (OK) => 04/10/2021 08:10:09 - running\n",
      "[Job Status] = 200 (OK) => 04/10/2021 08:10:20 - running\n",
      "[Job Status] = 200 (OK) => 04/10/2021 08:10:31 - running\n",
      "[Job Status] = 200 (OK) => 04/10/2021 08:10:43 - running\n",
      "[Job Status] = 200 (OK) => 04/10/2021 08:10:54 - running\n",
      "[Job Status] = 200 (OK) => 04/10/2021 08:11:05 - running\n",
      "[Job Status] = 200 (OK) => 04/10/2021 08:11:16 - running\n",
      "[Job Status] = 200 (OK) => 04/10/2021 08:11:28 - running\n",
      "[Job Status] = 200 (OK) => 04/10/2021 08:11:39 - running\n",
      "[Job Status] = 200 (OK) => 04/10/2021 08:11:50 - running\n",
      "[Job Status] = 200 (OK) => 04/10/2021 08:12:01 - running\n",
      "[Job Status] = 200 (OK) => 04/10/2021 08:12:12 - running\n",
      "[Job Status] = 200 (OK) => 04/10/2021 08:12:24 - running\n",
      "[Job Status] = 200 (OK) => 04/10/2021 08:12:35 - running\n",
      "[Job Status] = 200 (OK) => 04/10/2021 08:12:46 - running\n",
      "[Job Status] = 200 (OK) => 04/10/2021 08:12:57 - running\n",
      "[Job Status] = 200 (OK) => 04/10/2021 08:13:09 - running\n",
      "[Job Status] = 200 (OK) => 04/10/2021 08:13:20 - running\n",
      "[Job Status] = 200 (OK) => 04/10/2021 08:13:31 - running\n",
      "[Job Status] = 200 (OK) => 04/10/2021 08:13:42 - running\n",
      "[Job Status] = 200 (OK) => 04/10/2021 08:13:53 - running\n",
      "[Job Status] = 200 (OK) => 04/10/2021 08:14:05 - running\n",
      "[Job Status] = 200 (OK) => 04/10/2021 08:14:16 - running\n",
      "[Job Status] = 200 (OK) => 04/10/2021 08:14:27 - running\n",
      "[Job Status] = 200 (OK) => 04/10/2021 08:14:38 - running\n",
      "[Job Status] = 200 (OK) => 04/10/2021 08:14:49 - running\n",
      "[Job Status] = 200 (OK) => 04/10/2021 08:15:01 - running\n",
      "[Job Status] = 200 (OK) => 04/10/2021 08:15:13 - running\n",
      "[Job Status] = 200 (OK) => 04/10/2021 08:15:27 - running\n",
      "[Job Status] = 200 (OK) => 04/10/2021 08:15:38 - running\n",
      "[Job Status] = 200 (OK) => 04/10/2021 08:15:50 - running\n",
      "[Job Status] = 200 (OK) => 04/10/2021 08:16:02 - running\n",
      "[Job Status] = 200 (OK) => 04/10/2021 08:16:13 - running\n",
      "[Job Status] = 200 (OK) => 04/10/2021 08:16:24 - running\n",
      "[Job Status] = 200 (OK) => 04/10/2021 08:16:36 - running\n",
      "[Job Status] = 200 (OK) => 04/10/2021 08:16:47 - running\n",
      "[Job Status] = 200 (OK) => 04/10/2021 08:16:58 - running\n",
      "[Job Status] = 200 (OK) => 04/10/2021 08:17:10 - running\n",
      "[Job Status] = 200 (OK) => 04/10/2021 08:17:21 - running\n",
      "[Job Status] = 200 (OK) => 04/10/2021 08:17:32 - running\n",
      "[Job Status] = 200 (OK) => 04/10/2021 08:17:44 - running\n",
      "[Job Status] = 200 (OK) => 04/10/2021 08:17:56 - running\n",
      "[Job Status] = 200 (OK) => 04/10/2021 08:18:07 - running\n",
      "[Job Status] = 200 (OK) => 04/10/2021 08:18:19 - running\n",
      "[Job Status] = 200 (OK) => 04/10/2021 08:18:30 - running\n",
      "[Job Status] = 200 (OK) => 04/10/2021 08:18:41 - running\n",
      "[Job Status] = 200 (OK) => 04/10/2021 08:18:52 - running\n",
      "[Job Status] = 200 (OK) => 04/10/2021 08:19:04 - running\n",
      "[Job Status] = 200 (OK) => 04/10/2021 08:19:15 - running\n",
      "[Job Status] = 200 (OK) => 04/10/2021 08:19:26 - running\n",
      "[Job Status] = 200 (OK) => 04/10/2021 08:19:37 - running\n",
      "[Job Status] = 200 (OK) => 04/10/2021 08:19:48 - running\n",
      "[Job Status] = 200 (OK) => 04/10/2021 08:20:00 - running\n",
      "[Job Status] = 200 (OK) => 04/10/2021 08:20:11 - running\n",
      "[Job Status] = 200 (OK) => 04/10/2021 08:20:22 - running\n",
      "[Job Status] = 200 (OK) => 04/10/2021 08:20:33 - running\n",
      "[Job Status] = 200 (OK) => 04/10/2021 08:20:45 - running\n",
      "[Job Status] = 200 (OK) => 04/10/2021 08:20:57 - running\n",
      "[Job Status] = 200 (OK) => 04/10/2021 08:21:08 - running\n",
      "[Job Status] = 200 (OK) => 04/10/2021 08:21:21 - running\n",
      "[Job Status] = 200 (OK) => 04/10/2021 08:21:32 - running\n",
      "[Job Status] = 200 (OK) => 04/10/2021 08:21:43 - running\n",
      "[Job Status] = 200 (OK) => 04/10/2021 08:21:54 - running\n",
      "[Job Status] = 200 (OK) => 04/10/2021 08:22:06 - running\n",
      "[Job Status] = 200 (OK) => 04/10/2021 08:22:17 - running\n",
      "[Job Status] = 200 (OK) => 04/10/2021 08:22:28 - running\n",
      "[Job Status] = 200 (OK) => 04/10/2021 08:22:39 - running\n",
      "[Job Status] = 200 (OK) => 04/10/2021 08:22:51 - running\n",
      "[Job Status] = 200 (OK) => 04/10/2021 08:23:02 - running\n",
      "[Job Status] = 200 (OK) => 04/10/2021 08:23:13 - running\n",
      "[Job Status] = 200 (OK) => 04/10/2021 08:23:25 - running\n",
      "[Job Status] = 200 (OK) => 04/10/2021 08:23:36 - running\n",
      "[Job Status] = 200 (OK) => 04/10/2021 08:23:47 - running\n",
      "[Job Status] = 200 (OK) => 04/10/2021 08:23:59 - running\n",
      "[Job Status] = 200 (OK) => 04/10/2021 08:24:10 - running\n",
      "[Job Status] = 200 (OK) => 04/10/2021 08:24:21 - running\n",
      "[Job Status] = 200 (OK) => 04/10/2021 08:24:33 - running\n",
      "[Job Status] = 200 (OK) => 04/10/2021 08:24:45 - running\n",
      "[Job Status] = 200 (OK) => 04/10/2021 08:24:56 - running\n",
      "[Job Status] = 200 (OK) => 04/10/2021 08:25:08 - running\n",
      "[Job Status] = 200 (OK) => 04/10/2021 08:25:19 - running\n",
      "[Job Status] = 200 (OK) => 04/10/2021 08:25:30 - running\n",
      "[Job Status] = 200 (OK) => 04/10/2021 08:25:42 - running\n",
      "[Job Status] = 200 (OK) => 04/10/2021 08:25:54 - running\n",
      "[Job Status] = 200 (OK) => 04/10/2021 08:26:05 - running\n",
      "[Job Status] = 200 (OK) => 04/10/2021 08:26:16 - running\n",
      "[Job Status] = 200 (OK) => 04/10/2021 08:26:27 - running\n",
      "[Job Status] = 200 (OK) => 04/10/2021 08:26:38 - running\n",
      "[Job Status] = 200 (OK) => 04/10/2021 08:26:50 - running\n",
      "[Job Status] = 200 (OK) => 04/10/2021 08:27:01 - running\n",
      "[Job Status] = 200 (OK) => 04/10/2021 08:27:12 - running\n",
      "[Job Status] = 200 (OK) => 04/10/2021 08:27:23 - running\n",
      "[Job Status] = 200 (OK) => 04/10/2021 08:27:34 - running\n",
      "[Job Status] = 200 (OK) => 04/10/2021 08:27:45 - running\n",
      "[Job Status] = 200 (OK) => 04/10/2021 08:27:57 - running\n",
      "[Job Status] = 200 (OK) => 04/10/2021 08:28:08 - running\n",
      "[Job Status] = 200 (OK) => 04/10/2021 08:28:20 - running\n",
      "[Job Status] = 200 (OK) => 04/10/2021 08:28:31 - running\n",
      "[Job Status] = 200 (OK) => 04/10/2021 08:28:43 - running\n",
      "[Job Status] = 200 (OK) => 04/10/2021 08:28:54 - running\n",
      "[Job Status] = 200 (OK) => 04/10/2021 08:29:05 - running\n",
      "[Job Status] = 200 (OK) => 04/10/2021 08:29:16 - running\n",
      "[Job Status] = 200 (OK) => 04/10/2021 08:29:27 - running\n",
      "[Job Status] = 200 (OK) => 04/10/2021 08:29:39 - running\n",
      "[Job Status] = 200 (OK) => 04/10/2021 08:29:50 - running\n",
      "[Job Status] = 200 (OK) => 04/10/2021 08:30:01 - running\n",
      "[Job Status] = 200 (OK) => 04/10/2021 08:30:12 - running\n",
      "[Job Status] = 200 (OK) => 04/10/2021 08:30:23 - running\n",
      "[Job Status] = 200 (OK) => 04/10/2021 08:30:35 - running\n",
      "[Job Status] = 200 (OK) => 04/10/2021 08:30:46 - running\n",
      "[Job Status] = 200 (OK) => 04/10/2021 08:30:57 - running\n",
      "[Job Status] = 200 (OK) => 04/10/2021 08:31:08 - running\n",
      "[Job Status] = 200 (OK) => 04/10/2021 08:31:19 - running\n",
      "[Job Status] = 200 (OK) => 04/10/2021 08:31:31 - running\n",
      "[Job Status] = 200 (OK) => 04/10/2021 08:31:42 - running\n",
      "[Job Status] = 200 (OK) => 04/10/2021 08:31:53 - running\n",
      "[Job Status] = 200 (OK) => 04/10/2021 08:32:04 - running\n",
      "[Job Status] = 200 (OK) => 04/10/2021 08:32:16 - running\n",
      "[Job Status] = 200 (OK) => 04/10/2021 08:32:27 - running\n",
      "[Job Status] = 200 (OK) => 04/10/2021 08:32:38 - running\n",
      "[Job Status] = 200 (OK) => 04/10/2021 08:32:49 - running\n",
      "[Job Status] = 200 (OK) => 04/10/2021 08:33:00 - running\n",
      "[Job Status] = 200 (OK) => 04/10/2021 08:33:12 - running\n",
      "[Job Status] = 200 (OK) => 04/10/2021 08:33:23 - running\n",
      "[Job Status] = 200 (OK) => 04/10/2021 08:33:34 - running\n",
      "[Job Status] = 200 (OK) => 04/10/2021 08:33:45 - running\n",
      "[Job Status] = 200 (OK) => 04/10/2021 08:33:57 - running\n",
      "[Job Status] = 200 (OK) => 04/10/2021 08:34:08 - running\n",
      "[Job Status] = 200 (OK) => 04/10/2021 08:34:19 - running\n",
      "[Job Status] = 200 (OK) => 04/10/2021 08:34:30 - running\n",
      "[Job Status] = 200 (OK) => 04/10/2021 08:34:42 - running\n",
      "[Job Status] = 200 (OK) => 04/10/2021 08:34:53 - running\n",
      "[Job Status] = 200 (OK) => 04/10/2021 08:35:04 - running\n",
      "[Job Status] = 200 (OK) => 04/10/2021 08:35:16 - running\n",
      "[Job Status] = 200 (OK) => 04/10/2021 08:35:27 - running\n",
      "[Job Status] = 200 (OK) => 04/10/2021 08:35:38 - running\n",
      "[Job Status] = 200 (OK) => 04/10/2021 08:35:49 - running\n",
      "[Job Status] = 200 (OK) => 04/10/2021 08:36:01 - running\n",
      "[Job Status] = 200 (OK) => 04/10/2021 08:36:12 - running\n",
      "[Job Status] = 200 (OK) => 04/10/2021 08:36:23 - running\n",
      "[Job Status] = 200 (OK) => 04/10/2021 08:36:34 - running\n",
      "[Job Status] = 200 (OK) => 04/10/2021 08:36:46 - running\n",
      "[Job Status] = 200 (OK) => 04/10/2021 08:36:57 - running\n",
      "[Job Status] = 200 (OK) => 04/10/2021 08:37:08 - running\n",
      "[Job Status] = 200 (OK) => 04/10/2021 08:37:19 - running\n",
      "[Job Status] = 200 (OK) => 04/10/2021 08:37:30 - running\n",
      "[Job Status] = 200 (OK) => 04/10/2021 08:37:41 - running\n",
      "[Job Status] = 200 (OK) => 04/10/2021 08:37:54 - running\n",
      "[Job Status] = 200 (OK) => 04/10/2021 08:38:05 - running\n",
      "[Job Status] = 200 (OK) => 04/10/2021 08:38:16 - running\n",
      "[Job Status] = 200 (OK) => 04/10/2021 08:38:27 - running\n",
      "[Job Status] = 200 (OK) => 04/10/2021 08:38:39 - running\n",
      "[Job Status] = 200 (OK) => 04/10/2021 08:38:50 - running\n",
      "[Job Status] = 200 (OK) => 04/10/2021 08:39:01 - running\n",
      "[Job Status] = 200 (OK) => 04/10/2021 08:39:12 - running\n",
      "[Job Status] = 200 (OK) => 04/10/2021 08:39:23 - running\n",
      "[Job Status] = 200 (OK) => 04/10/2021 08:39:34 - running\n",
      "[Job Status] = 200 (OK) => 04/10/2021 08:39:47 - running\n",
      "[Job Status] = 200 (OK) => 04/10/2021 08:39:58 - running\n",
      "[Job Status] = 200 (OK) => 04/10/2021 08:40:11 - running\n",
      "[Job Status] = 200 (OK) => 04/10/2021 08:40:22 - running\n",
      "[Job Status] = 200 (OK) => 04/10/2021 08:40:37 - running\n",
      "[Job Status] = 200 (OK) => 04/10/2021 08:40:48 - running\n",
      "[Job Status] = 200 (OK) => 04/10/2021 08:40:59 - running\n",
      "[Job Status] = 200 (OK) => 04/10/2021 08:41:10 - running\n",
      "[Job Status] = 200 (OK) => 04/10/2021 08:41:22 - running\n",
      "[Job Status] = 200 (OK) => 04/10/2021 08:41:33 - running\n",
      "[Job Status] = 200 (OK) => 04/10/2021 08:41:44 - running\n",
      "[Job Status] = 200 (OK) => 04/10/2021 08:41:55 - running\n",
      "[Job Status] = 200 (OK) => 04/10/2021 08:42:07 - running\n",
      "[Job Status] = 200 (OK) => 04/10/2021 08:42:18 - running\n",
      "[Job Status] = 200 (OK) => 04/10/2021 08:42:29 - running\n",
      "[Job Status] = 200 (OK) => 04/10/2021 08:42:40 - running\n",
      "[Job Status] = 200 (OK) => 04/10/2021 08:42:52 - running\n",
      "[Job Status] = 200 (OK) => 04/10/2021 08:43:03 - running\n",
      "[Job Status] = 200 (OK) => 04/10/2021 08:43:14 - running\n",
      "[Job Status] = 200 (OK) => 04/10/2021 08:43:25 - running\n",
      "[Job Status] = 200 (OK) => 04/10/2021 08:43:37 - running\n",
      "[Job Status] = 200 (OK) => 04/10/2021 08:43:48 - running\n",
      "[Job Status] = 200 (OK) => 04/10/2021 08:43:59 - running\n",
      "[Job Status] = 200 (OK) => 04/10/2021 08:44:10 - running\n",
      "[Job Status] = 200 (OK) => 04/10/2021 08:44:21 - running\n",
      "[Job Status] = 200 (OK) => 04/10/2021 08:44:33 - running\n",
      "[Job Status] = 200 (OK) => 04/10/2021 08:44:44 - running\n",
      "[Job Status] = 200 (OK) => 04/10/2021 08:44:55 - running\n",
      "[Job Status] = 200 (OK) => 04/10/2021 08:45:07 - running\n",
      "[Job Status] = 200 (OK) => 04/10/2021 08:45:18 - running\n",
      "[Job Status] = 200 (OK) => 04/10/2021 08:45:30 - running\n",
      "[Job Status] = 200 (OK) => 04/10/2021 08:45:41 - running\n",
      "[Job Status] = 200 (OK) => 04/10/2021 08:45:52 - running\n",
      "[Job Status] = 200 (OK) => 04/10/2021 08:46:03 - running\n",
      "[Job Status] = 200 (OK) => 04/10/2021 08:46:15 - running\n",
      "[Job Status] = 200 (OK) => 04/10/2021 08:46:26 - running\n",
      "[Job Status] = 200 (OK) => 04/10/2021 08:46:40 - running\n",
      "[Job Status] = 200 (OK) => 04/10/2021 08:46:51 - running\n",
      "[Job Status] = 200 (OK) => 04/10/2021 08:47:02 - running\n",
      "[Job Status] = 200 (OK) => 04/10/2021 08:47:14 - running\n",
      "[Job Status] = 200 (OK) => 04/10/2021 08:47:25 - running\n",
      "[Job Status] = 200 (OK) => 04/10/2021 08:47:36 - running\n",
      "[Job Status] = 200 (OK) => 04/10/2021 08:47:47 - running\n",
      "[Job Status] = 200 (OK) => 04/10/2021 08:47:59 - running\n",
      "[Job Status] = 200 (OK) => 04/10/2021 08:48:11 - running\n",
      "[Job Status] = 200 (OK) => 04/10/2021 08:48:22 - running\n",
      "[Job Status] = 200 (OK) => 04/10/2021 08:48:33 - running\n",
      "[Job Status] = 200 (OK) => 04/10/2021 08:48:44 - running\n",
      "[Job Status] = 200 (OK) => 04/10/2021 08:48:56 - running\n",
      "[Job Status] = 200 (OK) => 04/10/2021 08:49:07 - running\n",
      "[Job Status] = 200 (OK) => 04/10/2021 08:49:18 - running\n",
      "[Job Status] = 200 (OK) => 04/10/2021 08:49:30 - running\n",
      "[Job Status] = 200 (OK) => 04/10/2021 08:49:41 - running\n",
      "[Job Status] = 200 (OK) => 04/10/2021 08:49:52 - running\n",
      "[Job Status] = 200 (OK) => 04/10/2021 08:50:03 - running\n",
      "[Job Status] = 200 (OK) => 04/10/2021 08:50:14 - running\n",
      "[Job Status] = 200 (OK) => 04/10/2021 08:50:26 - running\n",
      "[Job Status] = 200 (OK) => 04/10/2021 08:50:37 - running\n",
      "[Job Status] = 200 (OK) => 04/10/2021 08:50:49 - running\n",
      "[Job Status] = 200 (OK) => 04/10/2021 08:51:00 - running\n",
      "[Job Status] = 200 (OK) => 04/10/2021 08:51:12 - running\n",
      "[Job Status] = 200 (OK) => 04/10/2021 08:51:23 - running\n",
      "[Job Status] = 200 (OK) => 04/10/2021 08:51:34 - running\n",
      "[Job Status] = 200 (OK) => 04/10/2021 08:51:45 - running\n",
      "[Job Status] = 200 (OK) => 04/10/2021 08:51:57 - running\n",
      "[Job Status] = 200 (OK) => 04/10/2021 08:52:09 - running\n",
      "[Job Status] = 200 (OK) => 04/10/2021 08:52:20 - successful\n"
     ]
    }
   ],
   "source": [
    "# API Processes - Job Status (keep polling for completion)\n",
    "response, ades_access_token, status = demo.proc_poll_job_completion(ades_base_url, job_location_path, interval=10, id_token=user_id_token, access_token=ades_access_token)"
   ]
  },
  {
   "cell_type": "code",
   "execution_count": 13,
   "id": "steady-revolution",
   "metadata": {},
   "outputs": [
    {
     "name": "stdout",
     "output_type": "stream",
     "text": [
      "200 {'Server': 'nginx/1.19.1', 'Date': 'Mon, 04 Oct 2021 08:52:20 GMT', 'Content-Type': 'application/json;charset=UTF-8', 'Transfer-Encoding': 'chunked', 'Connection': 'keep-alive', 'Vary': 'Accept-Encoding', 'Strict-Transport-Security': 'max-age=15724800; includeSubDomains', 'Content-Encoding': 'gzip'} { \"jobID\": \"f801bf46-24e8-11ec-a49a-4aeb5f6e9bf7\", \"started\": \"2021-10-04T07:59:15.351957Z\", \"finished\": \"2021-10-04T08:52:13.353877Z\", \"status\": \"successful\", \"message\": \"Done\", \"progress\": \"100\", \"links\": [ { \"href\": \"http:\\/\\/ades.test.demo.eoepca.org\\/\\/bob\\/watchjob\\/processes\\/snuggs-0_3_0\\/jobs\\/f801bf46-24e8-11ec-a49a-4aeb5f6e9bf7\", \"rel\": \"self\", \"type\": \"application\\/json\", \"title\": \"get Status\" } ] }\n"
     ]
    }
   ],
   "source": [
    "print(response.status_code, response.headers, response.text)"
   ]
  },
  {
   "cell_type": "markdown",
   "id": "suitable-construction",
   "metadata": {},
   "source": [
    "#### ADES: Job Result"
   ]
  },
  {
   "cell_type": "code",
   "execution_count": 14,
   "id": "elegant-remains",
   "metadata": {},
   "outputs": [
    {
     "name": "stdout",
     "output_type": "stream",
     "text": [
      "[Request] GET => http://ades.test.demo.eoepca.org/bob/watchjob/processes/snuggs-0_3_0/jobs/f801bf46-24e8-11ec-a49a-4aeb5f6e9bf7/result\n",
      "[Request] POST => https://test.demo.eoepca.org/oxauth/restv1/token\n",
      "[Request] GET => http://ades.test.demo.eoepca.org/bob/watchjob/processes/snuggs-0_3_0/jobs/f801bf46-24e8-11ec-a49a-4aeb5f6e9bf7/result\n",
      "[Job Result] = 200 (OK) => s3://ada6b03cde1846678c9ac78dfb4067c6:demo-user-bob/wf-f801bf46-24e8-11ec-a49a-4aeb5f6e9bf7/catalog.json\n",
      "{\n",
      "  \"outputs\": [\n",
      "    {\n",
      "      \"id\": \"wf_outputs\",\n",
      "      \"time\": \"2021-10-04T08:52:13.355595Z\",\n",
      "      \"value\": {\n",
      "        \"inlineValue\": \"{\\\"StacCatalogUri\\\": \\\"s3://ada6b03cde1846678c9ac78dfb4067c6:demo-user-bob/wf-f801bf46-24e8-11ec-a49a-4aeb5f6e9bf7/catalog.json\\\"}\"\n",
      "      }\n",
      "    }\n",
      "  ]\n",
      "}\n"
     ]
    }
   ],
   "source": [
    "# API Processes - Job Result\n",
    "response, ades_access_token, stacCatalogUri = demo.proc_get_job_result(ades_base_url, job_location_path, id_token=user_id_token, access_token=ades_access_token)\n",
    "print(json.dumps(response.json(), indent = 2))"
   ]
  },
  {
   "cell_type": "markdown",
   "id": "super-nutrition",
   "metadata": {},
   "source": [
    "#### ADES: List Jobs"
   ]
  },
  {
   "cell_type": "code",
   "execution_count": null,
   "id": "temporal-drain",
   "metadata": {},
   "outputs": [],
   "source": [
    "# API Processes - List Jobs\n",
    "response, ades_access_token, job_ids = demo.proc_list_jobs(ades_proc_url, app_name, id_token=user_id_token, access_token=ades_access_token)\n",
    "print(\"Jobs:\", job_ids)"
   ]
  },
  {
   "cell_type": "markdown",
   "id": "ongoing-sleeve",
   "metadata": {},
   "source": [
    "#### ADES: Undeploy Application"
   ]
  },
  {
   "cell_type": "code",
   "execution_count": null,
   "id": "sharing-closing",
   "metadata": {},
   "outputs": [],
   "source": [
    "# API Processes - Undeploy Application\n",
    "response, ades_access_token = demo.proc_undeploy_application(ades_proc_url, app_name, id_token=user_id_token, access_token=ades_access_token)"
   ]
  },
  {
   "cell_type": "code",
   "execution_count": null,
   "id": "variable-handy",
   "metadata": {
    "tags": []
   },
   "outputs": [],
   "source": [
    "# Check undeploy - list processes\n",
    "response, ades_access_token, process_ids = demo.proc_list_processes(ades_proc_url, id_token=user_id_token, access_token=ades_access_token)\n",
    "print(\"Processes:\", process_ids)"
   ]
  },
  {
   "cell_type": "markdown",
   "id": "controlled-mambo",
   "metadata": {},
   "source": [
    "## Workspace"
   ]
  },
  {
   "cell_type": "code",
   "execution_count": null,
   "id": "green-record",
   "metadata": {},
   "outputs": [],
   "source": [
    "workspace_url = \"https://workspace-api.\" + base_domain\n",
    "workspace_access_token = None"
   ]
  },
  {
   "cell_type": "markdown",
   "id": "terminal-missile",
   "metadata": {},
   "source": [
    "### Workspace: Get Details"
   ]
  },
  {
   "cell_type": "code",
   "execution_count": null,
   "id": "organizational-terror",
   "metadata": {},
   "outputs": [],
   "source": [
    "# Workspace - Get Details\n",
    "workspace_name = \"rm-user-\" + USER_NAME.lower()\n",
    "response, workspace_access_token = demo.workspace_get_details(workspace_url, workspace_name, id_token=user_id_token, access_token=workspace_access_token)\n",
    "workspace_details = response.json()\n",
    "print(json.dumps(workspace_details, indent = 2))"
   ]
  },
  {
   "cell_type": "markdown",
   "id": "seeing-deployment",
   "metadata": {},
   "source": [
    "### Inspect S3 Bucket"
   ]
  },
  {
   "cell_type": "code",
   "execution_count": null,
   "id": "republican-graph",
   "metadata": {},
   "outputs": [],
   "source": [
    "# Bucket details\n",
    "bucket_name = workspace_details[\"storage\"][\"credentials\"][\"bucketname\"]\n",
    "s3_access = workspace_details[\"storage\"][\"credentials\"][\"access\"]\n",
    "s3_secret = workspace_details[\"storage\"][\"credentials\"][\"secret\"]"
   ]
  },
  {
   "cell_type": "code",
   "execution_count": null,
   "id": "ancient-patent",
   "metadata": {},
   "outputs": [],
   "source": [
    "# Quick hack S3 access\n",
    "import boto3\n",
    "\n",
    "# Init S3 session for Creodias\n",
    "S3_ENDPOINT = \"https://cf2.cloudferro.com:8080\"\n",
    "session = boto3.session.Session()\n",
    "s3resource = session.resource('s3', aws_access_key_id=s3_access, aws_secret_access_key=s3_secret, endpoint_url=S3_ENDPOINT)\n",
    "\n",
    "# List bucket contents\n",
    "bucket = s3resource.Bucket(bucket_name)\n",
    "for obj in bucket.objects.all():\n",
    "    print(' ->', obj)"
   ]
  }
 ],
 "metadata": {
  "kernelspec": {
   "display_name": "Python 3",
   "language": "python",
   "name": "python3"
  },
  "language_info": {
   "codemirror_mode": {
    "name": "ipython",
    "version": 3
   },
   "file_extension": ".py",
   "mimetype": "text/x-python",
   "name": "python",
   "nbconvert_exporter": "python",
   "pygments_lexer": "ipython3",
   "version": "3.9.2"
  }
 },
 "nbformat": 4,
 "nbformat_minor": 5
}
