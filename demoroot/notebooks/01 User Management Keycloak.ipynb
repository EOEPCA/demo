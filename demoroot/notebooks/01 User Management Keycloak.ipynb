{
 "cells": [
  {
   "cell_type": "markdown",
   "id": "fourth-founder",
   "metadata": {},
   "source": [
    "## User Management (Keycloak)\n",
    "Interaction with EOEPCA endpoint using python Demo Client."
   ]
  },
  {
   "cell_type": "code",
   "execution_count": null,
   "outputs": [],
   "source": [
    "import jwt\n",
    "import json\n",
    "import requests\n",
    "from getpass import getpass\n",
    "from keycloak import KeycloakPostError\n",
    "from identityutils.keycloak_client import KeycloakClient\n",
    "import requests\n",
    "\n",
    "base_domain = \"develop.eoepca.org\"\n",
    "platform_domain = f\"identity.keycloak.{base_domain}\"\n",
    "server_url = f\"https://{platform_domain}\"\n",
    "realm = \"master\"\n",
    "dummy_service_url = f\"https://identity.dummy-service.{base_domain}\"\n",
    "identity_api_url = f\"https://identity.api.{base_domain}\""
   ],
   "metadata": {
    "collapsed": false
   },
   "id": "swiss-sender"
  },
  {
   "cell_type": "markdown",
   "source": [
    "## Client\n",
    "We instantiate an object to interact with the Keycloak."
   ],
   "metadata": {
    "collapsed": false
   },
   "id": "modular-wages"
  },
  {
   "cell_type": "code",
   "execution_count": null,
   "outputs": [],
   "source": [
    "admin_password = getpass(\"Admin password: \")\n",
    "keycloak = KeycloakClient(\n",
    "    server_url=server_url,\n",
    "    realm=realm,\n",
    "    username=\"admin\",\n",
    "    password=admin_password,\n",
    ")"
   ],
   "metadata": {
    "collapsed": false
   },
   "id": "7ee7baacb5c482e9"
  },
  {
   "cell_type": "markdown",
   "source": [
    "## User Authentication\n",
    "User authenticates and the client receives an ID Token (JWT) that represents the user, and is used to identify the user in UMA authorization flows."
   ],
   "metadata": {
    "collapsed": false
   },
   "id": "usual-brazil"
  },
  {
   "cell_type": "markdown",
   "source": [
    "#### Create Users\n",
    "Create two users, an Eric and Alice both with user role."
   ],
   "metadata": {
    "collapsed": false
   },
   "id": "335052cf756eb435"
  },
  {
   "cell_type": "code",
   "execution_count": null,
   "outputs": [],
   "source": [
    "eric_id = keycloak.create_user(\"eric\", \"eric\", [\"user\"])\n",
    "print(\"Created Eric user with id: \" + eric_id)\n",
    "alice_id = keycloak.create_user(\"alice\", \"alice\", [\"user\"])\n",
    "print(\"Created Alice user with id: \" + alice_id)"
   ],
   "metadata": {
    "collapsed": false
   },
   "id": "eb038a6adb451cfd"
  },
  {
   "cell_type": "markdown",
   "metadata": {
    "collapsed": false
   },
   "source": [
    "#### Inspect Eric User Token"
   ],
   "id": "9e613065d80cf314"
  },
  {
   "cell_type": "code",
   "execution_count": null,
   "metadata": {
    "collapsed": false
   },
   "outputs": [],
   "source": [
    "token = keycloak.get_user_token(\"eric\", \"eric\")\n",
    "print(\"Eric token:\\n\" + json.dumps(token, indent = 2))\n",
    "eric_access_token = token[\"access_token\"]\n",
    "jwt_header = jwt.get_unverified_header(eric_access_token)\n",
    "print(\"JWT Header:\\n\" + json.dumps(jwt_header, indent = 2))\n",
    "jwt_payload = jwt.decode(eric_access_token, options={\"verify_signature\": False})\n",
    "print(\"JWT Payload:\\n\" + json.dumps(jwt_payload, indent = 2))"
   ],
   "id": "921e1c9077aa789f"
  },
  {
   "cell_type": "markdown",
   "metadata": {
    "collapsed": false
   },
   "source": [
    "#### Inspect Alice User Token"
   ],
   "id": "c55e51a804511ee9"
  },
  {
   "cell_type": "code",
   "execution_count": null,
   "metadata": {
    "collapsed": false
   },
   "outputs": [],
   "source": [
    "token = keycloak.get_user_token(\"alice\", \"alice\")\n",
    "print(\"Eric token:\\n\" + json.dumps(token, indent = 2))\n",
    "alice_access_token = token[\"access_token\"]\n",
    "jwt_header = jwt.get_unverified_header(alice_access_token)\n",
    "print(\"JWT Header:\\n\" + json.dumps(jwt_header, indent = 2))\n",
    "jwt_payload = jwt.decode(alice_access_token, options={\"verify_signature\": False})\n",
    "print(\"JWT Payload:\\n\" + json.dumps(jwt_payload, indent = 2))"
   ],
   "id": "8c2546f94a5d45b3"
  },
  {
   "cell_type": "markdown",
   "metadata": {
    "collapsed": false
   },
   "source": [
    "The ID Token (JWT) identifies the user via user_name / sub (Subject) fields, and the client via the aud (Audience) field. The JWT is signed and can be verified, using the kid (Key ID) field, via the JWKS endpoint of the Authorization Server."
   ],
   "id": "6b8eb77cdada9cae"
  },
  {
   "cell_type": "markdown",
   "metadata": {
    "collapsed": false
   },
   "source": [
    "## Protect resources\n",
    "Access a protected resources using UMA flow."
   ],
   "id": "d0e93be00dd6700"
  },
  {
   "cell_type": "markdown",
   "metadata": {
    "collapsed": false
   },
   "source": [
    "#### Assign premium role to Eric\n",
    "Roles are used to define policies that will protect resources based on roles - Role-based access control (RBAC)"
   ],
   "id": "7aa0ec8b8ca4be2c"
  },
  {
   "cell_type": "code",
   "execution_count": null,
   "metadata": {
    "collapsed": false
   },
   "outputs": [],
   "source": [
    "realm_role = keycloak.create_realm_role('user-premium')\n",
    "print(\"Created realm role: \" + realm_role)\n",
    "keycloak.assign_realm_roles_to_user(eric_id, realm_role)\n",
    "print(\"Assigned \" + realm_role + \" role to Eric\")"
   ],
   "id": "46f22fc71441cea3"
  },
  {
   "cell_type": "markdown",
   "source": [
    "#### Register client\n",
    "Register demo client"
   ],
   "metadata": {
    "collapsed": false
   },
   "id": "6aaea97b832109de"
  },
  {
   "cell_type": "code",
   "execution_count": null,
   "outputs": [],
   "source": [
    "client_id = \"demo\"\n",
    "client_secret= \"demo\"\n",
    "client_payload = {\n",
    "    \"clientId\": client_id,\n",
    "    \"clientSecret\": client_secret,\n",
    "    \"name\": \"Demo client\",\n",
    "    \"description\": \"Client used on demo notebook\"\n",
    "}\n",
    "keycloak.create_client(client_payload, skip_exists=True)\n",
    "print(\"Created client: demo\")"
   ],
   "metadata": {
    "collapsed": false
   },
   "id": "4fe07e7d91f6a305"
  },
  {
   "cell_type": "markdown",
   "source": [
    "## Protect URIs\n",
    "Right now, resources are protected by a default policy, which grants access to users within the realm.\n",
    "Let's see how Keycloak protects resources using role based and user based policies."
   ],
   "metadata": {
    "collapsed": false
   },
   "id": "c97a13a7a2f6ef33"
  },
  {
   "cell_type": "markdown",
   "source": [
    "#### Register resources\n",
    "Register"
   ],
   "metadata": {
    "collapsed": false
   },
   "id": "26005c28ccb2b3db"
  },
  {
   "cell_type": "code",
   "execution_count": null,
   "outputs": [],
   "source": [
    "resources = [\n",
    "    {\n",
    "        \"name\": \"Premium resource\",\n",
    "        \"uri\": \"/protected/premium/*\"\n",
    "    },\n",
    "    {\n",
    "        \"name\": \"Eric space\",\n",
    "        \"uri\": \"/eric/*\"\n",
    "    },\n",
    "    {\n",
    "        \"name\": \"Alice space\",\n",
    "        \"uri\": \"/alice/*\"\n",
    "    }\n",
    "]\n",
    "keycloak.register_resources(client_id, resources, skip_exists=True)"
   ],
   "metadata": {
    "collapsed": false
   },
   "id": "58fb6be6f37aa7d5"
  },
  {
   "cell_type": "markdown",
   "metadata": {
    "collapsed": false
   },
   "source": [
    "#### Register policies\n",
    "Register role based and user based policies"
   ],
   "id": "fe588d65f686c530"
  },
  {
   "cell_type": "code",
   "execution_count": null,
   "outputs": [],
   "source": [
    "policy = {\n",
    "    \"name\": 'Only Premium User Policy',\n",
    "    \"roles\": [\n",
    "        {\n",
    "            \"id\": \"user-premium\"\n",
    "        }\n",
    "    ]\n",
    "}\n",
    "p = keycloak.register_role_policy(client_id, policy, skip_exists=True)\n",
    "print(\"Only Premium User Policy:\")\n",
    "print(p)\n",
    "\n",
    "policy = {\n",
    "    \"name\": 'Only Eric User Policy',\n",
    "    \"users\": [eric_id]\n",
    "}\n",
    "p = keycloak.register_user_policy(client_id, policy)\n",
    "print(\"Only Eric User Policy:\")\n",
    "print(p)\n",
    "\n",
    "policy = {\n",
    "    \"name\": 'Only Alice User Policy',\n",
    "    \"users\": [alice_id]\n",
    "}\n",
    "p = keycloak.register_user_policy(client_id, policy)\n",
    "print(\"Only Alice User Policy:\")\n",
    "print(p)"
   ],
   "metadata": {
    "collapsed": false
   },
   "id": "7528a876ea5475cd"
  },
  {
   "cell_type": "markdown",
   "metadata": {
    "collapsed": false
   },
   "source": [
    "#### Register resource permissions\n",
    "Resources permissions are set by assigning policies to resources."
   ],
   "id": "b39fd78912559132"
  },
  {
   "cell_type": "code",
   "execution_count": null,
   "metadata": {
    "collapsed": false
   },
   "outputs": [],
   "source": [
    "permissions = [\n",
    "    {\n",
    "        \"name\": \"Premium permission\",\n",
    "        \"type\": \"resource\",\n",
    "        \"logic\": \"POSITIVE\",\n",
    "        \"decisionStrategy\": \"UNANIMOUS\",\n",
    "        \"resources\": [\n",
    "            \"Premium Resource\"\n",
    "        ],\n",
    "        \"policies\": [\n",
    "            \"Only Premium User Policy\"\n",
    "        ]\n",
    "    },\n",
    "    {\n",
    "        \"name\": \"Eric space permission\",\n",
    "        \"type\": \"resource\",\n",
    "        \"logic\": \"POSITIVE\",\n",
    "        \"decisionStrategy\": \"UNANIMOUS\",\n",
    "        \"resources\": [\n",
    "            \"Protected Resource\"\n",
    "        ],\n",
    "        \"policies\": [\n",
    "            \"Only Eric User Policy\"\n",
    "        ]\n",
    "    },\n",
    "    {\n",
    "        \"name\": \"Alice space permission\",\n",
    "        \"type\": \"resource\",\n",
    "        \"logic\": \"POSITIVE\",\n",
    "        \"decisionStrategy\": \"UNANIMOUS\",\n",
    "        \"resources\": [\n",
    "            \"Protected Resource\"\n",
    "        ],\n",
    "        \"policies\": [\n",
    "            \"Only Alice User Policy\"\n",
    "        ]\n",
    "    }\n",
    "]\n",
    "r = keycloak.assign_resources_permissions(client_id, permissions, skip_exists=True)\n",
    "print(r)"
   ],
   "id": "7db3855970e19275"
  },
  {
   "cell_type": "markdown",
   "metadata": {
    "collapsed": false
   },
   "source": [
    "#### Get PAT (Protection API token)\n",
    "PAT (Protection API token) is used to access Keycloak's Protection API, which manages resources and policies."
   ],
   "id": "6e261ef73b519122"
  },
  {
   "cell_type": "code",
   "execution_count": null,
   "metadata": {
    "collapsed": false
   },
   "outputs": [],
   "source": [
    "pat = keycloak.generate_protection_pat(client_id, client_secret)\n",
    "print(json.dumps(pat, indent=2))\n",
    "access_token = pat['access_token']"
   ],
   "id": "7ec0f40884afcb2b"
  },
  {
   "cell_type": "markdown",
   "metadata": {
    "collapsed": false
   },
   "source": [],
   "id": "73ece8c827858c3c"
  },
  {
   "cell_type": "markdown",
   "metadata": {
    "collapsed": false
   },
   "source": [
    "### Get Resource Id\n",
    "Get Premium Resource id"
   ],
   "id": "5163d45ac003fcf4"
  },
  {
   "cell_type": "code",
   "execution_count": null,
   "metadata": {
    "collapsed": false
   },
   "outputs": [],
   "source": [
    "# it's possible to query resources by many fields, including name and uri\n",
    "premium_resource_id = keycloak.get_resource_id(name=\"Premium Resource\")[0]\n",
    "print(\"Premium resource: \" + premium_resource_id)\n",
    "eric_resource_id = keycloak.get_resource_id(uri=\"/eric/*\")[0]\n",
    "print(\"Eric resource: \" + eric_resource_id)\n",
    "alice_resource_id = keycloak.get_resource_id(uri=\"/alice/*\")[0]\n",
    "print(\"Alice resource: \" + alice_resource_id)"
   ],
   "id": "fad25c0c5306f93f"
  },
  {
   "cell_type": "markdown",
   "metadata": {
    "collapsed": false
   },
   "source": [
    "#### Get UMA access token for premium resource for both Eric and Alice"
   ],
   "id": "7bd8995d56fd1161"
  },
  {
   "cell_type": "code",
   "execution_count": null,
   "metadata": {
    "collapsed": false
   },
   "outputs": [],
   "source": [
    "uma_ticket = keycloak.create_permission_ticket(resources=[eric_resource_id])['ticket']\n",
    "print('UMA ticket for resource ' + eric_resource_id + ':\\n' + uma_ticket)\n",
    "eric_access_token = keycloak.get_user_token(\"eric\", \"eric\")['access_token']\n",
    "eric_rpt = keycloak.get_rpt(eric_access_token, uma_ticket)['access_token']\n",
    "print('Eric RPT:\\n' + str(eric_rpt))"
   ],
   "id": "8fad04726762f1a9"
  },
  {
   "cell_type": "code",
   "execution_count": null,
   "metadata": {
    "collapsed": false
   },
   "outputs": [],
   "source": [
    "uma_ticket = keycloak.create_permission_ticket(resources=[eric_resource_id])['ticket']\n",
    "print('UMA ticket for resource ' + eric_resource_id + ':\\n' + uma_ticket)\n",
    "alice_access_token = keycloak.get_user_token(\"alice\", \"alice\")['access_token']\n",
    "try:\n",
    "    alice_uma_access_token = keycloak.get_rpt(alice_access_token, uma_ticket)['access_token']\n",
    "except KeycloakPostError as e:\n",
    "    print(str(e))"
   ],
   "id": "8d3dee0644cb9c35"
  },
  {
   "cell_type": "markdown",
   "metadata": {
    "collapsed": false
   },
   "source": [
    "Trying to get a UMA token for Alice results in a 403 Forbidden Error. The reason being Alice is not allowed to access the `/eric/*` resource because it's protected for only `eric` user."
   ],
   "id": "2a47860a5bd76bb0"
  },
  {
   "cell_type": "markdown",
   "metadata": {
    "collapsed": false
   },
   "source": [
    "#### Use Eric UMA access token to access the eric space resource"
   ],
   "id": "d423edfcf3f6ee55"
  },
  {
   "cell_type": "code",
   "execution_count": null,
   "metadata": {
    "collapsed": false
   },
   "outputs": [],
   "source": [
    "headers = {\n",
    "    \"cache-control\": \"no-cache\",\n",
    "    \"Authorization\": \"Bearer \" + eric_rpt\n",
    "}\n",
    "url = dummy_service_url + \"/eric\"\n",
    "print('GET ' + url)\n",
    "response = requests.get(url, headers=headers, verify=False)\n",
    "print(str(response.status_code))"
   ],
   "id": "d4c8b22eaaec89fa"
  },
  {
   "cell_type": "markdown",
   "metadata": {
    "collapsed": false
   },
   "source": [
    "The expected result is 200 meaning a successfuly access to the eric space resource by Eric."
   ],
   "id": "3ee3a0c6806346af"
  },
  {
   "cell_type": "markdown",
   "id": "38136476",
   "metadata": {},
   "source": [
    "#### Identity API Get Resources"
   ]
  },
  {
   "cell_type": "code",
   "execution_count": null,
   "id": "97c85d72",
   "metadata": {},
   "outputs": [],
   "source": [
    "import requests\n",
    "\n",
    "resources_url = identity_api_url + \"/\" + client_id + \"/resources\"\n",
    "print(\"GET \" + resources_url)\n",
    "response = requests.get(resources_url)\n",
    "try:\n",
    "    print(response.json())\n",
    "except:\n",
    "    print(response)"
   ]
  },
  {
   "cell_type": "markdown",
   "id": "5fd680d1",
   "metadata": {},
   "source": [
    "#### Identity API Get resource by id"
   ]
  },
  {
   "cell_type": "code",
   "execution_count": null,
   "id": "1f2380db",
   "metadata": {},
   "outputs": [],
   "source": [
    "response = requests.get(resources_url)\n",
    "resource_id = response.json()[0][\"_id\"]\n",
    "print(resource_id)\n",
    "response = requests.get(resources_url + \"/\" + resource_id)\n",
    "print(response.text)"
   ]
  },
  {
   "cell_type": "markdown",
   "id": "da371416",
   "metadata": {},
   "source": [
    "#### Identity API Register resource"
   ]
  },
  {
   "cell_type": "code",
   "execution_count": null,
   "id": "0a80867f",
   "metadata": {},
   "outputs": [],
   "source": [
    "data = {\n",
    "    'attributes': {},\n",
    "    'name': 'A resource',\n",
    "    'ownerManagedAccess': False,\n",
    "    'scopes': [\"access\"],\n",
    "    'uris': [\"/protected/*\"]\n",
    "}\n",
    "response = requests.post(resources_url, json=data)\n",
    "print(\"Response code: \", str(response.status_code))\n",
    "print(\"Resource added: \", response.json())"
   ]
  },
  {
   "cell_type": "markdown",
   "id": "cb157a80",
   "metadata": {},
   "source": [
    "#### Identity API Update resource"
   ]
  },
  {
   "cell_type": "code",
   "execution_count": null,
   "id": "1f63776b",
   "metadata": {},
   "outputs": [],
   "source": [
    "resource_id = keycloak.get_resource_id(name=\"A resource\")[0]\n",
    "data = {\n",
    "    \"attributes\": {},\n",
    "    \"name\": \"A resource\",\n",
    "    \"ownerManagedAccess\": True,\n",
    "    \"uris\": [\"/protected/*\"]\n",
    "}\n",
    "response = requests.put(resources_url + \"/\" + resource_id, json=data)\n",
    "print(\"Response code: \", str(response.status_code))"
   ]
  },
  {
   "cell_type": "markdown",
   "id": "533e9153",
   "metadata": {},
   "source": [
    "#### Identity API Delete resource"
   ]
  },
  {
   "cell_type": "code",
   "execution_count": null,
   "id": "8c06097d",
   "metadata": {},
   "outputs": [],
   "source": [
    "# get resource_id from the get_resources endpoint\n",
    "resource_id = keycloak.get_resource_id(name=\"A resource\")[0]\n",
    "response = requests.delete(resources_url + \"/\" + resource_id)\n",
    "print(\"Response code: \", str(response.status_code))"
   ]
  },
  {
   "cell_type": "markdown",
   "id": "bd0928dc",
   "metadata": {},
   "source": [
    "#### Identity API Get client Policies"
   ]
  },
  {
   "cell_type": "code",
   "execution_count": null,
   "id": "25edefeb",
   "metadata": {},
   "outputs": [],
   "source": [
    "policies_url = identity_api_url + \"/\" + client_id + \"/policies\"\n",
    "response = requests.get(policies_url)\n",
    "print(\"Response code: \", str(response.status_code))\n",
    "print(\"Response text: \", response.json())"
   ]
  },
  {
   "cell_type": "markdown",
   "id": "0f375baa",
   "metadata": {},
   "source": [
    "#### Identity API create client Policy"
   ]
  },
  {
   "cell_type": "code",
   "execution_count": null,
   "id": "618b3718",
   "metadata": {},
   "outputs": [],
   "source": [
    "data = {\n",
    "    \"type\": \"client\",\n",
    "    \"logic\": \"POSITIVE\",\n",
    "    \"decisionStrategy\": \"UNANIMOUS\",\n",
    "    \"name\": \"My Policy\"\n",
    "}\n",
    "response = requests.post(policies_url + \"/client\", json=data)\n",
    "print(\"Response code: \", str(response.status_code))\n",
    "print(\"Response text: \", response.json())"
   ]
  },
  {
   "cell_type": "markdown",
   "id": "f1ae87ee",
   "metadata": {},
   "source": [
    "#### Identity API Create Aggregated policy"
   ]
  },
  {
   "cell_type": "code",
   "execution_count": null,
   "id": "c943b064",
   "metadata": {},
   "outputs": [],
   "source": [
    "data = {\n",
    "    \"type\": \"aggregate\",\n",
    "    \"logic\": \"POSITIVE\",\n",
    "    \"decisionStrategy\": \"UNANIMOUS\",\n",
    "    \"name\": \"Aggregated policy\",\n",
    "    \"policies\": [\"My Policy\"],\n",
    "    \"description\": \"Policy description\"\n",
    "}\n",
    "response = requests.post(policies_url + \"/aggregated\", json=data)\n",
    "print(\"Response code: \", str(response.status_code))\n",
    "print(\"Response text: \", response.json())"
   ]
  },
  {
   "cell_type": "markdown",
   "id": "e33a5fa2",
   "metadata": {},
   "source": [
    "#### Identity API Create scope policy"
   ]
  },
  {
   "cell_type": "code",
   "execution_count": null,
   "id": "2e0a7407",
   "metadata": {},
   "outputs": [],
   "source": [
    "data = {\n",
    "    \"type\": \"client-scope\",\n",
    "    \"logic\": \"POSITIVE\",\n",
    "    \"decisionStrategy\": \"UNANIMOUS\",\n",
    "    \"name\": \"My Policy\"\n",
    "}\n",
    "response = requests.post(policies_url + \"/scope\", json=data)\n",
    "print(\"Response code: \", str(response.status_code))\n",
    "print(\"Response text: \", response.json())"
   ]
  },
  {
   "cell_type": "markdown",
   "id": "43f7dbc7",
   "metadata": {},
   "source": [
    "#### Identity API Create group policy"
   ]
  },
  {
   "cell_type": "code",
   "execution_count": null,
   "id": "839f0830",
   "metadata": {},
   "outputs": [],
   "source": [
    "data = {\n",
    "    \"type\": \"group\",\n",
    "    \"logic\": \"POSITIVE\",\n",
    "    \"decisionStrategy\": \"UNANIMOUS\",\n",
    "    \"name\": \"Group policy\",\n",
    "    \"groups\": [{\"id\": \"group\", \"path\": \"group\"}],\n",
    "    \"groupsClaim\": \"Groups claim\",\n",
    "    \"description\": \"description\"\n",
    "}\n",
    "response = requests.post(policies_url + \"/group\", json=data)\n",
    "print(\"Response code: \", str(response.status_code))\n",
    "print(\"Response text: \", response.json())"
   ]
  },
  {
   "cell_type": "markdown",
   "id": "e19e6dcd",
   "metadata": {},
   "source": [
    "#### Identity API - Create regex Policy"
   ]
  },
  {
   "cell_type": "code",
   "execution_count": null,
   "id": "fd1ae00d",
   "metadata": {},
   "outputs": [],
   "source": [
    "data = {\n",
    "    \"type\": \"regex\",\n",
    "    \"logic\": \"POSITIVE\",\n",
    "    \"decisionStrategy\": \"UNANIMOUS\",\n",
    "    \"name\": \"Regex policy\",\n",
    "    \"pattern\": \".*\",\n",
    "    \"targetClaim\": \"preferred_username\",\n",
    "    \"description\": \"Match all usernames\"\n",
    "}\n",
    "response = requests.post(policies_url + \"/regex\", json=data)\n",
    "print(\"Response code: \", str(response.status_code))\n",
    "print(\"Response text: \", response.json())"
   ]
  },
  {
   "cell_type": "markdown",
   "id": "c69f72d0",
   "metadata": {},
   "source": [
    "#### Identity API Create role policy"
   ]
  },
  {
   "cell_type": "code",
   "execution_count": null,
   "id": "4f89a1f0",
   "metadata": {},
   "outputs": [],
   "source": [
    "data = {\n",
    "    \"type\": \"role\",\n",
    "    \"logic\": \"POSITIVE\",\n",
    "    \"decisionStrategy\": \"UNANIMOUS\",\n",
    "    \"name\": \"Role policy\",\n",
    "    \"roles\": [\n",
    "        {\n",
    "            \"id\": \"b80601c3-9e0f-40fd-a03c-34cd759bfc63\",\n",
    "            \"required\": False\n",
    "        }\n",
    "    ]\n",
    "}\n",
    "response = requests.post(policies_url + \"/role\", json=data)\n",
    "print(\"Response code: \", str(response.status_code))\n",
    "print(\"Response text: \", response.json())"
   ]
  },
  {
   "cell_type": "markdown",
   "id": "c28f2ff3",
   "metadata": {},
   "source": [
    "#### Identity API create time policy"
   ]
  },
  {
   "cell_type": "code",
   "execution_count": null,
   "id": "a1865c03",
   "metadata": {},
   "outputs": [],
   "source": [
    "data = {\n",
    "    \"type\": \"time\",\n",
    "    \"logic\": \"POSITIVE\",\n",
    "    \"decisionStrategy\": \"UNANIMOUS\",\n",
    "    \"name\": \"Time policy\",\n",
    "    \"description\": \"description\",\n",
    "    \"year\": 2023\n",
    "}\n",
    "response = requests.post(policies_url + \"/time\", json=data)\n",
    "print(\"Response code: \", str(response.status_code))\n",
    "print(\"Response text: \", response.json())"
   ]
  },
  {
   "cell_type": "markdown",
   "id": "51b51505",
   "metadata": {},
   "source": [
    "#### Identity API Create user policy"
   ]
  },
  {
   "cell_type": "code",
   "execution_count": null,
   "id": "37d9ccf6",
   "metadata": {},
   "outputs": [],
   "source": [
    "data = {\n",
    "    \"type\": \"user\",\n",
    "    \"logic\": \"POSITIVE\",\n",
    "    \"decisionStrategy\": \"UNANIMOUS\",\n",
    "    \"name\": \"User policy\",\n",
    "    \"users\": eric_id,\n",
    "    \"description\": \"description\"\n",
    "}\n",
    "response = requests.post(policies_url + \"/user\", json=data)\n",
    "print(\"Response code: \", str(response.status_code))\n",
    "print(\"Response text: \", response.json())"
   ]
  },
  {
   "cell_type": "markdown",
   "id": "087d76ef",
   "metadata": {},
   "source": [
    "#### Identity API Update policies"
   ]
  },
  {
   "cell_type": "code",
   "execution_count": null,
   "id": "d7b4ab36",
   "metadata": {},
   "outputs": [],
   "source": [
    "policy_id = \"8e90c31f-759a-4679-86c5-56cad118f12e\"\n",
    "data = {\n",
    "    \"type\": \"user\",\n",
    "    \"logic\": \"POSITIVE\",\n",
    "    \"decisionStrategy\": \"UNANIMOUS\",\n",
    "    \"name\": \"User policy\",\n",
    "    \"description\": \"description\"\n",
    "}\n",
    "response = requests.put(policies_url + \"/\" + policy_id, json=data)\n",
    "print(\"Response code: \", str(response.status_code))"
   ]
  },
  {
   "cell_type": "markdown",
   "id": "834c816f",
   "metadata": {},
   "source": [
    "#### Identity API delete policies"
   ]
  },
  {
   "cell_type": "code",
   "execution_count": null,
   "id": "7c9e28f6",
   "metadata": {},
   "outputs": [],
   "source": [
    "policy_id = \"8e90c31f-759a-4679-86c5-56cad118f12e\"\n",
    "response = requests.put(policies_url + \"/\" + policy_id)\n",
    "print(\"Response code: \", str(response.status_code))"
   ]
  },
  {
   "cell_type": "markdown",
   "id": "a409a128",
   "metadata": {},
   "source": [
    "#### Identity API get client permissions"
   ]
  },
  {
   "cell_type": "code",
   "execution_count": null,
   "id": "8170b92e",
   "metadata": {},
   "outputs": [],
   "source": [
    "client_permissions_url = identity_api_url + \"/\" + client_id + \"/permissions\"\n",
    "response = requests.get(client_permissions_url)\n",
    "print(\"Response code: \", str(response.status_code))\n",
    "print(\"Response text: \", response.json())"
   ]
  },
  {
   "cell_type": "markdown",
   "id": "f86efc5c",
   "metadata": {},
   "source": [
    "#### Identity API get client management permissions"
   ]
  },
  {
   "cell_type": "code",
   "execution_count": null,
   "id": "1506c963",
   "metadata": {},
   "outputs": [],
   "source": [
    "response = requests.get(client_permissions_url + \"/management\")\n",
    "print(\"Response code: \", str(response.status_code))\n",
    "print(\"Response text: \", response.json())\n"
   ]
  },
  {
   "cell_type": "markdown",
   "id": "6e8265ad",
   "metadata": {},
   "source": [
    "#### Identity API get client resources permissions"
   ]
  },
  {
   "cell_type": "code",
   "execution_count": null,
   "id": "5f12fb7c",
   "metadata": {},
   "outputs": [],
   "source": [
    "response = requests.get(client_permissions_url + \"/resources\")\n",
    "print(\"Response code: \", str(response.status_code))\n",
    "print(\"Response text: \", response.json())\n"
   ]
  },
  {
   "cell_type": "markdown",
   "id": "3da4aa8c",
   "metadata": {},
   "source": [
    "#### Identity API create client resources permissions"
   ]
  },
  {
   "cell_type": "code",
   "execution_count": null,
   "id": "84ddd1e1",
   "metadata": {},
   "outputs": [],
   "source": [
    "data = {\n",
    "    \"type\": \"resource\",\n",
    "    \"logic\": \"POSITIVE\",\n",
    "    \"decisionStrategy\": \"UNANIMOUS\",\n",
    "    \"name\": \"Permission-Name 2\",\n",
    "    \"resources\": [\n",
    "        \"5bd655ec-2575-406e-aa08-28b1bd25f476\"\n",
    "    ],\n",
    "    \"policies\": [\n",
    "        \"57d4a363-6b40-4dec-93e9-a46a1a8e492f\"\n",
    "    ]\n",
    "}\n",
    "response = requests.get(client_permissions_url + \"/resources\", json=data)\n",
    "print(\"Response code: \", str(response.status_code))\n",
    "print(\"Response text: \", response.json())"
   ]
  },
  {
   "cell_type": "markdown",
   "id": "528329d9",
   "metadata": {},
   "source": [
    "#### Identity API update client management permissions"
   ]
  },
  {
   "cell_type": "code",
   "execution_count": null,
   "id": "cc420361",
   "metadata": {},
   "outputs": [],
   "source": [
    "data = {\n",
    "    \"enabled\": False\n",
    "}\n",
    "response = requests.put(client_permissions_url + \"/management\", json=data)\n",
    "print(\"Response code: \", str(response.status_code))\n",
    "print(\"Response text: \", response.json())"
   ]
  },
  {
   "cell_type": "markdown",
   "id": "572dd8f5",
   "metadata": {},
   "source": [
    "#### Identity API update client resources permissions"
   ]
  },
  {
   "cell_type": "code",
   "execution_count": null,
   "id": "021f9f4e",
   "metadata": {},
   "outputs": [],
   "source": [
    "permission_id = \"2193eed8-93e5-471f-bb67-a3726b333fb1\"\n",
    "update_resources_permissions_url = client_permissions_url + \"/resources/\" + permission_id\n",
    "data = {\n",
    "    \"decisionStrategy\": \"UNANIMOUS\",\n",
    "    \"description\": \"A permission that applies to the default resource type\",\n",
    "    \"logic\": \"POSITIVE\",\n",
    "    \"name\": \"Default Permission\",\n",
    "    \"resourceType\": \"urn:gatekeeper:resources:default\",\n",
    "    \"type\": \"resource\"\n",
    "}\n",
    "response = requests.put(update_resources_permissions_url, json=data)\n",
    "print(\"Response code: \", str(response.status_code))"
   ]
  },
  {
   "cell_type": "markdown",
   "id": "d3748911",
   "metadata": {},
   "source": [
    "#### Identity API Register and Protect a Resource"
   ]
  },
  {
   "cell_type": "code",
   "execution_count": null,
   "id": "ada8b916",
   "metadata": {},
   "outputs": [],
   "source": [
    "data = [\n",
    "    {\n",
    "        \"name\": \"Eric resource\",\n",
    "        \"uris\": [\"/eric/*\"],\n",
    "        \"permissions\": {\n",
    "            \"user\": [\"eric\"]\n",
    "        }\n",
    "    },\n",
    "    {\n",
    "        \"name\": \"Alice resource\",\n",
    "        \"uris\": [\"/alice/*\"],\n",
    "        \"permissions\": {\n",
    "            \"user\": [\"alice\"]\n",
    "        }\n",
    "    }]\n",
    "\n",
    "response = requests.post(identity_api_url + \"/\" + client_id + \"/resources\", json=data)\n",
    "print(\"Response code: \", str(response.status_code))"
   ]
  },
  {
   "cell_type": "markdown",
   "id": "e720cf56",
   "metadata": {},
   "source": [
    "#### Identity API Delete Resource and its policies and permissions"
   ]
  },
  {
   "cell_type": "code",
   "execution_count": null,
   "id": "b9674153",
   "metadata": {},
   "outputs": [],
   "source": [
    "resource_name = \"Eric resource\"\n",
    "response = requests.delete(identity_api_url + \"/\" + client_id + \"/resources/\" + resource_name)\n",
    "print(response.status_code)\n",
    "print(response.text)\n",
    "resource_name = \"Alice resource\"\n",
    "response = requests.delete(identity_api_url + \"/\" + client_id + \"/resources/\" + resource_name)\n",
    "print(response.status_code)\n",
    "print(response.text)"
   ]
  },
  {
   "cell_type": "markdown",
   "id": "0f3af5bd",
   "metadata": {},
   "source": [
    "#### Identity API Create client, create and protect resources in one endpoint"
   ]
  },
  {
   "cell_type": "code",
   "execution_count": null,
   "id": "0a8cd26c",
   "metadata": {},
   "outputs": [],
   "source": [
    "payload = {\n",
    "    \"clientId\": \"dummy-service\",\n",
    "    \"name\": \"Dummy Service\",\n",
    "    \"description\": \"Client used for Dummy service\",\n",
    "    \"resources\": [\n",
    "        {\n",
    "            \"name\": \"Eric space\",\n",
    "            \"uris\": [\"/eric/*\"],\n",
    "            \"permissions\": {\n",
    "                \"user\": [\"eric\"]\n",
    "            }\n",
    "        },\n",
    "        {\n",
    "            \"name\": \"Alice space\",\n",
    "            \"uris\": [\"/alice/*\"],\n",
    "            \"permissions\": {\n",
    "                \"user\": [\"alice\"]\n",
    "            }\n",
    "        }\n",
    "    ]\n",
    "}\n",
    "response = requests.post(identity_api_url + '/clients', json=payload)\n",
    "print(response.status_code)\n",
    "print(response.text)"
   ]
  },
  {
   "cell_type": "markdown",
   "source": [
    "#### Execute script to create a client with protected resources"
   ],
   "metadata": {
    "collapsed": false
   },
   "id": "47537fc25108b375"
  },
  {
   "cell_type": "code",
   "execution_count": null,
   "outputs": [],
   "source": [
    "import subprocess\n",
    "import urllib.request\n",
    "\n",
    "with urllib.request.urlopen(\n",
    "        \"https://raw.githubusercontent.com/EOEPCA/um-identity-service/master/scripts/create-client.sh\") as f:\n",
    "    script = f.read().decode('utf-8')\n",
    "    out = open(\"../data/create-client.sh\", \"a\")\n",
    "    out.write(script)\n",
    "    out.flush()\n",
    "\n",
    "access_token = keycloak.get_user_token(\"admin\", admin_password)[\"access_token\"]\n",
    "\n",
    "client_id = input(\"Client id: \")\n",
    "client_name = \"Dummy service Gatekeeper\"\n",
    "client_description = \"Client to be used by Dummy service Gatekeeper\"\n",
    "\n",
    "subprocess.check_call([\"../data/create-client.sh\",\n",
    "                       \"-e demo\",\n",
    "                       \"-t \" + access_token,\n",
    "                       \"--id \" + client_id,\n",
    "                       \"--name \" + client_name,\n",
    "                       \"--description \" + client_description,\n",
    "                       \"--resource=\\\"Eric space\\\"\", \"--uris=/eric/*\", \"--users=eric\",\n",
    "                       \"--resource=\\\"Alice space\\\"\", \"--uris=/alice/*\", \"--users=alice\"\n",
    "                       ], shell=True, text=True)\n"
   ],
   "metadata": {
    "collapsed": false
   },
   "id": "632f4cc7f6699dfe"
  },
  {
   "cell_type": "code",
   "execution_count": null,
   "outputs": [],
   "source": [],
   "metadata": {
    "collapsed": false
   },
   "id": "84df2dfacc56686f"
  }
 ],
 "metadata": {
  "kernelspec": {
   "display_name": "Python 3 (ipykernel)",
   "language": "python",
   "name": "python3"
  },
  "language_info": {
   "codemirror_mode": {
    "name": "ipython",
    "version": 3
   },
   "file_extension": ".py",
   "mimetype": "text/x-python",
   "name": "python",
   "nbconvert_exporter": "python",
   "pygments_lexer": "ipython3",
   "version": "3.11.2"
  }
 },
 "nbformat": 4,
 "nbformat_minor": 5
}
