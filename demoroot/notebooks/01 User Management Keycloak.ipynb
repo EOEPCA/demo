{
 "cells": [
  {
   "cell_type": "markdown",
   "id": "fourth-founder",
   "metadata": {},
   "source": [
    "## User Management (Keycloak)\n",
    "Interaction with Keycloak using Keycloak's python client and Identity API."
   ]
  },
  {
   "cell_type": "code",
   "execution_count": null,
   "outputs": [],
   "source": [
    "import jwt\n",
    "import json\n",
    "from getpass import getpass\n",
    "from keycloak import KeycloakPostError\n",
    "from identityutils.keycloak_client import KeycloakClient\n",
    "import requests\n",
    "import urllib3\n",
    "\n",
    "urllib3.disable_warnings()\n",
    "\n",
    "base_domain = \"develop.eoepca.org\"\n",
    "platform_domain = f\"identity.keycloak.{base_domain}\"\n",
    "server_url = f\"https://{platform_domain}\"\n",
    "realm = \"master\"\n",
    "dummy_service_url = f\"https://identity.dummy-service.{base_domain}\"\n",
    "identity_api_url = f\"https://identity.api.{base_domain}\""
   ],
   "metadata": {
    "collapsed": false
   },
   "id": "swiss-sender"
  },
  {
   "cell_type": "markdown",
   "source": [
    "## Client\n",
    "We instantiate an object to interact with the Keycloak."
   ],
   "metadata": {
    "collapsed": false
   },
   "id": "modular-wages"
  },
  {
   "cell_type": "code",
   "execution_count": null,
   "outputs": [],
   "source": [
    "admin_password = getpass(\"Admin password: \")\n",
    "keycloak = KeycloakClient(\n",
    "    server_url=server_url,\n",
    "    realm=realm,\n",
    "    username=\"admin\",\n",
    "    password=admin_password,\n",
    ")"
   ],
   "metadata": {
    "collapsed": false
   },
   "id": "7ee7baacb5c482e9"
  },
  {
   "cell_type": "markdown",
   "source": [
    "## User Authentication\n",
    "User authenticates and the client receives an ID Token (JWT) that represents the user, and is used to identify the user in UMA authorization flows."
   ],
   "metadata": {
    "collapsed": false
   },
   "id": "usual-brazil"
  },
  {
   "cell_type": "markdown",
   "source": [
    "#### Create Users\n",
    "Create two users, an Eric and Alice both with user role."
   ],
   "metadata": {
    "collapsed": false
   },
   "id": "335052cf756eb435"
  },
  {
   "cell_type": "code",
   "execution_count": null,
   "outputs": [],
   "source": [
    "eric_id = keycloak.create_user(\"eric\", \"eric\", [\"user\"])\n",
    "print(\"Created Eric user with id: \" + eric_id)\n",
    "alice_id = keycloak.create_user(\"alice\", \"alice\", [\"user\"])\n",
    "print(\"Created Alice user with id: \" + alice_id)"
   ],
   "metadata": {
    "collapsed": false
   },
   "id": "eb038a6adb451cfd"
  },
  {
   "cell_type": "markdown",
   "metadata": {
    "collapsed": false
   },
   "source": [
    "#### Inspect Eric User Token"
   ],
   "id": "9e613065d80cf314"
  },
  {
   "cell_type": "code",
   "execution_count": null,
   "metadata": {
    "collapsed": false
   },
   "outputs": [],
   "source": [
    "token = keycloak.get_user_token(\"eric\", \"eric\")\n",
    "print(\"Eric token:\\n\" + json.dumps(token, indent = 2))\n",
    "eric_access_token = token[\"access_token\"]\n",
    "jwt_header = jwt.get_unverified_header(eric_access_token)\n",
    "print(\"JWT Header:\\n\" + json.dumps(jwt_header, indent = 2))\n",
    "jwt_payload = jwt.decode(eric_access_token, options={\"verify_signature\": False})\n",
    "print(\"JWT Payload:\\n\" + json.dumps(jwt_payload, indent = 2))"
   ],
   "id": "921e1c9077aa789f"
  },
  {
   "cell_type": "markdown",
   "metadata": {
    "collapsed": false
   },
   "source": [
    "#### Inspect Alice User Token"
   ],
   "id": "c55e51a804511ee9"
  },
  {
   "cell_type": "code",
   "execution_count": null,
   "metadata": {
    "collapsed": false
   },
   "outputs": [],
   "source": [
    "token = keycloak.get_user_token(\"alice\", \"alice\")\n",
    "print(\"Eric token:\\n\" + json.dumps(token, indent = 2))\n",
    "alice_access_token = token[\"access_token\"]\n",
    "jwt_header = jwt.get_unverified_header(alice_access_token)\n",
    "print(\"JWT Header:\\n\" + json.dumps(jwt_header, indent = 2))\n",
    "jwt_payload = jwt.decode(alice_access_token, options={\"verify_signature\": False})\n",
    "print(\"JWT Payload:\\n\" + json.dumps(jwt_payload, indent = 2))"
   ],
   "id": "8c2546f94a5d45b3"
  },
  {
   "cell_type": "markdown",
   "metadata": {
    "collapsed": false
   },
   "source": [
    "The ID Token (JWT) identifies the user via user_name / sub (Subject) fields, and the client via the aud (Audience) field. The JWT is signed and can be verified, using the kid (Key ID) field, via the JWKS endpoint of the Authorization Server."
   ],
   "id": "6b8eb77cdada9cae"
  },
  {
   "cell_type": "markdown",
   "metadata": {
    "collapsed": false
   },
   "source": [
    "## Protect resources\n",
    "Access a protected resources using UMA flow."
   ],
   "id": "d0e93be00dd6700"
  },
  {
   "cell_type": "markdown",
   "metadata": {
    "collapsed": false
   },
   "source": [
    "#### Assign premium role to Eric\n",
    "Roles are used to define policies that will protect resources based on roles - Role-based access control (RBAC)"
   ],
   "id": "7aa0ec8b8ca4be2c"
  },
  {
   "cell_type": "code",
   "execution_count": null,
   "metadata": {
    "collapsed": false
   },
   "outputs": [],
   "source": [
    "realm_role = keycloak.create_realm_role('user-premium')\n",
    "print(\"Created realm role: \" + realm_role)\n",
    "keycloak.assign_realm_roles_to_user(eric_id, realm_role)\n",
    "print(\"Assigned \" + realm_role + \" role to Eric\")"
   ],
   "id": "46f22fc71441cea3"
  },
  {
   "cell_type": "markdown",
   "source": [
    "#### Register client\n",
    "Register demo client"
   ],
   "metadata": {
    "collapsed": false
   },
   "id": "6aaea97b832109de"
  },
  {
   "cell_type": "code",
   "execution_count": null,
   "outputs": [],
   "source": [
    "client_id = \"demo\"\n",
    "client_secret= \"mpmhQOGEG4ocamf49HomRjPxILfpgVs6\"\n",
    "client_payload = {\n",
    "    \"clientId\": client_id,\n",
    "    \"secret\": client_secret,\n",
    "    \"name\": \"Demo client\",\n",
    "    \"description\": \"Client used on demo notebook\",\n",
    "    \"serviceAccountsEnabled\": True,\n",
    "    \"directAccessGrantsEnabled\": True,\n",
    "    \"authorizationServicesEnabled\": True\n",
    "}\n",
    "keycloak.create_client(client_payload, skip_exists=True)\n",
    "print(\"Created client: demo\")"
   ],
   "metadata": {
    "collapsed": false
   },
   "id": "4fe07e7d91f6a305"
  },
  {
   "cell_type": "markdown",
   "source": [
    "## Protect URIs\n",
    "Right now, resources are protected by a default policy, which grants access to users within the realm.\n",
    "Let's see how Keycloak protects resources using role based and user based policies."
   ],
   "metadata": {
    "collapsed": false
   },
   "id": "c97a13a7a2f6ef33"
  },
  {
   "cell_type": "markdown",
   "source": [
    "#### Register resources\n",
    "Register"
   ],
   "metadata": {
    "collapsed": false
   },
   "id": "26005c28ccb2b3db"
  },
  {
   "cell_type": "code",
   "execution_count": null,
   "outputs": [],
   "source": [
    "resources = [\n",
    "    {\n",
    "        \"name\": \"Premium resource\",\n",
    "        \"uri\": \"/protected/premium/*\"\n",
    "    },\n",
    "    {\n",
    "        \"name\": \"Eric space\",\n",
    "        \"uri\": \"/eric/*\"\n",
    "    },\n",
    "    {\n",
    "        \"name\": \"Alice space\",\n",
    "        \"uri\": \"/alice/*\"\n",
    "    }\n",
    "]\n",
    "keycloak.register_resources(client_id, resources, skip_exists=True)"
   ],
   "metadata": {
    "collapsed": false
   },
   "id": "58fb6be6f37aa7d5"
  },
  {
   "cell_type": "markdown",
   "metadata": {
    "collapsed": false
   },
   "source": [
    "#### Register policies\n",
    "Register role based and user based policies"
   ],
   "id": "fe588d65f686c530"
  },
  {
   "cell_type": "code",
   "execution_count": null,
   "outputs": [],
   "source": [
    "policy = {\n",
    "    \"name\": 'Only Premium User Policy',\n",
    "    \"roles\": [\n",
    "        {\n",
    "            \"id\": \"user-premium\"\n",
    "        }\n",
    "    ]\n",
    "}\n",
    "p = keycloak.register_role_policy(client_id, policy, skip_exists=True)\n",
    "print(\"Only Premium User Policy:\")\n",
    "print(p)\n",
    "\n",
    "policy = {\n",
    "    \"name\": 'Only Eric User Policy',\n",
    "    \"users\": [eric_id]\n",
    "}\n",
    "p = keycloak.register_user_policy(client_id, policy)\n",
    "print(\"Only Eric User Policy:\")\n",
    "print(p)\n",
    "\n",
    "policy = {\n",
    "    \"name\": 'Only Alice User Policy',\n",
    "    \"users\": [alice_id]\n",
    "}\n",
    "p = keycloak.register_user_policy(client_id, policy)\n",
    "print(\"Only Alice User Policy:\")\n",
    "print(p)"
   ],
   "metadata": {
    "collapsed": false
   },
   "id": "7528a876ea5475cd"
  },
  {
   "cell_type": "markdown",
   "metadata": {
    "collapsed": false
   },
   "source": [
    "#### Register resource permissions\n",
    "Resources permissions are set by assigning policies to resources."
   ],
   "id": "b39fd78912559132"
  },
  {
   "cell_type": "code",
   "execution_count": null,
   "metadata": {
    "collapsed": false
   },
   "outputs": [],
   "source": [
    "permissions = [\n",
    "    {\n",
    "        \"name\": \"Premium permission\",\n",
    "        \"type\": \"resource\",\n",
    "        \"logic\": \"POSITIVE\",\n",
    "        \"decisionStrategy\": \"UNANIMOUS\",\n",
    "        \"resources\": [\n",
    "            \"Premium resource\"\n",
    "        ],\n",
    "        \"policies\": [\n",
    "            \"Only Premium User Policy\"\n",
    "        ]\n",
    "    },\n",
    "    {\n",
    "        \"name\": \"Eric space permission\",\n",
    "        \"type\": \"resource\",\n",
    "        \"logic\": \"POSITIVE\",\n",
    "        \"decisionStrategy\": \"UNANIMOUS\",\n",
    "        \"resources\": [\n",
    "            \"Eric space\"\n",
    "        ],\n",
    "        \"policies\": [\n",
    "            \"Only Eric User Policy\"\n",
    "        ]\n",
    "    },\n",
    "    {\n",
    "        \"name\": \"Alice space permission\",\n",
    "        \"type\": \"resource\",\n",
    "        \"logic\": \"POSITIVE\",\n",
    "        \"decisionStrategy\": \"UNANIMOUS\",\n",
    "        \"resources\": [\n",
    "            \"Alice space\"\n",
    "        ],\n",
    "        \"policies\": [\n",
    "            \"Only Alice User Policy\"\n",
    "        ]\n",
    "    }\n",
    "]\n",
    "r = keycloak.assign_resources_permissions(client_id, permissions, skip_exists=True)\n",
    "print(r)"
   ],
   "id": "7db3855970e19275"
  },
  {
   "cell_type": "markdown",
   "metadata": {
    "collapsed": false
   },
   "source": [
    "#### Get PAT (Protection API token)\n",
    "PAT (Protection API token) is used to access Keycloak's Protection API, which manages resources and policies."
   ],
   "id": "6e261ef73b519122"
  },
  {
   "cell_type": "code",
   "execution_count": null,
   "metadata": {
    "collapsed": false
   },
   "outputs": [],
   "source": [
    "pat = keycloak.generate_protection_pat(client_id, client_secret)\n",
    "print(json.dumps(pat, indent=2))\n",
    "access_token = pat['access_token']"
   ],
   "id": "7ec0f40884afcb2b"
  },
  {
   "cell_type": "markdown",
   "metadata": {
    "collapsed": false
   },
   "source": [],
   "id": "73ece8c827858c3c"
  },
  {
   "cell_type": "markdown",
   "metadata": {
    "collapsed": false
   },
   "source": [
    "### Get Resource Ids"
   ],
   "id": "5163d45ac003fcf4"
  },
  {
   "cell_type": "code",
   "execution_count": null,
   "metadata": {
    "collapsed": false
   },
   "outputs": [],
   "source": [
    "# it's possible to query resources by many fields, including name and uri\n",
    "premium_resource_id = keycloak.get_resource_id(client_id, client_secret, name=\"Premium resource\")[0]\n",
    "print(\"Premium resource: \" + premium_resource_id)\n",
    "eric_resource_id = keycloak.get_resource_id(client_id, client_secret, uri=\"/eric/*\")[0]\n",
    "print(\"Eric resource: \" + eric_resource_id)\n",
    "alice_resource_id = keycloak.get_resource_id(client_id, client_secret, uri=\"/alice/*\")[0]\n",
    "print(\"Alice resource: \" + alice_resource_id)"
   ],
   "id": "fad25c0c5306f93f"
  },
  {
   "cell_type": "markdown",
   "metadata": {
    "collapsed": false
   },
   "source": [
    "#### Get UMA access token for eric space resource for both Eric and Alice"
   ],
   "id": "7bd8995d56fd1161"
  },
  {
   "cell_type": "code",
   "execution_count": null,
   "metadata": {
    "collapsed": false
   },
   "outputs": [],
   "source": [
    "uma_ticket = keycloak.create_permission_ticket(client_id, client_secret, resources=[eric_resource_id])['ticket']\n",
    "print('UMA ticket for resource ' + eric_resource_id + ':\\n' + uma_ticket)\n",
    "eric_access_token = keycloak.get_user_token(\"eric\", \"eric\", client_id=client_id, client_secret=client_secret)['access_token']\n",
    "eric_rpt = keycloak.get_rpt(client_id, client_secret, \"/eric/*\", eric_access_token, uma_ticket)['access_token']\n",
    "print('Eric RPT:\\n' + str(eric_rpt))"
   ],
   "id": "8fad04726762f1a9"
  },
  {
   "cell_type": "code",
   "execution_count": null,
   "metadata": {
    "collapsed": false
   },
   "outputs": [],
   "source": [
    "uma_ticket = keycloak.create_permission_ticket(client_id, client_secret, resources=[eric_resource_id])['ticket']\n",
    "print('UMA ticket for resource ' + eric_resource_id + ':\\n' + uma_ticket)\n",
    "alice_access_token = keycloak.get_user_token(\"alice\", \"alice\", client_id=client_id, client_secret=client_secret)['access_token']\n",
    "try:\n",
    "    alice_uma_access_token = keycloak.get_rpt(client_id, client_secret, \"/eric/*\", alice_access_token, uma_ticket)['access_token']\n",
    "except KeycloakPostError as e:\n",
    "    print(str(e))"
   ],
   "id": "8d3dee0644cb9c35"
  },
  {
   "cell_type": "markdown",
   "metadata": {
    "collapsed": false
   },
   "source": [
    "Trying to get a UMA token for Alice results in a 403 Forbidden Error. The reason being Alice is not allowed to access the `/eric/*` resource because it's protected for only `eric` user."
   ],
   "id": "2a47860a5bd76bb0"
  },
  {
   "cell_type": "markdown",
   "id": "38136476",
   "metadata": {},
   "source": [
    "## Identity API"
   ]
  },
  {
   "cell_type": "markdown",
   "source": [
    "#### Get Resources"
   ],
   "metadata": {
    "collapsed": false
   },
   "id": "bebac6c99d367ed4"
  },
  {
   "cell_type": "code",
   "execution_count": null,
   "id": "97c85d72",
   "metadata": {},
   "outputs": [],
   "source": [
    "access_token = keycloak.get_user_token(\"admin\", admin_password)[\"access_token\"]\n",
    "headers = {\n",
    "    \"Authorization\": \"Bearer \" + access_token\n",
    "}\n",
    "url = identity_api_url + \"/resources?client_id=\" + client_id + \"&client_secret=\" + client_secret\n",
    "print(\"GET \" + url)\n",
    "response = requests.get(url, headers=headers)\n",
    "try:\n",
    "    print(json.dumps(response.json(), indent=2))\n",
    "except:\n",
    "    print(response)"
   ]
  },
  {
   "cell_type": "markdown",
   "id": "5fd680d1",
   "metadata": {},
   "source": [
    "#### Get resource by id"
   ]
  },
  {
   "cell_type": "code",
   "execution_count": null,
   "id": "1f2380db",
   "metadata": {},
   "outputs": [],
   "source": [
    "access_token = keycloak.get_user_token(\"admin\", admin_password)[\"access_token\"]\n",
    "headers = {\n",
    "    \"Authorization\": \"Bearer \" + access_token\n",
    "}\n",
    "resource_id = keycloak.get_resource_id(client_id, client_secret, name=\"Default Resource\")[0]\n",
    "url = identity_api_url + \"/resources/\" + resource_id + \"?client_id=\" + client_id + \"&client_secret=\" + client_secret\n",
    "print(\"GET \" + url)\n",
    "response = requests.get(url, headers=headers)\n",
    "print(json.dumps(response.json(), indent=2))"
   ]
  },
  {
   "cell_type": "markdown",
   "id": "da371416",
   "metadata": {},
   "source": [
    "#### Register resource"
   ]
  },
  {
   "cell_type": "code",
   "execution_count": null,
   "outputs": [],
   "source": [
    "access_token = keycloak.get_user_token(\"admin\", admin_password)[\"access_token\"]\n",
    "headers = {\n",
    "    \"Authorization\": \"Bearer \" + access_token\n",
    "}\n",
    "data = [\n",
    "    {\n",
    "        'name': 'A resource',\n",
    "        'uris': [\"/protected/*\"],\n",
    "        \"permissions\": {\n",
    "            \"authenticated\": True\n",
    "        },\n",
    "    }\n",
    "]\n",
    "url = f\"{identity_api_url}/{client_id}/resources\"\n",
    "response = requests.post(url, json=data, headers=headers)\n",
    "print(\"POST \" + url)\n",
    "print(str(response.status_code))\n",
    "print(json.dumps(response.json(), indent=2))"
   ],
   "metadata": {
    "collapsed": false
   },
   "id": "0a80867f"
  },
  {
   "cell_type": "markdown",
   "source": [
    "#### Update resource"
   ],
   "metadata": {
    "collapsed": false
   },
   "id": "9f3ca985185431c2"
  },
  {
   "cell_type": "code",
   "execution_count": null,
   "id": "1f63776b",
   "metadata": {},
   "outputs": [],
   "source": [
    "resource_id = keycloak.get_resource_id(client_id, client_secret, name=\"A resource\")[0]\n",
    "access_token = keycloak.get_user_token(\"admin\", admin_password)[\"access_token\"]\n",
    "headers = {\n",
    "    \"Authorization\": \"Bearer \" + access_token\n",
    "}\n",
    "data = {\n",
    "    \"name\": \"A resource\",\n",
    "    \"uris\": [\"/protect/*\"],\n",
    "    \"attributes\": \"attribute\",\n",
    "    \"scopes\": [\"view\"],\n",
    "    \"ownerManagedAccess\": True,\n",
    "    \"displayName\": \"Display name\"\n",
    "}\n",
    "url = f\"{identity_api_url}/{client_id}/resources/{resource_id}?client_id={client_id}&client_secret={client_secret}\"\n",
    "response = requests.put(url + \"/\" + resource_id, json=data, headers=headers)\n",
    "print(\"PUT \" + url)\n",
    "print(str(response.status_code))\n",
    "print(str(response.json()))"
   ]
  },
  {
   "cell_type": "markdown",
   "id": "533e9153",
   "metadata": {},
   "source": [
    "#### Delete resource"
   ]
  },
  {
   "cell_type": "code",
   "execution_count": null,
   "id": "8c06097d",
   "metadata": {},
   "outputs": [],
   "source": [
    "resource_id = keycloak.get_resource_id(client_id, client_secret, name=\"A resource\")[0]\n",
    "access_token = keycloak.get_user_token(\"admin\", admin_password)[\"access_token\"]\n",
    "headers = {\n",
    "    \"Authorization\": \"Bearer \" + access_token\n",
    "}\n",
    "url = f\"{identity_api_url}/{client_id}/resources/{resource_id}?client_id={client_id}&client_secret={client_secret}\"\n",
    "response = requests.delete(url, headers=headers)\n",
    "print(\"DELETE \" + url)\n",
    "print(str(response.status_code))\n",
    "print(str(response.json()))"
   ]
  },
  {
   "cell_type": "markdown",
   "id": "bd0928dc",
   "metadata": {},
   "source": [
    "#### Get client Policies"
   ]
  },
  {
   "cell_type": "code",
   "execution_count": null,
   "id": "25edefeb",
   "metadata": {},
   "outputs": [],
   "source": [
    "access_token = keycloak.get_user_token(\"admin\", admin_password)[\"access_token\"]\n",
    "headers = {\n",
    "    \"Authorization\": \"Bearer \" + access_token\n",
    "}\n",
    "url = identity_api_url + \"/\" + client_id + \"/policies\"\n",
    "response = requests.get(url, headers=headers)\n",
    "print(\"GET \" + url)\n",
    "print(str(response.status_code))\n",
    "print(json.dumps(response.json(), indent=2))"
   ]
  },
  {
   "cell_type": "markdown",
   "id": "0f375baa",
   "metadata": {},
   "source": [
    "#### create client Policy"
   ]
  },
  {
   "cell_type": "code",
   "execution_count": null,
   "id": "618b3718",
   "metadata": {},
   "outputs": [],
   "source": [
    "access_token = keycloak.get_user_token(\"admin\", admin_password)[\"access_token\"]\n",
    "headers = {\n",
    "    \"Authorization\": \"Bearer \" + access_token\n",
    "}\n",
    "data = {\n",
    "    \"logic\": \"POSITIVE\",\n",
    "    \"decisionStrategy\": \"UNANIMOUS\",\n",
    "    \"name\": \"My Policy\",\n",
    "    \"clients\": [\n",
    "        client_id\n",
    "    ],\n",
    "    \"description\": \"Client policy\"\n",
    "}\n",
    "url = identity_api_url + \"/\" + client_id + \"/policies/client\"\n",
    "response = requests.post(url, json=data, headers=headers)\n",
    "print(\"POST \" + url)\n",
    "print(str(response.status_code))\n",
    "print(json.dumps(response.json(), indent=2))"
   ]
  },
  {
   "cell_type": "markdown",
   "id": "f1ae87ee",
   "metadata": {},
   "source": [
    "#### Create Aggregated policy"
   ]
  },
  {
   "cell_type": "code",
   "execution_count": null,
   "id": "c943b064",
   "metadata": {},
   "outputs": [],
   "source": [
    "access_token = keycloak.get_user_token(\"admin\", admin_password)[\"access_token\"]\n",
    "headers = {\n",
    "    \"Authorization\": \"Bearer \" + access_token\n",
    "}\n",
    "data = {\n",
    "    \"logic\": \"POSITIVE\",\n",
    "    \"decisionStrategy\": \"UNANIMOUS\",\n",
    "    \"name\": \"Aggregated policy\",\n",
    "    \"policies\": [\"My Policy\"],\n",
    "    \"description\": \"Policy description\"\n",
    "}\n",
    "url = identity_api_url + \"/\" + client_id + \"/policies/aggregated\"\n",
    "response = requests.post(url, json=data, headers=headers)\n",
    "print(\"POST \" + url)\n",
    "print(str(response.status_code))\n",
    "print(json.dumps(response.json(), indent=2))"
   ]
  },
  {
   "cell_type": "markdown",
   "id": "e33a5fa2",
   "metadata": {},
   "source": [
    "#### Create scope policy"
   ]
  },
  {
   "cell_type": "code",
   "execution_count": null,
   "id": "2e0a7407",
   "metadata": {},
   "outputs": [],
   "source": [
    "access_token = keycloak.get_user_token(\"admin\", admin_password)[\"access_token\"]\n",
    "headers = {\n",
    "    \"Authorization\": \"Bearer \" + access_token\n",
    "}\n",
    "data = {\n",
    "    \"logic\": \"POSITIVE\",\n",
    "    \"decisionStrategy\": \"UNANIMOUS\",\n",
    "    \"name\": \"Scope Policy\",\n",
    "    \"scopes\": [\n",
    "        \"view\"\n",
    "    ],\n",
    "    \"description\": \"Policy description\"\n",
    "}\n",
    "url = identity_api_url + \"/\" + client_id + \"/policies/scope\"\n",
    "response = requests.post(url, json=data, headers=headers)\n",
    "print(\"POST \" + url)\n",
    "print(str(response.status_code))\n",
    "print(json.dumps(response.json(), indent=2))"
   ]
  },
  {
   "cell_type": "markdown",
   "id": "43f7dbc7",
   "metadata": {},
   "source": [
    "#### Create group policy"
   ]
  },
  {
   "cell_type": "code",
   "execution_count": null,
   "id": "839f0830",
   "metadata": {},
   "outputs": [],
   "source": [
    "access_token = keycloak.get_user_token(\"admin\", admin_password)[\"access_token\"]\n",
    "headers = {\n",
    "    \"Authorization\": \"Bearer \" + access_token\n",
    "}\n",
    "data = {\n",
    "    \"logic\": \"POSITIVE\",\n",
    "    \"decisionStrategy\": \"UNANIMOUS\",\n",
    "    \"name\": \"Group policy\",\n",
    "    \"groups\": [\"0b86ce51-7027-4958-bac2-2d6af9ac3fbf\"],\n",
    "    \"groupsClaim\": \"Groups claim\",\n",
    "    \"description\": \"description\"\n",
    "}\n",
    "url = identity_api_url + \"/\" + client_id + \"/policies/group\"\n",
    "response = requests.post(url, json=data, headers=headers)\n",
    "print(\"POST \" + url)\n",
    "print(str(response.status_code))\n",
    "print(json.dumps(response.json(), indent=2))"
   ]
  },
  {
   "cell_type": "markdown",
   "id": "e19e6dcd",
   "metadata": {},
   "source": [
    "#### - Create regex Policy"
   ]
  },
  {
   "cell_type": "code",
   "execution_count": null,
   "id": "fd1ae00d",
   "metadata": {},
   "outputs": [],
   "source": [
    "access_token = keycloak.get_user_token(\"admin\", admin_password)[\"access_token\"]\n",
    "headers = {\n",
    "    \"Authorization\": \"Bearer \" + access_token\n",
    "}\n",
    "data = {\n",
    "    \"logic\": \"POSITIVE\",\n",
    "    \"decisionStrategy\": \"UNANIMOUS\",\n",
    "    \"name\": \"Regex policy\",\n",
    "    \"pattern\": \".*\",\n",
    "    \"targetClaim\": \"preferred_username\",\n",
    "    \"description\": \"Match all usernames\"\n",
    "}\n",
    "url = identity_api_url + \"/\" + client_id + \"/policies/regex\"\n",
    "response = requests.post(url, json=data, headers=headers)\n",
    "print(\"POST \" + url)\n",
    "print(str(response.status_code))\n",
    "print(json.dumps(response.json(), indent=2))"
   ]
  },
  {
   "cell_type": "markdown",
   "id": "c69f72d0",
   "metadata": {},
   "source": [
    "#### Create role policy"
   ]
  },
  {
   "cell_type": "code",
   "execution_count": null,
   "id": "4f89a1f0",
   "metadata": {},
   "outputs": [],
   "source": [
    "access_token = keycloak.get_user_token(\"admin\", admin_password)[\"access_token\"]\n",
    "headers = {\n",
    "    \"Authorization\": \"Bearer \" + access_token\n",
    "}\n",
    "data = {\n",
    "    \"logic\": \"POSITIVE\",\n",
    "    \"decisionStrategy\": \"UNANIMOUS\",\n",
    "    \"name\": \"Role policy\",\n",
    "    \"roles\": [\n",
    "        {\n",
    "            \"id\": \"user-premium\",\n",
    "            \"required\": False\n",
    "        }\n",
    "    ],\n",
    "    \"description\": \"Role policy\"\n",
    "}\n",
    "url = identity_api_url + \"/\" + client_id + \"/policies/role\"\n",
    "response = requests.post(url, json=data, headers=headers)\n",
    "print(\"POST \" + url)\n",
    "print(str(response.status_code))\n",
    "print(json.dumps(response.json(), indent=2))"
   ]
  },
  {
   "cell_type": "markdown",
   "id": "c28f2ff3",
   "metadata": {},
   "source": [
    "#### create time policy"
   ]
  },
  {
   "cell_type": "code",
   "execution_count": null,
   "id": "a1865c03",
   "metadata": {},
   "outputs": [],
   "source": [
    "access_token = keycloak.get_user_token(\"admin\", admin_password)[\"access_token\"]\n",
    "headers = {\n",
    "    \"Authorization\": \"Bearer \" + access_token\n",
    "}\n",
    "data = {\n",
    "    \"logic\": \"POSITIVE\",\n",
    "    \"decisionStrategy\": \"UNANIMOUS\",\n",
    "    \"name\": \"Time policy\",\n",
    "    \"description\": \"description\",\n",
    "    \"year\": 2023,\n",
    "    \"yearEnd\": 2024\n",
    "}\n",
    "url = identity_api_url + \"/\" + client_id + \"/policies/time\"\n",
    "response = requests.post(url, json=data, headers=headers)\n",
    "print(\"POST \" + url)\n",
    "print(str(response.status_code))\n",
    "print(json.dumps(response.json(), indent=2))"
   ]
  },
  {
   "cell_type": "markdown",
   "id": "51b51505",
   "metadata": {},
   "source": [
    "#### Create user policy"
   ]
  },
  {
   "cell_type": "code",
   "execution_count": null,
   "id": "37d9ccf6",
   "metadata": {},
   "outputs": [],
   "source": [
    "access_token = keycloak.get_user_token(\"admin\", admin_password)[\"access_token\"]\n",
    "headers = {\n",
    "    \"Authorization\": \"Bearer \" + access_token\n",
    "}\n",
    "data = {\n",
    "    \"logic\": \"POSITIVE\",\n",
    "    \"decisionStrategy\": \"UNANIMOUS\",\n",
    "    \"name\": \"User policy\",\n",
    "    \"users\": [\n",
    "        \"eric\"\n",
    "    ],\n",
    "    \"description\": \"test\"\n",
    "}\n",
    "url = identity_api_url + \"/\" + client_id + \"/policies/user\"\n",
    "response = requests.post(url, json=data, headers=headers)\n",
    "print(\"POST \" + url)\n",
    "print(str(response.status_code))\n",
    "print(json.dumps(response.json(), indent=2))\n",
    "policy_id = response.json()['id']"
   ]
  },
  {
   "cell_type": "markdown",
   "id": "087d76ef",
   "metadata": {},
   "source": [
    "#### Update policies\n",
    "Change previous added user policy from users \"eric\" to \"alice\""
   ]
  },
  {
   "cell_type": "code",
   "execution_count": null,
   "id": "d7b4ab36",
   "metadata": {},
   "outputs": [],
   "source": [
    "access_token = keycloak.get_user_token(\"admin\", admin_password)[\"access_token\"]\n",
    "headers = {\n",
    "    \"Authorization\": \"Bearer \" + access_token\n",
    "}\n",
    "data = {\n",
    "    \"logic\": \"POSITIVE\",\n",
    "    \"decisionStrategy\": \"UNANIMOUS\",\n",
    "    \"name\": \"User policy\",\n",
    "    \"description\": \"description\",\n",
    "    \"users\": [\n",
    "        \"alice\"\n",
    "    ],\n",
    "}\n",
    "url = identity_api_url + \"/\" + client_id + \"/policies/user/\" + policy_id\n",
    "response = requests.put(url, json=data, headers=headers)\n",
    "print(\"PUT \" + url)\n",
    "print(str(response.status_code))\n",
    "print(json.dumps(response.json(), indent=2))"
   ]
  },
  {
   "cell_type": "markdown",
   "id": "834c816f",
   "metadata": {},
   "source": [
    "#### Delete policies"
   ]
  },
  {
   "cell_type": "code",
   "execution_count": null,
   "id": "7c9e28f6",
   "metadata": {},
   "outputs": [],
   "source": [
    "access_token = keycloak.get_user_token(\"admin\", admin_password)[\"access_token\"]\n",
    "headers = {\n",
    "    \"Authorization\": \"Bearer \" + access_token\n",
    "}\n",
    "url = identity_api_url + \"/\" + client_id + \"/policies/\" + policy_id\n",
    "response = requests.delete(url, headers=headers)\n",
    "print(\"DELETE \" + url)\n",
    "print(str(response.status_code))"
   ]
  },
  {
   "cell_type": "markdown",
   "id": "a409a128",
   "metadata": {},
   "source": [
    "#### Get client permissions"
   ]
  },
  {
   "cell_type": "code",
   "execution_count": null,
   "id": "8170b92e",
   "metadata": {},
   "outputs": [],
   "source": [
    "access_token = keycloak.get_user_token(\"admin\", admin_password)[\"access_token\"]\n",
    "headers = {\n",
    "    \"Authorization\": \"Bearer \" + access_token\n",
    "}\n",
    "url = identity_api_url + \"/\" + client_id + \"/permissions\"\n",
    "response = requests.get(url, headers=headers)\n",
    "print(\"GET \" + url)\n",
    "print(str(response.status_code))\n",
    "print(json.dumps(response.json(), indent=2))"
   ]
  },
  {
   "cell_type": "markdown",
   "id": "f86efc5c",
   "metadata": {},
   "source": [
    "#### Get client management permissions"
   ]
  },
  {
   "cell_type": "code",
   "execution_count": null,
   "id": "1506c963",
   "metadata": {},
   "outputs": [],
   "source": [
    "access_token = keycloak.get_user_token(\"admin\", admin_password)[\"access_token\"]\n",
    "headers = {\n",
    "    \"Authorization\": \"Bearer \" + access_token\n",
    "}\n",
    "url = identity_api_url + \"/\" + client_id + \"/permissions/management\"\n",
    "response = requests.get(url, headers=headers)\n",
    "print(\"GET \" + url)\n",
    "print(str(response.status_code))\n",
    "print(json.dumps(response.json(), indent=2))\n"
   ]
  },
  {
   "cell_type": "markdown",
   "id": "6e8265ad",
   "metadata": {},
   "source": [
    "#### Get client resources permissions"
   ]
  },
  {
   "cell_type": "code",
   "execution_count": null,
   "id": "5f12fb7c",
   "metadata": {},
   "outputs": [],
   "source": [
    "access_token = keycloak.get_user_token(\"admin\", admin_password)[\"access_token\"]\n",
    "headers = {\n",
    "    \"Authorization\": \"Bearer \" + access_token\n",
    "}\n",
    "url = identity_api_url + \"/\" + client_id + \"/permissions/resources\"\n",
    "response = requests.get(url, headers=headers)\n",
    "print(\"GET \" + url)\n",
    "print(str(response.status_code))\n",
    "print(json.dumps(response.json(), indent=2))"
   ]
  },
  {
   "cell_type": "markdown",
   "id": "3da4aa8c",
   "metadata": {},
   "source": [
    "#### Create client resources permissions"
   ]
  },
  {
   "cell_type": "code",
   "execution_count": null,
   "id": "84ddd1e1",
   "metadata": {},
   "outputs": [],
   "source": [
    "access_token = keycloak.get_user_token(\"admin\", admin_password)[\"access_token\"]\n",
    "headers = {\n",
    "    \"Authorization\": \"Bearer \" + access_token\n",
    "}\n",
    "data = {\n",
    "    \"type\": \"resource\",\n",
    "    \"logic\": \"POSITIVE\",\n",
    "    \"decisionStrategy\": \"UNANIMOUS\",\n",
    "    \"name\": \"Permission-Name 2\",\n",
    "    \"resources\": [\n",
    "        \"5bd655ec-2575-406e-aa08-28b1bd25f476\"\n",
    "    ],\n",
    "    \"policies\": [\n",
    "        \"57d4a363-6b40-4dec-93e9-a46a1a8e492f\"\n",
    "    ]\n",
    "}\n",
    "url = identity_api_url + \"/\" + client_id + \"/permissions/resources\"\n",
    "response = requests.get(url, json=data, headers=headers)\n",
    "print(\"GET \" + url)\n",
    "print(str(response.status_code))\n",
    "print(json.dumps(response.json(), indent=2))"
   ]
  },
  {
   "cell_type": "markdown",
   "id": "528329d9",
   "metadata": {},
   "source": [
    "#### Update client management permissions"
   ]
  },
  {
   "cell_type": "code",
   "execution_count": null,
   "id": "cc420361",
   "metadata": {},
   "outputs": [],
   "source": [
    "access_token = keycloak.get_user_token(\"admin\", admin_password)[\"access_token\"]\n",
    "headers = {\n",
    "    \"Authorization\": \"Bearer \" + access_token\n",
    "}\n",
    "data = {\n",
    "    \"enabled\": True\n",
    "}\n",
    "url = identity_api_url + \"/\" + client_id + \"/permissions/management\"\n",
    "response = requests.put(url, json=data, headers=headers)\n",
    "print(\"PUT \" + url)\n",
    "print(str(response.status_code))\n",
    "print(json.dumps(response.json(), indent=2))"
   ]
  },
  {
   "cell_type": "markdown",
   "id": "d3748911",
   "metadata": {},
   "source": [
    "#### Register and Protect a Resource"
   ]
  },
  {
   "cell_type": "code",
   "execution_count": null,
   "id": "ada8b916",
   "metadata": {},
   "outputs": [],
   "source": [
    "access_token = keycloak.get_user_token(\"admin\", admin_password)[\"access_token\"]\n",
    "headers = {\n",
    "    \"Authorization\": \"Bearer \" + access_token\n",
    "}\n",
    "data = [\n",
    "    {\n",
    "        \"name\": \"Eric resource23233\",\n",
    "        \"uris\": [\"/eric/*\"],\n",
    "        \"permissions\": {\n",
    "            \"user\": [\"eric\"]\n",
    "        }\n",
    "    },\n",
    "    {\n",
    "        \"name\": \"Alice resource3233\",\n",
    "        \"uris\": [\"/alice/*\"],\n",
    "        \"permissions\": {\n",
    "            \"user\": [\"alice\"]\n",
    "        }\n",
    "    }\n",
    "]\n",
    "url = identity_api_url + \"/\" + client_id + \"/resources\"\n",
    "response = requests.post(url, json=data, headers=headers)\n",
    "print(\"POST \" + url)\n",
    "print(str(response.status_code))\n",
    "print(json.dumps(response.json(), indent=2))"
   ]
  },
  {
   "cell_type": "markdown",
   "id": "e720cf56",
   "metadata": {},
   "source": [
    "#### Delete Resource and its policies and permissions"
   ]
  },
  {
   "cell_type": "code",
   "execution_count": null,
   "id": "b9674153",
   "metadata": {},
   "outputs": [],
   "source": [
    "from urllib.parse import quote\n",
    "access_token = keycloak.get_user_token(\"admin\", admin_password)[\"access_token\"]\n",
    "headers = {\n",
    "    \"Authorization\": \"Bearer \" + access_token\n",
    "}\n",
    "resource_name = \"Eric resource\"\n",
    "url = identity_api_url + \"/\" + client_id + \"/resources/\" + quote(resource_name) + \"/all\"\n",
    "response = requests.delete(url, headers=headers)\n",
    "print('DELETE ' + url)\n",
    "print(response.status_code)\n",
    "resource_name = \"Alice resource\"\n",
    "url = identity_api_url + \"/\" + client_id + \"/resources/\" + quote(resource_name) + \"/all\"\n",
    "response = requests.delete(url, headers=headers)\n",
    "print('DELETE ' + url)\n",
    "print(response.status_code)"
   ]
  },
  {
   "cell_type": "markdown",
   "id": "0f3af5bd",
   "metadata": {},
   "source": [
    "#### Create client, create and protect resources in one endpoint"
   ]
  },
  {
   "cell_type": "code",
   "execution_count": null,
   "id": "0a8cd26c",
   "metadata": {},
   "outputs": [],
   "source": [
    "access_token = keycloak.get_user_token(\"admin\", admin_password)[\"access_token\"]\n",
    "headers = {\n",
    "    \"Authorization\": \"Bearer \" + access_token\n",
    "}\n",
    "payload = {\n",
    "    \"clientId\": \"dummy-service\",\n",
    "    \"name\": \"Dummy Service\",\n",
    "    \"description\": \"Client used for Dummy service\",\n",
    "    \"resources\": [\n",
    "        {\n",
    "            \"name\": \"Eric space\",\n",
    "            \"uris\": [\"/eric/*\"],\n",
    "            \"permissions\": {\n",
    "                \"user\": [\"eric\"]\n",
    "            }\n",
    "        },\n",
    "        {\n",
    "            \"name\": \"Alice space\",\n",
    "            \"uris\": [\"/alice/*\"],\n",
    "            \"permissions\": {\n",
    "                \"user\": [\"alice\"]\n",
    "            }\n",
    "        }\n",
    "    ]\n",
    "}\n",
    "url = identity_api_url + '/clients'\n",
    "response = requests.post(url, json=payload, headers=headers)\n",
    "print(\"POST \" + url)\n",
    "print(response.status_code)\n",
    "print(response.text)"
   ]
  },
  {
   "cell_type": "markdown",
   "source": [
    "## Bash Script\n",
    "Execute script to create a client with protected resources"
   ],
   "metadata": {
    "collapsed": false
   },
   "id": "47537fc25108b375"
  },
  {
   "cell_type": "code",
   "execution_count": null,
   "outputs": [],
   "source": [
    "import subprocess\n",
    "import urllib.request\n",
    "\n",
    "with urllib.request.urlopen(\n",
    "        \"https://raw.githubusercontent.com/EOEPCA/um-identity-service/master/scripts/create-client.sh\") as f:\n",
    "    script = f.read().decode('utf-8')\n",
    "    out = open(\"create-client.sh\", \"w\")\n",
    "    out.write(script)\n",
    "    out.flush()\n",
    "\n",
    "access_token = keycloak.get_user_token(\"admin\", admin_password)[\"access_token\"]\n",
    "\n",
    "client_id = input(\"Client id: \")\n",
    "client_name = \"Test client\"\n",
    "client_description = \"Test client from demo notebook\"\n",
    "\n",
    "script_args = [\"create-client.sh\",\n",
    "                       \"-e develop\",\n",
    "                       \"-t \" + access_token,\n",
    "                       \"--id=\" + \"\\\"\" + client_id + \"\\\"\",\n",
    "                       \"--name=\" + \"\\\"\" + client_name + \"\\\"\" ,\n",
    "                       \"--description=\" + \"\\\"\" + client_description + \"\\\"\" ,\n",
    "                       \"--resource=\\\"Eric space\\\"\", \"--uris=/ericspace/*\", \"--users=eric\",\n",
    "                       \"--resource=\\\"Alice space\\\"\", \"--uris=/alicespace/*\", \"--users=alice\"\n",
    "]\n",
    "print(\"Executing script:\\n\" + ' '.join(script_args) + '\\n')\n",
    "\n",
    "#r = subprocess.run(script_args, shell=True, text=True, capture_output=True)\n",
    "#print(r)"
   ],
   "metadata": {
    "collapsed": false
   },
   "id": "632f4cc7f6699dfe"
  },
  {
   "cell_type": "code",
   "execution_count": null,
   "outputs": [],
   "source": [],
   "metadata": {
    "collapsed": false
   },
   "id": "4503018abf176648"
  }
 ],
 "metadata": {
  "kernelspec": {
   "display_name": "Python 3 (ipykernel)",
   "language": "python",
   "name": "python3"
  },
  "language_info": {
   "codemirror_mode": {
    "name": "ipython",
    "version": 3
   },
   "file_extension": ".py",
   "mimetype": "text/x-python",
   "name": "python",
   "nbconvert_exporter": "python",
   "pygments_lexer": "ipython3",
   "version": "3.11.2"
  }
 },
 "nbformat": 4,
 "nbformat_minor": 5
}
