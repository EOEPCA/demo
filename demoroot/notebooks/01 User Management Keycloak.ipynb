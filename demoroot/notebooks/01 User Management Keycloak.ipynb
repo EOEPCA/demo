{
 "cells": [
  {
   "cell_type": "markdown",
   "id": "fourth-founder",
   "metadata": {},
   "source": [
    "## User Management (Keycloak)\n",
    "Interaction with EOEPCA endpoint using python Demo Client."
   ]
  },
  {
   "cell_type": "code",
   "execution_count": null,
   "id": "swiss-sender",
   "metadata": {},
   "outputs": [],
   "source": [
    "import utils.DemoKeycloakClient as Client\n",
    "import jwt\n",
    "import json\n",
    "\n",
    "base_domain = \"develop.eoepca.org\"\n",
    "platform_domain = f\"keycloak.{base_domain}\"\n",
    "server_url = f\"https://{platform_domain}\"\n",
    "realm = \"master\""
   ]
  },
  {
   "cell_type": "markdown",
   "id": "modular-wages",
   "metadata": {},
   "source": [
    "## Client\n",
    "We instantiate an object to interact with the platform. The object dynamically registers two Keycloak clients, one with admin privileges, another to act as a resource server to demo resources protection using UMA (User Managed Access)."
   ]
  },
  {
   "cell_type": "code",
   "execution_count": null,
   "id": "freelance-glance",
   "metadata": {},
   "outputs": [],
   "source": [
    "keycloak = Client.DemoKeycloakClient(server_url, realm, \"admin\", \"admin_Abcd1234#\")"
   ]
  },
  {
   "cell_type": "markdown",
   "id": "usual-brazil",
   "metadata": {},
   "source": [
    "## User Authentication\n",
    "User authenticates and the client receives an ID Token (JWT) that represents the user, and is used to identify the user in UMA authorization flows."
   ]
  },
  {
   "cell_type": "markdown",
   "source": [
    "#### Create Users\n",
    "Create two users, an Eric with user and user-premium roles, and an Alice with just user role."
   ],
   "metadata": {
    "collapsed": false
   }
  },
  {
   "cell_type": "code",
   "execution_count": null,
   "outputs": [],
   "source": [
    "eric_id = keycloak.create_user(\"eric\", \"eric\", [\"user\", \"user-premium\"])\n",
    "alice_id = keycloak.create_user(\"alice\", \"alice\", [\"user\"])"
   ],
   "metadata": {
    "collapsed": false
   }
  },
  {
   "cell_type": "markdown",
   "source": [
    "#### Authentication"
   ],
   "metadata": {
    "collapsed": false
   }
  },
  {
   "cell_type": "code",
   "execution_count": null,
   "outputs": [],
   "source": [
    "token = keycloak.get_user_token(\"eric\", \"eric\")\n",
    "print(\"Eric token:\\n\" + json.dumps(token, indent = 2))"
   ],
   "metadata": {
    "collapsed": false
   }
  },
  {
   "cell_type": "markdown",
   "source": [
    "#### Inspect Eric User Token"
   ],
   "metadata": {
    "collapsed": false
   }
  },
  {
   "cell_type": "code",
   "execution_count": null,
   "outputs": [],
   "source": [
    "access_token = token['access_token']\n",
    "jwt_header = jwt.get_unverified_header(access_token)\n",
    "print(\"JWT Header:\\n\" + json.dumps(jwt_header, indent = 2))\n",
    "jwt_payload = jwt.decode(access_token, options={\"verify_signature\": False})\n",
    "print(\"JWT Payload:\\n\" + json.dumps(jwt_payload, indent = 2))"
   ],
   "metadata": {
    "collapsed": false
   }
  },
  {
   "cell_type": "markdown",
   "source": [
    "#### Inspect Alice User Token"
   ],
   "metadata": {
    "collapsed": false
   }
  },
  {
   "cell_type": "code",
   "execution_count": null,
   "outputs": [],
   "source": [
    "access_token = token['access_token']\n",
    "jwt_header = jwt.get_unverified_header(access_token)\n",
    "print(\"JWT Header:\\n\" + json.dumps(jwt_header, indent = 2))\n",
    "jwt_payload = jwt.decode(access_token, options={\"verify_signature\": False})\n",
    "print(\"JWT Payload:\\n\" + json.dumps(jwt_payload, indent = 2))"
   ],
   "metadata": {
    "collapsed": false
   }
  },
  {
   "cell_type": "markdown",
   "source": [
    "The ID Token (JWT) identifies the user via user_name / sub (Subject) fields, and the client via the aud (Audience) field. The JWT is signed and can be verified, using the kid (Key ID) field, via the JWKS endpoint of the Authorization Server."
   ],
   "metadata": {
    "collapsed": false
   }
  },
  {
   "cell_type": "markdown",
   "source": [
    "## Protect resource\n",
    "Access a protected resource using UMA flow"
   ],
   "metadata": {
    "collapsed": false
   }
  },
  {
   "cell_type": "markdown",
   "source": [
    "#### Assign roles to users\n",
    "Roles are used to define policies that will protect resources based on roles - Role-based access control (RBAC)"
   ],
   "metadata": {
    "collapsed": false
   }
  },
  {
   "cell_type": "code",
   "execution_count": null,
   "outputs": [],
   "source": [
    "keycloak.create_realm_role('user')\n",
    "keycloak.create_realm_role('user-premium')\n",
    "\n",
    "keycloak.assign_realm_role_to_user(eric_id, 'user')\n",
    "keycloak.assign_realm_role_to_user(eric_id, 'user-premium')\n",
    "\n",
    "keycloak.assign_realm_role_to_user(alice_id, 'user')"
   ],
   "metadata": {
    "collapsed": false
   }
  },
  {
   "cell_type": "markdown",
   "source": [
    "#### Register resources\n",
    "Register public and protected resources"
   ],
   "metadata": {
    "collapsed": false
   }
  },
  {
   "cell_type": "code",
   "execution_count": null,
   "outputs": [],
   "source": [
    "keycloak.register_resources()"
   ],
   "metadata": {
    "collapsed": false
   }
  },
  {
   "cell_type": "markdown",
   "source": [
    "Right now, resources are protected by a default policy, which grants access to users within the realm.\n",
    "Let's see how Keycloak protects resources using role based policies."
   ],
   "metadata": {
    "collapsed": false
   }
  },
  {
   "cell_type": "markdown",
   "source": [
    "#### Register policies\n",
    "Register role based policies"
   ],
   "metadata": {
    "collapsed": false
   }
  },
  {
   "cell_type": "code",
   "execution_count": null,
   "outputs": [],
   "source": [
    "keycloak.register_policies()"
   ],
   "metadata": {
    "collapsed": false
   }
  },
  {
   "cell_type": "markdown",
   "source": [
    "#### Register resource permissions\n",
    "Resources permissions are set by assigning policies to resources"
   ],
   "metadata": {
    "collapsed": false
   }
  },
  {
   "cell_type": "code",
   "execution_count": null,
   "outputs": [],
   "source": [
    "keycloak.assign_resource_permissions()"
   ],
   "metadata": {
    "collapsed": false
   }
  },
  {
   "cell_type": "markdown",
   "source": [
    "#### Verify access to"
   ],
   "metadata": {
    "collapsed": false
   }
  },
  {
   "cell_type": "markdown",
   "source": [
    "#### Get PAT (Personal Access Token)\n",
    "Personal Access Token is used to access Keycloak's Protection API, which manages resources and policies."
   ],
   "metadata": {
    "collapsed": false
   }
  },
  {
   "cell_type": "code",
   "execution_count": null,
   "outputs": [],
   "source": [
    "pat = keycloak.generate_pat()\n",
    "print(pat)"
   ],
   "metadata": {
    "collapsed": false
   }
  },
  {
   "cell_type": "markdown",
   "source": [
    "### Get Resource ID"
   ],
   "metadata": {
    "collapsed": false
   }
  },
  {
   "cell_type": "code",
   "execution_count": null,
   "outputs": [],
   "source": [
    "resource_id = keycloak.get_resource_id_from_name(\"Premium Resource\")[0]"
   ],
   "metadata": {
    "collapsed": false
   }
  }
 ],
 "metadata": {
  "kernelspec": {
   "display_name": "Python 3 (ipykernel)",
   "language": "python",
   "name": "python3"
  },
  "language_info": {
   "codemirror_mode": {
    "name": "ipython",
    "version": 3
   },
   "file_extension": ".py",
   "mimetype": "text/x-python",
   "name": "python",
   "nbconvert_exporter": "python",
   "pygments_lexer": "ipython3",
   "version": "3.10.0"
  }
 },
 "nbformat": 4,
 "nbformat_minor": 5
}
