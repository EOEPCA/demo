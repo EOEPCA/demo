{
 "cells": [
  {
   "cell_type": "markdown",
   "id": "fourth-founder",
   "metadata": {},
   "source": [
    "## User Management (Keycloak)\n",
    "Interaction with EOEPCA endpoint using python Demo Client."
   ]
  },
  {
   "cell_type": "code",
   "execution_count": 2,
   "id": "swiss-sender",
   "metadata": {},
   "outputs": [],
   "source": [
    "import utils.DemoKeycloakClient as Client\n",
    "import jwt\n",
    "import json\n",
    "import requests\n",
    "from keycloak import KeycloakPostError\n",
    "\n",
    "base_domain = \"develop.eoepca.org\"\n",
    "platform_domain = f\"keycloak.{base_domain}\"\n",
    "server_url = f\"https://{platform_domain}\"\n",
    "realm = \"master\""
   ]
  },
  {
   "cell_type": "markdown",
   "id": "modular-wages",
   "metadata": {},
   "source": [
    "## Client\n",
    "We instantiate an object to interact with the platform. The object dynamically registers two Keycloak clients, one with admin privileges, another to act as a resource server to demo resources protection using UMA (User Managed Access)."
   ]
  },
  {
   "cell_type": "code",
   "execution_count": null,
   "metadata": {
    "collapsed": false
   },
   "outputs": [],
   "source": [
    "keycloak = Client.DemoKeycloakClient(server_url, realm, \"admin\", \"admin_Abcd1234#\")"
   ]
  },
  {
   "cell_type": "markdown",
   "id": "usual-brazil",
   "metadata": {},
   "source": [
    "## User Authentication\n",
    "User authenticates and the client receives an ID Token (JWT) that represents the user, and is used to identify the user in UMA authorization flows."
   ]
  },
  {
   "cell_type": "markdown",
   "metadata": {
    "collapsed": false
   },
   "source": [
    "#### Create Users\n",
    "Create two users, an Eric and Alice both with user role."
   ]
  },
  {
   "cell_type": "code",
   "execution_count": null,
   "metadata": {
    "collapsed": false
   },
   "outputs": [],
   "source": [
    "eric_id = keycloak.create_user(\"eric\", \"eric\", [\"user\"])\n",
    "alice_id = keycloak.create_user(\"alice\", \"alice\", [\"user\"])"
   ]
  },
  {
   "cell_type": "markdown",
   "metadata": {
    "collapsed": false
   },
   "source": [
    "#### Inspect Eric User Token"
   ]
  },
  {
   "cell_type": "code",
   "execution_count": null,
   "metadata": {
    "collapsed": false
   },
   "outputs": [],
   "source": [
    "token = keycloak.get_user_token(\"eric\", \"eric\")\n",
    "print(\"Eric token:\\n\" + json.dumps(token, indent = 2))\n",
    "eric_access_token = token[\"access_token\"]\n",
    "jwt_header = jwt.get_unverified_header(eric_access_token)\n",
    "print(\"JWT Header:\\n\" + json.dumps(jwt_header, indent = 2))\n",
    "jwt_payload = jwt.decode(eric_access_token, options={\"verify_signature\": False})\n",
    "print(\"JWT Payload:\\n\" + json.dumps(jwt_payload, indent = 2))"
   ]
  },
  {
   "cell_type": "markdown",
   "metadata": {
    "collapsed": false
   },
   "source": [
    "#### Inspect Alice User Token"
   ]
  },
  {
   "cell_type": "code",
   "execution_count": null,
   "metadata": {
    "collapsed": false
   },
   "outputs": [],
   "source": [
    "token = keycloak.get_user_token(\"alice\", \"alice\")\n",
    "print(\"Eric token:\\n\" + json.dumps(token, indent = 2))\n",
    "alice_access_token = token[\"access_token\"]\n",
    "jwt_header = jwt.get_unverified_header(alice_access_token)\n",
    "print(\"JWT Header:\\n\" + json.dumps(jwt_header, indent = 2))\n",
    "jwt_payload = jwt.decode(alice_access_token, options={\"verify_signature\": False})\n",
    "print(\"JWT Payload:\\n\" + json.dumps(jwt_payload, indent = 2))"
   ]
  },
  {
   "cell_type": "markdown",
   "metadata": {
    "collapsed": false
   },
   "source": [
    "The ID Token (JWT) identifies the user via user_name / sub (Subject) fields, and the client via the aud (Audience) field. The JWT is signed and can be verified, using the kid (Key ID) field, via the JWKS endpoint of the Authorization Server."
   ]
  },
  {
   "cell_type": "markdown",
   "metadata": {
    "collapsed": false
   },
   "source": [
    "## Protect resources\n",
    "Access a protected resources using UMA flow"
   ]
  },
  {
   "cell_type": "markdown",
   "metadata": {
    "collapsed": false
   },
   "source": [
    "#### Assign premium role to Eric\n",
    "Roles are used to define policies that will protect resources based on roles - Role-based access control (RBAC)"
   ]
  },
  {
   "cell_type": "code",
   "execution_count": null,
   "metadata": {
    "collapsed": false
   },
   "outputs": [],
   "source": [
    "keycloak.create_realm_role('user-premium')\n",
    "keycloak.assign_realm_role_to_user(eric_id, 'user-premium')"
   ]
  },
  {
   "cell_type": "markdown",
   "metadata": {
    "collapsed": false
   },
   "source": [
    "#### Register resources\n",
    "Register protected resources"
   ]
  },
  {
   "cell_type": "code",
   "execution_count": null,
   "metadata": {
    "collapsed": false
   },
   "outputs": [],
   "source": [
    "resources = [\n",
    "    {\n",
    "        \"name\": \"Default Resource\",\n",
    "        \"uri\": \"/*\"\n",
    "    },\n",
    "    {\n",
    "        'name': 'Protected Resource',\n",
    "        'icon_uri': '/protected/*',\n",
    "    },\n",
    "    {\n",
    "        \"name\": \"Premium Resource\",\n",
    "        \"uri\": \"/protected/premium/*\"\n",
    "    }\n",
    "]\n",
    "keycloak.register_resources(resources)"
   ]
  },
  {
   "cell_type": "markdown",
   "metadata": {
    "collapsed": false
   },
   "source": [
    "Right now, resources are protected by a default policy, which grants access to users within the realm.\n",
    "Let's see how Keycloak protects resources using role based and user based policies."
   ]
  },
  {
   "cell_type": "markdown",
   "metadata": {
    "collapsed": false
   },
   "source": [
    "#### Register policies\n",
    "Register role based and user based policies"
   ]
  },
  {
   "cell_type": "code",
   "execution_count": null,
   "metadata": {
    "collapsed": false
   },
   "outputs": [],
   "source": [
    "keycloak.register_role_policy(\"Only Premium User Policy\", \"user-premium\")\n",
    "keycloak.register_user_policy(\"Only Eric User Policy\", [eric_id])"
   ]
  },
  {
   "cell_type": "markdown",
   "metadata": {
    "collapsed": false
   },
   "source": [
    "#### Register resource permissions\n",
    "Resources permissions are set by assigning policies to resources."
   ]
  },
  {
   "cell_type": "code",
   "execution_count": null,
   "metadata": {
    "collapsed": false
   },
   "outputs": [],
   "source": [
    "permissions = [\n",
    "    {\n",
    "        \"name\": \"Default Resource Permission\",\n",
    "        \"type\": \"resource\",\n",
    "        \"logic\": \"POSITIVE\",\n",
    "        \"decisionStrategy\": \"UNANIMOUS\",\n",
    "        \"resources\": [\n",
    "            \"Default Resource\"\n",
    "        ],\n",
    "        \"policies\": [\n",
    "            \"Default Policy\"\n",
    "        ]\n",
    "    },\n",
    "    {\n",
    "        \"name\": \"Premium Resource Permission\",\n",
    "        \"type\": \"resource\",\n",
    "        \"logic\": \"POSITIVE\",\n",
    "        \"decisionStrategy\": \"UNANIMOUS\",\n",
    "        \"resources\": [\n",
    "            \"Premium Resource\"\n",
    "        ],\n",
    "        \"policies\": [\n",
    "            \"Only Premium User Policy\"\n",
    "        ]\n",
    "    },\n",
    "    {\n",
    "        \"name\": \"Protected Resource Permission\",\n",
    "        \"type\": \"resource\",\n",
    "        \"logic\": \"POSITIVE\",\n",
    "        \"decisionStrategy\": \"UNANIMOUS\",\n",
    "        \"resources\": [\n",
    "            \"Protected Resource\"\n",
    "        ],\n",
    "        \"policies\": [\n",
    "            \"Only User Policy\"\n",
    "        ]\n",
    "\n",
    "    }\n",
    "]\n",
    "keycloak.assign_resources_permissions(permissions)"
   ]
  },
  {
   "cell_type": "markdown",
   "metadata": {
    "collapsed": false
   },
   "source": [
    "#### Get PAT (Protection API token)\n",
    "PAT (Protection API token) is used to access Keycloak's Protection API, which manages resources and policies."
   ]
  },
  {
   "cell_type": "code",
   "execution_count": null,
   "metadata": {
    "collapsed": false
   },
   "outputs": [],
   "source": [
    "pat = keycloak.generate_protection_pat()\n",
    "print(json.dumps(pat, indent=2))\n",
    "access_token = pat['access_token']"
   ]
  },
  {
   "cell_type": "markdown",
   "metadata": {
    "collapsed": false
   },
   "source": []
  },
  {
   "cell_type": "markdown",
   "metadata": {
    "collapsed": false
   },
   "source": [
    "### Get Resource Id\n",
    "Get Premium Resource id"
   ]
  },
  {
   "cell_type": "code",
   "execution_count": null,
   "metadata": {
    "collapsed": false
   },
   "outputs": [],
   "source": [
    "# it's possible to query resources by many fields, including name and uri\n",
    "protected_resource_id = keycloak.get_resource_id(name=\"Premium Resource\")[0]\n",
    "print(protected_resource_id)\n",
    "protected_resource_id = keycloak.get_resource_id(uri=\"/protected/premium/*\")[0]\n",
    "print(protected_resource_id)"
   ]
  },
  {
   "cell_type": "markdown",
   "metadata": {
    "collapsed": false
   },
   "source": [
    "#### Get UMA access token for premium resource for both Eric and Alice"
   ]
  },
  {
   "cell_type": "code",
   "execution_count": null,
   "metadata": {
    "collapsed": false
   },
   "outputs": [],
   "source": [
    "uma_ticket = keycloak.create_permission_ticket(resources=[protected_resource_id])['ticket']\n",
    "print('UMA ticket for resource ' + protected_resource_id + ':\\n' + uma_ticket)\n",
    "eric_access_token = keycloak.get_user_token(\"eric\", \"eric\")['access_token']\n",
    "eric_rpt = keycloak.get_rpt(eric_access_token, uma_ticket)['access_token']\n",
    "print('Eric RPT:\\n' + str(eric_rpt))"
   ]
  },
  {
   "cell_type": "code",
   "execution_count": null,
   "metadata": {
    "collapsed": false
   },
   "outputs": [],
   "source": [
    "uma_ticket = keycloak.create_permission_ticket(resources=[protected_resource_id])['ticket']\n",
    "print('UMA ticket for resource ' + protected_resource_id + ':\\n' + uma_ticket)\n",
    "alice_access_token = keycloak.get_user_token(\"alice\", \"alice\")['access_token']\n",
    "try:\n",
    "    alice_uma_access_token = keycloak.get_rpt(alice_access_token, uma_ticket)['access_token']\n",
    "except KeycloakPostError as e:\n",
    "    print(str(e))"
   ]
  },
  {
   "cell_type": "markdown",
   "metadata": {
    "collapsed": false
   },
   "source": [
    "Trying to get a UMA token for Alice results in a 403 Forbidden Error. The reason being Alice is not allowed to access the `/protected/premium/*` resource because it's protected by a `user-premium` role which Alice does not have."
   ]
  },
  {
   "cell_type": "markdown",
   "metadata": {
    "collapsed": false
   },
   "source": [
    "#### Use Eric UMA access token to access the premium resource"
   ]
  },
  {
   "cell_type": "code",
   "execution_count": null,
   "metadata": {
    "collapsed": false
   },
   "outputs": [],
   "source": [
    "headers = {\n",
    "    \"cache-control\": \"no-cache\",\n",
    "    \"Authorization\": \"Bearer \" + eric_rpt\n",
    "}\n",
    "premium_resource_url = \"http://localhost:8080/protected/premium\"\n",
    "print('GET ' + premium_resource_url)\n",
    "response = requests.get(premium_resource_url, headers=headers, verify=False)\n",
    "print(str(response.status_code))"
   ]
  },
  {
   "cell_type": "markdown",
   "metadata": {
    "collapsed": false
   },
   "source": [
    "The expected result is 200 (or 404 if the demo app isn't running), meaning a successfuly access to the protected resource by Eric."
   ]
  },
  {
   "cell_type": "markdown",
   "id": "38136476",
   "metadata": {},
   "source": [
    "#### Identity-API Get Resources"
   ]
  },
  {
   "cell_type": "code",
   "execution_count": 1,
   "id": "97c85d72",
   "metadata": {},
   "outputs": [
    {
     "name": "stdout",
     "output_type": "stream",
     "text": [
      "GET http://localhost:5566/gatekeeper/resources\n",
      "[{'_id': 'b4707e1f-2383-4c5e-bead-f83e3d34c3ed', 'attributes': {}, 'displayName': '', 'icon_uri': '', 'name': 'api-customers', 'owner': {'id': '844967e2-15e1-4e1b-96e5-e0effc8f1737', 'name': 'gatekeeper'}, 'ownerManagedAccess': False, 'scopes': [{'iconUri': '', 'id': '5869991a-2dbc-418f-ba15-2be087a9de50', 'name': 'view'}], 'uris': ['/api/customers']}, {'_id': '91836407-6c3a-4f45-8f14-c04358bc43e0', 'attributes': {}, 'name': 'Default Resource', 'owner': {'id': '844967e2-15e1-4e1b-96e5-e0effc8f1737', 'name': 'gatekeeper'}, 'ownerManagedAccess': False, 'type': 'urn:gatekeeper:resources:default', 'uris': ['/*']}, {'_id': '5bd655ec-2575-406e-aa08-28b1bd25f476', 'attributes': {}, 'name': 'Default Resource 5', 'owner': {'id': '844967e2-15e1-4e1b-96e5-e0effc8f1737', 'name': 'gatekeeper'}, 'ownerManagedAccess': False, 'type': 'urn:gatekeeper:resources:default', 'uris': ['/default5/*']}, {'_id': '6593ac93-858a-42bc-93ec-9e471787b672', 'attributes': {}, 'name': 'resource1', 'owner': {'id': '844967e2-15e1-4e1b-96e5-e0effc8f1737', 'name': 'gatekeeper'}, 'ownerManagedAccess': False, 'scopes': [{'id': '7039e827-2164-4b64-9012-8b10e21f4a42', 'name': 'access'}], 'uris': ['/resource1/*']}, {'_id': '0a70bc5f-b7e0-4051-baf5-46eb46da6cec', 'attributes': {}, 'name': 'resource2', 'owner': {'id': '844967e2-15e1-4e1b-96e5-e0effc8f1737', 'name': 'gatekeeper'}, 'ownerManagedAccess': False, 'scopes': [{'id': '7039e827-2164-4b64-9012-8b10e21f4a42', 'name': 'access'}], 'uris': ['/resource2/*']}, {'_id': 'e77a197b-86c4-4e64-8c80-3b569fc88f35', 'attributes': {}, 'name': 'resource6', 'owner': {'id': '844967e2-15e1-4e1b-96e5-e0effc8f1737', 'name': 'gatekeeper'}, 'ownerManagedAccess': False, 'scopes': [{'id': '7039e827-2164-4b64-9012-8b10e21f4a42', 'name': 'access'}], 'uris': ['/resource2/*', '/resource1/*']}]\n"
     ]
    }
   ],
   "source": [
    "import utils.DemoKeycloakClient as Client\n",
    "import jwt\n",
    "import json\n",
    "import requests\n",
    "from keycloak import KeycloakPostError\n",
    "\n",
    "base_domain = \"develop.eoepca.org\"\n",
    "platform_domain = f\"keycloak.{base_domain}\"\n",
    "server_url = f\"https://{platform_domain}\"\n",
    "realm = \"master\"\n",
    "client_id = \"gatekeeper\"\n",
    "identity_api_url = 'http://localhost:5566'#\"https://identity.api.develop.eoepca.org\"\n",
    "get_resources_url = identity_api_url +\"/\"+ client_id + \"/resources\"\n",
    "print(\"GET \" + get_resources_url)\n",
    "response = requests.get(get_resources_url)\n",
    "try:\n",
    "    print(response.json())\n",
    "except:\n",
    "    print(response)\n"
   ]
  },
  {
   "cell_type": "markdown",
   "id": "5fd680d1",
   "metadata": {},
   "source": [
    "#### Identity-API Get resource by id"
   ]
  },
  {
   "cell_type": "code",
   "execution_count": 8,
   "id": "1f2380db",
   "metadata": {},
   "outputs": [
    {
     "name": "stdout",
     "output_type": "stream",
     "text": [
      "api-customers\n",
      "Unknown server error\n"
     ]
    }
   ],
   "source": [
    "\n",
    "response = requests.get(get_resources_url)\n",
    "resource_id = response.json()[0][\"_id\"]\n",
    "print(resource_id)\n",
    "get_resource_by_id_url = identity_api_url + \"/resources/\" + resource_id\n",
    "response = requests.get(get_resource_by_id_url)\n",
    "print(response.text)"
   ]
  },
  {
   "cell_type": "markdown",
   "id": "da371416",
   "metadata": {},
   "source": [
    "#### Identity-API Register resource"
   ]
  },
  {
   "cell_type": "code",
   "execution_count": 29,
   "id": "0a80867f",
   "metadata": {},
   "outputs": [
    {
     "name": "stdout",
     "output_type": "stream",
     "text": [
      "Response code:  200\n",
      "Resource added:  {'_id': 'd7bf8f90-9a8b-4bee-b1c0-f920ed0e30e9', 'attributes': {}, 'name': 'Default Resource 4', 'owner': {'id': '337ea293-e5ea-4d67-bb70-1f89fd774c39', 'name': 'dummy-service'}, 'ownerManagedAccess': False, 'type': 'urn:gatekeeper:resources:default', 'uris': ['/default4/*']}\n"
     ]
    }
   ],
   "source": [
    "client_id = \"dummy-service\"\n",
    "post_resource_url = identity_api_url +\"/\"+ client_id +\"/resources\"\n",
    "data = {\n",
    "    'attributes': {}, \n",
    "    'name': 'Default Resource 4',\n",
    "    'ownerManagedAccess': False, \n",
    "    'resource_scopes': [], \n",
    "    'type': 'urn:gatekeeper:resources:default', \n",
    "    'uris': ['/default4/*']\n",
    "    }\n",
    "response = requests.post(post_resource_url, json=data,)\n",
    "print(\"Response code: \",str(response.status_code))\n",
    "print(\"Resource added: \",response.json())"
   ]
  },
  {
   "cell_type": "markdown",
   "id": "cb157a80",
   "metadata": {},
   "source": [
    "#### Identity-API Update resource"
   ]
  },
  {
   "cell_type": "code",
   "execution_count": 30,
   "id": "1f63776b",
   "metadata": {},
   "outputs": [
    {
     "name": "stdout",
     "output_type": "stream",
     "text": [
      "Response code:  500\n"
     ]
    }
   ],
   "source": [
    "# get resource_id from the get_resources endpoint\n",
    "resource_id = \"d7bf8f90-9a8b-4bee-b1c0-f920ed0e30e9\"\n",
    "udpate_resource_url = identity_api_url +\"/\"+ client_id + \"/resources/\" + resource_id\n",
    "data = {\n",
    "  \"attributes\": {},\n",
    "  \"name\": \"Default Resource 5\",\n",
    "  \"owner\": {\n",
    "    \"id\": \"844967e2-15e1-4e1b-96e5-e0effc8f1737\",\n",
    "    \"name\": \"dummy-service\"\n",
    "  },\n",
    "  \"ownerManagedAccess\": False,\n",
    "  \"type\": \"urn:gatekeeper:resources:default\",\n",
    "  \"uris\": [\n",
    "    \"/default5/*\"\n",
    "  ]\n",
    "}\n",
    "response = requests.put(udpate_resource_url, json=data,)\n",
    "print(\"Response code: \",str(response.status_code))"
   ]
  },
  {
   "cell_type": "markdown",
   "id": "533e9153",
   "metadata": {},
   "source": [
    "#### Identity-API delete resource"
   ]
  },
  {
   "cell_type": "code",
   "execution_count": 31,
   "id": "8c06097d",
   "metadata": {},
   "outputs": [
    {
     "name": "stdout",
     "output_type": "stream",
     "text": [
      "Response code:  200\n"
     ]
    }
   ],
   "source": [
    "# get resource_id from the get_resources endpoint\n",
    "resource_id = \"d7bf8f90-9a8b-4bee-b1c0-f920ed0e30e9\"\n",
    "delete_resource_url = identity_api_url +\"/\"+ client_id + \"/resources/\" + resource_id\n",
    "\n",
    "response = requests.delete(delete_resource_url)\n",
    "print(\"Response code: \",str(response.status_code))\n"
   ]
  },
  {
   "cell_type": "markdown",
   "id": "bd0928dc",
   "metadata": {},
   "source": [
    "#### Identity-API Get client Policies"
   ]
  },
  {
   "cell_type": "code",
   "execution_count": 9,
   "id": "25edefeb",
   "metadata": {},
   "outputs": [
    {
     "name": "stdout",
     "output_type": "stream",
     "text": [
      "Response code:  200\n",
      "Response text:  [{'config': {'users': '[\"3b9ada08-7a96-4078-86fc-43c61248968e\"]'}, 'decisionStrategy': 'UNANIMOUS', 'description': '', 'id': '57d4a363-6b40-4dec-93e9-a46a1a8e492f', 'logic': 'POSITIVE', 'name': 'admin_policy', 'type': 'user'}, {'config': {}, 'decisionStrategy': 'UNANIMOUS', 'description': 'despriction3', 'id': 'c838874b-f3a2-459d-90ef-8f94f565f9f1', 'logic': 'POSITIVE', 'name': 'aggregated policy 3', 'type': 'aggregate'}, {'config': {'code': '// by default, grants any permission associated with this policy\\n$evaluation.grant();\\n'}, 'decisionStrategy': 'AFFIRMATIVE', 'description': 'A policy that grants access only for users within this realm', 'id': 'cb607685-db58-4adb-a712-ba96bfa9e164', 'logic': 'POSITIVE', 'name': 'Default Policy', 'type': 'js'}, {'config': {'groups': '[{\"id\":\"782dcbe6-40d1-4ebc-9c05-0b4e0829a141\",\"extendChildren\":false}]', 'groupsClaim': 'groups claim 1'}, 'decisionStrategy': 'UNANIMOUS', 'description': '', 'id': '58797dc5-c8ad-4ea0-a06b-d34fd8de6cc5', 'logic': 'POSITIVE', 'name': 'group policy 1', 'type': 'group'}, {'config': {'clients': '[\"844967e2-15e1-4e1b-96e5-e0effc8f1737\"]'}, 'decisionStrategy': 'UNANIMOUS', 'id': '78e92563-22ec-4716-9c90-3c3fff45fa35', 'logic': 'POSITIVE', 'name': 'My Policy 2', 'type': 'client'}, {'config': {'clientScopes': '[]'}, 'decisionStrategy': 'UNANIMOUS', 'id': 'ff60132e-58fc-49a9-bb2a-376ce442b501', 'logic': 'POSITIVE', 'name': 'My Policy 3', 'type': 'client-scope'}, {'config': {'pattern': '123', 'targetClaim': 'target1'}, 'decisionStrategy': 'UNANIMOUS', 'description': 'description1', 'id': '24656f8a-7004-4b5b-95ba-3b05998458e0', 'logic': 'POSITIVE', 'name': 'regex policy 1', 'type': 'regex'}, {'config': {'users': '[\"3c0631a4-22f1-4a6a-91a9-4de1d1db5fd8\"]'}, 'decisionStrategy': 'UNANIMOUS', 'id': '27e00c25-83ae-4225-9fc0-dbc57d8058b6', 'logic': 'POSITIVE', 'name': 'resource1user_policy', 'type': 'user'}, {'config': {'users': '[\"3c0631a4-22f1-4a6a-91a9-4de1d1db5fd8\"]'}, 'decisionStrategy': 'UNANIMOUS', 'id': '9335b307-3b51-4ba2-be33-4fbcacab2472', 'logic': 'POSITIVE', 'name': 'resource2user_policy', 'type': 'user'}, {'config': {'users': '[\"3c0631a4-22f1-4a6a-91a9-4de1d1db5fd8\"]'}, 'decisionStrategy': 'UNANIMOUS', 'id': '79d18bfb-726c-42c3-9cfc-51d5eb9c6d31', 'logic': 'POSITIVE', 'name': 'resource3user_policy', 'type': 'user'}, {'config': {'roles': '[{\"id\":\"b80601c3-9e0f-40fd-a03c-34cd759bfc63\",\"required\":false}]'}, 'decisionStrategy': 'UNANIMOUS', 'id': 'a3ed3ec0-83e2-4df4-a57b-09e2b34a7a36', 'logic': 'POSITIVE', 'name': 'role policy 1', 'type': 'role'}, {'config': {'year': '2023'}, 'decisionStrategy': 'UNANIMOUS', 'description': '', 'id': 'f9031d6a-9238-413d-aade-9e1e2353820f', 'logic': 'POSITIVE', 'name': 'time policy 1', 'type': 'time'}, {'config': {'users': '[]'}, 'decisionStrategy': 'UNANIMOUS', 'description': 'descriptitirnnce222', 'id': '8e90c31f-759a-4679-86c5-56cad118f12e', 'logic': 'POSITIVE', 'name': 'user policy 12', 'type': 'user'}]\n"
     ]
    }
   ],
   "source": [
    "get_policies_url = identity_api_url +\"/\"+ client_id +  \"/policies\"\n",
    "response = requests.get(get_policies_url)\n",
    "print(\"Response code: \",str(response.status_code))\n",
    "print(\"Response text: \",response.json())\n"
   ]
  },
  {
   "cell_type": "markdown",
   "id": "0f375baa",
   "metadata": {},
   "source": [
    "#### Identity-API create client Policy"
   ]
  },
  {
   "cell_type": "code",
   "execution_count": 43,
   "id": "618b3718",
   "metadata": {},
   "outputs": [
    {
     "name": "stdout",
     "output_type": "stream",
     "text": [
      "Response code:  200\n",
      "Response text:  {'clients': ['gatekeeper'], 'decisionStrategy': 'UNANIMOUS', 'id': '78e92563-22ec-4716-9c90-3c3fff45fa35', 'logic': 'POSITIVE', 'name': 'My Policy 2', 'type': 'client'}\n"
     ]
    }
   ],
   "source": [
    "create_client_policies_url = identity_api_url +\"/\"+ client_id + \"/policies/client\"\n",
    "data={\n",
    "        \"type\": \"client\",\n",
    "        \"logic\": \"POSITIVE\",\n",
    "        \"decisionStrategy\": \"UNANIMOUS\",\n",
    "        \"name\": \"My Policy 2\"\n",
    "}\n",
    "response = requests.post(create_client_policies_url,json=data)\n",
    "print(\"Response code: \",str(response.status_code))\n",
    "print(\"Response text: \",response.json())"
   ]
  },
  {
   "cell_type": "markdown",
   "id": "f1ae87ee",
   "metadata": {},
   "source": [
    "#### Identity-API Create Aggregated policy"
   ]
  },
  {
   "cell_type": "code",
   "execution_count": 47,
   "id": "c943b064",
   "metadata": {},
   "outputs": [
    {
     "name": "stdout",
     "output_type": "stream",
     "text": [
      "Response code:  200\n",
      "Response text:  {'decisionStrategy': 'UNANIMOUS', 'description': 'despriction3', 'id': 'c838874b-f3a2-459d-90ef-8f94f565f9f1', 'logic': 'POSITIVE', 'name': 'aggregated policy 3', 'policies': ['78e92563-22ec-4716-9c90-3c3fff45fa35'], 'type': 'aggregate'}\n"
     ]
    }
   ],
   "source": [
    "create_aggregated_policies_url = identity_api_url +\"/\"+ client_id + \"/policies/aggregated\"\n",
    "data = {\n",
    "            \"type\": \"aggregate\",\n",
    "            \"logic\": \"POSITIVE\",\n",
    "            \"decisionStrategy\": \"UNANIMOUS\",\n",
    "            \"name\": \"aggregated policy 3\",\n",
    "            \"policies\": [\"My Policy 2\"],\n",
    "            \"description\": \"despriction3\"\n",
    "        }\n",
    "response = requests.post(create_aggregated_policies_url,json=data)\n",
    "print(\"Response code: \",str(response.status_code))\n",
    "print(\"Response text: \",response.json())"
   ]
  },
  {
   "cell_type": "markdown",
   "id": "e33a5fa2",
   "metadata": {},
   "source": [
    "#### Identity-API Create scope policy"
   ]
  },
  {
   "cell_type": "code",
   "execution_count": 48,
   "id": "2e0a7407",
   "metadata": {},
   "outputs": [
    {
     "name": "stdout",
     "output_type": "stream",
     "text": [
      "Response code:  200\n",
      "Response text:  {'decisionStrategy': 'UNANIMOUS', 'id': 'ff60132e-58fc-49a9-bb2a-376ce442b501', 'logic': 'POSITIVE', 'name': 'My Policy 3', 'owner': 'gatekeeper', 'type': 'client-scope'}\n"
     ]
    }
   ],
   "source": [
    "create_scope_policies_url = identity_api_url +\"/\"+ client_id + \"/policies/scope\"\n",
    "data = {\n",
    "        \"type\": \"client-scope\",\n",
    "        \"logic\": \"POSITIVE\",\n",
    "        \"decisionStrategy\": \"UNANIMOUS\",\n",
    "        \"name\": \"My Policy 3\"\n",
    "}\n",
    "response = requests.post(create_scope_policies_url,json=data)\n",
    "print(\"Response code: \",str(response.status_code))\n",
    "print(\"Response text: \",response.json())"
   ]
  },
  {
   "cell_type": "markdown",
   "id": "43f7dbc7",
   "metadata": {},
   "source": [
    "#### Identity-API Create group policy"
   ]
  },
  {
   "cell_type": "code",
   "execution_count": 50,
   "id": "839f0830",
   "metadata": {},
   "outputs": [
    {
     "name": "stdout",
     "output_type": "stream",
     "text": [
      "Response code:  200\n",
      "Response text:  {'decisionStrategy': 'UNANIMOUS', 'description': '', 'groups': [{'extendChildren': False, 'id': '782dcbe6-40d1-4ebc-9c05-0b4e0829a141'}], 'groupsClaim': 'groups claim 1', 'id': '58797dc5-c8ad-4ea0-a06b-d34fd8de6cc5', 'logic': 'POSITIVE', 'name': 'group policy 1', 'type': 'group'}\n"
     ]
    }
   ],
   "source": [
    "create_group_policies_url = identity_api_url +\"/\"+ client_id + \"/policies/group\"\n",
    "data = {\n",
    "            \"type\": \"group\",\n",
    "            \"logic\": \"POSITIVE\",\n",
    "            \"decisionStrategy\": \"UNANIMOUS\",\n",
    "            \"name\": \"group policy 1\",\n",
    "            \"groups\": [{\"id\": \"group1\", \"path\": \"group1\"}],\n",
    "            \"groupsClaim\": \"groups claim 1\",\n",
    "            \"description\": \"\"\n",
    "        }\n",
    "response = requests.post(create_group_policies_url,json=data)\n",
    "print(\"Response code: \",str(response.status_code))\n",
    "print(\"Response text: \",response.json())"
   ]
  },
  {
   "cell_type": "markdown",
   "id": "e19e6dcd",
   "metadata": {},
   "source": [
    "#### Identity-API - Create regex Policy"
   ]
  },
  {
   "cell_type": "code",
   "execution_count": 52,
   "id": "fd1ae00d",
   "metadata": {},
   "outputs": [
    {
     "name": "stdout",
     "output_type": "stream",
     "text": [
      "Response code:  200\n",
      "Response text:  {'decisionStrategy': 'UNANIMOUS', 'description': 'description1', 'id': '24656f8a-7004-4b5b-95ba-3b05998458e0', 'logic': 'POSITIVE', 'name': 'regex policy 1', 'pattern': '123', 'targetClaim': 'target1', 'type': 'regex'}\n"
     ]
    }
   ],
   "source": [
    "create_regex_policies_url = identity_api_url +\"/\"+ client_id + \"/policies/regex\"\n",
    "data = {\n",
    "            \"type\": \"regex\",\n",
    "            \"logic\": \"POSITIVE\",\n",
    "            \"decisionStrategy\": \"UNANIMOUS\",\n",
    "            \"name\": \"regex policy 1\",\n",
    "            \"pattern\": \"123\",\n",
    "            \"targetClaim\": \"target1\",\n",
    "            \"description\": \"description1\"\n",
    "        }\n",
    "response = requests.post(create_regex_policies_url,json=data)\n",
    "print(\"Response code: \",str(response.status_code))\n",
    "print(\"Response text: \",response.json())"
   ]
  },
  {
   "cell_type": "markdown",
   "id": "c69f72d0",
   "metadata": {},
   "source": [
    "#### Identity-API Create role policy"
   ]
  },
  {
   "cell_type": "code",
   "execution_count": 57,
   "id": "4f89a1f0",
   "metadata": {},
   "outputs": [
    {
     "name": "stdout",
     "output_type": "stream",
     "text": [
      "Response code:  200\n",
      "Response text:  {'decisionStrategy': 'UNANIMOUS', 'id': 'a3ed3ec0-83e2-4df4-a57b-09e2b34a7a36', 'logic': 'POSITIVE', 'name': 'role policy 1', 'roles': [{'id': 'b80601c3-9e0f-40fd-a03c-34cd759bfc63', 'required': False}], 'type': 'role'}\n"
     ]
    }
   ],
   "source": [
    "create_role_policies_url = identity_api_url +\"/\"+ client_id + \"/policies/role\"\n",
    "data = {\n",
    "            \"type\": \"role\",\n",
    "            \"logic\": \"POSITIVE\",\n",
    "            \"decisionStrategy\": \"UNANIMOUS\",\n",
    "            \"name\": \"role policy 1\",\n",
    "            \"roles\": [\n",
    "                {\n",
    "                    \"id\": \"b80601c3-9e0f-40fd-a03c-34cd759bfc63\",\n",
    "                    \"required\": False\n",
    "                } \n",
    "            ]\n",
    "        }\n",
    "response = requests.post(create_role_policies_url,json=data)\n",
    "print(\"Response code: \",str(response.status_code))\n",
    "print(\"Response text: \",response.json())"
   ]
  },
  {
   "cell_type": "markdown",
   "id": "c28f2ff3",
   "metadata": {},
   "source": [
    "#### Identity-API create time policy"
   ]
  },
  {
   "cell_type": "code",
   "execution_count": 61,
   "id": "a1865c03",
   "metadata": {},
   "outputs": [
    {
     "name": "stdout",
     "output_type": "stream",
     "text": [
      "Response code:  200\n",
      "Response text:  {'decisionStrategy': 'UNANIMOUS', 'description': '', 'id': 'f9031d6a-9238-413d-aade-9e1e2353820f', 'logic': 'POSITIVE', 'name': 'time policy 1', 'type': 'time', 'year': '2023'}\n"
     ]
    }
   ],
   "source": [
    "create_time_policies_url = identity_api_url +\"/\"+ client_id + \"/policies/time\"\n",
    "data = {\n",
    "            \"type\": \"time\",\n",
    "            \"logic\": \"POSITIVE\",\n",
    "            \"decisionStrategy\": \"UNANIMOUS\",\n",
    "            \"name\": \"time policy 1\",\n",
    "            \"description\": \"\",\n",
    "            \"year\": 2023\n",
    "        }\n",
    "# time can be one of:\n",
    "        # \"notAfter\":\"1970-01-01 00:00:00\"\n",
    "        # \"notBefore\":\"1970-01-01 00:00:00\"\n",
    "        # \"dayMonth\":<day-of-month>\n",
    "        # \"dayMonthEnd\":<day-of-month>\n",
    "        # \"month\":<month>\n",
    "        # \"monthEnd\":<month>\n",
    "        # \"year\":<year>\n",
    "        # \"yearEnd\":<year>\n",
    "        # \"hour\":<hour>\n",
    "        # \"hourEnd\":<hour>\n",
    "        # \"minute\":<minute>\n",
    "        # \"minuteEnd\":<minute>\n",
    "response = requests.post(create_time_policies_url,json=data)\n",
    "print(\"Response code: \",str(response.status_code))\n",
    "print(\"Response text: \",response.json())"
   ]
  },
  {
   "cell_type": "markdown",
   "id": "51b51505",
   "metadata": {},
   "source": [
    "#### Identity-API Create user policy"
   ]
  },
  {
   "cell_type": "code",
   "execution_count": 62,
   "id": "37d9ccf6",
   "metadata": {},
   "outputs": [
    {
     "name": "stdout",
     "output_type": "stream",
     "text": [
      "Response code:  200\n",
      "Response text:  {'decisionStrategy': 'UNANIMOUS', 'description': 'descriptitirnnce', 'id': '8e90c31f-759a-4679-86c5-56cad118f12e', 'logic': 'POSITIVE', 'name': 'user policy 1', 'type': 'user', 'users': ['3b9ada08-7a96-4078-86fc-43c61248968e']}\n"
     ]
    }
   ],
   "source": [
    "create_user_policies_url = identity_api_url +\"/\"+ client_id + \"/policies/user\"\n",
    "data = {\n",
    "            \"type\": \"user\",\n",
    "            \"logic\": \"POSITIVE\",\n",
    "            \"decisionStrategy\": \"UNANIMOUS\",\n",
    "            \"name\": \"user policy 1\",\n",
    "            \"users\": \"3b9ada08-7a96-4078-86fc-43c61248968e\",\n",
    "            \"description\": \"descriptitirnnce\"\n",
    "        }\n",
    "response = requests.post(create_user_policies_url,json=data)\n",
    "print(\"Response code: \",str(response.status_code))\n",
    "print(\"Response text: \",response.json())"
   ]
  },
  {
   "cell_type": "markdown",
   "id": "087d76ef",
   "metadata": {},
   "source": [
    "#### Identity-API Update policies"
   ]
  },
  {
   "cell_type": "code",
   "execution_count": 67,
   "id": "d7b4ab36",
   "metadata": {},
   "outputs": [
    {
     "name": "stdout",
     "output_type": "stream",
     "text": [
      "Response code:  200\n"
     ]
    },
    {
     "ename": "JSONDecodeError",
     "evalue": "Expecting value: line 1 column 1 (char 0)",
     "output_type": "error",
     "traceback": [
      "\u001b[0;31m---------------------------------------------------------------------------\u001b[0m",
      "\u001b[0;31mJSONDecodeError\u001b[0m                           Traceback (most recent call last)",
      "\u001b[1;32m/home/flrr/eoepca/demo/demoroot/notebooks/01 User Management Keycloak.ipynb Cell 64\u001b[0m line \u001b[0;36m1\n\u001b[1;32m     <a href='vscode-notebook-cell:/home/flrr/eoepca/demo/demoroot/notebooks/01%20User%20Management%20Keycloak.ipynb#Y130sZmlsZQ%3D%3D?line=9'>10</a>\u001b[0m response \u001b[39m=\u001b[39m requests\u001b[39m.\u001b[39mput(update_policies_url,json\u001b[39m=\u001b[39mdata)\n\u001b[1;32m     <a href='vscode-notebook-cell:/home/flrr/eoepca/demo/demoroot/notebooks/01%20User%20Management%20Keycloak.ipynb#Y130sZmlsZQ%3D%3D?line=10'>11</a>\u001b[0m \u001b[39mprint\u001b[39m(\u001b[39m\"\u001b[39m\u001b[39mResponse code: \u001b[39m\u001b[39m\"\u001b[39m,\u001b[39mstr\u001b[39m(response\u001b[39m.\u001b[39mstatus_code))\n\u001b[0;32m---> <a href='vscode-notebook-cell:/home/flrr/eoepca/demo/demoroot/notebooks/01%20User%20Management%20Keycloak.ipynb#Y130sZmlsZQ%3D%3D?line=11'>12</a>\u001b[0m \u001b[39mprint\u001b[39m(\u001b[39m\"\u001b[39m\u001b[39mResponse text: \u001b[39m\u001b[39m\"\u001b[39m,response\u001b[39m.\u001b[39;49mjson())\n",
      "File \u001b[0;32m~/eoepca/.venv/lib/python3.11/site-packages/requests/models.py:900\u001b[0m, in \u001b[0;36mResponse.json\u001b[0;34m(self, **kwargs)\u001b[0m\n\u001b[1;32m    894\u001b[0m         \u001b[39mexcept\u001b[39;00m \u001b[39mUnicodeDecodeError\u001b[39;00m:\n\u001b[1;32m    895\u001b[0m             \u001b[39m# Wrong UTF codec detected; usually because it's not UTF-8\u001b[39;00m\n\u001b[1;32m    896\u001b[0m             \u001b[39m# but some other 8-bit codec.  This is an RFC violation,\u001b[39;00m\n\u001b[1;32m    897\u001b[0m             \u001b[39m# and the server didn't bother to tell us what codec *was*\u001b[39;00m\n\u001b[1;32m    898\u001b[0m             \u001b[39m# used.\u001b[39;00m\n\u001b[1;32m    899\u001b[0m             \u001b[39mpass\u001b[39;00m\n\u001b[0;32m--> 900\u001b[0m \u001b[39mreturn\u001b[39;00m complexjson\u001b[39m.\u001b[39;49mloads(\u001b[39mself\u001b[39;49m\u001b[39m.\u001b[39;49mtext, \u001b[39m*\u001b[39;49m\u001b[39m*\u001b[39;49mkwargs)\n",
      "File \u001b[0;32m/usr/lib/python3.11/json/__init__.py:346\u001b[0m, in \u001b[0;36mloads\u001b[0;34m(s, cls, object_hook, parse_float, parse_int, parse_constant, object_pairs_hook, **kw)\u001b[0m\n\u001b[1;32m    341\u001b[0m     s \u001b[39m=\u001b[39m s\u001b[39m.\u001b[39mdecode(detect_encoding(s), \u001b[39m'\u001b[39m\u001b[39msurrogatepass\u001b[39m\u001b[39m'\u001b[39m)\n\u001b[1;32m    343\u001b[0m \u001b[39mif\u001b[39;00m (\u001b[39mcls\u001b[39m \u001b[39mis\u001b[39;00m \u001b[39mNone\u001b[39;00m \u001b[39mand\u001b[39;00m object_hook \u001b[39mis\u001b[39;00m \u001b[39mNone\u001b[39;00m \u001b[39mand\u001b[39;00m\n\u001b[1;32m    344\u001b[0m         parse_int \u001b[39mis\u001b[39;00m \u001b[39mNone\u001b[39;00m \u001b[39mand\u001b[39;00m parse_float \u001b[39mis\u001b[39;00m \u001b[39mNone\u001b[39;00m \u001b[39mand\u001b[39;00m\n\u001b[1;32m    345\u001b[0m         parse_constant \u001b[39mis\u001b[39;00m \u001b[39mNone\u001b[39;00m \u001b[39mand\u001b[39;00m object_pairs_hook \u001b[39mis\u001b[39;00m \u001b[39mNone\u001b[39;00m \u001b[39mand\u001b[39;00m \u001b[39mnot\u001b[39;00m kw):\n\u001b[0;32m--> 346\u001b[0m     \u001b[39mreturn\u001b[39;00m _default_decoder\u001b[39m.\u001b[39;49mdecode(s)\n\u001b[1;32m    347\u001b[0m \u001b[39mif\u001b[39;00m \u001b[39mcls\u001b[39m \u001b[39mis\u001b[39;00m \u001b[39mNone\u001b[39;00m:\n\u001b[1;32m    348\u001b[0m     \u001b[39mcls\u001b[39m \u001b[39m=\u001b[39m JSONDecoder\n",
      "File \u001b[0;32m/usr/lib/python3.11/json/decoder.py:337\u001b[0m, in \u001b[0;36mJSONDecoder.decode\u001b[0;34m(self, s, _w)\u001b[0m\n\u001b[1;32m    332\u001b[0m \u001b[39mdef\u001b[39;00m \u001b[39mdecode\u001b[39m(\u001b[39mself\u001b[39m, s, _w\u001b[39m=\u001b[39mWHITESPACE\u001b[39m.\u001b[39mmatch):\n\u001b[1;32m    333\u001b[0m \u001b[39m    \u001b[39m\u001b[39m\"\"\"Return the Python representation of ``s`` (a ``str`` instance\u001b[39;00m\n\u001b[1;32m    334\u001b[0m \u001b[39m    containing a JSON document).\u001b[39;00m\n\u001b[1;32m    335\u001b[0m \n\u001b[1;32m    336\u001b[0m \u001b[39m    \"\"\"\u001b[39;00m\n\u001b[0;32m--> 337\u001b[0m     obj, end \u001b[39m=\u001b[39m \u001b[39mself\u001b[39;49m\u001b[39m.\u001b[39;49mraw_decode(s, idx\u001b[39m=\u001b[39;49m_w(s, \u001b[39m0\u001b[39;49m)\u001b[39m.\u001b[39;49mend())\n\u001b[1;32m    338\u001b[0m     end \u001b[39m=\u001b[39m _w(s, end)\u001b[39m.\u001b[39mend()\n\u001b[1;32m    339\u001b[0m     \u001b[39mif\u001b[39;00m end \u001b[39m!=\u001b[39m \u001b[39mlen\u001b[39m(s):\n",
      "File \u001b[0;32m/usr/lib/python3.11/json/decoder.py:355\u001b[0m, in \u001b[0;36mJSONDecoder.raw_decode\u001b[0;34m(self, s, idx)\u001b[0m\n\u001b[1;32m    353\u001b[0m     obj, end \u001b[39m=\u001b[39m \u001b[39mself\u001b[39m\u001b[39m.\u001b[39mscan_once(s, idx)\n\u001b[1;32m    354\u001b[0m \u001b[39mexcept\u001b[39;00m \u001b[39mStopIteration\u001b[39;00m \u001b[39mas\u001b[39;00m err:\n\u001b[0;32m--> 355\u001b[0m     \u001b[39mraise\u001b[39;00m JSONDecodeError(\u001b[39m\"\u001b[39m\u001b[39mExpecting value\u001b[39m\u001b[39m\"\u001b[39m, s, err\u001b[39m.\u001b[39mvalue) \u001b[39mfrom\u001b[39;00m \u001b[39mNone\u001b[39;00m\n\u001b[1;32m    356\u001b[0m \u001b[39mreturn\u001b[39;00m obj, end\n",
      "\u001b[0;31mJSONDecodeError\u001b[0m: Expecting value: line 1 column 1 (char 0)"
     ]
    }
   ],
   "source": [
    "policy_id = \"8e90c31f-759a-4679-86c5-56cad118f12e\"\n",
    "update_policies_url = identity_api_url + \"/\"+ client_id +\"/policies/\" + policy_id\n",
    "data = {\n",
    "            \"type\": \"user\",\n",
    "            \"logic\": \"POSITIVE\",\n",
    "            \"decisionStrategy\": \"UNANIMOUS\",\n",
    "            \"name\": \"user policy 12\",\n",
    "            \"description\": \"descriptitirnnce222\"\n",
    "        }\n",
    "response = requests.put(update_policies_url,json=data)\n",
    "print(\"Response code: \",str(response.status_code))"
   ]
  },
  {
   "cell_type": "markdown",
   "id": "834c816f",
   "metadata": {},
   "source": [
    "#### Identity-API delete policies"
   ]
  },
  {
   "cell_type": "code",
   "execution_count": 68,
   "id": "7c9e28f6",
   "metadata": {},
   "outputs": [
    {
     "name": "stdout",
     "output_type": "stream",
     "text": [
      "Response code:  200\n"
     ]
    }
   ],
   "source": [
    "policy_id = \"8e90c31f-759a-4679-86c5-56cad118f12e\"\n",
    "delete_policies_url = identity_api_url + \"/\"+ client_id +\"/policies/\" + policy_id\n",
    "response = requests.put(delete_policies_url)\n",
    "print(\"Response code: \",str(response.status_code))"
   ]
  },
  {
   "cell_type": "markdown",
   "id": "a409a128",
   "metadata": {},
   "source": [
    "#### Identity-API get client permissions"
   ]
  },
  {
   "cell_type": "code",
   "execution_count": 3,
   "id": "8170b92e",
   "metadata": {},
   "outputs": [
    {
     "name": "stdout",
     "output_type": "stream",
     "text": [
      "Response code:  200\n",
      "Response text:  [{'decisionStrategy': 'UNANIMOUS', 'description': 'A permission that applies to the default resource type 1', 'id': '2193eed8-93e5-471f-bb67-a3726b333fb1', 'logic': 'POSITIVE', 'name': 'Default Permission', 'resourceType': 'urn:gatekeeper:resources:default', 'type': 'resource'}, {'decisionStrategy': 'UNANIMOUS', 'id': 'aad1133f-cc7f-4b5e-9feb-553bc239dc5d', 'logic': 'POSITIVE', 'name': 'resource1permission', 'type': 'resource'}, {'decisionStrategy': 'UNANIMOUS', 'id': '9098614b-0964-4b74-ba0b-1f2b68544a70', 'logic': 'POSITIVE', 'name': 'resource2permission', 'type': 'resource'}, {'decisionStrategy': 'UNANIMOUS', 'id': 'addd7e41-0f94-4d85-bb0c-b6aa8df65186', 'logic': 'POSITIVE', 'name': 'resource3permission', 'type': 'resource'}, {'decisionStrategy': 'UNANIMOUS', 'description': '', 'id': '8c16b640-f9f3-4eef-b2a0-b7812aea1c66', 'logic': 'POSITIVE', 'name': 'resource-based-permission', 'type': 'resource'}, {'decisionStrategy': 'UNANIMOUS', 'description': '', 'id': 'cbc992b4-851d-4219-af00-47192372f95b', 'logic': 'POSITIVE', 'name': 'scope-based-permission', 'type': 'scope'}]\n"
     ]
    }
   ],
   "source": [
    "get_client_permissions_url = identity_api_url + \"/\"+ client_id +\"/permissions\"\n",
    "response = requests.get(get_client_permissions_url)\n",
    "print(\"Response code: \",str(response.status_code))\n",
    "print(\"Response text: \",response.json())\n"
   ]
  },
  {
   "cell_type": "markdown",
   "id": "f86efc5c",
   "metadata": {},
   "source": [
    "#### Identity-API get client management permissions"
   ]
  },
  {
   "cell_type": "code",
   "execution_count": 77,
   "id": "1506c963",
   "metadata": {},
   "outputs": [
    {
     "name": "stdout",
     "output_type": "stream",
     "text": [
      "Response code:  200\n",
      "Response text:  {'enabled': False}\n"
     ]
    }
   ],
   "source": [
    "get_management_permissions_url = identity_api_url + \"/\"+ client_id +\"/permissions/management\"\n",
    "response = requests.get(get_management_permissions_url)\n",
    "print(\"Response code: \",str(response.status_code))\n",
    "print(\"Response text: \",response.json())\n"
   ]
  },
  {
   "cell_type": "markdown",
   "id": "6e8265ad",
   "metadata": {},
   "source": [
    "#### Identity-API get client resources permissions"
   ]
  },
  {
   "cell_type": "code",
   "execution_count": 78,
   "id": "5f12fb7c",
   "metadata": {},
   "outputs": [
    {
     "name": "stdout",
     "output_type": "stream",
     "text": [
      "Response code:  200\n",
      "Response text:  [{'decisionStrategy': 'UNANIMOUS', 'description': 'A permission that applies to the default resource type', 'id': '2193eed8-93e5-471f-bb67-a3726b333fb1', 'logic': 'POSITIVE', 'name': 'Default Permission', 'resourceType': 'urn:gatekeeper:resources:default', 'type': 'resource'}, {'decisionStrategy': 'UNANIMOUS', 'description': '', 'id': '8c16b640-f9f3-4eef-b2a0-b7812aea1c66', 'logic': 'POSITIVE', 'name': 'resource-based-permission', 'type': 'resource'}]\n"
     ]
    }
   ],
   "source": [
    "get_resources_permissions_url = identity_api_url + \"/\"+ client_id +\"/permissions/resources\"\n",
    "response = requests.get(get_resources_permissions_url)\n",
    "print(\"Response code: \",str(response.status_code))\n",
    "print(\"Response text: \",response.json())\n"
   ]
  },
  {
   "cell_type": "markdown",
   "id": "3da4aa8c",
   "metadata": {},
   "source": [
    "#### Identity-API create client resources permissions"
   ]
  },
  {
   "cell_type": "code",
   "execution_count": 81,
   "id": "84ddd1e1",
   "metadata": {},
   "outputs": [
    {
     "name": "stdout",
     "output_type": "stream",
     "text": [
      "Response code:  200\n",
      "Response text:  [{'decisionStrategy': 'UNANIMOUS', 'description': 'A permission that applies to the default resource type', 'id': '2193eed8-93e5-471f-bb67-a3726b333fb1', 'logic': 'POSITIVE', 'name': 'Default Permission', 'resourceType': 'urn:gatekeeper:resources:default', 'type': 'resource'}, {'decisionStrategy': 'UNANIMOUS', 'description': '', 'id': '8c16b640-f9f3-4eef-b2a0-b7812aea1c66', 'logic': 'POSITIVE', 'name': 'resource-based-permission', 'type': 'resource'}]\n"
     ]
    }
   ],
   "source": [
    "create_resources_permissions_url = identity_api_url + \"/\"+ client_id +\"/permissions/resources\"\n",
    "data={\n",
    "        \"type\": \"resource\",\n",
    "        \"logic\": \"POSITIVE\",\n",
    "        \"decisionStrategy\": \"UNANIMOUS\",\n",
    "        \"name\": \"Permission-Name 2\",\n",
    "        \"resources\": [\n",
    "            \"5bd655ec-2575-406e-aa08-28b1bd25f476\"\n",
    "        ],\n",
    "        \"policies\": [\n",
    "            \"57d4a363-6b40-4dec-93e9-a46a1a8e492f\"\n",
    "        ]\n",
    "}\n",
    "response = requests.get(get_resources_permissions_url,json=data)\n",
    "print(\"Response code: \",str(response.status_code))\n",
    "print(\"Response text: \",response.json())"
   ]
  },
  {
   "cell_type": "markdown",
   "id": "528329d9",
   "metadata": {},
   "source": [
    "#### Identity-API update client management permissions"
   ]
  },
  {
   "cell_type": "code",
   "execution_count": 82,
   "id": "cc420361",
   "metadata": {},
   "outputs": [
    {
     "name": "stdout",
     "output_type": "stream",
     "text": [
      "Response code:  200\n",
      "Response text:  {'enabled': False}\n"
     ]
    }
   ],
   "source": [
    "update_management_permissions_url = identity_api_url + \"/\"+ client_id +\"/permissions/management\"\n",
    "data={\n",
    "    \"enabled\": False\n",
    "}\n",
    "response = requests.put(update_management_permissions_url,json=data)\n",
    "print(\"Response code: \",str(response.status_code))\n",
    "print(\"Response text: \",response.json())"
   ]
  },
  {
   "cell_type": "markdown",
   "id": "572dd8f5",
   "metadata": {},
   "source": [
    "#### Identity-API update client resources permissions"
   ]
  },
  {
   "cell_type": "code",
   "execution_count": 85,
   "id": "021f9f4e",
   "metadata": {},
   "outputs": [
    {
     "name": "stdout",
     "output_type": "stream",
     "text": [
      "Response code:  200\n"
     ]
    },
    {
     "ename": "JSONDecodeError",
     "evalue": "Expecting value: line 1 column 1 (char 0)",
     "output_type": "error",
     "traceback": [
      "\u001b[0;31m---------------------------------------------------------------------------\u001b[0m",
      "\u001b[0;31mJSONDecodeError\u001b[0m                           Traceback (most recent call last)",
      "\u001b[1;32m/home/flrr/eoepca/demo/demoroot/notebooks/01 User Management Keycloak.ipynb Cell 78\u001b[0m line \u001b[0;36m1\n\u001b[1;32m     <a href='vscode-notebook-cell:/home/flrr/eoepca/demo/demoroot/notebooks/01%20User%20Management%20Keycloak.ipynb#Y145sZmlsZQ%3D%3D?line=10'>11</a>\u001b[0m response \u001b[39m=\u001b[39m requests\u001b[39m.\u001b[39mput(update_resources_permissions_url,json\u001b[39m=\u001b[39mdata)\n\u001b[1;32m     <a href='vscode-notebook-cell:/home/flrr/eoepca/demo/demoroot/notebooks/01%20User%20Management%20Keycloak.ipynb#Y145sZmlsZQ%3D%3D?line=11'>12</a>\u001b[0m \u001b[39mprint\u001b[39m(\u001b[39m\"\u001b[39m\u001b[39mResponse code: \u001b[39m\u001b[39m\"\u001b[39m,\u001b[39mstr\u001b[39m(response\u001b[39m.\u001b[39mstatus_code))\n\u001b[0;32m---> <a href='vscode-notebook-cell:/home/flrr/eoepca/demo/demoroot/notebooks/01%20User%20Management%20Keycloak.ipynb#Y145sZmlsZQ%3D%3D?line=12'>13</a>\u001b[0m \u001b[39mprint\u001b[39m(\u001b[39m\"\u001b[39m\u001b[39mResponse text: \u001b[39m\u001b[39m\"\u001b[39m,response\u001b[39m.\u001b[39;49mjson())\n",
      "File \u001b[0;32m~/eoepca/.venv/lib/python3.11/site-packages/requests/models.py:900\u001b[0m, in \u001b[0;36mResponse.json\u001b[0;34m(self, **kwargs)\u001b[0m\n\u001b[1;32m    894\u001b[0m         \u001b[39mexcept\u001b[39;00m \u001b[39mUnicodeDecodeError\u001b[39;00m:\n\u001b[1;32m    895\u001b[0m             \u001b[39m# Wrong UTF codec detected; usually because it's not UTF-8\u001b[39;00m\n\u001b[1;32m    896\u001b[0m             \u001b[39m# but some other 8-bit codec.  This is an RFC violation,\u001b[39;00m\n\u001b[1;32m    897\u001b[0m             \u001b[39m# and the server didn't bother to tell us what codec *was*\u001b[39;00m\n\u001b[1;32m    898\u001b[0m             \u001b[39m# used.\u001b[39;00m\n\u001b[1;32m    899\u001b[0m             \u001b[39mpass\u001b[39;00m\n\u001b[0;32m--> 900\u001b[0m \u001b[39mreturn\u001b[39;00m complexjson\u001b[39m.\u001b[39;49mloads(\u001b[39mself\u001b[39;49m\u001b[39m.\u001b[39;49mtext, \u001b[39m*\u001b[39;49m\u001b[39m*\u001b[39;49mkwargs)\n",
      "File \u001b[0;32m/usr/lib/python3.11/json/__init__.py:346\u001b[0m, in \u001b[0;36mloads\u001b[0;34m(s, cls, object_hook, parse_float, parse_int, parse_constant, object_pairs_hook, **kw)\u001b[0m\n\u001b[1;32m    341\u001b[0m     s \u001b[39m=\u001b[39m s\u001b[39m.\u001b[39mdecode(detect_encoding(s), \u001b[39m'\u001b[39m\u001b[39msurrogatepass\u001b[39m\u001b[39m'\u001b[39m)\n\u001b[1;32m    343\u001b[0m \u001b[39mif\u001b[39;00m (\u001b[39mcls\u001b[39m \u001b[39mis\u001b[39;00m \u001b[39mNone\u001b[39;00m \u001b[39mand\u001b[39;00m object_hook \u001b[39mis\u001b[39;00m \u001b[39mNone\u001b[39;00m \u001b[39mand\u001b[39;00m\n\u001b[1;32m    344\u001b[0m         parse_int \u001b[39mis\u001b[39;00m \u001b[39mNone\u001b[39;00m \u001b[39mand\u001b[39;00m parse_float \u001b[39mis\u001b[39;00m \u001b[39mNone\u001b[39;00m \u001b[39mand\u001b[39;00m\n\u001b[1;32m    345\u001b[0m         parse_constant \u001b[39mis\u001b[39;00m \u001b[39mNone\u001b[39;00m \u001b[39mand\u001b[39;00m object_pairs_hook \u001b[39mis\u001b[39;00m \u001b[39mNone\u001b[39;00m \u001b[39mand\u001b[39;00m \u001b[39mnot\u001b[39;00m kw):\n\u001b[0;32m--> 346\u001b[0m     \u001b[39mreturn\u001b[39;00m _default_decoder\u001b[39m.\u001b[39;49mdecode(s)\n\u001b[1;32m    347\u001b[0m \u001b[39mif\u001b[39;00m \u001b[39mcls\u001b[39m \u001b[39mis\u001b[39;00m \u001b[39mNone\u001b[39;00m:\n\u001b[1;32m    348\u001b[0m     \u001b[39mcls\u001b[39m \u001b[39m=\u001b[39m JSONDecoder\n",
      "File \u001b[0;32m/usr/lib/python3.11/json/decoder.py:337\u001b[0m, in \u001b[0;36mJSONDecoder.decode\u001b[0;34m(self, s, _w)\u001b[0m\n\u001b[1;32m    332\u001b[0m \u001b[39mdef\u001b[39;00m \u001b[39mdecode\u001b[39m(\u001b[39mself\u001b[39m, s, _w\u001b[39m=\u001b[39mWHITESPACE\u001b[39m.\u001b[39mmatch):\n\u001b[1;32m    333\u001b[0m \u001b[39m    \u001b[39m\u001b[39m\"\"\"Return the Python representation of ``s`` (a ``str`` instance\u001b[39;00m\n\u001b[1;32m    334\u001b[0m \u001b[39m    containing a JSON document).\u001b[39;00m\n\u001b[1;32m    335\u001b[0m \n\u001b[1;32m    336\u001b[0m \u001b[39m    \"\"\"\u001b[39;00m\n\u001b[0;32m--> 337\u001b[0m     obj, end \u001b[39m=\u001b[39m \u001b[39mself\u001b[39;49m\u001b[39m.\u001b[39;49mraw_decode(s, idx\u001b[39m=\u001b[39;49m_w(s, \u001b[39m0\u001b[39;49m)\u001b[39m.\u001b[39;49mend())\n\u001b[1;32m    338\u001b[0m     end \u001b[39m=\u001b[39m _w(s, end)\u001b[39m.\u001b[39mend()\n\u001b[1;32m    339\u001b[0m     \u001b[39mif\u001b[39;00m end \u001b[39m!=\u001b[39m \u001b[39mlen\u001b[39m(s):\n",
      "File \u001b[0;32m/usr/lib/python3.11/json/decoder.py:355\u001b[0m, in \u001b[0;36mJSONDecoder.raw_decode\u001b[0;34m(self, s, idx)\u001b[0m\n\u001b[1;32m    353\u001b[0m     obj, end \u001b[39m=\u001b[39m \u001b[39mself\u001b[39m\u001b[39m.\u001b[39mscan_once(s, idx)\n\u001b[1;32m    354\u001b[0m \u001b[39mexcept\u001b[39;00m \u001b[39mStopIteration\u001b[39;00m \u001b[39mas\u001b[39;00m err:\n\u001b[0;32m--> 355\u001b[0m     \u001b[39mraise\u001b[39;00m JSONDecodeError(\u001b[39m\"\u001b[39m\u001b[39mExpecting value\u001b[39m\u001b[39m\"\u001b[39m, s, err\u001b[39m.\u001b[39mvalue) \u001b[39mfrom\u001b[39;00m \u001b[39mNone\u001b[39;00m\n\u001b[1;32m    356\u001b[0m \u001b[39mreturn\u001b[39;00m obj, end\n",
      "\u001b[0;31mJSONDecodeError\u001b[0m: Expecting value: line 1 column 1 (char 0)"
     ]
    }
   ],
   "source": [
    "permission_id = \"2193eed8-93e5-471f-bb67-a3726b333fb1\"\n",
    "update_resources_permissions_url = identity_api_url + \"/\"+ client_id +\"/permissions/resources/\" + permission_id\n",
    "data={\n",
    "        \"decisionStrategy\": \"UNANIMOUS\",\n",
    "        \"description\": \"A permission that applies to the default resource type 1\",\n",
    "        \"logic\": \"POSITIVE\",\n",
    "        \"name\": \"Default Permission\",\n",
    "        \"resourceType\": \"urn:gatekeeper:resources:default\",\n",
    "        \"type\": \"resource\"\n",
    "    }\n",
    "response = requests.put(update_resources_permissions_url,json=data)\n",
    "print(\"Response code: \",str(response.status_code))"
   ]
  },
  {
   "cell_type": "markdown",
   "id": "d3748911",
   "metadata": {},
   "source": [
    "#### Identity-API Register and Protect a Resource"
   ]
  },
  {
   "cell_type": "code",
   "execution_count": 10,
   "id": "ada8b916",
   "metadata": {},
   "outputs": [
    {
     "name": "stdout",
     "output_type": "stream",
     "text": [
      "Response code:  200\n"
     ]
    }
   ],
   "source": [
    "register_and_protect_url = identity_api_url + \"/\" + client_id +\"/register-resources\"\n",
    "data = [{\n",
    "            \"resource\":{\n",
    "                \"name\": \"resource1\",\n",
    "                \"uris\": [\"/resource1/*\"],\n",
    "                \"attributes\": {},\n",
    "                \"resource_scopes\": [\"access\"]\n",
    "            },\n",
    "            \"permissions\": {\n",
    "                \"user\":[\"eric\"]\n",
    "            }\n",
    "        },\n",
    "        {\n",
    "            \"resource\":{\n",
    "                \"name\": \"resource2\",\n",
    "                \"uris\": [\"/resource2/*\"],\n",
    "                \"attributes\": {},\n",
    "                \"resource_scopes\": [\"access\"]\n",
    "            },\n",
    "            \"permissions\": {\n",
    "                \"user\":[\"alice\"]\n",
    "            }\n",
    "        }]\n",
    "\n",
    "response = requests.post(register_and_protect_url,json=data)\n",
    "print(\"Response code: \",str(response.status_code))"
   ]
  },
  {
   "cell_type": "markdown",
   "id": "e720cf56",
   "metadata": {},
   "source": [
    "#### Identity-API Delete Resource and its policies and permissions"
   ]
  },
  {
   "cell_type": "code",
   "execution_count": 9,
   "id": "b9674153",
   "metadata": {},
   "outputs": [
    {
     "name": "stdout",
     "output_type": "stream",
     "text": [
      "200\n",
      "{}\n",
      "\n"
     ]
    }
   ],
   "source": [
    "resource_name = \"resource1\"\n",
    "delete_resources_url = identity_api_url + \"/\" + client_id +\"/delete-resources/\" + resource_name\n",
    "response = requests.delete(delete_resources_url)\n",
    "print(response.status_code)\n",
    "print(response.text)"
   ]
  },
  {
   "cell_type": "markdown",
   "id": "0f3af5bd",
   "metadata": {},
   "source": [
    "#### Identity-API Create client, create and protect resources in one endpoint"
   ]
  },
  {
   "cell_type": "code",
   "execution_count": 20,
   "id": "0a8cd26c",
   "metadata": {},
   "outputs": [
    {
     "name": "stdout",
     "output_type": "stream",
     "text": [
      "200\n",
      "[\n",
      "  {\n",
      "    \"_id\": \"810fd94f-4c7f-4f95-a262-c01cfaa6dc43\",\n",
      "    \"attributes\": {},\n",
      "    \"name\": \"resource1\",\n",
      "    \"owner\": {\n",
      "      \"id\": \"40473bde-0270-424a-a32b-088dd3f23c5a\",\n",
      "      \"name\": \"dummy-service3\"\n",
      "    },\n",
      "    \"ownerManagedAccess\": false,\n",
      "    \"scopes\": [\n",
      "      {\n",
      "        \"id\": \"5f7564d1-1479-475a-a955-08268b799aeb\",\n",
      "        \"name\": \"access\"\n",
      "      }\n",
      "    ],\n",
      "    \"uris\": [\n",
      "      \"/resource1/*\"\n",
      "    ]\n",
      "  },\n",
      "  {\n",
      "    \"_id\": \"c352ab94-e81d-4d8d-91ff-87c590092d8c\",\n",
      "    \"attributes\": {},\n",
      "    \"name\": \"resource2\",\n",
      "    \"owner\": {\n",
      "      \"id\": \"40473bde-0270-424a-a32b-088dd3f23c5a\",\n",
      "      \"name\": \"dummy-service3\"\n",
      "    },\n",
      "    \"ownerManagedAccess\": false,\n",
      "    \"scopes\": [\n",
      "      {\n",
      "        \"id\": \"5f7564d1-1479-475a-a955-08268b799aeb\",\n",
      "        \"name\": \"access\"\n",
      "      }\n",
      "    ],\n",
      "    \"uris\": [\n",
      "      \"/resource2/*\"\n",
      "    ]\n",
      "  }\n",
      "]\n",
      "\n"
     ]
    }
   ],
   "source": [
    "import utils.DemoKeycloakClient as Client\n",
    "import jwt\n",
    "import json\n",
    "import requests\n",
    "from keycloak import KeycloakPostError\n",
    "identity_api_url = 'http://localhost:5566'#\"https://identity.api.develop.eoepca.org\"\n",
    "create_client_url = identity_api_url + '/create-client'\n",
    "payload = {\n",
    "           \"protocol\":\"openid-connect\",\n",
    "           \"clientId\":\"dummy-service3\",\n",
    "           \"name\":\"\",\n",
    "           \"description\":\"\",\n",
    "           \"publicClient\":False,\n",
    "           \"authorizationServicesEnabled\":True,\n",
    "           \"serviceAccountsEnabled\":True,\n",
    "           \"implicitFlowEnabled\":False,\n",
    "           \"directAccessGrantsEnabled\":True,\n",
    "           \"standardFlowEnabled\":True,\n",
    "           \"frontchannelLogout\":True,\n",
    "           \"attributes\":{\n",
    "               \"saml_idp_initiated_sso_url_name\":\"\",\n",
    "               \"oauth2.device.authorization.grant.enabled\":False,\n",
    "               \"oidc.ciba.grant.enabled\":False\n",
    "               },\n",
    "            \"alwaysDisplayInConsole\":False,\n",
    "            \"rootUrl\":\"\",\n",
    "            \"baseUrl\":\"\",\n",
    "            \"redirectUris\":[\"*\"],\n",
    "            \"resources\":[{\n",
    "                \"resource\":{\n",
    "                    \"name\": \"resource1\",\n",
    "                    \"uris\": [\"/resource1/*\"],\n",
    "                    \"attributes\": {},\n",
    "                    \"resource_scopes\": [\"access\"]\n",
    "                },\n",
    "                \"permissions\": {\n",
    "                    \"user\":[\"eric\"]\n",
    "                }\n",
    "            },\n",
    "            {\n",
    "                \"resource\":{\n",
    "                    \"name\": \"resource2\",\n",
    "                    \"uris\": [\"/resource2/*\"],\n",
    "                    \"attributes\": {},\n",
    "                    \"resource_scopes\": [\"access\"]\n",
    "                },\n",
    "                \"permissions\": {\n",
    "                    \"user\":[\"alice\"]\n",
    "                }\n",
    "            }]\n",
    "}\n",
    "response = requests.post(create_client_url, json=payload)\n",
    "print(response.status_code)\n",
    "print(response.text)"
   ]
  }
 ],
 "metadata": {
  "kernelspec": {
   "display_name": "Python 3 (ipykernel)",
   "language": "python",
   "name": "python3"
  },
  "language_info": {
   "codemirror_mode": {
    "name": "ipython",
    "version": 3
   },
   "file_extension": ".py",
   "mimetype": "text/x-python",
   "name": "python",
   "nbconvert_exporter": "python",
   "pygments_lexer": "ipython3",
   "version": "3.11.2"
  }
 },
 "nbformat": 4,
 "nbformat_minor": 5
}
