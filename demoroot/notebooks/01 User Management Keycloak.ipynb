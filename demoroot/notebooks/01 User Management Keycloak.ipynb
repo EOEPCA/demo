{
 "cells": [
  {
   "cell_type": "markdown",
   "id": "fourth-founder",
   "metadata": {},
   "source": [
    "## User Management\n",
    "Interaction with EOEPCA endpoint using python Demo Client."
   ]
  },
  {
   "cell_type": "code",
   "execution_count": 16,
   "id": "swiss-sender",
   "metadata": {
    "ExecuteTime": {
     "end_time": "2023-05-15T12:06:42.054942100Z",
     "start_time": "2023-05-15T12:06:41.959371700Z"
    }
   },
   "outputs": [],
   "source": [
    "import utils.DemoKeycloakClient as client\n",
    "import jwt\n",
    "import json"
   ]
  },
  {
   "cell_type": "markdown",
   "id": "modular-wages",
   "metadata": {},
   "source": [
    "## Client\n",
    "We instantiate a client to interact with the platform. The client dynamically registers with the Authorisation Server to take part in UMA (User Managed Access) flows through which authorisation is obtained for scoped access resources on behalf of the user."
   ]
  },
  {
   "cell_type": "code",
   "execution_count": 17,
   "id": "freelance-glance",
   "metadata": {
    "ExecuteTime": {
     "end_time": "2023-05-15T12:06:43.173112Z",
     "start_time": "2023-05-15T12:06:41.990452800Z"
    }
   },
   "outputs": [
    {
     "name": "stdout",
     "output_type": "stream",
     "text": [
      "> Created client:\n",
      "{'id': 'c9af850a-e4e4-4108-a6b4-b5e688da0bd0', 'clientId': 'demo', 'surrogateAuthRequired': False, 'enabled': True, 'alwaysDisplayInConsole': False, 'clientAuthenticatorType': 'client-secret', 'secret': '3DRJyrtksRYfpUvZpOHPgQS5f8MIaE5T', 'redirectUris': [], 'webOrigins': [], 'notBefore': 0, 'bearerOnly': False, 'consentRequired': False, 'standardFlowEnabled': True, 'implicitFlowEnabled': False, 'directAccessGrantsEnabled': True, 'serviceAccountsEnabled': True, 'publicClient': False, 'frontchannelLogout': False, 'protocol': 'openid-connect', 'attributes': {'client.secret.creation.time': '1684150587'}, 'authenticationFlowBindingOverrides': {}, 'fullScopeAllowed': True, 'nodeReRegistrationTimeout': -1, 'protocolMappers': [{'id': '93e3804e-fcb2-4d47-a606-b03f868f146a', 'name': 'Client Host', 'protocol': 'openid-connect', 'protocolMapper': 'oidc-usersessionmodel-note-mapper', 'consentRequired': False, 'config': {'user.session.note': 'clientHost', 'id.token.claim': 'true', 'access.token.claim': 'true', 'claim.name': 'clientHost', 'jsonType.label': 'String'}}, {'id': 'd4b59d1b-12af-452c-8c18-188de00900c4', 'name': 'Client IP Address', 'protocol': 'openid-connect', 'protocolMapper': 'oidc-usersessionmodel-note-mapper', 'consentRequired': False, 'config': {'user.session.note': 'clientAddress', 'id.token.claim': 'true', 'access.token.claim': 'true', 'claim.name': 'clientAddress', 'jsonType.label': 'String'}}, {'id': 'f1729162-f4c7-451f-8bb0-58125d34aae9', 'name': 'Client ID', 'protocol': 'openid-connect', 'protocolMapper': 'oidc-usersessionmodel-note-mapper', 'consentRequired': False, 'config': {'user.session.note': 'clientId', 'id.token.claim': 'true', 'access.token.claim': 'true', 'claim.name': 'clientId', 'jsonType.label': 'String'}}], 'defaultClientScopes': ['web-origins', 'acr', 'roles', 'profile', 'email'], 'optionalClientScopes': ['address', 'phone', 'offline_access', 'microprofile-jwt'], 'access': {'view': True, 'configure': True, 'manage': True}}\n",
      "> Created service account user:\n",
      "{'id': 'fb71bbd0-8507-4c55-ac5c-ef04621d8b24', 'createdTimestamp': 1684150587291, 'username': 'service-account-demo', 'enabled': True, 'totp': False, 'emailVerified': False, 'disableableCredentialTypes': [], 'requiredActions': [], 'notBefore': 0}\n",
      "> Assigning admin role to service account user:\n",
      "{'id': '7b0c1803-ee97-49e3-ab7e-8953f3dc95d3', 'name': 'admin', 'description': '${role_admin}', 'composite': True, 'clientRole': False, 'containerId': '5b74dc7f-58f4-4273-8258-778ef3f9c6d5', 'attributes': {}}\n"
     ]
    }
   ],
   "source": [
    "#-------------------------------------------------------------------------------\n",
    "# Initialise client\n",
    "#-------------------------------------------------------------------------------\n",
    "# TODO: change base_domain to demo.eoepca.org once deployed\n",
    "base_domain = \"develop.eoepca.org\"\n",
    "platform_domain = f\"keycloak.{base_domain}\"\n",
    "server_url = f\"https://{platform_domain}\"\n",
    "realm = \"master\"\n",
    "authorize_url = f\"{server_url}/realms/master/protocol/openid-connect/auth\"\n",
    "token_url = f\"{server_url}/realms/master/protocol/openid-connect/token\"\n",
    "open_service = \"https://dummy-service-open.develop.eoepca.org\"\n",
    "protected_service = \"https://dummy-service.develop.eoepca.org\"\n",
    "\n",
    "demo = client.DemoKeycloakClient(server_url, realm, \"admin\", \"admin_Abcd1234#\")"
   ]
  },
  {
   "cell_type": "markdown",
   "id": "usual-brazil",
   "metadata": {},
   "source": [
    "## User Authentication\n",
    "User authenticates and the client receives an ID Token (JWT) that represents the user, and is used to identify the user in UMA authorization flows."
   ]
  },
  {
   "cell_type": "markdown",
   "id": "southeast-office",
   "metadata": {},
   "source": [
    "### Create Eric User"
   ]
  },
  {
   "cell_type": "code",
   "execution_count": 18,
   "outputs": [
    {
     "name": "stdout",
     "output_type": "stream",
     "text": [
      "Created user: 78519065-1da9-4105-b2d1-4e665079d2bf\n"
     ]
    }
   ],
   "source": [
    "USER_NAME=\"eric\"\n",
    "USER_PASSWORD=\"defaultPWD\"\n",
    "demo.create_user(USER_NAME, USER_PASSWORD)"
   ],
   "metadata": {
    "collapsed": false,
    "ExecuteTime": {
     "end_time": "2023-05-15T12:06:43.572432400Z",
     "start_time": "2023-05-15T12:06:43.179509400Z"
    }
   }
  },
  {
   "cell_type": "markdown",
   "source": [
    "### Authenticate"
   ],
   "metadata": {
    "collapsed": false
   }
  },
  {
   "cell_type": "code",
   "execution_count": 27,
   "outputs": [
    {
     "name": "stdout",
     "output_type": "stream",
     "text": [
      "eric token:\n",
      "{\n",
      "  \"access_token\": \"eyJhbGciOiJSUzI1NiIsInR5cCIgOiAiSldUIiwia2lkIiA6ICJXZWFIY2pscThPc1RUYjdlV0s5SjJTTDFBUDIyazZpajdlMGFlVHRNU2xRIn0.eyJleHAiOjE2ODQxNTI2ODAsImlhdCI6MTY4NDE1MjYyMCwianRpIjoiNWIzMWRjMjctMThiYi00NDNhLTllZjgtYTdmMWM2YzRiNjRmIiwiaXNzIjoiaHR0cHM6Ly9rZXljbG9hay5kZXZlbG9wLmVvZXBjYS5vcmcvcmVhbG1zL21hc3RlciIsImF1ZCI6ImFjY291bnQiLCJzdWIiOiI3ODUxOTA2NS0xZGE5LTQxMDUtYjJkMS00ZTY2NTA3OWQyYmYiLCJ0eXAiOiJCZWFyZXIiLCJhenAiOiJkZW1vIiwic2Vzc2lvbl9zdGF0ZSI6ImJhMjk2NTNmLWI4NzktNDFhZC1iMDk3LWQ5MTJiZTQ2NTZmMiIsImFjciI6IjEiLCJyZWFsbV9hY2Nlc3MiOnsicm9sZXMiOlsiZGVmYXVsdC1yb2xlcy1tYXN0ZXIiLCJvZmZsaW5lX2FjY2VzcyIsInVtYV9hdXRob3JpemF0aW9uIl19LCJyZXNvdXJjZV9hY2Nlc3MiOnsiYWNjb3VudCI6eyJyb2xlcyI6WyJtYW5hZ2UtYWNjb3VudCIsIm1hbmFnZS1hY2NvdW50LWxpbmtzIiwidmlldy1wcm9maWxlIl19fSwic2NvcGUiOiJlbWFpbCBwcm9maWxlIiwic2lkIjoiYmEyOTY1M2YtYjg3OS00MWFkLWIwOTctZDkxMmJlNDY1NmYyIiwiZW1haWxfdmVyaWZpZWQiOmZhbHNlLCJwcmVmZXJyZWRfdXNlcm5hbWUiOiJlcmljIn0.FNjqYb2tC5f3aYd5ebgAYvm_1Ec-HPestdgsp-GbD30Dy6f0wWWFt_1V5WlXyo-54rQsq5N-nWaJMft_RmRnsWVv706rG4Oq9s9tJPnRPgq4pR3P3kfCXF3wEwDR9isUUZy2kj7pKevSOBl_KyXUMQIP49yjIyRivrNxRzs_WV4XfC8PjkhjE7n18D4A60dkUrtw3hLr8g2rScLeutvTL2yANYqbWZEVQPs0WsV_v8S61NDqKQjx9o3MwuOIWHISqjmpi0dc7Sc_KB2MStyzx59Y_VmLb-VqdYWgkW9vqfLSOQ-nwPTpoQMZGIwokKjCZMGLD3N_rKr954eBF18qZA\",\n",
      "  \"expires_in\": 60,\n",
      "  \"refresh_expires_in\": 1800,\n",
      "  \"refresh_token\": \"eyJhbGciOiJIUzI1NiIsInR5cCIgOiAiSldUIiwia2lkIiA6ICJiM2QxNjAzYy03MDNhLTQxMTktODliNC1jNzRhZDliMjA3ZDMifQ.eyJleHAiOjE2ODQxNTQ0MjAsImlhdCI6MTY4NDE1MjYyMCwianRpIjoiZWMyNjRjMTUtMWRiYS00NGJhLTljOWYtYjliYjg2ZGZiNmM0IiwiaXNzIjoiaHR0cHM6Ly9rZXljbG9hay5kZXZlbG9wLmVvZXBjYS5vcmcvcmVhbG1zL21hc3RlciIsImF1ZCI6Imh0dHBzOi8va2V5Y2xvYWsuZGV2ZWxvcC5lb2VwY2Eub3JnL3JlYWxtcy9tYXN0ZXIiLCJzdWIiOiI3ODUxOTA2NS0xZGE5LTQxMDUtYjJkMS00ZTY2NTA3OWQyYmYiLCJ0eXAiOiJSZWZyZXNoIiwiYXpwIjoiZGVtbyIsInNlc3Npb25fc3RhdGUiOiJiYTI5NjUzZi1iODc5LTQxYWQtYjA5Ny1kOTEyYmU0NjU2ZjIiLCJzY29wZSI6ImVtYWlsIHByb2ZpbGUiLCJzaWQiOiJiYTI5NjUzZi1iODc5LTQxYWQtYjA5Ny1kOTEyYmU0NjU2ZjIifQ.qCttuM1tqA0s-KJ6WK_fBWnebAu4xaedXQqdu7zoys0\",\n",
      "  \"token_type\": \"Bearer\",\n",
      "  \"not-before-policy\": 0,\n",
      "  \"session_state\": \"ba29653f-b879-41ad-b097-d912be4656f2\",\n",
      "  \"scope\": \"email profile\"\n",
      "}\n"
     ]
    }
   ],
   "source": [
    "#-------------------------------------------------------------------------------\n",
    "# Authenticate as Eric and get User Token\n",
    "#-------------------------------------------------------------------------------\n",
    "token = demo.get_user_token(USER_NAME, USER_PASSWORD)\n",
    "print(USER_NAME + \" token:\\n\" + json.dumps(token, indent = 2))"
   ],
   "metadata": {
    "collapsed": false,
    "ExecuteTime": {
     "end_time": "2023-05-15T12:10:20.667867500Z",
     "start_time": "2023-05-15T12:10:20.354350800Z"
    }
   }
  },
  {
   "cell_type": "markdown",
   "source": [
    "### Inspect the User Token"
   ],
   "metadata": {
    "collapsed": false
   }
  },
  {
   "cell_type": "code",
   "execution_count": 26,
   "outputs": [
    {
     "name": "stdout",
     "output_type": "stream",
     "text": [
      "JWT Header:\n",
      "{\n",
      "  \"alg\": \"RS256\",\n",
      "  \"typ\": \"JWT\",\n",
      "  \"kid\": \"WeaHcjlq8OsTTb7eWK9J2SL1AP22k6ij7e0aeTtMSlQ\"\n",
      "}\n",
      "JWT Payload:\n",
      "{\n",
      "  \"exp\": 1684152463,\n",
      "  \"iat\": 1684152403,\n",
      "  \"jti\": \"4459350d-c976-486e-8d71-155fc403cc8f\",\n",
      "  \"iss\": \"https://keycloak.develop.eoepca.org/realms/master\",\n",
      "  \"aud\": \"account\",\n",
      "  \"sub\": \"78519065-1da9-4105-b2d1-4e665079d2bf\",\n",
      "  \"typ\": \"Bearer\",\n",
      "  \"azp\": \"demo\",\n",
      "  \"session_state\": \"c276d13b-c376-42fb-a1ec-6ec8f23aeff9\",\n",
      "  \"acr\": \"1\",\n",
      "  \"realm_access\": {\n",
      "    \"roles\": [\n",
      "      \"default-roles-master\",\n",
      "      \"offline_access\",\n",
      "      \"uma_authorization\"\n",
      "    ]\n",
      "  },\n",
      "  \"resource_access\": {\n",
      "    \"account\": {\n",
      "      \"roles\": [\n",
      "        \"manage-account\",\n",
      "        \"manage-account-links\",\n",
      "        \"view-profile\"\n",
      "      ]\n",
      "    }\n",
      "  },\n",
      "  \"scope\": \"email profile\",\n",
      "  \"sid\": \"c276d13b-c376-42fb-a1ec-6ec8f23aeff9\",\n",
      "  \"email_verified\": false,\n",
      "  \"preferred_username\": \"eric\"\n",
      "}\n"
     ]
    }
   ],
   "source": [
    "# Inspect User Token\n",
    "access_token = token['access_token']\n",
    "jwt_header = jwt.get_unverified_header(access_token)\n",
    "print(\"JWT Header:\\n\" + json.dumps(jwt_header, indent = 2))\n",
    "jwt_payload = jwt.decode(access_token, options={\"verify_signature\": False})\n",
    "print(\"JWT Payload:\\n\" + json.dumps(jwt_payload, indent = 2))\n",
    "uid = jwt_payload[\"sub\"]"
   ],
   "metadata": {
    "collapsed": false,
    "ExecuteTime": {
     "end_time": "2023-05-15T12:09:41.054281300Z",
     "start_time": "2023-05-15T12:09:41.040272100Z"
    }
   }
  },
  {
   "cell_type": "markdown",
   "source": [
    "The ID Token (JWT) identifies the user via user_name / sub (Subject) fields, and the client via the aud (Audience) field. The JWT is signed and can be verified, using the kid (Key ID) field, via the JWKS endpoint of the Authorization Server."
   ],
   "metadata": {
    "collapsed": false
   }
  }
 ],
 "metadata": {
  "kernelspec": {
   "display_name": "Python 3 (ipykernel)",
   "language": "python",
   "name": "python3"
  },
  "language_info": {
   "codemirror_mode": {
    "name": "ipython",
    "version": 3
   },
   "file_extension": ".py",
   "mimetype": "text/x-python",
   "name": "python",
   "nbconvert_exporter": "python",
   "pygments_lexer": "ipython3",
   "version": "3.10.0"
  }
 },
 "nbformat": 4,
 "nbformat_minor": 5
}
