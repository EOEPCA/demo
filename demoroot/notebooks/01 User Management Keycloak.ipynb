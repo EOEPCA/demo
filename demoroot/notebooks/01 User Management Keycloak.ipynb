{
 "cells": [
  {
   "cell_type": "markdown",
   "id": "fourth-founder",
   "metadata": {},
   "source": [
    "## User Management (Keycloak)\n",
    "Interaction with EOEPCA endpoint using python Demo Client."
   ]
  },
  {
   "cell_type": "code",
   "execution_count": 1,
   "outputs": [],
   "source": [
    "import jwt\n",
    "import json\n",
    "import requests\n",
    "from getpass import getpass\n",
    "from keycloak import KeycloakPostError\n",
    "from identityutils.keycloak_client import KeycloakClient\n",
    "import requests\n",
    "\n",
    "base_domain = \"develop.eoepca.org\"\n",
    "platform_domain = f\"identity.keycloak.{base_domain}\"\n",
    "server_url = f\"https://{platform_domain}\"\n",
    "realm = \"master\"\n",
    "dummy_service_url = f\"https://identity.dummy-service.{base_domain}\"\n",
    "identity_api_url = f\"https://identity.api.{base_domain}\""
   ],
   "metadata": {
    "collapsed": false,
    "ExecuteTime": {
     "end_time": "2023-11-22T15:09:45.860912900Z",
     "start_time": "2023-11-22T15:09:45.450817Z"
    }
   },
   "id": "swiss-sender"
  },
  {
   "cell_type": "markdown",
   "source": [
    "## Client\n",
    "We instantiate an object to interact with the Keycloak."
   ],
   "metadata": {
    "collapsed": false
   },
   "id": "modular-wages"
  },
  {
   "cell_type": "code",
   "execution_count": 2,
   "outputs": [],
   "source": [
    "admin_password = getpass(\"Admin password: \")\n",
    "keycloak = KeycloakClient(\n",
    "    server_url=server_url,\n",
    "    realm=realm,\n",
    "    username=\"admin\",\n",
    "    password=admin_password,\n",
    ")"
   ],
   "metadata": {
    "collapsed": false,
    "ExecuteTime": {
     "end_time": "2023-11-22T15:09:48.681943500Z",
     "start_time": "2023-11-22T15:09:46.325103800Z"
    }
   },
   "id": "7ee7baacb5c482e9"
  },
  {
   "cell_type": "markdown",
   "source": [
    "## User Authentication\n",
    "User authenticates and the client receives an ID Token (JWT) that represents the user, and is used to identify the user in UMA authorization flows."
   ],
   "metadata": {
    "collapsed": false
   },
   "id": "usual-brazil"
  },
  {
   "cell_type": "markdown",
   "source": [
    "#### Create Users\n",
    "Create two users, an Eric and Alice both with user role."
   ],
   "metadata": {
    "collapsed": false
   },
   "id": "335052cf756eb435"
  },
  {
   "cell_type": "code",
   "execution_count": 3,
   "outputs": [
    {
     "name": "stdout",
     "output_type": "stream",
     "text": [
      "Created Eric user with id: fc4cae76-b1e1-4f26-b7c4-a13306d9a844\n",
      "Created Alice user with id: 0db66175-4a94-4d12-a2b3-ffbe74bbbcc3\n"
     ]
    }
   ],
   "source": [
    "eric_id = keycloak.create_user(\"eric\", \"eric\", [\"user\"])\n",
    "print(\"Created Eric user with id: \" + eric_id)\n",
    "alice_id = keycloak.create_user(\"alice\", \"alice\", [\"user\"])\n",
    "print(\"Created Alice user with id: \" + alice_id)"
   ],
   "metadata": {
    "collapsed": false,
    "ExecuteTime": {
     "end_time": "2023-11-22T15:09:51.779990300Z",
     "start_time": "2023-11-22T15:09:50.722680700Z"
    }
   },
   "id": "eb038a6adb451cfd"
  },
  {
   "cell_type": "markdown",
   "metadata": {
    "collapsed": false
   },
   "source": [
    "#### Inspect Eric User Token"
   ],
   "id": "9e613065d80cf314"
  },
  {
   "cell_type": "code",
   "execution_count": 4,
   "metadata": {
    "collapsed": false,
    "ExecuteTime": {
     "end_time": "2023-11-22T15:09:53.320199200Z",
     "start_time": "2023-11-22T15:09:53.176282800Z"
    }
   },
   "outputs": [
    {
     "name": "stdout",
     "output_type": "stream",
     "text": [
      "Eric token:\n",
      "{\n",
      "  \"access_token\": \"eyJhbGciOiJSUzI1NiIsInR5cCIgOiAiSldUIiwia2lkIiA6ICJXZWFIY2pscThPc1RUYjdlV0s5SjJTTDFBUDIyazZpajdlMGFlVHRNU2xRIn0.eyJleHAiOjE3MDA2NjU4NTMsImlhdCI6MTcwMDY2NTc5MywianRpIjoiNDIzY2NhNTItMDI3Ni00YzJmLTkzZGItMWNkMjUwODUwOTdiIiwiaXNzIjoiaHR0cHM6Ly9pZGVudGl0eS5rZXljbG9hay5kZXZlbG9wLmVvZXBjYS5vcmcvcmVhbG1zL21hc3RlciIsInN1YiI6ImZjNGNhZTc2LWIxZTEtNGYyNi1iN2M0LWExMzMwNmQ5YTg0NCIsInR5cCI6IkJlYXJlciIsImF6cCI6ImFkbWluLWNsaSIsInNlc3Npb25fc3RhdGUiOiJmYzQwNmRlMC1jN2I4LTQxNDYtYWExYS0yZGQ5MzkxZjRlNzUiLCJhY3IiOiIxIiwic2NvcGUiOiJvcGVuaWQgZW1haWwgcHJvZmlsZSIsInNpZCI6ImZjNDA2ZGUwLWM3YjgtNDE0Ni1hYTFhLTJkZDkzOTFmNGU3NSIsImVtYWlsX3ZlcmlmaWVkIjpmYWxzZSwicHJlZmVycmVkX3VzZXJuYW1lIjoiZXJpYyJ9.IcGr5Jb12s_gxHZ4q3VVGFleIB_GRcL9CDHqRP3akawoaYLwoU3LJDD6O5YAfIf6PZRX2yM2p-TdhR8tYJgUSovQXSzNgdXBBdZUtWS-OrDtZCdKI6qpo4jTD68RQlJXgfB-DDgBSTn5DBGkNKPTkifjku13pnQUqdL958-B1Y0LoxR4uap295U9BRosU6cfhjfWTea0_Nm_Wxz6AFvR28_SD2_tBR0aINV2uq8zzNp2RJ6FihLNyy-f7VRglwo4BSmtUT03uMtM3Gl1YF-RKRLWeU5j2HsmQz3aDYooNKItIJK1l0q2geGS_PYbPPBWqWiOvpoM4mP7ddGdEH6Mpw\",\n",
      "  \"expires_in\": 60,\n",
      "  \"refresh_expires_in\": 1800,\n",
      "  \"refresh_token\": \"eyJhbGciOiJIUzI1NiIsInR5cCIgOiAiSldUIiwia2lkIiA6ICJiM2QxNjAzYy03MDNhLTQxMTktODliNC1jNzRhZDliMjA3ZDMifQ.eyJleHAiOjE3MDA2Njc1OTMsImlhdCI6MTcwMDY2NTc5MywianRpIjoiZjJiY2Y3ZmEtOWZjYS00OTY2LWE5YWEtNWNhMTdmNTQzMGYxIiwiaXNzIjoiaHR0cHM6Ly9pZGVudGl0eS5rZXljbG9hay5kZXZlbG9wLmVvZXBjYS5vcmcvcmVhbG1zL21hc3RlciIsImF1ZCI6Imh0dHBzOi8vaWRlbnRpdHkua2V5Y2xvYWsuZGV2ZWxvcC5lb2VwY2Eub3JnL3JlYWxtcy9tYXN0ZXIiLCJzdWIiOiJmYzRjYWU3Ni1iMWUxLTRmMjYtYjdjNC1hMTMzMDZkOWE4NDQiLCJ0eXAiOiJSZWZyZXNoIiwiYXpwIjoiYWRtaW4tY2xpIiwic2Vzc2lvbl9zdGF0ZSI6ImZjNDA2ZGUwLWM3YjgtNDE0Ni1hYTFhLTJkZDkzOTFmNGU3NSIsInNjb3BlIjoib3BlbmlkIGVtYWlsIHByb2ZpbGUiLCJzaWQiOiJmYzQwNmRlMC1jN2I4LTQxNDYtYWExYS0yZGQ5MzkxZjRlNzUifQ.rqJag4NqR-Ekpuh--FMs5gLNU25R7P9rC-I71oqSDfY\",\n",
      "  \"token_type\": \"Bearer\",\n",
      "  \"id_token\": \"eyJhbGciOiJSUzI1NiIsInR5cCIgOiAiSldUIiwia2lkIiA6ICJXZWFIY2pscThPc1RUYjdlV0s5SjJTTDFBUDIyazZpajdlMGFlVHRNU2xRIn0.eyJleHAiOjE3MDA2NjU4NTMsImlhdCI6MTcwMDY2NTc5MywiYXV0aF90aW1lIjowLCJqdGkiOiJmOWU4M2JhZC01ZWNiLTRkN2QtYTgzMi02ZDQzYzYyNGExYzAiLCJpc3MiOiJodHRwczovL2lkZW50aXR5LmtleWNsb2FrLmRldmVsb3AuZW9lcGNhLm9yZy9yZWFsbXMvbWFzdGVyIiwiYXVkIjoiYWRtaW4tY2xpIiwic3ViIjoiZmM0Y2FlNzYtYjFlMS00ZjI2LWI3YzQtYTEzMzA2ZDlhODQ0IiwidHlwIjoiSUQiLCJhenAiOiJhZG1pbi1jbGkiLCJzZXNzaW9uX3N0YXRlIjoiZmM0MDZkZTAtYzdiOC00MTQ2LWFhMWEtMmRkOTM5MWY0ZTc1IiwiYXRfaGFzaCI6Inl6UmhmMFAtd1lyNExmazlmV1pvdWciLCJhY3IiOiIxIiwic2lkIjoiZmM0MDZkZTAtYzdiOC00MTQ2LWFhMWEtMmRkOTM5MWY0ZTc1IiwiZW1haWxfdmVyaWZpZWQiOmZhbHNlLCJwcmVmZXJyZWRfdXNlcm5hbWUiOiJlcmljIn0.ZQXlavPdxUbtwLXJdpgn1KMcEFLWc--AGp11ZQESHDLgskhy-1tJRVfhKodBiaxJ_l3OxjhnIV50jcisREYO4LoM5j4b4ChGyi-82B27F2bZqd5zMgMBigIzW--QeVmxIy7L5t1OMZ3Z7cbI8lzE9-Ggm9XgEtci0YnCEOaE1dT-fxJvB3EGff-j4l0-rFtNbEj_-sMvKpJhwR63K_HTVdslm9f-HsgqhkMm6YH6Z_ViHiNwPTN8IA68JZOUjQAS2hT9SnHDCuu9fcN7iZqWl7xYhrGE5n21hWC2YzS7g77tiSg3cvjj66s0IAjhqix-ijLje2momulPplW1sCOJjQ\",\n",
      "  \"not-before-policy\": 0,\n",
      "  \"session_state\": \"fc406de0-c7b8-4146-aa1a-2dd9391f4e75\",\n",
      "  \"scope\": \"openid email profile\"\n",
      "}\n",
      "JWT Header:\n",
      "{\n",
      "  \"alg\": \"RS256\",\n",
      "  \"typ\": \"JWT\",\n",
      "  \"kid\": \"WeaHcjlq8OsTTb7eWK9J2SL1AP22k6ij7e0aeTtMSlQ\"\n",
      "}\n",
      "JWT Payload:\n",
      "{\n",
      "  \"exp\": 1700665853,\n",
      "  \"iat\": 1700665793,\n",
      "  \"jti\": \"423cca52-0276-4c2f-93db-1cd25085097b\",\n",
      "  \"iss\": \"https://identity.keycloak.develop.eoepca.org/realms/master\",\n",
      "  \"sub\": \"fc4cae76-b1e1-4f26-b7c4-a13306d9a844\",\n",
      "  \"typ\": \"Bearer\",\n",
      "  \"azp\": \"admin-cli\",\n",
      "  \"session_state\": \"fc406de0-c7b8-4146-aa1a-2dd9391f4e75\",\n",
      "  \"acr\": \"1\",\n",
      "  \"scope\": \"openid email profile\",\n",
      "  \"sid\": \"fc406de0-c7b8-4146-aa1a-2dd9391f4e75\",\n",
      "  \"email_verified\": false,\n",
      "  \"preferred_username\": \"eric\"\n",
      "}\n"
     ]
    }
   ],
   "source": [
    "token = keycloak.get_user_token(\"eric\", \"eric\")\n",
    "print(\"Eric token:\\n\" + json.dumps(token, indent = 2))\n",
    "eric_access_token = token[\"access_token\"]\n",
    "jwt_header = jwt.get_unverified_header(eric_access_token)\n",
    "print(\"JWT Header:\\n\" + json.dumps(jwt_header, indent = 2))\n",
    "jwt_payload = jwt.decode(eric_access_token, options={\"verify_signature\": False})\n",
    "print(\"JWT Payload:\\n\" + json.dumps(jwt_payload, indent = 2))"
   ],
   "id": "921e1c9077aa789f"
  },
  {
   "cell_type": "markdown",
   "metadata": {
    "collapsed": false
   },
   "source": [
    "#### Inspect Alice User Token"
   ],
   "id": "c55e51a804511ee9"
  },
  {
   "cell_type": "code",
   "execution_count": null,
   "metadata": {
    "collapsed": false,
    "ExecuteTime": {
     "start_time": "2023-11-22T14:42:23.034017400Z"
    }
   },
   "outputs": [],
   "source": [
    "token = keycloak.get_user_token(\"alice\", \"alice\")\n",
    "print(\"Eric token:\\n\" + json.dumps(token, indent = 2))\n",
    "alice_access_token = token[\"access_token\"]\n",
    "jwt_header = jwt.get_unverified_header(alice_access_token)\n",
    "print(\"JWT Header:\\n\" + json.dumps(jwt_header, indent = 2))\n",
    "jwt_payload = jwt.decode(alice_access_token, options={\"verify_signature\": False})\n",
    "print(\"JWT Payload:\\n\" + json.dumps(jwt_payload, indent = 2))"
   ],
   "id": "8c2546f94a5d45b3"
  },
  {
   "cell_type": "markdown",
   "metadata": {
    "collapsed": false
   },
   "source": [
    "The ID Token (JWT) identifies the user via user_name / sub (Subject) fields, and the client via the aud (Audience) field. The JWT is signed and can be verified, using the kid (Key ID) field, via the JWKS endpoint of the Authorization Server."
   ],
   "id": "6b8eb77cdada9cae"
  },
  {
   "cell_type": "markdown",
   "metadata": {
    "collapsed": false
   },
   "source": [
    "## Protect resources\n",
    "Access a protected resources using UMA flow."
   ],
   "id": "d0e93be00dd6700"
  },
  {
   "cell_type": "markdown",
   "metadata": {
    "collapsed": false
   },
   "source": [
    "#### Assign premium role to Eric\n",
    "Roles are used to define policies that will protect resources based on roles - Role-based access control (RBAC)"
   ],
   "id": "7aa0ec8b8ca4be2c"
  },
  {
   "cell_type": "code",
   "execution_count": 5,
   "metadata": {
    "collapsed": false,
    "ExecuteTime": {
     "end_time": "2023-11-22T15:09:56.127131800Z",
     "start_time": "2023-11-22T15:09:55.848395800Z"
    }
   },
   "outputs": [
    {
     "name": "stdout",
     "output_type": "stream",
     "text": [
      "Created realm role: user-premium\n",
      "Assigned user-premium role to Eric\n"
     ]
    }
   ],
   "source": [
    "realm_role = keycloak.create_realm_role('user-premium')\n",
    "print(\"Created realm role: \" + realm_role)\n",
    "keycloak.assign_realm_roles_to_user(eric_id, realm_role)\n",
    "print(\"Assigned \" + realm_role + \" role to Eric\")"
   ],
   "id": "46f22fc71441cea3"
  },
  {
   "cell_type": "markdown",
   "source": [
    "#### Register client\n",
    "Register demo client"
   ],
   "metadata": {
    "collapsed": false
   },
   "id": "6aaea97b832109de"
  },
  {
   "cell_type": "code",
   "execution_count": 6,
   "outputs": [
    {
     "name": "stdout",
     "output_type": "stream",
     "text": [
      "Created client: demo\n"
     ]
    }
   ],
   "source": [
    "client_id = \"demo\"\n",
    "client_secret= \"demo\"\n",
    "client_payload = {\n",
    "    \"clientId\": client_id,\n",
    "    \"clientSecret\": client_secret,\n",
    "    \"name\": \"Demo client\",\n",
    "    \"description\": \"Client used on demo notebook\"\n",
    "}\n",
    "keycloak.create_client(client_payload, skip_exists=True)\n",
    "print(\"Created client: demo\")"
   ],
   "metadata": {
    "collapsed": false,
    "ExecuteTime": {
     "end_time": "2023-11-22T15:09:58.089628Z",
     "start_time": "2023-11-22T15:09:57.944713800Z"
    }
   },
   "id": "4fe07e7d91f6a305"
  },
  {
   "cell_type": "markdown",
   "source": [
    "## Protect URIs\n",
    "Right now, resources are protected by a default policy, which grants access to users within the realm.\n",
    "Let's see how Keycloak protects resources using role based and user based policies."
   ],
   "metadata": {
    "collapsed": false
   },
   "id": "c97a13a7a2f6ef33"
  },
  {
   "cell_type": "markdown",
   "source": [
    "#### Register resources\n",
    "Register"
   ],
   "metadata": {
    "collapsed": false
   },
   "id": "26005c28ccb2b3db"
  },
  {
   "cell_type": "code",
   "execution_count": 8,
   "outputs": [
    {
     "data": {
      "text/plain": "[{'msg': 'Already exists'},\n {'msg': 'Already exists'},\n {'name': 'Eric space',\n  'owner': {'id': '924c0417-e551-4830-bfd0-7954fb136434', 'name': 'demo'},\n  'ownerManagedAccess': False,\n  'attributes': {},\n  '_id': '1660fbf0-eff2-4956-9b26-2f51f07484ee',\n  'uris': ['/eric/*']},\n {'name': 'Alice space',\n  'owner': {'id': '924c0417-e551-4830-bfd0-7954fb136434', 'name': 'demo'},\n  'ownerManagedAccess': False,\n  'attributes': {},\n  '_id': 'c661645f-1824-4f64-bf6a-34a1ca5a9508',\n  'uris': ['/alice/*']}]"
     },
     "execution_count": 8,
     "metadata": {},
     "output_type": "execute_result"
    }
   ],
   "source": [
    "resources = [\n",
    "    {\n",
    "        \"name\": \"Premium resource\",\n",
    "        \"uri\": \"/protected/premium/*\"\n",
    "    },\n",
    "    {\n",
    "        \"name\": \"Eric space\",\n",
    "        \"uri\": \"/eric/*\"\n",
    "    },\n",
    "    {\n",
    "        \"name\": \"Alice space\",\n",
    "        \"uri\": \"/alice/*\"\n",
    "    }\n",
    "]\n",
    "keycloak.register_resources(client_id, resources, skip_exists=True)"
   ],
   "metadata": {
    "collapsed": false,
    "ExecuteTime": {
     "end_time": "2023-11-22T15:11:53.160968700Z",
     "start_time": "2023-11-22T15:11:51.724580900Z"
    }
   },
   "id": "58fb6be6f37aa7d5"
  },
  {
   "cell_type": "markdown",
   "metadata": {
    "collapsed": false
   },
   "source": [
    "#### Register policies\n",
    "Register role based and user based policies"
   ],
   "id": "fe588d65f686c530"
  },
  {
   "cell_type": "markdown",
   "metadata": {
    "collapsed": false
   },
   "source": [
    "#### Register resource permissions\n",
    "Resources permissions are set by assigning policies to resources."
   ],
   "id": "b39fd78912559132"
  },
  {
   "cell_type": "code",
   "execution_count": 28,
   "metadata": {
    "collapsed": false,
    "ExecuteTime": {
     "end_time": "2023-11-22T15:46:59.520895100Z",
     "start_time": "2023-11-22T15:46:59.181370300Z"
    }
   },
   "outputs": [
    {
     "name": "stdout",
     "output_type": "stream",
     "text": [
      "[{'msg': 'Already exists'}, {'msg': 'Already exists'}, {'id': '1be46365-3808-49d1-abf7-0ed76e41c3a5', 'name': 'Alice space permission', 'type': 'resource', 'policies': ['d9d50ded-1dc3-42f6-9def-065441a0be36'], 'resources': ['3fba8550-6ffc-4b1a-905f-4844abdecbd6'], 'logic': 'POSITIVE', 'decisionStrategy': 'UNANIMOUS'}]\n"
     ]
    }
   ],
   "source": [
    "permissions = [\n",
    "    {\n",
    "        \"name\": \"Premium permission\",\n",
    "        \"type\": \"resource\",\n",
    "        \"logic\": \"POSITIVE\",\n",
    "        \"decisionStrategy\": \"UNANIMOUS\",\n",
    "        \"resources\": [\n",
    "            \"Premium Resource\"\n",
    "        ],\n",
    "        \"policies\": [\n",
    "            \"Only Premium User Policy\"\n",
    "        ]\n",
    "    },\n",
    "    {\n",
    "        \"name\": \"Eric space permission\",\n",
    "        \"type\": \"resource\",\n",
    "        \"logic\": \"POSITIVE\",\n",
    "        \"decisionStrategy\": \"UNANIMOUS\",\n",
    "        \"resources\": [\n",
    "            \"Protected Resource\"\n",
    "        ],\n",
    "        \"policies\": [\n",
    "            \"Only Eric User Policy\"\n",
    "        ]\n",
    "    },\n",
    "    {\n",
    "        \"name\": \"Alice space permission\",\n",
    "        \"type\": \"resource\",\n",
    "        \"logic\": \"POSITIVE\",\n",
    "        \"decisionStrategy\": \"UNANIMOUS\",\n",
    "        \"resources\": [\n",
    "            \"Protected Resource\"\n",
    "        ],\n",
    "        \"policies\": [\n",
    "            \"Only Alice User Policy\"\n",
    "        ]\n",
    "    }\n",
    "]\n",
    "r = keycloak.assign_resources_permissions(client_id, permissions, skip_exists=True)\n",
    "print(r)"
   ],
   "id": "7db3855970e19275"
  },
  {
   "cell_type": "markdown",
   "metadata": {
    "collapsed": false
   },
   "source": [
    "#### Get PAT (Protection API token)\n",
    "PAT (Protection API token) is used to access Keycloak's Protection API, which manages resources and policies."
   ],
   "id": "6e261ef73b519122"
  },
  {
   "cell_type": "code",
   "execution_count": 29,
   "metadata": {
    "collapsed": false,
    "ExecuteTime": {
     "end_time": "2023-11-22T15:47:17.099885900Z",
     "start_time": "2023-11-22T15:47:17.024038800Z"
    }
   },
   "outputs": [
    {
     "ename": "AttributeError",
     "evalue": "'KeycloakClient' object has no attribute 'generate_protection_pat'",
     "output_type": "error",
     "traceback": [
      "\u001B[1;31m---------------------------------------------------------------------------\u001B[0m",
      "\u001B[1;31mAttributeError\u001B[0m                            Traceback (most recent call last)",
      "Cell \u001B[1;32mIn[29], line 1\u001B[0m\n\u001B[1;32m----> 1\u001B[0m pat \u001B[38;5;241m=\u001B[39m \u001B[43mkeycloak\u001B[49m\u001B[38;5;241;43m.\u001B[39;49m\u001B[43mgenerate_protection_pat\u001B[49m(client_id, client_secret)\n\u001B[0;32m      2\u001B[0m \u001B[38;5;28mprint\u001B[39m(json\u001B[38;5;241m.\u001B[39mdumps(pat, indent\u001B[38;5;241m=\u001B[39m\u001B[38;5;241m2\u001B[39m))\n\u001B[0;32m      3\u001B[0m access_token \u001B[38;5;241m=\u001B[39m pat[\u001B[38;5;124m'\u001B[39m\u001B[38;5;124maccess_token\u001B[39m\u001B[38;5;124m'\u001B[39m]\n",
      "\u001B[1;31mAttributeError\u001B[0m: 'KeycloakClient' object has no attribute 'generate_protection_pat'"
     ]
    }
   ],
   "source": [
    "pat = keycloak.generate_protection_pat(client_id, client_secret)\n",
    "print(json.dumps(pat, indent=2))\n",
    "access_token = pat['access_token']"
   ],
   "id": "7ec0f40884afcb2b"
  },
  {
   "cell_type": "markdown",
   "metadata": {
    "collapsed": false
   },
   "source": [],
   "id": "73ece8c827858c3c"
  },
  {
   "cell_type": "markdown",
   "metadata": {
    "collapsed": false
   },
   "source": [
    "### Get Resource Id\n",
    "Get Premium Resource id"
   ],
   "id": "5163d45ac003fcf4"
  },
  {
   "cell_type": "code",
   "execution_count": 25,
   "metadata": {
    "collapsed": false,
    "ExecuteTime": {
     "end_time": "2023-11-22T15:37:55.822221100Z",
     "start_time": "2023-11-22T15:37:55.802657100Z"
    }
   },
   "outputs": [
    {
     "ename": "AttributeError",
     "evalue": "'KeycloakClient' object has no attribute 'get_resource_id'",
     "output_type": "error",
     "traceback": [
      "\u001B[1;31m---------------------------------------------------------------------------\u001B[0m",
      "\u001B[1;31mAttributeError\u001B[0m                            Traceback (most recent call last)",
      "Cell \u001B[1;32mIn[25], line 2\u001B[0m\n\u001B[0;32m      1\u001B[0m \u001B[38;5;66;03m# it's possible to query resources by many fields, including name and uri\u001B[39;00m\n\u001B[1;32m----> 2\u001B[0m protected_resource_id \u001B[38;5;241m=\u001B[39m \u001B[43mkeycloak\u001B[49m\u001B[38;5;241;43m.\u001B[39;49m\u001B[43mget_resource_id\u001B[49m(name\u001B[38;5;241m=\u001B[39m\u001B[38;5;124m\"\u001B[39m\u001B[38;5;124mPremium Resource\u001B[39m\u001B[38;5;124m\"\u001B[39m)[\u001B[38;5;241m0\u001B[39m]\n\u001B[0;32m      3\u001B[0m \u001B[38;5;28mprint\u001B[39m(protected_resource_id)\n\u001B[0;32m      4\u001B[0m protected_resource_id \u001B[38;5;241m=\u001B[39m keycloak\u001B[38;5;241m.\u001B[39mget_resource_id(uri\u001B[38;5;241m=\u001B[39m\u001B[38;5;124m\"\u001B[39m\u001B[38;5;124m/protected/premium/*\u001B[39m\u001B[38;5;124m\"\u001B[39m)[\u001B[38;5;241m0\u001B[39m]\n",
      "\u001B[1;31mAttributeError\u001B[0m: 'KeycloakClient' object has no attribute 'get_resource_id'"
     ]
    }
   ],
   "source": [
    "# it's possible to query resources by many fields, including name and uri\n",
    "premium_resource_id = keycloak.get_resource_id(name=\"Premium Resource\")[0]\n",
    "print(\"Premium resource: \" + premium_resource_id)\n",
    "eric_resource_id = keycloak.get_resource_id(uri=\"/eric/*\")[0]\n",
    "print(\"Eric resource: \" + eric_resource_id)\n",
    "alice_resource_id = keycloak.get_resource_id(uri=\"/alice/*\")[0]\n",
    "print(\"Alice resource: \" + alice_resource_id)"
   ],
   "id": "fad25c0c5306f93f"
  },
  {
   "cell_type": "markdown",
   "metadata": {
    "collapsed": false
   },
   "source": [
    "#### Get UMA access token for premium resource for both Eric and Alice"
   ],
   "id": "7bd8995d56fd1161"
  },
  {
   "cell_type": "code",
   "execution_count": 30,
   "metadata": {
    "collapsed": false,
    "ExecuteTime": {
     "end_time": "2023-11-22T15:49:27.311076500Z",
     "start_time": "2023-11-22T15:49:27.289167700Z"
    }
   },
   "outputs": [
    {
     "ename": "AttributeError",
     "evalue": "'KeycloakClient' object has no attribute 'create_permission_ticket'",
     "output_type": "error",
     "traceback": [
      "\u001B[1;31m---------------------------------------------------------------------------\u001B[0m",
      "\u001B[1;31mAttributeError\u001B[0m                            Traceback (most recent call last)",
      "Cell \u001B[1;32mIn[30], line 1\u001B[0m\n\u001B[1;32m----> 1\u001B[0m uma_ticket \u001B[38;5;241m=\u001B[39m \u001B[43mkeycloak\u001B[49m\u001B[38;5;241;43m.\u001B[39;49m\u001B[43mcreate_permission_ticket\u001B[49m(resources\u001B[38;5;241m=\u001B[39m[eric_resource_id])[\u001B[38;5;124m'\u001B[39m\u001B[38;5;124mticket\u001B[39m\u001B[38;5;124m'\u001B[39m]\n\u001B[0;32m      2\u001B[0m \u001B[38;5;28mprint\u001B[39m(\u001B[38;5;124m'\u001B[39m\u001B[38;5;124mUMA ticket for resource \u001B[39m\u001B[38;5;124m'\u001B[39m \u001B[38;5;241m+\u001B[39m eric_resource_id \u001B[38;5;241m+\u001B[39m \u001B[38;5;124m'\u001B[39m\u001B[38;5;124m:\u001B[39m\u001B[38;5;130;01m\\n\u001B[39;00m\u001B[38;5;124m'\u001B[39m \u001B[38;5;241m+\u001B[39m uma_ticket)\n\u001B[0;32m      3\u001B[0m eric_access_token \u001B[38;5;241m=\u001B[39m keycloak\u001B[38;5;241m.\u001B[39mget_user_token(\u001B[38;5;124m\"\u001B[39m\u001B[38;5;124meric\u001B[39m\u001B[38;5;124m\"\u001B[39m, \u001B[38;5;124m\"\u001B[39m\u001B[38;5;124meric\u001B[39m\u001B[38;5;124m\"\u001B[39m)[\u001B[38;5;124m'\u001B[39m\u001B[38;5;124maccess_token\u001B[39m\u001B[38;5;124m'\u001B[39m]\n",
      "\u001B[1;31mAttributeError\u001B[0m: 'KeycloakClient' object has no attribute 'create_permission_ticket'"
     ]
    }
   ],
   "source": [
    "uma_ticket = keycloak.create_permission_ticket(resources=[eric_resource_id])['ticket']\n",
    "print('UMA ticket for resource ' + eric_resource_id + ':\\n' + uma_ticket)\n",
    "eric_access_token = keycloak.get_user_token(\"eric\", \"eric\")['access_token']\n",
    "eric_rpt = keycloak.get_rpt(eric_access_token, uma_ticket)['access_token']\n",
    "print('Eric RPT:\\n' + str(eric_rpt))"
   ],
   "id": "8fad04726762f1a9"
  },
  {
   "cell_type": "code",
   "execution_count": null,
   "metadata": {
    "collapsed": false,
    "ExecuteTime": {
     "end_time": "2023-11-22T14:42:23.069684Z",
     "start_time": "2023-11-22T14:42:23.049024200Z"
    }
   },
   "outputs": [],
   "source": [
    "uma_ticket = keycloak.create_permission_ticket(resources=[eric_resource_id])['ticket']\n",
    "print('UMA ticket for resource ' + eric_resource_id + ':\\n' + uma_ticket)\n",
    "alice_access_token = keycloak.get_user_token(\"alice\", \"alice\")['access_token']\n",
    "try:\n",
    "    alice_uma_access_token = keycloak.get_rpt(alice_access_token, uma_ticket)['access_token']\n",
    "except KeycloakPostError as e:\n",
    "    print(str(e))"
   ],
   "id": "8d3dee0644cb9c35"
  },
  {
   "cell_type": "markdown",
   "metadata": {
    "collapsed": false
   },
   "source": [
    "Trying to get a UMA token for Alice results in a 403 Forbidden Error. The reason being Alice is not allowed to access the `/eric/*` resource because it's protected for only `eric` user."
   ],
   "id": "2a47860a5bd76bb0"
  },
  {
   "cell_type": "markdown",
   "metadata": {
    "collapsed": false
   },
   "source": [
    "#### Use Eric UMA access token to access the eric space resource"
   ],
   "id": "d423edfcf3f6ee55"
  },
  {
   "cell_type": "code",
   "execution_count": null,
   "metadata": {
    "collapsed": false,
    "ExecuteTime": {
     "start_time": "2023-11-22T14:42:23.051016900Z"
    }
   },
   "outputs": [],
   "source": [
    "headers = {\n",
    "    \"cache-control\": \"no-cache\",\n",
    "    \"Authorization\": \"Bearer \" + eric_rpt\n",
    "}\n",
    "url = dummy_service_url + \"/eric\"\n",
    "print('GET ' + url)\n",
    "response = requests.get(url, headers=headers, verify=False)\n",
    "print(str(response.status_code))"
   ],
   "id": "d4c8b22eaaec89fa"
  },
  {
   "cell_type": "markdown",
   "metadata": {
    "collapsed": false
   },
   "source": [
    "The expected result is 200 meaning a successfuly access to the eric space resource by Eric."
   ],
   "id": "3ee3a0c6806346af"
  },
  {
   "cell_type": "markdown",
   "id": "38136476",
   "metadata": {},
   "source": [
    "#### Identity API Get Resources"
   ]
  },
  {
   "cell_type": "code",
   "execution_count": null,
   "id": "97c85d72",
   "metadata": {
    "ExecuteTime": {
     "start_time": "2023-11-22T14:42:23.053016300Z"
    }
   },
   "outputs": [],
   "source": [
    "import requests\n",
    "\n",
    "resources_url = identity_api_url + \"/\" + client_id + \"/resources\"\n",
    "print(\"GET \" + resources_url)\n",
    "response = requests.get(resources_url)\n",
    "try:\n",
    "    print(response.json())\n",
    "except:\n",
    "    print(response)"
   ]
  },
  {
   "cell_type": "markdown",
   "id": "5fd680d1",
   "metadata": {},
   "source": [
    "#### Identity API Get resource by id"
   ]
  },
  {
   "cell_type": "code",
   "execution_count": null,
   "id": "1f2380db",
   "metadata": {
    "ExecuteTime": {
     "start_time": "2023-11-22T14:42:23.055018700Z"
    }
   },
   "outputs": [],
   "source": [
    "response = requests.get(resources_url)\n",
    "resource_id = response.json()[0][\"_id\"]\n",
    "print(resource_id)\n",
    "response = requests.get(resources_url + \"/\" + resource_id)\n",
    "print(response.text)"
   ]
  },
  {
   "cell_type": "markdown",
   "id": "da371416",
   "metadata": {},
   "source": [
    "#### Identity API Register resource"
   ]
  },
  {
   "cell_type": "code",
   "execution_count": null,
   "id": "0a80867f",
   "metadata": {
    "ExecuteTime": {
     "start_time": "2023-11-22T14:42:23.057018Z"
    }
   },
   "outputs": [],
   "source": [
    "data = {\n",
    "    'attributes': {},\n",
    "    'name': 'A resource',\n",
    "    'ownerManagedAccess': False,\n",
    "    'scopes': [\"access\"],\n",
    "    'uris': [\"/protected/*\"]\n",
    "}\n",
    "response = requests.post(resources_url, json=data)\n",
    "print(\"Response code: \", str(response.status_code))\n",
    "print(\"Resource added: \", response.json())"
   ]
  },
  {
   "cell_type": "markdown",
   "id": "cb157a80",
   "metadata": {},
   "source": [
    "#### Identity API Update resource"
   ]
  },
  {
   "cell_type": "code",
   "execution_count": null,
   "id": "1f63776b",
   "metadata": {
    "ExecuteTime": {
     "start_time": "2023-11-22T14:42:23.060021100Z"
    }
   },
   "outputs": [],
   "source": [
    "resource_id = keycloak.get_resource_id(name=\"A resource\")[0]\n",
    "data = {\n",
    "    \"attributes\": {},\n",
    "    \"name\": \"A resource\",\n",
    "    \"ownerManagedAccess\": True,\n",
    "    \"uris\": [\"/protected/*\"]\n",
    "}\n",
    "response = requests.put(resources_url + \"/\" + resource_id, json=data)\n",
    "print(\"Response code: \", str(response.status_code))"
   ]
  },
  {
   "cell_type": "markdown",
   "id": "533e9153",
   "metadata": {},
   "source": [
    "#### Identity API Delete resource"
   ]
  },
  {
   "cell_type": "code",
   "execution_count": null,
   "id": "8c06097d",
   "metadata": {
    "ExecuteTime": {
     "start_time": "2023-11-22T14:42:23.062684900Z"
    }
   },
   "outputs": [],
   "source": [
    "# get resource_id from the get_resources endpoint\n",
    "resource_id = keycloak.get_resource_id(name=\"A resource\")[0]\n",
    "response = requests.delete(resources_url + \"/\" + resource_id)\n",
    "print(\"Response code: \", str(response.status_code))"
   ]
  },
  {
   "cell_type": "markdown",
   "id": "bd0928dc",
   "metadata": {},
   "source": [
    "#### Identity API Get client Policies"
   ]
  },
  {
   "cell_type": "code",
   "execution_count": null,
   "id": "25edefeb",
   "metadata": {
    "ExecuteTime": {
     "start_time": "2023-11-22T14:42:23.065684400Z"
    }
   },
   "outputs": [],
   "source": [
    "policies_url = identity_api_url + \"/\" + client_id + \"/policies\"\n",
    "response = requests.get(policies_url)\n",
    "print(\"Response code: \", str(response.status_code))\n",
    "print(\"Response text: \", response.json())"
   ]
  },
  {
   "cell_type": "markdown",
   "id": "0f375baa",
   "metadata": {},
   "source": [
    "#### Identity API create client Policy"
   ]
  },
  {
   "cell_type": "code",
   "execution_count": null,
   "id": "618b3718",
   "metadata": {
    "ExecuteTime": {
     "start_time": "2023-11-22T14:42:23.068685700Z"
    }
   },
   "outputs": [],
   "source": [
    "data = {\n",
    "    \"type\": \"client\",\n",
    "    \"logic\": \"POSITIVE\",\n",
    "    \"decisionStrategy\": \"UNANIMOUS\",\n",
    "    \"name\": \"My Policy\"\n",
    "}\n",
    "response = requests.post(policies_url + \"/client\", json=data)\n",
    "print(\"Response code: \", str(response.status_code))\n",
    "print(\"Response text: \", response.json())"
   ]
  },
  {
   "cell_type": "markdown",
   "id": "f1ae87ee",
   "metadata": {},
   "source": [
    "#### Identity API Create Aggregated policy"
   ]
  },
  {
   "cell_type": "code",
   "execution_count": null,
   "id": "c943b064",
   "metadata": {
    "ExecuteTime": {
     "end_time": "2023-11-22T14:42:23.233634900Z",
     "start_time": "2023-11-22T14:42:23.071685Z"
    }
   },
   "outputs": [],
   "source": [
    "data = {\n",
    "    \"type\": \"aggregate\",\n",
    "    \"logic\": \"POSITIVE\",\n",
    "    \"decisionStrategy\": \"UNANIMOUS\",\n",
    "    \"name\": \"Aggregated policy\",\n",
    "    \"policies\": [\"My Policy\"],\n",
    "    \"description\": \"Policy description\"\n",
    "}\n",
    "response = requests.post(policies_url + \"/aggregated\", json=data)\n",
    "print(\"Response code: \", str(response.status_code))\n",
    "print(\"Response text: \", response.json())"
   ]
  },
  {
   "cell_type": "markdown",
   "id": "e33a5fa2",
   "metadata": {},
   "source": [
    "#### Identity API Create scope policy"
   ]
  },
  {
   "cell_type": "code",
   "execution_count": null,
   "id": "2e0a7407",
   "metadata": {
    "ExecuteTime": {
     "start_time": "2023-11-22T14:42:23.073684600Z"
    }
   },
   "outputs": [],
   "source": [
    "data = {\n",
    "    \"type\": \"client-scope\",\n",
    "    \"logic\": \"POSITIVE\",\n",
    "    \"decisionStrategy\": \"UNANIMOUS\",\n",
    "    \"name\": \"My Policy\"\n",
    "}\n",
    "response = requests.post(policies_url + \"/scope\", json=data)\n",
    "print(\"Response code: \", str(response.status_code))\n",
    "print(\"Response text: \", response.json())"
   ]
  },
  {
   "cell_type": "markdown",
   "id": "43f7dbc7",
   "metadata": {},
   "source": [
    "#### Identity API Create group policy"
   ]
  },
  {
   "cell_type": "code",
   "execution_count": null,
   "id": "839f0830",
   "metadata": {
    "ExecuteTime": {
     "start_time": "2023-11-22T14:42:23.075691600Z"
    }
   },
   "outputs": [],
   "source": [
    "data = {\n",
    "    \"type\": \"group\",\n",
    "    \"logic\": \"POSITIVE\",\n",
    "    \"decisionStrategy\": \"UNANIMOUS\",\n",
    "    \"name\": \"Group policy\",\n",
    "    \"groups\": [{\"id\": \"group\", \"path\": \"group\"}],\n",
    "    \"groupsClaim\": \"Groups claim\",\n",
    "    \"description\": \"description\"\n",
    "}\n",
    "response = requests.post(policies_url + \"/group\", json=data)\n",
    "print(\"Response code: \", str(response.status_code))\n",
    "print(\"Response text: \", response.json())"
   ]
  },
  {
   "cell_type": "markdown",
   "id": "e19e6dcd",
   "metadata": {},
   "source": [
    "#### Identity API - Create regex Policy"
   ]
  },
  {
   "cell_type": "code",
   "execution_count": null,
   "id": "fd1ae00d",
   "metadata": {
    "ExecuteTime": {
     "start_time": "2023-11-22T14:42:23.076684300Z"
    }
   },
   "outputs": [],
   "source": [
    "data = {\n",
    "    \"type\": \"regex\",\n",
    "    \"logic\": \"POSITIVE\",\n",
    "    \"decisionStrategy\": \"UNANIMOUS\",\n",
    "    \"name\": \"Regex policy\",\n",
    "    \"pattern\": \".*\",\n",
    "    \"targetClaim\": \"preferred_username\",\n",
    "    \"description\": \"Match all usernames\"\n",
    "}\n",
    "response = requests.post(policies_url + \"/regex\", json=data)\n",
    "print(\"Response code: \", str(response.status_code))\n",
    "print(\"Response text: \", response.json())"
   ]
  },
  {
   "cell_type": "markdown",
   "id": "c69f72d0",
   "metadata": {},
   "source": [
    "#### Identity API Create role policy"
   ]
  },
  {
   "cell_type": "code",
   "execution_count": null,
   "id": "4f89a1f0",
   "metadata": {
    "ExecuteTime": {
     "start_time": "2023-11-22T14:42:23.077684400Z"
    }
   },
   "outputs": [],
   "source": [
    "data = {\n",
    "    \"type\": \"role\",\n",
    "    \"logic\": \"POSITIVE\",\n",
    "    \"decisionStrategy\": \"UNANIMOUS\",\n",
    "    \"name\": \"Role policy\",\n",
    "    \"roles\": [\n",
    "        {\n",
    "            \"id\": \"b80601c3-9e0f-40fd-a03c-34cd759bfc63\",\n",
    "            \"required\": False\n",
    "        }\n",
    "    ]\n",
    "}\n",
    "response = requests.post(policies_url + \"/role\", json=data)\n",
    "print(\"Response code: \", str(response.status_code))\n",
    "print(\"Response text: \", response.json())"
   ]
  },
  {
   "cell_type": "markdown",
   "id": "c28f2ff3",
   "metadata": {},
   "source": [
    "#### Identity API create time policy"
   ]
  },
  {
   "cell_type": "code",
   "execution_count": null,
   "id": "a1865c03",
   "metadata": {
    "ExecuteTime": {
     "start_time": "2023-11-22T14:42:23.080683300Z"
    }
   },
   "outputs": [],
   "source": [
    "data = {\n",
    "    \"type\": \"time\",\n",
    "    \"logic\": \"POSITIVE\",\n",
    "    \"decisionStrategy\": \"UNANIMOUS\",\n",
    "    \"name\": \"Time policy\",\n",
    "    \"description\": \"description\",\n",
    "    \"year\": 2023\n",
    "}\n",
    "response = requests.post(policies_url + \"/time\", json=data)\n",
    "print(\"Response code: \", str(response.status_code))\n",
    "print(\"Response text: \", response.json())"
   ]
  },
  {
   "cell_type": "markdown",
   "id": "51b51505",
   "metadata": {},
   "source": [
    "#### Identity API Create user policy"
   ]
  },
  {
   "cell_type": "code",
   "execution_count": null,
   "id": "37d9ccf6",
   "metadata": {
    "ExecuteTime": {
     "start_time": "2023-11-22T14:42:23.082686600Z"
    }
   },
   "outputs": [],
   "source": [
    "data = {\n",
    "    \"type\": \"user\",\n",
    "    \"logic\": \"POSITIVE\",\n",
    "    \"decisionStrategy\": \"UNANIMOUS\",\n",
    "    \"name\": \"User policy\",\n",
    "    \"users\": eric_id,\n",
    "    \"description\": \"description\"\n",
    "}\n",
    "response = requests.post(policies_url + \"/user\", json=data)\n",
    "print(\"Response code: \", str(response.status_code))\n",
    "print(\"Response text: \", response.json())"
   ]
  },
  {
   "cell_type": "markdown",
   "id": "087d76ef",
   "metadata": {},
   "source": [
    "#### Identity API Update policies"
   ]
  },
  {
   "cell_type": "code",
   "execution_count": null,
   "id": "d7b4ab36",
   "metadata": {
    "ExecuteTime": {
     "start_time": "2023-11-22T14:42:23.084686500Z"
    }
   },
   "outputs": [],
   "source": [
    "policy_id = \"8e90c31f-759a-4679-86c5-56cad118f12e\"\n",
    "data = {\n",
    "    \"type\": \"user\",\n",
    "    \"logic\": \"POSITIVE\",\n",
    "    \"decisionStrategy\": \"UNANIMOUS\",\n",
    "    \"name\": \"User policy\",\n",
    "    \"description\": \"description\"\n",
    "}\n",
    "response = requests.put(policies_url + \"/\" + policy_id, json=data)\n",
    "print(\"Response code: \", str(response.status_code))"
   ]
  },
  {
   "cell_type": "markdown",
   "id": "834c816f",
   "metadata": {},
   "source": [
    "#### Identity API delete policies"
   ]
  },
  {
   "cell_type": "code",
   "execution_count": null,
   "id": "7c9e28f6",
   "metadata": {
    "ExecuteTime": {
     "start_time": "2023-11-22T14:42:23.085701100Z"
    }
   },
   "outputs": [],
   "source": [
    "policy_id = \"8e90c31f-759a-4679-86c5-56cad118f12e\"\n",
    "response = requests.put(policies_url + \"/\" + policy_id)\n",
    "print(\"Response code: \", str(response.status_code))"
   ]
  },
  {
   "cell_type": "markdown",
   "id": "a409a128",
   "metadata": {},
   "source": [
    "#### Identity API get client permissions"
   ]
  },
  {
   "cell_type": "code",
   "execution_count": null,
   "id": "8170b92e",
   "metadata": {
    "ExecuteTime": {
     "start_time": "2023-11-22T14:42:23.086685100Z"
    }
   },
   "outputs": [],
   "source": [
    "client_permissions_url = identity_api_url + \"/\" + client_id + \"/permissions\"\n",
    "response = requests.get(client_permissions_url)\n",
    "print(\"Response code: \", str(response.status_code))\n",
    "print(\"Response text: \", response.json())"
   ]
  },
  {
   "cell_type": "markdown",
   "id": "f86efc5c",
   "metadata": {},
   "source": [
    "#### Identity API get client management permissions"
   ]
  },
  {
   "cell_type": "code",
   "execution_count": null,
   "id": "1506c963",
   "metadata": {
    "ExecuteTime": {
     "start_time": "2023-11-22T14:42:23.088705600Z"
    }
   },
   "outputs": [],
   "source": [
    "response = requests.get(client_permissions_url + \"/management\")\n",
    "print(\"Response code: \", str(response.status_code))\n",
    "print(\"Response text: \", response.json())\n"
   ]
  },
  {
   "cell_type": "markdown",
   "id": "6e8265ad",
   "metadata": {},
   "source": [
    "#### Identity API get client resources permissions"
   ]
  },
  {
   "cell_type": "code",
   "execution_count": null,
   "id": "5f12fb7c",
   "metadata": {
    "ExecuteTime": {
     "start_time": "2023-11-22T14:42:23.089684800Z"
    }
   },
   "outputs": [],
   "source": [
    "response = requests.get(client_permissions_url + \"/resources\")\n",
    "print(\"Response code: \", str(response.status_code))\n",
    "print(\"Response text: \", response.json())\n"
   ]
  },
  {
   "cell_type": "markdown",
   "id": "3da4aa8c",
   "metadata": {},
   "source": [
    "#### Identity API create client resources permissions"
   ]
  },
  {
   "cell_type": "code",
   "execution_count": null,
   "id": "84ddd1e1",
   "metadata": {
    "ExecuteTime": {
     "start_time": "2023-11-22T14:42:23.090688400Z"
    }
   },
   "outputs": [],
   "source": [
    "data = {\n",
    "    \"type\": \"resource\",\n",
    "    \"logic\": \"POSITIVE\",\n",
    "    \"decisionStrategy\": \"UNANIMOUS\",\n",
    "    \"name\": \"Permission-Name 2\",\n",
    "    \"resources\": [\n",
    "        \"5bd655ec-2575-406e-aa08-28b1bd25f476\"\n",
    "    ],\n",
    "    \"policies\": [\n",
    "        \"57d4a363-6b40-4dec-93e9-a46a1a8e492f\"\n",
    "    ]\n",
    "}\n",
    "response = requests.get(client_permissions_url + \"/resources\", json=data)\n",
    "print(\"Response code: \", str(response.status_code))\n",
    "print(\"Response text: \", response.json())"
   ]
  },
  {
   "cell_type": "markdown",
   "id": "528329d9",
   "metadata": {},
   "source": [
    "#### Identity API update client management permissions"
   ]
  },
  {
   "cell_type": "code",
   "execution_count": null,
   "id": "cc420361",
   "metadata": {
    "ExecuteTime": {
     "start_time": "2023-11-22T14:42:23.092595200Z"
    }
   },
   "outputs": [],
   "source": [
    "data = {\n",
    "    \"enabled\": False\n",
    "}\n",
    "response = requests.put(client_permissions_url + \"/management\", json=data)\n",
    "print(\"Response code: \", str(response.status_code))\n",
    "print(\"Response text: \", response.json())"
   ]
  },
  {
   "cell_type": "markdown",
   "id": "572dd8f5",
   "metadata": {},
   "source": [
    "#### Identity API update client resources permissions"
   ]
  },
  {
   "cell_type": "code",
   "execution_count": null,
   "id": "021f9f4e",
   "metadata": {
    "ExecuteTime": {
     "start_time": "2023-11-22T14:42:23.093595500Z"
    }
   },
   "outputs": [],
   "source": [
    "permission_id = \"2193eed8-93e5-471f-bb67-a3726b333fb1\"\n",
    "update_resources_permissions_url = client_permissions_url + \"/resources/\" + permission_id\n",
    "data = {\n",
    "    \"decisionStrategy\": \"UNANIMOUS\",\n",
    "    \"description\": \"A permission that applies to the default resource type\",\n",
    "    \"logic\": \"POSITIVE\",\n",
    "    \"name\": \"Default Permission\",\n",
    "    \"resourceType\": \"urn:gatekeeper:resources:default\",\n",
    "    \"type\": \"resource\"\n",
    "}\n",
    "response = requests.put(update_resources_permissions_url, json=data)\n",
    "print(\"Response code: \", str(response.status_code))"
   ]
  },
  {
   "cell_type": "markdown",
   "id": "d3748911",
   "metadata": {},
   "source": [
    "#### Identity API Register and Protect a Resource"
   ]
  },
  {
   "cell_type": "code",
   "execution_count": null,
   "id": "ada8b916",
   "metadata": {
    "ExecuteTime": {
     "start_time": "2023-11-22T14:42:23.094623700Z"
    }
   },
   "outputs": [],
   "source": [
    "data = [\n",
    "    {\n",
    "        \"name\": \"Eric resource\",\n",
    "        \"uris\": [\"/eric/*\"],\n",
    "        \"permissions\": {\n",
    "            \"user\": [\"eric\"]\n",
    "        }\n",
    "    },\n",
    "    {\n",
    "        \"name\": \"Alice resource\",\n",
    "        \"uris\": [\"/alice/*\"],\n",
    "        \"permissions\": {\n",
    "            \"user\": [\"alice\"]\n",
    "        }\n",
    "    }]\n",
    "\n",
    "response = requests.post(identity_api_url + \"/\" + client_id + \"/resources\", json=data)\n",
    "print(\"Response code: \", str(response.status_code))"
   ]
  },
  {
   "cell_type": "markdown",
   "id": "e720cf56",
   "metadata": {},
   "source": [
    "#### Identity API Delete Resource and its policies and permissions"
   ]
  },
  {
   "cell_type": "code",
   "execution_count": null,
   "id": "b9674153",
   "metadata": {
    "ExecuteTime": {
     "start_time": "2023-11-22T14:42:23.095610400Z"
    }
   },
   "outputs": [],
   "source": [
    "resource_name = \"Eric resource\"\n",
    "response = requests.delete(identity_api_url + \"/\" + client_id + \"/resources/\" + resource_name)\n",
    "print(response.status_code)\n",
    "print(response.text)\n",
    "resource_name = \"Alice resource\"\n",
    "response = requests.delete(identity_api_url + \"/\" + client_id + \"/resources/\" + resource_name)\n",
    "print(response.status_code)\n",
    "print(response.text)"
   ]
  },
  {
   "cell_type": "markdown",
   "id": "0f3af5bd",
   "metadata": {},
   "source": [
    "#### Identity API Create client, create and protect resources in one endpoint"
   ]
  },
  {
   "cell_type": "code",
   "execution_count": null,
   "id": "0a8cd26c",
   "metadata": {
    "ExecuteTime": {
     "start_time": "2023-11-22T14:42:23.097596900Z"
    }
   },
   "outputs": [],
   "source": [
    "payload = {\n",
    "    \"clientId\": \"dummy-service\",\n",
    "    \"name\": \"Dummy Service\",\n",
    "    \"description\": \"Client used for Dummy service\",\n",
    "    \"resources\": [\n",
    "        {\n",
    "            \"name\": \"Eric space\",\n",
    "            \"uris\": [\"/eric/*\"],\n",
    "            \"permissions\": {\n",
    "                \"user\": [\"eric\"]\n",
    "            }\n",
    "        },\n",
    "        {\n",
    "            \"name\": \"Alice space\",\n",
    "            \"uris\": [\"/alice/*\"],\n",
    "            \"permissions\": {\n",
    "                \"user\": [\"alice\"]\n",
    "            }\n",
    "        }\n",
    "    ]\n",
    "}\n",
    "response = requests.post(identity_api_url + '/clients', json=payload)\n",
    "print(response.status_code)\n",
    "print(response.text)"
   ]
  },
  {
   "cell_type": "markdown",
   "source": [
    "#### Execute script to create a client with protected resources"
   ],
   "metadata": {
    "collapsed": false
   },
   "id": "47537fc25108b375"
  },
  {
   "cell_type": "code",
   "execution_count": 31,
   "outputs": [
    {
     "ename": "CalledProcessError",
     "evalue": "Command '['../data/create-client.sh', '-e demo', '-t eyJhbGciOiJSUzI1NiIsInR5cCIgOiAiSldUIiwia2lkIiA6ICJXZWFIY2pscThPc1RUYjdlV0s5SjJTTDFBUDIyazZpajdlMGFlVHRNU2xRIn0.eyJleHAiOjE3MDA2NzI0MTQsImlhdCI6MTcwMDY3MjM1NCwianRpIjoiZGFiNmExZGEtYmNiNi00NzcwLTkwMTEtMzVjYzExYzRmMDk3IiwiaXNzIjoiaHR0cHM6Ly9pZGVudGl0eS5rZXljbG9hay5kZXZlbG9wLmVvZXBjYS5vcmcvcmVhbG1zL21hc3RlciIsInN1YiI6ImUzZGUzMjRlLTBmNDUtNDFlMC05NmE3LTUzNWM5MTEwNTU1MiIsInR5cCI6IkJlYXJlciIsImF6cCI6ImFkbWluLWNsaSIsInNlc3Npb25fc3RhdGUiOiI0MmZhMGU3Yy1mYTg3LTQyOWUtODk4MS1hYmNkYTBiM2JiZDEiLCJhY3IiOiIxIiwic2NvcGUiOiJvcGVuaWQgZW1haWwgcHJvZmlsZSIsInNpZCI6IjQyZmEwZTdjLWZhODctNDI5ZS04OTgxLWFiY2RhMGIzYmJkMSIsImVtYWlsX3ZlcmlmaWVkIjpmYWxzZSwicHJlZmVycmVkX3VzZXJuYW1lIjoiYWRtaW4ifQ.cI4ru8nek7QX80tCgPUFsYa4VRmQHUotNdIEuMg1HQ-HhgllzgdiZeiPwiIba-g0-3jMciIQz5AqAf6aWKtuV6mW7UboySnE0t3gQi6Ox6zu6yCrJI_EnQkBlabJjW6Vm7C9vk-C-DMPMJG6gwwPgWS3y38nIz_1DlcGrFWSRcv9XZHGVb93ZbdBJwqgzNSDpQP-t-SIA18jZfhZf7Sbik8KOenGTSlt2MhzsmdgitZdP_errAa9r9FuLuQbjKJPNxSnfOG-e3BZoxR4KU4x7J0HkoAcOo9AHkV7TJpglYylmcDHBsYgfWaOv2uVrH5cE3x_OzrudOPstTSMCPc_vg', '--id dummy-service', '--name Dummy service Gatekeeper', '--description ', '--resource=\"Eric space\"', '--uris=/eric/*', '--users=eric', '--resource=\"Alice space\"', '--uris=/alice/*', '--users=alice']' returned non-zero exit status 1.",
     "output_type": "error",
     "traceback": [
      "\u001B[1;31m---------------------------------------------------------------------------\u001B[0m",
      "\u001B[1;31mCalledProcessError\u001B[0m                        Traceback (most recent call last)",
      "Cell \u001B[1;32mIn[31], line 16\u001B[0m\n\u001B[0;32m     13\u001B[0m client_name \u001B[38;5;241m=\u001B[39m \u001B[38;5;124m\"\u001B[39m\u001B[38;5;124mDummy service Gatekeeper\u001B[39m\u001B[38;5;124m\"\u001B[39m\n\u001B[0;32m     14\u001B[0m client_description \u001B[38;5;241m=\u001B[39m \u001B[38;5;28minput\u001B[39m(\u001B[38;5;124m\"\u001B[39m\u001B[38;5;124mClient to be used by Dummy service Gatekeeper\u001B[39m\u001B[38;5;124m\"\u001B[39m)\n\u001B[1;32m---> 16\u001B[0m \u001B[43msubprocess\u001B[49m\u001B[38;5;241;43m.\u001B[39;49m\u001B[43mcheck_call\u001B[49m\u001B[43m(\u001B[49m\u001B[43m[\u001B[49m\u001B[38;5;124;43m\"\u001B[39;49m\u001B[38;5;124;43m../data/create-client.sh\u001B[39;49m\u001B[38;5;124;43m\"\u001B[39;49m\u001B[43m,\u001B[49m\u001B[43m \u001B[49m\n\u001B[0;32m     17\u001B[0m \u001B[43m                       \u001B[49m\u001B[38;5;124;43m\"\u001B[39;49m\u001B[38;5;124;43m-e demo\u001B[39;49m\u001B[38;5;124;43m\"\u001B[39;49m\u001B[43m,\u001B[49m\u001B[43m \u001B[49m\n\u001B[0;32m     18\u001B[0m \u001B[43m                       \u001B[49m\u001B[38;5;124;43m\"\u001B[39;49m\u001B[38;5;124;43m-t \u001B[39;49m\u001B[38;5;124;43m\"\u001B[39;49m\u001B[43m \u001B[49m\u001B[38;5;241;43m+\u001B[39;49m\u001B[43m \u001B[49m\u001B[43maccess_token\u001B[49m\u001B[43m,\u001B[49m\u001B[43m \u001B[49m\n\u001B[0;32m     19\u001B[0m \u001B[43m                       \u001B[49m\u001B[38;5;124;43m\"\u001B[39;49m\u001B[38;5;124;43m--id \u001B[39;49m\u001B[38;5;124;43m\"\u001B[39;49m\u001B[43m \u001B[49m\u001B[38;5;241;43m+\u001B[39;49m\u001B[43m \u001B[49m\u001B[43mclient_id\u001B[49m\u001B[43m,\u001B[49m\n\u001B[0;32m     20\u001B[0m \u001B[43m                       \u001B[49m\u001B[38;5;124;43m\"\u001B[39;49m\u001B[38;5;124;43m--name \u001B[39;49m\u001B[38;5;124;43m\"\u001B[39;49m\u001B[43m \u001B[49m\u001B[38;5;241;43m+\u001B[39;49m\u001B[43m \u001B[49m\u001B[43mclient_name\u001B[49m\u001B[43m,\u001B[49m\n\u001B[0;32m     21\u001B[0m \u001B[43m                       \u001B[49m\u001B[38;5;124;43m\"\u001B[39;49m\u001B[38;5;124;43m--description \u001B[39;49m\u001B[38;5;124;43m\"\u001B[39;49m\u001B[43m \u001B[49m\u001B[38;5;241;43m+\u001B[39;49m\u001B[43m \u001B[49m\u001B[43mclient_description\u001B[49m\u001B[43m,\u001B[49m\n\u001B[0;32m     22\u001B[0m \u001B[43m                       \u001B[49m\u001B[38;5;124;43m\"\u001B[39;49m\u001B[38;5;124;43m--resource=\u001B[39;49m\u001B[38;5;130;43;01m\\\"\u001B[39;49;00m\u001B[38;5;124;43mEric space\u001B[39;49m\u001B[38;5;130;43;01m\\\"\u001B[39;49;00m\u001B[38;5;124;43m\"\u001B[39;49m\u001B[43m,\u001B[49m\u001B[43m \u001B[49m\u001B[38;5;124;43m\"\u001B[39;49m\u001B[38;5;124;43m--uris=/eric/*\u001B[39;49m\u001B[38;5;124;43m\"\u001B[39;49m\u001B[43m,\u001B[49m\u001B[43m \u001B[49m\u001B[38;5;124;43m\"\u001B[39;49m\u001B[38;5;124;43m--users=eric\u001B[39;49m\u001B[38;5;124;43m\"\u001B[39;49m\u001B[43m,\u001B[49m\n\u001B[0;32m     23\u001B[0m \u001B[43m                       \u001B[49m\u001B[38;5;124;43m\"\u001B[39;49m\u001B[38;5;124;43m--resource=\u001B[39;49m\u001B[38;5;130;43;01m\\\"\u001B[39;49;00m\u001B[38;5;124;43mAlice space\u001B[39;49m\u001B[38;5;130;43;01m\\\"\u001B[39;49;00m\u001B[38;5;124;43m\"\u001B[39;49m\u001B[43m,\u001B[49m\u001B[43m \u001B[49m\u001B[38;5;124;43m\"\u001B[39;49m\u001B[38;5;124;43m--uris=/alice/*\u001B[39;49m\u001B[38;5;124;43m\"\u001B[39;49m\u001B[43m,\u001B[49m\u001B[43m \u001B[49m\u001B[38;5;124;43m\"\u001B[39;49m\u001B[38;5;124;43m--users=alice\u001B[39;49m\u001B[38;5;124;43m\"\u001B[39;49m\n\u001B[0;32m     24\u001B[0m \u001B[43m                       \u001B[49m\u001B[43m]\u001B[49m\u001B[43m,\u001B[49m\u001B[43m \u001B[49m\u001B[43mshell\u001B[49m\u001B[38;5;241;43m=\u001B[39;49m\u001B[38;5;28;43;01mTrue\u001B[39;49;00m\u001B[43m,\u001B[49m\u001B[43mtext\u001B[49m\u001B[38;5;241;43m=\u001B[39;49m\u001B[38;5;28;43;01mTrue\u001B[39;49;00m\u001B[43m)\u001B[49m\n",
      "File \u001B[1;32m~\\AppData\\Local\\Programs\\Python\\Python311\\Lib\\subprocess.py:413\u001B[0m, in \u001B[0;36mcheck_call\u001B[1;34m(*popenargs, **kwargs)\u001B[0m\n\u001B[0;32m    411\u001B[0m     \u001B[38;5;28;01mif\u001B[39;00m cmd \u001B[38;5;129;01mis\u001B[39;00m \u001B[38;5;28;01mNone\u001B[39;00m:\n\u001B[0;32m    412\u001B[0m         cmd \u001B[38;5;241m=\u001B[39m popenargs[\u001B[38;5;241m0\u001B[39m]\n\u001B[1;32m--> 413\u001B[0m     \u001B[38;5;28;01mraise\u001B[39;00m CalledProcessError(retcode, cmd)\n\u001B[0;32m    414\u001B[0m \u001B[38;5;28;01mreturn\u001B[39;00m \u001B[38;5;241m0\u001B[39m\n",
      "\u001B[1;31mCalledProcessError\u001B[0m: Command '['../data/create-client.sh', '-e demo', '-t eyJhbGciOiJSUzI1NiIsInR5cCIgOiAiSldUIiwia2lkIiA6ICJXZWFIY2pscThPc1RUYjdlV0s5SjJTTDFBUDIyazZpajdlMGFlVHRNU2xRIn0.eyJleHAiOjE3MDA2NzI0MTQsImlhdCI6MTcwMDY3MjM1NCwianRpIjoiZGFiNmExZGEtYmNiNi00NzcwLTkwMTEtMzVjYzExYzRmMDk3IiwiaXNzIjoiaHR0cHM6Ly9pZGVudGl0eS5rZXljbG9hay5kZXZlbG9wLmVvZXBjYS5vcmcvcmVhbG1zL21hc3RlciIsInN1YiI6ImUzZGUzMjRlLTBmNDUtNDFlMC05NmE3LTUzNWM5MTEwNTU1MiIsInR5cCI6IkJlYXJlciIsImF6cCI6ImFkbWluLWNsaSIsInNlc3Npb25fc3RhdGUiOiI0MmZhMGU3Yy1mYTg3LTQyOWUtODk4MS1hYmNkYTBiM2JiZDEiLCJhY3IiOiIxIiwic2NvcGUiOiJvcGVuaWQgZW1haWwgcHJvZmlsZSIsInNpZCI6IjQyZmEwZTdjLWZhODctNDI5ZS04OTgxLWFiY2RhMGIzYmJkMSIsImVtYWlsX3ZlcmlmaWVkIjpmYWxzZSwicHJlZmVycmVkX3VzZXJuYW1lIjoiYWRtaW4ifQ.cI4ru8nek7QX80tCgPUFsYa4VRmQHUotNdIEuMg1HQ-HhgllzgdiZeiPwiIba-g0-3jMciIQz5AqAf6aWKtuV6mW7UboySnE0t3gQi6Ox6zu6yCrJI_EnQkBlabJjW6Vm7C9vk-C-DMPMJG6gwwPgWS3y38nIz_1DlcGrFWSRcv9XZHGVb93ZbdBJwqgzNSDpQP-t-SIA18jZfhZf7Sbik8KOenGTSlt2MhzsmdgitZdP_errAa9r9FuLuQbjKJPNxSnfOG-e3BZoxR4KU4x7J0HkoAcOo9AHkV7TJpglYylmcDHBsYgfWaOv2uVrH5cE3x_OzrudOPstTSMCPc_vg', '--id dummy-service', '--name Dummy service Gatekeeper', '--description ', '--resource=\"Eric space\"', '--uris=/eric/*', '--users=eric', '--resource=\"Alice space\"', '--uris=/alice/*', '--users=alice']' returned non-zero exit status 1."
     ]
    }
   ],
   "source": [
    "import subprocess\n",
    "import urllib.request\n",
    "\n",
    "with urllib.request.urlopen(\n",
    "        \"https://raw.githubusercontent.com/EOEPCA/um-identity-service/master/scripts/create-client.sh\") as f:\n",
    "    script = f.read().decode('utf-8')\n",
    "    out = open(\"../data/create-client.sh\", \"a\")\n",
    "    out.write(script)\n",
    "    out.flush()\n",
    "\n",
    "access_token = keycloak.get_user_token(\"admin\", admin_password)[\"access_token\"]\n",
    "\n",
    "client_id = input(\"Client id: \")\n",
    "client_name = \"Dummy service Gatekeeper\"\n",
    "client_description = \"Client to be used by Dummy service Gatekeeper\"\n",
    "\n",
    "subprocess.check_call([\"../data/create-client.sh\",\n",
    "                       \"-e demo\",\n",
    "                       \"-t \" + access_token,\n",
    "                       \"--id \" + client_id,\n",
    "                       \"--name \" + client_name,\n",
    "                       \"--description \" + client_description,\n",
    "                       \"--resource=\\\"Eric space\\\"\", \"--uris=/eric/*\", \"--users=eric\",\n",
    "                       \"--resource=\\\"Alice space\\\"\", \"--uris=/alice/*\", \"--users=alice\"\n",
    "                       ], shell=True, text=True)\n"
   ],
   "metadata": {
    "collapsed": false,
    "ExecuteTime": {
     "end_time": "2023-11-22T16:59:28.510532600Z",
     "start_time": "2023-11-22T16:59:13.697804400Z"
    }
   },
   "id": "632f4cc7f6699dfe"
  },
  {
   "cell_type": "code",
   "execution_count": null,
   "outputs": [],
   "source": [],
   "metadata": {
    "collapsed": false,
    "ExecuteTime": {
     "start_time": "2023-11-22T14:42:23.100595300Z"
    }
   },
   "id": "84df2dfacc56686f"
  }
 ],
 "metadata": {
  "kernelspec": {
   "display_name": "Python 3 (ipykernel)",
   "language": "python",
   "name": "python3"
  },
  "language_info": {
   "codemirror_mode": {
    "name": "ipython",
    "version": 3
   },
   "file_extension": ".py",
   "mimetype": "text/x-python",
   "name": "python",
   "nbconvert_exporter": "python",
   "pygments_lexer": "ipython3",
   "version": "3.11.2"
  }
 },
 "nbformat": 4,
 "nbformat_minor": 5
}
