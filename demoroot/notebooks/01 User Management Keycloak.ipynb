{
 "cells": [
  {
   "cell_type": "markdown",
   "id": "fourth-founder",
   "metadata": {},
   "source": [
    "## User Management (Keycloak)\n",
    "Interaction with EOEPCA endpoint using python Demo Client."
   ]
  },
  {
   "cell_type": "code",
   "execution_count": null,
   "id": "swiss-sender",
   "metadata": {},
   "outputs": [],
   "source": [
    "import utils.DemoKeycloakClient as Client\n",
    "import jwt\n",
    "import json\n",
    "import requests\n",
    "from getpass import getpass\n",
    "from keycloak import KeycloakPostError\n",
    "\n",
    "base_domain = \"develop.eoepca.org\"\n",
    "platform_domain = f\"keycloak.{base_domain}\"\n",
    "server_url = f\"https://{platform_domain}\"\n",
    "realm = \"master\""
   ]
  },
  {
   "cell_type": "markdown",
   "id": "modular-wages",
   "metadata": {},
   "source": [
    "## Client\n",
    "We instantiate an object to interact with the platform. The object dynamically registers two Keycloak clients, one with admin privileges, another to act as a resource server to demo resources protection using UMA (User Managed Access)."
   ]
  },
  {
   "cell_type": "code",
   "execution_count": null,
   "metadata": {
    "collapsed": false
   },
   "outputs": [],
   "source": [
    "password = getpass(\"Admin password: \")\n",
    "\n",
    "keycloak = Client.DemoKeycloakClient(server_url, realm, \"admin\", password)"
   ],
   "id": "7ee7baacb5c482e9"
  },
  {
   "cell_type": "markdown",
   "id": "usual-brazil",
   "metadata": {},
   "source": [
    "## User Authentication\n",
    "User authenticates and the client receives an ID Token (JWT) that represents the user, and is used to identify the user in UMA authorization flows."
   ]
  },
  {
   "cell_type": "markdown",
   "metadata": {
    "collapsed": false
   },
   "source": [
    "#### Create Users\n",
    "Create two users, an Eric and Alice both with user role."
   ],
   "id": "335052cf756eb435"
  },
  {
   "cell_type": "code",
   "execution_count": null,
   "metadata": {
    "collapsed": false
   },
   "outputs": [],
   "source": [
    "eric_id = keycloak.create_user(\"eric\", \"eric\", [\"user\"])\n",
    "alice_id = keycloak.create_user(\"alice\", \"alice\", [\"user\"])"
   ],
   "id": "c0ffe04412534648"
  },
  {
   "cell_type": "markdown",
   "metadata": {
    "collapsed": false
   },
   "source": [
    "#### Inspect Eric User Token"
   ],
   "id": "9e613065d80cf314"
  },
  {
   "cell_type": "code",
   "execution_count": null,
   "metadata": {
    "collapsed": false
   },
   "outputs": [],
   "source": [
    "token = keycloak.get_user_token(\"eric\", \"eric\")\n",
    "print(\"Eric token:\\n\" + json.dumps(token, indent = 2))\n",
    "eric_access_token = token[\"access_token\"]\n",
    "jwt_header = jwt.get_unverified_header(eric_access_token)\n",
    "print(\"JWT Header:\\n\" + json.dumps(jwt_header, indent = 2))\n",
    "jwt_payload = jwt.decode(eric_access_token, options={\"verify_signature\": False})\n",
    "print(\"JWT Payload:\\n\" + json.dumps(jwt_payload, indent = 2))"
   ],
   "id": "921e1c9077aa789f"
  },
  {
   "cell_type": "markdown",
   "metadata": {
    "collapsed": false
   },
   "source": [
    "#### Inspect Alice User Token"
   ],
   "id": "c55e51a804511ee9"
  },
  {
   "cell_type": "code",
   "execution_count": null,
   "metadata": {
    "collapsed": false
   },
   "outputs": [],
   "source": [
    "token = keycloak.get_user_token(\"alice\", \"alice\")\n",
    "print(\"Eric token:\\n\" + json.dumps(token, indent = 2))\n",
    "alice_access_token = token[\"access_token\"]\n",
    "jwt_header = jwt.get_unverified_header(alice_access_token)\n",
    "print(\"JWT Header:\\n\" + json.dumps(jwt_header, indent = 2))\n",
    "jwt_payload = jwt.decode(alice_access_token, options={\"verify_signature\": False})\n",
    "print(\"JWT Payload:\\n\" + json.dumps(jwt_payload, indent = 2))"
   ],
   "id": "8c2546f94a5d45b3"
  },
  {
   "cell_type": "markdown",
   "metadata": {
    "collapsed": false
   },
   "source": [
    "The ID Token (JWT) identifies the user via user_name / sub (Subject) fields, and the client via the aud (Audience) field. The JWT is signed and can be verified, using the kid (Key ID) field, via the JWKS endpoint of the Authorization Server."
   ],
   "id": "6b8eb77cdada9cae"
  },
  {
   "cell_type": "markdown",
   "metadata": {
    "collapsed": false
   },
   "source": [
    "## Protect resources\n",
    "Access a protected resources using UMA flow"
   ],
   "id": "d0e93be00dd6700"
  },
  {
   "cell_type": "markdown",
   "metadata": {
    "collapsed": false
   },
   "source": [
    "#### Assign premium role to Eric\n",
    "Roles are used to define policies that will protect resources based on roles - Role-based access control (RBAC)"
   ],
   "id": "7aa0ec8b8ca4be2c"
  },
  {
   "cell_type": "code",
   "execution_count": null,
   "metadata": {
    "collapsed": false
   },
   "outputs": [],
   "source": [
    "keycloak.create_realm_role('user-premium')\n",
    "keycloak.assign_realm_role_to_user(eric_id, 'user-premium')"
   ],
   "id": "46f22fc71441cea3"
  },
  {
   "cell_type": "markdown",
   "metadata": {
    "collapsed": false
   },
   "source": [
    "#### Register resources\n",
    "Register protected resources"
   ],
   "id": "26005c28ccb2b3db"
  },
  {
   "cell_type": "code",
   "execution_count": null,
   "metadata": {
    "collapsed": false
   },
   "outputs": [],
   "source": [
    "resources = [\n",
    "    {\n",
    "        \"name\": \"Default Resource\",\n",
    "        \"uri\": \"/*\"\n",
    "    },\n",
    "    {\n",
    "        'name': 'Protected Resource',\n",
    "        'icon_uri': '/protected/*',\n",
    "    },\n",
    "    {\n",
    "        \"name\": \"Premium Resource\",\n",
    "        \"uri\": \"/protected/premium/*\"\n",
    "    }\n",
    "]\n",
    "keycloak.register_resources(resources)"
   ],
   "id": "58fb6be6f37aa7d5"
  },
  {
   "cell_type": "markdown",
   "metadata": {
    "collapsed": false
   },
   "source": [
    "Right now, resources are protected by a default policy, which grants access to users within the realm.\n",
    "Let's see how Keycloak protects resources using role based and user based policies."
   ],
   "id": "c97a13a7a2f6ef33"
  },
  {
   "cell_type": "markdown",
   "metadata": {
    "collapsed": false
   },
   "source": [
    "#### Register policies\n",
    "Register role based and user based policies"
   ],
   "id": "fe588d65f686c530"
  },
  {
   "cell_type": "code",
   "execution_count": null,
   "metadata": {
    "collapsed": false
   },
   "outputs": [],
   "source": [
    "keycloak.register_role_policy(\"Only Premium User Policy\", \"user-premium\")\n",
    "keycloak.register_user_policy(\"Only Eric User Policy\", [eric_id])"
   ],
   "id": "7528a876ea5475cd"
  },
  {
   "cell_type": "markdown",
   "metadata": {
    "collapsed": false
   },
   "source": [
    "#### Register resource permissions\n",
    "Resources permissions are set by assigning policies to resources."
   ],
   "id": "b39fd78912559132"
  },
  {
   "cell_type": "code",
   "execution_count": null,
   "metadata": {
    "collapsed": false
   },
   "outputs": [],
   "source": [
    "permissions = [\n",
    "    {\n",
    "        \"name\": \"Default Resource Permission\",\n",
    "        \"type\": \"resource\",\n",
    "        \"logic\": \"POSITIVE\",\n",
    "        \"decisionStrategy\": \"UNANIMOUS\",\n",
    "        \"resources\": [\n",
    "            \"Default Resource\"\n",
    "        ],\n",
    "        \"policies\": [\n",
    "            \"Default Policy\"\n",
    "        ]\n",
    "    },\n",
    "    {\n",
    "        \"name\": \"Premium Resource Permission\",\n",
    "        \"type\": \"resource\",\n",
    "        \"logic\": \"POSITIVE\",\n",
    "        \"decisionStrategy\": \"UNANIMOUS\",\n",
    "        \"resources\": [\n",
    "            \"Premium Resource\"\n",
    "        ],\n",
    "        \"policies\": [\n",
    "            \"Only Premium User Policy\"\n",
    "        ]\n",
    "    },\n",
    "    {\n",
    "        \"name\": \"Protected Resource Permission\",\n",
    "        \"type\": \"resource\",\n",
    "        \"logic\": \"POSITIVE\",\n",
    "        \"decisionStrategy\": \"UNANIMOUS\",\n",
    "        \"resources\": [\n",
    "            \"Protected Resource\"\n",
    "        ],\n",
    "        \"policies\": [\n",
    "            \"Only User Policy\"\n",
    "        ]\n",
    "\n",
    "    }\n",
    "]\n",
    "keycloak.assign_resources_permissions(permissions)"
   ],
   "id": "7db3855970e19275"
  },
  {
   "cell_type": "markdown",
   "metadata": {
    "collapsed": false
   },
   "source": [
    "#### Get PAT (Protection API token)\n",
    "PAT (Protection API token) is used to access Keycloak's Protection API, which manages resources and policies."
   ],
   "id": "6e261ef73b519122"
  },
  {
   "cell_type": "code",
   "execution_count": null,
   "metadata": {
    "collapsed": false
   },
   "outputs": [],
   "source": [
    "pat = keycloak.generate_protection_pat()\n",
    "print(json.dumps(pat, indent=2))\n",
    "access_token = pat['access_token']"
   ],
   "id": "7ec0f40884afcb2b"
  },
  {
   "cell_type": "markdown",
   "metadata": {
    "collapsed": false
   },
   "source": [],
   "id": "73ece8c827858c3c"
  },
  {
   "cell_type": "markdown",
   "metadata": {
    "collapsed": false
   },
   "source": [
    "### Get Resource Id\n",
    "Get Premium Resource id"
   ],
   "id": "5163d45ac003fcf4"
  },
  {
   "cell_type": "code",
   "execution_count": null,
   "metadata": {
    "collapsed": false
   },
   "outputs": [],
   "source": [
    "# it's possible to query resources by many fields, including name and uri\n",
    "protected_resource_id = keycloak.get_resource_id(name=\"Premium Resource\")[0]\n",
    "print(protected_resource_id)\n",
    "protected_resource_id = keycloak.get_resource_id(uri=\"/protected/premium/*\")[0]\n",
    "print(protected_resource_id)"
   ],
   "id": "fad25c0c5306f93f"
  },
  {
   "cell_type": "markdown",
   "metadata": {
    "collapsed": false
   },
   "source": [
    "#### Get UMA access token for premium resource for both Eric and Alice"
   ],
   "id": "7bd8995d56fd1161"
  },
  {
   "cell_type": "code",
   "execution_count": null,
   "metadata": {
    "collapsed": false
   },
   "outputs": [],
   "source": [
    "uma_ticket = keycloak.create_permission_ticket(resources=[protected_resource_id])['ticket']\n",
    "print('UMA ticket for resource ' + protected_resource_id + ':\\n' + uma_ticket)\n",
    "eric_access_token = keycloak.get_user_token(\"eric\", \"eric\")['access_token']\n",
    "eric_rpt = keycloak.get_rpt(eric_access_token, uma_ticket)['access_token']\n",
    "print('Eric RPT:\\n' + str(eric_rpt))"
   ],
   "id": "8fad04726762f1a9"
  },
  {
   "cell_type": "code",
   "execution_count": null,
   "metadata": {
    "collapsed": false
   },
   "outputs": [],
   "source": [
    "uma_ticket = keycloak.create_permission_ticket(resources=[protected_resource_id])['ticket']\n",
    "print('UMA ticket for resource ' + protected_resource_id + ':\\n' + uma_ticket)\n",
    "alice_access_token = keycloak.get_user_token(\"alice\", \"alice\")['access_token']\n",
    "try:\n",
    "    alice_uma_access_token = keycloak.get_rpt(alice_access_token, uma_ticket)['access_token']\n",
    "except KeycloakPostError as e:\n",
    "    print(str(e))"
   ],
   "id": "8d3dee0644cb9c35"
  },
  {
   "cell_type": "markdown",
   "metadata": {
    "collapsed": false
   },
   "source": [
    "Trying to get a UMA token for Alice results in a 403 Forbidden Error. The reason being Alice is not allowed to access the `/protected/premium/*` resource because it's protected by a `user-premium` role which Alice does not have."
   ],
   "id": "2a47860a5bd76bb0"
  },
  {
   "cell_type": "markdown",
   "metadata": {
    "collapsed": false
   },
   "source": [
    "#### Use Eric UMA access token to access the premium resource"
   ],
   "id": "d423edfcf3f6ee55"
  },
  {
   "cell_type": "code",
   "execution_count": null,
   "metadata": {
    "collapsed": false
   },
   "outputs": [],
   "source": [
    "headers = {\n",
    "    \"cache-control\": \"no-cache\",\n",
    "    \"Authorization\": \"Bearer \" + eric_rpt\n",
    "}\n",
    "premium_resource_url = \"http://localhost:8080/protected/premium\"\n",
    "print('GET ' + premium_resource_url)\n",
    "response = requests.get(premium_resource_url, headers=headers, verify=False)\n",
    "print(str(response.status_code))"
   ],
   "id": "d4c8b22eaaec89fa"
  },
  {
   "cell_type": "markdown",
   "metadata": {
    "collapsed": false
   },
   "source": [
    "The expected result is 200 (or 404 if the demo app isn't running), meaning a successfuly access to the protected resource by Eric."
   ],
   "id": "3ee3a0c6806346af"
  },
  {
   "cell_type": "markdown",
   "id": "38136476",
   "metadata": {},
   "source": [
    "#### Identity-API Get Resources"
   ]
  },
  {
   "cell_type": "code",
   "execution_count": null,
   "id": "97c85d72",
   "metadata": {},
   "outputs": [],
   "source": [
    "import utils.DemoKeycloakClient as Client\n",
    "import jwt\n",
    "import json\n",
    "import requests\n",
    "from keycloak import KeycloakPostError\n",
    "\n",
    "base_domain = \"develop.eoepca.org\"\n",
    "platform_domain = f\"keycloak.{base_domain}\"\n",
    "server_url = f\"https://{platform_domain}\"\n",
    "realm = \"master\"\n",
    "client_id = \"gatekeeper\"\n",
    "identity_api_url = 'http://localhost:5566'#\"https://identity.api.develop.eoepca.org\"\n",
    "get_resources_url = identity_api_url +\"/\"+ client_id + \"/resources\"\n",
    "print(\"GET \" + get_resources_url)\n",
    "response = requests.get(get_resources_url)\n",
    "try:\n",
    "    print(response.json())\n",
    "except:\n",
    "    print(response)\n"
   ]
  },
  {
   "cell_type": "markdown",
   "id": "5fd680d1",
   "metadata": {},
   "source": [
    "#### Identity-API Get resource by id"
   ]
  },
  {
   "cell_type": "code",
   "execution_count": null,
   "id": "1f2380db",
   "metadata": {},
   "outputs": [],
   "source": [
    "\n",
    "response = requests.get(get_resources_url)\n",
    "resource_id = response.json()[0][\"_id\"]\n",
    "print(resource_id)\n",
    "get_resource_by_id_url = identity_api_url + \"/resources/\" + resource_id\n",
    "response = requests.get(get_resource_by_id_url)\n",
    "print(response.text)"
   ]
  },
  {
   "cell_type": "markdown",
   "id": "da371416",
   "metadata": {},
   "source": [
    "#### Identity-API Register resource"
   ]
  },
  {
   "cell_type": "code",
   "execution_count": null,
   "id": "0a80867f",
   "metadata": {},
   "outputs": [],
   "source": [
    "client_id = \"dummy-service\"\n",
    "post_resource_url = identity_api_url +\"/\"+ client_id +\"/resources\"\n",
    "data = {\n",
    "    'attributes': {}, \n",
    "    'name': 'Default Resource 4',\n",
    "    'ownerManagedAccess': False, \n",
    "    'resource_scopes': [], \n",
    "    'type': 'urn:gatekeeper:resources:default', \n",
    "    'uris': ['/default4/*']\n",
    "    }\n",
    "response = requests.post(post_resource_url, json=data,)\n",
    "print(\"Response code: \",str(response.status_code))\n",
    "print(\"Resource added: \",response.json())"
   ]
  },
  {
   "cell_type": "markdown",
   "id": "cb157a80",
   "metadata": {},
   "source": [
    "#### Identity-API Update resource"
   ]
  },
  {
   "cell_type": "code",
   "execution_count": null,
   "id": "1f63776b",
   "metadata": {},
   "outputs": [],
   "source": [
    "# get resource_id from the get_resources endpoint\n",
    "resource_id = \"d7bf8f90-9a8b-4bee-b1c0-f920ed0e30e9\"\n",
    "udpate_resource_url = identity_api_url +\"/\"+ client_id + \"/resources/\" + resource_id\n",
    "data = {\n",
    "  \"attributes\": {},\n",
    "  \"name\": \"Default Resource 5\",\n",
    "  \"owner\": {\n",
    "    \"id\": \"844967e2-15e1-4e1b-96e5-e0effc8f1737\",\n",
    "    \"name\": \"dummy-service\"\n",
    "  },\n",
    "  \"ownerManagedAccess\": False,\n",
    "  \"type\": \"urn:gatekeeper:resources:default\",\n",
    "  \"uris\": [\n",
    "    \"/default5/*\"\n",
    "  ]\n",
    "}\n",
    "response = requests.put(udpate_resource_url, json=data,)\n",
    "print(\"Response code: \",str(response.status_code))"
   ]
  },
  {
   "cell_type": "markdown",
   "id": "533e9153",
   "metadata": {},
   "source": [
    "#### Identity-API delete resource"
   ]
  },
  {
   "cell_type": "code",
   "execution_count": null,
   "id": "8c06097d",
   "metadata": {},
   "outputs": [],
   "source": [
    "# get resource_id from the get_resources endpoint\n",
    "resource_id = \"d7bf8f90-9a8b-4bee-b1c0-f920ed0e30e9\"\n",
    "delete_resource_url = identity_api_url +\"/\"+ client_id + \"/resources/\" + resource_id\n",
    "\n",
    "response = requests.delete(delete_resource_url)\n",
    "print(\"Response code: \",str(response.status_code))\n"
   ]
  },
  {
   "cell_type": "markdown",
   "id": "bd0928dc",
   "metadata": {},
   "source": [
    "#### Identity-API Get client Policies"
   ]
  },
  {
   "cell_type": "code",
   "execution_count": null,
   "id": "25edefeb",
   "metadata": {},
   "outputs": [],
   "source": [
    "get_policies_url = identity_api_url +\"/\"+ client_id +  \"/policies\"\n",
    "response = requests.get(get_policies_url)\n",
    "print(\"Response code: \",str(response.status_code))\n",
    "print(\"Response text: \",response.json())\n"
   ]
  },
  {
   "cell_type": "markdown",
   "id": "0f375baa",
   "metadata": {},
   "source": [
    "#### Identity-API create client Policy"
   ]
  },
  {
   "cell_type": "code",
   "execution_count": null,
   "id": "618b3718",
   "metadata": {},
   "outputs": [],
   "source": [
    "create_client_policies_url = identity_api_url +\"/\"+ client_id + \"/policies/client\"\n",
    "data={\n",
    "        \"type\": \"client\",\n",
    "        \"logic\": \"POSITIVE\",\n",
    "        \"decisionStrategy\": \"UNANIMOUS\",\n",
    "        \"name\": \"My Policy 2\"\n",
    "}\n",
    "response = requests.post(create_client_policies_url,json=data)\n",
    "print(\"Response code: \",str(response.status_code))\n",
    "print(\"Response text: \",response.json())"
   ]
  },
  {
   "cell_type": "markdown",
   "id": "f1ae87ee",
   "metadata": {},
   "source": [
    "#### Identity-API Create Aggregated policy"
   ]
  },
  {
   "cell_type": "code",
   "execution_count": null,
   "id": "c943b064",
   "metadata": {},
   "outputs": [],
   "source": [
    "create_aggregated_policies_url = identity_api_url +\"/\"+ client_id + \"/policies/aggregated\"\n",
    "data = {\n",
    "            \"type\": \"aggregate\",\n",
    "            \"logic\": \"POSITIVE\",\n",
    "            \"decisionStrategy\": \"UNANIMOUS\",\n",
    "            \"name\": \"aggregated policy 3\",\n",
    "            \"policies\": [\"My Policy 2\"],\n",
    "            \"description\": \"despriction3\"\n",
    "        }\n",
    "response = requests.post(create_aggregated_policies_url,json=data)\n",
    "print(\"Response code: \",str(response.status_code))\n",
    "print(\"Response text: \",response.json())"
   ]
  },
  {
   "cell_type": "markdown",
   "id": "e33a5fa2",
   "metadata": {},
   "source": [
    "#### Identity-API Create scope policy"
   ]
  },
  {
   "cell_type": "code",
   "execution_count": null,
   "id": "2e0a7407",
   "metadata": {},
   "outputs": [],
   "source": [
    "create_scope_policies_url = identity_api_url +\"/\"+ client_id + \"/policies/scope\"\n",
    "data = {\n",
    "        \"type\": \"client-scope\",\n",
    "        \"logic\": \"POSITIVE\",\n",
    "        \"decisionStrategy\": \"UNANIMOUS\",\n",
    "        \"name\": \"My Policy 3\"\n",
    "}\n",
    "response = requests.post(create_scope_policies_url,json=data)\n",
    "print(\"Response code: \",str(response.status_code))\n",
    "print(\"Response text: \",response.json())"
   ]
  },
  {
   "cell_type": "markdown",
   "id": "43f7dbc7",
   "metadata": {},
   "source": [
    "#### Identity-API Create group policy"
   ]
  },
  {
   "cell_type": "code",
   "execution_count": null,
   "id": "839f0830",
   "metadata": {},
   "outputs": [],
   "source": [
    "create_group_policies_url = identity_api_url +\"/\"+ client_id + \"/policies/group\"\n",
    "data = {\n",
    "            \"type\": \"group\",\n",
    "            \"logic\": \"POSITIVE\",\n",
    "            \"decisionStrategy\": \"UNANIMOUS\",\n",
    "            \"name\": \"group policy 1\",\n",
    "            \"groups\": [{\"id\": \"group1\", \"path\": \"group1\"}],\n",
    "            \"groupsClaim\": \"groups claim 1\",\n",
    "            \"description\": \"\"\n",
    "        }\n",
    "response = requests.post(create_group_policies_url,json=data)\n",
    "print(\"Response code: \",str(response.status_code))\n",
    "print(\"Response text: \",response.json())"
   ]
  },
  {
   "cell_type": "markdown",
   "id": "e19e6dcd",
   "metadata": {},
   "source": [
    "#### Identity-API - Create regex Policy"
   ]
  },
  {
   "cell_type": "code",
   "execution_count": null,
   "id": "fd1ae00d",
   "metadata": {},
   "outputs": [],
   "source": [
    "create_regex_policies_url = identity_api_url +\"/\"+ client_id + \"/policies/regex\"\n",
    "data = {\n",
    "            \"type\": \"regex\",\n",
    "            \"logic\": \"POSITIVE\",\n",
    "            \"decisionStrategy\": \"UNANIMOUS\",\n",
    "            \"name\": \"regex policy 1\",\n",
    "            \"pattern\": \"123\",\n",
    "            \"targetClaim\": \"target1\",\n",
    "            \"description\": \"description1\"\n",
    "        }\n",
    "response = requests.post(create_regex_policies_url,json=data)\n",
    "print(\"Response code: \",str(response.status_code))\n",
    "print(\"Response text: \",response.json())"
   ]
  },
  {
   "cell_type": "markdown",
   "id": "c69f72d0",
   "metadata": {},
   "source": [
    "#### Identity-API Create role policy"
   ]
  },
  {
   "cell_type": "code",
   "execution_count": null,
   "id": "4f89a1f0",
   "metadata": {},
   "outputs": [],
   "source": [
    "create_role_policies_url = identity_api_url +\"/\"+ client_id + \"/policies/role\"\n",
    "data = {\n",
    "            \"type\": \"role\",\n",
    "            \"logic\": \"POSITIVE\",\n",
    "            \"decisionStrategy\": \"UNANIMOUS\",\n",
    "            \"name\": \"role policy 1\",\n",
    "            \"roles\": [\n",
    "                {\n",
    "                    \"id\": \"b80601c3-9e0f-40fd-a03c-34cd759bfc63\",\n",
    "                    \"required\": False\n",
    "                } \n",
    "            ]\n",
    "        }\n",
    "response = requests.post(create_role_policies_url,json=data)\n",
    "print(\"Response code: \",str(response.status_code))\n",
    "print(\"Response text: \",response.json())"
   ]
  },
  {
   "cell_type": "markdown",
   "id": "c28f2ff3",
   "metadata": {},
   "source": [
    "#### Identity-API create time policy"
   ]
  },
  {
   "cell_type": "code",
   "execution_count": null,
   "id": "a1865c03",
   "metadata": {},
   "outputs": [],
   "source": [
    "create_time_policies_url = identity_api_url +\"/\"+ client_id + \"/policies/time\"\n",
    "data = {\n",
    "            \"type\": \"time\",\n",
    "            \"logic\": \"POSITIVE\",\n",
    "            \"decisionStrategy\": \"UNANIMOUS\",\n",
    "            \"name\": \"time policy 1\",\n",
    "            \"description\": \"\",\n",
    "            \"year\": 2023\n",
    "        }\n",
    "# time can be one of:\n",
    "        # \"notAfter\":\"1970-01-01 00:00:00\"\n",
    "        # \"notBefore\":\"1970-01-01 00:00:00\"\n",
    "        # \"dayMonth\":<day-of-month>\n",
    "        # \"dayMonthEnd\":<day-of-month>\n",
    "        # \"month\":<month>\n",
    "        # \"monthEnd\":<month>\n",
    "        # \"year\":<year>\n",
    "        # \"yearEnd\":<year>\n",
    "        # \"hour\":<hour>\n",
    "        # \"hourEnd\":<hour>\n",
    "        # \"minute\":<minute>\n",
    "        # \"minuteEnd\":<minute>\n",
    "response = requests.post(create_time_policies_url,json=data)\n",
    "print(\"Response code: \",str(response.status_code))\n",
    "print(\"Response text: \",response.json())"
   ]
  },
  {
   "cell_type": "markdown",
   "id": "51b51505",
   "metadata": {},
   "source": [
    "#### Identity-API Create user policy"
   ]
  },
  {
   "cell_type": "code",
   "execution_count": null,
   "id": "37d9ccf6",
   "metadata": {},
   "outputs": [],
   "source": [
    "create_user_policies_url = identity_api_url +\"/\"+ client_id + \"/policies/user\"\n",
    "data = {\n",
    "            \"type\": \"user\",\n",
    "            \"logic\": \"POSITIVE\",\n",
    "            \"decisionStrategy\": \"UNANIMOUS\",\n",
    "            \"name\": \"user policy 1\",\n",
    "            \"users\": \"3b9ada08-7a96-4078-86fc-43c61248968e\",\n",
    "            \"description\": \"descriptitirnnce\"\n",
    "        }\n",
    "response = requests.post(create_user_policies_url,json=data)\n",
    "print(\"Response code: \",str(response.status_code))\n",
    "print(\"Response text: \",response.json())"
   ]
  },
  {
   "cell_type": "markdown",
   "id": "087d76ef",
   "metadata": {},
   "source": [
    "#### Identity-API Update policies"
   ]
  },
  {
   "cell_type": "code",
   "execution_count": null,
   "id": "d7b4ab36",
   "metadata": {},
   "outputs": [],
   "source": [
    "policy_id = \"8e90c31f-759a-4679-86c5-56cad118f12e\"\n",
    "update_policies_url = identity_api_url + \"/\"+ client_id +\"/policies/\" + policy_id\n",
    "data = {\n",
    "            \"type\": \"user\",\n",
    "            \"logic\": \"POSITIVE\",\n",
    "            \"decisionStrategy\": \"UNANIMOUS\",\n",
    "            \"name\": \"user policy 12\",\n",
    "            \"description\": \"descriptitirnnce222\"\n",
    "        }\n",
    "response = requests.put(update_policies_url,json=data)\n",
    "print(\"Response code: \",str(response.status_code))"
   ]
  },
  {
   "cell_type": "markdown",
   "id": "834c816f",
   "metadata": {},
   "source": [
    "#### Identity-API delete policies"
   ]
  },
  {
   "cell_type": "code",
   "execution_count": null,
   "id": "7c9e28f6",
   "metadata": {},
   "outputs": [],
   "source": [
    "policy_id = \"8e90c31f-759a-4679-86c5-56cad118f12e\"\n",
    "delete_policies_url = identity_api_url + \"/\"+ client_id +\"/policies/\" + policy_id\n",
    "response = requests.put(delete_policies_url)\n",
    "print(\"Response code: \",str(response.status_code))"
   ]
  },
  {
   "cell_type": "markdown",
   "id": "a409a128",
   "metadata": {},
   "source": [
    "#### Identity-API get client permissions"
   ]
  },
  {
   "cell_type": "code",
   "execution_count": null,
   "id": "8170b92e",
   "metadata": {},
   "outputs": [],
   "source": [
    "get_client_permissions_url = identity_api_url + \"/\"+ client_id +\"/permissions\"\n",
    "response = requests.get(get_client_permissions_url)\n",
    "print(\"Response code: \",str(response.status_code))\n",
    "print(\"Response text: \",response.json())\n"
   ]
  },
  {
   "cell_type": "markdown",
   "id": "f86efc5c",
   "metadata": {},
   "source": [
    "#### Identity-API get client management permissions"
   ]
  },
  {
   "cell_type": "code",
   "execution_count": null,
   "id": "1506c963",
   "metadata": {},
   "outputs": [],
   "source": [
    "get_management_permissions_url = identity_api_url + \"/\"+ client_id +\"/permissions/management\"\n",
    "response = requests.get(get_management_permissions_url)\n",
    "print(\"Response code: \",str(response.status_code))\n",
    "print(\"Response text: \",response.json())\n"
   ]
  },
  {
   "cell_type": "markdown",
   "id": "6e8265ad",
   "metadata": {},
   "source": [
    "#### Identity-API get client resources permissions"
   ]
  },
  {
   "cell_type": "code",
   "execution_count": null,
   "id": "5f12fb7c",
   "metadata": {},
   "outputs": [],
   "source": [
    "get_resources_permissions_url = identity_api_url + \"/\"+ client_id +\"/permissions/resources\"\n",
    "response = requests.get(get_resources_permissions_url)\n",
    "print(\"Response code: \",str(response.status_code))\n",
    "print(\"Response text: \",response.json())\n"
   ]
  },
  {
   "cell_type": "markdown",
   "id": "3da4aa8c",
   "metadata": {},
   "source": [
    "#### Identity-API create client resources permissions"
   ]
  },
  {
   "cell_type": "code",
   "execution_count": null,
   "id": "84ddd1e1",
   "metadata": {},
   "outputs": [],
   "source": [
    "create_resources_permissions_url = identity_api_url + \"/\"+ client_id +\"/permissions/resources\"\n",
    "data={\n",
    "        \"type\": \"resource\",\n",
    "        \"logic\": \"POSITIVE\",\n",
    "        \"decisionStrategy\": \"UNANIMOUS\",\n",
    "        \"name\": \"Permission-Name 2\",\n",
    "        \"resources\": [\n",
    "            \"5bd655ec-2575-406e-aa08-28b1bd25f476\"\n",
    "        ],\n",
    "        \"policies\": [\n",
    "            \"57d4a363-6b40-4dec-93e9-a46a1a8e492f\"\n",
    "        ]\n",
    "}\n",
    "response = requests.get(get_resources_permissions_url,json=data)\n",
    "print(\"Response code: \",str(response.status_code))\n",
    "print(\"Response text: \",response.json())"
   ]
  },
  {
   "cell_type": "markdown",
   "id": "528329d9",
   "metadata": {},
   "source": [
    "#### Identity-API update client management permissions"
   ]
  },
  {
   "cell_type": "code",
   "execution_count": null,
   "id": "cc420361",
   "metadata": {},
   "outputs": [],
   "source": [
    "update_management_permissions_url = identity_api_url + \"/\"+ client_id +\"/permissions/management\"\n",
    "data={\n",
    "    \"enabled\": False\n",
    "}\n",
    "response = requests.put(update_management_permissions_url,json=data)\n",
    "print(\"Response code: \",str(response.status_code))\n",
    "print(\"Response text: \",response.json())"
   ]
  },
  {
   "cell_type": "markdown",
   "id": "572dd8f5",
   "metadata": {},
   "source": [
    "#### Identity-API update client resources permissions"
   ]
  },
  {
   "cell_type": "code",
   "execution_count": null,
   "id": "021f9f4e",
   "metadata": {},
   "outputs": [],
   "source": [
    "permission_id = \"2193eed8-93e5-471f-bb67-a3726b333fb1\"\n",
    "update_resources_permissions_url = identity_api_url + \"/\"+ client_id +\"/permissions/resources/\" + permission_id\n",
    "data={\n",
    "        \"decisionStrategy\": \"UNANIMOUS\",\n",
    "        \"description\": \"A permission that applies to the default resource type 1\",\n",
    "        \"logic\": \"POSITIVE\",\n",
    "        \"name\": \"Default Permission\",\n",
    "        \"resourceType\": \"urn:gatekeeper:resources:default\",\n",
    "        \"type\": \"resource\"\n",
    "    }\n",
    "response = requests.put(update_resources_permissions_url,json=data)\n",
    "print(\"Response code: \",str(response.status_code))"
   ]
  },
  {
   "cell_type": "markdown",
   "id": "d3748911",
   "metadata": {},
   "source": [
    "#### Identity-API Register and Protect a Resource"
   ]
  },
  {
   "cell_type": "code",
   "execution_count": null,
   "id": "ada8b916",
   "metadata": {},
   "outputs": [],
   "source": [
    "register_and_protect_url = identity_api_url + \"/\" + client_id + \"/resources\"\n",
    "data = [{\n",
    "            \"resource\":{\n",
    "                \"name\": \"resource1\",\n",
    "                \"uris\": [\"/resource1/*\"],\n",
    "                \"attributes\": {},\n",
    "                \"resource_scopes\": [\"access\"]\n",
    "            },\n",
    "            \"permissions\": {\n",
    "                \"user\":[\"eric\"]\n",
    "            }\n",
    "        },\n",
    "        {\n",
    "            \"resource\":{\n",
    "                \"name\": \"resource2\",\n",
    "                \"uris\": [\"/resource2/*\"],\n",
    "                \"attributes\": {},\n",
    "                \"resource_scopes\": [\"access\"]\n",
    "            },\n",
    "            \"permissions\": {\n",
    "                \"user\":[\"alice\"]\n",
    "            }\n",
    "        }]\n",
    "\n",
    "response = requests.post(register_and_protect_url,json=data)\n",
    "print(\"Response code: \",str(response.status_code))"
   ]
  },
  {
   "cell_type": "markdown",
   "id": "e720cf56",
   "metadata": {},
   "source": [
    "#### Identity-API Delete Resource and its policies and permissions"
   ]
  },
  {
   "cell_type": "code",
   "execution_count": null,
   "id": "b9674153",
   "metadata": {},
   "outputs": [],
   "source": [
    "resource_name = \"resource1\"\n",
    "delete_resources_url = identity_api_url + \"/\" + client_id +\"/resources/\" + resource_name\n",
    "response = requests.delete(delete_resources_url)\n",
    "print(response.status_code)\n",
    "print(response.text)"
   ]
  },
  {
   "cell_type": "markdown",
   "id": "0f3af5bd",
   "metadata": {},
   "source": [
    "#### Identity-API Create client, create and protect resources in one endpoint"
   ]
  },
  {
   "cell_type": "code",
   "execution_count": null,
   "id": "0a8cd26c",
   "metadata": {},
   "outputs": [],
   "source": [
    "import requests\n",
    "\n",
    "identity_api_url = 'http://localhost:5566'  #\"https://identity.api.develop.eoepca.org\"\n",
    "create_client_url = identity_api_url + '/clients'\n",
    "payload = {\n",
    "    \"clientId\": \"dummy-service\",\n",
    "    \"name\": \"Dummy Service\",\n",
    "    \"description\": \"Client used for Dummy service\",\n",
    "    \"resources\": [\n",
    "        {\n",
    "            \"name\": \"Eric space\",\n",
    "            \"uris\": [\"/eric/*\"],\n",
    "            \"permissions\": {\n",
    "                \"user\": [\"eric\"]\n",
    "            }\n",
    "        },\n",
    "        {\n",
    "            \"name\": \"Alice space\",\n",
    "            \"uris\": [\"/alice/*\"],\n",
    "            \"permissions\": {\n",
    "                \"user\": [\"alice\"]\n",
    "            }\n",
    "        }\n",
    "    ]\n",
    "}\n",
    "response = requests.post(create_client_url, json=payload)\n",
    "print(response.status_code)\n",
    "print(response.text)"
   ]
  }
 ],
 "metadata": {
  "kernelspec": {
   "display_name": "Python 3 (ipykernel)",
   "language": "python",
   "name": "python3"
  },
  "language_info": {
   "codemirror_mode": {
    "name": "ipython",
    "version": 3
   },
   "file_extension": ".py",
   "mimetype": "text/x-python",
   "name": "python",
   "nbconvert_exporter": "python",
   "pygments_lexer": "ipython3",
   "version": "3.11.2"
  }
 },
 "nbformat": 4,
 "nbformat_minor": 5
}
