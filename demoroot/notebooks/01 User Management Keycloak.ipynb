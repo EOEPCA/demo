{
 "cells": [
  {
   "cell_type": "markdown",
   "id": "fourth-founder",
   "metadata": {},
   "source": [
    "## User Management (Keycloak)\n",
    "Interaction with EOEPCA endpoint using python Demo Client."
   ]
  },
  {
   "cell_type": "code",
   "execution_count": 1,
   "id": "swiss-sender",
   "metadata": {},
   "outputs": [],
   "source": [
    "import utils.DemoKeycloakClient as Client\n",
    "import jwt\n",
    "import json\n",
    "import requests\n",
    "from keycloak import KeycloakPostError\n",
    "\n",
    "base_domain = \"develop.eoepca.org\"\n",
    "platform_domain = f\"keycloak.{base_domain}\"\n",
    "server_url = f\"https://{platform_domain}\"\n",
    "realm = \"master\""
   ]
  },
  {
   "cell_type": "markdown",
   "id": "modular-wages",
   "metadata": {},
   "source": [
    "## Client\n",
    "We instantiate an object to interact with the platform. The object dynamically registers two Keycloak clients, one with admin privileges, another to act as a resource server to demo resources protection using UMA (User Managed Access)."
   ]
  },
  {
   "cell_type": "code",
   "execution_count": 2,
   "outputs": [
    {
     "name": "stdout",
     "output_type": "stream",
     "text": [
      "Created admin client:\n",
      "{\n",
      "  \"id\": \"05b9cc34-5f93-4558-aa04-f73de87d664d\",\n",
      "  \"clientId\": \"admin-demo\",\n",
      "  \"surrogateAuthRequired\": false,\n",
      "  \"enabled\": true,\n",
      "  \"alwaysDisplayInConsole\": false,\n",
      "  \"clientAuthenticatorType\": \"client-secret\",\n",
      "  \"secret\": \"mTto72YrDYwSDLUBXdFX4spE2e3qN9fR\",\n",
      "  \"redirectUris\": [],\n",
      "  \"webOrigins\": [],\n",
      "  \"notBefore\": 0,\n",
      "  \"bearerOnly\": false,\n",
      "  \"consentRequired\": false,\n",
      "  \"standardFlowEnabled\": true,\n",
      "  \"implicitFlowEnabled\": false,\n",
      "  \"directAccessGrantsEnabled\": true,\n",
      "  \"serviceAccountsEnabled\": true,\n",
      "  \"authorizationServicesEnabled\": true,\n",
      "  \"publicClient\": false,\n",
      "  \"frontchannelLogout\": false,\n",
      "  \"protocol\": \"openid-connect\",\n",
      "  \"attributes\": {\n",
      "    \"client.secret.creation.time\": \"1684695784\"\n",
      "  },\n",
      "  \"authenticationFlowBindingOverrides\": {},\n",
      "  \"fullScopeAllowed\": true,\n",
      "  \"nodeReRegistrationTimeout\": -1,\n",
      "  \"protocolMappers\": [\n",
      "    {\n",
      "      \"id\": \"9beb8957-a54d-4da6-a032-ea3ff1eac433\",\n",
      "      \"name\": \"Client ID\",\n",
      "      \"protocol\": \"openid-connect\",\n",
      "      \"protocolMapper\": \"oidc-usersessionmodel-note-mapper\",\n",
      "      \"consentRequired\": false,\n",
      "      \"config\": {\n",
      "        \"user.session.note\": \"clientId\",\n",
      "        \"id.token.claim\": \"true\",\n",
      "        \"access.token.claim\": \"true\",\n",
      "        \"claim.name\": \"clientId\",\n",
      "        \"jsonType.label\": \"String\"\n",
      "      }\n",
      "    },\n",
      "    {\n",
      "      \"id\": \"766dc434-0fa6-4234-9e56-c2f742e95cbe\",\n",
      "      \"name\": \"Client Host\",\n",
      "      \"protocol\": \"openid-connect\",\n",
      "      \"protocolMapper\": \"oidc-usersessionmodel-note-mapper\",\n",
      "      \"consentRequired\": false,\n",
      "      \"config\": {\n",
      "        \"user.session.note\": \"clientHost\",\n",
      "        \"id.token.claim\": \"true\",\n",
      "        \"access.token.claim\": \"true\",\n",
      "        \"claim.name\": \"clientHost\",\n",
      "        \"jsonType.label\": \"String\"\n",
      "      }\n",
      "    },\n",
      "    {\n",
      "      \"id\": \"e2866244-8bcc-4331-992d-091bf62a616e\",\n",
      "      \"name\": \"Client IP Address\",\n",
      "      \"protocol\": \"openid-connect\",\n",
      "      \"protocolMapper\": \"oidc-usersessionmodel-note-mapper\",\n",
      "      \"consentRequired\": false,\n",
      "      \"config\": {\n",
      "        \"user.session.note\": \"clientAddress\",\n",
      "        \"id.token.claim\": \"true\",\n",
      "        \"access.token.claim\": \"true\",\n",
      "        \"claim.name\": \"clientAddress\",\n",
      "        \"jsonType.label\": \"String\"\n",
      "      }\n",
      "    }\n",
      "  ],\n",
      "  \"defaultClientScopes\": [\n",
      "    \"web-origins\",\n",
      "    \"acr\",\n",
      "    \"roles\",\n",
      "    \"profile\",\n",
      "    \"email\"\n",
      "  ],\n",
      "  \"optionalClientScopes\": [\n",
      "    \"address\",\n",
      "    \"phone\",\n",
      "    \"offline_access\",\n",
      "    \"microprofile-jwt\"\n",
      "  ],\n",
      "  \"access\": {\n",
      "    \"view\": true,\n",
      "    \"configure\": true,\n",
      "    \"manage\": true\n",
      "  }\n",
      "}\n",
      "\n",
      "Created service account user:\n",
      "{\n",
      "  \"id\": \"12d67dcf-2f5e-47a5-9248-d10987d247b3\",\n",
      "  \"createdTimestamp\": 1684695784207,\n",
      "  \"username\": \"service-account-admin-demo\",\n",
      "  \"enabled\": true,\n",
      "  \"totp\": false,\n",
      "  \"emailVerified\": false,\n",
      "  \"disableableCredentialTypes\": [],\n",
      "  \"requiredActions\": [],\n",
      "  \"notBefore\": 0\n",
      "}\n",
      "role: {'id': '7b0c1803-ee97-49e3-ab7e-8953f3dc95d3', 'name': 'admin', 'description': '${role_admin}', 'composite': True, 'clientRole': False, 'containerId': '5b74dc7f-58f4-4273-8258-778ef3f9c6d5', 'attributes': {}}\n",
      "\n",
      "Assigning role to user 12d67dcf-2f5e-47a5-9248-d10987d247b3:\n",
      "{\n",
      "  \"id\": \"7b0c1803-ee97-49e3-ab7e-8953f3dc95d3\",\n",
      "  \"name\": \"admin\",\n",
      "  \"description\": \"${role_admin}\",\n",
      "  \"composite\": true,\n",
      "  \"clientRole\": false,\n",
      "  \"containerId\": \"5b74dc7f-58f4-4273-8258-778ef3f9c6d5\",\n",
      "  \"attributes\": {}\n",
      "}\n",
      "\n",
      "Created resources client:\n",
      "{\n",
      "  \"id\": \"ff902bea-fcfc-45ba-b38a-7978fe4e07b0\",\n",
      "  \"clientId\": \"resources-demo\",\n",
      "  \"adminUrl\": \"http://localhost:8080\",\n",
      "  \"baseUrl\": \"http://localhost:8080\",\n",
      "  \"surrogateAuthRequired\": false,\n",
      "  \"enabled\": true,\n",
      "  \"alwaysDisplayInConsole\": false,\n",
      "  \"clientAuthenticatorType\": \"client-secret\",\n",
      "  \"secret\": \"secret\",\n",
      "  \"redirectUris\": [\n",
      "    \"http://localhost:8080/*\"\n",
      "  ],\n",
      "  \"webOrigins\": [\n",
      "    \"http://localhost:8080\"\n",
      "  ],\n",
      "  \"notBefore\": 0,\n",
      "  \"bearerOnly\": false,\n",
      "  \"consentRequired\": false,\n",
      "  \"standardFlowEnabled\": true,\n",
      "  \"implicitFlowEnabled\": false,\n",
      "  \"directAccessGrantsEnabled\": true,\n",
      "  \"serviceAccountsEnabled\": true,\n",
      "  \"authorizationServicesEnabled\": true,\n",
      "  \"publicClient\": false,\n",
      "  \"frontchannelLogout\": false,\n",
      "  \"protocol\": \"openid-connect\",\n",
      "  \"attributes\": {},\n",
      "  \"authenticationFlowBindingOverrides\": {},\n",
      "  \"fullScopeAllowed\": true,\n",
      "  \"nodeReRegistrationTimeout\": -1,\n",
      "  \"protocolMappers\": [\n",
      "    {\n",
      "      \"id\": \"b00df825-b0ae-4c95-b072-bf1baae549e7\",\n",
      "      \"name\": \"Client IP Address\",\n",
      "      \"protocol\": \"openid-connect\",\n",
      "      \"protocolMapper\": \"oidc-usersessionmodel-note-mapper\",\n",
      "      \"consentRequired\": false,\n",
      "      \"config\": {\n",
      "        \"user.session.note\": \"clientAddress\",\n",
      "        \"id.token.claim\": \"true\",\n",
      "        \"access.token.claim\": \"true\",\n",
      "        \"claim.name\": \"clientAddress\",\n",
      "        \"jsonType.label\": \"String\"\n",
      "      }\n",
      "    },\n",
      "    {\n",
      "      \"id\": \"103b8174-8923-470b-826f-daceeaee69bf\",\n",
      "      \"name\": \"Client Host\",\n",
      "      \"protocol\": \"openid-connect\",\n",
      "      \"protocolMapper\": \"oidc-usersessionmodel-note-mapper\",\n",
      "      \"consentRequired\": false,\n",
      "      \"config\": {\n",
      "        \"user.session.note\": \"clientHost\",\n",
      "        \"id.token.claim\": \"true\",\n",
      "        \"access.token.claim\": \"true\",\n",
      "        \"claim.name\": \"clientHost\",\n",
      "        \"jsonType.label\": \"String\"\n",
      "      }\n",
      "    },\n",
      "    {\n",
      "      \"id\": \"cc69eedb-9d21-45e4-aa5a-1e30c63de656\",\n",
      "      \"name\": \"Client ID\",\n",
      "      \"protocol\": \"openid-connect\",\n",
      "      \"protocolMapper\": \"oidc-usersessionmodel-note-mapper\",\n",
      "      \"consentRequired\": false,\n",
      "      \"config\": {\n",
      "        \"user.session.note\": \"clientId\",\n",
      "        \"id.token.claim\": \"true\",\n",
      "        \"access.token.claim\": \"true\",\n",
      "        \"claim.name\": \"clientId\",\n",
      "        \"jsonType.label\": \"String\"\n",
      "      }\n",
      "    }\n",
      "  ],\n",
      "  \"defaultClientScopes\": [\n",
      "    \"web-origins\",\n",
      "    \"acr\",\n",
      "    \"roles\",\n",
      "    \"profile\",\n",
      "    \"email\"\n",
      "  ],\n",
      "  \"optionalClientScopes\": [\n",
      "    \"address\",\n",
      "    \"phone\",\n",
      "    \"offline_access\",\n",
      "    \"microprofile-jwt\"\n",
      "  ],\n",
      "  \"access\": {\n",
      "    \"view\": true,\n",
      "    \"configure\": true,\n",
      "    \"manage\": true\n",
      "  }\n",
      "}\n",
      "\n",
      "Created service account user:\n",
      "{\n",
      "  \"id\": \"8d7138d0-5a7c-4deb-8e76-b279081838d0\",\n",
      "  \"createdTimestamp\": 1684770464801,\n",
      "  \"username\": \"service-account-resources-demo\",\n",
      "  \"enabled\": true,\n",
      "  \"totp\": false,\n",
      "  \"emailVerified\": false,\n",
      "  \"disableableCredentialTypes\": [],\n",
      "  \"requiredActions\": [],\n",
      "  \"notBefore\": 0\n",
      "}\n",
      "\n",
      "Assigned role to resources client:\n",
      "uma_protection\n"
     ]
    }
   ],
   "source": [
    "keycloak = Client.DemoKeycloakClient(server_url, realm, \"admin\", \"admin_Abcd1234#\")"
   ],
   "metadata": {
    "collapsed": false
   }
  },
  {
   "cell_type": "markdown",
   "id": "usual-brazil",
   "metadata": {},
   "source": [
    "## User Authentication\n",
    "User authenticates and the client receives an ID Token (JWT) that represents the user, and is used to identify the user in UMA authorization flows."
   ]
  },
  {
   "cell_type": "markdown",
   "source": [
    "#### Create Users\n",
    "Create two users, an Eric and Alice both with user role."
   ],
   "metadata": {
    "collapsed": false
   }
  },
  {
   "cell_type": "code",
   "execution_count": 3,
   "outputs": [
    {
     "name": "stdout",
     "output_type": "stream",
     "text": [
      "Created user: 78519065-1da9-4105-b2d1-4e665079d2bf\n",
      "Created user: e31e573f-80f6-4032-a08c-971943a60750\n"
     ]
    }
   ],
   "source": [
    "keycloak.create_realm_role('user')\n",
    "eric_id = keycloak.create_user(\"eric\", \"eric\", [\"user\"])\n",
    "alice_id = keycloak.create_user(\"alice\", \"alice\", [\"user\"])"
   ],
   "metadata": {
    "collapsed": false
   }
  },
  {
   "cell_type": "markdown",
   "source": [
    "#### Inspect Eric User Token"
   ],
   "metadata": {
    "collapsed": false
   }
  },
  {
   "cell_type": "code",
   "execution_count": 4,
   "outputs": [
    {
     "name": "stdout",
     "output_type": "stream",
     "text": [
      "Eric token:\n",
      "{\n",
      "  \"access_token\": \"eyJhbGciOiJSUzI1NiIsInR5cCIgOiAiSldUIiwia2lkIiA6ICJXZWFIY2pscThPc1RUYjdlV0s5SjJTTDFBUDIyazZpajdlMGFlVHRNU2xRIn0.eyJleHAiOjE2ODY1MDYzNzIsImlhdCI6MTY4NjUwNjMxMiwianRpIjoiMTdjMTRlN2EtYmMyYS00OTZhLTk0MDYtYjZlZjZiNjViMGFlIiwiaXNzIjoiaHR0cHM6Ly9rZXljbG9hay5kZXZlbG9wLmVvZXBjYS5vcmcvcmVhbG1zL21hc3RlciIsImF1ZCI6ImFjY291bnQiLCJzdWIiOiI3ODUxOTA2NS0xZGE5LTQxMDUtYjJkMS00ZTY2NTA3OWQyYmYiLCJ0eXAiOiJCZWFyZXIiLCJhenAiOiJhZG1pbi1kZW1vIiwic2Vzc2lvbl9zdGF0ZSI6ImZkMTA5YWY0LTliYWItNDI5OS04MjEzLWYyMTI4MDIyMzUwYiIsImFjciI6IjEiLCJyZWFsbV9hY2Nlc3MiOnsicm9sZXMiOlsiZGVmYXVsdC1yb2xlcy1tYXN0ZXIiLCJvZmZsaW5lX2FjY2VzcyIsInVtYV9hdXRob3JpemF0aW9uIiwidXNlci1wcmVtaXVtIiwidXNlciJdfSwicmVzb3VyY2VfYWNjZXNzIjp7ImFjY291bnQiOnsicm9sZXMiOlsibWFuYWdlLWFjY291bnQiLCJtYW5hZ2UtYWNjb3VudC1saW5rcyIsInZpZXctcHJvZmlsZSJdfX0sInNjb3BlIjoib3BlbmlkIGVtYWlsIHByb2ZpbGUiLCJzaWQiOiJmZDEwOWFmNC05YmFiLTQyOTktODIxMy1mMjEyODAyMjM1MGIiLCJlbWFpbF92ZXJpZmllZCI6ZmFsc2UsInByZWZlcnJlZF91c2VybmFtZSI6ImVyaWMifQ.mT-hdPQOwK15QLm5qrEU-H2fh8opv6CgWCMrPV-9bQOMRg9hr1Td62Os9tJ5pyWPyX0qCrBcR0a2N1qxqVMLBbmJgQy4Iw-jxZ5kQ7k0-m8TJeQjLPhhanUlFaBnlx04z8OoGm61hwNT40Qz4Y3_-4O0Rxe4gICjRDrHnz4q5vv4gmgbh6sqQOXv1hSxBIt05-fARmQYnycfgtbYIuf0J9wMUiDMPHZWPTwbQSEuR400x0xCKaJmLlH3IH469ptbqI2PThTjmrQVmLdehOz167raVT7Lqd-b3dxaBi-E25wr14X-L3hEe2odaD7pqkFLLTftlFBK2EkWV29jW9xegQ\",\n",
      "  \"expires_in\": 60,\n",
      "  \"refresh_expires_in\": 1800,\n",
      "  \"refresh_token\": \"eyJhbGciOiJIUzI1NiIsInR5cCIgOiAiSldUIiwia2lkIiA6ICJiM2QxNjAzYy03MDNhLTQxMTktODliNC1jNzRhZDliMjA3ZDMifQ.eyJleHAiOjE2ODY1MDgxMTIsImlhdCI6MTY4NjUwNjMxMiwianRpIjoiOTdiMWMyOTYtMmQzZS00ZmMzLWJhNTgtZGYyYmUyOWE0MmQzIiwiaXNzIjoiaHR0cHM6Ly9rZXljbG9hay5kZXZlbG9wLmVvZXBjYS5vcmcvcmVhbG1zL21hc3RlciIsImF1ZCI6Imh0dHBzOi8va2V5Y2xvYWsuZGV2ZWxvcC5lb2VwY2Eub3JnL3JlYWxtcy9tYXN0ZXIiLCJzdWIiOiI3ODUxOTA2NS0xZGE5LTQxMDUtYjJkMS00ZTY2NTA3OWQyYmYiLCJ0eXAiOiJSZWZyZXNoIiwiYXpwIjoiYWRtaW4tZGVtbyIsInNlc3Npb25fc3RhdGUiOiJmZDEwOWFmNC05YmFiLTQyOTktODIxMy1mMjEyODAyMjM1MGIiLCJzY29wZSI6Im9wZW5pZCBlbWFpbCBwcm9maWxlIiwic2lkIjoiZmQxMDlhZjQtOWJhYi00Mjk5LTgyMTMtZjIxMjgwMjIzNTBiIn0.ZhSoLWrH1aWfYWRlPYZUqosTQ8xIjKH1NShzw3bWKDk\",\n",
      "  \"token_type\": \"Bearer\",\n",
      "  \"id_token\": \"eyJhbGciOiJSUzI1NiIsInR5cCIgOiAiSldUIiwia2lkIiA6ICJXZWFIY2pscThPc1RUYjdlV0s5SjJTTDFBUDIyazZpajdlMGFlVHRNU2xRIn0.eyJleHAiOjE2ODY1MDYzNzIsImlhdCI6MTY4NjUwNjMxMiwiYXV0aF90aW1lIjowLCJqdGkiOiJiMjhlYTFjZC04ZGNiLTQzNGEtYjgyMy0xZTRiMjZkNjE4MjciLCJpc3MiOiJodHRwczovL2tleWNsb2FrLmRldmVsb3AuZW9lcGNhLm9yZy9yZWFsbXMvbWFzdGVyIiwiYXVkIjoiYWRtaW4tZGVtbyIsInN1YiI6Ijc4NTE5MDY1LTFkYTktNDEwNS1iMmQxLTRlNjY1MDc5ZDJiZiIsInR5cCI6IklEIiwiYXpwIjoiYWRtaW4tZGVtbyIsInNlc3Npb25fc3RhdGUiOiJmZDEwOWFmNC05YmFiLTQyOTktODIxMy1mMjEyODAyMjM1MGIiLCJhdF9oYXNoIjoiRWhUc1hjdnBpN2hhdVRsMGRkS3FNdyIsImFjciI6IjEiLCJzaWQiOiJmZDEwOWFmNC05YmFiLTQyOTktODIxMy1mMjEyODAyMjM1MGIiLCJlbWFpbF92ZXJpZmllZCI6ZmFsc2UsInByZWZlcnJlZF91c2VybmFtZSI6ImVyaWMifQ.HvQ0pwnugOsbbsxVhqrdyjHKwTaM4u4u2Z7mNofKTEB8utg06fw9bfV1CCCgdJVESLFGDXpjQWduYc8eVjcZRXVEoFSlFkO-YPWawx99Q8MeMCw7hEcCKndnaKmD7EzjWMzDx60LlkaU52QfvHDjZmUOeXy26nt1w0fWLT3Rt0TaR9e4TiaplYhgTMax2LeIZgiHA4lZJw__-qLfBvJKataveUgPiCbv54CjxFjzR5ZkZMUXZS8MSGpP2UbZc-Ssb957h4MZsE-tIrkdImYG1mKQTVynUfJjohLmYh4TSJ0wszwQJJXzgKUw8GXHzxoI8ckVtyFL8xfullK3BI1CIQ\",\n",
      "  \"not-before-policy\": 0,\n",
      "  \"session_state\": \"fd109af4-9bab-4299-8213-f2128022350b\",\n",
      "  \"scope\": \"openid email profile\"\n",
      "}\n",
      "JWT Header:\n",
      "{\n",
      "  \"alg\": \"RS256\",\n",
      "  \"typ\": \"JWT\",\n",
      "  \"kid\": \"WeaHcjlq8OsTTb7eWK9J2SL1AP22k6ij7e0aeTtMSlQ\"\n",
      "}\n",
      "JWT Payload:\n",
      "{\n",
      "  \"exp\": 1686506372,\n",
      "  \"iat\": 1686506312,\n",
      "  \"jti\": \"17c14e7a-bc2a-496a-9406-b6ef6b65b0ae\",\n",
      "  \"iss\": \"https://keycloak.develop.eoepca.org/realms/master\",\n",
      "  \"aud\": \"account\",\n",
      "  \"sub\": \"78519065-1da9-4105-b2d1-4e665079d2bf\",\n",
      "  \"typ\": \"Bearer\",\n",
      "  \"azp\": \"admin-demo\",\n",
      "  \"session_state\": \"fd109af4-9bab-4299-8213-f2128022350b\",\n",
      "  \"acr\": \"1\",\n",
      "  \"realm_access\": {\n",
      "    \"roles\": [\n",
      "      \"default-roles-master\",\n",
      "      \"offline_access\",\n",
      "      \"uma_authorization\",\n",
      "      \"user-premium\",\n",
      "      \"user\"\n",
      "    ]\n",
      "  },\n",
      "  \"resource_access\": {\n",
      "    \"account\": {\n",
      "      \"roles\": [\n",
      "        \"manage-account\",\n",
      "        \"manage-account-links\",\n",
      "        \"view-profile\"\n",
      "      ]\n",
      "    }\n",
      "  },\n",
      "  \"scope\": \"openid email profile\",\n",
      "  \"sid\": \"fd109af4-9bab-4299-8213-f2128022350b\",\n",
      "  \"email_verified\": false,\n",
      "  \"preferred_username\": \"eric\"\n",
      "}\n"
     ]
    }
   ],
   "source": [
    "token = keycloak.get_user_token(\"eric\", \"eric\")\n",
    "print(\"Eric token:\\n\" + json.dumps(token, indent = 2))\n",
    "eric_access_token = token['access_token']\n",
    "jwt_header = jwt.get_unverified_header(eric_access_token)\n",
    "print(\"JWT Header:\\n\" + json.dumps(jwt_header, indent = 2))\n",
    "jwt_payload = jwt.decode(eric_access_token, options={\"verify_signature\": False})\n",
    "print(\"JWT Payload:\\n\" + json.dumps(jwt_payload, indent = 2))"
   ],
   "metadata": {
    "collapsed": false
   }
  },
  {
   "cell_type": "markdown",
   "source": [
    "#### Inspect Alice User Token"
   ],
   "metadata": {
    "collapsed": false
   }
  },
  {
   "cell_type": "code",
   "execution_count": 5,
   "outputs": [
    {
     "ename": "TypeError",
     "evalue": "DemoKeycloakClient.get_user_token() takes from 1 to 3 positional arguments but 4 were given",
     "output_type": "error",
     "traceback": [
      "\u001B[1;31m---------------------------------------------------------------------------\u001B[0m",
      "\u001B[1;31mTypeError\u001B[0m                                 Traceback (most recent call last)",
      "Cell \u001B[1;32mIn[5], line 1\u001B[0m\n\u001B[1;32m----> 1\u001B[0m token \u001B[38;5;241m=\u001B[39m \u001B[43mkeycloak\u001B[49m\u001B[38;5;241;43m.\u001B[39;49m\u001B[43mget_user_token\u001B[49m\u001B[43m(\u001B[49m\u001B[38;5;124;43m\"\u001B[39;49m\u001B[38;5;124;43malice\u001B[39;49m\u001B[38;5;124;43m\"\u001B[39;49m\u001B[43m,\u001B[49m\u001B[43m \u001B[49m\u001B[38;5;124;43m\"\u001B[39;49m\u001B[38;5;124;43malice\u001B[39;49m\u001B[38;5;124;43m\"\u001B[39;49m\u001B[43m,\u001B[49m\u001B[43m \u001B[49m\u001B[43mkeycloak\u001B[49m\u001B[38;5;241;43m.\u001B[39;49m\u001B[43mkeycloak_admin_openid\u001B[49m\u001B[43m)\u001B[49m\n\u001B[0;32m      2\u001B[0m \u001B[38;5;28mprint\u001B[39m(\u001B[38;5;124m\"\u001B[39m\u001B[38;5;124mEric token:\u001B[39m\u001B[38;5;130;01m\\n\u001B[39;00m\u001B[38;5;124m\"\u001B[39m \u001B[38;5;241m+\u001B[39m json\u001B[38;5;241m.\u001B[39mdumps(token, indent \u001B[38;5;241m=\u001B[39m \u001B[38;5;241m2\u001B[39m))\n\u001B[0;32m      3\u001B[0m alice_access_token \u001B[38;5;241m=\u001B[39m token[\u001B[38;5;124m'\u001B[39m\u001B[38;5;124maccess_token\u001B[39m\u001B[38;5;124m'\u001B[39m]\n",
      "\u001B[1;31mTypeError\u001B[0m: DemoKeycloakClient.get_user_token() takes from 1 to 3 positional arguments but 4 were given"
     ]
    }
   ],
   "source": [
    "token = keycloak.get_user_token(\"alice\", \"alice\", keycloak.keycloak_admin_openid)\n",
    "print(\"Eric token:\\n\" + json.dumps(token, indent = 2))\n",
    "alice_access_token = token['access_token']\n",
    "jwt_header = jwt.get_unverified_header(alice_access_token)\n",
    "print(\"JWT Header:\\n\" + json.dumps(jwt_header, indent = 2))\n",
    "jwt_payload = jwt.decode(alice_access_token, options={\"verify_signature\": False})\n",
    "print(\"JWT Payload:\\n\" + json.dumps(jwt_payload, indent = 2))"
   ],
   "metadata": {
    "collapsed": false
   }
  },
  {
   "cell_type": "markdown",
   "source": [
    "The ID Token (JWT) identifies the user via user_name / sub (Subject) fields, and the client via the aud (Audience) field. The JWT is signed and can be verified, using the kid (Key ID) field, via the JWKS endpoint of the Authorization Server."
   ],
   "metadata": {
    "collapsed": false
   }
  },
  {
   "cell_type": "markdown",
   "source": [
    "## Protect resources\n",
    "Access a protected resources using UMA flow"
   ],
   "metadata": {
    "collapsed": false
   }
  },
  {
   "cell_type": "markdown",
   "source": [
    "#### Assign premium role to Eric\n",
    "Roles are used to define policies that will protect resources based on roles - Role-based access control (RBAC)"
   ],
   "metadata": {
    "collapsed": false
   }
  },
  {
   "cell_type": "code",
   "execution_count": null,
   "outputs": [],
   "source": [
    "keycloak.create_realm_role('user-premium')\n",
    "keycloak.assign_realm_role_to_user(eric_id, 'user-premium')"
   ],
   "metadata": {
    "collapsed": false
   }
  },
  {
   "cell_type": "markdown",
   "source": [
    "#### Register resources\n",
    "Register protected resources"
   ],
   "metadata": {
    "collapsed": false
   }
  },
  {
   "cell_type": "code",
   "execution_count": null,
   "outputs": [],
   "source": [
    "resources = [\n",
    "    {\n",
    "        \"name\": \"Default Resource\",\n",
    "        \"uri\": \"/*\"\n",
    "    },\n",
    "    {\n",
    "        'name': 'Protected Resource',\n",
    "        'icon_uri': '/protected/*',\n",
    "    },\n",
    "    {\n",
    "        \"name\": \"Premium Resource\",\n",
    "        \"uri\": \"/protected/premium/*\"\n",
    "    }\n",
    "]\n",
    "keycloak.register_resources(resources)"
   ],
   "metadata": {
    "collapsed": false
   }
  },
  {
   "cell_type": "markdown",
   "source": [
    "Right now, resources are protected by a default policy, which grants access to users within the realm.\n",
    "Let's see how Keycloak protects resources using role based and user based policies."
   ],
   "metadata": {
    "collapsed": false
   }
  },
  {
   "cell_type": "markdown",
   "source": [
    "#### Register policies\n",
    "Register role based and user based policies"
   ],
   "metadata": {
    "collapsed": false
   }
  },
  {
   "cell_type": "code",
   "execution_count": null,
   "outputs": [],
   "source": [
    "keycloak.register_role_policy(\"Only Premium User Policy\", \"user-premium\")\n",
    "keycloak.register_user_policy(\"Only Eric User Policy\", [eric_id])"
   ],
   "metadata": {
    "collapsed": false
   }
  },
  {
   "cell_type": "markdown",
   "source": [
    "#### Register resource permissions\n",
    "Resources permissions are set by assigning policies to resources."
   ],
   "metadata": {
    "collapsed": false
   }
  },
  {
   "cell_type": "code",
   "execution_count": null,
   "outputs": [],
   "source": [
    "permissions = [\n",
    "    {\n",
    "        \"name\": \"Default Resource Permission\",\n",
    "        \"type\": \"resource\",\n",
    "        \"logic\": \"POSITIVE\",\n",
    "        \"decisionStrategy\": \"UNANIMOUS\",\n",
    "        \"resources\": [\n",
    "            \"Default Resource\"\n",
    "        ],\n",
    "        \"policies\": [\n",
    "            \"Default Policy\"\n",
    "        ]\n",
    "    },\n",
    "    {\n",
    "        \"name\": \"Premium Resource Permission\",\n",
    "        \"type\": \"resource\",\n",
    "        \"logic\": \"POSITIVE\",\n",
    "        \"decisionStrategy\": \"UNANIMOUS\",\n",
    "        \"resources\": [\n",
    "            \"Premium Resource\"\n",
    "        ],\n",
    "        \"policies\": [\n",
    "            \"Only Premium User Policy\"\n",
    "        ]\n",
    "    },\n",
    "    {\n",
    "        \"name\": \"Protected Resource Permission\",\n",
    "        \"type\": \"resource\",\n",
    "        \"logic\": \"POSITIVE\",\n",
    "        \"decisionStrategy\": \"UNANIMOUS\",\n",
    "        \"resources\": [\n",
    "            \"Protected Resource\"\n",
    "        ],\n",
    "        \"policies\": [\n",
    "            \"Only User Policy\"\n",
    "        ]\n",
    "\n",
    "    }\n",
    "]\n",
    "keycloak.assign_resources_permissions(permissions)"
   ],
   "metadata": {
    "collapsed": false
   }
  },
  {
   "cell_type": "markdown",
   "source": [
    "#### Get PAT (Protection API token)\n",
    "PAT (Protection API token) is used to access Keycloak's Protection API, which manages resources and policies."
   ],
   "metadata": {
    "collapsed": false
   }
  },
  {
   "cell_type": "code",
   "execution_count": null,
   "outputs": [],
   "source": [
    "pat = keycloak.generate_protection_pat()\n",
    "print(json.dumps(pat, indent=2))\n",
    "access_token = pat['access_token']"
   ],
   "metadata": {
    "collapsed": false
   }
  },
  {
   "cell_type": "markdown",
   "source": [],
   "metadata": {
    "collapsed": false
   }
  },
  {
   "cell_type": "markdown",
   "source": [
    "### Get Resource Id\n",
    "Get Premium Resource id"
   ],
   "metadata": {
    "collapsed": false
   }
  },
  {
   "cell_type": "code",
   "execution_count": null,
   "outputs": [],
   "source": [
    "# it's possible to query resources by many fields, including name and uri\n",
    "protected_resource_id = keycloak.get_resource_id(name=\"Premium Resource\")[0]\n",
    "print(protected_resource_id)\n",
    "protected_resource_id = keycloak.get_resource_id(uri=\"/protected/premium/*\")[0]\n",
    "print(protected_resource_id)"
   ],
   "metadata": {
    "collapsed": false
   }
  },
  {
   "cell_type": "markdown",
   "source": [
    "#### Get UMA access token for premium resource for both Eric and Alice"
   ],
   "metadata": {
    "collapsed": false
   }
  },
  {
   "cell_type": "code",
   "execution_count": null,
   "outputs": [],
   "source": [
    "uma_ticket = keycloak.create_permission_ticket(resources=[protected_resource_id])['ticket']\n",
    "print('UMA ticket for resource ' + protected_resource_id + ':\\n' + uma_ticket)\n",
    "eric_access_token = keycloak.get_token(\"eric\", \"eric\", keycloak.keycloak_uma_openid)['access_token']\n",
    "eric_rpt = keycloak.get_rpt(eric_access_token, uma_ticket)['access_token']\n",
    "print('Eric RPT:\\n' + str(eric_rpt))"
   ],
   "metadata": {
    "collapsed": false
   }
  },
  {
   "cell_type": "code",
   "execution_count": null,
   "outputs": [],
   "source": [
    "uma_ticket = keycloak.create_permission_ticket(resources=[protected_resource_id])['ticket']\n",
    "print('UMA ticket for resource ' + protected_resource_id + ':\\n' + uma_ticket)\n",
    "alice_access_token = keycloak.get_user_token(\"alice\", \"alice\", keycloak.keycloak_uma_openid)['access_token']\n",
    "try:\n",
    "    alice_uma_access_token = keycloak.get_uma_token(alice_access_token, uma_ticket)['access_token']\n",
    "except KeycloakPostError as e:\n",
    "    print(str(e))"
   ],
   "metadata": {
    "collapsed": false
   }
  },
  {
   "cell_type": "markdown",
   "source": [
    "Trying to get a UMA token for Alice results in a 403 Forbidden Error. The reason being Alice is not allowed to access the `/protected/premium/*` resource because it's protected by a `user-premium` role which Alice does not have."
   ],
   "metadata": {
    "collapsed": false
   }
  },
  {
   "cell_type": "markdown",
   "source": [
    "#### Use Eric UMA access token to access the premium resource"
   ],
   "metadata": {
    "collapsed": false
   }
  },
  {
   "cell_type": "code",
   "execution_count": null,
   "outputs": [],
   "source": [
    "headers = {\n",
    "    \"cache-control\": \"no-cache\",\n",
    "    \"Authorization\": \"Bearer \" + eric_rpt\n",
    "}\n",
    "premium_resource_url = \"http://localhost:8080/protected/premium\"\n",
    "print('GET ' + premium_resource_url)\n",
    "response = requests.get(premium_resource_url, headers=headers, verify=False)\n",
    "print(str(response.status_code))"
   ],
   "metadata": {
    "collapsed": false
   }
  },
  {
   "cell_type": "markdown",
   "source": [
    "The expected result is 200, meaning a successfuly access to the protected resource by Eric."
   ],
   "metadata": {
    "collapsed": false
   }
  },
  {
   "cell_type": "code",
   "execution_count": null,
   "outputs": [],
   "source": [
    "token = keycloak.get_token(\"eric\", \"eric\", keycloak.keycloak_uma_openid)['access_token']"
   ],
   "metadata": {
    "collapsed": false
   }
  }
 ],
 "metadata": {
  "kernelspec": {
   "display_name": "Python 3 (ipykernel)",
   "language": "python",
   "name": "python3"
  },
  "language_info": {
   "codemirror_mode": {
    "name": "ipython",
    "version": 3
   },
   "file_extension": ".py",
   "mimetype": "text/x-python",
   "name": "python",
   "nbconvert_exporter": "python",
   "pygments_lexer": "ipython3",
   "version": "3.10.0"
  }
 },
 "nbformat": 4,
 "nbformat_minor": 5
}
