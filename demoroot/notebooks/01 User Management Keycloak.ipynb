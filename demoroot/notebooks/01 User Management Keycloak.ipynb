{
 "cells": [
  {
   "cell_type": "markdown",
   "id": "fourth-founder",
   "metadata": {},
   "source": [
    "## User Management (Keycloak)\n",
    "Interaction with EOEPCA endpoint using python Demo Client."
   ]
  },
  {
   "cell_type": "code",
   "execution_count": null,
   "id": "swiss-sender",
   "metadata": {},
   "outputs": [],
   "source": [
    "import utils.DemoKeycloakClient as Client\n",
    "import jwt\n",
    "import json\n",
    "import requests\n",
    "from keycloak import KeycloakPostError\n",
    "\n",
    "base_domain = \"develop.eoepca.org\"\n",
    "platform_domain = f\"keycloak.{base_domain}\"\n",
    "server_url = f\"https://{platform_domain}\"\n",
    "realm = \"master\""
   ]
  },
  {
   "cell_type": "markdown",
   "id": "modular-wages",
   "metadata": {},
   "source": [
    "## Client\n",
    "We instantiate an object to interact with the platform. The object dynamically registers two Keycloak clients, one with admin privileges, another to act as a resource server to demo resources protection using UMA (User Managed Access)."
   ]
  },
  {
   "cell_type": "code",
   "execution_count": null,
   "outputs": [],
   "source": [
    "keycloak = Client.DemoKeycloakClient(server_url, realm, \"admin\", \"admin_Abcd1234#\")"
   ],
   "metadata": {
    "collapsed": false
   }
  },
  {
   "cell_type": "markdown",
   "id": "usual-brazil",
   "metadata": {},
   "source": [
    "## User Authentication\n",
    "User authenticates and the client receives an ID Token (JWT) that represents the user, and is used to identify the user in UMA authorization flows."
   ]
  },
  {
   "cell_type": "markdown",
   "source": [
    "#### Create Users\n",
    "Create two users, an Eric and Alice both with user role."
   ],
   "metadata": {
    "collapsed": false
   }
  },
  {
   "cell_type": "code",
   "execution_count": null,
   "outputs": [],
   "source": [
    "keycloak.create_realm_role('user')\n",
    "eric_id = keycloak.create_user(\"eric\", \"eric\", [\"user\"])\n",
    "alice_id = keycloak.create_user(\"alice\", \"alice\", [\"user\"])"
   ],
   "metadata": {
    "collapsed": false
   }
  },
  {
   "cell_type": "markdown",
   "source": [
    "#### Inspect Eric User Token"
   ],
   "metadata": {
    "collapsed": false
   }
  },
  {
   "cell_type": "code",
   "execution_count": null,
   "outputs": [],
   "source": [
    "token = keycloak.get_user_token(\"eric\", \"eric\")\n",
    "print(\"Eric token:\\n\" + json.dumps(token, indent = 2))\n",
    "eric_access_token = token['access_token']\n",
    "jwt_header = jwt.get_unverified_header(eric_access_token)\n",
    "print(\"JWT Header:\\n\" + json.dumps(jwt_header, indent = 2))\n",
    "jwt_payload = jwt.decode(eric_access_token, options={\"verify_signature\": False})\n",
    "print(\"JWT Payload:\\n\" + json.dumps(jwt_payload, indent = 2))"
   ],
   "metadata": {
    "collapsed": false
   }
  },
  {
   "cell_type": "markdown",
   "source": [
    "#### Inspect Alice User Token"
   ],
   "metadata": {
    "collapsed": false
   }
  },
  {
   "cell_type": "code",
   "execution_count": null,
   "outputs": [],
   "source": [
    "token = keycloak.get_user_token(\"alice\", \"alice\")\n",
    "print(\"Eric token:\\n\" + json.dumps(token, indent = 2))\n",
    "alice_access_token = token['access_token']\n",
    "jwt_header = jwt.get_unverified_header(alice_access_token)\n",
    "print(\"JWT Header:\\n\" + json.dumps(jwt_header, indent = 2))\n",
    "jwt_payload = jwt.decode(alice_access_token, options={\"verify_signature\": False})\n",
    "print(\"JWT Payload:\\n\" + json.dumps(jwt_payload, indent = 2))"
   ],
   "metadata": {
    "collapsed": false
   }
  },
  {
   "cell_type": "markdown",
   "source": [
    "The ID Token (JWT) identifies the user via user_name / sub (Subject) fields, and the client via the aud (Audience) field. The JWT is signed and can be verified, using the kid (Key ID) field, via the JWKS endpoint of the Authorization Server."
   ],
   "metadata": {
    "collapsed": false
   }
  },
  {
   "cell_type": "markdown",
   "source": [
    "## Protect resources\n",
    "Access a protected resources using UMA flow"
   ],
   "metadata": {
    "collapsed": false
   }
  },
  {
   "cell_type": "markdown",
   "source": [
    "#### Assign premium role to Eric\n",
    "Roles are used to define policies that will protect resources based on roles - Role-based access control (RBAC)"
   ],
   "metadata": {
    "collapsed": false
   }
  },
  {
   "cell_type": "code",
   "execution_count": null,
   "outputs": [],
   "source": [
    "keycloak.create_realm_role('user-premium')\n",
    "keycloak.assign_realm_role_to_user(eric_id, 'user-premium')"
   ],
   "metadata": {
    "collapsed": false
   }
  },
  {
   "cell_type": "markdown",
   "source": [
    "#### Register resources\n",
    "Register protected resources"
   ],
   "metadata": {
    "collapsed": false
   }
  },
  {
   "cell_type": "code",
   "execution_count": null,
   "outputs": [],
   "source": [
    "resources = [\n",
    "    {\n",
    "        \"name\": \"Default Resource\",\n",
    "        \"uri\": \"/*\"\n",
    "    },\n",
    "    {\n",
    "        'name': 'Protected Resource',\n",
    "        'icon_uri': '/protected/*',\n",
    "    },\n",
    "    {\n",
    "        \"name\": \"Premium Resource\",\n",
    "        \"uri\": \"/protected/premium/*\"\n",
    "    }\n",
    "]\n",
    "keycloak.register_resources(resources)"
   ],
   "metadata": {
    "collapsed": false
   }
  },
  {
   "cell_type": "markdown",
   "source": [
    "Right now, resources are protected by a default policy, which grants access to users within the realm.\n",
    "Let's see how Keycloak protects resources using role based and user based policies."
   ],
   "metadata": {
    "collapsed": false
   }
  },
  {
   "cell_type": "markdown",
   "source": [
    "#### Register policies\n",
    "Register role based and user based policies"
   ],
   "metadata": {
    "collapsed": false
   }
  },
  {
   "cell_type": "code",
   "execution_count": null,
   "outputs": [],
   "source": [
    "keycloak.register_role_policy(\"Only Premium User Policy\", \"user-premium\")\n",
    "keycloak.register_user_policy(\"Only Eric User Policy\", [eric_id])"
   ],
   "metadata": {
    "collapsed": false
   }
  },
  {
   "cell_type": "markdown",
   "source": [
    "#### Register resource permissions\n",
    "Resources permissions are set by assigning policies to resources."
   ],
   "metadata": {
    "collapsed": false
   }
  },
  {
   "cell_type": "code",
   "execution_count": null,
   "outputs": [],
   "source": [
    "permissions = [\n",
    "    {\n",
    "        \"name\": \"Default Resource Permission\",\n",
    "        \"type\": \"resource\",\n",
    "        \"logic\": \"POSITIVE\",\n",
    "        \"decisionStrategy\": \"UNANIMOUS\",\n",
    "        \"resources\": [\n",
    "            \"Default Resource\"\n",
    "        ],\n",
    "        \"policies\": [\n",
    "            \"Default Policy\"\n",
    "        ]\n",
    "    },\n",
    "    {\n",
    "        \"name\": \"Premium Resource Permission\",\n",
    "        \"type\": \"resource\",\n",
    "        \"logic\": \"POSITIVE\",\n",
    "        \"decisionStrategy\": \"UNANIMOUS\",\n",
    "        \"resources\": [\n",
    "            \"Premium Resource\"\n",
    "        ],\n",
    "        \"policies\": [\n",
    "            \"Only Premium User Policy\"\n",
    "        ]\n",
    "    },\n",
    "    {\n",
    "        \"name\": \"Protected Resource Permission\",\n",
    "        \"type\": \"resource\",\n",
    "        \"logic\": \"POSITIVE\",\n",
    "        \"decisionStrategy\": \"UNANIMOUS\",\n",
    "        \"resources\": [\n",
    "            \"Protected Resource\"\n",
    "        ],\n",
    "        \"policies\": [\n",
    "            \"Only User Policy\"\n",
    "        ]\n",
    "\n",
    "    }\n",
    "]\n",
    "keycloak.assign_resources_permissions(permissions)"
   ],
   "metadata": {
    "collapsed": false
   }
  },
  {
   "cell_type": "markdown",
   "source": [
    "#### Get PAT (Protection API token)\n",
    "PAT (Protection API token) is used to access Keycloak's Protection API, which manages resources and policies."
   ],
   "metadata": {
    "collapsed": false
   }
  },
  {
   "cell_type": "code",
   "execution_count": null,
   "outputs": [],
   "source": [
    "pat = keycloak.generate_protection_pat()\n",
    "print(json.dumps(pat, indent=2))\n",
    "access_token = pat['access_token']"
   ],
   "metadata": {
    "collapsed": false
   }
  },
  {
   "cell_type": "markdown",
   "source": [],
   "metadata": {
    "collapsed": false
   }
  },
  {
   "cell_type": "markdown",
   "source": [
    "### Get Resource Id\n",
    "Get Premium Resource id"
   ],
   "metadata": {
    "collapsed": false
   }
  },
  {
   "cell_type": "code",
   "execution_count": null,
   "outputs": [],
   "source": [
    "# it's possible to query resources by many fields, including name and uri\n",
    "protected_resource_id = keycloak.get_resource_id(name=\"Premium Resource\")[0]\n",
    "print(protected_resource_id)\n",
    "protected_resource_id = keycloak.get_resource_id(uri=\"/protected/premium/*\")[0]\n",
    "print(protected_resource_id)"
   ],
   "metadata": {
    "collapsed": false
   }
  },
  {
   "cell_type": "markdown",
   "source": [
    "#### Get UMA access token for premium resource for both Eric and Alice"
   ],
   "metadata": {
    "collapsed": false
   }
  },
  {
   "cell_type": "code",
   "execution_count": null,
   "outputs": [],
   "source": [
    "uma_ticket = keycloak.create_permission_ticket(resources=[protected_resource_id])['ticket']\n",
    "print('UMA ticket for resource ' + protected_resource_id + ':\\n' + uma_ticket)\n",
    "eric_access_token = keycloak.get_user_token(\"eric\", \"eric\")['access_token']\n",
    "eric_rpt = keycloak.get_rpt(eric_access_token, uma_ticket)['access_token']\n",
    "print('Eric RPT:\\n' + str(eric_rpt))"
   ],
   "metadata": {
    "collapsed": false
   }
  },
  {
   "cell_type": "code",
   "execution_count": null,
   "outputs": [],
   "source": [
    "uma_ticket = keycloak.create_permission_ticket(resources=[protected_resource_id])['ticket']\n",
    "print('UMA ticket for resource ' + protected_resource_id + ':\\n' + uma_ticket)\n",
    "alice_access_token = keycloak.get_user_token(\"alice\", \"alice\")['access_token']\n",
    "try:\n",
    "    alice_uma_access_token = keycloak.get_rpt(alice_access_token, uma_ticket)['access_token']\n",
    "except KeycloakPostError as e:\n",
    "    print(str(e))"
   ],
   "metadata": {
    "collapsed": false
   }
  },
  {
   "cell_type": "markdown",
   "source": [
    "Trying to get a UMA token for Alice results in a 403 Forbidden Error. The reason being Alice is not allowed to access the `/protected/premium/*` resource because it's protected by a `user-premium` role which Alice does not have."
   ],
   "metadata": {
    "collapsed": false
   }
  },
  {
   "cell_type": "markdown",
   "source": [
    "#### Use Eric UMA access token to access the premium resource"
   ],
   "metadata": {
    "collapsed": false
   }
  },
  {
   "cell_type": "code",
   "execution_count": null,
   "outputs": [],
   "source": [
    "headers = {\n",
    "    \"cache-control\": \"no-cache\",\n",
    "    \"Authorization\": \"Bearer \" + eric_rpt\n",
    "}\n",
    "premium_resource_url = \"http://localhost:8080/protected/premium\"\n",
    "print('GET ' + premium_resource_url)\n",
    "response = requests.get(premium_resource_url, headers=headers, verify=False)\n",
    "print(str(response.status_code))"
   ],
   "metadata": {
    "collapsed": false
   }
  },
  {
   "cell_type": "markdown",
   "source": [
    "The expected result is 200 (or 404 if the demo app isn't running), meaning a successfuly access to the protected resource by Eric."
   ],
   "metadata": {
    "collapsed": false
   }
  }
 ],
 "metadata": {
  "kernelspec": {
   "display_name": "Python 3 (ipykernel)",
   "language": "python",
   "name": "python3"
  },
  "language_info": {
   "codemirror_mode": {
    "name": "ipython",
    "version": 3
   },
   "file_extension": ".py",
   "mimetype": "text/x-python",
   "name": "python",
   "nbconvert_exporter": "python",
   "pygments_lexer": "ipython3",
   "version": "3.10.0"
  }
 },
 "nbformat": 4,
 "nbformat_minor": 5
}
