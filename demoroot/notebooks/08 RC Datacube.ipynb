{
 "cells": [
  {
   "cell_type": "markdown",
   "id": "8711be07-5bd3-44cb-88c7-51ba566cd1dd",
   "metadata": {
    "tags": []
   },
   "source": [
    "# Datacube extension testing in the Resource Catalogue\n",
    "\n",
    "## Introduction\n",
    "\n",
    "This notebook is used for testing datacube support in the Resource Catalogue. \\\n",
    "Eventually, it will be integrated into the EOEPCA notebook 04 Resource Catalogue. \\\n",
    "\n",
    "## Description\n",
    "\n",
    "The notebook is divided into several sections to make it easier to understand.\n",
    "\n"
   ]
  },
  {
   "cell_type": "markdown",
   "id": "2322f2b6-160e-4707-825f-797313ea6a35",
   "metadata": {},
   "source": [
    "## Section 1: Imports and EOEPCA connection setup\n",
    "This section includes importing everything from the 04 notebook. \\\n",
    "It also includes the initial code blocks as these are used to setup the domain variables. \\\n",
    "Some information related to csw and the domain is printed as a check."
   ]
  },
  {
   "cell_type": "code",
   "execution_count": null,
   "id": "1b033d27-e72e-47f2-bc7e-67dee474c1de",
   "metadata": {},
   "outputs": [],
   "source": [
    "from owslib.csw import CatalogueServiceWeb\n",
    "from owslib.ogcapi.records import Records\n",
    "from owslib.fes import And, Or, PropertyIsEqualTo, PropertyIsGreaterThanOrEqualTo, PropertyIsLessThanOrEqualTo, PropertyIsLike, BBox, SortBy, SortProperty\n",
    "from geolinks import sniff_link\n"
   ]
  },
  {
   "cell_type": "code",
   "execution_count": null,
   "id": "4715df0a-31ad-4f46-b75d-2f0b477d9362",
   "metadata": {},
   "outputs": [],
   "source": [
    "# We use the develop domain as it has Datacube examples \n",
    "\n",
    "#base_domain = \"demo.eoepca.org\"\n",
    "base_domain = \"develop.eoepca.org\"\n",
    "#base_domain = \"185.52.193.87.nip.io\"\n",
    "#workspace_prefix = \"demo-user\"\n",
    "workspace_prefix = \"user\""
   ]
  },
  {
   "cell_type": "code",
   "execution_count": null,
   "id": "3bf133dc-0cff-4925-8970-298d16757ea0",
   "metadata": {},
   "outputs": [],
   "source": [
    "system_catalogue_endpoint = f'https://resource-catalogue.{base_domain}/csw'\n",
    "print(system_catalogue_endpoint)\n",
    "\n",
    "csw = CatalogueServiceWeb(system_catalogue_endpoint, timeout=30)\n",
    "\n",
    "print(csw.identification.type)\n",
    "print(csw.version)\n",
    "print([op.name for op in csw.operations])"
   ]
  },
  {
   "cell_type": "code",
   "execution_count": null,
   "id": "f9b45662",
   "metadata": {},
   "outputs": [],
   "source": [
    "csw.get_operation_by_name('GetRecords').constraints"
   ]
  },
  {
   "cell_type": "markdown",
   "id": "13d3f877-c922-4abd-8861-b347b7b203f9",
   "metadata": {},
   "source": [
    "## Section 2: Discovering Datacubes\n",
    "\n",
    "The second section involves some code to find and identify the presence of datacubes.\\\n",
    "A couple of datacube examples should be present on the develop cluster.\\\n",
    "These will later be accessed using different methods. \n",
    "\n",
    "Currently there are 3 examples available on the EOEPCA develop cluster:\n",
    "\n",
    "[PIC 1 Month 9km](https://resource-catalogue.develop.eoepca.org/collections/metadata:main/items/PIC_1-month_9km)\n",
    "\n",
    "[BICEP_NCEO_PIC_ESA-OC-L3S-OC](https://resource-catalogue.develop.eoepca.org/collections/metadata:main/items/BICEP_NCEO_PIC_ESA-OC-L3S-OC_PRODUCTS-MERGED-1M_MONTHLY_9km_GEO_PML_OCx_QAA-199711-fv4.2.nc)\n",
    "\n",
    "[ESACCI-LC-L4-LCCS-Map-300m-P1Y-2009](https://resource-catalogue.develop.eoepca.org/collections/metadata:main/items/ESACCI-LC-L4-LCCS-Map-300m-P1Y-2009-v2.0.7cds)"
   ]
  },
  {
   "cell_type": "markdown",
   "id": "6a4bc9aa-b1a0-4f12-bc50-107a225c24aa",
   "metadata": {},
   "source": [
    "We will use the OGC CSW interface, building an OGC query and execute through the OWSLib client:"
   ]
  },
  {
   "cell_type": "code",
   "execution_count": null,
   "id": "7adeadc5-57b6-48bf-9e2b-86b75a626197",
   "metadata": {},
   "outputs": [],
   "source": [
    "bbox_query = BBox([-180, -90, 180, 90])\n",
    "\n",
    "#begin = PropertyIsGreaterThanOrEqualTo(propertyname='apiso:TempExtent_begin', literal='2009-01-10 00:00')\n",
    "\n",
    "#end = PropertyIsLessThanOrEqualTo(propertyname='apiso:TempExtent_end', literal='2009-12-31 00:00')\n",
    "\n",
    "title = PropertyIsEqualTo(propertyname='apiso:Title', literal='ESA CCI Land Cover Map for 2009')\n"
   ]
  },
  {
   "cell_type": "code",
   "execution_count": null,
   "id": "7d20a8ac-6b2f-4df0-946e-fd85ac2d6f79",
   "metadata": {},
   "outputs": [],
   "source": [
    "filter_list=[\n",
    "    And(\n",
    "        [\n",
    "           bbox_query,\n",
    "           title,\n",
    "        ]\n",
    "    )\n",
    "]"
   ]
  },
  {
   "cell_type": "code",
   "execution_count": null,
   "id": "4eb3b4ee",
   "metadata": {},
   "outputs": [],
   "source": [
    "csw.getrecords2(constraints=filter_list)\n",
    "csw.results"
   ]
  },
  {
   "cell_type": "markdown",
   "id": "b91272bb-629b-44ff-b027-c41b838d1d40",
   "metadata": {},
   "source": [
    "We can then get information of all the query results"
   ]
  },
  {
   "cell_type": "code",
   "execution_count": null,
   "id": "04c9d318",
   "metadata": {},
   "outputs": [],
   "source": [
    "item_identifier = list(csw.records)[0]\n",
    "print(item_identifier)"
   ]
  },
  {
   "cell_type": "code",
   "execution_count": null,
   "id": "dff84ce7",
   "metadata": {},
   "outputs": [],
   "source": [
    "record = csw.records[item_identifier]\n",
    "\n",
    "print(\"Title:\", record.title)\n",
    "print(\"Abstract:\", record.abstract)\n",
    "print(\"Date:\", record.date)\n",
    "print(\"Type:\", record.type)\n",
    "print(\"Coverate:\", record.coverage)\n",
    "print(\"Format\", record.format)\n",
    "print(\"License:\", record.license)\n",
    "print(\"Source:\", record.source)\n",
    "print(\"Spatial:\", record.spatial)\n",
    "\n",
    "\n",
    "bbox = record.bbox\n",
    "print(\"Bounding Box Dimensions:\")\n",
    "print(\"Min X:\", bbox.minx)\n",
    "print(\"Max X:\", bbox.maxx)\n",
    "print(\"Min Y:\", bbox.miny)\n",
    "print(\"Max Y:\", bbox.maxy)"
   ]
  },
  {
   "cell_type": "markdown",
   "id": "ee35ae57-ae33-4c4a-96dc-3c0995886082",
   "metadata": {},
   "source": [
    "We will now use the OGC API - Records interface to work with the JSON data:"
   ]
  },
  {
   "cell_type": "code",
   "execution_count": null,
   "id": "b5efbb8d-da10-422b-9acf-b712da6aba3a",
   "metadata": {},
   "outputs": [],
   "source": [
    "records_catalogue_endpoint = f'https://resource-catalogue.{base_domain}'\n",
    "w = Records(records_catalogue_endpoint)"
   ]
  },
  {
   "cell_type": "code",
   "execution_count": null,
   "id": "5df9df4a-fb47-466d-90a4-e7168c44ca22",
   "metadata": {},
   "outputs": [],
   "source": [
    "w.conformance()"
   ]
  },
  {
   "cell_type": "code",
   "execution_count": null,
   "id": "977350e4-bf2b-4db6-8694-6cdb3993b150",
   "metadata": {},
   "outputs": [],
   "source": [
    "w.collection_queryables('metadata:main')"
   ]
  },
  {
   "cell_type": "markdown",
   "id": "a5c0dd13-801e-4dfe-a90d-fff148f60c96",
   "metadata": {},
   "source": [
    "We just query the catalogue for all records in the default collection"
   ]
  },
  {
   "cell_type": "code",
   "execution_count": null,
   "id": "067661d6-7f7d-43b2-b229-ea8d48e8ac13",
   "metadata": {},
   "outputs": [],
   "source": [
    "my_catalogue_query = w.collection_items('metadata:main')\n",
    "my_catalogue_query['numberMatched']"
   ]
  },
  {
   "cell_type": "markdown",
   "id": "5efeca38-428a-456c-9ca9-e03f5dd9485a",
   "metadata": {},
   "source": [
    "And we show the title of the first record of the catalogue"
   ]
  },
  {
   "cell_type": "code",
   "execution_count": null,
   "id": "781c7f3a-06ea-4d05-9632-bccbde358f2c",
   "metadata": {},
   "outputs": [],
   "source": [
    "my_catalogue_query['features'][0]['properties']['title']"
   ]
  },
  {
   "cell_type": "markdown",
   "id": "315be0b0-8df9-45ca-ba78-2f97d3124771",
   "metadata": {},
   "source": [
    "Then we execute a CQL text query for the records that have the datacube extension"
   ]
  },
  {
   "cell_type": "code",
   "execution_count": null,
   "id": "db870e9c-4926-4f7c-bacd-b879ee048de7",
   "metadata": {},
   "outputs": [],
   "source": [
    "my_catalogue_cql_text_query = w.collection_items('metadata:main', filter=\"anytext ILIKE '%datacube%'\")\n",
    "my_catalogue_cql_text_query['numberMatched']"
   ]
  },
  {
   "cell_type": "code",
   "execution_count": null,
   "id": "ad7859ed-e628-4f95-8509-261c472f03b6",
   "metadata": {},
   "outputs": [],
   "source": [
    "my_catalogue_cql_text_query['features'][0]['properties']['title']"
   ]
  },
  {
   "cell_type": "markdown",
   "id": "1083a1be-a5d8-4409-995b-4e1623346204",
   "metadata": {},
   "source": [
    "We present the full JSON (STAC) record for the first result"
   ]
  },
  {
   "cell_type": "code",
   "execution_count": null,
   "id": "b37793cc-820f-4583-b8df-3d3cb0e3c60e",
   "metadata": {},
   "outputs": [],
   "source": [
    "my_catalogue_cql_text_query['features'][0]"
   ]
  }
 ],
 "metadata": {
  "kernelspec": {
   "display_name": "Python 3",
   "language": "python",
   "name": "python3"
  },
  "language_info": {
   "codemirror_mode": {
    "name": "ipython",
    "version": 3
   },
   "file_extension": ".py",
   "mimetype": "text/x-python",
   "name": "python",
   "nbconvert_exporter": "python",
   "pygments_lexer": "ipython3",
   "version": "3.9.2"
  }
 },
 "nbformat": 4,
 "nbformat_minor": 5
}
