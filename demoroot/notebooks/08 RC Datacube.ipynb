{
 "cells": [
  {
   "cell_type": "markdown",
   "id": "8711be07-5bd3-44cb-88c7-51ba566cd1dd",
   "metadata": {
    "tags": []
   },
   "source": [
    "# Datacube extension testing in the Resource Catalogue\n",
    "\n",
    "## Introduction\n",
    "\n",
    "This notebook is used for testing datacube support in the Resource Catalogue. \\\n",
    "Eventually, it will be integrated into the EOEPCA notebook 04 Resource Catalogue. \\\n",
    "\n",
    "## Description\n",
    "\n",
    "The notebook is divided into several sections to make it easier to understand.\n",
    "\n"
   ]
  },
  {
   "cell_type": "markdown",
   "id": "2322f2b6-160e-4707-825f-797313ea6a35",
   "metadata": {},
   "source": [
    "## Section 1: Imports and EOEPCA connection setup\n",
    "This section includes importing everything from the 04 notebook. \\\n",
    "It also includes the initial code blocks as these are used to setup the domain variables. \\\n",
    "Some information related to csw and the domain is printed as a check."
   ]
  },
  {
   "cell_type": "code",
   "execution_count": 1,
   "id": "1b033d27-e72e-47f2-bc7e-67dee474c1de",
   "metadata": {},
   "outputs": [],
   "source": [
    "from owslib.csw import CatalogueServiceWeb\n",
    "from owslib.ogcapi.records import Records\n",
    "from owslib.fes import And, Or, PropertyIsEqualTo, PropertyIsGreaterThanOrEqualTo, PropertyIsLessThanOrEqualTo, PropertyIsLike, BBox, SortBy, SortProperty\n",
    "from geolinks import sniff_link\n"
   ]
  },
  {
   "cell_type": "code",
   "execution_count": 79,
   "id": "4715df0a-31ad-4f46-b75d-2f0b477d9362",
   "metadata": {},
   "outputs": [],
   "source": [
    "# We use the develop domain as it has Datacube examples \n",
    "\n",
    "#base_domain = \"demo.eoepca.org\"\n",
    "base_domain = \"develop.eoepca.org\"\n",
    "#base_domain = \"185.52.193.87.nip.io\"\n",
    "#workspace_prefix = \"demo-user\"\n",
    "workspace_prefix = \"user\""
   ]
  },
  {
   "cell_type": "code",
   "execution_count": 80,
   "id": "3bf133dc-0cff-4925-8970-298d16757ea0",
   "metadata": {},
   "outputs": [
    {
     "name": "stdout",
     "output_type": "stream",
     "text": [
      "https://resource-catalogue.develop.eoepca.org/csw\n",
      "CSW\n",
      "2.0.2\n",
      "['GetCapabilities', 'DescribeRecord', 'GetDomain', 'GetRecords', 'GetRecordById', 'GetRepositoryItem', 'Transaction', 'Harvest']\n"
     ]
    }
   ],
   "source": [
    "system_catalogue_endpoint = f'https://resource-catalogue.{base_domain}/csw'\n",
    "print(system_catalogue_endpoint)\n",
    "\n",
    "csw = CatalogueServiceWeb(system_catalogue_endpoint, timeout=30)\n",
    "\n",
    "print(csw.identification.type)\n",
    "print(csw.version)\n",
    "print([op.name for op in csw.operations])"
   ]
  },
  {
   "cell_type": "code",
   "execution_count": 81,
   "id": "f9b45662",
   "metadata": {},
   "outputs": [
    {
     "data": {
      "text/plain": [
       "[Constraint: AdditionalQueryables - ['apiso:AccessConstraints', 'apiso:Bands', 'apiso:Classification', 'apiso:CloudCover', 'apiso:ConditionApplyingToAccessAndUse', 'apiso:Contributor', 'apiso:Creator', 'apiso:Degree', 'apiso:Instrument', 'apiso:Lineage', 'apiso:OtherConstraints', 'apiso:Platform', 'apiso:Publisher', 'apiso:Relation', 'apiso:ResponsiblePartyRole', 'apiso:SensorType', 'apiso:SpecificationDate', 'apiso:SpecificationDateType', 'apiso:SpecificationTitle'],\n",
       " Constraint: SupportedDublinCoreQueryables - ['csw:AnyText', 'dc:contributor', 'dc:creator', 'dc:date', 'dc:format', 'dc:identifier', 'dc:language', 'dc:publisher', 'dc:relation', 'dc:rights', 'dc:source', 'dc:subject', 'dc:title', 'dc:type', 'dct:abstract', 'dct:alternative', 'dct:modified', 'dct:spatial', 'ows:BoundingBox'],\n",
       " Constraint: SupportedISOQueryables - ['apiso:Abstract', 'apiso:AlternateTitle', 'apiso:AnyText', 'apiso:BoundingBox', 'apiso:CRS', 'apiso:CouplingType', 'apiso:CreationDate', 'apiso:Denominator', 'apiso:DistanceUOM', 'apiso:DistanceValue', 'apiso:Edition', 'apiso:Format', 'apiso:GeographicDescriptionCode', 'apiso:HasSecurityConstraints', 'apiso:Identifier', 'apiso:KeywordType', 'apiso:Language', 'apiso:Modified', 'apiso:OperatesOn', 'apiso:OperatesOnIdentifier', 'apiso:OperatesOnName', 'apiso:Operation', 'apiso:OrganisationName', 'apiso:ParentIdentifier', 'apiso:PublicationDate', 'apiso:ResourceLanguage', 'apiso:RevisionDate', 'apiso:ServiceType', 'apiso:ServiceTypeVersion', 'apiso:Subject', 'apiso:TempExtent_begin', 'apiso:TempExtent_end', 'apiso:Title', 'apiso:TopicCategory', 'apiso:Type']]"
      ]
     },
     "execution_count": 81,
     "metadata": {},
     "output_type": "execute_result"
    }
   ],
   "source": [
    "csw.get_operation_by_name('GetRecords').constraints"
   ]
  },
  {
   "cell_type": "markdown",
   "id": "13d3f877-c922-4abd-8861-b347b7b203f9",
   "metadata": {},
   "source": [
    "## Section 2: Discovering Datacubes\n",
    "\n",
    "The second section involves some code to find and identify the presence of datacubes.\\\n",
    "A couple of datacube examples should be present on the develop cluster.\\\n",
    "These will later be accessed using different methods. \n",
    "\n",
    "Currently there are 3 examples available on the EOEPCA develop cluster:\n",
    "\n",
    "[PIC 1 Month 9km](https://resource-catalogue.develop.eoepca.org/collections/metadata:main/items/PIC_1-month_9km)\n",
    "\n",
    "[BICEP_NCEO_PIC_ESA-OC-L3S-OC](https://resource-catalogue.develop.eoepca.org/collections/metadata:main/items/BICEP_NCEO_PIC_ESA-OC-L3S-OC_PRODUCTS-MERGED-1M_MONTHLY_9km_GEO_PML_OCx_QAA-199711-fv4.2.nc)\n",
    "\n",
    "[ESACCI-LC-L4-LCCS-Map-300m-P1Y-2009](https://resource-catalogue.develop.eoepca.org/collections/metadata:main/items/ESACCI-LC-L4-LCCS-Map-300m-P1Y-2009-v2.0.7cds)"
   ]
  },
  {
   "cell_type": "code",
   "execution_count": 82,
   "id": "7adeadc5-57b6-48bf-9e2b-86b75a626197",
   "metadata": {},
   "outputs": [],
   "source": [
    "bbox_query = BBox([-180, -90, 180, 90])\n",
    "\n",
    "#begin = PropertyIsGreaterThanOrEqualTo(propertyname='apiso:TempExtent_begin', literal='2009-01-10 00:00')\n",
    "\n",
    "#end = PropertyIsLessThanOrEqualTo(propertyname='apiso:TempExtent_end', literal='2009-12-31 00:00')\n",
    "\n",
    "title = PropertyIsEqualTo(propertyname='apiso:Title', literal='ESA CCI Land Cover Map for 2009')\n"
   ]
  },
  {
   "cell_type": "code",
   "execution_count": 83,
   "id": "7d20a8ac-6b2f-4df0-946e-fd85ac2d6f79",
   "metadata": {},
   "outputs": [],
   "source": [
    "filter_list=[\n",
    "    And(\n",
    "        [\n",
    "           bbox_query,\n",
    "           title,\n",
    "        ]\n",
    "    )\n",
    "]\n",
    "\n"
   ]
  },
  {
   "cell_type": "code",
   "execution_count": null,
   "id": "4eb3b4ee",
   "metadata": {},
   "outputs": [],
   "source": []
  },
  {
   "cell_type": "code",
   "execution_count": 84,
   "id": "04c9d318",
   "metadata": {},
   "outputs": [
    {
     "name": "stdout",
     "output_type": "stream",
     "text": [
      "['__class__', '__delattr__', '__dict__', '__dir__', '__doc__', '__eq__', '__format__', '__ge__', '__getattribute__', '__gt__', '__hash__', '__init__', '__init_subclass__', '__le__', '__lt__', '__module__', '__ne__', '__new__', '__reduce__', '__reduce_ex__', '__repr__', '__setattr__', '__sizeof__', '__str__', '__subclasshook__', '__weakref__', 'abstract', 'accessrights', 'alternative', 'bbox', 'bbox_wgs84', 'contributor', 'coverage', 'created', 'creator', 'date', 'format', 'identifier', 'identifiers', 'ispartof', 'issued', 'language', 'license', 'modified', 'publisher', 'rdf', 'references', 'relation', 'rights', 'rightsholder', 'source', 'spatial', 'subjects', 'temporal', 'title', 'type', 'uris', 'xml']\n"
     ]
    }
   ],
   "source": [
    "item_identifier = 'ESACCI-LC-L4-LCCS-Map-300m-P1Y-2009-v2.0.7cds'\n",
    "\n",
    "csw.getrecordbyid([item_identifier])\n",
    "\n",
    "print(dir(record))"
   ]
  },
  {
   "cell_type": "code",
   "execution_count": 85,
   "id": "dff84ce7",
   "metadata": {},
   "outputs": [
    {
     "name": "stdout",
     "output_type": "stream",
     "text": [
      "Title: ESA CCI Land Cover Map for 2009\n",
      "Abstract: None\n",
      "Date: None\n",
      "Type: item\n",
      "Coverate: None\n",
      "Format None\n",
      "License: None\n",
      "Source: None\n",
      "Spatial: None\n",
      "Bounding Box Dimensions:\n",
      "Min X: -180.0\n",
      "Max X: 180.0\n",
      "Min Y: -90.0\n",
      "Max Y: 90.0\n"
     ]
    }
   ],
   "source": [
    "record = csw.records[item_identifier]\n",
    "\n",
    "print(\"Title:\", record.title)\n",
    "print(\"Abstract:\", record.abstract)\n",
    "print(\"Date:\", record.date)\n",
    "print(\"Type:\", record.type)\n",
    "print(\"Coverate:\", record.coverage)\n",
    "print(\"Format\", record.format)\n",
    "print(\"License:\", record.license)\n",
    "print(\"Source:\", record.source)\n",
    "print(\"Spatial:\", record.spatial)\n",
    "\n",
    "\n",
    "bbox = record.bbox\n",
    "print(\"Bounding Box Dimensions:\")\n",
    "print(\"Min X:\", bbox.minx)\n",
    "print(\"Max X:\", bbox.maxx)\n",
    "print(\"Min Y:\", bbox.miny)\n",
    "print(\"Max Y:\", bbox.maxy)"
   ]
  },
  {
   "cell_type": "code",
   "execution_count": null,
   "id": "b5efbb8d-da10-422b-9acf-b712da6aba3a",
   "metadata": {},
   "outputs": [],
   "source": []
  }
 ],
 "metadata": {
  "kernelspec": {
   "display_name": "Python 3",
   "language": "python",
   "name": "python3"
  },
  "language_info": {
   "codemirror_mode": {
    "name": "ipython",
    "version": 3
   },
   "file_extension": ".py",
   "mimetype": "text/x-python",
   "name": "python",
   "nbconvert_exporter": "python",
   "pygments_lexer": "ipython3",
   "version": "3.9.2"
  }
 },
 "nbformat": 4,
 "nbformat_minor": 5
}
