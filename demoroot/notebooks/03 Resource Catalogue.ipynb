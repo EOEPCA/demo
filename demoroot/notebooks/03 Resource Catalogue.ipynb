{
 "cells": [
  {
   "cell_type": "markdown",
   "id": "26651852-cac0-4bba-b252-d21ce96d100a",
   "metadata": {},
   "source": [
    "## Resource Catalogue demo"
   ]
  },
  {
   "cell_type": "markdown",
   "id": "8219b827-fe6d-4a8d-9af2-6f8719dd65ea",
   "metadata": {},
   "source": [
    "[OWSLib](https://geopython.github.io/OWSLib) is a Python package for client programming with Open Geospatial Consortium (OGC) web service (hence OWS) interface standards, and their related content models. In this demo we’ll work with the CSW, WMS and WCS interfaces."
   ]
  },
  {
   "cell_type": "code",
   "execution_count": null,
   "id": "658ce66c-15e4-41cd-b61a-4e9ba53dcd55",
   "metadata": {},
   "outputs": [],
   "source": [
    "from owslib.csw import CatalogueServiceWeb\n",
    "from owslib.ogcapi.records import Records\n",
    "from owslib.opensearch import OpenSearch\n",
    "from owslib.fes import And, Or, PropertyIsEqualTo, PropertyIsGreaterThanOrEqualTo, PropertyIsLessThanOrEqualTo, PropertyIsLike, BBox, SortBy, SortProperty\n",
    "from geolinks import sniff_link\n",
    "import folium\n",
    "import json"
   ]
  },
  {
   "cell_type": "code",
   "execution_count": null,
   "id": "a226f882-ef75-477b-a927-61a24b9202e6",
   "metadata": {},
   "outputs": [],
   "source": [
    "# base_domain = \"192-168-49-2.nip.io\"\n",
    "base_domain = \"develop.eoepca.org\"\n",
    "workspaces_endpoint = f'https://workspace-api.{base_domain}/workspaces'\n",
    "workspace_prefix = \"ws\""
   ]
  },
  {
   "cell_type": "code",
   "execution_count": null,
   "id": "324a498a-3beb-48ca-955e-dbb078a16425",
   "metadata": {},
   "outputs": [],
   "source": [
    "#-------------------------------------------------------------------------------\n",
    "# Helper function to authenticate user and get access token\n",
    "#-------------------------------------------------------------------------------\n",
    "import requests\n",
    "\n",
    "realm = \"master\"\n",
    "keycloak = f\"https://keycloak-v1x.{base_domain}\"\n",
    "token_endpoint = f\"{keycloak}/realms/{realm}/protocol/openid-connect/token\"\n",
    "client_id = \"admin-cli\"\n",
    "client_secret = \"changeme\"\n",
    "\n",
    "def get_user_token(username, password):\n",
    "    headers = {\n",
    "        \"Cache-Control\": \"no-cache\",\n",
    "        \"Content-Type\": \"application/x-www-form-urlencoded\"\n",
    "    }\n",
    "    data = {\n",
    "        \"scope\": \"openid profile email\",\n",
    "        \"grant_type\": \"password\",\n",
    "        \"username\": username,\n",
    "        \"password\": password,\n",
    "        \"client_id\": client_id,\n",
    "        \"client_secret\": client_secret\n",
    "    }\n",
    "    response = requests.post(token_endpoint, headers=headers, data=data)\n",
    "    if response.ok:\n",
    "        return response.json()[\"access_token\"]\n",
    "    else:\n",
    "        print(response)\n",
    "        return None"
   ]
  },
  {
   "cell_type": "markdown",
   "id": "a86c43c6-0b46-4c55-8baa-f1d0da46c2c6",
   "metadata": {},
   "source": [
    "### System Catalogue Discovery"
   ]
  },
  {
   "cell_type": "markdown",
   "id": "c69f0c24-bf3f-4800-8346-f83d0df884d3",
   "metadata": {},
   "source": [
    "In this part of the demo, the user will use the system level resource catalogue endpoint to discover data collections and datasets.\n",
    "The `owslib.csw` class of OWSLib is instantiated and service metadata are shown."
   ]
  },
  {
   "cell_type": "code",
   "execution_count": null,
   "id": "d07c6f82-0385-4980-899e-c86d9eddc8f8",
   "metadata": {},
   "outputs": [],
   "source": [
    "system_catalogue_endpoint = f'https://resource-catalogue.{base_domain}/csw'"
   ]
  },
  {
   "cell_type": "code",
   "execution_count": null,
   "id": "7b05431e-e58e-48c8-a3f0-b9c88851ee90",
   "metadata": {},
   "outputs": [],
   "source": [
    "csw = CatalogueServiceWeb(system_catalogue_endpoint, timeout=30)"
   ]
  },
  {
   "cell_type": "markdown",
   "id": "d26a7509-45a1-47d4-b548-3bde10dc779a",
   "metadata": {},
   "source": [
    "Service metadata shown here includes identification type (from ISO-19115), CSW version and supported operations"
   ]
  },
  {
   "cell_type": "code",
   "execution_count": null,
   "id": "54251eb6-6568-4947-a254-f06c79e3454f",
   "metadata": {},
   "outputs": [],
   "source": [
    "csw.identification.type"
   ]
  },
  {
   "cell_type": "code",
   "execution_count": null,
   "id": "81104595-78d4-4ff2-ba8a-5cb6a704de6d",
   "metadata": {},
   "outputs": [],
   "source": [
    "csw.version"
   ]
  },
  {
   "cell_type": "code",
   "execution_count": null,
   "id": "646dd77a-6f82-4a1f-9463-94bddb897175",
   "metadata": {},
   "outputs": [],
   "source": [
    "[op.name for op in csw.operations]"
   ]
  },
  {
   "cell_type": "markdown",
   "id": "4f397c4f-f61d-4c41-a746-46039bd215fa",
   "metadata": {},
   "source": [
    "As well as catalogue queryables:"
   ]
  },
  {
   "cell_type": "code",
   "execution_count": null,
   "id": "b639cb02-bac8-4f55-9512-f013ccaebd22",
   "metadata": {},
   "outputs": [],
   "source": [
    "csw.get_operation_by_name('GetRecords').constraints"
   ]
  },
  {
   "cell_type": "markdown",
   "id": "ff59b751-330f-47bf-8b86-c9ce5eae6801",
   "metadata": {},
   "source": [
    "The user can make a GetRecords request to get all records of the catalogue, with a page limit of 10."
   ]
  },
  {
   "cell_type": "code",
   "execution_count": null,
   "id": "30704881-178d-45de-aeb7-7482c4542770",
   "metadata": {},
   "outputs": [],
   "source": [
    "csw.getrecords2(maxrecords=10)\n",
    "csw.results"
   ]
  },
  {
   "cell_type": "code",
   "execution_count": null,
   "id": "a7b03fde-a5e3-4c8c-8493-4e182a055211",
   "metadata": {},
   "outputs": [],
   "source": [
    "#Disabling since we have too many records now\n",
    "#for rec in csw.records:\n",
    "#    print(f'identifier: {csw.records[rec].identifier}\\ntype: {csw.records[rec].type}\\ntitle: {csw.records[rec].title}\\n')"
   ]
  },
  {
   "cell_type": "markdown",
   "id": "aff279fc-a59f-465f-a2a0-afbc07ba916c",
   "metadata": {},
   "source": [
    "If the user wishes to discover data with usage of filters, an OGC Filter can be used. Here we demonstrate how to create spatial (`bbox`), temporal (`time`), and attribute (`apiso:CloudCover`) filters combined with logical operators like and/or"
   ]
  },
  {
   "cell_type": "code",
   "execution_count": null,
   "id": "7c3489b5-f437-448b-975f-afd5d2057364",
   "metadata": {},
   "outputs": [],
   "source": [
    "#bbox_query = BBox([37.8, 23.4, 38.8, 24.5])\n",
    "#bbox_query = BBox([39.66, 19.82, 40.64, 21.11])\n",
    "# bbox_query = BBox([37, 13.9, 37.9, 15.1])\n",
    "bbox_query = BBox([47.7, 14.9, 48.7, 16.4])"
   ]
  },
  {
   "cell_type": "code",
   "execution_count": null,
   "id": "fec38a23-68fd-4c1f-9213-404859b048ae",
   "metadata": {},
   "outputs": [],
   "source": [
    "begin = PropertyIsGreaterThanOrEqualTo(propertyname='apiso:TempExtent_begin', literal='2019-09-10 00:00')"
   ]
  },
  {
   "cell_type": "code",
   "execution_count": null,
   "id": "d29f2a96-b2ed-446a-a4d3-9832f9af5e87",
   "metadata": {},
   "outputs": [],
   "source": [
    "end = PropertyIsLessThanOrEqualTo(propertyname='apiso:TempExtent_end', literal='2019-09-12 00:00')"
   ]
  },
  {
   "cell_type": "code",
   "execution_count": null,
   "id": "5a03b5d3-cad9-4da2-93ce-85c7ba8a6003",
   "metadata": {},
   "outputs": [],
   "source": [
    "cloud = PropertyIsLessThanOrEqualTo(propertyname='apiso:CloudCover', literal='20')"
   ]
  },
  {
   "cell_type": "code",
   "execution_count": null,
   "id": "24c735c8-4e87-4d11-af65-12890b4a0c46",
   "metadata": {},
   "outputs": [],
   "source": [
    "filter_list = [\n",
    "    And(\n",
    "        [\n",
    "            bbox_query,  # bounding box\n",
    "            begin, end,  # start and end date\n",
    "            cloud        # cloud\n",
    "        ]\n",
    "    )\n",
    "]"
   ]
  },
  {
   "cell_type": "markdown",
   "id": "225432bc-0fd8-4f70-9e07-3344628827c1",
   "metadata": {},
   "source": [
    "The filter is then applied to the GetRecords request and results are shown:"
   ]
  },
  {
   "cell_type": "code",
   "execution_count": null,
   "id": "7c4c4ce0-7c42-4c0b-afac-7725ddbfa724",
   "metadata": {},
   "outputs": [],
   "source": [
    "csw.getrecords2(constraints=filter_list, outputschema='http://www.isotc211.org/2005/gmd')\n",
    "csw.results"
   ]
  },
  {
   "cell_type": "code",
   "execution_count": null,
   "id": "0418bd08-debe-405d-8527-7a9ea59ed677",
   "metadata": {},
   "outputs": [],
   "source": [
    "selected_record = list(csw.records)[1]"
   ]
  },
  {
   "cell_type": "code",
   "execution_count": null,
   "id": "2230f3a0-3b9a-4b44-92ed-af31d8fc93d4",
   "metadata": {},
   "outputs": [],
   "source": [
    "for rec in csw.records:\n",
    "    print(f'identifier: {csw.records[rec].identifier}\\ntype: {csw.records[rec].identification[0].identtype}\\ntitle: {csw.records[rec].identification[0].title}\\n')"
   ]
  },
  {
   "cell_type": "markdown",
   "id": "fb5a8f1e-6bfd-40c0-ae8f-615435db4a8b",
   "metadata": {},
   "source": [
    "Another option is to perform a collection level search, using the `apiso:parentIdentifier` queryable. Here only the Sentinel2 L1C datasets will be discovered."
   ]
  },
  {
   "cell_type": "code",
   "execution_count": null,
   "id": "a0554447-6129-48c9-a8d7-47790545968b",
   "metadata": {},
   "outputs": [],
   "source": [
    "collection_query = PropertyIsEqualTo('apiso:ParentIdentifier', 'S2MSI2A')"
   ]
  },
  {
   "cell_type": "code",
   "execution_count": null,
   "id": "0da28f27-2a24-43d5-b843-f636ae802c5b",
   "metadata": {},
   "outputs": [],
   "source": [
    "csw.getrecords2(constraints=[collection_query], outputschema='http://www.isotc211.org/2005/gmd')\n",
    "csw.results"
   ]
  },
  {
   "cell_type": "markdown",
   "id": "ed060cbe-43fe-4cce-9fa4-ce6980110f18",
   "metadata": {},
   "source": [
    "Or we can just search using the bbox filter"
   ]
  },
  {
   "cell_type": "code",
   "execution_count": null,
   "id": "977c8fdb-bb1c-4507-b6fd-6df271416d1c",
   "metadata": {},
   "outputs": [],
   "source": [
    "csw.getrecords2(constraints=[bbox_query], outputschema='http://www.isotc211.org/2005/gmd')\n",
    "csw.results"
   ]
  },
  {
   "cell_type": "markdown",
   "id": "d42e1df6-5291-42de-bfb5-9069b44e2789",
   "metadata": {},
   "source": [
    "Combine collection with bbox filters"
   ]
  },
  {
   "cell_type": "code",
   "execution_count": null,
   "id": "43f33dc6-05b0-4bce-b101-86db3f77eb45",
   "metadata": {},
   "outputs": [],
   "source": [
    "filter_list = [\n",
    "    And(\n",
    "        [\n",
    "            bbox_query,  # bounding box\n",
    "            collection_query  # collection\n",
    "        ]\n",
    "    )\n",
    "]"
   ]
  },
  {
   "cell_type": "code",
   "execution_count": null,
   "id": "0be97f4a-d691-4ae3-8023-43e9a45bf277",
   "metadata": {},
   "outputs": [],
   "source": [
    "csw.getrecords2(constraints=filter_list, outputschema='http://www.isotc211.org/2005/gmd')\n",
    "csw.results"
   ]
  },
  {
   "cell_type": "code",
   "execution_count": null,
   "id": "ed6f2986-46b4-46f2-ae86-55b8aa407298",
   "metadata": {},
   "outputs": [],
   "source": [
    "#Disabling since we have too many records now\n",
    "#for rec in csw.records:\n",
    "#    print(f'identifier: {csw.records[rec].identifier}\\ntype: {csw.records[rec].identification.identtype}\\ntitle: {csw.records[rec].identification.title}\\n')"
   ]
  },
  {
   "cell_type": "markdown",
   "id": "45f979dd-55ac-4e3d-b38f-998ca1c1dab8",
   "metadata": {},
   "source": [
    "Or we can perform a full text search (here the keyword MSI is used)"
   ]
  },
  {
   "cell_type": "code",
   "execution_count": null,
   "id": "0a4ae3e0-1b5d-4092-bc02-5928ee89ed63",
   "metadata": {},
   "outputs": [],
   "source": [
    "# anytext_query = PropertyIsEqualTo('csw:AnyText', 'Orthoimagery')\n",
    "anytext_query = PropertyIsEqualTo('csw:AnyText', 'MSI')"
   ]
  },
  {
   "cell_type": "code",
   "execution_count": null,
   "id": "96c2bb02-21f4-49e3-b4f9-27718a53124e",
   "metadata": {},
   "outputs": [],
   "source": [
    "filter_list = [\n",
    "    And(\n",
    "        [\n",
    "            bbox_query,  # bounding box\n",
    "            anytext_query # any text\n",
    "        ]\n",
    "    )\n",
    "]"
   ]
  },
  {
   "cell_type": "code",
   "execution_count": null,
   "id": "84e7a1b6-c88f-4846-a81e-bfa8840acad5",
   "metadata": {},
   "outputs": [],
   "source": [
    "csw.getrecords2(constraints=filter_list)\n",
    "csw.results"
   ]
  },
  {
   "cell_type": "markdown",
   "id": "3502e0f0-bec4-43d9-9125-675fcbd55557",
   "metadata": {},
   "source": [
    "We can also iterate through the catalogue search results by passing the `startposition` and `maxrecords` parameters to GetRecords request:"
   ]
  },
  {
   "cell_type": "code",
   "execution_count": null,
   "id": "d0078184-bde5-48b6-a4ab-471a030a19bc",
   "metadata": {},
   "outputs": [],
   "source": [
    "#csw_records = {}\n",
    "#sortby = SortBy([SortProperty('dc:title', 'ASC')])\n",
    "#pagesize=10\n",
    "#maxrecords=1000\n",
    "#startposition = 0\n",
    "#nextrecord = getattr(csw, 'results', 1)\n",
    "#while nextrecord != 0:\n",
    "#    csw.getrecords2(constraints=[anytext_query], startposition=startposition,\n",
    "#                    maxrecords=pagesize, sortby=sortby)\n",
    "#    csw_records.update(csw.records)\n",
    "#    if csw.results['nextrecord'] == 0:\n",
    "#        break\n",
    "#    startposition += pagesize\n",
    "#    if startposition >= maxrecords:\n",
    "#        break\n",
    "#csw.records.update(csw_records)\n",
    "#records = '\\n'.join(csw.records.keys())\n",
    "#print('Found {} records.\\n'.format(len(csw.records.keys())))\n",
    "#for key, value in list(csw.records.items()):\n",
    "#    print(f'identifier: {value.identifier}\\ntype: {value.type}\\ntitle: {value.title}\\n')"
   ]
  },
  {
   "cell_type": "markdown",
   "id": "4b6ad2dd-3350-4cb2-8b5f-73b36dd9d54f",
   "metadata": {},
   "source": [
    "The user then selects a record identifier and asks the catalogue to fetch the full record. Here we demonstrate how to obtain properties like title, bbox, full xml and links from the metadata record."
   ]
  },
  {
   "cell_type": "code",
   "execution_count": null,
   "id": "df46406c-62c7-45b9-b008-081a5267a713",
   "metadata": {},
   "outputs": [],
   "source": [
    "#csw.getrecordbyid(id=['S2B_MSIL2A_20200902T090559_N0214_R050_T34SGH_20200902T113910.SAFE'])\n",
    "csw.getrecordbyid(id=[selected_record])"
   ]
  },
  {
   "cell_type": "code",
   "execution_count": null,
   "id": "b216d1ef-9964-4f79-918d-409b344b752b",
   "metadata": {},
   "outputs": [],
   "source": [
    "#rec = csw.records['S2B_MSIL2A_20200902T090559_N0214_R050_T34SGH_20200902T113910.SAFE']\n",
    "rec = csw.records[selected_record]"
   ]
  },
  {
   "cell_type": "code",
   "execution_count": null,
   "id": "0262024b-157c-4ad3-8074-17abb0ec9b8b",
   "metadata": {},
   "outputs": [],
   "source": [
    "rec.title"
   ]
  },
  {
   "cell_type": "code",
   "execution_count": null,
   "id": "09c9ae64-c8eb-4f72-af93-2358e7c0c54a",
   "metadata": {},
   "outputs": [],
   "source": [
    "rec.xml"
   ]
  },
  {
   "cell_type": "code",
   "execution_count": null,
   "id": "10ce5d2f-c79a-45d6-8f6b-c029271781a5",
   "metadata": {},
   "outputs": [],
   "source": [
    "rec.references"
   ]
  },
  {
   "cell_type": "code",
   "execution_count": null,
   "id": "b8a12c3b-d36c-4240-a1bf-200d443e2230",
   "metadata": {},
   "outputs": [],
   "source": [
    "print(\"dataset bbox = (%s, %s, %s, %s)\" % (rec.bbox.miny, rec.bbox.minx, rec.bbox.maxy, rec.bbox.maxx))"
   ]
  },
  {
   "cell_type": "markdown",
   "id": "2d6698df-6e31-4f87-9c89-42ab664d70af",
   "metadata": {},
   "source": [
    "Using the [geolinks](https://github.com/geopython/geolinks) Python library we can filter the links that are of a specific type (here WMS and WCS links to be used for visualization)"
   ]
  },
  {
   "cell_type": "code",
   "execution_count": null,
   "id": "7ed31ca8-4434-45c1-bcf0-13d4e027c71d",
   "metadata": {},
   "outputs": [],
   "source": [
    "msg = 'geolink: {geolink}\\nscheme: {scheme}\\nURL: {url}\\n'.format\n",
    "for ref in rec.references:\n",
    "    print(msg(geolink=sniff_link(ref['url']), **ref))"
   ]
  },
  {
   "cell_type": "code",
   "execution_count": null,
   "id": "72a000c9-9c8b-45e7-9132-42926929eb88",
   "metadata": {},
   "outputs": [],
   "source": [
    "for ref in rec.references:\n",
    "    url = ref['url']\n",
    "    if 'WMS' in url:\n",
    "        print(msg(geolink=sniff_link(url), **ref))\n",
    "        break"
   ]
  },
  {
   "cell_type": "code",
   "execution_count": null,
   "id": "deb27914-c9af-4365-90d9-238e37531975",
   "metadata": {},
   "outputs": [],
   "source": [
    "for ref in rec.references:\n",
    "    url = ref['url']\n",
    "    if 'WCS' in url:\n",
    "        print(msg(geolink=sniff_link(url), **ref))\n",
    "        break"
   ]
  },
  {
   "cell_type": "markdown",
   "id": "09b1ff0a-db7a-422b-ba07-f4f4baf43084",
   "metadata": {},
   "source": [
    "Finally we demonstrate how to show the record footprint on a map, using the [Folium](https://github.com/python-visualization/folium) Python library:"
   ]
  },
  {
   "cell_type": "code",
   "execution_count": null,
   "id": "fda96d60-2356-4d45-bceb-583e93fad5b1",
   "metadata": {},
   "outputs": [],
   "source": [
    "centre_x = float(rec.bbox.minx) + ((float(rec.bbox.maxx) - float(rec.bbox.minx))/2)\n",
    "centre_y = float(rec.bbox.miny) + ((float(rec.bbox.maxy) - float(rec.bbox.miny))/2)\n",
    "m = folium.Map(location=[centre_y, centre_x], zoom_start=10, tiles='OpenStreetMap')\n",
    "folium.Rectangle(bounds=[[float(rec.bbox.miny), float(rec.bbox.minx)], [float(rec.bbox.maxy), float(rec.bbox.maxx)]]).add_to(m)\n",
    "m"
   ]
  },
  {
   "cell_type": "markdown",
   "id": "0a2b6c8b-655a-495c-897f-4f876d6d400d",
   "metadata": {},
   "source": [
    "### System Catalogue Discovery through Federated Search"
   ]
  },
  {
   "cell_type": "markdown",
   "id": "86719c61-124d-4729-98a1-94281a77ee08",
   "metadata": {},
   "source": [
    "<span style=\"color:red;\">**_THIS SECTION IS DISABLED, AS THE MUNDI CATALOGUE IS NO LONGER AVAILABLE_**<span>"
   ]
  },
  {
   "cell_type": "markdown",
   "id": "42fc55d9-3fe0-4c18-980c-539bd87b206c",
   "metadata": {},
   "source": [
    "This is an example of Federated Search using Mundi DIAS CSW"
   ]
  },
  {
   "cell_type": "code",
   "execution_count": null,
   "id": "3afa2550-2ab0-4f73-ba39-088b884dcee1",
   "metadata": {},
   "outputs": [],
   "source": [
    "# csw_url = 'https://resource-catalogue.mundi.eoepca.org/csw'\n",
    "# # pycsw instance configured with \n",
    "# # federatedcatalogues=https://sentinel2.browse.catalog.mundiwebservices.com/csw"
   ]
  },
  {
   "cell_type": "code",
   "execution_count": null,
   "id": "5a04d76c-09c0-45bc-bef2-7cae245fc7b7",
   "metadata": {},
   "outputs": [],
   "source": [
    "# xml = b'''<?xml version=\"1.0\" encoding=\"ISO-8859-1\" standalone=\"no\"?>\n",
    "# <csw:GetRecords xmlns:csw=\"http://www.opengis.net/cat/csw/2.0.2\" xmlns:ogc=\"http://www.opengis.net/ogc\" service=\"CSW\" version=\"2.0.2\" resultType=\"results\" startPosition=\"1\" maxRecords=\"5\" outputFormat=\"application/xml\" outputSchema=\"http://www.opengis.net/cat/csw/2.0.2\" xmlns:xsi=\"http://www.w3.org/2001/XMLSchema-instance\" xsi:schemaLocation=\"http://www.opengis.net/cat/csw/2.0.2 http://schemas.opengis.net/csw/2.0.2/CSW-discovery.xsd\">\n",
    "# \t<csw:DistributedSearch hopCount=\"2\"/>\n",
    "# \t<csw:Query typeNames=\"csw:Record\">\n",
    "# \t\t<csw:ElementSetName>brief</csw:ElementSetName>\n",
    "# \t</csw:Query>\n",
    "# </csw:GetRecords>\n",
    "# '''"
   ]
  },
  {
   "cell_type": "code",
   "execution_count": null,
   "id": "f5e6c326-5d9b-401a-996d-590e57c2ce7b",
   "metadata": {},
   "outputs": [],
   "source": [
    "# csw = CatalogueServiceWeb(csw_url)"
   ]
  },
  {
   "cell_type": "code",
   "execution_count": null,
   "id": "fcd7574c-be35-4cd4-9832-dc4a02ce3158",
   "metadata": {},
   "outputs": [],
   "source": [
    "# csw.getrecords(xml=xml)"
   ]
  },
  {
   "cell_type": "code",
   "execution_count": null,
   "id": "07107b28-14aa-42fe-ba38-56985225cd50",
   "metadata": {},
   "outputs": [],
   "source": [
    "# print(csw.results)"
   ]
  },
  {
   "cell_type": "code",
   "execution_count": null,
   "id": "6738a5cc-0870-4de0-b1df-967368a84c59",
   "metadata": {},
   "outputs": [],
   "source": [
    "# for record in csw.records:\n",
    "#     print(csw.records[record].title)"
   ]
  },
  {
   "cell_type": "markdown",
   "id": "f3828753-519d-4153-b8ed-61b95d569cc0",
   "metadata": {},
   "source": [
    "### Workspace catalogue"
   ]
  },
  {
   "cell_type": "markdown",
   "id": "ac29808f-02fe-4230-8a15-e87c3a38ab25",
   "metadata": {},
   "source": [
    "In this part of the demo, the user will use the workspace resource catalogue endpoint to discover processing outputs and applications.  The workspace catalogue is local to the user, which also has federated access to the system catalogue."
   ]
  },
  {
   "cell_type": "markdown",
   "id": "c7efae0f-7e4b-41ac-9587-22015769da79",
   "metadata": {},
   "source": [
    "User authenticates and the client receives an ID Token (JWT) that represents the user.<br>\n",
    "For convenience within the Jupyter notebook we use a username/password authentication - but the primary mechanism is to rely upon external identity provision.<br>"
   ]
  },
  {
   "cell_type": "code",
   "execution_count": null,
   "id": "491f99c1-c1b1-4f45-929c-13f6b53cf37f",
   "metadata": {},
   "outputs": [],
   "source": [
    "#-------------------------------------------------------------------------------\n",
    "# Authenticate as user 'alice' and get ID Token\n",
    "#-------------------------------------------------------------------------------\n",
    "USER_ALICE=\"alice\"\n",
    "USER_ALICE_PASSWORD=\"changeme\"\n",
    "alice_access_token = get_user_token(USER_ALICE, USER_ALICE_PASSWORD)\n",
    "headers = {\n",
    "    'Authorization': 'Bearer ' + alice_access_token\n",
    "}"
   ]
  },
  {
   "cell_type": "markdown",
   "id": "fb53e560-3c9f-4165-ac60-0ab2ed9c25dc",
   "metadata": {},
   "source": [
    "We can retrieve the details of the user's workspace:"
   ]
  },
  {
   "cell_type": "code",
   "execution_count": null,
   "id": "edacb759-be51-417b-a4b5-db04a012f261",
   "metadata": {},
   "outputs": [],
   "source": [
    "response = requests.get(f\"{workspaces_endpoint}/{workspace_prefix}-{USER_ALICE}\", headers=headers)\n",
    "response.raise_for_status()\n",
    "\n",
    "workspace_data = response.json()\n",
    "bucket_name = workspace_data[\"storage\"][\"credentials\"][\"bucketname\"]\n",
    "s3_access = workspace_data[\"storage\"][\"credentials\"][\"access\"]\n",
    "s3_secret = workspace_data[\"storage\"][\"credentials\"][\"secret\"]"
   ]
  },
  {
   "cell_type": "markdown",
   "id": "2139491a-d5cc-49e3-8811-0548b8dc1fa6",
   "metadata": {},
   "source": [
    "Alice uses the Processor Development Environment (PDE) to develop, test and package an application.\n",
    "Alice's published outputs are:\n",
    "* Docker image published to DockerHub\n",
    "* Application Package (CWL) published to Resource Catalogue (TBD) and/or GitHub - accessible by href"
   ]
  },
  {
   "cell_type": "markdown",
   "id": "fc2e4a2b-3151-413b-a15d-342d14171d35",
   "metadata": {},
   "source": [
    "We will first upload an application package to the user's workspace:"
   ]
  },
  {
   "cell_type": "code",
   "execution_count": null,
   "id": "25978f4c-5fe7-4248-ab01-501a3347cc56",
   "metadata": {},
   "outputs": [],
   "source": [
    "import boto3\n",
    "S3_ENDPOINT = \"https://minio.develop.eoepca.org\"\n",
    "session = boto3.session.Session()\n",
    "s3resource = session.resource('s3', aws_access_key_id=s3_access, aws_secret_access_key=s3_secret, endpoint_url=S3_ENDPOINT)\n",
    "object = s3resource.Object(bucket_name, 'application-package/s-expression/s-expression-0_0_2.cwl')\n",
    "result = object.put(Body=open('../data/s-expression-cwl.cwl', 'rb'))\n",
    "res = result.get('ResponseMetadata')\n",
    "if res.get('HTTPStatusCode') == 200:\n",
    "    print('Application package uploaded successfully')\n",
    "else:\n",
    "    print('Application package not uploaded')"
   ]
  },
  {
   "cell_type": "markdown",
   "id": "adbfde85-8323-4729-9daf-90de2f13ef20",
   "metadata": {},
   "source": [
    "Now we register the application package:"
   ]
  },
  {
   "cell_type": "code",
   "execution_count": null,
   "id": "cbfba517-4c51-46aa-9990-09953aab67ea",
   "metadata": {},
   "outputs": [],
   "source": [
    "resource_url= f'{bucket_name}/application-package/s-expression/s-expression-0_0_2.cwl'\n",
    "response = requests.post(\n",
    "    f\"{workspaces_endpoint}/{workspace_prefix}-{USER_ALICE}/register\",\n",
    "    headers=headers,\n",
    "    json={\n",
    "        \"type\": \"application\",\n",
    "        \"url\": resource_url,\n",
    "    }\n",
    ")\n",
    "response.raise_for_status()\n",
    "response"
   ]
  },
  {
   "cell_type": "code",
   "execution_count": null,
   "id": "c4b3ed80-d735-4d0e-bdf4-aab5ac197928",
   "metadata": {},
   "outputs": [],
   "source": [
    "app_id = \"s-expression\"\n",
    "app_version = \"0_0_2\"\n",
    "application_name = f\"{app_id}-{app_version}\""
   ]
  },
  {
   "cell_type": "markdown",
   "id": "42659274-85ab-4ac1-adad-cbe336dcf820",
   "metadata": {},
   "source": [
    "Setting up the authentication headers"
   ]
  },
  {
   "cell_type": "code",
   "execution_count": null,
   "id": "553feac4-ffae-42dc-8006-fa0ca61bcd09",
   "metadata": {
    "tags": []
   },
   "outputs": [],
   "source": [
    "workspace_endpoint = f'https://resource-catalogue.{workspace_prefix}-{USER_ALICE}.{base_domain}/csw'"
   ]
  },
  {
   "cell_type": "code",
   "execution_count": null,
   "id": "fcf6a672-d10e-43ee-a196-80db092ba341",
   "metadata": {},
   "outputs": [],
   "source": [
    "csw = CatalogueServiceWeb(workspace_endpoint,timeout=30,headers=headers)"
   ]
  },
  {
   "cell_type": "markdown",
   "id": "a4f99827-fa7b-41e8-b9a1-464f8027676f",
   "metadata": {},
   "source": [
    "With a GetRecords request the user can see the number of total records in the workspace catalogue"
   ]
  },
  {
   "cell_type": "code",
   "execution_count": null,
   "id": "908e7656-3368-4d45-ae4f-300cee38f745",
   "metadata": {},
   "outputs": [],
   "source": [
    "csw.getrecords2(maxrecords=10)\n",
    "csw.results"
   ]
  },
  {
   "cell_type": "code",
   "execution_count": null,
   "id": "d8d011ec-0f28-433f-a191-399f445e7a62",
   "metadata": {},
   "outputs": [],
   "source": [
    "for rec in csw.records:\n",
    "    print(f'identifier: {csw.records[rec].identifier}\\ntype: {csw.records[rec].type}\\ntitle: {csw.records[rec].title}\\n')"
   ]
  },
  {
   "cell_type": "code",
   "execution_count": null,
   "id": "cde3d7c4-b984-4f3c-a5b9-c72c9d391963",
   "metadata": {},
   "outputs": [],
   "source": [
    "csw.records[app_id].references"
   ]
  },
  {
   "cell_type": "code",
   "execution_count": null,
   "id": "f4a52770-38f3-443c-bc82-b0ba0456b2d1",
   "metadata": {},
   "outputs": [],
   "source": [
    "# Extract the URL for the Application Package\n",
    "application_package_url = csw.records[app_id].references[1]['url']\n",
    "#application_package_url = \"https://app-packages.s3.fr-par.scw.cloud/nhi/app-nhi.dev.0.0.3.cwl\"\n",
    "print(f\"Application Package URL = {application_package_url}\")"
   ]
  },
  {
   "cell_type": "markdown",
   "id": "608bd426-e7e1-48d4-a173-56608b31d32e",
   "metadata": {},
   "source": [
    "Then, using the identifiers, the user can parse the links to the output data as well as any applications that are available ([Common Workflow Language [CWL]](https://www.commonwl.org))"
   ]
  },
  {
   "cell_type": "markdown",
   "id": "92a9ed4e-8ae8-4697-881b-b88c86d54ebc",
   "metadata": {},
   "source": [
    "In this part of the demo, Eric will use the workspace resource catalogue endpoint to discover processing output.  The workspace catalogue is local to the user, which also has federated access to the system catalogue."
   ]
  },
  {
   "cell_type": "code",
   "execution_count": null,
   "id": "ab1474c4-eeec-407c-bc3b-8a488929df4f",
   "metadata": {},
   "outputs": [],
   "source": [
    "#-------------------------------------------------------------------------------\n",
    "# Authenticate as user 'bob' and get ID Token\n",
    "#-------------------------------------------------------------------------------\n",
    "USER_ERIC=\"eric\"\n",
    "USER_ERIC_PASSWORD=\"changeme\"\n",
    "eric_access_token = get_user_token(USER_ERIC, USER_ERIC_PASSWORD)"
   ]
  },
  {
   "cell_type": "markdown",
   "id": "a0c2e652-b436-4d57-b00d-3f3e53c54ae4",
   "metadata": {},
   "source": [
    "Setting up the authentication headers"
   ]
  },
  {
   "cell_type": "code",
   "execution_count": null,
   "id": "00026b8f-663d-4c65-9ac1-8a658b08230f",
   "metadata": {},
   "outputs": [],
   "source": [
    "headers = {\n",
    "    'Authorization': 'Bearer ' + eric_access_token\n",
    "}"
   ]
  },
  {
   "cell_type": "markdown",
   "id": "5203de97-ddde-4b2b-880d-036bd8aa35da",
   "metadata": {},
   "source": [
    "Eric uses his workspace catalogue to list all records identifier, type and title"
   ]
  },
  {
   "cell_type": "code",
   "execution_count": null,
   "id": "44166421-586f-4763-a9cd-6267e4654b14",
   "metadata": {},
   "outputs": [],
   "source": [
    "workspace_endpoint = f'https://resource-catalogue.{workspace_prefix}-{USER_ERIC}.{base_domain}/csw'\n",
    "print(f\"Eric's workspace (catalogue): {workspace_endpoint}\")\n",
    "csw = CatalogueServiceWeb(workspace_endpoint, timeout=30,headers=headers)\n",
    "csw.getrecords2(maxrecords=10)\n",
    "csw.results"
   ]
  },
  {
   "cell_type": "code",
   "execution_count": null,
   "id": "3c1369b7-3f64-4cd7-802a-bee6b1de89ad",
   "metadata": {},
   "outputs": [],
   "source": [
    "for rec in csw.records:\n",
    "    print(f'identifier: {csw.records[rec].identifier}\\ntype: {csw.records[rec].type}\\ntitle: {csw.records[rec].title}\\n')\n",
    "csw.records[rec].references"
   ]
  },
  {
   "cell_type": "markdown",
   "id": "d25d53cf-efb4-4f8e-acf0-14ac63d0de00",
   "metadata": {},
   "source": [
    "### OpenSearch"
   ]
  },
  {
   "cell_type": "markdown",
   "id": "25a86e86-6307-4882-8959-9cd4d49ba1e6",
   "metadata": {},
   "source": [
    "In this part of the demo, the user will use the OpenSearch capability of the system resource catalogue to discover datasets."
   ]
  },
  {
   "cell_type": "code",
   "execution_count": null,
   "id": "8ebe61ec-5afd-44ca-9a6e-977157ef3a25",
   "metadata": {},
   "outputs": [],
   "source": [
    "endpoint = system_catalogue_endpoint + '?service=CSW&version=3.0.0&request=GetCapabilities&mode=opensearch'"
   ]
  },
  {
   "cell_type": "markdown",
   "id": "f576e20e-34f2-4add-adb2-872e7ef44049",
   "metadata": {},
   "source": [
    "Here, the OWSLib OpenSearch client is used."
   ]
  },
  {
   "cell_type": "code",
   "execution_count": null,
   "id": "8a45580f-0c76-4bc9-b1ed-58e92be28c58",
   "metadata": {},
   "outputs": [],
   "source": [
    "os = OpenSearch(endpoint)"
   ]
  },
  {
   "cell_type": "markdown",
   "id": "22b62eaa-4984-4ace-9254-c60b9f4be84a",
   "metadata": {},
   "source": [
    "We use the description object to retrieve service metadata."
   ]
  },
  {
   "cell_type": "code",
   "execution_count": null,
   "id": "18cf93ee-ffe8-43c2-bb87-8a69a443f04b",
   "metadata": {},
   "outputs": [],
   "source": [
    "os.description.shortname"
   ]
  },
  {
   "cell_type": "code",
   "execution_count": null,
   "id": "bf57b35e-827c-4f2a-90d1-741ab95c7e91",
   "metadata": {},
   "outputs": [],
   "source": [
    "os.description.longname"
   ]
  },
  {
   "cell_type": "code",
   "execution_count": null,
   "id": "f7532d00-e504-4040-91fe-6dc72d668ea2",
   "metadata": {},
   "outputs": [],
   "source": [
    "os.description.description"
   ]
  },
  {
   "cell_type": "code",
   "execution_count": null,
   "id": "07ed926d-8b0e-441c-8ea4-a44f3f40bdf0",
   "metadata": {},
   "outputs": [],
   "source": [
    "os.description.urls"
   ]
  },
  {
   "cell_type": "code",
   "execution_count": null,
   "id": "14eeca54-7b9d-476d-8b81-21d9d6e93fa8",
   "metadata": {},
   "outputs": [],
   "source": [
    "os.description.tags"
   ]
  },
  {
   "cell_type": "markdown",
   "id": "86fff97a-1ec6-4586-ba01-950695f36ed0",
   "metadata": {},
   "source": [
    "Then we perform a search using atom encoding."
   ]
  },
  {
   "cell_type": "code",
   "execution_count": null,
   "id": "13b02fab-9bb1-4376-8a13-561a27506807",
   "metadata": {},
   "outputs": [],
   "source": [
    "results = os.search('application/atom+xml')\n",
    "len(results)"
   ]
  },
  {
   "cell_type": "markdown",
   "id": "baccad08-f193-4379-90ba-0da0ce330f46",
   "metadata": {},
   "source": [
    "Another posibility is to use the HTTP GET requests directly with a generic client like requests."
   ]
  },
  {
   "cell_type": "code",
   "execution_count": null,
   "id": "ac5ea886-b414-4df2-a482-408854c938fc",
   "metadata": {},
   "outputs": [],
   "source": [
    "import requests\n",
    "from bs4 import BeautifulSoup"
   ]
  },
  {
   "cell_type": "code",
   "execution_count": null,
   "id": "0871144c-4011-4935-baf6-cfd3c2171f74",
   "metadata": {},
   "outputs": [],
   "source": [
    "S = requests.Session()"
   ]
  },
  {
   "cell_type": "markdown",
   "id": "7e061992-58e8-4d0e-8ac0-8bd55eed0cad",
   "metadata": {},
   "source": [
    "Here, the user asks for the OpenSearch entrypoint template"
   ]
  },
  {
   "cell_type": "code",
   "execution_count": null,
   "id": "23fc3f20-75fb-4acf-9ff3-b00df47ed234",
   "metadata": {},
   "outputs": [],
   "source": [
    "R = S.get(url=endpoint)\n",
    "bs = BeautifulSoup(R.text, 'xml')\n",
    "print(bs.prettify())"
   ]
  },
  {
   "cell_type": "markdown",
   "id": "86704c40-cd73-41d5-9a92-702b5f15faf0",
   "metadata": {},
   "source": [
    "A GetRecords request (in the context of OpenSearch) is performed"
   ]
  },
  {
   "cell_type": "code",
   "execution_count": null,
   "id": "e17b7bc4-1220-43c1-a11a-62639ea32136",
   "metadata": {},
   "outputs": [],
   "source": [
    "url = system_catalogue_endpoint + '?mode=opensearch&service=CSW&version=3.0.0&request=GetRecords&elementsetname=full&resulttype=results&typenames=csw:Record'\n",
    "R = S.get(url=url)\n",
    "bs = BeautifulSoup(R.text, 'xml')\n",
    "print(bs.prettify())"
   ]
  },
  {
   "cell_type": "markdown",
   "id": "c30ffe74-666a-43db-b6f3-d4ba4cf1f70b",
   "metadata": {},
   "source": [
    "A collections search is also demonstrated, for Sentinel2 Level 2A results"
   ]
  },
  {
   "cell_type": "code",
   "execution_count": null,
   "id": "a678982d-bee9-4a0f-9468-ed95a3bd3169",
   "metadata": {},
   "outputs": [],
   "source": [
    "url = system_catalogue_endpoint + '?mode=opensearch&service=CSW&version=3.0.0&request=GetRecords&elementsetname=full&resulttype=results&typenames=csw:Record&eo:parentIdentifier=S2MSI2A'\n",
    "R = S.get(url=url)\n",
    "bs = BeautifulSoup(R.text, 'xml')\n",
    "print(bs.prettify())"
   ]
  },
  {
   "cell_type": "markdown",
   "id": "a7cf104c-a893-4f9d-8312-1a0d13b1f717",
   "metadata": {},
   "source": [
    "The user can also use OpenSearch EO mathematical notation to filter based on other parameters"
   ]
  },
  {
   "cell_type": "code",
   "execution_count": null,
   "id": "f02659d6-2273-4baa-940c-dfe9ade298c1",
   "metadata": {},
   "outputs": [],
   "source": [
    "# OpenSearch EO mathematical notation\n",
    "# n1 equal to field = n1\n",
    "# {n1,n2,…} equals to field=n1 OR field=n2 OR …\n",
    "# [n1,n2] equal to n1 <= field <= n2\n",
    "# [n1,n2[ equals to n1 <= field < n2\n",
    "# ]n1,n2[ equals to n1 < field < n2\n",
    "# ]n1,n2] equal to n1 < field  <= n2\n",
    "# [n1 equals to n1<= field\n",
    "# ]n1 equals to n1 < field\n",
    "# n2] equals to field <= n2\n",
    "# n2[ equals to field < n2\n",
    "\n",
    "url = system_catalogue_endpoint + '?mode=opensearch&service=CSW&version=3.0.0&request=GetRecords&elementsetname=full&resulttype=results&typenames=csw:Record&eo:cloudCover=]20'\n",
    "R = S.get(url=url)\n",
    "bs = BeautifulSoup(R.text, 'xml')\n",
    "print(bs.prettify())"
   ]
  },
  {
   "cell_type": "markdown",
   "id": "1d985ff8-57c1-4f0b-88bb-d57b6ebe5c31",
   "metadata": {},
   "source": [
    "The user can get one record using the identifier through the OpenSearch EO API:"
   ]
  },
  {
   "cell_type": "code",
   "execution_count": null,
   "id": "87b26ef7-3c6b-4bfe-a524-8516f04bc273",
   "metadata": {},
   "outputs": [],
   "source": [
    "url = system_catalogue_endpoint + '?mode=opensearch&service=CSW&version=3.0.0&request=GetRecords&elementsetname=full&resulttype=results&typenames=csw:Record&recordids=S2B_MSIL1C_20190910T095029_N0208_R079_T33SUB_20190910T120214.SAFE'\n",
    "R = S.get(url=url)\n",
    "bs = BeautifulSoup(R.text, 'xml')\n",
    "print(bs.prettify())"
   ]
  },
  {
   "cell_type": "markdown",
   "id": "9b832fbb-75b6-42b7-ba68-cf5499378815",
   "metadata": {},
   "source": [
    "The user can search using a bbox parameter:"
   ]
  },
  {
   "cell_type": "code",
   "execution_count": null,
   "id": "73a4365b-ff5b-4d95-a51e-d6787ee0666d",
   "metadata": {},
   "outputs": [],
   "source": [
    "url = system_catalogue_endpoint + '?mode=opensearch&service=CSW&version=3.0.0&request=GetRecords&elementsetname=full&resulttype=results&typenames=csw:Record&bbox=13.9,37,15.1,37.9'\n",
    "R = S.get(url=url)\n",
    "bs = BeautifulSoup(R.text, 'xml')\n",
    "print(bs.prettify())"
   ]
  },
  {
   "cell_type": "markdown",
   "id": "4850e7a0-c2a8-4bea-9a59-b034b9e9cd2f",
   "metadata": {},
   "source": [
    "The user can search using a time parameter:"
   ]
  },
  {
   "cell_type": "code",
   "execution_count": null,
   "id": "1a3daecd-b82b-4db5-aaa7-acf9fe57cf0d",
   "metadata": {},
   "outputs": [],
   "source": [
    "url = system_catalogue_endpoint + '?mode=opensearch&service=CSW&version=3.0.0&request=GetRecords&elementsetname=full&resulttype=results&typenames=csw:Record&time=2019-09-10/2019-09-12'\n",
    "R = S.get(url=url)\n",
    "bs = BeautifulSoup(R.text, 'xml')\n",
    "print(bs.prettify())"
   ]
  },
  {
   "cell_type": "markdown",
   "id": "5467eeca-ce77-4c2f-90fb-d99899774dcc",
   "metadata": {},
   "source": [
    "Or separate time start/stop parameters:"
   ]
  },
  {
   "cell_type": "code",
   "execution_count": null,
   "id": "4afdcf0c-ac3e-4676-877a-4330dfaf9cda",
   "metadata": {},
   "outputs": [],
   "source": [
    "url = system_catalogue_endpoint + '?mode=opensearch&service=CSW&version=3.0.0&request=GetRecords&elementsetname=full&resulttype=results&typenames=csw:Record&start=2019-09-10&stop=2019-09-12'\n",
    "R = S.get(url=url)\n",
    "bs = BeautifulSoup(R.text, 'xml')\n",
    "print(bs.prettify())"
   ]
  },
  {
   "cell_type": "markdown",
   "id": "d80bb3df-88f9-469b-8e39-5dd8e90892b2",
   "metadata": {},
   "source": [
    "Finally, both system and workspace endpoints can be queried using a Federated Search query, where the user sends a request to the workspace catalogue which in turn sends a distributed search request to the system catalogue and aggregates the results for the user."
   ]
  },
  {
   "cell_type": "code",
   "execution_count": null,
   "id": "f4b7bd1a-4f73-4ffe-bd18-ea11e2a2d18a",
   "metadata": {},
   "outputs": [],
   "source": [
    "url = system_catalogue_endpoint + '?mode=opensearch&service=CSW&version=3.0.0&request=GetRecords&typenames=csw:Record&elementsetname=full&resulttype=results&distributedSearch=TRUE&hopcount=1'\n",
    "R = S.get(url=url)\n",
    "bs = BeautifulSoup(R.text, 'xml')\n",
    "print(bs.prettify())"
   ]
  },
  {
   "cell_type": "markdown",
   "id": "18cebdc4-00de-445d-af13-f9001fe21839",
   "metadata": {},
   "source": [
    "Please note in the above result that the total of records is a combination of the system and workspace catalogues."
   ]
  },
  {
   "cell_type": "markdown",
   "id": "71406579-3e11-41a0-99d0-f92d137d75b6",
   "metadata": {},
   "source": [
    "### OGC API Records demo"
   ]
  },
  {
   "cell_type": "markdown",
   "id": "b782e936-a4f5-4c42-8f61-749f9f754765",
   "metadata": {},
   "source": [
    "In this part of the demo, the user will use the system level resource catalogue OGC API Records endpoint to discover data datasets.\n",
    "The `owslib.ogcapi.records` class of OWSLib is instantiated and service metadata are shown."
   ]
  },
  {
   "cell_type": "code",
   "execution_count": null,
   "id": "518428c6-5cb0-41de-8578-b92c40466315",
   "metadata": {},
   "outputs": [],
   "source": [
    "system_catalogue_endpoint = f'https://resource-catalogue.{base_domain}'"
   ]
  },
  {
   "cell_type": "code",
   "execution_count": null,
   "id": "108316b8-a2fa-4982-bcc3-219c4419c88f",
   "metadata": {},
   "outputs": [],
   "source": [
    "w = Records(system_catalogue_endpoint)"
   ]
  },
  {
   "cell_type": "code",
   "execution_count": null,
   "id": "ef7701a1-c8c7-4a6a-9e89-2f33ab458869",
   "metadata": {},
   "outputs": [],
   "source": [
    "w.url"
   ]
  },
  {
   "cell_type": "markdown",
   "id": "2a151297-f59c-4d94-8447-dfbc65bf9b28",
   "metadata": {},
   "source": [
    "Conformance classes supported by the OGC API Records server:"
   ]
  },
  {
   "cell_type": "code",
   "execution_count": null,
   "id": "8e477c07-965a-444e-8577-9b222c32b90c",
   "metadata": {},
   "outputs": [],
   "source": [
    "w.conformance()"
   ]
  },
  {
   "cell_type": "markdown",
   "id": "b92f279f-3c1f-407f-9860-22d833cf6cce",
   "metadata": {},
   "source": [
    "OpenAPI document of the OGC API Records server:"
   ]
  },
  {
   "cell_type": "code",
   "execution_count": null,
   "id": "59acaa0f-8070-4415-9676-b63c60e76731",
   "metadata": {},
   "outputs": [],
   "source": [
    "w.api()"
   ]
  },
  {
   "cell_type": "markdown",
   "id": "764ae3ea-8b07-4b4e-a4c2-8842f13a645f",
   "metadata": {},
   "source": [
    "Collections available on the catalogue:"
   ]
  },
  {
   "cell_type": "code",
   "execution_count": null,
   "id": "550a52de-2b02-4d47-b0de-0cf8f73c12b2",
   "metadata": {},
   "outputs": [],
   "source": [
    "w.collections()"
   ]
  },
  {
   "cell_type": "code",
   "execution_count": null,
   "id": "f48e1e0a-2322-4d3a-abb6-6911ed755213",
   "metadata": {},
   "outputs": [],
   "source": [
    "records = w.records()"
   ]
  },
  {
   "cell_type": "code",
   "execution_count": null,
   "id": "a854ad77-23f8-4e3a-9bf3-663e245a53c3",
   "metadata": {},
   "outputs": [],
   "source": [
    "len(records)"
   ]
  },
  {
   "cell_type": "markdown",
   "id": "2e15d32c-89aa-4453-8dcd-10faf09936eb",
   "metadata": {},
   "source": [
    "The user can then specify the collection to search within the catalogue:"
   ]
  },
  {
   "cell_type": "code",
   "execution_count": null,
   "id": "9fe1b3ef-3cf4-4e6a-9bb4-5c6c500098ed",
   "metadata": {},
   "outputs": [],
   "source": [
    "my_catalogue = w.collection('metadata:main')"
   ]
  },
  {
   "cell_type": "code",
   "execution_count": null,
   "id": "62b043a6-e2f5-4b4b-9bab-1512217760fc",
   "metadata": {},
   "outputs": [],
   "source": [
    "my_catalogue['id']"
   ]
  },
  {
   "cell_type": "markdown",
   "id": "36deb327-d2fb-490e-b585-634c514075a6",
   "metadata": {},
   "source": [
    "Collection level queryables:"
   ]
  },
  {
   "cell_type": "code",
   "execution_count": null,
   "id": "d367eff4-ad5b-4fc0-a2cd-db464277a320",
   "metadata": {},
   "outputs": [],
   "source": [
    "w.collection_queryables('metadata:main')"
   ]
  },
  {
   "cell_type": "markdown",
   "id": "bc6888f2-df55-4d20-b58a-5934ed7bb3e9",
   "metadata": {},
   "source": [
    "Query the catalogue for all records:"
   ]
  },
  {
   "cell_type": "code",
   "execution_count": null,
   "id": "610888de-980a-40ba-8958-719ccf6cb835",
   "metadata": {},
   "outputs": [],
   "source": [
    "my_catalogue_query = w.collection_items('metadata:main')"
   ]
  },
  {
   "cell_type": "code",
   "execution_count": null,
   "id": "6e9c9421-458e-4b75-ae82-e55ef609d68b",
   "metadata": {},
   "outputs": [],
   "source": [
    "my_catalogue_query['numberMatched']"
   ]
  },
  {
   "cell_type": "markdown",
   "id": "3fe916de-0436-43a6-9771-c66fbe4ca619",
   "metadata": {},
   "source": [
    "Metadata of first result:"
   ]
  },
  {
   "cell_type": "code",
   "execution_count": null,
   "id": "9564c479-6760-4377-a85c-358d55401f71",
   "metadata": {},
   "outputs": [],
   "source": [
    "my_catalogue_query['features'][0]['properties'].keys()"
   ]
  },
  {
   "cell_type": "code",
   "execution_count": null,
   "id": "43df443c-072f-41ba-9f9f-9fbf40a95256",
   "metadata": {},
   "outputs": [],
   "source": [
    "my_catalogue_query['features'][0]['properties']['title']"
   ]
  },
  {
   "cell_type": "markdown",
   "id": "37392923-bf30-47ee-8b4f-70a25e9b956c",
   "metadata": {},
   "source": [
    "Query the catalogue using filters:"
   ]
  },
  {
   "cell_type": "code",
   "execution_count": null,
   "id": "079e181c-6332-429b-99b7-11c302f09a3d",
   "metadata": {},
   "outputs": [],
   "source": [
    "#my_catalogue_query2 = w.collection_items('metadata:main', q='MSI')\n",
    "my_catalogue_query2 = w.collection_items('metadata:main', bbox=[14.9,47.7,16.4,48.7])\n",
    "# my_catalogue_query2 = w.collection_items('S2MSI2A', bbox=[14.9,47.7,16.4,48.7])"
   ]
  },
  {
   "cell_type": "code",
   "execution_count": null,
   "id": "fbc24506-4a77-4fb1-95fa-1a9b031d5b4a",
   "metadata": {},
   "outputs": [],
   "source": [
    "my_catalogue_query2['numberMatched']"
   ]
  },
  {
   "cell_type": "markdown",
   "id": "ee49eaaf-8e9a-4cb1-9622-d3c1c078d791",
   "metadata": {},
   "source": [
    "Full query result:"
   ]
  },
  {
   "cell_type": "code",
   "execution_count": null,
   "id": "c33644c4-5b3b-4850-b70d-5f56fc789c54",
   "metadata": {},
   "outputs": [],
   "source": [
    "[f['id'] for f in my_catalogue_query2['features']]"
   ]
  },
  {
   "cell_type": "markdown",
   "id": "20346504-8de2-4bc3-92fc-a321cfd45c98",
   "metadata": {},
   "source": [
    "Text CQL query:"
   ]
  },
  {
   "cell_type": "code",
   "execution_count": null,
   "id": "fd7eb4b8-46c0-4b85-ab03-b7bba6267983",
   "metadata": {},
   "outputs": [],
   "source": [
    "my_catalogue_cql_text_query = w.collection_items('metadata:main', filter=\"title LIKE 'S2B_MSIL1C_%'\")"
   ]
  },
  {
   "cell_type": "code",
   "execution_count": null,
   "id": "5458640e-7b02-49ef-b7e7-028e376690ec",
   "metadata": {},
   "outputs": [],
   "source": [
    "my_catalogue_cql_text_query['numberMatched']"
   ]
  },
  {
   "cell_type": "code",
   "execution_count": null,
   "id": "2ed3b9ff-91d5-48be-a5d1-609827c658d4",
   "metadata": {},
   "outputs": [],
   "source": [
    "my_catalogue_cql_text_query['features'][0]['properties']['title']"
   ]
  },
  {
   "cell_type": "markdown",
   "id": "43b79c0e-0452-4812-aa27-b441fc7230a1",
   "metadata": {},
   "source": [
    "JSON CQL query:"
   ]
  },
  {
   "cell_type": "code",
   "execution_count": null,
   "id": "f0d43561-dabe-4fcc-9a52-e6ca1090ce82",
   "metadata": {},
   "outputs": [],
   "source": [
    "my_catalogue_cql_json_query = w.collection_items('metadata:main', limit=1, cql={'op': '=', 'args': [{ 'property': 'title' }, 'S2B_MSIL1C_20190910T095029_N0208_R079_T33TXN_20190910T120910.SAFE']})"
   ]
  },
  {
   "cell_type": "code",
   "execution_count": null,
   "id": "90fd58c4-ab5b-4db4-9646-d29e667a400e",
   "metadata": {},
   "outputs": [],
   "source": [
    "my_catalogue_cql_json_query['features'][0]['properties']['title']"
   ]
  },
  {
   "cell_type": "markdown",
   "id": "b7999ab0-acc9-4246-b4c6-87588748f972",
   "metadata": {},
   "source": [
    "### Registration API demo"
   ]
  },
  {
   "cell_type": "markdown",
   "id": "9c15d351-3424-48d2-ad6a-9c3ad80992bc",
   "metadata": {},
   "source": [
    "This is an example on how to use the EOEPCA Registration API to register metadata records in the Resource Catalogue."
   ]
  },
  {
   "cell_type": "code",
   "execution_count": null,
   "id": "7971ead5-38c3-4318-a10b-a1da31befe26",
   "metadata": {},
   "outputs": [],
   "source": [
    "import requests\n",
    "import datetime\n",
    "import time\n",
    "import json"
   ]
  },
  {
   "cell_type": "code",
   "execution_count": null,
   "id": "bf35762d-579f-4aa7-a93d-948574e5df90",
   "metadata": {},
   "outputs": [],
   "source": [
    "base_domain = \"develop.eoepca.org\"\n",
    "registration_endpoint = f'https://registration-api-v1x.{base_domain}'"
   ]
  },
  {
   "cell_type": "markdown",
   "id": "50432710-b002-494d-b5d8-321e388a4c0f",
   "metadata": {},
   "source": [
    "We will now register an ADES instance in the Registration API"
   ]
  },
  {
   "cell_type": "code",
   "execution_count": null,
   "id": "cb78ecf9-39fc-4516-a6d5-d539ab5715d0",
   "metadata": {},
   "outputs": [],
   "source": [
    "response = requests.post(\n",
    "    f\"{registration_endpoint}/register\",\n",
    "    json={\n",
    "        \"type\": \"ades\",\n",
    "        \"url\": \"https://demo.pygeoapi.io/stable/processes\",\n",
    "    }\n",
    ")\n",
    "response.raise_for_status()\n",
    "response"
   ]
  },
  {
   "cell_type": "markdown",
   "id": "921a1af7-47b2-4946-9257-c608166fd3d4",
   "metadata": {},
   "source": [
    "Check if the ADES is actually registered:"
   ]
  },
  {
   "cell_type": "code",
   "execution_count": null,
   "id": "a510d41d-703a-4b5a-bbbc-ac604014db08",
   "metadata": {},
   "outputs": [],
   "source": [
    "time.sleep(3)\n",
    "response = requests.get(f\"https://resource-catalogue.{base_domain}/collections/metadata:main/items?type=service\", headers=dict(f=\"json\", **headers))\n",
    "response.raise_for_status()\n",
    "response.json()"
   ]
  },
  {
   "cell_type": "markdown",
   "id": "7805f303-48bc-44c8-990c-6656fc197e72",
   "metadata": {},
   "source": [
    "We will now register a STAC Item from the Registration API JSON endpoint."
   ]
  },
  {
   "cell_type": "code",
   "execution_count": null,
   "id": "0da8ed3a-ea63-4571-a5c3-a014ac898cd8",
   "metadata": {},
   "outputs": [],
   "source": [
    "url='https://raw.githubusercontent.com/radiantearth/stac-spec/master/examples/core-item.json'\n",
    "stac_item=requests.get(url).text\n",
    "#print(stac_item)"
   ]
  },
  {
   "cell_type": "code",
   "execution_count": null,
   "id": "a45d55e2-eabd-490b-83b2-11b62a22a068",
   "metadata": {},
   "outputs": [],
   "source": [
    "response = requests.post(\n",
    "    f\"{registration_endpoint}/register-json\",\n",
    "    json=json.loads(stac_item)\n",
    ")\n",
    "response.raise_for_status()\n",
    "response"
   ]
  },
  {
   "cell_type": "markdown",
   "id": "47f26d90-4493-4bb4-be7d-772c5e3f80f8",
   "metadata": {},
   "source": [
    "Check if the STAC Item is actually registered:"
   ]
  },
  {
   "cell_type": "code",
   "execution_count": null,
   "id": "0c5243f9-0905-4fc0-ad57-af5bce4b09fc",
   "metadata": {},
   "outputs": [],
   "source": [
    "time.sleep(3)\n",
    "response = requests.get(f\"https://resource-catalogue.{base_domain}/collections/metadata:main/items/20201211_223832_CS2\", headers=dict(f=\"json\", **headers))\n",
    "response.raise_for_status()\n",
    "response.json()"
   ]
  },
  {
   "cell_type": "markdown",
   "id": "a45cbf68-b327-4895-b208-04acf893ca9c",
   "metadata": {},
   "source": [
    "### Registration API v2 demo"
   ]
  },
  {
   "cell_type": "code",
   "execution_count": null,
   "id": "4fc14c78-f32a-4bab-8bc6-ecfd476c088c",
   "metadata": {},
   "outputs": [],
   "source": [
    "import requests\n",
    "import time\n",
    "import json"
   ]
  },
  {
   "cell_type": "code",
   "execution_count": null,
   "id": "289330b7-5b20-4df2-adfc-8497036fc8a8",
   "metadata": {},
   "outputs": [],
   "source": [
    "base_domain = \"develop.eoepca.org\"\n",
    "registration_endpoint = f'https://registration-api.{base_domain}'"
   ]
  },
  {
   "cell_type": "markdown",
   "id": "561dfecc-2e40-41e0-b02d-1eb17abf44af",
   "metadata": {},
   "source": [
    "We will now register a STAC Item in the Registration API using OGC API - Processes"
   ]
  },
  {
   "cell_type": "code",
   "execution_count": null,
   "id": "0e103cc3-7b2f-4bfe-9d51-68ca24f539ee",
   "metadata": {},
   "outputs": [],
   "source": [
    "response = requests.post(\n",
    "    f\"{registration_endpoint}/processes/register/execution\",\n",
    "    json={\n",
    "        \"inputs\": {\n",
    "            \"type\": \"item\",\n",
    "            \"source\": \"https://raw.githubusercontent.com/stac-utils/stac-examples/refs/heads/main/sentinel2/sentinel2-sample.json\",\n",
    "            \"target\": \"https://resource-catalogue.develop.eoepca.org\"\n",
    "        }\n",
    "    }\n",
    ")\n",
    "response.raise_for_status()\n",
    "response"
   ]
  },
  {
   "cell_type": "markdown",
   "id": "99dbcdbf-7881-41cd-9134-b579978f7f35",
   "metadata": {},
   "source": [
    "Check if the STAC Item is actually registered:"
   ]
  },
  {
   "cell_type": "code",
   "execution_count": null,
   "id": "db1163c6-3aa0-43ab-a756-26456024e2a2",
   "metadata": {},
   "outputs": [],
   "source": [
    "time.sleep(3)\n",
    "response = requests.get(f\"https://resource-catalogue.{base_domain}/stac/collections/metadata:main/items/S2A_OPER_MSI_L2A_TL_SGS__20180524T190423_A015250_T26SKD_N02.08\", headers=dict(f=\"json\"))\n",
    "response.raise_for_status()\n",
    "response.json()"
   ]
  },
  {
   "cell_type": "markdown",
   "id": "43cf182b-7191-4e64-985e-4a6707c327fa",
   "metadata": {},
   "source": [
    "We will now unregister the STAC Item"
   ]
  },
  {
   "cell_type": "code",
   "execution_count": null,
   "id": "ab5eebf8",
   "metadata": {},
   "outputs": [],
   "source": [
    "response = requests.post(\n",
    "    f\"{registration_endpoint}/processes/deregister/execution\",\n",
    "    json={\n",
    "        \"inputs\": {\n",
    "            \"id\": \"S2A_OPER_MSI_L2A_TL_SGS__20180524T190423_A015250_T26SKD_N02.08\",\n",
    "            \"target\": \"https://resource-catalogue.develop.eoepca.org\"\n",
    "        }\n",
    "    }\n",
    ")\n",
    "response.raise_for_status()\n",
    "response"
   ]
  },
  {
   "cell_type": "markdown",
   "id": "e1353c71-13dd-4b18-904c-eeac3740e109",
   "metadata": {},
   "source": [
    "Check if the STAC Item is actually unregistered:"
   ]
  },
  {
   "cell_type": "code",
   "execution_count": null,
   "id": "3b24ee59",
   "metadata": {},
   "outputs": [],
   "source": [
    "time.sleep(3)\n",
    "response = requests.get(f\"https://resource-catalogue.{base_domain}/stac/collections/metadata:main/items/S2A_OPER_MSI_L2A_TL_SGS__20180524T190423_A015250_T26SKD_N02.08\", headers=dict(f=\"json\"))\n",
    "response.raise_for_status()\n",
    "response.json()"
   ]
  },
  {
   "cell_type": "markdown",
   "id": "11ec9c98-96de-477e-9132-244790440fbd",
   "metadata": {},
   "source": [
    "We will now register a Record representing a workflow/process through Registration API"
   ]
  },
  {
   "cell_type": "code",
   "execution_count": null,
   "id": "52a1e622-8b00-4527-97ed-0c32b6b8fd2f",
   "metadata": {},
   "outputs": [],
   "source": [
    "json_str=\"\"\"\n",
    "{\n",
    "  \"inputs\": {\n",
    "    \"source\": {\n",
    "      \"id\": \"worldcereal_inference\",\n",
    "      \"type\": \"Feature\",\n",
    "      \"conformsTo\": [\n",
    "        \"http://www.opengis.net/spec/ogcapi-records-1/1.0/req/record-core\"\n",
    "      ],\n",
    "      \"geometry\": null,\n",
    "      \"properties\": {\n",
    "        \"created\": \"2024-05-17T00:00:00Z\",\n",
    "        \"updated\": \"2024-05-17T00:00:00Z\",\n",
    "        \"type\": \"process\",\n",
    "        \"title\": \"ESA worldcereal global maize detector\",\n",
    "        \"description\": \"A maize detection algorithm.\",\n",
    "        \"cost_estimate\": 0.1,\n",
    "        \"cost_unit\": \"platform credits per km²\",\n",
    "        \"keywords\": [\n",
    "          \"agriculture\",\n",
    "          \"crops\",\n",
    "          \"apex_algorithm\"\n",
    "        ],\n",
    "        \"language\": {\n",
    "          \"code\": \"en-US\",\n",
    "          \"name\": \"English (United States)\"\n",
    "        },\n",
    "        \"languages\": [\n",
    "          {\n",
    "            \"code\": \"en-US\",\n",
    "            \"name\": \"English (United States)\"\n",
    "          }\n",
    "        ],\n",
    "        \"contacts\": [\n",
    "          {\n",
    "            \"name\": \"Kristof Van Tricht\",\n",
    "            \"position\": \"Researcher\",\n",
    "            \"organization\": \"VITO\",\n",
    "            \"links\": [\n",
    "              {\n",
    "                \"href\": \"https://www.vito.be/\",\n",
    "                \"rel\": \"about\",\n",
    "                \"type\": \"text/html\"\n",
    "              },\n",
    "              {\n",
    "                \"href\": \"https://github.com/kvantricht\",\n",
    "                \"rel\": \"about\",\n",
    "                \"type\": \"text/html\"\n",
    "              }\n",
    "            ],\n",
    "            \"contactInstructions\": \"Contact via VITO\",\n",
    "            \"roles\": [\n",
    "              \"principal investigator\"\n",
    "            ]\n",
    "          },\n",
    "          {\n",
    "            \"name\": \"VITO\",\n",
    "            \"links\": [\n",
    "              {\n",
    "                \"href\": \"https://www.vito.be/\",\n",
    "                \"rel\": \"about\",\n",
    "                \"type\": \"text/html\"\n",
    "              }\n",
    "            ],\n",
    "            \"contactInstructions\": \"SEE WEBSITE\",\n",
    "            \"roles\": [\n",
    "              \"processor\"\n",
    "            ]\n",
    "          }\n",
    "        ],\n",
    "        \"themes\": [\n",
    "          {\n",
    "            \"concepts\": [\n",
    "              {\n",
    "                \"id\": \"AGRICULTURE\"\n",
    "              },\n",
    "              {\n",
    "                \"id\": \"FIELD CROP PRODUCTS\"\n",
    "              }\n",
    "            ],\n",
    "            \"scheme\": \"https://gcmd.earthdata.nasa.gov/kms/concepts/concept_scheme/sciencekeywords\"\n",
    "          }\n",
    "        ],\n",
    "        \"formats\": [\n",
    "          {\n",
    "            \"name\": \"GeoTiff\"\n",
    "          }\n",
    "        ],\n",
    "        \"license\": \"other\"\n",
    "      },\n",
    "      \"linkTemplates\": [],\n",
    "      \"links\": [\n",
    "        {\n",
    "          \"rel\": \"openeo-process\",\n",
    "          \"type\": \"application/json\",\n",
    "          \"title\": \"openEO Process Definition\",\n",
    "          \"href\": \"https://github.com/ESA-APEX/apex_algorithms/blob/main/openeo_udp/worldcereal_inference.json\"\n",
    "        },\n",
    "        {\n",
    "          \"rel\": \"git\",\n",
    "          \"type\": \"application/json\",\n",
    "          \"title\": \"Git source repository\",\n",
    "          \"href\": \"https://github.com/WorldCereal/worldcereal-classification.git\"\n",
    "        },\n",
    "        {\n",
    "          \"rel\": \"service\",\n",
    "          \"type\": \"application/json\",\n",
    "          \"title\": \"CDSE openEO federation\",\n",
    "          \"href\": \"https://openeofed.dataspace.copernicus.eu/\"\n",
    "        },\n",
    "        {\n",
    "          \"rel\": \"license\",\n",
    "          \"href\": \"https://apex.esa.int/license\"\n",
    "        }\n",
    "      ]\n",
    "    },\n",
    "    \"target\": \"https://resource-catalogue.develop.eoepca.org/\",\n",
    "    \"type\": \"item\"\n",
    "  }\n",
    "}\n",
    "\"\"\"\n",
    "response = requests.post(\n",
    "    f\"{registration_endpoint}/processes/register/execution\",\n",
    "    json=json.loads(json_str)\n",
    ")\n",
    "response.raise_for_status()\n",
    "response"
   ]
  },
  {
   "cell_type": "markdown",
   "id": "fff1f593-022f-4d20-8c08-c7f3ac649b57",
   "metadata": {},
   "source": [
    "Check if the Record is actually registered:"
   ]
  },
  {
   "cell_type": "code",
   "execution_count": null,
   "id": "31a6ea52-58e4-45fc-9257-02a7f09bf54b",
   "metadata": {},
   "outputs": [],
   "source": [
    "time.sleep(3)\n",
    "response = requests.get(f\"https://resource-catalogue.{base_domain}/stac/collections/metadata:main/items/worldcereal_inference\", headers=dict(f=\"json\"))\n",
    "response.raise_for_status()\n",
    "response.json()"
   ]
  },
  {
   "cell_type": "markdown",
   "id": "82cd7a1a-f230-4184-9417-0cc47c3eb381",
   "metadata": {},
   "source": [
    "We will now unregister the Record"
   ]
  },
  {
   "cell_type": "code",
   "execution_count": null,
   "id": "f6cadc12-6e94-4ceb-a8b2-83e29b2aea34",
   "metadata": {},
   "outputs": [],
   "source": [
    "response = requests.post(\n",
    "    f\"{registration_endpoint}/processes/deregister/execution\",\n",
    "    json={\n",
    "        \"inputs\": {\n",
    "            \"id\": \"worldcereal_inference\",\n",
    "            \"target\": \"https://resource-catalogue.develop.eoepca.org\"\n",
    "        }\n",
    "    }\n",
    ")\n",
    "response.raise_for_status()\n",
    "response"
   ]
  },
  {
   "cell_type": "markdown",
   "id": "2840a894-972e-42f2-bf9f-8c6885d373e3",
   "metadata": {},
   "source": [
    "Check if the Record is actually unregistered:"
   ]
  },
  {
   "cell_type": "code",
   "execution_count": null,
   "id": "d20d5895-97b6-4817-ba9c-64efb3d63e41",
   "metadata": {},
   "outputs": [],
   "source": [
    "time.sleep(3)\n",
    "response = requests.get(f\"https://resource-catalogue.{base_domain}/stac/collections/metadata:main/items/worldcereal_inference\", headers=dict(f=\"json\"))\n",
    "response.raise_for_status()\n",
    "response.json()"
   ]
  },
  {
   "cell_type": "markdown",
   "id": "d71eb629-31ca-436a-8557-548cca3b8e1a",
   "metadata": {},
   "source": [
    "### OGC API Records Transactions demo"
   ]
  },
  {
   "cell_type": "markdown",
   "id": "a0bcfd7f-513c-4b56-bb16-2665371ba02e",
   "metadata": {},
   "source": [
    "Examples of OGC API transactions using OGC API - Features - Part 4: Create, Replace, Update and Delete in the context of OGC API - Records metadata management."
   ]
  },
  {
   "cell_type": "markdown",
   "id": "d64d9858-cc16-4ed5-ad04-c6af05e5afda",
   "metadata": {},
   "source": [
    "In this part of the demo, the user will use the OWSLib client library to create/update/delete a record using the OGC API Transactions interface."
   ]
  },
  {
   "cell_type": "code",
   "execution_count": null,
   "id": "ef8c0bf0-070f-4b3f-bcc5-9ba0d951841e",
   "metadata": {},
   "outputs": [],
   "source": [
    "import json\n",
    "import requests\n",
    "from owslib.ogcapi.records import Records"
   ]
  },
  {
   "cell_type": "code",
   "execution_count": null,
   "id": "dcc81262-2e5a-410d-8c74-2296bd581ddf",
   "metadata": {},
   "outputs": [],
   "source": [
    "record_data = '../data/sample-record.json'\n",
    "base_domain = \"develop.eoepca.org\"\n",
    "system_catalogue_endpoint = f'https://resource-catalogue.{base_domain}'\n",
    "collection_id = 'metadata:main'"
   ]
  },
  {
   "cell_type": "code",
   "execution_count": null,
   "id": "508abd96-d238-4583-ac6a-1f02b7dc9118",
   "metadata": {},
   "outputs": [],
   "source": [
    "r = Records(system_catalogue_endpoint)"
   ]
  },
  {
   "cell_type": "code",
   "execution_count": null,
   "id": "3d49a965-19bb-48f1-994b-ffde01f7cf99",
   "metadata": {},
   "outputs": [],
   "source": [
    "cat = r.collection(collection_id)"
   ]
  },
  {
   "cell_type": "code",
   "execution_count": null,
   "id": "8332075f-913a-432d-ad60-4f6d0a0d1ba1",
   "metadata": {},
   "outputs": [],
   "source": [
    "with open(record_data) as fh:\n",
    "    data = json.load(fh)"
   ]
  },
  {
   "cell_type": "code",
   "execution_count": null,
   "id": "0e0f871a-9e8f-4c65-b3bd-476ca607cfe6",
   "metadata": {},
   "outputs": [],
   "source": [
    "identifier = data['id']"
   ]
  },
  {
   "cell_type": "code",
   "execution_count": null,
   "id": "59ae2cec-cea1-4019-930c-bc52f8f6fee7",
   "metadata": {},
   "outputs": [],
   "source": [
    "my_catalogue_query = r.collection_items(collection_id)\n",
    "my_catalogue_query['numberMatched']"
   ]
  },
  {
   "cell_type": "code",
   "execution_count": null,
   "id": "0e38d9e2-4359-4917-aa00-d3578da1065a",
   "metadata": {},
   "outputs": [],
   "source": [
    "r.collection_item_delete(collection_id, identifier)"
   ]
  },
  {
   "cell_type": "code",
   "execution_count": null,
   "id": "dbf970a6-e3e6-41a4-9008-4531b8b432b0",
   "metadata": {},
   "outputs": [],
   "source": [
    "my_catalogue_query = r.collection_items(collection_id)\n",
    "my_catalogue_query['numberMatched']"
   ]
  },
  {
   "cell_type": "markdown",
   "id": "f9d39112-86bb-453b-b010-ef46954d1059",
   "metadata": {},
   "source": [
    "Insert metadata."
   ]
  },
  {
   "cell_type": "code",
   "execution_count": null,
   "id": "4c0d9f4a-215c-4261-bd9b-d82938b07a2f",
   "metadata": {},
   "outputs": [],
   "source": [
    "r.collection_item_create(collection_id, data)\n",
    "\n",
    "# Similar approach using requests\n",
    "#url = f'{system_catalogue_endpoint}/collections/metadata:main/items'\n",
    "#headers = {'content-type': 'application/geo+json'}\n",
    "#payload = open(record_data)\n",
    "#req = requests.post(url, data=payload, headers=headers)"
   ]
  },
  {
   "cell_type": "code",
   "execution_count": null,
   "id": "2bd5d809-2691-41a6-bc43-dd33e2976782",
   "metadata": {},
   "outputs": [],
   "source": [
    "my_catalogue_query = r.collection_items(collection_id)\n",
    "my_catalogue_query['numberMatched']"
   ]
  },
  {
   "cell_type": "markdown",
   "id": "4adbe115-c326-4918-b417-0278d60016a6",
   "metadata": {},
   "source": [
    "Update metadata."
   ]
  },
  {
   "cell_type": "code",
   "execution_count": null,
   "id": "bcb41adc-5c47-49cc-b991-d00149f65d55",
   "metadata": {},
   "outputs": [],
   "source": [
    "data['properties']['description'] = \"Update description\""
   ]
  },
  {
   "cell_type": "code",
   "execution_count": null,
   "id": "68b88a3d-1268-4da0-b189-2b7cd451fa8f",
   "metadata": {},
   "outputs": [],
   "source": [
    "r.collection_item_update(collection_id, identifier, data)"
   ]
  },
  {
   "cell_type": "markdown",
   "id": "111560db-41be-417b-98c8-d58322c0093d",
   "metadata": {},
   "source": [
    "Delete metadata."
   ]
  },
  {
   "cell_type": "code",
   "execution_count": null,
   "id": "e7771e89-2534-4279-a2ff-1caaa1a19142",
   "metadata": {},
   "outputs": [],
   "source": [
    "r.collection_item_delete(collection_id, identifier)"
   ]
  },
  {
   "cell_type": "code",
   "execution_count": null,
   "id": "4e594566-7116-4f5e-b3c2-810d91504102",
   "metadata": {},
   "outputs": [],
   "source": [
    "my_catalogue_query = r.collection_items(collection_id)\n",
    "my_catalogue_query['numberMatched']"
   ]
  },
  {
   "cell_type": "markdown",
   "id": "300f1897-0c2c-4779-8a6e-78e13962c81b",
   "metadata": {},
   "source": [
    "Next, the user will ingest a STAC Item through the OGC API transactions."
   ]
  },
  {
   "cell_type": "code",
   "execution_count": null,
   "id": "76e9067d-0214-44fb-a72f-9f6c92117938",
   "metadata": {},
   "outputs": [],
   "source": [
    "stac_data = '../data/S2B_MSIL2A_20190910T095029_N0213_R079_T33UWQ_20190910T124513.json'\n",
    "with open(stac_data) as sf:\n",
    "    si = json.load(sf)"
   ]
  },
  {
   "cell_type": "code",
   "execution_count": null,
   "id": "05a70882-6b26-4cc9-8c59-962b1d512e58",
   "metadata": {},
   "outputs": [],
   "source": [
    "identifier = si['id']"
   ]
  },
  {
   "cell_type": "code",
   "execution_count": null,
   "id": "edc26e7d-1743-4d6a-9155-b4bdf000b2ef",
   "metadata": {},
   "outputs": [],
   "source": [
    "my_catalogue_query = r.collection_items(collection_id)\n",
    "my_catalogue_query['numberMatched']"
   ]
  },
  {
   "cell_type": "markdown",
   "id": "e45664ee-6e1c-4012-a10a-5188dbe6b789",
   "metadata": {},
   "source": [
    "Delete metadata in case the identifier already exists."
   ]
  },
  {
   "cell_type": "code",
   "execution_count": null,
   "id": "dab60b51-efe4-40bc-ba8c-fd8b8de47469",
   "metadata": {},
   "outputs": [],
   "source": [
    "r.collection_item_delete(collection_id, identifier)"
   ]
  },
  {
   "cell_type": "code",
   "execution_count": null,
   "id": "5d9e798d-5116-4c55-9f2a-ecc8a30ee10d",
   "metadata": {},
   "outputs": [],
   "source": [
    "my_catalogue_query = r.collection_items(collection_id)\n",
    "my_catalogue_query['numberMatched']"
   ]
  },
  {
   "cell_type": "markdown",
   "id": "d51f40d2-8165-491f-87cf-fdbec02cfd2b",
   "metadata": {},
   "source": [
    "Insert metadata."
   ]
  },
  {
   "cell_type": "code",
   "execution_count": null,
   "id": "daacd0d5-2a2e-4c8d-be7d-e75076c76b44",
   "metadata": {},
   "outputs": [],
   "source": [
    "#Disabled due to POST issue https://github.com/geopython/pycsw/issues/809\n",
    "#r.collection_item_create(collection_id, si)\n",
    "\n",
    "url = f'{system_catalogue_endpoint}/collections/metadata:main/items'\n",
    "headers = {'content-type': 'application/geo+json'}\n",
    "payload = open(stac_data)\n",
    "req = requests.post(url, data=payload, headers=headers)"
   ]
  },
  {
   "cell_type": "code",
   "execution_count": null,
   "id": "e5be3d9e-7bd1-4c8d-bbf8-f45454a6b5f0",
   "metadata": {},
   "outputs": [],
   "source": [
    "my_catalogue_query = r.collection_items(collection_id)\n",
    "my_catalogue_query['numberMatched']"
   ]
  },
  {
   "cell_type": "markdown",
   "id": "f7492220-1839-411d-82dd-747713a7aa80",
   "metadata": {},
   "source": [
    "Delete metadata."
   ]
  },
  {
   "cell_type": "code",
   "execution_count": null,
   "id": "f0e8682d-efb7-4b4b-b714-02d2ec999497",
   "metadata": {},
   "outputs": [],
   "source": [
    "r.collection_item_delete(collection_id, identifier)"
   ]
  },
  {
   "cell_type": "code",
   "execution_count": null,
   "id": "1aa3f8e9-b9c9-46b2-995c-8fb9ee5eacf4",
   "metadata": {},
   "outputs": [],
   "source": [
    "my_catalogue_query = r.collection_items(collection_id)\n",
    "my_catalogue_query['numberMatched']"
   ]
  },
  {
   "cell_type": "markdown",
   "id": "23da9f9d-613d-464a-a372-bdcedf415f44",
   "metadata": {},
   "source": [
    "Alternative method to demo Transactions using curl from terminal:"
   ]
  },
  {
   "cell_type": "code",
   "execution_count": null,
   "id": "5525e3cd-e877-4e3a-bbeb-2169c6f1f328",
   "metadata": {},
   "outputs": [],
   "source": [
    "# insert metadata\n",
    "# curl -v -H \"Content-Type: application/geo+json\" -XPOST https://resource-catalogue.develop.eoepca.org/collections/metadata:main/items -d @sample-record.json\n",
    "# update metadata\n",
    "# curl -v -H \"Content-Type: application/geo+json\" -XPUT https://resource-catalogue.develop.eoepca.org/collections/metadata:main/items/foorecord -d @sample-record.json\n",
    "# delete metadata\n",
    "# curl -v -XDELETE https://resource-catalogue.develop.eoepca.org/collections/metadata:main/items/foorecord"
   ]
  },
  {
   "cell_type": "markdown",
   "id": "39b444fc-db2b-47d1-b1ec-4d3afc037ee2",
   "metadata": {},
   "source": [
    "### STAC API demo"
   ]
  },
  {
   "cell_type": "markdown",
   "id": "a84eb2de-869b-4a30-a67e-88d7cfdd5ab2",
   "metadata": {},
   "source": [
    "In this part of the demo, the user will use the system level resource catalogue STAC API endpoint to discover data datasets.\n",
    "The `pystac_client` library is used as a STAC client."
   ]
  },
  {
   "cell_type": "code",
   "execution_count": null,
   "id": "2d2a3107-e895-4881-a6b6-8c50d086e1fe",
   "metadata": {},
   "outputs": [],
   "source": [
    "from pystac_client import Client\n",
    "from pystac_client import ConformanceClasses"
   ]
  },
  {
   "cell_type": "code",
   "execution_count": null,
   "id": "10dde737-eff2-4894-b784-47452031f4b5",
   "metadata": {},
   "outputs": [],
   "source": [
    "base_domain = \"develop.eoepca.org\"\n",
    "system_catalogue_endpoint = f'https://resource-catalogue.{base_domain}/stac'"
   ]
  },
  {
   "cell_type": "code",
   "execution_count": null,
   "id": "bbad6f94-c992-4c5a-b4d9-bbe2b304b79f",
   "metadata": {},
   "outputs": [],
   "source": [
    "catalog = Client.open(system_catalogue_endpoint)"
   ]
  },
  {
   "cell_type": "markdown",
   "id": "12ba3b68-8d2b-4963-8e51-d1b281ecb06f",
   "metadata": {},
   "source": [
    "STAC catalogue metadata:"
   ]
  },
  {
   "cell_type": "code",
   "execution_count": null,
   "id": "5b2f23f2-99e7-4a39-bd99-7eb48c08c31c",
   "metadata": {},
   "outputs": [],
   "source": [
    "catalog.id"
   ]
  },
  {
   "cell_type": "code",
   "execution_count": null,
   "id": "496f811e-a3f4-4b26-8c72-8ae345f4999e",
   "metadata": {},
   "outputs": [],
   "source": [
    "catalog.title"
   ]
  },
  {
   "cell_type": "code",
   "execution_count": null,
   "id": "99eda27f-8f95-484b-adf5-64f6e40d5043",
   "metadata": {},
   "outputs": [],
   "source": [
    "catalog.description"
   ]
  },
  {
   "cell_type": "markdown",
   "id": "e8e330f9-17bc-4798-944f-a23b9ef64a47",
   "metadata": {},
   "source": [
    "Conformance classes supported by the STAC API endpoint:"
   ]
  },
  {
   "cell_type": "code",
   "execution_count": null,
   "id": "8f887e5a-796d-4593-bedb-d805febe318f",
   "metadata": {},
   "outputs": [],
   "source": [
    "dir(ConformanceClasses)"
   ]
  },
  {
   "cell_type": "markdown",
   "id": "c4bcd6a1-5886-4b4d-abc1-ad820090228d",
   "metadata": {},
   "source": [
    "Validation of STAC API using `pystac_client`:"
   ]
  },
  {
   "cell_type": "code",
   "execution_count": null,
   "id": "151690bc-396a-4c0a-86df-3f1ae888b6d1",
   "metadata": {},
   "outputs": [],
   "source": [
    "catalog.conforms_to(ConformanceClasses.ITEM_SEARCH)"
   ]
  },
  {
   "cell_type": "code",
   "execution_count": null,
   "id": "e46ac39f-8aa6-4392-a97c-02ce7e0fd767",
   "metadata": {},
   "outputs": [],
   "source": [
    "catalog.conforms_to(ConformanceClasses.CORE)"
   ]
  },
  {
   "cell_type": "markdown",
   "id": "6b99c79c-e60c-4203-8721-d15d16523327",
   "metadata": {},
   "source": [
    "Query the catalogue for all STAC items:"
   ]
  },
  {
   "cell_type": "code",
   "execution_count": null,
   "id": "c198d93e-4905-4e9a-932e-9c9fb8616954",
   "metadata": {},
   "outputs": [],
   "source": [
    "mysearch = catalog.search(collections=['S2MSI2A'], max_items=10)\n",
    "print(f\"{mysearch.matched()} items found\")"
   ]
  },
  {
   "cell_type": "markdown",
   "id": "8e2b1bd5-8a4d-49e0-8317-5508e96a96f7",
   "metadata": {},
   "source": [
    "Query the STAC API using filters:"
   ]
  },
  {
   "cell_type": "code",
   "execution_count": null,
   "id": "7f234536-7328-4373-ae8a-8302cb86b2e4",
   "metadata": {},
   "outputs": [],
   "source": [
    "mysearch = catalog.search(collections=['S2MSI2A'], bbox=[14.9,47.7,16.4,48.7], max_items=10)\n",
    "print(f\"{mysearch.matched()} items found\")"
   ]
  },
  {
   "cell_type": "markdown",
   "id": "691602b7-6736-4b61-a89e-1b8ff71dbd35",
   "metadata": {},
   "source": [
    "Iterate through the query results:"
   ]
  },
  {
   "cell_type": "code",
   "execution_count": null,
   "id": "3e3d5306-fabc-4f15-ab69-cbcbafc43871",
   "metadata": {},
   "outputs": [],
   "source": [
    "items = mysearch.items()\n",
    "for item in items:\n",
    "    print(item.id)"
   ]
  },
  {
   "cell_type": "markdown",
   "id": "acaefe17-80d5-488f-bd8f-f2673161b9a0",
   "metadata": {},
   "source": [
    "Show last STAC item JSON:"
   ]
  },
  {
   "cell_type": "code",
   "execution_count": null,
   "id": "088e7dfb-ac40-49bc-940f-5aa2416bd227",
   "metadata": {},
   "outputs": [],
   "source": [
    "# print(json.dumps(item.to_dict(), indent=2))\n",
    "#print(item.to_dict())"
   ]
  },
  {
   "cell_type": "code",
   "execution_count": null,
   "id": "4cada058-6b37-4789-95c2-bf1ef3b75539",
   "metadata": {},
   "outputs": [],
   "source": [
    "first_item = next(mysearch.items())\n",
    "first_item"
   ]
  },
  {
   "cell_type": "markdown",
   "id": "77783293-6148-49d6-bf80-4162c241f3bb",
   "metadata": {},
   "source": [
    "Make a Collection Search"
   ]
  },
  {
   "cell_type": "code",
   "execution_count": null,
   "id": "cb44a9bc-0e4d-42f5-b59a-2357738dc714",
   "metadata": {},
   "outputs": [],
   "source": [
    "collection_search = catalog.collection_search(q=\"Sentinel\")"
   ]
  },
  {
   "cell_type": "markdown",
   "id": "5b1cbd66-fe08-4b1c-bb93-9437687af4b6",
   "metadata": {},
   "source": [
    "Search results:"
   ]
  },
  {
   "cell_type": "code",
   "execution_count": null,
   "id": "c57d0e6a-909e-4162-acbb-3eeed865be0c",
   "metadata": {},
   "outputs": [],
   "source": [
    "collection_search.matched()"
   ]
  },
  {
   "cell_type": "code",
   "execution_count": null,
   "id": "9bf5de7f-101c-4b3e-b093-1cbd61fe28ca",
   "metadata": {},
   "outputs": [],
   "source": [
    "collection_search.collection_list()"
   ]
  },
  {
   "cell_type": "code",
   "execution_count": null,
   "id": "491054e0-7666-4dda-aa4f-bde8408dfccf",
   "metadata": {},
   "outputs": [],
   "source": [
    "for collection in collection_search.collections():\n",
    "    print(collection.id)"
   ]
  },
  {
   "cell_type": "markdown",
   "id": "10bf1d4d-c52e-466e-832d-451cf3aac01d",
   "metadata": {},
   "source": [
    "### STAC API demo (eoAPI)"
   ]
  },
  {
   "cell_type": "code",
   "execution_count": null,
   "id": "094175dd-0447-4eb4-ab57-71a918165688",
   "metadata": {},
   "outputs": [],
   "source": [
    "from pystac_client import Client"
   ]
  },
  {
   "cell_type": "code",
   "execution_count": null,
   "id": "ce8958e5-ba8a-491b-ae95-b32854185312",
   "metadata": {},
   "outputs": [],
   "source": [
    "base_domain = \"develop.eoepca.org\"\n",
    "stac_api_url = f'https://eoapi.{base_domain}/stac'"
   ]
  },
  {
   "cell_type": "code",
   "execution_count": null,
   "id": "cd7a4f2b-aded-44e9-be6c-128fc9ac7be3",
   "metadata": {},
   "outputs": [],
   "source": [
    "# Search against the STAC API\n",
    "catalog = Client.open(stac_api_url)\n",
    "catalog.id"
   ]
  },
  {
   "cell_type": "code",
   "execution_count": null,
   "id": "8c38143f-e42a-4aca-834d-f04bfce756de",
   "metadata": {},
   "outputs": [],
   "source": [
    "# Select a collection\n",
    "collections_filter = {\n",
    "    \"op\": \"=\",\n",
    "    \"args\": [{\"property\": \"collection\"}, \"sentinel-2-l2a\"],\n",
    "}"
   ]
  },
  {
   "cell_type": "code",
   "execution_count": null,
   "id": "ddea4499-c3a3-4043-9931-060d6d38d022",
   "metadata": {},
   "outputs": [],
   "source": [
    "# Define your area of interest\n",
    "AOI = {\n",
    "  \"type\": \"Polygon\",\n",
    "  \"coordinates\": [\n",
    "    [\n",
    "      [18.414015459767, 54.232763555655595],\n",
    "      [20.04561585636452, 54.232763555655595],\n",
    "      [20.04561585636452, 54.92536348887734],\n",
    "      [18.414015459767, 54.92536348887734],\n",
    "      [18.414015459767, 54.232763555655595]\n",
    "    ]\n",
    "  ]\n",
    "}\n",
    "spatial_filter = {\"op\": \"s_intersects\", \"args\": [{\"property\": \"geometry\"}, AOI]}"
   ]
  },
  {
   "cell_type": "code",
   "execution_count": null,
   "id": "389c771c-3d4d-4770-a343-72c9a70ee3ac",
   "metadata": {},
   "outputs": [],
   "source": [
    "# Define your time interval of interest\n",
    "TIME_INTERVAL = [\"2023-09-01T00:00:00Z\", \"2023-09-30T23:59:59Z\"]\n",
    "temporal_filter = {\n",
    "    \"op\": \"t_intersects\",\n",
    "    \"args\": [{\"property\": \"datetime\"}, {\"interval\": TIME_INTERVAL}],\n",
    "}"
   ]
  },
  {
   "cell_type": "code",
   "execution_count": null,
   "id": "469bd653-c459-4264-8110-19bb75c2ea8b",
   "metadata": {},
   "outputs": [],
   "source": [
    "# Additional filters can be applied for other search criteria like <= maximum eo:cloud_cover in item properties\n",
    "cloud_filter = {\"op\": \"<=\", \"args\": [{\"property\": \"eo:cloud_cover\"}, 10]}"
   ]
  },
  {
   "cell_type": "code",
   "execution_count": null,
   "id": "60dbfd96-6d0e-4cdc-ac0b-78f7af1d0b1e",
   "metadata": {},
   "outputs": [],
   "source": [
    "# Define your search with CQL2 syntax\n",
    "search = catalog.search(\n",
    "    filter_lang=\"cql2-json\",\n",
    "    sortby=[{\"direction\": \"asc\", \"field\": \"properties.datetime\"}],\n",
    "    filter={\n",
    "      \"op\": \"and\",\n",
    "      \"args\": [collections_filter, spatial_filter, temporal_filter, cloud_filter]\n",
    "    }\n",
    ")"
   ]
  },
  {
   "cell_type": "code",
   "execution_count": null,
   "id": "c5339aa0-e84d-4fc0-8c97-a7946b090889",
   "metadata": {},
   "outputs": [],
   "source": [
    "# Grab the first item from the search results and sign the assets\n",
    "first_item = next(search.items())\n",
    "first_item"
   ]
  },
  {
   "cell_type": "markdown",
   "id": "e678e6a8-0e6e-4067-b21f-b15fa9d32163",
   "metadata": {},
   "source": [
    "### STAC Datacube demo"
   ]
  },
  {
   "cell_type": "markdown",
   "id": "af09c9cf-098f-4c53-81eb-ce0450cf1be3",
   "metadata": {},
   "source": [
    "In this part of the demo, the user will register a STAC Item with datacube extension and use the system level resource catalogue to discover datacube datasets."
   ]
  },
  {
   "cell_type": "code",
   "execution_count": null,
   "id": "efade885-f9dc-4808-ab44-2b5e23112cce",
   "metadata": {},
   "outputs": [],
   "source": [
    "import json\n",
    "import requests\n",
    "from owslib.ogcapi.records import Records"
   ]
  },
  {
   "cell_type": "code",
   "execution_count": null,
   "id": "f6221616-d38c-4df2-8f8b-9596ea3bdddd",
   "metadata": {},
   "outputs": [],
   "source": [
    "record_data = '../data/ESACCI-LC-L4-LCCS-Map-300m-P1Y-2009-v2.0.7cds.json'\n",
    "base_domain = \"develop.eoepca.org\"\n",
    "system_catalogue_endpoint = f'https://resource-catalogue.{base_domain}'\n",
    "collection_id = 'metadata:main'"
   ]
  },
  {
   "cell_type": "code",
   "execution_count": null,
   "id": "49c17999-d240-432b-a54e-a881a401490e",
   "metadata": {},
   "outputs": [],
   "source": [
    "r = Records(system_catalogue_endpoint)"
   ]
  },
  {
   "cell_type": "code",
   "execution_count": null,
   "id": "d7450b94-4a5d-4047-bf06-69b332873588",
   "metadata": {},
   "outputs": [],
   "source": [
    "with open(record_data) as fh:\n",
    "    data = json.load(fh)"
   ]
  },
  {
   "cell_type": "code",
   "execution_count": null,
   "id": "49e96d68-adea-4cd2-893b-0bc8e13499ad",
   "metadata": {},
   "outputs": [],
   "source": [
    "identifier = data['id']"
   ]
  },
  {
   "cell_type": "code",
   "execution_count": null,
   "id": "82a92790-96af-4353-97fe-fb118b231192",
   "metadata": {},
   "outputs": [],
   "source": [
    "r.collection_item_delete(collection_id, identifier)"
   ]
  },
  {
   "cell_type": "code",
   "execution_count": null,
   "id": "7c4f0970-c854-4f0c-88fe-6e001442b86d",
   "metadata": {},
   "outputs": [],
   "source": [
    "r.collection_item_create(collection_id, data)"
   ]
  },
  {
   "cell_type": "code",
   "execution_count": null,
   "id": "a2787aba-641e-4c60-aa1f-0df77aa4fe65",
   "metadata": {},
   "outputs": [],
   "source": [
    "my_catalogue_query = r.collection_items('metadata:main')\n",
    "my_catalogue_query['numberMatched']"
   ]
  },
  {
   "cell_type": "code",
   "execution_count": null,
   "id": "98bfeaf9-6415-4938-8a90-95562226f1e5",
   "metadata": {},
   "outputs": [],
   "source": [
    "my_catalogue_cql_text_query = r.collection_items('metadata:main', filter=\"anytext ILIKE '%datacube%'\")\n",
    "my_catalogue_cql_text_query['numberMatched']"
   ]
  },
  {
   "cell_type": "code",
   "execution_count": null,
   "id": "f362f266-9221-42cd-bce7-fa483ff67ebd",
   "metadata": {},
   "outputs": [],
   "source": [
    "my_catalogue_cql_text_query['features'][0]['properties']['title']"
   ]
  },
  {
   "cell_type": "code",
   "execution_count": null,
   "id": "a261ca48-23ab-4ce4-8d75-1a62de31615c",
   "metadata": {},
   "outputs": [],
   "source": [
    "my_catalogue_cql_text_query['features'][0]"
   ]
  },
  {
   "cell_type": "markdown",
   "id": "8024d488-6a53-4821-b491-7c33f2a1612c",
   "metadata": {},
   "source": [
    "### QGIS catalogue demo"
   ]
  },
  {
   "cell_type": "markdown",
   "id": "6f02be03-c660-40ce-b68b-c183ccfeb4cc",
   "metadata": {},
   "source": [
    "In this part of the demo, the user will use the system level resource catalogue endpoint to discover and visualize datasets through QGIS desktop application."
   ]
  },
  {
   "cell_type": "markdown",
   "id": "39965188-80f0-4c7e-a060-2ccfcfe2c5b4",
   "metadata": {},
   "source": [
    "![QGIS main window with OSM loaded](img/Screenshot_QGIS_01.png)"
   ]
  },
  {
   "cell_type": "markdown",
   "id": "bdb08312-ad0e-406e-965b-bbd6be2013ac",
   "metadata": {},
   "source": [
    "The user starts up QGIS and loads some data, in this case the OSM base map. The MetaSearch tool is available on the toolbar"
   ]
  },
  {
   "cell_type": "markdown",
   "id": "8494e84b-6c47-4cf8-90a5-c20524bf8359",
   "metadata": {},
   "source": [
    "![MetaSearch main window](img/Screenshot_QGIS_02.png)"
   ]
  },
  {
   "cell_type": "markdown",
   "id": "e1dc363d-e757-47ea-b5fb-5f3a2b7edcf5",
   "metadata": {},
   "source": [
    "The user can add a new catalogue endpoint by pressing the New button, then needs to add the Resource Catalogue endpoint in the URL text box"
   ]
  },
  {
   "cell_type": "markdown",
   "id": "d3d15195-392d-4d4a-867e-53e50ddd8407",
   "metadata": {},
   "source": [
    "![EOEPCA Resource Catalogue in QGIS](img/Screenshot_QGIS_03.png)"
   ]
  },
  {
   "cell_type": "markdown",
   "id": "20b77ef1-0e9f-4f4b-a1a9-274fb3f239e5",
   "metadata": {},
   "source": [
    "The service metadata for the Resource Catalogue are available from the Service Info button"
   ]
  },
  {
   "cell_type": "markdown",
   "id": "566204d6-b0a2-4340-ac5b-3a5f097369ca",
   "metadata": {},
   "source": [
    "![Service Info](img/Screenshot_QGIS_04.png)"
   ]
  },
  {
   "cell_type": "markdown",
   "id": "bcc321c3-fdea-4e71-a638-8719222f980d",
   "metadata": {},
   "source": [
    "The Service Capabilities are also available from the 'GetCapabilities Response' button"
   ]
  },
  {
   "cell_type": "markdown",
   "id": "7da0c977-cce3-49db-ac7d-af0dd00b2410",
   "metadata": {},
   "source": [
    "![Service Capabilities](img/Screenshot_QGIS_05.png)"
   ]
  },
  {
   "cell_type": "markdown",
   "id": "ea1dbb07-0d14-4cde-87f8-05c40c47eb2e",
   "metadata": {},
   "source": [
    "The user moves to the 'Search' tab of MetaSearch main window to perform a catalogue search (in this case by adding a bounding box)"
   ]
  },
  {
   "cell_type": "markdown",
   "id": "f8b86d3d-8bd3-4037-9492-e3d839f8ff7e",
   "metadata": {},
   "source": [
    "![Search with bbox](img/Screenshot_QGIS_06.png)"
   ]
  },
  {
   "cell_type": "markdown",
   "id": "d2df457b-179d-46b8-8c74-5d6d26845a06",
   "metadata": {},
   "source": [
    "By pressing 'Search' the Resource Catalogue is performing a dataset search. Then by selecting a result, the dataset bbox is shown on the map."
   ]
  },
  {
   "cell_type": "markdown",
   "id": "f6b3b3f8-a264-45ad-a80a-0a0848b032e1",
   "metadata": {},
   "source": [
    "![Search for datasets](img/Screenshot_QGIS_07.png)"
   ]
  },
  {
   "cell_type": "markdown",
   "id": "0a6fcffd-a9f8-4fa9-a1bc-b119b9228e52",
   "metadata": {},
   "source": [
    "The user can choose to view the selected dataset by selecting the 'Add Data' button, where MetaSearch automatically discovers available WMS, WFS, WCS links and enables the capability to load the data directly to QGIS map. In this case, the WMS and WCS endpoints are available from the Data Access links included in the catalogue record."
   ]
  },
  {
   "cell_type": "markdown",
   "id": "16ed7ec1-d646-41bb-9e1e-ee1e5eb2b11e",
   "metadata": {},
   "source": [
    "![Adding Data](img/Screenshot_QGIS_08.png)"
   ]
  },
  {
   "cell_type": "markdown",
   "id": "68e373a8-5f07-4ee1-99e1-794fc7cdc475",
   "metadata": {},
   "source": [
    "By selecting 'Add WMS/WMTS' the default QGIS WMS dialog shows up. Here, the user can browse through the available layers offered by the Data Access component and select a layer to add to the map."
   ]
  },
  {
   "cell_type": "markdown",
   "id": "1f1d64a4-5e03-451c-a207-0ba89a300d4d",
   "metadata": {},
   "source": [
    "![QGIS WMS dialog](img/Screenshot_QGIS_09.png)"
   ]
  },
  {
   "cell_type": "markdown",
   "id": "e88edfa7-3c92-4a48-8c94-4320885718e2",
   "metadata": {},
   "source": [
    "After selecting a layer, QGIS will add the layer to the map and user can preview the selected dataset"
   ]
  },
  {
   "cell_type": "markdown",
   "id": "e8df67b9-6198-4154-adc7-0b9d1cde352b",
   "metadata": {},
   "source": [
    "![Data preview](img/Screenshot_QGIS_10.png)"
   ]
  },
  {
   "cell_type": "markdown",
   "id": "23a1718a-6206-4eb9-82ac-fa538de7f184",
   "metadata": {},
   "source": [
    "By double clicking the catalogue record, the user can also preview the record metadata"
   ]
  },
  {
   "cell_type": "markdown",
   "id": "3c0bfb63-fdaf-4dde-a632-bf6d8eb71cbd",
   "metadata": {},
   "source": [
    "![Metadata preview](img/Screenshot_QGIS_11.png)"
   ]
  }
 ],
 "metadata": {
  "kernelspec": {
   "display_name": "Python 3 (ipykernel)",
   "language": "python",
   "name": "python3"
  },
  "language_info": {
   "codemirror_mode": {
    "name": "ipython",
    "version": 3
   },
   "file_extension": ".py",
   "mimetype": "text/x-python",
   "name": "python",
   "nbconvert_exporter": "python",
   "pygments_lexer": "ipython3",
   "version": "3.11.10"
  }
 },
 "nbformat": 4,
 "nbformat_minor": 5
}
