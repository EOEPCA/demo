{
 "cells": [
  {
   "cell_type": "markdown",
   "id": "conceptual-judges",
   "metadata": {},
   "source": [
    "# Processing\n",
    "Demonstration of Processing endpoints."
   ]
  },
  {
   "cell_type": "code",
   "execution_count": 1,
   "id": "manufactured-repair",
   "metadata": {},
   "outputs": [],
   "source": [
    "import utils.DemoClient as client\n",
    "import jwt\n",
    "import json"
   ]
  },
  {
   "cell_type": "markdown",
   "id": "liable-reform",
   "metadata": {},
   "source": [
    "## Initialise"
   ]
  },
  {
   "cell_type": "markdown",
   "id": "experienced-yemen",
   "metadata": {},
   "source": [
    "### Client\n",
    "We instantiate a client to interact with the platform. The client dynamically registers with the Authorisation Server to take part in UMA (User Managed Access) flows through which authorization is obtained for scoped access resources on behalf of the user."
   ]
  },
  {
   "cell_type": "code",
   "execution_count": 2,
   "id": "fluid-plane",
   "metadata": {},
   "outputs": [
    {
     "name": "stdout",
     "output_type": "stream",
     "text": [
      "State loaded from file: {'client_id': '20f9737b-80a0-4087-8aa0-68bde5a23e39', 'client_secret': '41294b47-a177-45e0-8a2b-5497f8654ba1'}\n",
      "client_id: 20f9737b-80a0-4087-8aa0-68bde5a23e39 [REUSED]\n",
      "Client state saved to file: state.json\n"
     ]
    }
   ],
   "source": [
    "#-------------------------------------------------------------------------------\n",
    "# Initialise client\n",
    "#-------------------------------------------------------------------------------\n",
    "base_domain = \"demo.eoepca.org\"\n",
    "platform_domain = \"test.\" + base_domain\n",
    "base_url = \"https://\" + platform_domain\n",
    "demo = client.DemoClient(base_url)\n",
    "demo.register_client()\n",
    "demo.save_state()"
   ]
  },
  {
   "cell_type": "markdown",
   "id": "written-somalia",
   "metadata": {},
   "source": [
    "### User\n",
    "User authenticates and the client receives an ID Token (JWT) that represents the user."
   ]
  },
  {
   "cell_type": "code",
   "execution_count": 3,
   "id": "formed-scope",
   "metadata": {
    "tags": []
   },
   "outputs": [
    {
     "name": "stdout",
     "output_type": "stream",
     "text": [
      "[Request] GET => https://test.demo.eoepca.org/.well-known/uma2-configuration\n",
      "<Response [200]>\n",
      "token_endpoint: https://test.demo.eoepca.org/oxauth/restv1/token\n",
      "[Request] POST => https://test.demo.eoepca.org/oxauth/restv1/token\n"
     ]
    }
   ],
   "source": [
    "#-------------------------------------------------------------------------------\n",
    "# Authenticate as UserA and get ID Token\n",
    "#-------------------------------------------------------------------------------\n",
    "USER_NAME=\"bob\"\n",
    "USER_PASSWORD=\"defaultPWD\"\n",
    "user_id_token = demo.get_id_token(USER_NAME, USER_PASSWORD)"
   ]
  },
  {
   "cell_type": "markdown",
   "id": "swiss-librarian",
   "metadata": {},
   "source": [
    "## ADES\n",
    "The ADES provides user-specific endpoints, using a URL path prefix."
   ]
  },
  {
   "cell_type": "code",
   "execution_count": 4,
   "id": "distinguished-particle",
   "metadata": {},
   "outputs": [
    {
     "name": "stdout",
     "output_type": "stream",
     "text": [
      "ADES WPS endpoint: http://ades.demo.eoepca.org/bob/zoo\n",
      "ADES API Processes endpoint: http://ades.demo.eoepca.org/bob/wps3\n"
     ]
    }
   ],
   "source": [
    "# ADES URLs\n",
    "ades_base_url = \"http://ades.demo.eoepca.org\" #\"http://ades.\" + platform_domain\n",
    "ades_wps_url = ades_base_url + \"/\" + USER_NAME + \"/zoo\"; print(\"ADES WPS endpoint:\", ades_wps_url)\n",
    "ades_proc_url = ades_base_url + \"/\" + USER_NAME + \"/wps3\"; print(\"ADES API Processes endpoint:\", ades_proc_url)"
   ]
  },
  {
   "cell_type": "markdown",
   "id": "different-studio",
   "metadata": {},
   "source": [
    "### ADES API Processes"
   ]
  },
  {
   "cell_type": "code",
   "execution_count": 5,
   "id": "architectural-college",
   "metadata": {},
   "outputs": [],
   "source": [
    "ades_access_token = None\n",
    "app_name = \"burned-area-1_0\""
   ]
  },
  {
   "cell_type": "markdown",
   "id": "framed-russell",
   "metadata": {},
   "source": [
    "#### ADES: List Processes"
   ]
  },
  {
   "cell_type": "code",
   "execution_count": 6,
   "id": "progressive-experiment",
   "metadata": {},
   "outputs": [
    {
     "name": "stdout",
     "output_type": "stream",
     "text": [
      "[Request] GET => http://ades.demo.eoepca.org/bob/wps3/processes\n",
      "[Process List] = 200 (OK)\n",
      "Processes: ['nhi-0_0_3', 'DeployProcess', 'GetStatus', 'burned-area-1_0', 'burned-area-0_5', 'snuggs-0_3_0', 'UndeployProcess', 's-expression-0_0_2']\n"
     ]
    }
   ],
   "source": [
    "# API Processes - List Processes\n",
    "response, ades_access_token, process_ids = demo.proc_list_processes(ades_proc_url, id_token=user_id_token, access_token=ades_access_token)\n",
    "print(\"Processes:\", process_ids)"
   ]
  },
  {
   "cell_type": "markdown",
   "id": "aggregate-scratch",
   "metadata": {},
   "source": [
    "#### ADES: Deploy Application"
   ]
  },
  {
   "cell_type": "code",
   "execution_count": 7,
   "id": "legal-thunder",
   "metadata": {},
   "outputs": [
    {
     "name": "stdout",
     "output_type": "stream",
     "text": [
      "Application details read from file: ../data/burned-area-1.0/app-deploy-body-cwl.json\n",
      "[Request] POST => http://ades.demo.eoepca.org/bob/wps3/processes\n",
      "[Deploy Response] = 201 (Created)\n"
     ]
    }
   ],
   "source": [
    "# API Processes - Deploy Application\n",
    "response, ades_access_token = demo.proc_deploy_application(ades_proc_url, \"../data/burned-area-1.0/app-deploy-body-cwl.json\", id_token=user_id_token, access_token=ades_access_token)"
   ]
  },
  {
   "cell_type": "code",
   "execution_count": 8,
   "id": "suffering-message",
   "metadata": {
    "tags": []
   },
   "outputs": [
    {
     "name": "stdout",
     "output_type": "stream",
     "text": [
      "[Request] GET => http://ades.demo.eoepca.org/bob/wps3/processes\n",
      "[Process List] = 200 (OK)\n",
      "Processes: ['nhi-0_0_3', 'DeployProcess', 'GetStatus', 'burned-area-1_0', 'burned-area-0_5', 'snuggs-0_3_0', 'UndeployProcess', 's-expression-0_0_2']\n"
     ]
    }
   ],
   "source": [
    "# Check deploy - list processes again\n",
    "response, ades_access_token, process_ids = demo.proc_list_processes(ades_proc_url, id_token=user_id_token, access_token=ades_access_token)\n",
    "print(\"Processes:\", process_ids)"
   ]
  },
  {
   "cell_type": "markdown",
   "id": "intimate-douglas",
   "metadata": {},
   "source": [
    "#### ADES: Get Application Details"
   ]
  },
  {
   "cell_type": "code",
   "execution_count": 9,
   "id": "surgical-cleveland",
   "metadata": {},
   "outputs": [
    {
     "name": "stdout",
     "output_type": "stream",
     "text": [
      "[Request] GET => http://ades.demo.eoepca.org/bob/wps3/processes/burned-area-1_0\n",
      "[App Details] = 200 (OK)\n",
      "{\n",
      "  \"process\": {\n",
      "    \"id\": \"burned-area-1_0\",\n",
      "    \"title\": \"Burned area\",\n",
      "    \"abstract\": \"Burned area detection based on NDVI/NDWI thresholds\",\n",
      "    \"version\": \"1.0.0.0\",\n",
      "    \"jobControlOptions\": [\n",
      "      \"sync-execute\",\n",
      "      \"async-execute\",\n",
      "      \"dismiss\"\n",
      "    ],\n",
      "    \"outputTransmission\": [\n",
      "      \"value\",\n",
      "      \"reference\"\n",
      "    ],\n",
      "    \"links\": [\n",
      "      {\n",
      "        \"rel\": \"canonical\",\n",
      "        \"type\": \"application/json\",\n",
      "        \"title\": \"Execute End Point\",\n",
      "        \"href\": \"/watchjob/processes/burned-area-1_0/jobs/\"\n",
      "      }\n",
      "    ],\n",
      "    \"inputs\": [\n",
      "      {\n",
      "        \"id\": \"pre_event\",\n",
      "        \"title\": \"Pre event input product reference\",\n",
      "        \"abstract\": \"Pre event input product reference\",\n",
      "        \"minOccurs\": \"1\",\n",
      "        \"maxOccurs\": \"1\",\n",
      "        \"input\": {\n",
      "          \"literalDataDomains\": [\n",
      "            {\n",
      "              \"dataType\": {\n",
      "                \"name\": \"string\"\n",
      "              },\n",
      "              \"valueDefinition\": {\n",
      "                \"anyValue\": true\n",
      "              }\n",
      "            }\n",
      "          ]\n",
      "        }\n",
      "      },\n",
      "      {\n",
      "        \"id\": \"post_event\",\n",
      "        \"title\": \"Post event input product reference\",\n",
      "        \"abstract\": \"Post event input product reference\",\n",
      "        \"minOccurs\": \"1\",\n",
      "        \"maxOccurs\": \"1\",\n",
      "        \"input\": {\n",
      "          \"literalDataDomains\": [\n",
      "            {\n",
      "              \"dataType\": {\n",
      "                \"name\": \"string\"\n",
      "              },\n",
      "              \"valueDefinition\": {\n",
      "                \"anyValue\": true\n",
      "              }\n",
      "            }\n",
      "          ]\n",
      "        }\n",
      "      },\n",
      "      {\n",
      "        \"id\": \"ndvi_threshold\",\n",
      "        \"title\": \"NDVI threshold\",\n",
      "        \"abstract\": \"NDVI threshold\",\n",
      "        \"minOccurs\": \"0\",\n",
      "        \"maxOccurs\": \"1\",\n",
      "        \"input\": {\n",
      "          \"literalDataDomains\": [\n",
      "            {\n",
      "              \"dataType\": {\n",
      "                \"name\": \"string\"\n",
      "              },\n",
      "              \"valueDefinition\": {\n",
      "                \"anyValue\": true\n",
      "              }\n",
      "            }\n",
      "          ]\n",
      "        }\n",
      "      },\n",
      "      {\n",
      "        \"id\": \"ndwi_threshold\",\n",
      "        \"title\": \"NDWI threshold\",\n",
      "        \"abstract\": \"NDWI threshold\",\n",
      "        \"minOccurs\": \"0\",\n",
      "        \"maxOccurs\": \"1\",\n",
      "        \"input\": {\n",
      "          \"literalDataDomains\": [\n",
      "            {\n",
      "              \"dataType\": {\n",
      "                \"name\": \"string\"\n",
      "              },\n",
      "              \"valueDefinition\": {\n",
      "                \"anyValue\": true\n",
      "              }\n",
      "            }\n",
      "          ]\n",
      "        }\n",
      "      }\n",
      "    ],\n",
      "    \"outputs\": [\n",
      "      {\n",
      "        \"id\": \"wf_outputs\",\n",
      "        \"title\": \"wf_outputs\",\n",
      "        \"output\": {\n",
      "          \"formats\": [\n",
      "            {\n",
      "              \"default\": true,\n",
      "              \"mimeType\": \"application/json\"\n",
      "            }\n",
      "          ]\n",
      "        }\n",
      "      }\n",
      "    ]\n",
      "  }\n",
      "}\n"
     ]
    }
   ],
   "source": [
    "# API Processes - Get Application Details\n",
    "response, ades_access_token = demo.proc_get_app_details(ades_proc_url, app_name, id_token=user_id_token, access_token=ades_access_token)\n",
    "print(json.dumps(response.json(), indent = 2))"
   ]
  },
  {
   "cell_type": "markdown",
   "id": "fourth-decline",
   "metadata": {},
   "source": [
    "#### ADES: Execute Application"
   ]
  },
  {
   "cell_type": "code",
   "execution_count": 10,
   "id": "existing-soccer",
   "metadata": {},
   "outputs": [
    {
     "name": "stdout",
     "output_type": "stream",
     "text": [
      "Application execute details read from file: ../data/burned-area-1.0/app-execute-body.json\n",
      "[Request] POST => http://ades.demo.eoepca.org/bob/wps3/processes/burned-area-1_0/jobs\n",
      "[Execute Response] = 201 (Created) => job=/bob/watchjob/processes/burned-area-1_0/jobs/2bc7d1e8-9a01-11ec-9e69-8a8147a03f5b\n"
     ]
    }
   ],
   "source": [
    "# API Processes - Execute Application\n",
    "response, ades_access_token, job_location_path = demo.proc_execute_application(ades_proc_url, app_name, \"../data/burned-area-1.0/app-execute-body.json\", id_token=user_id_token, access_token=ades_access_token)"
   ]
  },
  {
   "cell_type": "markdown",
   "id": "frozen-while",
   "metadata": {},
   "source": [
    "#### ADES: Job Status"
   ]
  },
  {
   "cell_type": "code",
   "execution_count": 11,
   "id": "amateur-technique",
   "metadata": {},
   "outputs": [
    {
     "name": "stdout",
     "output_type": "stream",
     "text": [
      "[Request] GET => http://ades.demo.eoepca.org/bob/watchjob/processes/burned-area-1_0/jobs/2bc7d1e8-9a01-11ec-9e69-8a8147a03f5b\n",
      "[Job Status] = 200 (OK) => 02/03/2022 08:17:17 - running\n",
      "{\n",
      "  \"jobID\": \"2bc7d1e8-9a01-11ec-9e69-8a8147a03f5b\",\n",
      "  \"started\": \"2022-03-02T08:17:16.180333Z\",\n",
      "  \"status\": \"running\",\n",
      "  \"message\": \"running\",\n",
      "  \"progress\": \"0\",\n",
      "  \"links\": [\n",
      "    {\n",
      "      \"href\": \"http://ades.demo.eoepca.org/bob/watchjob/processes/burned-area-1_0/jobs/2bc7d1e8-9a01-11ec-9e69-8a8147a03f5b\",\n",
      "      \"rel\": \"self\",\n",
      "      \"type\": \"application/json\",\n",
      "      \"title\": \"get Status\"\n",
      "    }\n",
      "  ]\n",
      "}\n"
     ]
    }
   ],
   "source": [
    "# API Processes - Job Status\n",
    "response, ades_access_token, status = demo.proc_get_job_status(ades_base_url, job_location_path, id_token=user_id_token, access_token=ades_access_token)\n",
    "print(json.dumps(response.json(), indent = 2))"
   ]
  },
  {
   "cell_type": "code",
   "execution_count": null,
   "id": "infinite-eleven",
   "metadata": {},
   "outputs": [
    {
     "name": "stdout",
     "output_type": "stream",
     "text": [
      "[Job Status] = 200 (OK) => 02/03/2022 08:17:18 - running\n",
      "[Job Status] = 200 (OK) => 02/03/2022 08:17:28 - running\n",
      "[Job Status] = 200 (OK) => 02/03/2022 08:17:39 - running\n",
      "[Job Status] = 200 (OK) => 02/03/2022 08:17:50 - running\n",
      "[Job Status] = 200 (OK) => 02/03/2022 08:18:00 - running\n",
      "[Job Status] = 200 (OK) => 02/03/2022 08:18:11 - running\n",
      "[Job Status] = 200 (OK) => 02/03/2022 08:18:22 - running\n",
      "[Job Status] = 200 (OK) => 02/03/2022 08:18:32 - running\n",
      "[Job Status] = 200 (OK) => 02/03/2022 08:18:43 - running\n",
      "[Job Status] = 200 (OK) => 02/03/2022 08:18:54 - running\n",
      "[Job Status] = 200 (OK) => 02/03/2022 08:19:05 - running\n",
      "[Job Status] = 200 (OK) => 02/03/2022 08:19:15 - running\n",
      "[Job Status] = 200 (OK) => 02/03/2022 08:19:26 - running\n",
      "[Job Status] = 200 (OK) => 02/03/2022 08:19:37 - running\n",
      "[Job Status] = 200 (OK) => 02/03/2022 08:19:47 - running\n",
      "[Job Status] = 200 (OK) => 02/03/2022 08:19:58 - running\n",
      "[Job Status] = 200 (OK) => 02/03/2022 08:20:09 - running\n",
      "[Job Status] = 200 (OK) => 02/03/2022 08:20:19 - running\n",
      "[Job Status] = 200 (OK) => 02/03/2022 08:20:30 - running\n",
      "[Job Status] = 200 (OK) => 02/03/2022 08:20:41 - running\n",
      "[Job Status] = 200 (OK) => 02/03/2022 08:20:51 - running\n",
      "[Job Status] = 200 (OK) => 02/03/2022 08:21:02 - running\n",
      "[Job Status] = 200 (OK) => 02/03/2022 08:21:13 - running\n",
      "[Job Status] = 200 (OK) => 02/03/2022 08:21:24 - running\n",
      "[Job Status] = 200 (OK) => 02/03/2022 08:21:34 - running\n",
      "[Job Status] = 200 (OK) => 02/03/2022 08:21:45 - running\n",
      "[Job Status] = 200 (OK) => 02/03/2022 08:21:56 - running\n",
      "[Job Status] = 200 (OK) => 02/03/2022 08:22:07 - running\n",
      "[Job Status] = 200 (OK) => 02/03/2022 08:22:18 - running\n",
      "[Job Status] = 200 (OK) => 02/03/2022 08:22:28 - running\n",
      "[Job Status] = 200 (OK) => 02/03/2022 08:22:39 - running\n",
      "[Job Status] = 200 (OK) => 02/03/2022 08:22:50 - running\n",
      "[Job Status] = 200 (OK) => 02/03/2022 08:23:00 - running\n",
      "[Job Status] = 200 (OK) => 02/03/2022 08:23:11 - running\n",
      "[Job Status] = 200 (OK) => 02/03/2022 08:23:22 - running\n",
      "[Job Status] = 200 (OK) => 02/03/2022 08:23:33 - running\n",
      "[Job Status] = 200 (OK) => 02/03/2022 08:23:43 - running\n",
      "[Job Status] = 200 (OK) => 02/03/2022 08:23:54 - running\n",
      "[Job Status] = 200 (OK) => 02/03/2022 08:24:05 - running\n",
      "[Job Status] = 200 (OK) => 02/03/2022 08:24:15 - running\n",
      "[Job Status] = 200 (OK) => 02/03/2022 08:24:26 - running\n",
      "[Job Status] = 200 (OK) => 02/03/2022 08:24:37 - running\n",
      "[Job Status] = 200 (OK) => 02/03/2022 08:24:48 - running\n",
      "[Job Status] = 200 (OK) => 02/03/2022 08:24:58 - running\n",
      "[Job Status] = 200 (OK) => 02/03/2022 08:25:09 - running\n",
      "[Job Status] = 200 (OK) => 02/03/2022 08:25:20 - running\n",
      "[Job Status] = 200 (OK) => 02/03/2022 08:25:31 - running\n",
      "[Job Status] = 200 (OK) => 02/03/2022 08:25:41 - running\n",
      "[Job Status] = 200 (OK) => 02/03/2022 08:25:52 - running\n",
      "[Job Status] = 200 (OK) => 02/03/2022 08:26:03 - running\n",
      "[Job Status] = 200 (OK) => 02/03/2022 08:26:14 - running\n",
      "[Job Status] = 200 (OK) => 02/03/2022 08:26:24 - running\n",
      "[Job Status] = 200 (OK) => 02/03/2022 08:26:35 - running\n",
      "[Job Status] = 200 (OK) => 02/03/2022 08:26:46 - running\n",
      "[Job Status] = 200 (OK) => 02/03/2022 08:26:57 - running\n",
      "[Job Status] = 200 (OK) => 02/03/2022 08:27:08 - running\n",
      "[Job Status] = 200 (OK) => 02/03/2022 08:27:19 - running\n",
      "[Job Status] = 200 (OK) => 02/03/2022 08:27:29 - running\n",
      "[Job Status] = 200 (OK) => 02/03/2022 08:27:40 - running\n",
      "[Job Status] = 200 (OK) => 02/03/2022 08:27:51 - running\n",
      "[Job Status] = 200 (OK) => 02/03/2022 08:28:01 - running\n",
      "[Job Status] = 200 (OK) => 02/03/2022 08:28:12 - running\n",
      "[Job Status] = 200 (OK) => 02/03/2022 08:28:23 - running\n",
      "[Job Status] = 200 (OK) => 02/03/2022 08:28:34 - running\n",
      "[Job Status] = 200 (OK) => 02/03/2022 08:28:44 - running\n",
      "[Job Status] = 200 (OK) => 02/03/2022 08:28:55 - running\n",
      "[Job Status] = 200 (OK) => 02/03/2022 08:29:06 - running\n",
      "[Job Status] = 200 (OK) => 02/03/2022 08:29:16 - running\n",
      "[Job Status] = 200 (OK) => 02/03/2022 08:29:27 - running\n",
      "[Job Status] = 200 (OK) => 02/03/2022 08:29:38 - running\n",
      "[Job Status] = 200 (OK) => 02/03/2022 08:29:49 - running\n",
      "[Job Status] = 200 (OK) => 02/03/2022 08:29:59 - running\n",
      "[Job Status] = 200 (OK) => 02/03/2022 08:30:10 - running\n",
      "[Job Status] = 200 (OK) => 02/03/2022 08:30:21 - running\n",
      "[Job Status] = 200 (OK) => 02/03/2022 08:30:31 - running\n",
      "[Job Status] = 200 (OK) => 02/03/2022 08:30:42 - running\n",
      "[Job Status] = 200 (OK) => 02/03/2022 08:30:53 - running\n",
      "[Job Status] = 200 (OK) => 02/03/2022 08:31:03 - running\n",
      "[Job Status] = 200 (OK) => 02/03/2022 08:31:14 - running\n",
      "[Job Status] = 200 (OK) => 02/03/2022 08:31:25 - running\n",
      "[Job Status] = 200 (OK) => 02/03/2022 08:31:35 - running\n",
      "[Job Status] = 200 (OK) => 02/03/2022 08:31:46 - running\n",
      "[Job Status] = 200 (OK) => 02/03/2022 08:31:57 - running\n",
      "[Job Status] = 200 (OK) => 02/03/2022 08:32:07 - running\n",
      "[Job Status] = 200 (OK) => 02/03/2022 08:32:18 - running\n",
      "[Job Status] = 200 (OK) => 02/03/2022 08:32:29 - running\n",
      "[Job Status] = 200 (OK) => 02/03/2022 08:32:39 - running\n",
      "[Job Status] = 200 (OK) => 02/03/2022 08:32:50 - running\n",
      "[Job Status] = 200 (OK) => 02/03/2022 08:33:01 - running\n",
      "[Job Status] = 200 (OK) => 02/03/2022 08:33:12 - running\n",
      "[Job Status] = 200 (OK) => 02/03/2022 08:33:22 - running\n",
      "[Job Status] = 200 (OK) => 02/03/2022 08:33:33 - running\n",
      "[Job Status] = 200 (OK) => 02/03/2022 08:33:44 - running\n",
      "[Job Status] = 200 (OK) => 02/03/2022 08:33:54 - running\n",
      "[Job Status] = 200 (OK) => 02/03/2022 08:34:05 - running\n",
      "[Job Status] = 200 (OK) => 02/03/2022 08:34:16 - running\n",
      "[Job Status] = 200 (OK) => 02/03/2022 08:34:27 - running\n",
      "[Job Status] = 200 (OK) => 02/03/2022 08:34:37 - running\n",
      "[Job Status] = 200 (OK) => 02/03/2022 08:34:48 - running\n",
      "[Job Status] = 200 (OK) => 02/03/2022 08:34:59 - running\n",
      "[Job Status] = 200 (OK) => 02/03/2022 08:35:09 - running\n",
      "[Job Status] = 200 (OK) => 02/03/2022 08:35:20 - running\n",
      "[Job Status] = 200 (OK) => 02/03/2022 08:35:31 - running\n",
      "[Job Status] = 200 (OK) => 02/03/2022 08:35:41 - running\n",
      "[Job Status] = 200 (OK) => 02/03/2022 08:35:52 - running\n",
      "[Job Status] = 200 (OK) => 02/03/2022 08:36:03 - running\n",
      "[Job Status] = 200 (OK) => 02/03/2022 08:36:14 - running\n",
      "[Job Status] = 200 (OK) => 02/03/2022 08:36:24 - running\n",
      "[Job Status] = 200 (OK) => 02/03/2022 08:36:35 - running\n",
      "[Job Status] = 200 (OK) => 02/03/2022 08:36:46 - running\n",
      "[Job Status] = 200 (OK) => 02/03/2022 08:36:56 - running\n",
      "[Job Status] = 200 (OK) => 02/03/2022 08:37:07 - running\n",
      "[Job Status] = 200 (OK) => 02/03/2022 08:37:18 - running\n",
      "[Job Status] = 200 (OK) => 02/03/2022 08:37:28 - running\n",
      "[Job Status] = 200 (OK) => 02/03/2022 08:37:39 - running\n",
      "[Job Status] = 200 (OK) => 02/03/2022 08:37:50 - running\n",
      "[Job Status] = 200 (OK) => 02/03/2022 08:38:01 - running\n",
      "[Job Status] = 200 (OK) => 02/03/2022 08:38:11 - running\n",
      "[Job Status] = 200 (OK) => 02/03/2022 08:38:22 - running\n",
      "[Job Status] = 200 (OK) => 02/03/2022 08:38:33 - running\n",
      "[Job Status] = 200 (OK) => 02/03/2022 08:38:44 - running\n",
      "[Job Status] = 200 (OK) => 02/03/2022 08:38:54 - running\n",
      "[Job Status] = 200 (OK) => 02/03/2022 08:39:05 - running\n",
      "[Job Status] = 200 (OK) => 02/03/2022 08:39:16 - running\n",
      "[Job Status] = 200 (OK) => 02/03/2022 08:39:27 - running\n",
      "[Job Status] = 200 (OK) => 02/03/2022 08:39:37 - running\n",
      "[Job Status] = 200 (OK) => 02/03/2022 08:39:48 - running\n",
      "[Job Status] = 200 (OK) => 02/03/2022 08:39:59 - running\n",
      "[Job Status] = 200 (OK) => 02/03/2022 08:40:09 - running\n",
      "[Job Status] = 200 (OK) => 02/03/2022 08:40:20 - running\n",
      "[Job Status] = 200 (OK) => 02/03/2022 08:40:31 - running\n",
      "[Job Status] = 200 (OK) => 02/03/2022 08:40:42 - running\n",
      "[Job Status] = 200 (OK) => 02/03/2022 08:40:52 - running\n",
      "[Job Status] = 200 (OK) => 02/03/2022 08:41:03 - running\n",
      "[Job Status] = 200 (OK) => 02/03/2022 08:41:14 - running\n",
      "[Job Status] = 200 (OK) => 02/03/2022 08:41:24 - running\n",
      "[Job Status] = 200 (OK) => 02/03/2022 08:41:35 - running\n",
      "[Job Status] = 200 (OK) => 02/03/2022 08:41:46 - running\n",
      "[Job Status] = 200 (OK) => 02/03/2022 08:41:57 - running\n",
      "[Job Status] = 200 (OK) => 02/03/2022 08:42:07 - running\n",
      "[Job Status] = 200 (OK) => 02/03/2022 08:42:18 - running\n",
      "[Job Status] = 200 (OK) => 02/03/2022 08:42:29 - running\n",
      "[Job Status] = 200 (OK) => 02/03/2022 08:42:39 - running\n",
      "[Job Status] = 200 (OK) => 02/03/2022 08:42:50 - running\n",
      "[Job Status] = 200 (OK) => 02/03/2022 08:43:01 - running\n",
      "[Job Status] = 200 (OK) => 02/03/2022 08:43:12 - running\n",
      "[Job Status] = 200 (OK) => 02/03/2022 08:43:22 - running\n",
      "[Job Status] = 200 (OK) => 02/03/2022 08:43:33 - running\n",
      "[Job Status] = 200 (OK) => 02/03/2022 08:43:44 - running\n",
      "[Job Status] = 200 (OK) => 02/03/2022 08:43:54 - running\n",
      "[Job Status] = 200 (OK) => 02/03/2022 08:44:05 - running\n",
      "[Job Status] = 200 (OK) => 02/03/2022 08:44:16 - running\n",
      "[Job Status] = 200 (OK) => 02/03/2022 08:44:26 - running\n",
      "[Job Status] = 200 (OK) => 02/03/2022 08:44:37 - running\n",
      "[Job Status] = 200 (OK) => 02/03/2022 08:44:48 - running\n",
      "[Job Status] = 200 (OK) => 02/03/2022 08:44:58 - running\n",
      "[Job Status] = 200 (OK) => 02/03/2022 08:45:09 - running\n",
      "[Job Status] = 200 (OK) => 02/03/2022 08:45:20 - running\n",
      "[Job Status] = 200 (OK) => 02/03/2022 08:45:31 - running\n",
      "[Job Status] = 200 (OK) => 02/03/2022 08:45:41 - running\n",
      "[Job Status] = 200 (OK) => 02/03/2022 08:45:52 - running\n",
      "[Job Status] = 200 (OK) => 02/03/2022 08:46:03 - running\n",
      "[Job Status] = 200 (OK) => 02/03/2022 08:46:13 - running\n",
      "[Job Status] = 200 (OK) => 02/03/2022 08:46:24 - running\n",
      "[Job Status] = 200 (OK) => 02/03/2022 08:46:35 - running\n",
      "[Job Status] = 200 (OK) => 02/03/2022 08:46:45 - running\n",
      "[Job Status] = 200 (OK) => 02/03/2022 08:46:56 - running\n",
      "[Job Status] = 200 (OK) => 02/03/2022 08:47:07 - running\n",
      "[Job Status] = 200 (OK) => 02/03/2022 08:47:17 - running\n",
      "[Job Status] = 200 (OK) => 02/03/2022 08:47:28 - running\n",
      "[Job Status] = 200 (OK) => 02/03/2022 08:47:39 - running\n",
      "[Job Status] = 200 (OK) => 02/03/2022 08:47:49 - running\n",
      "[Job Status] = 200 (OK) => 02/03/2022 08:48:00 - running\n",
      "[Job Status] = 200 (OK) => 02/03/2022 08:48:11 - running\n",
      "[Job Status] = 200 (OK) => 02/03/2022 08:48:21 - running\n",
      "[Job Status] = 200 (OK) => 02/03/2022 08:48:32 - running\n",
      "[Job Status] = 200 (OK) => 02/03/2022 08:48:43 - running\n",
      "[Job Status] = 200 (OK) => 02/03/2022 08:48:53 - running\n",
      "[Job Status] = 200 (OK) => 02/03/2022 08:49:04 - running\n",
      "[Job Status] = 200 (OK) => 02/03/2022 08:49:15 - running\n",
      "[Job Status] = 200 (OK) => 02/03/2022 08:49:25 - running\n",
      "[Job Status] = 200 (OK) => 02/03/2022 08:49:36 - running\n",
      "[Job Status] = 200 (OK) => 02/03/2022 08:49:47 - running\n",
      "[Job Status] = 200 (OK) => 02/03/2022 08:49:58 - running\n",
      "[Job Status] = 200 (OK) => 02/03/2022 08:50:08 - running\n",
      "[Job Status] = 200 (OK) => 02/03/2022 08:50:19 - running\n",
      "[Job Status] = 200 (OK) => 02/03/2022 08:50:30 - running\n",
      "[Job Status] = 200 (OK) => 02/03/2022 08:50:40 - running\n",
      "[Job Status] = 200 (OK) => 02/03/2022 08:50:51 - running\n",
      "[Job Status] = 200 (OK) => 02/03/2022 08:51:02 - running\n",
      "[Job Status] = 200 (OK) => 02/03/2022 08:51:13 - running\n",
      "[Job Status] = 200 (OK) => 02/03/2022 08:51:23 - running\n",
      "[Job Status] = 200 (OK) => 02/03/2022 08:51:34 - running\n",
      "[Job Status] = 200 (OK) => 02/03/2022 08:51:45 - running\n",
      "[Job Status] = 200 (OK) => 02/03/2022 08:51:56 - running\n",
      "[Job Status] = 200 (OK) => 02/03/2022 08:52:06 - running\n",
      "[Job Status] = 200 (OK) => 02/03/2022 08:52:17 - running\n",
      "[Job Status] = 200 (OK) => 02/03/2022 08:52:28 - running\n",
      "[Job Status] = 200 (OK) => 02/03/2022 08:52:38 - running\n",
      "[Job Status] = 200 (OK) => 02/03/2022 08:52:49 - running\n",
      "[Job Status] = 200 (OK) => 02/03/2022 08:53:00 - running\n",
      "[Job Status] = 200 (OK) => 02/03/2022 08:53:11 - running\n",
      "[Job Status] = 200 (OK) => 02/03/2022 08:53:21 - running\n",
      "[Job Status] = 200 (OK) => 02/03/2022 08:53:32 - running\n",
      "[Job Status] = 200 (OK) => 02/03/2022 08:53:43 - running\n",
      "[Job Status] = 200 (OK) => 02/03/2022 08:53:54 - running\n",
      "[Job Status] = 200 (OK) => 02/03/2022 08:54:04 - running\n",
      "[Job Status] = 200 (OK) => 02/03/2022 08:54:15 - running\n",
      "[Job Status] = 200 (OK) => 02/03/2022 08:54:26 - running\n",
      "[Job Status] = 200 (OK) => 02/03/2022 08:54:37 - running\n",
      "[Job Status] = 200 (OK) => 02/03/2022 08:54:47 - running\n",
      "[Job Status] = 200 (OK) => 02/03/2022 08:54:58 - running\n",
      "[Job Status] = 200 (OK) => 02/03/2022 08:55:09 - running\n",
      "[Job Status] = 200 (OK) => 02/03/2022 08:55:20 - running\n",
      "[Job Status] = 200 (OK) => 02/03/2022 08:55:30 - running\n",
      "[Job Status] = 200 (OK) => 02/03/2022 08:55:41 - running\n",
      "[Job Status] = 200 (OK) => 02/03/2022 08:55:52 - running\n",
      "[Job Status] = 200 (OK) => 02/03/2022 08:56:03 - running\n",
      "[Job Status] = 200 (OK) => 02/03/2022 08:56:13 - running\n",
      "[Job Status] = 200 (OK) => 02/03/2022 08:56:24 - running\n",
      "[Job Status] = 200 (OK) => 02/03/2022 08:56:35 - running\n",
      "[Job Status] = 200 (OK) => 02/03/2022 08:56:46 - running\n",
      "[Job Status] = 200 (OK) => 02/03/2022 08:56:56 - running\n",
      "[Job Status] = 200 (OK) => 02/03/2022 08:57:07 - running\n",
      "[Job Status] = 200 (OK) => 02/03/2022 08:57:18 - running\n",
      "[Job Status] = 200 (OK) => 02/03/2022 08:57:29 - running\n",
      "[Job Status] = 200 (OK) => 02/03/2022 08:57:39 - running\n",
      "[Job Status] = 200 (OK) => 02/03/2022 08:57:50 - running\n",
      "[Job Status] = 200 (OK) => 02/03/2022 08:58:11 - running\n",
      "[Job Status] = 200 (OK) => 02/03/2022 08:58:21 - running\n",
      "[Job Status] = 200 (OK) => 02/03/2022 08:58:32 - running\n",
      "[Job Status] = 200 (OK) => 02/03/2022 08:58:43 - running\n",
      "[Job Status] = 200 (OK) => 02/03/2022 08:58:53 - running\n",
      "[Job Status] = 200 (OK) => 02/03/2022 08:59:04 - running\n",
      "[Job Status] = 200 (OK) => 02/03/2022 08:59:15 - running\n",
      "[Job Status] = 200 (OK) => 02/03/2022 08:59:26 - running\n",
      "[Job Status] = 200 (OK) => 02/03/2022 08:59:36 - running\n",
      "[Job Status] = 200 (OK) => 02/03/2022 08:59:47 - running\n",
      "[Job Status] = 200 (OK) => 02/03/2022 08:59:58 - running\n",
      "[Job Status] = 200 (OK) => 02/03/2022 09:00:09 - running\n",
      "[Job Status] = 200 (OK) => 02/03/2022 09:00:19 - running\n",
      "[Job Status] = 200 (OK) => 02/03/2022 09:00:30 - running\n",
      "[Job Status] = 200 (OK) => 02/03/2022 09:00:41 - running\n",
      "[Job Status] = 200 (OK) => 02/03/2022 09:00:52 - running\n",
      "[Job Status] = 200 (OK) => 02/03/2022 09:01:02 - running\n",
      "[Job Status] = 200 (OK) => 02/03/2022 09:01:13 - running\n",
      "[Job Status] = 200 (OK) => 02/03/2022 09:01:24 - running\n",
      "[Job Status] = 200 (OK) => 02/03/2022 09:01:35 - running\n",
      "[Job Status] = 200 (OK) => 02/03/2022 09:01:45 - running\n",
      "[Job Status] = 200 (OK) => 02/03/2022 09:01:56 - running\n",
      "[Job Status] = 200 (OK) => 02/03/2022 09:02:07 - running\n",
      "[Job Status] = 200 (OK) => 02/03/2022 09:02:17 - running\n",
      "[Job Status] = 200 (OK) => 02/03/2022 09:02:28 - running\n",
      "[Job Status] = 200 (OK) => 02/03/2022 09:02:39 - running\n",
      "[Job Status] = 200 (OK) => 02/03/2022 09:02:50 - running\n",
      "[Job Status] = 200 (OK) => 02/03/2022 09:03:00 - running\n",
      "[Job Status] = 200 (OK) => 02/03/2022 09:03:11 - running\n",
      "[Job Status] = 200 (OK) => 02/03/2022 09:03:22 - running\n",
      "[Job Status] = 200 (OK) => 02/03/2022 09:03:33 - running\n",
      "[Job Status] = 200 (OK) => 02/03/2022 09:03:43 - running\n",
      "[Job Status] = 200 (OK) => 02/03/2022 09:03:54 - running\n",
      "[Job Status] = 200 (OK) => 02/03/2022 09:04:05 - running\n",
      "[Job Status] = 200 (OK) => 02/03/2022 09:04:17 - running\n",
      "[Job Status] = 200 (OK) => 02/03/2022 09:04:27 - running\n",
      "[Job Status] = 200 (OK) => 02/03/2022 09:04:38 - running\n",
      "[Job Status] = 200 (OK) => 02/03/2022 09:04:49 - running\n",
      "[Job Status] = 200 (OK) => 02/03/2022 09:05:00 - running\n",
      "[Job Status] = 200 (OK) => 02/03/2022 09:05:10 - running\n",
      "[Job Status] = 200 (OK) => 02/03/2022 09:05:21 - running\n",
      "[Job Status] = 200 (OK) => 02/03/2022 09:05:32 - running\n",
      "[Job Status] = 200 (OK) => 02/03/2022 09:05:42 - running\n",
      "[Job Status] = 200 (OK) => 02/03/2022 09:05:53 - running\n",
      "[Job Status] = 200 (OK) => 02/03/2022 09:06:04 - running\n",
      "[Job Status] = 200 (OK) => 02/03/2022 09:06:15 - running\n",
      "[Job Status] = 200 (OK) => 02/03/2022 09:06:25 - running\n",
      "[Job Status] = 200 (OK) => 02/03/2022 09:06:36 - running\n",
      "[Job Status] = 200 (OK) => 02/03/2022 09:06:47 - running\n",
      "[Job Status] = 200 (OK) => 02/03/2022 09:06:58 - running\n",
      "[Job Status] = 200 (OK) => 02/03/2022 09:07:08 - running\n",
      "[Job Status] = 200 (OK) => 02/03/2022 09:07:19 - running\n",
      "[Job Status] = 200 (OK) => 02/03/2022 09:07:30 - running\n",
      "[Job Status] = 200 (OK) => 02/03/2022 09:07:41 - running\n",
      "[Job Status] = 200 (OK) => 02/03/2022 09:07:51 - running\n",
      "[Job Status] = 200 (OK) => 02/03/2022 09:08:02 - running\n",
      "[Job Status] = 200 (OK) => 02/03/2022 09:08:13 - running\n",
      "[Job Status] = 200 (OK) => 02/03/2022 09:08:23 - running\n",
      "[Job Status] = 200 (OK) => 02/03/2022 09:08:34 - running\n",
      "[Job Status] = 200 (OK) => 02/03/2022 09:08:45 - running\n",
      "[Job Status] = 200 (OK) => 02/03/2022 09:08:56 - running\n",
      "[Job Status] = 200 (OK) => 02/03/2022 09:09:06 - running\n",
      "[Job Status] = 200 (OK) => 02/03/2022 09:09:17 - running\n",
      "[Job Status] = 200 (OK) => 02/03/2022 09:09:28 - running\n",
      "[Job Status] = 200 (OK) => 02/03/2022 09:09:39 - running\n",
      "[Job Status] = 200 (OK) => 02/03/2022 09:09:49 - running\n",
      "[Job Status] = 200 (OK) => 02/03/2022 09:10:00 - running\n",
      "[Job Status] = 200 (OK) => 02/03/2022 09:10:11 - running\n",
      "[Job Status] = 200 (OK) => 02/03/2022 09:10:22 - running\n",
      "[Job Status] = 200 (OK) => 02/03/2022 09:10:33 - running\n",
      "[Job Status] = 200 (OK) => 02/03/2022 09:10:43 - running\n",
      "[Job Status] = 200 (OK) => 02/03/2022 09:10:54 - running\n",
      "[Job Status] = 200 (OK) => 02/03/2022 09:11:05 - running\n",
      "[Job Status] = 200 (OK) => 02/03/2022 09:11:15 - running\n",
      "[Job Status] = 200 (OK) => 02/03/2022 09:11:26 - running\n",
      "[Job Status] = 200 (OK) => 02/03/2022 09:11:37 - running\n",
      "[Job Status] = 200 (OK) => 02/03/2022 09:11:48 - running\n",
      "[Job Status] = 200 (OK) => 02/03/2022 09:11:58 - running\n",
      "[Job Status] = 200 (OK) => 02/03/2022 09:12:09 - running\n",
      "[Job Status] = 200 (OK) => 02/03/2022 09:12:20 - running\n",
      "[Job Status] = 200 (OK) => 02/03/2022 09:12:31 - running\n",
      "[Job Status] = 200 (OK) => 02/03/2022 09:12:41 - running\n",
      "[Job Status] = 200 (OK) => 02/03/2022 09:12:52 - running\n",
      "[Job Status] = 200 (OK) => 02/03/2022 09:13:03 - running\n",
      "[Job Status] = 200 (OK) => 02/03/2022 09:13:13 - running\n",
      "[Job Status] = 200 (OK) => 02/03/2022 09:13:24 - running\n",
      "[Job Status] = 200 (OK) => 02/03/2022 09:13:35 - running\n",
      "[Job Status] = 200 (OK) => 02/03/2022 09:13:45 - running\n",
      "[Job Status] = 200 (OK) => 02/03/2022 09:13:56 - running\n",
      "[Job Status] = 200 (OK) => 02/03/2022 09:14:07 - running\n",
      "[Job Status] = 200 (OK) => 02/03/2022 09:14:18 - running\n",
      "[Job Status] = 200 (OK) => 02/03/2022 09:14:28 - running\n",
      "[Job Status] = 200 (OK) => 02/03/2022 09:14:39 - running\n",
      "[Job Status] = 200 (OK) => 02/03/2022 09:14:50 - running\n",
      "[Job Status] = 200 (OK) => 02/03/2022 09:15:01 - running\n",
      "[Job Status] = 200 (OK) => 02/03/2022 09:15:11 - running\n",
      "[Job Status] = 200 (OK) => 02/03/2022 09:15:22 - running\n",
      "[Job Status] = 200 (OK) => 02/03/2022 09:15:33 - running\n",
      "[Job Status] = 200 (OK) => 02/03/2022 09:15:44 - running\n",
      "[Job Status] = 200 (OK) => 02/03/2022 09:15:54 - running\n",
      "[Job Status] = 200 (OK) => 02/03/2022 09:16:05 - running\n",
      "[Job Status] = 200 (OK) => 02/03/2022 09:16:16 - running\n",
      "[Job Status] = 200 (OK) => 02/03/2022 09:16:26 - running\n",
      "[Job Status] = 200 (OK) => 02/03/2022 09:16:37 - running\n",
      "[Job Status] = 200 (OK) => 02/03/2022 09:16:48 - running\n",
      "[Job Status] = 200 (OK) => 02/03/2022 09:16:58 - running\n",
      "[Job Status] = 200 (OK) => 02/03/2022 09:17:10 - running\n",
      "[Job Status] = 200 (OK) => 02/03/2022 09:17:20 - running\n",
      "[Job Status] = 200 (OK) => 02/03/2022 09:17:31 - running\n",
      "[Job Status] = 200 (OK) => 02/03/2022 09:17:42 - running\n",
      "[Job Status] = 200 (OK) => 02/03/2022 09:17:52 - running\n",
      "[Job Status] = 200 (OK) => 02/03/2022 09:18:03 - running\n",
      "[Job Status] = 200 (OK) => 02/03/2022 09:18:14 - running\n",
      "[Job Status] = 200 (OK) => 02/03/2022 09:18:25 - running\n",
      "[Job Status] = 200 (OK) => 02/03/2022 09:18:35 - running\n",
      "[Job Status] = 200 (OK) => 02/03/2022 09:18:46 - running\n",
      "[Job Status] = 200 (OK) => 02/03/2022 09:18:57 - running\n",
      "[Job Status] = 200 (OK) => 02/03/2022 09:19:07 - running\n",
      "[Job Status] = 200 (OK) => 02/03/2022 09:19:18 - running\n",
      "[Job Status] = 200 (OK) => 02/03/2022 09:19:29 - running\n",
      "[Job Status] = 200 (OK) => 02/03/2022 09:19:39 - running\n",
      "[Job Status] = 200 (OK) => 02/03/2022 09:19:50 - running\n",
      "[Job Status] = 200 (OK) => 02/03/2022 09:20:01 - running\n",
      "[Job Status] = 200 (OK) => 02/03/2022 09:20:12 - running\n",
      "[Job Status] = 200 (OK) => 02/03/2022 09:20:22 - running\n",
      "[Job Status] = 200 (OK) => 02/03/2022 09:20:33 - running\n",
      "[Job Status] = 200 (OK) => 02/03/2022 09:20:44 - running\n",
      "[Job Status] = 200 (OK) => 02/03/2022 09:20:54 - running\n",
      "[Job Status] = 200 (OK) => 02/03/2022 09:21:05 - running\n",
      "[Job Status] = 200 (OK) => 02/03/2022 09:21:16 - running\n",
      "[Job Status] = 200 (OK) => 02/03/2022 09:21:27 - running\n",
      "[Job Status] = 200 (OK) => 02/03/2022 09:21:37 - running\n",
      "[Job Status] = 200 (OK) => 02/03/2022 09:21:48 - running\n",
      "[Job Status] = 200 (OK) => 02/03/2022 09:21:59 - running\n",
      "[Job Status] = 200 (OK) => 02/03/2022 09:22:10 - running\n",
      "[Job Status] = 200 (OK) => 02/03/2022 09:22:20 - running\n",
      "[Job Status] = 200 (OK) => 02/03/2022 09:22:31 - running\n",
      "[Job Status] = 200 (OK) => 02/03/2022 09:22:42 - running\n",
      "[Job Status] = 200 (OK) => 02/03/2022 09:22:53 - running\n",
      "[Job Status] = 200 (OK) => 02/03/2022 09:23:03 - running\n",
      "[Job Status] = 200 (OK) => 02/03/2022 09:23:14 - running\n",
      "[Job Status] = 200 (OK) => 02/03/2022 09:23:25 - running\n",
      "[Job Status] = 200 (OK) => 02/03/2022 09:23:35 - running\n",
      "[Job Status] = 200 (OK) => 02/03/2022 09:23:46 - running\n",
      "[Job Status] = 200 (OK) => 02/03/2022 09:23:57 - running\n",
      "[Job Status] = 200 (OK) => 02/03/2022 09:24:08 - running\n",
      "[Job Status] = 200 (OK) => 02/03/2022 09:24:18 - running\n",
      "[Job Status] = 200 (OK) => 02/03/2022 09:24:29 - running\n",
      "[Job Status] = 200 (OK) => 02/03/2022 09:24:40 - running\n",
      "[Job Status] = 200 (OK) => 02/03/2022 09:24:51 - running\n",
      "[Job Status] = 200 (OK) => 02/03/2022 09:25:01 - running\n",
      "[Job Status] = 200 (OK) => 02/03/2022 09:25:12 - running\n",
      "[Job Status] = 200 (OK) => 02/03/2022 09:25:23 - running\n",
      "[Job Status] = 200 (OK) => 02/03/2022 09:25:33 - running\n",
      "[Job Status] = 200 (OK) => 02/03/2022 09:25:44 - running\n",
      "[Job Status] = 200 (OK) => 02/03/2022 09:25:55 - running\n",
      "[Job Status] = 200 (OK) => 02/03/2022 09:26:06 - running\n",
      "[Job Status] = 200 (OK) => 02/03/2022 09:26:16 - running\n",
      "[Job Status] = 200 (OK) => 02/03/2022 09:26:27 - running\n",
      "[Job Status] = 200 (OK) => 02/03/2022 09:26:38 - running\n",
      "[Job Status] = 200 (OK) => 02/03/2022 09:26:48 - running\n",
      "[Job Status] = 200 (OK) => 02/03/2022 09:26:59 - running\n",
      "[Job Status] = 200 (OK) => 02/03/2022 09:27:10 - running\n",
      "[Job Status] = 200 (OK) => 02/03/2022 09:27:21 - running\n",
      "[Job Status] = 200 (OK) => 02/03/2022 09:27:31 - running\n",
      "[Job Status] = 200 (OK) => 02/03/2022 09:27:42 - running\n",
      "[Job Status] = 200 (OK) => 02/03/2022 09:27:53 - running\n",
      "[Job Status] = 200 (OK) => 02/03/2022 09:28:04 - running\n",
      "[Job Status] = 200 (OK) => 02/03/2022 09:28:14 - running\n",
      "[Job Status] = 200 (OK) => 02/03/2022 09:28:25 - running\n",
      "[Job Status] = 200 (OK) => 02/03/2022 09:28:36 - running\n",
      "[Job Status] = 200 (OK) => 02/03/2022 09:28:46 - running\n",
      "[Job Status] = 200 (OK) => 02/03/2022 09:28:57 - running\n",
      "[Job Status] = 200 (OK) => 02/03/2022 09:29:08 - running\n",
      "[Job Status] = 200 (OK) => 02/03/2022 09:29:19 - running\n",
      "[Job Status] = 200 (OK) => 02/03/2022 09:29:30 - running\n",
      "[Job Status] = 200 (OK) => 02/03/2022 09:29:40 - running\n",
      "[Job Status] = 200 (OK) => 02/03/2022 09:29:51 - running\n",
      "[Job Status] = 200 (OK) => 02/03/2022 09:30:02 - running\n",
      "[Job Status] = 200 (OK) => 02/03/2022 09:30:13 - running\n",
      "[Job Status] = 200 (OK) => 02/03/2022 09:30:23 - running\n",
      "[Job Status] = 200 (OK) => 02/03/2022 09:30:34 - running\n"
     ]
    }
   ],
   "source": [
    "# API Processes - Job Status (keep polling for completion)\n",
    "response, ades_access_token, status = demo.proc_poll_job_completion(ades_base_url, job_location_path, interval=10, id_token=user_id_token, access_token=ades_access_token)"
   ]
  },
  {
   "cell_type": "code",
   "execution_count": null,
   "id": "steady-revolution",
   "metadata": {},
   "outputs": [],
   "source": [
    "print(response.status_code, response.headers, response.text)"
   ]
  },
  {
   "cell_type": "markdown",
   "id": "suitable-construction",
   "metadata": {},
   "source": [
    "#### ADES: Job Result"
   ]
  },
  {
   "cell_type": "code",
   "execution_count": null,
   "id": "elegant-remains",
   "metadata": {},
   "outputs": [],
   "source": [
    "# API Processes - Job Result\n",
    "response, ades_access_token, stacCatalogUri = demo.proc_get_job_result(ades_base_url, job_location_path, id_token=user_id_token, access_token=ades_access_token)\n",
    "print(json.dumps(response.json(), indent = 2))"
   ]
  },
  {
   "cell_type": "markdown",
   "id": "super-nutrition",
   "metadata": {
    "tags": []
   },
   "source": [
    "#### ADES: List Jobs"
   ]
  },
  {
   "cell_type": "code",
   "execution_count": null,
   "id": "temporal-drain",
   "metadata": {},
   "outputs": [],
   "source": [
    "# API Processes - List Jobs\n",
    "response, ades_access_token, job_ids = demo.proc_list_jobs(ades_proc_url, app_name, id_token=user_id_token, access_token=ades_access_token)\n",
    "print(\"Jobs:\", job_ids)"
   ]
  },
  {
   "cell_type": "markdown",
   "id": "ongoing-sleeve",
   "metadata": {},
   "source": [
    "#### ADES: Undeploy Application"
   ]
  },
  {
   "cell_type": "code",
   "execution_count": null,
   "id": "sharing-closing",
   "metadata": {},
   "outputs": [],
   "source": [
    "# API Processes - Undeploy Application\n",
    "response, ades_access_token = demo.proc_undeploy_application(ades_proc_url, app_name, id_token=user_id_token, access_token=ades_access_token)"
   ]
  },
  {
   "cell_type": "code",
   "execution_count": null,
   "id": "variable-handy",
   "metadata": {
    "tags": []
   },
   "outputs": [],
   "source": [
    "# Check undeploy - list processes\n",
    "response, ades_access_token, process_ids = demo.proc_list_processes(ades_proc_url, id_token=user_id_token, access_token=ades_access_token)\n",
    "print(\"Processes:\", process_ids)"
   ]
  },
  {
   "cell_type": "markdown",
   "id": "controlled-mambo",
   "metadata": {},
   "source": [
    "## Workspace"
   ]
  },
  {
   "cell_type": "code",
   "execution_count": null,
   "id": "green-record",
   "metadata": {},
   "outputs": [],
   "source": [
    "workspace_url = \"https://workspace-api.\" + base_domain\n",
    "workspace_access_token = None"
   ]
  },
  {
   "cell_type": "markdown",
   "id": "terminal-missile",
   "metadata": {},
   "source": [
    "### Workspace: Get Details"
   ]
  },
  {
   "cell_type": "code",
   "execution_count": null,
   "id": "organizational-terror",
   "metadata": {},
   "outputs": [],
   "source": [
    "# Workspace - Get Details\n",
    "workspace_name = \"demo-user-\" + USER_NAME.lower()\n",
    "response, workspace_access_token = demo.workspace_get_details(workspace_url, workspace_name, id_token=user_id_token, access_token=workspace_access_token)\n",
    "workspace_details = response.json()\n",
    "print(json.dumps(workspace_details, indent = 2))"
   ]
  },
  {
   "cell_type": "markdown",
   "id": "seeing-deployment",
   "metadata": {},
   "source": [
    "### Inspect S3 Bucket"
   ]
  },
  {
   "cell_type": "code",
   "execution_count": null,
   "id": "republican-graph",
   "metadata": {},
   "outputs": [],
   "source": [
    "# Bucket details\n",
    "bucket_name = workspace_details[\"storage\"][\"credentials\"][\"bucketname\"]\n",
    "s3_access = workspace_details[\"storage\"][\"credentials\"][\"access\"]\n",
    "s3_secret = workspace_details[\"storage\"][\"credentials\"][\"secret\"]"
   ]
  },
  {
   "cell_type": "code",
   "execution_count": null,
   "id": "ancient-patent",
   "metadata": {},
   "outputs": [],
   "source": [
    "# Quick hack S3 access\n",
    "import boto3\n",
    "\n",
    "# Init S3 session for Creodias\n",
    "S3_ENDPOINT = \"https://cf2.cloudferro.com:8080\"\n",
    "session = boto3.session.Session()\n",
    "s3resource = session.resource('s3', aws_access_key_id=s3_access, aws_secret_access_key=s3_secret, endpoint_url=S3_ENDPOINT)\n",
    "\n",
    "# List bucket contents\n",
    "bucket = s3resource.Bucket(bucket_name)\n",
    "for obj in bucket.objects.all():\n",
    "    print(' ->', obj)"
   ]
  },
  {
   "cell_type": "code",
   "execution_count": null,
   "id": "54da2c54-e8a8-4726-9a0c-0ced8395c808",
   "metadata": {},
   "outputs": [],
   "source": []
  }
 ],
 "metadata": {
  "kernelspec": {
   "display_name": "Python 3",
   "language": "python",
   "name": "python3"
  },
  "language_info": {
   "codemirror_mode": {
    "name": "ipython",
    "version": 3
   },
   "file_extension": ".py",
   "mimetype": "text/x-python",
   "name": "python",
   "nbconvert_exporter": "python",
   "pygments_lexer": "ipython3",
   "version": "3.9.2"
  }
 },
 "nbformat": 4,
 "nbformat_minor": 5
}
