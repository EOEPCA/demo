{
 "cells": [
  {
   "cell_type": "markdown",
   "id": "058becf9-e132-4094-aaf1-c79d7ca202a6",
   "metadata": {},
   "source": [
    "# ADES Calling Workspace API Flow"
   ]
  },
  {
   "cell_type": "code",
   "execution_count": null,
   "id": "5b7b02d0-18a8-43a5-b9a7-e10756cc91ec",
   "metadata": {},
   "outputs": [],
   "source": [
    "import requests\n",
    "\n",
    "domain = \"demo.eoepca.org\"\n",
    "auth_server = f\"auth.{domain}\"\n",
    "ades_server = f\"ades.{domain}\""
   ]
  },
  {
   "cell_type": "markdown",
   "id": "0dba4523-7d24-4222-a431-0b92fcc73f52",
   "metadata": {},
   "source": [
    "## Client (e.g. Portal)"
   ]
  },
  {
   "cell_type": "code",
   "execution_count": null,
   "id": "00d2cc28-950f-4eb3-89ea-ef88d938e281",
   "metadata": {},
   "outputs": [],
   "source": [
    "client_id = \"e2ca0359-c961-496d-8365-bdaa409b16f3\"\n",
    "client_secret = \"9c865400-d976-45db-9929-bba26ba64af1\""
   ]
  },
  {
   "cell_type": "markdown",
   "id": "b50613ea-5785-4fb9-943f-d21ca4c3c58d",
   "metadata": {},
   "source": [
    "### Get Token Endpoint from OIDC Configuration"
   ]
  },
  {
   "cell_type": "code",
   "execution_count": null,
   "id": "6731f176-3213-4574-96b0-3d2d434f7121",
   "metadata": {},
   "outputs": [],
   "source": [
    "# Get OIDC Configuration\n",
    "oidc_config_endpoint = f\"https://{auth_server}/.well-known/openid-configuration\"\n",
    "headers = {\"accept\": \"application/json\" }\n",
    "oidc_config = requests.get(oidc_config_endpoint, headers=headers).json()\n",
    "\n",
    "# Extract the token endpoint\n",
    "token_endpoint = oidc_config[\"token_endpoint\"]"
   ]
  },
  {
   "cell_type": "markdown",
   "id": "ad6d28aa-f2f9-4d6d-b4db-5ac54ba53aae",
   "metadata": {},
   "source": [
    "### Get Tokens for User `eric`"
   ]
  },
  {
   "cell_type": "code",
   "execution_count": null,
   "id": "f7c27693-5eca-494e-98b4-e44ff8a2cc3f",
   "metadata": {},
   "outputs": [],
   "source": [
    "eric_name = \"eric\"\n",
    "eric_password = \"defaultPWD\"\n",
    "headers = { \"cache-control\": \"no-cache\" }\n",
    "data = {\n",
    "    \"scope\": \"openid user_name is_operator\",\n",
    "    \"grant_type\": \"password\",\n",
    "    \"username\": eric_name,\n",
    "    \"password\": eric_password,\n",
    "    \"client_id\": client_id,\n",
    "    \"client_secret\": client_secret\n",
    "}\n",
    "token_response = requests.post(token_endpoint, headers=headers, data=data).json()\n",
    "eric_id_token = token_response[\"id_token\"]\n",
    "eric_access_token = token_response[\"access_token\"]\n",
    "eric_refresh_token = token_response[\"refresh_token\"]"
   ]
  },
  {
   "cell_type": "markdown",
   "id": "8a9c6ba9-3669-4291-a0bd-87031c4af57e",
   "metadata": {},
   "source": [
    "### Call ADES as user `eric` using the ID token"
   ]
  },
  {
   "cell_type": "code",
   "execution_count": null,
   "id": "d25badf9-a25f-4a3f-8144-92e52155ae0e",
   "metadata": {},
   "outputs": [],
   "source": [
    "# ADES endpoint\n",
    "ades_eric_endpoint = f\"https://{ades_server}/eric/wps3/processes\""
   ]
  },
  {
   "cell_type": "code",
   "execution_count": null,
   "id": "2b886307-8457-4c73-829a-cea903ba9a7b",
   "metadata": {},
   "outputs": [],
   "source": [
    "# Request: List Processes\n",
    "headers = { \"accept\": \"application/json\", \"Authorization\": f\"Bearer {eric_id_token}\" }\n",
    "process_list_response = requests.get(ades_eric_endpoint, headers=headers).json()\n",
    "for process in process_list_response[\"processes\"]:\n",
    "    print(process[\"id\"])"
   ]
  },
  {
   "cell_type": "markdown",
   "id": "e43bafab-ec8d-45e7-8b06-3830d59f7343",
   "metadata": {},
   "source": [
    "## ADES as Client"
   ]
  },
  {
   "cell_type": "markdown",
   "id": "ed870074-2034-407d-b2ba-41bcfd4ebde2",
   "metadata": {},
   "source": [
    "### Receive token from incoming request\n",
    "Token was createdby/for a different client"
   ]
  },
  {
   "cell_type": "code",
   "execution_count": null,
   "id": "b989d743-f00d-41ec-bb3d-5de5324c4dd7",
   "metadata": {},
   "outputs": [],
   "source": [
    "ades_rx_token = eric_id_token\n",
    "# ades_rx_token = eric_access_token"
   ]
  },
  {
   "cell_type": "markdown",
   "id": "143c27f5-03ac-43c2-ad7d-330a92c99479",
   "metadata": {},
   "source": [
    "### Use RX token to call the Workspace API"
   ]
  },
  {
   "cell_type": "code",
   "execution_count": null,
   "id": "b1c2864f-c001-4354-b9ef-e0e095c9baca",
   "metadata": {},
   "outputs": [],
   "source": [
    "# Workspace API endpoint\n",
    "workspace_api_eric_endpoint = f\"https://workspace-api.{domain}/workspaces/demo-user-{eric_name}\""
   ]
  },
  {
   "cell_type": "code",
   "execution_count": null,
   "id": "59a3957d-c48c-4f7a-8dff-4083cd341883",
   "metadata": {},
   "outputs": [],
   "source": [
    "# Request: Get Workspace Details\n",
    "headers = { \"accept\": \"application/json\", \"Authorization\": f\"Bearer {ades_rx_token}\" }\n",
    "get_eric_workspace_response = requests.get( workspace_api_eric_endpoint, headers=headers ).json()\n",
    "get_eric_workspace_response"
   ]
  },
  {
   "cell_type": "markdown",
   "id": "3099477e-dfc5-4b8b-8c02-d5c5d1d3a78b",
   "metadata": {},
   "source": [
    "### Create own token via UMA Flow"
   ]
  },
  {
   "cell_type": "code",
   "execution_count": null,
   "id": "9cd1476f-b017-455c-8f78-db4144e08abe",
   "metadata": {},
   "outputs": [],
   "source": [
    "# ADES Client Credentials (different from other client)\n",
    "ades_client_id = \"cf394398-5c2e-4580-a67a-6bcc2862f2d6\"\n",
    "ades_client_secret = \"70d42655-b1f1-4093-98c1-5d0fd3a23b0a\""
   ]
  },
  {
   "cell_type": "markdown",
   "id": "1ce7522a-d0ce-4248-93a2-c7bd37bcba05",
   "metadata": {},
   "source": [
    "Can't demonstrate this with the current endpoints, because the resource-guard (uma-user-agent) abstracts the UMA flow, so we never see the ticket.\n",
    "\n",
    "In fact, this is exactly what the current resource-guard does - i.e. uses its own client and the provided JWT to get a new access token...\n",
    "* calls PEP to get a permission ticket\n",
    "* calls the Token Endpoint with permission ticket + original (received) JWT\n",
    "* receives access token\n",
    "* uses access token to confirm authorisation"
   ]
  },
  {
   "cell_type": "code",
   "execution_count": null,
   "id": "4cd99dd3-cadb-4db6-bd1b-472c9516b0d6",
   "metadata": {},
   "outputs": [],
   "source": []
  }
 ],
 "metadata": {
  "kernelspec": {
   "display_name": "Python 3",
   "language": "python",
   "name": "python3"
  },
  "language_info": {
   "codemirror_mode": {
    "name": "ipython",
    "version": 3
   },
   "file_extension": ".py",
   "mimetype": "text/x-python",
   "name": "python",
   "nbconvert_exporter": "python",
   "pygments_lexer": "ipython3",
   "version": "3.9.2"
  }
 },
 "nbformat": 4,
 "nbformat_minor": 5
}
