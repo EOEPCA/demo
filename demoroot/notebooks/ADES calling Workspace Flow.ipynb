{
 "cells": [
  {
   "cell_type": "markdown",
   "id": "058becf9-e132-4094-aaf1-c79d7ca202a6",
   "metadata": {},
   "source": [
    "# ADES Calling Workspace API Flow"
   ]
  },
  {
   "cell_type": "code",
   "execution_count": null,
   "id": "5b7b02d0-18a8-43a5-b9a7-e10756cc91ec",
   "metadata": {},
   "outputs": [],
   "source": [
    "import requests\n",
    "import urllib3\n",
    "\n",
    "urllib3.disable_warnings()\n",
    "\n",
    "domain = \"demo.eoepca.org\"\n",
    "auth_server = f\"auth.{domain}\"\n",
    "ades_server = f\"ades.{domain}\""
   ]
  },
  {
   "cell_type": "markdown",
   "id": "0dba4523-7d24-4222-a431-0b92fcc73f52",
   "metadata": {},
   "source": [
    "## Client (e.g. Portal) authenticates user and calls the ADES"
   ]
  },
  {
   "cell_type": "code",
   "execution_count": null,
   "id": "00d2cc28-950f-4eb3-89ea-ef88d938e281",
   "metadata": {},
   "outputs": [],
   "source": [
    "client_id = \"e2ca0359-c961-496d-8365-bdaa409b16f3\"\n",
    "client_secret = \"9c865400-d976-45db-9929-bba26ba64af1\""
   ]
  },
  {
   "cell_type": "markdown",
   "id": "b50613ea-5785-4fb9-943f-d21ca4c3c58d",
   "metadata": {},
   "source": [
    "### Get Token Endpoint from OIDC Configuration"
   ]
  },
  {
   "cell_type": "code",
   "execution_count": null,
   "id": "6731f176-3213-4574-96b0-3d2d434f7121",
   "metadata": {},
   "outputs": [],
   "source": [
    "# Get OIDC Configuration\n",
    "oidc_config_endpoint = f\"https://{auth_server}/.well-known/openid-configuration\"\n",
    "headers = {\"accept\": \"application/json\" }\n",
    "oidc_config = requests.get(oidc_config_endpoint, headers=headers).json()\n",
    "\n",
    "# Extract the token endpoint\n",
    "token_endpoint = oidc_config[\"token_endpoint\"]"
   ]
  },
  {
   "cell_type": "markdown",
   "id": "ad6d28aa-f2f9-4d6d-b4db-5ac54ba53aae",
   "metadata": {},
   "source": [
    "### Get Tokens for User `eric`"
   ]
  },
  {
   "cell_type": "code",
   "execution_count": null,
   "id": "f7c27693-5eca-494e-98b4-e44ff8a2cc3f",
   "metadata": {},
   "outputs": [],
   "source": [
    "eric_name = \"eric\"\n",
    "eric_password = \"defaultPWD\"\n",
    "headers = { \"cache-control\": \"no-cache\" }\n",
    "data = {\n",
    "    \"scope\": \"openid user_name is_operator\",\n",
    "    \"grant_type\": \"password\",\n",
    "    \"username\": eric_name,\n",
    "    \"password\": eric_password,\n",
    "    \"client_id\": client_id,\n",
    "    \"client_secret\": client_secret\n",
    "}\n",
    "token_response = requests.post(token_endpoint, headers=headers, data=data).json()\n",
    "eric_id_token = token_response[\"id_token\"]\n",
    "eric_access_token = token_response[\"access_token\"]\n",
    "eric_refresh_token = token_response[\"refresh_token\"]"
   ]
  },
  {
   "cell_type": "markdown",
   "id": "8a9c6ba9-3669-4291-a0bd-87031c4af57e",
   "metadata": {},
   "source": [
    "### Call ADES as user `eric` using the ID token"
   ]
  },
  {
   "cell_type": "code",
   "execution_count": null,
   "id": "d25badf9-a25f-4a3f-8144-92e52155ae0e",
   "metadata": {},
   "outputs": [],
   "source": [
    "# ADES endpoint\n",
    "ades_eric_endpoint = f\"https://{ades_server}/eric/wps3/processes\""
   ]
  },
  {
   "cell_type": "code",
   "execution_count": null,
   "id": "2b886307-8457-4c73-829a-cea903ba9a7b",
   "metadata": {},
   "outputs": [],
   "source": [
    "# Request: List Processes\n",
    "headers = { \"accept\": \"application/json\", \"Authorization\": f\"Bearer {eric_id_token}\" }\n",
    "process_list_response = requests.get(ades_eric_endpoint, headers=headers).json()\n",
    "for process in process_list_response[\"processes\"]:\n",
    "    print(process[\"id\"])"
   ]
  },
  {
   "cell_type": "markdown",
   "id": "e43bafab-ec8d-45e7-8b06-3830d59f7343",
   "metadata": {},
   "source": [
    "## ADES as Client calling the Workspace API\n",
    "\n",
    "The ADES will be called by the above client, that supplies the token to the ADES in `Authorization: Bearer` header - e.g. in execute request.\n",
    "\n",
    "We consider two cases...\n",
    "1. ADES simply reuses the token received by including it in `Authorization: Bearer` header in calls it makes to the Workspace API.<br>\n",
    "  _In this case the ADES is passive and does not act as a client of the authorization server._\n",
    "2. ADES uses the received ID Token to follow a UMA flow between itself, the resource server (workspace API in this case) and the authorization server.<br>\n",
    "  The outcome of this is that the ADES obtains an access token (using the ID Token), at the time it is needed.<br>\n",
    "  _In this case the ADES is a client of the authorization server, and has associated client credentials.<br>\n",
    "  This is effectively what is currently performed by the resource-guard (uma-user-agent+PEP) in the develop/demo EOEPCA deployments using Gluu._"
   ]
  },
  {
   "cell_type": "markdown",
   "id": "ed870074-2034-407d-b2ba-41bcfd4ebde2",
   "metadata": {},
   "source": [
    "### Receive token from incoming request\n",
    "Token was createdby/for a different client"
   ]
  },
  {
   "cell_type": "code",
   "execution_count": null,
   "id": "b989d743-f00d-41ec-bb3d-5de5324c4dd7",
   "metadata": {},
   "outputs": [],
   "source": [
    "ades_rx_token = eric_id_token"
   ]
  },
  {
   "cell_type": "markdown",
   "id": "143c27f5-03ac-43c2-ad7d-330a92c99479",
   "metadata": {},
   "source": [
    "### CASE 1: Use RX token to call the Workspace API"
   ]
  },
  {
   "cell_type": "code",
   "execution_count": null,
   "id": "b1c2864f-c001-4354-b9ef-e0e095c9baca",
   "metadata": {},
   "outputs": [],
   "source": [
    "# Workspace API endpoint\n",
    "uri_for_request = f\"/workspaces/demo-user-{eric_name}\"\n",
    "workspace_api_eric_endpoint = f\"https://workspace-api.{domain}{uri_for_request}\""
   ]
  },
  {
   "cell_type": "code",
   "execution_count": null,
   "id": "59a3957d-c48c-4f7a-8dff-4083cd341883",
   "metadata": {},
   "outputs": [],
   "source": [
    "# Request: Get Workspace Details\n",
    "headers = { \"accept\": \"application/json\", \"Authorization\": f\"Bearer {ades_rx_token}\" }\n",
    "get_eric_workspace_response = requests.get( workspace_api_eric_endpoint, headers=headers ).json()\n",
    "get_eric_workspace_response"
   ]
  },
  {
   "cell_type": "markdown",
   "id": "3099477e-dfc5-4b8b-8c02-d5c5d1d3a78b",
   "metadata": {},
   "source": [
    "### CASE 2: Create own token via UMA Flow\n",
    "\n",
    "The current demo cluster uses the resource-guard to protect resource servers, such as the workspace-api<br>\n",
    "This would interfere with our ability to follow the UMA flow, since the resource-guard does this for us.\n",
    "\n",
    "Therefore, we have to bypass the UMA client of the resource-guard, by going directly to the PEP API that authorizes access to the workspace API.<br>\n",
    "In this context the PEP API of the workspace-api acts as the resource server endpoint for the flow."
   ]
  },
  {
   "cell_type": "markdown",
   "id": "3f5837a5-fa7e-455e-95dc-8fcf067a0e9a",
   "metadata": {},
   "source": [
    "#### We need to use the pep API endpoint which acts on behalf of the workspace service"
   ]
  },
  {
   "cell_type": "code",
   "execution_count": null,
   "id": "ba44903c-68ed-47f4-973a-3fcc7160d70c",
   "metadata": {},
   "outputs": [],
   "source": [
    "workspace_pep_api = f\"https://workspace-api-pep.{domain}/authorize\""
   ]
  },
  {
   "cell_type": "markdown",
   "id": "bacb3f3d-d558-4171-a3b5-52138e851722",
   "metadata": {},
   "source": [
    "#### ADES Client Credentials (different from other client)"
   ]
  },
  {
   "cell_type": "code",
   "execution_count": null,
   "id": "9cd1476f-b017-455c-8f78-db4144e08abe",
   "metadata": {},
   "outputs": [],
   "source": [
    "ades_client_id = \"cf394398-5c2e-4580-a67a-6bcc2862f2d6\"\n",
    "ades_client_secret = \"70d42655-b1f1-4093-98c1-5d0fd3a23b0a\""
   ]
  },
  {
   "cell_type": "markdown",
   "id": "636fc839-0141-429c-9776-d48d8d023dfb",
   "metadata": {},
   "source": [
    "#### First we make a 'naive' request to resource with no token, ticket returned\n",
    "\n",
    "The naive attempt is made to the resource server (workspace API) which returns a ticket in consultation with the authorization server.<br>\n",
    "Remember that the PEP API is acting as the resource server endpoint - as our workaround the resource-guard."
   ]
  },
  {
   "cell_type": "code",
   "execution_count": null,
   "id": "4cd99dd3-cadb-4db6-bd1b-472c9516b0d6",
   "metadata": {},
   "outputs": [],
   "source": [
    "headers = {\n",
    "    \"content-type\": \"application/json\", \"cache-control\": \"no-cache\",\n",
    "    \"X-Original-Uri\": uri_for_request, \"X-Original-Method\": \"GET\"\n",
    "}\n",
    "naive_attempt_response = requests.get(workspace_pep_api, headers=headers, verify=False)"
   ]
  },
  {
   "cell_type": "markdown",
   "id": "6e73f414-6ef4-4c68-a90a-8a24735de1b9",
   "metadata": {},
   "source": [
    "The ticket is returned in the `WWW-Authenticate` header of the `401 Unauthorized` response..."
   ]
  },
  {
   "cell_type": "code",
   "execution_count": null,
   "id": "9877711e-2cbf-42cf-a5f1-26ccdee0296e",
   "metadata": {},
   "outputs": [],
   "source": [
    "if naive_attempt_response.status_code == 401:\n",
    "    ticket = naive_attempt_response.headers[\"WWW-Authenticate\"].split(\"ticket=\")[1]\n",
    "    print(f\"ticket: {ticket}\")\n",
    "else:\n",
    "    print(\"UNEXPECTED: was expecting a 401 response with a ticket\")"
   ]
  },
  {
   "cell_type": "markdown",
   "id": "1783adec-506d-4bfa-ac55-a846aacf7af3",
   "metadata": {},
   "source": [
    "#### Then Exchange ticket for access token using the original ID Token"
   ]
  },
  {
   "cell_type": "code",
   "execution_count": null,
   "id": "7499ecee-f9c9-488e-80e6-9ba537f7041b",
   "metadata": {},
   "outputs": [],
   "source": [
    "headers = { \"cache-control\": \"no-cache\" }\n",
    "data = {\n",
    "    \"claim_token_format\": \"http://openid.net/specs/openid-connect-core-1_0.html#IDToken\",\n",
    "    \"claim_token\": ades_rx_token,\n",
    "    \"ticket\": ticket,\n",
    "    \"grant_type\": \"urn:ietf:params:oauth:grant-type:uma-ticket\",\n",
    "    \"client_id\": ades_client_id,\n",
    "    \"client_secret\": ades_client_secret,\n",
    "    \"scope\": \"openid\"\n",
    "}\n",
    "exchange_ticket_response = requests.post(token_endpoint, headers=headers, data=data).json()\n",
    "eric_access_token_from_ticket = exchange_ticket_response[\"access_token\"]\n",
    "eric_access_token_from_ticket"
   ]
  },
  {
   "cell_type": "markdown",
   "id": "f94393e8-20f7-4a3c-b7be-cee93fb05526",
   "metadata": {},
   "source": [
    "#### Check that the new access token works\n",
    "\n",
    "As a quick check, we can repeat the call we made to the resource server (PEP API) - this time using the token we obtained..."
   ]
  },
  {
   "cell_type": "code",
   "execution_count": null,
   "id": "46ad56b2-6578-41a1-94f6-ae4ff9244bb6",
   "metadata": {},
   "outputs": [],
   "source": [
    "headers = {\n",
    "    \"content-type\": \"application/json\", \"cache-control\": \"no-cache\",\n",
    "    \"X-Original-Uri\": uri_for_request, \"X-Original-Method\": \"GET\",\n",
    "    \"Authorization\": f\"Bearer {eric_access_token_from_ticket}\"\n",
    "}\n",
    "check_token_response = requests.get(workspace_pep_api, headers=headers, verify=False)"
   ]
  },
  {
   "cell_type": "markdown",
   "id": "7c220936-b0f9-427e-9804-f2b35fd829cc",
   "metadata": {},
   "source": [
    "We expect a `200 OK` response this time - rather than the `401` we got with the naive attempt..."
   ]
  },
  {
   "cell_type": "code",
   "execution_count": null,
   "id": "67a4bd10-9e52-4922-8c8f-d242dc0973e9",
   "metadata": {},
   "outputs": [],
   "source": [
    "check_token_response"
   ]
  },
  {
   "cell_type": "markdown",
   "id": "72c03011-57da-4d6f-91ec-8d1a4bb23a8a",
   "metadata": {},
   "source": [
    "#### Make request to Workspace API using new token\n",
    "\n",
    "As an additional check, we can also use this token with the workspace-api, accessed via the resource-guard.<br>\n",
    "In this case, by presenting the newly generated access token in the request, the resource-guard does not need to follow the UMA flow - the access token is enough, i.e. we already did the hard work by following the UMA flow ourselves."
   ]
  },
  {
   "cell_type": "code",
   "execution_count": null,
   "id": "2fb6732f-c438-41d4-b63f-44e69c3eb233",
   "metadata": {},
   "outputs": [],
   "source": [
    "headers = {\n",
    "    \"accept\": \"application/json\",\n",
    "    \"Authorization\": f\"Bearer {eric_access_token_from_ticket}\"\n",
    "}\n",
    "get_eric_workspace_response = requests.get( workspace_api_eric_endpoint, headers=headers )\n",
    "print(get_eric_workspace_response)\n",
    "get_eric_workspace_response.json()"
   ]
  },
  {
   "cell_type": "markdown",
   "source": [
    "# Keycloak"
   ],
   "metadata": {
    "collapsed": false
   },
   "id": "85cb1fbb1a03dc18"
  },
  {
   "cell_type": "code",
   "execution_count": null,
   "outputs": [],
   "source": [
    "import requests\n",
    "import urllib3\n",
    "\n",
    "urllib3.disable_warnings()\n",
    "\n",
    "realm = \"master\"\n",
    "domain = \"develop.eoepca.org\"\n",
    "auth_server = f\"https://identity.keycloak.{domain}\"\n",
    "dummy_service = f\"https://identity.dummy-service.{domain}\"\n",
    "identity_api = f\"https://identity.api.{domain}\"\n",
    "\n",
    "token_endpoint = requests.get(f\"{auth_server}/realms/{realm}/.well-known/openid-configuration\").json()['token_endpoint']"
   ],
   "metadata": {
    "collapsed": false
   },
   "id": "92218b2a6abc9516"
  },
  {
   "cell_type": "markdown",
   "source": [
    "#### Get Eric tokens\n",
    "Get tokens using eoepca-portal client since that is a frontend client where users can sign in"
   ],
   "metadata": {
    "collapsed": false
   },
   "id": "e6c941373b4ae5ee"
  },
  {
   "cell_type": "code",
   "execution_count": null,
   "outputs": [],
   "source": [
    "eric_tokens = requests.post(token_endpoint, data={\n",
    "    \"grant_type\": \"password\",\n",
    "    \"client_id\": \"eoepca-portal\",\n",
    "    \"username\": \"eric\",\n",
    "    \"password\": \"eric\",\n",
    "    \"scope\": \"openid\"\n",
    "}).json()\n",
    "eric_access_token = eric_tokens['access_token']\n",
    "eric_id_token = eric_tokens['id_token']"
   ],
   "metadata": {
    "collapsed": false
   },
   "id": "c029f43dcdb757e5"
  },
  {
   "cell_type": "markdown",
   "source": [
    "#### Get RPT using Eric's access token with a permission to 'view' /ericspace/* resource"
   ],
   "metadata": {
    "collapsed": false
   },
   "id": "bb0040d2bc566e9d"
  },
  {
   "cell_type": "code",
   "execution_count": null,
   "outputs": [],
   "source": [
    "headers = {\n",
    "    \"Authorization\": \"Bearer \" + eric_access_token\n",
    "}\n",
    "data = {\n",
    "    \"grant_type\": \"urn:ietf:params:oauth:grant-type:uma-ticket\",\n",
    "    \"audience\": \"dummy-service\",\n",
    "    \"permission\": \"/ericspace/*#view\",\n",
    "    \"permission_resource_format\": \"uri\"\n",
    "}\n",
    "reply = requests.post(token_endpoint, headers=headers, data=data).json()\n",
    "rpt = None\n",
    "if not 'access_token' in reply:\n",
    "    print(str(reply))\n",
    "else:\n",
    "    rpt = reply['access_token']\n",
    "    print(\"Eric's RPT to access /ericspace/* resource on dummy-service:\")\n",
    "    print(rpt)"
   ],
   "metadata": {
    "collapsed": false
   },
   "id": "8c43ae1582819f50"
  },
  {
   "cell_type": "markdown",
   "source": [
    "#### Attempt to get RPT using Eric's id token\n",
    "Id token is rejected by Keycloak."
   ],
   "metadata": {
    "collapsed": false
   },
   "id": "954c8192be0bfdb4"
  },
  {
   "cell_type": "code",
   "execution_count": null,
   "outputs": [],
   "source": [
    "headers = {\n",
    "    \"Authorization\": \"Bearer \" + eric_id_token\n",
    "}\n",
    "data = {\n",
    "    \"grant_type\": \"urn:ietf:params:oauth:grant-type:uma-ticket\",\n",
    "    \"audience\": \"dummy-service\",\n",
    "    \"permission\": \"/ericspace/*#view\",\n",
    "    \"permission_resource_format\": \"uri\"\n",
    "}\n",
    "reply = requests.post(token_endpoint, headers=headers, data=data).json()\n",
    "print(reply)"
   ],
   "metadata": {
    "collapsed": false
   },
   "id": "458c07c2cebdf6db"
  },
  {
   "cell_type": "markdown",
   "source": [
    "#### Access /ericspace using access token\n",
    "Request is successful since Gatekeeper performs the UMA flow itself."
   ],
   "metadata": {
    "collapsed": false
   },
   "id": "e8fc8d91292d5754"
  },
  {
   "cell_type": "code",
   "execution_count": null,
   "outputs": [],
   "source": [
    "headers = {\n",
    "    \"Authorization\": \"Bearer \" + eric_access_token\n",
    "}\n",
    "print(\"Request to \" + dummy_service + \"/ericspace using access token:\")\n",
    "response = requests.get(dummy_service + \"/ericspace\", headers=headers)\n",
    "print(response.status_code)"
   ],
   "metadata": {
    "collapsed": false
   },
   "id": "711f19650df536c1"
  },
  {
   "cell_type": "markdown",
   "source": [
    "#### Access /ericspace using RPT\n",
    "Request should be successful with 200. Not sure if Gatekeeper still performs the UMA flow or is able to pick the permissions section already included on RPT."
   ],
   "metadata": {
    "collapsed": false
   },
   "id": "156948aa885d8eb7"
  },
  {
   "cell_type": "code",
   "execution_count": null,
   "outputs": [],
   "source": [
    "headers = {\n",
    "    \"Authorization\": \"Bearer \" + rpt\n",
    "}\n",
    "print(\"Request to \" + dummy_service + \"/ericspace using RPT:\")\n",
    "response = requests.get(dummy_service + \"/ericspace\", headers=headers)\n",
    "print(response.status_code)"
   ],
   "metadata": {
    "collapsed": false
   },
   "id": "4c6901bf9517a965"
  },
  {
   "cell_type": "markdown",
   "source": [
    "#### Access /alicespace using the same RPT\n",
    "Reply should be 401."
   ],
   "metadata": {
    "collapsed": false
   },
   "id": "733928a3827cf5b6"
  },
  {
   "cell_type": "code",
   "execution_count": null,
   "outputs": [],
   "source": [
    "headers = {\n",
    "    \"Authorization\": \"Bearer \" + rpt\n",
    "}\n",
    "print(\"Request to \" + dummy_service + \"/alicespace using RPT:\")\n",
    "response = requests.get(dummy_service + \"/alicespace\", headers=headers)\n",
    "print(response.status_code)"
   ],
   "metadata": {
    "collapsed": false
   },
   "id": "f61e7dd7ad63f907"
  },
  {
   "cell_type": "markdown",
   "source": [
    "## Use offline access to get a new access token \n",
    "This showcase demonstrates how offline_access scope can generate a long-lived refresh token which can be used for offline access. Offline tokens live forever if there is at least one use every 30 days, but can also be destroyed after one use depending on configuration. Offline tokens should be used with caution for security reasons. A user can destroy their offline tokens using Keycloak's UI console. "
   ],
   "metadata": {
    "collapsed": false
   },
   "id": "db7f82e8e2bc9f04"
  },
  {
   "cell_type": "markdown",
   "source": [
    "#### Get Eric's refresh token"
   ],
   "metadata": {
    "collapsed": false
   },
   "id": "2456efaae10370ce"
  },
  {
   "cell_type": "code",
   "execution_count": null,
   "outputs": [],
   "source": [
    "eric_tokens = requests.post(token_endpoint, data={\n",
    "    \"grant_type\": \"password\",\n",
    "    \"client_id\": \"eoepca-portal\",\n",
    "    \"username\": \"eric\",\n",
    "    \"password\": \"eric\",\n",
    "    \"scope\": \"openid\"\n",
    "}).json()\n",
    "refresh_token = eric_tokens['refresh_token']"
   ],
   "metadata": {
    "collapsed": false
   },
   "id": "eb86979a0316764a"
  },
  {
   "cell_type": "markdown",
   "source": [
    "#### Get Eric's offline refresh token\n",
    "Difference from the previous call is the 'offline_access' scope."
   ],
   "metadata": {
    "collapsed": false
   },
   "id": "1064470e5dfaa7a2"
  },
  {
   "cell_type": "code",
   "execution_count": null,
   "outputs": [],
   "source": [
    "eric_tokens = requests.post(token_endpoint, data={\n",
    "    \"grant_type\": \"password\",\n",
    "    \"client_id\": \"eoepca-portal\",\n",
    "    \"username\": \"eric\",\n",
    "    \"password\": \"eric\",\n",
    "    \"scope\": \"openid offline_access\"\n",
    "}).json()\n",
    "offline_refresh_token = eric_tokens['refresh_token']"
   ],
   "metadata": {
    "collapsed": false
   },
   "id": "2b8e001ef79d3300"
  },
  {
   "cell_type": "markdown",
   "source": [
    "#### Get new a new access token right away to confirm it works\n",
    "Notice the client_id which must be the original client_id who the refresh token was issued to."
   ],
   "metadata": {
    "collapsed": false
   },
   "id": "c3193baac9860585"
  },
  {
   "cell_type": "code",
   "execution_count": null,
   "outputs": [],
   "source": [
    "eric_tokens =  requests.post(token_endpoint, data={\n",
    "    \"grant_type\": \"refresh_token\",\n",
    "    \"client_id\": \"eoepca-portal\",\n",
    "    \"refresh_token\": refresh_token\n",
    "}).json()\n",
    "print(\"Eric's access token using refresh token:\")\n",
    "print(eric_tokens['access_token'])\n",
    "\n",
    "eric_tokens = requests.post(token_endpoint, data={\n",
    "    \"grant_type\": \"refresh_token\",\n",
    "    \"client_id\": \"eoepca-portal\",\n",
    "    \"refresh_token\": offline_refresh_token\n",
    "}).json()\n",
    "print()\n",
    "print(\"Eric's access token using offline refresh token:\")\n",
    "print(eric_tokens['access_token'])"
   ],
   "metadata": {
    "collapsed": false
   },
   "id": "23c25f9b40e4eb90"
  },
  {
   "cell_type": "markdown",
   "source": [
    "#### Try to get a new access token using refresh token with a different client id\n",
    "A different client_id will be rejected by Keycloak."
   ],
   "metadata": {
    "collapsed": false
   },
   "id": "2fc603fc92fc74e0"
  },
  {
   "cell_type": "code",
   "execution_count": null,
   "outputs": [],
   "source": [
    "reply = requests.post(token_endpoint, data={\n",
    "    \"grant_type\": \"refresh_token\",\n",
    "    \"client_id\": \"ades\",\n",
    "    \"refresh_token\": refresh_token\n",
    "}).json()\n",
    "print(\"Error message:\")\n",
    "print(reply)"
   ],
   "metadata": {
    "collapsed": false
   },
   "id": "284917299284aa4e"
  },
  {
   "cell_type": "markdown",
   "source": [
    "#### Expire the regular refresh token\n",
    "Sleep for 31 minutes to expire the regular refresh token."
   ],
   "metadata": {
    "collapsed": false
   },
   "id": "e6292e9c5bbf7e58"
  },
  {
   "cell_type": "code",
   "execution_count": null,
   "outputs": [],
   "source": [
    "import time\n",
    "\n",
    "time.sleep(31 * 60)"
   ],
   "metadata": {
    "collapsed": false
   },
   "id": "630d2b665b5fa698"
  },
  {
   "cell_type": "markdown",
   "source": [
    "#### Get new access tokens using both refresh tokens"
   ],
   "metadata": {
    "collapsed": false
   },
   "id": "401128fb8e027b2"
  },
  {
   "cell_type": "code",
   "execution_count": null,
   "outputs": [],
   "source": [
    "print(\"Getting new access token with regular refresh token\")\n",
    "reply = requests.post(token_endpoint, data={\n",
    "    \"grant_type\": \"refresh_token\",\n",
    "    \"client_id\": \"eoepca-portal\",\n",
    "    \"refresh_token\": refresh_token\n",
    "}).json()\n",
    "print(\"Error message:\")\n",
    "print(reply)\n",
    "\n",
    "print(\"Getting new access token with offline refresh token\")\n",
    "eric_tokens = requests.post(token_endpoint, data={\n",
    "    \"grant_type\": \"refresh_token\",\n",
    "    \"client_id\": \"eoepca-portal\",\n",
    "    \"refresh_token\": offline_refresh_token\n",
    "}).json()\n",
    "print(\"Eric's access token:\")\n",
    "eric_access_token = eric_tokens['access_token']\n",
    "print(eric_access_token)"
   ],
   "metadata": {
    "collapsed": false
   },
   "id": "b5a4ba4d0e7ab70f"
  },
  {
   "cell_type": "markdown",
   "source": [
    "#### Access dummy service using the newly generated access token\n",
    "Result should be 200"
   ],
   "metadata": {
    "collapsed": false
   },
   "id": "1607785b00b3e9b7"
  },
  {
   "cell_type": "code",
   "execution_count": null,
   "outputs": [],
   "source": [
    "headers = {\n",
    "    \"Authorization\": \"Bearer \" + eric_access_token\n",
    "}\n",
    "print(\"Request to \" + dummy_service + \"/ericspace using the acces token generated from the offline token:\")\n",
    "response = requests.get(dummy_service + \"/ericspace\", headers=headers)\n",
    "print(response.status_code)"
   ],
   "metadata": {
    "collapsed": false
   },
   "id": "a67bd3072416bcfa"
  }
 ],
 "metadata": {
  "kernelspec": {
   "display_name": "Python 3",
   "language": "python",
   "name": "python3"
  },
  "language_info": {
   "codemirror_mode": {
    "name": "ipython",
    "version": 3
   },
   "file_extension": ".py",
   "mimetype": "text/x-python",
   "name": "python",
   "nbconvert_exporter": "python",
   "pygments_lexer": "ipython3",
   "version": "3.9.2"
  }
 },
 "nbformat": 4,
 "nbformat_minor": 5
}
