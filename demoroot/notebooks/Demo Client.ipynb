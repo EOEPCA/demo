{
 "cells": [
  {
   "cell_type": "markdown",
   "id": "decreased-doctrine",
   "metadata": {},
   "source": [
    "## Using Demo Client\n",
    "Interaction with EOEPCA endpoint using python Demo Client."
   ]
  },
  {
   "cell_type": "code",
   "execution_count": null,
   "id": "photographic-screen",
   "metadata": {},
   "outputs": [],
   "source": [
    "import utils.DemoClient as client"
   ]
  },
  {
   "cell_type": "markdown",
   "id": "textile-event",
   "metadata": {},
   "source": [
    "## Client\n",
    "We instantiate a client to interact with the platform. The client dynamically registers with the Authorisation Server to take part in UMA (User Managed Access) flows through which authorization is obtained for scoped access resources on behalf of the user."
   ]
  },
  {
   "cell_type": "code",
   "execution_count": null,
   "id": "driving-journey",
   "metadata": {},
   "outputs": [],
   "source": [
    "#-------------------------------------------------------------------------------\n",
    "# Initialise client\n",
    "#-------------------------------------------------------------------------------\n",
    "base_domain = \"185.52.193.87.nip.io\"\n",
    "platform_domain = \"test.\" + base_domain\n",
    "base_url = \"https://\" + platform_domain\n",
    "demo = client.DemoClient(base_url)\n",
    "demo.register_client()\n",
    "demo.save_state()"
   ]
  },
  {
   "cell_type": "markdown",
   "id": "limiting-jurisdiction",
   "metadata": {},
   "source": [
    "## User Authentication\n",
    "The user authentication is represented by an ID Token (JWT), that is used to identify the user in UMA authorization flows."
   ]
  },
  {
   "cell_type": "code",
   "execution_count": null,
   "id": "cutting-accuracy",
   "metadata": {
    "tags": []
   },
   "outputs": [],
   "source": [
    "#-------------------------------------------------------------------------------\n",
    "# Authenticate as UserA and get ID Token\n",
    "#-------------------------------------------------------------------------------\n",
    "USER_NAME=\"UserA\"\n",
    "USER_PASSWORD=\"defaultPWD\"\n",
    "user_id_token = demo.get_id_token(USER_NAME, USER_PASSWORD)"
   ]
  },
  {
   "cell_type": "markdown",
   "id": "fresh-pathology",
   "metadata": {},
   "source": [
    "## ADES\n",
    "The ADES provides user-specific endpoints, using a URL path prefix."
   ]
  },
  {
   "cell_type": "code",
   "execution_count": null,
   "id": "convenient-conviction",
   "metadata": {},
   "outputs": [],
   "source": [
    "# ADES URLs\n",
    "ades_url = \"http://ades.\" + platform_domain\n",
    "ades_user = USER_NAME\n",
    "ades_user_prefix = \"/\" + ades_user\n",
    "ades_wps_url = ades_url + ades_user_prefix + \"/zoo\"\n",
    "ades_proc_url = ades_url + ades_user_prefix + \"/wps3\"\n",
    "print(\"ADES WPS endpoint: \", ades_wps_url)\n",
    "print(\"ADES API Processes endpoint: \", ades_proc_url)"
   ]
  },
  {
   "cell_type": "markdown",
   "id": "least-monitor",
   "metadata": {},
   "source": [
    "### ADES API Processes"
   ]
  },
  {
   "cell_type": "code",
   "execution_count": null,
   "id": "changing-prescription",
   "metadata": {},
   "outputs": [],
   "source": [
    "ades_access_token = None\n",
    "app_name = \"s-expression-0_0_2\""
   ]
  },
  {
   "cell_type": "markdown",
   "id": "first-adolescent",
   "metadata": {},
   "source": [
    "#### ADES: List Processes"
   ]
  },
  {
   "cell_type": "code",
   "execution_count": null,
   "id": "neutral-notification",
   "metadata": {},
   "outputs": [],
   "source": [
    "# API Processes - List Processes\n",
    "response, ades_access_token = demo.proc_list_processes(ades_proc_url, id_token=user_id_token, access_token=ades_access_token)"
   ]
  },
  {
   "cell_type": "markdown",
   "id": "optical-postage",
   "metadata": {},
   "source": [
    "#### ADES: Deploy Application"
   ]
  },
  {
   "cell_type": "code",
   "execution_count": null,
   "id": "equal-hurricane",
   "metadata": {},
   "outputs": [],
   "source": [
    "# API Processes - Deploy Application\n",
    "response, ades_access_token = demo.proc_deploy_application(ades_proc_url, \"../data/app-deploy-body-atom.json\", id_token=user_id_token, access_token=ades_access_token)"
   ]
  },
  {
   "cell_type": "markdown",
   "id": "dental-alcohol",
   "metadata": {},
   "source": [
    "#### ADES: Get Application Details"
   ]
  },
  {
   "cell_type": "code",
   "execution_count": null,
   "id": "painted-favorite",
   "metadata": {},
   "outputs": [],
   "source": [
    "# API Processes - Get Application Details\n",
    "response, ades_access_token = demo.proc_get_app_details(ades_proc_url, app_name, id_token=user_id_token, access_token=ades_access_token)"
   ]
  },
  {
   "cell_type": "markdown",
   "id": "wrapped-timber",
   "metadata": {},
   "source": [
    "#### ADES: Undeploy Application"
   ]
  },
  {
   "cell_type": "code",
   "execution_count": null,
   "id": "basic-intensity",
   "metadata": {},
   "outputs": [],
   "source": [
    "# API Processes - Undeploy Application\n",
    "response, ades_access_token = demo.proc_undeploy_application(ades_proc_url, app_name, id_token=user_id_token, access_token=ades_access_token)"
   ]
  }
 ],
 "metadata": {
  "kernelspec": {
   "display_name": "Python 3",
   "language": "python",
   "name": "python3"
  },
  "language_info": {
   "codemirror_mode": {
    "name": "ipython",
    "version": 3
   },
   "file_extension": ".py",
   "mimetype": "text/x-python",
   "name": "python",
   "nbconvert_exporter": "python",
   "pygments_lexer": "ipython3",
   "version": "3.8.8"
  }
 },
 "nbformat": 4,
 "nbformat_minor": 5
}
