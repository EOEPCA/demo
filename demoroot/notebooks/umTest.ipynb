{
 "cells": [
    {
   "cell_type": "code",
   "execution_count": 3,
   "metadata": {},
   "outputs": [
    {
     "data": {
      "text/plain": [
       "{\n",
       "  \"name\": \"eoepca\",\n",
       "  \"url_params\": {\n",
       "    \"response_type\": \"token id_token\",\n",
       "    \"display\": \"popup\",\n",
       "    \"client_id\": \"c00c65cd-18c5-4514-9c6c-aac49f217c4e\",\n",
       "    \"redirect_uri\": \"https://test.185.52.193.87.nip.io/callback.html\",\n",
       "    \"scope\": \"profile openid\",\n",
       "    \"nonce\": \"asohuasgasdgas79astgasgas\",\n",
       "    \"response_mode\": \"query\"\n",
       "  }\n",
       "}"
      ]
     },
     "execution_count": 3,
     "metadata": {},
     "output_type": "execute_result"
    }
   ],
   "source": [
    "from ipyauth import Auth, ParamsEoepca\n",
    "scope = ' '.join(['profile', 'openid'])\n",
    "p = ParamsEoepca(dotenv_file='ipyauth-eoepca-demo.env', scope=scope)\n",
    "p"
   ]
  },

  {
   "cell_type": "code",
   "execution_count": 1,
   "metadata": {},
   "outputs": [],
   "source": [
    "from ipyauth import Auth, ParamsEoepca\n",
    "p = ParamsEoepca(\n",
    "    redirect_uri=\"https://test.185.52.193.87.nip.io/callback.html\",\n",
    "    display=\"popup\",\n",
    "    response_type=\"id_token token\",\n",
    "    scope=\"openid profile\",\n",
    "    client_id=\"c00c65cd-18c5-4514-9c6c-aac49f217c4e\",\n",
    "    nonce=\"asohuasgasdgas79astgasgas\",\n",
    "    response_mode=\"query\"\n",
    "    )\n",
    "a = Auth(params=p)\n",
    "a"
   ]
  },
  {
   "cell_type": "code",
   "execution_count": 0,
   "metadata": {},
   "outputs": [],
   "source": [
    "a.access_token"
   ]
  }
 ],
 "metadata": {
  "kernelspec": {
   "display_name": "Python 2",
   "language": "python",
   "name": "python2"
  },
  "language_info": {
   "codemirror_mode": {
    "name": "ipython",
    "version": 2
   },
   "file_extension": ".py",
   "mimetype": "text/x-python",
   "name": "python",
   "nbconvert_exporter": "python",
   "pygments_lexer": "ipython2",
   "version": "2.7.5"
  }
 },
 "nbformat": 4,
 "nbformat_minor": 2
}