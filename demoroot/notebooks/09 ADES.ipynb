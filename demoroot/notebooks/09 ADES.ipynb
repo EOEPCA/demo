{
 "cells": [
  {
   "cell_type": "markdown",
   "metadata": {},
   "source": [
    "# O9 ADES Notebook\n",
    "\n",
    "The purpose of this notebook is to demonstrate and test the deployment of ades. \\\n",
    "This is done by executing requests to the ades service to check whether it is alive \\\n",
    "and functional."
   ]
  },
  {
   "cell_type": "code",
   "execution_count": 7,
   "metadata": {},
   "outputs": [
    {
     "name": "stdout",
     "output_type": "stream",
     "text": [
      "The autoreload extension is already loaded. To reload it, use:\n",
      "  %reload_ext autoreload\n"
     ]
    }
   ],
   "source": [
    "%load_ext autoreload\n",
    "%autoreload 2\n",
    "from owslib.csw import CatalogueServiceWeb\n",
    "import json\n",
    "import os\n",
    "import requests\n",
    "from utils.DemoClient import DemoClient"
   ]
  },
  {
   "cell_type": "code",
   "execution_count": 8,
   "metadata": {},
   "outputs": [
    {
     "name": "stdout",
     "output_type": "stream",
     "text": [
      "State loaded from file: {'client_id': 'ee59e60c-0725-4f6c-879a-47208ca08a87', 'client_secret': '1f16be0d-1c6c-413f-95cb-1510ef99fbd1'}\n",
      "client_id: ee59e60c-0725-4f6c-879a-47208ca08a87 [REUSED]\n",
      "Client state saved to file: state.json\n",
      "[Request] GET => https://auth.demo.eoepca.org/.well-known/uma2-configuration\n",
      "<Response [200]>\n",
      "token_endpoint: https://auth.demo.eoepca.org/oxauth/restv1/token\n",
      "[Request] POST => https://auth.demo.eoepca.org/oxauth/restv1/token\n",
      "ADES WPS endpoint: http://ades.demo.eoepca.org/eric/zoo\n",
      "ADES API Processes endpoint: http://ades.demo.eoepca.org/eric/wps3\n"
     ]
    }
   ],
   "source": [
    "base_domain = \"demo.eoepca.org\"\n",
    "platform_domain = \"auth.\" + base_domain\n",
    "base_url = \"https://\" + platform_domain\n",
    "demo = client.DemoClient(base_url)\n",
    "demo.register_client()\n",
    "demo.save_state()\n",
    "\n",
    "USER_NAME=\"eric\"\n",
    "USER_PASSWORD=\"defaultPWD\"\n",
    "user_id_token = demo.get_id_token(USER_NAME, USER_PASSWORD)\n",
    "\n",
    "ades_base_url = \"http://ades.\" + base_domain\n",
    "ades_wps_url = ades_base_url + \"/\" + USER_NAME + \"/zoo\"; print(\"ADES WPS endpoint:\", ades_wps_url)\n",
    "ades_proc_url = ades_base_url + \"/\" + USER_NAME + \"/wps3\"; print(\"ADES API Processes endpoint:\", ades_proc_url)"
   ]
  },
  {
   "cell_type": "code",
   "execution_count": 9,
   "metadata": {},
   "outputs": [],
   "source": [
    "workspace_url = \"https://workspace-api.\" + base_domain\n",
    "workspace_access_token = None\n",
    "workspace_prefix = \"demo-user-\""
   ]
  },
  {
   "cell_type": "code",
   "execution_count": 10,
   "metadata": {},
   "outputs": [
    {
     "name": "stdout",
     "output_type": "stream",
     "text": [
      "[Request] GET => http://ades.demo.eoepca.org/eric/wps3/processes\n",
      "UNEXPECTED status code: 403 for resource http://ades.demo.eoepca.org/eric/wps3/processes\n",
      "[Process List] = 403 (Forbidden)\n",
      "Processes: []\n"
     ]
    }
   ],
   "source": [
    "ades_access_token = None\n",
    "app_name = \"s-expression-0_0_2\"\n",
    "\n",
    "response, ades_access_token, process_ids = demo.proc_list_processes(ades_proc_url, id_token=user_id_token, access_token=ades_access_token)\n",
    "print(\"Processes:\", process_ids)"
   ]
  },
  {
   "cell_type": "code",
   "execution_count": null,
   "metadata": {},
   "outputs": [],
   "source": [
    "# List available processes\n",
    "response = requests.get(ades_proc_url + \"/processes\")\n",
    "\n",
    "if response.status_code == 200:\n",
    "    print(\"Available processes:\")\n",
    "    for proc in response.json():\n",
    "        print(proc)\n",
    "else:\n",
    "    print(\"Error:\", response.status_code, response.text)"
   ]
  },
  {
   "cell_type": "code",
   "execution_count": null,
   "metadata": {},
   "outputs": [],
   "source": []
  }
 ],
 "metadata": {
  "kernelspec": {
   "display_name": "Python 3",
   "language": "python",
   "name": "python3"
  },
  "language_info": {
   "codemirror_mode": {
    "name": "ipython",
    "version": 3
   },
   "file_extension": ".py",
   "mimetype": "text/x-python",
   "name": "python",
   "nbconvert_exporter": "python",
   "pygments_lexer": "ipython3",
   "version": "3.9.2"
  }
 },
 "nbformat": 4,
 "nbformat_minor": 4
}
