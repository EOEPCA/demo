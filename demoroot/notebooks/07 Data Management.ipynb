{
 "cells": [
  {
   "cell_type": "markdown",
   "id": "46c199d6-ce3f-4947-9403-14ddbbc4006d",
   "metadata": {},
   "source": [
    "# EO Exploitation Platform Common Architecture (EOEPCA) Overview\n",
    "\n",
    "EOEPCA provides a <span style=\"color:blue\">**blueprint architecture**</span> and <span style=\"color:blue\">**open-source reference implementation**</span> for an Exploitation Platform.\n",
    "\n",
    "An <span style=\"color:blue\">**exploitation platform**</span> provides an online virtual workspace with access to large volumes of data, and cloud-hosted tooling for <span style=\"color:blue\">**analysis and processing close-to-the-data**</span>.\n",
    "\n",
    "The key features of an exploitation platform include:\n",
    "* Data Search & Discovery\n",
    "* Data Access\n",
    "* User-defined Processing & Analysis\n",
    "\n",
    "The architecture is defined as a set <span style=\"color:blue\">**building blocks**</span> that expose their services through <span style=\"color:blue\">**open standard interfaces**</span> - an approach that is designed to encourage <span style=\"color:blue\">**federation and interroperation**</span> amongst platforms.\n",
    "\n",
    "The <span style=\"color:darkorange\">**Resource Catalogue**</span> and <span style=\"color:darkorange\">**Data Access**</span> building blocks provide core resource management capabilities, and the <span style=\"color:darkorange\">**ADES**</span> provides hosted user-defined processing capabilities...\n",
    "\n",
    "<img src=\"../images/reference-impl.png\" alt=\"Reference Implementation\" style=\"display:block;margin-left:auto;margin-right:auto;width:70%;\"/>"
   ]
  },
  {
   "cell_type": "markdown",
   "id": "68a09088-1656-4949-9f84-376a674dabcf",
   "metadata": {},
   "source": [
    "# Demonstration of Resource Catalogue & Data Access services\n",
    "\n",
    "We demonstrate the **Resource Catalogue** and **Data Access** building blocks - which allow to ingest, search, discover, visualise and access data.<br>\n",
    "Primarily these are <span style=\"color:blue\">**back-end services**</span> that provide <span style=\"color:blue\">**standards-based API interfaces**</span> upon which platforms can be developed. Nevertheless they do provide their own user interfaces.\n",
    "\n",
    "<span style=\"color:steelblue\">**Use of open standard API interfaces allows seamless use of commonly-used clients, such as QGIS and typical python libraries (owslib, pystac_client, ...)**</span>\n",
    "\n",
    "## Demo Starting Point\n",
    "\n",
    "* <span style=\"color:red\">**Kubernetes**</span> cluster<br>\n",
    "  Running in minikube, on a VM hosted in CREODIAS<br>\n",
    "  Provides <span style=\"color:blue\">**scalability and resilience to failure**</span>\n",
    "* <span style=\"color:red\">**Services**</span> running:\n",
    "  * Resource Catalogue (OGC CSW, OpenSearch, STAC, API Records)\n",
    "  * Data Access (OGC WMS, WCS, OpenSearch)\n",
    "  * Minio (S3 object storage)\n",
    "* Four <span style=\"color:red\">**collections**</span> in catalogue:\n",
    "  * S2MSI1C (Sentinel-2 MultiSpectral Instrument Level 1C)\n",
    "  * S2MSI2A (Sentinel-2 MultiSpectral Instrument Level 2A)\n",
    "  * L8MSI1TP (Landsat-8 Level 1TP)\n",
    "  * L8MSI1GT (Landsat-8 Level 1GT)\n",
    "* <span style=\"color:red\">**Data harvested**</span> from CREODIAS over Central Europe\n",
    "  * Sentinel-2 for 30 Aug 2022\n",
    "  * Landsat-8 for August 2022"
   ]
  },
  {
   "cell_type": "code",
   "execution_count": null,
   "id": "c07e779b-609f-4445-949c-b1589d48cd85",
   "metadata": {},
   "outputs": [],
   "source": [
    "base_domain = \"demo.guide.eoepca.org\"\n",
    "from IPython.display import display, Markdown, Javascript\n",
    "import warnings\n",
    "warnings.simplefilter(\"ignore\")"
   ]
  },
  {
   "cell_type": "code",
   "execution_count": null,
   "id": "2a43f765-3ac9-4cbd-8821-ecb9f32addb4",
   "metadata": {},
   "outputs": [],
   "source": [
    "%%html\n",
    "<style>table {float:left}</style>"
   ]
  },
  {
   "cell_type": "markdown",
   "id": "66e3c7cd-809a-48c3-87db-77203b77cbc1",
   "metadata": {},
   "source": [
    "## Resource Catalogue Web Client\n",
    "\n",
    "The Resource Catalogue provides a standards-compliant metadata catalogue for search and discovery.<br>\n",
    "It is based on [pycsw](https://pycsw.org/) with a [PostGIS](https://postgis.net/) database.\n",
    "\n",
    "<img src=\"../images/resource-catalogue.png\" alt=\"Resource Catalogue\" style=\"display:block;margin-left:auto;margin-right:auto;width:30%;\"/>"
   ]
  },
  {
   "cell_type": "markdown",
   "id": "a257a26d-9f19-4683-9f37-f2c2ade462b2",
   "metadata": {},
   "source": [
    "### Catalogue Web UI\n",
    "\n",
    "The primary utility of the catalogue are its service interfaces for data discovery and access to metadata. Nevertheless it does provide a simple web interface to browse the metadata holding.\n",
    "\n",
    "#### Open the Web UI"
   ]
  },
  {
   "cell_type": "code",
   "execution_count": null,
   "id": "caf9611b-5145-465e-99e1-b9c835d34330",
   "metadata": {},
   "outputs": [],
   "source": [
    "catalogue_root = f\"https://resource-catalogue-open.{base_domain}\"\n",
    "print(f\"Catalogue URL: {catalogue_root}\")\n",
    "display(Javascript(f\"window.open('{catalogue_root}')\"))\n",
    "display(Markdown(f'''\n",
    "### Inspect pre-loaded data\n",
    "Observe the existing data for 30th August 2022 in the collections for Sentinel-2 and Landsat-8...\n",
    "* **Full `S2MSI2A` collection metadata**: {catalogue_root}/collections/S2MSI2A/items?f=json\n",
    "* **Specific product metadata**: {catalogue_root}/collections/S2MSI2A/items/S2A_MSIL2A_20220830T094601_N0400_R079_T33UXQ_20220830T142602.SAFE?f=json\n",
    "'''))\n",
    "display(Markdown(f'''\n",
    "### Inspect the landing pages for the various service interfaces\n",
    "\n",
    "| Page | Path |\n",
    "| ------- | ---- |\n",
    "| **Conformance** | [`/conformance`]({catalogue_root}/conformance?f=json) |\n",
    "| **CSW 3.0.0 Capabilties** | [`/csw`]({catalogue_root}/csw) |\n",
    "| **CSW 2.0.2 Capabilties** | [`/csw?service=CSW&version=2.0.2&request=GetCapabilities`]({catalogue_root}/csw?service=CSW&version=2.0.2&request=GetCapabilities) |\n",
    "| **OpenSearch Description Document** | [`/opensearch`]({catalogue_root}/opensearch) |\n",
    "| **OGC API Records** | [`/`]({catalogue_root}/?f=json) |\n",
    "| **STAC API** | [`/search`]({catalogue_root}/search) |\n",
    "'''))"
   ]
  },
  {
   "cell_type": "markdown",
   "id": "b5b6ae3f-b387-4548-bff4-555cdf190f8a",
   "metadata": {},
   "source": [
    "## Data Access View Server Web Client\n",
    "\n",
    "The Data Access service includes services for data discovery (OpenSearch), visualisation (WMS/WMTS) and access/download (WCS).\n",
    "\n",
    "<img src=\"../images/data-access.png\" alt=\"Data Access\" style=\"display:block;margin-left:auto;margin-right:auto;width:40%;\"/>"
   ]
  },
  {
   "cell_type": "markdown",
   "id": "d548b06c-e698-4d20-b0a9-4b8f2c7d82c7",
   "metadata": {},
   "source": [
    "### View Server Web Client\n",
    "\n",
    "The View Server provides a web UI for discovery, visualisation and download of data."
   ]
  },
  {
   "cell_type": "code",
   "execution_count": null,
   "id": "544864b8-da05-4e03-86d7-cc3559111ea4",
   "metadata": {},
   "outputs": [],
   "source": [
    "data_root = f\"https://data-access-open.{base_domain}\"\n",
    "print(f\"View Server URL: {data_root}\")\n",
    "display(Javascript(f\"window.open('{data_root}/?x=16.949954&y=47.908475&start=2022-08-01T00%3A00%3A00Z&end=2022-09-01T00%3A00%3A00Z&z=8&S2L1C_search=false&S2L1C_visible=false&S2L2A_search=false&S2L2A_visible=false')\"))"
   ]
  },
  {
   "cell_type": "markdown",
   "id": "2a4d8cfe-3a52-468a-b814-1c8f1eb18daa",
   "metadata": {},
   "source": [
    "#### **Summary of UI Capabilities**\n",
    "\n",
    "* <span style=\"color:blue\">**Map View:**</span> Pan and Zoom to area of interest\n",
    "* <span style=\"color:blue\">**Timeslider:**</span> Summarises temporal data distribution and provides temporal navigation and selection\n",
    "  * Select data item to zoom map\n",
    "* <span style=\"color:blue\">**Search Results:**</span> Within current area and time of interest\n",
    "  * Inspect product details by hitting (i)\n",
    "  * Select to add to basket\n",
    "* <span style=\"color:blue\">**Basket:**</span> Download data\n",
    "* <span style=\"color:blue\">**Filters:**</span> Refine the search\n",
    "  * Time and spatial filters are already applied via the map and timeslider\n",
    "  * Draw to refine spatial filters\n",
    "* <span style=\"color:blue\">**Layers:**</span> Products, Base-layers and Overlays\n",
    "\n",
    "#### **Configurable Layers**\n",
    "\n",
    "Layers are configured for each Product Type in the service configuration - mapping the bands into the visible colours, with support for expressions...\n",
    "```\n",
    "      browses:\n",
    "        TRUE_COLOR:\n",
    "          asset: visual\n",
    "          red:\n",
    "            expression: B04\n",
    "            range: [0, 4000]\n",
    "            nodata: 0\n",
    "          green:\n",
    "            expression: B03\n",
    "            range: [0, 4000]\n",
    "            nodata: 0\n",
    "          blue:\n",
    "            expression: B02\n",
    "            range: [0, 4000]\n",
    "            nodata: 0\n",
    "        FALSE_COLOR:\n",
    "          red:\n",
    "            expression: B08\n",
    "            range: [0, 4000]\n",
    "            nodata: 0\n",
    "          green:\n",
    "            expression: B04\n",
    "            range: [0, 4000]\n",
    "            nodata: 0\n",
    "          blue:\n",
    "            expression: B03\n",
    "            range: [0, 4000]\n",
    "            nodata: 0\n",
    "        NDVI:\n",
    "          grey:\n",
    "            expression: (B08-B04)/(B08+B04)\n",
    "            range: [-1, 1]\n",
    "```\n",
    "\n",
    "#### **Kubernetes - Scalability and Resilience**\n",
    "\n",
    "Kubernetes provides scalability and resilience:\n",
    "* Multiple nodes for horizontal and vertical system scaling\n",
    "* Replicas for scaling of stateless services\n",
    "* Automatic restart of failed processes - with probes for preemptive health monitoring\n",
    "\n",
    "**_Illustratration of multiple stateless replicas of the 'renderer' service..._**"
   ]
  },
  {
   "cell_type": "code",
   "execution_count": null,
   "id": "bdfe6e7f-2c2e-47f6-a646-3c09cf0f1ef8",
   "metadata": {
    "tags": []
   },
   "outputs": [],
   "source": [
    "!kubectl -n rm get pod"
   ]
  },
  {
   "cell_type": "markdown",
   "id": "4abad581-fa71-47e3-9a55-4406cf1cd434",
   "metadata": {},
   "source": [
    "## Data Access Cache\n",
    "\n",
    "The data access service maintains a cache in S3 object storage. Data can be pre-seeded into the cache during harvesting."
   ]
  },
  {
   "cell_type": "code",
   "execution_count": null,
   "id": "bfe71ca9-b8e3-42e2-8655-4e8d7d167cf6",
   "metadata": {},
   "outputs": [],
   "source": [
    "minio_root = f\"http://minio-console.{base_domain}\"\n",
    "print(f\"Minio object storage URL: {minio_root}\")\n",
    "display(Javascript(f\"window.open('{minio_root}')\"))"
   ]
  },
  {
   "cell_type": "markdown",
   "id": "01dedbcf-5acf-412d-be84-0c374199bfdd",
   "metadata": {},
   "source": [
    "## Harvest Data Over UK\n",
    "\n",
    "Our starting point has harvested data in central europe.\n",
    "\n",
    "To illustrate harvesting we can harvest some Landsat-8 data - over the UK for August 2022.\n",
    "\n",
    "The harvester is tasked with a file that describes the job, in particular:\n",
    "* URL and type (e.g. OpenSearch) of the source\n",
    "* Selection filter - typically spatial and temporal\n",
    "\n",
    "### Harvester configuration\n",
    "\n",
    "This illustrates harvesting from an **OpenSearch** endpoint.\n",
    "\n",
    "Other types supported include **STAC API** and **Static STAC catalogue (STAC files)**."
   ]
  },
  {
   "cell_type": "code",
   "execution_count": null,
   "id": "bdfd05ca-b53e-4cc2-8754-b111b3d5bb08",
   "metadata": {
    "tags": []
   },
   "outputs": [],
   "source": [
    "!cat ${HOME}/deployment-guide/deploy/samples/harvester/config-Landsat8-2022.08_UK.yaml"
   ]
  },
  {
   "cell_type": "markdown",
   "id": "2784b5ec-598a-4e52-9a56-eff1290f433b",
   "metadata": {},
   "source": [
    "### Invoke the Harvester with the configuration"
   ]
  },
  {
   "cell_type": "code",
   "execution_count": null,
   "id": "f41d26d8-984f-431e-abfc-7d4a748642c5",
   "metadata": {},
   "outputs": [],
   "source": [
    "!${HOME}/deployment-guide/deploy/bin/harvest ${HOME}/deployment-guide/deploy/samples/harvester/config-Landsat8-2022.08_UK.yaml"
   ]
  },
  {
   "cell_type": "markdown",
   "id": "5fed36c1-3983-4c37-be9e-2bb1083706d3",
   "metadata": {},
   "source": [
    "### Check New Data in Services\n",
    "\n",
    "#### Resource Catalogue"
   ]
  },
  {
   "cell_type": "code",
   "execution_count": null,
   "id": "c9ef5d30-a028-4658-9ccb-6d6cc79f785d",
   "metadata": {},
   "outputs": [],
   "source": [
    "display(Javascript(f\"window.open('{catalogue_root}/collections/L8MSI1TP/items')\"))"
   ]
  },
  {
   "cell_type": "markdown",
   "id": "fdd824e5-2cb9-412e-943d-4ad0ac4993b2",
   "metadata": {},
   "source": [
    "#### Data Access View Server"
   ]
  },
  {
   "cell_type": "code",
   "execution_count": null,
   "id": "d0c6f808-a2f0-45c4-9ce0-8680f56b23c7",
   "metadata": {},
   "outputs": [],
   "source": [
    "display(Javascript(f\"window.open('{data_root}/?x=0.22&y=51.66&z=7&start=2022-08-01T00%3A00%3A00Z&end=2022-09-01T00%3A00%3A00Z&z=6&S2L1C_search=false&S2L1C_visible=false&S2L2A_search=false&S2L2A_visible=false')\"))"
   ]
  },
  {
   "cell_type": "markdown",
   "id": "e4a46626-31b7-4149-a294-e97b62b1b7c1",
   "metadata": {},
   "source": [
    "# Client Visualisation\n",
    "\n",
    "The Data Access provides standard OGC WMS interfaces that can be exploited by any client supporting this standard.\n",
    "\n",
    "Here we present two such examples...\n",
    "* [**Leaflet**](https://leafletjs.com/) javascript client in the Jupyter notebook\n",
    "* [**QGIS**](https://www.qgis.org/) application for GIS"
   ]
  },
  {
   "cell_type": "markdown",
   "id": "a9641d5e-039a-4208-af7b-14d2f30bd85f",
   "metadata": {},
   "source": [
    "## Leaflet WMS Client\n",
    "\n",
    "Here we initialise Leaflet with the **Landsat-8 `L8L1TP__TRUE_COLOR` layer**."
   ]
  },
  {
   "cell_type": "code",
   "execution_count": null,
   "id": "c62d3b91-70e8-441b-89bd-1fc90d797974",
   "metadata": {},
   "outputs": [],
   "source": [
    "from owslib.wms import WebMapService\n",
    "wms_endpoint = f\"{data_root}/ows\"\n",
    "wms = WebMapService(wms_endpoint, version='1.3.0')\n",
    "layer_id = \"L8L1TP__TRUE_COLOR\"\n",
    "layer_bbox = wms[layer_id].boundingBoxWGS84\n",
    "centreLong = layer_bbox[0] + (layer_bbox[2]-layer_bbox[0])/2\n",
    "centreLat = layer_bbox[1] + (layer_bbox[3]-layer_bbox[1])/2\n",
    "centre = [centreLat, centreLong]  # lat, long\n",
    "\n",
    "print(f\"Layer...\\n  ID: {layer_id}\\n  bbox: {layer_bbox}\\n  centre (long/lat): [{centreLong} / {centreLat}]\\n  WMS: {wms_endpoint}\")\n",
    "print(\"Layers...\")\n",
    "list(wms.contents)"
   ]
  },
  {
   "cell_type": "code",
   "execution_count": null,
   "id": "0f1a47e9-7f23-42bb-8f54-83d12fb23349",
   "metadata": {},
   "outputs": [],
   "source": [
    "from ipyleaflet import Map, WMSLayer, basemaps\n",
    "from ipywidgets import Layout\n",
    "\n",
    "wms = WMSLayer(\n",
    "    url=wms_endpoint,\n",
    "    layers='L8L1TP__TRUE_COLOR',\n",
    "    format='image/png',\n",
    "    transparent=True\n",
    ")\n",
    "\n",
    "m = Map(basemap=basemaps.OpenStreetMap.Mapnik, center=(centreLat, centreLong), zoom=6, layout=Layout(width='90%', height='800px'))\n",
    "m.add_layer(wms)\n",
    "m"
   ]
  },
  {
   "cell_type": "markdown",
   "id": "b63e1bd4-ad89-48cc-9b6c-e9e38aa589ce",
   "metadata": {},
   "source": [
    "## Demonstration with QGIS\n",
    "### Discover Data with MetaDearch Plugin"
   ]
  },
  {
   "cell_type": "code",
   "execution_count": null,
   "id": "8426a814-381b-49f8-8aaf-8d1412d5c028",
   "metadata": {},
   "outputs": [],
   "source": [
    "display(Markdown(f'''\n",
    "Using the MetaSearch tool in QGIS we can connect to the Catalogue CSW endpoint - {catalogue_root}/csw\n",
    "* Add service {catalogue_root}/csw\n",
    "* Get Service Info (GetCapabilities)\n",
    "* Search for records\n",
    "* Select record to obtain detailed metadata\n",
    "* `Add Data` to add as a WMS layer to the map\n",
    "'''))"
   ]
  },
  {
   "cell_type": "markdown",
   "id": "69713231-af94-43c4-8cc0-d8398aefb5c3",
   "metadata": {},
   "source": [
    "### Visualise Layer via WMS"
   ]
  },
  {
   "cell_type": "code",
   "execution_count": null,
   "id": "22beef90-33d6-4dfe-b525-4a8069b54c00",
   "metadata": {},
   "outputs": [],
   "source": [
    "display(Markdown(f'''\n",
    "Add `WMS/WMTS` service with the URL - {data_root}/ows?service=WMS&version=1.3.0&request=GetCapabilities<br>\n",
    "Select a layer to add to map - e.g. `L8L1TP__TRUE_COLOUR`\n",
    "'''))"
   ]
  },
  {
   "cell_type": "markdown",
   "id": "dd9484a3-10de-4c38-aadf-a1603b0c0438",
   "metadata": {},
   "source": [
    "## Demonstration of Service Endpoints"
   ]
  },
  {
   "cell_type": "markdown",
   "id": "1c1de417-fc1a-4c55-b2eb-1f4807d951b8",
   "metadata": {},
   "source": [
    "Demonstration of Resource Catalogue and Data Access interfaces...\n",
    "* Resource Catalogue: OGC CSW, OpenSearch, STAC, API Records\n",
    "* Data Access: WMS, WCS\n",
    "\n",
    "Uses, amongst others, [OWSLib](https://geopython.github.io/OWSLib) - a Python package for client programming with Open Geospatial Consortium (OGC) web service interface standards, and their related content models."
   ]
  },
  {
   "cell_type": "markdown",
   "id": "3f60f541-2e28-4d31-9499-eed80945efb4",
   "metadata": {},
   "source": [
    "### Discovery - CSW\n",
    "Data discovery using OGC CSW."
   ]
  },
  {
   "cell_type": "code",
   "execution_count": null,
   "id": "86e3d8e3-0620-4964-9b5b-37df702c1d25",
   "metadata": {},
   "outputs": [],
   "source": [
    "csw_endpoint = f'{catalogue_root}/csw'\n",
    "from owslib.csw import CatalogueServiceWeb\n",
    "csw = CatalogueServiceWeb(csw_endpoint, timeout=30)\n",
    "print(f\"Service: {csw.identification.type} version {csw.version}\")\n",
    "print(f\"Operations: {[op.name for op in csw.operations]}\")"
   ]
  },
  {
   "cell_type": "markdown",
   "id": "4aa1bfc5-1963-4197-82d9-4a8e7d76cb3a",
   "metadata": {},
   "source": [
    "#### Constraints"
   ]
  },
  {
   "cell_type": "code",
   "execution_count": null,
   "id": "2f1630b6-7f60-4591-8caa-0e951b24cdff",
   "metadata": {},
   "outputs": [],
   "source": [
    "for constraint in csw.get_operation_by_name('GetRecords').constraints:\n",
    "    print(f\"{constraint.name}...\\n{constraint.values}\\n\")"
   ]
  },
  {
   "cell_type": "markdown",
   "id": "ba6a8605-96da-4538-b347-7a019237ecc3",
   "metadata": {},
   "source": [
    "#### Discovery - Filter"
   ]
  },
  {
   "cell_type": "markdown",
   "id": "0b1f471e-c3ba-435f-8854-5d77310f3935",
   "metadata": {},
   "source": [
    "Spatial query with bounding box..."
   ]
  },
  {
   "cell_type": "code",
   "execution_count": null,
   "id": "dddaa775-3362-4295-a826-07caa1b0af82",
   "metadata": {},
   "outputs": [],
   "source": [
    "from owslib.fes import BBox\n",
    "bbox_query = BBox([46, 15, 50, 18])\n",
    "csw.getrecords2(constraints=[bbox_query], outputschema='http://www.isotc211.org/2005/gmd')\n",
    "csw.results"
   ]
  },
  {
   "cell_type": "markdown",
   "id": "6977b928-61d6-4cb1-ae7e-0450b861e94c",
   "metadata": {},
   "source": [
    "Or more complex with spatial (`bbox`), temporal (`time`), and attribute (`apiso:CloudCover`) filters combined with logical operators like and/or etc..."
   ]
  },
  {
   "cell_type": "code",
   "execution_count": null,
   "id": "39edd67e-bae7-48a1-bceb-e94f271dba48",
   "metadata": {},
   "outputs": [],
   "source": [
    "from owslib.fes import And, Or, PropertyIsEqualTo, PropertyIsGreaterThanOrEqualTo, PropertyIsLessThanOrEqualTo, PropertyIsLike, SortBy, SortProperty\n",
    "filter_list = [\n",
    "    And(\n",
    "        [\n",
    "            bbox_query,\n",
    "            PropertyIsGreaterThanOrEqualTo(propertyname='apiso:TempExtent_begin', literal='2022-08-01 00:00'),\n",
    "            PropertyIsLessThanOrEqualTo(propertyname='apiso:TempExtent_end', literal='2022-09-01 00:00'),\n",
    "            PropertyIsLessThanOrEqualTo(propertyname='apiso:CloudCover', literal='20')\n",
    "        ]\n",
    "    )\n",
    "]\n",
    "csw.getrecords2(constraints=filter_list, outputschema='http://www.isotc211.org/2005/gmd')\n",
    "csw.results"
   ]
  },
  {
   "cell_type": "code",
   "execution_count": null,
   "id": "8d586927-1dc8-43c4-8ec2-ebb6d4da4a4b",
   "metadata": {},
   "outputs": [],
   "source": [
    "for rec in csw.records:\n",
    "    print(f'identifier: {csw.records[rec].identifier}\\ntype: {csw.records[rec].identification.identtype}\\ntitle: {csw.records[rec].identification.title}\\n')"
   ]
  },
  {
   "cell_type": "markdown",
   "id": "2ea09d81-8360-4f08-8e49-21f8f95ab933",
   "metadata": {},
   "source": [
    "#### Discovery - By collection\n",
    "Another option is to perform a collection level search, using the apiso:parentIdentifier queryable. Here only the Sentinel2 L1C datasets will be discovered."
   ]
  },
  {
   "cell_type": "code",
   "execution_count": null,
   "id": "394334a5-3ee7-4734-8a09-0f5e1de8b6d0",
   "metadata": {},
   "outputs": [],
   "source": [
    "collection_query = PropertyIsEqualTo('apiso:ParentIdentifier', 'S2MSI1C')\n",
    "csw.getrecords2(constraints=[collection_query], outputschema='http://www.isotc211.org/2005/gmd')\n",
    "csw.results"
   ]
  },
  {
   "cell_type": "markdown",
   "id": "c84fd553-b6fc-44b1-8c48-54965e70b262",
   "metadata": {},
   "source": [
    "#### Discovery - Free Text"
   ]
  },
  {
   "cell_type": "code",
   "execution_count": null,
   "id": "6a6e42ee-09a5-4e88-9391-1e18d9880ebc",
   "metadata": {},
   "outputs": [],
   "source": [
    "anytext_query = PropertyIsEqualTo('csw:AnyText', 'Orthoimagery')\n",
    "filter_list = [\n",
    "    And(\n",
    "        [\n",
    "            bbox_query,  # bounding box\n",
    "            anytext_query # any text\n",
    "        ]\n",
    "    )\n",
    "]\n",
    "csw.getrecords2(constraints=filter_list, outputschema='http://www.isotc211.org/2005/gmd')\n",
    "csw.results"
   ]
  },
  {
   "cell_type": "markdown",
   "id": "1cfa1b95-cdfe-496a-8a57-61af5e0ea7eb",
   "metadata": {},
   "source": [
    "#### Discovery - Record Details"
   ]
  },
  {
   "cell_type": "code",
   "execution_count": null,
   "id": "4f6d4074-41fa-4ec7-9d82-b98afa367866",
   "metadata": {},
   "outputs": [],
   "source": [
    "record_id = str(list(csw.records)[0])\n",
    "csw.getrecordbyid(id=[record_id])\n",
    "detailed_record = csw.records[record_id]\n",
    "\n",
    "print(f\"Title: {detailed_record.title}\")\n",
    "print(\"References...\")\n",
    "for ref in detailed_record.references:\n",
    "    print(ref)"
   ]
  },
  {
   "cell_type": "markdown",
   "id": "a614717d-da8c-45f7-83e6-c6608d0edd0b",
   "metadata": {},
   "source": [
    "Bounding box..."
   ]
  },
  {
   "cell_type": "code",
   "execution_count": null,
   "id": "86d4d386-ab28-4cb7-8901-8de3d1a0a614",
   "metadata": {},
   "outputs": [],
   "source": [
    "print(\"Bounding box: (%s, %s, %s, %s)\" % (detailed_record.bbox.miny, detailed_record.bbox.minx, detailed_record.bbox.maxy, detailed_record.bbox.maxx))"
   ]
  },
  {
   "cell_type": "markdown",
   "id": "e6f900d1-d701-4fea-bcbe-7ad2cb38260f",
   "metadata": {},
   "source": [
    "Visualise spatial extent on map..."
   ]
  },
  {
   "cell_type": "code",
   "execution_count": null,
   "id": "955a9887-6896-48b2-82f9-27c493264ae8",
   "metadata": {},
   "outputs": [],
   "source": [
    "import folium\n",
    "m = folium.Map(location=[detailed_record.bbox.miny, detailed_record.bbox.minx], zoom_start=8, tiles='OpenStreetMap')\n",
    "folium.Rectangle(bounds=[[float(detailed_record.bbox.miny), float(detailed_record.bbox.minx)], [float(detailed_record.bbox.maxy), float(detailed_record.bbox.maxx)]]).add_to(m)\n",
    "m"
   ]
  },
  {
   "cell_type": "markdown",
   "id": "97c06e67-37c4-496e-bcd0-51bd45ced485",
   "metadata": {},
   "source": [
    "### OpenSearch Interface"
   ]
  },
  {
   "cell_type": "code",
   "execution_count": null,
   "id": "84177f56-29bc-4cfc-aef7-72870a2c8e2d",
   "metadata": {},
   "outputs": [],
   "source": [
    "opensearch_endpoint = f'{catalogue_root}/csw?service=CSW&version=3.0.0&mode=opensearch&request=GetCapabilities'"
   ]
  },
  {
   "cell_type": "markdown",
   "id": "217be701-6975-42e6-87fe-1b5d99c435c5",
   "metadata": {},
   "source": [
    "#### OpenSearch - discovery template (using a simple http GET request)..."
   ]
  },
  {
   "cell_type": "code",
   "execution_count": null,
   "id": "acb080ad-6ad6-445d-8f69-e06040ca40af",
   "metadata": {},
   "outputs": [],
   "source": [
    "import requests\n",
    "from bs4 import BeautifulSoup\n",
    "S = requests.Session()\n",
    "R = S.get(url=opensearch_endpoint)\n",
    "bs = BeautifulSoup(R.text, 'xml')\n",
    "print(bs.prettify())"
   ]
  },
  {
   "cell_type": "markdown",
   "id": "2f193694-8d1d-425f-b417-61a7ac488571",
   "metadata": {},
   "source": [
    "#### OpenSearch - get individual record"
   ]
  },
  {
   "cell_type": "code",
   "execution_count": null,
   "id": "d3115fde-e9d6-4760-99a0-47b53d849b1f",
   "metadata": {},
   "outputs": [],
   "source": [
    "url = f'{opensearch_endpoint}&request=GetRecords&elementsetname=full&resulttype=results&typenames=csw:Record&recordids={record_id}'\n",
    "R = S.get(url=url)\n",
    "bs = BeautifulSoup(R.text, 'xml')\n",
    "print(bs.prettify())"
   ]
  },
  {
   "cell_type": "markdown",
   "id": "cfbf07e8-e6b9-4130-8a39-054963ec34fb",
   "metadata": {},
   "source": [
    "### STAC API\n",
    "Using `pystac_client` python client."
   ]
  },
  {
   "cell_type": "code",
   "execution_count": null,
   "id": "efa1e9da-8450-444b-84cd-531f99b94e88",
   "metadata": {},
   "outputs": [],
   "source": [
    "from pystac_client import Client\n",
    "stac = Client.open(catalogue_root)\n",
    "print(f\"URL: {catalogue_root}\")\n",
    "print(f\"STAC service...\\n  ID: {stac.id}\\n  Title: {stac.title}\\n  Description: {stac.description}\")"
   ]
  },
  {
   "cell_type": "markdown",
   "id": "22fb1761-e461-4d1e-8320-3fa4dc68aae0",
   "metadata": {},
   "source": [
    "#### Search using bounding box..."
   ]
  },
  {
   "cell_type": "code",
   "execution_count": null,
   "id": "5e6725e8-ad39-497f-ac96-766a1600b0be",
   "metadata": {},
   "outputs": [],
   "source": [
    "mysearch = stac.search(collections=['metadata:main'], bbox=[15,46,18,50], max_items=50)\n",
    "print(f\"{mysearch.matched()} items found\")"
   ]
  },
  {
   "cell_type": "markdown",
   "id": "f5ab103a-1a72-4b50-9757-ac3eaf3bd5ab",
   "metadata": {},
   "source": [
    "#### List record IDs of results..."
   ]
  },
  {
   "cell_type": "code",
   "execution_count": null,
   "id": "6bdf2554-743e-4391-b5e3-8aa0c02ebbc1",
   "metadata": {},
   "outputs": [],
   "source": [
    "items = mysearch.get_items()\n",
    "for item in items:\n",
    "    print(item.id)"
   ]
  },
  {
   "cell_type": "markdown",
   "id": "2bbb3564-2dc3-4aa4-b78c-a502f875149c",
   "metadata": {},
   "source": [
    "### OGC API Records\n",
    "Using `owslib` client for OGC API Records."
   ]
  },
  {
   "cell_type": "code",
   "execution_count": null,
   "id": "20ca8dcf-658e-4193-9663-b7149f6e659e",
   "metadata": {},
   "outputs": [],
   "source": [
    "from owslib.ogcapi.records import Records\n",
    "ogc_records = Records(catalogue_root)\n",
    "print(f\"URL: {ogc_records.url}\")\n",
    "ogc_records.conformance()"
   ]
  },
  {
   "cell_type": "markdown",
   "id": "bcf9309e-b9e2-43e3-b1bb-82a733c6c0f2",
   "metadata": {},
   "source": [
    "#### List Collections"
   ]
  },
  {
   "cell_type": "code",
   "execution_count": null,
   "id": "a7715368-17b0-430f-8d1d-82e353cbf894",
   "metadata": {},
   "outputs": [],
   "source": [
    "collections = ogc_records.collections()[\"collections\"]\n",
    "print(f\"Number of collections: {len(collections)}\")\n",
    "import pprint\n",
    "pp = pprint.PrettyPrinter()\n",
    "pp.pprint(collections)"
   ]
  },
  {
   "cell_type": "markdown",
   "id": "4407dcdf-3271-4ecf-8d22-461426cc567c",
   "metadata": {},
   "source": [
    "#### Work with selected collection"
   ]
  },
  {
   "cell_type": "code",
   "execution_count": null,
   "id": "c08bf237-b5c9-495e-8a61-3d869e08aade",
   "metadata": {},
   "outputs": [],
   "source": [
    "collection_name = \"S2MSI2A\"\n",
    "my_query = ogc_records.collection_items(collection_name)\n",
    "print(f\"Number of records in collection {collection_name} = {my_query['numberMatched']}\\n\")\n",
    "print(\"Summary of first record...\")\n",
    "my_query['features'][0]['properties']"
   ]
  },
  {
   "cell_type": "markdown",
   "id": "9027c7dc-cc58-4323-81bc-f93674ed61f0",
   "metadata": {},
   "source": [
    "#### Query with Bounding Box"
   ]
  },
  {
   "cell_type": "code",
   "execution_count": null,
   "id": "49c84f64-7206-4020-8a14-7170538d3666",
   "metadata": {},
   "outputs": [],
   "source": [
    "my_query = ogc_records.collection_items(collection_name, bbox=[15.34, 46.86, 15.44, 46.96])\n",
    "print(f\"Number of results = {my_query['numberMatched']}\\n\")\n",
    "print(\"Summary of first record...\")\n",
    "my_query['features'][0]['properties']"
   ]
  },
  {
   "cell_type": "markdown",
   "id": "14afd214-6f58-4bab-aa38-b0eb553dbd19",
   "metadata": {},
   "source": [
    "#### Query using CQL"
   ]
  },
  {
   "cell_type": "code",
   "execution_count": null,
   "id": "660b6b5c-a862-42c0-b56b-d48b4f5c6e4e",
   "metadata": {},
   "outputs": [],
   "source": [
    "my_query = ogc_records.collection_items(collection_name, filter=\"title LIKE 'S2A_MSIL2A_%TXN%'\")\n",
    "# my_query = ogc_records.collection_items(collection_name)\n",
    "print(f\"Number of results = {my_query['numberMatched']}\\n\")\n",
    "print(\"Summary of first record...\")\n",
    "my_query['features'][0]['properties']"
   ]
  }
 ],
 "metadata": {
  "kernelspec": {
   "display_name": "Python 3",
   "language": "python",
   "name": "python3"
  },
  "language_info": {
   "codemirror_mode": {
    "name": "ipython",
    "version": 3
   },
   "file_extension": ".py",
   "mimetype": "text/x-python",
   "name": "python",
   "nbconvert_exporter": "python",
   "pygments_lexer": "ipython3",
   "version": "3.9.2"
  },
  "vscode": {
   "interpreter": {
    "hash": "e7370f93d1d0cde622a1f8e1c04877d8463912d04d973331ad4851f04de6915a"
   }
  }
 },
 "nbformat": 4,
 "nbformat_minor": 5
}
