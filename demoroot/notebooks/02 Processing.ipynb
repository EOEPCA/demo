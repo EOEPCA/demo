{
 "cells": [
  {
   "cell_type": "markdown",
   "id": "international-survivor",
   "metadata": {},
   "source": [
    "# Processing\n",
    "Demonstration of Processing endpoints."
   ]
  },
  {
   "cell_type": "code",
   "execution_count": null,
   "id": "floppy-facing",
   "metadata": {},
   "outputs": [],
   "source": [
    "import utils.DemoClient as client\n",
    "import jwt\n",
    "import json"
   ]
  },
  {
   "cell_type": "markdown",
   "id": "marine-conservation",
   "metadata": {},
   "source": [
    "## Initialise"
   ]
  },
  {
   "cell_type": "markdown",
   "id": "grand-smell",
   "metadata": {},
   "source": [
    "### Client\n",
    "We instantiate a client to interact with the platform. The client dynamically registers with the Authorisation Server to take part in UMA (User Managed Access) flows through which authorization is obtained for scoped access resources on behalf of the user."
   ]
  },
  {
   "cell_type": "code",
   "execution_count": null,
   "id": "processed-chinese",
   "metadata": {},
   "outputs": [],
   "source": [
    "#-------------------------------------------------------------------------------\n",
    "# Initialise client\n",
    "#-------------------------------------------------------------------------------\n",
    "base_domain = \"185.52.193.87.nip.io\"\n",
    "platform_domain = \"test.\" + base_domain\n",
    "base_url = \"https://\" + platform_domain\n",
    "demo = client.DemoClient(base_url)\n",
    "demo.register_client()\n",
    "demo.save_state()"
   ]
  },
  {
   "cell_type": "markdown",
   "id": "multiple-shower",
   "metadata": {},
   "source": [
    "### User\n",
    "User authenticates and the client receives an ID Token (JWT) that represents the user."
   ]
  },
  {
   "cell_type": "code",
   "execution_count": null,
   "id": "executive-notification",
   "metadata": {
    "tags": []
   },
   "outputs": [],
   "source": [
    "#-------------------------------------------------------------------------------\n",
    "# Authenticate as UserA and get ID Token\n",
    "#-------------------------------------------------------------------------------\n",
    "USER_NAME=\"demoA\"\n",
    "USER_PASSWORD=\"defaultPWD\"\n",
    "user_id_token = demo.get_id_token(USER_NAME, USER_PASSWORD)"
   ]
  },
  {
   "cell_type": "markdown",
   "id": "greenhouse-posting",
   "metadata": {},
   "source": [
    "## ADES\n",
    "The ADES provides user-specific endpoints, using a URL path prefix."
   ]
  },
  {
   "cell_type": "code",
   "execution_count": null,
   "id": "catholic-article",
   "metadata": {},
   "outputs": [],
   "source": [
    "# ADES URLs\n",
    "ades_base_url = \"http://ades.\" + platform_domain\n",
    "ades_wps_url = ades_base_url + \"/\" + USER_NAME + \"/zoo\"; print(\"ADES WPS endpoint:\", ades_wps_url)\n",
    "ades_proc_url = ades_base_url + \"/\" + USER_NAME + \"/wps3\"; print(\"ADES API Processes endpoint:\", ades_proc_url)"
   ]
  },
  {
   "cell_type": "markdown",
   "id": "interim-permission",
   "metadata": {},
   "source": [
    "### ADES API Processes"
   ]
  },
  {
   "cell_type": "code",
   "execution_count": null,
   "id": "embedded-flexibility",
   "metadata": {},
   "outputs": [],
   "source": [
    "ades_access_token = None\n",
    "app_name = \"s-expression-0_0_2\""
   ]
  },
  {
   "cell_type": "markdown",
   "id": "standing-narrative",
   "metadata": {},
   "source": [
    "#### ADES: List Processes"
   ]
  },
  {
   "cell_type": "code",
   "execution_count": null,
   "id": "extreme-exclusive",
   "metadata": {},
   "outputs": [],
   "source": [
    "# API Processes - List Processes\n",
    "response, ades_access_token, process_ids = demo.proc_list_processes(ades_proc_url, id_token=user_id_token, access_token=ades_access_token)\n",
    "print(\"Processes:\", process_ids)"
   ]
  },
  {
   "cell_type": "markdown",
   "id": "listed-shareware",
   "metadata": {},
   "source": [
    "#### ADES: Deploy Application"
   ]
  },
  {
   "cell_type": "code",
   "execution_count": null,
   "id": "active-nature",
   "metadata": {},
   "outputs": [],
   "source": [
    "# API Processes - Deploy Application\n",
    "response, ades_access_token = demo.proc_deploy_application(ades_proc_url, \"../data/app-deploy-body-atom.json\", id_token=user_id_token, access_token=ades_access_token)"
   ]
  },
  {
   "cell_type": "code",
   "execution_count": null,
   "id": "featured-parade",
   "metadata": {
    "tags": []
   },
   "outputs": [],
   "source": [
    "# Check deploy - list processes again\n",
    "response, ades_access_token, process_ids = demo.proc_list_processes(ades_proc_url, id_token=user_id_token, access_token=ades_access_token)\n",
    "print(\"Processes:\", process_ids)"
   ]
  },
  {
   "cell_type": "markdown",
   "id": "congressional-portland",
   "metadata": {},
   "source": [
    "#### ADES: Get Application Details"
   ]
  },
  {
   "cell_type": "code",
   "execution_count": null,
   "id": "dimensional-homework",
   "metadata": {},
   "outputs": [],
   "source": [
    "# API Processes - Get Application Details\n",
    "response, ades_access_token = demo.proc_get_app_details(ades_proc_url, app_name, id_token=user_id_token, access_token=ades_access_token)\n",
    "print(json.dumps(response.json(), indent = 2))"
   ]
  },
  {
   "cell_type": "markdown",
   "id": "different-wheel",
   "metadata": {},
   "source": [
    "#### ADES: Execute Application"
   ]
  },
  {
   "cell_type": "code",
   "execution_count": null,
   "id": "split-aspect",
   "metadata": {},
   "outputs": [],
   "source": [
    "# API Processes - Execute Application\n",
    "response, ades_access_token, job_location_path = demo.proc_execute_application(ades_proc_url, app_name, \"../data/app-execute-body.json\", id_token=user_id_token, access_token=ades_access_token)"
   ]
  },
  {
   "cell_type": "markdown",
   "id": "false-associate",
   "metadata": {},
   "source": [
    "#### ADES: Job Status"
   ]
  },
  {
   "cell_type": "code",
   "execution_count": null,
   "id": "difficult-argentina",
   "metadata": {},
   "outputs": [],
   "source": [
    "# API Processes - Job Status\n",
    "response, ades_access_token, status = demo.proc_get_job_status(ades_base_url, job_location_path, id_token=user_id_token, access_token=ades_access_token)\n",
    "print(json.dumps(response.json(), indent = 2))"
   ]
  },
  {
   "cell_type": "code",
   "execution_count": null,
   "id": "regional-madness",
   "metadata": {},
   "outputs": [],
   "source": [
    "# API Processes - Job Status (keep polling for completion)\n",
    "response, ades_access_token, status = demo.proc_poll_job_completion(ades_base_url, job_location_path, interval=10, id_token=user_id_token, access_token=ades_access_token)"
   ]
  },
  {
   "cell_type": "code",
   "execution_count": null,
   "id": "victorian-austin",
   "metadata": {},
   "outputs": [],
   "source": [
    "print(response.status_code, response.headers, response.text)"
   ]
  },
  {
   "cell_type": "markdown",
   "id": "painful-specialist",
   "metadata": {},
   "source": [
    "#### ADES: Job Result"
   ]
  },
  {
   "cell_type": "code",
   "execution_count": null,
   "id": "fuzzy-peace",
   "metadata": {},
   "outputs": [],
   "source": [
    "# API Processes - Job Result\n",
    "response, ades_access_token, stacCatalogUri = demo.proc_get_job_result(ades_base_url, job_location_path, id_token=user_id_token, access_token=ades_access_token)\n",
    "print(json.dumps(response.json(), indent = 2))"
   ]
  },
  {
   "cell_type": "markdown",
   "id": "second-rolling",
   "metadata": {},
   "source": [
    "#### ADES: Undeploy Application"
   ]
  },
  {
   "cell_type": "code",
   "execution_count": null,
   "id": "final-madagascar",
   "metadata": {},
   "outputs": [],
   "source": [
    "# API Processes - Undeploy Application\n",
    "response, ades_access_token = demo.proc_undeploy_application(ades_proc_url, app_name, id_token=user_id_token, access_token=ades_access_token)"
   ]
  },
  {
   "cell_type": "code",
   "execution_count": null,
   "id": "collect-instrument",
   "metadata": {
    "tags": []
   },
   "outputs": [],
   "source": [
    "# Check undeploy - list processes\n",
    "response, ades_access_token, process_ids = demo.proc_list_processes(ades_proc_url, id_token=user_id_token, access_token=ades_access_token)\n",
    "print(\"Processes:\", process_ids)"
   ]
  }
 ],
 "metadata": {
  "kernelspec": {
   "display_name": "Python 3",
   "language": "python",
   "name": "python3"
  },
  "language_info": {
   "codemirror_mode": {
    "name": "ipython",
    "version": 3
   },
   "file_extension": ".py",
   "mimetype": "text/x-python",
   "name": "python",
   "nbconvert_exporter": "python",
   "pygments_lexer": "ipython3",
   "version": "3.8.8"
  }
 },
 "nbformat": 4,
 "nbformat_minor": 5
}
