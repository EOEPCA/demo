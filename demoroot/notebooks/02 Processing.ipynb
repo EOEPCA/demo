{
 "cells": [
  {
   "cell_type": "markdown",
   "id": "conceptual-judges",
   "metadata": {},
   "source": [
    "# Processing\n",
    "Demonstration of Processing endpoints."
   ]
  },
  {
   "cell_type": "code",
   "execution_count": null,
   "id": "manufactured-repair",
   "metadata": {},
   "outputs": [],
   "source": [
    "%load_ext autoreload\n",
    "%autoreload 2\n",
    "import jwt\n",
    "import json\n",
    "from owslib.csw import CatalogueServiceWeb\n",
    "import os\n",
    "from time import sleep"
   ]
  },
  {
   "cell_type": "markdown",
   "id": "liable-reform",
   "metadata": {},
   "source": [
    "## Initialise"
   ]
  },
  {
   "cell_type": "markdown",
   "id": "experienced-yemen",
   "metadata": {},
   "source": [
    "Platform domain..."
   ]
  },
  {
   "cell_type": "code",
   "execution_count": null,
   "id": "fluid-plane",
   "metadata": {},
   "outputs": [],
   "source": [
    "base_domain = \"develop.eoepca.org\""
   ]
  },
  {
   "cell_type": "markdown",
   "id": "written-somalia",
   "metadata": {},
   "source": [
    "### User\n",
    "User authenticates and the client receives an ID Token (JWT) that represents the user."
   ]
  },
  {
   "cell_type": "code",
   "execution_count": null,
   "id": "c54a1ccf-a5fe-4d81-a764-74fd0bb1e4d2",
   "metadata": {},
   "outputs": [],
   "source": [
    "#-------------------------------------------------------------------------------\n",
    "# Helper function to authenticate user and get access token\n",
    "#-------------------------------------------------------------------------------\n",
    "import requests\n",
    "\n",
    "realm = \"master\"\n",
    "keycloak = f\"https://keycloak-v1x.{base_domain}\"\n",
    "token_endpoint = f\"{keycloak}/realms/{realm}/protocol/openid-connect/token\"\n",
    "client_id = \"admin-cli\"\n",
    "client_secret = \"changeme\"\n",
    "\n",
    "def get_user_token(username, password):\n",
    "    headers = {\n",
    "        \"Cache-Control\": \"no-cache\",\n",
    "        \"Content-Type\": \"application/x-www-form-urlencoded\"\n",
    "    }\n",
    "    data = {\n",
    "        \"scope\": \"openid profile email\",\n",
    "        \"grant_type\": \"password\",\n",
    "        \"username\": username,\n",
    "        \"password\": password,\n",
    "        \"client_id\": client_id,\n",
    "        \"client_secret\": client_secret\n",
    "    }\n",
    "    response = requests.post(token_endpoint, headers=headers, data=data)\n",
    "    if response.ok:\n",
    "        return response.json()[\"access_token\"]\n",
    "    else:\n",
    "        print(response)\n",
    "        return None"
   ]
  },
  {
   "cell_type": "code",
   "execution_count": null,
   "id": "formed-scope",
   "metadata": {
    "tags": []
   },
   "outputs": [],
   "source": [
    "#-------------------------------------------------------------------------------\n",
    "# Authenticate as user `eric` and get an access token\n",
    "#-------------------------------------------------------------------------------\n",
    "USER_NAME=\"eric\"\n",
    "USER_PASSWORD=\"changeme\"\n",
    "user_access_token = get_user_token(USER_NAME, USER_PASSWORD)"
   ]
  },
  {
   "cell_type": "markdown",
   "id": "controlled-mambo",
   "metadata": {},
   "source": [
    "## Workspace"
   ]
  },
  {
   "cell_type": "code",
   "execution_count": null,
   "id": "green-record",
   "metadata": {},
   "outputs": [],
   "source": [
    "workspace_url = \"https://workspace-api.\" + base_domain\n",
    "workspace_prefix = \"ws\""
   ]
  },
  {
   "cell_type": "markdown",
   "id": "terminal-missile",
   "metadata": {
    "tags": []
   },
   "source": [
    "### Workspace: Get Details\n",
    "Retrieve access information to the user workspace S3 bucket (bucket name, access key and secret access key)"
   ]
  },
  {
   "cell_type": "code",
   "execution_count": null,
   "id": "organizational-terror",
   "metadata": {},
   "outputs": [],
   "source": [
    "# Workspace - Get Details\n",
    "workspace_name = f\"{workspace_prefix}-{USER_NAME.lower()}\"\n",
    "\n",
    "headers = {\n",
    "    \"Accept\": \"application/json\",\n",
    "    \"Authorization\": f\"Bearer {user_access_token}\"\n",
    "}\n",
    "response = requests.get(f\"{workspace_url}/workspaces/{workspace_name}\", headers=headers)\n",
    "\n",
    "response.raise_for_status()\n",
    "workspace_details = response.json()\n",
    "print(json.dumps(workspace_details[\"storage\"], indent = 2))"
   ]
  },
  {
   "cell_type": "markdown",
   "id": "seeing-deployment",
   "metadata": {},
   "source": [
    "### Inspect User Workspace\n",
    "Using the access credentials, the user can inspect his S3 bucket."
   ]
  },
  {
   "cell_type": "code",
   "execution_count": null,
   "id": "republican-graph",
   "metadata": {},
   "outputs": [],
   "source": [
    "# Bucket details\n",
    "bucket_name = workspace_details[\"storage\"][\"credentials\"][\"bucketname\"]\n",
    "s3_access = workspace_details[\"storage\"][\"credentials\"][\"access\"]\n",
    "s3_secret = workspace_details[\"storage\"][\"credentials\"][\"secret\"]"
   ]
  },
  {
   "cell_type": "code",
   "execution_count": null,
   "id": "1193262a-4729-47da-9219-638f4b475434",
   "metadata": {},
   "outputs": [],
   "source": [
    "# Quick hack S3 access\n",
    "import boto3\n",
    "\n",
    "# Init S3 session for Creodias\n",
    "S3_ENDPOINT = f\"https://minio.{base_domain}\"\n",
    "session = boto3.session.Session()\n",
    "s3resource = session.resource('s3', aws_access_key_id=s3_access, aws_secret_access_key=s3_secret, endpoint_url=S3_ENDPOINT)\n",
    "\n",
    "# List bucket contents\n",
    "bucket = s3resource.Bucket(bucket_name)\n",
    "for obj in bucket.objects.all():\n",
    "    print(' ->', obj.key)"
   ]
  },
  {
   "cell_type": "markdown",
   "id": "794a6e41-2095-402f-8736-9159230b6cd1",
   "metadata": {},
   "source": [
    "### Upload Application Package and register it\n",
    "User uploads the application package to his workspace"
   ]
  },
  {
   "cell_type": "code",
   "execution_count": null,
   "id": "42f4eb91-7c57-4251-b606-f11e8194e669",
   "metadata": {},
   "outputs": [],
   "source": [
    "object = s3resource.Object(bucket_name, 'application-package/s-expression/s-expression-0_0_2.cwl')\n",
    "result = object.put(Body=open('../data/s-expression-cwl.cwl', 'rb'))\n",
    "res = result.get('ResponseMetadata')\n",
    "if res.get('HTTPStatusCode') == 200:\n",
    "    print('Application package uploaded successfully')\n",
    "else:\n",
    "    print('Application package not uploaded')"
   ]
  },
  {
   "cell_type": "markdown",
   "id": "0410339c-a727-4c9e-b631-70e8d2e13b91",
   "metadata": {},
   "source": [
    "User registers the Application Package through the Workspace API"
   ]
  },
  {
   "cell_type": "code",
   "execution_count": null,
   "id": "990aa89c-1b5d-44ee-a37c-ea8c6964dadd",
   "metadata": {},
   "outputs": [],
   "source": [
    "application_url = f'{bucket_name}/application-package/s-expression/s-expression-0_0_2.cwl'\n",
    "response = requests.post(\n",
    "    f\"{workspace_url}/workspaces/{workspace_name}/register\",\n",
    "    headers = dict([(\"Content-Type\", \"application/json\")], **headers),\n",
    "    json= {\n",
    "        \"type\": \"application\",\n",
    "        \"url\": application_url,\n",
    "    }\n",
    ")\n",
    "response.raise_for_status()\n",
    "response"
   ]
  },
  {
   "cell_type": "markdown",
   "id": "e6c02f3d-5851-4344-a971-93ee3899ddb3",
   "metadata": {},
   "source": [
    "User inspects the registered Application Package through the Resource Catalogue API"
   ]
  },
  {
   "cell_type": "code",
   "execution_count": null,
   "id": "4058d1e3-fbe8-4180-acb9-c05b74dcd6ff",
   "metadata": {},
   "outputs": [],
   "source": [
    "app_id= \"s-expression\"\n",
    "workspace_endpoint = f'https://resource-catalogue.{workspace_name}.{base_domain}/csw'\n",
    "print(f\"{USER_NAME}'s workspace (catalogue): {workspace_endpoint}\")\n",
    "\n",
    "csw = CatalogueServiceWeb(workspace_endpoint,timeout=30,headers=headers)\n",
    "csw.getrecords2(maxrecords=10)\n",
    "\n",
    "print(f\"{USER_NAME}'s workspace records:\\n\")\n",
    "for rec in csw.records:\n",
    "    print(f'identifier: {csw.records[rec].identifier}\\ntype: {csw.records[rec].type}\\ntitle: {csw.records[rec].title}\\n')\n",
    "\n",
    "    print(f\"URLs for Application {app_id}:\")\n",
    "csw.records[app_id].references"
   ]
  },
  {
   "cell_type": "markdown",
   "id": "swiss-librarian",
   "metadata": {},
   "source": [
    "## ADES\n",
    "The ADES provides user-specific endpoints, using a URL path prefix."
   ]
  },
  {
   "cell_type": "code",
   "execution_count": null,
   "id": "distinguished-particle",
   "metadata": {},
   "outputs": [],
   "source": [
    "# ADES URLs\n",
    "ades_base_url = f\"https://zoo.{base_domain}\"\n",
    "ades_proc_url = f\"{ades_base_url}/{USER_NAME}/ogc-api\"\n",
    "print(f\"ADES API Processes endpoint for user {USER_NAME}: {ades_proc_url}\")"
   ]
  },
  {
   "cell_type": "markdown",
   "id": "different-studio",
   "metadata": {},
   "source": [
    "### ADES API Processes"
   ]
  },
  {
   "cell_type": "code",
   "execution_count": null,
   "id": "architectural-college",
   "metadata": {},
   "outputs": [],
   "source": [
    "app_name = \"convert-url\""
   ]
  },
  {
   "cell_type": "markdown",
   "id": "framed-russell",
   "metadata": {},
   "source": [
    "#### ADES: List Processes\n",
    "**GET {service_url}/processes**<br>\n",
    "Provides a list of all processes "
   ]
  },
  {
   "cell_type": "code",
   "execution_count": null,
   "id": "4cceb35d-95d2-42f2-9dac-2c7e6237ebdb",
   "metadata": {},
   "outputs": [],
   "source": [
    "# API Processes - List Processes\n",
    "response = requests.get(f\"{ades_proc_url}/processes\", headers=headers)\n",
    "response.raise_for_status()\n",
    "\n",
    "process_list = response.json()\n",
    "print(\"Processes...\")\n",
    "app_is_already_deployed = False\n",
    "for process in process_list[\"processes\"]:\n",
    "    process_id = process[\"id\"]\n",
    "    if process_id == app_name:\n",
    "        app_is_already_deployed = True\n",
    "    print(\"  \", process_id)"
   ]
  },
  {
   "cell_type": "markdown",
   "id": "50dba324-4b06-49a5-813c-1e8095640205",
   "metadata": {
    "tags": []
   },
   "source": [
    "#### ADES: Undeploy Application (in case its already deployed)\n",
    "**DELETE {service_url}/processes/{application_name}**<br>\n",
    "Undeploys application from the ADES"
   ]
  },
  {
   "cell_type": "code",
   "execution_count": null,
   "id": "715a42f4-d6b3-4956-9a9f-7c4e61285d70",
   "metadata": {},
   "outputs": [],
   "source": [
    "# API Processes - Undeploy Application\n",
    "\n",
    "if app_is_already_deployed:\n",
    "    print(f\"Application {app_name} is already deployed. Undeploying...\")\n",
    "\n",
    "    response = requests.delete(\n",
    "        f\"{ades_proc_url}/processes/{app_name}\",\n",
    "        headers=headers\n",
    "    )\n",
    "    response.raise_for_status()\n",
    "else:\n",
    "    print(f\"Application {app_name} is NOT yet deployed. No need to delete.\")"
   ]
  },
  {
   "cell_type": "code",
   "execution_count": null,
   "id": "eaffea4c-1920-4f27-aa33-7d2219a4c8ca",
   "metadata": {},
   "outputs": [],
   "source": [
    "# API Processes - List Processes\n",
    "response = requests.get(f\"{ades_proc_url}/processes\", headers=headers)\n",
    "response.raise_for_status()\n",
    "\n",
    "process_list = response.json()\n",
    "print(\"Processes...\")\n",
    "for process in process_list[\"processes\"]:\n",
    "    print(\"  \", process[\"id\"])"
   ]
  },
  {
   "cell_type": "markdown",
   "id": "aggregate-scratch",
   "metadata": {},
   "source": [
    "#### ADES: Deploy Application\n",
    "\n",
    "**POST {service_url}/processes**<br>\n",
    "Deploys application to the ADES.<br>\n",
    "Request body is json in which the input is the Application Package describing the application.<br>\n",
    "The Application Package is a CWL Workflow that is typically provided as an href with content type **_application/atom+xml_** or **_application/cwl_**. The url to the application package can be either a http or s3 endpoint."
   ]
  },
  {
   "cell_type": "code",
   "execution_count": null,
   "id": "4dd0adf5-396f-4b7c-9a9b-e7a5767ed615",
   "metadata": {},
   "outputs": [],
   "source": [
    "# API Processes - Deploy Application\n",
    "response = requests.post(\n",
    "    f\"{ades_proc_url}/processes\",\n",
    "    headers = dict([(\"Content-Type\", \"application/json\")], **headers),\n",
    "    json = {\n",
    "      \"executionUnit\": {\n",
    "        \"href\": \"https://raw.githubusercontent.com/EOEPCA/deployment-guide/main/deploy/samples/requests/processing/convert-url-app.cwl\",\n",
    "        \"type\": \"application/cwl\"\n",
    "      }\n",
    "    }\n",
    ")\n",
    "if response.status_code == 409:\n",
    "    print(f\"Application {app_name} is already deployed\")\n",
    "else:\n",
    "    response.raise_for_status()\n",
    "response"
   ]
  },
  {
   "cell_type": "code",
   "execution_count": null,
   "id": "c7f795d1-f97b-4131-8676-7a29a41029b3",
   "metadata": {},
   "outputs": [],
   "source": [
    "response.content"
   ]
  },
  {
   "cell_type": "markdown",
   "id": "713d73c3-4e3b-498c-b6fa-ec0246fd0ac1",
   "metadata": {},
   "source": [
    "Check that the application has been correctly deployed"
   ]
  },
  {
   "cell_type": "code",
   "execution_count": null,
   "id": "d6232bbb-c85a-4b96-ba66-f2fbdadee704",
   "metadata": {},
   "outputs": [],
   "source": [
    "# API Processes - List Processes\n",
    "response = requests.get(f\"{ades_proc_url}/processes\", headers=headers)\n",
    "response.raise_for_status()\n",
    "\n",
    "process_list = response.json()\n",
    "print(\"Processes...\")\n",
    "for process in process_list[\"processes\"]:\n",
    "    print(\"  \", process[\"id\"])"
   ]
  },
  {
   "cell_type": "markdown",
   "id": "intimate-douglas",
   "metadata": {},
   "source": [
    "#### ADES: Get Application Details\n",
    "**GET {service_url}/processes/{application_name}**<br>\n",
    "Provides details of the deployed application<br>\n",
    "The response includes the API Processes json application description."
   ]
  },
  {
   "cell_type": "code",
   "execution_count": null,
   "id": "6e5a5257-9c3b-4811-bca2-2179344c9327",
   "metadata": {},
   "outputs": [],
   "source": [
    "# API Processes - Get Application Details\n",
    "response = requests.get(f\"{ades_proc_url}/processes/{app_name}\", headers=headers)\n",
    "response.raise_for_status()\n",
    "\n",
    "print(json.dumps(response.json(), indent = 2))"
   ]
  },
  {
   "cell_type": "markdown",
   "id": "fourth-decline",
   "metadata": {},
   "source": [
    "#### ADES: Execute Application\n",
    "\n",
    "**POST {service_url}/processes/{application_name}/execution**<br>\n",
    "Request body is json as defined by API Processes to define the inputs and outputs, consistent with the CWL Workflow application package.<br>\n",
    "The response returns **201 CREATED** to indicate that the job has been successfully initiated.<br>\n",
    "The response **Location header** provides the path (/processes/{application_name}/jobs/{job_id}) to follow the job status."
   ]
  },
  {
   "cell_type": "code",
   "execution_count": null,
   "id": "89fc587b-b109-41ad-b060-cae2f9213b90",
   "metadata": {},
   "outputs": [],
   "source": [
    "# API Processes - Execute Application\n",
    "response = requests.post(\n",
    "    f\"{ades_proc_url}/processes/{app_name}/execution\",\n",
    "    headers = dict([(\"Content-Type\", \"application/json\"), (\"Prefer\", \"respond-async\")], **headers),\n",
    "    json = {\n",
    "      \"inputs\": {\n",
    "          \"fn\": \"resize\",\n",
    "          \"url\":  \"https://eoepca.org/media_portal/images/logo6_med.original.png\",\n",
    "          \"size\": \"50%\"\n",
    "      }\n",
    "    }\n",
    ")\n",
    "response.raise_for_status()\n",
    "response.content"
   ]
  },
  {
   "cell_type": "code",
   "execution_count": null,
   "id": "bc5f6384-8230-47e1-bc39-b98b14c787b5",
   "metadata": {},
   "outputs": [],
   "source": [
    "job_status_url = response.headers[\"Location\"]\n",
    "job_status_url"
   ]
  },
  {
   "cell_type": "markdown",
   "id": "frozen-while",
   "metadata": {},
   "source": [
    "#### ADES: Job Status\n",
    "\n",
    "**GET {service_url}/jobs/{job_id}**<br>\n",
    "Checks the status of the previously submitted job - using the URL returned in the Location header of the execute request.<br>\n",
    "The response body json provides a status string (success/running/failed) and a % progress.<br>\n",
    "In the case of a failure then a descriptive message is provided."
   ]
  },
  {
   "cell_type": "code",
   "execution_count": null,
   "id": "54dd98ae-3e44-4dc7-a8e4-4ec1311d31e4",
   "metadata": {},
   "outputs": [],
   "source": [
    "# API Processes - Job Status\n",
    "def get_job_status():\n",
    "    return requests.get(job_status_url, headers=headers)\n",
    "\n",
    "response = get_job_status()\n",
    "response.raise_for_status()\n",
    "\n",
    "print(json.dumps(response.json(), indent = 2))"
   ]
  },
  {
   "cell_type": "code",
   "execution_count": null,
   "id": "infinite-eleven",
   "metadata": {},
   "outputs": [],
   "source": [
    "# API Processes - Job Status (keep polling for completion)\n",
    "status = \"running\"\n",
    "interval = 10\n",
    "error_count = 0\n",
    "max_error_count = 5\n",
    "while status == 'running':\n",
    "    response = get_job_status()\n",
    "    # Expecting a 200 response\n",
    "    if response.status_code == 200:\n",
    "        error_count = 0\n",
    "        status = response.json()[\"status\"]\n",
    "        print(f\"Job status is: {status}\", end=\"\")\n",
    "        if status != 'successful' and status != 'failed':\n",
    "            print(\" - waiting...\")\n",
    "            sleep(interval)\n",
    "        else:\n",
    "            print(\" - DONE\")\n",
    "            break\n",
    "    # Unexpected response, latch the error\n",
    "    else:\n",
    "        error_count += 1\n",
    "        print(f\"Unexpected response {response.status_code} requesting job status\")\n",
    "        sleep(interval)\n",
    "    # Too many consecutive errors\n",
    "    if error_count > max_error_count:\n",
    "        print(\"ERROR: Too many failed attempts to get job status\")\n",
    "        break\n",
    "\n",
    "print(f\"Processing completed with status: {status}\")"
   ]
  },
  {
   "cell_type": "code",
   "execution_count": null,
   "id": "steady-revolution",
   "metadata": {},
   "outputs": [],
   "source": [
    "print(f\"status: {response.status_code}\\nheaders: {json.dumps(dict(response.headers), indent=2)}\\nbody...\\n{json.dumps(response.json(), indent=2)}\")"
   ]
  },
  {
   "cell_type": "markdown",
   "id": "suitable-construction",
   "metadata": {},
   "source": [
    "#### ADES: Job Result\n",
    "**GET {service_url}/jobs/{job_id}/results**<br>\n",
    "Returns details of the outputs for a successful job execution.<br>\n",
    "The response body provides json data that includes the reference to the STAC file that indexes the processing outputs."
   ]
  },
  {
   "cell_type": "code",
   "execution_count": null,
   "id": "4aeb4350-ea2b-4067-9e66-e793a06ae6ee",
   "metadata": {},
   "outputs": [],
   "source": [
    "# API Processes - Job Result\n",
    "response = requests.get(f\"{job_status_url}/results\", headers=headers)\n",
    "response.raise_for_status()\n",
    "\n",
    "print(json.dumps(response.json(), indent = 2))"
   ]
  },
  {
   "cell_type": "markdown",
   "id": "db6fedd7-0c27-4285-956a-221068ecf502",
   "metadata": {},
   "source": [
    "From the S3 url let's retrieve the folder in the bucket where the result files are stored."
   ]
  },
  {
   "cell_type": "code",
   "execution_count": null,
   "id": "daa3786a-b39c-4345-8e9e-68a0394f6ab6",
   "metadata": {},
   "outputs": [],
   "source": [
    "processing_results = response.json()\n",
    "result_location = \"Not found\"\n",
    "for link in processing_results[\"links\"]:\n",
    "    if link[\"rel\"] == \"root\":\n",
    "        result_location = link[\"href\"]\n",
    "\n",
    "print(f\"Processing results root STAC Catalog: {result_location}\")\n",
    "\n",
    "result_folder_name = result_location.rsplit('/', 1)[0].rsplit(':', 1)[1].replace(\"//\"+bucket_name+\"/\",\"\")\n",
    "print(f\"Folder name for results in Object Storage: {result_folder_name}\")"
   ]
  },
  {
   "cell_type": "markdown",
   "id": "super-nutrition",
   "metadata": {
    "tags": []
   },
   "source": [
    "#### ADES: List Jobs"
   ]
  },
  {
   "cell_type": "code",
   "execution_count": null,
   "id": "71fdefe7-5381-4ac5-ab93-c925acd32fdc",
   "metadata": {},
   "outputs": [],
   "source": [
    "# API Processes - List Jobs\n",
    "response = requests.get(f\"{ades_proc_url}/jobs\", headers=headers)\n",
    "response.raise_for_status()\n",
    "\n",
    "jobs_list = response.json()\n",
    "print(f\"Listing {jobs_list['numberTotal']} jobs...\")\n",
    "for job in jobs_list[\"jobs\"]:\n",
    "    print(f\"  {job.get('finished', '???'):^24} - {job['jobID']} - {job['status']:<12} - {job['processID']}\")"
   ]
  },
  {
   "cell_type": "markdown",
   "id": "ongoing-sleeve",
   "metadata": {
    "tags": []
   },
   "source": [
    "#### ADES: Undeploy Application\n",
    "**DELETE {service_url}/processes/{application_name}**<br>\n",
    "Undeploys application from the ADES"
   ]
  },
  {
   "cell_type": "code",
   "execution_count": null,
   "id": "16ea4a23-1426-4160-9b89-59ab7fa49e0e",
   "metadata": {},
   "outputs": [],
   "source": [
    "# API Processes - Undeploy Application\n",
    "response = requests.delete(\n",
    "    f\"{ades_proc_url}/processes/{app_name}\",\n",
    "    headers=headers\n",
    ")\n",
    "response.raise_for_status()"
   ]
  },
  {
   "cell_type": "code",
   "execution_count": null,
   "id": "bf1329fb-6305-4308-a950-f1b16b4ff2d1",
   "metadata": {},
   "outputs": [],
   "source": [
    "# API Processes - List Processes\n",
    "response = requests.get(f\"{ades_proc_url}/processes\", headers=headers)\n",
    "response.raise_for_status()\n",
    "\n",
    "process_list = response.json()\n",
    "print(\"Processes...\")\n",
    "for process in process_list[\"processes\"]:\n",
    "    print(\"  \", process[\"id\"])"
   ]
  },
  {
   "cell_type": "markdown",
   "id": "75b90d16-9029-480c-bd44-df12056ea691",
   "metadata": {},
   "source": [
    "#### Workspace: Inspect results\n",
    "Let's inspect the result files in the user S3 bucket."
   ]
  },
  {
   "cell_type": "code",
   "execution_count": null,
   "id": "ancient-patent",
   "metadata": {},
   "outputs": [],
   "source": [
    "# Quick hack S3 access\n",
    "import boto3\n",
    "\n",
    "# Init S3 session for Creodias\n",
    "S3_ENDPOINT = f\"https://minio.{base_domain}\"\n",
    "session = boto3.session.Session()\n",
    "s3resource = session.resource('s3', aws_access_key_id=s3_access, aws_secret_access_key=s3_secret, endpoint_url=S3_ENDPOINT)\n",
    "\n",
    "# List bucket contents\n",
    "bucket = s3resource.Bucket(bucket_name)\n",
    "for obj in bucket.objects.filter(Prefix=result_folder_name):\n",
    "    print(' ->', obj.key)"
   ]
  }
 ],
 "metadata": {
  "kernelspec": {
   "display_name": "Python 3 (ipykernel)",
   "language": "python",
   "name": "python3"
  },
  "language_info": {
   "codemirror_mode": {
    "name": "ipython",
    "version": 3
   },
   "file_extension": ".py",
   "mimetype": "text/x-python",
   "name": "python",
   "nbconvert_exporter": "python",
   "pygments_lexer": "ipython3",
   "version": "3.11.9"
  }
 },
 "nbformat": 4,
 "nbformat_minor": 5
}
