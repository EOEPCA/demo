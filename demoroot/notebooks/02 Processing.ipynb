{
 "cells": [
  {
   "cell_type": "markdown",
   "id": "conceptual-judges",
   "metadata": {},
   "source": [
    "# Processing\n",
    "Demonstration of Processing endpoints."
   ]
  },
  {
   "cell_type": "code",
   "execution_count": 1,
   "id": "manufactured-repair",
   "metadata": {},
   "outputs": [],
   "source": [
    "import utils.DemoClient as client\n",
    "import jwt\n",
    "import json"
   ]
  },
  {
   "cell_type": "markdown",
   "id": "liable-reform",
   "metadata": {},
   "source": [
    "## Initialise"
   ]
  },
  {
   "cell_type": "markdown",
   "id": "experienced-yemen",
   "metadata": {},
   "source": [
    "### Client\n",
    "We instantiate a client to interact with the platform. The client dynamically registers with the Authorisation Server to take part in UMA (User Managed Access) flows through which authorization is obtained for scoped access resources on behalf of the user."
   ]
  },
  {
   "cell_type": "code",
   "execution_count": 2,
   "id": "fluid-plane",
   "metadata": {},
   "outputs": [
    {
     "name": "stdout",
     "output_type": "stream",
     "text": [
      "client_id: 0e78147e-86ff-4487-80ae-e1309f617402\n",
      "Client state saved to file: state.json\n"
     ]
    }
   ],
   "source": [
    "#-------------------------------------------------------------------------------\n",
    "# Initialise client\n",
    "#-------------------------------------------------------------------------------\n",
    "base_domain = \"demo.eoepca.org\"\n",
    "platform_domain = \"test.\" + base_domain\n",
    "base_url = \"https://\" + platform_domain\n",
    "demo = client.DemoClient(base_url)\n",
    "demo.register_client()\n",
    "demo.save_state()"
   ]
  },
  {
   "cell_type": "markdown",
   "id": "written-somalia",
   "metadata": {},
   "source": [
    "### User\n",
    "User authenticates and the client receives an ID Token (JWT) that represents the user."
   ]
  },
  {
   "cell_type": "code",
   "execution_count": 3,
   "id": "formed-scope",
   "metadata": {
    "tags": []
   },
   "outputs": [
    {
     "name": "stdout",
     "output_type": "stream",
     "text": [
      "[Request] GET => https://test.demo.eoepca.org/.well-known/uma2-configuration\n",
      "<Response [200]>\n",
      "token_endpoint: https://test.demo.eoepca.org/oxauth/restv1/token\n",
      "[Request] POST => https://test.demo.eoepca.org/oxauth/restv1/token\n"
     ]
    }
   ],
   "source": [
    "#-------------------------------------------------------------------------------\n",
    "# Authenticate as UserA and get ID Token\n",
    "#-------------------------------------------------------------------------------\n",
    "USER_NAME=\"bob\"\n",
    "USER_PASSWORD=\"defaultPWD\"\n",
    "user_id_token = demo.get_id_token(USER_NAME, USER_PASSWORD)"
   ]
  },
  {
   "cell_type": "markdown",
   "id": "swiss-librarian",
   "metadata": {},
   "source": [
    "## ADES\n",
    "The ADES provides user-specific endpoints, using a URL path prefix."
   ]
  },
  {
   "cell_type": "code",
   "execution_count": 9,
   "id": "distinguished-particle",
   "metadata": {},
   "outputs": [
    {
     "name": "stdout",
     "output_type": "stream",
     "text": [
      "ADES WPS endpoint: http://ades.demo.eoepca.org/bob/zoo\n",
      "ADES API Processes endpoint: http://ades.demo.eoepca.org/bob/wps3\n"
     ]
    }
   ],
   "source": [
    "# ADES URLs\n",
    "ades_base_url = \"http://ades.demo.eoepca.org\" #\"http://ades.\" + platform_domain\n",
    "ades_wps_url = ades_base_url + \"/\" + USER_NAME + \"/zoo\"; print(\"ADES WPS endpoint:\", ades_wps_url)\n",
    "ades_proc_url = ades_base_url + \"/\" + USER_NAME + \"/wps3\"; print(\"ADES API Processes endpoint:\", ades_proc_url)"
   ]
  },
  {
   "cell_type": "markdown",
   "id": "different-studio",
   "metadata": {},
   "source": [
    "### ADES API Processes"
   ]
  },
  {
   "cell_type": "code",
   "execution_count": 10,
   "id": "architectural-college",
   "metadata": {},
   "outputs": [],
   "source": [
    "ades_access_token = None\n",
    "app_name = \"s-expression-0_0_2\""
   ]
  },
  {
   "cell_type": "markdown",
   "id": "framed-russell",
   "metadata": {},
   "source": [
    "#### ADES: List Processes"
   ]
  },
  {
   "cell_type": "code",
   "execution_count": 11,
   "id": "progressive-experiment",
   "metadata": {},
   "outputs": [
    {
     "name": "stdout",
     "output_type": "stream",
     "text": [
      "[Request] GET => http://ades.demo.eoepca.org/bob/wps3/processes\n",
      "[Process List] = 200 (OK)\n",
      "Processes: ['nhi-0_0_3', 'DeployProcess', 'GetStatus', 'burned-area-1_0', 'burned-area-0_5', 'snuggs-0_3_0', 'UndeployProcess']\n"
     ]
    }
   ],
   "source": [
    "# API Processes - List Processes\n",
    "response, ades_access_token, process_ids = demo.proc_list_processes(ades_proc_url, id_token=user_id_token, access_token=ades_access_token)\n",
    "print(\"Processes:\", process_ids)"
   ]
  },
  {
   "cell_type": "markdown",
   "id": "aggregate-scratch",
   "metadata": {},
   "source": [
    "#### ADES: Deploy Application"
   ]
  },
  {
   "cell_type": "code",
   "execution_count": 12,
   "id": "legal-thunder",
   "metadata": {},
   "outputs": [
    {
     "name": "stdout",
     "output_type": "stream",
     "text": [
      "Application details read from file: ../data/app-deploy-body-cwl-S3.json\n",
      "[Request] POST => http://ades.demo.eoepca.org/bob/wps3/processes\n",
      "[Deploy Response] = 201 (Created)\n"
     ]
    }
   ],
   "source": [
    "# API Processes - Deploy Application\n",
    "#response, ades_access_token = demo.proc_deploy_application(ades_proc_url, \"../data/app-deploy-body-atom.json\", id_token=user_id_token, access_token=ades_access_token)\n",
    "\n",
    "response, access_token = demo.proc_deploy_application(ades_proc_url, \"../data/app-deploy-body-cwl-S3.json\", id_token=user_id_token, access_token=ades_access_token)\n"
   ]
  },
  {
   "cell_type": "code",
   "execution_count": 13,
   "id": "suffering-message",
   "metadata": {
    "tags": []
   },
   "outputs": [
    {
     "name": "stdout",
     "output_type": "stream",
     "text": [
      "[Request] GET => http://ades.demo.eoepca.org/bob/wps3/processes\n",
      "[Process List] = 200 (OK)\n",
      "Processes: ['nhi-0_0_3', 'DeployProcess', 'GetStatus', 'burned-area-1_0', 'burned-area-0_5', 'snuggs-0_3_0', 'UndeployProcess', 's-expression-0_0_2']\n"
     ]
    }
   ],
   "source": [
    "# Check deploy - list processes again\n",
    "response, ades_access_token, process_ids = demo.proc_list_processes(ades_proc_url, id_token=user_id_token, access_token=ades_access_token)\n",
    "print(\"Processes:\", process_ids)"
   ]
  },
  {
   "cell_type": "markdown",
   "id": "intimate-douglas",
   "metadata": {},
   "source": [
    "#### ADES: Get Application Details"
   ]
  },
  {
   "cell_type": "code",
   "execution_count": 14,
   "id": "surgical-cleveland",
   "metadata": {},
   "outputs": [
    {
     "name": "stdout",
     "output_type": "stream",
     "text": [
      "[Request] GET => http://ades.demo.eoepca.org/bob/wps3/processes/s-expression-0_0_2\n",
      "[App Details] = 200 (OK)\n",
      "{\n",
      "  \"process\": {\n",
      "    \"id\": \"s-expression-0_0_2\",\n",
      "    \"title\": \"s expressions\",\n",
      "    \"abstract\": \"Applies s expressions to EO acquisitions\",\n",
      "    \"version\": \"0.0.2\",\n",
      "    \"jobControlOptions\": [\n",
      "      \"sync-execute\",\n",
      "      \"async-execute\",\n",
      "      \"dismiss\"\n",
      "    ],\n",
      "    \"outputTransmission\": [\n",
      "      \"value\",\n",
      "      \"reference\"\n",
      "    ],\n",
      "    \"links\": [\n",
      "      {\n",
      "        \"rel\": \"canonical\",\n",
      "        \"type\": \"application/json\",\n",
      "        \"title\": \"Execute End Point\",\n",
      "        \"href\": \"/watchjob/processes/s-expression-0_0_2/jobs/\"\n",
      "      }\n",
      "    ],\n",
      "    \"inputs\": [\n",
      "      {\n",
      "        \"id\": \"input_reference\",\n",
      "        \"title\": \"Input product reference\",\n",
      "        \"abstract\": \"Input product reference\",\n",
      "        \"minOccurs\": \"1\",\n",
      "        \"maxOccurs\": \"1\",\n",
      "        \"input\": {\n",
      "          \"literalDataDomains\": [\n",
      "            {\n",
      "              \"dataType\": {\n",
      "                \"name\": \"string\"\n",
      "              },\n",
      "              \"valueDefinition\": {\n",
      "                \"anyValue\": true\n",
      "              }\n",
      "            }\n",
      "          ]\n",
      "        }\n",
      "      },\n",
      "      {\n",
      "        \"id\": \"s_expression\",\n",
      "        \"title\": \"s expression\",\n",
      "        \"abstract\": \"s expression\",\n",
      "        \"minOccurs\": \"1\",\n",
      "        \"maxOccurs\": \"1\",\n",
      "        \"input\": {\n",
      "          \"literalDataDomains\": [\n",
      "            {\n",
      "              \"dataType\": {\n",
      "                \"name\": \"string\"\n",
      "              },\n",
      "              \"valueDefinition\": {\n",
      "                \"anyValue\": true\n",
      "              }\n",
      "            }\n",
      "          ]\n",
      "        }\n",
      "      },\n",
      "      {\n",
      "        \"id\": \"cbn\",\n",
      "        \"title\": \"Common band name\",\n",
      "        \"abstract\": \"Common band name\",\n",
      "        \"minOccurs\": \"1\",\n",
      "        \"maxOccurs\": \"1\",\n",
      "        \"input\": {\n",
      "          \"literalDataDomains\": [\n",
      "            {\n",
      "              \"dataType\": {\n",
      "                \"name\": \"string\"\n",
      "              },\n",
      "              \"valueDefinition\": {\n",
      "                \"anyValue\": true\n",
      "              }\n",
      "            }\n",
      "          ]\n",
      "        }\n",
      "      }\n",
      "    ],\n",
      "    \"outputs\": [\n",
      "      {\n",
      "        \"id\": \"wf_outputs\",\n",
      "        \"title\": \"wf_outputs\",\n",
      "        \"output\": {\n",
      "          \"formats\": [\n",
      "            {\n",
      "              \"default\": true,\n",
      "              \"mimeType\": \"application/json\"\n",
      "            }\n",
      "          ]\n",
      "        }\n",
      "      }\n",
      "    ]\n",
      "  }\n",
      "}\n"
     ]
    }
   ],
   "source": [
    "# API Processes - Get Application Details\n",
    "response, ades_access_token = demo.proc_get_app_details(ades_proc_url, app_name, id_token=user_id_token, access_token=ades_access_token)\n",
    "print(json.dumps(response.json(), indent = 2))"
   ]
  },
  {
   "cell_type": "markdown",
   "id": "fourth-decline",
   "metadata": {},
   "source": [
    "#### ADES: Execute Application"
   ]
  },
  {
   "cell_type": "code",
   "execution_count": 15,
   "id": "existing-soccer",
   "metadata": {},
   "outputs": [
    {
     "name": "stdout",
     "output_type": "stream",
     "text": [
      "Application execute details read from file: ../data/app-execute-body.json\n",
      "[Request] POST => http://ades.demo.eoepca.org/bob/wps3/processes/s-expression-0_0_2/jobs\n",
      "[Execute Response] = 201 (Created) => job=/bob/watchjob/processes/s-expression-0_0_2/jobs/3e8af1c4-a060-11ec-bb8a-8a8147a03f5b\n"
     ]
    }
   ],
   "source": [
    "# API Processes - Execute Application\n",
    "response, ades_access_token, job_location_path = demo.proc_execute_application(ades_proc_url, app_name, \"../data/app-execute-body.json\", id_token=user_id_token, access_token=ades_access_token)"
   ]
  },
  {
   "cell_type": "markdown",
   "id": "frozen-while",
   "metadata": {},
   "source": [
    "#### ADES: Job Status"
   ]
  },
  {
   "cell_type": "code",
   "execution_count": 16,
   "id": "amateur-technique",
   "metadata": {},
   "outputs": [
    {
     "name": "stdout",
     "output_type": "stream",
     "text": [
      "[Request] GET => http://ades.demo.eoepca.org/bob/watchjob/processes/s-expression-0_0_2/jobs/3e8af1c4-a060-11ec-bb8a-8a8147a03f5b\n",
      "[Job Status] = 200 (OK) => 10/03/2022 10:53:02 - running\n",
      "{\n",
      "  \"jobID\": \"3e8af1c4-a060-11ec-bb8a-8a8147a03f5b\",\n",
      "  \"started\": \"2022-03-10T10:52:56.824069Z\",\n",
      "  \"status\": \"running\",\n",
      "  \"message\": \"running\",\n",
      "  \"progress\": \"0\",\n",
      "  \"links\": [\n",
      "    {\n",
      "      \"href\": \"http://ades.demo.eoepca.org/bob/watchjob/processes/s-expression-0_0_2/jobs/3e8af1c4-a060-11ec-bb8a-8a8147a03f5b\",\n",
      "      \"rel\": \"self\",\n",
      "      \"type\": \"application/json\",\n",
      "      \"title\": \"get Status\"\n",
      "    }\n",
      "  ]\n",
      "}\n"
     ]
    }
   ],
   "source": [
    "# API Processes - Job Status\n",
    "response, ades_access_token, status = demo.proc_get_job_status(ades_base_url, job_location_path, id_token=user_id_token, access_token=ades_access_token)\n",
    "print(json.dumps(response.json(), indent = 2))"
   ]
  },
  {
   "cell_type": "code",
   "execution_count": 17,
   "id": "infinite-eleven",
   "metadata": {},
   "outputs": [
    {
     "name": "stdout",
     "output_type": "stream",
     "text": [
      "[Job Status] = 200 (OK) => 10/03/2022 10:53:06 - running\n",
      "[Job Status] = 200 (OK) => 10/03/2022 10:53:16 - running\n",
      "[Job Status] = 200 (OK) => 10/03/2022 10:53:27 - running\n",
      "[Job Status] = 200 (OK) => 10/03/2022 10:53:38 - running\n",
      "[Job Status] = 200 (OK) => 10/03/2022 10:53:49 - running\n",
      "[Job Status] = 200 (OK) => 10/03/2022 10:53:59 - running\n",
      "[Job Status] = 200 (OK) => 10/03/2022 10:54:10 - running\n",
      "[Job Status] = 200 (OK) => 10/03/2022 10:54:21 - running\n",
      "[Job Status] = 200 (OK) => 10/03/2022 10:54:32 - running\n",
      "[Job Status] = 200 (OK) => 10/03/2022 10:54:42 - running\n",
      "[Job Status] = 200 (OK) => 10/03/2022 10:54:53 - running\n",
      "[Job Status] = 200 (OK) => 10/03/2022 10:55:04 - running\n",
      "[Job Status] = 200 (OK) => 10/03/2022 10:55:15 - running\n",
      "[Job Status] = 200 (OK) => 10/03/2022 10:55:25 - running\n",
      "[Job Status] = 200 (OK) => 10/03/2022 10:55:36 - running\n",
      "[Job Status] = 200 (OK) => 10/03/2022 10:55:47 - running\n",
      "[Job Status] = 200 (OK) => 10/03/2022 10:55:58 - running\n",
      "[Job Status] = 200 (OK) => 10/03/2022 10:56:08 - running\n",
      "[Job Status] = 200 (OK) => 10/03/2022 10:56:19 - running\n",
      "[Job Status] = 200 (OK) => 10/03/2022 10:56:30 - running\n",
      "[Job Status] = 200 (OK) => 10/03/2022 10:56:41 - running\n",
      "[Job Status] = 200 (OK) => 10/03/2022 10:56:52 - running\n",
      "[Job Status] = 200 (OK) => 10/03/2022 10:57:02 - running\n",
      "[Job Status] = 200 (OK) => 10/03/2022 10:57:13 - running\n",
      "[Job Status] = 200 (OK) => 10/03/2022 10:57:24 - running\n",
      "[Job Status] = 200 (OK) => 10/03/2022 10:57:35 - running\n",
      "[Job Status] = 200 (OK) => 10/03/2022 10:57:45 - running\n",
      "[Job Status] = 200 (OK) => 10/03/2022 10:57:56 - running\n",
      "[Job Status] = 200 (OK) => 10/03/2022 10:58:07 - running\n",
      "[Job Status] = 200 (OK) => 10/03/2022 10:58:18 - running\n",
      "[Job Status] = 200 (OK) => 10/03/2022 10:58:28 - running\n",
      "[Job Status] = 200 (OK) => 10/03/2022 10:58:39 - running\n",
      "[Job Status] = 200 (OK) => 10/03/2022 10:58:50 - running\n",
      "[Job Status] = 200 (OK) => 10/03/2022 10:59:01 - running\n",
      "[Job Status] = 200 (OK) => 10/03/2022 10:59:12 - running\n",
      "[Job Status] = 200 (OK) => 10/03/2022 10:59:23 - running\n",
      "[Job Status] = 200 (OK) => 10/03/2022 10:59:33 - running\n",
      "[Job Status] = 200 (OK) => 10/03/2022 10:59:44 - running\n",
      "[Job Status] = 200 (OK) => 10/03/2022 10:59:55 - running\n",
      "[Job Status] = 200 (OK) => 10/03/2022 11:00:06 - running\n",
      "[Job Status] = 200 (OK) => 10/03/2022 11:00:17 - running\n",
      "[Job Status] = 200 (OK) => 10/03/2022 11:00:27 - running\n",
      "[Job Status] = 200 (OK) => 10/03/2022 11:00:38 - running\n",
      "[Job Status] = 200 (OK) => 10/03/2022 11:00:49 - running\n",
      "[Job Status] = 200 (OK) => 10/03/2022 11:01:00 - running\n",
      "[Job Status] = 200 (OK) => 10/03/2022 11:01:11 - running\n",
      "[Job Status] = 200 (OK) => 10/03/2022 11:01:21 - running\n",
      "[Job Status] = 200 (OK) => 10/03/2022 11:01:32 - running\n",
      "[Job Status] = 200 (OK) => 10/03/2022 11:01:43 - running\n",
      "[Job Status] = 200 (OK) => 10/03/2022 11:01:54 - running\n",
      "[Job Status] = 200 (OK) => 10/03/2022 11:02:05 - running\n",
      "[Job Status] = 200 (OK) => 10/03/2022 11:02:16 - running\n",
      "[Job Status] = 200 (OK) => 10/03/2022 11:02:26 - running\n",
      "[Job Status] = 200 (OK) => 10/03/2022 11:02:37 - running\n",
      "[Job Status] = 200 (OK) => 10/03/2022 11:02:48 - running\n",
      "[Job Status] = 200 (OK) => 10/03/2022 11:02:59 - running\n",
      "[Job Status] = 200 (OK) => 10/03/2022 11:03:09 - running\n",
      "[Job Status] = 200 (OK) => 10/03/2022 11:03:20 - running\n",
      "[Job Status] = 200 (OK) => 10/03/2022 11:03:31 - running\n",
      "[Job Status] = 200 (OK) => 10/03/2022 11:03:42 - running\n",
      "[Job Status] = 200 (OK) => 10/03/2022 11:03:53 - successful\n"
     ]
    }
   ],
   "source": [
    "# API Processes - Job Status (keep polling for completion)\n",
    "response, ades_access_token, status = demo.proc_poll_job_completion(ades_base_url, job_location_path, interval=10, id_token=user_id_token, access_token=ades_access_token)"
   ]
  },
  {
   "cell_type": "code",
   "execution_count": 18,
   "id": "steady-revolution",
   "metadata": {},
   "outputs": [
    {
     "name": "stdout",
     "output_type": "stream",
     "text": [
      "200 {'Server': 'nginx/1.19.1', 'Date': 'Thu, 10 Mar 2022 11:03:53 GMT', 'Content-Type': 'application/json;charset=UTF-8', 'Transfer-Encoding': 'chunked', 'Connection': 'keep-alive', 'Vary': 'Accept-Encoding', 'Strict-Transport-Security': 'max-age=15724800; includeSubDomains', 'Access-Control-Allow-Origin': '*', 'Access-Control-Allow-Credentials': 'true', 'Access-Control-Allow-Methods': 'GET, PUT, POST, DELETE, PATCH, OPTIONS', 'Access-Control-Allow-Headers': 'DNT,X-CustomHeader,Keep-Alive,User-Agent,X-Requested-With,If-Modified-Since,Cache-Control,Content-Type,Authorization', 'Set-Cookie': 'auth_rpt-ades=eyJraWQiOiJkYjVlMGM5Ni0yZGQwLTQyNjktYTA5OC02NWZkNzIyNjFjMGFfc2lnX3JzMjU2IiwidHlwIjoiSldUIiwiYWxnIjoiUlMyNTYifQ.eyJhdWQiOiI1MjhlNGI0OS0xZjZmLTRmZjctYmM2MS0zNmQwOGIwMGM2OWEiLCJwY3RfY2xhaW1zIjp7ImF1ZCI6IjBlNzgxNDdlLTg2ZmYtNDQ4Ny04MGFlLWUxMzA5ZjYxNzQwMiIsInN1YiI6ImYxMmMyNTkyLTAzMzItNDlmNC1hNGZiLTcwNjNiM2MyYTg4OSIsInVzZXJfbmFtZSI6ImJvYiIsImlzcyI6Imh0dHBzOi8vdGVzdC5kZW1vLmVvZXBjYS5vcmciLCJleHAiOjE2NDY5MTMwMTMsImlhdCI6MTY0NjkwOTQxMywib3hPcGVuSURDb25uZWN0VmVyc2lvbiI6Im9wZW5pZGNvbm5lY3QtMS4wIn0sInBlcm1pc3Npb25zIjpbeyJyZXNvdXJjZV9zY29wZXMiOlsicHJvdGVjdGVkX2dldCIsIm9wZW5pZCJdLCJyZXNvdXJjZV9pZCI6IjkxZjMyY2M5LWJhZDYtNGFkMC05MzYzLTUzOWU1NDdmNzJjOSIsImV4cCI6MTY0NjkxMzgzMiwicGFyYW1zIjpudWxsfV0sImlzcyI6Imh0dHBzOi8vdGVzdC5kZW1vLmVvZXBjYS5vcmciLCJleHAiOjE2NDY5MTM4MzMsImlhdCI6MTY0NjkxMDIzMywiY2xpZW50X2lkIjoiNTI4ZTRiNDktMWY2Zi00ZmY3LWJjNjEtMzZkMDhiMDBjNjlhIn0.ZcEKVIpvj8__odUkYjBLU5VBfsSPIhbWZCFfBaIomdJ4hrzpoMtFnd3Tu4i9T6nAGXZI4U8jZIA6Y91mT1Kqu-5ATcKh1iFFYvQU8xxxOVIV9PKkJXC_Dg2__RL9BQA634OecJxLTOt7B1NVA74u1PEhNchQuFPHvO-1iGWZMvu9unAWz3OaSRKwgmW6HeqCKtS7gPNsX87OHHeSuZmx7IZgdSnbxMLkhGDx_-G-w38WpwPIdGkmnxCsyd5cEbdsQ3FK9pKWHj0HCJFwImzbXJzD1q5VZWjbkBVkVUQh9jdNn617MDSSs2nA_g8_PlEvEp0QHEpQgrknTL4xlDUvQw;Path=/; Secure; HttpOnly; SameSite=Strict; Max-Age=300', 'Content-Encoding': 'gzip'} { \"jobID\": \"3e8af1c4-a060-11ec-bb8a-8a8147a03f5b\", \"started\": \"2022-03-10T10:52:56.824069Z\", \"finished\": \"2022-03-10T11:03:50.810415Z\", \"status\": \"successful\", \"message\": \"Done\", \"progress\": \"100\", \"links\": [ { \"href\": \"http:\\/\\/ades.demo.eoepca.org\\/bob\\/watchjob\\/processes\\/s-expression-0_0_2\\/jobs\\/3e8af1c4-a060-11ec-bb8a-8a8147a03f5b\", \"rel\": \"self\", \"type\": \"application\\/json\", \"title\": \"get Status\" } ] }\n"
     ]
    }
   ],
   "source": [
    "print(response.status_code, response.headers, response.text)"
   ]
  },
  {
   "cell_type": "markdown",
   "id": "suitable-construction",
   "metadata": {},
   "source": [
    "#### ADES: Job Result"
   ]
  },
  {
   "cell_type": "code",
   "execution_count": 19,
   "id": "elegant-remains",
   "metadata": {},
   "outputs": [
    {
     "name": "stdout",
     "output_type": "stream",
     "text": [
      "[Request] GET => http://ades.demo.eoepca.org/bob/watchjob/processes/s-expression-0_0_2/jobs/3e8af1c4-a060-11ec-bb8a-8a8147a03f5b/result\n",
      "[Job Result] = 200 (OK) => s3://ada6b03cde1846678c9ac78dfb4067c6:demo-user-bob/wf-3e8af1c4-a060-11ec-bb8a-8a8147a03f5b/catalog.json\n",
      "{\n",
      "  \"outputs\": [\n",
      "    {\n",
      "      \"id\": \"wf_outputs\",\n",
      "      \"time\": \"2022-03-10T11:03:50.811958Z\",\n",
      "      \"value\": {\n",
      "        \"inlineValue\": \"{\\\"StacCatalogUri\\\": \\\"s3://ada6b03cde1846678c9ac78dfb4067c6:demo-user-bob/wf-3e8af1c4-a060-11ec-bb8a-8a8147a03f5b/catalog.json\\\"}\"\n",
      "      }\n",
      "    }\n",
      "  ]\n",
      "}\n"
     ]
    }
   ],
   "source": [
    "# API Processes - Job Result\n",
    "response, ades_access_token, stacCatalogUri = demo.proc_get_job_result(ades_base_url, job_location_path, id_token=user_id_token, access_token=ades_access_token)\n",
    "print(json.dumps(response.json(), indent = 2))"
   ]
  },
  {
   "cell_type": "markdown",
   "id": "super-nutrition",
   "metadata": {},
   "source": [
    "#### ADES: List Jobs"
   ]
  },
  {
   "cell_type": "code",
   "execution_count": 20,
   "id": "temporal-drain",
   "metadata": {},
   "outputs": [
    {
     "name": "stdout",
     "output_type": "stream",
     "text": [
      "[Request] GET => http://ades.demo.eoepca.org/bob/wps3/processes/s-expression-0_0_2/jobs\n",
      "[Job List] = 200 (OK)\n",
      "Jobs: ['3e8af1c4-a060-11ec-bb8a-8a8147a03f5b']\n"
     ]
    }
   ],
   "source": [
    "# API Processes - List Jobs\n",
    "response, ades_access_token, job_ids = demo.proc_list_jobs(ades_proc_url, app_name, id_token=user_id_token, access_token=ades_access_token)\n",
    "print(\"Jobs:\", job_ids)"
   ]
  },
  {
   "cell_type": "markdown",
   "id": "ongoing-sleeve",
   "metadata": {},
   "source": [
    "#### ADES: Undeploy Application"
   ]
  },
  {
   "cell_type": "code",
   "execution_count": 21,
   "id": "sharing-closing",
   "metadata": {},
   "outputs": [
    {
     "name": "stdout",
     "output_type": "stream",
     "text": [
      "[Request] DELETE => http://ades.demo.eoepca.org/bob/wps3/processes/s-expression-0_0_2\n",
      "[Undeploy Response] = 200 (OK)\n"
     ]
    }
   ],
   "source": [
    "# API Processes - Undeploy Application\n",
    "response, ades_access_token = demo.proc_undeploy_application(ades_proc_url, app_name, id_token=user_id_token, access_token=ades_access_token)"
   ]
  },
  {
   "cell_type": "code",
   "execution_count": 22,
   "id": "variable-handy",
   "metadata": {
    "tags": []
   },
   "outputs": [
    {
     "name": "stdout",
     "output_type": "stream",
     "text": [
      "[Request] GET => http://ades.demo.eoepca.org/bob/wps3/processes\n",
      "[Process List] = 200 (OK)\n",
      "Processes: ['nhi-0_0_3', 'DeployProcess', 'GetStatus', 'burned-area-1_0', 'burned-area-0_5', 'snuggs-0_3_0', 'UndeployProcess']\n"
     ]
    }
   ],
   "source": [
    "# Check undeploy - list processes\n",
    "response, ades_access_token, process_ids = demo.proc_list_processes(ades_proc_url, id_token=user_id_token, access_token=ades_access_token)\n",
    "print(\"Processes:\", process_ids)"
   ]
  },
  {
   "cell_type": "markdown",
   "id": "controlled-mambo",
   "metadata": {},
   "source": [
    "## Workspace"
   ]
  },
  {
   "cell_type": "code",
   "execution_count": null,
   "id": "green-record",
   "metadata": {},
   "outputs": [],
   "source": [
    "workspace_url = \"https://workspace-api.\" + base_domain\n",
    "workspace_access_token = None"
   ]
  },
  {
   "cell_type": "markdown",
   "id": "terminal-missile",
   "metadata": {},
   "source": [
    "### Workspace: Get Details"
   ]
  },
  {
   "cell_type": "code",
   "execution_count": null,
   "id": "organizational-terror",
   "metadata": {},
   "outputs": [],
   "source": [
    "# Workspace - Get Details\n",
    "workspace_name = \"rm-user-\" + USER_NAME.lower()\n",
    "response, workspace_access_token = demo.workspace_get_details(workspace_url, workspace_name, id_token=user_id_token, access_token=workspace_access_token)\n",
    "workspace_details = response.json()\n",
    "print(json.dumps(workspace_details, indent = 2))"
   ]
  },
  {
   "cell_type": "markdown",
   "id": "seeing-deployment",
   "metadata": {},
   "source": [
    "### Inspect S3 Bucket"
   ]
  },
  {
   "cell_type": "code",
   "execution_count": null,
   "id": "republican-graph",
   "metadata": {},
   "outputs": [],
   "source": [
    "# Bucket details\n",
    "bucket_name = workspace_details[\"storage\"][\"credentials\"][\"bucketname\"]\n",
    "s3_access = workspace_details[\"storage\"][\"credentials\"][\"access\"]\n",
    "s3_secret = workspace_details[\"storage\"][\"credentials\"][\"secret\"]"
   ]
  },
  {
   "cell_type": "code",
   "execution_count": null,
   "id": "ancient-patent",
   "metadata": {},
   "outputs": [],
   "source": [
    "# Quick hack S3 access\n",
    "import boto3\n",
    "\n",
    "# Init S3 session for Creodias\n",
    "S3_ENDPOINT = \"https://cf2.cloudferro.com:8080\"\n",
    "session = boto3.session.Session()\n",
    "s3resource = session.resource('s3', aws_access_key_id=s3_access, aws_secret_access_key=s3_secret, endpoint_url=S3_ENDPOINT)\n",
    "\n",
    "# List bucket contents\n",
    "bucket = s3resource.Bucket(bucket_name)\n",
    "for obj in bucket.objects.all():\n",
    "    print(' ->', obj)"
   ]
  }
 ],
 "metadata": {
  "kernelspec": {
   "display_name": "Python 3",
   "language": "python",
   "name": "python3"
  },
  "language_info": {
   "codemirror_mode": {
    "name": "ipython",
    "version": 3
   },
   "file_extension": ".py",
   "mimetype": "text/x-python",
   "name": "python",
   "nbconvert_exporter": "python",
   "pygments_lexer": "ipython3",
   "version": "3.9.2"
  }
 },
 "nbformat": 4,
 "nbformat_minor": 5
}
