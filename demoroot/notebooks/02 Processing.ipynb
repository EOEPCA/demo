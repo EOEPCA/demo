{
 "cells": [
  {
   "cell_type": "markdown",
   "id": "conceptual-judges",
   "metadata": {},
   "source": [
    "# Processing\n",
    "Demonstration of Processing endpoints."
   ]
  },
  {
   "cell_type": "code",
   "execution_count": 4,
   "id": "manufactured-repair",
   "metadata": {},
   "outputs": [],
   "source": [
    "import utils.DemoClient as client\n",
    "import jwt\n",
    "import json\n",
    "from owslib.csw import CatalogueServiceWeb"
   ]
  },
  {
   "cell_type": "markdown",
   "id": "liable-reform",
   "metadata": {},
   "source": [
    "## Initialise"
   ]
  },
  {
   "cell_type": "markdown",
   "id": "experienced-yemen",
   "metadata": {},
   "source": [
    "### Client\n",
    "We instantiate a client to interact with the platform. The client dynamically registers with the Authorisation Server to take part in UMA (User Managed Access) flows through which authorization is obtained for scoped access resources on behalf of the user."
   ]
  },
  {
   "cell_type": "code",
   "execution_count": 6,
   "id": "fluid-plane",
   "metadata": {},
   "outputs": [
    {
     "name": "stdout",
     "output_type": "stream",
     "text": [
      "client_id: b5832c30-cb26-4d13-9803-4ebcb99d13e9\n",
      "Client state saved to file: state.json\n"
     ]
    }
   ],
   "source": [
    "#-------------------------------------------------------------------------------\n",
    "# Initialise client\n",
    "#-------------------------------------------------------------------------------\n",
    "base_domain = \"demo.eoepca.org\"\n",
    "platform_domain = \"test.\" + base_domain\n",
    "base_url = \"https://\" + platform_domain\n",
    "demo = client.DemoClient(base_url)\n",
    "demo.register_client()\n",
    "demo.save_state()"
   ]
  },
  {
   "cell_type": "markdown",
   "id": "written-somalia",
   "metadata": {},
   "source": [
    "### User\n",
    "User authenticates and the client receives an ID Token (JWT) that represents the user."
   ]
  },
  {
   "cell_type": "code",
   "execution_count": 7,
   "id": "formed-scope",
   "metadata": {
    "tags": []
   },
   "outputs": [
    {
     "name": "stdout",
     "output_type": "stream",
     "text": [
      "[Request] GET => https://test.demo.eoepca.org/.well-known/uma2-configuration\n",
      "<Response [200]>\n",
      "token_endpoint: https://test.demo.eoepca.org/oxauth/restv1/token\n",
      "[Request] POST => https://test.demo.eoepca.org/oxauth/restv1/token\n"
     ]
    }
   ],
   "source": [
    "#-------------------------------------------------------------------------------\n",
    "# Authenticate as UserA and get ID Token\n",
    "#-------------------------------------------------------------------------------\n",
    "USER_NAME=\"bob\"\n",
    "USER_PASSWORD=\"defaultPWD\"\n",
    "user_id_token = demo.get_id_token(USER_NAME, USER_PASSWORD)"
   ]
  },
  {
   "cell_type": "markdown",
   "id": "controlled-mambo",
   "metadata": {},
   "source": [
    "## Workspace"
   ]
  },
  {
   "cell_type": "code",
   "execution_count": null,
   "id": "green-record",
   "metadata": {},
   "outputs": [],
   "source": [
    "workspace_url = \"https://workspace-api.\" + base_domain\n",
    "workspace_access_token = None\n",
    "workspace_prefix = \"demo-user-\""
   ]
  },
  {
   "cell_type": "markdown",
   "id": "terminal-missile",
   "metadata": {
    "tags": []
   },
   "source": [
    "### Workspace: Get Details\n",
    "Retrieve access information to the user workspace S3 bucket (bucket name, access key and secret access key)"
   ]
  },
  {
   "cell_type": "code",
   "execution_count": null,
   "id": "organizational-terror",
   "metadata": {},
   "outputs": [],
   "source": [
    "# Workspace - Get Details\n",
    "workspace_name =  workspace_prefix + USER_NAME.lower()\n",
    "response, workspace_access_token = demo.workspace_get_details(workspace_url, workspace_name, id_token=user_id_token, access_token=workspace_access_token)\n",
    "workspace_details = response.json()\n",
    "print(json.dumps(workspace_details[\"storage\"], indent = 2))"
   ]
  },
  {
   "cell_type": "markdown",
   "id": "seeing-deployment",
   "metadata": {},
   "source": [
    "### Inspect User Workspace\n",
    "Using the access credentials, the user can inspect his S3 bucket."
   ]
  },
  {
   "cell_type": "code",
   "execution_count": null,
   "id": "republican-graph",
   "metadata": {},
   "outputs": [],
   "source": [
    "# Bucket details\n",
    "bucket_name = workspace_details[\"storage\"][\"credentials\"][\"bucketname\"]\n",
    "s3_access = workspace_details[\"storage\"][\"credentials\"][\"access\"]\n",
    "s3_secret = workspace_details[\"storage\"][\"credentials\"][\"secret\"]"
   ]
  },
  {
   "cell_type": "code",
   "execution_count": null,
   "id": "1193262a-4729-47da-9219-638f4b475434",
   "metadata": {},
   "outputs": [],
   "source": [
    "# Quick hack S3 access\n",
    "import boto3\n",
    "\n",
    "# Init S3 session for Creodias\n",
    "S3_ENDPOINT = \"https://cf2.cloudferro.com:8080\"\n",
    "session = boto3.session.Session()\n",
    "s3resource = session.resource('s3', aws_access_key_id=s3_access, aws_secret_access_key=s3_secret, endpoint_url=S3_ENDPOINT)\n",
    "\n",
    "# List bucket contents\n",
    "bucket = s3resource.Bucket(bucket_name)\n",
    "for obj in bucket.objects.all():\n",
    "    print(' ->', obj.key)"
   ]
  },
  {
   "cell_type": "markdown",
   "id": "794a6e41-2095-402f-8736-9159230b6cd1",
   "metadata": {},
   "source": [
    "### Upload Application Package and register it\n",
    "User uploads the application package to his workspace"
   ]
  },
  {
   "cell_type": "code",
   "execution_count": null,
   "id": "42f4eb91-7c57-4251-b606-f11e8194e669",
   "metadata": {},
   "outputs": [],
   "source": [
    "object = s3resource.Object(bucket_name, 'application-package/s-expression/s-expression-0_0_2.cwl')\n",
    "result = object.put(Body=open('../data/s-expression-cwl.cwl', 'rb'))\n",
    "res = result.get('ResponseMetadata')\n",
    "if res.get('HTTPStatusCode') == 200:\n",
    "    print('Application package uploaded successfully')\n",
    "else:\n",
    "    print('Application package not uploaded')"
   ]
  },
  {
   "cell_type": "markdown",
   "id": "0410339c-a727-4c9e-b631-70e8d2e13b91",
   "metadata": {},
   "source": [
    "User registers the Application Package through the Resource Catalog API"
   ]
  },
  {
   "cell_type": "code",
   "execution_count": null,
   "id": "522e71f7-7165-46ae-9422-061319b8b394",
   "metadata": {},
   "outputs": [],
   "source": [
    "resource_url= f'{bucket_name}/application-package/s-expression/s-expression-0_0_2.cwl'\n",
    "demo.workspace_register(workspace_url, workspace_name,resource_url, id_token=user_id_token, access_token=workspace_access_token)"
   ]
  },
  {
   "cell_type": "markdown",
   "id": "e6c02f3d-5851-4344-a971-93ee3899ddb3",
   "metadata": {},
   "source": [
    "User inspects the registered Application Package through the Resource Catalogue API"
   ]
  },
  {
   "cell_type": "code",
   "execution_count": null,
   "id": "4058d1e3-fbe8-4180-acb9-c05b74dcd6ff",
   "metadata": {},
   "outputs": [],
   "source": [
    "headers = {\n",
    "    'Authorization': 'Bearer ' + user_id_token\n",
    "}\n",
    "app_id= \"s-expression\"\n",
    "workspace_endpoint = f'https://resource-catalogue.{workspace_prefix}{USER_NAME.lower()}.{base_domain}/csw'\n",
    "print(f\"{USER_NAME}'s workspace (catalogue): {workspace_endpoint}\")\n",
    "csw = CatalogueServiceWeb(workspace_endpoint,timeout=30,headers=headers)\n",
    "csw.getrecords2(maxrecords=10)\n",
    "print(f\"{USER_NAME}'s workspace records:\\n\")\n",
    "for rec in csw.records:\n",
    "    print(f'identifier: {csw.records[rec].identifier}\\ntype: {csw.records[rec].type}\\ntitle: {csw.records[rec].title}\\n')\n",
    "print(f\"URL for Application {app_id}:\")\n",
    "csw.records[app_id].references"
   ]
  },
  {
   "cell_type": "markdown",
   "id": "swiss-librarian",
   "metadata": {},
   "source": [
    "## ADES\n",
    "The ADES provides user-specific endpoints, using a URL path prefix."
   ]
  },
  {
   "cell_type": "code",
   "execution_count": 8,
   "id": "distinguished-particle",
   "metadata": {},
   "outputs": [
    {
     "name": "stdout",
     "output_type": "stream",
     "text": [
      "ADES WPS endpoint: http://ades.demo.eoepca.org/bob/zoo\n",
      "ADES API Processes endpoint: http://ades.demo.eoepca.org/bob/wps3\n"
     ]
    }
   ],
   "source": [
    "# ADES URLs\n",
    "ades_base_url = \"http://ades.\" + base_domain\n",
    "ades_wps_url = ades_base_url + \"/\" + USER_NAME + \"/zoo\"; print(\"ADES WPS endpoint:\", ades_wps_url)\n",
    "ades_proc_url = ades_base_url + \"/\" + USER_NAME + \"/wps3\"; print(\"ADES API Processes endpoint:\", ades_proc_url)"
   ]
  },
  {
   "cell_type": "markdown",
   "id": "different-studio",
   "metadata": {},
   "source": [
    "### ADES API Processes"
   ]
  },
  {
   "cell_type": "code",
   "execution_count": 9,
   "id": "architectural-college",
   "metadata": {},
   "outputs": [],
   "source": [
    "ades_access_token = None\n",
    "app_name = \"s-expression-0_0_2\""
   ]
  },
  {
   "cell_type": "markdown",
   "id": "framed-russell",
   "metadata": {},
   "source": [
    "#### ADES: List Processes\n",
    "**GET {service_url}/processes**<br>\n",
    "Provides a list of all processes "
   ]
  },
  {
   "cell_type": "code",
   "execution_count": 10,
   "id": "progressive-experiment",
   "metadata": {},
   "outputs": [
    {
     "name": "stdout",
     "output_type": "stream",
     "text": [
      "[Request] GET => http://ades.demo.eoepca.org/bob/wps3/processes\n",
      "[Process List] = 200 (OK)\n",
      "Processes: ['DeployProcess', 'GetStatus', 'UndeployProcess', 's-expression-0_0_2']\n"
     ]
    }
   ],
   "source": [
    "# API Processes - List Processes\n",
    "response, ades_access_token, process_ids = demo.proc_list_processes(ades_proc_url, id_token=user_id_token, access_token=ades_access_token)\n",
    "print(\"Processes:\", process_ids)"
   ]
  },
  {
   "cell_type": "markdown",
   "id": "aggregate-scratch",
   "metadata": {},
   "source": [
    "#### ADES: Deploy Application\n",
    "**POST {service_url}/processes**<br>\n",
    "Deploys application to the ADES.<br>\n",
    "Request body is json in which the input is the Application Package describing the application.<br>\n",
    "The Application Package is a CWL Workflow that is typically provided as an href with content type **_application/atom+xml_** or **_application/cwl_**. The url to the application package can be either a http or s3 endpoint. In this example we will use the application package previously uploaded to Bob's workspace."
   ]
  },
  {
   "cell_type": "code",
   "execution_count": null,
   "id": "legal-thunder",
   "metadata": {},
   "outputs": [],
   "source": [
    "# API Processes - Deploy Application\n",
    "#response, ades_access_token = demo.proc_deploy_application(ades_proc_url, \"../data/app-deploy-body-atom.json\", id_token=user_id_token, access_token=ades_access_token)\n",
    "\n",
    "response, access_token = demo.proc_deploy_application(ades_proc_url, \"../data/app-deploy-body-cwl-S3.json\", id_token=user_id_token, access_token=ades_access_token)"
   ]
  },
  {
   "cell_type": "markdown",
   "id": "713d73c3-4e3b-498c-b6fa-ec0246fd0ac1",
   "metadata": {},
   "source": [
    "Check that the application has been correctly deployed"
   ]
  },
  {
   "cell_type": "code",
   "execution_count": null,
   "id": "suffering-message",
   "metadata": {
    "tags": []
   },
   "outputs": [],
   "source": [
    "# Check deploy - list processes again\n",
    "response, ades_access_token, process_ids = demo.proc_list_processes(ades_proc_url, id_token=user_id_token, access_token=ades_access_token)\n",
    "print(\"Processes:\", process_ids)"
   ]
  },
  {
   "cell_type": "markdown",
   "id": "intimate-douglas",
   "metadata": {},
   "source": [
    "#### ADES: Get Application Details\n",
    "**GET {service_url}/processes/{application_name}**<br>\n",
    "Provides details of the deployed application<br>\n",
    "The response includes the API Processes json application description."
   ]
  },
  {
   "cell_type": "code",
   "execution_count": null,
   "id": "surgical-cleveland",
   "metadata": {},
   "outputs": [],
   "source": [
    "# API Processes - Get Application Details\n",
    "response, ades_access_token = demo.proc_get_app_details(ades_proc_url, app_name, id_token=user_id_token, access_token=ades_access_token)\n",
    "print(json.dumps(response.json(), indent = 2))"
   ]
  },
  {
   "cell_type": "markdown",
   "id": "fourth-decline",
   "metadata": {},
   "source": [
    "#### ADES: Execute Application\n",
    "\n",
    "**POST {service_url}/processes/{application_name}/jobs**<br>\n",
    "Request body is json as defined by API Processes to define the inputs and outputs, consistent with the CWL Workflow application package.<br>\n",
    "The response returns **201 CREATED** to indicate that the job has been successfully initiated.<br>\n",
    "The response **Location header** provides the path (/processes/{application_name}/jobs/{job_id}) to follow the job status."
   ]
  },
  {
   "cell_type": "code",
   "execution_count": null,
   "id": "existing-soccer",
   "metadata": {},
   "outputs": [],
   "source": [
    "# API Processes - Execute Application\n",
    "response, ades_access_token, job_location_path = demo.proc_execute_application(ades_proc_url, app_name, \"../data/app-execute-body.json\", id_token=user_id_token, access_token=ades_access_token)"
   ]
  },
  {
   "cell_type": "markdown",
   "id": "frozen-while",
   "metadata": {},
   "source": [
    "#### ADES: Job Status\n",
    "\n",
    "**GET {service_url}/watchjob/processes/{application_name}/jobs/{job_id}**<br>\n",
    "Checks the status of the previously submitted job - using the URL returned in the Location header of the execute request.<br>\n",
    "The response body json provides a status string (success/running/failed) and a % progress.<br>\n",
    "In the case of a failure then a descriptive message is provided."
   ]
  },
  {
   "cell_type": "code",
   "execution_count": null,
   "id": "amateur-technique",
   "metadata": {},
   "outputs": [],
   "source": [
    "# API Processes - Job Status\n",
    "response, ades_access_token, status = demo.proc_get_job_status(ades_base_url, job_location_path, id_token=user_id_token, access_token=ades_access_token)\n",
    "print(json.dumps(response.json(), indent = 2))"
   ]
  },
  {
   "cell_type": "code",
   "execution_count": null,
   "id": "infinite-eleven",
   "metadata": {},
   "outputs": [],
   "source": [
    "# API Processes - Job Status (keep polling for completion)\n",
    "response, ades_access_token, status = demo.proc_poll_job_completion(ades_base_url, job_location_path, interval=10, id_token=user_id_token, access_token=ades_access_token)"
   ]
  },
  {
   "cell_type": "code",
   "execution_count": null,
   "id": "steady-revolution",
   "metadata": {},
   "outputs": [],
   "source": [
    "print(response.status_code, response.headers, response.text)"
   ]
  },
  {
   "cell_type": "markdown",
   "id": "suitable-construction",
   "metadata": {},
   "source": [
    "#### ADES: Job Result\n",
    "**GET {service_url}/watchjob/processes/{application_name}/jobs/{job_id}/result**<br>\n",
    "Returns details of the outputs for a successful job execution.<br>\n",
    "The response body provides json data that includes the reference to the STAC file that indexes the processing outputs."
   ]
  },
  {
   "cell_type": "code",
   "execution_count": null,
   "id": "elegant-remains",
   "metadata": {
    "tags": []
   },
   "outputs": [],
   "source": [
    "# API Processes - Job Result\n",
    "response, ades_access_token, stacCatalogUri = demo.proc_get_job_result(ades_base_url, job_location_path, id_token=user_id_token, access_token=ades_access_token)\n",
    "print(json.dumps(response.json(), indent = 2))"
   ]
  },
  {
   "cell_type": "markdown",
   "id": "db6fedd7-0c27-4285-956a-221068ecf502",
   "metadata": {},
   "source": [
    "From the S3 url let's retrieve the folder in the bucket where the result files are stored."
   ]
  },
  {
   "cell_type": "code",
   "execution_count": null,
   "id": "8f81f8d4-ead8-4bf4-b4d8-3333a30e2b34",
   "metadata": {},
   "outputs": [],
   "source": [
    "result = json.loads(response.json()[\"outputs\"][0][\"value\"][\"inlineValue\"])[\"StacCatalogUri\"]\n",
    "print(f\"Result Url: {result}\")\n",
    "result_folder_name = result.rsplit('/', 1)[0].rsplit(':', 1)[1].replace(bucket_name+\"/\",\"\")\n",
    "print(f\"Result foldername: {result_folder_name}\")"
   ]
  },
  {
   "cell_type": "markdown",
   "id": "super-nutrition",
   "metadata": {
    "tags": []
   },
   "source": [
    "#### ADES: List Jobs"
   ]
  },
  {
   "cell_type": "code",
   "execution_count": null,
   "id": "temporal-drain",
   "metadata": {},
   "outputs": [],
   "source": [
    "# API Processes - List Jobs\n",
    "response, ades_access_token, job_ids = demo.proc_list_jobs(ades_proc_url, app_name, id_token=user_id_token, access_token=ades_access_token)\n",
    "print(\"Jobs:\", job_ids)"
   ]
  },
  {
   "cell_type": "markdown",
   "id": "ongoing-sleeve",
   "metadata": {},
   "source": [
    "#### ADES: Undeploy Application\n",
    "**DELETE {service_url}/processes/{application_name}**<br>\n",
    "Undeploys application from the ADES"
   ]
  },
  {
   "cell_type": "code",
   "execution_count": null,
   "id": "sharing-closing",
   "metadata": {},
   "outputs": [],
   "source": [
    "# API Processes - Undeploy Application\n",
    "response, ades_access_token = demo.proc_undeploy_application(ades_proc_url, app_name, id_token=user_id_token, access_token=ades_access_token)"
   ]
  },
  {
   "cell_type": "code",
   "execution_count": null,
   "id": "variable-handy",
   "metadata": {
    "tags": []
   },
   "outputs": [],
   "source": [
    "# Check undeploy - list processes\n",
    "response, ades_access_token, process_ids = demo.proc_list_processes(ades_proc_url, id_token=user_id_token, access_token=ades_access_token)\n",
    "print(\"Processes:\", process_ids)"
   ]
  },
  {
   "cell_type": "markdown",
   "id": "75b90d16-9029-480c-bd44-df12056ea691",
   "metadata": {},
   "source": [
    "#### Workspace: Inspect results\n",
    "Let's inspect the result files in the user S3 bucket."
   ]
  },
  {
   "cell_type": "code",
   "execution_count": null,
   "id": "ancient-patent",
   "metadata": {},
   "outputs": [],
   "source": [
    "# Quick hack S3 access\n",
    "import boto3\n",
    "\n",
    "# Init S3 session for Creodias\n",
    "S3_ENDPOINT = \"https://cf2.cloudferro.com:8080\"\n",
    "session = boto3.session.Session()\n",
    "s3resource = session.resource('s3', aws_access_key_id=s3_access, aws_secret_access_key=s3_secret, endpoint_url=S3_ENDPOINT)\n",
    "\n",
    "# List bucket contents\n",
    "bucket = s3resource.Bucket(bucket_name)\n",
    "for obj in bucket.objects.filter(Prefix=result_folder_name):\n",
    "    print(' ->', obj.key)"
   ]
  },
  {
   "cell_type": "code",
   "execution_count": null,
   "id": "6106fda5-d031-4826-ad6f-c4c50cf47003",
   "metadata": {},
   "outputs": [],
   "source": []
  }
 ],
 "metadata": {
  "kernelspec": {
   "display_name": "Python 3",
   "language": "python",
   "name": "python3"
  },
  "language_info": {
   "codemirror_mode": {
    "name": "ipython",
    "version": 3
   },
   "file_extension": ".py",
   "mimetype": "text/x-python",
   "name": "python",
   "nbconvert_exporter": "python",
   "pygments_lexer": "ipython3",
   "version": "3.9.2"
  }
 },
 "nbformat": 4,
 "nbformat_minor": 5
}
