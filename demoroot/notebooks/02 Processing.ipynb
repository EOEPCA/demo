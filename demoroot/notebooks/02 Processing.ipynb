{
 "cells": [
  {
   "cell_type": "markdown",
   "id": "conceptual-judges",
   "metadata": {},
   "source": [
    "# Processing\n",
    "Demonstration of Processing endpoints."
   ]
  },
  {
   "cell_type": "code",
   "execution_count": 1,
   "id": "manufactured-repair",
   "metadata": {},
   "outputs": [],
   "source": [
    "import utils.DemoClient as client\n",
    "import jwt\n",
    "import json"
   ]
  },
  {
   "cell_type": "markdown",
   "id": "liable-reform",
   "metadata": {},
   "source": [
    "## Initialise"
   ]
  },
  {
   "cell_type": "markdown",
   "id": "experienced-yemen",
   "metadata": {},
   "source": [
    "### Client\n",
    "We instantiate a client to interact with the platform. The client dynamically registers with the Authorisation Server to take part in UMA (User Managed Access) flows through which authorization is obtained for scoped access resources on behalf of the user."
   ]
  },
  {
   "cell_type": "code",
   "execution_count": 2,
   "id": "fluid-plane",
   "metadata": {},
   "outputs": [
    {
     "name": "stdout",
     "output_type": "stream",
     "text": [
      "State loaded from file: {'client_id': '8a0824ec-1e66-40b0-9c8d-1a1117dc00ab', 'client_secret': 'd1d01299-6703-4104-90f0-d9097aefdb3f'}\n",
      "client_id: 8a0824ec-1e66-40b0-9c8d-1a1117dc00ab [REUSED]\n",
      "Client state saved to file: state.json\n"
     ]
    }
   ],
   "source": [
    "#-------------------------------------------------------------------------------\n",
    "# Initialise client\n",
    "#-------------------------------------------------------------------------------\n",
    "base_domain = \"demo.eoepca.org\"\n",
    "platform_domain = \"test.\" + base_domain\n",
    "base_url = \"https://\" + platform_domain\n",
    "demo = client.DemoClient(base_url)\n",
    "demo.register_client()\n",
    "demo.save_state()"
   ]
  },
  {
   "cell_type": "markdown",
   "id": "written-somalia",
   "metadata": {},
   "source": [
    "### User\n",
    "User authenticates and the client receives an ID Token (JWT) that represents the user."
   ]
  },
  {
   "cell_type": "code",
   "execution_count": 3,
   "id": "formed-scope",
   "metadata": {
    "tags": []
   },
   "outputs": [
    {
     "name": "stdout",
     "output_type": "stream",
     "text": [
      "[Request] GET => https://test.demo.eoepca.org/.well-known/uma2-configuration\n",
      "<Response [200]>\n",
      "token_endpoint: https://test.demo.eoepca.org/oxauth/restv1/token\n",
      "[Request] POST => https://test.demo.eoepca.org/oxauth/restv1/token\n"
     ]
    }
   ],
   "source": [
    "#-------------------------------------------------------------------------------\n",
    "# Authenticate as UserA and get ID Token\n",
    "#-------------------------------------------------------------------------------\n",
    "USER_NAME=\"bob\"\n",
    "USER_PASSWORD=\"defaultPWD\"\n",
    "user_id_token = demo.get_id_token(USER_NAME, USER_PASSWORD)"
   ]
  },
  {
   "cell_type": "markdown",
   "id": "swiss-librarian",
   "metadata": {},
   "source": [
    "## ADES\n",
    "The ADES provides user-specific endpoints, using a URL path prefix."
   ]
  },
  {
   "cell_type": "code",
   "execution_count": 4,
   "id": "distinguished-particle",
   "metadata": {},
   "outputs": [
    {
     "name": "stdout",
     "output_type": "stream",
     "text": [
      "ADES WPS endpoint: http://ades.test.demo.eoepca.org/bob/zoo\n",
      "ADES API Processes endpoint: http://ades.test.demo.eoepca.org/bob/wps3\n"
     ]
    }
   ],
   "source": [
    "# ADES URLs\n",
    "ades_base_url = \"http://ades.\" + platform_domain\n",
    "ades_wps_url = ades_base_url + \"/\" + USER_NAME + \"/zoo\"; print(\"ADES WPS endpoint:\", ades_wps_url)\n",
    "ades_proc_url = ades_base_url + \"/\" + USER_NAME + \"/wps3\"; print(\"ADES API Processes endpoint:\", ades_proc_url)"
   ]
  },
  {
   "cell_type": "markdown",
   "id": "different-studio",
   "metadata": {},
   "source": [
    "### ADES API Processes"
   ]
  },
  {
   "cell_type": "code",
   "execution_count": 5,
   "id": "architectural-college",
   "metadata": {},
   "outputs": [],
   "source": [
    "ades_access_token = None\n",
    "app_name = \"s-expression-0_0_2\""
   ]
  },
  {
   "cell_type": "markdown",
   "id": "framed-russell",
   "metadata": {},
   "source": [
    "#### ADES: List Processes"
   ]
  },
  {
   "cell_type": "code",
   "execution_count": 6,
   "id": "progressive-experiment",
   "metadata": {},
   "outputs": [
    {
     "name": "stdout",
     "output_type": "stream",
     "text": [
      "[Request] GET => http://ades.test.demo.eoepca.org/bob/wps3/processes\n",
      "[Request] POST => https://test.demo.eoepca.org/oxauth/restv1/token\n",
      "[Request] GET => http://ades.test.demo.eoepca.org/bob/wps3/processes\n",
      "[Process List] = 200 (OK)\n",
      "Processes: ['DeployProcess', 'GetStatus', 'UndeployProcess', 's-expression-0_0_2']\n"
     ]
    }
   ],
   "source": [
    "# API Processes - List Processes\n",
    "response, ades_access_token, process_ids = demo.proc_list_processes(ades_proc_url, id_token=user_id_token, access_token=ades_access_token)\n",
    "print(\"Processes:\", process_ids)"
   ]
  },
  {
   "cell_type": "markdown",
   "id": "aggregate-scratch",
   "metadata": {},
   "source": [
    "#### ADES: Deploy Application"
   ]
  },
  {
   "cell_type": "code",
   "execution_count": 9,
   "id": "legal-thunder",
   "metadata": {},
   "outputs": [
    {
     "name": "stdout",
     "output_type": "stream",
     "text": [
      "Application details read from file: ../data/app-deploy-body-cwl-S3.json\n",
      "[Request] POST => http://ades.test.demo.eoepca.org/bob/wps3/processes\n",
      "[Request] POST => https://test.demo.eoepca.org/oxauth/restv1/token\n",
      "[Request] POST => http://ades.test.demo.eoepca.org/bob/wps3/processes\n",
      "[Deploy Response] = 201 (CREATED)\n"
     ]
    }
   ],
   "source": [
    "# API Processes - Deploy Application\n",
    "#response, ades_access_token = demo.proc_deploy_application(ades_proc_url, \"../data/app-deploy-body-atom.json\", id_token=user_id_token, access_token=ades_access_token)\n",
    "\n",
    "response, access_token = demo.proc_deploy_application(ades_proc_url, \"../data/app-deploy-body-cwl-S3.json\", id_token=user_id_token, access_token=ades_access_token)\n"
   ]
  },
  {
   "cell_type": "code",
   "execution_count": 10,
   "id": "suffering-message",
   "metadata": {
    "tags": []
   },
   "outputs": [
    {
     "name": "stdout",
     "output_type": "stream",
     "text": [
      "[Request] GET => http://ades.test.demo.eoepca.org/bob/wps3/processes\n",
      "[Request] POST => https://test.demo.eoepca.org/oxauth/restv1/token\n",
      "[Request] GET => http://ades.test.demo.eoepca.org/bob/wps3/processes\n",
      "[Process List] = 200 (OK)\n",
      "Processes: ['DeployProcess', 'GetStatus', 'UndeployProcess', 's-expression-0_0_2']\n"
     ]
    }
   ],
   "source": [
    "# Check deploy - list processes again\n",
    "response, ades_access_token, process_ids = demo.proc_list_processes(ades_proc_url, id_token=user_id_token, access_token=ades_access_token)\n",
    "print(\"Processes:\", process_ids)"
   ]
  },
  {
   "cell_type": "markdown",
   "id": "intimate-douglas",
   "metadata": {},
   "source": [
    "#### ADES: Get Application Details"
   ]
  },
  {
   "cell_type": "code",
   "execution_count": 11,
   "id": "surgical-cleveland",
   "metadata": {},
   "outputs": [
    {
     "name": "stdout",
     "output_type": "stream",
     "text": [
      "[Request] GET => http://ades.test.demo.eoepca.org/bob/wps3/processes/s-expression-0_0_2\n",
      "[Request] POST => https://test.demo.eoepca.org/oxauth/restv1/token\n",
      "[Request] GET => http://ades.test.demo.eoepca.org/bob/wps3/processes/s-expression-0_0_2\n",
      "[App Details] = 200 (OK)\n",
      "{\n",
      "  \"process\": {\n",
      "    \"id\": \"s-expression-0_0_2\",\n",
      "    \"title\": \"s expressions\",\n",
      "    \"abstract\": \"Applies s expressions to EO acquisitions\",\n",
      "    \"version\": \"0.0.2\",\n",
      "    \"jobControlOptions\": [\n",
      "      \"sync-execute\",\n",
      "      \"async-execute\",\n",
      "      \"dismiss\"\n",
      "    ],\n",
      "    \"outputTransmission\": [\n",
      "      \"value\",\n",
      "      \"reference\"\n",
      "    ],\n",
      "    \"links\": [\n",
      "      {\n",
      "        \"rel\": \"canonical\",\n",
      "        \"type\": \"application/json\",\n",
      "        \"title\": \"Execute End Point\",\n",
      "        \"href\": \"/watchjob/processes/s-expression-0_0_2/jobs/\"\n",
      "      }\n",
      "    ],\n",
      "    \"inputs\": [\n",
      "      {\n",
      "        \"id\": \"input_reference\",\n",
      "        \"title\": \"Input product reference\",\n",
      "        \"abstract\": \"Input product reference\",\n",
      "        \"minOccurs\": \"1\",\n",
      "        \"maxOccurs\": \"1\",\n",
      "        \"input\": {\n",
      "          \"literalDataDomains\": [\n",
      "            {\n",
      "              \"dataType\": {\n",
      "                \"name\": \"string\"\n",
      "              },\n",
      "              \"valueDefinition\": {\n",
      "                \"anyValue\": true\n",
      "              }\n",
      "            }\n",
      "          ]\n",
      "        }\n",
      "      },\n",
      "      {\n",
      "        \"id\": \"s_expression\",\n",
      "        \"title\": \"s expression\",\n",
      "        \"abstract\": \"s expression\",\n",
      "        \"minOccurs\": \"1\",\n",
      "        \"maxOccurs\": \"1\",\n",
      "        \"input\": {\n",
      "          \"literalDataDomains\": [\n",
      "            {\n",
      "              \"dataType\": {\n",
      "                \"name\": \"string\"\n",
      "              },\n",
      "              \"valueDefinition\": {\n",
      "                \"anyValue\": true\n",
      "              }\n",
      "            }\n",
      "          ]\n",
      "        }\n",
      "      },\n",
      "      {\n",
      "        \"id\": \"cbn\",\n",
      "        \"title\": \"Common band name\",\n",
      "        \"abstract\": \"Common band name\",\n",
      "        \"minOccurs\": \"1\",\n",
      "        \"maxOccurs\": \"1\",\n",
      "        \"input\": {\n",
      "          \"literalDataDomains\": [\n",
      "            {\n",
      "              \"dataType\": {\n",
      "                \"name\": \"string\"\n",
      "              },\n",
      "              \"valueDefinition\": {\n",
      "                \"anyValue\": true\n",
      "              }\n",
      "            }\n",
      "          ]\n",
      "        }\n",
      "      }\n",
      "    ],\n",
      "    \"outputs\": [\n",
      "      {\n",
      "        \"id\": \"wf_outputs\",\n",
      "        \"title\": \"wf_outputs\",\n",
      "        \"output\": {\n",
      "          \"formats\": [\n",
      "            {\n",
      "              \"default\": true,\n",
      "              \"mimeType\": \"application/json\"\n",
      "            }\n",
      "          ]\n",
      "        }\n",
      "      }\n",
      "    ]\n",
      "  }\n",
      "}\n"
     ]
    }
   ],
   "source": [
    "# API Processes - Get Application Details\n",
    "response, ades_access_token = demo.proc_get_app_details(ades_proc_url, app_name, id_token=user_id_token, access_token=ades_access_token)\n",
    "print(json.dumps(response.json(), indent = 2))"
   ]
  },
  {
   "cell_type": "markdown",
   "id": "fourth-decline",
   "metadata": {},
   "source": [
    "#### ADES: Execute Application"
   ]
  },
  {
   "cell_type": "code",
   "execution_count": 12,
   "id": "existing-soccer",
   "metadata": {},
   "outputs": [
    {
     "name": "stdout",
     "output_type": "stream",
     "text": [
      "Application execute details read from file: ../data/app-execute-body.json\n",
      "[Request] POST => http://ades.test.demo.eoepca.org/bob/wps3/processes/s-expression-0_0_2/jobs\n",
      "[Request] POST => https://test.demo.eoepca.org/oxauth/restv1/token\n",
      "[Request] POST => http://ades.test.demo.eoepca.org/bob/wps3/processes/s-expression-0_0_2/jobs\n",
      "[Execute Response] = 201 (CREATED) => job=/bob/watchjob/processes/s-expression-0_0_2/jobs/978bf9da-19f6-11ec-b5f4-a2908378fdc5\n"
     ]
    }
   ],
   "source": [
    "# API Processes - Execute Application\n",
    "response, ades_access_token, job_location_path = demo.proc_execute_application(ades_proc_url, app_name, \"../data/app-execute-body.json\", id_token=user_id_token, access_token=ades_access_token)"
   ]
  },
  {
   "cell_type": "markdown",
   "id": "frozen-while",
   "metadata": {},
   "source": [
    "#### ADES: Job Status"
   ]
  },
  {
   "cell_type": "code",
   "execution_count": 13,
   "id": "amateur-technique",
   "metadata": {},
   "outputs": [
    {
     "name": "stdout",
     "output_type": "stream",
     "text": [
      "[Request] GET => http://ades.test.demo.eoepca.org/bob/watchjob/processes/s-expression-0_0_2/jobs/978bf9da-19f6-11ec-b5f4-a2908378fdc5\n",
      "[Request] POST => https://test.demo.eoepca.org/oxauth/restv1/token\n",
      "[Request] GET => http://ades.test.demo.eoepca.org/bob/watchjob/processes/s-expression-0_0_2/jobs/978bf9da-19f6-11ec-b5f4-a2908378fdc5\n",
      "[Job Status] = 200 (OK) => 20/09/2021 09:39:09 - running\n",
      "{\n",
      "  \"jobID\": \"978bf9da-19f6-11ec-b5f4-a2908378fdc5\",\n",
      "  \"started\": \"2021-09-20T09:39:03.682516Z\",\n",
      "  \"status\": \"running\",\n",
      "  \"message\": \"running\",\n",
      "  \"progress\": \"0\",\n",
      "  \"links\": [\n",
      "    {\n",
      "      \"href\": \"http://ades.test.demo.eoepca.org//bob/watchjob/processes/s-expression-0_0_2/jobs/978bf9da-19f6-11ec-b5f4-a2908378fdc5\",\n",
      "      \"rel\": \"self\",\n",
      "      \"type\": \"application/json\",\n",
      "      \"title\": \"get Status\"\n",
      "    }\n",
      "  ]\n",
      "}\n"
     ]
    }
   ],
   "source": [
    "# API Processes - Job Status\n",
    "response, ades_access_token, status = demo.proc_get_job_status(ades_base_url, job_location_path, id_token=user_id_token, access_token=ades_access_token)\n",
    "print(json.dumps(response.json(), indent = 2))"
   ]
  },
  {
   "cell_type": "code",
   "execution_count": 14,
   "id": "infinite-eleven",
   "metadata": {},
   "outputs": [
    {
     "name": "stdout",
     "output_type": "stream",
     "text": [
      "[Job Status] = 200 (OK) => 20/09/2021 09:39:13 - running\n",
      "[Job Status] = 200 (OK) => 20/09/2021 09:39:25 - running\n",
      "[Job Status] = 200 (OK) => 20/09/2021 09:39:51 - running\n",
      "[Job Status] = 200 (OK) => 20/09/2021 09:40:02 - running\n",
      "[Job Status] = 200 (OK) => 20/09/2021 09:40:13 - running\n",
      "[Job Status] = 200 (OK) => 20/09/2021 09:40:25 - running\n",
      "[Job Status] = 200 (OK) => 20/09/2021 09:40:36 - running\n",
      "[Job Status] = 200 (OK) => 20/09/2021 09:40:48 - running\n",
      "[Job Status] = 200 (OK) => 20/09/2021 09:40:59 - running\n",
      "[Job Status] = 200 (OK) => 20/09/2021 09:41:10 - running\n",
      "[Job Status] = 200 (OK) => 20/09/2021 09:41:22 - running\n",
      "[Job Status] = 200 (OK) => 20/09/2021 09:41:33 - running\n",
      "[Job Status] = 200 (OK) => 20/09/2021 09:41:44 - running\n",
      "[Job Status] = 200 (OK) => 20/09/2021 09:41:57 - running\n",
      "[Job Status] = 200 (OK) => 20/09/2021 09:42:08 - running\n",
      "[Job Status] = 200 (OK) => 20/09/2021 09:42:19 - running\n",
      "[Job Status] = 200 (OK) => 20/09/2021 09:42:30 - running\n",
      "[Job Status] = 200 (OK) => 20/09/2021 09:42:41 - running\n",
      "[Job Status] = 200 (OK) => 20/09/2021 09:42:53 - running\n",
      "[Job Status] = 200 (OK) => 20/09/2021 09:43:04 - running\n",
      "[Job Status] = 200 (OK) => 20/09/2021 09:43:15 - running\n",
      "[Job Status] = 200 (OK) => 20/09/2021 09:43:26 - running\n",
      "[Job Status] = 200 (OK) => 20/09/2021 09:43:38 - running\n",
      "[Job Status] = 200 (OK) => 20/09/2021 09:43:49 - running\n",
      "[Job Status] = 200 (OK) => 20/09/2021 09:44:00 - running\n",
      "[Job Status] = 200 (OK) => 20/09/2021 09:44:12 - running\n",
      "[Job Status] = 200 (OK) => 20/09/2021 09:44:23 - running\n",
      "[Job Status] = 200 (OK) => 20/09/2021 09:44:34 - running\n",
      "[Job Status] = 200 (OK) => 20/09/2021 09:44:45 - running\n",
      "[Job Status] = 200 (OK) => 20/09/2021 09:44:56 - running\n",
      "[Job Status] = 200 (OK) => 20/09/2021 09:45:07 - running\n",
      "[Job Status] = 200 (OK) => 20/09/2021 09:45:19 - running\n",
      "[Job Status] = 200 (OK) => 20/09/2021 09:45:30 - running\n",
      "[Job Status] = 200 (OK) => 20/09/2021 09:45:41 - running\n",
      "[Job Status] = 200 (OK) => 20/09/2021 09:45:52 - running\n",
      "[Job Status] = 200 (OK) => 20/09/2021 09:46:03 - running\n",
      "[Job Status] = 200 (OK) => 20/09/2021 09:46:14 - running\n",
      "[Job Status] = 200 (OK) => 20/09/2021 09:46:26 - running\n",
      "[Job Status] = 200 (OK) => 20/09/2021 09:46:37 - running\n",
      "[Job Status] = 200 (OK) => 20/09/2021 09:46:48 - running\n",
      "[Job Status] = 200 (OK) => 20/09/2021 09:46:59 - running\n",
      "[Job Status] = 200 (OK) => 20/09/2021 09:47:10 - running\n",
      "[Job Status] = 200 (OK) => 20/09/2021 09:47:21 - running\n",
      "[Job Status] = 200 (OK) => 20/09/2021 09:47:32 - running\n",
      "[Job Status] = 200 (OK) => 20/09/2021 09:47:44 - running\n",
      "[Job Status] = 200 (OK) => 20/09/2021 09:47:55 - running\n",
      "[Job Status] = 200 (OK) => 20/09/2021 09:48:06 - running\n",
      "[Job Status] = 200 (OK) => 20/09/2021 09:48:17 - running\n",
      "[Job Status] = 200 (OK) => 20/09/2021 09:48:28 - running\n",
      "[Job Status] = 200 (OK) => 20/09/2021 09:48:40 - running\n",
      "[Job Status] = 200 (OK) => 20/09/2021 09:48:52 - running\n",
      "[Job Status] = 200 (OK) => 20/09/2021 09:49:06 - running\n",
      "[Job Status] = 200 (OK) => 20/09/2021 09:49:17 - running\n",
      "[Job Status] = 200 (OK) => 20/09/2021 09:49:28 - running\n",
      "[Job Status] = 200 (OK) => 20/09/2021 09:49:39 - running\n",
      "[Job Status] = 200 (OK) => 20/09/2021 09:49:50 - running\n",
      "[Job Status] = 200 (OK) => 20/09/2021 09:50:01 - running\n",
      "[Job Status] = 200 (OK) => 20/09/2021 09:50:12 - running\n",
      "[Job Status] = 200 (OK) => 20/09/2021 09:50:24 - running\n",
      "[Job Status] = 200 (OK) => 20/09/2021 09:50:35 - successful\n"
     ]
    }
   ],
   "source": [
    "# API Processes - Job Status (keep polling for completion)\n",
    "response, ades_access_token, status = demo.proc_poll_job_completion(ades_base_url, job_location_path, interval=10, id_token=user_id_token, access_token=ades_access_token)"
   ]
  },
  {
   "cell_type": "code",
   "execution_count": 15,
   "id": "steady-revolution",
   "metadata": {},
   "outputs": [
    {
     "name": "stdout",
     "output_type": "stream",
     "text": [
      "200 {'Server': 'nginx/1.19.1', 'Date': 'Mon, 20 Sep 2021 09:50:35 GMT', 'Content-Type': 'application/json;charset=UTF-8', 'Transfer-Encoding': 'chunked', 'Connection': 'keep-alive', 'Vary': 'Accept-Encoding', 'Strict-Transport-Security': 'max-age=15724800; includeSubDomains', 'Content-Encoding': 'gzip'} { \"jobID\": \"978bf9da-19f6-11ec-b5f4-a2908378fdc5\", \"started\": \"2021-09-20T09:39:03.682516Z\", \"finished\": \"2021-09-20T09:50:31.812641Z\", \"status\": \"successful\", \"message\": \"Done\", \"progress\": \"100\", \"links\": [ { \"href\": \"http:\\/\\/ades.test.demo.eoepca.org\\/\\/bob\\/watchjob\\/processes\\/s-expression-0_0_2\\/jobs\\/978bf9da-19f6-11ec-b5f4-a2908378fdc5\", \"rel\": \"self\", \"type\": \"application\\/json\", \"title\": \"get Status\" } ] }\n"
     ]
    }
   ],
   "source": [
    "print(response.status_code, response.headers, response.text)"
   ]
  },
  {
   "cell_type": "markdown",
   "id": "suitable-construction",
   "metadata": {},
   "source": [
    "#### ADES: Job Result"
   ]
  },
  {
   "cell_type": "code",
   "execution_count": 16,
   "id": "elegant-remains",
   "metadata": {},
   "outputs": [
    {
     "name": "stdout",
     "output_type": "stream",
     "text": [
      "[Request] GET => http://ades.test.demo.eoepca.org/bob/watchjob/processes/s-expression-0_0_2/jobs/978bf9da-19f6-11ec-b5f4-a2908378fdc5/result\n",
      "[Request] POST => https://test.demo.eoepca.org/oxauth/restv1/token\n",
      "[Request] GET => http://ades.test.demo.eoepca.org/bob/watchjob/processes/s-expression-0_0_2/jobs/978bf9da-19f6-11ec-b5f4-a2908378fdc5/result\n",
      "[Job Result] = 200 (OK) => s3://ada6b03cde1846678c9ac78dfb4067c6:demo-user-bob/wf-978bf9da-19f6-11ec-b5f4-a2908378fdc5/catalog.json\n",
      "{\n",
      "  \"outputs\": [\n",
      "    {\n",
      "      \"id\": \"wf_outputs\",\n",
      "      \"time\": \"2021-09-20T09:50:31.813774Z\",\n",
      "      \"value\": {\n",
      "        \"inlineValue\": \"{\\\"StacCatalogUri\\\": \\\"s3://ada6b03cde1846678c9ac78dfb4067c6:demo-user-bob/wf-978bf9da-19f6-11ec-b5f4-a2908378fdc5/catalog.json\\\"}\"\n",
      "      }\n",
      "    }\n",
      "  ]\n",
      "}\n"
     ]
    }
   ],
   "source": [
    "# API Processes - Job Result\n",
    "response, ades_access_token, stacCatalogUri = demo.proc_get_job_result(ades_base_url, job_location_path, id_token=user_id_token, access_token=ades_access_token)\n",
    "print(json.dumps(response.json(), indent = 2))"
   ]
  },
  {
   "cell_type": "markdown",
   "id": "super-nutrition",
   "metadata": {},
   "source": [
    "#### ADES: List Jobs"
   ]
  },
  {
   "cell_type": "code",
   "execution_count": null,
   "id": "temporal-drain",
   "metadata": {},
   "outputs": [],
   "source": [
    "# API Processes - List Jobs\n",
    "response, ades_access_token, job_ids = demo.proc_list_jobs(ades_proc_url, app_name, id_token=user_id_token, access_token=ades_access_token)\n",
    "print(\"Jobs:\", job_ids)"
   ]
  },
  {
   "cell_type": "markdown",
   "id": "ongoing-sleeve",
   "metadata": {},
   "source": [
    "#### ADES: Undeploy Application"
   ]
  },
  {
   "cell_type": "code",
   "execution_count": 7,
   "id": "sharing-closing",
   "metadata": {},
   "outputs": [
    {
     "name": "stdout",
     "output_type": "stream",
     "text": [
      "[Request] DELETE => http://ades.test.demo.eoepca.org/bob/wps3/processes/s-expression-0_0_2\n",
      "[Request] POST => https://test.demo.eoepca.org/oxauth/restv1/token\n",
      "[Request] DELETE => http://ades.test.demo.eoepca.org/bob/wps3/processes/s-expression-0_0_2\n",
      "[Undeploy Response] = 200 (OK)\n"
     ]
    }
   ],
   "source": [
    "# API Processes - Undeploy Application\n",
    "response, ades_access_token = demo.proc_undeploy_application(ades_proc_url, app_name, id_token=user_id_token, access_token=ades_access_token)"
   ]
  },
  {
   "cell_type": "code",
   "execution_count": 8,
   "id": "variable-handy",
   "metadata": {
    "tags": []
   },
   "outputs": [
    {
     "name": "stdout",
     "output_type": "stream",
     "text": [
      "[Request] GET => http://ades.test.demo.eoepca.org/bob/wps3/processes\n",
      "[Request] POST => https://test.demo.eoepca.org/oxauth/restv1/token\n",
      "[Request] GET => http://ades.test.demo.eoepca.org/bob/wps3/processes\n",
      "[Process List] = 200 (OK)\n",
      "Processes: ['DeployProcess', 'GetStatus', 'UndeployProcess']\n"
     ]
    }
   ],
   "source": [
    "# Check undeploy - list processes\n",
    "response, ades_access_token, process_ids = demo.proc_list_processes(ades_proc_url, id_token=user_id_token, access_token=ades_access_token)\n",
    "print(\"Processes:\", process_ids)"
   ]
  },
  {
   "cell_type": "markdown",
   "id": "controlled-mambo",
   "metadata": {},
   "source": [
    "## Workspace"
   ]
  },
  {
   "cell_type": "code",
   "execution_count": null,
   "id": "green-record",
   "metadata": {},
   "outputs": [],
   "source": [
    "workspace_url = \"https://workspace-api.\" + base_domain\n",
    "workspace_access_token = None"
   ]
  },
  {
   "cell_type": "markdown",
   "id": "terminal-missile",
   "metadata": {},
   "source": [
    "### Workspace: Get Details"
   ]
  },
  {
   "cell_type": "code",
   "execution_count": null,
   "id": "organizational-terror",
   "metadata": {},
   "outputs": [],
   "source": [
    "# Workspace - Get Details\n",
    "workspace_name = \"rm-user-\" + USER_NAME.lower()\n",
    "response, workspace_access_token = demo.workspace_get_details(workspace_url, workspace_name, id_token=user_id_token, access_token=workspace_access_token)\n",
    "workspace_details = response.json()\n",
    "print(json.dumps(workspace_details, indent = 2))"
   ]
  },
  {
   "cell_type": "markdown",
   "id": "seeing-deployment",
   "metadata": {},
   "source": [
    "### Inspect S3 Bucket"
   ]
  },
  {
   "cell_type": "code",
   "execution_count": null,
   "id": "republican-graph",
   "metadata": {},
   "outputs": [],
   "source": [
    "# Bucket details\n",
    "bucket_name = workspace_details[\"storage\"][\"credentials\"][\"bucketname\"]\n",
    "s3_access = workspace_details[\"storage\"][\"credentials\"][\"access\"]\n",
    "s3_secret = workspace_details[\"storage\"][\"credentials\"][\"secret\"]"
   ]
  },
  {
   "cell_type": "code",
   "execution_count": null,
   "id": "ancient-patent",
   "metadata": {},
   "outputs": [],
   "source": [
    "# Quick hack S3 access\n",
    "import boto3\n",
    "\n",
    "# Init S3 session for Creodias\n",
    "S3_ENDPOINT = \"https://cf2.cloudferro.com:8080\"\n",
    "session = boto3.session.Session()\n",
    "s3resource = session.resource('s3', aws_access_key_id=s3_access, aws_secret_access_key=s3_secret, endpoint_url=S3_ENDPOINT)\n",
    "\n",
    "# List bucket contents\n",
    "bucket = s3resource.Bucket(bucket_name)\n",
    "for obj in bucket.objects.all():\n",
    "    print(' ->', obj)"
   ]
  }
 ],
 "metadata": {
  "kernelspec": {
   "display_name": "Python 3",
   "language": "python",
   "name": "python3"
  },
  "language_info": {
   "codemirror_mode": {
    "name": "ipython",
    "version": 3
   },
   "file_extension": ".py",
   "mimetype": "text/x-python",
   "name": "python",
   "nbconvert_exporter": "python",
   "pygments_lexer": "ipython3",
   "version": "3.9.2"
  }
 },
 "nbformat": 4,
 "nbformat_minor": 5
}
