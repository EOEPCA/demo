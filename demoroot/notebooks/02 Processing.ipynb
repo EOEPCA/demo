{
 "cells": [
  {
   "cell_type": "markdown",
   "id": "conceptual-judges",
   "metadata": {},
   "source": [
    "# Processing\n",
    "Demonstration of Processing endpoints."
   ]
  },
  {
   "cell_type": "code",
   "execution_count": 1,
   "id": "manufactured-repair",
   "metadata": {},
   "outputs": [],
   "source": [
    "import utils.DemoClient as client\n",
    "import jwt\n",
    "import json\n",
    "from owslib.csw import CatalogueServiceWeb"
   ]
  },
  {
   "cell_type": "markdown",
   "id": "liable-reform",
   "metadata": {},
   "source": [
    "## Initialise"
   ]
  },
  {
   "cell_type": "markdown",
   "id": "experienced-yemen",
   "metadata": {},
   "source": [
    "### Client\n",
    "We instantiate a client to interact with the platform. The client dynamically registers with the Authorisation Server to take part in UMA (User Managed Access) flows through which authorization is obtained for scoped access resources on behalf of the user."
   ]
  },
  {
   "cell_type": "code",
   "execution_count": 2,
   "id": "fluid-plane",
   "metadata": {},
   "outputs": [
    {
     "name": "stdout",
     "output_type": "stream",
     "text": [
      "State loaded from file: {'client_id': '396a9ce1-feb5-4ca9-bd08-6ba6d95c2819', 'client_secret': '815f65ca-2d87-47b8-a7cd-a84416eea1d7'}\n",
      "client_id: 396a9ce1-feb5-4ca9-bd08-6ba6d95c2819 [REUSED]\n",
      "Client state saved to file: state.json\n"
     ]
    }
   ],
   "source": [
    "#-------------------------------------------------------------------------------\n",
    "# Initialise client\n",
    "#-------------------------------------------------------------------------------\n",
    "base_domain = \"demo.eoepca.org\"\n",
    "platform_domain = \"test.\" + base_domain\n",
    "base_url = \"https://\" + platform_domain\n",
    "demo = client.DemoClient(base_url)\n",
    "demo.register_client()\n",
    "demo.save_state()"
   ]
  },
  {
   "cell_type": "markdown",
   "id": "written-somalia",
   "metadata": {},
   "source": [
    "### User\n",
    "User authenticates and the client receives an ID Token (JWT) that represents the user."
   ]
  },
  {
   "cell_type": "code",
   "execution_count": 3,
   "id": "formed-scope",
   "metadata": {
    "tags": []
   },
   "outputs": [
    {
     "name": "stdout",
     "output_type": "stream",
     "text": [
      "[Request] GET => https://test.demo.eoepca.org/.well-known/uma2-configuration\n",
      "<Response [200]>\n",
      "token_endpoint: https://test.demo.eoepca.org/oxauth/restv1/token\n",
      "[Request] POST => https://test.demo.eoepca.org/oxauth/restv1/token\n"
     ]
    }
   ],
   "source": [
    "#-------------------------------------------------------------------------------\n",
    "# Authenticate as UserA and get ID Token\n",
    "#-------------------------------------------------------------------------------\n",
    "USER_NAME=\"bob\"\n",
    "USER_PASSWORD=\"defaultPWD\"\n",
    "user_id_token = demo.get_id_token(USER_NAME, USER_PASSWORD)"
   ]
  },
  {
   "cell_type": "markdown",
   "id": "controlled-mambo",
   "metadata": {},
   "source": [
    "## Workspace"
   ]
  },
  {
   "cell_type": "code",
   "execution_count": 4,
   "id": "green-record",
   "metadata": {},
   "outputs": [],
   "source": [
    "workspace_url = \"https://workspace-api.\" + base_domain\n",
    "workspace_access_token = None\n",
    "workspace_prefix = \"demo-user-\""
   ]
  },
  {
   "cell_type": "markdown",
   "id": "terminal-missile",
   "metadata": {
    "tags": []
   },
   "source": [
    "### Workspace: Get Details\n",
    "Retrieve access information to the user workspace S3 bucket (bucket name, access key and secret access key)"
   ]
  },
  {
   "cell_type": "code",
   "execution_count": 5,
   "id": "organizational-terror",
   "metadata": {},
   "outputs": [
    {
     "name": "stdout",
     "output_type": "stream",
     "text": [
      "[Request] GET => https://workspace-api.demo.eoepca.org/workspaces/demo-user-bob\n",
      "[Workspace Details] = 200 (OK)\n",
      "{\n",
      "  \"credentials\": {\n",
      "    \"access\": \"demo-user-bob+ae7c09d4-a\",\n",
      "    \"bucketname\": \"demo-user-bob\",\n",
      "    \"projectid\": \"ada6b03cde1846678c9ac78dfb4067c6\",\n",
      "    \"secret\": \"demo-user-bob+9a2d9bf2-2\",\n",
      "    \"endpoint\": \"https://cf2.cloudferro.com:8080\",\n",
      "    \"region\": \"RegionOne\"\n",
      "  }\n",
      "}\n"
     ]
    }
   ],
   "source": [
    "# Workspace - Get Details\n",
    "workspace_name =  workspace_prefix + USER_NAME.lower()\n",
    "response, workspace_access_token = demo.workspace_get_details(workspace_url, workspace_name, id_token=user_id_token, access_token=workspace_access_token)\n",
    "workspace_details = response.json()\n",
    "print(json.dumps(workspace_details[\"storage\"], indent = 2))"
   ]
  },
  {
   "cell_type": "markdown",
   "id": "seeing-deployment",
   "metadata": {},
   "source": [
    "### Inspect User Workspace\n",
    "Using the access credentials, the user can inspect his S3 bucket."
   ]
  },
  {
   "cell_type": "code",
   "execution_count": 6,
   "id": "republican-graph",
   "metadata": {},
   "outputs": [],
   "source": [
    "# Bucket details\n",
    "bucket_name = workspace_details[\"storage\"][\"credentials\"][\"bucketname\"]\n",
    "s3_access = workspace_details[\"storage\"][\"credentials\"][\"access\"]\n",
    "s3_secret = workspace_details[\"storage\"][\"credentials\"][\"secret\"]"
   ]
  },
  {
   "cell_type": "code",
   "execution_count": 7,
   "id": "1193262a-4729-47da-9219-638f4b475434",
   "metadata": {},
   "outputs": [
    {
     "name": "stdout",
     "output_type": "stream",
     "text": [
      " -> ../data/s-expression-cwl.cwl\n",
      " -> application-package/s-expression/s-expression-0_0_2.cwl\n",
      " -> wf-0b131d48-25b9-11ec-a57f-4aeb5f6e9bf7/catalog.json\n",
      " -> wf-1d19f460-3bdc-11ec-932b-7a428dfc12bf/catalog.json\n",
      " -> wf-36ea7754-3711-11ec-9e56-7a428dfc12bf/S2B_36RTT_20191205_0_L2A/S2B_36RTT_20191205_0_L2A.json\n",
      " -> wf-36ea7754-3711-11ec-9e56-7a428dfc12bf/S2B_36RTT_20191205_0_L2A/nbr.tif\n",
      " -> wf-36ea7754-3711-11ec-9e56-7a428dfc12bf/catalog.json\n",
      " -> wf-38867cf4-a14a-11ec-a545-fe31eb407445/S2B_MSIL2A_20200902T090559_N0214_R050_T34SFH_20200902T113910/S2B_MSIL2A_20200902T090559_N0214_R050_T34SFH_20200902T113910.json\n",
      " -> wf-38867cf4-a14a-11ec-a545-fe31eb407445/S2B_MSIL2A_20200902T090559_N0214_R050_T34SFH_20200902T113910/ndvi.tif\n",
      " -> wf-38867cf4-a14a-11ec-a545-fe31eb407445/catalog.json\n",
      " -> wf-3ae0e0a6-1af5-11ec-817e-a2908378fdc5/S2B_MSIL2A_20200902T090559_N0214_R050_T34SFH_20200902T113910/S2B_MSIL2A_20200902T090559_N0214_R050_T34SFH_20200902T113910.json\n",
      " -> wf-3ae0e0a6-1af5-11ec-817e-a2908378fdc5/S2B_MSIL2A_20200902T090559_N0214_R050_T34SFH_20200902T113910/ndvi.tif\n",
      " -> wf-3ae0e0a6-1af5-11ec-817e-a2908378fdc5/catalog.json\n",
      " -> wf-3e8af1c4-a060-11ec-bb8a-8a8147a03f5b/S2B_MSIL2A_20200902T090559_N0214_R050_T34SFH_20200902T113910/S2B_MSIL2A_20200902T090559_N0214_R050_T34SFH_20200902T113910.json\n",
      " -> wf-3e8af1c4-a060-11ec-bb8a-8a8147a03f5b/S2B_MSIL2A_20200902T090559_N0214_R050_T34SFH_20200902T113910/ndvi.tif\n",
      " -> wf-3e8af1c4-a060-11ec-bb8a-8a8147a03f5b/catalog.json\n",
      " -> wf-40063e60-4272-11ec-8d1f-126554c2117f/S2B_36RTT_20191205_0_L2A/S2B_36RTT_20191205_0_L2A.json\n",
      " -> wf-40063e60-4272-11ec-8d1f-126554c2117f/S2B_36RTT_20191205_0_L2A/nbr.tif\n",
      " -> wf-40063e60-4272-11ec-8d1f-126554c2117f/catalog.json\n",
      " -> wf-44ea2dca-409b-11ec-9b42-7a09bb38bf75/catalog.json\n",
      " -> wf-4bafcb70-4081-11ec-946f-6ad9c75be258/catalog.json\n",
      " -> wf-4df4c428-21f3-11ec-9c97-4aeb5f6e9bf7/catalog.json\n",
      " -> wf-4e9f65ba-1aee-11ec-a6f1-a2908378fdc5/S2B_MSIL2A_20200902T090559_N0214_R050_T34SFH_20200902T113910/S2B_MSIL2A_20200902T090559_N0214_R050_T34SFH_20200902T113910.json\n",
      " -> wf-4e9f65ba-1aee-11ec-a6f1-a2908378fdc5/S2B_MSIL2A_20200902T090559_N0214_R050_T34SFH_20200902T113910/ndvi.tif\n",
      " -> wf-4e9f65ba-1aee-11ec-a6f1-a2908378fdc5/catalog.json\n",
      " -> wf-4ffc42a2-38c1-11ec-9952-7a428dfc12bf/catalog.json\n",
      " -> wf-520ee8b8-4151-11ec-b96d-126554c2117f/S2B_36RTT_20191205_0_L2A/S2B_36RTT_20191205_0_L2A.json\n",
      " -> wf-520ee8b8-4151-11ec-b96d-126554c2117f/S2B_36RTT_20191205_0_L2A/nbr.tif\n",
      " -> wf-520ee8b8-4151-11ec-b96d-126554c2117f/S2B_36RTT_20191205_0_L2A/ndvi.tif\n",
      " -> wf-520ee8b8-4151-11ec-b96d-126554c2117f/S2B_36RTT_20191205_0_L2A/ndwi.tif\n",
      " -> wf-520ee8b8-4151-11ec-b96d-126554c2117f/S2B_36RTT_20191215_0_L2A/S2B_36RTT_20191215_0_L2A.json\n",
      " -> wf-520ee8b8-4151-11ec-b96d-126554c2117f/S2B_36RTT_20191215_0_L2A/nbr.tif\n",
      " -> wf-520ee8b8-4151-11ec-b96d-126554c2117f/S2B_36RTT_20191215_0_L2A/ndvi.tif\n",
      " -> wf-520ee8b8-4151-11ec-b96d-126554c2117f/S2B_36RTT_20191215_0_L2A/ndwi.tif\n",
      " -> wf-520ee8b8-4151-11ec-b96d-126554c2117f/catalog.json\n",
      " -> wf-531fa90a-407e-11ec-a1c9-6ad9c75be258/catalog.json\n",
      " -> wf-54d2add2-16ea-11ec-aa17-56ee207855d4/S2B_MSIL2A_20200902T090559_N0214_R050_T34SFH_20200902T113910/S2B_MSIL2A_20200902T090559_N0214_R050_T34SFH_20200902T113910.json\n",
      " -> wf-54d2add2-16ea-11ec-aa17-56ee207855d4/S2B_MSIL2A_20200902T090559_N0214_R050_T34SFH_20200902T113910/ndvi.tif\n",
      " -> wf-54d2add2-16ea-11ec-aa17-56ee207855d4/catalog.json\n",
      " -> wf-5e30e30a-38b7-11ec-98c7-7a428dfc12bf/catalog.json\n",
      " -> wf-605473ba-1b82-11ec-9892-a2908378fdc5/S2B_MSIL2A_20200902T090559_N0214_R050_T34SFH_20200902T113910/S2B_MSIL2A_20200902T090559_N0214_R050_T34SFH_20200902T113910.json\n",
      " -> wf-605473ba-1b82-11ec-9892-a2908378fdc5/S2B_MSIL2A_20200902T090559_N0214_R050_T34SFH_20200902T113910/ndvi.tif\n",
      " -> wf-605473ba-1b82-11ec-9892-a2908378fdc5/catalog.json\n",
      " -> wf-6324fa54-1af3-11ec-9f7d-a2908378fdc5/S2B_MSIL2A_20200902T090559_N0214_R050_T34SFH_20200902T113910/S2B_MSIL2A_20200902T090559_N0214_R050_T34SFH_20200902T113910.json\n",
      " -> wf-6324fa54-1af3-11ec-9f7d-a2908378fdc5/S2B_MSIL2A_20200902T090559_N0214_R050_T34SFH_20200902T113910/ndvi.tif\n",
      " -> wf-6324fa54-1af3-11ec-9f7d-a2908378fdc5/catalog.json\n",
      " -> wf-643b8efc-16e9-11ec-ae36-56ee207855d4/S2B_MSIL2A_20200902T090559_N0214_R050_T34SFH_20200902T113910/S2B_MSIL2A_20200902T090559_N0214_R050_T34SFH_20200902T113910.json\n",
      " -> wf-643b8efc-16e9-11ec-ae36-56ee207855d4/S2B_MSIL2A_20200902T090559_N0214_R050_T34SFH_20200902T113910/ndvi.tif\n",
      " -> wf-643b8efc-16e9-11ec-ae36-56ee207855d4/catalog.json\n",
      " -> wf-64d6f34e-4081-11ec-bc98-6ad9c75be258/S2B_36RTT_20191205_0_L2A/S2B_36RTT_20191205_0_L2A.json\n",
      " -> wf-64d6f34e-4081-11ec-bc98-6ad9c75be258/S2B_36RTT_20191205_0_L2A/nbr.tif\n",
      " -> wf-64d6f34e-4081-11ec-bc98-6ad9c75be258/S2B_36RTT_20191205_0_L2A/ndvi.tif\n",
      " -> wf-64d6f34e-4081-11ec-bc98-6ad9c75be258/S2B_36RTT_20191205_0_L2A/ndwi.tif\n",
      " -> wf-64d6f34e-4081-11ec-bc98-6ad9c75be258/S2B_36RTT_20191215_0_L2A/S2B_36RTT_20191215_0_L2A.json\n",
      " -> wf-64d6f34e-4081-11ec-bc98-6ad9c75be258/S2B_36RTT_20191215_0_L2A/nbr.tif\n",
      " -> wf-64d6f34e-4081-11ec-bc98-6ad9c75be258/S2B_36RTT_20191215_0_L2A/ndvi.tif\n",
      " -> wf-64d6f34e-4081-11ec-bc98-6ad9c75be258/S2B_36RTT_20191215_0_L2A/ndwi.tif\n",
      " -> wf-64d6f34e-4081-11ec-bc98-6ad9c75be258/catalog.json\n",
      " -> wf-663bbc9e-409d-11ec-b2f8-624e9828b791/S2B_36RTT_20191205_0_L2A/S2B_36RTT_20191205_0_L2A.json\n",
      " -> wf-663bbc9e-409d-11ec-b2f8-624e9828b791/S2B_36RTT_20191205_0_L2A/nbr.tif\n",
      " -> wf-663bbc9e-409d-11ec-b2f8-624e9828b791/S2B_36RTT_20191205_0_L2A/ndvi.tif\n",
      " -> wf-663bbc9e-409d-11ec-b2f8-624e9828b791/S2B_36RTT_20191205_0_L2A/ndwi.tif\n",
      " -> wf-663bbc9e-409d-11ec-b2f8-624e9828b791/S2B_36RTT_20191215_0_L2A/S2B_36RTT_20191215_0_L2A.json\n",
      " -> wf-663bbc9e-409d-11ec-b2f8-624e9828b791/S2B_36RTT_20191215_0_L2A/nbr.tif\n",
      " -> wf-663bbc9e-409d-11ec-b2f8-624e9828b791/S2B_36RTT_20191215_0_L2A/ndvi.tif\n",
      " -> wf-663bbc9e-409d-11ec-b2f8-624e9828b791/S2B_36RTT_20191215_0_L2A/ndwi.tif\n",
      " -> wf-663bbc9e-409d-11ec-b2f8-624e9828b791/catalog.json\n",
      " -> wf-68af766e-4151-11ec-ac4a-126554c2117f/catalog.json\n",
      " -> wf-69b0f23c-541a-11ec-a40e-626a98159388/burned-area/BURNED_AREA_20191205_20191215.tif\n",
      " -> wf-69b0f23c-541a-11ec-a40e-626a98159388/burned-area/burned-area.json\n",
      " -> wf-69b0f23c-541a-11ec-a40e-626a98159388/catalog.json\n",
      " -> wf-6bd4dfd2-409d-11ec-9c6f-624e9828b791/catalog.json\n",
      " -> wf-6eeba6d8-16ea-11ec-b036-56ee207855d4/S2B_MSIL2A_20200902T090559_N0214_R050_T34SFH_20200902T113910/S2B_MSIL2A_20200902T090559_N0214_R050_T34SFH_20200902T113910.json\n",
      " -> wf-6eeba6d8-16ea-11ec-b036-56ee207855d4/S2B_MSIL2A_20200902T090559_N0214_R050_T34SFH_20200902T113910/ndvi.tif\n",
      " -> wf-6eeba6d8-16ea-11ec-b036-56ee207855d4/catalog.json\n",
      " -> wf-766fc8ee-a128-11ec-ad6e-fe31eb407445/S2B_MSIL2A_20200902T090559_N0214_R050_T34SFH_20200902T113910/S2B_MSIL2A_20200902T090559_N0214_R050_T34SFH_20200902T113910.json\n",
      " -> wf-766fc8ee-a128-11ec-ad6e-fe31eb407445/S2B_MSIL2A_20200902T090559_N0214_R050_T34SFH_20200902T113910/ndvi.tif\n",
      " -> wf-766fc8ee-a128-11ec-ad6e-fe31eb407445/catalog.json\n",
      " -> wf-7f8e970e-1ab7-11ec-9c88-a2908378fdc5/S2B_MSIL2A_20200902T090559_N0214_R050_T34SFH_20200902T113910/S2B_MSIL2A_20200902T090559_N0214_R050_T34SFH_20200902T113910.json\n",
      " -> wf-7f8e970e-1ab7-11ec-9c88-a2908378fdc5/S2B_MSIL2A_20200902T090559_N0214_R050_T34SFH_20200902T113910/ndvi.tif\n",
      " -> wf-7f8e970e-1ab7-11ec-9c88-a2908378fdc5/catalog.json\n",
      " -> wf-82d81506-40a1-11ec-9af9-624e9828b791/catalog.json\n",
      " -> wf-8d755c12-541f-11ec-a66f-8a8147a03f5b/burned-area/BURNED_AREA_20191205_20191215.tif\n",
      " -> wf-8d755c12-541f-11ec-a66f-8a8147a03f5b/burned-area/burned-area.json\n",
      " -> wf-8d755c12-541f-11ec-a66f-8a8147a03f5b/catalog.json\n",
      " -> wf-935cad8c-37ec-11ec-bd84-7a428dfc12bf/catalog.json\n",
      " -> wf-96e283cc-3806-11ec-9959-7a428dfc12bf/catalog.json\n",
      " -> wf-978bf9da-19f6-11ec-b5f4-a2908378fdc5/S2B_MSIL2A_20200902T090559_N0214_R050_T34SFH_20200902T113910/S2B_MSIL2A_20200902T090559_N0214_R050_T34SFH_20200902T113910.json\n",
      " -> wf-978bf9da-19f6-11ec-b5f4-a2908378fdc5/S2B_MSIL2A_20200902T090559_N0214_R050_T34SFH_20200902T113910/ndvi.tif\n",
      " -> wf-978bf9da-19f6-11ec-b5f4-a2908378fdc5/catalog.json\n",
      " -> wf-984244ba-37ec-11ec-b3ea-7a428dfc12bf/catalog.json\n",
      " -> wf-9a416acc-40af-11ec-a96e-126554c2117f/catalog.json\n",
      " -> wf-9f6d35ee-40af-11ec-93e9-126554c2117f/S2B_36RTT_20191205_0_L2A/S2B_36RTT_20191205_0_L2A.json\n",
      " -> wf-9f6d35ee-40af-11ec-93e9-126554c2117f/S2B_36RTT_20191205_0_L2A/nbr.tif\n",
      " -> wf-9f6d35ee-40af-11ec-93e9-126554c2117f/S2B_36RTT_20191205_0_L2A/ndvi.tif\n",
      " -> wf-9f6d35ee-40af-11ec-93e9-126554c2117f/S2B_36RTT_20191205_0_L2A/ndwi.tif\n",
      " -> wf-9f6d35ee-40af-11ec-93e9-126554c2117f/S2B_36RTT_20191215_0_L2A/S2B_36RTT_20191215_0_L2A.json\n",
      " -> wf-9f6d35ee-40af-11ec-93e9-126554c2117f/S2B_36RTT_20191215_0_L2A/nbr.tif\n",
      " -> wf-9f6d35ee-40af-11ec-93e9-126554c2117f/S2B_36RTT_20191215_0_L2A/ndvi.tif\n",
      " -> wf-9f6d35ee-40af-11ec-93e9-126554c2117f/S2B_36RTT_20191215_0_L2A/ndwi.tif\n",
      " -> wf-9f6d35ee-40af-11ec-93e9-126554c2117f/catalog.json\n",
      " -> wf-a2c6d2ec-3711-11ec-a606-7a428dfc12bf/S2B_36RTT_20191205_0_L2A/S2B_36RTT_20191205_0_L2A.json\n",
      " -> wf-a2c6d2ec-3711-11ec-a606-7a428dfc12bf/S2B_36RTT_20191205_0_L2A/nbr.tif\n",
      " -> wf-a2c6d2ec-3711-11ec-a606-7a428dfc12bf/catalog.json\n",
      " -> wf-a4087a70-4076-11ec-aca2-6ad9c75be258/S2B_36RTT_20191205_0_L2A/S2B_36RTT_20191205_0_L2A.json\n",
      " -> wf-a4087a70-4076-11ec-aca2-6ad9c75be258/S2B_36RTT_20191205_0_L2A/nbr.tif\n",
      " -> wf-a4087a70-4076-11ec-aca2-6ad9c75be258/S2B_36RTT_20191205_0_L2A/ndvi.tif\n",
      " -> wf-a4087a70-4076-11ec-aca2-6ad9c75be258/S2B_36RTT_20191205_0_L2A/ndwi.tif\n",
      " -> wf-a4087a70-4076-11ec-aca2-6ad9c75be258/S2B_36RTT_20191215_0_L2A/S2B_36RTT_20191215_0_L2A.json\n",
      " -> wf-a4087a70-4076-11ec-aca2-6ad9c75be258/S2B_36RTT_20191215_0_L2A/nbr.tif\n",
      " -> wf-a4087a70-4076-11ec-aca2-6ad9c75be258/S2B_36RTT_20191215_0_L2A/ndvi.tif\n",
      " -> wf-a4087a70-4076-11ec-aca2-6ad9c75be258/S2B_36RTT_20191215_0_L2A/ndwi.tif\n",
      " -> wf-a4087a70-4076-11ec-aca2-6ad9c75be258/catalog.json\n",
      " -> wf-b269d6ba-3ca5-11ec-8859-8ebcd6b35a8f/S2B_36RTT_20191205_0_L2A/S2B_36RTT_20191205_0_L2A.json\n",
      " -> wf-b269d6ba-3ca5-11ec-8859-8ebcd6b35a8f/S2B_36RTT_20191205_0_L2A/nbr.tif\n",
      " -> wf-b269d6ba-3ca5-11ec-8859-8ebcd6b35a8f/catalog.json\n",
      " -> wf-b5dc178c-3c90-11ec-8c6f-8ebcd6b35a8f/S2B_MSIL2A_20200902T090559_N0214_R050_T34SFH_20200902T113910/S2B_MSIL2A_20200902T090559_N0214_R050_T34SFH_20200902T113910.json\n",
      " -> wf-b5dc178c-3c90-11ec-8c6f-8ebcd6b35a8f/S2B_MSIL2A_20200902T090559_N0214_R050_T34SFH_20200902T113910/ndvi.tif\n",
      " -> wf-b5dc178c-3c90-11ec-8c6f-8ebcd6b35a8f/catalog.json\n",
      " -> wf-bef4bc6e-3710-11ec-9fe4-7a428dfc12bf/S2B_36RTT_20191205_0_L2A/S2B_36RTT_20191205_0_L2A.json\n",
      " -> wf-bef4bc6e-3710-11ec-9fe4-7a428dfc12bf/S2B_36RTT_20191205_0_L2A/nbr.tif\n",
      " -> wf-bef4bc6e-3710-11ec-9fe4-7a428dfc12bf/catalog.json\n",
      " -> wf-bf33a000-3c92-11ec-aaa2-8ebcd6b35a8f/catalog.json\n",
      " -> wf-c9936b12-3caa-11ec-884f-8ebcd6b35a8f/S2B_36RTT_20191205_0_L2A/S2B_36RTT_20191205_0_L2A.json\n",
      " -> wf-c9936b12-3caa-11ec-884f-8ebcd6b35a8f/S2B_36RTT_20191205_0_L2A/nbr.tif\n",
      " -> wf-c9936b12-3caa-11ec-884f-8ebcd6b35a8f/S2B_36RTT_20191205_0_L2A/ndvi.tif\n",
      " -> wf-c9936b12-3caa-11ec-884f-8ebcd6b35a8f/S2B_36RTT_20191205_0_L2A/ndwi.tif\n",
      " -> wf-c9936b12-3caa-11ec-884f-8ebcd6b35a8f/S2B_36RTT_20191215_0_L2A/S2B_36RTT_20191215_0_L2A.json\n",
      " -> wf-c9936b12-3caa-11ec-884f-8ebcd6b35a8f/S2B_36RTT_20191215_0_L2A/nbr.tif\n",
      " -> wf-c9936b12-3caa-11ec-884f-8ebcd6b35a8f/S2B_36RTT_20191215_0_L2A/ndvi.tif\n",
      " -> wf-c9936b12-3caa-11ec-884f-8ebcd6b35a8f/S2B_36RTT_20191215_0_L2A/ndwi.tif\n",
      " -> wf-c9936b12-3caa-11ec-884f-8ebcd6b35a8f/catalog.json\n",
      " -> wf-cd1675e0-3c96-11ec-b92c-8ebcd6b35a8f/catalog.json\n",
      " -> wf-cf7025c4-38c3-11ec-9083-7a428dfc12bf/S2B_MSIL2A_20200902T090559_N0214_R050_T34SFH_20200902T113910/S2B_MSIL2A_20200902T090559_N0214_R050_T34SFH_20200902T113910.json\n",
      " -> wf-cf7025c4-38c3-11ec-9083-7a428dfc12bf/S2B_MSIL2A_20200902T090559_N0214_R050_T34SFH_20200902T113910/ndvi.tif\n",
      " -> wf-cf7025c4-38c3-11ec-9083-7a428dfc12bf/catalog.json\n",
      " -> wf-cf7025c4-38c3-11ec-9083-7a428dfc12bf/null/catalog.json\n",
      " -> wf-cf7025c4-38c3-11ec-9083-7a428dfc12bf/wf-01f2e10a-3d77-11ec-be93-0a580a8204a0/catalog.json\n",
      " -> wf-cf7025c4-38c3-11ec-9083-7a428dfc12bf/wf-558dc882-3d83-11ec-903a-0a580a8003b5/catalog.json\n",
      " -> wf-cf7025c4-38c3-11ec-9083-7a428dfc12bf/wf-5e337ac2-3e4b-11ec-986a-0a580a810331/catalog.json\n",
      " -> wf-cf7025c4-38c3-11ec-9083-7a428dfc12bf/wf-60e1e9dc-3c9a-11ec-8a11-0a580a82049a/S2B_36RTT_20191205_0_L2A/S2B_36RTT_20191205_0_L2A.json\n",
      " -> wf-cf7025c4-38c3-11ec-9083-7a428dfc12bf/wf-60e1e9dc-3c9a-11ec-8a11-0a580a82049a/S2B_36RTT_20191205_0_L2A/nbr.tif\n",
      " -> wf-cf7025c4-38c3-11ec-9083-7a428dfc12bf/wf-60e1e9dc-3c9a-11ec-8a11-0a580a82049a/catalog.json\n",
      " -> wf-cf7025c4-38c3-11ec-9083-7a428dfc12bf/wf-651d6c86-4e08-11ec-8234-f2177846eb2e/S2B_36RTT_20191205_0_L2A/S2B_36RTT_20191205_0_L2A.json\n",
      " -> wf-cf7025c4-38c3-11ec-9083-7a428dfc12bf/wf-651d6c86-4e08-11ec-8234-f2177846eb2e/S2B_36RTT_20191205_0_L2A/nbr.tif\n",
      " -> wf-cf7025c4-38c3-11ec-9083-7a428dfc12bf/wf-651d6c86-4e08-11ec-8234-f2177846eb2e/S2B_36RTT_20191205_0_L2A/ndvi.tif\n",
      " -> wf-cf7025c4-38c3-11ec-9083-7a428dfc12bf/wf-651d6c86-4e08-11ec-8234-f2177846eb2e/S2B_36RTT_20191205_0_L2A/ndwi.tif\n",
      " -> wf-cf7025c4-38c3-11ec-9083-7a428dfc12bf/wf-651d6c86-4e08-11ec-8234-f2177846eb2e/S2B_36RTT_20191215_0_L2A/S2B_36RTT_20191215_0_L2A.json\n",
      " -> wf-cf7025c4-38c3-11ec-9083-7a428dfc12bf/wf-651d6c86-4e08-11ec-8234-f2177846eb2e/S2B_36RTT_20191215_0_L2A/nbr.tif\n",
      " -> wf-cf7025c4-38c3-11ec-9083-7a428dfc12bf/wf-651d6c86-4e08-11ec-8234-f2177846eb2e/S2B_36RTT_20191215_0_L2A/ndvi.tif\n",
      " -> wf-cf7025c4-38c3-11ec-9083-7a428dfc12bf/wf-651d6c86-4e08-11ec-8234-f2177846eb2e/S2B_36RTT_20191215_0_L2A/ndwi.tif\n",
      " -> wf-cf7025c4-38c3-11ec-9083-7a428dfc12bf/wf-651d6c86-4e08-11ec-8234-f2177846eb2e/catalog.json\n",
      " -> wf-cf7025c4-38c3-11ec-9083-7a428dfc12bf/wf-80d3bfd0-3e49-11ec-ad69-0a580a810331/catalog.json\n",
      " -> wf-cf7025c4-38c3-11ec-9083-7a428dfc12bf/wf-816427da-3c89-11ec-a387-0a580a83019d/S2A_MSIL1C_20210713T094031_N0301_R036_T36WXB_20210713T095948/S2A_MSIL1C_20210713T094031_N0301_R036_T36WXB_20210713T095948.json\n",
      " -> wf-cf7025c4-38c3-11ec-9083-7a428dfc12bf/wf-816427da-3c89-11ec-a387-0a580a83019d/S2A_MSIL1C_20210713T094031_N0301_R036_T36WXB_20210713T095948/ndvi.tif\n",
      " -> wf-cf7025c4-38c3-11ec-9083-7a428dfc12bf/wf-816427da-3c89-11ec-a387-0a580a83019d/catalog.json\n",
      " -> wf-cf7025c4-38c3-11ec-9083-7a428dfc12bf/wf-9bb17bce-3cb6-11ec-9070-0a580a82049a/S2B_36RTT_20191205_0_L2A/S2B_36RTT_20191205_0_L2A.json\n",
      " -> wf-cf7025c4-38c3-11ec-9083-7a428dfc12bf/wf-9bb17bce-3cb6-11ec-9070-0a580a82049a/S2B_36RTT_20191205_0_L2A/nbr.tif\n",
      " -> wf-cf7025c4-38c3-11ec-9083-7a428dfc12bf/wf-9bb17bce-3cb6-11ec-9070-0a580a82049a/catalog.json\n",
      " -> wf-cf7025c4-38c3-11ec-9083-7a428dfc12bf/wf-9ff84242-3cc2-11ec-8111-0a580a8301a4/catalog.json\n",
      " -> wf-cf7025c4-38c3-11ec-9083-7a428dfc12bf/wf-a1586314-3e3f-11ec-889f-0a580a810331/S2B_36RTT_20191205_0_L2A/S2B_36RTT_20191205_0_L2A.json\n",
      " -> wf-cf7025c4-38c3-11ec-9083-7a428dfc12bf/wf-a1586314-3e3f-11ec-889f-0a580a810331/S2B_36RTT_20191205_0_L2A/ndvi.tif\n",
      " -> wf-cf7025c4-38c3-11ec-9083-7a428dfc12bf/wf-a1586314-3e3f-11ec-889f-0a580a810331/catalog.json\n",
      " -> wf-cf7025c4-38c3-11ec-9083-7a428dfc12bf/wf-a9da089e-3d72-11ec-a790-0a580a8204a0/catalog.json\n",
      " -> wf-cf7025c4-38c3-11ec-9083-7a428dfc12bf/wf-ac92b54e-3c8d-11ec-a47e-0a580a82049a/S2B_36RTT_20191205_0_L2A/S2B_36RTT_20191205_0_L2A.json\n",
      " -> wf-cf7025c4-38c3-11ec-9083-7a428dfc12bf/wf-ac92b54e-3c8d-11ec-a47e-0a580a82049a/S2B_36RTT_20191205_0_L2A/nbr.tif\n",
      " -> wf-cf7025c4-38c3-11ec-9083-7a428dfc12bf/wf-ac92b54e-3c8d-11ec-a47e-0a580a82049a/catalog.json\n",
      " -> wf-cf7025c4-38c3-11ec-9083-7a428dfc12bf/wf-bf74af78-3d64-11ec-9c3c-0a580a8301a7/S2B_36RTT_20191205_0_L2A/S2B_36RTT_20191205_0_L2A.json\n",
      " -> wf-cf7025c4-38c3-11ec-9083-7a428dfc12bf/wf-bf74af78-3d64-11ec-9c3c-0a580a8301a7/S2B_36RTT_20191205_0_L2A/nbr.tif\n",
      " -> wf-cf7025c4-38c3-11ec-9083-7a428dfc12bf/wf-bf74af78-3d64-11ec-9c3c-0a580a8301a7/catalog.json\n",
      " -> wf-cf7025c4-38c3-11ec-9083-7a428dfc12bf/wf-cf7025c4-38c3-11ec-9083-7a428dfc12bf/wf-9bb17bce-3cb6-11ec-9070-0a580a82049a/S2B_36RTT_20191205_0_L2A/S2B_36RTT_20191205_0_L2A.json\n",
      " -> wf-cf7025c4-38c3-11ec-9083-7a428dfc12bf/wf-cf7025c4-38c3-11ec-9083-7a428dfc12bf/wf-9bb17bce-3cb6-11ec-9070-0a580a82049a/S2B_36RTT_20191205_0_L2A/nbr.tif\n",
      " -> wf-cf7025c4-38c3-11ec-9083-7a428dfc12bf/wf-d8bdac48-3d8f-11ec-adea-0a580a83038f/catalog.json\n",
      " -> wf-dbd5fd70-16d1-11ec-902c-56ee207855d4/S2B_MSIL2A_20200902T090559_N0214_R050_T34SFH_20200902T113910/S2B_MSIL2A_20200902T090559_N0214_R050_T34SFH_20200902T113910.json\n",
      " -> wf-dbd5fd70-16d1-11ec-902c-56ee207855d4/S2B_MSIL2A_20200902T090559_N0214_R050_T34SFH_20200902T113910/ndvi.tif\n",
      " -> wf-dbd5fd70-16d1-11ec-902c-56ee207855d4/catalog.json\n",
      " -> wf-e348d1ea-3710-11ec-9286-7a428dfc12bf/S2B_36RTT_20191205_0_L2A/S2B_36RTT_20191205_0_L2A.json\n",
      " -> wf-e348d1ea-3710-11ec-9286-7a428dfc12bf/S2B_36RTT_20191205_0_L2A/nbr.tif\n",
      " -> wf-e348d1ea-3710-11ec-9286-7a428dfc12bf/catalog.json\n",
      " -> wf-eb32b982-a085-11ec-b3cb-8a8147a03f5b/S2B_MSIL2A_20200902T090559_N0214_R050_T34SFH_20200902T113910/S2B_MSIL2A_20200902T090559_N0214_R050_T34SFH_20200902T113910.json\n",
      " -> wf-eb32b982-a085-11ec-b3cb-8a8147a03f5b/S2B_MSIL2A_20200902T090559_N0214_R050_T34SFH_20200902T113910/ndvi.tif\n",
      " -> wf-eb32b982-a085-11ec-b3cb-8a8147a03f5b/catalog.json\n",
      " -> wf-ed32150c-3bbd-11ec-a045-7a428dfc12bf/S2B_MSIL2A_20200902T090559_N0214_R050_T34SFH_20200902T113910/S2B_MSIL2A_20200902T090559_N0214_R050_T34SFH_20200902T113910.json\n",
      " -> wf-ed32150c-3bbd-11ec-a045-7a428dfc12bf/S2B_MSIL2A_20200902T090559_N0214_R050_T34SFH_20200902T113910/ndvi.tif\n",
      " -> wf-ed32150c-3bbd-11ec-a045-7a428dfc12bf/catalog.json\n",
      " -> wf-f26af4f2-19f4-11ec-8f06-161b8ebe9bea/S2B_MSIL2A_20200902T090559_N0214_R050_T34SFH_20200902T113910/S2B_MSIL2A_20200902T090559_N0214_R050_T34SFH_20200902T113910.json\n",
      " -> wf-f26af4f2-19f4-11ec-8f06-161b8ebe9bea/S2B_MSIL2A_20200902T090559_N0214_R050_T34SFH_20200902T113910/ndvi.tif\n",
      " -> wf-f26af4f2-19f4-11ec-8f06-161b8ebe9bea/catalog.json\n",
      " -> wf-f6cd811e-1b7e-11ec-8f57-a2908378fdc5/S2B_MSIL2A_20200902T090559_N0214_R050_T34SFH_20200902T113910/S2B_MSIL2A_20200902T090559_N0214_R050_T34SFH_20200902T113910.json\n",
      " -> wf-f6cd811e-1b7e-11ec-8f57-a2908378fdc5/S2B_MSIL2A_20200902T090559_N0214_R050_T34SFH_20200902T113910/ndvi.tif\n",
      " -> wf-f6cd811e-1b7e-11ec-8f57-a2908378fdc5/catalog.json\n",
      " -> wf-f801bf46-24e8-11ec-a49a-4aeb5f6e9bf7/catalog.json\n",
      " -> wf-fea2647c-5413-11ec-b5c1-626a98159388/burned-area/BURNED_AREA_20191205_20191215.tif\n",
      " -> wf-fea2647c-5413-11ec-b5c1-626a98159388/burned-area/burned-area.json\n",
      " -> wf-fea2647c-5413-11ec-b5c1-626a98159388/catalog.json\n"
     ]
    }
   ],
   "source": [
    "# Quick hack S3 access\n",
    "import boto3\n",
    "\n",
    "# Init S3 session for Creodias\n",
    "S3_ENDPOINT = \"https://cf2.cloudferro.com:8080\"\n",
    "session = boto3.session.Session()\n",
    "s3resource = session.resource('s3', aws_access_key_id=s3_access, aws_secret_access_key=s3_secret, endpoint_url=S3_ENDPOINT)\n",
    "\n",
    "# List bucket contents\n",
    "bucket = s3resource.Bucket(bucket_name)\n",
    "for obj in bucket.objects.all():\n",
    "    print(' ->', obj.key)"
   ]
  },
  {
   "cell_type": "markdown",
   "id": "794a6e41-2095-402f-8736-9159230b6cd1",
   "metadata": {},
   "source": [
    "### Upload Application Package and register it\n",
    "User uploads the application package to his workspace"
   ]
  },
  {
   "cell_type": "code",
   "execution_count": 8,
   "id": "42f4eb91-7c57-4251-b606-f11e8194e669",
   "metadata": {},
   "outputs": [
    {
     "name": "stdout",
     "output_type": "stream",
     "text": [
      "Application package uploaded successfully\n"
     ]
    }
   ],
   "source": [
    "object = s3resource.Object(bucket_name, 'application-package/s-expression/s-expression-0_0_2.cwl')\n",
    "result = object.put(Body=open('../data/s-expression-cwl.cwl', 'rb'))\n",
    "res = result.get('ResponseMetadata')\n",
    "if res.get('HTTPStatusCode') == 200:\n",
    "    print('Application package uploaded successfully')\n",
    "else:\n",
    "    print('Application package not uploaded')"
   ]
  },
  {
   "cell_type": "markdown",
   "id": "0410339c-a727-4c9e-b631-70e8d2e13b91",
   "metadata": {},
   "source": [
    "User registers the Application Package through the Resource Catalog API"
   ]
  },
  {
   "cell_type": "code",
   "execution_count": 9,
   "id": "522e71f7-7165-46ae-9422-061319b8b394",
   "metadata": {},
   "outputs": [
    {
     "name": "stdout",
     "output_type": "stream",
     "text": [
      "[Request] POST => https://workspace-api.demo.eoepca.org/workspaces/demo-user-bob/register\n",
      "[Workspace Registration] = 200 (OK) ({\"message\":\"CWL file 's3://demo-user-bob/application-package/s-expression/s-expression-0_0_2.cwl' was successfully registered\"}) \n"
     ]
    }
   ],
   "source": [
    "resource_url= f's3://{bucket_name}/application-package/s-expression/s-expression-0_0_2.cwl'\n",
    "demo.workspace_register(workspace_url, workspace_name,resource_url, id_token=user_id_token, access_token=workspace_access_token)"
   ]
  },
  {
   "cell_type": "markdown",
   "id": "e6c02f3d-5851-4344-a971-93ee3899ddb3",
   "metadata": {},
   "source": [
    "User inspects the registered Application Package through the Resource Catalogue API"
   ]
  },
  {
   "cell_type": "code",
   "execution_count": 14,
   "id": "4058d1e3-fbe8-4180-acb9-c05b74dcd6ff",
   "metadata": {},
   "outputs": [
    {
     "name": "stdout",
     "output_type": "stream",
     "text": [
      "bob's workspace (catalogue): https://resource-catalogue.demo-user-bob.demo.eoepca.org/csw\n",
      "bob's workspace records:\n",
      "\n",
      "identifier: s-expression\n",
      "type: application\n",
      "title: s expressions\n",
      "\n",
      "URL for Application s-expression:\n"
     ]
    },
    {
     "data": {
      "text/plain": [
       "[{'scheme': 'application/x-yaml',\n",
       "  'url': 's3://s3://demo-user-bob/application-package/s-expression/s-expression-0_0_2.cwl'},\n",
       " {'scheme': 'application/x-yaml',\n",
       "  'url': 'https://cf2.cloudferro.com:8080/ada6b03cde1846678c9ac78dfb4067c6:s3://demo-user-bob/application-package/s-expression/s-expression-0_0_2.cwl'}]"
      ]
     },
     "execution_count": 14,
     "metadata": {},
     "output_type": "execute_result"
    }
   ],
   "source": [
    "headers = {\n",
    "    'Authorization': 'Bearer ' + user_id_token\n",
    "}\n",
    "app_id= \"s-expression\"\n",
    "workspace_endpoint = f'https://resource-catalogue.{workspace_prefix}{USER_NAME.lower()}.{base_domain}/csw'\n",
    "print(f\"{USER_NAME}'s workspace (catalogue): {workspace_endpoint}\")\n",
    "csw = CatalogueServiceWeb(workspace_endpoint,timeout=30,headers=headers)\n",
    "csw.getrecords2(maxrecords=10)\n",
    "print(f\"{USER_NAME}'s workspace records:\\n\")\n",
    "for rec in csw.records:\n",
    "    print(f'identifier: {csw.records[rec].identifier}\\ntype: {csw.records[rec].type}\\ntitle: {csw.records[rec].title}\\n')\n",
    "print(f\"URL for Application {app_id}:\")\n",
    "csw.records[app_id].references"
   ]
  },
  {
   "cell_type": "markdown",
   "id": "swiss-librarian",
   "metadata": {},
   "source": [
    "## ADES\n",
    "The ADES provides user-specific endpoints, using a URL path prefix."
   ]
  },
  {
   "cell_type": "code",
   "execution_count": null,
   "id": "distinguished-particle",
   "metadata": {},
   "outputs": [],
   "source": [
    "# ADES URLs\n",
    "ades_base_url = \"http://ades.demo.eoepca.org\" #\"http://ades.\" + platform_domain\n",
    "ades_wps_url = ades_base_url + \"/\" + USER_NAME + \"/zoo\"; print(\"ADES WPS endpoint:\", ades_wps_url)\n",
    "ades_proc_url = ades_base_url + \"/\" + USER_NAME + \"/wps3\"; print(\"ADES API Processes endpoint:\", ades_proc_url)"
   ]
  },
  {
   "cell_type": "markdown",
   "id": "different-studio",
   "metadata": {},
   "source": [
    "### ADES API Processes"
   ]
  },
  {
   "cell_type": "code",
   "execution_count": null,
   "id": "architectural-college",
   "metadata": {},
   "outputs": [],
   "source": [
    "ades_access_token = None\n",
    "app_name = \"s-expression-0_0_2\""
   ]
  },
  {
   "cell_type": "markdown",
   "id": "framed-russell",
   "metadata": {},
   "source": [
    "#### ADES: List Processes\n",
    "**GET {service_url}/processes**<br>\n",
    "Provides a list of all processes "
   ]
  },
  {
   "cell_type": "code",
   "execution_count": null,
   "id": "progressive-experiment",
   "metadata": {},
   "outputs": [],
   "source": [
    "# API Processes - List Processes\n",
    "response, ades_access_token, process_ids = demo.proc_list_processes(ades_proc_url, id_token=user_id_token, access_token=ades_access_token)\n",
    "print(\"Processes:\", process_ids)"
   ]
  },
  {
   "cell_type": "markdown",
   "id": "aggregate-scratch",
   "metadata": {},
   "source": [
    "#### ADES: Deploy Application\n",
    "**POST {service_url}/processes**<br>\n",
    "Deploys application to the ADES.<br>\n",
    "Request body is json in which the input is the Application Package describing the application.<br>\n",
    "The Application Package is a CWL Workflow that is typically provided as an href with content type **_application/atom+xml_** or **_application/cwl_**. The url to the application package can be either a http or s3 endpoint. In this example we will use the application package previously uploaded to Bob's workspace."
   ]
  },
  {
   "cell_type": "code",
   "execution_count": null,
   "id": "legal-thunder",
   "metadata": {},
   "outputs": [],
   "source": [
    "# API Processes - Deploy Application\n",
    "#response, ades_access_token = demo.proc_deploy_application(ades_proc_url, \"../data/app-deploy-body-atom.json\", id_token=user_id_token, access_token=ades_access_token)\n",
    "\n",
    "response, access_token = demo.proc_deploy_application(ades_proc_url, \"../data/app-deploy-body-cwl-S3.json\", id_token=user_id_token, access_token=ades_access_token)"
   ]
  },
  {
   "cell_type": "markdown",
   "id": "713d73c3-4e3b-498c-b6fa-ec0246fd0ac1",
   "metadata": {},
   "source": [
    "Check that the application has been correctly deployed"
   ]
  },
  {
   "cell_type": "code",
   "execution_count": null,
   "id": "suffering-message",
   "metadata": {
    "tags": []
   },
   "outputs": [],
   "source": [
    "# Check deploy - list processes again\n",
    "response, ades_access_token, process_ids = demo.proc_list_processes(ades_proc_url, id_token=user_id_token, access_token=ades_access_token)\n",
    "print(\"Processes:\", process_ids)"
   ]
  },
  {
   "cell_type": "markdown",
   "id": "intimate-douglas",
   "metadata": {},
   "source": [
    "#### ADES: Get Application Details\n",
    "**GET {service_url}/processes/{application_name}**<br>\n",
    "Provides details of the deployed application<br>\n",
    "The response includes the API Processes json application description."
   ]
  },
  {
   "cell_type": "code",
   "execution_count": null,
   "id": "surgical-cleveland",
   "metadata": {},
   "outputs": [],
   "source": [
    "# API Processes - Get Application Details\n",
    "response, ades_access_token = demo.proc_get_app_details(ades_proc_url, app_name, id_token=user_id_token, access_token=ades_access_token)\n",
    "print(json.dumps(response.json(), indent = 2))"
   ]
  },
  {
   "cell_type": "markdown",
   "id": "fourth-decline",
   "metadata": {},
   "source": [
    "#### ADES: Execute Application\n",
    "\n",
    "**POST {service_url}/processes/{application_name}/jobs**<br>\n",
    "Request body is json as defined by API Processes to define the inputs and outputs, consistent with the CWL Workflow application package.<br>\n",
    "The response returns **201 CREATED** to indicate that the job has been successfully initiated.<br>\n",
    "The response **Location header** provides the path (/processes/{application_name}/jobs/{job_id}) to follow the job status."
   ]
  },
  {
   "cell_type": "code",
   "execution_count": null,
   "id": "existing-soccer",
   "metadata": {},
   "outputs": [],
   "source": [
    "# API Processes - Execute Application\n",
    "response, ades_access_token, job_location_path = demo.proc_execute_application(ades_proc_url, app_name, \"../data/app-execute-body.json\", id_token=user_id_token, access_token=ades_access_token)"
   ]
  },
  {
   "cell_type": "markdown",
   "id": "frozen-while",
   "metadata": {},
   "source": [
    "#### ADES: Job Status\n",
    "\n",
    "**GET {service_url}/watchjob/processes/{application_name}/jobs/{job_id}**<br>\n",
    "Checks the status of the previously submitted job - using the URL returned in the Location header of the execute request.<br>\n",
    "The response body json provides a status string (success/running/failed) and a % progress.<br>\n",
    "In the case of a failure then a descriptive message is provided."
   ]
  },
  {
   "cell_type": "code",
   "execution_count": null,
   "id": "amateur-technique",
   "metadata": {},
   "outputs": [],
   "source": [
    "# API Processes - Job Status\n",
    "response, ades_access_token, status = demo.proc_get_job_status(ades_base_url, job_location_path, id_token=user_id_token, access_token=ades_access_token)\n",
    "print(json.dumps(response.json(), indent = 2))"
   ]
  },
  {
   "cell_type": "code",
   "execution_count": null,
   "id": "infinite-eleven",
   "metadata": {},
   "outputs": [],
   "source": [
    "# API Processes - Job Status (keep polling for completion)\n",
    "response, ades_access_token, status = demo.proc_poll_job_completion(ades_base_url, job_location_path, interval=10, id_token=user_id_token, access_token=ades_access_token)"
   ]
  },
  {
   "cell_type": "code",
   "execution_count": null,
   "id": "steady-revolution",
   "metadata": {},
   "outputs": [],
   "source": [
    "print(response.status_code, response.headers, response.text)"
   ]
  },
  {
   "cell_type": "markdown",
   "id": "suitable-construction",
   "metadata": {},
   "source": [
    "#### ADES: Job Result\n",
    "**GET {service_url}/watchjob/processes/{application_name}/jobs/{job_id}/result**<br>\n",
    "Returns details of the outputs for a successful job execution.<br>\n",
    "The response body provides json data that includes the reference to the STAC file that indexes the processing outputs."
   ]
  },
  {
   "cell_type": "code",
   "execution_count": null,
   "id": "elegant-remains",
   "metadata": {
    "tags": []
   },
   "outputs": [],
   "source": [
    "# API Processes - Job Result\n",
    "response, ades_access_token, stacCatalogUri = demo.proc_get_job_result(ades_base_url, job_location_path, id_token=user_id_token, access_token=ades_access_token)\n",
    "print(json.dumps(response.json(), indent = 2))"
   ]
  },
  {
   "cell_type": "code",
   "execution_count": null,
   "id": "8f81f8d4-ead8-4bf4-b4d8-3333a30e2b34",
   "metadata": {},
   "outputs": [],
   "source": [
    "result = json.loads(response.json()[\"outputs\"][0][\"value\"][\"inlineValue\"])[\"StacCatalogUri\"]\n",
    "print(f\"Result Url: {result}\")\n",
    "result_folder_name = result.rsplit('/', 1)[0].rsplit(':', 1)[1].replace(bucket_name+\"/\",\"\")\n",
    "print(f\"Result foldername: {result_folder_name}\")"
   ]
  },
  {
   "cell_type": "markdown",
   "id": "super-nutrition",
   "metadata": {
    "tags": []
   },
   "source": [
    "#### ADES: List Jobs"
   ]
  },
  {
   "cell_type": "code",
   "execution_count": null,
   "id": "temporal-drain",
   "metadata": {},
   "outputs": [],
   "source": [
    "# API Processes - List Jobs\n",
    "response, ades_access_token, job_ids = demo.proc_list_jobs(ades_proc_url, app_name, id_token=user_id_token, access_token=ades_access_token)\n",
    "print(\"Jobs:\", job_ids)"
   ]
  },
  {
   "cell_type": "markdown",
   "id": "ongoing-sleeve",
   "metadata": {},
   "source": [
    "#### ADES: Undeploy Application\n",
    "**DELETE {service_url}/processes/{application_name}**<br>\n",
    "Undeploys application from the ADES"
   ]
  },
  {
   "cell_type": "code",
   "execution_count": null,
   "id": "sharing-closing",
   "metadata": {},
   "outputs": [],
   "source": [
    "# API Processes - Undeploy Application\n",
    "response, ades_access_token = demo.proc_undeploy_application(ades_proc_url, app_name, id_token=user_id_token, access_token=ades_access_token)"
   ]
  },
  {
   "cell_type": "code",
   "execution_count": null,
   "id": "variable-handy",
   "metadata": {
    "tags": []
   },
   "outputs": [],
   "source": [
    "# Check undeploy - list processes\n",
    "response, ades_access_token, process_ids = demo.proc_list_processes(ades_proc_url, id_token=user_id_token, access_token=ades_access_token)\n",
    "print(\"Processes:\", process_ids)"
   ]
  },
  {
   "cell_type": "markdown",
   "id": "75b90d16-9029-480c-bd44-df12056ea691",
   "metadata": {},
   "source": [
    "#### Workspace: Inspect results"
   ]
  },
  {
   "cell_type": "code",
   "execution_count": null,
   "id": "ancient-patent",
   "metadata": {},
   "outputs": [],
   "source": [
    "# Quick hack S3 access\n",
    "import boto3\n",
    "\n",
    "# Init S3 session for Creodias\n",
    "S3_ENDPOINT = \"https://cf2.cloudferro.com:8080\"\n",
    "session = boto3.session.Session()\n",
    "s3resource = session.resource('s3', aws_access_key_id=s3_access, aws_secret_access_key=s3_secret, endpoint_url=S3_ENDPOINT)\n",
    "\n",
    "# List bucket contents\n",
    "bucket = s3resource.Bucket(bucket_name)\n",
    "for obj in bucket.objects.filter(Prefix=result_folder_name):\n",
    "    print(' ->', obj.key)"
   ]
  }
 ],
 "metadata": {
  "kernelspec": {
   "display_name": "Python 3",
   "language": "python",
   "name": "python3"
  },
  "language_info": {
   "codemirror_mode": {
    "name": "ipython",
    "version": 3
   },
   "file_extension": ".py",
   "mimetype": "text/x-python",
   "name": "python",
   "nbconvert_exporter": "python",
   "pygments_lexer": "ipython3",
   "version": "3.9.2"
  }
 },
 "nbformat": 4,
 "nbformat_minor": 5
}
