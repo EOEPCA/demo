{
 "cells": [
  {
   "cell_type": "markdown",
   "id": "conceptual-judges",
   "metadata": {},
   "source": [
    "# Processing\n",
    "Demonstration of Processing endpoints."
   ]
  },
  {
   "cell_type": "code",
   "execution_count": 1,
   "id": "manufactured-repair",
   "metadata": {},
   "outputs": [],
   "source": [
    "import utils.DemoClient as client\n",
    "import jwt\n",
    "import json\n",
    "from owslib.csw import CatalogueServiceWeb\n",
    "import os"
   ]
  },
  {
   "cell_type": "markdown",
   "id": "liable-reform",
   "metadata": {},
   "source": [
    "## Initialise"
   ]
  },
  {
   "cell_type": "markdown",
   "id": "experienced-yemen",
   "metadata": {},
   "source": [
    "### Client\n",
    "We instantiate a client to interact with the platform. The client dynamically registers with the Authorisation Server to take part in UMA (User Managed Access) flows through which authorization is obtained for scoped access resources on behalf of the user."
   ]
  },
  {
   "cell_type": "code",
   "execution_count": 2,
   "id": "fluid-plane",
   "metadata": {},
   "outputs": [
    {
     "name": "stdout",
     "output_type": "stream",
     "text": [
      "State loaded from file: {'client_id': 'b0ae034e-b70b-4f49-81a2-bb9914016e1e', 'client_secret': '053c0437-1606-4b7b-8c6e-abfd3ed8ed79'}\n",
      "client_id: b0ae034e-b70b-4f49-81a2-bb9914016e1e [REUSED]\n",
      "Client state saved to file: state.json\n"
     ]
    }
   ],
   "source": [
    "#-------------------------------------------------------------------------------\n",
    "# Initialise client\n",
    "#-------------------------------------------------------------------------------\n",
    "base_domain = \"develop.eoepca.org\"\n",
    "platform_domain = \"auth.\" + base_domain\n",
    "base_url = \"https://\" + platform_domain\n",
    "demo = client.DemoClient(base_url)\n",
    "demo.register_client()\n",
    "demo.save_state()"
   ]
  },
  {
   "cell_type": "markdown",
   "id": "written-somalia",
   "metadata": {},
   "source": [
    "### User\n",
    "User authenticates and the client receives an ID Token (JWT) that represents the user."
   ]
  },
  {
   "cell_type": "code",
   "execution_count": 3,
   "id": "formed-scope",
   "metadata": {
    "tags": []
   },
   "outputs": [
    {
     "name": "stdout",
     "output_type": "stream",
     "text": [
      "[Request] GET => https://auth.develop.eoepca.org/.well-known/uma2-configuration\n",
      "<Response [200]>\n",
      "token_endpoint: https://auth.develop.eoepca.org/oxauth/restv1/token\n",
      "[Request] POST => https://auth.develop.eoepca.org/oxauth/restv1/token\n"
     ]
    }
   ],
   "source": [
    "#-------------------------------------------------------------------------------\n",
    "# Authenticate as UserA and get ID Token\n",
    "#-------------------------------------------------------------------------------\n",
    "USER_NAME=\"eric\"\n",
    "USER_PASSWORD=\"defaultPWD\"\n",
    "user_id_token = demo.get_id_token(USER_NAME, USER_PASSWORD)"
   ]
  },
  {
   "cell_type": "markdown",
   "id": "controlled-mambo",
   "metadata": {},
   "source": [
    "## Workspace"
   ]
  },
  {
   "cell_type": "code",
   "execution_count": 4,
   "id": "green-record",
   "metadata": {},
   "outputs": [],
   "source": [
    "workspace_url = \"https://workspace-api.\" + base_domain\n",
    "workspace_access_token = None\n",
    "workspace_prefix = \"develop-user-\""
   ]
  },
  {
   "cell_type": "markdown",
   "id": "terminal-missile",
   "metadata": {
    "tags": []
   },
   "source": [
    "### Workspace: Get Details\n",
    "Retrieve access information to the user workspace S3 bucket (bucket name, access key and secret access key)"
   ]
  },
  {
   "cell_type": "code",
   "execution_count": null,
   "id": "organizational-terror",
   "metadata": {},
   "outputs": [],
   "source": [
    "# Workspace - Get Details\n",
    "workspace_name =  workspace_prefix + USER_NAME.lower()\n",
    "response, workspace_access_token = demo.workspace_get_details(workspace_url, workspace_name, id_token=user_id_token, access_token=workspace_access_token)\n",
    "workspace_details = response.json()\n",
    "print(json.dumps(workspace_details[\"storage\"], indent = 2))"
   ]
  },
  {
   "cell_type": "markdown",
   "id": "seeing-deployment",
   "metadata": {},
   "source": [
    "### Inspect User Workspace\n",
    "Using the access credentials, the user can inspect his S3 bucket."
   ]
  },
  {
   "cell_type": "code",
   "execution_count": 6,
   "id": "republican-graph",
   "metadata": {},
   "outputs": [],
   "source": [
    "# Bucket details\n",
    "bucket_name = workspace_details[\"storage\"][\"credentials\"][\"bucketname\"]\n",
    "s3_access = workspace_details[\"storage\"][\"credentials\"][\"access\"]\n",
    "s3_secret = workspace_details[\"storage\"][\"credentials\"][\"secret\"]"
   ]
  },
  {
   "cell_type": "code",
   "execution_count": 7,
   "id": "1193262a-4729-47da-9219-638f4b475434",
   "metadata": {},
   "outputs": [
    {
     "name": "stdout",
     "output_type": "stream",
     "text": [
      " -> application-package/s-expression-2/s-expression_cwl.cwl\n",
      " -> application-package/s-expression/s-expression-0_0_2.cwl\n",
      " -> wf-0cd7134c-3511-11ed-8e4c-3620b8c8d343/S2B_MSIL2A_20200902T090559_N0214_R050_T34SFH_20200902T113910/S2B_MSIL2A_20200902T090559_N0214_R050_T34SFH_20200902T113910.json\n",
      " -> wf-0cd7134c-3511-11ed-8e4c-3620b8c8d343/S2B_MSIL2A_20200902T090559_N0214_R050_T34SFH_20200902T113910/ndvi.tif\n",
      " -> wf-0cd7134c-3511-11ed-8e4c-3620b8c8d343/catalog.json\n",
      " -> wf-0ea9f7be-3513-11ed-8e62-ee207e53c6ea/S2B_MSIL2A_20200902T090559_N0214_R050_T34SFH_20200902T113910/S2B_MSIL2A_20200902T090559_N0214_R050_T34SFH_20200902T113910.json\n",
      " -> wf-0ea9f7be-3513-11ed-8e62-ee207e53c6ea/S2B_MSIL2A_20200902T090559_N0214_R050_T34SFH_20200902T113910/ndvi.tif\n",
      " -> wf-0ea9f7be-3513-11ed-8e62-ee207e53c6ea/catalog.json\n",
      " -> wf-11f5cce6-35a3-11ed-b1c5-ee207e53c6ea/S2B_MSIL2A_20200902T090559_N0214_R050_T34SFH_20200902T113910/S2B_MSIL2A_20200902T090559_N0214_R050_T34SFH_20200902T113910.json\n",
      " -> wf-11f5cce6-35a3-11ed-b1c5-ee207e53c6ea/S2B_MSIL2A_20200902T090559_N0214_R050_T34SFH_20200902T113910/ndvi.tif\n",
      " -> wf-11f5cce6-35a3-11ed-b1c5-ee207e53c6ea/catalog.json\n",
      " -> wf-18b2fe48-35ba-11ed-90ca-ee207e53c6ea/S2B_MSIL2A_20200902T090559_N0214_R050_T34SFH_20200902T113910/S2B_MSIL2A_20200902T090559_N0214_R050_T34SFH_20200902T113910.json\n",
      " -> wf-18b2fe48-35ba-11ed-90ca-ee207e53c6ea/S2B_MSIL2A_20200902T090559_N0214_R050_T34SFH_20200902T113910/ndvi.tif\n",
      " -> wf-18b2fe48-35ba-11ed-90ca-ee207e53c6ea/catalog.json\n",
      " -> wf-1ef71c48-3511-11ed-a20e-3620b8c8d343/S2B_MSIL2A_20200902T090559_N0214_R050_T34SFH_20200902T113910/S2B_MSIL2A_20200902T090559_N0214_R050_T34SFH_20200902T113910.json\n",
      " -> wf-1ef71c48-3511-11ed-a20e-3620b8c8d343/S2B_MSIL2A_20200902T090559_N0214_R050_T34SFH_20200902T113910/ndvi.tif\n",
      " -> wf-1ef71c48-3511-11ed-a20e-3620b8c8d343/catalog.json\n",
      " -> wf-201676b0-cada-11ec-8e7e-525870ced4a1/S2B_MSIL2A_20200902T090559_N0214_R050_T34SFH_20200902T113910/S2B_MSIL2A_20200902T090559_N0214_R050_T34SFH_20200902T113910.json\n",
      " -> wf-201676b0-cada-11ec-8e7e-525870ced4a1/S2B_MSIL2A_20200902T090559_N0214_R050_T34SFH_20200902T113910/ndvi.tif\n",
      " -> wf-201676b0-cada-11ec-8e7e-525870ced4a1/catalog.json\n",
      " -> wf-2f864d56-350f-11ed-82b4-3620b8c8d343/S2B_MSIL2A_20200902T090559_N0214_R050_T34SFH_20200902T113910/S2B_MSIL2A_20200902T090559_N0214_R050_T34SFH_20200902T113910.json\n",
      " -> wf-2f864d56-350f-11ed-82b4-3620b8c8d343/S2B_MSIL2A_20200902T090559_N0214_R050_T34SFH_20200902T113910/ndvi.tif\n",
      " -> wf-2f864d56-350f-11ed-82b4-3620b8c8d343/catalog.json\n",
      " -> wf-452023c0-3592-11ed-a329-ee207e53c6ea/S2B_MSIL2A_20200902T090559_N0214_R050_T34SFH_20200902T113910/S2B_MSIL2A_20200902T090559_N0214_R050_T34SFH_20200902T113910.json\n",
      " -> wf-452023c0-3592-11ed-a329-ee207e53c6ea/S2B_MSIL2A_20200902T090559_N0214_R050_T34SFH_20200902T113910/ndvi.tif\n",
      " -> wf-452023c0-3592-11ed-a329-ee207e53c6ea/catalog.json\n",
      " -> wf-4b11cec2-3511-11ed-a270-3620b8c8d343/S2B_MSIL2A_20200902T090559_N0214_R050_T34SFH_20200902T113910/S2B_MSIL2A_20200902T090559_N0214_R050_T34SFH_20200902T113910.json\n",
      " -> wf-4b11cec2-3511-11ed-a270-3620b8c8d343/S2B_MSIL2A_20200902T090559_N0214_R050_T34SFH_20200902T113910/ndvi.tif\n",
      " -> wf-4b11cec2-3511-11ed-a270-3620b8c8d343/catalog.json\n",
      " -> wf-5ae3ff7a-359b-11ed-b352-ee207e53c6ea/S2B_MSIL2A_20200902T090559_N0214_R050_T34SFH_20200902T113910/S2B_MSIL2A_20200902T090559_N0214_R050_T34SFH_20200902T113910.json\n",
      " -> wf-5ae3ff7a-359b-11ed-b352-ee207e53c6ea/S2B_MSIL2A_20200902T090559_N0214_R050_T34SFH_20200902T113910/ndvi.tif\n",
      " -> wf-5ae3ff7a-359b-11ed-b352-ee207e53c6ea/catalog.json\n",
      " -> wf-6cc6d042-35a4-11ed-a2d1-ee207e53c6ea/S2B_MSIL2A_20200902T090559_N0214_R050_T34SFH_20200902T113910/S2B_MSIL2A_20200902T090559_N0214_R050_T34SFH_20200902T113910.json\n",
      " -> wf-6cc6d042-35a4-11ed-a2d1-ee207e53c6ea/S2B_MSIL2A_20200902T090559_N0214_R050_T34SFH_20200902T113910/ndvi.tif\n",
      " -> wf-6cc6d042-35a4-11ed-a2d1-ee207e53c6ea/catalog.json\n",
      " -> wf-726abc42-35a0-11ed-81e8-ee207e53c6ea/S2B_MSIL2A_20200902T090559_N0214_R050_T34SFH_20200902T113910/S2B_MSIL2A_20200902T090559_N0214_R050_T34SFH_20200902T113910.json\n",
      " -> wf-726abc42-35a0-11ed-81e8-ee207e53c6ea/S2B_MSIL2A_20200902T090559_N0214_R050_T34SFH_20200902T113910/ndvi.tif\n",
      " -> wf-726abc42-35a0-11ed-81e8-ee207e53c6ea/catalog.json\n",
      " -> wf-85ced3cc-35a5-11ed-81e6-ee207e53c6ea/S2B_MSIL2A_20200902T090559_N0214_R050_T34SFH_20200902T113910/S2B_MSIL2A_20200902T090559_N0214_R050_T34SFH_20200902T113910.json\n",
      " -> wf-85ced3cc-35a5-11ed-81e6-ee207e53c6ea/S2B_MSIL2A_20200902T090559_N0214_R050_T34SFH_20200902T113910/ndvi.tif\n",
      " -> wf-85ced3cc-35a5-11ed-81e6-ee207e53c6ea/catalog.json\n",
      " -> wf-9abb827e-359d-11ed-ba9e-ee207e53c6ea/S2B_MSIL2A_20200902T090559_N0214_R050_T34SFH_20200902T113910/S2B_MSIL2A_20200902T090559_N0214_R050_T34SFH_20200902T113910.json\n",
      " -> wf-9abb827e-359d-11ed-ba9e-ee207e53c6ea/S2B_MSIL2A_20200902T090559_N0214_R050_T34SFH_20200902T113910/ndvi.tif\n",
      " -> wf-9abb827e-359d-11ed-ba9e-ee207e53c6ea/catalog.json\n",
      " -> wf-9f3875ba-35ba-11ed-bfb8-ee207e53c6ea/S2B_MSIL2A_20200902T090559_N0214_R050_T34SFH_20200902T113910/S2B_MSIL2A_20200902T090559_N0214_R050_T34SFH_20200902T113910.json\n",
      " -> wf-9f3875ba-35ba-11ed-bfb8-ee207e53c6ea/S2B_MSIL2A_20200902T090559_N0214_R050_T34SFH_20200902T113910/ndvi.tif\n",
      " -> wf-9f3875ba-35ba-11ed-bfb8-ee207e53c6ea/catalog.json\n",
      " -> wf-aa8250ac-3511-11ed-9996-ee207e53c6ea/S2B_MSIL2A_20200902T090559_N0214_R050_T34SFH_20200902T113910/S2B_MSIL2A_20200902T090559_N0214_R050_T34SFH_20200902T113910.json\n",
      " -> wf-aa8250ac-3511-11ed-9996-ee207e53c6ea/S2B_MSIL2A_20200902T090559_N0214_R050_T34SFH_20200902T113910/ndvi.tif\n",
      " -> wf-aa8250ac-3511-11ed-9996-ee207e53c6ea/catalog.json\n",
      " -> wf-b752b92a-3516-11ed-80d8-ee207e53c6ea/S2B_MSIL2A_20200902T090559_N0214_R050_T34SFH_20200902T113910/S2B_MSIL2A_20200902T090559_N0214_R050_T34SFH_20200902T113910.json\n",
      " -> wf-b752b92a-3516-11ed-80d8-ee207e53c6ea/S2B_MSIL2A_20200902T090559_N0214_R050_T34SFH_20200902T113910/ndvi.tif\n",
      " -> wf-b752b92a-3516-11ed-80d8-ee207e53c6ea/catalog.json\n",
      " -> wf-e6105fe8-35a1-11ed-a665-ee207e53c6ea/S2B_MSIL2A_20200902T090559_N0214_R050_T34SFH_20200902T113910/S2B_MSIL2A_20200902T090559_N0214_R050_T34SFH_20200902T113910.json\n",
      " -> wf-e6105fe8-35a1-11ed-a665-ee207e53c6ea/S2B_MSIL2A_20200902T090559_N0214_R050_T34SFH_20200902T113910/ndvi.tif\n",
      " -> wf-e6105fe8-35a1-11ed-a665-ee207e53c6ea/catalog.json\n",
      " -> wf-ed41f608-359e-11ed-8066-ee207e53c6ea/S2B_MSIL2A_20200902T090559_N0214_R050_T34SFH_20200902T113910/S2B_MSIL2A_20200902T090559_N0214_R050_T34SFH_20200902T113910.json\n",
      " -> wf-ed41f608-359e-11ed-8066-ee207e53c6ea/S2B_MSIL2A_20200902T090559_N0214_R050_T34SFH_20200902T113910/ndvi.tif\n",
      " -> wf-ed41f608-359e-11ed-8066-ee207e53c6ea/catalog.json\n"
     ]
    }
   ],
   "source": [
    "# Quick hack S3 access\n",
    "import boto3\n",
    "\n",
    "# Init S3 session for Creodias\n",
    "S3_ENDPOINT = \"https://cf2.cloudferro.com:8080\"\n",
    "session = boto3.session.Session()\n",
    "s3resource = session.resource('s3', aws_access_key_id=s3_access, aws_secret_access_key=s3_secret, endpoint_url=S3_ENDPOINT)\n",
    "\n",
    "# List bucket contents\n",
    "bucket = s3resource.Bucket(bucket_name)\n",
    "for obj in bucket.objects.all():\n",
    "    print(' ->', obj.key)"
   ]
  },
  {
   "cell_type": "markdown",
   "id": "794a6e41-2095-402f-8736-9159230b6cd1",
   "metadata": {},
   "source": [
    "### Upload Application Package and register it\n",
    "User uploads the application package to his workspace"
   ]
  },
  {
   "cell_type": "code",
   "execution_count": 8,
   "id": "42f4eb91-7c57-4251-b606-f11e8194e669",
   "metadata": {},
   "outputs": [
    {
     "name": "stdout",
     "output_type": "stream",
     "text": [
      "Application package uploaded successfully\n"
     ]
    }
   ],
   "source": [
    "object = s3resource.Object(bucket_name, 'application-package/s-expression/s-expression-0_0_2.cwl')\n",
    "result = object.put(Body=open('../data/s-expression-cwl.cwl', 'rb'))\n",
    "res = result.get('ResponseMetadata')\n",
    "if res.get('HTTPStatusCode') == 200:\n",
    "    print('Application package uploaded successfully')\n",
    "else:\n",
    "    print('Application package not uploaded')"
   ]
  },
  {
   "cell_type": "markdown",
   "id": "0410339c-a727-4c9e-b631-70e8d2e13b91",
   "metadata": {},
   "source": [
    "User registers the Application Package through the Resource Catalog API"
   ]
  },
  {
   "cell_type": "code",
   "execution_count": 9,
   "id": "522e71f7-7165-46ae-9422-061319b8b394",
   "metadata": {},
   "outputs": [
    {
     "name": "stdout",
     "output_type": "stream",
     "text": [
      "[Request] POST => https://workspace-api.develop.eoepca.org/workspaces/develop-user-eric/register\n",
      "UNEXPECTED status code: 400 for resource https://workspace-api.develop.eoepca.org/workspaces/develop-user-eric/register\n",
      "[Workspace Registration] = 400 (Bad Request) () \n"
     ]
    }
   ],
   "source": [
    "resource_url= f'{bucket_name}/application-package/s-expression/s-expression-0_0_2.cwl'\n",
    "demo.workspace_register(workspace_url, workspace_name,resource_url, id_token=user_id_token, access_token=workspace_access_token)"
   ]
  },
  {
   "cell_type": "markdown",
   "id": "e6c02f3d-5851-4344-a971-93ee3899ddb3",
   "metadata": {},
   "source": [
    "User inspects the registered Application Package through the Resource Catalogue API"
   ]
  },
  {
   "cell_type": "code",
   "execution_count": 10,
   "id": "4058d1e3-fbe8-4180-acb9-c05b74dcd6ff",
   "metadata": {},
   "outputs": [
    {
     "name": "stdout",
     "output_type": "stream",
     "text": [
      "eric's workspace (catalogue): https://resource-catalogue.develop-user-eric.develop.eoepca.org/csw\n",
      "eric's workspace records:\n",
      "\n",
      "identifier: s-expression\n",
      "type: application\n",
      "title: s expressions\n",
      "\n",
      "identifier: simple-collection\n",
      "type: dataset\n",
      "title: simple-collection\n",
      "\n",
      "identifier: https://demo.pygeoapi.io/stable\n",
      "type: application\n",
      "title: pygeoapi Demo instance - running latest stable 0.11.0 pygeoapi version\n",
      "\n",
      "URL for Application s-expression:\n"
     ]
    },
    {
     "data": {
      "text/plain": [
       "[{'scheme': 'text/html',\n",
       "  'url': 'https://raw.githubusercontent.com/EOEPCA/app-s-expression/main/README.md'},\n",
       " {'scheme': 'application/x-yaml',\n",
       "  'url': 's3://develop-user-eric/application-package/s-expression-2/s-expression_cwl.cwl'},\n",
       " {'scheme': 'application/x-yaml',\n",
       "  'url': 'https://cf2.cloudferro.com:8080/dd14602fcb6542ba958caab80261b617:develop-user-eric/application-package/s-expression-2/s-expression_cwl.cwl'},\n",
       " {'scheme': 'text/html',\n",
       "  'url': 'https://github.com/EOEPCA/app-s-expression#readme'},\n",
       " {'scheme': 'text/html', 'url': 'https://github.com/EOEPCA/app-s-expression'},\n",
       " {'scheme': 'text/html',\n",
       "  'url': 'https://raw.githubusercontent.com/EOEPCA/eoepca/develop/LICENSE'}]"
      ]
     },
     "execution_count": 10,
     "metadata": {},
     "output_type": "execute_result"
    }
   ],
   "source": [
    "headers = {\n",
    "    'Authorization': 'Bearer ' + user_id_token\n",
    "}\n",
    "app_id= \"s-expression\"\n",
    "workspace_endpoint = f'https://resource-catalogue.{workspace_prefix}{USER_NAME.lower()}.{base_domain}/csw'\n",
    "print(f\"{USER_NAME}'s workspace (catalogue): {workspace_endpoint}\")\n",
    "csw = CatalogueServiceWeb(workspace_endpoint,timeout=30,headers=headers)\n",
    "csw.getrecords2(maxrecords=10)\n",
    "print(f\"{USER_NAME}'s workspace records:\\n\")\n",
    "for rec in csw.records:\n",
    "    print(f'identifier: {csw.records[rec].identifier}\\ntype: {csw.records[rec].type}\\ntitle: {csw.records[rec].title}\\n')\n",
    "print(f\"URL for Application {app_id}:\")\n",
    "csw.records[app_id].references"
   ]
  },
  {
   "cell_type": "markdown",
   "id": "swiss-librarian",
   "metadata": {},
   "source": [
    "## ADES\n",
    "The ADES provides user-specific endpoints, using a URL path prefix."
   ]
  },
  {
   "cell_type": "code",
   "execution_count": 11,
   "id": "distinguished-particle",
   "metadata": {},
   "outputs": [
    {
     "name": "stdout",
     "output_type": "stream",
     "text": [
      "ADES WPS endpoint: http://ades.develop.eoepca.org/eric/zoo\n",
      "ADES API Processes endpoint: http://ades.develop.eoepca.org/eric/wps3\n"
     ]
    }
   ],
   "source": [
    "# ADES URLs\n",
    "ades_base_url = \"http://ades.\" + base_domain\n",
    "ades_wps_url = ades_base_url + \"/\" + USER_NAME + \"/zoo\"; print(\"ADES WPS endpoint:\", ades_wps_url)\n",
    "ades_proc_url = ades_base_url + \"/\" + USER_NAME + \"/wps3\"; print(\"ADES API Processes endpoint:\", ades_proc_url)"
   ]
  },
  {
   "cell_type": "markdown",
   "id": "different-studio",
   "metadata": {},
   "source": [
    "### ADES API Processes"
   ]
  },
  {
   "cell_type": "code",
   "execution_count": 12,
   "id": "architectural-college",
   "metadata": {},
   "outputs": [],
   "source": [
    "ades_access_token = None\n",
    "app_name = \"s-expression-0_0_2\""
   ]
  },
  {
   "cell_type": "markdown",
   "id": "framed-russell",
   "metadata": {},
   "source": [
    "#### ADES: List Processes\n",
    "**GET {service_url}/processes**<br>\n",
    "Provides a list of all processes "
   ]
  },
  {
   "cell_type": "code",
   "execution_count": 13,
   "id": "progressive-experiment",
   "metadata": {},
   "outputs": [
    {
     "name": "stdout",
     "output_type": "stream",
     "text": [
      "[Request] GET => http://ades.develop.eoepca.org/eric/wps3/processes\n",
      "[Process List] = 200 (OK)\n",
      "{'processes': [{'id': 'UndeployProcess', 'title': 'Undeploy Process', 'description': 'This method will undeploy a deployed processing service.', 'mutable': False, 'version': '1.0.0', 'jobControlOptions': ['sync-execute', 'async-execute', 'dismiss'], 'outputTransmission': ['value', 'reference'], 'links': [{'rel': 'self', 'type': 'application/json', 'title': 'Process Description', 'href': '/eric/wps3/processes/UndeployProcess'}]}, {'id': 's-expression-0_0_2', 'title': 's expressions', 'description': 'Applies s expressions to EO acquisitions', 'mutable': True, 'version': '0.0.2', 'jobControlOptions': ['sync-execute', 'async-execute', 'dismiss'], 'outputTransmission': ['value', 'reference'], 'links': [{'rel': 'self', 'type': 'application/json', 'title': 'Process Description', 'href': '/eric/wps3/processes/s-expression-0_0_2'}]}, {'id': 'GetStatus', 'title': 'Produce an updated ExecuteResponse document. ', 'description': 'Create an ExecuteResponse document from a sid (Service ID), it will use the niternal ZOO Kernel mechanisms to access the current status from a running Service and update the percentCompleted from the original backup file used by the ZOO Kernel when running a Service in background. ', 'mutable': False, 'version': '1.0.0', 'jobControlOptions': ['sync-execute', 'async-execute', 'dismiss'], 'outputTransmission': ['value', 'reference'], 'links': [{'rel': 'self', 'type': 'application/json', 'title': 'Process Description', 'href': '/eric/wps3/processes/GetStatus'}]}, {'id': 'DeployProcess', 'title': 'Deploy Process', 'description': 'This method will deploy an application package to create a process accessible through a WPS interface.', 'mutable': False, 'version': '1.0.0', 'jobControlOptions': ['sync-execute', 'async-execute', 'dismiss'], 'outputTransmission': ['value', 'reference'], 'links': [{'rel': 'self', 'type': 'application/json', 'title': 'Process Description', 'href': '/eric/wps3/processes/DeployProcess'}]}], 'links': [{'rel': 'self', 'type': 'application/json', 'href': '/eric/wps3/processes'}], 'numberTotal': 4}\n",
      "Processes: ['UndeployProcess', 's-expression-0_0_2', 'GetStatus', 'DeployProcess']\n"
     ]
    }
   ],
   "source": [
    "# API Processes - List Processes\n",
    "response, ades_access_token, process_ids = demo.proc_list_processes(ades_proc_url, id_token=user_id_token, access_token=ades_access_token)\n",
    "print(\"Processes:\", process_ids)"
   ]
  },
  {
   "cell_type": "markdown",
   "id": "aggregate-scratch",
   "metadata": {},
   "source": [
    "#### ADES: Deploy Application\n",
    "**_Application Deployment Payload_**<br>\n",
    "Use a helper script to create the POST body for the application deployment request, using the Application Package URL discovered earlier."
   ]
  },
  {
   "cell_type": "code",
   "execution_count": 14,
   "id": "02d33aa0-1ef4-455d-b6de-245d7546a69c",
   "metadata": {},
   "outputs": [
    {
     "name": "stdout",
     "output_type": "stream",
     "text": [
      "{\n",
      "  \"executionUnit\": {\n",
      "    \"href\": \"s3://develop-user-eric/application-package/s-expression/s-expression-0_0_2.cwl\",\n",
      "    \"type\": \"application/cwl\"\n",
      "  }\n",
      "}"
     ]
    }
   ],
   "source": [
    "application_package_url=f\"s3://{resource_url}\"\n",
    "os.system(f'../data/create-deploy-body-cwl.sh \"{application_package_url}\"')\n",
    "!cat ../data/app-deploy-body-cwl.json"
   ]
  },
  {
   "cell_type": "markdown",
   "id": "35368200-be69-409f-ad37-74fa2b761470",
   "metadata": {},
   "source": [
    "\n",
    "**POST {service_url}/processes**<br>\n",
    "Deploys application to the ADES.<br>\n",
    "Request body is json in which the input is the Application Package describing the application.<br>\n",
    "The Application Package is a CWL Workflow that is typically provided as an href with content type **_application/atom+xml_** or **_application/cwl_**. The url to the application package can be either a http or s3 endpoint. In this example we will use the application package previously uploaded to Bob's workspace."
   ]
  },
  {
   "cell_type": "code",
   "execution_count": 15,
   "id": "legal-thunder",
   "metadata": {},
   "outputs": [
    {
     "name": "stdout",
     "output_type": "stream",
     "text": [
      "Application details read from file: ../data/app-deploy-body-cwl.json\n",
      "[Request] POST => http://ades.develop.eoepca.org/eric/wps3/processes\n",
      "[Deploy Response] = 201 (Created)\n"
     ]
    }
   ],
   "source": [
    "# API Processes - Deploy Application\n",
    "#response, ades_access_token = demo.proc_deploy_application(ades_proc_url, \"../data/app-deploy-body-atom.json\", id_token=user_id_token, access_token=ades_access_token)\n",
    "\n",
    "response, access_token = demo.proc_deploy_application(ades_proc_url, \"../data/app-deploy-body-cwl.json\", id_token=user_id_token, access_token=ades_access_token)"
   ]
  },
  {
   "cell_type": "markdown",
   "id": "713d73c3-4e3b-498c-b6fa-ec0246fd0ac1",
   "metadata": {},
   "source": [
    "Check that the application has been correctly deployed"
   ]
  },
  {
   "cell_type": "code",
   "execution_count": 16,
   "id": "suffering-message",
   "metadata": {
    "tags": []
   },
   "outputs": [
    {
     "name": "stdout",
     "output_type": "stream",
     "text": [
      "[Request] GET => http://ades.develop.eoepca.org/eric/wps3/processes\n",
      "[Process List] = 200 (OK)\n",
      "{'processes': [{'id': 'UndeployProcess', 'title': 'Undeploy Process', 'description': 'This method will undeploy a deployed processing service.', 'mutable': False, 'version': '1.0.0', 'jobControlOptions': ['sync-execute', 'async-execute', 'dismiss'], 'outputTransmission': ['value', 'reference'], 'links': [{'rel': 'self', 'type': 'application/json', 'title': 'Process Description', 'href': '/eric/wps3/processes/UndeployProcess'}]}, {'id': 's-expression-0_0_2', 'title': 's expressions', 'description': 'Applies s expressions to EO acquisitions', 'mutable': True, 'version': '0.0.2', 'jobControlOptions': ['sync-execute', 'async-execute', 'dismiss'], 'outputTransmission': ['value', 'reference'], 'links': [{'rel': 'self', 'type': 'application/json', 'title': 'Process Description', 'href': '/eric/wps3/processes/s-expression-0_0_2'}]}, {'id': 'GetStatus', 'title': 'Produce an updated ExecuteResponse document. ', 'description': 'Create an ExecuteResponse document from a sid (Service ID), it will use the niternal ZOO Kernel mechanisms to access the current status from a running Service and update the percentCompleted from the original backup file used by the ZOO Kernel when running a Service in background. ', 'mutable': False, 'version': '1.0.0', 'jobControlOptions': ['sync-execute', 'async-execute', 'dismiss'], 'outputTransmission': ['value', 'reference'], 'links': [{'rel': 'self', 'type': 'application/json', 'title': 'Process Description', 'href': '/eric/wps3/processes/GetStatus'}]}, {'id': 'DeployProcess', 'title': 'Deploy Process', 'description': 'This method will deploy an application package to create a process accessible through a WPS interface.', 'mutable': False, 'version': '1.0.0', 'jobControlOptions': ['sync-execute', 'async-execute', 'dismiss'], 'outputTransmission': ['value', 'reference'], 'links': [{'rel': 'self', 'type': 'application/json', 'title': 'Process Description', 'href': '/eric/wps3/processes/DeployProcess'}]}], 'links': [{'rel': 'self', 'type': 'application/json', 'href': '/eric/wps3/processes'}], 'numberTotal': 4}\n",
      "Processes: ['UndeployProcess', 's-expression-0_0_2', 'GetStatus', 'DeployProcess']\n"
     ]
    }
   ],
   "source": [
    "# Check deploy - list processes again\n",
    "response, ades_access_token, process_ids = demo.proc_list_processes(ades_proc_url, id_token=user_id_token, access_token=ades_access_token)\n",
    "print(\"Processes:\", process_ids)"
   ]
  },
  {
   "cell_type": "markdown",
   "id": "intimate-douglas",
   "metadata": {},
   "source": [
    "#### ADES: Get Application Details\n",
    "**GET {service_url}/processes/{application_name}**<br>\n",
    "Provides details of the deployed application<br>\n",
    "The response includes the API Processes json application description."
   ]
  },
  {
   "cell_type": "code",
   "execution_count": 17,
   "id": "surgical-cleveland",
   "metadata": {},
   "outputs": [
    {
     "name": "stdout",
     "output_type": "stream",
     "text": [
      "[Request] GET => http://ades.develop.eoepca.org/eric/wps3/processes/s-expression-0_0_2\n",
      "[App Details] = 200 (OK)\n",
      "{\n",
      "  \"id\": \"s-expression-0_0_2\",\n",
      "  \"title\": \"s expressions\",\n",
      "  \"description\": \"Applies s expressions to EO acquisitions\",\n",
      "  \"mutable\": true,\n",
      "  \"version\": \"0.0.2\",\n",
      "  \"jobControlOptions\": [\n",
      "    \"sync-execute\",\n",
      "    \"async-execute\",\n",
      "    \"dismiss\"\n",
      "  ],\n",
      "  \"outputTransmission\": [\n",
      "    \"value\",\n",
      "    \"reference\"\n",
      "  ],\n",
      "  \"links\": [\n",
      "    {\n",
      "      \"rel\": \"http://www.opengis.net/def/rel/ogc/1.0/execute\",\n",
      "      \"type\": \"application/json\",\n",
      "      \"title\": \"Execute End Point\",\n",
      "      \"href\": \"/eric/wps3/processes/s-expression-0_0_2/execution\"\n",
      "    }\n",
      "  ],\n",
      "  \"inputs\": {\n",
      "    \"input_reference\": {\n",
      "      \"title\": \"Input product reference\",\n",
      "      \"description\": \"Input product reference\",\n",
      "      \"schema\": {\n",
      "        \"type\": \"string\",\n",
      "        \"default\": \"Any value\"\n",
      "      }\n",
      "    },\n",
      "    \"s_expression\": {\n",
      "      \"title\": \"s expression\",\n",
      "      \"description\": \"s expression\",\n",
      "      \"schema\": {\n",
      "        \"type\": \"string\",\n",
      "        \"default\": \"Any value\"\n",
      "      }\n",
      "    },\n",
      "    \"cbn\": {\n",
      "      \"title\": \"Common band name\",\n",
      "      \"description\": \"Common band name\",\n",
      "      \"schema\": {\n",
      "        \"type\": \"string\",\n",
      "        \"default\": \"Any value\"\n",
      "      }\n",
      "    }\n",
      "  },\n",
      "  \"outputs\": {\n",
      "    \"wf_outputs\": {\n",
      "      \"title\": \"wf_outputs\",\n",
      "      \"extended-schema\": {\n",
      "        \"oneOf\": [\n",
      "          {\n",
      "            \"allOf\": [\n",
      "              {\n",
      "                \"$ref\": \"http://zoo-project.org/dl/link.json\"\n",
      "              },\n",
      "              {\n",
      "                \"type\": \"object\",\n",
      "                \"properties\": {\n",
      "                  \"type\": {\n",
      "                    \"enum\": [\n",
      "                      \"application/json\"\n",
      "                    ]\n",
      "                  }\n",
      "                }\n",
      "              }\n",
      "            ]\n",
      "          },\n",
      "          {\n",
      "            \"type\": \"object\",\n",
      "            \"required\": [\n",
      "              \"value\"\n",
      "            ],\n",
      "            \"properties\": {\n",
      "              \"value\": {\n",
      "                \"oneOf\": [\n",
      "                  {\n",
      "                    \"type\": \"object\"\n",
      "                  }\n",
      "                ]\n",
      "              }\n",
      "            }\n",
      "          }\n",
      "        ]\n",
      "      },\n",
      "      \"schema\": {\n",
      "        \"oneOf\": [\n",
      "          {\n",
      "            \"type\": \"object\"\n",
      "          }\n",
      "        ]\n",
      "      }\n",
      "    }\n",
      "  }\n",
      "}\n"
     ]
    }
   ],
   "source": [
    "# API Processes - Get Application Details\n",
    "response, ades_access_token = demo.proc_get_app_details(ades_proc_url, app_name, id_token=user_id_token, access_token=ades_access_token)\n",
    "print(json.dumps(response.json(), indent = 2))"
   ]
  },
  {
   "cell_type": "markdown",
   "id": "fourth-decline",
   "metadata": {},
   "source": [
    "#### ADES: Execute Application\n",
    "\n",
    "**POST {service_url}/processes/{application_name}/execution**<br>\n",
    "Request body is json as defined by API Processes to define the inputs and outputs, consistent with the CWL Workflow application package.<br>\n",
    "The response returns **201 CREATED** to indicate that the job has been successfully initiated.<br>\n",
    "The response **Location header** provides the path (/processes/{application_name}/jobs/{job_id}) to follow the job status."
   ]
  },
  {
   "cell_type": "code",
   "execution_count": 18,
   "id": "existing-soccer",
   "metadata": {},
   "outputs": [
    {
     "name": "stdout",
     "output_type": "stream",
     "text": [
      "Application execute details read from file: ../data/s-expression-execute-body.json\n",
      "[Request] POST => http://ades.develop.eoepca.org/eric/wps3/processes/s-expression-0_0_2/execution\n",
      "[Execute Response] = 201 (Created) => job=/eric/wps3/jobs/7627fd8e-35bb-11ed-ad07-ee207e53c6ea\n"
     ]
    }
   ],
   "source": [
    "# API Processes - Execute Application\n",
    "response, ades_access_token, job_location_path = demo.proc_execute_application(ades_proc_url, app_name, \"../data/s-expression-execute-body.json\", id_token=user_id_token, access_token=ades_access_token)"
   ]
  },
  {
   "cell_type": "markdown",
   "id": "frozen-while",
   "metadata": {},
   "source": [
    "#### ADES: Job Status\n",
    "\n",
    "**GET {service_url}/jobs/{job_id}**<br>\n",
    "Checks the status of the previously submitted job - using the URL returned in the Location header of the execute request.<br>\n",
    "The response body json provides a status string (success/running/failed) and a % progress.<br>\n",
    "In the case of a failure then a descriptive message is provided."
   ]
  },
  {
   "cell_type": "code",
   "execution_count": 19,
   "id": "amateur-technique",
   "metadata": {},
   "outputs": [
    {
     "name": "stdout",
     "output_type": "stream",
     "text": [
      "[Request] GET => http://ades.develop.eoepca.org/eric/wps3/jobs/7627fd8e-35bb-11ed-ad07-ee207e53c6ea\n",
      "[Job Status] = 200 (OK) => 16/09/2022 12:31:18 - running => {\"jobID\":\"7627fd8e-35bb-11ed-ad07-ee207e53c6ea\",\"status\":\"running\",\"message\":\"ZOO-Kernel is currently running your service!\",\"links\":[{\"title\":\"Status location\",\"rel\":\"status\",\"type\":\"application\\/json\",\"href\":\"\\/eric\\/wps3\\/jobs\\/7627fd8e-35bb-11ed-ad07-ee207e53c6ea\"}]}\n",
      "\n",
      "{\n",
      "  \"jobID\": \"7627fd8e-35bb-11ed-ad07-ee207e53c6ea\",\n",
      "  \"status\": \"running\",\n",
      "  \"message\": \"ZOO-Kernel is currently running your service!\",\n",
      "  \"links\": [\n",
      "    {\n",
      "      \"title\": \"Status location\",\n",
      "      \"rel\": \"status\",\n",
      "      \"type\": \"application/json\",\n",
      "      \"href\": \"/eric/wps3/jobs/7627fd8e-35bb-11ed-ad07-ee207e53c6ea\"\n",
      "    }\n",
      "  ]\n",
      "}\n"
     ]
    }
   ],
   "source": [
    "# API Processes - Job Status\n",
    "response, ades_access_token, status = demo.proc_get_job_status(ades_base_url, job_location_path, id_token=user_id_token, access_token=ades_access_token)\n",
    "print(json.dumps(response.json(), indent = 2))"
   ]
  },
  {
   "cell_type": "code",
   "execution_count": 20,
   "id": "infinite-eleven",
   "metadata": {},
   "outputs": [
    {
     "name": "stdout",
     "output_type": "stream",
     "text": [
      "[Job Status] = 200 (OK) => 16/09/2022 12:31:19 - running => {\"jobID\":\"7627fd8e-35bb-11ed-ad07-ee207e53c6ea\",\"status\":\"running\",\"message\":\"ZOO-Kernel is currently running your service!\",\"links\":[{\"title\":\"Status location\",\"rel\":\"status\",\"type\":\"application\\/json\",\"href\":\"\\/eric\\/wps3\\/jobs\\/7627fd8e-35bb-11ed-ad07-ee207e53c6ea\"}]}\n",
      "\n",
      "[Job Status] = 200 (OK) => 16/09/2022 12:31:30 - running => {\"jobID\":\"7627fd8e-35bb-11ed-ad07-ee207e53c6ea\",\"status\":\"running\",\"message\":\"ZOO-Kernel is currently running your service!\",\"links\":[{\"title\":\"Status location\",\"rel\":\"status\",\"type\":\"application\\/json\",\"href\":\"\\/eric\\/wps3\\/jobs\\/7627fd8e-35bb-11ed-ad07-ee207e53c6ea\"}]}\n",
      "\n",
      "[Job Status] = 200 (OK) => 16/09/2022 12:31:41 - running => {\"jobID\":\"7627fd8e-35bb-11ed-ad07-ee207e53c6ea\",\"status\":\"running\",\"message\":\"ZOO-Kernel is currently running your service!\",\"links\":[{\"title\":\"Status location\",\"rel\":\"status\",\"type\":\"application\\/json\",\"href\":\"\\/eric\\/wps3\\/jobs\\/7627fd8e-35bb-11ed-ad07-ee207e53c6ea\"}]}\n",
      "\n",
      "[Job Status] = 200 (OK) => 16/09/2022 12:31:52 - running => {\"jobID\":\"7627fd8e-35bb-11ed-ad07-ee207e53c6ea\",\"status\":\"running\",\"message\":\"ZOO-Kernel is currently running your service!\",\"links\":[{\"title\":\"Status location\",\"rel\":\"status\",\"type\":\"application\\/json\",\"href\":\"\\/eric\\/wps3\\/jobs\\/7627fd8e-35bb-11ed-ad07-ee207e53c6ea\"}]}\n",
      "\n",
      "[Job Status] = 200 (OK) => 16/09/2022 12:32:03 - running => {\"jobID\":\"7627fd8e-35bb-11ed-ad07-ee207e53c6ea\",\"status\":\"running\",\"message\":\"ZOO-Kernel is currently running your service!\",\"links\":[{\"title\":\"Status location\",\"rel\":\"status\",\"type\":\"application\\/json\",\"href\":\"\\/eric\\/wps3\\/jobs\\/7627fd8e-35bb-11ed-ad07-ee207e53c6ea\"}]}\n",
      "\n",
      "[Job Status] = 200 (OK) => 16/09/2022 12:32:13 - running => {\"jobID\":\"7627fd8e-35bb-11ed-ad07-ee207e53c6ea\",\"status\":\"running\",\"message\":\"ZOO-Kernel is currently running your service!\",\"links\":[{\"title\":\"Status location\",\"rel\":\"status\",\"type\":\"application\\/json\",\"href\":\"\\/eric\\/wps3\\/jobs\\/7627fd8e-35bb-11ed-ad07-ee207e53c6ea\"}]}\n",
      "\n",
      "[Job Status] = 200 (OK) => 16/09/2022 12:32:24 - running => {\"jobID\":\"7627fd8e-35bb-11ed-ad07-ee207e53c6ea\",\"status\":\"running\",\"message\":\"ZOO-Kernel is currently running your service!\",\"links\":[{\"title\":\"Status location\",\"rel\":\"status\",\"type\":\"application\\/json\",\"href\":\"\\/eric\\/wps3\\/jobs\\/7627fd8e-35bb-11ed-ad07-ee207e53c6ea\"}]}\n",
      "\n",
      "[Job Status] = 200 (OK) => 16/09/2022 12:32:35 - running => {\"jobID\":\"7627fd8e-35bb-11ed-ad07-ee207e53c6ea\",\"status\":\"running\",\"message\":\"ZOO-Kernel is currently running your service!\",\"links\":[{\"title\":\"Status location\",\"rel\":\"status\",\"type\":\"application\\/json\",\"href\":\"\\/eric\\/wps3\\/jobs\\/7627fd8e-35bb-11ed-ad07-ee207e53c6ea\"}]}\n",
      "\n",
      "[Job Status] = 200 (OK) => 16/09/2022 12:32:47 - running => {\"jobID\":\"7627fd8e-35bb-11ed-ad07-ee207e53c6ea\",\"status\":\"running\",\"message\":\"ZOO-Kernel is currently running your service!\",\"links\":[{\"title\":\"Status location\",\"rel\":\"status\",\"type\":\"application\\/json\",\"href\":\"\\/eric\\/wps3\\/jobs\\/7627fd8e-35bb-11ed-ad07-ee207e53c6ea\"}]}\n",
      "\n",
      "[Job Status] = 200 (OK) => 16/09/2022 12:32:57 - running => {\"jobID\":\"7627fd8e-35bb-11ed-ad07-ee207e53c6ea\",\"status\":\"running\",\"message\":\"ZOO-Kernel is currently running your service!\",\"links\":[{\"title\":\"Status location\",\"rel\":\"status\",\"type\":\"application\\/json\",\"href\":\"\\/eric\\/wps3\\/jobs\\/7627fd8e-35bb-11ed-ad07-ee207e53c6ea\"}]}\n",
      "\n",
      "[Job Status] = 200 (OK) => 16/09/2022 12:33:08 - running => {\"jobID\":\"7627fd8e-35bb-11ed-ad07-ee207e53c6ea\",\"status\":\"running\",\"message\":\"ZOO-Kernel is currently running your service!\",\"links\":[{\"title\":\"Status location\",\"rel\":\"status\",\"type\":\"application\\/json\",\"href\":\"\\/eric\\/wps3\\/jobs\\/7627fd8e-35bb-11ed-ad07-ee207e53c6ea\"}]}\n",
      "\n",
      "[Job Status] = 200 (OK) => 16/09/2022 12:33:20 - running => {\"jobID\":\"7627fd8e-35bb-11ed-ad07-ee207e53c6ea\",\"status\":\"running\",\"message\":\"ZOO-Kernel is currently running your service!\",\"links\":[{\"title\":\"Status location\",\"rel\":\"status\",\"type\":\"application\\/json\",\"href\":\"\\/eric\\/wps3\\/jobs\\/7627fd8e-35bb-11ed-ad07-ee207e53c6ea\"}]}\n",
      "\n",
      "[Job Status] = 200 (OK) => 16/09/2022 12:33:31 - running => {\"progress\":50,\"jobID\":\"7627fd8e-35bb-11ed-ad07-ee207e53c6ea\",\"status\":\"running\",\"message\":\"running\",\"links\":[{\"title\":\"Status location\",\"rel\":\"status\",\"type\":\"application\\/json\",\"href\":\"\\/eric\\/wps3\\/jobs\\/7627fd8e-35bb-11ed-ad07-ee207e53c6ea\"}]}\n",
      "\n",
      "[Job Status] = 200 (OK) => 16/09/2022 12:33:41 - running => {\"progress\":50,\"jobID\":\"7627fd8e-35bb-11ed-ad07-ee207e53c6ea\",\"status\":\"running\",\"message\":\"running\",\"links\":[{\"title\":\"Status location\",\"rel\":\"status\",\"type\":\"application\\/json\",\"href\":\"\\/eric\\/wps3\\/jobs\\/7627fd8e-35bb-11ed-ad07-ee207e53c6ea\"}]}\n",
      "\n",
      "[Job Status] = 200 (OK) => 16/09/2022 12:33:52 - running => {\"progress\":50,\"jobID\":\"7627fd8e-35bb-11ed-ad07-ee207e53c6ea\",\"status\":\"running\",\"message\":\"running\",\"links\":[{\"title\":\"Status location\",\"rel\":\"status\",\"type\":\"application\\/json\",\"href\":\"\\/eric\\/wps3\\/jobs\\/7627fd8e-35bb-11ed-ad07-ee207e53c6ea\"}]}\n",
      "\n",
      "[Job Status] = 200 (OK) => 16/09/2022 12:34:03 - running => {\"progress\":50,\"jobID\":\"7627fd8e-35bb-11ed-ad07-ee207e53c6ea\",\"status\":\"running\",\"message\":\"running\",\"links\":[{\"title\":\"Status location\",\"rel\":\"status\",\"type\":\"application\\/json\",\"href\":\"\\/eric\\/wps3\\/jobs\\/7627fd8e-35bb-11ed-ad07-ee207e53c6ea\"}]}\n",
      "\n",
      "[Job Status] = 200 (OK) => 16/09/2022 12:34:14 - running => {\"progress\":50,\"jobID\":\"7627fd8e-35bb-11ed-ad07-ee207e53c6ea\",\"status\":\"running\",\"message\":\"running\",\"links\":[{\"title\":\"Status location\",\"rel\":\"status\",\"type\":\"application\\/json\",\"href\":\"\\/eric\\/wps3\\/jobs\\/7627fd8e-35bb-11ed-ad07-ee207e53c6ea\"}]}\n",
      "\n",
      "[Job Status] = 200 (OK) => 16/09/2022 12:34:25 - running => {\"progress\":50,\"jobID\":\"7627fd8e-35bb-11ed-ad07-ee207e53c6ea\",\"status\":\"running\",\"message\":\"running\",\"links\":[{\"title\":\"Status location\",\"rel\":\"status\",\"type\":\"application\\/json\",\"href\":\"\\/eric\\/wps3\\/jobs\\/7627fd8e-35bb-11ed-ad07-ee207e53c6ea\"}]}\n",
      "\n",
      "[Job Status] = 200 (OK) => 16/09/2022 12:34:36 - running => {\"progress\":50,\"jobID\":\"7627fd8e-35bb-11ed-ad07-ee207e53c6ea\",\"status\":\"running\",\"message\":\"running\",\"links\":[{\"title\":\"Status location\",\"rel\":\"status\",\"type\":\"application\\/json\",\"href\":\"\\/eric\\/wps3\\/jobs\\/7627fd8e-35bb-11ed-ad07-ee207e53c6ea\"}]}\n",
      "\n",
      "[Job Status] = 200 (OK) => 16/09/2022 12:34:48 - running => {\"progress\":50,\"jobID\":\"7627fd8e-35bb-11ed-ad07-ee207e53c6ea\",\"status\":\"running\",\"message\":\"running\",\"links\":[{\"title\":\"Status location\",\"rel\":\"status\",\"type\":\"application\\/json\",\"href\":\"\\/eric\\/wps3\\/jobs\\/7627fd8e-35bb-11ed-ad07-ee207e53c6ea\"}]}\n",
      "\n",
      "[Job Status] = 200 (OK) => 16/09/2022 12:34:59 - running => {\"progress\":50,\"jobID\":\"7627fd8e-35bb-11ed-ad07-ee207e53c6ea\",\"status\":\"running\",\"message\":\"running\",\"links\":[{\"title\":\"Status location\",\"rel\":\"status\",\"type\":\"application\\/json\",\"href\":\"\\/eric\\/wps3\\/jobs\\/7627fd8e-35bb-11ed-ad07-ee207e53c6ea\"}]}\n",
      "\n",
      "[Job Status] = 200 (OK) => 16/09/2022 12:35:10 - running => {\"progress\":99,\"jobID\":\"7627fd8e-35bb-11ed-ad07-ee207e53c6ea\",\"status\":\"running\",\"message\":\"waiting for results\",\"links\":[{\"title\":\"Status location\",\"rel\":\"status\",\"type\":\"application\\/json\",\"href\":\"\\/eric\\/wps3\\/jobs\\/7627fd8e-35bb-11ed-ad07-ee207e53c6ea\"}]}\n",
      "\n",
      "[Job Status] = 200 (OK) => 16/09/2022 12:35:21 - successful => {\"jobID\":\"7627fd8e-35bb-11ed-ad07-ee207e53c6ea\",\"status\":\"successful\",\"message\":\"ZOO-Kernel successfully run your service!\",\"links\":[{\"title\":\"Status location\",\"rel\":\"status\",\"type\":\"application\\/json\",\"href\":\"\\/eric\\/wps3\\/jobs\\/7627fd8e-35bb-11ed-ad07-ee207e53c6ea\"},{\"title\":\"Result location\",\"rel\":\"http:\\/\\/www.opengis.net\\/def\\/rel\\/ogc\\/1.0\\/results\",\"type\":\"application\\/json\",\"href\":\"\\/eric\\/wps3\\/jobs\\/7627fd8e-35bb-11ed-ad07-ee207e53c6ea\\/results\"}]}\n",
      "\n"
     ]
    }
   ],
   "source": [
    "# API Processes - Job Status (keep polling for completion)\n",
    "response, ades_access_token, status = demo.proc_poll_job_completion(ades_base_url, job_location_path, interval=10, id_token=user_id_token, access_token=ades_access_token)"
   ]
  },
  {
   "cell_type": "code",
   "execution_count": 21,
   "id": "steady-revolution",
   "metadata": {},
   "outputs": [
    {
     "name": "stdout",
     "output_type": "stream",
     "text": [
      "200 {'Date': 'Fri, 16 Sep 2022 12:35:21 GMT', 'Content-Type': 'application/json;charset=UTF-8', 'Transfer-Encoding': 'chunked', 'Connection': 'keep-alive', 'X-Powered-By': 'ZOO@ZOO-Project', 'Strict-Transport-Security': 'max-age=15724800; includeSubDomains', 'Set-Cookie': 'auth_rpt-ades=eyJraWQiOiI5OGIzODI0OS1iYjg2LTQ0OGMtOWUxYS00MDhmMGE5ZWIyMGJfc2lnX3JzMjU2IiwidHlwIjoiSldUIiwiYWxnIjoiUlMyNTYifQ.eyJhdWQiOiI2Mzc3NzI4OS01Y2FjLTRiZTEtYjg2MS1hNmZhOGMxNjA1ZTUiLCJwY3RfY2xhaW1zIjp7Ik9TQ0RhdGFPd25lciI6ZmFsc2UsImF1ZCI6ImIwYWUwMzRlLWI3MGItNGY0OS04MWEyLWJiOTkxNDAxNmUxZSIsInN1YiI6ImRlMjg3YTc0LWE1ODEtNDViMi1iNjZiLWIxNGRkYWY0NDE3MyIsInVzZXJfbmFtZSI6ImVyaWMiLCJpc3MiOiJodHRwczovL2F1dGguZGV2ZWxvcC5lb2VwY2Eub3JnIiwiZXhwIjoxNjYzMzM1MDY2LCJpYXQiOjE2NjMzMzE0NjYsIm94T3BlbklEQ29ubmVjdFZlcnNpb24iOiJvcGVuaWRjb25uZWN0LTEuMCIsImlzT3BlcmF0b3IiOnRydWV9LCJwZXJtaXNzaW9ucyI6W3sicmVzb3VyY2Vfc2NvcGVzIjpbInByb3RlY3RlZF9nZXQiLCJvcGVuaWQiXSwicmVzb3VyY2VfaWQiOiI2MmRiZGI5OC1lOTMzLTQ3NDQtODYzZi1mMGQ0ZDAyYmJjNjciLCJleHAiOjE2NjMzMzUzMjAsInBhcmFtcyI6bnVsbH1dLCJpc3MiOiJodHRwczovL2F1dGguZGV2ZWxvcC5lb2VwY2Eub3JnIiwiZXhwIjoxNjYzMzM1MzIxLCJpYXQiOjE2NjMzMzE3MjEsImNsaWVudF9pZCI6IjYzNzc3Mjg5LTVjYWMtNGJlMS1iODYxLWE2ZmE4YzE2MDVlNSJ9.aSCRVUBqCcpIb4NWJat3QjTUh4gkydLPmNZT7jwpXxHWjvckM9FyYts46V27I_isuU4ib7QMs3GPsOepVCvtkWUnwh4RkPxADq0aJerVBcZv-uyutAL0nIAnGEn9YH2HO87YL5vBNBrRI-LvPZr3CxmCBVU3_uxfTKQUtd9_Z3CcFxKsD4JPOL4ciSZP2stetyOFlpuHT5_yhEtrvbZD_WlGzLzPj3SolBzKA4K9zYQ-lFsO3yHM0pgwMrGUu2AJid5ufkedodX0M3udPSbI32uogQHuqnCteNf9GHK8uMeAx8guBBUjWkhdO-m9iWe-z8hXIYko9s2e02bFMYS8MQ;Path=/; Secure; HttpOnly; SameSite=Strict; Max-Age=300'} {\"jobID\":\"7627fd8e-35bb-11ed-ad07-ee207e53c6ea\",\"status\":\"successful\",\"message\":\"ZOO-Kernel successfully run your service!\",\"links\":[{\"title\":\"Status location\",\"rel\":\"status\",\"type\":\"application\\/json\",\"href\":\"\\/eric\\/wps3\\/jobs\\/7627fd8e-35bb-11ed-ad07-ee207e53c6ea\"},{\"title\":\"Result location\",\"rel\":\"http:\\/\\/www.opengis.net\\/def\\/rel\\/ogc\\/1.0\\/results\",\"type\":\"application\\/json\",\"href\":\"\\/eric\\/wps3\\/jobs\\/7627fd8e-35bb-11ed-ad07-ee207e53c6ea\\/results\"}]}\n",
      "\n"
     ]
    }
   ],
   "source": [
    "print(response.status_code, response.headers, response.text)"
   ]
  },
  {
   "cell_type": "markdown",
   "id": "suitable-construction",
   "metadata": {},
   "source": [
    "#### ADES: Job Result\n",
    "**GET {service_url}/jobs/{job_id}/results**<br>\n",
    "Returns details of the outputs for a successful job execution.<br>\n",
    "The response body provides json data that includes the reference to the STAC file that indexes the processing outputs."
   ]
  },
  {
   "cell_type": "code",
   "execution_count": 22,
   "id": "elegant-remains",
   "metadata": {
    "tags": []
   },
   "outputs": [
    {
     "name": "stdout",
     "output_type": "stream",
     "text": [
      "[Request] GET => http://ades.develop.eoepca.org/eric/wps3/jobs/7627fd8e-35bb-11ed-ad07-ee207e53c6ea/results\n",
      "{\n",
      "  \"wf_outputs\": {\n",
      "    \"value\": {\n",
      "      \"StacCatalogUri\": \"s3://dd14602fcb6542ba958caab80261b617:develop-user-eric/wf-7627fd8e-35bb-11ed-ad07-ee207e53c6ea/catalog.json\"\n",
      "    }\n",
      "  }\n",
      "}\n"
     ]
    }
   ],
   "source": [
    "# API Processes - Job Result\n",
    "response, ades_access_token, stacCatalogUri = demo.proc_get_job_result(ades_base_url, job_location_path, id_token=user_id_token, access_token=ades_access_token)\n",
    "print(json.dumps(response.json(), indent = 2))"
   ]
  },
  {
   "cell_type": "markdown",
   "id": "db6fedd7-0c27-4285-956a-221068ecf502",
   "metadata": {},
   "source": [
    "From the S3 url let's retrieve the folder in the bucket where the result files are stored."
   ]
  },
  {
   "cell_type": "code",
   "execution_count": 23,
   "id": "8f81f8d4-ead8-4bf4-b4d8-3333a30e2b34",
   "metadata": {},
   "outputs": [
    {
     "name": "stdout",
     "output_type": "stream",
     "text": [
      "Result Url: s3://dd14602fcb6542ba958caab80261b617:develop-user-eric/wf-7627fd8e-35bb-11ed-ad07-ee207e53c6ea/catalog.json\n",
      "Result foldername: wf-7627fd8e-35bb-11ed-ad07-ee207e53c6ea\n"
     ]
    }
   ],
   "source": [
    "result = response.json()[\"wf_outputs\"][\"value\"][\"StacCatalogUri\"]\n",
    "print(f\"Result Url: {result}\")\n",
    "result_folder_name = result.rsplit('/', 1)[0].rsplit(':', 1)[1].replace(bucket_name+\"/\",\"\")\n",
    "print(f\"Result foldername: {result_folder_name}\")"
   ]
  },
  {
   "cell_type": "markdown",
   "id": "super-nutrition",
   "metadata": {
    "tags": []
   },
   "source": [
    "#### ADES: List Jobs"
   ]
  },
  {
   "cell_type": "code",
   "execution_count": 24,
   "id": "temporal-drain",
   "metadata": {},
   "outputs": [
    {
     "name": "stdout",
     "output_type": "stream",
     "text": [
      "[Request] GET => http://ades.develop.eoepca.org/eric/wps3/jobs\n",
      "[Job List] = 200 (OK)\n",
      "Jobs: ['6cc6d042-35a4-11ed-a2d1-ee207e53c6ea', '1ef71c48-3511-11ed-a20e-3620b8c8d343', '18b2fe48-35ba-11ed-90ca-ee207e53c6ea', '0cd7134c-3511-11ed-8e4c-3620b8c8d343', '28141f5e-350e-11ed-82dc-3620b8c8d343', '4b11cec2-3511-11ed-a270-3620b8c8d343', 'ed41f608-359e-11ed-8066-ee207e53c6ea', '2f864d56-350f-11ed-82b4-3620b8c8d343', 'aa8250ac-3511-11ed-9996-ee207e53c6ea', '82f78c2c-3512-11ed-bd65-ee207e53c6ea', '2d7f4276-3512-11ed-b934-ee207e53c6ea', 'd9228594-350c-11ed-bba6-3620b8c8d343', '726abc42-35a0-11ed-81e8-ee207e53c6ea', '452023c0-3592-11ed-a329-ee207e53c6ea', '7627fd8e-35bb-11ed-ad07-ee207e53c6ea', '0ea9f7be-3513-11ed-8e62-ee207e53c6ea', '11f5cce6-35a3-11ed-b1c5-ee207e53c6ea', '85ced3cc-35a5-11ed-81e6-ee207e53c6ea', 'b752b92a-3516-11ed-80d8-ee207e53c6ea', 'e6105fe8-35a1-11ed-a665-ee207e53c6ea', '9abb827e-359d-11ed-ba9e-ee207e53c6ea', '5ae3ff7a-359b-11ed-b352-ee207e53c6ea', '9f3875ba-35ba-11ed-bfb8-ee207e53c6ea']\n"
     ]
    }
   ],
   "source": [
    "# API Processes - List Jobs\n",
    "response, ades_access_token, job_ids = demo.proc_list_jobs(ades_proc_url, app_name, id_token=user_id_token, access_token=ades_access_token)\n",
    "print(\"Jobs:\", job_ids)"
   ]
  },
  {
   "cell_type": "markdown",
   "id": "ongoing-sleeve",
   "metadata": {},
   "source": [
    "#### ADES: Undeploy Application\n",
    "**DELETE {service_url}/processes/{application_name}**<br>\n",
    "Undeploys application from the ADES"
   ]
  },
  {
   "cell_type": "code",
   "execution_count": 25,
   "id": "sharing-closing",
   "metadata": {},
   "outputs": [
    {
     "name": "stdout",
     "output_type": "stream",
     "text": [
      "[Request] DELETE => http://ades.develop.eoepca.org/eric/wps3/processes/s-expression-0_0_2\n",
      "[Undeploy Response] = 204 (No Content)\n"
     ]
    }
   ],
   "source": [
    "# API Processes - Undeploy Application\n",
    "response, ades_access_token = demo.proc_undeploy_application(ades_proc_url, app_name, id_token=user_id_token, access_token=ades_access_token)"
   ]
  },
  {
   "cell_type": "code",
   "execution_count": 26,
   "id": "variable-handy",
   "metadata": {
    "tags": []
   },
   "outputs": [
    {
     "name": "stdout",
     "output_type": "stream",
     "text": [
      "[Request] GET => http://ades.develop.eoepca.org/eric/wps3/processes\n",
      "[Process List] = 200 (OK)\n",
      "{'processes': [{'id': 'UndeployProcess', 'title': 'Undeploy Process', 'description': 'This method will undeploy a deployed processing service.', 'mutable': False, 'version': '1.0.0', 'jobControlOptions': ['sync-execute', 'async-execute', 'dismiss'], 'outputTransmission': ['value', 'reference'], 'links': [{'rel': 'self', 'type': 'application/json', 'title': 'Process Description', 'href': '/eric/wps3/processes/UndeployProcess'}]}, {'id': 'GetStatus', 'title': 'Produce an updated ExecuteResponse document. ', 'description': 'Create an ExecuteResponse document from a sid (Service ID), it will use the niternal ZOO Kernel mechanisms to access the current status from a running Service and update the percentCompleted from the original backup file used by the ZOO Kernel when running a Service in background. ', 'mutable': False, 'version': '1.0.0', 'jobControlOptions': ['sync-execute', 'async-execute', 'dismiss'], 'outputTransmission': ['value', 'reference'], 'links': [{'rel': 'self', 'type': 'application/json', 'title': 'Process Description', 'href': '/eric/wps3/processes/GetStatus'}]}, {'id': 'DeployProcess', 'title': 'Deploy Process', 'description': 'This method will deploy an application package to create a process accessible through a WPS interface.', 'mutable': False, 'version': '1.0.0', 'jobControlOptions': ['sync-execute', 'async-execute', 'dismiss'], 'outputTransmission': ['value', 'reference'], 'links': [{'rel': 'self', 'type': 'application/json', 'title': 'Process Description', 'href': '/eric/wps3/processes/DeployProcess'}]}], 'links': [{'rel': 'self', 'type': 'application/json', 'href': '/eric/wps3/processes'}], 'numberTotal': 3}\n",
      "Processes: ['UndeployProcess', 'GetStatus', 'DeployProcess']\n"
     ]
    }
   ],
   "source": [
    "# Check undeploy - list processes\n",
    "response, ades_access_token, process_ids = demo.proc_list_processes(ades_proc_url, id_token=user_id_token, access_token=ades_access_token)\n",
    "print(\"Processes:\", process_ids)"
   ]
  },
  {
   "cell_type": "markdown",
   "id": "75b90d16-9029-480c-bd44-df12056ea691",
   "metadata": {},
   "source": [
    "#### Workspace: Inspect results\n",
    "Let's inspect the result files in the user S3 bucket."
   ]
  },
  {
   "cell_type": "code",
   "execution_count": 27,
   "id": "ancient-patent",
   "metadata": {},
   "outputs": [
    {
     "name": "stdout",
     "output_type": "stream",
     "text": [
      " -> wf-7627fd8e-35bb-11ed-ad07-ee207e53c6ea/S2B_MSIL2A_20200902T090559_N0214_R050_T34SFH_20200902T113910/S2B_MSIL2A_20200902T090559_N0214_R050_T34SFH_20200902T113910.json\n",
      " -> wf-7627fd8e-35bb-11ed-ad07-ee207e53c6ea/S2B_MSIL2A_20200902T090559_N0214_R050_T34SFH_20200902T113910/ndvi.tif\n",
      " -> wf-7627fd8e-35bb-11ed-ad07-ee207e53c6ea/catalog.json\n"
     ]
    }
   ],
   "source": [
    "# Quick hack S3 access\n",
    "import boto3\n",
    "\n",
    "# Init S3 session for Creodias\n",
    "S3_ENDPOINT = \"https://cf2.cloudferro.com:8080\"\n",
    "session = boto3.session.Session()\n",
    "s3resource = session.resource('s3', aws_access_key_id=s3_access, aws_secret_access_key=s3_secret, endpoint_url=S3_ENDPOINT)\n",
    "\n",
    "# List bucket contents\n",
    "bucket = s3resource.Bucket(bucket_name)\n",
    "for obj in bucket.objects.filter(Prefix=result_folder_name):\n",
    "    print(' ->', obj.key)"
   ]
  },
  {
   "cell_type": "code",
   "execution_count": null,
   "id": "6106fda5-d031-4826-ad6f-c4c50cf47003",
   "metadata": {},
   "outputs": [],
   "source": []
  }
 ],
 "metadata": {
  "kernelspec": {
   "display_name": "Python 3",
   "language": "python",
   "name": "python3"
  },
  "language_info": {
   "codemirror_mode": {
    "name": "ipython",
    "version": 3
   },
   "file_extension": ".py",
   "mimetype": "text/x-python",
   "name": "python",
   "nbconvert_exporter": "python",
   "pygments_lexer": "ipython3",
   "version": "3.9.2"
  }
 },
 "nbformat": 4,
 "nbformat_minor": 5
}
