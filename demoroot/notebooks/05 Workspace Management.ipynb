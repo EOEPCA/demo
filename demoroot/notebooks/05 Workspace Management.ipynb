{
 "cells": [
  {
   "cell_type": "markdown",
   "id": "788a6dc1-ec4c-48aa-a3b8-d0de349c418a",
   "metadata": {},
   "source": [
    "## Workspace Management demo"
   ]
  },
  {
   "cell_type": "markdown",
   "id": "88d55bcb-6eba-4ac3-af24-67c5d286921f",
   "metadata": {},
   "source": [
    "This notebook presents examples of how to manage and use team workspaces!"
   ]
  },
  {
   "cell_type": "code",
   "execution_count": 1,
   "id": "bfc4d810-e4c0-42a4-9af7-d1290e510671",
   "metadata": {},
   "outputs": [],
   "source": [
    "import jwt\n",
    "import requests\n",
    "import datetime\n",
    "import boto3\n",
    "import urllib3\n",
    "import time\n",
    "urllib3.disable_warnings()"
   ]
  },
  {
   "cell_type": "code",
   "execution_count": 2,
   "id": "d28a3d90",
   "metadata": {},
   "outputs": [],
   "source": [
    "realm = \"eoepca\"\n",
    "base_domain = \"apx.develop.eoepca.org\"\n",
    "keycloak_endpoint = f\"https://iam-auth.{base_domain}\"\n",
    "workspaces_endpoint = f'https://workspace-api.{base_domain}/workspaces'\n",
    "token_endpoint = f\"{keycloak_endpoint}/realms/{realm}/protocol/openid-connect/token\"\n",
    "minio_endpoint = \"https://minio.develop.eoepca.org\""
   ]
  },
  {
   "cell_type": "markdown",
   "id": "81510644-62e0-408d-9720-780411b62c6c",
   "metadata": {},
   "source": [
    "### token handling"
   ]
  },
  {
   "cell_type": "code",
   "execution_count": 3,
   "id": "2abbbf90-9d97-4d94-99e8-c042e8158b78",
   "metadata": {},
   "outputs": [],
   "source": [
    "def get_user_token(username, password):\n",
    "    headers = {\n",
    "        \"Cache-Control\": \"no-cache\",\n",
    "        \"Content-Type\": \"application/x-www-form-urlencoded\"\n",
    "    }\n",
    "    data = {\n",
    "        \"scope\": \"roles\",\n",
    "        \"grant_type\": \"password\",\n",
    "        \"username\": username,\n",
    "        \"password\": password,\n",
    "        \"client_id\": \"demo\",\n",
    "        \"client_secret\": \"demo\"\n",
    "    }    \n",
    "    response = requests.post(token_endpoint, headers=headers, data=data)\n",
    "    if response.ok:\n",
    "        return response.json()[\"access_token\"]\n",
    "    else:\n",
    "        print(response)\n",
    "        return None"
   ]
  },
  {
   "cell_type": "code",
   "execution_count": 4,
   "id": "e9033049-5c96-4de4-8c01-abd3bfb94456",
   "metadata": {},
   "outputs": [
    {
     "name": "stdout",
     "output_type": "stream",
     "text": [
      "\n",
      "{'exp': 1736860641, 'iat': 1736860341, 'jti': '3563606b-c59f-4c9a-bcbd-55e323e7eb70', 'iss': 'https://iam-auth.apx.develop.eoepca.org/realms/eoepca', 'aud': ['eoapi', 'ws-example-79', 'ws-example-78', 'account'], 'sub': '0965f986-de8e-43fa-ba1c-36d520eefe6f', 'typ': 'Bearer', 'azp': 'demo', 'session_state': 'd5d223ed-07cf-401d-ba4e-f7a5e1430825', 'acr': '1', 'realm_access': {'roles': ['offline_access', 'default-roles-eoepca', 'uma_authorization']}, 'resource_access': {'eoapi': {'roles': ['stac_editor']}, 'ws-example-79': {'roles': ['ws_access']}, 'ws-example-78': {'roles': ['ws_access']}, 'account': {'roles': ['manage-account', 'manage-account-links', 'view-profile']}}, 'scope': 'profile email', 'sid': 'd5d223ed-07cf-401d-ba4e-f7a5e1430825', 'email_verified': False, 'preferred_username': 'example-user-1'}\n",
      "\n",
      "{'exp': 1736860641, 'iat': 1736860341, 'jti': '603c33f9-3e0e-4b0f-bdd4-dfcb81a7e530', 'iss': 'https://iam-auth.apx.develop.eoepca.org/realms/eoepca', 'aud': 'account', 'sub': '73bdfbd0-997a-465d-a5aa-bef13dfcaf1b', 'typ': 'Bearer', 'azp': 'demo', 'session_state': '55ad41cf-9f71-4961-b544-2cd9d8554722', 'acr': '1', 'realm_access': {'roles': ['offline_access', 'default-roles-eoepca', 'uma_authorization']}, 'resource_access': {'account': {'roles': ['manage-account', 'manage-account-links', 'view-profile']}}, 'scope': 'profile email', 'sid': '55ad41cf-9f71-4961-b544-2cd9d8554722', 'email_verified': False, 'preferred_username': 'example-user-2'}\n",
      "\n",
      "{'exp': 1736860642, 'iat': 1736860342, 'jti': '56fdf8f1-6dcb-4b92-b9d8-32f24817f4fb', 'iss': 'https://iam-auth.apx.develop.eoepca.org/realms/eoepca', 'aud': ['workspace-api', 'account'], 'sub': '11b75ef2-b964-48b1-8a43-6e3c8bdd4f33', 'typ': 'Bearer', 'azp': 'demo', 'session_state': '18956bfa-3645-47ba-916b-51705147cf8d', 'acr': '1', 'realm_access': {'roles': ['offline_access', 'default-roles-eoepca', 'uma_authorization']}, 'resource_access': {'workspace-api': {'roles': ['admin']}, 'account': {'roles': ['manage-account', 'manage-account-links', 'view-profile']}}, 'scope': 'profile email', 'sid': '18956bfa-3645-47ba-916b-51705147cf8d', 'email_verified': False, 'preferred_username': 'example-admin'}\n"
     ]
    }
   ],
   "source": [
    "#the following example users are expected to exist\n",
    "token_user1 = get_user_token(\"example-user-1\", \"changeme\")\n",
    "decoded_token_user1 = jwt.decode(token_user1, options={\"verify_signature\": False})\n",
    "print(f\"\\n{decoded_token_user1}\")\n",
    "token_user2 = get_user_token(\"example-user-2\", \"changeme\")\n",
    "decoded_token_user2 = jwt.decode(token_user2, options={\"verify_signature\": False})\n",
    "print(f\"\\n{decoded_token_user2}\")\n",
    "token_admin = get_user_token(\"example-admin\", \"changeme\")\n",
    "decoded_token_admin = jwt.decode(token_admin, options={\"verify_signature\": False})\n",
    "print(f\"\\n{decoded_token_admin}\")"
   ]
  },
  {
   "cell_type": "code",
   "execution_count": 5,
   "id": "894ac0ec-5e52-4fa8-88e7-cef212abd1db",
   "metadata": {},
   "outputs": [
    {
     "name": "stdout",
     "output_type": "stream",
     "text": [
      "['eoapi', 'ws-example-79', 'ws-example-78', 'account']\n",
      "{'eoapi': {'roles': ['stac_editor']}, 'ws-example-79': {'roles': ['ws_access']}, 'ws-example-78': {'roles': ['ws_access']}, 'account': {'roles': ['manage-account', 'manage-account-links', 'view-profile']}}\n"
     ]
    }
   ],
   "source": [
    "print(decoded_token_user1[\"aud\"])\n",
    "print(decoded_token_user1[\"resource_access\"])"
   ]
  },
  {
   "cell_type": "markdown",
   "id": "b3035e81-cb02-4e60-b877-0f0acd760967",
   "metadata": {},
   "source": [
    "### review existing workspaces"
   ]
  },
  {
   "cell_type": "code",
   "execution_count": 6,
   "id": "4a07b387-14ba-4295-909a-526ae7e01cdb",
   "metadata": {},
   "outputs": [
    {
     "name": "stdout",
     "output_type": "stream",
     "text": [
      "user1: ['ws-example-79', 'ws-example-78']\n",
      "user2: []\n"
     ]
    }
   ],
   "source": [
    "ws_user1 = [entry for entry in decoded_token_user1[\"aud\"] if entry.startswith('ws-')]\n",
    "print(f\"user1: {ws_user1}\")\n",
    "ws_user2 = [entry for entry in decoded_token_user2[\"aud\"] if entry.startswith('ws-')]\n",
    "print(f\"user2: {ws_user2}\")"
   ]
  },
  {
   "cell_type": "code",
   "execution_count": 7,
   "id": "a3ea333c-2273-44f0-89b8-e9a2c7dc8adb",
   "metadata": {},
   "outputs": [],
   "source": [
    "def access_ws(ws_name, token):\n",
    "    headers = {\n",
    "        'Authorization': 'Bearer ' + token\n",
    "    }\n",
    "    url = f\"{workspaces_endpoint}/{ws_name}\"\n",
    "    print(f\"HTTP GET {url}\")\n",
    "    response = requests.get(url, headers=headers)\n",
    "    print(response)\n",
    "    print(response.text)\n",
    "    return response"
   ]
  },
  {
   "cell_type": "code",
   "execution_count": 8,
   "id": "3bfd6a18-18e0-4920-89a5-b479947c04a6",
   "metadata": {},
   "outputs": [
    {
     "name": "stdout",
     "output_type": "stream",
     "text": [
      "HTTP GET https://workspace-api.apx.develop.eoepca.org/workspaces/ws-example-78\n",
      "<Response [200]>\n",
      "{\"status\":\"ready\",\"endpoints\":[],\"storage\":{\"credentials\":{\"AWS_ACCESS_KEY_ID\":\"ws-example-78\",\"AWS_ENDPOINT_URL\":\"https://minio.develop.eoepca.org\",\"AWS_REGION\":\"eoepca-demo\",\"AWS_SECRET_ACCESS_KEY\":\"IBbyCDqxxlteTpZcZkV3sZSDzZBsAmXbFuYfczV5RYHSPeLPBv9MKClpsv2TBrF0\",\"access\":\"ws-example-78\",\"bucketname\":\"ws-example-78\",\"secret\":\"IBbyCDqxxlteTpZcZkV3sZSDzZBsAmXbFuYfczV5RYHSPeLPBv9MKClpsv2TBrF0\",\"endpoint\":\"https://minio.develop.eoepca.org\",\"region\":\"eu-central-1\"}},\"container_registry\":null}\n"
     ]
    },
    {
     "data": {
      "text/plain": [
       "<Response [200]>"
      ]
     },
     "execution_count": 8,
     "metadata": {},
     "output_type": "execute_result"
    }
   ],
   "source": [
    "#manually add/remove users in keycloak and check access here\n",
    "access_ws(\"ws-example-78\", token_user1)"
   ]
  },
  {
   "cell_type": "markdown",
   "id": "39110515-452a-44bc-ac87-2636befa178e",
   "metadata": {},
   "source": [
    "### workspace creation"
   ]
  },
  {
   "cell_type": "code",
   "execution_count": 9,
   "id": "69c48898-6fe7-4376-a224-c95658c9ff63",
   "metadata": {},
   "outputs": [
    {
     "data": {
      "text/plain": [
       "'example-1736860343'"
      ]
     },
     "execution_count": 9,
     "metadata": {},
     "output_type": "execute_result"
    }
   ],
   "source": [
    "preferred_ws_name = f\"example-{datetime.datetime.now().timestamp():.0f}\"\n",
    "preferred_ws_name"
   ]
  },
  {
   "cell_type": "code",
   "execution_count": 10,
   "id": "1aecf9b0-f7ba-4f0e-ab8d-0641b9cb14bb",
   "metadata": {},
   "outputs": [
    {
     "name": "stdout",
     "output_type": "stream",
     "text": [
      "created workspace 'ws-example-1736860343'\n"
     ]
    }
   ],
   "source": [
    "response = requests.post(\n",
    "    workspaces_endpoint,\n",
    "    headers={\n",
    "        #'Authorization': 'Bearer ' + token_user1\n",
    "        'Authorization': 'Bearer ' + token_admin\n",
    "    },\n",
    "    json={\n",
    "        \"preferred_name\": preferred_ws_name,\n",
    "        \"default_owner\": \"example-user-1\"\n",
    "    }\n",
    ")\n",
    "response.raise_for_status()\n",
    "actual_workspace_name = response.json()['name']\n",
    "ws_name = response.json()[\"name\"]\n",
    "print(f\"created workspace '{ws_name}'\")"
   ]
  },
  {
   "cell_type": "code",
   "execution_count": 11,
   "id": "00d2563f-7a43-4a41-af7c-5ceb792cc184",
   "metadata": {},
   "outputs": [
    {
     "name": "stdout",
     "output_type": "stream",
     "text": [
      "HTTP GET https://workspace-api.apx.develop.eoepca.org/workspaces/ws-example-1736860343\n",
      "<Response [200]>\n",
      "{\"status\":\"provisioning\",\"endpoints\":[],\"storage\":null,\"container_registry\":null}\n",
      "...retrying\n",
      "HTTP GET https://workspace-api.apx.develop.eoepca.org/workspaces/ws-example-1736860343\n",
      "<Response [200]>\n",
      "{\"status\":\"provisioning\",\"endpoints\":[],\"storage\":null,\"container_registry\":null}\n",
      "...retrying\n",
      "HTTP GET https://workspace-api.apx.develop.eoepca.org/workspaces/ws-example-1736860343\n",
      "<Response [200]>\n",
      "{\"status\":\"provisioning\",\"endpoints\":[],\"storage\":null,\"container_registry\":null}\n",
      "...retrying\n",
      "HTTP GET https://workspace-api.apx.develop.eoepca.org/workspaces/ws-example-1736860343\n",
      "<Response [200]>\n",
      "{\"status\":\"provisioning\",\"endpoints\":[],\"storage\":null,\"container_registry\":null}\n",
      "...retrying\n",
      "HTTP GET https://workspace-api.apx.develop.eoepca.org/workspaces/ws-example-1736860343\n",
      "<Response [200]>\n",
      "{\"status\":\"provisioning\",\"endpoints\":[],\"storage\":null,\"container_registry\":null}\n",
      "...retrying\n",
      "HTTP GET https://workspace-api.apx.develop.eoepca.org/workspaces/ws-example-1736860343\n",
      "<Response [200]>\n",
      "{\"status\":\"provisioning\",\"endpoints\":[],\"storage\":null,\"container_registry\":null}\n",
      "...retrying\n",
      "HTTP GET https://workspace-api.apx.develop.eoepca.org/workspaces/ws-example-1736860343\n",
      "<Response [200]>\n",
      "{\"status\":\"provisioning\",\"endpoints\":[],\"storage\":null,\"container_registry\":null}\n",
      "...retrying\n",
      "HTTP GET https://workspace-api.apx.develop.eoepca.org/workspaces/ws-example-1736860343\n",
      "<Response [200]>\n",
      "{\"status\":\"provisioning\",\"endpoints\":[],\"storage\":null,\"container_registry\":null}\n",
      "...retrying\n",
      "HTTP GET https://workspace-api.apx.develop.eoepca.org/workspaces/ws-example-1736860343\n",
      "<Response [200]>\n",
      "{\"status\":\"ready\",\"endpoints\":[],\"storage\":{\"credentials\":{\"AWS_ACCESS_KEY_ID\":\"ws-example-1736860343\",\"AWS_ENDPOINT_URL\":\"https://minio.develop.eoepca.org\",\"AWS_REGION\":\"eoepca-demo\",\"AWS_SECRET_ACCESS_KEY\":\"oWSDvMVqxAkUQqhWvFXllAx7g3iExyLLRK1ktkGPVECUYcCWDgods6VRz4IEoxCw\",\"access\":\"ws-example-1736860343\",\"bucketname\":\"ws-example-1736860343\",\"secret\":\"oWSDvMVqxAkUQqhWvFXllAx7g3iExyLLRK1ktkGPVECUYcCWDgods6VRz4IEoxCw\",\"endpoint\":\"https://minio.develop.eoepca.org\",\"region\":\"eu-central-1\"}},\"container_registry\":null}\n",
      "ready\n"
     ]
    }
   ],
   "source": [
    "while True:\n",
    "    time.sleep(3)\n",
    "    response = access_ws(ws_name, get_user_token(\"example-user-1\", \"changeme\"))\n",
    "    if response.status_code == 200:\n",
    "        try:\n",
    "            workspace_data = response.json()\n",
    "            if workspace_data.get(\"status\") == \"ready\":\n",
    "                print(\"ready\")\n",
    "                break\n",
    "        except ValueError:\n",
    "            print(\"not ready yet\")\n",
    "    \n",
    "    print(\"...retrying\")\n",
    "    "
   ]
  },
  {
   "cell_type": "code",
   "execution_count": 12,
   "id": "52b5ed61-5ac2-441b-8371-e299ff7e5a67",
   "metadata": {},
   "outputs": [],
   "source": [
    "bucket_name = workspace_data[\"storage\"][\"credentials\"][\"bucketname\"]\n",
    "s3_access = workspace_data[\"storage\"][\"credentials\"][\"access\"]\n",
    "s3_secret = workspace_data[\"storage\"][\"credentials\"][\"secret\"]"
   ]
  },
  {
   "cell_type": "markdown",
   "id": "e2251067-9c81-4c94-957e-dfa0ec487cab",
   "metadata": {},
   "source": [
    "### workspace s3 access "
   ]
  },
  {
   "cell_type": "code",
   "execution_count": 13,
   "id": "df5aa630-5ff0-477c-b3b2-35511ef1bead",
   "metadata": {},
   "outputs": [],
   "source": [
    "session = boto3.session.Session()\n",
    "s3resource = session.resource('s3', aws_access_key_id=s3_access, aws_secret_access_key=s3_secret, endpoint_url=minio_endpoint)"
   ]
  },
  {
   "cell_type": "code",
   "execution_count": 14,
   "id": "9c0e78a6-5f9a-4abe-aed7-b75f60783ca9",
   "metadata": {},
   "outputs": [
    {
     "name": "stdout",
     "output_type": "stream",
     "text": [
      "Application package uploaded successfully\n"
     ]
    }
   ],
   "source": [
    "object = s3resource.Object(bucket_name, 'application-package/s-expression/s-expression-0_0_2.cwl')\n",
    "result = object.put(Body=open('../data/s-expression-cwl.cwl', 'rb'))\n",
    "res = result.get('ResponseMetadata')\n",
    "if res.get('HTTPStatusCode') == 200:\n",
    "    print('Application package uploaded successfully')\n",
    "else:\n",
    "    print('Application package not uploaded')"
   ]
  },
  {
   "cell_type": "code",
   "execution_count": 15,
   "id": "bdad21c4-82d7-4c74-a003-791a5eefa5b0",
   "metadata": {},
   "outputs": [
    {
     "name": "stdout",
     "output_type": "stream",
     "text": [
      "Key: application-package/s-expression/s-expression-0_0_2.cwl, Size: 2302 bytes\n"
     ]
    }
   ],
   "source": [
    "bucket = s3resource.Bucket(bucket_name)\n",
    "for obj in bucket.objects.all():\n",
    "    print(f\"Key: {obj.key}, Size: {obj.size} bytes\")"
   ]
  },
  {
   "cell_type": "code",
   "execution_count": 16,
   "id": "71e97a7f-736e-4b47-8f00-18381610320a",
   "metadata": {},
   "outputs": [
    {
     "data": {
      "text/plain": [
       "[{'ResponseMetadata': {'RequestId': '181A914FFB956970',\n",
       "   'HostId': 'e3b0c44298fc1c149afbf4c8996fb92427ae41e4649b934ca495991b7852b855',\n",
       "   'HTTPStatusCode': 200,\n",
       "   'HTTPHeaders': {'date': 'Tue, 14 Jan 2025 13:12:59 GMT',\n",
       "    'content-type': 'application/xml',\n",
       "    'content-length': '201',\n",
       "    'connection': 'keep-alive',\n",
       "    'accept-ranges': 'bytes',\n",
       "    'content-security-policy': 'block-all-mixed-content',\n",
       "    'strict-transport-security': 'max-age=15724800; includeSubDomains',\n",
       "    'vary': 'Origin, Accept-Encoding',\n",
       "    'x-amz-id-2': 'e3b0c44298fc1c149afbf4c8996fb92427ae41e4649b934ca495991b7852b855',\n",
       "    'x-amz-request-id': '181A914FFB956970',\n",
       "    'x-content-type-options': 'nosniff',\n",
       "    'x-xss-protection': '1; mode=block'},\n",
       "   'RetryAttempts': 0},\n",
       "  'Deleted': [{'Key': 'application-package/s-expression/s-expression-0_0_2.cwl'}]}]"
      ]
     },
     "execution_count": 16,
     "metadata": {},
     "output_type": "execute_result"
    }
   ],
   "source": [
    "bucket.objects.all().delete()"
   ]
  },
  {
   "cell_type": "markdown",
   "id": "55931099-bd7e-4f9e-ad66-503befd31863",
   "metadata": {},
   "source": [
    "### workspace deletion"
   ]
  },
  {
   "cell_type": "code",
   "execution_count": 17,
   "id": "0fb6aebd-1f5b-4540-b085-29801080cbf3",
   "metadata": {},
   "outputs": [
    {
     "name": "stdout",
     "output_type": "stream",
     "text": [
      "deleted workspace 'ws-example-1736860343'\n"
     ]
    }
   ],
   "source": [
    "response = requests.delete(\n",
    "    f\"{workspaces_endpoint}/{ws_name}\",\n",
    "    headers={\n",
    "        'Authorization': 'Bearer ' + token_admin\n",
    "    }\n",
    ")\n",
    "response.raise_for_status()\n",
    "print(f\"deleted workspace '{ws_name}'\")"
   ]
  }
 ],
 "metadata": {
  "kernelspec": {
   "display_name": "Python 3 (ipykernel)",
   "language": "python",
   "name": "python3"
  },
  "language_info": {
   "codemirror_mode": {
    "name": "ipython",
    "version": 3
   },
   "file_extension": ".py",
   "mimetype": "text/x-python",
   "name": "python",
   "nbconvert_exporter": "python",
   "pygments_lexer": "ipython3",
   "version": "3.12.8"
  }
 },
 "nbformat": 4,
 "nbformat_minor": 5
}
