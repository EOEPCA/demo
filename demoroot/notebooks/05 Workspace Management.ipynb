{
 "cells": [
  {
   "cell_type": "markdown",
   "id": "788a6dc1-ec4c-48aa-a3b8-d0de349c418a",
   "metadata": {},
   "source": [
    "## Workspace Management demo"
   ]
  },
  {
   "cell_type": "markdown",
   "id": "88d55bcb-6eba-4ac3-af24-67c5d286921f",
   "metadata": {},
   "source": [
    "This notebook presents examples of how to manage and use team workspaces!"
   ]
  },
  {
   "cell_type": "code",
   "execution_count": 1,
   "id": "bfc4d810-e4c0-42a4-9af7-d1290e510671",
   "metadata": {},
   "outputs": [],
   "source": [
    "import jwt\n",
    "import requests\n",
    "import datetime\n",
    "import boto3\n",
    "import urllib3\n",
    "import time\n",
    "urllib3.disable_warnings()"
   ]
  },
  {
   "cell_type": "code",
   "execution_count": 2,
   "id": "d28a3d90",
   "metadata": {},
   "outputs": [],
   "source": [
    "realm = \"eoepca\"\n",
    "base_domain = \"apx.develop.eoepca.org\"\n",
    "keycloak_endpoint = f\"https://iam-auth.{base_domain}\"\n",
    "workspace_api_endpoint = f'https://workspace-api.{base_domain}/workspaces'\n",
    "token_endpoint = f\"{keycloak_endpoint}/realms/{realm}/protocol/openid-connect/token\"\n",
    "minio_endpoint = \"https://minio.develop.eoepca.org\""
   ]
  },
  {
   "cell_type": "markdown",
   "id": "81510644-62e0-408d-9720-780411b62c6c",
   "metadata": {},
   "source": [
    "### token handling"
   ]
  },
  {
   "cell_type": "code",
   "execution_count": 3,
   "id": "2abbbf90-9d97-4d94-99e8-c042e8158b78",
   "metadata": {},
   "outputs": [],
   "source": [
    "def iam_token(username, password):\n",
    "    headers = {\n",
    "        \"Cache-Control\": \"no-cache\",\n",
    "        \"Content-Type\": \"application/x-www-form-urlencoded\"\n",
    "    }\n",
    "    data = {\n",
    "        \"scope\": \"roles\",\n",
    "        \"grant_type\": \"password\",\n",
    "        \"username\": username,\n",
    "        \"password\": password,\n",
    "        \"client_id\": \"demo\",\n",
    "        \"client_secret\": \"demo\"\n",
    "    }    \n",
    "    response = requests.post(token_endpoint, headers=headers, data=data)\n",
    "    if response.ok:\n",
    "        return response.json()[\"access_token\"]\n",
    "    else:\n",
    "        print(response)\n",
    "        return None"
   ]
  },
  {
   "cell_type": "markdown",
   "id": "2bfdbe35-5309-4e7e-a426-abbc392fd100",
   "metadata": {},
   "source": [
    "**Important**: We expect `example-user-1`, `example-user-2` and `example-admin` to exist in Keycloak!"
   ]
  },
  {
   "cell_type": "code",
   "execution_count": 4,
   "id": "e9033049-5c96-4de4-8c01-abd3bfb94456",
   "metadata": {},
   "outputs": [
    {
     "name": "stdout",
     "output_type": "stream",
     "text": [
      "\n",
      "{'exp': 1744036837, 'iat': 1744036537, 'jti': '6dc70454-c18e-43c4-b12f-df8e807b2678', 'iss': 'https://iam-auth.apx.develop.eoepca.org/realms/eoepca', 'aud': ['eoapi', 'resource_registration', 'ws-example-team-1', 'account', 'ws-example-team-2'], 'sub': '0965f986-de8e-43fa-ba1c-36d520eefe6f', 'typ': 'Bearer', 'azp': 'demo', 'sid': '2b668883-fc7d-45b0-8760-eb6ba1a798cc', 'acr': '1', 'realm_access': {'roles': ['offline_access', 'default-roles-eoepca', 'uma_authorization']}, 'resource_access': {'eoapi': {'roles': ['stac_editor']}, 'resource_registration': {'roles': ['records_editor']}, 'ws-example-team-1': {'roles': ['ws_access']}, 'account': {'roles': ['manage-account', 'view-consent', 'manage-account-links', 'manage-consent', 'view-profile']}, 'ws-example-team-2': {'roles': ['ws_access']}}, 'scope': 'profile email', 'email_verified': False, 'preferred_username': 'example-user-1'}\n",
      "\n",
      "{'exp': 1744036837, 'iat': 1744036537, 'jti': 'eab7a815-5be8-45bf-878a-51df74db9b24', 'iss': 'https://iam-auth.apx.develop.eoepca.org/realms/eoepca', 'aud': 'account', 'sub': '73bdfbd0-997a-465d-a5aa-bef13dfcaf1b', 'typ': 'Bearer', 'azp': 'demo', 'sid': '77f994f1-c6a2-4abc-99be-9c8917a98b28', 'acr': '1', 'realm_access': {'roles': ['offline_access', 'default-roles-eoepca', 'uma_authorization']}, 'resource_access': {'account': {'roles': ['manage-account', 'view-consent', 'manage-account-links', 'manage-consent', 'view-profile']}}, 'scope': 'profile email', 'email_verified': False, 'preferred_username': 'example-user-2'}\n",
      "\n",
      "{'exp': 1744036837, 'iat': 1744036537, 'jti': '7819cfa6-9dbc-48fa-9c0c-1243217768ec', 'iss': 'https://iam-auth.apx.develop.eoepca.org/realms/eoepca', 'aud': ['eoapi', 'workspace-api', 'resource_registration', 'account'], 'sub': '11b75ef2-b964-48b1-8a43-6e3c8bdd4f33', 'typ': 'Bearer', 'azp': 'demo', 'sid': '09a2d0c0-a2af-473c-bbb0-2bd0f574aa5c', 'acr': '1', 'realm_access': {'roles': ['offline_access', 'default-roles-eoepca', 'uma_authorization']}, 'resource_access': {'eoapi': {'roles': ['stac_editor']}, 'workspace-api': {'roles': ['admin']}, 'resource_registration': {'roles': ['records_editor']}, 'account': {'roles': ['manage-account', 'view-consent', 'manage-account-links', 'manage-consent', 'view-profile']}}, 'scope': 'profile email', 'email_verified': False, 'preferred_username': 'example-admin'}\n"
     ]
    }
   ],
   "source": [
    "#the following example users are expected to exist\n",
    "token_user1 = iam_token(\"example-user-1\", \"changeme\")\n",
    "decoded_token_user1 = jwt.decode(token_user1, options={\"verify_signature\": False})\n",
    "print(f\"\\n{decoded_token_user1}\")\n",
    "token_user2 = iam_token(\"example-user-2\", \"changeme\")\n",
    "decoded_token_user2 = jwt.decode(token_user2, options={\"verify_signature\": False})\n",
    "print(f\"\\n{decoded_token_user2}\")\n",
    "token_admin = iam_token(\"example-admin\", \"changeme\")\n",
    "decoded_token_admin = jwt.decode(token_admin, options={\"verify_signature\": False})\n",
    "print(f\"\\n{decoded_token_admin}\")"
   ]
  },
  {
   "cell_type": "code",
   "execution_count": 5,
   "id": "894ac0ec-5e52-4fa8-88e7-cef212abd1db",
   "metadata": {},
   "outputs": [
    {
     "name": "stdout",
     "output_type": "stream",
     "text": [
      "['eoapi', 'resource_registration', 'ws-example-team-1', 'account', 'ws-example-team-2']\n",
      "{'eoapi': {'roles': ['stac_editor']}, 'resource_registration': {'roles': ['records_editor']}, 'ws-example-team-1': {'roles': ['ws_access']}, 'account': {'roles': ['manage-account', 'view-consent', 'manage-account-links', 'manage-consent', 'view-profile']}, 'ws-example-team-2': {'roles': ['ws_access']}}\n"
     ]
    }
   ],
   "source": [
    "print(decoded_token_user1[\"aud\"])\n",
    "print(decoded_token_user1[\"resource_access\"])"
   ]
  },
  {
   "cell_type": "markdown",
   "id": "b3035e81-cb02-4e60-b877-0f0acd760967",
   "metadata": {},
   "source": [
    "### review existing workspaces"
   ]
  },
  {
   "cell_type": "code",
   "execution_count": 6,
   "id": "4a07b387-14ba-4295-909a-526ae7e01cdb",
   "metadata": {},
   "outputs": [
    {
     "name": "stdout",
     "output_type": "stream",
     "text": [
      "user1: ['ws-example-team-1', 'ws-example-team-2']\n",
      "user2: []\n"
     ]
    }
   ],
   "source": [
    "ws_user1 = [entry for entry in decoded_token_user1[\"aud\"] if entry.startswith('ws-')]\n",
    "print(f\"user1: {ws_user1}\")\n",
    "ws_user2 = [entry for entry in decoded_token_user2[\"aud\"] if entry.startswith('ws-')]\n",
    "print(f\"user2: {ws_user2}\")"
   ]
  },
  {
   "cell_type": "code",
   "execution_count": 7,
   "id": "a3ea333c-2273-44f0-89b8-e9a2c7dc8adb",
   "metadata": {},
   "outputs": [],
   "source": [
    "def access_ws(ws_name, token):\n",
    "    headers = {\n",
    "        'Authorization': 'bearer ' + token\n",
    "    }\n",
    "    url = f\"{workspace_api_endpoint}/{ws_name}\"\n",
    "    print(f\"HTTP GET {url}\")\n",
    "    response = requests.get(url, headers=headers)\n",
    "    print(response)\n",
    "    #print(response.text)\n",
    "    return response"
   ]
  },
  {
   "cell_type": "code",
   "execution_count": 8,
   "id": "3bfd6a18-18e0-4920-89a5-b479947c04a6",
   "metadata": {},
   "outputs": [
    {
     "name": "stdout",
     "output_type": "stream",
     "text": [
      "HTTP GET https://workspace-api.apx.develop.eoepca.org/workspaces/ws-example-team-1\n",
      "<Response [200]>\n"
     ]
    },
    {
     "data": {
      "text/plain": [
       "<Response [200]>"
      ]
     },
     "execution_count": 8,
     "metadata": {},
     "output_type": "execute_result"
    }
   ],
   "source": [
    "#manually add/remove users in keycloak and check access here\n",
    "access_ws(\"ws-example-team-1\", token_user1)"
   ]
  },
  {
   "cell_type": "markdown",
   "id": "39110515-452a-44bc-ac87-2636befa178e",
   "metadata": {},
   "source": [
    "### workspace creation"
   ]
  },
  {
   "cell_type": "code",
   "execution_count": 9,
   "id": "69c48898-6fe7-4376-a224-c95658c9ff63",
   "metadata": {},
   "outputs": [
    {
     "data": {
      "text/plain": [
       "'example-1744036538'"
      ]
     },
     "execution_count": 9,
     "metadata": {},
     "output_type": "execute_result"
    }
   ],
   "source": [
    "preferred_ws_name = f\"example-{datetime.datetime.now().timestamp():.0f}\"\n",
    "preferred_ws_name"
   ]
  },
  {
   "cell_type": "code",
   "execution_count": 10,
   "id": "1aecf9b0-f7ba-4f0e-ab8d-0641b9cb14bb",
   "metadata": {},
   "outputs": [
    {
     "name": "stdout",
     "output_type": "stream",
     "text": [
      "created workspace 'ws-example-1744036538'\n"
     ]
    }
   ],
   "source": [
    "response = requests.post(\n",
    "    workspace_api_endpoint,\n",
    "    headers={\n",
    "        'Authorization': 'Bearer ' + token_admin\n",
    "    },\n",
    "    json={\n",
    "        \"preferred_name\": preferred_ws_name,\n",
    "        \"default_owner\": \"example-user-1\"\n",
    "    }\n",
    ")\n",
    "response.raise_for_status()\n",
    "actual_workspace_name = response.json()['name']\n",
    "ws_name = response.json()[\"name\"]\n",
    "print(f\"created workspace '{ws_name}'\")"
   ]
  },
  {
   "cell_type": "code",
   "execution_count": 11,
   "id": "00d2563f-7a43-4a41-af7c-5ceb792cc184",
   "metadata": {},
   "outputs": [
    {
     "name": "stdout",
     "output_type": "stream",
     "text": [
      "HTTP GET https://workspace-api.apx.develop.eoepca.org/workspaces/ws-example-1744036538\n",
      "<Response [200]>\n",
      "...retrying\n",
      "HTTP GET https://workspace-api.apx.develop.eoepca.org/workspaces/ws-example-1744036538\n",
      "<Response [200]>\n",
      "...retrying\n",
      "HTTP GET https://workspace-api.apx.develop.eoepca.org/workspaces/ws-example-1744036538\n",
      "<Response [200]>\n",
      "...retrying\n",
      "HTTP GET https://workspace-api.apx.develop.eoepca.org/workspaces/ws-example-1744036538\n",
      "<Response [200]>\n",
      "...retrying\n",
      "HTTP GET https://workspace-api.apx.develop.eoepca.org/workspaces/ws-example-1744036538\n",
      "<Response [200]>\n",
      "ready\n"
     ]
    }
   ],
   "source": [
    "while True:\n",
    "    time.sleep(10)\n",
    "    response = access_ws(ws_name, iam_token(\"example-user-1\", \"changeme\"))\n",
    "    if response.status_code == 200:\n",
    "        try:\n",
    "            workspace_data = response.json()\n",
    "            if workspace_data.get(\"status\") == \"ready\":\n",
    "                print(\"ready\")\n",
    "                break\n",
    "        except ValueError:\n",
    "            print(\"not ready yet\")\n",
    "    \n",
    "    print(\"...retrying\")\n",
    "    "
   ]
  },
  {
   "cell_type": "markdown",
   "id": "5576d24c-f10f-4d7f-9e43-1088b13dacb3",
   "metadata": {},
   "source": [
    "### workspace permissions"
   ]
  },
  {
   "cell_type": "markdown",
   "id": "bda821e7-1de0-4523-95d6-032c54d1716a",
   "metadata": {},
   "source": [
    "note: example-user-1 is workspace owner (see creation above) an can access!"
   ]
  },
  {
   "cell_type": "code",
   "execution_count": 12,
   "id": "9a16c295-057c-4e6e-b0ec-93157165166d",
   "metadata": {},
   "outputs": [
    {
     "name": "stdout",
     "output_type": "stream",
     "text": [
      "HTTP GET https://workspace-api.apx.develop.eoepca.org/workspaces/ws-example-1744036538\n",
      "<Response [200]>\n"
     ]
    }
   ],
   "source": [
    "response1 = access_ws(ws_name, iam_token(\"example-user-1\", \"changeme\"))\n",
    "assert response1.status_code == 200"
   ]
  },
  {
   "cell_type": "markdown",
   "id": "92948625-ebf5-4920-8595-aa3f0e131dfe",
   "metadata": {},
   "source": [
    "note: example-user-2 can't access yet!"
   ]
  },
  {
   "cell_type": "code",
   "execution_count": 13,
   "id": "bc2f915b-fd82-4503-8168-edc4ce29b0af",
   "metadata": {},
   "outputs": [
    {
     "name": "stdout",
     "output_type": "stream",
     "text": [
      "HTTP GET https://workspace-api.apx.develop.eoepca.org/workspaces/ws-example-1744036538\n",
      "<Response [403]>\n"
     ]
    }
   ],
   "source": [
    "response2 = access_ws(ws_name, iam_token(\"example-user-2\", \"changeme\"))\n",
    "assert response2.status_code == 403"
   ]
  },
  {
   "cell_type": "markdown",
   "id": "c2b3fd6d-3fbb-4fde-8367-cfc3eb2c0aa4",
   "metadata": {},
   "source": [
    "### workspace vcluster (k8s) access "
   ]
  },
  {
   "cell_type": "code",
   "execution_count": 14,
   "id": "2fbb7868-d2f0-447c-a3e1-84dd4f3db0f4",
   "metadata": {},
   "outputs": [],
   "source": [
    "kubeconfig = workspace_data[\"runtime\"][\"envs\"][\"KUBECONFIG\"]"
   ]
  },
  {
   "cell_type": "code",
   "execution_count": 15,
   "id": "57f99769-f38b-4407-85c0-2bb4ee76e2a6",
   "metadata": {},
   "outputs": [],
   "source": [
    "from kubernetes import client, config\n",
    "from tempfile import NamedTemporaryFile\n",
    "\n",
    "with NamedTemporaryFile(mode='w+', delete=False) as temp_kubeconfig:\n",
    "    temp_kubeconfig.write(kubeconfig.replace(\"\\\\n\", \"\\n\"))\n",
    "    temp_kubeconfig.flush()\n",
    "\n",
    "    config.load_kube_config(config_file=temp_kubeconfig.name)\n",
    "    configuration = client.Configuration.get_default_copy()\n",
    "    configuration.verify_ssl = False # TBD\n",
    "    configuration.assert_hostname = False # TBD\n",
    "    api_client = client.ApiClient(configuration)"
   ]
  },
  {
   "cell_type": "code",
   "execution_count": 16,
   "id": "6936a362-c75a-473f-897d-85c5fab0d1bb",
   "metadata": {},
   "outputs": [
    {
     "name": "stdout",
     "output_type": "stream",
     "text": [
      "kube-system / coredns-668c87c5d8-4nxxc\n"
     ]
    }
   ],
   "source": [
    "v1 = client.CoreV1Api(api_client)\n",
    "all_pods = v1.list_pod_for_all_namespaces()\n",
    "for pod in all_pods.items:\n",
    "    print(f\"{pod.metadata.namespace} / {pod.metadata.name}\")"
   ]
  },
  {
   "cell_type": "markdown",
   "id": "e2251067-9c81-4c94-957e-dfa0ec487cab",
   "metadata": {},
   "source": [
    "### workspace s3 access "
   ]
  },
  {
   "cell_type": "code",
   "execution_count": 17,
   "id": "52b5ed61-5ac2-441b-8371-e299ff7e5a67",
   "metadata": {},
   "outputs": [],
   "source": [
    "bucket_name = workspace_data[\"storage\"][\"credentials\"][\"bucketname\"]\n",
    "s3_access = workspace_data[\"storage\"][\"credentials\"][\"access\"]\n",
    "s3_secret = workspace_data[\"storage\"][\"credentials\"][\"secret\"]"
   ]
  },
  {
   "cell_type": "code",
   "execution_count": 18,
   "id": "df5aa630-5ff0-477c-b3b2-35511ef1bead",
   "metadata": {},
   "outputs": [],
   "source": [
    "session = boto3.session.Session()\n",
    "s3resource = session.resource('s3', aws_access_key_id=s3_access, aws_secret_access_key=s3_secret, endpoint_url=minio_endpoint)"
   ]
  },
  {
   "cell_type": "code",
   "execution_count": 19,
   "id": "ae0a88c7-4fa2-4019-baab-1362ccff3eb1",
   "metadata": {},
   "outputs": [],
   "source": [
    "path = 'application-package/s-expression/s-expression-0_0_2.cwl'"
   ]
  },
  {
   "cell_type": "code",
   "execution_count": 20,
   "id": "9c0e78a6-5f9a-4abe-aed7-b75f60783ca9",
   "metadata": {},
   "outputs": [
    {
     "name": "stdout",
     "output_type": "stream",
     "text": [
      "Application package uploaded successfully\n"
     ]
    }
   ],
   "source": [
    "object = s3resource.Object(bucket_name, path)\n",
    "result = object.put(Body=open('../data/s-expression-cwl.cwl', 'rb'))\n",
    "res = result.get('ResponseMetadata')\n",
    "if res.get('HTTPStatusCode') == 200:\n",
    "    print('Application package uploaded successfully')\n",
    "else:\n",
    "    print('Application package not uploaded')"
   ]
  },
  {
   "cell_type": "code",
   "execution_count": 21,
   "id": "bdad21c4-82d7-4c74-a003-791a5eefa5b0",
   "metadata": {},
   "outputs": [
    {
     "name": "stdout",
     "output_type": "stream",
     "text": [
      "Key: application-package/s-expression/s-expression-0_0_2.cwl, Size: 2302 bytes\n"
     ]
    }
   ],
   "source": [
    "bucket = s3resource.Bucket(bucket_name)\n",
    "for obj in bucket.objects.all():\n",
    "    print(f\"Key: {obj.key}, Size: {obj.size} bytes\")"
   ]
  },
  {
   "cell_type": "markdown",
   "id": "b4f88a48-ee7e-4134-a615-d9c309a16375",
   "metadata": {},
   "source": [
    "### workspace ui with storage layer"
   ]
  },
  {
   "cell_type": "code",
   "execution_count": 22,
   "id": "14c5ade6-6ed0-45ff-bf83-09e2f5d1f60f",
   "metadata": {},
   "outputs": [
    {
     "name": "stdout",
     "output_type": "stream",
     "text": [
      "You can now open the Workspace UI at https://ws-example-1744036538.apx.develop.eoepca.org and login with example-user-1\n"
     ]
    }
   ],
   "source": [
    "print(f\"You can now open the Workspace UI at https://{ws_name}.{base_domain} and login with example-user-1\")"
   ]
  },
  {
   "cell_type": "markdown",
   "id": "55931099-bd7e-4f9e-ad66-503befd31863",
   "metadata": {},
   "source": [
    "### workspace deletion"
   ]
  },
  {
   "cell_type": "code",
   "execution_count": 23,
   "id": "562a75f8-4626-496e-b71f-dfb7ae1cc94b",
   "metadata": {},
   "outputs": [],
   "source": [
    "result = object.delete()"
   ]
  },
  {
   "cell_type": "code",
   "execution_count": 24,
   "id": "0fb6aebd-1f5b-4540-b085-29801080cbf3",
   "metadata": {},
   "outputs": [
    {
     "name": "stdout",
     "output_type": "stream",
     "text": [
      "deleted workspace 'ws-example-1744036538'\n"
     ]
    }
   ],
   "source": [
    "response = requests.delete(\n",
    "    f\"{workspace_api_endpoint}/{ws_name}\",\n",
    "    headers={\n",
    "        'Authorization': 'Bearer ' + iam_token(\"example-admin\", \"changeme\")\n",
    "    }\n",
    ")\n",
    "response.raise_for_status()\n",
    "print(f\"deleted workspace '{ws_name}'\")"
   ]
  }
 ],
 "metadata": {
  "kernelspec": {
   "display_name": "Python 3 (ipykernel)",
   "language": "python",
   "name": "python3"
  },
  "language_info": {
   "codemirror_mode": {
    "name": "ipython",
    "version": 3
   },
   "file_extension": ".py",
   "mimetype": "text/x-python",
   "name": "python",
   "nbconvert_exporter": "python",
   "pygments_lexer": "ipython3",
   "version": "3.12.8"
  }
 },
 "nbformat": 4,
 "nbformat_minor": 5
}
