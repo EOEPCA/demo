{
 "cells": [
  {
   "cell_type": "markdown",
   "id": "788a6dc1-ec4c-48aa-a3b8-d0de349c418a",
   "metadata": {},
   "source": [
    "## Workspace Management demo"
   ]
  },
  {
   "cell_type": "markdown",
   "id": "88d55bcb-6eba-4ac3-af24-67c5d286921f",
   "metadata": {},
   "source": [
    "This notebook presents examples of how to manage and use team workspaces!"
   ]
  },
  {
   "cell_type": "code",
   "execution_count": 1,
   "id": "bfc4d810-e4c0-42a4-9af7-d1290e510671",
   "metadata": {},
   "outputs": [],
   "source": [
    "import jwt\n",
    "import requests\n",
    "import datetime\n",
    "import boto3\n",
    "import urllib3\n",
    "import time\n",
    "import re\n",
    "urllib3.disable_warnings()"
   ]
  },
  {
   "cell_type": "code",
   "execution_count": 2,
   "id": "d28a3d90",
   "metadata": {},
   "outputs": [],
   "source": [
    "realm = \"eoepca\"\n",
    "base_domain = \"apx.develop.eoepca.org\"\n",
    "keycloak_endpoint = f\"https://iam-auth.{base_domain}\"\n",
    "workspace_api_endpoint = f'https://workspace-api.{base_domain}/workspaces'\n",
    "token_endpoint = f\"{keycloak_endpoint}/realms/{realm}/protocol/openid-connect/token\"\n",
    "minio_endpoint = \"https://minio.develop.eoepca.org\""
   ]
  },
  {
   "cell_type": "markdown",
   "id": "81510644-62e0-408d-9720-780411b62c6c",
   "metadata": {},
   "source": [
    "### token handling"
   ]
  },
  {
   "cell_type": "code",
   "execution_count": 3,
   "id": "2abbbf90-9d97-4d94-99e8-c042e8158b78",
   "metadata": {},
   "outputs": [],
   "source": [
    "def iam_token(username, password):\n",
    "    headers = {\n",
    "        \"Cache-Control\": \"no-cache\",\n",
    "        \"Content-Type\": \"application/x-www-form-urlencoded\"\n",
    "    }\n",
    "    data = {\n",
    "        \"scope\": \"roles\",\n",
    "        \"grant_type\": \"password\",\n",
    "        \"username\": username,\n",
    "        \"password\": password,\n",
    "        \"client_id\": \"demo\",\n",
    "        \"client_secret\": \"demo\"\n",
    "    }    \n",
    "    response = requests.post(token_endpoint, headers=headers, data=data)\n",
    "    if response.ok:\n",
    "        return response.json()[\"access_token\"]\n",
    "    else:\n",
    "        print(response)\n",
    "        return None"
   ]
  },
  {
   "cell_type": "markdown",
   "id": "2bfdbe35-5309-4e7e-a426-abbc392fd100",
   "metadata": {},
   "source": [
    "**Important**: We expect `example-user-1`, `example-user-2` and `example-admin` to exist in Keycloak!"
   ]
  },
  {
   "cell_type": "code",
   "execution_count": 4,
   "id": "e9033049-5c96-4de4-8c01-abd3bfb94456",
   "metadata": {},
   "outputs": [
    {
     "name": "stdout",
     "output_type": "stream",
     "text": [
      "\n",
      "{'exp': 1744203723, 'iat': 1744203423, 'jti': 'fa5b5f38-b9c6-4791-918f-93f80d59838a', 'iss': 'https://iam-auth.apx.develop.eoepca.org/realms/eoepca', 'aud': ['eoapi', 'resource_registration', 'ws-example-team-1', 'account', 'ws-example-team-2'], 'sub': '0965f986-de8e-43fa-ba1c-36d520eefe6f', 'typ': 'Bearer', 'azp': 'demo', 'sid': 'ae523e3c-acb4-42e9-bf2e-db898e9322b7', 'acr': '1', 'realm_access': {'roles': ['offline_access', 'default-roles-eoepca', 'uma_authorization']}, 'resource_access': {'eoapi': {'roles': ['stac_editor']}, 'resource_registration': {'roles': ['records_editor']}, 'ws-example-team-1': {'roles': ['ws_access']}, 'account': {'roles': ['manage-account', 'view-consent', 'manage-account-links', 'manage-consent', 'view-profile']}, 'ws-example-team-2': {'roles': ['ws_access']}}, 'scope': 'profile email', 'email_verified': False, 'preferred_username': 'example-user-1'}\n",
      "\n",
      "{'exp': 1744203723, 'iat': 1744203423, 'jti': '28789864-00f2-4caf-b7c8-3acde6f104b2', 'iss': 'https://iam-auth.apx.develop.eoepca.org/realms/eoepca', 'aud': 'account', 'sub': '73bdfbd0-997a-465d-a5aa-bef13dfcaf1b', 'typ': 'Bearer', 'azp': 'demo', 'sid': 'b718cb22-2982-4318-a09b-3577ab4de3b5', 'acr': '1', 'realm_access': {'roles': ['offline_access', 'default-roles-eoepca', 'uma_authorization']}, 'resource_access': {'account': {'roles': ['manage-account', 'view-consent', 'manage-account-links', 'manage-consent', 'view-profile']}}, 'scope': 'profile email', 'email_verified': False, 'preferred_username': 'example-user-2'}\n",
      "\n",
      "{'exp': 1744203723, 'iat': 1744203423, 'jti': 'f2462bed-cdb5-4a2a-8527-9a891ab2c09c', 'iss': 'https://iam-auth.apx.develop.eoepca.org/realms/eoepca', 'aud': ['eoapi', 'workspace-api', 'resource_registration', 'account'], 'sub': '11b75ef2-b964-48b1-8a43-6e3c8bdd4f33', 'typ': 'Bearer', 'azp': 'demo', 'sid': '03ed8827-8cb4-432c-aac3-e6568fe5db9b', 'acr': '1', 'realm_access': {'roles': ['offline_access', 'default-roles-eoepca', 'uma_authorization']}, 'resource_access': {'eoapi': {'roles': ['stac_editor']}, 'workspace-api': {'roles': ['admin']}, 'resource_registration': {'roles': ['records_editor']}, 'account': {'roles': ['manage-account', 'view-consent', 'manage-account-links', 'manage-consent', 'view-profile']}}, 'scope': 'profile email', 'email_verified': False, 'preferred_username': 'example-admin'}\n"
     ]
    }
   ],
   "source": [
    "#the following example users are expected to exist\n",
    "token_user1 = iam_token(\"example-user-1\", \"changeme\")\n",
    "decoded_token_user1 = jwt.decode(token_user1, options={\"verify_signature\": False})\n",
    "print(f\"\\n{decoded_token_user1}\")\n",
    "token_user2 = iam_token(\"example-user-2\", \"changeme\")\n",
    "decoded_token_user2 = jwt.decode(token_user2, options={\"verify_signature\": False})\n",
    "print(f\"\\n{decoded_token_user2}\")\n",
    "token_admin = iam_token(\"example-admin\", \"changeme\")\n",
    "decoded_token_admin = jwt.decode(token_admin, options={\"verify_signature\": False})\n",
    "print(f\"\\n{decoded_token_admin}\")"
   ]
  },
  {
   "cell_type": "code",
   "execution_count": 5,
   "id": "894ac0ec-5e52-4fa8-88e7-cef212abd1db",
   "metadata": {},
   "outputs": [
    {
     "name": "stdout",
     "output_type": "stream",
     "text": [
      "['eoapi', 'resource_registration', 'ws-example-team-1', 'account', 'ws-example-team-2']\n",
      "{'eoapi': {'roles': ['stac_editor']}, 'resource_registration': {'roles': ['records_editor']}, 'ws-example-team-1': {'roles': ['ws_access']}, 'account': {'roles': ['manage-account', 'view-consent', 'manage-account-links', 'manage-consent', 'view-profile']}, 'ws-example-team-2': {'roles': ['ws_access']}}\n"
     ]
    }
   ],
   "source": [
    "print(decoded_token_user1[\"aud\"])\n",
    "print(decoded_token_user1[\"resource_access\"])"
   ]
  },
  {
   "cell_type": "markdown",
   "id": "b3035e81-cb02-4e60-b877-0f0acd760967",
   "metadata": {},
   "source": [
    "### review existing workspaces"
   ]
  },
  {
   "cell_type": "code",
   "execution_count": 6,
   "id": "4a07b387-14ba-4295-909a-526ae7e01cdb",
   "metadata": {},
   "outputs": [
    {
     "name": "stdout",
     "output_type": "stream",
     "text": [
      "user1: ['ws-example-team-1', 'ws-example-team-2']\n",
      "user2: []\n"
     ]
    }
   ],
   "source": [
    "ws_user1 = [entry for entry in decoded_token_user1[\"aud\"] if entry.startswith('ws-')]\n",
    "print(f\"user1: {ws_user1}\")\n",
    "ws_user2 = [entry for entry in decoded_token_user2[\"aud\"] if entry.startswith('ws-')]\n",
    "print(f\"user2: {ws_user2}\")"
   ]
  },
  {
   "cell_type": "markdown",
   "id": "39110515-452a-44bc-ac87-2636befa178e",
   "metadata": {},
   "source": [
    "### workspace creation"
   ]
  },
  {
   "cell_type": "code",
   "execution_count": 7,
   "id": "69c48898-6fe7-4376-a224-c95658c9ff63",
   "metadata": {},
   "outputs": [
    {
     "data": {
      "text/plain": [
       "'example-1744203425'"
      ]
     },
     "execution_count": 7,
     "metadata": {},
     "output_type": "execute_result"
    }
   ],
   "source": [
    "preferred_ws_name = f\"example-{datetime.datetime.now().timestamp():.0f}\"\n",
    "preferred_ws_name"
   ]
  },
  {
   "cell_type": "code",
   "execution_count": 8,
   "id": "1aecf9b0-f7ba-4f0e-ab8d-0641b9cb14bb",
   "metadata": {},
   "outputs": [
    {
     "name": "stdout",
     "output_type": "stream",
     "text": [
      "✅ triggered workspace creation 'ws-example-1744203425' for 'example-user-1'\n"
     ]
    }
   ],
   "source": [
    "owner = \"example-user-1\"\n",
    "response = requests.post(\n",
    "    workspace_api_endpoint,\n",
    "    headers={\n",
    "        'Authorization': 'Bearer ' + token_admin\n",
    "    },\n",
    "    json={\n",
    "        \"preferred_name\": preferred_ws_name,\n",
    "        \"default_owner\": owner\n",
    "    }\n",
    ")\n",
    "response.raise_for_status()\n",
    "actual_workspace_name = response.json()['name']\n",
    "ws_name = response.json()[\"name\"]\n",
    "print(f\"✅ triggered workspace creation '{ws_name}' for '{owner}'\")"
   ]
  },
  {
   "cell_type": "code",
   "execution_count": 9,
   "id": "a3ea333c-2273-44f0-89b8-e9a2c7dc8adb",
   "metadata": {},
   "outputs": [],
   "source": [
    "def access_ws(ws_name, token):\n",
    "    headers = {\n",
    "        'Authorization': 'bearer ' + token\n",
    "    }\n",
    "    url = f\"{workspace_api_endpoint}/{ws_name}\"\n",
    "    print(f\"HTTP GET {url}\")\n",
    "    response = requests.get(url, headers=headers)\n",
    "    print(response)\n",
    "    #print(response.text)\n",
    "    return response"
   ]
  },
  {
   "cell_type": "code",
   "execution_count": 10,
   "id": "00d2563f-7a43-4a41-af7c-5ceb792cc184",
   "metadata": {},
   "outputs": [
    {
     "name": "stdout",
     "output_type": "stream",
     "text": [
      "HTTP GET https://workspace-api.apx.develop.eoepca.org/workspaces/ws-example-1744203425\n",
      "<Response [403]>\n",
      "...\n",
      "HTTP GET https://workspace-api.apx.develop.eoepca.org/workspaces/ws-example-1744203425\n",
      "<Response [200]>\n",
      "provisioning\n",
      "...\n",
      "HTTP GET https://workspace-api.apx.develop.eoepca.org/workspaces/ws-example-1744203425\n",
      "<Response [200]>\n",
      "provisioning\n",
      "...\n",
      "HTTP GET https://workspace-api.apx.develop.eoepca.org/workspaces/ws-example-1744203425\n",
      "<Response [200]>\n",
      "ready\n"
     ]
    }
   ],
   "source": [
    "while True:\n",
    "    response = access_ws(ws_name, iam_token(\"example-user-1\", \"changeme\"))\n",
    "    if response.status_code == 200:\n",
    "        try:\n",
    "            workspace_data = response.json()\n",
    "            print(workspace_data.get(\"status\"))\n",
    "            if workspace_data.get(\"status\") == \"ready\":\n",
    "                break\n",
    "        except ValueError:\n",
    "            print(\"not ready yet\")\n",
    "\n",
    "    print(\"...\")\n",
    "    time.sleep(20)    "
   ]
  },
  {
   "cell_type": "markdown",
   "id": "5576d24c-f10f-4d7f-9e43-1088b13dacb3",
   "metadata": {},
   "source": [
    "### workspace permissions"
   ]
  },
  {
   "cell_type": "code",
   "execution_count": 11,
   "id": "49bcc7f5-3050-4f9e-a2e5-6e696fea31c1",
   "metadata": {},
   "outputs": [
    {
     "name": "stdout",
     "output_type": "stream",
     "text": [
      "HTTP GET https://workspace-api.apx.develop.eoepca.org/workspaces/ws-example-1744203425\n",
      "<Response [200]>\n",
      "✅ example-user-1 is workspace owner (see creation above) and can retrieve workspace details\n"
     ]
    },
    {
     "data": {
      "text/plain": [
       "{'status': 'ready',\n",
       " 'endpoints': [{'id': 'k8s',\n",
       "   'url': 'k8s-ws-example-1744203425.develop.eoepca.org'},\n",
       "  {'id': 'workspace-ui',\n",
       "   'url': 'ws-example-1744203425.apx.develop.eoepca.org'}],\n",
       " 'storage': {'credentials': {'bucketname': 'ws-example-1744203425',\n",
       "   'access': 'ws-example-1744203425',\n",
       "   'secret': 'ETBZwswNTJGr161eCJlpQtaQcbD5owgtEJDDwBr4mpbuCPBIyPuALDhAzyABAHgD',\n",
       "   'endpoint': 'https://minio.develop.eoepca.org',\n",
       "   'region': 'eoepca-demo'}},\n",
       " 'runtime': {'envs': {'AWS_ACCESS_KEY_ID': 'ws-example-1744203425',\n",
       "   'AWS_ENDPOINT_URL': 'https://minio.develop.eoepca.org',\n",
       "   'AWS_REGION': 'eoepca-demo',\n",
       "   'AWS_SECRET_ACCESS_KEY': 'ETBZwswNTJGr161eCJlpQtaQcbD5owgtEJDDwBr4mpbuCPBIyPuALDhAzyABAHgD',\n",
       "   'KUBECONFIG': 'apiVersion: v1\\nclusters:\\n- cluster:\\n    certificate-authority-data: LS0tLS1CRUdJTiBDRVJUSUZJQ0FURS0tLS0tCk1JSURCVENDQWUyZ0F3SUJBZ0lJUllHQ1B6QWhObG93RFFZSktvWklodmNOQVFFTEJRQXdGVEVUTUJFR0ExVUUKQXhNS2EzVmlaWEp1WlhSbGN6QWVGdzB5TlRBME1Ea3hNalUzTWpKYUZ3MHpOVEEwTURjeE1qVTNNakphTUJVeApFekFSQmdOVkJBTVRDbXQxWW1WeWJtVjBaWE13Z2dFaU1BMEdDU3FHU0liM0RRRUJBUVVBQTRJQkR3QXdnZ0VLCkFvSUJBUURaRDV6cXpWUW56MFRRNjJtOUlOTXIyQVdvcFFkY2VXQi83bDZ6cTFkZTdZZXVUQVFzZ25jSkE2SWMKZmNWd1ludE5HVUlQUjkwbFliVWVaZXg3Z3RhVitWZytSUjhmdmpZclpXSWlFSFZOV1dCUjlJaU56aGlaVmdxSwprM1Y4K2hEWVBYcTFJbWw0MVY5RjBsY21na0FlNnRTZ2hwSlZFaFp4STRMeDhFeXNzVDlJVFg4djlXMFBzajJBCmhqejAwWXNNL3U0Mk16S3NqVlhGd0tOVVE4bUFJT0Jia0tLaEJNWDZvM2szSXhJSlJQenNENUdDM0RHeUYrVmMKcUlWd2hXQUlYZ20wamdadm1VWm1xRkJDRFQrNmNEQmRwNXhRaDZKVE9VMlNqWDhkWWRTbmdSRnJWeEh4SzA4WgpON3BPTmtRYTY0NFNUSzJ6YmxqcXBTWHltaVBOQWdNQkFBR2pXVEJYTUE0R0ExVWREd0VCL3dRRUF3SUNwREFQCkJnTlZIUk1CQWY4RUJUQURBUUgvTUIwR0ExVWREZ1FXQkJUSmlsTTd0UERSWkwxQVI4eXNYeVkydE5PNmd6QVYKQmdOVkhSRUVEakFNZ2dwcmRXSmxjbTVsZEdWek1BMEdDU3FHU0liM0RRRUJDd1VBQTRJQkFRQVdmTHBGSXRhUwpzMmtOU1dLZE1ETzl4WFM4dWhCYW96U0RwdDBlUVZsRkF3V21vcWI2NjFOMlJXaE0xY1g5WW8vK3R6REdDNVdSCldoMkxvc1N1aXY3eElSTmZySXJqMTdxUEJreTRJU1pWakVpMUhoWTMrc2VwWjh2SzhUa25NeG5UUS9oK09wUmkKaXNST3ZoeE5TNVJCclJLaWJBelk5QU9pUlJ3VG1ZNy9IK0tCcGdlMEFzd3gwNmtuR3RzNUJqaHpWcU9PYUt0ZApBQUI5K2JyenRnRmZabVl1S041TUJEemU0eU5sbzdoWXhCaFUzdzJzMzI5Yzh4SUhoUHZqZ3JOTTlQZURYOGdlClJlOThwZ2RsS1BDakk4OHhINTVyMXdQVmZGRlcrcVNoL1JOWSt2eXJSRnRHS0dSRll4a0lzbFc3bkgzTXVWUUwKcUZmQ1JZczZPT0FHCi0tLS0tRU5EIENFUlRJRklDQVRFLS0tLS0K\\n    server: https://k8s-ws-example-1744203425.develop.eoepca.org\\n  name: vcluster-context\\ncontexts:\\n- context:\\n    cluster: vcluster-context\\n    user: vcluster-context\\n  name: vcluster-context\\ncurrent-context: vcluster-context\\nkind: Config\\npreferences: {}\\nusers:\\n- name: vcluster-context\\n  user:\\n    client-certificate-data: LS0tLS1CRUdJTiBDRVJUSUZJQ0FURS0tLS0tCk1JSURWakNDQWo2Z0F3SUJBZ0lVZjh4cGo5NHoyQWRzcUpsNEE0elZMQkh1bTR3d0RRWUpLb1pJaHZjTkFRRUwKQlFBd0ZURVRNQkVHQTFVRUF4TUthM1ZpWlhKdVpYUmxjekFlRncweU5UQTBNRGt4TWpVeU1EQmFGdzB5TmpBMApNRGt4TWpVeU1EQmFNRFF4RnpBVkJnTlZCQW9URG5ONWMzUmxiVHB0WVhOMFpYSnpNUmt3RndZRFZRUURFeEJyCmRXSmxjbTVsZEdWekxXRmtiV2x1TUlJQklqQU5CZ2txaGtpRzl3MEJBUUVGQUFPQ0FROEFNSUlCQ2dLQ0FRRUEKdzBkNE9vWWZ2ZjJhKzhCVmRkRmZSQUNRQlJkdkRsVUJYbFhQQWpkbnZjdGQwTTc3UXhyMWZUeHNZckF3aG95dgpvUjJBbSt1VVhjem1MNXVWQVdCWHJzN3UzaTQxaG1PcWZyaEVjOXRGbHlqUUR2VzRkQUF4STVwekhKMVloUGFlCkdIZ3FEdXVhUi9xSEV3d0lUdFkzWEprSFZoUzducDNXbElSQ0plWld4SnVMNUdveXJjNjArcWlYdmhtejBXbGwKNGJTZmVKaGhpa2NVcGlKZWNqL2k0RTFobXlrb09uY1R6aThDanE1bTR6WGlpaEM5eTdPK0FacnpURW5jMVp5aApzRERYTlpEdWZPY1B5Nlg3VWc1blora3VSZkdqQWJXVzVSZ0QrS0VOd25UNXJDNUkyc093bXJsM0ZIeDRBYlFlCmwxRklWd1VXbnBmR2JNSTI3YThnT1FJREFRQUJvMzh3ZlRBT0JnTlZIUThCQWY4RUJBTUNCYUF3SFFZRFZSMGwKQkJZd0ZBWUlLd1lCQlFVSEF3RUdDQ3NHQVFVRkJ3TUNNQXdHQTFVZEV3RUIvd1FDTUFBd0hRWURWUjBPQkJZRQpGRkZhTVNQT1hycmVtV280MFZIZVRJSUYvWUgwTUI4R0ExVWRJd1FZTUJhQUZNbUtVenUwOE5Ga3ZVQkh6S3hmCkpqYTAwN3FETUEwR0NTcUdTSWIzRFFFQkN3VUFBNElCQVFETGNjL0djbmV3QTUzS1h1VkE3ekIzYkhsaGFubWYKWVBlTmFvQ3ZGV3lOc3hTMXRTRlVJM2JJSEpOTlRGZ3FDMWhIb0RNdE9IWmUrZ2hXUWhjVklMRUNyVXlIejQ0UgpZNUYwendGcTZXSEVnR2tDNG1TczVmSytVTmhkTXZIdHZLSnFLNDFYTjNrOCtGd3VSQ1VFS2tyZzIxVk9Tb2FxClk4V1J2RmlXNk9lYUpjWjcxSVg4cXUzVEJTcENMOER1L1lyWWUzZG5NQ2hmOTJYWnlIZDlHMW5CcW41SlFVVjkKRHViS0F4YXBhdmhWTDhTaFZPVE5WN29PdmZjQThmQTNnUWFNc0V1RGtjME5NS3B2MXJpa3BaNEtDNndIMTBzLwpoWThhNE1xQnBPOFdVb3BPRHU3aFFRWENNS2NsaldHYlczcmRZczVpdHB4OWFnQWcyUWhZb2cvcQotLS0tLUVORCBDRVJUSUZJQ0FURS0tLS0tCg==\\n    client-key-data: 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\\n'}},\n",
       " 'container_registry': None}"
      ]
     },
     "execution_count": 11,
     "metadata": {},
     "output_type": "execute_result"
    }
   ],
   "source": [
    "response1 = access_ws(ws_name, iam_token(\"example-user-1\", \"changeme\"))\n",
    "assert response1.status_code == 200\n",
    "print(f\"✅ example-user-1 is workspace owner (see creation above) and can retrieve workspace details\")\n",
    "workspace_data"
   ]
  },
  {
   "cell_type": "code",
   "execution_count": 12,
   "id": "bc2f915b-fd82-4503-8168-edc4ce29b0af",
   "metadata": {},
   "outputs": [
    {
     "name": "stdout",
     "output_type": "stream",
     "text": [
      "HTTP GET https://workspace-api.apx.develop.eoepca.org/workspaces/ws-example-1744203425\n",
      "<Response [403]>\n",
      "✅ example-user-2 has not been granted access to retrieve workspace details (yet)\n"
     ]
    }
   ],
   "source": [
    "response2 = access_ws(ws_name, iam_token(\"example-user-2\", \"changeme\"))\n",
    "assert response2.status_code == 403\n",
    "print(f\"✅ example-user-2 has not been granted access to retrieve workspace details (yet)\")"
   ]
  },
  {
   "cell_type": "markdown",
   "id": "c2b3fd6d-3fbb-4fde-8367-cfc3eb2c0aa4",
   "metadata": {},
   "source": [
    "### workspace vcluster (k8s) access "
   ]
  },
  {
   "cell_type": "code",
   "execution_count": 13,
   "id": "2fbb7868-d2f0-447c-a3e1-84dd4f3db0f4",
   "metadata": {},
   "outputs": [],
   "source": [
    "kubeconfig = workspace_data[\"runtime\"][\"envs\"][\"KUBECONFIG\"]"
   ]
  },
  {
   "cell_type": "code",
   "execution_count": 14,
   "id": "2eb56988-be4d-46a8-b466-12ceac0def1c",
   "metadata": {},
   "outputs": [
    {
     "name": "stdout",
     "output_type": "stream",
     "text": [
      "✅ kubeconfig written, use e.g. via `KUBECONFIG=/tmp/tmpjq7iuaxd kubectl get pods -A`\n"
     ]
    }
   ],
   "source": [
    "from kubernetes import client, config\n",
    "from tempfile import NamedTemporaryFile\n",
    "\n",
    "clean_kubeconfig = re.sub(\n",
    "    r'^\\s*certificate-authority(-data)?:.*\\n?', '', \n",
    "    kubeconfig.replace(\"\\\\n\", \"\\n\"), flags=re.MULTILINE\n",
    ")\n",
    "\n",
    "# at the moment necessary\n",
    "patched_kubeconfig = re.sub(\n",
    "    r'^(?P<indent>\\s*)server: .*\\n', \n",
    "    lambda m: m.group(0) + f\"{m.group('indent')}insecure-skip-tls-verify: true\\n\", \n",
    "    clean_kubeconfig, flags=re.MULTILINE\n",
    ")\n",
    "\n",
    "with NamedTemporaryFile(mode='w+', delete=False) as temp_kubeconfig:\n",
    "    temp_kubeconfig.write(patched_kubeconfig)\n",
    "    temp_kubeconfig.flush()\n",
    "    print(f\"✅ kubeconfig written, use e.g. via `KUBECONFIG={temp_kubeconfig.name} kubectl get pods -A`\")\n",
    "\n",
    "    config.load_kube_config(config_file=temp_kubeconfig.name)\n",
    "    api_client = client.ApiClient()"
   ]
  },
  {
   "cell_type": "code",
   "execution_count": 15,
   "id": "6936a362-c75a-473f-897d-85c5fab0d1bb",
   "metadata": {},
   "outputs": [
    {
     "name": "stdout",
     "output_type": "stream",
     "text": [
      "✅ can access (virtual) k8s cluster, the following pods are running:\n",
      "kube-system / coredns-668c87c5d8-kbstf\n"
     ]
    }
   ],
   "source": [
    "v1 = client.CoreV1Api(api_client)\n",
    "all_pods = v1.list_pod_for_all_namespaces()\n",
    "print(f\"✅ can access (virtual) k8s cluster, the following pods are running:\")\n",
    "for pod in all_pods.items:\n",
    "    print(f\"{pod.metadata.namespace} / {pod.metadata.name}\")"
   ]
  },
  {
   "cell_type": "markdown",
   "id": "e2251067-9c81-4c94-957e-dfa0ec487cab",
   "metadata": {},
   "source": [
    "### workspace s3 access "
   ]
  },
  {
   "cell_type": "code",
   "execution_count": 16,
   "id": "52b5ed61-5ac2-441b-8371-e299ff7e5a67",
   "metadata": {},
   "outputs": [],
   "source": [
    "bucket_name = workspace_data[\"storage\"][\"credentials\"][\"bucketname\"]\n",
    "s3_access = workspace_data[\"storage\"][\"credentials\"][\"access\"]\n",
    "s3_secret = workspace_data[\"storage\"][\"credentials\"][\"secret\"]\n",
    "s3_endpoint = workspace_data[\"storage\"][\"credentials\"][\"endpoint\"]"
   ]
  },
  {
   "cell_type": "code",
   "execution_count": 17,
   "id": "df5aa630-5ff0-477c-b3b2-35511ef1bead",
   "metadata": {},
   "outputs": [],
   "source": [
    "session = boto3.session.Session()\n",
    "s3resource = session.resource('s3', aws_access_key_id=s3_access, aws_secret_access_key=s3_secret, endpoint_url=minio_endpoint)"
   ]
  },
  {
   "cell_type": "code",
   "execution_count": 18,
   "id": "ae0a88c7-4fa2-4019-baab-1362ccff3eb1",
   "metadata": {},
   "outputs": [],
   "source": [
    "path = 'application-package/s-expression/s-expression-0_0_2.cwl'"
   ]
  },
  {
   "cell_type": "code",
   "execution_count": 19,
   "id": "9c0e78a6-5f9a-4abe-aed7-b75f60783ca9",
   "metadata": {},
   "outputs": [
    {
     "name": "stdout",
     "output_type": "stream",
     "text": [
      "✅ Application package uploaded successfully\n"
     ]
    }
   ],
   "source": [
    "object = s3resource.Object(bucket_name, path)\n",
    "result = object.put(Body=open('../data/s-expression-cwl.cwl', 'rb'))\n",
    "res = result.get('ResponseMetadata')\n",
    "if res.get('HTTPStatusCode') == 200:\n",
    "    print('✅ Application package uploaded successfully')\n",
    "else:\n",
    "    print('Application package not uploaded')"
   ]
  },
  {
   "cell_type": "code",
   "execution_count": 20,
   "id": "bdad21c4-82d7-4c74-a003-791a5eefa5b0",
   "metadata": {},
   "outputs": [
    {
     "name": "stdout",
     "output_type": "stream",
     "text": [
      "Key: application-package/s-expression/s-expression-0_0_2.cwl, Size: 2302 bytes\n"
     ]
    }
   ],
   "source": [
    "bucket = s3resource.Bucket(bucket_name)\n",
    "for obj in bucket.objects.all():\n",
    "    print(f\"Key: {obj.key}, Size: {obj.size} bytes\")"
   ]
  },
  {
   "cell_type": "markdown",
   "id": "b4f88a48-ee7e-4134-a615-d9c309a16375",
   "metadata": {},
   "source": [
    "### workspace ui with storage layer"
   ]
  },
  {
   "cell_type": "code",
   "execution_count": 21,
   "id": "14c5ade6-6ed0-45ff-bf83-09e2f5d1f60f",
   "metadata": {},
   "outputs": [
    {
     "name": "stdout",
     "output_type": "stream",
     "text": [
      "You can now open the Workspace UI at https://ws-example-1744203425.apx.develop.eoepca.org and login with example-user-1\n"
     ]
    }
   ],
   "source": [
    "print(f\"You can now open the Workspace UI at https://{ws_name}.{base_domain} and login with example-user-1\")"
   ]
  },
  {
   "cell_type": "markdown",
   "id": "c09791b8-6ddc-4165-b684-ddebdced6c53",
   "metadata": {},
   "source": [
    "### *!!! bonus !!!* deploy coder (visual studio code server) demonstrating EOAP (EO workflow using CWL)\n",
    "\n",
    "- documentation: https://eoap.github.io/quickwin/\n",
    "- github repo (with k8s manifests!) https://github.com/eoap/quickwin/"
   ]
  },
  {
   "cell_type": "code",
   "execution_count": 22,
   "id": "1ce31ccf-7bd4-4b57-856b-63dff4ce08dd",
   "metadata": {},
   "outputs": [
    {
     "name": "stdout",
     "output_type": "stream",
     "text": [
      "✅ coder manifests written to: /tmp/tmp1kg8fkqh\n"
     ]
    }
   ],
   "source": [
    "url = \"https://raw.githubusercontent.com/eoap/quickwin/refs/heads/main/coder-manifests/coder.yaml\"\n",
    "response = requests.get(url)\n",
    "coder_yaml = response.text\n",
    "\n",
    "coder_yaml = re.sub(r'export AWS_ACCESS_KEY_ID=\"[^\"]+\"', f'export AWS_ACCESS_KEY_ID=\"{s3_access}\"', coder_yaml)\n",
    "coder_yaml = re.sub(r'export AWS_SECRET_ACCESS_KEY=\"[^\"]+\"', f'export AWS_SECRET_ACCESS_KEY=\"{s3_secret}\"', coder_yaml)\n",
    "\n",
    "coder_yaml = re.sub(\n",
    "    r'- name: AWS_ACCESS_KEY_ID\\s*\\n\\s*value: \"[^\"]+\"',\n",
    "    f'- name: AWS_ACCESS_KEY_ID\\n            value: \"{s3_access}\"',\n",
    "    coder_yaml\n",
    ")\n",
    "coder_yaml = re.sub(\n",
    "    r'- name: AWS_SECRET_ACCESS_KEY\\s*\\n\\s*value: \"[^\"]+\"',\n",
    "    f'- name: AWS_SECRET_ACCESS_KEY\\n            value: \"{s3_secret}\"',\n",
    "    coder_yaml\n",
    ")\n",
    "\n",
    "coder_yaml = re.sub(r'--endpoint-url=http[s]?://[^\\s\"]+', f'--endpoint-url={s3_endpoint}', coder_yaml)\n",
    "\n",
    "coder_yaml = re.sub(r'^\\s*aws s3 mb s3://results --endpoint-url=.*$', '', coder_yaml, flags=re.MULTILINE)\n",
    "\n",
    "coder_yaml = re.sub(\n",
    "    r'(kind: PersistentVolumeClaim[\\s\\S]+?spec:\\s+accessModes:[\\s\\S]+?requests:\\s+storage: \\d+Gi)',\n",
    "    r'\\1\\n  storageClassName: managed-nfs-storage',\n",
    "    coder_yaml\n",
    ")\n",
    "\n",
    "with NamedTemporaryFile(mode='w+', delete=False) as temp_coder_manifests:\n",
    "    temp_coder_manifests.write(coder_yaml)\n",
    "    temp_coder_manifests.flush()\n",
    "\n",
    "print(f\"✅ coder manifests written to: {temp_coder_manifests.name}\")"
   ]
  },
  {
   "cell_type": "code",
   "execution_count": 23,
   "id": "991f9ccf-50e3-4f39-92d9-46be6c68d538",
   "metadata": {},
   "outputs": [
    {
     "name": "stdout",
     "output_type": "stream",
     "text": [
      "deployment.apps/code-server-deployment created\n",
      "persistentvolumeclaim/code-server-pvc created\n",
      "service/code-server-service created\n",
      "configmap/init created\n",
      "configmap/bash-rc created\n",
      "configmap/bash-login created\n"
     ]
    }
   ],
   "source": [
    "!KUBECONFIG={temp_kubeconfig.name} kubectl apply -f {temp_coder_manifests.name}"
   ]
  },
  {
   "cell_type": "code",
   "execution_count": 24,
   "id": "238f6ca1-abcd-4922-8243-266ec065b29a",
   "metadata": {},
   "outputs": [
    {
     "ename": "Exception",
     "evalue": "stop at this cell for demo",
     "output_type": "error",
     "traceback": [
      "\u001b[0;31m---------------------------------------------------------------------------\u001b[0m",
      "\u001b[0;31mException\u001b[0m                                 Traceback (most recent call last)",
      "Cell \u001b[0;32mIn[24], line 1\u001b[0m\n\u001b[0;32m----> 1\u001b[0m \u001b[38;5;28;01mraise\u001b[39;00m \u001b[38;5;167;01mException\u001b[39;00m(\u001b[38;5;124m\"\u001b[39m\u001b[38;5;124mstop at this cell for demo\u001b[39m\u001b[38;5;124m\"\u001b[39m)\n",
      "\u001b[0;31mException\u001b[0m: stop at this cell for demo"
     ]
    }
   ],
   "source": [
    "raise Exception(\"stop at this cell for demo\")"
   ]
  },
  {
   "cell_type": "markdown",
   "id": "55931099-bd7e-4f9e-ad66-503befd31863",
   "metadata": {},
   "source": [
    "### workspace deletion"
   ]
  },
  {
   "cell_type": "code",
   "execution_count": null,
   "id": "562a75f8-4626-496e-b71f-dfb7ae1cc94b",
   "metadata": {},
   "outputs": [],
   "source": [
    "result = object.delete()"
   ]
  },
  {
   "cell_type": "code",
   "execution_count": null,
   "id": "0fb6aebd-1f5b-4540-b085-29801080cbf3",
   "metadata": {},
   "outputs": [],
   "source": [
    "response = requests.delete(\n",
    "    f\"{workspace_api_endpoint}/{ws_name}\",\n",
    "    headers={\n",
    "        'Authorization': 'Bearer ' + iam_token(\"example-admin\", \"changeme\")\n",
    "    }\n",
    ")\n",
    "response.raise_for_status()\n",
    "print(f\"deleted workspace '{ws_name}'\")"
   ]
  }
 ],
 "metadata": {
  "kernelspec": {
   "display_name": "Python 3 (ipykernel)",
   "language": "python",
   "name": "python3"
  },
  "language_info": {
   "codemirror_mode": {
    "name": "ipython",
    "version": 3
   },
   "file_extension": ".py",
   "mimetype": "text/x-python",
   "name": "python",
   "nbconvert_exporter": "python",
   "pygments_lexer": "ipython3",
   "version": "3.12.8"
  }
 },
 "nbformat": 4,
 "nbformat_minor": 5
}
