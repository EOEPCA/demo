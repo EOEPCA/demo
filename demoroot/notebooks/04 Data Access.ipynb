{
 "cells": [
  {
   "cell_type": "markdown",
   "id": "788a6dc1-ec4c-48aa-a3b8-d0de349c418a",
   "metadata": {},
   "source": [
    "## Data Access demo"
   ]
  },
  {
   "cell_type": "markdown",
   "id": "aec1b1dc-caad-4fde-862b-4fd0f4136a30",
   "metadata": {},
   "source": [
    "## Data Access v1"
   ]
  },
  {
   "cell_type": "markdown",
   "id": "88d55bcb-6eba-4ac3-af24-67c5d286921f",
   "metadata": {},
   "source": [
    "[OWSLib](https://geopython.github.io/OWSLib) is a Python package for client programming with Open Geospatial Consortium (OGC) web service (hence OWS) interface standards, and their related content models. In this demo we’ll work with the CSW, WMS and WCS interfaces."
   ]
  },
  {
   "cell_type": "code",
   "execution_count": null,
   "id": "bfc4d810-e4c0-42a4-9af7-d1290e510671",
   "metadata": {},
   "outputs": [],
   "source": [
    "from owslib.csw import CatalogueServiceWeb\n",
    "from owslib.wms import WebMapService\n",
    "from owslib.wcs import WebCoverageService\n",
    "import lxml.etree\n",
    "import requests\n",
    "from tifffile import imread\n",
    "from io import BytesIO, StringIO"
   ]
  },
  {
   "cell_type": "markdown",
   "id": "a23a0f74-e8d4-4996-bf7c-dc4f373a0263",
   "metadata": {},
   "source": [
    "### Data Discovery"
   ]
  },
  {
   "cell_type": "markdown",
   "id": "a4e2ded5-4098-40b5-b1f9-43c5ee595a19",
   "metadata": {},
   "source": [
    "The user has already discovered the dataset to use by using the OWSLib CSW client"
   ]
  },
  {
   "cell_type": "code",
   "execution_count": null,
   "id": "ffb9ad53-8f9f-40ef-bb9f-fc2a3df9e852",
   "metadata": {},
   "outputs": [],
   "source": [
    "base_domain = \"develop.eoepca.org\"\n",
    "workspace_prefix = \"ws\"\n",
    "system_endpoint = f'https://resource-catalogue.{base_domain}/csw'"
   ]
  },
  {
   "cell_type": "code",
   "execution_count": null,
   "id": "fbf34343-f261-4e0e-a9a2-77c33c3c209e",
   "metadata": {},
   "outputs": [],
   "source": [
    "csw = CatalogueServiceWeb(system_endpoint,timeout=30)"
   ]
  },
  {
   "cell_type": "code",
   "execution_count": null,
   "id": "e77e8868-8dad-4e89-845f-1aabecfb608a",
   "metadata": {},
   "outputs": [],
   "source": [
    "scene_id=\"S2B_MSIL2A_20190910T095029_N0500_R079_T33TXN_20230430T083712.SAFE\""
   ]
  },
  {
   "cell_type": "code",
   "execution_count": null,
   "id": "1bdb298b-6c51-4b64-888c-1209eeb04bdc",
   "metadata": {},
   "outputs": [],
   "source": [
    "csw.getrecordbyid(id=[scene_id])"
   ]
  },
  {
   "cell_type": "code",
   "execution_count": null,
   "id": "50132833-1859-4275-b927-c3d8bc2e1652",
   "metadata": {},
   "outputs": [],
   "source": [
    "links = csw.records[scene_id].references"
   ]
  },
  {
   "cell_type": "code",
   "execution_count": null,
   "id": "1db7fe6a-ff76-4293-bd11-78b9e969e97a",
   "metadata": {},
   "outputs": [],
   "source": [
    "for link in links:\n",
    "    scheme = link['scheme']\n",
    "    if scheme and 'WMS' in scheme:\n",
    "        wms_endpoint=link['url']\n",
    "        print(link['url'])"
   ]
  },
  {
   "cell_type": "markdown",
   "id": "1c637632-a9df-4675-b848-3cf972d0db56",
   "metadata": {},
   "source": [
    "### Data Visualization"
   ]
  },
  {
   "cell_type": "markdown",
   "id": "014dbb9a-0456-4bb0-8d27-03d221f86fcc",
   "metadata": {},
   "source": [
    "After discovering the dataset, the user can identify the WMS link and use the OWSLib WMs client to visualize the dataset"
   ]
  },
  {
   "cell_type": "code",
   "execution_count": null,
   "id": "21f7e4ca-08b7-4322-b927-16a169a0c9e6",
   "metadata": {},
   "outputs": [],
   "source": [
    "wms = WebMapService(wms_endpoint, version='1.3.0')"
   ]
  },
  {
   "cell_type": "markdown",
   "id": "84b197f6-8bf5-4f6c-b515-5e9785fb5380",
   "metadata": {},
   "source": [
    "The list of layers available to the WMS service:"
   ]
  },
  {
   "cell_type": "code",
   "execution_count": null,
   "id": "2118d6f4-1691-4d52-8893-f15c1810c394",
   "metadata": {},
   "outputs": [],
   "source": [
    "list(wms.contents)"
   ]
  },
  {
   "cell_type": "markdown",
   "id": "66364a99-a19a-4226-b7c1-bf4864eed492",
   "metadata": {},
   "source": [
    "Along with some WMS layer metadata:"
   ]
  },
  {
   "cell_type": "code",
   "execution_count": null,
   "id": "bd3ebb32-91fb-4799-9d34-3988fc86960c",
   "metadata": {},
   "outputs": [],
   "source": [
    "wms[scene_id].title"
   ]
  },
  {
   "cell_type": "code",
   "execution_count": null,
   "id": "56ce9bc3-84d4-4f1c-9b4a-a4469bd92ca4",
   "metadata": {},
   "outputs": [],
   "source": [
    "wms[scene_id].boundingBoxWGS84"
   ]
  },
  {
   "cell_type": "code",
   "execution_count": null,
   "id": "fd2ad968-25d5-46f7-bc13-92a49a3eba55",
   "metadata": {},
   "outputs": [],
   "source": [
    "[op.name for op in wms.operations]"
   ]
  },
  {
   "cell_type": "code",
   "execution_count": null,
   "id": "f24b8ddd-bfb5-4bc3-814c-eb385e8f8de4",
   "metadata": {},
   "outputs": [],
   "source": [
    "wms[scene_id].styles"
   ]
  },
  {
   "cell_type": "code",
   "execution_count": null,
   "id": "2739a43b-9848-4f63-821a-982aac96871c",
   "metadata": {},
   "outputs": [],
   "source": [
    "wms.getOperationByName('GetMap').formatOptions"
   ]
  },
  {
   "cell_type": "markdown",
   "id": "c169650b-9a81-4922-999c-cf8ff158b40c",
   "metadata": {},
   "source": [
    "The user can visualize the WMS GetMap request from matplotlib"
   ]
  },
  {
   "cell_type": "code",
   "execution_count": null,
   "id": "96523864-81cb-4ce8-a4d2-d8b23b632b3e",
   "metadata": {},
   "outputs": [],
   "source": [
    "%matplotlib inline\n",
    "import os, sys\n",
    "import matplotlib.image as mpimg\n",
    "import matplotlib.pyplot as plt\n",
    "\n",
    "def getMap(wms,layerName,bbox,filename,style=None):\n",
    "    wms.getOperationByName('GetMap').formatOptions\n",
    "    img = wms.getmap(layers=[layerName],\n",
    "                 styles=[style] if style is not None else None,\n",
    "                 size=(600,300),\n",
    "                 srs='EPSG:4326',\n",
    "                 bbox=bbox,\n",
    "                 format='image/png',\n",
    "                 transparent=True)\n",
    "\n",
    "    tmpfile = open(filename,'wb')\n",
    "    tmpfile.write(img.read())\n",
    "    tmpfile.close()"
   ]
  },
  {
   "cell_type": "code",
   "execution_count": null,
   "id": "4dc25083-e659-4688-a635-3be51d25a742",
   "metadata": {},
   "outputs": [],
   "source": [
    "getMap(wms,f\"{scene_id}__TRUE_COLOR\",wms[scene_id].boundingBoxWGS84, 'rgb.png')\n",
    "image1=mpimg.imread('rgb.png')\n",
    "fig = plt.figure(figsize=(12,7))\n",
    "img1=plt.imshow(image1,extent=wms[scene_id].boundingBoxWGS84,aspect='auto')\n",
    "plt.show()"
   ]
  },
  {
   "cell_type": "markdown",
   "id": "aa30c819-2a76-4db5-afeb-139ffd523085",
   "metadata": {},
   "source": [
    "False color composite using Near Infrared, Red, Green Bands"
   ]
  },
  {
   "cell_type": "code",
   "execution_count": null,
   "id": "98f5d6a8-4c26-48b6-ad61-6db9920595b0",
   "metadata": {},
   "outputs": [],
   "source": [
    "getMap(wms,f\"{scene_id}__FALSE_COLOR\",wms[scene_id].boundingBoxWGS84, 'nirrg.png')\n",
    "image1=mpimg.imread('nirrg.png')\n",
    "fig = plt.figure(figsize=(12,7))\n",
    "img1=plt.imshow(image1,extent=wms[scene_id].boundingBoxWGS84,aspect='auto')\n",
    "plt.show()"
   ]
  },
  {
   "cell_type": "code",
   "execution_count": null,
   "id": "3a303ec1-c504-4cef-8c96-1381ddcc3040",
   "metadata": {},
   "outputs": [],
   "source": [
    "getMap(wms,f\"{scene_id}__NDVI\",wms[scene_id].boundingBoxWGS84, 'ndvi.png', style='summer')\n",
    "image1=mpimg.imread('ndvi.png')\n",
    "fig = plt.figure(figsize=(12,7))\n",
    "img1=plt.imshow(image1,extent=wms[scene_id].boundingBoxWGS84,aspect='auto')\n",
    "plt.show()"
   ]
  },
  {
   "cell_type": "code",
   "execution_count": null,
   "id": "ed686f05-d0ce-47e9-8060-539b3396930a",
   "metadata": {},
   "outputs": [],
   "source": [
    "getMap(wms,f\"{scene_id}__TRUE_COLOR\",wms[scene_id].boundingBoxWGS84, 'rgb.png')\n",
    "image1=mpimg.imread('rgb.png')\n",
    "fig = plt.figure(figsize=(12,7))\n",
    "img1=plt.imshow(image1,extent=wms[scene_id].boundingBoxWGS84,aspect='auto')\n",
    "plt.show()"
   ]
  },
  {
   "cell_type": "markdown",
   "id": "2f8e4921-c5a7-4744-a16e-1a3d5a19d017",
   "metadata": {},
   "source": [
    "Alternatively, the Folium library is available to create a Leaflet map with the WMS layer"
   ]
  },
  {
   "cell_type": "code",
   "execution_count": null,
   "id": "f21558f8-30cb-41be-b0e1-d814036823c4",
   "metadata": {},
   "outputs": [],
   "source": [
    "import os\n",
    "import folium\n",
    "\n",
    "print(folium.__version__)\n",
    "\n",
    "import folium.plugins.timestamped_wmstilelayer"
   ]
  },
  {
   "cell_type": "code",
   "execution_count": null,
   "id": "3813c642-6e04-497c-8bc1-68e10898139d",
   "metadata": {
    "tags": []
   },
   "outputs": [],
   "source": [
    "centre_lat=wms[scene_id].boundingBoxWGS84[1]+(wms[scene_id].boundingBoxWGS84[3]-wms[scene_id].boundingBoxWGS84[1])/2\n",
    "centre_long=wms[scene_id].boundingBoxWGS84[0]+(wms[scene_id].boundingBoxWGS84[2]-wms[scene_id].boundingBoxWGS84[0])/2\n",
    "m = folium.Map(location=[centre_lat, centre_long], zoom_start=7, tiles=None)\n",
    "\n",
    "folium.raster_layers.WmsTileLayer(\n",
    "    url=\"https://a.tiles.maps.eox.at\",\n",
    "    layers='terrain-light_3857',\n",
    "    name='terrain-light',\n",
    "    fmt='image/jpeg',\n",
    ").add_to(m)\n",
    "\n",
    "\n",
    "folium.raster_layers.WmsTileLayer(\n",
    "    url=wms_endpoint.partition(\"?\")[0],\n",
    "    layers=f\"{scene_id}__TRUE_COLOR\",\n",
    "    name=f\"{scene_id}__TRUE_COLOR\",\n",
    "    fmt='image/png',\n",
    "    transparent=True,\n",
    "    overlay=True,\n",
    "    control=True,\n",
    ").add_to(m)\n",
    "\n",
    "folium.raster_layers.WmsTileLayer(\n",
    "    url=wms_endpoint.partition(\"?\")[0],\n",
    "    layers=f\"{scene_id}__outlines\",\n",
    "    name=f\"{scene_id}__outlines\",\n",
    "    fmt='image/png',\n",
    "    transparent=True,\n",
    "    overlay=True,\n",
    "    control=True,\n",
    ").add_to(m)\n",
    "\n",
    "folium.LayerControl().add_to(m)\n",
    "\n",
    "m"
   ]
  },
  {
   "cell_type": "markdown",
   "id": "9229bc99-22ca-4737-9935-08c12b14956d",
   "metadata": {},
   "source": [
    "## Showing contents of a whole collection for a given timespan."
   ]
  },
  {
   "cell_type": "code",
   "execution_count": null,
   "id": "941fb1ad-dab6-444d-a7b5-78e2d64be7c6",
   "metadata": {},
   "outputs": [],
   "source": [
    "m = folium.Map(location=[centre_lat, centre_long], zoom_start=6, tiles=None)\n",
    "\n",
    "folium.raster_layers.WmsTileLayer(\n",
    "    url=\"https://a.tiles.maps.eox.at\",\n",
    "    layers='terrain-light_3857',\n",
    "    name='terrain-light',\n",
    "    fmt='image/jpeg',\n",
    ").add_to(m)\n",
    "\n",
    "folium.raster_layers.WmsTileLayer(\n",
    "    url=wms_endpoint.partition(\"?\")[0],\n",
    "    layers='S2L2A__outlines',\n",
    "    name='Outlines',\n",
    "    fmt='image/png',\n",
    "    transparent=True,\n",
    "    overlay=True,\n",
    "    control=True,\n",
    "    time=\"2019-09-10T00:00:00Z/2019-09-11T00:00:00Z\",\n",
    ").add_to(m)\n",
    "\n",
    "\n",
    "folium.LayerControl().add_to(m)\n",
    "\n",
    "m"
   ]
  },
  {
   "cell_type": "markdown",
   "id": "13b0a179-e2d3-4833-92bd-072d4d6ba756",
   "metadata": {},
   "source": [
    "### Data Download"
   ]
  },
  {
   "cell_type": "markdown",
   "id": "8b195907-a07e-4400-a78d-291acacbff23",
   "metadata": {},
   "source": [
    "After discovering and visualizing the dataset, the user can identify the WCS link from the catalogue record and use the OWSLib WCS client to download the dataset"
   ]
  },
  {
   "cell_type": "code",
   "execution_count": null,
   "id": "70f48f6f-0ba6-4c62-aeea-c38dc99268c9",
   "metadata": {},
   "outputs": [],
   "source": [
    "tree = None\n",
    "for link in links:\n",
    "    scheme = link['scheme']\n",
    "    if scheme and 'WCS' in scheme:\n",
    "        print(link['url'])\n",
    "        wcs_endpoint=link['url'].split('?')[0]\n",
    "        wcs_id=link['url'].split('eoid=')[1]\n",
    "        tree = lxml.etree.fromstring(requests.get(link['url']).content)\n",
    "        break\n",
    "\n",
    "coverage_ids = tree.xpath('wcs:CoverageDescriptions/wcs:CoverageDescription/@gml:id', namespaces=tree.nsmap)\n",
    "coverage_ids"
   ]
  },
  {
   "cell_type": "code",
   "execution_count": null,
   "id": "9ff7e085",
   "metadata": {},
   "outputs": [],
   "source": [
    "getcoverage_request = wcs_endpoint + '?service=WCS&version=2.0.1&request=GetCoverage&coverageid=' + coverage_ids[1] + '&scaleSize=x(100),y(100)&format=image/tiff'\n",
    "response = requests.get(getcoverage_request)\n",
    "response.raise_for_status()\n",
    "\n",
    "content = response.content\n",
    "img1 = plt.imshow(imread(BytesIO(content)),extent=[23.4,24.5,37.8,38.8],aspect='auto')\n",
    "plt.show()"
   ]
  },
  {
   "cell_type": "markdown",
   "id": "4708f193-9bf9-4287-a78d-64e5ca7b18bb",
   "metadata": {},
   "source": [
    "## Data Access v2"
   ]
  },
  {
   "cell_type": "code",
   "execution_count": null,
   "id": "e72dcf8a-7ed9-44d6-9cc4-00244058e653",
   "metadata": {},
   "outputs": [],
   "source": [
    "base_domain = \"develop.eoepca.org\""
   ]
  },
  {
   "cell_type": "markdown",
   "id": "213343e6-9525-48fb-b703-6532ca9a9466",
   "metadata": {},
   "source": [
    "## Data Discovery (STAC)"
   ]
  },
  {
   "cell_type": "code",
   "execution_count": null,
   "id": "39d2ba4c-5faa-4bcc-8f73-6e5eef70e257",
   "metadata": {},
   "outputs": [],
   "source": [
    "import json\n",
    "import requests\n",
    "from folium import Map, TileLayer\n",
    "from pystac_client import Client"
   ]
  },
  {
   "cell_type": "markdown",
   "id": "d86c2516-20f7-4d8e-b8ca-641b836f71ed",
   "metadata": {},
   "source": [
    "#### Define a STAC query and validate its returns"
   ]
  },
  {
   "cell_type": "code",
   "execution_count": null,
   "id": "4c19cee1-5ac6-429d-9fb6-6d3a766f8ce2",
   "metadata": {},
   "outputs": [],
   "source": [
    "# See STAC API docs at https://eoapi.develop.eoepca.org/stac/api.html\n",
    "STAC_API_URL = f\"https://eoapi.{base_domain}/stac\"\n",
    "RASTER_API_URL = f\"https://eoapi.{base_domain}/raster\"\n",
    "COLLECTION_ID = \"sentinel-2-iceland\""
   ]
  },
  {
   "cell_type": "code",
   "execution_count": null,
   "id": "2e80b34f-3670-4013-8f6e-4c99e541e1bd",
   "metadata": {},
   "outputs": [],
   "source": [
    "STAC_API_URL"
   ]
  },
  {
   "cell_type": "code",
   "execution_count": null,
   "id": "66d0ed7f-fcf9-4841-b53b-f441742a91a2",
   "metadata": {},
   "outputs": [],
   "source": [
    "# Search against the STAC API\n",
    "catalog = Client.open(STAC_API_URL)\n",
    "catalog.id"
   ]
  },
  {
   "cell_type": "code",
   "execution_count": null,
   "id": "a9451260-f82a-449e-ab2e-97994d74ad09",
   "metadata": {},
   "outputs": [],
   "source": [
    "# Select a collection\n",
    "collections_filter = {\n",
    "    \"op\": \"=\",\n",
    "    \"args\": [{\"property\": \"collection\"}, COLLECTION_ID],\n",
    "}"
   ]
  },
  {
   "cell_type": "code",
   "execution_count": null,
   "id": "d8c41b06-10cf-41a4-b379-a4fc38f25ec2",
   "metadata": {},
   "outputs": [],
   "source": [
    "# Define your area of interest\n",
    "AOI = {\n",
    "  \"type\": \"Polygon\",\n",
    "  \"coordinates\": [\n",
    "    [\n",
    "      [-21.470015412404706, 63.55594801099713],\n",
    "      [-20.336567910645556, 63.55594801099713],\n",
    "      [-20.336567910645556, 64.17209253282897],\n",
    "      [-21.470015412404706, 64.17209253282897],\n",
    "      [-21.470015412404706, 63.55594801099713]\n",
    "    ]\n",
    "  ]\n",
    "}\n",
    "spatial_filter = {\"op\": \"s_intersects\", \"args\": [{\"property\": \"geometry\"}, AOI]}"
   ]
  },
  {
   "cell_type": "code",
   "execution_count": null,
   "id": "e80ea573-d659-48ee-8683-cd0df8412bee",
   "metadata": {},
   "outputs": [],
   "source": [
    "# Define your time interval of interest\n",
    "TIME_INTERVAL = [\"2023-07-01T00:00:00Z\", \"2023-07-31T23:59:59Z\"]\n",
    "temporal_filter = {\n",
    "    \"op\": \"t_intersects\",\n",
    "    \"args\": [{\"property\": \"datetime\"}, {\"interval\": TIME_INTERVAL}],\n",
    "}"
   ]
  },
  {
   "cell_type": "code",
   "execution_count": null,
   "id": "8aa8b79c-33a0-4414-89cc-b0bc068af5b3",
   "metadata": {},
   "outputs": [],
   "source": [
    "# Additional filters can be applied for other search criteria like <= maximum eo:cloud_cover in item properties\n",
    "cloud_filter = {\"op\": \"<=\", \"args\": [{\"property\": \"eo:cloud_cover\"}, 100]}"
   ]
  },
  {
   "cell_type": "code",
   "execution_count": null,
   "id": "84ac51db-ee6f-413a-bc64-99e900aa47a4",
   "metadata": {},
   "outputs": [],
   "source": [
    "# Define your search with CQL2 syntax\n",
    "SEARCH_BODY = {\n",
    "    \"filter-lang\": \"cql2-json\",\n",
    "    \"limit\": 20,\n",
    "    \"sortby\": [{\"direction\": \"desc\", \"field\": \"properties.datetime\"}],\n",
    "    \"context\": \"on\",  # add context for a summary of matched results\n",
    "    \"filter\": {\n",
    "        \"op\": \"and\",\n",
    "        \"args\": [collections_filter, spatial_filter, temporal_filter, cloud_filter],\n",
    "    },\n",
    "}"
   ]
  },
  {
   "cell_type": "code",
   "execution_count": null,
   "id": "e8710bf1-719b-406b-8002-71d30d003dbb",
   "metadata": {},
   "outputs": [],
   "source": [
    "# Note this search body can also be used for a stac item search\n",
    "\n",
    "response = requests.post(\n",
    "    f\"{STAC_API_URL}/search\",\n",
    "    json=SEARCH_BODY\n",
    ")\n",
    "response.raise_for_status()\n",
    "stac_items = response.json()\n",
    "\n",
    "# Check how many items were matched in search\n",
    "print(\"returned {numberReturned} out of {numberMatched} matching items\".format(**stac_items))"
   ]
  },
  {
   "cell_type": "markdown",
   "id": "693093df-c894-41af-9c0e-08b0f333f362",
   "metadata": {},
   "source": [
    "## Visualize a Single Item With Dynamic Tiles (XYZ)"
   ]
  },
  {
   "cell_type": "code",
   "execution_count": null,
   "id": "6314d543-d7c7-4a8a-bb53-6b6d587c6e47",
   "metadata": {},
   "outputs": [],
   "source": [
    "first_item = stac_items[\"features\"][0]"
   ]
  },
  {
   "cell_type": "code",
   "execution_count": null,
   "id": "3a8584f2-82f2-46d7-abf8-b93c60941a35",
   "metadata": {},
   "outputs": [],
   "source": [
    "first_item[\"id\"]"
   ]
  },
  {
   "cell_type": "code",
   "execution_count": null,
   "id": "ff717b0c-8d64-4e03-9981-71110f16ef4f",
   "metadata": {},
   "outputs": [],
   "source": [
    "collection_id = COLLECTION_ID\n",
    "item_id = first_item[\"id\"]\n",
    "response = requests.get(\n",
    "    f\"{RASTER_API_URL}/collections/{collection_id}/items/{item_id}/tilejson.json\",\n",
    "    params={\n",
    "        # Info to add to the tilejson response\n",
    "        \"minzoom\": 9,\n",
    "        \"maxzoom\": 12,\n",
    "        \"assets\": [\"red\", \"green\", \"blue\"],\n",
    "        \"color_formula\": \"Gamma RGB 5 Saturation 0.8 Sigmoidal RGB 20 0.35\",\n",
    "        \"nodata\": 0,\n",
    "    },\n",
    ")\n",
    "response.raise_for_status()\n",
    "tilejson = response.json()"
   ]
  },
  {
   "cell_type": "code",
   "execution_count": null,
   "id": "a9181f61-b597-42a5-aaab-3fe9027b6835",
   "metadata": {},
   "outputs": [],
   "source": [
    "tilejson"
   ]
  },
  {
   "cell_type": "code",
   "execution_count": null,
   "id": "4c319780-4544-492e-a169-c93abe5fec60",
   "metadata": {},
   "outputs": [],
   "source": [
    "map_center = tilejson[\"center\"][:2][::-1]"
   ]
  },
  {
   "cell_type": "code",
   "execution_count": null,
   "id": "1658b1e8-7671-465f-944c-b3a5af33650d",
   "metadata": {},
   "outputs": [],
   "source": [
    "# Set up a map located w/in event bounds\n",
    "m = Map(\n",
    "    tiles=\"OpenStreetMap\",\n",
    "    location=map_center,\n",
    "    zoom_start=tilejson[\"minzoom\"],\n",
    "    min_zoom=0,\n",
    "    max_zoom=20\n",
    ")\n",
    "\n",
    "# Add the formatted map layer\n",
    "map_layer = TileLayer(\n",
    "    tiles=tilejson[\"tiles\"][0],\n",
    "    attr=\"Contains modified Copernicus Sentinel-2 data\",\n",
    ")\n",
    "map_layer.add_to(m)\n",
    "m"
   ]
  },
  {
   "cell_type": "markdown",
   "id": "48802429-a5d9-4805-b8e4-544261bde1bb",
   "metadata": {},
   "source": [
    "### Visualize a Spatio-Temporal Mosaic With Dynamic Tiles (XYZ)"
   ]
  },
  {
   "cell_type": "code",
   "execution_count": null,
   "id": "e3e6e48c-fcf3-4e85-8e25-f0e569ffd6ec",
   "metadata": {},
   "outputs": [],
   "source": [
    "# Register a mosaic for your STAC query\n",
    "response = requests.post(\n",
    "    f\"{RASTER_API_URL}/searches/register\",\n",
    "    json=SEARCH_BODY,\n",
    ")\n",
    "response.raise_for_status()\n",
    "mosaic = response.json()\n",
    "print(json.dumps(mosaic, indent=2))"
   ]
  },
  {
   "cell_type": "code",
   "execution_count": null,
   "id": "e74d3244-dd67-4567-a04f-9dfbad5527ac",
   "metadata": {},
   "outputs": [],
   "source": [
    "# Get base url for tiler from the register mosaic request\n",
    "tiles_href = next(\n",
    "    link[\"href\"] for link in mosaic[\"links\"] if link[\"rel\"] == \"tilejson\"\n",
    ")\n",
    "# Set the tileMatrixSetId\n",
    "tiles_href = tiles_href.format(**{\"tileMatrixSetId\": \"WebMercatorQuad\"})"
   ]
  },
  {
   "cell_type": "code",
   "execution_count": null,
   "id": "6d51835c-d9f7-4ec1-892c-204e6e800ac2",
   "metadata": {},
   "outputs": [],
   "source": [
    "response = requests.get(\n",
    "    tiles_href,\n",
    "    params={\n",
    "        # Info to add to the tilejson response\n",
    "        \"minzoom\": 9,\n",
    "        \"maxzoom\": 12,\n",
    "        \"assets\": [\"red\", \"green\", \"blue\"],\n",
    "        \"color_formula\": \"Gamma RGB 5 Saturation 0.8 Sigmoidal RGB 20 0.35\",\n",
    "        \"nodata\": 0,\n",
    "    },\n",
    ")\n",
    "response.raise_for_status()\n",
    "tilejson = response.json()"
   ]
  },
  {
   "cell_type": "code",
   "execution_count": null,
   "id": "a8eee117-4a78-46ee-83c2-75f942866dba",
   "metadata": {},
   "outputs": [],
   "source": [
    "tilejson"
   ]
  },
  {
   "cell_type": "code",
   "execution_count": null,
   "id": "ef05280c-ac24-4b27-a92e-84e8e80a83e3",
   "metadata": {},
   "outputs": [],
   "source": [
    "# Set up a map located w/in event bounds\n",
    "m = Map(\n",
    "    tiles=\"OpenStreetMap\",\n",
    "    location=map_center,\n",
    "    zoom_start=tilejson[\"minzoom\"],\n",
    "    min_zoom=0,\n",
    "    max_zoom=20\n",
    ")\n",
    "\n",
    "# Add the formatted map layer\n",
    "map_layer = TileLayer(\n",
    "    tiles=tilejson[\"tiles\"][0],\n",
    "    attr=\"Contains modified Copernicus Sentinel-2 data\",\n",
    ")\n",
    "map_layer.add_to(m)\n",
    "m"
   ]
  },
  {
   "cell_type": "markdown",
   "id": "8d482f2d-f6d8-4717-84f0-3b5536f02620",
   "metadata": {},
   "source": [
    "## Access a multidimensional dataset (NetCDF, Zarr)"
   ]
  },
  {
   "cell_type": "code",
   "execution_count": null,
   "id": "c30ed1f1-b66f-4105-96ca-03c2cb7b3a71",
   "metadata": {},
   "outputs": [],
   "source": [
    "import json\n",
    "\n",
    "import requests\n",
    "from folium import Map, TileLayer"
   ]
  },
  {
   "cell_type": "code",
   "execution_count": null,
   "id": "b7c0ddf6-2eb3-47d5-a572-2f6a4c115718",
   "metadata": {},
   "outputs": [],
   "source": [
    "base_domain = \"develop.eoepca.org\""
   ]
  },
  {
   "cell_type": "code",
   "execution_count": null,
   "id": "444b8fe5-af5f-42c5-a640-260645fe5aa0",
   "metadata": {},
   "outputs": [],
   "source": [
    "MULTIDIM_API_URL = f\"https://eoapi.{base_domain}/multidim/md\"\n",
    "CEDA_EOCIS_NETCDF = \"https://dap.ceda.ac.uk/neodc/eocis/data/global_and_regional/sea_surface_temperature/CDR_v3/Analysis/L4/v3.0.1/2024/06/22/20240622120000-ESACCI-L4_GHRSST-SSTdepth-OSTIA-GLOB_ICDR3.0-v02.0-fv01.0.nc\""
   ]
  },
  {
   "cell_type": "code",
   "execution_count": null,
   "id": "91255dd2-2907-4ec9-b389-8b503674b708",
   "metadata": {},
   "outputs": [],
   "source": [
    "response = requests.get(f\"{MULTIDIM_API_URL}/variables\", params={\"url\": CEDA_EOCIS_NETCDF})\n",
    "response.raise_for_status()\n",
    "print(response.json())"
   ]
  },
  {
   "cell_type": "code",
   "execution_count": null,
   "id": "2fc9e681-6c44-48f6-a2e0-e33aa7e1c769",
   "metadata": {},
   "outputs": [],
   "source": [
    "CEDA_EOCIS_VARIABLE = \"sea_ice_fraction\"\n",
    "assert CEDA_EOCIS_VARIABLE in response.json()"
   ]
  },
  {
   "cell_type": "code",
   "execution_count": null,
   "id": "9e5af9f0-c54d-437f-a569-40e6d7c1eb08",
   "metadata": {},
   "outputs": [],
   "source": [
    "response = requests.get(\n",
    "    f\"{MULTIDIM_API_URL}/info\",\n",
    "    params={\n",
    "        \"url\": CEDA_EOCIS_NETCDF,\n",
    "        \"variable\": CEDA_EOCIS_VARIABLE,\n",
    "        \"decode_times\": True,\n",
    "        \"show_times\": True,\n",
    "    }\n",
    ")\n",
    "response.raise_for_status()\n",
    "print(json.dumps(response.json(), indent=4))"
   ]
  },
  {
   "cell_type": "code",
   "execution_count": null,
   "id": "82e972a9-e3c0-41d9-92cf-13bfd66d2251",
   "metadata": {},
   "outputs": [],
   "source": [
    "tilejson = requests.get(\n",
    "    f\"{MULTIDIM_API_URL}/WebMercatorQuad/tilejson.json\",\n",
    "    params = {\n",
    "        \"url\": CEDA_EOCIS_NETCDF,\n",
    "        \"variable\": CEDA_EOCIS_VARIABLE,\n",
    "        \"rescale\": \"0,1\",\n",
    "        \"colormap_name\": \"blues_r\",\n",
    "    }\n",
    ").json()\n",
    "print(tilejson)\n",
    "\n",
    "bounds = tilejson[\"bounds\"]\n",
    "\n",
    "# The dataset is quite big so we MUST restrict to the higher zoom level (NetCDF do not have overviews)\n",
    "maxzoom = tilejson[\"maxzoom\"]\n",
    "\n",
    "m = Map(\n",
    "    location=((bounds[1] + bounds[3]) / 2,(bounds[0] + bounds[2]) / 2),\n",
    "    zoom_start=maxzoom\n",
    ")\n",
    "\n",
    "TileLayer(\n",
    "    tiles=tilejson[\"tiles\"][0],\n",
    "    opacity=1,\n",
    "    attr=\"EOCIS\",\n",
    "    min_native_zoom=maxzoom,\n",
    "    max_native_zoom=maxzoom,\n",
    ").add_to(m)\n",
    "\n",
    "m"
   ]
  },
  {
   "cell_type": "markdown",
   "id": "e5f75df3-85c3-4b14-b7e4-421ac40e4f0a",
   "metadata": {},
   "source": [
    "## (WIP) Protected STAC API Transaction Extension methods (POST to /collections etc.) require authorization\n",
    "\n",
    "WIP, see https://github.com/EOEPCA/resource-discovery/issues/106"
   ]
  },
  {
   "cell_type": "code",
   "execution_count": null,
   "id": "06fd6c25-bcd3-4bc2-a99c-55508471549e",
   "metadata": {},
   "outputs": [],
   "source": [
    "base_domain = \"apx.develop.eoepca.org\"\n",
    "\n",
    "PROTECTED_STAC_API_URL = f\"https://eoapi.{base_domain}/stac\""
   ]
  },
  {
   "cell_type": "code",
   "execution_count": null,
   "id": "72f119a4-8df8-458f-8846-d4ea58f5bfcf",
   "metadata": {},
   "outputs": [],
   "source": [
    "import requests"
   ]
  },
  {
   "cell_type": "code",
   "execution_count": null,
   "id": "9d4981b2-52c1-4696-9931-de5392b18ef1",
   "metadata": {},
   "outputs": [],
   "source": [
    "response = requests.get(f\"{PROTECTED_STAC_API_URL}/collections\")\n",
    "response.raise_for_status()\n",
    "assert \"collections\" in response.json()"
   ]
  },
  {
   "cell_type": "code",
   "execution_count": null,
   "id": "00855a05-0a32-412b-86d8-9f0424b4ce9e",
   "metadata": {},
   "outputs": [],
   "source": [
    "response = requests.post(f\"{PROTECTED_STAC_API_URL}/collections\")\n",
    "assert response.status_code == 401  # 401 Unauthorized"
   ]
  },
  {
   "cell_type": "markdown",
   "id": "f7679972",
   "metadata": {},
   "source": [
    "## Data Visualization with Maps (OGC API Maps)"
   ]
  },
  {
   "cell_type": "code",
   "execution_count": null,
   "id": "6e21d188",
   "metadata": {},
   "outputs": [],
   "source": [
    "collection = \"sentinel-2-l2a-render\"\n",
    "response = requests.get(f\"{PROTECTED_STAC_API_URL}/collections/{collection}\")\n",
    "response.json()[\"renders\"]"
   ]
  },
  {
   "cell_type": "code",
   "execution_count": null,
   "id": "e9fb2e7d",
   "metadata": {},
   "outputs": [],
   "source": [
    "MAPS_API_URL = f\"https://maps.develop.eoepca.org\"\n",
    "from PIL import Image\n",
    "from IPython.display import display\n",
    "import io\n",
    "params = {\n",
    "    \"bbox\": \"-22,64,-21.7,64.3\",\n",
    "    \"datetime\": \"2023-10-31T00:00:00Z/2023-10-31T23:59:59Z\",\n",
    "    \"width\": 256,\n",
    "    \"height\": 256,\n",
    "}\n",
    "response = requests.get(f\"{MAPS_API_URL}/collections/{collection}/map\", params=params)\n",
    "response.raise_for_status()\n",
    "img = Image.open(io.BytesIO(response.content))\n",
    "display(img)"
   ]
  },
  {
   "cell_type": "code",
   "execution_count": null,
   "id": "c267aafc",
   "metadata": {},
   "outputs": [],
   "source": [
    "collection = \"sentinel-2-l2a-render\"\n",
    "style = \"ndvi\"\n",
    "params = {\n",
    "    \"bbox\": \"-22,64,-21.7,64.3\",\n",
    "    \"datetime\": \"2023-10-31T00:00:00Z/2023-10-31T23:59:59Z\",\n",
    "    \"width\": 256,\n",
    "    \"height\": 256,\n",
    "}\n",
    "response = requests.get(f\"{MAPS_API_URL}/collections/{collection}/styles/{style}/map\", params=params)\n",
    "response.raise_for_status()\n",
    "img = Image.open(io.BytesIO(response.content))\n",
    "display(img)"
   ]
  },
  {
   "cell_type": "code",
   "execution_count": null,
   "id": "2da468ad",
   "metadata": {},
   "outputs": [],
   "source": [
    "MAPS_API_URL = f\"https://maps.{base_domain}\"\n",
    "from PIL import Image\n",
    "from IPython.display import display\n",
    "params = {\n",
    "    \"bbox\": \"-24.36,63.49,-21.28,65.69\",\n",
    "    \"datetime\": \"2023-10-31T00:00:00Z/2023-11-08T23:59:59Z\",\n",
    "    \"width\": 256,\n",
    "    \"height\": 256,\n",
    "}\n",
    "response = requests.get(f\"{MAPS_API_URL}/collections/{collection}/map\", params=params)\n",
    "response.raise_for_status()\n",
    "img = Image.open(BytesIO(response.content))\n",
    "display(img)"
   ]
  },
  {
   "cell_type": "markdown",
   "id": "22a1e00e",
   "metadata": {},
   "source": [
    "## Managing private and public STAC collections"
   ]
  },
  {
   "cell_type": "code",
   "execution_count": 1,
   "id": "51968f3a-7353-467d-b669-a97af27a23df",
   "metadata": {},
   "outputs": [
    {
     "name": "stdout",
     "output_type": "stream",
     "text": [
      "https://iam-auth.apx.develop.eoepca.org/realms/eoepca/protocol/openid-connect/token\n"
     ]
    }
   ],
   "source": [
    "import requests\n",
    "\n",
    "realm = \"eoepca\"\n",
    "base_domain = \"apx.develop.eoepca.org\"\n",
    "keycloak_endpoint = f\"https://iam-auth.{base_domain}\"\n",
    "stac_endpoint = f\"https://eoapi.{base_domain}/stac\"\n",
    "token_endpoint = f\"{keycloak_endpoint}/realms/{realm}/protocol/openid-connect/token\"\n",
    "print(token_endpoint)"
   ]
  },
  {
   "cell_type": "code",
   "execution_count": 2,
   "id": "c5d9a3a0-9a03-4ad9-a8fa-50c51713bc91",
   "metadata": {},
   "outputs": [
    {
     "name": "stdout",
     "output_type": "stream",
     "text": [
      "landsat-8-l1\n",
      "noaa-emergency-response\n",
      "s5p-bp-cloud-fraction-2023-aug-dec\n",
      "s5p-cloud-fraction-2023-aug-dec\n",
      "sentinel-2-iceland\n",
      "sentinel-2-l2a-render\n",
      "ws-eric.naip\n",
      "ws-eric.test\n"
     ]
    }
   ],
   "source": [
    "for collection in requests.get(f\"{stac_endpoint}/collections\").json()['collections']:\n",
    "    print(collection['id'])"
   ]
  },
  {
   "cell_type": "markdown",
   "id": "db7ae636-019a-4378-866e-e48d417b5dea",
   "metadata": {},
   "source": [
    "### 1) Access"
   ]
  },
  {
   "cell_type": "code",
   "execution_count": 3,
   "id": "9db5467b-64f5-45fc-abc7-544a8d4af489",
   "metadata": {},
   "outputs": [
    {
     "name": "stdout",
     "output_type": "stream",
     "text": [
      "\n",
      "Testing STAC GET endpoints on https://eoapi.apx.develop.eoepca.org/stac\n",
      "\n",
      "PUBLIC     | GET /                                        -> 200 PASS\n",
      "PUBLIC     | GET /api                                     -> 200 PASS\n",
      "PUBLIC     | GET /collections                             -> 200 PASS\n",
      "PUBLIC     | GET /collections/noaa-emergency-response     -> 200 PASS\n",
      "PUBLIC     | GET /collections/noaa-emergency-response/items -> 200 PASS\n",
      "PUBLIC     | GET /collections/landsat-8-l1                -> 200 PASS\n",
      "PUBLIC     | GET /collections/landsat-8-l1/items          -> 200 PASS\n",
      "PRIVATE    | GET /collections/ws-eric.naip                -> 302 PASS\n",
      "PRIVATE    | GET /collections/ws-eric.naip/items          -> 302 PASS\n",
      "NOT_FOUND  | GET /collections/does-not-exist              -> 404 PASS\n",
      "NOT_FOUND  | GET /collections/does-not-exist/items        -> 404 PASS\n"
     ]
    }
   ],
   "source": [
    "COLLECTIONS = [\n",
    "    (\"noaa-emergency-response\", \"public\"),\n",
    "    (\"landsat-8-l1\", \"public\"),\n",
    "    (\"ws-eric.naip\", \"private\"),\n",
    "    (\"does-not-exist\", \"not_found\"),\n",
    "]\n",
    "\n",
    "ENDPOINTS = [\n",
    "    \"/\",\n",
    "    \"/api\",\n",
    "    \"/collections\",\n",
    "]\n",
    "\n",
    "for col_id, visibility in COLLECTIONS:\n",
    "    ENDPOINTS += [\n",
    "        f\"/collections/{col_id}\",\n",
    "        f\"/collections/{col_id}/items\",\n",
    "    ]\n",
    "\n",
    "headers = {\n",
    "    \"Accept\": \"application/json\"\n",
    "}\n",
    "\n",
    "def classify_expected(endpoint: str):\n",
    "    if \"does-not-exist\" in endpoint:\n",
    "        return \"not_found\"\n",
    "    elif \"/collections/\" in endpoint:\n",
    "        parts = endpoint.split(\"/collections/\")\n",
    "        if len(parts) > 1:\n",
    "            name = parts[1].split(\"/\")[0]\n",
    "            return \"private\" if \".\" in name else \"public\"\n",
    "    return \"public\"\n",
    "\n",
    "print(f\"\\nTesting STAC GET endpoints on {stac_endpoint}\\n\")\n",
    "\n",
    "for path in ENDPOINTS:\n",
    "    url = stac_endpoint + path\n",
    "    expected = classify_expected(path)\n",
    "\n",
    "    try:\n",
    "        response = requests.get(url, headers=headers, timeout=5, allow_redirects=False)\n",
    "        status = response.status_code\n",
    "\n",
    "        if expected == \"not_found\":\n",
    "            expected_code = 404\n",
    "        elif expected == \"private\":\n",
    "            expected_code = 302 # redirect to login\n",
    "        else:\n",
    "            expected_code = 200\n",
    "\n",
    "        if status == expected_code:\n",
    "            verdict = \"PASS\"\n",
    "        else:\n",
    "            verdict = f\"FAIL ({status})\"\n",
    "\n",
    "        print(f\"{expected.upper():10} | GET {path:<40} -> {status} {verdict}\")\n",
    "\n",
    "    except Exception as e:\n",
    "        print(f\"{expected.upper():10} | GET {path:<40} -> ERROR: {e}\")\n"
   ]
  },
  {
   "cell_type": "code",
   "execution_count": 4,
   "id": "05f1e72a",
   "metadata": {},
   "outputs": [],
   "source": [
    "def iam_token(username, password):\n",
    "    headers = {\n",
    "        \"Cache-Control\": \"no-cache\",\n",
    "        \"Content-Type\": \"application/x-www-form-urlencoded\"\n",
    "    }\n",
    "    data = {\n",
    "        \"scope\": \"roles\",\n",
    "        \"grant_type\": \"password\",\n",
    "        \"username\": username,\n",
    "        \"password\": password,\n",
    "        \"client_id\": \"demo\",\n",
    "        \"client_secret\": \"demo\"\n",
    "    }\n",
    "    response = requests.post(token_endpoint, headers=headers, data=data)\n",
    "    if response.ok:\n",
    "        return response.json()[\"access_token\"]\n",
    "    else:\n",
    "        print(response)\n",
    "        return None"
   ]
  },
  {
   "cell_type": "code",
   "execution_count": 5,
   "id": "d14a3956-d728-4985-93ff-55acab9a8f9f",
   "metadata": {},
   "outputs": [
    {
     "name": "stdout",
     "output_type": "stream",
     "text": [
      "PASS\n"
     ]
    }
   ],
   "source": [
    "token_eric = iam_token(\"eric\", \"changeme\")\n",
    "response = requests.get(\n",
    "    stac_endpoint + \"/collections/ws-eric.naip\",\n",
    "    headers={\"Authorization\": f\"Bearer {token_eric}\"},\n",
    "    timeout=5,\n",
    "    allow_redirects=False\n",
    ")\n",
    "status = response.status_code\n",
    "print(\"PASS\" if status == 200 else f\"FAIL ({status})\")"
   ]
  },
  {
   "cell_type": "code",
   "execution_count": 6,
   "id": "9cdf1950-30e9-416f-902e-261f58f7d51e",
   "metadata": {},
   "outputs": [
    {
     "name": "stdout",
     "output_type": "stream",
     "text": [
      "PASS\n"
     ]
    }
   ],
   "source": [
    "token_alice = iam_token(\"alice\", \"changeme\")\n",
    "response = requests.get(\n",
    "    stac_endpoint + \"/collections/ws-eric.naip\",\n",
    "    headers={\"Authorization\": f\"Bearer {token_alice}\"},\n",
    "    timeout=5,\n",
    "    allow_redirects=False\n",
    ")\n",
    "status = response.status_code\n",
    "print(\"PASS\" if status == 403 else f\"FAIL ({status})\")"
   ]
  },
  {
   "cell_type": "markdown",
   "id": "e5db6040-bd02-4016-aa15-a37788c8c96e",
   "metadata": {},
   "source": [
    "### 2) Management"
   ]
  },
  {
   "cell_type": "code",
   "execution_count": 7,
   "id": "13f3529a",
   "metadata": {},
   "outputs": [],
   "source": [
    "test_collection = {\n",
    "    \"id\": \"test\",\n",
    "    \"description\": \"Test\",\n",
    "    \"title\": \"Test Collection\",\n",
    "    \"links\": [\n",
    "        {\n",
    "            \"rel\": \"self\",\n",
    "            \"href\": f\"{stac_endpoint}/collections/test\",\n",
    "            \"type\": \"application/json\"\n",
    "        },\n",
    "        {\n",
    "            \"rel\": \"parent\",\n",
    "            \"href\": f\"{stac_endpoint}/collections\",\n",
    "            \"type\": \"application/json\"\n",
    "        }\n",
    "    ],\n",
    "    \"extent\": {\n",
    "        \"spatial\": {\n",
    "            \"bbox\": [[-180.0, -90.0, 180.0, 90.0]]\n",
    "        },\n",
    "        \"temporal\": {\n",
    "            \"interval\": [[\"2020-01-01T00:00:00Z\", None]]\n",
    "        }\n",
    "    },\n",
    "    \"type\": \"Collection\",\n",
    "    \"stac_version\": \"1.0.0\",\n",
    "    \"license\": \"MIT\"\n",
    "}"
   ]
  },
  {
   "cell_type": "code",
   "execution_count": 8,
   "id": "bc04e405-a7df-4308-b63d-58a0fb00e456",
   "metadata": {},
   "outputs": [],
   "source": [
    "token_admin = iam_token(\"example-admin\", \"changeme\")"
   ]
  },
  {
   "cell_type": "code",
   "execution_count": 9,
   "id": "78dc476e-e793-4256-86ab-f4e9917fcc76",
   "metadata": {},
   "outputs": [
    {
     "name": "stdout",
     "output_type": "stream",
     "text": [
      "PASS\n"
     ]
    }
   ],
   "source": [
    "# eric can't create public collections\n",
    "response = requests.post(f\"{stac_endpoint}/collections\", \n",
    "    json=test_collection, \n",
    "    headers={\"Authorization\": f\"Bearer {token_eric}\"})\n",
    "status = response.status_code\n",
    "print(\"PASS\" if status == 403 else f\"FAIL ({status})\")"
   ]
  },
  {
   "cell_type": "code",
   "execution_count": 10,
   "id": "9e39e7f4-3396-4889-bb78-60ca605ae29f",
   "metadata": {},
   "outputs": [
    {
     "name": "stdout",
     "output_type": "stream",
     "text": [
      "PASS\n"
     ]
    }
   ],
   "source": [
    "# admin create public collections (given his Keycloak stac_editor role)\n",
    "response = requests.post(f\"{stac_endpoint}/collections\", \n",
    "    json=test_collection, \n",
    "    headers={\"Authorization\": f\"Bearer {token_admin}\"})\n",
    "status = response.status_code\n",
    "print(\"PASS\" if status == 201 else f\"FAIL ({status})\")"
   ]
  },
  {
   "cell_type": "code",
   "execution_count": 11,
   "id": "6dd748ca-5223-4dfb-937a-ec0ef0a735cd",
   "metadata": {},
   "outputs": [
    {
     "name": "stdout",
     "output_type": "stream",
     "text": [
      "PASS\n"
     ]
    }
   ],
   "source": [
    "# eric can access public collections\n",
    "response = requests.get(\n",
    "    stac_endpoint + \"/collections/test\",\n",
    "    headers={\"Authorization\": f\"Bearer {token_eric}\"},\n",
    "    timeout=5,\n",
    "    allow_redirects=False\n",
    ")\n",
    "status = response.status_code\n",
    "print(\"PASS\" if status == 200 else f\"FAIL ({status})\")"
   ]
  },
  {
   "cell_type": "code",
   "execution_count": 12,
   "id": "065cfc54-2a5c-4243-a985-3a309fdd7ac2",
   "metadata": {},
   "outputs": [
    {
     "name": "stdout",
     "output_type": "stream",
     "text": [
      "PASS\n"
     ]
    }
   ],
   "source": [
    "# anyone (no auth!) can access public collections\n",
    "response = requests.get(\n",
    "    stac_endpoint + \"/collections/test\",\n",
    "    headers={},\n",
    "    timeout=5,\n",
    "    allow_redirects=False\n",
    ")\n",
    "status = response.status_code\n",
    "print(\"PASS\" if status == 200 else f\"FAIL ({status})\")"
   ]
  },
  {
   "cell_type": "code",
   "execution_count": 13,
   "id": "5294d231-210c-4f38-81b1-b8711dcf1e38",
   "metadata": {},
   "outputs": [
    {
     "name": "stdout",
     "output_type": "stream",
     "text": [
      "(200) Collection test deleted successfully.\n"
     ]
    }
   ],
   "source": [
    "# cleanup\n",
    "collections_to_delete = [\"test\"]\n",
    "for collection in collections_to_delete:\n",
    "    response = requests.delete(f\"{stac_endpoint}/collections/{collection}\", headers={\"Authorization\": f\"Bearer {token_admin}\"})\n",
    "    if response.status_code > 204:\n",
    "        print(f\"Error deleting collection {collection}: {response.status_code} - {response.text}\")\n",
    "        continue\n",
    "    else:\n",
    "        print(f\"({response.status_code}) Collection {collection} deleted successfully.\")"
   ]
  },
  {
   "cell_type": "code",
   "execution_count": 14,
   "id": "d5f24d8b-6306-4c2a-bf1d-9bd6be735920",
   "metadata": {},
   "outputs": [
    {
     "name": "stdout",
     "output_type": "stream",
     "text": [
      "PASS\n",
      "first item:ne_m_4110264_sw_13_060_20220827\n",
      "PASS\n"
     ]
    }
   ],
   "source": [
    "# but only eric can access his private collection\n",
    "response = requests.get(\n",
    "    stac_endpoint + \"/collections/ws-eric.naip\",\n",
    "    headers={\"Authorization\": f\"Bearer {token_eric}\"},\n",
    "    timeout=5,\n",
    "    allow_redirects=False\n",
    ")\n",
    "status = response.status_code\n",
    "print(\"PASS\" if status == 200 else f\"FAIL ({status})\")\n",
    "\n",
    "response = requests.get(\n",
    "    stac_endpoint + \"/collections/ws-eric.naip/items\",\n",
    "    headers={\"Authorization\": f\"Bearer {token_eric}\"},\n",
    "    timeout=5,\n",
    "    allow_redirects=False\n",
    ")\n",
    "print(\"first item:\" + response.json()[\"features\"][0][\"id\"])\n",
    "status = response.status_code\n",
    "print(\"PASS\" if status == 200 else f\"FAIL ({status})\")"
   ]
  },
  {
   "cell_type": "code",
   "execution_count": 15,
   "id": "a02ded8b-e9f1-4a59-ac52-83661e544fa3",
   "metadata": {},
   "outputs": [
    {
     "name": "stdout",
     "output_type": "stream",
     "text": [
      "PASS\n"
     ]
    }
   ],
   "source": [
    "# anyone (no auth!) is denied access to private collections and redirected to login\n",
    "response = requests.get(\n",
    "    stac_endpoint + \"/collections/ws-eric.naip\",\n",
    "    headers={},\n",
    "    timeout=5,\n",
    "    allow_redirects=False\n",
    ")\n",
    "status = response.status_code\n",
    "print(\"PASS\" if status == 302 else f\"FAIL ({status})\")"
   ]
  },
  {
   "cell_type": "code",
   "execution_count": 16,
   "id": "225e07c5",
   "metadata": {},
   "outputs": [],
   "source": [
    "private_collection = {\n",
    "    \"id\": \"ws-eric.test\",\n",
    "    \"description\": \"Private test collection for Eric's workspace\",\n",
    "    \"title\": \"Eric's Test Collection\",\n",
    "    \"links\": [\n",
    "        {\n",
    "            \"rel\": \"self\",\n",
    "            \"href\": f\"{stac_endpoint}/collections/ws-eric.test\",\n",
    "            \"type\": \"application/json\"\n",
    "        },\n",
    "        {\n",
    "            \"rel\": \"parent\",\n",
    "            \"href\": f\"{stac_endpoint}/collections\",\n",
    "            \"type\": \"application/json\"\n",
    "        }\n",
    "    ],\n",
    "    \"extent\": {\n",
    "        \"spatial\": {\n",
    "            \"bbox\": [[-180.0, -90.0, 180.0, 90.0]]\n",
    "        },\n",
    "        \"temporal\": {\n",
    "            \"interval\": [[\"2020-01-01T00:00:00Z\", None]]\n",
    "        }\n",
    "    },\n",
    "    \"type\": \"Collection\",\n",
    "    \"stac_version\": \"1.0.0\",\n",
    "    \"license\": \"MIT\"\n",
    "}"
   ]
  },
  {
   "cell_type": "code",
   "execution_count": 17,
   "id": "432a745e-4f2e-4186-9461-fdf14065afb3",
   "metadata": {},
   "outputs": [
    {
     "name": "stdout",
     "output_type": "stream",
     "text": [
      "PASS\n"
     ]
    }
   ],
   "source": [
    "# eric can't create private collections (even with ws_eric. prefix)\n",
    "response = requests.post(f\"{stac_endpoint}/collections\", \n",
    "    json=private_collection, \n",
    "    headers={\"Authorization\": f\"Bearer {token_eric}\"})\n",
    "status = response.status_code\n",
    "print(\"PASS\" if status == 403 else f\"FAIL ({status})\")"
   ]
  },
  {
   "cell_type": "code",
   "execution_count": 20,
   "id": "d9c344f7-c835-4803-8d50-b761db0fd45d",
   "metadata": {},
   "outputs": [
    {
     "name": "stdout",
     "output_type": "stream",
     "text": [
      "PASS\n"
     ]
    }
   ],
   "source": [
    "# only admin with role stac_editor can create private collections (i.e. with ws_eric. prefix)\n",
    "response = requests.post(f\"{stac_endpoint}/collections\", \n",
    "    json=private_collection, \n",
    "    headers={\"Authorization\": f\"Bearer {token_admin}\"})\n",
    "status = response.status_code\n",
    "print(\"PASS\" if status == 201 else f\"FAIL ({status})\")"
   ]
  },
  {
   "cell_type": "code",
   "execution_count": 21,
   "id": "40f49f16-0cbf-4b63-98e0-788eaa1e757a",
   "metadata": {},
   "outputs": [
    {
     "name": "stdout",
     "output_type": "stream",
     "text": [
      "PASS\n",
      "PASS\n"
     ]
    }
   ],
   "source": [
    "# but only eric can access, others are prompted to login for erics collections\n",
    "response = requests.get(\n",
    "    stac_endpoint + \"/collections/ws-eric.test\",\n",
    "    headers={\"Authorization\": f\"Bearer {token_eric}\"},\n",
    "    timeout=5,\n",
    "    allow_redirects=False\n",
    ")\n",
    "status = response.status_code\n",
    "print(\"PASS\" if status == 200 else f\"FAIL ({status})\")\n",
    "\n",
    "response = requests.get(\n",
    "    stac_endpoint + \"/collections/ws-eric.test\",\n",
    "    headers={},\n",
    "    timeout=5,\n",
    "    allow_redirects=False\n",
    ")\n",
    "status = response.status_code\n",
    "print(\"PASS\" if status == 302 else f\"FAIL ({status})\")"
   ]
  },
  {
   "cell_type": "markdown",
   "id": "5615693c-ac07-4fbb-b40d-15a1c55f596b",
   "metadata": {},
   "source": [
    "### 3) curate STAC items"
   ]
  },
  {
   "cell_type": "code",
   "execution_count": 22,
   "id": "ce857695-d9c1-4594-8cd2-8fabd05d289d",
   "metadata": {},
   "outputs": [],
   "source": [
    "# only eric (and others of ws-eric team) can curate private collections (i.e. with ws-eric. prefix)"
   ]
  },
  {
   "cell_type": "code",
   "execution_count": 23,
   "id": "e61ac69f-f08c-46a6-b28c-08294db18267",
   "metadata": {},
   "outputs": [],
   "source": [
    "from shapely import wkb\n",
    "import numpy as np\n",
    "import pandas as pd\n",
    "import stac_geoparquet"
   ]
  },
  {
   "cell_type": "code",
   "execution_count": 24,
   "id": "c7bb6559",
   "metadata": {},
   "outputs": [
    {
     "data": {
      "text/html": [
       "<div>\n",
       "<style scoped>\n",
       "    .dataframe tbody tr th:only-of-type {\n",
       "        vertical-align: middle;\n",
       "    }\n",
       "\n",
       "    .dataframe tbody tr th {\n",
       "        vertical-align: top;\n",
       "    }\n",
       "\n",
       "    .dataframe thead th {\n",
       "        text-align: right;\n",
       "    }\n",
       "</style>\n",
       "<table border=\"1\" class=\"dataframe\">\n",
       "  <thead>\n",
       "    <tr style=\"text-align: right;\">\n",
       "      <th></th>\n",
       "      <th>stac_version</th>\n",
       "      <th>stac_extensions</th>\n",
       "      <th>id</th>\n",
       "      <th>providers</th>\n",
       "      <th>proj:epsg</th>\n",
       "      <th>links</th>\n",
       "      <th>assets</th>\n",
       "      <th>collection</th>\n",
       "      <th>datetime</th>\n",
       "      <th>proj:shape</th>\n",
       "      <th>naip:state</th>\n",
       "      <th>proj:transform</th>\n",
       "      <th>proj:centroid</th>\n",
       "      <th>gsd</th>\n",
       "      <th>naip:year</th>\n",
       "      <th>proj:bbox</th>\n",
       "      <th>bbox</th>\n",
       "      <th>geometry</th>\n",
       "    </tr>\n",
       "  </thead>\n",
       "  <tbody>\n",
       "    <tr>\n",
       "      <th>0</th>\n",
       "      <td>1.1.0</td>\n",
       "      <td>[https://stac-extensions.github.io/eo/v1.0.0/s...</td>\n",
       "      <td>ne_m_4110264_sw_13_060_20220827</td>\n",
       "      <td>[{'name': 'USDA Farm Service Agency', 'roles':...</td>\n",
       "      <td>26913</td>\n",
       "      <td>[{'href': 'https://planetarycomputer.microsoft...</td>\n",
       "      <td>{'image': {'eo:bands': [{'common_name': 'red',...</td>\n",
       "      <td>naip</td>\n",
       "      <td>2022-08-27 16:00:00+00:00</td>\n",
       "      <td>[12953, 10217]</td>\n",
       "      <td>ne</td>\n",
       "      <td>[0.6, 0.0, 741276.0, 0.0, -0.6, 4550210.4, 0.0...</td>\n",
       "      <td>{'lat': 41.0315, 'lon': -102.09348}</td>\n",
       "      <td>0.6</td>\n",
       "      <td>2022</td>\n",
       "      <td>[741276.0, 4542438.600000001, 747406.2, 455021...</td>\n",
       "      <td>{'xmax': -102.055505, 'xmin': -102.131414, 'ym...</td>\n",
       "      <td>b'\\x01\\x03\\x00\\x00\\x00\\x01\\x00\\x00\\x00\\x05\\x00...</td>\n",
       "    </tr>\n",
       "    <tr>\n",
       "      <th>1</th>\n",
       "      <td>1.1.0</td>\n",
       "      <td>[https://stac-extensions.github.io/eo/v1.0.0/s...</td>\n",
       "      <td>ne_m_4110263_sw_13_060_20220820</td>\n",
       "      <td>[{'name': 'USDA Farm Service Agency', 'roles':...</td>\n",
       "      <td>26913</td>\n",
       "      <td>[{'href': 'https://planetarycomputer.microsoft...</td>\n",
       "      <td>{'image': {'eo:bands': [{'common_name': 'red',...</td>\n",
       "      <td>naip</td>\n",
       "      <td>2022-08-20 16:00:00+00:00</td>\n",
       "      <td>[12940, 10200]</td>\n",
       "      <td>ne</td>\n",
       "      <td>[0.6, 0.0, 730771.2, 0.0, -0.6, 4549863.6, 0.0...</td>\n",
       "      <td>{'lat': 41.0315, 'lon': -102.21848}</td>\n",
       "      <td>0.6</td>\n",
       "      <td>2022</td>\n",
       "      <td>[730771.2, 4542099.6, 736891.2, 4549863.6]</td>\n",
       "      <td>{'xmax': -102.180634, 'xmin': -102.256294, 'ym...</td>\n",
       "      <td>b'\\x01\\x03\\x00\\x00\\x00\\x01\\x00\\x00\\x00\\x05\\x00...</td>\n",
       "    </tr>\n",
       "    <tr>\n",
       "      <th>2</th>\n",
       "      <td>1.1.0</td>\n",
       "      <td>[https://stac-extensions.github.io/eo/v1.0.0/s...</td>\n",
       "      <td>ne_m_4110263_se_13_060_20220820</td>\n",
       "      <td>[{'name': 'USDA Farm Service Agency', 'roles':...</td>\n",
       "      <td>26913</td>\n",
       "      <td>[{'href': 'https://planetarycomputer.microsoft...</td>\n",
       "      <td>{'image': {'eo:bands': [{'common_name': 'red',...</td>\n",
       "      <td>naip</td>\n",
       "      <td>2022-08-20 16:00:00+00:00</td>\n",
       "      <td>[12941, 10068]</td>\n",
       "      <td>ne</td>\n",
       "      <td>[0.6, 0.0, 736065.6, 0.0, -0.6, 4550033.4, 0.0...</td>\n",
       "      <td>{'lat': 41.0315, 'lon': -102.15598}</td>\n",
       "      <td>0.6</td>\n",
       "      <td>2022</td>\n",
       "      <td>[736065.6, 4542268.800000001, 742106.4, 455003...</td>\n",
       "      <td>{'xmax': -102.118573, 'xmin': -102.193354, 'ym...</td>\n",
       "      <td>b'\\x01\\x03\\x00\\x00\\x00\\x01\\x00\\x00\\x00\\x05\\x00...</td>\n",
       "    </tr>\n",
       "    <tr>\n",
       "      <th>3</th>\n",
       "      <td>1.1.0</td>\n",
       "      <td>[https://stac-extensions.github.io/eo/v1.0.0/s...</td>\n",
       "      <td>ne_m_4110262_se_13_060_20220820</td>\n",
       "      <td>[{'name': 'USDA Farm Service Agency', 'roles':...</td>\n",
       "      <td>26913</td>\n",
       "      <td>[{'href': 'https://planetarycomputer.microsoft...</td>\n",
       "      <td>{'image': {'eo:bands': [{'common_name': 'red',...</td>\n",
       "      <td>naip</td>\n",
       "      <td>2022-08-20 16:00:00+00:00</td>\n",
       "      <td>[12928, 10051]</td>\n",
       "      <td>ne</td>\n",
       "      <td>[0.6, 0.0, 725561.4, 0.0, -0.6, 4549694.4, 0.0...</td>\n",
       "      <td>{'lat': 41.0315, 'lon': -102.28098}</td>\n",
       "      <td>0.6</td>\n",
       "      <td>2022</td>\n",
       "      <td>[725561.4, 4541937.600000001, 731592.0, 454969...</td>\n",
       "      <td>{'xmax': -102.243696, 'xmin': -102.318229, 'ym...</td>\n",
       "      <td>b'\\x01\\x03\\x00\\x00\\x00\\x01\\x00\\x00\\x00\\x05\\x00...</td>\n",
       "    </tr>\n",
       "    <tr>\n",
       "      <th>4</th>\n",
       "      <td>1.1.0</td>\n",
       "      <td>[https://stac-extensions.github.io/eo/v1.0.0/s...</td>\n",
       "      <td>ne_m_4110361_sw_13_060_20220818</td>\n",
       "      <td>[{'name': 'USDA Farm Service Agency', 'roles':...</td>\n",
       "      <td>26913</td>\n",
       "      <td>[{'href': 'https://planetarycomputer.microsoft...</td>\n",
       "      <td>{'image': {'eo:bands': [{'common_name': 'red',...</td>\n",
       "      <td>naip</td>\n",
       "      <td>2022-08-18 16:00:00+00:00</td>\n",
       "      <td>[12811, 10031]</td>\n",
       "      <td>ne</td>\n",
       "      <td>[0.6, 0.0, 625734.6, 0.0, -0.6, 4547227.2, 0.0...</td>\n",
       "      <td>{'lat': 41.0315, 'lon': -103.46848}</td>\n",
       "      <td>0.6</td>\n",
       "      <td>2022</td>\n",
       "      <td>[625734.6, 4539540.600000001, 631753.2, 454722...</td>\n",
       "      <td>{'xmax': -103.431874, 'xmin': -103.50505, 'yma...</td>\n",
       "      <td>b\"\\x01\\x03\\x00\\x00\\x00\\x01\\x00\\x00\\x00\\x05\\x00...</td>\n",
       "    </tr>\n",
       "  </tbody>\n",
       "</table>\n",
       "</div>"
      ],
      "text/plain": [
       "  stac_version                                    stac_extensions  \\\n",
       "0        1.1.0  [https://stac-extensions.github.io/eo/v1.0.0/s...   \n",
       "1        1.1.0  [https://stac-extensions.github.io/eo/v1.0.0/s...   \n",
       "2        1.1.0  [https://stac-extensions.github.io/eo/v1.0.0/s...   \n",
       "3        1.1.0  [https://stac-extensions.github.io/eo/v1.0.0/s...   \n",
       "4        1.1.0  [https://stac-extensions.github.io/eo/v1.0.0/s...   \n",
       "\n",
       "                                id  \\\n",
       "0  ne_m_4110264_sw_13_060_20220827   \n",
       "1  ne_m_4110263_sw_13_060_20220820   \n",
       "2  ne_m_4110263_se_13_060_20220820   \n",
       "3  ne_m_4110262_se_13_060_20220820   \n",
       "4  ne_m_4110361_sw_13_060_20220818   \n",
       "\n",
       "                                           providers  proj:epsg  \\\n",
       "0  [{'name': 'USDA Farm Service Agency', 'roles':...      26913   \n",
       "1  [{'name': 'USDA Farm Service Agency', 'roles':...      26913   \n",
       "2  [{'name': 'USDA Farm Service Agency', 'roles':...      26913   \n",
       "3  [{'name': 'USDA Farm Service Agency', 'roles':...      26913   \n",
       "4  [{'name': 'USDA Farm Service Agency', 'roles':...      26913   \n",
       "\n",
       "                                               links  \\\n",
       "0  [{'href': 'https://planetarycomputer.microsoft...   \n",
       "1  [{'href': 'https://planetarycomputer.microsoft...   \n",
       "2  [{'href': 'https://planetarycomputer.microsoft...   \n",
       "3  [{'href': 'https://planetarycomputer.microsoft...   \n",
       "4  [{'href': 'https://planetarycomputer.microsoft...   \n",
       "\n",
       "                                              assets collection  \\\n",
       "0  {'image': {'eo:bands': [{'common_name': 'red',...       naip   \n",
       "1  {'image': {'eo:bands': [{'common_name': 'red',...       naip   \n",
       "2  {'image': {'eo:bands': [{'common_name': 'red',...       naip   \n",
       "3  {'image': {'eo:bands': [{'common_name': 'red',...       naip   \n",
       "4  {'image': {'eo:bands': [{'common_name': 'red',...       naip   \n",
       "\n",
       "                   datetime      proj:shape naip:state  \\\n",
       "0 2022-08-27 16:00:00+00:00  [12953, 10217]         ne   \n",
       "1 2022-08-20 16:00:00+00:00  [12940, 10200]         ne   \n",
       "2 2022-08-20 16:00:00+00:00  [12941, 10068]         ne   \n",
       "3 2022-08-20 16:00:00+00:00  [12928, 10051]         ne   \n",
       "4 2022-08-18 16:00:00+00:00  [12811, 10031]         ne   \n",
       "\n",
       "                                      proj:transform  \\\n",
       "0  [0.6, 0.0, 741276.0, 0.0, -0.6, 4550210.4, 0.0...   \n",
       "1  [0.6, 0.0, 730771.2, 0.0, -0.6, 4549863.6, 0.0...   \n",
       "2  [0.6, 0.0, 736065.6, 0.0, -0.6, 4550033.4, 0.0...   \n",
       "3  [0.6, 0.0, 725561.4, 0.0, -0.6, 4549694.4, 0.0...   \n",
       "4  [0.6, 0.0, 625734.6, 0.0, -0.6, 4547227.2, 0.0...   \n",
       "\n",
       "                         proj:centroid  gsd naip:year  \\\n",
       "0  {'lat': 41.0315, 'lon': -102.09348}  0.6      2022   \n",
       "1  {'lat': 41.0315, 'lon': -102.21848}  0.6      2022   \n",
       "2  {'lat': 41.0315, 'lon': -102.15598}  0.6      2022   \n",
       "3  {'lat': 41.0315, 'lon': -102.28098}  0.6      2022   \n",
       "4  {'lat': 41.0315, 'lon': -103.46848}  0.6      2022   \n",
       "\n",
       "                                           proj:bbox  \\\n",
       "0  [741276.0, 4542438.600000001, 747406.2, 455021...   \n",
       "1         [730771.2, 4542099.6, 736891.2, 4549863.6]   \n",
       "2  [736065.6, 4542268.800000001, 742106.4, 455003...   \n",
       "3  [725561.4, 4541937.600000001, 731592.0, 454969...   \n",
       "4  [625734.6, 4539540.600000001, 631753.2, 454722...   \n",
       "\n",
       "                                                bbox  \\\n",
       "0  {'xmax': -102.055505, 'xmin': -102.131414, 'ym...   \n",
       "1  {'xmax': -102.180634, 'xmin': -102.256294, 'ym...   \n",
       "2  {'xmax': -102.118573, 'xmin': -102.193354, 'ym...   \n",
       "3  {'xmax': -102.243696, 'xmin': -102.318229, 'ym...   \n",
       "4  {'xmax': -103.431874, 'xmin': -103.50505, 'yma...   \n",
       "\n",
       "                                            geometry  \n",
       "0  b'\\x01\\x03\\x00\\x00\\x00\\x01\\x00\\x00\\x00\\x05\\x00...  \n",
       "1  b'\\x01\\x03\\x00\\x00\\x00\\x01\\x00\\x00\\x00\\x05\\x00...  \n",
       "2  b'\\x01\\x03\\x00\\x00\\x00\\x01\\x00\\x00\\x00\\x05\\x00...  \n",
       "3  b'\\x01\\x03\\x00\\x00\\x00\\x01\\x00\\x00\\x00\\x05\\x00...  \n",
       "4  b\"\\x01\\x03\\x00\\x00\\x00\\x01\\x00\\x00\\x00\\x05\\x00...  "
      ]
     },
     "execution_count": 24,
     "metadata": {},
     "output_type": "execute_result"
    }
   ],
   "source": [
    "df = pd.read_parquet('../data/catalog.v1.parquet')\n",
    "df.head()"
   ]
  },
  {
   "cell_type": "code",
   "execution_count": 27,
   "id": "c05bcc9b",
   "metadata": {},
   "outputs": [
    {
     "name": "stdout",
     "output_type": "stream",
     "text": [
      "{'stac_version': '1.1.0', 'stac_extensions': ['https://stac-extensions.github.io/eo/v1.0.0/schema.json', 'https://stac-extensions.github.io/projection/v1.0.0/schema.json'], 'id': 'ne_m_4110264_sw_13_060_20220827', 'links': [{'href': 'https://planetarycomputer.microsoft.com/api/stac/v1/collections/naip', 'rel': 'collection', 'title': None, 'type': 'application/json'}, {'href': 'https://planetarycomputer.microsoft.com/api/stac/v1/collections/naip', 'rel': 'parent', 'title': None, 'type': 'application/json'}, {'href': 'https://planetarycomputer.microsoft.com/api/stac/v1', 'rel': 'root', 'title': 'Microsoft Planetary Computer STAC API', 'type': 'application/json'}, {'href': 'https://planetarycomputer.microsoft.com/api/stac/v1/collections/naip/items/ne_m_4110264_sw_13_060_20220827', 'rel': 'self', 'title': None, 'type': 'application/geo+json'}, {'href': 'https://planetarycomputer.microsoft.com/api/data/v1/item/map?collection=naip&item=ne_m_4110264_sw_13_060_20220827', 'rel': 'preview', 'title': 'Map of item', 'type': 'text/html'}], 'assets': {'image': {'eo:bands': [{'common_name': 'red', 'description': None, 'name': 'Red'}, {'common_name': 'green', 'description': None, 'name': 'Green'}, {'common_name': 'blue', 'description': None, 'name': 'Blue'}, {'common_name': 'nir', 'description': 'near-infrared', 'name': 'NIR'}], 'href': './v002/ne/2022/ne_060cm_2022/41102/m_4110264_sw_13_060_20220827.tif', 'roles': ['data'], 'title': 'RGBIR COG tile', 'type': 'image/tiff; application=geotiff; profile=cloud-optimized'}, 'rendered_preview': {'href': 'https://planetarycomputer.microsoft.com/api/data/v1/item/preview.png?collection=naip&item=ne_m_4110264_sw_13_060_20220827&assets=image&asset_bidx=image%7C1%2C2%2C3&format=png', 'rel': 'preview', 'roles': ['overview'], 'title': 'Rendered preview', 'type': 'image/png'}, 'thumbnail': {'href': 'https://naipeuwest.blob.core.windows.net/naip/v002/ne/2022/ne_060cm_2022/41102/m_4110264_sw_13_060_20220827.200.jpg', 'roles': ['thumbnail'], 'title': 'Thumbnail', 'type': 'image/jpeg'}, 'tilejson': {'href': 'https://planetarycomputer.microsoft.com/api/data/v1/item/tilejson.json?collection=naip&item=ne_m_4110264_sw_13_060_20220827&assets=image&asset_bidx=image%7C1%2C2%2C3&format=png', 'roles': ['tiles'], 'title': 'TileJSON with default rendering', 'type': 'application/json'}}, 'collection': 'ws-eric.test', 'bbox': [-102.131414, 40.995619, -102.055505, 41.067376], 'geometry': {'type': 'Polygon', 'coordinates': (((-102.058621, 40.995619), (-102.055505, 41.065536), (-102.128375, 41.067376), (-102.131414, 40.997455), (-102.058621, 40.995619)),)}, 'properties': {'providers': [{'name': 'USDA Farm Service Agency', 'roles': ['producer', 'licensor'], 'url': 'https://www.fsa.usda.gov/programs-and-services/aerial-photography/imagery-programs/naip-imagery/'}], 'proj:epsg': 26913, 'datetime': '2022-08-27T16:00:00+00:00', 'proj:shape': [12953, 10217], 'naip:state': 'ne', 'proj:transform': [0.6, 0.0, 741276.0, 0.0, -0.6, 4550210.4, 0.0, 0.0, 1.0], 'proj:centroid': {'lat': 41.0315, 'lon': -102.09348}, 'gsd': 0.6, 'naip:year': '2022', 'proj:bbox': [741276.0, 4542438.600000001, 747406.2, 4550210.4]}, 'type': 'Feature'}\n",
      "(201) ne_m_4110264_sw_13_060_20220827 added to collection ws_eric.test\n",
      "{'bbox': [-102.131414, 40.995619, -102.055505, 41.067376], 'type': 'Feature', 'geometry': {'type': 'Polygon', 'coordinates': [[[-102.058621, 40.995619], [-102.055505, 41.065536], [-102.128375, 41.067376], [-102.131414, 40.997455], [-102.058621, 40.995619]]]}, 'properties': {'datetime': '2022-08-27T16:00:00Z', 'providers': [{'name': 'USDA Farm Service Agency', 'roles': ['producer', 'licensor'], 'url': 'https://www.fsa.usda.gov/programs-and-services/aerial-photography/imagery-programs/naip-imagery/'}], 'gsd': 0.6, 'proj:epsg': 26913, 'proj:shape': [12953, 10217], 'naip:state': 'ne', 'proj:transform': [0.6, 0.0, 741276.0, 0.0, -0.6, 4550210.4, 0.0, 0.0, 1.0], 'proj:centroid': {'lat': 41.0315, 'lon': -102.09348}, 'naip:year': '2022', 'proj:bbox': [741276.0, 4542438.600000001, 747406.2, 4550210.4]}, 'id': 'ne_m_4110264_sw_13_060_20220827', 'stac_version': '1.1.0', 'assets': {'image': {'href': './v002/ne/2022/ne_060cm_2022/41102/m_4110264_sw_13_060_20220827.tif', 'type': 'image/tiff; application=geotiff; profile=cloud-optimized', 'title': 'RGBIR COG tile', 'roles': ['data'], 'eo:bands': [{'common_name': 'red', 'description': None, 'name': 'Red'}, {'common_name': 'green', 'description': None, 'name': 'Green'}, {'common_name': 'blue', 'description': None, 'name': 'Blue'}, {'common_name': 'nir', 'description': 'near-infrared', 'name': 'NIR'}]}, 'rendered_preview': {'href': 'https://planetarycomputer.microsoft.com/api/data/v1/item/preview.png?collection=naip&item=ne_m_4110264_sw_13_060_20220827&assets=image&asset_bidx=image%7C1%2C2%2C3&format=png', 'type': 'image/png', 'title': 'Rendered preview', 'roles': ['overview'], 'rel': 'preview'}, 'thumbnail': {'href': 'https://naipeuwest.blob.core.windows.net/naip/v002/ne/2022/ne_060cm_2022/41102/m_4110264_sw_13_060_20220827.200.jpg', 'type': 'image/jpeg', 'title': 'Thumbnail', 'roles': ['thumbnail']}, 'tilejson': {'href': 'https://planetarycomputer.microsoft.com/api/data/v1/item/tilejson.json?collection=naip&item=ne_m_4110264_sw_13_060_20220827&assets=image&asset_bidx=image%7C1%2C2%2C3&format=png', 'type': 'application/json', 'title': 'TileJSON with default rendering', 'roles': ['tiles']}}, 'links': [{'rel': 'collection', 'type': 'application/json', 'href': 'https://eoapi.apx.develop.eoepca.org/stac/collections/ws-eric.test'}, {'rel': 'parent', 'type': 'application/json', 'href': 'https://eoapi.apx.develop.eoepca.org/stac/collections/ws-eric.test'}, {'rel': 'root', 'type': 'application/json', 'href': 'https://eoapi.apx.develop.eoepca.org/stac/'}, {'rel': 'self', 'type': 'application/geo+json', 'href': 'https://eoapi.apx.develop.eoepca.org/stac/collections/ws-eric.test/items/ne_m_4110264_sw_13_060_20220827'}, {'href': 'https://planetarycomputer.microsoft.com/api/data/v1/item/map?collection=naip&item=ne_m_4110264_sw_13_060_20220827', 'rel': 'preview', 'type': 'text/html', 'title': 'Map of item'}], 'stac_extensions': ['https://stac-extensions.github.io/eo/v1.0.0/schema.json', 'https://stac-extensions.github.io/projection/v1.0.0/schema.json'], 'collection': 'ws-eric.test'}\n",
      "{'stac_version': '1.1.0', 'stac_extensions': ['https://stac-extensions.github.io/eo/v1.0.0/schema.json', 'https://stac-extensions.github.io/projection/v1.0.0/schema.json'], 'id': 'ne_m_4110263_sw_13_060_20220820', 'links': [{'href': 'https://planetarycomputer.microsoft.com/api/stac/v1/collections/naip', 'rel': 'collection', 'title': None, 'type': 'application/json'}, {'href': 'https://planetarycomputer.microsoft.com/api/stac/v1/collections/naip', 'rel': 'parent', 'title': None, 'type': 'application/json'}, {'href': 'https://planetarycomputer.microsoft.com/api/stac/v1', 'rel': 'root', 'title': 'Microsoft Planetary Computer STAC API', 'type': 'application/json'}, {'href': 'https://planetarycomputer.microsoft.com/api/stac/v1/collections/naip/items/ne_m_4110263_sw_13_060_20220820', 'rel': 'self', 'title': None, 'type': 'application/geo+json'}, {'href': 'https://planetarycomputer.microsoft.com/api/data/v1/item/map?collection=naip&item=ne_m_4110263_sw_13_060_20220820', 'rel': 'preview', 'title': 'Map of item', 'type': 'text/html'}], 'assets': {'image': {'eo:bands': [{'common_name': 'red', 'description': None, 'name': 'Red'}, {'common_name': 'green', 'description': None, 'name': 'Green'}, {'common_name': 'blue', 'description': None, 'name': 'Blue'}, {'common_name': 'nir', 'description': 'near-infrared', 'name': 'NIR'}], 'href': './v002/ne/2022/ne_060cm_2022/41102/m_4110263_sw_13_060_20220820.tif', 'roles': ['data'], 'title': 'RGBIR COG tile', 'type': 'image/tiff; application=geotiff; profile=cloud-optimized'}, 'rendered_preview': {'href': 'https://planetarycomputer.microsoft.com/api/data/v1/item/preview.png?collection=naip&item=ne_m_4110263_sw_13_060_20220820&assets=image&asset_bidx=image%7C1%2C2%2C3&format=png', 'rel': 'preview', 'roles': ['overview'], 'title': 'Rendered preview', 'type': 'image/png'}, 'thumbnail': {'href': 'https://naipeuwest.blob.core.windows.net/naip/v002/ne/2022/ne_060cm_2022/41102/m_4110263_sw_13_060_20220820.200.jpg', 'roles': ['thumbnail'], 'title': 'Thumbnail', 'type': 'image/jpeg'}, 'tilejson': {'href': 'https://planetarycomputer.microsoft.com/api/data/v1/item/tilejson.json?collection=naip&item=ne_m_4110263_sw_13_060_20220820&assets=image&asset_bidx=image%7C1%2C2%2C3&format=png', 'roles': ['tiles'], 'title': 'TileJSON with default rendering', 'type': 'application/json'}}, 'collection': 'ws-eric.test', 'bbox': [-102.256294, 40.995689, -102.180634, 41.067303], 'geometry': {'type': 'Polygon', 'coordinates': (((-102.183615, 40.995689), (-102.180634, 41.065544), (-102.25339, 41.067303), (-102.256294, 40.997444), (-102.183615, 40.995689)),)}, 'properties': {'providers': [{'name': 'USDA Farm Service Agency', 'roles': ['producer', 'licensor'], 'url': 'https://www.fsa.usda.gov/programs-and-services/aerial-photography/imagery-programs/naip-imagery/'}], 'proj:epsg': 26913, 'datetime': '2022-08-20T16:00:00+00:00', 'proj:shape': [12940, 10200], 'naip:state': 'ne', 'proj:transform': [0.6, 0.0, 730771.2, 0.0, -0.6, 4549863.6, 0.0, 0.0, 1.0], 'proj:centroid': {'lat': 41.0315, 'lon': -102.21848}, 'gsd': 0.6, 'naip:year': '2022', 'proj:bbox': [730771.2, 4542099.6, 736891.2, 4549863.6]}, 'type': 'Feature'}\n",
      "(201) ne_m_4110263_sw_13_060_20220820 added to collection ws_eric.test\n",
      "{'bbox': [-102.256294, 40.995689, -102.180634, 41.067303], 'type': 'Feature', 'geometry': {'type': 'Polygon', 'coordinates': [[[-102.183615, 40.995689], [-102.180634, 41.065544], [-102.25339, 41.067303], [-102.256294, 40.997444], [-102.183615, 40.995689]]]}, 'properties': {'datetime': '2022-08-20T16:00:00Z', 'providers': [{'name': 'USDA Farm Service Agency', 'roles': ['producer', 'licensor'], 'url': 'https://www.fsa.usda.gov/programs-and-services/aerial-photography/imagery-programs/naip-imagery/'}], 'gsd': 0.6, 'proj:epsg': 26913, 'proj:shape': [12940, 10200], 'naip:state': 'ne', 'proj:transform': [0.6, 0.0, 730771.2, 0.0, -0.6, 4549863.6, 0.0, 0.0, 1.0], 'proj:centroid': {'lat': 41.0315, 'lon': -102.21848}, 'naip:year': '2022', 'proj:bbox': [730771.2, 4542099.6, 736891.2, 4549863.6]}, 'id': 'ne_m_4110263_sw_13_060_20220820', 'stac_version': '1.1.0', 'assets': {'image': {'href': './v002/ne/2022/ne_060cm_2022/41102/m_4110263_sw_13_060_20220820.tif', 'type': 'image/tiff; application=geotiff; profile=cloud-optimized', 'title': 'RGBIR COG tile', 'roles': ['data'], 'eo:bands': [{'common_name': 'red', 'description': None, 'name': 'Red'}, {'common_name': 'green', 'description': None, 'name': 'Green'}, {'common_name': 'blue', 'description': None, 'name': 'Blue'}, {'common_name': 'nir', 'description': 'near-infrared', 'name': 'NIR'}]}, 'rendered_preview': {'href': 'https://planetarycomputer.microsoft.com/api/data/v1/item/preview.png?collection=naip&item=ne_m_4110263_sw_13_060_20220820&assets=image&asset_bidx=image%7C1%2C2%2C3&format=png', 'type': 'image/png', 'title': 'Rendered preview', 'roles': ['overview'], 'rel': 'preview'}, 'thumbnail': {'href': 'https://naipeuwest.blob.core.windows.net/naip/v002/ne/2022/ne_060cm_2022/41102/m_4110263_sw_13_060_20220820.200.jpg', 'type': 'image/jpeg', 'title': 'Thumbnail', 'roles': ['thumbnail']}, 'tilejson': {'href': 'https://planetarycomputer.microsoft.com/api/data/v1/item/tilejson.json?collection=naip&item=ne_m_4110263_sw_13_060_20220820&assets=image&asset_bidx=image%7C1%2C2%2C3&format=png', 'type': 'application/json', 'title': 'TileJSON with default rendering', 'roles': ['tiles']}}, 'links': [{'rel': 'collection', 'type': 'application/json', 'href': 'https://eoapi.apx.develop.eoepca.org/stac/collections/ws-eric.test'}, {'rel': 'parent', 'type': 'application/json', 'href': 'https://eoapi.apx.develop.eoepca.org/stac/collections/ws-eric.test'}, {'rel': 'root', 'type': 'application/json', 'href': 'https://eoapi.apx.develop.eoepca.org/stac/'}, {'rel': 'self', 'type': 'application/geo+json', 'href': 'https://eoapi.apx.develop.eoepca.org/stac/collections/ws-eric.test/items/ne_m_4110263_sw_13_060_20220820'}, {'href': 'https://planetarycomputer.microsoft.com/api/data/v1/item/map?collection=naip&item=ne_m_4110263_sw_13_060_20220820', 'rel': 'preview', 'type': 'text/html', 'title': 'Map of item'}], 'stac_extensions': ['https://stac-extensions.github.io/eo/v1.0.0/schema.json', 'https://stac-extensions.github.io/projection/v1.0.0/schema.json'], 'collection': 'ws-eric.test'}\n",
      "{'stac_version': '1.1.0', 'stac_extensions': ['https://stac-extensions.github.io/eo/v1.0.0/schema.json', 'https://stac-extensions.github.io/projection/v1.0.0/schema.json'], 'id': 'ne_m_4110263_se_13_060_20220820', 'links': [{'href': 'https://planetarycomputer.microsoft.com/api/stac/v1/collections/naip', 'rel': 'collection', 'title': None, 'type': 'application/json'}, {'href': 'https://planetarycomputer.microsoft.com/api/stac/v1/collections/naip', 'rel': 'parent', 'title': None, 'type': 'application/json'}, {'href': 'https://planetarycomputer.microsoft.com/api/stac/v1', 'rel': 'root', 'title': 'Microsoft Planetary Computer STAC API', 'type': 'application/json'}, {'href': 'https://planetarycomputer.microsoft.com/api/stac/v1/collections/naip/items/ne_m_4110263_se_13_060_20220820', 'rel': 'self', 'title': None, 'type': 'application/geo+json'}, {'href': 'https://planetarycomputer.microsoft.com/api/data/v1/item/map?collection=naip&item=ne_m_4110263_se_13_060_20220820', 'rel': 'preview', 'title': 'Map of item', 'type': 'text/html'}], 'assets': {'image': {'eo:bands': [{'common_name': 'red', 'description': None, 'name': 'Red'}, {'common_name': 'green', 'description': None, 'name': 'Green'}, {'common_name': 'blue', 'description': None, 'name': 'Blue'}, {'common_name': 'nir', 'description': 'near-infrared', 'name': 'NIR'}], 'href': './v002/ne/2022/ne_060cm_2022/41102/m_4110263_se_13_060_20220820.tif', 'roles': ['data'], 'title': 'RGBIR COG tile', 'type': 'image/tiff; application=geotiff; profile=cloud-optimized'}, 'rendered_preview': {'href': 'https://planetarycomputer.microsoft.com/api/data/v1/item/preview.png?collection=naip&item=ne_m_4110263_se_13_060_20220820&assets=image&asset_bidx=image%7C1%2C2%2C3&format=png', 'rel': 'preview', 'roles': ['overview'], 'title': 'Rendered preview', 'type': 'image/png'}, 'thumbnail': {'href': 'https://naipeuwest.blob.core.windows.net/naip/v002/ne/2022/ne_060cm_2022/41102/m_4110263_se_13_060_20220820.200.jpg', 'roles': ['thumbnail'], 'title': 'Thumbnail', 'type': 'image/jpeg'}, 'tilejson': {'href': 'https://planetarycomputer.microsoft.com/api/data/v1/item/tilejson.json?collection=naip&item=ne_m_4110263_se_13_060_20220820&assets=image&asset_bidx=image%7C1%2C2%2C3&format=png', 'roles': ['tiles'], 'title': 'TileJSON with default rendering', 'type': 'application/json'}}, 'collection': 'ws-eric.test', 'bbox': [-102.193354, 40.995681, -102.118573, 41.067312], 'geometry': {'type': 'Polygon', 'coordinates': (((-102.121619, 40.995681), (-102.118573, 41.065537), (-102.190384, 41.067312), (-102.193354, 40.997451), (-102.121619, 40.995681)),)}, 'properties': {'providers': [{'name': 'USDA Farm Service Agency', 'roles': ['producer', 'licensor'], 'url': 'https://www.fsa.usda.gov/programs-and-services/aerial-photography/imagery-programs/naip-imagery/'}], 'proj:epsg': 26913, 'datetime': '2022-08-20T16:00:00+00:00', 'proj:shape': [12941, 10068], 'naip:state': 'ne', 'proj:transform': [0.6, 0.0, 736065.6, 0.0, -0.6, 4550033.4, 0.0, 0.0, 1.0], 'proj:centroid': {'lat': 41.0315, 'lon': -102.15598}, 'gsd': 0.6, 'naip:year': '2022', 'proj:bbox': [736065.6, 4542268.800000001, 742106.4, 4550033.4]}, 'type': 'Feature'}\n",
      "(201) ne_m_4110263_se_13_060_20220820 added to collection ws_eric.test\n",
      "{'bbox': [-102.193354, 40.995681, -102.118573, 41.067312], 'type': 'Feature', 'geometry': {'type': 'Polygon', 'coordinates': [[[-102.121619, 40.995681], [-102.118573, 41.065537], [-102.190384, 41.067312], [-102.193354, 40.997451], [-102.121619, 40.995681]]]}, 'properties': {'datetime': '2022-08-20T16:00:00Z', 'providers': [{'name': 'USDA Farm Service Agency', 'roles': ['producer', 'licensor'], 'url': 'https://www.fsa.usda.gov/programs-and-services/aerial-photography/imagery-programs/naip-imagery/'}], 'gsd': 0.6, 'proj:epsg': 26913, 'proj:shape': [12941, 10068], 'naip:state': 'ne', 'proj:transform': [0.6, 0.0, 736065.6, 0.0, -0.6, 4550033.4, 0.0, 0.0, 1.0], 'proj:centroid': {'lat': 41.0315, 'lon': -102.15598}, 'naip:year': '2022', 'proj:bbox': [736065.6, 4542268.800000001, 742106.4, 4550033.4]}, 'id': 'ne_m_4110263_se_13_060_20220820', 'stac_version': '1.1.0', 'assets': {'image': {'href': './v002/ne/2022/ne_060cm_2022/41102/m_4110263_se_13_060_20220820.tif', 'type': 'image/tiff; application=geotiff; profile=cloud-optimized', 'title': 'RGBIR COG tile', 'roles': ['data'], 'eo:bands': [{'common_name': 'red', 'description': None, 'name': 'Red'}, {'common_name': 'green', 'description': None, 'name': 'Green'}, {'common_name': 'blue', 'description': None, 'name': 'Blue'}, {'common_name': 'nir', 'description': 'near-infrared', 'name': 'NIR'}]}, 'rendered_preview': {'href': 'https://planetarycomputer.microsoft.com/api/data/v1/item/preview.png?collection=naip&item=ne_m_4110263_se_13_060_20220820&assets=image&asset_bidx=image%7C1%2C2%2C3&format=png', 'type': 'image/png', 'title': 'Rendered preview', 'roles': ['overview'], 'rel': 'preview'}, 'thumbnail': {'href': 'https://naipeuwest.blob.core.windows.net/naip/v002/ne/2022/ne_060cm_2022/41102/m_4110263_se_13_060_20220820.200.jpg', 'type': 'image/jpeg', 'title': 'Thumbnail', 'roles': ['thumbnail']}, 'tilejson': {'href': 'https://planetarycomputer.microsoft.com/api/data/v1/item/tilejson.json?collection=naip&item=ne_m_4110263_se_13_060_20220820&assets=image&asset_bidx=image%7C1%2C2%2C3&format=png', 'type': 'application/json', 'title': 'TileJSON with default rendering', 'roles': ['tiles']}}, 'links': [{'rel': 'collection', 'type': 'application/json', 'href': 'https://eoapi.apx.develop.eoepca.org/stac/collections/ws-eric.test'}, {'rel': 'parent', 'type': 'application/json', 'href': 'https://eoapi.apx.develop.eoepca.org/stac/collections/ws-eric.test'}, {'rel': 'root', 'type': 'application/json', 'href': 'https://eoapi.apx.develop.eoepca.org/stac/'}, {'rel': 'self', 'type': 'application/geo+json', 'href': 'https://eoapi.apx.develop.eoepca.org/stac/collections/ws-eric.test/items/ne_m_4110263_se_13_060_20220820'}, {'href': 'https://planetarycomputer.microsoft.com/api/data/v1/item/map?collection=naip&item=ne_m_4110263_se_13_060_20220820', 'rel': 'preview', 'type': 'text/html', 'title': 'Map of item'}], 'stac_extensions': ['https://stac-extensions.github.io/eo/v1.0.0/schema.json', 'https://stac-extensions.github.io/projection/v1.0.0/schema.json'], 'collection': 'ws-eric.test'}\n",
      "{'stac_version': '1.1.0', 'stac_extensions': ['https://stac-extensions.github.io/eo/v1.0.0/schema.json', 'https://stac-extensions.github.io/projection/v1.0.0/schema.json'], 'id': 'ne_m_4110262_se_13_060_20220820', 'links': [{'href': 'https://planetarycomputer.microsoft.com/api/stac/v1/collections/naip', 'rel': 'collection', 'title': None, 'type': 'application/json'}, {'href': 'https://planetarycomputer.microsoft.com/api/stac/v1/collections/naip', 'rel': 'parent', 'title': None, 'type': 'application/json'}, {'href': 'https://planetarycomputer.microsoft.com/api/stac/v1', 'rel': 'root', 'title': 'Microsoft Planetary Computer STAC API', 'type': 'application/json'}, {'href': 'https://planetarycomputer.microsoft.com/api/stac/v1/collections/naip/items/ne_m_4110262_se_13_060_20220820', 'rel': 'self', 'title': None, 'type': 'application/geo+json'}, {'href': 'https://planetarycomputer.microsoft.com/api/data/v1/item/map?collection=naip&item=ne_m_4110262_se_13_060_20220820', 'rel': 'preview', 'title': 'Map of item', 'type': 'text/html'}], 'assets': {'image': {'eo:bands': [{'common_name': 'red', 'description': None, 'name': 'Red'}, {'common_name': 'green', 'description': None, 'name': 'Green'}, {'common_name': 'blue', 'description': None, 'name': 'Blue'}, {'common_name': 'nir', 'description': 'near-infrared', 'name': 'NIR'}], 'href': './v002/ne/2022/ne_060cm_2022/41102/m_4110262_se_13_060_20220820.tif', 'roles': ['data'], 'title': 'RGBIR COG tile', 'type': 'image/tiff; application=geotiff; profile=cloud-optimized'}, 'rendered_preview': {'href': 'https://planetarycomputer.microsoft.com/api/data/v1/item/preview.png?collection=naip&item=ne_m_4110262_se_13_060_20220820&assets=image&asset_bidx=image%7C1%2C2%2C3&format=png', 'rel': 'preview', 'roles': ['overview'], 'title': 'Rendered preview', 'type': 'image/png'}, 'thumbnail': {'href': 'https://naipeuwest.blob.core.windows.net/naip/v002/ne/2022/ne_060cm_2022/41102/m_4110262_se_13_060_20220820.200.jpg', 'roles': ['thumbnail'], 'title': 'Thumbnail', 'type': 'image/jpeg'}, 'tilejson': {'href': 'https://planetarycomputer.microsoft.com/api/data/v1/item/tilejson.json?collection=naip&item=ne_m_4110262_se_13_060_20220820&assets=image&asset_bidx=image%7C1%2C2%2C3&format=png', 'roles': ['tiles'], 'title': 'TileJSON with default rendering', 'type': 'application/json'}}, 'collection': 'ws-eric.test', 'bbox': [-102.318229, 40.995753, -102.243696, 41.067241], 'geometry': {'type': 'Polygon', 'coordinates': (((-102.246607, 40.995753), (-102.243696, 41.065547), (-102.315393, 41.067241), (-102.318229, 40.997443), (-102.246607, 40.995753)),)}, 'properties': {'providers': [{'name': 'USDA Farm Service Agency', 'roles': ['producer', 'licensor'], 'url': 'https://www.fsa.usda.gov/programs-and-services/aerial-photography/imagery-programs/naip-imagery/'}], 'proj:epsg': 26913, 'datetime': '2022-08-20T16:00:00+00:00', 'proj:shape': [12928, 10051], 'naip:state': 'ne', 'proj:transform': [0.6, 0.0, 725561.4, 0.0, -0.6, 4549694.4, 0.0, 0.0, 1.0], 'proj:centroid': {'lat': 41.0315, 'lon': -102.28098}, 'gsd': 0.6, 'naip:year': '2022', 'proj:bbox': [725561.4, 4541937.600000001, 731592.0, 4549694.4]}, 'type': 'Feature'}\n",
      "(201) ne_m_4110262_se_13_060_20220820 added to collection ws_eric.test\n",
      "{'bbox': [-102.318229, 40.995753, -102.243696, 41.067241], 'type': 'Feature', 'geometry': {'type': 'Polygon', 'coordinates': [[[-102.246607, 40.995753], [-102.243696, 41.065547], [-102.315393, 41.067241], [-102.318229, 40.997443], [-102.246607, 40.995753]]]}, 'properties': {'datetime': '2022-08-20T16:00:00Z', 'providers': [{'name': 'USDA Farm Service Agency', 'roles': ['producer', 'licensor'], 'url': 'https://www.fsa.usda.gov/programs-and-services/aerial-photography/imagery-programs/naip-imagery/'}], 'gsd': 0.6, 'proj:epsg': 26913, 'proj:shape': [12928, 10051], 'naip:state': 'ne', 'proj:transform': [0.6, 0.0, 725561.4, 0.0, -0.6, 4549694.4, 0.0, 0.0, 1.0], 'proj:centroid': {'lat': 41.0315, 'lon': -102.28098}, 'naip:year': '2022', 'proj:bbox': [725561.4, 4541937.600000001, 731592.0, 4549694.4]}, 'id': 'ne_m_4110262_se_13_060_20220820', 'stac_version': '1.1.0', 'assets': {'image': {'href': './v002/ne/2022/ne_060cm_2022/41102/m_4110262_se_13_060_20220820.tif', 'type': 'image/tiff; application=geotiff; profile=cloud-optimized', 'title': 'RGBIR COG tile', 'roles': ['data'], 'eo:bands': [{'common_name': 'red', 'description': None, 'name': 'Red'}, {'common_name': 'green', 'description': None, 'name': 'Green'}, {'common_name': 'blue', 'description': None, 'name': 'Blue'}, {'common_name': 'nir', 'description': 'near-infrared', 'name': 'NIR'}]}, 'rendered_preview': {'href': 'https://planetarycomputer.microsoft.com/api/data/v1/item/preview.png?collection=naip&item=ne_m_4110262_se_13_060_20220820&assets=image&asset_bidx=image%7C1%2C2%2C3&format=png', 'type': 'image/png', 'title': 'Rendered preview', 'roles': ['overview'], 'rel': 'preview'}, 'thumbnail': {'href': 'https://naipeuwest.blob.core.windows.net/naip/v002/ne/2022/ne_060cm_2022/41102/m_4110262_se_13_060_20220820.200.jpg', 'type': 'image/jpeg', 'title': 'Thumbnail', 'roles': ['thumbnail']}, 'tilejson': {'href': 'https://planetarycomputer.microsoft.com/api/data/v1/item/tilejson.json?collection=naip&item=ne_m_4110262_se_13_060_20220820&assets=image&asset_bidx=image%7C1%2C2%2C3&format=png', 'type': 'application/json', 'title': 'TileJSON with default rendering', 'roles': ['tiles']}}, 'links': [{'rel': 'collection', 'type': 'application/json', 'href': 'https://eoapi.apx.develop.eoepca.org/stac/collections/ws-eric.test'}, {'rel': 'parent', 'type': 'application/json', 'href': 'https://eoapi.apx.develop.eoepca.org/stac/collections/ws-eric.test'}, {'rel': 'root', 'type': 'application/json', 'href': 'https://eoapi.apx.develop.eoepca.org/stac/'}, {'rel': 'self', 'type': 'application/geo+json', 'href': 'https://eoapi.apx.develop.eoepca.org/stac/collections/ws-eric.test/items/ne_m_4110262_se_13_060_20220820'}, {'href': 'https://planetarycomputer.microsoft.com/api/data/v1/item/map?collection=naip&item=ne_m_4110262_se_13_060_20220820', 'rel': 'preview', 'type': 'text/html', 'title': 'Map of item'}], 'stac_extensions': ['https://stac-extensions.github.io/eo/v1.0.0/schema.json', 'https://stac-extensions.github.io/projection/v1.0.0/schema.json'], 'collection': 'ws-eric.test'}\n",
      "{'stac_version': '1.1.0', 'stac_extensions': ['https://stac-extensions.github.io/eo/v1.0.0/schema.json', 'https://stac-extensions.github.io/projection/v1.0.0/schema.json'], 'id': 'ne_m_4110361_sw_13_060_20220818', 'links': [{'href': 'https://planetarycomputer.microsoft.com/api/stac/v1/collections/naip', 'rel': 'collection', 'title': None, 'type': 'application/json'}, {'href': 'https://planetarycomputer.microsoft.com/api/stac/v1/collections/naip', 'rel': 'parent', 'title': None, 'type': 'application/json'}, {'href': 'https://planetarycomputer.microsoft.com/api/stac/v1', 'rel': 'root', 'title': 'Microsoft Planetary Computer STAC API', 'type': 'application/json'}, {'href': 'https://planetarycomputer.microsoft.com/api/stac/v1/collections/naip/items/ne_m_4110361_sw_13_060_20220818', 'rel': 'self', 'title': None, 'type': 'application/geo+json'}, {'href': 'https://planetarycomputer.microsoft.com/api/data/v1/item/map?collection=naip&item=ne_m_4110361_sw_13_060_20220818', 'rel': 'preview', 'title': 'Map of item', 'type': 'text/html'}], 'assets': {'image': {'eo:bands': [{'common_name': 'red', 'description': None, 'name': 'Red'}, {'common_name': 'green', 'description': None, 'name': 'Green'}, {'common_name': 'blue', 'description': None, 'name': 'Blue'}, {'common_name': 'nir', 'description': 'near-infrared', 'name': 'NIR'}], 'href': './v002/ne/2022/ne_060cm_2022/41103/m_4110361_sw_13_060_20220818.tif', 'roles': ['data'], 'title': 'RGBIR COG tile', 'type': 'image/tiff; application=geotiff; profile=cloud-optimized'}, 'rendered_preview': {'href': 'https://planetarycomputer.microsoft.com/api/data/v1/item/preview.png?collection=naip&item=ne_m_4110361_sw_13_060_20220818&assets=image&asset_bidx=image%7C1%2C2%2C3&format=png', 'rel': 'preview', 'roles': ['overview'], 'title': 'Rendered preview', 'type': 'image/png'}, 'thumbnail': {'href': 'https://naipeuwest.blob.core.windows.net/naip/v002/ne/2022/ne_060cm_2022/41103/m_4110361_sw_13_060_20220818.200.jpg', 'roles': ['thumbnail'], 'title': 'Thumbnail', 'type': 'image/jpeg'}, 'tilejson': {'href': 'https://planetarycomputer.microsoft.com/api/data/v1/item/tilejson.json?collection=naip&item=ne_m_4110361_sw_13_060_20220818&assets=image&asset_bidx=image%7C1%2C2%2C3&format=png', 'roles': ['tiles'], 'title': 'TileJSON with default rendering', 'type': 'application/json'}}, 'collection': 'ws-eric.test', 'bbox': [-103.50505, 40.996413, -103.431874, 41.066582], 'geometry': {'type': 'Polygon', 'coordinates': (((-103.433516, 40.996413), (-103.431874, 41.06563), (-103.503483, 41.066582), (-103.50505, 40.997363), (-103.433516, 40.996413)),)}, 'properties': {'providers': [{'name': 'USDA Farm Service Agency', 'roles': ['producer', 'licensor'], 'url': 'https://www.fsa.usda.gov/programs-and-services/aerial-photography/imagery-programs/naip-imagery/'}], 'proj:epsg': 26913, 'datetime': '2022-08-18T16:00:00+00:00', 'proj:shape': [12811, 10031], 'naip:state': 'ne', 'proj:transform': [0.6, 0.0, 625734.6, 0.0, -0.6, 4547227.2, 0.0, 0.0, 1.0], 'proj:centroid': {'lat': 41.0315, 'lon': -103.46848}, 'gsd': 0.6, 'naip:year': '2022', 'proj:bbox': [625734.6, 4539540.600000001, 631753.2, 4547227.2]}, 'type': 'Feature'}\n",
      "(201) ne_m_4110361_sw_13_060_20220818 added to collection ws_eric.test\n",
      "{'bbox': [-103.50505, 40.996413, -103.431874, 41.066582], 'type': 'Feature', 'geometry': {'type': 'Polygon', 'coordinates': [[[-103.433516, 40.996413], [-103.431874, 41.06563], [-103.503483, 41.066582], [-103.50505, 40.997363], [-103.433516, 40.996413]]]}, 'properties': {'datetime': '2022-08-18T16:00:00Z', 'providers': [{'name': 'USDA Farm Service Agency', 'roles': ['producer', 'licensor'], 'url': 'https://www.fsa.usda.gov/programs-and-services/aerial-photography/imagery-programs/naip-imagery/'}], 'gsd': 0.6, 'proj:epsg': 26913, 'proj:shape': [12811, 10031], 'naip:state': 'ne', 'proj:transform': [0.6, 0.0, 625734.6, 0.0, -0.6, 4547227.2, 0.0, 0.0, 1.0], 'proj:centroid': {'lat': 41.0315, 'lon': -103.46848}, 'naip:year': '2022', 'proj:bbox': [625734.6, 4539540.600000001, 631753.2, 4547227.2]}, 'id': 'ne_m_4110361_sw_13_060_20220818', 'stac_version': '1.1.0', 'assets': {'image': {'href': './v002/ne/2022/ne_060cm_2022/41103/m_4110361_sw_13_060_20220818.tif', 'type': 'image/tiff; application=geotiff; profile=cloud-optimized', 'title': 'RGBIR COG tile', 'roles': ['data'], 'eo:bands': [{'common_name': 'red', 'description': None, 'name': 'Red'}, {'common_name': 'green', 'description': None, 'name': 'Green'}, {'common_name': 'blue', 'description': None, 'name': 'Blue'}, {'common_name': 'nir', 'description': 'near-infrared', 'name': 'NIR'}]}, 'rendered_preview': {'href': 'https://planetarycomputer.microsoft.com/api/data/v1/item/preview.png?collection=naip&item=ne_m_4110361_sw_13_060_20220818&assets=image&asset_bidx=image%7C1%2C2%2C3&format=png', 'type': 'image/png', 'title': 'Rendered preview', 'roles': ['overview'], 'rel': 'preview'}, 'thumbnail': {'href': 'https://naipeuwest.blob.core.windows.net/naip/v002/ne/2022/ne_060cm_2022/41103/m_4110361_sw_13_060_20220818.200.jpg', 'type': 'image/jpeg', 'title': 'Thumbnail', 'roles': ['thumbnail']}, 'tilejson': {'href': 'https://planetarycomputer.microsoft.com/api/data/v1/item/tilejson.json?collection=naip&item=ne_m_4110361_sw_13_060_20220818&assets=image&asset_bidx=image%7C1%2C2%2C3&format=png', 'type': 'application/json', 'title': 'TileJSON with default rendering', 'roles': ['tiles']}}, 'links': [{'rel': 'collection', 'type': 'application/json', 'href': 'https://eoapi.apx.develop.eoepca.org/stac/collections/ws-eric.test'}, {'rel': 'parent', 'type': 'application/json', 'href': 'https://eoapi.apx.develop.eoepca.org/stac/collections/ws-eric.test'}, {'rel': 'root', 'type': 'application/json', 'href': 'https://eoapi.apx.develop.eoepca.org/stac/'}, {'rel': 'self', 'type': 'application/geo+json', 'href': 'https://eoapi.apx.develop.eoepca.org/stac/collections/ws-eric.test/items/ne_m_4110361_sw_13_060_20220818'}, {'href': 'https://planetarycomputer.microsoft.com/api/data/v1/item/map?collection=naip&item=ne_m_4110361_sw_13_060_20220818', 'rel': 'preview', 'type': 'text/html', 'title': 'Map of item'}], 'stac_extensions': ['https://stac-extensions.github.io/eo/v1.0.0/schema.json', 'https://stac-extensions.github.io/projection/v1.0.0/schema.json'], 'collection': 'ws-eric.test'}\n",
      "{'stac_version': '1.1.0', 'stac_extensions': ['https://stac-extensions.github.io/eo/v1.0.0/schema.json', 'https://stac-extensions.github.io/projection/v1.0.0/schema.json'], 'id': 'ne_m_4110361_se_13_060_20220818', 'links': [{'href': 'https://planetarycomputer.microsoft.com/api/stac/v1/collections/naip', 'rel': 'collection', 'title': None, 'type': 'application/json'}, {'href': 'https://planetarycomputer.microsoft.com/api/stac/v1/collections/naip', 'rel': 'parent', 'title': None, 'type': 'application/json'}, {'href': 'https://planetarycomputer.microsoft.com/api/stac/v1', 'rel': 'root', 'title': 'Microsoft Planetary Computer STAC API', 'type': 'application/json'}, {'href': 'https://planetarycomputer.microsoft.com/api/stac/v1/collections/naip/items/ne_m_4110361_se_13_060_20220818', 'rel': 'self', 'title': None, 'type': 'application/geo+json'}, {'href': 'https://planetarycomputer.microsoft.com/api/data/v1/item/map?collection=naip&item=ne_m_4110361_se_13_060_20220818', 'rel': 'preview', 'title': 'Map of item', 'type': 'text/html'}], 'assets': {'image': {'eo:bands': [{'common_name': 'red', 'description': None, 'name': 'Red'}, {'common_name': 'green', 'description': None, 'name': 'Green'}, {'common_name': 'blue', 'description': None, 'name': 'Blue'}, {'common_name': 'nir', 'description': 'near-infrared', 'name': 'NIR'}], 'href': './v002/ne/2022/ne_060cm_2022/41103/m_4110361_se_13_060_20220818.tif', 'roles': ['data'], 'title': 'RGBIR COG tile', 'type': 'image/tiff; application=geotiff; profile=cloud-optimized'}, 'rendered_preview': {'href': 'https://planetarycomputer.microsoft.com/api/data/v1/item/preview.png?collection=naip&item=ne_m_4110361_se_13_060_20220818&assets=image&asset_bidx=image%7C1%2C2%2C3&format=png', 'rel': 'preview', 'roles': ['overview'], 'title': 'Rendered preview', 'type': 'image/png'}, 'thumbnail': {'href': 'https://naipeuwest.blob.core.windows.net/naip/v002/ne/2022/ne_060cm_2022/41103/m_4110361_se_13_060_20220818.200.jpg', 'roles': ['thumbnail'], 'title': 'Thumbnail', 'type': 'image/jpeg'}, 'tilejson': {'href': 'https://planetarycomputer.microsoft.com/api/data/v1/item/tilejson.json?collection=naip&item=ne_m_4110361_se_13_060_20220818&assets=image&asset_bidx=image%7C1%2C2%2C3&format=png', 'roles': ['tiles'], 'title': 'TileJSON with default rendering', 'type': 'application/json'}}, 'collection': 'ws-eric.test', 'bbox': [-103.442117, 40.996392, -103.369812, 41.066606], 'geometry': {'type': 'Polygon', 'coordinates': (((-103.371519, 40.996392), (-103.369812, 41.065628), (-103.440484, 41.066606), (-103.442117, 40.997368), (-103.371519, 40.996392)),)}, 'properties': {'providers': [{'name': 'USDA Farm Service Agency', 'roles': ['producer', 'licensor'], 'url': 'https://www.fsa.usda.gov/programs-and-services/aerial-photography/imagery-programs/naip-imagery/'}], 'proj:epsg': 26913, 'datetime': '2022-08-18T16:00:00+00:00', 'proj:shape': [12815, 9900], 'naip:state': 'ne', 'proj:transform': [0.6, 0.0, 631027.8, 0.0, -0.6, 4547322.6, 0.0, 0.0, 1.0], 'proj:centroid': {'lat': 41.0315, 'lon': -103.40598}, 'gsd': 0.6, 'naip:year': '2022', 'proj:bbox': [631027.8, 4539633.6, 636967.8, 4547322.6]}, 'type': 'Feature'}\n",
      "(201) ne_m_4110361_se_13_060_20220818 added to collection ws_eric.test\n",
      "{'bbox': [-103.442117, 40.996392, -103.369812, 41.066606], 'type': 'Feature', 'geometry': {'type': 'Polygon', 'coordinates': [[[-103.371519, 40.996392], [-103.369812, 41.065628], [-103.440484, 41.066606], [-103.442117, 40.997368], [-103.371519, 40.996392]]]}, 'properties': {'datetime': '2022-08-18T16:00:00Z', 'providers': [{'name': 'USDA Farm Service Agency', 'roles': ['producer', 'licensor'], 'url': 'https://www.fsa.usda.gov/programs-and-services/aerial-photography/imagery-programs/naip-imagery/'}], 'gsd': 0.6, 'proj:epsg': 26913, 'proj:shape': [12815, 9900], 'naip:state': 'ne', 'proj:transform': [0.6, 0.0, 631027.8, 0.0, -0.6, 4547322.6, 0.0, 0.0, 1.0], 'proj:centroid': {'lat': 41.0315, 'lon': -103.40598}, 'naip:year': '2022', 'proj:bbox': [631027.8, 4539633.6, 636967.8, 4547322.6]}, 'id': 'ne_m_4110361_se_13_060_20220818', 'stac_version': '1.1.0', 'assets': {'image': {'href': './v002/ne/2022/ne_060cm_2022/41103/m_4110361_se_13_060_20220818.tif', 'type': 'image/tiff; application=geotiff; profile=cloud-optimized', 'title': 'RGBIR COG tile', 'roles': ['data'], 'eo:bands': [{'common_name': 'red', 'description': None, 'name': 'Red'}, {'common_name': 'green', 'description': None, 'name': 'Green'}, {'common_name': 'blue', 'description': None, 'name': 'Blue'}, {'common_name': 'nir', 'description': 'near-infrared', 'name': 'NIR'}]}, 'rendered_preview': {'href': 'https://planetarycomputer.microsoft.com/api/data/v1/item/preview.png?collection=naip&item=ne_m_4110361_se_13_060_20220818&assets=image&asset_bidx=image%7C1%2C2%2C3&format=png', 'type': 'image/png', 'title': 'Rendered preview', 'roles': ['overview'], 'rel': 'preview'}, 'thumbnail': {'href': 'https://naipeuwest.blob.core.windows.net/naip/v002/ne/2022/ne_060cm_2022/41103/m_4110361_se_13_060_20220818.200.jpg', 'type': 'image/jpeg', 'title': 'Thumbnail', 'roles': ['thumbnail']}, 'tilejson': {'href': 'https://planetarycomputer.microsoft.com/api/data/v1/item/tilejson.json?collection=naip&item=ne_m_4110361_se_13_060_20220818&assets=image&asset_bidx=image%7C1%2C2%2C3&format=png', 'type': 'application/json', 'title': 'TileJSON with default rendering', 'roles': ['tiles']}}, 'links': [{'rel': 'collection', 'type': 'application/json', 'href': 'https://eoapi.apx.develop.eoepca.org/stac/collections/ws-eric.test'}, {'rel': 'parent', 'type': 'application/json', 'href': 'https://eoapi.apx.develop.eoepca.org/stac/collections/ws-eric.test'}, {'rel': 'root', 'type': 'application/json', 'href': 'https://eoapi.apx.develop.eoepca.org/stac/'}, {'rel': 'self', 'type': 'application/geo+json', 'href': 'https://eoapi.apx.develop.eoepca.org/stac/collections/ws-eric.test/items/ne_m_4110361_se_13_060_20220818'}, {'href': 'https://planetarycomputer.microsoft.com/api/data/v1/item/map?collection=naip&item=ne_m_4110361_se_13_060_20220818', 'rel': 'preview', 'type': 'text/html', 'title': 'Map of item'}], 'stac_extensions': ['https://stac-extensions.github.io/eo/v1.0.0/schema.json', 'https://stac-extensions.github.io/projection/v1.0.0/schema.json'], 'collection': 'ws-eric.test'}\n",
      "{'stac_version': '1.1.0', 'stac_extensions': ['https://stac-extensions.github.io/eo/v1.0.0/schema.json', 'https://stac-extensions.github.io/projection/v1.0.0/schema.json'], 'id': 'ne_m_4110360_sw_13_060_20220818', 'links': [{'href': 'https://planetarycomputer.microsoft.com/api/stac/v1/collections/naip', 'rel': 'collection', 'title': None, 'type': 'application/json'}, {'href': 'https://planetarycomputer.microsoft.com/api/stac/v1/collections/naip', 'rel': 'parent', 'title': None, 'type': 'application/json'}, {'href': 'https://planetarycomputer.microsoft.com/api/stac/v1', 'rel': 'root', 'title': 'Microsoft Planetary Computer STAC API', 'type': 'application/json'}, {'href': 'https://planetarycomputer.microsoft.com/api/stac/v1/collections/naip/items/ne_m_4110360_sw_13_060_20220818', 'rel': 'self', 'title': None, 'type': 'application/geo+json'}, {'href': 'https://planetarycomputer.microsoft.com/api/data/v1/item/map?collection=naip&item=ne_m_4110360_sw_13_060_20220818', 'rel': 'preview', 'title': 'Map of item', 'type': 'text/html'}], 'assets': {'image': {'eo:bands': [{'common_name': 'red', 'description': None, 'name': 'Red'}, {'common_name': 'green', 'description': None, 'name': 'Green'}, {'common_name': 'blue', 'description': None, 'name': 'Blue'}, {'common_name': 'nir', 'description': 'near-infrared', 'name': 'NIR'}], 'href': './v002/ne/2022/ne_060cm_2022/41103/m_4110360_sw_13_060_20220818.tif', 'roles': ['data'], 'title': 'RGBIR COG tile', 'type': 'image/tiff; application=geotiff; profile=cloud-optimized'}, 'rendered_preview': {'href': 'https://planetarycomputer.microsoft.com/api/data/v1/item/preview.png?collection=naip&item=ne_m_4110360_sw_13_060_20220818&assets=image&asset_bidx=image%7C1%2C2%2C3&format=png', 'rel': 'preview', 'roles': ['overview'], 'title': 'Rendered preview', 'type': 'image/png'}, 'thumbnail': {'href': 'https://naipeuwest.blob.core.windows.net/naip/v002/ne/2022/ne_060cm_2022/41103/m_4110360_sw_13_060_20220818.200.jpg', 'roles': ['thumbnail'], 'title': 'Thumbnail', 'type': 'image/jpeg'}, 'tilejson': {'href': 'https://planetarycomputer.microsoft.com/api/data/v1/item/tilejson.json?collection=naip&item=ne_m_4110360_sw_13_060_20220818&assets=image&asset_bidx=image%7C1%2C2%2C3&format=png', 'roles': ['tiles'], 'title': 'TileJSON with default rendering', 'type': 'application/json'}}, 'collection': 'ws-eric.test', 'bbox': [-103.629932, 40.996482, -103.556998, 41.066511], 'geometry': {'type': 'Polygon', 'coordinates': (((-103.558507, 40.996482), (-103.556998, 41.065638), (-103.628497, 41.066511), (-103.629932, 40.997354), (-103.558507, 40.996482)),)}, 'properties': {'providers': [{'name': 'USDA Farm Service Agency', 'roles': ['producer', 'licensor'], 'url': 'https://www.fsa.usda.gov/programs-and-services/aerial-photography/imagery-programs/naip-imagery/'}], 'proj:epsg': 26913, 'datetime': '2022-08-18T16:00:00+00:00', 'proj:shape': [12799, 10015], 'naip:state': 'ne', 'proj:transform': [0.6, 0.0, 615231.0, 0.0, -0.6, 4547046.6, 0.0, 0.0, 1.0], 'proj:centroid': {'lat': 41.0315, 'lon': -103.59348}, 'gsd': 0.6, 'naip:year': '2022', 'proj:bbox': [615231.0, 4539367.199999999, 621240.0, 4547046.6]}, 'type': 'Feature'}\n",
      "(201) ne_m_4110360_sw_13_060_20220818 added to collection ws_eric.test\n",
      "{'bbox': [-103.629932, 40.996482, -103.556998, 41.066511], 'type': 'Feature', 'geometry': {'type': 'Polygon', 'coordinates': [[[-103.558507, 40.996482], [-103.556998, 41.065638], [-103.628497, 41.066511], [-103.629932, 40.997354], [-103.558507, 40.996482]]]}, 'properties': {'datetime': '2022-08-18T16:00:00Z', 'providers': [{'name': 'USDA Farm Service Agency', 'roles': ['producer', 'licensor'], 'url': 'https://www.fsa.usda.gov/programs-and-services/aerial-photography/imagery-programs/naip-imagery/'}], 'gsd': 0.6, 'proj:epsg': 26913, 'proj:shape': [12799, 10015], 'naip:state': 'ne', 'proj:transform': [0.6, 0.0, 615231.0, 0.0, -0.6, 4547046.6, 0.0, 0.0, 1.0], 'proj:centroid': {'lat': 41.0315, 'lon': -103.59348}, 'naip:year': '2022', 'proj:bbox': [615231.0, 4539367.199999999, 621240.0, 4547046.6]}, 'id': 'ne_m_4110360_sw_13_060_20220818', 'stac_version': '1.1.0', 'assets': {'image': {'href': './v002/ne/2022/ne_060cm_2022/41103/m_4110360_sw_13_060_20220818.tif', 'type': 'image/tiff; application=geotiff; profile=cloud-optimized', 'title': 'RGBIR COG tile', 'roles': ['data'], 'eo:bands': [{'common_name': 'red', 'description': None, 'name': 'Red'}, {'common_name': 'green', 'description': None, 'name': 'Green'}, {'common_name': 'blue', 'description': None, 'name': 'Blue'}, {'common_name': 'nir', 'description': 'near-infrared', 'name': 'NIR'}]}, 'rendered_preview': {'href': 'https://planetarycomputer.microsoft.com/api/data/v1/item/preview.png?collection=naip&item=ne_m_4110360_sw_13_060_20220818&assets=image&asset_bidx=image%7C1%2C2%2C3&format=png', 'type': 'image/png', 'title': 'Rendered preview', 'roles': ['overview'], 'rel': 'preview'}, 'thumbnail': {'href': 'https://naipeuwest.blob.core.windows.net/naip/v002/ne/2022/ne_060cm_2022/41103/m_4110360_sw_13_060_20220818.200.jpg', 'type': 'image/jpeg', 'title': 'Thumbnail', 'roles': ['thumbnail']}, 'tilejson': {'href': 'https://planetarycomputer.microsoft.com/api/data/v1/item/tilejson.json?collection=naip&item=ne_m_4110360_sw_13_060_20220818&assets=image&asset_bidx=image%7C1%2C2%2C3&format=png', 'type': 'application/json', 'title': 'TileJSON with default rendering', 'roles': ['tiles']}}, 'links': [{'rel': 'collection', 'type': 'application/json', 'href': 'https://eoapi.apx.develop.eoepca.org/stac/collections/ws-eric.test'}, {'rel': 'parent', 'type': 'application/json', 'href': 'https://eoapi.apx.develop.eoepca.org/stac/collections/ws-eric.test'}, {'rel': 'root', 'type': 'application/json', 'href': 'https://eoapi.apx.develop.eoepca.org/stac/'}, {'rel': 'self', 'type': 'application/geo+json', 'href': 'https://eoapi.apx.develop.eoepca.org/stac/collections/ws-eric.test/items/ne_m_4110360_sw_13_060_20220818'}, {'href': 'https://planetarycomputer.microsoft.com/api/data/v1/item/map?collection=naip&item=ne_m_4110360_sw_13_060_20220818', 'rel': 'preview', 'type': 'text/html', 'title': 'Map of item'}], 'stac_extensions': ['https://stac-extensions.github.io/eo/v1.0.0/schema.json', 'https://stac-extensions.github.io/projection/v1.0.0/schema.json'], 'collection': 'ws-eric.test'}\n",
      "{'stac_version': '1.1.0', 'stac_extensions': ['https://stac-extensions.github.io/eo/v1.0.0/schema.json', 'https://stac-extensions.github.io/projection/v1.0.0/schema.json'], 'id': 'ne_m_4110360_se_13_060_20220818', 'links': [{'href': 'https://planetarycomputer.microsoft.com/api/stac/v1/collections/naip', 'rel': 'collection', 'title': None, 'type': 'application/json'}, {'href': 'https://planetarycomputer.microsoft.com/api/stac/v1/collections/naip', 'rel': 'parent', 'title': None, 'type': 'application/json'}, {'href': 'https://planetarycomputer.microsoft.com/api/stac/v1', 'rel': 'root', 'title': 'Microsoft Planetary Computer STAC API', 'type': 'application/json'}, {'href': 'https://planetarycomputer.microsoft.com/api/stac/v1/collections/naip/items/ne_m_4110360_se_13_060_20220818', 'rel': 'self', 'title': None, 'type': 'application/geo+json'}, {'href': 'https://planetarycomputer.microsoft.com/api/data/v1/item/map?collection=naip&item=ne_m_4110360_se_13_060_20220818', 'rel': 'preview', 'title': 'Map of item', 'type': 'text/html'}], 'assets': {'image': {'eo:bands': [{'common_name': 'red', 'description': None, 'name': 'Red'}, {'common_name': 'green', 'description': None, 'name': 'Green'}, {'common_name': 'blue', 'description': None, 'name': 'Blue'}, {'common_name': 'nir', 'description': 'near-infrared', 'name': 'NIR'}], 'href': './v002/ne/2022/ne_060cm_2022/41103/m_4110360_se_13_060_20220818.tif', 'roles': ['data'], 'title': 'RGBIR COG tile', 'type': 'image/tiff; application=geotiff; profile=cloud-optimized'}, 'rendered_preview': {'href': 'https://planetarycomputer.microsoft.com/api/data/v1/item/preview.png?collection=naip&item=ne_m_4110360_se_13_060_20220818&assets=image&asset_bidx=image%7C1%2C2%2C3&format=png', 'rel': 'preview', 'roles': ['overview'], 'title': 'Rendered preview', 'type': 'image/png'}, 'thumbnail': {'href': 'https://naipeuwest.blob.core.windows.net/naip/v002/ne/2022/ne_060cm_2022/41103/m_4110360_se_13_060_20220818.200.jpg', 'roles': ['thumbnail'], 'title': 'Thumbnail', 'type': 'image/jpeg'}, 'tilejson': {'href': 'https://planetarycomputer.microsoft.com/api/data/v1/item/tilejson.json?collection=naip&item=ne_m_4110360_se_13_060_20220818&assets=image&asset_bidx=image%7C1%2C2%2C3&format=png', 'roles': ['tiles'], 'title': 'TileJSON with default rendering', 'type': 'application/json'}}, 'collection': 'ws-eric.test', 'bbox': [-103.566992, 40.996458, -103.494936, 41.066533], 'geometry': {'type': 'Polygon', 'coordinates': (((-103.49651, 40.996458), (-103.494936, 41.065633), (-103.56549, 41.066533), (-103.566992, 40.997356), (-103.49651, 40.996458)),)}, 'properties': {'providers': [{'name': 'USDA Farm Service Agency', 'roles': ['producer', 'licensor'], 'url': 'https://www.fsa.usda.gov/programs-and-services/aerial-photography/imagery-programs/naip-imagery/'}], 'proj:epsg': 26913, 'datetime': '2022-08-18T16:00:00+00:00', 'proj:shape': [12803, 9883], 'naip:state': 'ne', 'proj:transform': [0.6, 0.0, 620524.8, 0.0, -0.6, 4547134.2, 0.0, 0.0, 1.0], 'proj:centroid': {'lat': 41.0315, 'lon': -103.53098}, 'gsd': 0.6, 'naip:year': '2022', 'proj:bbox': [620524.8, 4539452.4, 626454.6000000001, 4547134.2]}, 'type': 'Feature'}\n",
      "(201) ne_m_4110360_se_13_060_20220818 added to collection ws_eric.test\n",
      "{'bbox': [-103.566992, 40.996458, -103.494936, 41.066533], 'type': 'Feature', 'geometry': {'type': 'Polygon', 'coordinates': [[[-103.49651, 40.996458], [-103.494936, 41.065633], [-103.56549, 41.066533], [-103.566992, 40.997356], [-103.49651, 40.996458]]]}, 'properties': {'datetime': '2022-08-18T16:00:00Z', 'providers': [{'name': 'USDA Farm Service Agency', 'roles': ['producer', 'licensor'], 'url': 'https://www.fsa.usda.gov/programs-and-services/aerial-photography/imagery-programs/naip-imagery/'}], 'gsd': 0.6, 'proj:epsg': 26913, 'proj:shape': [12803, 9883], 'naip:state': 'ne', 'proj:transform': [0.6, 0.0, 620524.8, 0.0, -0.6, 4547134.2, 0.0, 0.0, 1.0], 'proj:centroid': {'lat': 41.0315, 'lon': -103.53098}, 'naip:year': '2022', 'proj:bbox': [620524.8, 4539452.4, 626454.6000000001, 4547134.2]}, 'id': 'ne_m_4110360_se_13_060_20220818', 'stac_version': '1.1.0', 'assets': {'image': {'href': './v002/ne/2022/ne_060cm_2022/41103/m_4110360_se_13_060_20220818.tif', 'type': 'image/tiff; application=geotiff; profile=cloud-optimized', 'title': 'RGBIR COG tile', 'roles': ['data'], 'eo:bands': [{'common_name': 'red', 'description': None, 'name': 'Red'}, {'common_name': 'green', 'description': None, 'name': 'Green'}, {'common_name': 'blue', 'description': None, 'name': 'Blue'}, {'common_name': 'nir', 'description': 'near-infrared', 'name': 'NIR'}]}, 'rendered_preview': {'href': 'https://planetarycomputer.microsoft.com/api/data/v1/item/preview.png?collection=naip&item=ne_m_4110360_se_13_060_20220818&assets=image&asset_bidx=image%7C1%2C2%2C3&format=png', 'type': 'image/png', 'title': 'Rendered preview', 'roles': ['overview'], 'rel': 'preview'}, 'thumbnail': {'href': 'https://naipeuwest.blob.core.windows.net/naip/v002/ne/2022/ne_060cm_2022/41103/m_4110360_se_13_060_20220818.200.jpg', 'type': 'image/jpeg', 'title': 'Thumbnail', 'roles': ['thumbnail']}, 'tilejson': {'href': 'https://planetarycomputer.microsoft.com/api/data/v1/item/tilejson.json?collection=naip&item=ne_m_4110360_se_13_060_20220818&assets=image&asset_bidx=image%7C1%2C2%2C3&format=png', 'type': 'application/json', 'title': 'TileJSON with default rendering', 'roles': ['tiles']}}, 'links': [{'rel': 'collection', 'type': 'application/json', 'href': 'https://eoapi.apx.develop.eoepca.org/stac/collections/ws-eric.test'}, {'rel': 'parent', 'type': 'application/json', 'href': 'https://eoapi.apx.develop.eoepca.org/stac/collections/ws-eric.test'}, {'rel': 'root', 'type': 'application/json', 'href': 'https://eoapi.apx.develop.eoepca.org/stac/'}, {'rel': 'self', 'type': 'application/geo+json', 'href': 'https://eoapi.apx.develop.eoepca.org/stac/collections/ws-eric.test/items/ne_m_4110360_se_13_060_20220818'}, {'href': 'https://planetarycomputer.microsoft.com/api/data/v1/item/map?collection=naip&item=ne_m_4110360_se_13_060_20220818', 'rel': 'preview', 'type': 'text/html', 'title': 'Map of item'}], 'stac_extensions': ['https://stac-extensions.github.io/eo/v1.0.0/schema.json', 'https://stac-extensions.github.io/projection/v1.0.0/schema.json'], 'collection': 'ws-eric.test'}\n",
      "{'stac_version': '1.1.0', 'stac_extensions': ['https://stac-extensions.github.io/eo/v1.0.0/schema.json', 'https://stac-extensions.github.io/projection/v1.0.0/schema.json'], 'id': 'ne_m_4110359_sw_13_060_20220818', 'links': [{'href': 'https://planetarycomputer.microsoft.com/api/stac/v1/collections/naip', 'rel': 'collection', 'title': None, 'type': 'application/json'}, {'href': 'https://planetarycomputer.microsoft.com/api/stac/v1/collections/naip', 'rel': 'parent', 'title': None, 'type': 'application/json'}, {'href': 'https://planetarycomputer.microsoft.com/api/stac/v1', 'rel': 'root', 'title': 'Microsoft Planetary Computer STAC API', 'type': 'application/json'}, {'href': 'https://planetarycomputer.microsoft.com/api/stac/v1/collections/naip/items/ne_m_4110359_sw_13_060_20220818', 'rel': 'self', 'title': None, 'type': 'application/geo+json'}, {'href': 'https://planetarycomputer.microsoft.com/api/data/v1/item/map?collection=naip&item=ne_m_4110359_sw_13_060_20220818', 'rel': 'preview', 'title': 'Map of item', 'type': 'text/html'}], 'assets': {'image': {'eo:bands': [{'common_name': 'red', 'description': None, 'name': 'Red'}, {'common_name': 'green', 'description': None, 'name': 'Green'}, {'common_name': 'blue', 'description': None, 'name': 'Blue'}, {'common_name': 'nir', 'description': 'near-infrared', 'name': 'NIR'}], 'href': './v002/ne/2022/ne_060cm_2022/41103/m_4110359_sw_13_060_20220818.tif', 'roles': ['data'], 'title': 'RGBIR COG tile', 'type': 'image/tiff; application=geotiff; profile=cloud-optimized'}, 'rendered_preview': {'href': 'https://planetarycomputer.microsoft.com/api/data/v1/item/preview.png?collection=naip&item=ne_m_4110359_sw_13_060_20220818&assets=image&asset_bidx=image%7C1%2C2%2C3&format=png', 'rel': 'preview', 'roles': ['overview'], 'title': 'Rendered preview', 'type': 'image/png'}, 'thumbnail': {'href': 'https://naipeuwest.blob.core.windows.net/naip/v002/ne/2022/ne_060cm_2022/41103/m_4110359_sw_13_060_20220818.200.jpg', 'roles': ['thumbnail'], 'title': 'Thumbnail', 'type': 'image/jpeg'}, 'tilejson': {'href': 'https://planetarycomputer.microsoft.com/api/data/v1/item/tilejson.json?collection=naip&item=ne_m_4110359_sw_13_060_20220818&assets=image&asset_bidx=image%7C1%2C2%2C3&format=png', 'roles': ['tiles'], 'title': 'TileJSON with default rendering', 'type': 'application/json'}}, 'collection': 'ws-eric.test', 'bbox': [-103.754807, 40.996557, -103.682123, 41.06644], 'geometry': {'type': 'Polygon', 'coordinates': (((-103.6835, 40.996557), (-103.682123, 41.065645), (-103.753504, 41.06644), (-103.754807, 40.997349), (-103.6835, 40.996557)),)}, 'properties': {'providers': [{'name': 'USDA Farm Service Agency', 'roles': ['producer', 'licensor'], 'url': 'https://www.fsa.usda.gov/programs-and-services/aerial-photography/imagery-programs/naip-imagery/'}], 'proj:epsg': 26913, 'datetime': '2022-08-18T16:00:00+00:00', 'proj:shape': [12786, 9998], 'naip:state': 'ne', 'proj:transform': [0.6, 0.0, 604728.0, 0.0, -0.6, 4546881.0, 0.0, 0.0, 1.0], 'proj:centroid': {'lat': 41.0315, 'lon': -103.71848}, 'gsd': 0.6, 'naip:year': '2022', 'proj:bbox': [604728.0, 4539209.4, 610726.8, 4546881.0]}, 'type': 'Feature'}\n",
      "(201) ne_m_4110359_sw_13_060_20220818 added to collection ws_eric.test\n",
      "{'bbox': [-103.754807, 40.996557, -103.682123, 41.06644], 'type': 'Feature', 'geometry': {'type': 'Polygon', 'coordinates': [[[-103.6835, 40.996557], [-103.682123, 41.065645], [-103.753504, 41.06644], [-103.754807, 40.997349], [-103.6835, 40.996557]]]}, 'properties': {'datetime': '2022-08-18T16:00:00Z', 'providers': [{'name': 'USDA Farm Service Agency', 'roles': ['producer', 'licensor'], 'url': 'https://www.fsa.usda.gov/programs-and-services/aerial-photography/imagery-programs/naip-imagery/'}], 'gsd': 0.6, 'proj:epsg': 26913, 'proj:shape': [12786, 9998], 'naip:state': 'ne', 'proj:transform': [0.6, 0.0, 604728.0, 0.0, -0.6, 4546881.0, 0.0, 0.0, 1.0], 'proj:centroid': {'lat': 41.0315, 'lon': -103.71848}, 'naip:year': '2022', 'proj:bbox': [604728.0, 4539209.4, 610726.8, 4546881.0]}, 'id': 'ne_m_4110359_sw_13_060_20220818', 'stac_version': '1.1.0', 'assets': {'image': {'href': './v002/ne/2022/ne_060cm_2022/41103/m_4110359_sw_13_060_20220818.tif', 'type': 'image/tiff; application=geotiff; profile=cloud-optimized', 'title': 'RGBIR COG tile', 'roles': ['data'], 'eo:bands': [{'common_name': 'red', 'description': None, 'name': 'Red'}, {'common_name': 'green', 'description': None, 'name': 'Green'}, {'common_name': 'blue', 'description': None, 'name': 'Blue'}, {'common_name': 'nir', 'description': 'near-infrared', 'name': 'NIR'}]}, 'rendered_preview': {'href': 'https://planetarycomputer.microsoft.com/api/data/v1/item/preview.png?collection=naip&item=ne_m_4110359_sw_13_060_20220818&assets=image&asset_bidx=image%7C1%2C2%2C3&format=png', 'type': 'image/png', 'title': 'Rendered preview', 'roles': ['overview'], 'rel': 'preview'}, 'thumbnail': {'href': 'https://naipeuwest.blob.core.windows.net/naip/v002/ne/2022/ne_060cm_2022/41103/m_4110359_sw_13_060_20220818.200.jpg', 'type': 'image/jpeg', 'title': 'Thumbnail', 'roles': ['thumbnail']}, 'tilejson': {'href': 'https://planetarycomputer.microsoft.com/api/data/v1/item/tilejson.json?collection=naip&item=ne_m_4110359_sw_13_060_20220818&assets=image&asset_bidx=image%7C1%2C2%2C3&format=png', 'type': 'application/json', 'title': 'TileJSON with default rendering', 'roles': ['tiles']}}, 'links': [{'rel': 'collection', 'type': 'application/json', 'href': 'https://eoapi.apx.develop.eoepca.org/stac/collections/ws-eric.test'}, {'rel': 'parent', 'type': 'application/json', 'href': 'https://eoapi.apx.develop.eoepca.org/stac/collections/ws-eric.test'}, {'rel': 'root', 'type': 'application/json', 'href': 'https://eoapi.apx.develop.eoepca.org/stac/'}, {'rel': 'self', 'type': 'application/geo+json', 'href': 'https://eoapi.apx.develop.eoepca.org/stac/collections/ws-eric.test/items/ne_m_4110359_sw_13_060_20220818'}, {'href': 'https://planetarycomputer.microsoft.com/api/data/v1/item/map?collection=naip&item=ne_m_4110359_sw_13_060_20220818', 'rel': 'preview', 'type': 'text/html', 'title': 'Map of item'}], 'stac_extensions': ['https://stac-extensions.github.io/eo/v1.0.0/schema.json', 'https://stac-extensions.github.io/projection/v1.0.0/schema.json'], 'collection': 'ws-eric.test'}\n",
      "{'stac_version': '1.1.0', 'stac_extensions': ['https://stac-extensions.github.io/eo/v1.0.0/schema.json', 'https://stac-extensions.github.io/projection/v1.0.0/schema.json'], 'id': 'ne_m_4110359_se_13_060_20220818', 'links': [{'href': 'https://planetarycomputer.microsoft.com/api/stac/v1/collections/naip', 'rel': 'collection', 'title': None, 'type': 'application/json'}, {'href': 'https://planetarycomputer.microsoft.com/api/stac/v1/collections/naip', 'rel': 'parent', 'title': None, 'type': 'application/json'}, {'href': 'https://planetarycomputer.microsoft.com/api/stac/v1', 'rel': 'root', 'title': 'Microsoft Planetary Computer STAC API', 'type': 'application/json'}, {'href': 'https://planetarycomputer.microsoft.com/api/stac/v1/collections/naip/items/ne_m_4110359_se_13_060_20220818', 'rel': 'self', 'title': None, 'type': 'application/geo+json'}, {'href': 'https://planetarycomputer.microsoft.com/api/data/v1/item/map?collection=naip&item=ne_m_4110359_se_13_060_20220818', 'rel': 'preview', 'title': 'Map of item', 'type': 'text/html'}], 'assets': {'image': {'eo:bands': [{'common_name': 'red', 'description': None, 'name': 'Red'}, {'common_name': 'green', 'description': None, 'name': 'Green'}, {'common_name': 'blue', 'description': None, 'name': 'Blue'}, {'common_name': 'nir', 'description': 'near-infrared', 'name': 'NIR'}], 'href': './v002/ne/2022/ne_060cm_2022/41103/m_4110359_se_13_060_20220818.tif', 'roles': ['data'], 'title': 'RGBIR COG tile', 'type': 'image/tiff; application=geotiff; profile=cloud-optimized'}, 'rendered_preview': {'href': 'https://planetarycomputer.microsoft.com/api/data/v1/item/preview.png?collection=naip&item=ne_m_4110359_se_13_060_20220818&assets=image&asset_bidx=image%7C1%2C2%2C3&format=png', 'rel': 'preview', 'roles': ['overview'], 'title': 'Rendered preview', 'type': 'image/png'}, 'thumbnail': {'href': 'https://naipeuwest.blob.core.windows.net/naip/v002/ne/2022/ne_060cm_2022/41103/m_4110359_se_13_060_20220818.200.jpg', 'roles': ['thumbnail'], 'title': 'Thumbnail', 'type': 'image/jpeg'}, 'tilejson': {'href': 'https://planetarycomputer.microsoft.com/api/data/v1/item/tilejson.json?collection=naip&item=ne_m_4110359_se_13_060_20220818&assets=image&asset_bidx=image%7C1%2C2%2C3&format=png', 'roles': ['tiles'], 'title': 'TileJSON with default rendering', 'type': 'application/json'}}, 'collection': 'ws-eric.test', 'bbox': [-103.691866, 40.996529, -103.62006, 41.066465], 'geometry': {'type': 'Polygon', 'coordinates': (((-103.621503, 40.996529), (-103.62006, 41.065643), (-103.690497, 41.066465), (-103.691866, 40.997349), (-103.621503, 40.996529)),)}, 'properties': {'providers': [{'name': 'USDA Farm Service Agency', 'roles': ['producer', 'licensor'], 'url': 'https://www.fsa.usda.gov/programs-and-services/aerial-photography/imagery-programs/naip-imagery/'}], 'proj:epsg': 26913, 'datetime': '2022-08-18T16:00:00+00:00', 'proj:shape': [12791, 9866], 'naip:state': 'ne', 'proj:transform': [0.6, 0.0, 610021.8, 0.0, -0.6, 4546961.4, 0.0, 0.0, 1.0], 'proj:centroid': {'lat': 41.0315, 'lon': -103.65598}, 'gsd': 0.6, 'naip:year': '2022', 'proj:bbox': [610021.8, 4539286.800000001, 615941.4, 4546961.4]}, 'type': 'Feature'}\n",
      "(201) ne_m_4110359_se_13_060_20220818 added to collection ws_eric.test\n",
      "{'bbox': [-103.691866, 40.996529, -103.62006, 41.066465], 'type': 'Feature', 'geometry': {'type': 'Polygon', 'coordinates': [[[-103.621503, 40.996529], [-103.62006, 41.065643], [-103.690497, 41.066465], [-103.691866, 40.997349], [-103.621503, 40.996529]]]}, 'properties': {'datetime': '2022-08-18T16:00:00Z', 'providers': [{'name': 'USDA Farm Service Agency', 'roles': ['producer', 'licensor'], 'url': 'https://www.fsa.usda.gov/programs-and-services/aerial-photography/imagery-programs/naip-imagery/'}], 'gsd': 0.6, 'proj:epsg': 26913, 'proj:shape': [12791, 9866], 'naip:state': 'ne', 'proj:transform': [0.6, 0.0, 610021.8, 0.0, -0.6, 4546961.4, 0.0, 0.0, 1.0], 'proj:centroid': {'lat': 41.0315, 'lon': -103.65598}, 'naip:year': '2022', 'proj:bbox': [610021.8, 4539286.800000001, 615941.4, 4546961.4]}, 'id': 'ne_m_4110359_se_13_060_20220818', 'stac_version': '1.1.0', 'assets': {'image': {'href': './v002/ne/2022/ne_060cm_2022/41103/m_4110359_se_13_060_20220818.tif', 'type': 'image/tiff; application=geotiff; profile=cloud-optimized', 'title': 'RGBIR COG tile', 'roles': ['data'], 'eo:bands': [{'common_name': 'red', 'description': None, 'name': 'Red'}, {'common_name': 'green', 'description': None, 'name': 'Green'}, {'common_name': 'blue', 'description': None, 'name': 'Blue'}, {'common_name': 'nir', 'description': 'near-infrared', 'name': 'NIR'}]}, 'rendered_preview': {'href': 'https://planetarycomputer.microsoft.com/api/data/v1/item/preview.png?collection=naip&item=ne_m_4110359_se_13_060_20220818&assets=image&asset_bidx=image%7C1%2C2%2C3&format=png', 'type': 'image/png', 'title': 'Rendered preview', 'roles': ['overview'], 'rel': 'preview'}, 'thumbnail': {'href': 'https://naipeuwest.blob.core.windows.net/naip/v002/ne/2022/ne_060cm_2022/41103/m_4110359_se_13_060_20220818.200.jpg', 'type': 'image/jpeg', 'title': 'Thumbnail', 'roles': ['thumbnail']}, 'tilejson': {'href': 'https://planetarycomputer.microsoft.com/api/data/v1/item/tilejson.json?collection=naip&item=ne_m_4110359_se_13_060_20220818&assets=image&asset_bidx=image%7C1%2C2%2C3&format=png', 'type': 'application/json', 'title': 'TileJSON with default rendering', 'roles': ['tiles']}}, 'links': [{'rel': 'collection', 'type': 'application/json', 'href': 'https://eoapi.apx.develop.eoepca.org/stac/collections/ws-eric.test'}, {'rel': 'parent', 'type': 'application/json', 'href': 'https://eoapi.apx.develop.eoepca.org/stac/collections/ws-eric.test'}, {'rel': 'root', 'type': 'application/json', 'href': 'https://eoapi.apx.develop.eoepca.org/stac/'}, {'rel': 'self', 'type': 'application/geo+json', 'href': 'https://eoapi.apx.develop.eoepca.org/stac/collections/ws-eric.test/items/ne_m_4110359_se_13_060_20220818'}, {'href': 'https://planetarycomputer.microsoft.com/api/data/v1/item/map?collection=naip&item=ne_m_4110359_se_13_060_20220818', 'rel': 'preview', 'type': 'text/html', 'title': 'Map of item'}], 'stac_extensions': ['https://stac-extensions.github.io/eo/v1.0.0/schema.json', 'https://stac-extensions.github.io/projection/v1.0.0/schema.json'], 'collection': 'ws-eric.test'}\n"
     ]
    }
   ],
   "source": [
    "def convert_ndarray(obj):\n",
    "    if isinstance(obj, np.ndarray):\n",
    "        return obj.tolist()\n",
    "    elif isinstance(obj, pd.Timestamp):\n",
    "        return obj.isoformat()\n",
    "    elif isinstance(obj, dict):\n",
    "        return {k: convert_ndarray(v) for k, v in obj.items()}\n",
    "    elif isinstance(obj, list):\n",
    "        return [convert_ndarray(i) for i in obj]\n",
    "    else:\n",
    "        return obj\n",
    "\n",
    "for row in df.to_dict(orient=\"records\"):\n",
    "    # Convert geometry from WKB bytes to shapely geometry\n",
    "    if isinstance(row.get(\"geometry\"), bytes):\n",
    "        row[\"geometry\"] = wkb.loads(row[\"geometry\"])\n",
    "    dict_item = stac_geoparquet.to_dict(row)\n",
    "    dict_item['collection'] = 'ws-eric.test'\n",
    "    # for link in dict_item[\"links\"]:\n",
    "    #     link[\"href\"] = link[\"href\"].replace(\"https://planetarycomputer.microsoft.com/api/stac/v1\", f\"{STAC_API_URL}\")\n",
    "\n",
    "    # Convert all numpy arrays to lists for JSON serialization\n",
    "    dict_item = convert_ndarray(dict_item)\n",
    "\n",
    "    dict_item['bbox'] = [\n",
    "        dict_item['bbox']['xmin'],\n",
    "        dict_item['bbox']['ymin'],\n",
    "        dict_item['bbox']['xmax'],\n",
    "        dict_item['bbox']['ymax'],\n",
    "        ]\n",
    "\n",
    "    dict_item['type'] = \"Feature\"\n",
    "    dict_item['assets']['thumbnail']['href'] = dict_item['assets']['thumbnail']['href'].replace(\"./\", \"https://naipeuwest.blob.core.windows.net/naip/\")\n",
    "\n",
    "    print(dict_item)\n",
    "    response = requests.post(\n",
    "        f\"{stac_endpoint}/collections/ws-eric.test/items\",\n",
    "        json=dict_item,\n",
    "        headers={\"Authorization\": f\"Bearer {token_admin}\"}\n",
    "    )\n",
    "    print(f\"({response.status_code}) {dict_item['id']} added to collection ws_eric.test\")\n",
    "    print(response.json())"
   ]
  },
  {
   "cell_type": "code",
   "execution_count": 28,
   "id": "5d6937b8-25ef-452d-8689-5d52bde5a97c",
   "metadata": {},
   "outputs": [],
   "source": [
    "# now check in https://eoapi.apx.develop.eoepca.org/manager/collections and see Eric's Test Collection"
   ]
  },
  {
   "cell_type": "code",
   "execution_count": 29,
   "id": "683ca9ed-bcd4-430a-8475-13af12139ba8",
   "metadata": {},
   "outputs": [
    {
     "name": "stdout",
     "output_type": "stream",
     "text": [
      "(200) Collection ws-eric.test deleted successfully.\n"
     ]
    }
   ],
   "source": [
    "# cleanup\n",
    "collections_to_delete = [\"ws-eric.test\"]\n",
    "for collection in collections_to_delete:\n",
    "    response = requests.delete(f\"{stac_endpoint}/collections/{collection}\", headers={\"Authorization\": f\"Bearer {token_admin}\"})\n",
    "    if response.status_code > 204:\n",
    "        print(f\"Error deleting collection {collection}: {response.status_code} - {response.text}\")\n",
    "        continue\n",
    "    else:\n",
    "        print(f\"({response.status_code}) Collection {collection} deleted successfully.\")"
   ]
  },
  {
   "cell_type": "code",
   "execution_count": null,
   "id": "0481d4e0-b6ae-4504-901d-976a5b331745",
   "metadata": {},
   "outputs": [],
   "source": []
  }
 ],
 "metadata": {
  "kernelspec": {
   "display_name": "Python 3 (ipykernel)",
   "language": "python",
   "name": "python3"
  },
  "language_info": {
   "codemirror_mode": {
    "name": "ipython",
    "version": 3
   },
   "file_extension": ".py",
   "mimetype": "text/x-python",
   "name": "python",
   "nbconvert_exporter": "python",
   "pygments_lexer": "ipython3",
   "version": "3.11.11"
  }
 },
 "nbformat": 4,
 "nbformat_minor": 5
}
