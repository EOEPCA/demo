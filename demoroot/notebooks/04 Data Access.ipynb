{
 "cells": [
  {
   "cell_type": "markdown",
   "id": "788a6dc1-ec4c-48aa-a3b8-d0de349c418a",
   "metadata": {},
   "source": [
    "## Data Access demo"
   ]
  },
  {
   "cell_type": "markdown",
   "id": "aec1b1dc-caad-4fde-862b-4fd0f4136a30",
   "metadata": {},
   "source": [
    "## Data Access v1"
   ]
  },
  {
   "cell_type": "markdown",
   "id": "88d55bcb-6eba-4ac3-af24-67c5d286921f",
   "metadata": {},
   "source": [
    "[OWSLib](https://geopython.github.io/OWSLib) is a Python package for client programming with Open Geospatial Consortium (OGC) web service (hence OWS) interface standards, and their related content models. In this demo we’ll work with the CSW, WMS and WCS interfaces."
   ]
  },
  {
   "cell_type": "code",
   "execution_count": 6,
   "id": "bfc4d810-e4c0-42a4-9af7-d1290e510671",
   "metadata": {},
   "outputs": [],
   "source": [
    "from owslib.csw import CatalogueServiceWeb\n",
    "from owslib.wms import WebMapService\n",
    "from owslib.wcs import WebCoverageService\n",
    "import lxml.etree\n",
    "import requests\n",
    "from tifffile import imread\n",
    "from io import BytesIO, StringIO"
   ]
  },
  {
   "cell_type": "markdown",
   "id": "a23a0f74-e8d4-4996-bf7c-dc4f373a0263",
   "metadata": {},
   "source": [
    "### Data Discovery"
   ]
  },
  {
   "cell_type": "markdown",
   "id": "a4e2ded5-4098-40b5-b1f9-43c5ee595a19",
   "metadata": {},
   "source": [
    "The user has already discovered the dataset to use by using the OWSLib CSW client"
   ]
  },
  {
   "cell_type": "code",
   "execution_count": null,
   "id": "ffb9ad53-8f9f-40ef-bb9f-fc2a3df9e852",
   "metadata": {},
   "outputs": [],
   "source": [
    "base_domain = \"develop.eoepca.org\"\n",
    "workspace_prefix = \"ws\"\n",
    "system_endpoint = f'https://resource-catalogue.{base_domain}/csw'"
   ]
  },
  {
   "cell_type": "code",
   "execution_count": null,
   "id": "fbf34343-f261-4e0e-a9a2-77c33c3c209e",
   "metadata": {},
   "outputs": [],
   "source": [
    "csw = CatalogueServiceWeb(system_endpoint,timeout=30)"
   ]
  },
  {
   "cell_type": "code",
   "execution_count": null,
   "id": "e77e8868-8dad-4e89-845f-1aabecfb608a",
   "metadata": {},
   "outputs": [],
   "source": [
    "scene_id=\"S2B_MSIL2A_20190910T095029_N0500_R079_T33TXN_20230430T083712.SAFE\""
   ]
  },
  {
   "cell_type": "code",
   "execution_count": null,
   "id": "1bdb298b-6c51-4b64-888c-1209eeb04bdc",
   "metadata": {},
   "outputs": [],
   "source": [
    "csw.getrecordbyid(id=[scene_id])"
   ]
  },
  {
   "cell_type": "code",
   "execution_count": null,
   "id": "50132833-1859-4275-b927-c3d8bc2e1652",
   "metadata": {},
   "outputs": [],
   "source": [
    "links = csw.records[scene_id].references"
   ]
  },
  {
   "cell_type": "code",
   "execution_count": null,
   "id": "1db7fe6a-ff76-4293-bd11-78b9e969e97a",
   "metadata": {},
   "outputs": [],
   "source": [
    "for link in links:\n",
    "    scheme = link['scheme']\n",
    "    if scheme and 'WMS' in scheme:\n",
    "        wms_endpoint=link['url']\n",
    "        print(link['url'])"
   ]
  },
  {
   "cell_type": "markdown",
   "id": "1c637632-a9df-4675-b848-3cf972d0db56",
   "metadata": {},
   "source": [
    "### Data Visualization"
   ]
  },
  {
   "cell_type": "markdown",
   "id": "014dbb9a-0456-4bb0-8d27-03d221f86fcc",
   "metadata": {},
   "source": [
    "After discovering the dataset, the user can identify the WMS link and use the OWSLib WMs client to visualize the dataset"
   ]
  },
  {
   "cell_type": "code",
   "execution_count": null,
   "id": "21f7e4ca-08b7-4322-b927-16a169a0c9e6",
   "metadata": {},
   "outputs": [],
   "source": [
    "wms = WebMapService(wms_endpoint, version='1.3.0')"
   ]
  },
  {
   "cell_type": "markdown",
   "id": "84b197f6-8bf5-4f6c-b515-5e9785fb5380",
   "metadata": {},
   "source": [
    "The list of layers available to the WMS service:"
   ]
  },
  {
   "cell_type": "code",
   "execution_count": null,
   "id": "2118d6f4-1691-4d52-8893-f15c1810c394",
   "metadata": {},
   "outputs": [],
   "source": [
    "list(wms.contents)"
   ]
  },
  {
   "cell_type": "markdown",
   "id": "66364a99-a19a-4226-b7c1-bf4864eed492",
   "metadata": {},
   "source": [
    "Along with some WMS layer metadata:"
   ]
  },
  {
   "cell_type": "code",
   "execution_count": null,
   "id": "bd3ebb32-91fb-4799-9d34-3988fc86960c",
   "metadata": {},
   "outputs": [],
   "source": [
    "wms[scene_id].title"
   ]
  },
  {
   "cell_type": "code",
   "execution_count": null,
   "id": "56ce9bc3-84d4-4f1c-9b4a-a4469bd92ca4",
   "metadata": {},
   "outputs": [],
   "source": [
    "wms[scene_id].boundingBoxWGS84"
   ]
  },
  {
   "cell_type": "code",
   "execution_count": null,
   "id": "fd2ad968-25d5-46f7-bc13-92a49a3eba55",
   "metadata": {},
   "outputs": [],
   "source": [
    "[op.name for op in wms.operations]"
   ]
  },
  {
   "cell_type": "code",
   "execution_count": null,
   "id": "f24b8ddd-bfb5-4bc3-814c-eb385e8f8de4",
   "metadata": {},
   "outputs": [],
   "source": [
    "wms[scene_id].styles"
   ]
  },
  {
   "cell_type": "code",
   "execution_count": null,
   "id": "2739a43b-9848-4f63-821a-982aac96871c",
   "metadata": {},
   "outputs": [],
   "source": [
    "wms.getOperationByName('GetMap').formatOptions"
   ]
  },
  {
   "cell_type": "markdown",
   "id": "c169650b-9a81-4922-999c-cf8ff158b40c",
   "metadata": {},
   "source": [
    "The user can visualize the WMS GetMap request from matplotlib"
   ]
  },
  {
   "cell_type": "code",
   "execution_count": null,
   "id": "96523864-81cb-4ce8-a4d2-d8b23b632b3e",
   "metadata": {},
   "outputs": [],
   "source": [
    "%matplotlib inline\n",
    "import os, sys\n",
    "import matplotlib.image as mpimg\n",
    "import matplotlib.pyplot as plt\n",
    "\n",
    "def getMap(wms,layerName,bbox,filename,style=None):\n",
    "    wms.getOperationByName('GetMap').formatOptions\n",
    "    img = wms.getmap(layers=[layerName],\n",
    "                 styles=[style] if style is not None else None,\n",
    "                 size=(600,300),\n",
    "                 srs='EPSG:4326',\n",
    "                 bbox=bbox,\n",
    "                 format='image/png',\n",
    "                 transparent=True)\n",
    "\n",
    "    tmpfile = open(filename,'wb')\n",
    "    tmpfile.write(img.read())\n",
    "    tmpfile.close()"
   ]
  },
  {
   "cell_type": "code",
   "execution_count": null,
   "id": "4dc25083-e659-4688-a635-3be51d25a742",
   "metadata": {},
   "outputs": [],
   "source": [
    "getMap(wms,f\"{scene_id}__TRUE_COLOR\",wms[scene_id].boundingBoxWGS84, 'rgb.png')\n",
    "image1=mpimg.imread('rgb.png')\n",
    "fig = plt.figure(figsize=(12,7))\n",
    "img1=plt.imshow(image1,extent=wms[scene_id].boundingBoxWGS84,aspect='auto')\n",
    "plt.show()"
   ]
  },
  {
   "cell_type": "markdown",
   "id": "aa30c819-2a76-4db5-afeb-139ffd523085",
   "metadata": {},
   "source": [
    "False color composite using Near Infrared, Red, Green Bands"
   ]
  },
  {
   "cell_type": "code",
   "execution_count": null,
   "id": "98f5d6a8-4c26-48b6-ad61-6db9920595b0",
   "metadata": {},
   "outputs": [],
   "source": [
    "getMap(wms,f\"{scene_id}__FALSE_COLOR\",wms[scene_id].boundingBoxWGS84, 'nirrg.png')\n",
    "image1=mpimg.imread('nirrg.png')\n",
    "fig = plt.figure(figsize=(12,7))\n",
    "img1=plt.imshow(image1,extent=wms[scene_id].boundingBoxWGS84,aspect='auto')\n",
    "plt.show()"
   ]
  },
  {
   "cell_type": "code",
   "execution_count": null,
   "id": "3a303ec1-c504-4cef-8c96-1381ddcc3040",
   "metadata": {},
   "outputs": [],
   "source": [
    "getMap(wms,f\"{scene_id}__NDVI\",wms[scene_id].boundingBoxWGS84, 'ndvi.png', style='summer')\n",
    "image1=mpimg.imread('ndvi.png')\n",
    "fig = plt.figure(figsize=(12,7))\n",
    "img1=plt.imshow(image1,extent=wms[scene_id].boundingBoxWGS84,aspect='auto')\n",
    "plt.show()"
   ]
  },
  {
   "cell_type": "code",
   "execution_count": null,
   "id": "ed686f05-d0ce-47e9-8060-539b3396930a",
   "metadata": {},
   "outputs": [],
   "source": [
    "getMap(wms,f\"{scene_id}__TRUE_COLOR\",wms[scene_id].boundingBoxWGS84, 'rgb.png')\n",
    "image1=mpimg.imread('rgb.png')\n",
    "fig = plt.figure(figsize=(12,7))\n",
    "img1=plt.imshow(image1,extent=wms[scene_id].boundingBoxWGS84,aspect='auto')\n",
    "plt.show()"
   ]
  },
  {
   "cell_type": "markdown",
   "id": "2f8e4921-c5a7-4744-a16e-1a3d5a19d017",
   "metadata": {},
   "source": [
    "Alternatively, the Folium library is available to create a Leaflet map with the WMS layer"
   ]
  },
  {
   "cell_type": "code",
   "execution_count": null,
   "id": "f21558f8-30cb-41be-b0e1-d814036823c4",
   "metadata": {},
   "outputs": [],
   "source": [
    "import os\n",
    "import folium\n",
    "\n",
    "print(folium.__version__)\n",
    "\n",
    "import folium.plugins.timestamped_wmstilelayer"
   ]
  },
  {
   "cell_type": "code",
   "execution_count": null,
   "id": "3813c642-6e04-497c-8bc1-68e10898139d",
   "metadata": {
    "tags": []
   },
   "outputs": [],
   "source": [
    "centre_lat=wms[scene_id].boundingBoxWGS84[1]+(wms[scene_id].boundingBoxWGS84[3]-wms[scene_id].boundingBoxWGS84[1])/2\n",
    "centre_long=wms[scene_id].boundingBoxWGS84[0]+(wms[scene_id].boundingBoxWGS84[2]-wms[scene_id].boundingBoxWGS84[0])/2\n",
    "m = folium.Map(location=[centre_lat, centre_long], zoom_start=7, tiles=None)\n",
    "\n",
    "folium.raster_layers.WmsTileLayer(\n",
    "    url=\"https://a.tiles.maps.eox.at\",\n",
    "    layers='terrain-light_3857',\n",
    "    name='terrain-light',\n",
    "    fmt='image/jpeg',\n",
    ").add_to(m)\n",
    "\n",
    "\n",
    "folium.raster_layers.WmsTileLayer(\n",
    "    url=wms_endpoint.partition(\"?\")[0],\n",
    "    layers=f\"{scene_id}__TRUE_COLOR\",\n",
    "    name=f\"{scene_id}__TRUE_COLOR\",\n",
    "    fmt='image/png',\n",
    "    transparent=True,\n",
    "    overlay=True,\n",
    "    control=True,\n",
    ").add_to(m)\n",
    "\n",
    "folium.raster_layers.WmsTileLayer(\n",
    "    url=wms_endpoint.partition(\"?\")[0],\n",
    "    layers=f\"{scene_id}__outlines\",\n",
    "    name=f\"{scene_id}__outlines\",\n",
    "    fmt='image/png',\n",
    "    transparent=True,\n",
    "    overlay=True,\n",
    "    control=True,\n",
    ").add_to(m)\n",
    "\n",
    "folium.LayerControl().add_to(m)\n",
    "\n",
    "m"
   ]
  },
  {
   "cell_type": "markdown",
   "id": "9229bc99-22ca-4737-9935-08c12b14956d",
   "metadata": {},
   "source": [
    "## Showing contents of a whole collection for a given timespan."
   ]
  },
  {
   "cell_type": "code",
   "execution_count": null,
   "id": "941fb1ad-dab6-444d-a7b5-78e2d64be7c6",
   "metadata": {},
   "outputs": [],
   "source": [
    "m = folium.Map(location=[centre_lat, centre_long], zoom_start=6, tiles=None)\n",
    "\n",
    "folium.raster_layers.WmsTileLayer(\n",
    "    url=\"https://a.tiles.maps.eox.at\",\n",
    "    layers='terrain-light_3857',\n",
    "    name='terrain-light',\n",
    "    fmt='image/jpeg',\n",
    ").add_to(m)\n",
    "\n",
    "folium.raster_layers.WmsTileLayer(\n",
    "    url=wms_endpoint.partition(\"?\")[0],\n",
    "    layers='S2L2A__outlines',\n",
    "    name='Outlines',\n",
    "    fmt='image/png',\n",
    "    transparent=True,\n",
    "    overlay=True,\n",
    "    control=True,\n",
    "    time=\"2019-09-10T00:00:00Z/2019-09-11T00:00:00Z\",\n",
    ").add_to(m)\n",
    "\n",
    "\n",
    "folium.LayerControl().add_to(m)\n",
    "\n",
    "m"
   ]
  },
  {
   "cell_type": "markdown",
   "id": "13b0a179-e2d3-4833-92bd-072d4d6ba756",
   "metadata": {},
   "source": [
    "### Data Download"
   ]
  },
  {
   "cell_type": "markdown",
   "id": "8b195907-a07e-4400-a78d-291acacbff23",
   "metadata": {},
   "source": [
    "After discovering and visualizing the dataset, the user can identify the WCS link from the catalogue record and use the OWSLib WCS client to download the dataset"
   ]
  },
  {
   "cell_type": "code",
   "execution_count": null,
   "id": "70f48f6f-0ba6-4c62-aeea-c38dc99268c9",
   "metadata": {},
   "outputs": [],
   "source": [
    "tree = None\n",
    "for link in links:\n",
    "    scheme = link['scheme']\n",
    "    if scheme and 'WCS' in scheme:\n",
    "        print(link['url'])\n",
    "        wcs_endpoint=link['url'].split('?')[0]\n",
    "        wcs_id=link['url'].split('eoid=')[1]\n",
    "        tree = lxml.etree.fromstring(requests.get(link['url']).content)\n",
    "        break\n",
    "\n",
    "coverage_ids = tree.xpath('wcs:CoverageDescriptions/wcs:CoverageDescription/@gml:id', namespaces=tree.nsmap)\n",
    "coverage_ids"
   ]
  },
  {
   "cell_type": "code",
   "execution_count": null,
   "id": "9ff7e085",
   "metadata": {},
   "outputs": [],
   "source": [
    "getcoverage_request = wcs_endpoint + '?service=WCS&version=2.0.1&request=GetCoverage&coverageid=' + coverage_ids[1] + '&scaleSize=x(100),y(100)&format=image/tiff'\n",
    "response = requests.get(getcoverage_request)\n",
    "response.raise_for_status()\n",
    "\n",
    "content = response.content\n",
    "img1 = plt.imshow(imread(BytesIO(content)),extent=[23.4,24.5,37.8,38.8],aspect='auto')\n",
    "plt.show()"
   ]
  },
  {
   "cell_type": "markdown",
   "id": "4708f193-9bf9-4287-a78d-64e5ca7b18bb",
   "metadata": {},
   "source": [
    "## Data Access v2"
   ]
  },
  {
   "cell_type": "code",
   "execution_count": 3,
   "id": "e72dcf8a-7ed9-44d6-9cc4-00244058e653",
   "metadata": {},
   "outputs": [],
   "source": [
    "base_domain = \"develop.eoepca.org\""
   ]
  },
  {
   "cell_type": "markdown",
   "id": "213343e6-9525-48fb-b703-6532ca9a9466",
   "metadata": {},
   "source": [
    "## Data Discovery (STAC)"
   ]
  },
  {
   "cell_type": "code",
   "execution_count": 2,
   "id": "39d2ba4c-5faa-4bcc-8f73-6e5eef70e257",
   "metadata": {},
   "outputs": [],
   "source": [
    "import json\n",
    "import requests\n",
    "from folium import Map, TileLayer\n",
    "from pystac_client import Client"
   ]
  },
  {
   "cell_type": "markdown",
   "id": "d86c2516-20f7-4d8e-b8ca-641b836f71ed",
   "metadata": {},
   "source": [
    "#### Define a STAC query and validate its returns"
   ]
  },
  {
   "cell_type": "code",
   "execution_count": 3,
   "id": "4c19cee1-5ac6-429d-9fb6-6d3a766f8ce2",
   "metadata": {},
   "outputs": [],
   "source": [
    "# See STAC API docs at https://eoapi.develop.eoepca.org/stac/api.html\n",
    "STAC_API_URL = f\"https://eoapi.{base_domain}/stac\"\n",
    "RASTER_API_URL = f\"https://eoapi.{base_domain}/raster\"\n",
    "COLLECTION_ID = \"sentinel-2-l2a\""
   ]
  },
  {
   "cell_type": "code",
   "execution_count": 4,
   "id": "66d0ed7f-fcf9-4841-b53b-f441742a91a2",
   "metadata": {},
   "outputs": [
    {
     "data": {
      "text/plain": [
       "'stac-fastapi'"
      ]
     },
     "execution_count": 4,
     "metadata": {},
     "output_type": "execute_result"
    }
   ],
   "source": [
    "# Search against the STAC API\n",
    "catalog = Client.open(STAC_API_URL)\n",
    "catalog.id"
   ]
  },
  {
   "cell_type": "code",
   "execution_count": 5,
   "id": "a9451260-f82a-449e-ab2e-97994d74ad09",
   "metadata": {},
   "outputs": [],
   "source": [
    "# Select a collection\n",
    "collections_filter = {\n",
    "    \"op\": \"=\",\n",
    "    \"args\": [{\"property\": \"collection\"}, \"sentinel-2-l2a\"],\n",
    "}"
   ]
  },
  {
   "cell_type": "code",
   "execution_count": 6,
   "id": "d8c41b06-10cf-41a4-b379-a4fc38f25ec2",
   "metadata": {},
   "outputs": [],
   "source": [
    "# Define your area of interest\n",
    "AOI = {\n",
    "  \"type\": \"Polygon\",\n",
    "  \"coordinates\": [\n",
    "    [\n",
    "      [18.414015459767, 54.232763555655595],\n",
    "      [20.04561585636452, 54.232763555655595],\n",
    "      [20.04561585636452, 54.92536348887734],\n",
    "      [18.414015459767, 54.92536348887734],\n",
    "      [18.414015459767, 54.232763555655595]\n",
    "    ]\n",
    "  ]\n",
    "}\n",
    "spatial_filter = {\"op\": \"s_intersects\", \"args\": [{\"property\": \"geometry\"}, AOI]}"
   ]
  },
  {
   "cell_type": "code",
   "execution_count": 7,
   "id": "e80ea573-d659-48ee-8683-cd0df8412bee",
   "metadata": {},
   "outputs": [],
   "source": [
    "# Define your time interval of interest\n",
    "TIME_INTERVAL = [\"2023-06-01T00:00:00Z\", \"2023-09-30T23:59:59Z\"]\n",
    "temporal_filter = {\n",
    "    \"op\": \"t_intersects\",\n",
    "    \"args\": [{\"property\": \"datetime\"}, {\"interval\": TIME_INTERVAL}],\n",
    "}"
   ]
  },
  {
   "cell_type": "code",
   "execution_count": 8,
   "id": "8aa8b79c-33a0-4414-89cc-b0bc068af5b3",
   "metadata": {},
   "outputs": [],
   "source": [
    "# Additional filters can be applied for other search criteria like <= maximum eo:cloud_cover in item properties\n",
    "cloud_filter = {\"op\": \"<=\", \"args\": [{\"property\": \"eo:cloud_cover\"}, 10]}"
   ]
  },
  {
   "cell_type": "code",
   "execution_count": 9,
   "id": "84ac51db-ee6f-413a-bc64-99e900aa47a4",
   "metadata": {},
   "outputs": [],
   "source": [
    "# Define your search with CQL2 syntax\n",
    "SEARCH_BODY = {\n",
    "    \"filter-lang\": \"cql2-json\",\n",
    "    \"limit\": 20,\n",
    "    \"sortby\": [{\"direction\": \"desc\", \"field\": \"properties.datetime\"}],\n",
    "    \"context\": \"on\",  # add context for a summary of matched results\n",
    "    \"filter\": {\n",
    "        \"op\": \"and\",\n",
    "        \"args\": [collections_filter, spatial_filter, temporal_filter, cloud_filter],\n",
    "    },\n",
    "}"
   ]
  },
  {
   "cell_type": "code",
   "execution_count": 10,
   "id": "e8710bf1-719b-406b-8002-71d30d003dbb",
   "metadata": {},
   "outputs": [
    {
     "name": "stdout",
     "output_type": "stream",
     "text": [
      "returned 14 out of 14 matching items\n"
     ]
    }
   ],
   "source": [
    "# Note this search body can also be used for a stac item search\n",
    "\n",
    "response = requests.post(\n",
    "    f\"{STAC_API_URL}/search\",\n",
    "    json=SEARCH_BODY\n",
    ")\n",
    "response.raise_for_status()\n",
    "stac_items = response.json()\n",
    "\n",
    "# Check how many items were matched in search\n",
    "print(\"returned {numberReturned} out of {numberMatched} matching items\".format(**stac_items))"
   ]
  },
  {
   "cell_type": "markdown",
   "id": "693093df-c894-41af-9c0e-08b0f333f362",
   "metadata": {},
   "source": [
    "## Visualize a Single Item With Dynamic Tiles (XYZ)"
   ]
  },
  {
   "cell_type": "code",
   "execution_count": 11,
   "id": "6314d543-d7c7-4a8a-bb53-6b6d587c6e47",
   "metadata": {},
   "outputs": [],
   "source": [
    "first_item = stac_items[\"features\"][0]"
   ]
  },
  {
   "cell_type": "code",
   "execution_count": 12,
   "id": "3a8584f2-82f2-46d7-abf8-b93c60941a35",
   "metadata": {},
   "outputs": [
    {
     "data": {
      "text/plain": [
       "'S2A_MSIL2A_20230927T100031_N0509_R122_T34UCF_20230927T141059'"
      ]
     },
     "execution_count": 12,
     "metadata": {},
     "output_type": "execute_result"
    }
   ],
   "source": [
    "first_item[\"id\"]"
   ]
  },
  {
   "cell_type": "code",
   "execution_count": 13,
   "id": "ff717b0c-8d64-4e03-9981-71110f16ef4f",
   "metadata": {},
   "outputs": [],
   "source": [
    "collection_id = COLLECTION_ID\n",
    "item_id = first_item[\"id\"]\n",
    "response = requests.get(\n",
    "    f\"{RASTER_API_URL}/collections/{collection_id}/items/{item_id}/tilejson.json\",\n",
    "    params={\n",
    "        # Info to add to the tilejson response\n",
    "        \"minzoom\": 9,\n",
    "        \"maxzoom\": 12,\n",
    "        \"assets\": [\"B04_60m\", \"B03_60m\", \"B02_60m\"],\n",
    "        \"color_formula\": \"Gamma RGB 3.2 Saturation 0.8 Sigmoidal RGB 25 0.35\",\n",
    "        \"nodata\": 0,\n",
    "    },\n",
    ")\n",
    "response.raise_for_status()\n",
    "tilejson = response.json()"
   ]
  },
  {
   "cell_type": "code",
   "execution_count": 14,
   "id": "a9181f61-b597-42a5-aaab-3fe9027b6835",
   "metadata": {},
   "outputs": [
    {
     "data": {
      "text/plain": [
       "{'tilejson': '2.2.0',\n",
       " 'version': '1.0.0',\n",
       " 'scheme': 'xyz',\n",
       " 'tiles': ['http://eoapi.develop.eoepca.org/raster/collections/sentinel-2-l2a/items/S2A_MSIL2A_20230927T100031_N0509_R122_T34UCF_20230927T141059/tiles/WebMercatorQuad/{z}/{x}/{y}@1x?assets=B04_60m&assets=B03_60m&assets=B02_60m&color_formula=Gamma+RGB+3.2+Saturation+0.8+Sigmoidal+RGB+25+0.35&nodata=0'],\n",
       " 'minzoom': 9,\n",
       " 'maxzoom': 12,\n",
       " 'bounds': [17.872404, 54.021431, 19.622172, 55.038803],\n",
       " 'center': [18.747287999999998, 54.530117000000004, 9]}"
      ]
     },
     "execution_count": 14,
     "metadata": {},
     "output_type": "execute_result"
    }
   ],
   "source": [
    "tilejson"
   ]
  },
  {
   "cell_type": "code",
   "execution_count": 15,
   "id": "1658b1e8-7671-465f-944c-b3a5af33650d",
   "metadata": {},
   "outputs": [
    {
     "data": {
      "text/html": [
       "<div style=\"width:100%;\"><div style=\"position:relative;width:100%;height:0;padding-bottom:60%;\"><span style=\"color:#565656\">Make this Notebook Trusted to load map: File -> Trust Notebook</span><iframe srcdoc=\"&lt;!DOCTYPE html&gt;\n",
       "&lt;html&gt;\n",
       "&lt;head&gt;\n",
       "    \n",
       "    &lt;meta http-equiv=&quot;content-type&quot; content=&quot;text/html; charset=UTF-8&quot; /&gt;\n",
       "    \n",
       "        &lt;script&gt;\n",
       "            L_NO_TOUCH = false;\n",
       "            L_DISABLE_3D = false;\n",
       "        &lt;/script&gt;\n",
       "    \n",
       "    &lt;style&gt;html, body {width: 100%;height: 100%;margin: 0;padding: 0;}&lt;/style&gt;\n",
       "    &lt;style&gt;#map {position:absolute;top:0;bottom:0;right:0;left:0;}&lt;/style&gt;\n",
       "    &lt;script src=&quot;https://cdn.jsdelivr.net/npm/leaflet@1.9.3/dist/leaflet.js&quot;&gt;&lt;/script&gt;\n",
       "    &lt;script src=&quot;https://code.jquery.com/jquery-3.7.1.min.js&quot;&gt;&lt;/script&gt;\n",
       "    &lt;script src=&quot;https://cdn.jsdelivr.net/npm/bootstrap@5.2.2/dist/js/bootstrap.bundle.min.js&quot;&gt;&lt;/script&gt;\n",
       "    &lt;script src=&quot;https://cdnjs.cloudflare.com/ajax/libs/Leaflet.awesome-markers/2.0.2/leaflet.awesome-markers.js&quot;&gt;&lt;/script&gt;\n",
       "    &lt;link rel=&quot;stylesheet&quot; href=&quot;https://cdn.jsdelivr.net/npm/leaflet@1.9.3/dist/leaflet.css&quot;/&gt;\n",
       "    &lt;link rel=&quot;stylesheet&quot; href=&quot;https://cdn.jsdelivr.net/npm/bootstrap@5.2.2/dist/css/bootstrap.min.css&quot;/&gt;\n",
       "    &lt;link rel=&quot;stylesheet&quot; href=&quot;https://netdna.bootstrapcdn.com/bootstrap/3.0.0/css/bootstrap-glyphicons.css&quot;/&gt;\n",
       "    &lt;link rel=&quot;stylesheet&quot; href=&quot;https://cdn.jsdelivr.net/npm/@fortawesome/fontawesome-free@6.2.0/css/all.min.css&quot;/&gt;\n",
       "    &lt;link rel=&quot;stylesheet&quot; href=&quot;https://cdnjs.cloudflare.com/ajax/libs/Leaflet.awesome-markers/2.0.2/leaflet.awesome-markers.css&quot;/&gt;\n",
       "    &lt;link rel=&quot;stylesheet&quot; href=&quot;https://cdn.jsdelivr.net/gh/python-visualization/folium/folium/templates/leaflet.awesome.rotate.min.css&quot;/&gt;\n",
       "    \n",
       "            &lt;meta name=&quot;viewport&quot; content=&quot;width=device-width,\n",
       "                initial-scale=1.0, maximum-scale=1.0, user-scalable=no&quot; /&gt;\n",
       "            &lt;style&gt;\n",
       "                #map_fc7dc26b8086687552d44b59e71e1020 {\n",
       "                    position: relative;\n",
       "                    width: 100.0%;\n",
       "                    height: 100.0%;\n",
       "                    left: 0.0%;\n",
       "                    top: 0.0%;\n",
       "                }\n",
       "                .leaflet-container { font-size: 1rem; }\n",
       "            &lt;/style&gt;\n",
       "        \n",
       "&lt;/head&gt;\n",
       "&lt;body&gt;\n",
       "    \n",
       "    \n",
       "            &lt;div class=&quot;folium-map&quot; id=&quot;map_fc7dc26b8086687552d44b59e71e1020&quot; &gt;&lt;/div&gt;\n",
       "        \n",
       "&lt;/body&gt;\n",
       "&lt;script&gt;\n",
       "    \n",
       "    \n",
       "            var map_fc7dc26b8086687552d44b59e71e1020 = L.map(\n",
       "                &quot;map_fc7dc26b8086687552d44b59e71e1020&quot;,\n",
       "                {\n",
       "                    center: [54.530117000000004, 18.747287999999998],\n",
       "                    crs: L.CRS.EPSG3857,\n",
       "                    zoom: 9,\n",
       "                    zoomControl: true,\n",
       "                    preferCanvas: false,\n",
       "                }\n",
       "            );\n",
       "\n",
       "            \n",
       "\n",
       "        \n",
       "    \n",
       "            var tile_layer_4862fbcac6d825a08b923d6b1ec33f2b = L.tileLayer(\n",
       "                &quot;https://tile.openstreetmap.org/{z}/{x}/{y}.png&quot;,\n",
       "                {&quot;attribution&quot;: &quot;\\u0026copy; \\u003ca href=\\&quot;https://www.openstreetmap.org/copyright\\&quot;\\u003eOpenStreetMap\\u003c/a\\u003e contributors&quot;, &quot;detectRetina&quot;: false, &quot;maxNativeZoom&quot;: 19, &quot;maxZoom&quot;: 12, &quot;minZoom&quot;: 9, &quot;noWrap&quot;: false, &quot;opacity&quot;: 1, &quot;subdomains&quot;: &quot;abc&quot;, &quot;tms&quot;: false}\n",
       "            );\n",
       "        \n",
       "    \n",
       "            tile_layer_4862fbcac6d825a08b923d6b1ec33f2b.addTo(map_fc7dc26b8086687552d44b59e71e1020);\n",
       "        \n",
       "    \n",
       "            var tile_layer_9412540a4f2fbfc052ca64feee3aef5b = L.tileLayer(\n",
       "                &quot;http://eoapi.develop.eoepca.org/raster/collections/sentinel-2-l2a/items/S2A_MSIL2A_20230927T100031_N0509_R122_T34UCF_20230927T141059/tiles/WebMercatorQuad/{z}/{x}/{y}@1x?assets=B04_60m\\u0026assets=B03_60m\\u0026assets=B02_60m\\u0026color_formula=Gamma+RGB+3.2+Saturation+0.8+Sigmoidal+RGB+25+0.35\\u0026nodata=0&quot;,\n",
       "                {&quot;attribution&quot;: &quot;Contains modified Copernicus Sentinel-2 data&quot;, &quot;detectRetina&quot;: false, &quot;maxZoom&quot;: 18, &quot;minZoom&quot;: 0, &quot;noWrap&quot;: false, &quot;opacity&quot;: 1, &quot;subdomains&quot;: &quot;abc&quot;, &quot;tms&quot;: false}\n",
       "            );\n",
       "        \n",
       "    \n",
       "            tile_layer_9412540a4f2fbfc052ca64feee3aef5b.addTo(map_fc7dc26b8086687552d44b59e71e1020);\n",
       "        \n",
       "&lt;/script&gt;\n",
       "&lt;/html&gt;\" style=\"position:absolute;width:100%;height:100%;left:0;top:0;border:none !important;\" allowfullscreen webkitallowfullscreen mozallowfullscreen></iframe></div></div>"
      ],
      "text/plain": [
       "<folium.folium.Map at 0x137708290>"
      ]
     },
     "execution_count": 15,
     "metadata": {},
     "output_type": "execute_result"
    }
   ],
   "source": [
    "# Set up a map located w/in event bounds\n",
    "m = Map(\n",
    "    tiles=\"OpenStreetMap\",\n",
    "    location=tilejson[\"center\"][:2][::-1],\n",
    "    zoom_start=tilejson[\"minzoom\"],\n",
    "    min_zoom=tilejson[\"minzoom\"],\n",
    "    max_zoom=tilejson[\"maxzoom\"]\n",
    ")\n",
    "\n",
    "# Add the formatted map layer\n",
    "map_layer = TileLayer(\n",
    "    tiles=tilejson[\"tiles\"][0],\n",
    "    attr=\"Contains modified Copernicus Sentinel-2 data\",\n",
    ")\n",
    "map_layer.add_to(m)\n",
    "m"
   ]
  },
  {
   "cell_type": "markdown",
   "id": "48802429-a5d9-4805-b8e4-544261bde1bb",
   "metadata": {},
   "source": [
    "### Visualize a Spatio-Temporal Mosaic With Dynamic Tiles (XYZ)"
   ]
  },
  {
   "cell_type": "code",
   "execution_count": 16,
   "id": "e3e6e48c-fcf3-4e85-8e25-f0e569ffd6ec",
   "metadata": {},
   "outputs": [
    {
     "name": "stdout",
     "output_type": "stream",
     "text": [
      "{\n",
      "  \"id\": \"4f9f8eb46bfc3ae0b769c5e1573a6134\",\n",
      "  \"links\": [\n",
      "    {\n",
      "      \"rel\": \"metadata\",\n",
      "      \"title\": \"Mosaic metadata\",\n",
      "      \"type\": \"application/json\",\n",
      "      \"href\": \"http://eoapi.develop.eoepca.org/raster/searches/4f9f8eb46bfc3ae0b769c5e1573a6134/info\"\n",
      "    },\n",
      "    {\n",
      "      \"rel\": \"tilejson\",\n",
      "      \"title\": \"Link for TileJSON\",\n",
      "      \"type\": \"application/json\",\n",
      "      \"href\": \"http://eoapi.develop.eoepca.org/raster/searches/4f9f8eb46bfc3ae0b769c5e1573a6134/tilejson.json\"\n",
      "    },\n",
      "    {\n",
      "      \"rel\": \"map\",\n",
      "      \"title\": \"Link for Map viewer\",\n",
      "      \"type\": \"application/json\",\n",
      "      \"href\": \"http://eoapi.develop.eoepca.org/raster/searches/4f9f8eb46bfc3ae0b769c5e1573a6134/map\"\n",
      "    },\n",
      "    {\n",
      "      \"rel\": \"wmts\",\n",
      "      \"title\": \"Link for WMTS\",\n",
      "      \"type\": \"application/json\",\n",
      "      \"href\": \"http://eoapi.develop.eoepca.org/raster/searches/4f9f8eb46bfc3ae0b769c5e1573a6134/WMTSCapabilities.xml\"\n",
      "    }\n",
      "  ]\n",
      "}\n"
     ]
    }
   ],
   "source": [
    "# Register a mosaic for your STAC query\n",
    "response = requests.post(\n",
    "    f\"{RASTER_API_URL}/searches/register\",\n",
    "    json=SEARCH_BODY,\n",
    ")\n",
    "response.raise_for_status()\n",
    "mosaic = response.json()\n",
    "print(json.dumps(mosaic, indent=2))"
   ]
  },
  {
   "cell_type": "code",
   "execution_count": 17,
   "id": "e74d3244-dd67-4567-a04f-9dfbad5527ac",
   "metadata": {},
   "outputs": [],
   "source": [
    "# Get base url for tiler from the register mosaic request\n",
    "tiles_href = next(\n",
    "    link[\"href\"] for link in mosaic[\"links\"] if link[\"rel\"] == \"tilejson\"\n",
    ")"
   ]
  },
  {
   "cell_type": "code",
   "execution_count": 18,
   "id": "3036c453-8b76-4a5a-8765-17b8c8eaca6e",
   "metadata": {},
   "outputs": [
    {
     "ename": "HTTPError",
     "evalue": "500 Server Error: Internal Server Error for url: https://eoapi.develop.eoepca.org/raster/searches/4f9f8eb46bfc3ae0b769c5e1573a6134/tilejson.json?minzoom=9&maxzoom=12&assets=B04_60m&assets=B03_60m&assets=B02_60m&color_formula=Gamma+RGB+3.2+Saturation+0.8+Sigmoidal+RGB+25+0.35&nodata=0",
     "output_type": "error",
     "traceback": [
      "\u001b[0;31m---------------------------------------------------------------------------\u001b[0m",
      "\u001b[0;31mHTTPError\u001b[0m                                 Traceback (most recent call last)",
      "Cell \u001b[0;32mIn[18], line 13\u001b[0m\n\u001b[1;32m      1\u001b[0m \u001b[38;5;66;03m# Add additional map formatting parameters to tiles url\u001b[39;00m\n\u001b[1;32m      2\u001b[0m response \u001b[38;5;241m=\u001b[39m requests\u001b[38;5;241m.\u001b[39mget(\n\u001b[1;32m      3\u001b[0m     tiles_href,\n\u001b[1;32m      4\u001b[0m     params\u001b[38;5;241m=\u001b[39m{\n\u001b[0;32m   (...)\u001b[0m\n\u001b[1;32m     11\u001b[0m     },\n\u001b[1;32m     12\u001b[0m )\n\u001b[0;32m---> 13\u001b[0m \u001b[43mresponse\u001b[49m\u001b[38;5;241;43m.\u001b[39;49m\u001b[43mraise_for_status\u001b[49m\u001b[43m(\u001b[49m\u001b[43m)\u001b[49m\n\u001b[1;32m     14\u001b[0m tilejson \u001b[38;5;241m=\u001b[39m response\u001b[38;5;241m.\u001b[39mjson()\n\u001b[1;32m     15\u001b[0m \u001b[38;5;28mprint\u001b[39m(json\u001b[38;5;241m.\u001b[39mdumps(tilejson, indent\u001b[38;5;241m=\u001b[39m\u001b[38;5;241m2\u001b[39m))\n",
      "File \u001b[0;32m~/opt/miniconda3/envs/jupyter/lib/python3.12/site-packages/requests/models.py:1024\u001b[0m, in \u001b[0;36mResponse.raise_for_status\u001b[0;34m(self)\u001b[0m\n\u001b[1;32m   1019\u001b[0m     http_error_msg \u001b[38;5;241m=\u001b[39m (\n\u001b[1;32m   1020\u001b[0m         \u001b[38;5;124mf\u001b[39m\u001b[38;5;124m\"\u001b[39m\u001b[38;5;132;01m{\u001b[39;00m\u001b[38;5;28mself\u001b[39m\u001b[38;5;241m.\u001b[39mstatus_code\u001b[38;5;132;01m}\u001b[39;00m\u001b[38;5;124m Server Error: \u001b[39m\u001b[38;5;132;01m{\u001b[39;00mreason\u001b[38;5;132;01m}\u001b[39;00m\u001b[38;5;124m for url: \u001b[39m\u001b[38;5;132;01m{\u001b[39;00m\u001b[38;5;28mself\u001b[39m\u001b[38;5;241m.\u001b[39murl\u001b[38;5;132;01m}\u001b[39;00m\u001b[38;5;124m\"\u001b[39m\n\u001b[1;32m   1021\u001b[0m     )\n\u001b[1;32m   1023\u001b[0m \u001b[38;5;28;01mif\u001b[39;00m http_error_msg:\n\u001b[0;32m-> 1024\u001b[0m     \u001b[38;5;28;01mraise\u001b[39;00m HTTPError(http_error_msg, response\u001b[38;5;241m=\u001b[39m\u001b[38;5;28mself\u001b[39m)\n",
      "\u001b[0;31mHTTPError\u001b[0m: 500 Server Error: Internal Server Error for url: https://eoapi.develop.eoepca.org/raster/searches/4f9f8eb46bfc3ae0b769c5e1573a6134/tilejson.json?minzoom=9&maxzoom=12&assets=B04_60m&assets=B03_60m&assets=B02_60m&color_formula=Gamma+RGB+3.2+Saturation+0.8+Sigmoidal+RGB+25+0.35&nodata=0"
     ]
    }
   ],
   "source": [
    "# Add additional map formatting parameters to tiles url\n",
    "response = requests.get(\n",
    "    tiles_href,\n",
    "    params={\n",
    "        # Info to add to the tilejson response\n",
    "        \"minzoom\": 9,\n",
    "        \"maxzoom\": 12,\n",
    "        \"assets\": [\"B04_60m\", \"B03_60m\", \"B02_60m\"],\n",
    "        \"color_formula\": \"Gamma RGB 3.2 Saturation 0.8 Sigmoidal RGB 25 0.35\",\n",
    "        \"nodata\": 0,\n",
    "    },\n",
    ")\n",
    "response.raise_for_status()\n",
    "tilejson = response.json()\n",
    "print(json.dumps(tilejson, indent=2))"
   ]
  },
  {
   "cell_type": "code",
   "execution_count": null,
   "id": "ef05280c-ac24-4b27-a92e-84e8e80a83e3",
   "metadata": {},
   "outputs": [],
   "source": [
    "# Set up a map located w/in event bounds\n",
    "m = Map(\n",
    "    tiles=\"OpenStreetMap\",\n",
    "    location=tilejson[\"center\"][:2][::-1],\n",
    "    zoom_start=tilejson[\"minzoom\"],\n",
    "    min_zoom=tilejson[\"minzoom\"],\n",
    "    max_zoom=tilejson[\"maxzoom\"]\n",
    ")\n",
    "\n",
    "# Add the formatted map layer\n",
    "map_layer = TileLayer(\n",
    "    tiles=tilejson[\"tiles\"][0],\n",
    "    attr=\"Contains modified Copernicus Sentinel-2 data\",\n",
    ")\n",
    "map_layer.add_to(m)\n",
    "m"
   ]
  },
  {
   "cell_type": "markdown",
   "id": "5d1fa38d-6d15-4c73-81b7-041efd7bb355",
   "metadata": {},
   "source": [
    "## Data Analysis with Coverages (OGC API Coverages)"
   ]
  },
  {
   "cell_type": "code",
   "execution_count": 4,
   "id": "fd109d9c-1515-43ee-a97d-e215a6b8e1df",
   "metadata": {},
   "outputs": [],
   "source": [
    "COV_API_URL = f\"https://stacture.{base_domain}\""
   ]
  },
  {
   "cell_type": "markdown",
   "id": "982b993d",
   "metadata": {},
   "source": [
    "### Listing collections"
   ]
  },
  {
   "cell_type": "code",
   "execution_count": 24,
   "id": "fe14d5cb",
   "metadata": {},
   "outputs": [
    {
     "name": "stdout",
     "output_type": "stream",
     "text": [
      "####\n",
      "Sentinel-2 Level-2A\n",
      "sentinel-2-l2a\n"
     ]
    }
   ],
   "source": [
    "COV_COLLECTIONS = f\"{COV_API_URL}/collections\"\n",
    "resp = requests.get(COV_COLLECTIONS).json()\n",
    "for collection in resp['collections']:\n",
    "    print(\"####\")\n",
    "    print(collection['title'])\n",
    "    print(collection['id'])\n",
    "\n",
    "collection_id = collection['id']"
   ]
  },
  {
   "cell_type": "markdown",
   "id": "89f15f8c",
   "metadata": {},
   "source": [
    "### Get collection metadata"
   ]
  },
  {
   "cell_type": "code",
   "execution_count": 22,
   "id": "6c822dc9",
   "metadata": {},
   "outputs": [
    {
     "name": "stdout",
     "output_type": "stream",
     "text": [
      "The Sentinel-2 Level-2A Collection 1 product provides orthorectified Surface Reflectance (Bottom-Of-Atmosphere: BOA), with sub-pixel multispectral and multitemporal registration accuracy. Scene Classification (including Clouds and Cloud Shadows), AOT (Aerosol Optical Thickness) and WV (Water Vapour) maps are included in the product.\n",
      "{'spatial': {'bboxes': [[-180, -90, 180, 90]], 'extra_fields': {}}, 'temporal': {'intervals': [['2015-06-27T10:25:31+00:00', None]], 'extra_fields': {}}, 'extra_fields': {}}\n"
     ]
    }
   ],
   "source": [
    "COLLECTION_URL = f\"{COV_API_URL}/collections/{collection_id}\"\n",
    "resp = requests.get(COLLECTION_URL).json()\n",
    "print(resp[\"description\"])\n",
    "print(resp['extent'])"
   ]
  },
  {
   "cell_type": "markdown",
   "id": "a9a4d2bd",
   "metadata": {},
   "source": [
    "### Get collection Coverage"
   ]
  },
  {
   "cell_type": "code",
   "execution_count": 25,
   "id": "74b9bbb8",
   "metadata": {},
   "outputs": [
    {
     "data": {
      "text/plain": [
       "<Response [200]>"
      ]
     },
     "execution_count": 25,
     "metadata": {},
     "output_type": "execute_result"
    }
   ],
   "source": [
    "COVERAGE_URL = f\"{COLLECTION_URL}/coverage\"\n",
    "params = {\n",
    "    \"bbox\": \"18.5,52.4,18.7,52.7\",\n",
    "    \"datetime\": \"2023-12-31T10:00:00Z/2023-12-31T10:05:00Z\",\n",
    "    \"bbox-crs\": \"EPSG:4326\",\n",
    "    \"width\": 512,\n",
    "    \"height\": 512,\n",
    "    \"f\": \"image/tiff\",\n",
    "}\n",
    "resp = requests.get(COVERAGE_URL, params=params)\n",
    "resp"
   ]
  },
  {
   "cell_type": "code",
   "execution_count": 44,
   "id": "8b3b5d18",
   "metadata": {},
   "outputs": [
    {
     "name": "stdout",
     "output_type": "stream",
     "text": [
      "BBOX: BoundingBox(left=18.5, bottom=52.4, right=18.7, top=52.7)\n",
      "CRS: EPSG:4326\n",
      "SHAPE: (1, 512, 512)\n",
      "MIN: -0.036218856\n",
      "MAX: 0.48306534\n",
      "MEAN: 0.14067203\n",
      "STDEV: 0.06256915\n"
     ]
    }
   ],
   "source": [
    "from rasterio.io import MemoryFile\n",
    "with MemoryFile(resp.content) as memfile:\n",
    "    with memfile.open() as dataset:\n",
    "        print(\"BBOX:\", dataset.bounds)\n",
    "        print(\"CRS:\", dataset.crs)\n",
    "        data_array = dataset.read()\n",
    "\n",
    "print(\"SHAPE:\", data_array.shape)\n",
    "print(\"MIN:\", data_array.min())\n",
    "print(\"MAX:\", data_array.max())\n",
    "print(\"MEAN:\", data_array.mean())\n",
    "print(\"STDEV:\", data_array.std())"
   ]
  },
  {
   "cell_type": "markdown",
   "id": "86057ea2",
   "metadata": {},
   "source": [
    "### Listing scenes"
   ]
  },
  {
   "cell_type": "code",
   "execution_count": 21,
   "id": "530e20b4",
   "metadata": {},
   "outputs": [
    {
     "name": "stdout",
     "output_type": "stream",
     "text": [
      "{'id': 'S2B_MSIL2A_20231231T100329_N0510_R122_T34UDF_20231231T110801', 'links': [{'href': 'http://stacture.develop.eoepca.org/collections/sentinel-2-l2a/scenes/S2B_MSIL2A_20231231T100329_N0510_R122_T34UDF_20231231T110801', 'rel': 'self', 'type': None, 'hreflang': None, 'title': None, 'length': None}]}\n",
      "{'id': 'S2B_MSIL2A_20231231T100329_N0510_R122_T34UDE_20231231T110801', 'links': [{'href': 'http://stacture.develop.eoepca.org/collections/sentinel-2-l2a/scenes/S2B_MSIL2A_20231231T100329_N0510_R122_T34UDE_20231231T110801', 'rel': 'self', 'type': None, 'hreflang': None, 'title': None, 'length': None}]}\n",
      "{'id': 'S2B_MSIL2A_20231231T100329_N0510_R122_T34UDD_20231231T110801', 'links': [{'href': 'http://stacture.develop.eoepca.org/collections/sentinel-2-l2a/scenes/S2B_MSIL2A_20231231T100329_N0510_R122_T34UDD_20231231T110801', 'rel': 'self', 'type': None, 'hreflang': None, 'title': None, 'length': None}]}\n",
      "{'id': 'S2B_MSIL2A_20231231T100329_N0510_R122_T34UCG_20231231T110801', 'links': [{'href': 'http://stacture.develop.eoepca.org/collections/sentinel-2-l2a/scenes/S2B_MSIL2A_20231231T100329_N0510_R122_T34UCG_20231231T110801', 'rel': 'self', 'type': None, 'hreflang': None, 'title': None, 'length': None}]}\n",
      "{'id': 'S2B_MSIL2A_20231231T100329_N0510_R122_T34UCF_20231231T110801', 'links': [{'href': 'http://stacture.develop.eoepca.org/collections/sentinel-2-l2a/scenes/S2B_MSIL2A_20231231T100329_N0510_R122_T34UCF_20231231T110801', 'rel': 'self', 'type': None, 'hreflang': None, 'title': None, 'length': None}]}\n",
      "{'id': 'S2B_MSIL2A_20231231T100329_N0510_R122_T34UCE_20231231T110801', 'links': [{'href': 'http://stacture.develop.eoepca.org/collections/sentinel-2-l2a/scenes/S2B_MSIL2A_20231231T100329_N0510_R122_T34UCE_20231231T110801', 'rel': 'self', 'type': None, 'hreflang': None, 'title': None, 'length': None}]}\n",
      "{'id': 'S2B_MSIL2A_20231231T100329_N0510_R122_T34UCD_20231231T110801', 'links': [{'href': 'http://stacture.develop.eoepca.org/collections/sentinel-2-l2a/scenes/S2B_MSIL2A_20231231T100329_N0510_R122_T34UCD_20231231T110801', 'rel': 'self', 'type': None, 'hreflang': None, 'title': None, 'length': None}]}\n",
      "{'id': 'S2B_MSIL2A_20231231T100329_N0510_R122_T34UCC_20231231T110801', 'links': [{'href': 'http://stacture.develop.eoepca.org/collections/sentinel-2-l2a/scenes/S2B_MSIL2A_20231231T100329_N0510_R122_T34UCC_20231231T110801', 'rel': 'self', 'type': None, 'hreflang': None, 'title': None, 'length': None}]}\n",
      "{'id': 'S2B_MSIL2A_20231231T100329_N0510_R122_T34UCB_20231231T110801', 'links': [{'href': 'http://stacture.develop.eoepca.org/collections/sentinel-2-l2a/scenes/S2B_MSIL2A_20231231T100329_N0510_R122_T34UCB_20231231T110801', 'rel': 'self', 'type': None, 'hreflang': None, 'title': None, 'length': None}]}\n",
      "{'id': 'S2B_MSIL2A_20231231T100329_N0510_R122_T34UCA_20231231T110801', 'links': [{'href': 'http://stacture.develop.eoepca.org/collections/sentinel-2-l2a/scenes/S2B_MSIL2A_20231231T100329_N0510_R122_T34UCA_20231231T110801', 'rel': 'self', 'type': None, 'hreflang': None, 'title': None, 'length': None}]}\n"
     ]
    }
   ],
   "source": [
    "SCENES = f\"{COV_API_URL}/collections/{collection_id}/scenes\"\n",
    "resp = requests.get(SCENES).json()\n",
    "for scene in resp['scenes']:\n",
    "    print(scene)"
   ]
  },
  {
   "cell_type": "markdown",
   "id": "fa9833bc",
   "metadata": {},
   "source": [
    "### TODO: Get Scene Metadata"
   ]
  },
  {
   "cell_type": "markdown",
   "id": "c374f1fc",
   "metadata": {},
   "source": [
    "### TODO: Get Scene Coverage"
   ]
  }
 ],
 "metadata": {
  "kernelspec": {
   "display_name": "eoepca-demo",
   "language": "python",
   "name": "python3"
  },
  "language_info": {
   "codemirror_mode": {
    "name": "ipython",
    "version": 3
   },
   "file_extension": ".py",
   "mimetype": "text/x-python",
   "name": "python",
   "nbconvert_exporter": "python",
   "pygments_lexer": "ipython3",
   "version": "3.10.4"
  }
 },
 "nbformat": 4,
 "nbformat_minor": 5
}
