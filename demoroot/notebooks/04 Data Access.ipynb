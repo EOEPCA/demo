{
 "cells": [
  {
   "cell_type": "markdown",
   "id": "788a6dc1-ec4c-48aa-a3b8-d0de349c418a",
   "metadata": {},
   "source": [
    "## Data Access demo"
   ]
  },
  {
   "cell_type": "markdown",
   "id": "aec1b1dc-caad-4fde-862b-4fd0f4136a30",
   "metadata": {},
   "source": [
    "## Data Access v1"
   ]
  },
  {
   "cell_type": "markdown",
   "id": "88d55bcb-6eba-4ac3-af24-67c5d286921f",
   "metadata": {},
   "source": [
    "[OWSLib](https://geopython.github.io/OWSLib) is a Python package for client programming with Open Geospatial Consortium (OGC) web service (hence OWS) interface standards, and their related content models. In this demo we’ll work with the CSW, WMS and WCS interfaces."
   ]
  },
  {
   "cell_type": "code",
   "execution_count": null,
   "id": "bfc4d810-e4c0-42a4-9af7-d1290e510671",
   "metadata": {},
   "outputs": [],
   "source": [
    "from owslib.csw import CatalogueServiceWeb\n",
    "from owslib.wms import WebMapService\n",
    "from owslib.wcs import WebCoverageService\n",
    "import lxml.etree\n",
    "import requests\n",
    "from tifffile import imread\n",
    "from io import BytesIO, StringIO"
   ]
  },
  {
   "cell_type": "markdown",
   "id": "a23a0f74-e8d4-4996-bf7c-dc4f373a0263",
   "metadata": {},
   "source": [
    "### Data Discovery"
   ]
  },
  {
   "cell_type": "markdown",
   "id": "a4e2ded5-4098-40b5-b1f9-43c5ee595a19",
   "metadata": {},
   "source": [
    "The user has already discovered the dataset to use by using the OWSLib CSW client"
   ]
  },
  {
   "cell_type": "code",
   "execution_count": null,
   "id": "ffb9ad53-8f9f-40ef-bb9f-fc2a3df9e852",
   "metadata": {},
   "outputs": [],
   "source": [
    "base_domain = \"develop.eoepca.org\"\n",
    "workspace_prefix = \"ws\"\n",
    "system_endpoint = f'https://resource-catalogue.{base_domain}/csw'"
   ]
  },
  {
   "cell_type": "code",
   "execution_count": null,
   "id": "fbf34343-f261-4e0e-a9a2-77c33c3c209e",
   "metadata": {},
   "outputs": [],
   "source": [
    "csw = CatalogueServiceWeb(system_endpoint,timeout=30)"
   ]
  },
  {
   "cell_type": "code",
   "execution_count": null,
   "id": "e77e8868-8dad-4e89-845f-1aabecfb608a",
   "metadata": {},
   "outputs": [],
   "source": [
    "scene_id=\"S2B_MSIL2A_20190910T095029_N0500_R079_T33TXN_20230430T083712.SAFE\""
   ]
  },
  {
   "cell_type": "code",
   "execution_count": null,
   "id": "1bdb298b-6c51-4b64-888c-1209eeb04bdc",
   "metadata": {},
   "outputs": [],
   "source": [
    "csw.getrecordbyid(id=[scene_id])"
   ]
  },
  {
   "cell_type": "code",
   "execution_count": null,
   "id": "50132833-1859-4275-b927-c3d8bc2e1652",
   "metadata": {},
   "outputs": [],
   "source": [
    "links = csw.records[scene_id].references"
   ]
  },
  {
   "cell_type": "code",
   "execution_count": null,
   "id": "1db7fe6a-ff76-4293-bd11-78b9e969e97a",
   "metadata": {},
   "outputs": [],
   "source": [
    "for link in links:\n",
    "    scheme = link['scheme']\n",
    "    if scheme and 'WMS' in scheme:\n",
    "        wms_endpoint=link['url']\n",
    "        print(link['url'])"
   ]
  },
  {
   "cell_type": "markdown",
   "id": "1c637632-a9df-4675-b848-3cf972d0db56",
   "metadata": {},
   "source": [
    "### Data Visualization"
   ]
  },
  {
   "cell_type": "markdown",
   "id": "014dbb9a-0456-4bb0-8d27-03d221f86fcc",
   "metadata": {},
   "source": [
    "After discovering the dataset, the user can identify the WMS link and use the OWSLib WMs client to visualize the dataset"
   ]
  },
  {
   "cell_type": "code",
   "execution_count": null,
   "id": "21f7e4ca-08b7-4322-b927-16a169a0c9e6",
   "metadata": {},
   "outputs": [],
   "source": [
    "wms = WebMapService(wms_endpoint, version='1.3.0')"
   ]
  },
  {
   "cell_type": "markdown",
   "id": "84b197f6-8bf5-4f6c-b515-5e9785fb5380",
   "metadata": {},
   "source": [
    "The list of layers available to the WMS service:"
   ]
  },
  {
   "cell_type": "code",
   "execution_count": null,
   "id": "2118d6f4-1691-4d52-8893-f15c1810c394",
   "metadata": {},
   "outputs": [],
   "source": [
    "list(wms.contents)"
   ]
  },
  {
   "cell_type": "markdown",
   "id": "66364a99-a19a-4226-b7c1-bf4864eed492",
   "metadata": {},
   "source": [
    "Along with some WMS layer metadata:"
   ]
  },
  {
   "cell_type": "code",
   "execution_count": null,
   "id": "bd3ebb32-91fb-4799-9d34-3988fc86960c",
   "metadata": {},
   "outputs": [],
   "source": [
    "wms[scene_id].title"
   ]
  },
  {
   "cell_type": "code",
   "execution_count": null,
   "id": "56ce9bc3-84d4-4f1c-9b4a-a4469bd92ca4",
   "metadata": {},
   "outputs": [],
   "source": [
    "wms[scene_id].boundingBoxWGS84"
   ]
  },
  {
   "cell_type": "code",
   "execution_count": null,
   "id": "fd2ad968-25d5-46f7-bc13-92a49a3eba55",
   "metadata": {},
   "outputs": [],
   "source": [
    "[op.name for op in wms.operations]"
   ]
  },
  {
   "cell_type": "code",
   "execution_count": null,
   "id": "f24b8ddd-bfb5-4bc3-814c-eb385e8f8de4",
   "metadata": {},
   "outputs": [],
   "source": [
    "wms[scene_id].styles"
   ]
  },
  {
   "cell_type": "code",
   "execution_count": null,
   "id": "2739a43b-9848-4f63-821a-982aac96871c",
   "metadata": {},
   "outputs": [],
   "source": [
    "wms.getOperationByName('GetMap').formatOptions"
   ]
  },
  {
   "cell_type": "markdown",
   "id": "c169650b-9a81-4922-999c-cf8ff158b40c",
   "metadata": {},
   "source": [
    "The user can visualize the WMS GetMap request from matplotlib"
   ]
  },
  {
   "cell_type": "code",
   "execution_count": null,
   "id": "96523864-81cb-4ce8-a4d2-d8b23b632b3e",
   "metadata": {},
   "outputs": [],
   "source": [
    "%matplotlib inline\n",
    "import os, sys\n",
    "import matplotlib.image as mpimg\n",
    "import matplotlib.pyplot as plt\n",
    "\n",
    "def getMap(wms,layerName,bbox,filename,style=None):\n",
    "    wms.getOperationByName('GetMap').formatOptions\n",
    "    img = wms.getmap(layers=[layerName],\n",
    "                 styles=[style] if style is not None else None,\n",
    "                 size=(600,300),\n",
    "                 srs='EPSG:4326',\n",
    "                 bbox=bbox,\n",
    "                 format='image/png',\n",
    "                 transparent=True)\n",
    "\n",
    "    tmpfile = open(filename,'wb')\n",
    "    tmpfile.write(img.read())\n",
    "    tmpfile.close()"
   ]
  },
  {
   "cell_type": "code",
   "execution_count": null,
   "id": "4dc25083-e659-4688-a635-3be51d25a742",
   "metadata": {},
   "outputs": [],
   "source": [
    "getMap(wms,f\"{scene_id}__TRUE_COLOR\",wms[scene_id].boundingBoxWGS84, 'rgb.png')\n",
    "image1=mpimg.imread('rgb.png')\n",
    "fig = plt.figure(figsize=(12,7))\n",
    "img1=plt.imshow(image1,extent=wms[scene_id].boundingBoxWGS84,aspect='auto')\n",
    "plt.show()"
   ]
  },
  {
   "cell_type": "markdown",
   "id": "aa30c819-2a76-4db5-afeb-139ffd523085",
   "metadata": {},
   "source": [
    "False color composite using Near Infrared, Red, Green Bands"
   ]
  },
  {
   "cell_type": "code",
   "execution_count": null,
   "id": "98f5d6a8-4c26-48b6-ad61-6db9920595b0",
   "metadata": {},
   "outputs": [],
   "source": [
    "getMap(wms,f\"{scene_id}__FALSE_COLOR\",wms[scene_id].boundingBoxWGS84, 'nirrg.png')\n",
    "image1=mpimg.imread('nirrg.png')\n",
    "fig = plt.figure(figsize=(12,7))\n",
    "img1=plt.imshow(image1,extent=wms[scene_id].boundingBoxWGS84,aspect='auto')\n",
    "plt.show()"
   ]
  },
  {
   "cell_type": "code",
   "execution_count": null,
   "id": "3a303ec1-c504-4cef-8c96-1381ddcc3040",
   "metadata": {},
   "outputs": [],
   "source": [
    "getMap(wms,f\"{scene_id}__NDVI\",wms[scene_id].boundingBoxWGS84, 'ndvi.png', style='summer')\n",
    "image1=mpimg.imread('ndvi.png')\n",
    "fig = plt.figure(figsize=(12,7))\n",
    "img1=plt.imshow(image1,extent=wms[scene_id].boundingBoxWGS84,aspect='auto')\n",
    "plt.show()"
   ]
  },
  {
   "cell_type": "code",
   "execution_count": null,
   "id": "ed686f05-d0ce-47e9-8060-539b3396930a",
   "metadata": {},
   "outputs": [],
   "source": [
    "getMap(wms,f\"{scene_id}__TRUE_COLOR\",wms[scene_id].boundingBoxWGS84, 'rgb.png')\n",
    "image1=mpimg.imread('rgb.png')\n",
    "fig = plt.figure(figsize=(12,7))\n",
    "img1=plt.imshow(image1,extent=wms[scene_id].boundingBoxWGS84,aspect='auto')\n",
    "plt.show()"
   ]
  },
  {
   "cell_type": "markdown",
   "id": "2f8e4921-c5a7-4744-a16e-1a3d5a19d017",
   "metadata": {},
   "source": [
    "Alternatively, the Folium library is available to create a Leaflet map with the WMS layer"
   ]
  },
  {
   "cell_type": "code",
   "execution_count": null,
   "id": "f21558f8-30cb-41be-b0e1-d814036823c4",
   "metadata": {},
   "outputs": [],
   "source": [
    "import os\n",
    "import folium\n",
    "\n",
    "print(folium.__version__)\n",
    "\n",
    "import folium.plugins.timestamped_wmstilelayer"
   ]
  },
  {
   "cell_type": "code",
   "execution_count": null,
   "id": "3813c642-6e04-497c-8bc1-68e10898139d",
   "metadata": {
    "tags": []
   },
   "outputs": [],
   "source": [
    "centre_lat=wms[scene_id].boundingBoxWGS84[1]+(wms[scene_id].boundingBoxWGS84[3]-wms[scene_id].boundingBoxWGS84[1])/2\n",
    "centre_long=wms[scene_id].boundingBoxWGS84[0]+(wms[scene_id].boundingBoxWGS84[2]-wms[scene_id].boundingBoxWGS84[0])/2\n",
    "m = folium.Map(location=[centre_lat, centre_long], zoom_start=7, tiles=None)\n",
    "\n",
    "folium.raster_layers.WmsTileLayer(\n",
    "    url=\"https://a.tiles.maps.eox.at\",\n",
    "    layers='terrain-light_3857',\n",
    "    name='terrain-light',\n",
    "    fmt='image/jpeg',\n",
    ").add_to(m)\n",
    "\n",
    "\n",
    "folium.raster_layers.WmsTileLayer(\n",
    "    url=wms_endpoint.partition(\"?\")[0],\n",
    "    layers=f\"{scene_id}__TRUE_COLOR\",\n",
    "    name=f\"{scene_id}__TRUE_COLOR\",\n",
    "    fmt='image/png',\n",
    "    transparent=True,\n",
    "    overlay=True,\n",
    "    control=True,\n",
    ").add_to(m)\n",
    "\n",
    "folium.raster_layers.WmsTileLayer(\n",
    "    url=wms_endpoint.partition(\"?\")[0],\n",
    "    layers=f\"{scene_id}__outlines\",\n",
    "    name=f\"{scene_id}__outlines\",\n",
    "    fmt='image/png',\n",
    "    transparent=True,\n",
    "    overlay=True,\n",
    "    control=True,\n",
    ").add_to(m)\n",
    "\n",
    "folium.LayerControl().add_to(m)\n",
    "\n",
    "m"
   ]
  },
  {
   "cell_type": "markdown",
   "id": "9229bc99-22ca-4737-9935-08c12b14956d",
   "metadata": {},
   "source": [
    "## Showing contents of a whole collection for a given timespan."
   ]
  },
  {
   "cell_type": "code",
   "execution_count": null,
   "id": "941fb1ad-dab6-444d-a7b5-78e2d64be7c6",
   "metadata": {},
   "outputs": [],
   "source": [
    "m = folium.Map(location=[centre_lat, centre_long], zoom_start=6, tiles=None)\n",
    "\n",
    "folium.raster_layers.WmsTileLayer(\n",
    "    url=\"https://a.tiles.maps.eox.at\",\n",
    "    layers='terrain-light_3857',\n",
    "    name='terrain-light',\n",
    "    fmt='image/jpeg',\n",
    ").add_to(m)\n",
    "\n",
    "folium.raster_layers.WmsTileLayer(\n",
    "    url=wms_endpoint.partition(\"?\")[0],\n",
    "    layers='S2L2A__outlines',\n",
    "    name='Outlines',\n",
    "    fmt='image/png',\n",
    "    transparent=True,\n",
    "    overlay=True,\n",
    "    control=True,\n",
    "    time=\"2019-09-10T00:00:00Z/2019-09-11T00:00:00Z\",\n",
    ").add_to(m)\n",
    "\n",
    "\n",
    "folium.LayerControl().add_to(m)\n",
    "\n",
    "m"
   ]
  },
  {
   "cell_type": "markdown",
   "id": "13b0a179-e2d3-4833-92bd-072d4d6ba756",
   "metadata": {},
   "source": [
    "### Data Download"
   ]
  },
  {
   "cell_type": "markdown",
   "id": "8b195907-a07e-4400-a78d-291acacbff23",
   "metadata": {},
   "source": [
    "After discovering and visualizing the dataset, the user can identify the WCS link from the catalogue record and use the OWSLib WCS client to download the dataset"
   ]
  },
  {
   "cell_type": "code",
   "execution_count": null,
   "id": "70f48f6f-0ba6-4c62-aeea-c38dc99268c9",
   "metadata": {},
   "outputs": [],
   "source": [
    "tree = None\n",
    "for link in links:\n",
    "    scheme = link['scheme']\n",
    "    if scheme and 'WCS' in scheme:\n",
    "        print(link['url'])\n",
    "        wcs_endpoint=link['url'].split('?')[0]\n",
    "        wcs_id=link['url'].split('eoid=')[1]\n",
    "        tree = lxml.etree.fromstring(requests.get(link['url']).content)\n",
    "        break\n",
    "\n",
    "coverage_ids = tree.xpath('wcs:CoverageDescriptions/wcs:CoverageDescription/@gml:id', namespaces=tree.nsmap)\n",
    "coverage_ids"
   ]
  },
  {
   "cell_type": "code",
   "execution_count": null,
   "id": "9ff7e085",
   "metadata": {},
   "outputs": [],
   "source": [
    "getcoverage_request = wcs_endpoint + '?service=WCS&version=2.0.1&request=GetCoverage&coverageid=' + coverage_ids[1] + '&scaleSize=x(100),y(100)&format=image/tiff'\n",
    "response = requests.get(getcoverage_request)\n",
    "response.raise_for_status()\n",
    "\n",
    "content = response.content\n",
    "img1 = plt.imshow(imread(BytesIO(content)),extent=[23.4,24.5,37.8,38.8],aspect='auto')\n",
    "plt.show()"
   ]
  },
  {
   "cell_type": "markdown",
   "id": "4708f193-9bf9-4287-a78d-64e5ca7b18bb",
   "metadata": {},
   "source": [
    "## Data Access v2"
   ]
  },
  {
   "cell_type": "code",
   "execution_count": null,
   "id": "e72dcf8a-7ed9-44d6-9cc4-00244058e653",
   "metadata": {},
   "outputs": [],
   "source": [
    "base_domain = \"develop.eoepca.org\""
   ]
  },
  {
   "cell_type": "markdown",
   "id": "213343e6-9525-48fb-b703-6532ca9a9466",
   "metadata": {},
   "source": [
    "## Data Discovery (STAC)"
   ]
  },
  {
   "cell_type": "code",
   "execution_count": null,
   "id": "39d2ba4c-5faa-4bcc-8f73-6e5eef70e257",
   "metadata": {},
   "outputs": [],
   "source": [
    "import json\n",
    "import requests\n",
    "from folium import Map, TileLayer\n",
    "from pystac_client import Client"
   ]
  },
  {
   "cell_type": "markdown",
   "id": "d86c2516-20f7-4d8e-b8ca-641b836f71ed",
   "metadata": {},
   "source": [
    "#### Define a STAC query and validate its returns"
   ]
  },
  {
   "cell_type": "code",
   "execution_count": null,
   "id": "4c19cee1-5ac6-429d-9fb6-6d3a766f8ce2",
   "metadata": {},
   "outputs": [],
   "source": [
    "# See STAC API docs at https://eoapi.develop.eoepca.org/stac/api.html\n",
    "STAC_API_URL = f\"https://eoapi.{base_domain}/stac\"\n",
    "RASTER_API_URL = f\"https://eoapi.{base_domain}/raster\"\n",
    "COLLECTION_ID = \"sentinel-2-iceland\""
   ]
  },
  {
   "cell_type": "code",
   "execution_count": null,
   "id": "2e80b34f-3670-4013-8f6e-4c99e541e1bd",
   "metadata": {},
   "outputs": [],
   "source": [
    "STAC_API_URL"
   ]
  },
  {
   "cell_type": "code",
   "execution_count": null,
   "id": "66d0ed7f-fcf9-4841-b53b-f441742a91a2",
   "metadata": {},
   "outputs": [],
   "source": [
    "# Search against the STAC API\n",
    "catalog = Client.open(STAC_API_URL)\n",
    "catalog.id"
   ]
  },
  {
   "cell_type": "code",
   "execution_count": null,
   "id": "a9451260-f82a-449e-ab2e-97994d74ad09",
   "metadata": {},
   "outputs": [],
   "source": [
    "# Select a collection\n",
    "collections_filter = {\n",
    "    \"op\": \"=\",\n",
    "    \"args\": [{\"property\": \"collection\"}, COLLECTION_ID],\n",
    "}"
   ]
  },
  {
   "cell_type": "code",
   "execution_count": null,
   "id": "d8c41b06-10cf-41a4-b379-a4fc38f25ec2",
   "metadata": {},
   "outputs": [],
   "source": [
    "# Define your area of interest\n",
    "AOI = {\n",
    "  \"type\": \"Polygon\",\n",
    "  \"coordinates\": [\n",
    "    [\n",
    "      [-21.470015412404706, 63.55594801099713],\n",
    "      [-20.336567910645556, 63.55594801099713],\n",
    "      [-20.336567910645556, 64.17209253282897],\n",
    "      [-21.470015412404706, 64.17209253282897],\n",
    "      [-21.470015412404706, 63.55594801099713]\n",
    "    ]\n",
    "  ]\n",
    "}\n",
    "spatial_filter = {\"op\": \"s_intersects\", \"args\": [{\"property\": \"geometry\"}, AOI]}"
   ]
  },
  {
   "cell_type": "code",
   "execution_count": null,
   "id": "e80ea573-d659-48ee-8683-cd0df8412bee",
   "metadata": {},
   "outputs": [],
   "source": [
    "# Define your time interval of interest\n",
    "TIME_INTERVAL = [\"2023-07-01T00:00:00Z\", \"2023-07-31T23:59:59Z\"]\n",
    "temporal_filter = {\n",
    "    \"op\": \"t_intersects\",\n",
    "    \"args\": [{\"property\": \"datetime\"}, {\"interval\": TIME_INTERVAL}],\n",
    "}"
   ]
  },
  {
   "cell_type": "code",
   "execution_count": null,
   "id": "8aa8b79c-33a0-4414-89cc-b0bc068af5b3",
   "metadata": {},
   "outputs": [],
   "source": [
    "# Additional filters can be applied for other search criteria like <= maximum eo:cloud_cover in item properties\n",
    "cloud_filter = {\"op\": \"<=\", \"args\": [{\"property\": \"eo:cloud_cover\"}, 100]}"
   ]
  },
  {
   "cell_type": "code",
   "execution_count": null,
   "id": "84ac51db-ee6f-413a-bc64-99e900aa47a4",
   "metadata": {},
   "outputs": [],
   "source": [
    "# Define your search with CQL2 syntax\n",
    "SEARCH_BODY = {\n",
    "    \"filter-lang\": \"cql2-json\",\n",
    "    \"limit\": 20,\n",
    "    \"sortby\": [{\"direction\": \"desc\", \"field\": \"properties.datetime\"}],\n",
    "    \"context\": \"on\",  # add context for a summary of matched results\n",
    "    \"filter\": {\n",
    "        \"op\": \"and\",\n",
    "        \"args\": [collections_filter, spatial_filter, temporal_filter, cloud_filter],\n",
    "    },\n",
    "}"
   ]
  },
  {
   "cell_type": "code",
   "execution_count": null,
   "id": "e8710bf1-719b-406b-8002-71d30d003dbb",
   "metadata": {},
   "outputs": [],
   "source": [
    "# Note this search body can also be used for a stac item search\n",
    "\n",
    "response = requests.post(\n",
    "    f\"{STAC_API_URL}/search\",\n",
    "    json=SEARCH_BODY\n",
    ")\n",
    "response.raise_for_status()\n",
    "stac_items = response.json()\n",
    "\n",
    "# Check how many items were matched in search\n",
    "print(\"returned {numberReturned} out of {numberMatched} matching items\".format(**stac_items))"
   ]
  },
  {
   "cell_type": "markdown",
   "id": "693093df-c894-41af-9c0e-08b0f333f362",
   "metadata": {},
   "source": [
    "## Visualize a Single Item With Dynamic Tiles (XYZ)"
   ]
  },
  {
   "cell_type": "code",
   "execution_count": null,
   "id": "6314d543-d7c7-4a8a-bb53-6b6d587c6e47",
   "metadata": {},
   "outputs": [],
   "source": [
    "first_item = stac_items[\"features\"][0]"
   ]
  },
  {
   "cell_type": "code",
   "execution_count": null,
   "id": "3a8584f2-82f2-46d7-abf8-b93c60941a35",
   "metadata": {},
   "outputs": [],
   "source": [
    "first_item[\"id\"]"
   ]
  },
  {
   "cell_type": "code",
   "execution_count": null,
   "id": "ff717b0c-8d64-4e03-9981-71110f16ef4f",
   "metadata": {},
   "outputs": [],
   "source": [
    "collection_id = COLLECTION_ID\n",
    "item_id = first_item[\"id\"]\n",
    "response = requests.get(\n",
    "    f\"{RASTER_API_URL}/collections/{collection_id}/items/{item_id}/tilejson.json\",\n",
    "    params={\n",
    "        # Info to add to the tilejson response\n",
    "        \"minzoom\": 9,\n",
    "        \"maxzoom\": 12,\n",
    "        \"assets\": [\"red\", \"green\", \"blue\"],\n",
    "        \"color_formula\": \"Gamma RGB 5 Saturation 0.8 Sigmoidal RGB 20 0.35\",\n",
    "        \"nodata\": 0,\n",
    "    },\n",
    ")\n",
    "response.raise_for_status()\n",
    "tilejson = response.json()"
   ]
  },
  {
   "cell_type": "code",
   "execution_count": null,
   "id": "a9181f61-b597-42a5-aaab-3fe9027b6835",
   "metadata": {},
   "outputs": [],
   "source": [
    "tilejson"
   ]
  },
  {
   "cell_type": "code",
   "execution_count": null,
   "id": "4c319780-4544-492e-a169-c93abe5fec60",
   "metadata": {},
   "outputs": [],
   "source": [
    "map_center = tilejson[\"center\"][:2][::-1]"
   ]
  },
  {
   "cell_type": "code",
   "execution_count": null,
   "id": "1658b1e8-7671-465f-944c-b3a5af33650d",
   "metadata": {},
   "outputs": [],
   "source": [
    "# Set up a map located w/in event bounds\n",
    "m = Map(\n",
    "    tiles=\"OpenStreetMap\",\n",
    "    location=map_center,\n",
    "    zoom_start=tilejson[\"minzoom\"],\n",
    "    min_zoom=0,\n",
    "    max_zoom=20\n",
    ")\n",
    "\n",
    "# Add the formatted map layer\n",
    "map_layer = TileLayer(\n",
    "    tiles=tilejson[\"tiles\"][0],\n",
    "    attr=\"Contains modified Copernicus Sentinel-2 data\",\n",
    ")\n",
    "map_layer.add_to(m)\n",
    "m"
   ]
  },
  {
   "cell_type": "markdown",
   "id": "48802429-a5d9-4805-b8e4-544261bde1bb",
   "metadata": {},
   "source": [
    "### Visualize a Spatio-Temporal Mosaic With Dynamic Tiles (XYZ)"
   ]
  },
  {
   "cell_type": "code",
   "execution_count": null,
   "id": "e3e6e48c-fcf3-4e85-8e25-f0e569ffd6ec",
   "metadata": {},
   "outputs": [],
   "source": [
    "# Register a mosaic for your STAC query\n",
    "response = requests.post(\n",
    "    f\"{RASTER_API_URL}/searches/register\",\n",
    "    json=SEARCH_BODY,\n",
    ")\n",
    "response.raise_for_status()\n",
    "mosaic = response.json()\n",
    "print(json.dumps(mosaic, indent=2))"
   ]
  },
  {
   "cell_type": "code",
   "execution_count": null,
   "id": "e74d3244-dd67-4567-a04f-9dfbad5527ac",
   "metadata": {},
   "outputs": [],
   "source": [
    "# Get base url for tiler from the register mosaic request\n",
    "tiles_href = next(\n",
    "    link[\"href\"] for link in mosaic[\"links\"] if link[\"rel\"] == \"tilejson\"\n",
    ")\n",
    "# Set the tileMatrixSetId\n",
    "tiles_href = tiles_href.format(**{\"tileMatrixSetId\": \"WebMercatorQuad\"})"
   ]
  },
  {
   "cell_type": "code",
   "execution_count": null,
   "id": "6d51835c-d9f7-4ec1-892c-204e6e800ac2",
   "metadata": {},
   "outputs": [],
   "source": [
    "response = requests.get(\n",
    "    tiles_href,\n",
    "    params={\n",
    "        # Info to add to the tilejson response\n",
    "        \"minzoom\": 9,\n",
    "        \"maxzoom\": 12,\n",
    "        \"assets\": [\"red\", \"green\", \"blue\"],\n",
    "        \"color_formula\": \"Gamma RGB 5 Saturation 0.8 Sigmoidal RGB 20 0.35\",\n",
    "        \"nodata\": 0,\n",
    "    },\n",
    ")\n",
    "response.raise_for_status()\n",
    "tilejson = response.json()"
   ]
  },
  {
   "cell_type": "code",
   "execution_count": null,
   "id": "a8eee117-4a78-46ee-83c2-75f942866dba",
   "metadata": {},
   "outputs": [],
   "source": [
    "tilejson"
   ]
  },
  {
   "cell_type": "code",
   "execution_count": null,
   "id": "ef05280c-ac24-4b27-a92e-84e8e80a83e3",
   "metadata": {},
   "outputs": [],
   "source": [
    "# Set up a map located w/in event bounds\n",
    "m = Map(\n",
    "    tiles=\"OpenStreetMap\",\n",
    "    location=map_center,\n",
    "    zoom_start=tilejson[\"minzoom\"],\n",
    "    min_zoom=0,\n",
    "    max_zoom=20\n",
    ")\n",
    "\n",
    "# Add the formatted map layer\n",
    "map_layer = TileLayer(\n",
    "    tiles=tilejson[\"tiles\"][0],\n",
    "    attr=\"Contains modified Copernicus Sentinel-2 data\",\n",
    ")\n",
    "map_layer.add_to(m)\n",
    "m"
   ]
  },
  {
   "cell_type": "markdown",
   "id": "8d482f2d-f6d8-4717-84f0-3b5536f02620",
   "metadata": {},
   "source": [
    "## Access a multidimensional dataset (NetCDF, Zarr)"
   ]
  },
  {
   "cell_type": "code",
   "execution_count": null,
   "id": "c30ed1f1-b66f-4105-96ca-03c2cb7b3a71",
   "metadata": {},
   "outputs": [],
   "source": [
    "import json\n",
    "\n",
    "import requests\n",
    "from folium import Map, TileLayer"
   ]
  },
  {
   "cell_type": "code",
   "execution_count": null,
   "id": "b7c0ddf6-2eb3-47d5-a572-2f6a4c115718",
   "metadata": {},
   "outputs": [],
   "source": [
    "base_domain = \"develop.eoepca.org\""
   ]
  },
  {
   "cell_type": "code",
   "execution_count": null,
   "id": "444b8fe5-af5f-42c5-a640-260645fe5aa0",
   "metadata": {},
   "outputs": [],
   "source": [
    "MULTIDIM_API_URL = f\"https://eoapi.{base_domain}/multidim/md\"\n",
    "CEDA_EOCIS_NETCDF = \"https://dap.ceda.ac.uk/neodc/eocis/data/global_and_regional/sea_surface_temperature/CDR_v3/Analysis/L4/v3.0.1/2024/06/22/20240622120000-ESACCI-L4_GHRSST-SSTdepth-OSTIA-GLOB_ICDR3.0-v02.0-fv01.0.nc\""
   ]
  },
  {
   "cell_type": "code",
   "execution_count": null,
   "id": "91255dd2-2907-4ec9-b389-8b503674b708",
   "metadata": {},
   "outputs": [],
   "source": [
    "response = requests.get(f\"{MULTIDIM_API_URL}/variables\", params={\"url\": CEDA_EOCIS_NETCDF})\n",
    "response.raise_for_status()\n",
    "print(response.json())"
   ]
  },
  {
   "cell_type": "code",
   "execution_count": null,
   "id": "2fc9e681-6c44-48f6-a2e0-e33aa7e1c769",
   "metadata": {},
   "outputs": [],
   "source": [
    "CEDA_EOCIS_VARIABLE = \"sea_ice_fraction\"\n",
    "assert CEDA_EOCIS_VARIABLE in response.json()"
   ]
  },
  {
   "cell_type": "code",
   "execution_count": null,
   "id": "9e5af9f0-c54d-437f-a569-40e6d7c1eb08",
   "metadata": {},
   "outputs": [],
   "source": [
    "response = requests.get(\n",
    "    f\"{MULTIDIM_API_URL}/info\",\n",
    "    params={\n",
    "        \"url\": CEDA_EOCIS_NETCDF,\n",
    "        \"variable\": CEDA_EOCIS_VARIABLE,\n",
    "        \"decode_times\": True,\n",
    "        \"show_times\": True,\n",
    "    }\n",
    ")\n",
    "response.raise_for_status()\n",
    "print(json.dumps(response.json(), indent=4))"
   ]
  },
  {
   "cell_type": "code",
   "execution_count": null,
   "id": "82e972a9-e3c0-41d9-92cf-13bfd66d2251",
   "metadata": {},
   "outputs": [],
   "source": [
    "tilejson = requests.get(\n",
    "    f\"{MULTIDIM_API_URL}/WebMercatorQuad/tilejson.json\",\n",
    "    params = {\n",
    "        \"url\": CEDA_EOCIS_NETCDF,\n",
    "        \"variable\": CEDA_EOCIS_VARIABLE,\n",
    "        \"rescale\": \"0,1\",\n",
    "        \"colormap_name\": \"blues_r\",\n",
    "    }\n",
    ").json()\n",
    "print(tilejson)\n",
    "\n",
    "bounds = tilejson[\"bounds\"]\n",
    "\n",
    "# The dataset is quite big so we MUST restrict to the higher zoom level (NetCDF do not have overviews)\n",
    "maxzoom = tilejson[\"maxzoom\"]\n",
    "\n",
    "m = Map(\n",
    "    location=((bounds[1] + bounds[3]) / 2,(bounds[0] + bounds[2]) / 2),\n",
    "    zoom_start=maxzoom\n",
    ")\n",
    "\n",
    "TileLayer(\n",
    "    tiles=tilejson[\"tiles\"][0],\n",
    "    opacity=1,\n",
    "    attr=\"EOCIS\",\n",
    "    min_native_zoom=maxzoom,\n",
    "    max_native_zoom=maxzoom,\n",
    ").add_to(m)\n",
    "\n",
    "m"
   ]
  },
  {
   "cell_type": "markdown",
   "id": "e5f75df3-85c3-4b14-b7e4-421ac40e4f0a",
   "metadata": {},
   "source": [
    "## (WIP) Protected STAC API Transaction Extension methods (POST to /collections etc.) require authorization\n",
    "\n",
    "WIP, see https://github.com/EOEPCA/resource-discovery/issues/106"
   ]
  },
  {
   "cell_type": "code",
   "execution_count": null,
   "id": "06fd6c25-bcd3-4bc2-a99c-55508471549e",
   "metadata": {},
   "outputs": [],
   "source": [
    "base_domain = \"apx.develop.eoepca.org\"\n",
    "\n",
    "PROTECTED_STAC_API_URL = f\"https://eoapi.{base_domain}/stac\""
   ]
  },
  {
   "cell_type": "code",
   "execution_count": null,
   "id": "72f119a4-8df8-458f-8846-d4ea58f5bfcf",
   "metadata": {},
   "outputs": [],
   "source": [
    "import requests"
   ]
  },
  {
   "cell_type": "code",
   "execution_count": null,
   "id": "9d4981b2-52c1-4696-9931-de5392b18ef1",
   "metadata": {},
   "outputs": [],
   "source": [
    "response = requests.get(f\"{PROTECTED_STAC_API_URL}/collections\")\n",
    "response.raise_for_status()\n",
    "assert \"collections\" in response.json()"
   ]
  },
  {
   "cell_type": "code",
   "execution_count": null,
   "id": "00855a05-0a32-412b-86d8-9f0424b4ce9e",
   "metadata": {},
   "outputs": [],
   "source": [
    "response = requests.post(f\"{PROTECTED_STAC_API_URL}/collections\")\n",
    "assert response.status_code == 401  # 401 Unauthorized"
   ]
  },
  {
   "cell_type": "markdown",
   "id": "f7679972",
   "metadata": {},
   "source": [
    "## Data Visualization with Maps (OGC API Maps)"
   ]
  },
  {
   "cell_type": "code",
   "execution_count": null,
   "id": "6e21d188",
   "metadata": {},
   "outputs": [],
   "source": [
    "collection = \"sentinel-2-l2a-render\"\n",
    "response = requests.get(f\"{PROTECTED_STAC_API_URL}/collections/{collection}\")\n",
    "response.json()[\"renders\"]"
   ]
  },
  {
   "cell_type": "code",
   "execution_count": null,
   "id": "e9fb2e7d",
   "metadata": {},
   "outputs": [],
   "source": [
    "MAPS_API_URL = f\"https://maps.develop.eoepca.org\"\n",
    "from PIL import Image\n",
    "from IPython.display import display\n",
    "import io\n",
    "params = {\n",
    "    \"bbox\": \"-22,64,-21.7,64.3\",\n",
    "    \"datetime\": \"2023-10-31T00:00:00Z/2023-10-31T23:59:59Z\",\n",
    "    \"width\": 256,\n",
    "    \"height\": 256,\n",
    "}\n",
    "response = requests.get(f\"{MAPS_API_URL}/collections/{collection}/map\", params=params)\n",
    "response.raise_for_status()\n",
    "img = Image.open(io.BytesIO(response.content))\n",
    "display(img)"
   ]
  },
  {
   "cell_type": "code",
   "execution_count": null,
   "id": "c267aafc",
   "metadata": {},
   "outputs": [],
   "source": [
    "collection = \"sentinel-2-l2a-render\"\n",
    "style = \"ndvi\"\n",
    "params = {\n",
    "    \"bbox\": \"-22,64,-21.7,64.3\",\n",
    "    \"datetime\": \"2023-10-31T00:00:00Z/2023-10-31T23:59:59Z\",\n",
    "    \"width\": 256,\n",
    "    \"height\": 256,\n",
    "}\n",
    "response = requests.get(f\"{MAPS_API_URL}/collections/{collection}/styles/{style}/map\", params=params)\n",
    "response.raise_for_status()\n",
    "img = Image.open(io.BytesIO(response.content))\n",
    "display(img)"
   ]
  },
  {
   "cell_type": "code",
   "execution_count": null,
   "id": "2da468ad",
   "metadata": {},
   "outputs": [],
   "source": [
    "MAPS_API_URL = f\"https://maps.{base_domain}\"\n",
    "from PIL import Image\n",
    "from IPython.display import display\n",
    "params = {\n",
    "    \"bbox\": \"-24.36,63.49,-21.28,65.69\",\n",
    "    \"datetime\": \"2023-10-31T00:00:00Z/2023-11-08T23:59:59Z\",\n",
    "    \"width\": 256,\n",
    "    \"height\": 256,\n",
    "}\n",
    "response = requests.get(f\"{MAPS_API_URL}/collections/{collection}/map\", params=params)\n",
    "response.raise_for_status()\n",
    "img = Image.open(BytesIO(response.content))\n",
    "display(img)"
   ]
  },
  {
   "cell_type": "markdown",
   "id": "5d1fa38d-6d15-4c73-81b7-041efd7bb355",
   "metadata": {},
   "source": [
    "## (Paused) Data Analysis with Coverages (OGC API Coverages)"
   ]
  },
  {
   "cell_type": "code",
   "execution_count": null,
   "id": "fd109d9c-1515-43ee-a97d-e215a6b8e1df",
   "metadata": {},
   "outputs": [],
   "source": [
    "# COV_API_URL = f\"https://stacture.{base_domain}\"\n",
    "# import requests\n",
    "# from rasterio.io import MemoryFile\n",
    "# COV_COLLECTIONS = f\"{COV_API_URL}/collections\"\n",
    "# resp = requests.get(COV_COLLECTIONS).json()\n",
    "# for collection in resp['collections']:\n",
    "#     print(\"####\")\n",
    "#     print(collection['title'])\n",
    "#     print(collection['id'])\n",
    "\n",
    "# collection_id = collection['id']\n",
    "# COLLECTION_URL = f\"{COV_API_URL}/collections/{collection_id}\"\n",
    "# resp = requests.get(COLLECTION_URL).json()\n",
    "# print(resp[\"description\"])\n",
    "# print(resp['extent'])\n",
    "# COVERAGE_URL = f\"{COLLECTION_URL}/coverage\"\n",
    "# params = {\n",
    "#     \"bbox\": \"18.5,52.4,18.7,52.7\",\n",
    "#     \"datetime\": \"2023-12-31T10:00:00Z/2023-12-31T10:05:00Z\",\n",
    "#     \"bbox-crs\": \"EPSG:4326\",\n",
    "#     \"width\": 512,\n",
    "#     \"height\": 512,\n",
    "#     \"f\": \"image/tiff\",\n",
    "# }\n",
    "# resp = requests.get(COVERAGE_URL, params=params)\n",
    "# resp\n",
    "# with MemoryFile(resp.content) as memfile:\n",
    "#     with memfile.open() as dataset:\n",
    "#         print(\"BBOX:\", dataset.bounds)\n",
    "#         print(\"CRS:\", dataset.crs)\n",
    "#         data_array = dataset.read()\n",
    "\n",
    "# print(\"SHAPE:\", data_array.shape)\n",
    "# print(\"MIN:\", data_array.min())\n",
    "# print(\"MAX:\", data_array.max())\n",
    "# print(\"MEAN:\", data_array.mean())\n",
    "# print(\"STDEV:\", data_array.std())\n",
    "# SCENES = f\"{COV_API_URL}/collections/{collection_id}/scenes\"\n",
    "# resp = requests.get(SCENES).json()\n",
    "# for scene in resp['scenes']:\n",
    "#     print(scene)"
   ]
  },
  {
   "cell_type": "markdown",
   "id": "22a1e00e",
   "metadata": {},
   "source": [
    "## Managing API resources with login"
   ]
  },
  {
   "cell_type": "code",
   "execution_count": null,
   "id": "ccfa95b4",
   "metadata": {},
   "outputs": [],
   "source": [
    "realm = \"eoepca\"\n",
    "base_domain = \"apx.develop.eoepca.org\"\n",
    "keycloak_endpoint = f\"https://iam-auth.{base_domain}\"\n",
    "token_endpoint = f\"{keycloak_endpoint}/realms/{realm}/protocol/openid-connect/token\"\n",
    "print(token_endpoint)"
   ]
  },
  {
   "cell_type": "code",
   "execution_count": null,
   "id": "05f1e72a",
   "metadata": {},
   "outputs": [],
   "source": [
    "def iam_token(username, password):\n",
    "    headers = {\n",
    "        \"Cache-Control\": \"no-cache\",\n",
    "        \"Content-Type\": \"application/x-www-form-urlencoded\"\n",
    "    }\n",
    "    data = {\n",
    "        \"scope\": \"roles\",\n",
    "        \"grant_type\": \"password\",\n",
    "        \"username\": username,\n",
    "        \"password\": password,\n",
    "        \"client_id\": \"demo\",\n",
    "        \"client_secret\": \"demo\"\n",
    "    }\n",
    "    response = requests.post(token_endpoint, headers=headers, data=data)\n",
    "    if response.ok:\n",
    "        return response.json()[\"access_token\"]\n",
    "    else:\n",
    "        print(response)\n",
    "        return None"
   ]
  },
  {
   "cell_type": "code",
   "execution_count": null,
   "id": "13f3529a",
   "metadata": {},
   "outputs": [],
   "source": [
    "import jwt\n",
    "import requests\n",
    "token_admin = iam_token(\"example-admin\", \"changeme\")\n",
    "token_eric = iam_token(\"eric\", \"changeme\")\n",
    "decoded_token_admin = jwt.decode(token_admin, options={\"verify_signature\": False})\n",
    "print(token_admin)\n",
    "print(f\"\\n{decoded_token_admin}\")"
   ]
  },
  {
   "cell_type": "code",
   "execution_count": null,
   "id": "c0d1c833",
   "metadata": {},
   "outputs": [],
   "source": [
    "STAC_API_URL = f\"https://eoapi.{base_domain}/stac\"\n",
    "for collection in requests.get(f\"{STAC_API_URL}/collections\").json()['collections']:\n",
    "    print(collection['id'])"
   ]
  },
  {
   "cell_type": "code",
   "execution_count": null,
   "id": "10750d9d",
   "metadata": {},
   "outputs": [],
   "source": [
    "collections_to_delete = [\"123\", \"1234\", \"12345\", \"newcoll\", \"testing\", \"ws_eric.naip\"]\n",
    "for collection in collections_to_delete:\n",
    "    response = requests.delete(f\"{STAC_API_URL}/collections/{collection}\", headers={\"Authorization\": f\"Bearer {token_admin}\"})\n",
    "    if response.status_code > 204:\n",
    "        print(f\"Error deleting collection {collection}: {response.status_code} - {response.text}\")\n",
    "        continue\n",
    "    else:\n",
    "        print(f\"({response.status_code}) Collection {collection} deleted successfully.\")"
   ]
  },
  {
   "cell_type": "code",
   "execution_count": null,
   "id": "225e07c5",
   "metadata": {},
   "outputs": [],
   "source": [
    "private_collection = {\n",
    "    \"id\": \"ws_eric.naip\",\n",
    "    \"description\": \"Private collection for Eric's workspace\",\n",
    "    \"title\": \"Eric's NAIP Collection\",\n",
    "    \"links\": [\n",
    "        {\n",
    "            \"rel\": \"self\",\n",
    "            \"href\": f\"{STAC_API_URL}/collections/ws_eric.naip\",\n",
    "            \"type\": \"application/json\"\n",
    "        },\n",
    "        {\n",
    "            \"rel\": \"parent\",\n",
    "            \"href\": f\"{STAC_API_URL}/collections\",\n",
    "            \"type\": \"application/json\"\n",
    "        }\n",
    "    ],\n",
    "    \"extent\": {\n",
    "        \"spatial\": {\n",
    "            \"bbox\": [[-180.0, -90.0, 180.0, 90.0]]\n",
    "        },\n",
    "        \"temporal\": {\n",
    "            \"interval\": [[\"2020-01-01T00:00:00Z\", None]]\n",
    "        }\n",
    "    },\n",
    "    \"type\": \"Collection\",\n",
    "    \"stac_version\": \"1.0.0\",\n",
    "    \"license\": \"MIT\"\n",
    "}\n",
    "response = requests.post(f\"{STAC_API_URL}/collections\", json=private_collection, headers={\"Authorization\": f\"Bearer {token_eric}\"})\n",
    "print(response.status_code)\n",
    "print(response.json())"
   ]
  },
  {
   "cell_type": "code",
   "execution_count": null,
   "id": "d593ba3d",
   "metadata": {},
   "outputs": [],
   "source": [
    "import pandas as pd"
   ]
  },
  {
   "cell_type": "code",
   "execution_count": null,
   "id": "c7bb6559",
   "metadata": {},
   "outputs": [],
   "source": [
    "df = pd.read_parquet('../data/catalog.v1.parquet')\n",
    "df.head()"
   ]
  },
  {
   "cell_type": "code",
   "execution_count": null,
   "id": "c05bcc9b",
   "metadata": {},
   "outputs": [],
   "source": [
    "import stac_geoparquet\n",
    "from shapely import wkb\n",
    "import numpy as np\n",
    "\n",
    "def convert_ndarray(obj):\n",
    "    if isinstance(obj, np.ndarray):\n",
    "        return obj.tolist()\n",
    "    elif isinstance(obj, pd.Timestamp):\n",
    "        return obj.isoformat()\n",
    "    elif isinstance(obj, dict):\n",
    "        return {k: convert_ndarray(v) for k, v in obj.items()}\n",
    "    elif isinstance(obj, list):\n",
    "        return [convert_ndarray(i) for i in obj]\n",
    "    else:\n",
    "        return obj\n",
    "\n",
    "for row in df.to_dict(orient=\"records\"):\n",
    "    # Convert geometry from WKB bytes to shapely geometry\n",
    "    if isinstance(row.get(\"geometry\"), bytes):\n",
    "        row[\"geometry\"] = wkb.loads(row[\"geometry\"])\n",
    "    dict_item = stac_geoparquet.to_dict(row)\n",
    "    dict_item['collection'] = 'ws_eric.naip'\n",
    "    # for link in dict_item[\"links\"]:\n",
    "    #     link[\"href\"] = link[\"href\"].replace(\"https://planetarycomputer.microsoft.com/api/stac/v1\", f\"{STAC_API_URL}\")\n",
    "\n",
    "    # Convert all numpy arrays to lists for JSON serialization\n",
    "    dict_item = convert_ndarray(dict_item)\n",
    "\n",
    "    dict_item['bbox'] = [\n",
    "        dict_item['bbox']['xmin'],\n",
    "        dict_item['bbox']['ymin'],\n",
    "        dict_item['bbox']['xmax'],\n",
    "        dict_item['bbox']['ymax'],\n",
    "        ]\n",
    "\n",
    "    dict_item['type'] = \"Feature\"\n",
    "    dict_item['assets']['thumbnail']['href'] = dict_item['assets']['thumbnail']['href'].replace(\"./\", \"https://naipeuwest.blob.core.windows.net/naip/\")\n",
    "\n",
    "    print(dict_item)\n",
    "    response = requests.post(\n",
    "        f\"{STAC_API_URL}/collections/ws_eric.naip/items\",\n",
    "        json=dict_item,\n",
    "        headers={\"Authorization\": f\"Bearer {token_admin}\"}\n",
    "    )\n",
    "    print(f\"({response.status_code}) {dict_item['id']} added to collection ws_eric.naip\")\n",
    "    print(response.json())\n"
   ]
  }
 ],
 "metadata": {
  "kernelspec": {
   "display_name": "eoepca-demo",
   "language": "python",
   "name": "python3"
  },
  "language_info": {
   "codemirror_mode": {
    "name": "ipython",
    "version": 3
   },
   "file_extension": ".py",
   "mimetype": "text/x-python",
   "name": "python",
   "nbconvert_exporter": "python",
   "pygments_lexer": "ipython3",
   "version": "3.10.4"
  }
 },
 "nbformat": 4,
 "nbformat_minor": 5
}
