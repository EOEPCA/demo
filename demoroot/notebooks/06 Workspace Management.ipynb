{
 "cells": [
  {
   "cell_type": "markdown",
   "id": "788a6dc1-ec4c-48aa-a3b8-d0de349c418a",
   "metadata": {},
   "source": [
    "## Workspace Management demo"
   ]
  },
  {
   "cell_type": "markdown",
   "id": "88d55bcb-6eba-4ac3-af24-67c5d286921f",
   "metadata": {},
   "source": [
    "This notebook presents examples of how to manage user workspaces."
   ]
  },
  {
   "cell_type": "code",
   "execution_count": null,
   "id": "bfc4d810-e4c0-42a4-9af7-d1290e510671",
   "metadata": {},
   "outputs": [],
   "source": [
    "import requests\n",
    "import datetime"
   ]
  },
  {
   "cell_type": "code",
   "execution_count": null,
   "id": "714ed0c2-f078-4cf4-ad87-5db2c126c846",
   "metadata": {},
   "outputs": [],
   "source": [
    "base_domain = \"demo.eoepca.org\"\n",
    "# base_domain = \"develop.eoepca.org\"\n",
    "workspaces_endpoint = f'https://workspace-api-open.{base_domain}/workspaces'"
   ]
  },
  {
   "cell_type": "markdown",
   "id": "73e7a1ed-09bb-40a4-8fae-d777d7f60c8b",
   "metadata": {},
   "source": [
    "We want to associate the workspace with a user. Also, some operations on the workspace require a logged in user. So we are using the client and use Eric as an owner."
   ]
  },
  {
   "cell_type": "code",
   "execution_count": null,
   "id": "f8949fe0-b1f6-433f-bf64-61be535b6d48",
   "metadata": {},
   "outputs": [],
   "source": [
    "import utils.DemoClient as client\n",
    "import jwt\n",
    "\n",
    "demo = client.DemoClient(f\"https://test.{base_domain}\")\n",
    "demo.register_client()\n",
    "demo.save_state()"
   ]
  },
  {
   "cell_type": "code",
   "execution_count": null,
   "id": "13d59c13-7b68-4d0f-a54a-59ac27be3956",
   "metadata": {},
   "outputs": [],
   "source": [
    "USER_ERIC=\"eric\"\n",
    "USER_ERIC_PASSWORD=\"defaultPWD\"\n",
    "eric_id_token = demo.get_id_token(USER_ERIC, USER_ERIC_PASSWORD)\n",
    "headers = {\n",
    "    'Authorization': 'Bearer ' + eric_id_token\n",
    "}\n",
    "\n",
    "jwt_header = jwt.get_unverified_header(eric_id_token)\n",
    "jwt_payload = jwt.decode(eric_id_token, options={\"verify_signature\": False})\n",
    "eric_uid = jwt_payload[\"sub\"]"
   ]
  },
  {
   "cell_type": "markdown",
   "id": "a23a0f74-e8d4-4996-bf7c-dc4f373a0263",
   "metadata": {},
   "source": [
    "### Creation and retrieval of credentials"
   ]
  },
  {
   "cell_type": "markdown",
   "id": "a4e2ded5-4098-40b5-b1f9-43c5ee595a19",
   "metadata": {},
   "source": [
    "The following request will create a user workspace."
   ]
  },
  {
   "cell_type": "code",
   "execution_count": null,
   "id": "69c48898-6fe7-4376-a224-c95658c9ff63",
   "metadata": {},
   "outputs": [],
   "source": [
    "preferred_workspace_name = f\"my-new-user-{datetime.datetime.now().timestamp():.0f}\"\n",
    "preferred_workspace_name"
   ]
  },
  {
   "cell_type": "code",
   "execution_count": null,
   "id": "1aecf9b0-f7ba-4f0e-ab8d-0641b9cb14bb",
   "metadata": {},
   "outputs": [],
   "source": [
    "response = requests.post(\n",
    "    workspaces_endpoint,\n",
    "    json={\n",
    "        \"preferred_name\": preferred_workspace_name,\n",
    "        \"default_owner\": eric_uid,\n",
    "    }\n",
    ")\n",
    "response.raise_for_status()\n",
    "actual_workspace_name = response.json()['name']\n",
    "response.json()"
   ]
  },
  {
   "cell_type": "markdown",
   "id": "3d3950b6-c4ae-413e-a7d2-e210c503217d",
   "metadata": {},
   "source": [
    "Workspace creation is an asynchronous process, so when we try to retrieve the workspace data right now, we see that it is still provisioning."
   ]
  },
  {
   "cell_type": "code",
   "execution_count": null,
   "id": "fa8fbce2-3a6e-497d-af36-ebeff5096430",
   "metadata": {},
   "outputs": [],
   "source": [
    "response = requests.get(f\"{workspaces_endpoint}/{actual_workspace_name}\")\n",
    "response.raise_for_status()\n",
    "response.json()"
   ]
  },
  {
   "cell_type": "code",
   "execution_count": null,
   "id": "e7b202a4-f312-46b1-b69d-ce018a75323a",
   "metadata": {},
   "outputs": [],
   "source": [
    "import time\n",
    "# wait for provisioning\n",
    "time.sleep(10)"
   ]
  },
  {
   "cell_type": "markdown",
   "id": "d3834a77-68ab-4de6-aaf7-265628830b17",
   "metadata": {},
   "source": [
    "Now all the credentials should be set up and are available:"
   ]
  },
  {
   "cell_type": "code",
   "execution_count": null,
   "id": "52b5ed61-5ac2-441b-8371-e299ff7e5a67",
   "metadata": {},
   "outputs": [],
   "source": [
    "response = requests.get(f\"{workspaces_endpoint}/{actual_workspace_name}\")\n",
    "response.raise_for_status()\n",
    "\n",
    "workspace_data = response.json()\n",
    "workspace_data[\"storage\"][\"credentials\"]['secret'] = \"hidden_for_demo\"\n",
    "workspace_data[\"container_registry\"][\"password\"] = \"hidden_for_demo\"\n",
    "workspace_data"
   ]
  },
  {
   "cell_type": "markdown",
   "id": "02484c7f-6447-4d80-bc7f-bc528639b101",
   "metadata": {},
   "source": [
    "## Registration\n",
    "\n",
    "We will now register an ADES instance in the workspace API"
   ]
  },
  {
   "cell_type": "code",
   "execution_count": null,
   "id": "d801b145-4e81-48da-9cf5-6078299d2e4f",
   "metadata": {},
   "outputs": [],
   "source": [
    "response = requests.post(\n",
    "    f\"{workspaces_endpoint}/{actual_workspace_name}/register\",\n",
    "    json={\n",
    "        \"type\": \"ades\",\n",
    "        \"url\": \"https://demo.pygeoapi.io/stable/processes\",\n",
    "    }\n",
    ")\n",
    "response.raise_for_status()\n",
    "response"
   ]
  },
  {
   "cell_type": "markdown",
   "id": "916ac61a-0c90-4602-82df-b52aec2ac4fd",
   "metadata": {},
   "source": [
    "Check if the ADES is actually registered:"
   ]
  },
  {
   "cell_type": "code",
   "execution_count": null,
   "id": "4d1b8047-05d1-417e-80d0-98e330e589cb",
   "metadata": {},
   "outputs": [],
   "source": [
    "time.sleep(3)\n",
    "response = requests.get(f\"https://resource-catalogue.{actual_workspace_name}.{base_domain}/collections/metadata:main/items?type=application\", headers=dict(f=\"json\", **headers))\n",
    "response.raise_for_status()\n",
    "response.json()"
   ]
  },
  {
   "cell_type": "markdown",
   "id": "134e4289-92a1-40d8-843e-dc4d92eb6fba",
   "metadata": {},
   "source": [
    "Now we create a new collection:"
   ]
  },
  {
   "cell_type": "code",
   "execution_count": null,
   "id": "02ccf6b2-2053-4caf-bd06-279b2300bdef",
   "metadata": {},
   "outputs": [],
   "source": [
    "collection = requests.get(\"https://raw.githubusercontent.com/radiantearth/stac-spec/master/examples/collection.json\").json()\n",
    "\n",
    "response = requests.post(\n",
    "    f\"{workspaces_endpoint}/{actual_workspace_name}/register-collection\",\n",
    "    json=collection, # TODO\n",
    ")\n",
    "response.raise_for_status()\n",
    "response"
   ]
  },
  {
   "cell_type": "markdown",
   "id": "da7ce17a-669b-4a82-a536-9e115d9b95fe",
   "metadata": {},
   "source": [
    "To see if it was registered:"
   ]
  },
  {
   "cell_type": "code",
   "execution_count": null,
   "id": "14244c32-14fe-4d58-9e6f-0cb8a190144b",
   "metadata": {},
   "outputs": [],
   "source": [
    "time.sleep(3)\n",
    "response = requests.get(f\"http://resource-catalogue.{actual_workspace_name}.{base_domain}/collections/metadata:main/items?title=simple-collection\", headers=headers)\n",
    "response.raise_for_status()\n",
    "response.json()"
   ]
  },
  {
   "cell_type": "markdown",
   "id": "bfdef034-e0e4-4638-b63d-707e24b13845",
   "metadata": {},
   "source": [
    "## Redeploy\n",
    "\n",
    "In case something went wrong or an update is necessary, it's possible to trigger the provisioning again:"
   ]
  },
  {
   "cell_type": "code",
   "execution_count": null,
   "id": "bb4d03cc-9383-4964-8572-945b8c942ab2",
   "metadata": {},
   "outputs": [],
   "source": [
    "response = requests.post(\n",
    "    f\"{workspaces_endpoint}/{actual_workspace_name}/redeploy\",\n",
    ")\n",
    "response.raise_for_status()\n",
    "response"
   ]
  },
  {
   "cell_type": "markdown",
   "id": "55931099-bd7e-4f9e-ad66-503befd31863",
   "metadata": {},
   "source": [
    "## Deletion\n",
    "Workspaces can also be deleted like this:"
   ]
  },
  {
   "cell_type": "code",
   "execution_count": null,
   "id": "0fb6aebd-1f5b-4540-b085-29801080cbf3",
   "metadata": {},
   "outputs": [],
   "source": [
    "response = requests.delete(\n",
    "    f\"{workspaces_endpoint}/{actual_workspace_name}\",\n",
    ")\n",
    "response.raise_for_status()\n",
    "response"
   ]
  }
 ],
 "metadata": {
  "kernelspec": {
   "display_name": "Python 3.10.4 ('.venv': venv)",
   "language": "python",
   "name": "python3"
  },
  "language_info": {
   "codemirror_mode": {
    "name": "ipython",
    "version": 3
   },
   "file_extension": ".py",
   "mimetype": "text/x-python",
   "name": "python",
   "nbconvert_exporter": "python",
   "pygments_lexer": "ipython3",
   "version": "3.10.4"
  },
  "vscode": {
   "interpreter": {
    "hash": "a54a461fdcf44e5a224468008512edaff839d4994d71e5cd7b7eea3a4ad8d088"
   }
  }
 },
 "nbformat": 4,
 "nbformat_minor": 5
}
