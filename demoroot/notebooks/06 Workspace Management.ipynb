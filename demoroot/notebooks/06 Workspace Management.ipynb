{
 "cells": [
  {
   "cell_type": "markdown",
   "id": "788a6dc1-ec4c-48aa-a3b8-d0de349c418a",
   "metadata": {},
   "source": [
    "## Workspace Management demo"
   ]
  },
  {
   "cell_type": "markdown",
   "id": "88d55bcb-6eba-4ac3-af24-67c5d286921f",
   "metadata": {},
   "source": [
    "This notebook presents examples of how to manage user workspaces."
   ]
  },
  {
   "cell_type": "code",
   "execution_count": 1,
   "id": "bfc4d810-e4c0-42a4-9af7-d1290e510671",
   "metadata": {},
   "outputs": [],
   "source": [
    "import requests\n",
    "import datetime"
   ]
  },
  {
   "cell_type": "code",
   "execution_count": 2,
   "id": "714ed0c2-f078-4cf4-ad87-5db2c126c846",
   "metadata": {},
   "outputs": [],
   "source": [
    "# base_domain = \"demo.eoepca.org\"\n",
    "base_domain = \"develop.eoepca.org\"\n",
    "workspaces_endpoint = f'https://workspace-api.{base_domain}/workspaces'"
   ]
  },
  {
   "cell_type": "markdown",
   "id": "a23a0f74-e8d4-4996-bf7c-dc4f373a0263",
   "metadata": {},
   "source": [
    "### Creation and retrieval of credentials"
   ]
  },
  {
   "cell_type": "markdown",
   "id": "a4e2ded5-4098-40b5-b1f9-43c5ee595a19",
   "metadata": {},
   "source": [
    "The following request will create a user workspace."
   ]
  },
  {
   "cell_type": "code",
   "execution_count": 3,
   "id": "69c48898-6fe7-4376-a224-c95658c9ff63",
   "metadata": {},
   "outputs": [
    {
     "data": {
      "text/plain": [
       "'my-new-user-1647520959'"
      ]
     },
     "execution_count": 3,
     "metadata": {},
     "output_type": "execute_result"
    }
   ],
   "source": [
    "preferred_workspace_name = f\"my-new-user-{datetime.datetime.now().timestamp():.0f}\"\n",
    "preferred_workspace_name"
   ]
  },
  {
   "cell_type": "code",
   "execution_count": 4,
   "id": "1aecf9b0-f7ba-4f0e-ab8d-0641b9cb14bb",
   "metadata": {},
   "outputs": [
    {
     "data": {
      "text/plain": [
       "{'name': 'develop-user-my-new-user-1647520959'}"
      ]
     },
     "execution_count": 4,
     "metadata": {},
     "output_type": "execute_result"
    }
   ],
   "source": [
    "response = requests.post(\n",
    "    workspaces_endpoint,\n",
    "    json={\n",
    "        \"preferred_name\": preferred_workspace_name,\n",
    "    }\n",
    ")\n",
    "response.raise_for_status()\n",
    "actual_workspace_name = response.json()['name']\n",
    "response.json()"
   ]
  },
  {
   "cell_type": "markdown",
   "id": "3d3950b6-c4ae-413e-a7d2-e210c503217d",
   "metadata": {},
   "source": [
    "Workspace creation is an asynchronous process, so when we try to retrieve the workspace data right now, we see that it is still provisioning."
   ]
  },
  {
   "cell_type": "code",
   "execution_count": 5,
   "id": "fa8fbce2-3a6e-497d-af36-ebeff5096430",
   "metadata": {},
   "outputs": [
    {
     "data": {
      "text/plain": [
       "{'status': 'provisioning',\n",
       " 'endpoints': [],\n",
       " 'storage': None,\n",
       " 'container_registry': None}"
      ]
     },
     "execution_count": 5,
     "metadata": {},
     "output_type": "execute_result"
    }
   ],
   "source": [
    "response = requests.get(f\"{workspaces_endpoint}/{actual_workspace_name}\")\n",
    "response.raise_for_status()\n",
    "\n",
    "response.json()"
   ]
  },
  {
   "cell_type": "code",
   "execution_count": 6,
   "id": "e7b202a4-f312-46b1-b69d-ce018a75323a",
   "metadata": {},
   "outputs": [],
   "source": [
    "import time\n",
    "# wait for provisioning\n",
    "time.sleep(10)"
   ]
  },
  {
   "cell_type": "markdown",
   "id": "d3834a77-68ab-4de6-aaf7-265628830b17",
   "metadata": {},
   "source": [
    "Now all the credentials should be set up and are available:"
   ]
  },
  {
   "cell_type": "code",
   "execution_count": 7,
   "id": "52b5ed61-5ac2-441b-8371-e299ff7e5a67",
   "metadata": {},
   "outputs": [
    {
     "data": {
      "text/plain": [
       "{'status': 'ready',\n",
       " 'endpoints': [],\n",
       " 'storage': {'credentials': {'access': 'develop-user-my-new-user-1647520959+c81f6e30-2',\n",
       "   'bucketname': 'develop-user-my-new-user-1647520959',\n",
       "   'projectid': 'd346903185d941958475387791512554',\n",
       "   'secret': 'hidden_for_demo',\n",
       "   'endpoint': 'https://cf2.cloudferro.com:8080',\n",
       "   'region': 'RegionOne'}},\n",
       " 'container_registry': {'username': 'develop-user-my-new-user-1647520959',\n",
       "  'password': 'hidden_for_demo'}}"
      ]
     },
     "execution_count": 7,
     "metadata": {},
     "output_type": "execute_result"
    }
   ],
   "source": [
    "response = requests.get(f\"{workspaces_endpoint}/{actual_workspace_name}\")\n",
    "response.raise_for_status()\n",
    "\n",
    "workspace_data = response.json()\n",
    "workspace_data[\"storage\"][\"credentials\"]['secret'] = \"hidden_for_demo\"\n",
    "workspace_data[\"container_registry\"][\"password\"] = \"hidden_for_demo\"\n",
    "workspace_data"
   ]
  },
  {
   "cell_type": "markdown",
   "id": "bfdef034-e0e4-4638-b63d-707e24b13845",
   "metadata": {},
   "source": [
    "## Redeploy\n",
    "\n",
    "In case something went wrong or an update is necessary, it's possible to trigger the provisioning again:"
   ]
  },
  {
   "cell_type": "code",
   "execution_count": 8,
   "id": "bb4d03cc-9383-4964-8572-945b8c942ab2",
   "metadata": {},
   "outputs": [
    {
     "data": {
      "text/plain": [
       "<Response [204]>"
      ]
     },
     "execution_count": 8,
     "metadata": {},
     "output_type": "execute_result"
    }
   ],
   "source": [
    "response = requests.post(\n",
    "    f\"{workspaces_endpoint}/{actual_workspace_name}/redeploy\",\n",
    ")\n",
    "response.raise_for_status()\n",
    "response"
   ]
  },
  {
   "cell_type": "markdown",
   "id": "55931099-bd7e-4f9e-ad66-503befd31863",
   "metadata": {},
   "source": [
    "## Deletion\n",
    "Workspaces can also be deleted like this:"
   ]
  },
  {
   "cell_type": "code",
   "execution_count": 9,
   "id": "0fb6aebd-1f5b-4540-b085-29801080cbf3",
   "metadata": {},
   "outputs": [
    {
     "data": {
      "text/plain": [
       "<Response [204]>"
      ]
     },
     "execution_count": 9,
     "metadata": {},
     "output_type": "execute_result"
    }
   ],
   "source": [
    "response = requests.delete(\n",
    "    f\"{workspaces_endpoint}/{actual_workspace_name}\",\n",
    ")\n",
    "response.raise_for_status()\n",
    "response"
   ]
  }
 ],
 "metadata": {
  "kernelspec": {
   "display_name": "Python 3",
   "language": "python",
   "name": "python3"
  },
  "language_info": {
   "codemirror_mode": {
    "name": "ipython",
    "version": 3
   },
   "file_extension": ".py",
   "mimetype": "text/x-python",
   "name": "python",
   "nbconvert_exporter": "python",
   "pygments_lexer": "ipython3",
   "version": "3.9.2"
  }
 },
 "nbformat": 4,
 "nbformat_minor": 5
}
