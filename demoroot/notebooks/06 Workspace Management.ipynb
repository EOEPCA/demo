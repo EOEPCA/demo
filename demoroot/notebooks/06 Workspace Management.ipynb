{
 "cells": [
  {
   "cell_type": "markdown",
   "id": "788a6dc1-ec4c-48aa-a3b8-d0de349c418a",
   "metadata": {},
   "source": [
    "## Workspace Management demo"
   ]
  },
  {
   "cell_type": "markdown",
   "id": "88d55bcb-6eba-4ac3-af24-67c5d286921f",
   "metadata": {},
   "source": [
    "This notebook presents examples of how to manage user workspaces."
   ]
  },
  {
   "cell_type": "code",
   "execution_count": null,
   "id": "bfc4d810-e4c0-42a4-9af7-d1290e510671",
   "metadata": {},
   "outputs": [],
   "source": [
    "import requests\n",
    "import datetime"
   ]
  },
  {
   "cell_type": "code",
   "execution_count": null,
   "id": "714ed0c2-f078-4cf4-ad87-5db2c126c846",
   "metadata": {},
   "outputs": [],
   "source": [
    "base_domain = \"demo.eoepca.org\"\n",
    "# base_domain = \"develop.eoepca.org\"\n",
    "#workspaces_endpoint = f'https://workspace-api-open.{base_domain}/workspaces'\n",
    "workspaces_endpoint = f'https://workspace-api.{base_domain}/workspaces'"
   ]
  },
  {
   "cell_type": "markdown",
   "id": "73e7a1ed-09bb-40a4-8fae-d777d7f60c8b",
   "metadata": {},
   "source": [
    "We want to associate the workspace with a user. Also, some operations on the workspace require a logged in user. So we are using the client and use Eric as an owner."
   ]
  },
  {
   "cell_type": "code",
   "execution_count": null,
   "id": "f8949fe0-b1f6-433f-bf64-61be535b6d48",
   "metadata": {},
   "outputs": [],
   "source": [
    "import utils.DemoClient as client\n",
    "import jwt\n",
    "\n",
    "demo = client.DemoClient(f\"https://auth.{base_domain}\")\n",
    "#demo = client.DemoClient(f\"https://auth.{base_domain}\")\n",
    "demo.register_client()\n",
    "demo.save_state()"
   ]
  },
  {
   "cell_type": "code",
   "execution_count": null,
   "id": "13d59c13-7b68-4d0f-a54a-59ac27be3956",
   "metadata": {},
   "outputs": [],
   "source": [
    "USER_ERIC=\"eric\"\n",
    "USER_ERIC_PASSWORD=\"defaultPWD\"\n",
    "eric_id_token = demo.get_id_token(USER_ERIC, USER_ERIC_PASSWORD)\n",
    "headers = {\n",
    "    'Authorization': 'Bearer ' + eric_id_token\n",
    "}\n",
    "\n",
    "jwt_header = jwt.get_unverified_header(eric_id_token)\n",
    "jwt_payload = jwt.decode(eric_id_token, options={\"verify_signature\": False})\n",
    "eric_uid = jwt_payload[\"sub\"]"
   ]
  },
  {
   "cell_type": "code",
   "execution_count": null,
   "id": "22622410-c811-4115-a8f7-ffa47a726f8c",
   "metadata": {},
   "outputs": [],
   "source": [
    "USER_ADMIN=\"admin\"\n",
    "USER_ADMIN_PASSWORD=\"admin_Abcd1234#\"\n",
    "admin_id_token = demo.get_id_token(USER_ADMIN, USER_ADMIN_PASSWORD)\n",
    "headers = {\n",
    "    'Authorization': 'Bearer ' + admin_id_token\n",
    "}\n",
    "\n",
    "jwt_header = jwt.get_unverified_header(admin_id_token)\n",
    "jwt_payload = jwt.decode(admin_id_token, options={\"verify_signature\": False})\n",
    "admin_uid = jwt_payload[\"sub\"]"
   ]
  },
  {
   "cell_type": "markdown",
   "id": "a23a0f74-e8d4-4996-bf7c-dc4f373a0263",
   "metadata": {},
   "source": [
    "### Creation and retrieval of credentials"
   ]
  },
  {
   "cell_type": "markdown",
   "id": "a4e2ded5-4098-40b5-b1f9-43c5ee595a19",
   "metadata": {},
   "source": [
    "The following request will create a user workspace."
   ]
  },
  {
   "cell_type": "code",
   "execution_count": null,
   "id": "69c48898-6fe7-4376-a224-c95658c9ff63",
   "metadata": {},
   "outputs": [],
   "source": [
    "preferred_workspace_name = f\"my-new-user-{datetime.datetime.now().timestamp():.0f}\"\n",
    "preferred_workspace_name"
   ]
  },
  {
   "cell_type": "code",
   "execution_count": null,
   "id": "1aecf9b0-f7ba-4f0e-ab8d-0641b9cb14bb",
   "metadata": {},
   "outputs": [],
   "source": [
    "response = requests.post(\n",
    "    workspaces_endpoint,\n",
    "    headers=headers,\n",
    "    json={\n",
    "        \"preferred_name\": preferred_workspace_name,\n",
    "        \"default_owner\": admin_uid,\n",
    "    }\n",
    ")\n",
    "response.raise_for_status()\n",
    "actual_workspace_name = response.json()['name']\n",
    "response.json()"
   ]
  },
  {
   "cell_type": "markdown",
   "id": "3d3950b6-c4ae-413e-a7d2-e210c503217d",
   "metadata": {},
   "source": [
    "Workspace creation is an asynchronous process, so when we try to retrieve the workspace data right now, we see that it is still provisioning."
   ]
  },
  {
   "cell_type": "code",
   "execution_count": null,
   "id": "fa8fbce2-3a6e-497d-af36-ebeff5096430",
   "metadata": {},
   "outputs": [],
   "source": [
    "response = requests.get(f\"{workspaces_endpoint}/{actual_workspace_name}\", headers=headers)\n",
    "response.raise_for_status()\n",
    "response.json()"
   ]
  },
  {
   "cell_type": "code",
   "execution_count": null,
   "id": "e7b202a4-f312-46b1-b69d-ce018a75323a",
   "metadata": {},
   "outputs": [],
   "source": [
    "import time\n",
    "# wait for provisioning\n",
    "time.sleep(10)"
   ]
  },
  {
   "cell_type": "markdown",
   "id": "d3834a77-68ab-4de6-aaf7-265628830b17",
   "metadata": {},
   "source": [
    "Now all the credentials should be set up and are available:"
   ]
  },
  {
   "cell_type": "code",
   "execution_count": null,
   "id": "52b5ed61-5ac2-441b-8371-e299ff7e5a67",
   "metadata": {
    "jupyter": {
     "source_hidden": true
    },
    "tags": []
   },
   "outputs": [],
   "source": [
    "response = requests.get(f\"{workspaces_endpoint}/{actual_workspace_name}\", headers=headers)\n",
    "response.raise_for_status()\n",
    "\n",
    "workspace_data = response.json()\n",
    "bucket_name = workspace_data[\"storage\"][\"credentials\"][\"bucketname\"]\n",
    "s3_access = workspace_data[\"storage\"][\"credentials\"][\"access\"]\n",
    "s3_secret = workspace_data[\"storage\"][\"credentials\"][\"secret\"]\n",
    "workspace_data[\"storage\"][\"credentials\"]['secret'] = \"hidden_for_demo\"\n",
    "workspace_data[\"container_registry\"][\"password\"] = \"hidden_for_demo\"\n",
    "workspace_data"
   ]
  },
  {
   "cell_type": "markdown",
   "id": "02484c7f-6447-4d80-bc7f-bc528639b101",
   "metadata": {},
   "source": [
    "## Registration\n",
    "\n",
    "We will now register an ADES instance in the workspace API"
   ]
  },
  {
   "cell_type": "code",
   "execution_count": null,
   "id": "d801b145-4e81-48da-9cf5-6078299d2e4f",
   "metadata": {},
   "outputs": [],
   "source": [
    "response = requests.post(\n",
    "    f\"{workspaces_endpoint}/{actual_workspace_name}/register\",\n",
    "    headers=headers,\n",
    "    json={\n",
    "        \"type\": \"ades\",\n",
    "        \"url\": \"https://demo.pygeoapi.io/stable/processes\",\n",
    "    }\n",
    ")\n",
    "response.raise_for_status()\n",
    "response"
   ]
  },
  {
   "cell_type": "markdown",
   "id": "916ac61a-0c90-4602-82df-b52aec2ac4fd",
   "metadata": {},
   "source": [
    "Check if the ADES is actually registered:"
   ]
  },
  {
   "cell_type": "code",
   "execution_count": null,
   "id": "4d1b8047-05d1-417e-80d0-98e330e589cb",
   "metadata": {},
   "outputs": [],
   "source": [
    "time.sleep(3)\n",
    "response = requests.get(f\"https://resource-catalogue.{actual_workspace_name}.{base_domain}/collections/metadata:main/items?type=service\", headers=dict(f=\"json\", **headers))\n",
    "response.raise_for_status()\n",
    "response.json()"
   ]
  },
  {
   "cell_type": "markdown",
   "id": "134e4289-92a1-40d8-843e-dc4d92eb6fba",
   "metadata": {},
   "source": [
    "We will now register an OGC API - Processes instance in the workspace API:"
   ]
  },
  {
   "cell_type": "code",
   "execution_count": null,
   "id": "74f30059-de5d-4884-a650-f3a6a657c988",
   "metadata": {},
   "outputs": [],
   "source": [
    "response = requests.post(\n",
    "    f\"{workspaces_endpoint}/{actual_workspace_name}/register\",\n",
    "    headers=headers,\n",
    "    json={\n",
    "        \"type\": \"oaproc\",\n",
    "        \"url\": \"https://demo.pygeoapi.io/stable\",\n",
    "    }\n",
    ")\n",
    "response.raise_for_status()\n",
    "response"
   ]
  },
  {
   "cell_type": "markdown",
   "id": "b0415039-0876-4c18-b073-b6c819d4c156",
   "metadata": {},
   "source": [
    "Check if the OGC API - Processes is actually registered:"
   ]
  },
  {
   "cell_type": "code",
   "execution_count": null,
   "id": "d64fd07b-903e-49d5-b321-19505399510f",
   "metadata": {},
   "outputs": [],
   "source": [
    "time.sleep(3)\n",
    "response = requests.get(f\"https://resource-catalogue.{actual_workspace_name}.{base_domain}/collections/metadata:main/items?type=service\", headers=dict(f=\"json\", **headers))\n",
    "response.raise_for_status()\n",
    "response.json()"
   ]
  },
  {
   "cell_type": "markdown",
   "id": "13ec2cd7-7077-4d87-ac06-094fe4a4e827",
   "metadata": {
    "tags": []
   },
   "source": [
    "We will now register an OGC API - Records instance in the workspace API:"
   ]
  },
  {
   "cell_type": "code",
   "execution_count": null,
   "id": "75ce9eb0-48f3-47df-aca8-36d50c6ee5f8",
   "metadata": {},
   "outputs": [],
   "source": [
    "response = requests.post(\n",
    "    f\"{workspaces_endpoint}/{actual_workspace_name}/register\",\n",
    "    headers=headers,\n",
    "    json={\n",
    "        \"type\": \"catalogue\",\n",
    "        \"url\": \"http://demo.pycsw.org/gisdata\",\n",
    "    }\n",
    ")\n",
    "response.raise_for_status()\n",
    "response"
   ]
  },
  {
   "cell_type": "markdown",
   "id": "04337d14-0c8f-447e-858e-ba2398850b03",
   "metadata": {},
   "source": [
    "Check if the OGC API - Records is actually registered:"
   ]
  },
  {
   "cell_type": "code",
   "execution_count": null,
   "id": "fffa5b86-6748-4582-8b68-1dd1e38ec68f",
   "metadata": {},
   "outputs": [],
   "source": [
    "time.sleep(3)\n",
    "response = requests.get(f\"https://resource-catalogue.{actual_workspace_name}.{base_domain}/collections/metadata:main/items?type=service\", headers=dict(f=\"json\", **headers))\n",
    "response.raise_for_status()\n",
    "response.json()"
   ]
  },
  {
   "cell_type": "markdown",
   "id": "6986270b-6057-4436-b2bd-c92feb1911b0",
   "metadata": {
    "tags": []
   },
   "source": [
    "We will now register an OGC CSW instance in the workspace API:"
   ]
  },
  {
   "cell_type": "code",
   "execution_count": null,
   "id": "04d179d8-3e8a-43d5-98c4-e0be9f262c2c",
   "metadata": {},
   "outputs": [],
   "source": [
    "response = requests.post(\n",
    "    f\"{workspaces_endpoint}/{actual_workspace_name}/register\",\n",
    "    headers=headers,\n",
    "    json={\n",
    "        \"type\": \"catalogue\",\n",
    "        \"url\": \"http://demo.pycsw.org/gisdata/csw\",\n",
    "    }\n",
    ")\n",
    "response.raise_for_status()\n",
    "response"
   ]
  },
  {
   "cell_type": "markdown",
   "id": "a725b623-b454-4d04-987e-b6060b1012ca",
   "metadata": {},
   "source": [
    "Check if the OGC CSW catalogue is actually registered:"
   ]
  },
  {
   "cell_type": "code",
   "execution_count": null,
   "id": "258ac330-c58c-4e00-ae25-1355bb798b8b",
   "metadata": {},
   "outputs": [],
   "source": [
    "time.sleep(3)\n",
    "response = requests.get(f\"https://resource-catalogue.{actual_workspace_name}.{base_domain}/collections/metadata:main/items?type=service\", headers=dict(f=\"json\", **headers))\n",
    "response.raise_for_status()\n",
    "response.json()"
   ]
  },
  {
   "cell_type": "markdown",
   "id": "68271309-5073-436b-8e31-4c427e4d1b03",
   "metadata": {},
   "source": [
    "Now we create a new collection:"
   ]
  },
  {
   "cell_type": "code",
   "execution_count": null,
   "id": "02ccf6b2-2053-4caf-bd06-279b2300bdef",
   "metadata": {},
   "outputs": [],
   "source": [
    "collection = requests.get(\"https://raw.githubusercontent.com/radiantearth/stac-spec/master/examples/collection.json\").json()\n",
    "\n",
    "response = requests.post(\n",
    "    f\"{workspaces_endpoint}/{actual_workspace_name}/register-collection\",\n",
    "    headers=headers,\n",
    "    json=collection, # TODO\n",
    ")\n",
    "response.raise_for_status()\n",
    "response"
   ]
  },
  {
   "cell_type": "markdown",
   "id": "da7ce17a-669b-4a82-a536-9e115d9b95fe",
   "metadata": {},
   "source": [
    "To see if it was registered:"
   ]
  },
  {
   "cell_type": "code",
   "execution_count": null,
   "id": "14244c32-14fe-4d58-9e6f-0cb8a190144b",
   "metadata": {},
   "outputs": [],
   "source": [
    "time.sleep(3)\n",
    "response = requests.get(f\"http://resource-catalogue.{actual_workspace_name}.{base_domain}/collections/metadata:main/items/simple-collection\", headers=headers)\n",
    "response.raise_for_status()\n",
    "response.json()"
   ]
  },
  {
   "cell_type": "markdown",
   "id": "a356b1e9-6a84-4eaa-81f5-a7af650b58ac",
   "metadata": {},
   "source": [
    "We will now upload an application package to the workspace:"
   ]
  },
  {
   "cell_type": "code",
   "execution_count": null,
   "id": "df5aa630-5ff0-477c-b3b2-35511ef1bead",
   "metadata": {},
   "outputs": [],
   "source": [
    "import boto3\n",
    "#S3_ENDPOINT = \"https://cf2.cloudferro.com:8080\"\n",
    "S3_ENDPOINT = \"https://minio.demo.eoepca.org\"\n",
    "session = boto3.session.Session()\n",
    "s3resource = session.resource('s3', aws_access_key_id=s3_access, aws_secret_access_key=s3_secret, endpoint_url=S3_ENDPOINT)\n",
    "object = s3resource.Object(bucket_name, 'application-package/s-expression/s-expression-0_0_2.cwl')\n",
    "result = object.put(Body=open('../data/s-expression-cwl.cwl', 'rb'))\n",
    "res = result.get('ResponseMetadata')\n",
    "if res.get('HTTPStatusCode') == 200:\n",
    "    print('Application package uploaded successfully')\n",
    "else:\n",
    "    print('Application package not uploaded')"
   ]
  },
  {
   "cell_type": "markdown",
   "id": "34f16ec1-d9f3-42b5-ba0e-13bc8b389e29",
   "metadata": {},
   "source": [
    "Now we register the application package:"
   ]
  },
  {
   "cell_type": "code",
   "execution_count": null,
   "id": "38b7de37-d895-4fd1-beea-9e6536d703a6",
   "metadata": {},
   "outputs": [],
   "source": [
    "resource_url= f'{bucket_name}/application-package/s-expression/s-expression-0_0_2.cwl'\n",
    "response = requests.post(\n",
    "    f\"{workspaces_endpoint}/{actual_workspace_name}/register\",\n",
    "    headers=headers,\n",
    "    json={\n",
    "        \"type\": \"application\",\n",
    "        \"url\": resource_url,\n",
    "    }\n",
    ")\n",
    "response.raise_for_status()\n",
    "response"
   ]
  },
  {
   "cell_type": "markdown",
   "id": "734b57b0-c968-4a1d-8c64-0e0fbbeb0ece",
   "metadata": {},
   "source": [
    "Now we check the registration result:"
   ]
  },
  {
   "cell_type": "code",
   "execution_count": null,
   "id": "a370fa42-9c1b-4392-aab7-72b7e4844066",
   "metadata": {},
   "outputs": [],
   "source": [
    "time.sleep(3)\n",
    "response = requests.get(f\"https://resource-catalogue.{actual_workspace_name}.{base_domain}/collections/metadata:main/items?type=application\", headers=dict(f=\"json\", **headers))\n",
    "response.raise_for_status()\n",
    "response.json()"
   ]
  },
  {
   "cell_type": "markdown",
   "id": "bfdef034-e0e4-4638-b63d-707e24b13845",
   "metadata": {},
   "source": [
    "## Redeploy\n",
    "\n",
    "In case something went wrong or an update is necessary, it's possible to trigger the provisioning again:"
   ]
  },
  {
   "cell_type": "code",
   "execution_count": null,
   "id": "bb4d03cc-9383-4964-8572-945b8c942ab2",
   "metadata": {},
   "outputs": [],
   "source": [
    "response = requests.post(\n",
    "    f\"{workspaces_endpoint}/{actual_workspace_name}/redeploy\",\n",
    "    headers=headers\n",
    ")\n",
    "response.raise_for_status()\n",
    "response"
   ]
  },
  {
   "cell_type": "markdown",
   "id": "55931099-bd7e-4f9e-ad66-503befd31863",
   "metadata": {},
   "source": [
    "## Deletion\n",
    "Workspaces can also be deleted like this:"
   ]
  },
  {
   "cell_type": "code",
   "execution_count": null,
   "id": "0fb6aebd-1f5b-4540-b085-29801080cbf3",
   "metadata": {},
   "outputs": [],
   "source": [
    "response = requests.delete(\n",
    "    f\"{workspaces_endpoint}/{actual_workspace_name}\",\n",
    "    headers=headers\n",
    ")\n",
    "response.raise_for_status()\n",
    "response"
   ]
  }
 ],
 "metadata": {
  "kernelspec": {
   "display_name": "Python 3",
   "language": "python",
   "name": "python3"
  },
  "language_info": {
   "codemirror_mode": {
    "name": "ipython",
    "version": 3
   },
   "file_extension": ".py",
   "mimetype": "text/x-python",
   "name": "python",
   "nbconvert_exporter": "python",
   "pygments_lexer": "ipython3",
   "version": "3.9.2"
  },
  "vscode": {
   "interpreter": {
    "hash": "a54a461fdcf44e5a224468008512edaff839d4994d71e5cd7b7eea3a4ad8d088"
   }
  }
 },
 "nbformat": 4,
 "nbformat_minor": 5
}
