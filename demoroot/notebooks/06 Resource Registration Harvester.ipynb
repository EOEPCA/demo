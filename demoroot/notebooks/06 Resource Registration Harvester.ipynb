{
 "cells": [
  {
   "cell_type": "markdown",
   "id": "72076c98-7392-4e2a-9387-06d02dc89ac7",
   "metadata": {},
   "source": [
    "# Resource Registration BB - Harvester Demo"
   ]
  },
  {
   "cell_type": "markdown",
   "id": "0c9b1ddd",
   "metadata": {},
   "source": [
    "In this demo we will use the Flowable [REST API](https://registration-harvester-api.develop.eoepca.org/flowable-rest/docs) to deploy and execute workflows."
   ]
  },
  {
   "cell_type": "code",
   "execution_count": null,
   "id": "11cd1a65",
   "metadata": {},
   "outputs": [],
   "source": [
    "from requests import Session\n",
    "from requests.auth import HTTPBasicAuth\n",
    "import json\n",
    "import requests\n",
    "import os\n",
    "\n",
    "# Setup connection to Flowable API\n",
    "flowable_base_url = \"https://registration-harvester-api.develop.eoepca.org/flowable-rest\"\n",
    "flowable_rest_user = \"eoepca\"\n",
    "flowable_rest_pw = \"eoepca\"\n",
    "flowable_session = Session()\n",
    "flowable_session.auth = HTTPBasicAuth(flowable_rest_user, flowable_rest_pw)"
   ]
  },
  {
   "cell_type": "markdown",
   "id": "0b3bef66",
   "metadata": {},
   "source": [
    "## Workflow Management\n",
    "### Deployments"
   ]
  },
  {
   "cell_type": "markdown",
   "id": "ebbfa334",
   "metadata": {},
   "source": [
    "List current deployments"
   ]
  },
  {
   "cell_type": "code",
   "execution_count": null,
   "id": "6a974144",
   "metadata": {},
   "outputs": [],
   "source": [
    "url = f\"{flowable_base_url}/service/repository/deployments\"\n",
    "print(f\"GET {url}\")\n",
    "response = flowable_session.get(url)\n",
    "deployments = response.json()[\"data\"]\n",
    "if len(deployments) == 0:\n",
    "    print(\"No workflows deployed\")\n",
    "else:\n",
    "    for idx, deployment in enumerate(deployments, 1):\n",
    "        print(\"%-2s %-25s deployed at: %-5s \" % (idx, deployment['name'], deployment['deploymentTime']))\n",
    "        #print(f\"{idx} {deployment['name']} deployed at: {deployment['deploymentTime']}\")"
   ]
  },
  {
   "cell_type": "markdown",
   "id": "acb6104f",
   "metadata": {},
   "source": [
    "Deploy the Landsat workflow"
   ]
  },
  {
   "cell_type": "code",
   "execution_count": null,
   "id": "e03d3d3c",
   "metadata": {},
   "outputs": [],
   "source": [
    "landsat_bpmn_files = [\n",
    "    \"https://raw.githubusercontent.com/EOEPCA/registration-harvester/refs/heads/main/workflows/landsat.bpmn\", \n",
    "    \"https://raw.githubusercontent.com/EOEPCA/registration-harvester/refs/heads/main/workflows/landsat-scene-ingestion.bpmn\"\n",
    "]\n",
    "for bpmn in landsat_bpmn_files:\n",
    "    bpmn_file = {os.path.basename(bpmn): requests.get(bpmn).text}\n",
    "    response = flowable_session.post(f\"{flowable_base_url}/service/repository/deployments\", files=bpmn_file)\n",
    "    print(f\"Sucessfully deployed workflow: {response.json()[\"url\"]}\")"
   ]
  },
  {
   "cell_type": "markdown",
   "id": "cbd10e68",
   "metadata": {},
   "source": [
    "Deploy the Sentinel workflow"
   ]
  },
  {
   "cell_type": "code",
   "execution_count": null,
   "id": "59461177",
   "metadata": {},
   "outputs": [],
   "source": [
    "sentinel_bpmn_files = [\n",
    "    \"https://raw.githubusercontent.com/EOEPCA/registration-harvester/refs/heads/main/workflows/sentinel.bpmn\", \n",
    "    \"https://raw.githubusercontent.com/EOEPCA/registration-harvester/refs/heads/main/workflows/sentinel-scene-ingestion.bpmn\"\n",
    "]\n",
    "for bpmn in sentinel_bpmn_files:\n",
    "    bpmn_file = {os.path.basename(bpmn): requests.get(bpmn).text}\n",
    "    response = flowable_session.post(f\"{flowable_base_url}/service/repository/deployments\", files=bpmn_file)\n",
    "    print(f\"Sucessfully deployed workflow: {response.json()[\"url\"]}\")"
   ]
  },
  {
   "cell_type": "markdown",
   "id": "9a5ead12",
   "metadata": {},
   "source": [
    "Delete workflows"
   ]
  },
  {
   "cell_type": "code",
   "execution_count": null,
   "id": "412c12d3",
   "metadata": {},
   "outputs": [],
   "source": [
    "for deployment in deployments:\n",
    "    deployment_id = deployment['id']\n",
    "    url = f\"{flowable_base_url}/service/repository/deployments/{deployment_id}\"\n",
    "    response = flowable_session.delete(url)\n",
    "    print(f\"Delete {deployment['name']} Status: {response.status_code}\")"
   ]
  },
  {
   "cell_type": "markdown",
   "id": "d9763831",
   "metadata": {},
   "source": [
    "### Workflow definitions (process definitions)\n",
    "List deployed workflows (process definitions)"
   ]
  },
  {
   "cell_type": "code",
   "execution_count": null,
   "id": "1235f850",
   "metadata": {},
   "outputs": [],
   "source": [
    "url = f\"{flowable_base_url}/service/repository/process-definitions\"\n",
    "print(f\"GET {url}\")\n",
    "response = flowable_session.get(url)\n",
    "processes = response.json()[\"data\"]\n",
    "if len(processes) == 0:\n",
    "    print(\"No workflow definitions\")\n",
    "else:\n",
    "    for idx, process in enumerate(processes, 1):\n",
    "        print(\"%-2s %-28s version: %-5s id: %s\" % (idx, process['name'], process['version'], process['id']))\n",
    "        if process[\"name\"] == \"Landsat Workflow\":\n",
    "            landsat_process_id = process[\"id\"]\n",
    "        if process[\"name\"] == \"Sentinel Registration\":\n",
    "            sentinel_process_id = process[\"id\"]        "
   ]
  },
  {
   "cell_type": "markdown",
   "id": "813ebfab",
   "metadata": {},
   "source": [
    "### Running workflows (process instances)\n",
    "List running workflows (processe instances)"
   ]
  },
  {
   "cell_type": "code",
   "execution_count": null,
   "id": "0c7569d4",
   "metadata": {},
   "outputs": [],
   "source": [
    "url = f\"{flowable_base_url}/service/runtime/process-instances\"\n",
    "print(f\"GET {url}\")\n",
    "response = flowable_session.get(url)\n",
    "process_instances = response.json()[\"data\"]\n",
    "if len(process_instances) == 0:\n",
    "    print(\"No running workflows\")\n",
    "else:\n",
    "    for idx, process in enumerate(process_instances, 1):\n",
    "        print(\"%s %-25s started at: %-25s id: %s\" % (idx, process['processDefinitionName'], process['startTime'], process['id']))"
   ]
  },
  {
   "cell_type": "markdown",
   "id": "e04d5143",
   "metadata": {},
   "source": [
    "### Execute Landsat workflow\n",
    "\n",
    "The Landsat harvesting workflow consists of two BPMN processes. The main process (Landsat Registration) searches for new data at USGS. For each new scene found, the workflow executes another process (Landsat Scene Ingestion) which performs the individual steps for harvesting and registering the data.\n",
    "\n",
    "![Landsat workflow](img/landsat-workflow-bpmn.png)\n",
    "\n",
    "![Landsat Scene Ingstion](img/landsat-scene-ingestion.png)"
   ]
  },
  {
   "cell_type": "markdown",
   "id": "21c81efd",
   "metadata": {},
   "source": [
    "Define the filter to start the workflow with"
   ]
  },
  {
   "cell_type": "code",
   "execution_count": null,
   "id": "f5d2a858",
   "metadata": {},
   "outputs": [],
   "source": [
    "query = json.dumps({ \"created\": { \"gte\": \"2024-12-13T15:00:00.000000Z\", \"lt\": \"2024-12-13T16:00:00.000000Z\" } })\n",
    "variables = [\n",
    "    # {\"name\": \"datetime_interval\", \"type\": \"string\", \"value\": \"2024-11-12T15:00:00.000000Z/2024-11-12T16:00:00.000000Z\"},    \n",
    "    {\"name\": \"collections\", \"type\": \"string\", \"value\": \"landsat-c2l2-sr\"},\n",
    "    {\"name\": \"bbox\", \"type\": \"string\", \"value\": \"8,40,18,60\"},\n",
    "    {\"name\": \"query\", \"type\": \"string\", \"value\": query},\n",
    "]\n",
    "\n",
    "# Create the JSON body for HTTP request which triggers the workflow\n",
    "body = {}\n",
    "body[\"processDefinitionId\"] = landsat_process_id\n",
    "body[\"variables\"] = variables\n",
    "print(json.dumps(body, indent=4))"
   ]
  },
  {
   "cell_type": "markdown",
   "id": "2e9d5a4a",
   "metadata": {},
   "source": [
    "Send the HTTP request to Flowable REST API to start the workflow"
   ]
  },
  {
   "cell_type": "code",
   "execution_count": null,
   "id": "d636dba3",
   "metadata": {},
   "outputs": [],
   "source": [
    "response = flowable_session.post(url=f\"{flowable_base_url}/service/runtime/process-instances\", json=body)\n",
    "print(response.status_code)\n",
    "print(f\"Created process instance at {response.json()[\"url\"]}\")"
   ]
  },
  {
   "cell_type": "markdown",
   "id": "bb7dceae",
   "metadata": {},
   "source": [
    "### Execute Sentinel workflow\n",
    "\n",
    "The Sentinel harvesting workflow consists of two BPMN processes. The main process (Sentinel Registration Hourly) will be executed automatically be the Flowable engine every hour and searches for new data at CDSE. For each new scene discovered, the workflow  executes another process (Sentinel Scene Ingestion) which performs the individual steps for harvesting and registering the data.\n",
    "\n",
    "![Sentinel Workflow](img/sentinel-workflow-bpmn.png)\n",
    "\n",
    "![Sentinel Scene Ingstion](img/sentinel-scene-ingestion.png)"
   ]
  },
  {
   "cell_type": "markdown",
   "id": "b60d86cd",
   "metadata": {},
   "source": [
    "Define the filter to start the workflow with"
   ]
  },
  {
   "cell_type": "code",
   "execution_count": null,
   "id": "983fb1cf",
   "metadata": {},
   "outputs": [],
   "source": [
    "start_time = \"2025-01-06T00:00:00.000000Z\"\n",
    "stop_time = \"2025-01-08T00:00:00.000000Z\"\n",
    "datetime = f\"ContentDate/Start ge {start_time} and ContentDate/Start lt {stop_time}\"\n",
    "collection = \"startswith(Name,'S2') and contains(Name,'L2A') and not contains(Name,'_N9999')\"\n",
    "spatial = \"intersects(area=geography'SRID=4326;POLYGON((3 55, 3 47, 18 47, 18 55, 3 55))')\"\n",
    "online = \"Online eq true\"\n",
    "cloudcover = \"Attributes/OData.CSC.DoubleAttribute/any(att:att/Name eq 'cloudCover' and att/OData.CSC.DoubleAttribute/Value le 10)\"\n",
    "odata_filter = f\"({datetime}) and ({collection}) and ({spatial}) and ({online}) and ({cloudcover})\"\n",
    "\n",
    "# Create the JSON body for HTTP request which triggers the workflow\n",
    "body = {}\n",
    "body[\"processDefinitionId\"] = sentinel_process_id\n",
    "body[\"variables\"] = [\n",
    "    {\n",
    "        \"name\": \"filter\",\n",
    "        \"type\": \"string\",\n",
    "        \"value\": odata_filter,\n",
    "    }\n",
    "]\n",
    "print(json.dumps(body, indent=4))"
   ]
  },
  {
   "cell_type": "markdown",
   "id": "9fa95c71",
   "metadata": {},
   "source": [
    "Send the HTTP request to Flowable REST API to start the workflow"
   ]
  },
  {
   "cell_type": "code",
   "execution_count": null,
   "id": "7fdff6d5",
   "metadata": {},
   "outputs": [],
   "source": [
    "response = flowable_session.post(url=f\"{flowable_base_url}/service/runtime/process-instances\", json=body)\n",
    "print(response.status_code)\n",
    "print(f\"Created process instance at {response.json()[\"url\"]}\")"
   ]
  }
 ],
 "metadata": {
  "kernelspec": {
   "display_name": "Python 3 (ipykernel)",
   "language": "python",
   "name": "python3"
  },
  "language_info": {
   "codemirror_mode": {
    "name": "ipython",
    "version": 3
   },
   "file_extension": ".py",
   "mimetype": "text/x-python",
   "name": "python",
   "nbconvert_exporter": "python",
   "pygments_lexer": "ipython3",
   "version": "3.12.7"
  }
 },
 "nbformat": 4,
 "nbformat_minor": 5
}
