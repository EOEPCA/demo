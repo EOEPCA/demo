{
 "cells": [
  {
   "cell_type": "markdown",
   "id": "72076c98-7392-4e2a-9387-06d02dc89ac7",
   "metadata": {},
   "source": [
    "# Resource Registration BB - Harvester Demo"
   ]
  },
  {
   "cell_type": "markdown",
   "id": "0c9b1ddd",
   "metadata": {},
   "source": [
    "[Flowable](https://www.flowable.com/open-source/docs/) is an Open Source workflow and Business Process Management (BPM) platform. It has a [REST API](https://registration-harvester-api.develop.eoepca.org/flowable-rest/docs) to manage and execute business processes:\n",
    "- deploy BPMN 2.0 process definitions\n",
    "- creating process instances of those process definitions\n",
    "- accessing active or historical process instances and related data\n",
    "- etc.\n",
    "  \n",
    "In this demo we will use the REST API to deploy and start workflows."
   ]
  },
  {
   "cell_type": "markdown",
   "id": "0b3bef66",
   "metadata": {},
   "source": [
    "### Workflow deployment"
   ]
  },
  {
   "cell_type": "code",
   "execution_count": null,
   "id": "0c7569d4",
   "metadata": {},
   "outputs": [],
   "source": [
    "from requests import Session\n",
    "from requests.auth import HTTPBasicAuth\n",
    "import json\n",
    "\n",
    "# Setup connection to Flowable API\n",
    "flowable_base_url = \"https://registration-harvester-api.develop.eoepca.org/flowable-rest\"\n",
    "flowable_rest_user = \"eoepca\"\n",
    "flowable_rest_pw = \"eoepca\"\n",
    "requests_ca_bundle = None\n",
    "flowable_session = Session()\n",
    "flowable_session.auth = HTTPBasicAuth(flowable_rest_user, flowable_rest_pw)\n",
    "if requests_ca_bundle is not None:\n",
    "    flowable_session.verify = requests_ca_bundle\n",
    "\n",
    "# List deployed workflows (processes)\n",
    "response = flowable_session.get(url=f\"{flowable_base_url}/service/repository/process-definitions\")\n",
    "processes = response.json()[\"data\"]\n",
    "for idx, process in enumerate(processes, 1):\n",
    "    print(f\"{idx} {process['name']} ({process['id']})\")"
   ]
  },
  {
   "cell_type": "markdown",
   "id": "e04d5143",
   "metadata": {},
   "source": [
    "### Execute Landsat workflow\n",
    "\n",
    "The Landsat harvesting workflow consists of two BPMN processes. The main process (Landsat Registration) searches for new data at USGS. For each new scene found, the workflow executes another process (Landsat Scene Ingestion) which performs the individual steps for harvesting and registering the data.\n",
    "\n",
    "![Landsat workflow](img/landsat-workflow-bpmn.png)"
   ]
  },
  {
   "cell_type": "code",
   "execution_count": null,
   "id": "f5d2a858",
   "metadata": {},
   "outputs": [],
   "source": [
    "# Get process id for Landsat workflow\n",
    "for process in processes:\n",
    "    if process[\"name\"] == \"Landsat Workflow\":\n",
    "        processId = process[\"id\"]    \n",
    "\n",
    "# Define the filter for a manual workflow execution\n",
    "query = json.dumps({ \"created\": { \"gte\": \"2024-12-13T15:00:00.000000Z\", \"lt\": \"2024-12-13T16:00:00.000000Z\" } })\n",
    "variables = [\n",
    "    # {\"name\": \"collections\", \"type\": \"string\", \"value\": \"landsat-c2l2-sr,landsat-c2l1\"},\n",
    "    {\"name\": \"collections\", \"type\": \"string\", \"value\": \"landsat-c2l2-sr\"},\n",
    "    {\"name\": \"bbox\", \"type\": \"string\", \"value\": \"8,40,18,60\"},\n",
    "    {\"name\": \"query\", \"type\": \"string\", \"value\": query},\n",
    "]\n",
    "\n",
    "# Create the JSON body for HTTP request which triggers the workflow\n",
    "body = {}\n",
    "body[\"processDefinitionId\"] = processId\n",
    "body[\"variables\"] = variables\n",
    "print(json.dumps(body, indent=4))"
   ]
  },
  {
   "cell_type": "code",
   "execution_count": null,
   "id": "d636dba3",
   "metadata": {},
   "outputs": [],
   "source": [
    "# Send request to start the workflow\n",
    "response = flowable_session.post(url=f\"{flowable_base_url}/service/runtime/process-instances\", json=body)\n",
    "print(response.status_code)\n",
    "#print(json.dumps(response.json(), indent=4))\n",
    "print(f\"Created process instance at {response.json()[\"url\"]}\")"
   ]
  },
  {
   "cell_type": "markdown",
   "id": "bb7dceae",
   "metadata": {},
   "source": [
    "### Execute Sentinel workflow\n",
    "\n",
    "The Sentinel harvesting workflow consists of two BPMN processes. The main process (Sentinel Registration Hourly) will be executed automatically be the Flowable engine every hour and searches for new data at CDSE. For each new scene discovered, the workflow  executes another process (Sentinel Scene Ingestion) which performs the individual steps for harvesting and registering the data.\n",
    "\n",
    "![Sentinel workflow](img/sentinel-workflow-bpmn.png)"
   ]
  },
  {
   "cell_type": "code",
   "execution_count": null,
   "id": "983fb1cf",
   "metadata": {},
   "outputs": [],
   "source": [
    "# Get process id for Sentinel workflow\n",
    "for process in processes:\n",
    "    if process[\"name\"] == \"Sentinel Registration\":\n",
    "        processId = process[\"id\"]\n",
    "\n",
    "# Define the filter for a manual workflow execution\n",
    "start_time = \"2025-01-06T00:00:00.000000Z\"\n",
    "stop_time = \"2025-01-08T00:00:00.000000Z\"\n",
    "datetime = f\"ContentDate/Start ge {start_time} and ContentDate/Start lt {stop_time}\"\n",
    "collection = \"startswith(Name,'S2') and contains(Name,'L2A') and not contains(Name,'_N9999')\"\n",
    "spatial = \"intersects(area=geography'SRID=4326;POLYGON((3 55, 3 47, 18 47, 18 55, 3 55))')\"\n",
    "online = \"Online eq true\"\n",
    "cloudcover = \"Attributes/OData.CSC.DoubleAttribute/any(att:att/Name eq 'cloudCover' and att/OData.CSC.DoubleAttribute/Value le 10)\"\n",
    "odata_filter = f\"({datetime}) and ({collection}) and ({spatial}) and ({online}) and ({cloudcover})\"\n",
    "\n",
    "# Create the JSON body for HTTP request which triggers the workflow\n",
    "body = {}\n",
    "body[\"processDefinitionId\"] = processId\n",
    "body[\"variables\"] = [\n",
    "    {\n",
    "        \"name\": \"filter\",\n",
    "        \"type\": \"string\",\n",
    "        \"value\": odata_filter,\n",
    "    }\n",
    "]\n",
    "print(json.dumps(body, indent=4))"
   ]
  },
  {
   "cell_type": "code",
   "execution_count": null,
   "id": "7fdff6d5",
   "metadata": {},
   "outputs": [],
   "source": [
    "# Send request to start the workflow\n",
    "response = flowable_session.post(url=f\"{flowable_base_url}/service/runtime/process-instances\", json=body)\n",
    "print(response.status_code)\n",
    "#print(json.dumps(response.json(), indent=4))\n",
    "print(f\"Created process instance at {response.json()[\"url\"]}\")"
   ]
  }
 ],
 "metadata": {
  "kernelspec": {
   "display_name": "Python 3 (ipykernel)",
   "language": "python",
   "name": "python3"
  },
  "language_info": {
   "codemirror_mode": {
    "name": "ipython",
    "version": 3
   },
   "file_extension": ".py",
   "mimetype": "text/x-python",
   "name": "python",
   "nbconvert_exporter": "python",
   "pygments_lexer": "ipython3",
   "version": "3.12.7"
  }
 },
 "nbformat": 4,
 "nbformat_minor": 5
}
